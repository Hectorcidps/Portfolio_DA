{
 "cells": [
  {
   "cell_type": "markdown",
   "metadata": {
    "id": "E0vqbgi9ay0H"
   },
   "source": [
    "# Déjame escuchar la música"
   ]
  },
  {
   "cell_type": "markdown",
   "metadata": {
    "id": "VUC88oWjTJw2"
   },
   "source": [
    "## Introducción <a id='intro'></a>\n",
    "\n",
    "En este proyecto, se compara las preferencias musicales de las ciudades de Springfield y Shelbyville. Se estudiaron datos reales de transmisión de música online para probar la hipótesis (a continuación) y comparar el comportamiento de los usuarios y las usuarias de estas dos ciudades.\n",
    "\n",
    "### Objetivo:\n",
    "Prueba la hipótesis:\n",
    "1. La actividad de los usuarios y las usuarias difiere según el día de la semana y dependiendo de la ciudad."
   ]
  },
  {
   "cell_type": "markdown",
   "metadata": {},
   "source": [
    "## Diccionario de datos \n",
    "\n",
    "- `' userID'`: identificador del usuario o la usuaria;\n",
    "- `'Track'`: título de la canción;\n",
    "- `'artist'`: nombre del artista;\n",
    "- `'genre'`: género de la pista;\n",
    "- `'City'`: ciudad del usuario o la usuaria;\n",
    "- `'time'`: la hora exacta en la que se reprodujo la canción;\n",
    "- `'Day'`: día de la semana."
   ]
  },
  {
   "cell_type": "markdown",
   "metadata": {
    "id": "Ml1hmfXC_Zcs"
   },
   "source": [
    "## Etapa 1. Descripción de los datos <a id='data_review'></a>"
   ]
  },
  {
   "cell_type": "code",
   "execution_count": 1,
   "metadata": {
    "id": "AXN7PHPN_Zcs"
   },
   "outputs": [],
   "source": [
    "# Importar pandas\n",
    "import pandas as pd"
   ]
  },
  {
   "cell_type": "code",
   "execution_count": 2,
   "metadata": {
    "id": "fFVu7vqh_Zct"
   },
   "outputs": [],
   "source": [
    "# Leer el archivo y almacenarlo en df\n",
    "df = pd.read_csv('./datasets/music_project_en.csv')"
   ]
  },
  {
   "cell_type": "code",
   "execution_count": 3,
   "metadata": {
    "id": "oWTVX3gW_Zct"
   },
   "outputs": [
    {
     "data": {
      "text/html": [
       "<div>\n",
       "<style scoped>\n",
       "    .dataframe tbody tr th:only-of-type {\n",
       "        vertical-align: middle;\n",
       "    }\n",
       "\n",
       "    .dataframe tbody tr th {\n",
       "        vertical-align: top;\n",
       "    }\n",
       "\n",
       "    .dataframe thead th {\n",
       "        text-align: right;\n",
       "    }\n",
       "</style>\n",
       "<table border=\"1\" class=\"dataframe\">\n",
       "  <thead>\n",
       "    <tr style=\"text-align: right;\">\n",
       "      <th></th>\n",
       "      <th>userID</th>\n",
       "      <th>Track</th>\n",
       "      <th>artist</th>\n",
       "      <th>genre</th>\n",
       "      <th>City</th>\n",
       "      <th>time</th>\n",
       "      <th>Day</th>\n",
       "    </tr>\n",
       "  </thead>\n",
       "  <tbody>\n",
       "    <tr>\n",
       "      <th>0</th>\n",
       "      <td>FFB692EC</td>\n",
       "      <td>Kamigata To Boots</td>\n",
       "      <td>The Mass Missile</td>\n",
       "      <td>rock</td>\n",
       "      <td>Shelbyville</td>\n",
       "      <td>20:28:33</td>\n",
       "      <td>Wednesday</td>\n",
       "    </tr>\n",
       "    <tr>\n",
       "      <th>1</th>\n",
       "      <td>55204538</td>\n",
       "      <td>Delayed Because of Accident</td>\n",
       "      <td>Andreas Rönnberg</td>\n",
       "      <td>rock</td>\n",
       "      <td>Springfield</td>\n",
       "      <td>14:07:09</td>\n",
       "      <td>Friday</td>\n",
       "    </tr>\n",
       "    <tr>\n",
       "      <th>2</th>\n",
       "      <td>20EC38</td>\n",
       "      <td>Funiculì funiculà</td>\n",
       "      <td>Mario Lanza</td>\n",
       "      <td>pop</td>\n",
       "      <td>Shelbyville</td>\n",
       "      <td>20:58:07</td>\n",
       "      <td>Wednesday</td>\n",
       "    </tr>\n",
       "    <tr>\n",
       "      <th>3</th>\n",
       "      <td>A3DD03C9</td>\n",
       "      <td>Dragons in the Sunset</td>\n",
       "      <td>Fire + Ice</td>\n",
       "      <td>folk</td>\n",
       "      <td>Shelbyville</td>\n",
       "      <td>08:37:09</td>\n",
       "      <td>Monday</td>\n",
       "    </tr>\n",
       "    <tr>\n",
       "      <th>4</th>\n",
       "      <td>E2DC1FAE</td>\n",
       "      <td>Soul People</td>\n",
       "      <td>Space Echo</td>\n",
       "      <td>dance</td>\n",
       "      <td>Springfield</td>\n",
       "      <td>08:34:34</td>\n",
       "      <td>Monday</td>\n",
       "    </tr>\n",
       "    <tr>\n",
       "      <th>5</th>\n",
       "      <td>842029A1</td>\n",
       "      <td>Chains</td>\n",
       "      <td>Obladaet</td>\n",
       "      <td>rusrap</td>\n",
       "      <td>Shelbyville</td>\n",
       "      <td>13:09:41</td>\n",
       "      <td>Friday</td>\n",
       "    </tr>\n",
       "    <tr>\n",
       "      <th>6</th>\n",
       "      <td>4CB90AA5</td>\n",
       "      <td>True</td>\n",
       "      <td>Roman Messer</td>\n",
       "      <td>dance</td>\n",
       "      <td>Springfield</td>\n",
       "      <td>13:00:07</td>\n",
       "      <td>Wednesday</td>\n",
       "    </tr>\n",
       "    <tr>\n",
       "      <th>7</th>\n",
       "      <td>F03E1C1F</td>\n",
       "      <td>Feeling This Way</td>\n",
       "      <td>Polina Griffith</td>\n",
       "      <td>dance</td>\n",
       "      <td>Springfield</td>\n",
       "      <td>20:47:49</td>\n",
       "      <td>Wednesday</td>\n",
       "    </tr>\n",
       "    <tr>\n",
       "      <th>8</th>\n",
       "      <td>8FA1D3BE</td>\n",
       "      <td>L’estate</td>\n",
       "      <td>Julia Dalia</td>\n",
       "      <td>ruspop</td>\n",
       "      <td>Springfield</td>\n",
       "      <td>09:17:40</td>\n",
       "      <td>Friday</td>\n",
       "    </tr>\n",
       "    <tr>\n",
       "      <th>9</th>\n",
       "      <td>E772D5C0</td>\n",
       "      <td>Pessimist</td>\n",
       "      <td>NaN</td>\n",
       "      <td>dance</td>\n",
       "      <td>Shelbyville</td>\n",
       "      <td>21:20:49</td>\n",
       "      <td>Wednesday</td>\n",
       "    </tr>\n",
       "  </tbody>\n",
       "</table>\n",
       "</div>"
      ],
      "text/plain": [
       "     userID                        Track            artist   genre  \\\n",
       "0  FFB692EC            Kamigata To Boots  The Mass Missile    rock   \n",
       "1  55204538  Delayed Because of Accident  Andreas Rönnberg    rock   \n",
       "2    20EC38            Funiculì funiculà       Mario Lanza     pop   \n",
       "3  A3DD03C9        Dragons in the Sunset        Fire + Ice    folk   \n",
       "4  E2DC1FAE                  Soul People        Space Echo   dance   \n",
       "5  842029A1                       Chains          Obladaet  rusrap   \n",
       "6  4CB90AA5                         True      Roman Messer   dance   \n",
       "7  F03E1C1F             Feeling This Way   Polina Griffith   dance   \n",
       "8  8FA1D3BE                     L’estate       Julia Dalia  ruspop   \n",
       "9  E772D5C0                    Pessimist               NaN   dance   \n",
       "\n",
       "        City        time        Day  \n",
       "0  Shelbyville  20:28:33  Wednesday  \n",
       "1  Springfield  14:07:09     Friday  \n",
       "2  Shelbyville  20:58:07  Wednesday  \n",
       "3  Shelbyville  08:37:09     Monday  \n",
       "4  Springfield  08:34:34     Monday  \n",
       "5  Shelbyville  13:09:41     Friday  \n",
       "6  Springfield  13:00:07  Wednesday  \n",
       "7  Springfield  20:47:49  Wednesday  \n",
       "8  Springfield  09:17:40     Friday  \n",
       "9  Shelbyville  21:20:49  Wednesday  "
      ]
     },
     "execution_count": 3,
     "metadata": {},
     "output_type": "execute_result"
    }
   ],
   "source": [
    "# Obtener las 10 primeras filas de la tabla df\n",
    "df.head(10)"
   ]
  },
  {
   "cell_type": "code",
   "execution_count": 4,
   "metadata": {
    "id": "DSf2kIb-_Zct"
   },
   "outputs": [
    {
     "name": "stdout",
     "output_type": "stream",
     "text": [
      "<class 'pandas.core.frame.DataFrame'>\n",
      "RangeIndex: 65079 entries, 0 to 65078\n",
      "Data columns (total 7 columns):\n",
      " #   Column    Non-Null Count  Dtype \n",
      "---  ------    --------------  ----- \n",
      " 0     userID  65079 non-null  object\n",
      " 1   Track     63736 non-null  object\n",
      " 2   artist    57512 non-null  object\n",
      " 3   genre     63881 non-null  object\n",
      " 4     City    65079 non-null  object\n",
      " 5   time      65079 non-null  object\n",
      " 6   Day       65079 non-null  object\n",
      "dtypes: object(7)\n",
      "memory usage: 3.5+ MB\n"
     ]
    }
   ],
   "source": [
    "# Obtener la información general sobre nuestros datos\n",
    "df.info()"
   ]
  },
  {
   "cell_type": "markdown",
   "metadata": {
    "id": "MCB6-dXG_Zct"
   },
   "source": [
    "\n",
    "`1.   ¿Qué tipo de datos tenemos a nuestra disposición en las filas? ¿Y cómo podemos entender lo que almacenan las columnas?`\n",
    "\n",
    "`2.   ¿Hay suficientes datos para proporcionar respuestas a nuestra hipótesis o necesitamos más información?`\n",
    "\n",
    "`3.   ¿Notaste algún problema en los datos, como valores ausentes, duplicados o tipos de datos incorrectos?`"
   ]
  },
  {
   "cell_type": "markdown",
   "metadata": {
    "id": "SjYF6Ub9_Zct"
   },
   "source": [
    "## Etapa 2. Preprocesamiento de datos <a id='data_preprocessing'></a>\n",
    "\n",
    "El objetivo aquí es preparar los datos para que sean analizados.\n"
   ]
  },
  {
   "cell_type": "code",
   "execution_count": 5,
   "metadata": {
    "id": "oKOTdF_Q_Zct"
   },
   "outputs": [
    {
     "name": "stdout",
     "output_type": "stream",
     "text": [
      "Index(['  userID', 'Track', 'artist', 'genre', '  City  ', 'time', 'Day'], dtype='object')\n"
     ]
    }
   ],
   "source": [
    "# Muestra los nombres de las columnas\n",
    "print(df.columns)\n"
   ]
  },
  {
   "cell_type": "code",
   "execution_count": 6,
   "metadata": {
    "id": "6I_RwwMhzM4e"
   },
   "outputs": [
    {
     "name": "stdout",
     "output_type": "stream",
     "text": [
      "['  userid', 'track', 'artist', 'genre', '  city  ', 'time', 'day']\n"
     ]
    }
   ],
   "source": [
    "# Bucle en los encabezados poniendo todo en minúsculas\n",
    "new_name = []\n",
    "\n",
    "for old_name in df.columns:\n",
    "    new_name.append(old_name.lower())\n",
    "\n",
    "df.columns = new_name\n",
    "print(new_name)"
   ]
  },
  {
   "cell_type": "code",
   "execution_count": 7,
   "metadata": {
    "id": "vVQXbFyJzSYl"
   },
   "outputs": [
    {
     "name": "stdout",
     "output_type": "stream",
     "text": [
      "['userid', 'track', 'artist', 'genre', 'city', 'time', 'day']\n"
     ]
    }
   ],
   "source": [
    "# Bucle en los encabezados eliminando los espacios\n",
    "without_strip = []\n",
    "\n",
    "for with_strip in new_name:\n",
    "    without_strip.append(with_strip.strip())\n",
    "    \n",
    "df.columns = without_strip\n",
    "print(without_strip)\n",
    "    "
   ]
  },
  {
   "cell_type": "code",
   "execution_count": 8,
   "metadata": {
    "id": "ISlFqs5y_Zct"
   },
   "outputs": [
    {
     "name": "stdout",
     "output_type": "stream",
     "text": [
      "['user_id', 'track', 'artist', 'genre', 'city', 'time', 'day']\n"
     ]
    }
   ],
   "source": [
    "# Cambiar el nombre de la columna \"userid\"\n",
    "name_no_space = []\n",
    "\n",
    "for name_space in without_strip:\n",
    "    name_no_space.append(name_space.replace('userid','user_id'))\n",
    "    \n",
    "df.columns = name_no_space\n",
    "print(name_no_space)"
   ]
  },
  {
   "cell_type": "code",
   "execution_count": 9,
   "metadata": {
    "id": "d4NOAmTW_Zct"
   },
   "outputs": [
    {
     "name": "stdout",
     "output_type": "stream",
     "text": [
      "Index(['user_id', 'track', 'artist', 'genre', 'city', 'time', 'day'], dtype='object')\n"
     ]
    }
   ],
   "source": [
    "# Comprobar el resultado: la lista de encabezados\n",
    "print(df.columns)"
   ]
  },
  {
   "cell_type": "markdown",
   "metadata": {
    "id": "5ISfbcfY_Zct"
   },
   "source": [
    "### Valores ausentes <a id='missing_values'></a>"
   ]
  },
  {
   "cell_type": "code",
   "execution_count": 10,
   "metadata": {
    "id": "RskX29qr_Zct"
   },
   "outputs": [
    {
     "name": "stdout",
     "output_type": "stream",
     "text": [
      "user_id       0\n",
      "track      1343\n",
      "artist     7567\n",
      "genre      1198\n",
      "city          0\n",
      "time          0\n",
      "day           0\n",
      "dtype: int64\n"
     ]
    }
   ],
   "source": [
    "# Calcular el número de valores ausentes\n",
    "print(df.isna().sum())"
   ]
  },
  {
   "cell_type": "code",
   "execution_count": 11,
   "metadata": {
    "id": "KplB5qWs_Zct"
   },
   "outputs": [
    {
     "name": "stderr",
     "output_type": "stream",
     "text": [
      "/var/folders/2t/v3mp33xs2ss8s08gy0q7znbc0000gn/T/ipykernel_7328/705259676.py:5: FutureWarning: A value is trying to be set on a copy of a DataFrame or Series through chained assignment using an inplace method.\n",
      "The behavior will change in pandas 3.0. This inplace method will never work because the intermediate object on which we are setting values always behaves as a copy.\n",
      "\n",
      "For example, when doing 'df[col].method(value, inplace=True)', try using 'df.method({col: value}, inplace=True)' or df[col] = df[col].method(value) instead, to perform the operation inplace on the original object.\n",
      "\n",
      "\n",
      "  df[cambio].fillna('unknown', inplace=True)\n"
     ]
    }
   ],
   "source": [
    "# Bucle en los encabezados reemplazando los valores ausentes con 'unknown'\n",
    "columnas_a_remplazar = ['track', 'artist', 'genre']\n",
    "\n",
    "for cambio in columnas_a_remplazar:\n",
    "    df[cambio].fillna('unknown', inplace=True)"
   ]
  },
  {
   "cell_type": "code",
   "execution_count": 12,
   "metadata": {
    "id": "Tq4nYRX4_Zct"
   },
   "outputs": [
    {
     "name": "stdout",
     "output_type": "stream",
     "text": [
      "user_id    0\n",
      "track      0\n",
      "artist     0\n",
      "genre      0\n",
      "city       0\n",
      "time       0\n",
      "day        0\n",
      "dtype: int64\n"
     ]
    }
   ],
   "source": [
    "# Contar valores ausentes\n",
    "print(df.isna().sum())"
   ]
  },
  {
   "cell_type": "markdown",
   "metadata": {
    "id": "BWKRtBJ3_Zct"
   },
   "source": [
    "### Duplicados <a id='duplicates'></a>"
   ]
  },
  {
   "cell_type": "code",
   "execution_count": 13,
   "metadata": {
    "id": "36eES_S0_Zct"
   },
   "outputs": [
    {
     "name": "stdout",
     "output_type": "stream",
     "text": [
      "3826\n"
     ]
    }
   ],
   "source": [
    "# Contar duplicados explícitos\n",
    "print(df.duplicated().sum())"
   ]
  },
  {
   "cell_type": "code",
   "execution_count": 14,
   "metadata": {
    "id": "exFHq6tt_Zct"
   },
   "outputs": [],
   "source": [
    "# Eliminar duplicados explícitos\n",
    "df = df.drop_duplicates()"
   ]
  },
  {
   "cell_type": "code",
   "execution_count": 15,
   "metadata": {
    "id": "-8PuNWQ0_Zct"
   },
   "outputs": [
    {
     "name": "stdout",
     "output_type": "stream",
     "text": [
      "0\n"
     ]
    }
   ],
   "source": [
    "# Comprobar de nuevo si hay duplicados\n",
    "print(df.duplicated().sum())"
   ]
  },
  {
   "cell_type": "code",
   "execution_count": 16,
   "metadata": {
    "id": "JIUcqzZN_Zct"
   },
   "outputs": [
    {
     "name": "stdout",
     "output_type": "stream",
     "text": [
      "['rock' 'pop' 'folk' 'dance' 'rusrap' 'ruspop' 'world' 'electronic'\n",
      " 'unknown' 'alternative' 'children' 'rnb' 'hip' 'jazz' 'postrock' 'latin'\n",
      " 'classical' 'metal' 'reggae' 'triphop' 'blues' 'instrumental' 'rusrock'\n",
      " 'dnb' 'türk' 'post' 'country' 'psychedelic' 'conjazz' 'indie'\n",
      " 'posthardcore' 'local' 'avantgarde' 'punk' 'videogame' 'techno' 'house'\n",
      " 'christmas' 'melodic' 'caucasian' 'reggaeton' 'soundtrack' 'singer' 'ska'\n",
      " 'salsa' 'ambient' 'film' 'western' 'rap' 'beats' \"hard'n'heavy\"\n",
      " 'progmetal' 'minimal' 'tropical' 'contemporary' 'new' 'soul' 'holiday'\n",
      " 'german' 'jpop' 'spiritual' 'urban' 'gospel' 'nujazz' 'folkmetal'\n",
      " 'trance' 'miscellaneous' 'anime' 'hardcore' 'progressive' 'korean'\n",
      " 'numetal' 'vocal' 'estrada' 'tango' 'loungeelectronic' 'classicmetal'\n",
      " 'dubstep' 'club' 'deep' 'southern' 'black' 'folkrock' 'fitness' 'french'\n",
      " 'disco' 'religious' 'hiphop' 'drum' 'extrememetal' 'türkçe'\n",
      " 'experimental' 'easy' 'metalcore' 'modern' 'argentinetango' 'old' 'swing'\n",
      " 'breaks' 'eurofolk' 'stonerrock' 'industrial' 'funk' 'middle' 'variété'\n",
      " 'other' 'adult' 'christian' 'thrash' 'gothic' 'international' 'muslim'\n",
      " 'relax' 'schlager' 'caribbean' 'nu' 'breakbeat' 'comedy' 'chill' 'newage'\n",
      " 'specialty' 'uzbek' 'k-pop' 'balkan' 'chinese' 'meditative' 'dub' 'power'\n",
      " 'death' 'grime' 'arabesk' 'romance' 'flamenco' 'leftfield' 'european'\n",
      " 'tech' 'newwave' 'dancehall' 'mpb' 'piano' 'top' 'bigroom' 'opera'\n",
      " 'celtic' 'tradjazz' 'acoustic' 'epicmetal' 'hip-hop' 'historisch'\n",
      " 'downbeat' 'downtempo' 'africa' 'audiobook' 'jewish' 'sängerportrait'\n",
      " 'deutschrock' 'eastern' 'action' 'future' 'electropop' 'folklore'\n",
      " 'bollywood' 'marschmusik' 'rnr' 'karaoke' 'indian' 'rancheras'\n",
      " 'afrikaans' 'rhythm' 'sound' 'deutschspr' 'trip' 'lovers' 'choral'\n",
      " 'dancepop' 'retro' 'smooth' 'mexican' 'brazilian' 'ïîï' 'mood' 'surf'\n",
      " 'gangsta' 'inspirational' 'idm' 'ethnic' 'bluegrass' 'broadway'\n",
      " 'animated' 'americana' 'karadeniz' 'rockabilly' 'colombian' 'self' 'hop'\n",
      " 'sertanejo' 'japanese' 'canzone' 'lounge' 'sport' 'ragga' 'traditional'\n",
      " 'gitarre' 'frankreich' 'emo' 'laiko' 'cantopop' 'glitch' 'documentary'\n",
      " 'oceania' 'popeurodance' 'dark' 'vi' 'grunge' 'hardstyle' 'samba'\n",
      " 'garage' 'art' 'folktronica' 'entehno' 'mediterranean' 'chamber' 'cuban'\n",
      " 'taraftar' 'gypsy' 'hardtechno' 'shoegazing' 'bossa' 'latino' 'worldbeat'\n",
      " 'malaysian' 'baile' 'ghazal' 'arabic' 'popelectronic' 'acid' 'kayokyoku'\n",
      " 'neoklassik' 'tribal' 'tanzorchester' 'native' 'independent' 'cantautori'\n",
      " 'handsup' 'punjabi' 'synthpop' 'rave' 'französisch' 'quebecois' 'speech'\n",
      " 'soulful' 'jam' 'ram' 'horror' 'orchestral' 'neue' 'roots' 'slow'\n",
      " 'jungle' 'indipop' 'axé' 'fado' 'showtunes' 'arena' 'irish' 'mandopop'\n",
      " 'forró' 'dirty' 'regional']\n"
     ]
    }
   ],
   "source": [
    "# Inspeccionar los nombres de géneros únicos\n",
    "print(df['genre'].unique())"
   ]
  },
  {
   "cell_type": "code",
   "execution_count": 17,
   "metadata": {
    "id": "ErNDkmns_Zct"
   },
   "outputs": [],
   "source": [
    "# Función para reemplazar duplicados implícitos\n",
    "\n",
    "def replace_wrong_genres(df, genre_column, wrong_genres, correct_genre):\n",
    "    for wrong_value in wrong_genres:\n",
    "        df[genre_column] = df[genre_column].replace(wrong_value, correct_genre)\n",
    "    return df"
   ]
  },
  {
   "cell_type": "code",
   "execution_count": 18,
   "metadata": {
    "id": "YN5i2hpmSo09"
   },
   "outputs": [],
   "source": [
    "# Eliminar duplicados implícitos\n",
    "wrong_genres = ['hip', 'hop', 'hip-hop']\n",
    "correct_genre = 'hiphop'\n",
    "\n",
    "df = replace_wrong_genres(df, 'genre', wrong_genres, correct_genre)\n"
   ]
  },
  {
   "cell_type": "code",
   "execution_count": 19,
   "metadata": {
    "id": "wvixALnFG15m",
    "scrolled": true
   },
   "outputs": [
    {
     "name": "stdout",
     "output_type": "stream",
     "text": [
      "266\n"
     ]
    }
   ],
   "source": [
    "# Comprobación de duplicados implícitos\n",
    "print(df['genre'].nunique())"
   ]
  },
  {
   "cell_type": "code",
   "execution_count": 20,
   "metadata": {},
   "outputs": [
    {
     "data": {
      "text/plain": [
       "user_id    3056\n",
       "track      3056\n",
       "artist     3056\n",
       "genre      3056\n",
       "city       3056\n",
       "time       3056\n",
       "day        3056\n",
       "dtype: int64"
      ]
     },
     "execution_count": 20,
     "metadata": {},
     "output_type": "execute_result"
    }
   ],
   "source": [
    "df[df['genre'] == \"hiphop\"].count()"
   ]
  },
  {
   "cell_type": "markdown",
   "metadata": {
    "id": "jz6a9-7HQUDd"
   },
   "source": [
    "### Tus observaciones <a id='data_preprocessing_conclusions'></a>\n",
    "\n",
    "`Describe brevemente lo que has notado al analizar duplicados, cómo abordaste sus eliminaciones y qué resultados obtuviste.`\n",
    "\n",
    "Al iniciar los datos ausentes se concentraban en 3 columnas, track, artist y genre dando un total de 10,108 (1343, 7567 y 1198, respectivamente) al utilizar el metodo replace () se modifico el DataSet y aquellos valores ausentes fueron cambiados por un unknown. \n",
    "Despues se contabilizo el total de valores duplicados, el cual consta de 3826 al usar el metodo drop_duplucates() se eliminaron aquellos que son inncesarios para el análisis.\n",
    "En cuanto a los datos unicos, se observan bastantes en la lista de la columna 'genre' pero al haber declarado la funcion 'replace_wrong_genres', es posible ir modificando cada uno de los valores implicitos, basta con modificar los argumentos establecidos en la funcion, como se hizo con aquellos que tenian hip, hop y hip-hop. Dando como resultado un total de 266, cabe resaltar que antes de declarar la funcion habian 269 datos unicos en la columna 'genre'"
   ]
  },
  {
   "cell_type": "markdown",
   "metadata": {
    "id": "WttZHXH0SqKk"
   },
   "source": [
    "## Etapa 3. Prueba de hipótesis <a id='hypothesis'></a>"
   ]
  },
  {
   "cell_type": "markdown",
   "metadata": {
    "id": "Im936VVi_Zcu"
   },
   "source": [
    "### Hipótesis: comparar el comportamiento del usuario o la usuaria en las dos ciudades <a id='activity'></a>"
   ]
  },
  {
   "cell_type": "markdown",
   "metadata": {
    "id": "nwt_MuaL_Zcu"
   },
   "source": [
    "La hipótesis afirma que existen diferencias en la forma en que los usuarios y las usuarias de Springfield y Shelbyville consumen música. Para comprobar esto, se usaron los datos de tres días de la semana: lunes, miércoles y viernes.\n",
    "\n",
    "* Agrupar a los usuarios y las usuarias por ciudad.\n",
    "* Comparar el número de canciones que cada grupo reprodujo el lunes, el miércoles y el viernes.\n"
   ]
  },
  {
   "cell_type": "code",
   "execution_count": 21,
   "metadata": {
    "id": "0_Qs96oh_Zcu"
   },
   "outputs": [
    {
     "name": "stdout",
     "output_type": "stream",
     "text": [
      "city\n",
      "Shelbyville    18512\n",
      "Springfield    42741\n",
      "Name: track, dtype: int64\n"
     ]
    }
   ],
   "source": [
    "# Contar las canciones reproducidas en cada ciudad\n",
    "canciones_x_ciudad = df.groupby('city')['track'].count()\n",
    "print(canciones_x_ciudad)"
   ]
  },
  {
   "cell_type": "code",
   "execution_count": 22,
   "metadata": {
    "id": "uZMKjiJz_Zcu"
   },
   "outputs": [
    {
     "name": "stdout",
     "output_type": "stream",
     "text": [
      "day\n",
      "Friday       21840\n",
      "Monday       21354\n",
      "Wednesday    18059\n",
      "Name: track, dtype: int64\n"
     ]
    }
   ],
   "source": [
    "# Calcular las canciones reproducidas en cada uno de los tres días\n",
    "canciones_x_dia = df.groupby('day')['track'].count()\n",
    "print(canciones_x_dia)"
   ]
  },
  {
   "cell_type": "code",
   "execution_count": 23,
   "metadata": {
    "id": "Nz3GdQB1_Zcu"
   },
   "outputs": [],
   "source": [
    "# Declara la función number_tracks() con dos parámetros: day= y city=.\n",
    "\n",
    "def number_tracks(day, city):\n",
    "    # Almacena las filas del DataFrame donde el valor en la columna 'day' es igual al parámetro day=\n",
    "    days = df[df['day'] == day]\n",
    "    # Filtra las filas donde el valor en la columna 'city' es igual al parámetro city=\n",
    "    cities = days[days['city'] == city]\n",
    "    # Extrae la columna 'user_id' de la tabla filtrada y aplica el método count()\n",
    "    user_count = cities['user_id'].count()\n",
    "    # Devolver el número de valores de la columna 'user_id'\n",
    "    return user_count"
   ]
  },
  {
   "cell_type": "code",
   "execution_count": 24,
   "metadata": {},
   "outputs": [],
   "source": [
    "# Funcion para imprimir numero de canciones por dia y ciudad\n",
    "def print_number_tracks(day, city):\n",
    "    numero_de_canciones = number_tracks(day,city)\n",
    "    print(f'Number of songs played on {day} in {city}: {numero_de_canciones}')"
   ]
  },
  {
   "cell_type": "code",
   "execution_count": 25,
   "metadata": {},
   "outputs": [
    {
     "name": "stdout",
     "output_type": "stream",
     "text": [
      "Number of songs played on Monday in Springfield: 15740\n"
     ]
    },
    {
     "name": "stdout",
     "output_type": "stream",
     "text": [
      "Number of songs played on Monday in Shelbyville: 5614\n"
     ]
    }
   ],
   "source": [
    "print_number_tracks(\"Monday\", \"Springfield\")\n",
    "print_number_tracks(\"Monday\", \"Shelbyville\")"
   ]
  },
  {
   "cell_type": "code",
   "execution_count": 26,
   "metadata": {},
   "outputs": [
    {
     "name": "stdout",
     "output_type": "stream",
     "text": [
      "Number of songs played on Wednesday in Springfield: 11056\n"
     ]
    },
    {
     "name": "stdout",
     "output_type": "stream",
     "text": [
      "Number of songs played on Wednesday in Shelbyville: 7003\n"
     ]
    }
   ],
   "source": [
    "print_number_tracks(\"Wednesday\", \"Springfield\")\n",
    "print_number_tracks(\"Wednesday\", \"Shelbyville\")"
   ]
  },
  {
   "cell_type": "code",
   "execution_count": 27,
   "metadata": {},
   "outputs": [
    {
     "name": "stdout",
     "output_type": "stream",
     "text": [
      "Number of songs played on Friday in Springfield: 15945\n",
      "Number of songs played on Friday in Shelbyville: 5895\n"
     ]
    }
   ],
   "source": [
    "print_number_tracks(\"Friday\", \"Springfield\")\n",
    "print_number_tracks(\"Friday\", \"Shelbyville\")"
   ]
  },
  {
   "cell_type": "markdown",
   "metadata": {
    "id": "-EgPIHYu_Zcu"
   },
   "source": [
    "La hipotesis puede ser aceptada ya que segun el filtrado que se realizo, se puede observar firmemente que el total de canciones escuchadas varia y depende del dia de la semana y la ciudad en la que se escuchan. Por ejemplo las canciones escuchadas el dia viernes en Springfield es mayor a las escuchadas el mismo dia pero en la ciudad de Shelbyville"
   ]
  },
  {
   "cell_type": "markdown",
   "metadata": {
    "id": "ykKQ0N65_Zcv"
   },
   "source": [
    "# Conclusiones <a id='end'></a>"
   ]
  },
  {
   "cell_type": "markdown",
   "metadata": {
    "id": "tjUwbHb3_Zcv"
   },
   "source": [
    "En conclusion, la hipotesis planteada puede ser aceptada debido a se cumple lo establecido, es decir, la actividad de los usuarios y usuarias difiere según el dia de la semana y dependiendo de la ciudad en la que se encuentren, los resultados claramente exponen lo comentado anteriormente. Además con la información obtenida tambien se puede resaltar que la ciudad de Springfield es la que presenta mayor número de reproducciones en los 3 dias. Por lo cual si se esta haciendo un estudio para ventas de planes de membresias como spotify, o alguna otra finalidad sera de suma importancia centrarnos en esta ciudad y aplicar las promociones los dias viernes donde es un poco mas notorio el incremento de reproduccion de musica. "
   ]
  }
 ],
 "metadata": {
  "ExecuteTimeLog": [
   {
    "duration": 494,
    "start_time": "2024-06-17T17:53:39.723Z"
   },
   {
    "duration": 196,
    "start_time": "2024-06-17T17:53:42.734Z"
   },
   {
    "duration": 12,
    "start_time": "2024-06-17T17:54:01.137Z"
   },
   {
    "duration": 33,
    "start_time": "2024-06-17T17:55:56.122Z"
   },
   {
    "duration": 4,
    "start_time": "2024-06-17T18:01:54.559Z"
   },
   {
    "duration": 4,
    "start_time": "2024-06-17T18:04:21.123Z"
   },
   {
    "duration": 6,
    "start_time": "2024-06-17T18:05:02.081Z"
   },
   {
    "duration": 344,
    "start_time": "2024-06-17T18:05:25.022Z"
   },
   {
    "duration": 23,
    "start_time": "2024-06-17T18:05:40.307Z"
   },
   {
    "duration": 23,
    "start_time": "2024-06-17T18:06:05.852Z"
   },
   {
    "duration": 23,
    "start_time": "2024-06-17T18:06:56.818Z"
   },
   {
    "duration": 29,
    "start_time": "2024-06-17T18:07:18.736Z"
   },
   {
    "duration": 24,
    "start_time": "2024-06-17T18:09:20.702Z"
   },
   {
    "duration": 5,
    "start_time": "2024-06-17T18:11:41.116Z"
   },
   {
    "duration": 5,
    "start_time": "2024-06-17T18:13:39.746Z"
   },
   {
    "duration": 23,
    "start_time": "2024-06-17T18:16:48.746Z"
   },
   {
    "duration": 6,
    "start_time": "2024-06-17T18:17:02.367Z"
   },
   {
    "duration": 6,
    "start_time": "2024-06-17T18:17:19.890Z"
   },
   {
    "duration": 25,
    "start_time": "2024-06-17T18:17:36.631Z"
   },
   {
    "duration": 5,
    "start_time": "2024-06-17T18:17:43.442Z"
   },
   {
    "duration": 5,
    "start_time": "2024-06-17T18:17:54.171Z"
   },
   {
    "duration": 5,
    "start_time": "2024-06-17T18:20:13.941Z"
   },
   {
    "duration": 6,
    "start_time": "2024-06-17T18:20:33.145Z"
   },
   {
    "duration": 24,
    "start_time": "2024-06-17T18:20:58.076Z"
   },
   {
    "duration": 26,
    "start_time": "2024-06-17T18:21:18.611Z"
   },
   {
    "duration": 25,
    "start_time": "2024-06-17T18:21:39.461Z"
   },
   {
    "duration": 4,
    "start_time": "2024-06-17T18:22:15.818Z"
   },
   {
    "duration": 6,
    "start_time": "2024-06-17T18:22:53.231Z"
   },
   {
    "duration": 4,
    "start_time": "2024-06-17T18:23:13.271Z"
   },
   {
    "duration": 5,
    "start_time": "2024-06-17T18:28:10.118Z"
   },
   {
    "duration": 5,
    "start_time": "2024-06-17T18:28:15.286Z"
   },
   {
    "duration": 5,
    "start_time": "2024-06-17T18:28:17.441Z"
   },
   {
    "duration": 22,
    "start_time": "2024-06-17T18:30:57.246Z"
   },
   {
    "duration": 4,
    "start_time": "2024-06-17T18:31:04.148Z"
   },
   {
    "duration": 4,
    "start_time": "2024-06-17T18:31:38.392Z"
   },
   {
    "duration": 26,
    "start_time": "2024-06-17T18:33:09.551Z"
   },
   {
    "duration": 23,
    "start_time": "2024-06-17T18:33:28.648Z"
   },
   {
    "duration": 36,
    "start_time": "2024-06-17T18:33:51.080Z"
   },
   {
    "duration": 10,
    "start_time": "2024-06-17T18:40:59.662Z"
   },
   {
    "duration": 4,
    "start_time": "2024-06-17T18:41:14.323Z"
   },
   {
    "duration": 6,
    "start_time": "2024-06-17T18:41:26.885Z"
   },
   {
    "duration": 5,
    "start_time": "2024-06-17T18:41:28.878Z"
   },
   {
    "duration": 5,
    "start_time": "2024-06-17T18:41:31.606Z"
   },
   {
    "duration": 4,
    "start_time": "2024-06-17T18:41:34.211Z"
   },
   {
    "duration": 22,
    "start_time": "2024-06-17T18:42:10.346Z"
   },
   {
    "duration": 4,
    "start_time": "2024-06-17T18:42:23.726Z"
   },
   {
    "duration": 15,
    "start_time": "2024-06-17T18:42:57.391Z"
   },
   {
    "duration": 5,
    "start_time": "2024-06-17T18:43:13.273Z"
   },
   {
    "duration": 4,
    "start_time": "2024-06-17T18:43:15.176Z"
   },
   {
    "duration": 16,
    "start_time": "2024-06-17T18:44:28.956Z"
   },
   {
    "duration": 27,
    "start_time": "2024-06-17T18:45:28.468Z"
   },
   {
    "duration": 74,
    "start_time": "2024-06-17T18:46:38.632Z"
   },
   {
    "duration": 17,
    "start_time": "2024-06-17T18:48:09.982Z"
   },
   {
    "duration": 20,
    "start_time": "2024-06-17T18:48:42.298Z"
   },
   {
    "duration": 81,
    "start_time": "2024-06-17T18:48:49.595Z"
   },
   {
    "duration": 83,
    "start_time": "2024-06-17T18:49:13.826Z"
   },
   {
    "duration": 75,
    "start_time": "2024-06-17T18:49:33.536Z"
   },
   {
    "duration": 71,
    "start_time": "2024-06-17T18:49:43.971Z"
   },
   {
    "duration": 12,
    "start_time": "2024-06-17T18:54:27.325Z"
   },
   {
    "duration": 11,
    "start_time": "2024-06-17T18:55:15.200Z"
   },
   {
    "duration": 18,
    "start_time": "2024-06-17T18:55:25.685Z"
   },
   {
    "duration": 12,
    "start_time": "2024-06-17T18:55:44.837Z"
   },
   {
    "duration": 19,
    "start_time": "2024-06-17T18:55:59.566Z"
   },
   {
    "duration": 7,
    "start_time": "2024-06-17T19:00:49.501Z"
   },
   {
    "duration": 6,
    "start_time": "2024-06-17T19:01:10.008Z"
   },
   {
    "duration": 8,
    "start_time": "2024-06-17T19:01:23.362Z"
   },
   {
    "duration": 6,
    "start_time": "2024-06-17T19:01:52.961Z"
   },
   {
    "duration": 4,
    "start_time": "2024-06-17T19:04:04.816Z"
   },
   {
    "duration": 24,
    "start_time": "2024-06-17T19:07:07.701Z"
   },
   {
    "duration": 25,
    "start_time": "2024-06-17T19:07:13.707Z"
   },
   {
    "duration": 4,
    "start_time": "2024-06-17T19:07:25.454Z"
   },
   {
    "duration": 27,
    "start_time": "2024-06-17T19:07:27.657Z"
   },
   {
    "duration": 23,
    "start_time": "2024-06-17T19:08:18.207Z"
   },
   {
    "duration": 4,
    "start_time": "2024-06-17T19:09:41.497Z"
   },
   {
    "duration": 18,
    "start_time": "2024-06-17T19:09:42.971Z"
   },
   {
    "duration": 13,
    "start_time": "2024-06-17T19:10:32.408Z"
   },
   {
    "duration": 76,
    "start_time": "2024-06-17T19:11:10.118Z"
   },
   {
    "duration": 7,
    "start_time": "2024-06-17T19:11:38.827Z"
   },
   {
    "duration": 13,
    "start_time": "2024-06-17T19:11:46.057Z"
   },
   {
    "duration": 4,
    "start_time": "2024-06-17T19:12:00.285Z"
   },
   {
    "duration": 11,
    "start_time": "2024-06-17T19:12:01.962Z"
   },
   {
    "duration": 13,
    "start_time": "2024-06-17T19:12:03.880Z"
   },
   {
    "duration": 11,
    "start_time": "2024-06-17T19:12:40.092Z"
   },
   {
    "duration": 17,
    "start_time": "2024-06-17T19:13:32.406Z"
   },
   {
    "duration": 718,
    "start_time": "2024-06-17T19:29:12.779Z"
   },
   {
    "duration": 82,
    "start_time": "2024-06-17T19:29:30.565Z"
   },
   {
    "duration": 24,
    "start_time": "2024-06-17T19:30:21.584Z"
   },
   {
    "duration": 81,
    "start_time": "2024-06-17T19:30:33.469Z"
   },
   {
    "duration": 80,
    "start_time": "2024-06-17T19:30:35.983Z"
   },
   {
    "duration": 85,
    "start_time": "2024-06-17T19:30:39.668Z"
   },
   {
    "duration": 101,
    "start_time": "2024-06-17T19:30:42.166Z"
   },
   {
    "duration": 94,
    "start_time": "2024-06-17T19:30:46.006Z"
   },
   {
    "duration": 89,
    "start_time": "2024-06-17T19:31:14.309Z"
   },
   {
    "duration": 96,
    "start_time": "2024-06-17T19:31:16.545Z"
   },
   {
    "duration": 96,
    "start_time": "2024-06-17T19:31:21.358Z"
   },
   {
    "duration": 156,
    "start_time": "2024-06-17T19:31:23.228Z"
   },
   {
    "duration": 80,
    "start_time": "2024-06-17T19:31:25.651Z"
   },
   {
    "duration": 80,
    "start_time": "2024-06-17T19:31:37.893Z"
   },
   {
    "duration": 80,
    "start_time": "2024-06-17T19:31:40.722Z"
   },
   {
    "duration": 80,
    "start_time": "2024-06-17T19:32:04.399Z"
   },
   {
    "duration": 22,
    "start_time": "2024-06-17T19:32:38.334Z"
   },
   {
    "duration": 23,
    "start_time": "2024-06-17T19:32:53.035Z"
   },
   {
    "duration": 80,
    "start_time": "2024-06-17T19:36:41.170Z"
   },
   {
    "duration": 80,
    "start_time": "2024-06-17T19:37:05.441Z"
   },
   {
    "duration": 80,
    "start_time": "2024-06-17T19:37:36.684Z"
   },
   {
    "duration": 6,
    "start_time": "2024-06-17T19:47:30.179Z"
   },
   {
    "duration": 8,
    "start_time": "2024-06-17T19:47:34.249Z"
   },
   {
    "duration": 6,
    "start_time": "2024-06-17T19:49:40.505Z"
   },
   {
    "duration": 4,
    "start_time": "2024-06-17T19:49:58.561Z"
   },
   {
    "duration": 9,
    "start_time": "2024-06-17T19:50:02.742Z"
   },
   {
    "duration": 24,
    "start_time": "2024-06-17T19:50:08.228Z"
   },
   {
    "duration": 15,
    "start_time": "2024-06-17T19:50:12.358Z"
   },
   {
    "duration": 24,
    "start_time": "2024-06-17T19:50:14.575Z"
   },
   {
    "duration": 74,
    "start_time": "2024-06-17T19:50:17.463Z"
   },
   {
    "duration": 78,
    "start_time": "2024-06-17T19:50:19.634Z"
   },
   {
    "duration": 74,
    "start_time": "2024-06-17T19:50:21.689Z"
   },
   {
    "duration": 19,
    "start_time": "2024-06-17T19:50:23.750Z"
   },
   {
    "duration": 4,
    "start_time": "2024-06-17T19:50:27.054Z"
   },
   {
    "duration": 10,
    "start_time": "2024-06-17T19:50:29.720Z"
   },
   {
    "duration": 12,
    "start_time": "2024-06-17T19:50:32.089Z"
   },
   {
    "duration": 19,
    "start_time": "2024-06-17T19:50:39.650Z"
   },
   {
    "duration": 15,
    "start_time": "2024-06-17T20:06:48.829Z"
   },
   {
    "duration": 15,
    "start_time": "2024-06-17T20:10:35.159Z"
   },
   {
    "duration": 28,
    "start_time": "2024-06-17T20:12:38.704Z"
   },
   {
    "duration": 15,
    "start_time": "2024-06-17T20:16:39.004Z"
   },
   {
    "duration": 23,
    "start_time": "2024-06-17T20:17:07.021Z"
   },
   {
    "duration": 20,
    "start_time": "2024-06-17T20:17:18.364Z"
   },
   {
    "duration": 6,
    "start_time": "2024-06-17T20:17:55.615Z"
   },
   {
    "duration": 5,
    "start_time": "2024-06-17T20:18:07.852Z"
   },
   {
    "duration": 13,
    "start_time": "2024-06-17T20:18:38.664Z"
   },
   {
    "duration": 32,
    "start_time": "2024-06-17T20:21:01.832Z"
   },
   {
    "duration": 6,
    "start_time": "2024-06-17T20:21:45.790Z"
   },
   {
    "duration": 62,
    "start_time": "2024-06-17T20:21:50.034Z"
   },
   {
    "duration": 67,
    "start_time": "2024-06-17T20:22:08.493Z"
   },
   {
    "duration": 5,
    "start_time": "2024-06-17T20:26:42.269Z"
   },
   {
    "duration": 68,
    "start_time": "2024-06-17T20:26:50.811Z"
   },
   {
    "duration": 75,
    "start_time": "2024-06-17T20:26:55.914Z"
   },
   {
    "duration": 20,
    "start_time": "2024-06-17T20:27:12.824Z"
   },
   {
    "duration": 75,
    "start_time": "2024-06-17T20:28:13.937Z"
   },
   {
    "duration": 4,
    "start_time": "2024-06-17T20:40:17.893Z"
   },
   {
    "duration": 5,
    "start_time": "2024-06-17T20:40:21.518Z"
   },
   {
    "duration": 35,
    "start_time": "2024-06-17T20:41:33.961Z"
   },
   {
    "duration": 23,
    "start_time": "2024-06-17T20:41:59.689Z"
   },
   {
    "duration": 4,
    "start_time": "2024-06-17T20:46:24.815Z"
   },
   {
    "duration": 23,
    "start_time": "2024-06-17T20:50:07.944Z"
   },
   {
    "duration": 41,
    "start_time": "2024-06-17T20:50:19.483Z"
   },
   {
    "duration": 42,
    "start_time": "2024-06-17T20:50:40.079Z"
   },
   {
    "duration": 6,
    "start_time": "2024-06-17T20:50:53.229Z"
   },
   {
    "duration": 44,
    "start_time": "2024-06-17T20:50:55.465Z"
   },
   {
    "duration": 5,
    "start_time": "2024-06-17T20:51:35.601Z"
   },
   {
    "duration": 38,
    "start_time": "2024-06-17T20:51:38.647Z"
   },
   {
    "duration": 5,
    "start_time": "2024-06-17T20:51:44.843Z"
   },
   {
    "duration": 38,
    "start_time": "2024-06-17T20:51:47.653Z"
   },
   {
    "duration": 5,
    "start_time": "2024-06-17T20:57:07.620Z"
   },
   {
    "duration": 38,
    "start_time": "2024-06-17T20:57:50.434Z"
   },
   {
    "duration": 5,
    "start_time": "2024-06-17T20:57:59.695Z"
   },
   {
    "duration": 42,
    "start_time": "2024-06-17T20:58:02.003Z"
   },
   {
    "duration": 10,
    "start_time": "2024-06-17T21:00:35.599Z"
   },
   {
    "duration": 23,
    "start_time": "2024-06-17T21:00:57.154Z"
   },
   {
    "duration": 22,
    "start_time": "2024-06-17T21:01:19.863Z"
   },
   {
    "duration": 20,
    "start_time": "2024-06-17T21:01:51.896Z"
   },
   {
    "duration": 19,
    "start_time": "2024-06-17T21:01:56.849Z"
   },
   {
    "duration": 27,
    "start_time": "2024-06-17T21:02:52.320Z"
   },
   {
    "duration": 37,
    "start_time": "2024-06-17T21:04:04.659Z"
   },
   {
    "duration": 23,
    "start_time": "2024-06-17T21:04:12.812Z"
   },
   {
    "duration": 21,
    "start_time": "2024-06-17T21:05:53.265Z"
   },
   {
    "duration": 22,
    "start_time": "2024-06-17T21:06:08.846Z"
   },
   {
    "duration": 22,
    "start_time": "2024-06-17T21:07:19.704Z"
   },
   {
    "duration": 19,
    "start_time": "2024-06-17T21:08:17.564Z"
   },
   {
    "duration": 20,
    "start_time": "2024-06-17T21:09:19.135Z"
   },
   {
    "duration": 23,
    "start_time": "2024-06-17T21:09:48.054Z"
   },
   {
    "duration": 26,
    "start_time": "2024-06-17T21:10:03.945Z"
   },
   {
    "duration": 22,
    "start_time": "2024-06-17T21:24:21.899Z"
   },
   {
    "duration": 4,
    "start_time": "2024-06-17T21:24:36.615Z"
   },
   {
    "duration": 23,
    "start_time": "2024-06-17T21:24:39.385Z"
   },
   {
    "duration": 10,
    "start_time": "2024-06-17T21:25:07.123Z"
   },
   {
    "duration": 22,
    "start_time": "2024-06-17T21:25:34.530Z"
   },
   {
    "duration": 5,
    "start_time": "2024-06-17T21:26:39.074Z"
   },
   {
    "duration": 438,
    "start_time": "2024-06-18T19:05:09.002Z"
   },
   {
    "duration": 163,
    "start_time": "2024-06-18T19:05:09.443Z"
   },
   {
    "duration": 12,
    "start_time": "2024-06-18T19:05:09.608Z"
   },
   {
    "duration": 32,
    "start_time": "2024-06-18T19:05:09.633Z"
   },
   {
    "duration": 5,
    "start_time": "2024-06-18T19:05:09.668Z"
   },
   {
    "duration": 6,
    "start_time": "2024-06-18T19:05:09.678Z"
   },
   {
    "duration": 45,
    "start_time": "2024-06-18T19:05:09.687Z"
   },
   {
    "duration": 6,
    "start_time": "2024-06-18T19:05:09.736Z"
   },
   {
    "duration": 5,
    "start_time": "2024-06-18T19:05:09.745Z"
   },
   {
    "duration": 25,
    "start_time": "2024-06-18T19:05:09.756Z"
   },
   {
    "duration": 57,
    "start_time": "2024-06-18T19:05:09.783Z"
   },
   {
    "duration": 26,
    "start_time": "2024-06-18T19:05:09.843Z"
   },
   {
    "duration": 96,
    "start_time": "2024-06-18T19:05:09.874Z"
   },
   {
    "duration": 92,
    "start_time": "2024-06-18T19:05:09.973Z"
   },
   {
    "duration": 85,
    "start_time": "2024-06-18T19:05:10.068Z"
   },
   {
    "duration": 91,
    "start_time": "2024-06-18T19:05:10.155Z"
   },
   {
    "duration": 8,
    "start_time": "2024-06-18T19:05:10.249Z"
   },
   {
    "duration": 12,
    "start_time": "2024-06-18T19:05:10.260Z"
   },
   {
    "duration": 13,
    "start_time": "2024-06-18T19:05:10.275Z"
   },
   {
    "duration": 48,
    "start_time": "2024-06-18T19:05:10.291Z"
   },
   {
    "duration": 18,
    "start_time": "2024-06-18T19:05:10.342Z"
   },
   {
    "duration": 6,
    "start_time": "2024-06-18T19:05:10.364Z"
   },
   {
    "duration": 61,
    "start_time": "2024-06-18T19:05:10.374Z"
   },
   {
    "duration": 20,
    "start_time": "2024-06-18T19:05:10.438Z"
   },
   {
    "duration": 21,
    "start_time": "2024-06-18T19:05:10.460Z"
   },
   {
    "duration": 51,
    "start_time": "2024-06-18T19:05:10.483Z"
   },
   {
    "duration": 22,
    "start_time": "2024-06-18T19:05:10.537Z"
   },
   {
    "duration": 21,
    "start_time": "2024-06-18T19:05:10.564Z"
   },
   {
    "duration": 14,
    "start_time": "2024-06-18T19:08:32.362Z"
   },
   {
    "duration": 10,
    "start_time": "2024-06-18T21:58:55.474Z"
   },
   {
    "duration": 313,
    "start_time": "2024-06-18T21:59:00.298Z"
   },
   {
    "duration": 330,
    "start_time": "2024-06-19T02:54:03.504Z"
   },
   {
    "duration": 383,
    "start_time": "2024-06-19T02:54:10.289Z"
   },
   {
    "duration": 202,
    "start_time": "2024-06-19T02:54:11.913Z"
   },
   {
    "duration": 24,
    "start_time": "2024-06-19T02:54:14.259Z"
   },
   {
    "duration": 195,
    "start_time": "2024-06-19T02:54:46.605Z"
   },
   {
    "duration": 5,
    "start_time": "2024-06-19T02:55:13.359Z"
   },
   {
    "duration": 6,
    "start_time": "2024-06-19T02:55:16.435Z"
   },
   {
    "duration": 4,
    "start_time": "2024-06-19T02:55:18.993Z"
   },
   {
    "duration": 5,
    "start_time": "2024-06-19T02:55:21.204Z"
   },
   {
    "duration": 9,
    "start_time": "2024-06-19T02:55:24.727Z"
   },
   {
    "duration": 30,
    "start_time": "2024-06-19T02:55:28.740Z"
   },
   {
    "duration": 15,
    "start_time": "2024-06-19T02:55:32.989Z"
   },
   {
    "duration": 32,
    "start_time": "2024-06-19T02:55:38.247Z"
   },
   {
    "duration": 81,
    "start_time": "2024-06-19T02:55:41.453Z"
   },
   {
    "duration": 84,
    "start_time": "2024-06-19T02:55:44.119Z"
   },
   {
    "duration": 71,
    "start_time": "2024-06-19T02:55:46.324Z"
   },
   {
    "duration": 73,
    "start_time": "2024-06-19T02:55:54.141Z"
   },
   {
    "duration": 5,
    "start_time": "2024-06-19T02:56:03.204Z"
   },
   {
    "duration": 12,
    "start_time": "2024-06-19T02:56:06.645Z"
   },
   {
    "duration": 12,
    "start_time": "2024-06-19T02:56:08.984Z"
   },
   {
    "duration": 20,
    "start_time": "2024-06-19T02:56:18.244Z"
   },
   {
    "duration": 28,
    "start_time": "2024-06-19T02:56:20.630Z"
   },
   {
    "duration": 18,
    "start_time": "2024-06-19T02:56:30.223Z"
   },
   {
    "duration": 31,
    "start_time": "2024-06-19T02:56:34.687Z"
   },
   {
    "duration": 21,
    "start_time": "2024-06-19T02:56:45.131Z"
   },
   {
    "duration": 20,
    "start_time": "2024-06-19T02:56:49.356Z"
   },
   {
    "duration": 18,
    "start_time": "2024-06-19T02:56:51.883Z"
   },
   {
    "duration": 21,
    "start_time": "2024-06-19T02:56:54.883Z"
   },
   {
    "duration": 21,
    "start_time": "2024-06-19T02:56:57.793Z"
   },
   {
    "duration": 22,
    "start_time": "2024-06-19T02:59:15.286Z"
   },
   {
    "duration": 20,
    "start_time": "2024-06-19T02:59:20.010Z"
   },
   {
    "duration": 22,
    "start_time": "2024-06-19T02:59:22.402Z"
   },
   {
    "duration": 21,
    "start_time": "2024-06-19T02:59:38.025Z"
   },
   {
    "duration": 19,
    "start_time": "2024-06-19T02:59:44.029Z"
   },
   {
    "duration": 23,
    "start_time": "2024-06-19T02:59:50.289Z"
   },
   {
    "duration": 18,
    "start_time": "2024-06-19T02:59:56.630Z"
   },
   {
    "duration": 22,
    "start_time": "2024-06-19T03:00:06.240Z"
   },
   {
    "duration": 31,
    "start_time": "2024-06-19T03:00:11.124Z"
   },
   {
    "duration": 488,
    "start_time": "2024-06-20T00:01:03.597Z"
   },
   {
    "duration": 159,
    "start_time": "2024-06-20T00:01:04.089Z"
   },
   {
    "duration": 22,
    "start_time": "2024-06-20T00:01:04.251Z"
   },
   {
    "duration": 176,
    "start_time": "2024-06-20T00:01:04.275Z"
   },
   {
    "duration": 5,
    "start_time": "2024-06-20T00:01:04.456Z"
   },
   {
    "duration": 6,
    "start_time": "2024-06-20T00:01:04.464Z"
   },
   {
    "duration": 33,
    "start_time": "2024-06-20T00:01:04.473Z"
   },
   {
    "duration": 5,
    "start_time": "2024-06-20T00:01:04.509Z"
   },
   {
    "duration": 5,
    "start_time": "2024-06-20T00:01:04.517Z"
   },
   {
    "duration": 26,
    "start_time": "2024-06-20T00:01:04.525Z"
   },
   {
    "duration": 58,
    "start_time": "2024-06-20T00:01:04.554Z"
   },
   {
    "duration": 25,
    "start_time": "2024-06-20T00:01:04.615Z"
   },
   {
    "duration": 100,
    "start_time": "2024-06-20T00:01:04.643Z"
   },
   {
    "duration": 85,
    "start_time": "2024-06-20T00:01:04.749Z"
   },
   {
    "duration": 81,
    "start_time": "2024-06-20T00:01:04.837Z"
   },
   {
    "duration": 91,
    "start_time": "2024-06-20T00:01:04.921Z"
   },
   {
    "duration": 6,
    "start_time": "2024-06-20T00:01:05.015Z"
   },
   {
    "duration": 14,
    "start_time": "2024-06-20T00:01:05.025Z"
   },
   {
    "duration": 13,
    "start_time": "2024-06-20T00:01:05.042Z"
   },
   {
    "duration": 53,
    "start_time": "2024-06-20T00:01:05.058Z"
   },
   {
    "duration": 15,
    "start_time": "2024-06-20T00:01:05.114Z"
   },
   {
    "duration": 15,
    "start_time": "2024-06-20T00:01:05.132Z"
   },
   {
    "duration": 5,
    "start_time": "2024-06-20T00:01:05.150Z"
   },
   {
    "duration": 61,
    "start_time": "2024-06-20T00:01:05.158Z"
   },
   {
    "duration": 19,
    "start_time": "2024-06-20T00:01:05.222Z"
   },
   {
    "duration": 19,
    "start_time": "2024-06-20T00:01:05.244Z"
   },
   {
    "duration": 51,
    "start_time": "2024-06-20T00:01:05.266Z"
   },
   {
    "duration": 21,
    "start_time": "2024-06-20T00:01:05.320Z"
   },
   {
    "duration": 19,
    "start_time": "2024-06-20T00:01:05.344Z"
   }
  ],
  "colab": {
   "collapsed_sections": [
    "E0vqbgi9ay0H",
    "VUC88oWjTJw2"
   ],
   "provenance": []
  },
  "kernelspec": {
   "display_name": "Python 3",
   "language": "python",
   "name": "python3"
  },
  "language_info": {
   "codemirror_mode": {
    "name": "ipython",
    "version": 3
   },
   "file_extension": ".py",
   "mimetype": "text/x-python",
   "name": "python",
   "nbconvert_exporter": "python",
   "pygments_lexer": "ipython3",
   "version": "3.11.9"
  },
  "toc": {
   "base_numbering": 1,
   "nav_menu": {},
   "number_sections": true,
   "sideBar": true,
   "skip_h1_title": true,
   "title_cell": "Table of Contents",
   "title_sidebar": "Contents",
   "toc_cell": false,
   "toc_position": {},
   "toc_section_display": true,
   "toc_window_display": false
  }
 },
 "nbformat": 4,
 "nbformat_minor": 1
}
