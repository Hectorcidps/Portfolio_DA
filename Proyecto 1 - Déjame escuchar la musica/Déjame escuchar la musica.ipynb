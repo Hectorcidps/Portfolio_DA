{
 "cells": [
  {
   "cell_type": "markdown",
   "metadata": {
    "id": "E0vqbgi9ay0H"
   },
   "source": [
    "# Déjame escuchar la música"
   ]
  },
  {
   "cell_type": "markdown",
   "metadata": {
    "id": "fhq_eyov_Zcs"
   },
   "source": [
    "# Contenido <a id='back'></a>\n",
    "\n",
    "* [Introducción](#intro)\n",
    "* [Etapa 1. Descripción de los datos](#data_review)\n",
    "    * [Conclusiones](#data_review_conclusions)\n",
    "* [Etapa 2. Preprocesamiento de datos](#data_preprocessing)\n",
    "    * [2.1 Estilo del encabezado](#header_style)\n",
    "    * [2.2 Valores ausentes](#missing_values)\n",
    "    * [2.3 Duplicados](#duplicates)\n",
    "    * [2.4 Conclusiones](#data_preprocessing_conclusions)\n",
    "* [Etapa 3. Prueba de hipótesis](#hypothesis)\n",
    "    * [3.1 Hipótesis 1: actividad de los usuarios y las usuarias en las dos ciudades](#activity)\n",
    "* [Conclusiones](#end)"
   ]
  },
  {
   "cell_type": "markdown",
   "metadata": {
    "id": "VUC88oWjTJw2"
   },
   "source": [
    "## Introducción <a id='intro'></a>\n",
    "Como analista de datos, tu trabajo consiste en analizar datos para extraer información valiosa y tomar decisiones basadas en ellos. Esto implica diferentes etapas, como la descripción general de los datos, el preprocesamiento y la prueba de hipótesis.\n",
    "\n",
    "Siempre que investigamos, necesitamos formular hipótesis que después podamos probar. A veces aceptamos estas hipótesis; otras veces, las rechazamos. Para tomar las decisiones correctas, una empresa debe ser capaz de entender si está haciendo las suposiciones correctas.\n",
    "\n",
    "En este proyecto, compararás las preferencias musicales de las ciudades de Springfield y Shelbyville. Estudiarás datos reales de transmisión de música online para probar la hipótesis a continuación y comparar el comportamiento de los usuarios y las usuarias de estas dos ciudades.\n",
    "\n",
    "### Objetivo:\n",
    "Prueba la hipótesis:\n",
    "1. La actividad de los usuarios y las usuarias difiere según el día de la semana y dependiendo de la ciudad.\n",
    "\n",
    "\n",
    "### Etapas\n",
    "Los datos del comportamiento del usuario se almacenan en el archivo `/datasets/music_project_en.csv`. No hay ninguna información sobre la calidad de los datos, así que necesitarás examinarlos antes de probar la hipótesis.\n",
    "\n",
    "Primero, evaluarás la calidad de los datos y verás si los problemas son significativos. Entonces, durante el preprocesamiento de datos, tomarás en cuenta los problemas más críticos.\n",
    "\n",
    "Tu proyecto consistirá en tres etapas:\n",
    " 1. Descripción de los datos.\n",
    " 2. Preprocesamiento de datos.\n",
    " 3. Prueba de hipótesis.\n",
    "\n",
    "\n",
    "\n",
    "\n",
    "\n",
    "\n"
   ]
  },
  {
   "cell_type": "markdown",
   "metadata": {
    "id": "hDt6pg-Rw-1U"
   },
   "source": [
    "[Volver a Contenidos](#back)"
   ]
  },
  {
   "cell_type": "markdown",
   "metadata": {
    "id": "Ml1hmfXC_Zcs"
   },
   "source": [
    "## Etapa 1. Descripción de los datos <a id='data_review'></a>\n",
    "\n",
    "Abre los datos y examínalos."
   ]
  },
  {
   "cell_type": "markdown",
   "metadata": {
    "id": "57eAOGIz_Zcs"
   },
   "source": [
    "Necesitarás `pandas`, así que impórtalo."
   ]
  },
  {
   "cell_type": "code",
   "execution_count": 1,
   "metadata": {
    "id": "AXN7PHPN_Zcs"
   },
   "outputs": [],
   "source": [
    "# Importar pandas\n",
    "import pandas as pd"
   ]
  },
  {
   "cell_type": "markdown",
   "metadata": {
    "id": "SG23P8tt_Zcs"
   },
   "source": [
    "Lee el archivo `music_project_en.csv` de la carpeta `/datasets/` y guárdalo en la variable `df`:"
   ]
  },
  {
   "cell_type": "code",
   "execution_count": 2,
   "metadata": {
    "id": "fFVu7vqh_Zct"
   },
   "outputs": [],
   "source": [
    "# Leer el archivo y almacenarlo en df\n",
    "df = pd.read_csv('/datasets/music_project_en.csv')"
   ]
  },
  {
   "cell_type": "markdown",
   "metadata": {
    "id": "rDoOMd3uTqnZ"
   },
   "source": [
    "Muestra las 10 primeras filas de la tabla:"
   ]
  },
  {
   "cell_type": "code",
   "execution_count": 3,
   "metadata": {
    "id": "oWTVX3gW_Zct"
   },
   "outputs": [
    {
     "data": {
      "text/html": [
       "<div>\n",
       "<style scoped>\n",
       "    .dataframe tbody tr th:only-of-type {\n",
       "        vertical-align: middle;\n",
       "    }\n",
       "\n",
       "    .dataframe tbody tr th {\n",
       "        vertical-align: top;\n",
       "    }\n",
       "\n",
       "    .dataframe thead th {\n",
       "        text-align: right;\n",
       "    }\n",
       "</style>\n",
       "<table border=\"1\" class=\"dataframe\">\n",
       "  <thead>\n",
       "    <tr style=\"text-align: right;\">\n",
       "      <th></th>\n",
       "      <th>userID</th>\n",
       "      <th>Track</th>\n",
       "      <th>artist</th>\n",
       "      <th>genre</th>\n",
       "      <th>City</th>\n",
       "      <th>time</th>\n",
       "      <th>Day</th>\n",
       "    </tr>\n",
       "  </thead>\n",
       "  <tbody>\n",
       "    <tr>\n",
       "      <th>0</th>\n",
       "      <td>FFB692EC</td>\n",
       "      <td>Kamigata To Boots</td>\n",
       "      <td>The Mass Missile</td>\n",
       "      <td>rock</td>\n",
       "      <td>Shelbyville</td>\n",
       "      <td>20:28:33</td>\n",
       "      <td>Wednesday</td>\n",
       "    </tr>\n",
       "    <tr>\n",
       "      <th>1</th>\n",
       "      <td>55204538</td>\n",
       "      <td>Delayed Because of Accident</td>\n",
       "      <td>Andreas Rönnberg</td>\n",
       "      <td>rock</td>\n",
       "      <td>Springfield</td>\n",
       "      <td>14:07:09</td>\n",
       "      <td>Friday</td>\n",
       "    </tr>\n",
       "    <tr>\n",
       "      <th>2</th>\n",
       "      <td>20EC38</td>\n",
       "      <td>Funiculì funiculà</td>\n",
       "      <td>Mario Lanza</td>\n",
       "      <td>pop</td>\n",
       "      <td>Shelbyville</td>\n",
       "      <td>20:58:07</td>\n",
       "      <td>Wednesday</td>\n",
       "    </tr>\n",
       "    <tr>\n",
       "      <th>3</th>\n",
       "      <td>A3DD03C9</td>\n",
       "      <td>Dragons in the Sunset</td>\n",
       "      <td>Fire + Ice</td>\n",
       "      <td>folk</td>\n",
       "      <td>Shelbyville</td>\n",
       "      <td>08:37:09</td>\n",
       "      <td>Monday</td>\n",
       "    </tr>\n",
       "    <tr>\n",
       "      <th>4</th>\n",
       "      <td>E2DC1FAE</td>\n",
       "      <td>Soul People</td>\n",
       "      <td>Space Echo</td>\n",
       "      <td>dance</td>\n",
       "      <td>Springfield</td>\n",
       "      <td>08:34:34</td>\n",
       "      <td>Monday</td>\n",
       "    </tr>\n",
       "    <tr>\n",
       "      <th>5</th>\n",
       "      <td>842029A1</td>\n",
       "      <td>Chains</td>\n",
       "      <td>Obladaet</td>\n",
       "      <td>rusrap</td>\n",
       "      <td>Shelbyville</td>\n",
       "      <td>13:09:41</td>\n",
       "      <td>Friday</td>\n",
       "    </tr>\n",
       "    <tr>\n",
       "      <th>6</th>\n",
       "      <td>4CB90AA5</td>\n",
       "      <td>True</td>\n",
       "      <td>Roman Messer</td>\n",
       "      <td>dance</td>\n",
       "      <td>Springfield</td>\n",
       "      <td>13:00:07</td>\n",
       "      <td>Wednesday</td>\n",
       "    </tr>\n",
       "    <tr>\n",
       "      <th>7</th>\n",
       "      <td>F03E1C1F</td>\n",
       "      <td>Feeling This Way</td>\n",
       "      <td>Polina Griffith</td>\n",
       "      <td>dance</td>\n",
       "      <td>Springfield</td>\n",
       "      <td>20:47:49</td>\n",
       "      <td>Wednesday</td>\n",
       "    </tr>\n",
       "    <tr>\n",
       "      <th>8</th>\n",
       "      <td>8FA1D3BE</td>\n",
       "      <td>L’estate</td>\n",
       "      <td>Julia Dalia</td>\n",
       "      <td>ruspop</td>\n",
       "      <td>Springfield</td>\n",
       "      <td>09:17:40</td>\n",
       "      <td>Friday</td>\n",
       "    </tr>\n",
       "    <tr>\n",
       "      <th>9</th>\n",
       "      <td>E772D5C0</td>\n",
       "      <td>Pessimist</td>\n",
       "      <td>NaN</td>\n",
       "      <td>dance</td>\n",
       "      <td>Shelbyville</td>\n",
       "      <td>21:20:49</td>\n",
       "      <td>Wednesday</td>\n",
       "    </tr>\n",
       "  </tbody>\n",
       "</table>\n",
       "</div>"
      ],
      "text/plain": [
       "     userID                        Track            artist   genre  \\\n",
       "0  FFB692EC            Kamigata To Boots  The Mass Missile    rock   \n",
       "1  55204538  Delayed Because of Accident  Andreas Rönnberg    rock   \n",
       "2    20EC38            Funiculì funiculà       Mario Lanza     pop   \n",
       "3  A3DD03C9        Dragons in the Sunset        Fire + Ice    folk   \n",
       "4  E2DC1FAE                  Soul People        Space Echo   dance   \n",
       "5  842029A1                       Chains          Obladaet  rusrap   \n",
       "6  4CB90AA5                         True      Roman Messer   dance   \n",
       "7  F03E1C1F             Feeling This Way   Polina Griffith   dance   \n",
       "8  8FA1D3BE                     L’estate       Julia Dalia  ruspop   \n",
       "9  E772D5C0                    Pessimist               NaN   dance   \n",
       "\n",
       "        City        time        Day  \n",
       "0  Shelbyville  20:28:33  Wednesday  \n",
       "1  Springfield  14:07:09     Friday  \n",
       "2  Shelbyville  20:58:07  Wednesday  \n",
       "3  Shelbyville  08:37:09     Monday  \n",
       "4  Springfield  08:34:34     Monday  \n",
       "5  Shelbyville  13:09:41     Friday  \n",
       "6  Springfield  13:00:07  Wednesday  \n",
       "7  Springfield  20:47:49  Wednesday  \n",
       "8  Springfield  09:17:40     Friday  \n",
       "9  Shelbyville  21:20:49  Wednesday  "
      ]
     },
     "execution_count": 3,
     "metadata": {},
     "output_type": "execute_result"
    }
   ],
   "source": [
    "# Obtener las 10 primeras filas de la tabla df\n",
    "df.head(10)"
   ]
  },
  {
   "cell_type": "markdown",
   "metadata": {
    "id": "EO73Kwic_Zct"
   },
   "source": [
    "Obtén la información general sobre la tabla con un comando. Conoces el método que muestra la información general que necesitamos."
   ]
  },
  {
   "cell_type": "code",
   "execution_count": 4,
   "metadata": {
    "id": "DSf2kIb-_Zct"
   },
   "outputs": [
    {
     "name": "stdout",
     "output_type": "stream",
     "text": [
      "          userID  Track     artist  genre       City        time     Day\n",
      "count      65079  63736      57512  63881        65079     65079   65079\n",
      "unique     41748  39666      37806    268            2     20392       3\n",
      "top     A8AE9169  Brand  Kartvelli    pop  Springfield  21:51:22  Friday\n",
      "freq          76    136        136   8850        45360        14   23149\n"
     ]
    }
   ],
   "source": [
    "# Obtener la información general sobre nuestros datos\n",
    "print(df.describe())"
   ]
  },
  {
   "cell_type": "markdown",
   "metadata": {
    "id": "TaQ2Iwbr_Zct"
   },
   "source": [
    "Estas son nuestras observaciones sobre la tabla. Contiene siete columnas. Almacenan los mismos tipos de datos: `object`.\n",
    "\n",
    "Según la documentación:\n",
    "- `' userID'`: identificador del usuario o la usuaria;\n",
    "- `'Track'`: título de la canción;\n",
    "- `'artist'`: nombre del artista;\n",
    "- `'genre'`: género de la pista;\n",
    "- `'City'`: ciudad del usuario o la usuaria;\n",
    "- `'time'`: la hora exacta en la que se reprodujo la canción;\n",
    "- `'Day'`: día de la semana.\n",
    "\n",
    "Podemos ver tres problemas con el estilo en los encabezados de la tabla:\n",
    "1. Algunos encabezados están en mayúsculas, otros en minúsculas.\n",
    "2. Hay espacios en algunos encabezados.\n",
    "3. Algunos encabezados son ambiguos, ya que no especifica a que se refiere dicho encabezado, por ejemplo City, time y day .\n",
    "\n",
    "\n"
   ]
  },
  {
   "cell_type": "markdown",
   "metadata": {
    "id": "MCB6-dXG_Zct"
   },
   "source": [
    "### Escribe observaciones de tu parte. Estas son algunas de las preguntas que pueden ser útiles: <a id='data_review_conclusions'></a>\n",
    "\n",
    "`1.   ¿Qué tipo de datos tenemos a nuestra disposición en las filas? ¿Y cómo podemos entender lo que almacenan las columnas?`\n",
    "\n",
    "`2.   ¿Hay suficientes datos para proporcionar respuestas a nuestra hipótesis o necesitamos más información?`\n",
    "\n",
    "`3.   ¿Notaste algún problema en los datos, como valores ausentes, duplicados o tipos de datos incorrectos?`"
   ]
  },
  {
   "cell_type": "markdown",
   "metadata": {
    "id": "3eL__vcwViOi"
   },
   "source": [
    "[Volver a Contenidos](#back)"
   ]
  },
  {
   "cell_type": "markdown",
   "metadata": {
    "id": "SjYF6Ub9_Zct"
   },
   "source": [
    "## Etapa 2. Preprocesamiento de datos <a id='data_preprocessing'></a>\n",
    "\n",
    "El objetivo aquí es preparar los datos para que sean analizados.\n",
    "El primer paso es resolver cualquier problema con los encabezados. Luego podemos avanzar a los valores ausentes y duplicados. Empecemos.\n",
    "\n",
    "Corrige el formato en los encabezados de la tabla.\n"
   ]
  },
  {
   "cell_type": "markdown",
   "metadata": {
    "id": "dIaKXr29_Zct"
   },
   "source": [
    "### Estilo del encabezado <a id='header_style'></a>\n",
    "Muestra los encabezados de la tabla (los nombres de las columnas):"
   ]
  },
  {
   "cell_type": "code",
   "execution_count": 5,
   "metadata": {
    "id": "oKOTdF_Q_Zct"
   },
   "outputs": [
    {
     "name": "stdout",
     "output_type": "stream",
     "text": [
      "Index(['  userID', 'Track', 'artist', 'genre', '  City  ', 'time', 'Day'], dtype='object')\n"
     ]
    }
   ],
   "source": [
    "# Muestra los nombres de las columnas\n",
    "print(df.columns)\n"
   ]
  },
  {
   "cell_type": "markdown",
   "metadata": {
    "id": "zj5534cv_Zct"
   },
   "source": [
    "Cambia los encabezados de la tabla de acuerdo con las reglas del buen estilo:\n",
    "* Todos los caracteres deben ser minúsculas.\n",
    "* Elimina los espacios.\n",
    "* Si el nombre tiene varias palabras, utiliza snake_case."
   ]
  },
  {
   "cell_type": "markdown",
   "metadata": {
    "id": "Xu0zkfe5zNJe"
   },
   "source": [
    "Anteriormente, aprendiste acerca de la forma automática de cambiar el nombre de las columnas. Vamos a aplicarla ahora. Utiliza el bucle for para iterar sobre los nombres de las columnas y poner todos los caracteres en minúsculas. Cuando hayas terminado, vuelve a mostrar los encabezados de la tabla:"
   ]
  },
  {
   "cell_type": "code",
   "execution_count": 6,
   "metadata": {
    "id": "6I_RwwMhzM4e"
   },
   "outputs": [
    {
     "name": "stdout",
     "output_type": "stream",
     "text": [
      "['  userid', 'track', 'artist', 'genre', '  city  ', 'time', 'day']\n"
     ]
    }
   ],
   "source": [
    "# Bucle en los encabezados poniendo todo en minúsculas\n",
    "new_name = []\n",
    "\n",
    "for old_name in df.columns:\n",
    "    new_name.append(old_name.lower())\n",
    "\n",
    "df.columns = new_name\n",
    "print(new_name)"
   ]
  },
  {
   "cell_type": "markdown",
   "metadata": {
    "id": "pweIRxjSzPYW"
   },
   "source": [
    "Ahora, utilizando el mismo método, elimina los espacios al principio y al final de los nombres de las columnas e imprime los nombres de las columnas nuevamente:"
   ]
  },
  {
   "cell_type": "code",
   "execution_count": 7,
   "metadata": {
    "id": "vVQXbFyJzSYl"
   },
   "outputs": [
    {
     "name": "stdout",
     "output_type": "stream",
     "text": [
      "['userid', 'track', 'artist', 'genre', 'city', 'time', 'day']\n"
     ]
    }
   ],
   "source": [
    "# Bucle en los encabezados eliminando los espacios\n",
    "without_strip = []\n",
    "\n",
    "for with_strip in new_name:\n",
    "    without_strip.append(with_strip.strip())\n",
    "    \n",
    "df.columns = without_strip\n",
    "print(without_strip)\n",
    "    "
   ]
  },
  {
   "cell_type": "markdown",
   "metadata": {
    "id": "yCb8MW1JzURd"
   },
   "source": [
    "Necesitamos aplicar la regla de snake_case a la columna `userid`. Debe ser `user_id`. Cambia el nombre de esta columna y muestra los nombres de todas las columnas cuando hayas terminado."
   ]
  },
  {
   "cell_type": "code",
   "execution_count": 8,
   "metadata": {
    "id": "ISlFqs5y_Zct"
   },
   "outputs": [
    {
     "name": "stdout",
     "output_type": "stream",
     "text": [
      "['user_id', 'track', 'artist', 'genre', 'city', 'time', 'day']\n"
     ]
    }
   ],
   "source": [
    "# Cambiar el nombre de la columna \"userid\"\n",
    "name_no_space = []\n",
    "\n",
    "for name_space in without_strip:\n",
    "    name_no_space.append(name_space.replace('userid','user_id'))\n",
    "    \n",
    "df.columns = name_no_space\n",
    "print(name_no_space)"
   ]
  },
  {
   "cell_type": "markdown",
   "metadata": {
    "id": "1dqbh00J_Zct"
   },
   "source": [
    "Comprueba el resultado. Muestra los encabezados una vez más:"
   ]
  },
  {
   "cell_type": "code",
   "execution_count": 9,
   "metadata": {
    "id": "d4NOAmTW_Zct"
   },
   "outputs": [
    {
     "name": "stdout",
     "output_type": "stream",
     "text": [
      "Index(['user_id', 'track', 'artist', 'genre', 'city', 'time', 'day'], dtype='object')\n"
     ]
    }
   ],
   "source": [
    "# Comprobar el resultado: la lista de encabezados\n",
    "print(df.columns)"
   ]
  },
  {
   "cell_type": "markdown",
   "metadata": {
    "id": "xYJk6ksJVpOl"
   },
   "source": [
    "[Volver a Contenidos](#back)"
   ]
  },
  {
   "cell_type": "markdown",
   "metadata": {
    "id": "5ISfbcfY_Zct"
   },
   "source": [
    "### Valores ausentes <a id='missing_values'></a>\n",
    " Primero, encuentra el número de valores ausentes en la tabla. Debes utilizar dos métodos en una secuencia para obtener el número de valores ausentes."
   ]
  },
  {
   "cell_type": "code",
   "execution_count": 10,
   "metadata": {
    "id": "RskX29qr_Zct"
   },
   "outputs": [
    {
     "name": "stdout",
     "output_type": "stream",
     "text": [
      "user_id       0\n",
      "track      1343\n",
      "artist     7567\n",
      "genre      1198\n",
      "city          0\n",
      "time          0\n",
      "day           0\n",
      "dtype: int64\n"
     ]
    }
   ],
   "source": [
    "# Calcular el número de valores ausentes\n",
    "print(df.isna().sum())"
   ]
  },
  {
   "cell_type": "markdown",
   "metadata": {
    "id": "qubhgnlO_Zct"
   },
   "source": [
    "No todos los valores ausentes afectan a la investigación. Por ejemplo, los valores ausentes en `track` y `artist` no son cruciales. Simplemente puedes reemplazarlos con valores predeterminados como el string `'unknown'` (desconocido).\n",
    "\n",
    "Pero los valores ausentes en `'genre'` pueden afectar la comparación entre las preferencias musicales de Springfield y Shelbyville. En la vida real, sería útil saber las razones por las cuales hay datos ausentes e intentar recuperarlos. Pero no tenemos esa oportunidad en este proyecto. Así que tendrás que:\n",
    "* rellenar estos valores ausentes con un valor predeterminado;\n",
    "* evaluar cuánto podrían afectar los valores ausentes a tus cómputos;"
   ]
  },
  {
   "cell_type": "markdown",
   "metadata": {
    "id": "fSv2laPA_Zct"
   },
   "source": [
    "Reemplazar los valores ausentes en las columnas `'track'`, `'artist'` y `'genre'` con el string `'unknown'`. Como mostramos anteriormente en las lecciones, la mejor forma de hacerlo es crear una lista que almacene los nombres de las columnas donde se necesita el reemplazo. Luego, utiliza esta lista e itera sobre las columnas donde se necesita el reemplazo haciendo el propio reemplazo."
   ]
  },
  {
   "cell_type": "code",
   "execution_count": 11,
   "metadata": {
    "id": "KplB5qWs_Zct"
   },
   "outputs": [],
   "source": [
    "# Bucle en los encabezados reemplazando los valores ausentes con 'unknown'\n",
    "columnas_a_remplazar = ['track', 'artist', 'genre']\n",
    "\n",
    "for cambio in columnas_a_remplazar:\n",
    "    df[cambio].fillna('unknown', inplace=True)"
   ]
  },
  {
   "cell_type": "markdown",
   "metadata": {
    "id": "Ilsm-MZo_Zct"
   },
   "source": [
    "Ahora comprueba el resultado para asegurarte de que después del reemplazo no haya valores ausentes en el conjunto de datos. Para hacer esto, cuenta los valores ausentes nuevamente."
   ]
  },
  {
   "cell_type": "code",
   "execution_count": 12,
   "metadata": {
    "id": "Tq4nYRX4_Zct"
   },
   "outputs": [
    {
     "name": "stdout",
     "output_type": "stream",
     "text": [
      "user_id    0\n",
      "track      0\n",
      "artist     0\n",
      "genre      0\n",
      "city       0\n",
      "time       0\n",
      "day        0\n",
      "dtype: int64\n"
     ]
    }
   ],
   "source": [
    "# Contar valores ausentes\n",
    "print(df.isna().sum())"
   ]
  },
  {
   "cell_type": "markdown",
   "metadata": {
    "id": "74ZIBmq9VrsK"
   },
   "source": [
    "[Volver a Contenidos](#back)"
   ]
  },
  {
   "cell_type": "markdown",
   "metadata": {
    "id": "BWKRtBJ3_Zct"
   },
   "source": [
    "### Duplicados <a id='duplicates'></a>\n",
    "Encuentra el número de duplicados explícitos en la tabla. Una vez más, debes aplicar dos métodos en una secuencia para obtener la cantidad de duplicados explícitos."
   ]
  },
  {
   "cell_type": "code",
   "execution_count": 13,
   "metadata": {
    "id": "36eES_S0_Zct"
   },
   "outputs": [
    {
     "name": "stdout",
     "output_type": "stream",
     "text": [
      "3826\n"
     ]
    }
   ],
   "source": [
    "# Contar duplicados explícitos\n",
    "print(df.duplicated().sum())"
   ]
  },
  {
   "cell_type": "markdown",
   "metadata": {
    "id": "Ot25h6XR_Zct"
   },
   "source": [
    "Ahora, elimina todos los duplicados. Para ello, llama al método que hace exactamente esto."
   ]
  },
  {
   "cell_type": "code",
   "execution_count": 14,
   "metadata": {
    "id": "exFHq6tt_Zct"
   },
   "outputs": [],
   "source": [
    "# Eliminar duplicados explícitos\n",
    "df = df.drop_duplicates()"
   ]
  },
  {
   "cell_type": "markdown",
   "metadata": {
    "id": "Im2YwBEG_Zct"
   },
   "source": [
    "Comprobemos ahora si eliminamos con éxito todos los duplicados. Cuenta los duplicados explícitos una vez más para asegurarte de haberlos eliminado todos:"
   ]
  },
  {
   "cell_type": "code",
   "execution_count": 15,
   "metadata": {
    "id": "-8PuNWQ0_Zct"
   },
   "outputs": [
    {
     "name": "stdout",
     "output_type": "stream",
     "text": [
      "0\n"
     ]
    }
   ],
   "source": [
    "# Comprobar de nuevo si hay duplicados\n",
    "print(df.duplicated().sum())"
   ]
  },
  {
   "cell_type": "markdown",
   "metadata": {
    "id": "QlFBsxAr_Zct"
   },
   "source": [
    "Ahora queremos deshacernos de los duplicados implícitos en la columna `genre`. Por ejemplo, el nombre de un género se puede escribir de varias formas. Dichos errores también pueden afectar al resultado."
   ]
  },
  {
   "cell_type": "markdown",
   "metadata": {
    "id": "eSjWwsOh_Zct"
   },
   "source": [
    "Para hacerlo, primero mostremos una lista de nombres de género únicos, ordenados en orden alfabético. Para ello:\n",
    "* Extrae la columna `genre` del DataFrame.\n",
    "* Llama al método que devolverá todos los valores únicos en la columna extraída.\n"
   ]
  },
  {
   "cell_type": "code",
   "execution_count": 16,
   "metadata": {
    "id": "JIUcqzZN_Zct"
   },
   "outputs": [
    {
     "name": "stdout",
     "output_type": "stream",
     "text": [
      "        user_id                       track  \\\n",
      "32883  C40BC5DF            Shot in the Dark   \n",
      "3650   F10919ED          Ready For The Fire   \n",
      "20644  B02ED3AB  Prelude – Ne Me Qui Te Pas   \n",
      "39129  77D3A7D9  Prelude – Ne Me Qui Te Pas   \n",
      "14811  1C7D9E90  Prelude – Ne Me Qui Te Pas   \n",
      "...         ...                         ...   \n",
      "6189   12A10DD5                     Ekatana   \n",
      "18268   653E0EF                     Kalinka   \n",
      "28665  D7FB50DA             Drumming Circle   \n",
      "40493  AA1730E8                         Anu   \n",
      "8514   A439123F                     Flip It   \n",
      "\n",
      "                                                  artist      genre  \\\n",
      "32883                                         Four80East       acid   \n",
      "3650                                    Valley Of Wolves   acoustic   \n",
      "20644                                            unknown   acoustic   \n",
      "39129                                            unknown   acoustic   \n",
      "14811                                            unknown   acoustic   \n",
      "...                                                  ...        ...   \n",
      "6189                                         Shantavaani      world   \n",
      "18268  The Red Army Choirs Of Alexandrov (Les Choeurs...      world   \n",
      "28665                                   Professor Trance  worldbeat   \n",
      "40493                                  Kailash Kokopelli  worldbeat   \n",
      "8514                                             unknown        ïîï   \n",
      "\n",
      "              city      time        day  \n",
      "32883  Springfield  09:44:12     Friday  \n",
      "3650   Shelbyville  21:33:18     Monday  \n",
      "20644  Springfield  13:31:03  Wednesday  \n",
      "39129  Springfield  14:27:34     Monday  \n",
      "14811  Shelbyville  21:47:42     Friday  \n",
      "...            ...       ...        ...  \n",
      "6189   Springfield  14:30:19     Friday  \n",
      "18268  Springfield  21:08:36  Wednesday  \n",
      "28665  Springfield  09:30:47     Monday  \n",
      "40493  Shelbyville  20:16:34  Wednesday  \n",
      "8514   Springfield  09:08:51     Friday  \n",
      "\n",
      "[61253 rows x 7 columns]\n",
      "['rock' 'pop' 'folk' 'dance' 'rusrap' 'ruspop' 'world' 'electronic'\n",
      " 'unknown' 'alternative' 'children' 'rnb' 'hip' 'jazz' 'postrock' 'latin'\n",
      " 'classical' 'metal' 'reggae' 'triphop' 'blues' 'instrumental' 'rusrock'\n",
      " 'dnb' 'türk' 'post' 'country' 'psychedelic' 'conjazz' 'indie'\n",
      " 'posthardcore' 'local' 'avantgarde' 'punk' 'videogame' 'techno' 'house'\n",
      " 'christmas' 'melodic' 'caucasian' 'reggaeton' 'soundtrack' 'singer' 'ska'\n",
      " 'salsa' 'ambient' 'film' 'western' 'rap' 'beats' \"hard'n'heavy\"\n",
      " 'progmetal' 'minimal' 'tropical' 'contemporary' 'new' 'soul' 'holiday'\n",
      " 'german' 'jpop' 'spiritual' 'urban' 'gospel' 'nujazz' 'folkmetal'\n",
      " 'trance' 'miscellaneous' 'anime' 'hardcore' 'progressive' 'korean'\n",
      " 'numetal' 'vocal' 'estrada' 'tango' 'loungeelectronic' 'classicmetal'\n",
      " 'dubstep' 'club' 'deep' 'southern' 'black' 'folkrock' 'fitness' 'french'\n",
      " 'disco' 'religious' 'hiphop' 'drum' 'extrememetal' 'türkçe'\n",
      " 'experimental' 'easy' 'metalcore' 'modern' 'argentinetango' 'old' 'swing'\n",
      " 'breaks' 'eurofolk' 'stonerrock' 'industrial' 'funk' 'middle' 'variété'\n",
      " 'other' 'adult' 'christian' 'thrash' 'gothic' 'international' 'muslim'\n",
      " 'relax' 'schlager' 'caribbean' 'nu' 'breakbeat' 'comedy' 'chill' 'newage'\n",
      " 'specialty' 'uzbek' 'k-pop' 'balkan' 'chinese' 'meditative' 'dub' 'power'\n",
      " 'death' 'grime' 'arabesk' 'romance' 'flamenco' 'leftfield' 'european'\n",
      " 'tech' 'newwave' 'dancehall' 'mpb' 'piano' 'top' 'bigroom' 'opera'\n",
      " 'celtic' 'tradjazz' 'acoustic' 'epicmetal' 'hip-hop' 'historisch'\n",
      " 'downbeat' 'downtempo' 'africa' 'audiobook' 'jewish' 'sängerportrait'\n",
      " 'deutschrock' 'eastern' 'action' 'future' 'electropop' 'folklore'\n",
      " 'bollywood' 'marschmusik' 'rnr' 'karaoke' 'indian' 'rancheras'\n",
      " 'afrikaans' 'rhythm' 'sound' 'deutschspr' 'trip' 'lovers' 'choral'\n",
      " 'dancepop' 'retro' 'smooth' 'mexican' 'brazilian' 'ïîï' 'mood' 'surf'\n",
      " 'gangsta' 'inspirational' 'idm' 'ethnic' 'bluegrass' 'broadway'\n",
      " 'animated' 'americana' 'karadeniz' 'rockabilly' 'colombian' 'self' 'hop'\n",
      " 'sertanejo' 'japanese' 'canzone' 'lounge' 'sport' 'ragga' 'traditional'\n",
      " 'gitarre' 'frankreich' 'emo' 'laiko' 'cantopop' 'glitch' 'documentary'\n",
      " 'oceania' 'popeurodance' 'dark' 'vi' 'grunge' 'hardstyle' 'samba'\n",
      " 'garage' 'art' 'folktronica' 'entehno' 'mediterranean' 'chamber' 'cuban'\n",
      " 'taraftar' 'gypsy' 'hardtechno' 'shoegazing' 'bossa' 'latino' 'worldbeat'\n",
      " 'malaysian' 'baile' 'ghazal' 'arabic' 'popelectronic' 'acid' 'kayokyoku'\n",
      " 'neoklassik' 'tribal' 'tanzorchester' 'native' 'independent' 'cantautori'\n",
      " 'handsup' 'punjabi' 'synthpop' 'rave' 'französisch' 'quebecois' 'speech'\n",
      " 'soulful' 'jam' 'ram' 'horror' 'orchestral' 'neue' 'roots' 'slow'\n",
      " 'jungle' 'indipop' 'axé' 'fado' 'showtunes' 'arena' 'irish' 'mandopop'\n",
      " 'forró' 'dirty' 'regional']\n",
      "269\n"
     ]
    }
   ],
   "source": [
    "# Inspeccionar los nombres de géneros únicos\n",
    "df_ordenado = df.sort_values(by='genre', ascending=True)\n",
    "print(df_ordenado)\n",
    "print(df['genre'].unique())\n",
    "print(df['genre'].nunique())"
   ]
  },
  {
   "cell_type": "markdown",
   "metadata": {
    "id": "qej-Qmuo_Zct"
   },
   "source": [
    "Busca en la lista para encontrar duplicados implícitos del género `hiphop`. Estos pueden ser nombres escritos incorrectamente o nombres alternativos para el mismo género.\n",
    "\n",
    "Verás los siguientes duplicados implícitos:\n",
    "* `hip`\n",
    "* `hop`\n",
    "* `hip-hop`\n",
    "\n",
    "Para deshacerte de ellos, crea una función llamada `replace_wrong_genres()` con dos parámetros:\n",
    "* `wrong_genres=`: esta es una lista que contiene todos los valores que necesitas reemplazar.\n",
    "* `correct_genre=`: este es un string que vas a utilizar como reemplazo.\n",
    "\n",
    "Como resultado, la función debería corregir los nombres en la columna `'genre'` de la tabla `df`, es decir, remplazar cada valor de la lista `wrong_genres` por el valor en `correct_genre`.\n",
    "\n",
    "Dentro del cuerpo de la función, utiliza un bucle `'for'` para iterar sobre la lista de géneros incorrectos, extrae la columna `'genre'` y aplica el método `replace` para hacer correcciones."
   ]
  },
  {
   "cell_type": "code",
   "execution_count": 17,
   "metadata": {
    "id": "ErNDkmns_Zct"
   },
   "outputs": [],
   "source": [
    "# Función para reemplazar duplicados implícitos\n",
    "\n",
    "def replace_wrong_genres(df, genre_column, wrong_genres, correct_genre):\n",
    "    for wrong_value in wrong_genres:\n",
    "        df[genre_column] = df[genre_column].replace(wrong_value, correct_genre)\n",
    "    return df"
   ]
  },
  {
   "cell_type": "markdown",
   "metadata": {
    "id": "aDoBJxbA_Zct"
   },
   "source": [
    "Ahora, llama a `replace_wrong_genres()` y pásale tales argumentos para que retire los duplicados implícitos (`hip`, `hop` y `hip-hop`) y los reemplace por `hiphop`:"
   ]
  },
  {
   "cell_type": "code",
   "execution_count": 18,
   "metadata": {
    "id": "YN5i2hpmSo09"
   },
   "outputs": [],
   "source": [
    "# Eliminar duplicados implícitos\n",
    "wrong_genres = ['hip', 'hop', 'hip-hop']\n",
    "correct_genre = 'hiphop'\n",
    "\n",
    "df = replace_wrong_genres(df, 'genre', wrong_genres, correct_genre)\n"
   ]
  },
  {
   "cell_type": "markdown",
   "metadata": {
    "id": "zQKF16_RG15m"
   },
   "source": [
    "Asegúrate de que los nombres duplicados han sido eliminados. Muestra la lista de valores únicos de la columna `'genre'` una vez más:"
   ]
  },
  {
   "cell_type": "code",
   "execution_count": 19,
   "metadata": {
    "id": "wvixALnFG15m",
    "scrolled": true
   },
   "outputs": [
    {
     "name": "stdout",
     "output_type": "stream",
     "text": [
      "266\n"
     ]
    }
   ],
   "source": [
    "# Comprobación de duplicados implícitos\n",
    "#print(df['genre'].unique())\n",
    "print(df['genre'].nunique())"
   ]
  },
  {
   "cell_type": "code",
   "execution_count": 20,
   "metadata": {},
   "outputs": [
    {
     "data": {
      "text/plain": [
       "array(['rock', 'pop', 'folk', 'dance', 'rusrap', 'ruspop', 'world',\n",
       "       'electronic', 'unknown', 'alternative', 'children', 'rnb',\n",
       "       'hiphop', 'jazz', 'postrock', 'latin', 'classical', 'metal',\n",
       "       'reggae', 'triphop', 'blues', 'instrumental', 'rusrock', 'dnb',\n",
       "       'türk', 'post', 'country', 'psychedelic', 'conjazz', 'indie',\n",
       "       'posthardcore', 'local', 'avantgarde', 'punk', 'videogame',\n",
       "       'techno', 'house', 'christmas', 'melodic', 'caucasian',\n",
       "       'reggaeton', 'soundtrack', 'singer', 'ska', 'salsa', 'ambient',\n",
       "       'film', 'western', 'rap', 'beats', \"hard'n'heavy\", 'progmetal',\n",
       "       'minimal', 'tropical', 'contemporary', 'new', 'soul', 'holiday',\n",
       "       'german', 'jpop', 'spiritual', 'urban', 'gospel', 'nujazz',\n",
       "       'folkmetal', 'trance', 'miscellaneous', 'anime', 'hardcore',\n",
       "       'progressive', 'korean', 'numetal', 'vocal', 'estrada', 'tango',\n",
       "       'loungeelectronic', 'classicmetal', 'dubstep', 'club', 'deep',\n",
       "       'southern', 'black', 'folkrock', 'fitness', 'french', 'disco',\n",
       "       'religious', 'drum', 'extrememetal', 'türkçe', 'experimental',\n",
       "       'easy', 'metalcore', 'modern', 'argentinetango', 'old', 'swing',\n",
       "       'breaks', 'eurofolk', 'stonerrock', 'industrial', 'funk', 'middle',\n",
       "       'variété', 'other', 'adult', 'christian', 'thrash', 'gothic',\n",
       "       'international', 'muslim', 'relax', 'schlager', 'caribbean', 'nu',\n",
       "       'breakbeat', 'comedy', 'chill', 'newage', 'specialty', 'uzbek',\n",
       "       'k-pop', 'balkan', 'chinese', 'meditative', 'dub', 'power',\n",
       "       'death', 'grime', 'arabesk', 'romance', 'flamenco', 'leftfield',\n",
       "       'european', 'tech', 'newwave', 'dancehall', 'mpb', 'piano', 'top',\n",
       "       'bigroom', 'opera', 'celtic', 'tradjazz', 'acoustic', 'epicmetal',\n",
       "       'historisch', 'downbeat', 'downtempo', 'africa', 'audiobook',\n",
       "       'jewish', 'sängerportrait', 'deutschrock', 'eastern', 'action',\n",
       "       'future', 'electropop', 'folklore', 'bollywood', 'marschmusik',\n",
       "       'rnr', 'karaoke', 'indian', 'rancheras', 'afrikaans', 'rhythm',\n",
       "       'sound', 'deutschspr', 'trip', 'lovers', 'choral', 'dancepop',\n",
       "       'retro', 'smooth', 'mexican', 'brazilian', 'ïîï', 'mood', 'surf',\n",
       "       'gangsta', 'inspirational', 'idm', 'ethnic', 'bluegrass',\n",
       "       'broadway', 'animated', 'americana', 'karadeniz', 'rockabilly',\n",
       "       'colombian', 'self', 'sertanejo', 'japanese', 'canzone', 'lounge',\n",
       "       'sport', 'ragga', 'traditional', 'gitarre', 'frankreich', 'emo',\n",
       "       'laiko', 'cantopop', 'glitch', 'documentary', 'oceania',\n",
       "       'popeurodance', 'dark', 'vi', 'grunge', 'hardstyle', 'samba',\n",
       "       'garage', 'art', 'folktronica', 'entehno', 'mediterranean',\n",
       "       'chamber', 'cuban', 'taraftar', 'gypsy', 'hardtechno',\n",
       "       'shoegazing', 'bossa', 'latino', 'worldbeat', 'malaysian', 'baile',\n",
       "       'ghazal', 'arabic', 'popelectronic', 'acid', 'kayokyoku',\n",
       "       'neoklassik', 'tribal', 'tanzorchester', 'native', 'independent',\n",
       "       'cantautori', 'handsup', 'punjabi', 'synthpop', 'rave',\n",
       "       'französisch', 'quebecois', 'speech', 'soulful', 'jam', 'ram',\n",
       "       'horror', 'orchestral', 'neue', 'roots', 'slow', 'jungle',\n",
       "       'indipop', 'axé', 'fado', 'showtunes', 'arena', 'irish',\n",
       "       'mandopop', 'forró', 'dirty', 'regional'], dtype=object)"
      ]
     },
     "execution_count": 20,
     "metadata": {},
     "output_type": "execute_result"
    }
   ],
   "source": [
    "df.genre.unique()"
   ]
  },
  {
   "cell_type": "markdown",
   "metadata": {
    "id": "ALgNbvF3VtPA"
   },
   "source": [
    "[Volver a Contenidos](#back)"
   ]
  },
  {
   "cell_type": "markdown",
   "metadata": {
    "id": "jz6a9-7HQUDd"
   },
   "source": [
    "### Tus observaciones <a id='data_preprocessing_conclusions'></a>\n",
    "\n",
    "`Describe brevemente lo que has notado al analizar duplicados, cómo abordaste sus eliminaciones y qué resultados obtuviste.`\n",
    "\n",
    "Al iniciar los datos ausentes se concentraban en 3 columnas, track, artist y genre dando un total de 10,108 (1343, 7567 y 1198, respectivamente) al utilizar el metodo replace () se modifico el DataSet y aquellos valores ausentes fueron cambiados por un unknown. \n",
    "Despues se contabilizo el total de valores duplicados, el cual consta de 3826 al usar el metodo drop_duplucates() se eliminaron aquellos que son inncesarios para el análisis.\n",
    "En cuanto a los datos unicos, se observan bastantes en la lista de la columna 'genre' pero al haber declarado la funcion 'replace_wrong_genres', es posible ir modificando cada uno de los valores implicitos, basta con modificar los argumentos establecidos en la funcion, como se hizo con aquellos que tenian hip, hop y hip-hop. Dando como resultado un total de 266, cabe resaltar que antes de declarar la funcion habian 269 datos unicos en la columna 'genre'"
   ]
  },
  {
   "cell_type": "markdown",
   "metadata": {
    "id": "eK1es74rVujj"
   },
   "source": [
    "[Volver a Contenidos](#back)"
   ]
  },
  {
   "cell_type": "markdown",
   "metadata": {
    "id": "WttZHXH0SqKk"
   },
   "source": [
    "## Etapa 3. Prueba de hipótesis <a id='hypothesis'></a>"
   ]
  },
  {
   "cell_type": "markdown",
   "metadata": {
    "id": "Im936VVi_Zcu"
   },
   "source": [
    "### Hipótesis: comparar el comportamiento del usuario o la usuaria en las dos ciudades <a id='activity'></a>"
   ]
  },
  {
   "cell_type": "markdown",
   "metadata": {
    "id": "nwt_MuaL_Zcu"
   },
   "source": [
    "La hipótesis afirma que existen diferencias en la forma en que los usuarios y las usuarias de Springfield y Shelbyville consumen música. Para comprobar esto, usa los datos de tres días de la semana: lunes, miércoles y viernes.\n",
    "\n",
    "* Agrupa a los usuarios y las usuarias por ciudad.\n",
    "* Compara el número de canciones que cada grupo reprodujo el lunes, el miércoles y el viernes.\n"
   ]
  },
  {
   "cell_type": "markdown",
   "metadata": {
    "id": "8Dw_YMmT_Zcu"
   },
   "source": [
    "Realiza cada cálculo por separado.\n",
    "\n",
    "El primer paso es evaluar la actividad del usuario en cada ciudad. Recuerda las etapas dividir-aplicar-combinar de las que hablamos anteriormente en la lección. Tu objetivo ahora es agrupar los datos por ciudad, aplicar el método apropiado para contar durante la etapa de aplicación y luego encontrar la cantidad de canciones reproducidas en cada grupo especificando la columna para obtener el recuento.\n",
    "\n",
    "A continuación se muestra un ejemplo de cómo debería verse el resultado final:\n",
    "`df.groupby(by='....')['column'].method()`Realiza cada cálculo por separado.\n",
    "\n",
    "Para evaluar la actividad de los usuarios y las usuarias en cada ciudad, agrupa los datos por ciudad y encuentra la cantidad de canciones reproducidas en cada grupo.\n",
    "\n"
   ]
  },
  {
   "cell_type": "code",
   "execution_count": 21,
   "metadata": {
    "id": "0_Qs96oh_Zcu"
   },
   "outputs": [
    {
     "name": "stdout",
     "output_type": "stream",
     "text": [
      "city\n",
      "Shelbyville    18512\n",
      "Springfield    42741\n",
      "Name: track, dtype: int64\n"
     ]
    }
   ],
   "source": [
    "# Contar las canciones reproducidas en cada ciudad\n",
    "canciones_x_ciudad = df.groupby(by='city')['track'].count()\n",
    "print(canciones_x_ciudad)"
   ]
  },
  {
   "cell_type": "markdown",
   "metadata": {
    "id": "t_Qx-3NewAnK"
   },
   "source": [
    "Se aprecia que la actividad en cantidad de canciones reproducidas en las usuarias y usuarios de Springfield son mayores a las de Shelbyville"
   ]
  },
  {
   "cell_type": "markdown",
   "metadata": {
    "id": "dzli3w8o_Zcu"
   },
   "source": [
    "Ahora agrupemos los datos por día de la semana y encontremos el número de canciones reproducidas el lunes, miércoles y viernes. Utiliza el mismo método que antes, pero ahora necesitamos una agrupación diferente.\n"
   ]
  },
  {
   "cell_type": "code",
   "execution_count": 22,
   "metadata": {
    "id": "uZMKjiJz_Zcu"
   },
   "outputs": [
    {
     "name": "stdout",
     "output_type": "stream",
     "text": [
      "day\n",
      "Friday       21840\n",
      "Monday       21354\n",
      "Wednesday    18059\n",
      "Name: track, dtype: int64\n"
     ]
    }
   ],
   "source": [
    "# Calcular las canciones reproducidas en cada uno de los tres días\n",
    "canciones_x_dia = df.groupby(by='day')['track'].count()\n",
    "print(canciones_x_dia)"
   ]
  },
  {
   "cell_type": "markdown",
   "metadata": {
    "id": "cC2tNrlL_Zcu"
   },
   "source": [
    "Los datos arrojados por dia muestran que los dias que mas se escucha musica son los Viernes, seguido de los Lunes y finalmente los miercoles"
   ]
  },
  {
   "cell_type": "markdown",
   "metadata": {
    "id": "POzs8bGa_Zcu"
   },
   "source": [
    "Ya sabes cómo contar entradas agrupándolas por ciudad o día. Ahora necesitas escribir una función que pueda contar entradas según ambos criterios simultáneamente.\n",
    "\n",
    "Crea la función `number_tracks()` para calcular el número de canciones reproducidas en un determinado día **y** ciudad. La función debe aceptar dos parámetros:\n",
    "\n",
    "- `day`: un día de la semana para filtrar. Por ejemplo, `'Monday'` (lunes).\n",
    "- `city`: una ciudad para filtrar. Por ejemplo, `'Springfield'`.\n",
    "\n",
    "Dentro de la función, aplicarás un filtrado consecutivo con indexación lógica.\n",
    "\n",
    "Primero filtra los datos por día y luego filtra la tabla resultante por ciudad.\n",
    "\n",
    "Después de filtrar los datos por dos criterios, cuenta el número de valores de la columna 'user_id' en la tabla resultante. Este recuento representa el número de entradas que estás buscando. Guarda el resultado en una nueva variable y devuélvelo desde la función."
   ]
  },
  {
   "cell_type": "code",
   "execution_count": 23,
   "metadata": {
    "id": "Nz3GdQB1_Zcu"
   },
   "outputs": [],
   "source": [
    "# Declara la función number_tracks() con dos parámetros: day= y city=.\n",
    "\n",
    "def number_tracks(day, city):\n",
    "    # Almacena las filas del DataFrame donde el valor en la columna 'day' es igual al parámetro day=\n",
    "    days = df[df['day'] == day]\n",
    "    # Filtra las filas donde el valor en la columna 'city' es igual al parámetro city=\n",
    "    cities = days[days['city'] == city]\n",
    "    # Extrae la columna 'user_id' de la tabla filtrada y aplica el método count()\n",
    "    user_count = cities['user_id'].count()\n",
    "    # Devolver el número de valores de la columna 'user_id'\n",
    "    return user_count"
   ]
  },
  {
   "cell_type": "markdown",
   "metadata": {
    "id": "ytf7xFrFJQ2r"
   },
   "source": [
    "Llama a `number_tracks()` seis veces, cambiando los valores de los parámetros para que recuperes los datos de ambas ciudades para cada uno de los tres días."
   ]
  },
  {
   "cell_type": "code",
   "execution_count": 24,
   "metadata": {
    "id": "rJcRATNQ_Zcu"
   },
   "outputs": [
    {
     "name": "stdout",
     "output_type": "stream",
     "text": [
      "Number of songs played on Monday in Springfield: 15740\n"
     ]
    }
   ],
   "source": [
    "# El número de canciones reproducidas en Springfield el lunes\n",
    "day = 'Monday'\n",
    "city = 'Springfield'\n",
    "numero_de_canciones = number_tracks(day,city)\n",
    "print(f'Number of songs played on {day} in {city}: {numero_de_canciones}')"
   ]
  },
  {
   "cell_type": "code",
   "execution_count": 25,
   "metadata": {
    "id": "hq_ncZ5T_Zcu"
   },
   "outputs": [
    {
     "name": "stdout",
     "output_type": "stream",
     "text": [
      "Number of songs played on Monday in Shelbyville: 5614\n"
     ]
    }
   ],
   "source": [
    "# El número de canciones reproducidas en Shelbyville el lunes\n",
    "day = 'Monday'\n",
    "city = 'Shelbyville'\n",
    "numero_de_canciones = number_tracks(day,city)\n",
    "print(f'Number of songs played on {day} in {city}: {numero_de_canciones}')"
   ]
  },
  {
   "cell_type": "code",
   "execution_count": 26,
   "metadata": {
    "id": "_NTy2VPU_Zcu"
   },
   "outputs": [
    {
     "name": "stdout",
     "output_type": "stream",
     "text": [
      "Number of songs played on Wednesday in Springfield: 11056\n"
     ]
    }
   ],
   "source": [
    "# El número de canciones reproducidas en Springfield el miércoles\n",
    "day = 'Wednesday'\n",
    "city = 'Springfield'\n",
    "numero_de_canciones = number_tracks(day,city)\n",
    "print(f'Number of songs played on {day} in {city}: {numero_de_canciones}')"
   ]
  },
  {
   "cell_type": "code",
   "execution_count": 27,
   "metadata": {
    "id": "j2y3TAwo_Zcu"
   },
   "outputs": [
    {
     "name": "stdout",
     "output_type": "stream",
     "text": [
      "Number of songs played on Wednesday in Shelbyville: 7003\n"
     ]
    }
   ],
   "source": [
    "# El número de canciones reproducidas en Shelbyville el miércoles\n",
    "day = 'Wednesday'\n",
    "city = 'Shelbyville'\n",
    "numero_de_canciones = number_tracks(day,city)\n",
    "print(f'Number of songs played on {day} in {city}: {numero_de_canciones}')"
   ]
  },
  {
   "cell_type": "code",
   "execution_count": 28,
   "metadata": {
    "id": "vYDw5u_K_Zcu"
   },
   "outputs": [
    {
     "name": "stdout",
     "output_type": "stream",
     "text": [
      "Number of songs played on Friday in Springfield: 15945\n"
     ]
    }
   ],
   "source": [
    "# El número de canciones reproducidas en Springfield el viernes\n",
    "day = 'Friday'\n",
    "city = 'Springfield'\n",
    "numero_de_canciones = number_tracks(day,city)\n",
    "print(f'Number of songs played on {day} in {city}: {numero_de_canciones}')"
   ]
  },
  {
   "cell_type": "code",
   "execution_count": 29,
   "metadata": {
    "id": "8_yzFtW3_Zcu"
   },
   "outputs": [
    {
     "name": "stdout",
     "output_type": "stream",
     "text": [
      "Number of songs played on Friday in Shelbyville: 5895\n"
     ]
    }
   ],
   "source": [
    "# El número de canciones reproducidas en Shelbyville el viernes\n",
    "day = 'Friday'\n",
    "city = 'Shelbyville'\n",
    "numero_de_canciones = number_tracks(day,city)\n",
    "print(f'Number of songs played on {day} in {city}: {numero_de_canciones}')"
   ]
  },
  {
   "cell_type": "markdown",
   "metadata": {
    "id": "-EgPIHYu_Zcu"
   },
   "source": [
    "**Conclusiones**\n",
    "\n",
    "`Comenta si la hipótesis es correcta o se debe rechazar. Explica tu razonamiento.`\n",
    "\n",
    "La hipotesis puede ser aceptada ya que segun el filtrado que se realizo, se puede observar firmemente que el total de canciones escuchadas varia y depende del dia de la semana y la ciudad en la que se escuchan. Por ejemplo las canciones escuchadas el dia viernes en Springfield es mayor a las escuchadas el mismo dia pero en la ciudad de Shelbyville"
   ]
  },
  {
   "cell_type": "markdown",
   "metadata": {
    "id": "p7nFQajCVw5B"
   },
   "source": [
    "[Volver a Contenidos](#back)"
   ]
  },
  {
   "cell_type": "markdown",
   "metadata": {
    "id": "ykKQ0N65_Zcv"
   },
   "source": [
    "# Conclusiones <a id='end'></a>"
   ]
  },
  {
   "cell_type": "markdown",
   "metadata": {
    "id": "tjUwbHb3_Zcv"
   },
   "source": [
    "`Resume aquí tus conclusiones sobre la hipótesis.`\n",
    "\n",
    "En conclusion, la hipotesis planteada puede ser aceptada debido a se cumple lo establecido, es decir, la actividad de los usuarios y usuarias difiere según el dia de la semana y dependiendo de la ciudad en la que se encuentren, los resultados claramente exponen lo comentado anteriormente. Además con la información obtenida tambien se puede resaltar que la ciudad de Springfield es la que presenta mayor número de reproducciones en los 3 dias. Por lo cual si se esta haciendo un estudio para ventas de planes de membresias como spotify, o alguna otra finalidad sera de suma importancia centrarnos en esta ciudad y aplicar las promociones los dias viernes donde es un poco mas notorio el incremento de reproduccion de musica. "
   ]
  },
  {
   "cell_type": "markdown",
   "metadata": {
    "id": "azLHu64yOIp7"
   },
   "source": [
    "### Nota\n",
    "En proyectos de investigación reales, la prueba de hipótesis estadística es más precisa y cuantitativa. También ten en cuenta que no siempre se pueden sacar conclusiones sobre una ciudad entera a partir de datos de una sola fuente.\n",
    "\n",
    "Aprenderás más sobre la prueba de hipótesis en el sprint de análisis estadístico de datos."
   ]
  },
  {
   "cell_type": "markdown",
   "metadata": {
    "id": "Ju4AHDSgV1FE"
   },
   "source": [
    "[Volver a Contenidos](#back)"
   ]
  },
  {
   "cell_type": "markdown",
   "metadata": {},
   "source": [
    "<div class=\"alert alert-block alert-warning\">\n",
    "<b>Comentario general (1ra Iteracion)</b> <a class=“tocSkip”></a>\n",
    "    \n",
    "\n",
    "Hola Hector! Vas por muy buen camino para convertirte en Data Analyst, hiciste un buen uso de la librería pandas y tu manejo de Python es notable ya que pudiste armar muy bien la función para filtrar por ciudad y día.\n",
    "<br>\n",
    "<br>\n",
    "Sin embargo, encontré algunos puntos de mejora que te invito a revisar para completar la presentación de tu proyecto.\n",
    "\n",
    "<br>\n",
    "Saludos! 🦾\n",
    "</div>"
   ]
  }
 ],
 "metadata": {
  "ExecuteTimeLog": [
   {
    "duration": 494,
    "start_time": "2024-06-17T17:53:39.723Z"
   },
   {
    "duration": 196,
    "start_time": "2024-06-17T17:53:42.734Z"
   },
   {
    "duration": 12,
    "start_time": "2024-06-17T17:54:01.137Z"
   },
   {
    "duration": 33,
    "start_time": "2024-06-17T17:55:56.122Z"
   },
   {
    "duration": 4,
    "start_time": "2024-06-17T18:01:54.559Z"
   },
   {
    "duration": 4,
    "start_time": "2024-06-17T18:04:21.123Z"
   },
   {
    "duration": 6,
    "start_time": "2024-06-17T18:05:02.081Z"
   },
   {
    "duration": 344,
    "start_time": "2024-06-17T18:05:25.022Z"
   },
   {
    "duration": 23,
    "start_time": "2024-06-17T18:05:40.307Z"
   },
   {
    "duration": 23,
    "start_time": "2024-06-17T18:06:05.852Z"
   },
   {
    "duration": 23,
    "start_time": "2024-06-17T18:06:56.818Z"
   },
   {
    "duration": 29,
    "start_time": "2024-06-17T18:07:18.736Z"
   },
   {
    "duration": 24,
    "start_time": "2024-06-17T18:09:20.702Z"
   },
   {
    "duration": 5,
    "start_time": "2024-06-17T18:11:41.116Z"
   },
   {
    "duration": 5,
    "start_time": "2024-06-17T18:13:39.746Z"
   },
   {
    "duration": 23,
    "start_time": "2024-06-17T18:16:48.746Z"
   },
   {
    "duration": 6,
    "start_time": "2024-06-17T18:17:02.367Z"
   },
   {
    "duration": 6,
    "start_time": "2024-06-17T18:17:19.890Z"
   },
   {
    "duration": 25,
    "start_time": "2024-06-17T18:17:36.631Z"
   },
   {
    "duration": 5,
    "start_time": "2024-06-17T18:17:43.442Z"
   },
   {
    "duration": 5,
    "start_time": "2024-06-17T18:17:54.171Z"
   },
   {
    "duration": 5,
    "start_time": "2024-06-17T18:20:13.941Z"
   },
   {
    "duration": 6,
    "start_time": "2024-06-17T18:20:33.145Z"
   },
   {
    "duration": 24,
    "start_time": "2024-06-17T18:20:58.076Z"
   },
   {
    "duration": 26,
    "start_time": "2024-06-17T18:21:18.611Z"
   },
   {
    "duration": 25,
    "start_time": "2024-06-17T18:21:39.461Z"
   },
   {
    "duration": 4,
    "start_time": "2024-06-17T18:22:15.818Z"
   },
   {
    "duration": 6,
    "start_time": "2024-06-17T18:22:53.231Z"
   },
   {
    "duration": 4,
    "start_time": "2024-06-17T18:23:13.271Z"
   },
   {
    "duration": 5,
    "start_time": "2024-06-17T18:28:10.118Z"
   },
   {
    "duration": 5,
    "start_time": "2024-06-17T18:28:15.286Z"
   },
   {
    "duration": 5,
    "start_time": "2024-06-17T18:28:17.441Z"
   },
   {
    "duration": 22,
    "start_time": "2024-06-17T18:30:57.246Z"
   },
   {
    "duration": 4,
    "start_time": "2024-06-17T18:31:04.148Z"
   },
   {
    "duration": 4,
    "start_time": "2024-06-17T18:31:38.392Z"
   },
   {
    "duration": 26,
    "start_time": "2024-06-17T18:33:09.551Z"
   },
   {
    "duration": 23,
    "start_time": "2024-06-17T18:33:28.648Z"
   },
   {
    "duration": 36,
    "start_time": "2024-06-17T18:33:51.080Z"
   },
   {
    "duration": 10,
    "start_time": "2024-06-17T18:40:59.662Z"
   },
   {
    "duration": 4,
    "start_time": "2024-06-17T18:41:14.323Z"
   },
   {
    "duration": 6,
    "start_time": "2024-06-17T18:41:26.885Z"
   },
   {
    "duration": 5,
    "start_time": "2024-06-17T18:41:28.878Z"
   },
   {
    "duration": 5,
    "start_time": "2024-06-17T18:41:31.606Z"
   },
   {
    "duration": 4,
    "start_time": "2024-06-17T18:41:34.211Z"
   },
   {
    "duration": 22,
    "start_time": "2024-06-17T18:42:10.346Z"
   },
   {
    "duration": 4,
    "start_time": "2024-06-17T18:42:23.726Z"
   },
   {
    "duration": 15,
    "start_time": "2024-06-17T18:42:57.391Z"
   },
   {
    "duration": 5,
    "start_time": "2024-06-17T18:43:13.273Z"
   },
   {
    "duration": 4,
    "start_time": "2024-06-17T18:43:15.176Z"
   },
   {
    "duration": 16,
    "start_time": "2024-06-17T18:44:28.956Z"
   },
   {
    "duration": 27,
    "start_time": "2024-06-17T18:45:28.468Z"
   },
   {
    "duration": 74,
    "start_time": "2024-06-17T18:46:38.632Z"
   },
   {
    "duration": 17,
    "start_time": "2024-06-17T18:48:09.982Z"
   },
   {
    "duration": 20,
    "start_time": "2024-06-17T18:48:42.298Z"
   },
   {
    "duration": 81,
    "start_time": "2024-06-17T18:48:49.595Z"
   },
   {
    "duration": 83,
    "start_time": "2024-06-17T18:49:13.826Z"
   },
   {
    "duration": 75,
    "start_time": "2024-06-17T18:49:33.536Z"
   },
   {
    "duration": 71,
    "start_time": "2024-06-17T18:49:43.971Z"
   },
   {
    "duration": 12,
    "start_time": "2024-06-17T18:54:27.325Z"
   },
   {
    "duration": 11,
    "start_time": "2024-06-17T18:55:15.200Z"
   },
   {
    "duration": 18,
    "start_time": "2024-06-17T18:55:25.685Z"
   },
   {
    "duration": 12,
    "start_time": "2024-06-17T18:55:44.837Z"
   },
   {
    "duration": 19,
    "start_time": "2024-06-17T18:55:59.566Z"
   },
   {
    "duration": 7,
    "start_time": "2024-06-17T19:00:49.501Z"
   },
   {
    "duration": 6,
    "start_time": "2024-06-17T19:01:10.008Z"
   },
   {
    "duration": 8,
    "start_time": "2024-06-17T19:01:23.362Z"
   },
   {
    "duration": 6,
    "start_time": "2024-06-17T19:01:52.961Z"
   },
   {
    "duration": 4,
    "start_time": "2024-06-17T19:04:04.816Z"
   },
   {
    "duration": 24,
    "start_time": "2024-06-17T19:07:07.701Z"
   },
   {
    "duration": 25,
    "start_time": "2024-06-17T19:07:13.707Z"
   },
   {
    "duration": 4,
    "start_time": "2024-06-17T19:07:25.454Z"
   },
   {
    "duration": 27,
    "start_time": "2024-06-17T19:07:27.657Z"
   },
   {
    "duration": 23,
    "start_time": "2024-06-17T19:08:18.207Z"
   },
   {
    "duration": 4,
    "start_time": "2024-06-17T19:09:41.497Z"
   },
   {
    "duration": 18,
    "start_time": "2024-06-17T19:09:42.971Z"
   },
   {
    "duration": 13,
    "start_time": "2024-06-17T19:10:32.408Z"
   },
   {
    "duration": 76,
    "start_time": "2024-06-17T19:11:10.118Z"
   },
   {
    "duration": 7,
    "start_time": "2024-06-17T19:11:38.827Z"
   },
   {
    "duration": 13,
    "start_time": "2024-06-17T19:11:46.057Z"
   },
   {
    "duration": 4,
    "start_time": "2024-06-17T19:12:00.285Z"
   },
   {
    "duration": 11,
    "start_time": "2024-06-17T19:12:01.962Z"
   },
   {
    "duration": 13,
    "start_time": "2024-06-17T19:12:03.880Z"
   },
   {
    "duration": 11,
    "start_time": "2024-06-17T19:12:40.092Z"
   },
   {
    "duration": 17,
    "start_time": "2024-06-17T19:13:32.406Z"
   },
   {
    "duration": 718,
    "start_time": "2024-06-17T19:29:12.779Z"
   },
   {
    "duration": 82,
    "start_time": "2024-06-17T19:29:30.565Z"
   },
   {
    "duration": 24,
    "start_time": "2024-06-17T19:30:21.584Z"
   },
   {
    "duration": 81,
    "start_time": "2024-06-17T19:30:33.469Z"
   },
   {
    "duration": 80,
    "start_time": "2024-06-17T19:30:35.983Z"
   },
   {
    "duration": 85,
    "start_time": "2024-06-17T19:30:39.668Z"
   },
   {
    "duration": 101,
    "start_time": "2024-06-17T19:30:42.166Z"
   },
   {
    "duration": 94,
    "start_time": "2024-06-17T19:30:46.006Z"
   },
   {
    "duration": 89,
    "start_time": "2024-06-17T19:31:14.309Z"
   },
   {
    "duration": 96,
    "start_time": "2024-06-17T19:31:16.545Z"
   },
   {
    "duration": 96,
    "start_time": "2024-06-17T19:31:21.358Z"
   },
   {
    "duration": 156,
    "start_time": "2024-06-17T19:31:23.228Z"
   },
   {
    "duration": 80,
    "start_time": "2024-06-17T19:31:25.651Z"
   },
   {
    "duration": 80,
    "start_time": "2024-06-17T19:31:37.893Z"
   },
   {
    "duration": 80,
    "start_time": "2024-06-17T19:31:40.722Z"
   },
   {
    "duration": 80,
    "start_time": "2024-06-17T19:32:04.399Z"
   },
   {
    "duration": 22,
    "start_time": "2024-06-17T19:32:38.334Z"
   },
   {
    "duration": 23,
    "start_time": "2024-06-17T19:32:53.035Z"
   },
   {
    "duration": 80,
    "start_time": "2024-06-17T19:36:41.170Z"
   },
   {
    "duration": 80,
    "start_time": "2024-06-17T19:37:05.441Z"
   },
   {
    "duration": 80,
    "start_time": "2024-06-17T19:37:36.684Z"
   },
   {
    "duration": 6,
    "start_time": "2024-06-17T19:47:30.179Z"
   },
   {
    "duration": 8,
    "start_time": "2024-06-17T19:47:34.249Z"
   },
   {
    "duration": 6,
    "start_time": "2024-06-17T19:49:40.505Z"
   },
   {
    "duration": 4,
    "start_time": "2024-06-17T19:49:58.561Z"
   },
   {
    "duration": 9,
    "start_time": "2024-06-17T19:50:02.742Z"
   },
   {
    "duration": 24,
    "start_time": "2024-06-17T19:50:08.228Z"
   },
   {
    "duration": 15,
    "start_time": "2024-06-17T19:50:12.358Z"
   },
   {
    "duration": 24,
    "start_time": "2024-06-17T19:50:14.575Z"
   },
   {
    "duration": 74,
    "start_time": "2024-06-17T19:50:17.463Z"
   },
   {
    "duration": 78,
    "start_time": "2024-06-17T19:50:19.634Z"
   },
   {
    "duration": 74,
    "start_time": "2024-06-17T19:50:21.689Z"
   },
   {
    "duration": 19,
    "start_time": "2024-06-17T19:50:23.750Z"
   },
   {
    "duration": 4,
    "start_time": "2024-06-17T19:50:27.054Z"
   },
   {
    "duration": 10,
    "start_time": "2024-06-17T19:50:29.720Z"
   },
   {
    "duration": 12,
    "start_time": "2024-06-17T19:50:32.089Z"
   },
   {
    "duration": 19,
    "start_time": "2024-06-17T19:50:39.650Z"
   },
   {
    "duration": 15,
    "start_time": "2024-06-17T20:06:48.829Z"
   },
   {
    "duration": 15,
    "start_time": "2024-06-17T20:10:35.159Z"
   },
   {
    "duration": 28,
    "start_time": "2024-06-17T20:12:38.704Z"
   },
   {
    "duration": 15,
    "start_time": "2024-06-17T20:16:39.004Z"
   },
   {
    "duration": 23,
    "start_time": "2024-06-17T20:17:07.021Z"
   },
   {
    "duration": 20,
    "start_time": "2024-06-17T20:17:18.364Z"
   },
   {
    "duration": 6,
    "start_time": "2024-06-17T20:17:55.615Z"
   },
   {
    "duration": 5,
    "start_time": "2024-06-17T20:18:07.852Z"
   },
   {
    "duration": 13,
    "start_time": "2024-06-17T20:18:38.664Z"
   },
   {
    "duration": 32,
    "start_time": "2024-06-17T20:21:01.832Z"
   },
   {
    "duration": 6,
    "start_time": "2024-06-17T20:21:45.790Z"
   },
   {
    "duration": 62,
    "start_time": "2024-06-17T20:21:50.034Z"
   },
   {
    "duration": 67,
    "start_time": "2024-06-17T20:22:08.493Z"
   },
   {
    "duration": 5,
    "start_time": "2024-06-17T20:26:42.269Z"
   },
   {
    "duration": 68,
    "start_time": "2024-06-17T20:26:50.811Z"
   },
   {
    "duration": 75,
    "start_time": "2024-06-17T20:26:55.914Z"
   },
   {
    "duration": 20,
    "start_time": "2024-06-17T20:27:12.824Z"
   },
   {
    "duration": 75,
    "start_time": "2024-06-17T20:28:13.937Z"
   },
   {
    "duration": 4,
    "start_time": "2024-06-17T20:40:17.893Z"
   },
   {
    "duration": 5,
    "start_time": "2024-06-17T20:40:21.518Z"
   },
   {
    "duration": 35,
    "start_time": "2024-06-17T20:41:33.961Z"
   },
   {
    "duration": 23,
    "start_time": "2024-06-17T20:41:59.689Z"
   },
   {
    "duration": 4,
    "start_time": "2024-06-17T20:46:24.815Z"
   },
   {
    "duration": 23,
    "start_time": "2024-06-17T20:50:07.944Z"
   },
   {
    "duration": 41,
    "start_time": "2024-06-17T20:50:19.483Z"
   },
   {
    "duration": 42,
    "start_time": "2024-06-17T20:50:40.079Z"
   },
   {
    "duration": 6,
    "start_time": "2024-06-17T20:50:53.229Z"
   },
   {
    "duration": 44,
    "start_time": "2024-06-17T20:50:55.465Z"
   },
   {
    "duration": 5,
    "start_time": "2024-06-17T20:51:35.601Z"
   },
   {
    "duration": 38,
    "start_time": "2024-06-17T20:51:38.647Z"
   },
   {
    "duration": 5,
    "start_time": "2024-06-17T20:51:44.843Z"
   },
   {
    "duration": 38,
    "start_time": "2024-06-17T20:51:47.653Z"
   },
   {
    "duration": 5,
    "start_time": "2024-06-17T20:57:07.620Z"
   },
   {
    "duration": 38,
    "start_time": "2024-06-17T20:57:50.434Z"
   },
   {
    "duration": 5,
    "start_time": "2024-06-17T20:57:59.695Z"
   },
   {
    "duration": 42,
    "start_time": "2024-06-17T20:58:02.003Z"
   },
   {
    "duration": 10,
    "start_time": "2024-06-17T21:00:35.599Z"
   },
   {
    "duration": 23,
    "start_time": "2024-06-17T21:00:57.154Z"
   },
   {
    "duration": 22,
    "start_time": "2024-06-17T21:01:19.863Z"
   },
   {
    "duration": 20,
    "start_time": "2024-06-17T21:01:51.896Z"
   },
   {
    "duration": 19,
    "start_time": "2024-06-17T21:01:56.849Z"
   },
   {
    "duration": 27,
    "start_time": "2024-06-17T21:02:52.320Z"
   },
   {
    "duration": 37,
    "start_time": "2024-06-17T21:04:04.659Z"
   },
   {
    "duration": 23,
    "start_time": "2024-06-17T21:04:12.812Z"
   },
   {
    "duration": 21,
    "start_time": "2024-06-17T21:05:53.265Z"
   },
   {
    "duration": 22,
    "start_time": "2024-06-17T21:06:08.846Z"
   },
   {
    "duration": 22,
    "start_time": "2024-06-17T21:07:19.704Z"
   },
   {
    "duration": 19,
    "start_time": "2024-06-17T21:08:17.564Z"
   },
   {
    "duration": 20,
    "start_time": "2024-06-17T21:09:19.135Z"
   },
   {
    "duration": 23,
    "start_time": "2024-06-17T21:09:48.054Z"
   },
   {
    "duration": 26,
    "start_time": "2024-06-17T21:10:03.945Z"
   },
   {
    "duration": 22,
    "start_time": "2024-06-17T21:24:21.899Z"
   },
   {
    "duration": 4,
    "start_time": "2024-06-17T21:24:36.615Z"
   },
   {
    "duration": 23,
    "start_time": "2024-06-17T21:24:39.385Z"
   },
   {
    "duration": 10,
    "start_time": "2024-06-17T21:25:07.123Z"
   },
   {
    "duration": 22,
    "start_time": "2024-06-17T21:25:34.530Z"
   },
   {
    "duration": 5,
    "start_time": "2024-06-17T21:26:39.074Z"
   },
   {
    "duration": 438,
    "start_time": "2024-06-18T19:05:09.002Z"
   },
   {
    "duration": 163,
    "start_time": "2024-06-18T19:05:09.443Z"
   },
   {
    "duration": 12,
    "start_time": "2024-06-18T19:05:09.608Z"
   },
   {
    "duration": 32,
    "start_time": "2024-06-18T19:05:09.633Z"
   },
   {
    "duration": 5,
    "start_time": "2024-06-18T19:05:09.668Z"
   },
   {
    "duration": 6,
    "start_time": "2024-06-18T19:05:09.678Z"
   },
   {
    "duration": 45,
    "start_time": "2024-06-18T19:05:09.687Z"
   },
   {
    "duration": 6,
    "start_time": "2024-06-18T19:05:09.736Z"
   },
   {
    "duration": 5,
    "start_time": "2024-06-18T19:05:09.745Z"
   },
   {
    "duration": 25,
    "start_time": "2024-06-18T19:05:09.756Z"
   },
   {
    "duration": 57,
    "start_time": "2024-06-18T19:05:09.783Z"
   },
   {
    "duration": 26,
    "start_time": "2024-06-18T19:05:09.843Z"
   },
   {
    "duration": 96,
    "start_time": "2024-06-18T19:05:09.874Z"
   },
   {
    "duration": 92,
    "start_time": "2024-06-18T19:05:09.973Z"
   },
   {
    "duration": 85,
    "start_time": "2024-06-18T19:05:10.068Z"
   },
   {
    "duration": 91,
    "start_time": "2024-06-18T19:05:10.155Z"
   },
   {
    "duration": 8,
    "start_time": "2024-06-18T19:05:10.249Z"
   },
   {
    "duration": 12,
    "start_time": "2024-06-18T19:05:10.260Z"
   },
   {
    "duration": 13,
    "start_time": "2024-06-18T19:05:10.275Z"
   },
   {
    "duration": 48,
    "start_time": "2024-06-18T19:05:10.291Z"
   },
   {
    "duration": 18,
    "start_time": "2024-06-18T19:05:10.342Z"
   },
   {
    "duration": 6,
    "start_time": "2024-06-18T19:05:10.364Z"
   },
   {
    "duration": 61,
    "start_time": "2024-06-18T19:05:10.374Z"
   },
   {
    "duration": 20,
    "start_time": "2024-06-18T19:05:10.438Z"
   },
   {
    "duration": 21,
    "start_time": "2024-06-18T19:05:10.460Z"
   },
   {
    "duration": 51,
    "start_time": "2024-06-18T19:05:10.483Z"
   },
   {
    "duration": 22,
    "start_time": "2024-06-18T19:05:10.537Z"
   },
   {
    "duration": 21,
    "start_time": "2024-06-18T19:05:10.564Z"
   },
   {
    "duration": 14,
    "start_time": "2024-06-18T19:08:32.362Z"
   },
   {
    "duration": 10,
    "start_time": "2024-06-18T21:58:55.474Z"
   },
   {
    "duration": 313,
    "start_time": "2024-06-18T21:59:00.298Z"
   },
   {
    "duration": 330,
    "start_time": "2024-06-19T02:54:03.504Z"
   },
   {
    "duration": 383,
    "start_time": "2024-06-19T02:54:10.289Z"
   },
   {
    "duration": 202,
    "start_time": "2024-06-19T02:54:11.913Z"
   },
   {
    "duration": 24,
    "start_time": "2024-06-19T02:54:14.259Z"
   },
   {
    "duration": 195,
    "start_time": "2024-06-19T02:54:46.605Z"
   },
   {
    "duration": 5,
    "start_time": "2024-06-19T02:55:13.359Z"
   },
   {
    "duration": 6,
    "start_time": "2024-06-19T02:55:16.435Z"
   },
   {
    "duration": 4,
    "start_time": "2024-06-19T02:55:18.993Z"
   },
   {
    "duration": 5,
    "start_time": "2024-06-19T02:55:21.204Z"
   },
   {
    "duration": 9,
    "start_time": "2024-06-19T02:55:24.727Z"
   },
   {
    "duration": 30,
    "start_time": "2024-06-19T02:55:28.740Z"
   },
   {
    "duration": 15,
    "start_time": "2024-06-19T02:55:32.989Z"
   },
   {
    "duration": 32,
    "start_time": "2024-06-19T02:55:38.247Z"
   },
   {
    "duration": 81,
    "start_time": "2024-06-19T02:55:41.453Z"
   },
   {
    "duration": 84,
    "start_time": "2024-06-19T02:55:44.119Z"
   },
   {
    "duration": 71,
    "start_time": "2024-06-19T02:55:46.324Z"
   },
   {
    "duration": 73,
    "start_time": "2024-06-19T02:55:54.141Z"
   },
   {
    "duration": 5,
    "start_time": "2024-06-19T02:56:03.204Z"
   },
   {
    "duration": 12,
    "start_time": "2024-06-19T02:56:06.645Z"
   },
   {
    "duration": 12,
    "start_time": "2024-06-19T02:56:08.984Z"
   },
   {
    "duration": 20,
    "start_time": "2024-06-19T02:56:18.244Z"
   },
   {
    "duration": 28,
    "start_time": "2024-06-19T02:56:20.630Z"
   },
   {
    "duration": 18,
    "start_time": "2024-06-19T02:56:30.223Z"
   },
   {
    "duration": 31,
    "start_time": "2024-06-19T02:56:34.687Z"
   },
   {
    "duration": 21,
    "start_time": "2024-06-19T02:56:45.131Z"
   },
   {
    "duration": 20,
    "start_time": "2024-06-19T02:56:49.356Z"
   },
   {
    "duration": 18,
    "start_time": "2024-06-19T02:56:51.883Z"
   },
   {
    "duration": 21,
    "start_time": "2024-06-19T02:56:54.883Z"
   },
   {
    "duration": 21,
    "start_time": "2024-06-19T02:56:57.793Z"
   },
   {
    "duration": 22,
    "start_time": "2024-06-19T02:59:15.286Z"
   },
   {
    "duration": 20,
    "start_time": "2024-06-19T02:59:20.010Z"
   },
   {
    "duration": 22,
    "start_time": "2024-06-19T02:59:22.402Z"
   },
   {
    "duration": 21,
    "start_time": "2024-06-19T02:59:38.025Z"
   },
   {
    "duration": 19,
    "start_time": "2024-06-19T02:59:44.029Z"
   },
   {
    "duration": 23,
    "start_time": "2024-06-19T02:59:50.289Z"
   },
   {
    "duration": 18,
    "start_time": "2024-06-19T02:59:56.630Z"
   },
   {
    "duration": 22,
    "start_time": "2024-06-19T03:00:06.240Z"
   },
   {
    "duration": 31,
    "start_time": "2024-06-19T03:00:11.124Z"
   },
   {
    "duration": 488,
    "start_time": "2024-06-20T00:01:03.597Z"
   },
   {
    "duration": 159,
    "start_time": "2024-06-20T00:01:04.089Z"
   },
   {
    "duration": 22,
    "start_time": "2024-06-20T00:01:04.251Z"
   },
   {
    "duration": 176,
    "start_time": "2024-06-20T00:01:04.275Z"
   },
   {
    "duration": 5,
    "start_time": "2024-06-20T00:01:04.456Z"
   },
   {
    "duration": 6,
    "start_time": "2024-06-20T00:01:04.464Z"
   },
   {
    "duration": 33,
    "start_time": "2024-06-20T00:01:04.473Z"
   },
   {
    "duration": 5,
    "start_time": "2024-06-20T00:01:04.509Z"
   },
   {
    "duration": 5,
    "start_time": "2024-06-20T00:01:04.517Z"
   },
   {
    "duration": 26,
    "start_time": "2024-06-20T00:01:04.525Z"
   },
   {
    "duration": 58,
    "start_time": "2024-06-20T00:01:04.554Z"
   },
   {
    "duration": 25,
    "start_time": "2024-06-20T00:01:04.615Z"
   },
   {
    "duration": 100,
    "start_time": "2024-06-20T00:01:04.643Z"
   },
   {
    "duration": 85,
    "start_time": "2024-06-20T00:01:04.749Z"
   },
   {
    "duration": 81,
    "start_time": "2024-06-20T00:01:04.837Z"
   },
   {
    "duration": 91,
    "start_time": "2024-06-20T00:01:04.921Z"
   },
   {
    "duration": 6,
    "start_time": "2024-06-20T00:01:05.015Z"
   },
   {
    "duration": 14,
    "start_time": "2024-06-20T00:01:05.025Z"
   },
   {
    "duration": 13,
    "start_time": "2024-06-20T00:01:05.042Z"
   },
   {
    "duration": 53,
    "start_time": "2024-06-20T00:01:05.058Z"
   },
   {
    "duration": 15,
    "start_time": "2024-06-20T00:01:05.114Z"
   },
   {
    "duration": 15,
    "start_time": "2024-06-20T00:01:05.132Z"
   },
   {
    "duration": 5,
    "start_time": "2024-06-20T00:01:05.150Z"
   },
   {
    "duration": 61,
    "start_time": "2024-06-20T00:01:05.158Z"
   },
   {
    "duration": 19,
    "start_time": "2024-06-20T00:01:05.222Z"
   },
   {
    "duration": 19,
    "start_time": "2024-06-20T00:01:05.244Z"
   },
   {
    "duration": 51,
    "start_time": "2024-06-20T00:01:05.266Z"
   },
   {
    "duration": 21,
    "start_time": "2024-06-20T00:01:05.320Z"
   },
   {
    "duration": 19,
    "start_time": "2024-06-20T00:01:05.344Z"
   }
  ],
  "colab": {
   "collapsed_sections": [
    "E0vqbgi9ay0H",
    "VUC88oWjTJw2"
   ],
   "provenance": []
  },
  "kernelspec": {
   "display_name": "Python 3 (ipykernel)",
   "language": "python",
   "name": "python3"
  },
  "language_info": {
   "codemirror_mode": {
    "name": "ipython",
    "version": 3
   },
   "file_extension": ".py",
   "mimetype": "text/x-python",
   "name": "python",
   "nbconvert_exporter": "python",
   "pygments_lexer": "ipython3",
   "version": "3.9.19"
  },
  "toc": {
   "base_numbering": 1,
   "nav_menu": {},
   "number_sections": true,
   "sideBar": true,
   "skip_h1_title": true,
   "title_cell": "Table of Contents",
   "title_sidebar": "Contents",
   "toc_cell": false,
   "toc_position": {},
   "toc_section_display": true,
   "toc_window_display": false
  }
 },
 "nbformat": 4,
 "nbformat_minor": 1
}
