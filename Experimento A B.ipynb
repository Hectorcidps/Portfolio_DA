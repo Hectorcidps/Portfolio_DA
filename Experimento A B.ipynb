{
 "cells": [
  {
   "cell_type": "markdown",
   "metadata": {},
   "source": [
    "# Descripción del proyecto\n",
    "\n",
    "Eres analista en una gran tienda online. Junto con el departamento de marketing has recopilado una lista de hipótesis que pueden ayudar a aumentar los ingresos.\n",
    "\n",
    "Tienes que priorizar estas hipótesis, lanzar un test A/B y analizar los resultados."
   ]
  },
  {
   "cell_type": "markdown",
   "metadata": {},
   "source": [
    "## Diccionario de datos \n",
    "\n",
    "- 1. DataSet 1 Hipótesis: \n",
    "\n",
    "* Hypotheses: breves descripciones de las hipótesis.\n",
    "* Reach: alcance del usuario, en una escala del uno a diez.\n",
    "* Impact: impacto en los usuarios, en una escala del uno al diez.\n",
    "* Confidence: confianza en la hipótesis, en una escala del uno al diez.\n",
    "* Effort: los recursos necesarios para probar una hipótesis, en una escala del uno al diez. Cuanto mayor sea el valor Effort, más recursos requiere la prueba.\n",
    "\n",
    "\n",
    "- 2. DataSet 2 Pedidos:\n",
    "\n",
    "* transactionId: identificador de pedido.\n",
    "* visitorId: identificador del usuario que realizó el pedido.\n",
    "* date: fecha del pedido.\n",
    "* revenue: ingresos del pedido.\n",
    "* group: el grupo del test A/B al que pertenece el usuario.\n",
    "\n",
    "\n",
    "- 3. DataSet 3 Visitas:\n",
    "\n",
    "* date: la fecha.\n",
    "* group: grupo de la prueba A/B.\n",
    "* visits: el número de visitas en la fecha especificada en el grupo de pruebas A/B especificado."
   ]
  },
  {
   "cell_type": "markdown",
   "metadata": {},
   "source": [
    "## Leer los datasets"
   ]
  },
  {
   "cell_type": "code",
   "execution_count": 1,
   "metadata": {},
   "outputs": [],
   "source": [
    "# importar librerias \n",
    "import pandas as pd \n",
    "import numpy as np \n",
    "import scipy.stats as stats\n",
    "import datetime as dt \n",
    "import matplotlib.pyplot as plt "
   ]
  },
  {
   "cell_type": "code",
   "execution_count": 2,
   "metadata": {},
   "outputs": [],
   "source": [
    "hipotesis = pd.read_csv('/datasets/hypotheses_us.csv', sep=';')\n",
    "orders = pd.read_csv('/datasets/orders_us.csv')\n",
    "visits = pd.read_csv('/datasets/visits_us.csv')"
   ]
  },
  {
   "cell_type": "markdown",
   "metadata": {},
   "source": [
    "## Pre-procesar los datos "
   ]
  },
  {
   "cell_type": "markdown",
   "metadata": {},
   "source": [
    "### DataSet Hipotesis"
   ]
  },
  {
   "cell_type": "code",
   "execution_count": 3,
   "metadata": {},
   "outputs": [],
   "source": [
    "# declarar funcion para obtener informacion de los DF\n",
    "def leer_data(data):\n",
    "    print(data.head())\n",
    "    data.info()\n",
    "    print(data.describe())"
   ]
  },
  {
   "cell_type": "code",
   "execution_count": 4,
   "metadata": {},
   "outputs": [
    {
     "name": "stdout",
     "output_type": "stream",
     "text": [
      "                                          Hypothesis  Reach  Impact  \\\n",
      "0  Add two new channels for attracting traffic. T...      3      10   \n",
      "1  Launch your own delivery service. This will sh...      2       5   \n",
      "2  Add product recommendation blocks to the store...      8       3   \n",
      "3  Change the category structure. This will incre...      8       3   \n",
      "4  Change the background color on the main page. ...      3       1   \n",
      "\n",
      "   Confidence  Effort  \n",
      "0           8       6  \n",
      "1           4      10  \n",
      "2           7       3  \n",
      "3           3       8  \n",
      "4           1       1  \n",
      "<class 'pandas.core.frame.DataFrame'>\n",
      "RangeIndex: 9 entries, 0 to 8\n",
      "Data columns (total 5 columns):\n",
      " #   Column      Non-Null Count  Dtype \n",
      "---  ------      --------------  ----- \n",
      " 0   Hypothesis  9 non-null      object\n",
      " 1   Reach       9 non-null      int64 \n",
      " 2   Impact      9 non-null      int64 \n",
      " 3   Confidence  9 non-null      int64 \n",
      " 4   Effort      9 non-null      int64 \n",
      "dtypes: int64(4), object(1)\n",
      "memory usage: 488.0+ bytes\n",
      "           Reach     Impact  Confidence     Effort\n",
      "count   9.000000   9.000000    9.000000   9.000000\n",
      "mean    4.777778   4.777778    5.555556   4.888889\n",
      "std     3.153481   3.192874    3.045944   2.803767\n",
      "min     1.000000   1.000000    1.000000   1.000000\n",
      "25%     3.000000   3.000000    3.000000   3.000000\n",
      "50%     3.000000   3.000000    7.000000   5.000000\n",
      "75%     8.000000   7.000000    8.000000   6.000000\n",
      "max    10.000000  10.000000    9.000000  10.000000\n"
     ]
    }
   ],
   "source": [
    "leer_data(hipotesis)"
   ]
  },
  {
   "cell_type": "code",
   "execution_count": 5,
   "metadata": {},
   "outputs": [],
   "source": [
    "# declarar funcion pala \n",
    "def limpiar_datos(data):\n",
    "    new_columns = []\n",
    "    for columna in data.columns:\n",
    "        columna_limpia = columna.lower()\n",
    "        new_columns.append(columna_limpia)\n",
    "    data.columns = new_columns\n",
    "\n",
    "    return data.head()"
   ]
  },
  {
   "cell_type": "code",
   "execution_count": 6,
   "metadata": {},
   "outputs": [
    {
     "data": {
      "text/html": [
       "<div>\n",
       "<style scoped>\n",
       "    .dataframe tbody tr th:only-of-type {\n",
       "        vertical-align: middle;\n",
       "    }\n",
       "\n",
       "    .dataframe tbody tr th {\n",
       "        vertical-align: top;\n",
       "    }\n",
       "\n",
       "    .dataframe thead th {\n",
       "        text-align: right;\n",
       "    }\n",
       "</style>\n",
       "<table border=\"1\" class=\"dataframe\">\n",
       "  <thead>\n",
       "    <tr style=\"text-align: right;\">\n",
       "      <th></th>\n",
       "      <th>hypothesis</th>\n",
       "      <th>reach</th>\n",
       "      <th>impact</th>\n",
       "      <th>confidence</th>\n",
       "      <th>effort</th>\n",
       "    </tr>\n",
       "  </thead>\n",
       "  <tbody>\n",
       "    <tr>\n",
       "      <th>0</th>\n",
       "      <td>Add two new channels for attracting traffic. T...</td>\n",
       "      <td>3</td>\n",
       "      <td>10</td>\n",
       "      <td>8</td>\n",
       "      <td>6</td>\n",
       "    </tr>\n",
       "    <tr>\n",
       "      <th>1</th>\n",
       "      <td>Launch your own delivery service. This will sh...</td>\n",
       "      <td>2</td>\n",
       "      <td>5</td>\n",
       "      <td>4</td>\n",
       "      <td>10</td>\n",
       "    </tr>\n",
       "    <tr>\n",
       "      <th>2</th>\n",
       "      <td>Add product recommendation blocks to the store...</td>\n",
       "      <td>8</td>\n",
       "      <td>3</td>\n",
       "      <td>7</td>\n",
       "      <td>3</td>\n",
       "    </tr>\n",
       "    <tr>\n",
       "      <th>3</th>\n",
       "      <td>Change the category structure. This will incre...</td>\n",
       "      <td>8</td>\n",
       "      <td>3</td>\n",
       "      <td>3</td>\n",
       "      <td>8</td>\n",
       "    </tr>\n",
       "    <tr>\n",
       "      <th>4</th>\n",
       "      <td>Change the background color on the main page. ...</td>\n",
       "      <td>3</td>\n",
       "      <td>1</td>\n",
       "      <td>1</td>\n",
       "      <td>1</td>\n",
       "    </tr>\n",
       "  </tbody>\n",
       "</table>\n",
       "</div>"
      ],
      "text/plain": [
       "                                          hypothesis  reach  impact  \\\n",
       "0  Add two new channels for attracting traffic. T...      3      10   \n",
       "1  Launch your own delivery service. This will sh...      2       5   \n",
       "2  Add product recommendation blocks to the store...      8       3   \n",
       "3  Change the category structure. This will incre...      8       3   \n",
       "4  Change the background color on the main page. ...      3       1   \n",
       "\n",
       "   confidence  effort  \n",
       "0           8       6  \n",
       "1           4      10  \n",
       "2           7       3  \n",
       "3           3       8  \n",
       "4           1       1  "
      ]
     },
     "execution_count": 6,
     "metadata": {},
     "output_type": "execute_result"
    }
   ],
   "source": [
    "limpiar_datos(hipotesis)"
   ]
  },
  {
   "cell_type": "code",
   "execution_count": 7,
   "metadata": {},
   "outputs": [],
   "source": [
    "# funcion para obtener duplicados y ausentes \n",
    "def valores_df(data):\n",
    "    valores_duplicados = data.duplicated().sum()\n",
    "    valores_ausentes = data.isna().sum()\n",
    "    print(f'Los valores duplicados del DF son: {valores_duplicados}')\n",
    "    print(f'Los valores ausentes del DF son: {valores_ausentes}')"
   ]
  },
  {
   "cell_type": "code",
   "execution_count": 8,
   "metadata": {},
   "outputs": [
    {
     "name": "stdout",
     "output_type": "stream",
     "text": [
      "Los valores duplicados del DF son: 0\n",
      "Los valores ausentes del DF son: hypothesis    0\n",
      "reach         0\n",
      "impact        0\n",
      "confidence    0\n",
      "effort        0\n",
      "dtype: int64\n"
     ]
    }
   ],
   "source": [
    "valores_df(hipotesis)"
   ]
  },
  {
   "cell_type": "markdown",
   "metadata": {},
   "source": [
    "### DataSet Pedidos"
   ]
  },
  {
   "cell_type": "code",
   "execution_count": 9,
   "metadata": {},
   "outputs": [
    {
     "name": "stdout",
     "output_type": "stream",
     "text": [
      "   transactionId   visitorId        date  revenue group\n",
      "0     3667963787  3312258926  2019-08-15     30.4     B\n",
      "1     2804400009  3642806036  2019-08-15     15.2     B\n",
      "2     2961555356  4069496402  2019-08-15     10.2     A\n",
      "3     3797467345  1196621759  2019-08-15    155.1     B\n",
      "4     2282983706  2322279887  2019-08-15     40.5     B\n",
      "<class 'pandas.core.frame.DataFrame'>\n",
      "RangeIndex: 1197 entries, 0 to 1196\n",
      "Data columns (total 5 columns):\n",
      " #   Column         Non-Null Count  Dtype  \n",
      "---  ------         --------------  -----  \n",
      " 0   transactionId  1197 non-null   int64  \n",
      " 1   visitorId      1197 non-null   int64  \n",
      " 2   date           1197 non-null   object \n",
      " 3   revenue        1197 non-null   float64\n",
      " 4   group          1197 non-null   object \n",
      "dtypes: float64(1), int64(2), object(2)\n",
      "memory usage: 46.9+ KB\n",
      "       transactionId     visitorId       revenue\n",
      "count   1.197000e+03  1.197000e+03   1197.000000\n",
      "mean    2.155621e+09  2.165960e+09    131.491646\n",
      "std     1.229085e+09  1.236014e+09    603.004729\n",
      "min     1.062393e+06  5.114589e+06      5.000000\n",
      "25%     1.166776e+09  1.111826e+09     20.800000\n",
      "50%     2.145194e+09  2.217985e+09     50.200000\n",
      "75%     3.237740e+09  3.177606e+09    130.400000\n",
      "max     4.293856e+09  4.283872e+09  19920.400000\n"
     ]
    }
   ],
   "source": [
    "leer_data(orders)"
   ]
  },
  {
   "cell_type": "code",
   "execution_count": 10,
   "metadata": {},
   "outputs": [
    {
     "name": "stdout",
     "output_type": "stream",
     "text": [
      "Los valores duplicados del DF son: 0\n",
      "Los valores ausentes del DF son: transactionId    0\n",
      "visitorId        0\n",
      "date             0\n",
      "revenue          0\n",
      "group            0\n",
      "dtype: int64\n"
     ]
    }
   ],
   "source": [
    "valores_df(orders)"
   ]
  },
  {
   "cell_type": "code",
   "execution_count": 11,
   "metadata": {},
   "outputs": [],
   "source": [
    "# convertir los datos de la columna date a a date\n",
    "orders['date'] = orders['date'].map(lambda x : dt.datetime.strptime(x, '%Y-%m-%d'))"
   ]
  },
  {
   "cell_type": "code",
   "execution_count": 12,
   "metadata": {},
   "outputs": [
    {
     "name": "stdout",
     "output_type": "stream",
     "text": [
      "<class 'pandas.core.frame.DataFrame'>\n",
      "RangeIndex: 1197 entries, 0 to 1196\n",
      "Data columns (total 5 columns):\n",
      " #   Column         Non-Null Count  Dtype         \n",
      "---  ------         --------------  -----         \n",
      " 0   transactionId  1197 non-null   int64         \n",
      " 1   visitorId      1197 non-null   int64         \n",
      " 2   date           1197 non-null   datetime64[ns]\n",
      " 3   revenue        1197 non-null   float64       \n",
      " 4   group          1197 non-null   object        \n",
      "dtypes: datetime64[ns](1), float64(1), int64(2), object(1)\n",
      "memory usage: 46.9+ KB\n"
     ]
    }
   ],
   "source": [
    "orders.info()"
   ]
  },
  {
   "cell_type": "markdown",
   "metadata": {},
   "source": [
    "### DataSet Visitas "
   ]
  },
  {
   "cell_type": "code",
   "execution_count": 13,
   "metadata": {},
   "outputs": [
    {
     "name": "stdout",
     "output_type": "stream",
     "text": [
      "         date group  visits\n",
      "0  2019-08-01     A     719\n",
      "1  2019-08-02     A     619\n",
      "2  2019-08-03     A     507\n",
      "3  2019-08-04     A     717\n",
      "4  2019-08-05     A     756\n",
      "<class 'pandas.core.frame.DataFrame'>\n",
      "RangeIndex: 62 entries, 0 to 61\n",
      "Data columns (total 3 columns):\n",
      " #   Column  Non-Null Count  Dtype \n",
      "---  ------  --------------  ----- \n",
      " 0   date    62 non-null     object\n",
      " 1   group   62 non-null     object\n",
      " 2   visits  62 non-null     int64 \n",
      "dtypes: int64(1), object(2)\n",
      "memory usage: 1.6+ KB\n",
      "           visits\n",
      "count   62.000000\n",
      "mean   607.290323\n",
      "std    114.400560\n",
      "min    361.000000\n",
      "25%    534.000000\n",
      "50%    624.500000\n",
      "75%    710.500000\n",
      "max    770.000000\n"
     ]
    }
   ],
   "source": [
    "leer_data(visits)"
   ]
  },
  {
   "cell_type": "code",
   "execution_count": 14,
   "metadata": {},
   "outputs": [
    {
     "name": "stdout",
     "output_type": "stream",
     "text": [
      "Los valores duplicados del DF son: 0\n",
      "Los valores ausentes del DF son: date      0\n",
      "group     0\n",
      "visits    0\n",
      "dtype: int64\n"
     ]
    }
   ],
   "source": [
    "valores_df(visits)"
   ]
  },
  {
   "cell_type": "code",
   "execution_count": 15,
   "metadata": {
    "scrolled": true
   },
   "outputs": [
    {
     "name": "stdout",
     "output_type": "stream",
     "text": [
      "<class 'pandas.core.frame.DataFrame'>\n",
      "RangeIndex: 62 entries, 0 to 61\n",
      "Data columns (total 3 columns):\n",
      " #   Column  Non-Null Count  Dtype         \n",
      "---  ------  --------------  -----         \n",
      " 0   date    62 non-null     datetime64[ns]\n",
      " 1   group   62 non-null     object        \n",
      " 2   visits  62 non-null     int64         \n",
      "dtypes: datetime64[ns](1), int64(1), object(1)\n",
      "memory usage: 1.6+ KB\n"
     ]
    }
   ],
   "source": [
    "# cambiar el tipo de dato de la columna date\n",
    "visits['date'] = visits['date'].map(lambda x: dt.datetime.strptime(x, '%Y-%m-%d'))\n",
    "visits.info()"
   ]
  },
  {
   "cell_type": "markdown",
   "metadata": {},
   "source": [
    "<span style=\"color:blue; font-weight:bold\">\n",
    "En el pre procesamiento de datos, no se encontraron errores mayores, lo unico que se realizo fue convertir las mayusculas en minusculas en el DF Hipotesis, en el DF Orders se cambio el tipo de dato de la columna 'date' a datetime misma situacion para el DF Visits. En cuanto a valores duplicados o ausentes no se encontro ninguno en algun dataSet\n",
    "\n",
    "</span>"
   ]
  },
  {
   "cell_type": "markdown",
   "metadata": {},
   "source": [
    "## Priorizar hipótesis "
   ]
  },
  {
   "cell_type": "code",
   "execution_count": 16,
   "metadata": {},
   "outputs": [],
   "source": [
    "# Framework ICE \n",
    "hipotesis['ICE'] = (hipotesis['impact'] * hipotesis['confidence']) / hipotesis['effort']"
   ]
  },
  {
   "cell_type": "code",
   "execution_count": 17,
   "metadata": {},
   "outputs": [
    {
     "data": {
      "text/html": [
       "<div>\n",
       "<style scoped>\n",
       "    .dataframe tbody tr th:only-of-type {\n",
       "        vertical-align: middle;\n",
       "    }\n",
       "\n",
       "    .dataframe tbody tr th {\n",
       "        vertical-align: top;\n",
       "    }\n",
       "\n",
       "    .dataframe thead th {\n",
       "        text-align: right;\n",
       "    }\n",
       "</style>\n",
       "<table border=\"1\" class=\"dataframe\">\n",
       "  <thead>\n",
       "    <tr style=\"text-align: right;\">\n",
       "      <th></th>\n",
       "      <th>hypothesis</th>\n",
       "      <th>reach</th>\n",
       "      <th>impact</th>\n",
       "      <th>confidence</th>\n",
       "      <th>effort</th>\n",
       "      <th>ICE</th>\n",
       "    </tr>\n",
       "  </thead>\n",
       "  <tbody>\n",
       "    <tr>\n",
       "      <th>8</th>\n",
       "      <td>Launch a promotion that gives users discounts ...</td>\n",
       "      <td>1</td>\n",
       "      <td>9</td>\n",
       "      <td>9</td>\n",
       "      <td>5</td>\n",
       "      <td>16.200000</td>\n",
       "    </tr>\n",
       "    <tr>\n",
       "      <th>0</th>\n",
       "      <td>Add two new channels for attracting traffic. T...</td>\n",
       "      <td>3</td>\n",
       "      <td>10</td>\n",
       "      <td>8</td>\n",
       "      <td>6</td>\n",
       "      <td>13.333333</td>\n",
       "    </tr>\n",
       "    <tr>\n",
       "      <th>7</th>\n",
       "      <td>Add a subscription form to all the main pages....</td>\n",
       "      <td>10</td>\n",
       "      <td>7</td>\n",
       "      <td>8</td>\n",
       "      <td>5</td>\n",
       "      <td>11.200000</td>\n",
       "    </tr>\n",
       "    <tr>\n",
       "      <th>6</th>\n",
       "      <td>Show banners with current offers and sales on ...</td>\n",
       "      <td>5</td>\n",
       "      <td>3</td>\n",
       "      <td>8</td>\n",
       "      <td>3</td>\n",
       "      <td>8.000000</td>\n",
       "    </tr>\n",
       "    <tr>\n",
       "      <th>2</th>\n",
       "      <td>Add product recommendation blocks to the store...</td>\n",
       "      <td>8</td>\n",
       "      <td>3</td>\n",
       "      <td>7</td>\n",
       "      <td>3</td>\n",
       "      <td>7.000000</td>\n",
       "    </tr>\n",
       "    <tr>\n",
       "      <th>1</th>\n",
       "      <td>Launch your own delivery service. This will sh...</td>\n",
       "      <td>2</td>\n",
       "      <td>5</td>\n",
       "      <td>4</td>\n",
       "      <td>10</td>\n",
       "      <td>2.000000</td>\n",
       "    </tr>\n",
       "    <tr>\n",
       "      <th>5</th>\n",
       "      <td>Add a customer review page. This will increase...</td>\n",
       "      <td>3</td>\n",
       "      <td>2</td>\n",
       "      <td>2</td>\n",
       "      <td>3</td>\n",
       "      <td>1.333333</td>\n",
       "    </tr>\n",
       "    <tr>\n",
       "      <th>3</th>\n",
       "      <td>Change the category structure. This will incre...</td>\n",
       "      <td>8</td>\n",
       "      <td>3</td>\n",
       "      <td>3</td>\n",
       "      <td>8</td>\n",
       "      <td>1.125000</td>\n",
       "    </tr>\n",
       "    <tr>\n",
       "      <th>4</th>\n",
       "      <td>Change the background color on the main page. ...</td>\n",
       "      <td>3</td>\n",
       "      <td>1</td>\n",
       "      <td>1</td>\n",
       "      <td>1</td>\n",
       "      <td>1.000000</td>\n",
       "    </tr>\n",
       "  </tbody>\n",
       "</table>\n",
       "</div>"
      ],
      "text/plain": [
       "                                          hypothesis  reach  impact  \\\n",
       "8  Launch a promotion that gives users discounts ...      1       9   \n",
       "0  Add two new channels for attracting traffic. T...      3      10   \n",
       "7  Add a subscription form to all the main pages....     10       7   \n",
       "6  Show banners with current offers and sales on ...      5       3   \n",
       "2  Add product recommendation blocks to the store...      8       3   \n",
       "1  Launch your own delivery service. This will sh...      2       5   \n",
       "5  Add a customer review page. This will increase...      3       2   \n",
       "3  Change the category structure. This will incre...      8       3   \n",
       "4  Change the background color on the main page. ...      3       1   \n",
       "\n",
       "   confidence  effort        ICE  \n",
       "8           9       5  16.200000  \n",
       "0           8       6  13.333333  \n",
       "7           8       5  11.200000  \n",
       "6           8       3   8.000000  \n",
       "2           7       3   7.000000  \n",
       "1           4      10   2.000000  \n",
       "5           2       3   1.333333  \n",
       "3           3       8   1.125000  \n",
       "4           1       1   1.000000  "
      ]
     },
     "execution_count": 17,
     "metadata": {},
     "output_type": "execute_result"
    }
   ],
   "source": [
    "hipotesis.sort_values(by='ICE', ascending=False)  "
   ]
  },
  {
   "cell_type": "code",
   "execution_count": 18,
   "metadata": {},
   "outputs": [],
   "source": [
    "# Framework RICE \n",
    "hipotesis['RICE'] = (hipotesis['reach'] * hipotesis['impact'] * hipotesis['confidence']) / hipotesis['effort']"
   ]
  },
  {
   "cell_type": "code",
   "execution_count": 19,
   "metadata": {},
   "outputs": [
    {
     "data": {
      "text/html": [
       "<div>\n",
       "<style scoped>\n",
       "    .dataframe tbody tr th:only-of-type {\n",
       "        vertical-align: middle;\n",
       "    }\n",
       "\n",
       "    .dataframe tbody tr th {\n",
       "        vertical-align: top;\n",
       "    }\n",
       "\n",
       "    .dataframe thead th {\n",
       "        text-align: right;\n",
       "    }\n",
       "</style>\n",
       "<table border=\"1\" class=\"dataframe\">\n",
       "  <thead>\n",
       "    <tr style=\"text-align: right;\">\n",
       "      <th></th>\n",
       "      <th>hypothesis</th>\n",
       "      <th>reach</th>\n",
       "      <th>impact</th>\n",
       "      <th>confidence</th>\n",
       "      <th>effort</th>\n",
       "      <th>ICE</th>\n",
       "      <th>RICE</th>\n",
       "    </tr>\n",
       "  </thead>\n",
       "  <tbody>\n",
       "    <tr>\n",
       "      <th>7</th>\n",
       "      <td>Add a subscription form to all the main pages....</td>\n",
       "      <td>10</td>\n",
       "      <td>7</td>\n",
       "      <td>8</td>\n",
       "      <td>5</td>\n",
       "      <td>11.200000</td>\n",
       "      <td>112.0</td>\n",
       "    </tr>\n",
       "    <tr>\n",
       "      <th>2</th>\n",
       "      <td>Add product recommendation blocks to the store...</td>\n",
       "      <td>8</td>\n",
       "      <td>3</td>\n",
       "      <td>7</td>\n",
       "      <td>3</td>\n",
       "      <td>7.000000</td>\n",
       "      <td>56.0</td>\n",
       "    </tr>\n",
       "    <tr>\n",
       "      <th>0</th>\n",
       "      <td>Add two new channels for attracting traffic. T...</td>\n",
       "      <td>3</td>\n",
       "      <td>10</td>\n",
       "      <td>8</td>\n",
       "      <td>6</td>\n",
       "      <td>13.333333</td>\n",
       "      <td>40.0</td>\n",
       "    </tr>\n",
       "    <tr>\n",
       "      <th>6</th>\n",
       "      <td>Show banners with current offers and sales on ...</td>\n",
       "      <td>5</td>\n",
       "      <td>3</td>\n",
       "      <td>8</td>\n",
       "      <td>3</td>\n",
       "      <td>8.000000</td>\n",
       "      <td>40.0</td>\n",
       "    </tr>\n",
       "    <tr>\n",
       "      <th>8</th>\n",
       "      <td>Launch a promotion that gives users discounts ...</td>\n",
       "      <td>1</td>\n",
       "      <td>9</td>\n",
       "      <td>9</td>\n",
       "      <td>5</td>\n",
       "      <td>16.200000</td>\n",
       "      <td>16.2</td>\n",
       "    </tr>\n",
       "    <tr>\n",
       "      <th>3</th>\n",
       "      <td>Change the category structure. This will incre...</td>\n",
       "      <td>8</td>\n",
       "      <td>3</td>\n",
       "      <td>3</td>\n",
       "      <td>8</td>\n",
       "      <td>1.125000</td>\n",
       "      <td>9.0</td>\n",
       "    </tr>\n",
       "    <tr>\n",
       "      <th>1</th>\n",
       "      <td>Launch your own delivery service. This will sh...</td>\n",
       "      <td>2</td>\n",
       "      <td>5</td>\n",
       "      <td>4</td>\n",
       "      <td>10</td>\n",
       "      <td>2.000000</td>\n",
       "      <td>4.0</td>\n",
       "    </tr>\n",
       "    <tr>\n",
       "      <th>5</th>\n",
       "      <td>Add a customer review page. This will increase...</td>\n",
       "      <td>3</td>\n",
       "      <td>2</td>\n",
       "      <td>2</td>\n",
       "      <td>3</td>\n",
       "      <td>1.333333</td>\n",
       "      <td>4.0</td>\n",
       "    </tr>\n",
       "    <tr>\n",
       "      <th>4</th>\n",
       "      <td>Change the background color on the main page. ...</td>\n",
       "      <td>3</td>\n",
       "      <td>1</td>\n",
       "      <td>1</td>\n",
       "      <td>1</td>\n",
       "      <td>1.000000</td>\n",
       "      <td>3.0</td>\n",
       "    </tr>\n",
       "  </tbody>\n",
       "</table>\n",
       "</div>"
      ],
      "text/plain": [
       "                                          hypothesis  reach  impact  \\\n",
       "7  Add a subscription form to all the main pages....     10       7   \n",
       "2  Add product recommendation blocks to the store...      8       3   \n",
       "0  Add two new channels for attracting traffic. T...      3      10   \n",
       "6  Show banners with current offers and sales on ...      5       3   \n",
       "8  Launch a promotion that gives users discounts ...      1       9   \n",
       "3  Change the category structure. This will incre...      8       3   \n",
       "1  Launch your own delivery service. This will sh...      2       5   \n",
       "5  Add a customer review page. This will increase...      3       2   \n",
       "4  Change the background color on the main page. ...      3       1   \n",
       "\n",
       "   confidence  effort        ICE   RICE  \n",
       "7           8       5  11.200000  112.0  \n",
       "2           7       3   7.000000   56.0  \n",
       "0           8       6  13.333333   40.0  \n",
       "6           8       3   8.000000   40.0  \n",
       "8           9       5  16.200000   16.2  \n",
       "3           3       8   1.125000    9.0  \n",
       "1           4      10   2.000000    4.0  \n",
       "5           2       3   1.333333    4.0  \n",
       "4           1       1   1.000000    3.0  "
      ]
     },
     "execution_count": 19,
     "metadata": {},
     "output_type": "execute_result"
    }
   ],
   "source": [
    "hipotesis.sort_values(by='RICE', ascending=False)"
   ]
  },
  {
   "cell_type": "markdown",
   "metadata": {},
   "source": [
    "### Grafica de barras comparando los puntajes obtenidos en ICE y RICE"
   ]
  },
  {
   "cell_type": "code",
   "execution_count": 20,
   "metadata": {},
   "outputs": [
    {
     "data": {
      "image/png": "[encoded data removed]",
      "text/plain": [
       "<Figure size 1000x600 with 1 Axes>"
      ]
     },
     "metadata": {},
     "output_type": "display_data"
    }
   ],
   "source": [
    "# seleccionar columnas del DF hipotesis\n",
    "ice_rice = ['ICE', 'RICE']\n",
    "# grafica de barras con valores ICE y RICE \n",
    "hipotesis.plot(\n",
    "    y=ice_rice,\n",
    "    kind='bar',\n",
    "    title='Comparación entre el ICE y RICE en las hipótesis', \n",
    "    figsize=(10,6),\n",
    "    xlabel='Hipótesis',\n",
    "    ylabel='Puntaje', \n",
    "    rot=1, \n",
    "    color=('firebrick', 'limegreen'))\n",
    "\n",
    "plt.grid(axis='y')\n",
    "plt.show()"
   ]
  },
  {
   "cell_type": "markdown",
   "metadata": {},
   "source": [
    "<span style=\"color:blue; font-weight:bold\">\n",
    "Al utilizar RICE en lugar de ICE, la principal diferencia es que RICE incluye el 'Alcance' (Reach). Esto puede hacer que algunas hipótesis que afectan a una mayor cantidad de usuarios sean priorizadas más alto en RICE. Las hipótesis con un gran impacto pero con un alcance pequeño pueden bajar en la lista cuando se utiliza RICE.\n",
    "\n",
    "</span>"
   ]
  },
  {
   "cell_type": "markdown",
   "metadata": {},
   "source": [
    "## Análisis del test A/B"
   ]
  },
  {
   "cell_type": "markdown",
   "metadata": {},
   "source": [
    "### Ingreso acumulado por grupo"
   ]
  },
  {
   "cell_type": "code",
   "execution_count": 21,
   "metadata": {},
   "outputs": [],
   "source": [
    "# matriz con valores unicos\n",
    "datesGroups = orders[['date', 'group']].drop_duplicates()"
   ]
  },
  {
   "cell_type": "code",
   "execution_count": 22,
   "metadata": {
    "scrolled": true
   },
   "outputs": [],
   "source": [
    "# aplicar metodos a cada grupo, ordenar los resultados por columnas date y group \n",
    "orderAgg = datesGroups.apply(\n",
    "    lambda x: orders[\n",
    "        np.logical_and(orders['date'] <= x['date'], \n",
    "                       orders['group']== x['group'])\n",
    "    ].agg({\n",
    "        'date':'max',\n",
    "        'group':'max',\n",
    "        'transactionId':pd.Series.nunique,\n",
    "        'visitorId':pd.Series.nunique,\n",
    "        'revenue':'sum'\n",
    "    }),\n",
    "    axis=1\n",
    ").sort_values(by=['date','group'])"
   ]
  },
  {
   "cell_type": "code",
   "execution_count": 23,
   "metadata": {},
   "outputs": [],
   "source": [
    "visitorAgg = datesGroups.apply(\n",
    "    lambda x: visits[\n",
    "        np.logical_and(visits['date'] <= x['date'], visits['group']== x['group'])\n",
    "    ].agg({\n",
    "        'date':'max',\n",
    "        'group':'max',\n",
    "        'visits':'sum'\n",
    "    }),\n",
    "    axis=1\n",
    ").sort_values(by=['date','group'])"
   ]
  },
  {
   "cell_type": "code",
   "execution_count": 24,
   "metadata": {},
   "outputs": [],
   "source": [
    "# fusionar las tablas en una y renombrar columnas \n",
    "dataAcomulada = orderAgg.merge(visitorAgg, on=['date','group'], how='outer')\n",
    "dataAcomulada.columns = ['date', 'group', 'orders', 'buyers', 'revenue', 'visitors']"
   ]
  },
  {
   "cell_type": "code",
   "execution_count": 25,
   "metadata": {},
   "outputs": [],
   "source": [
    "# crear filtros para cada uno de los grupos \n",
    "dataA = dataAcomulada.query('group ==\"A\"')[['date', 'revenue','orders']]\n",
    "\n",
    "dataB = dataAcomulada.query('group ==\"B\"')[['date', 'revenue','orders']]"
   ]
  },
  {
   "cell_type": "code",
   "execution_count": 26,
   "metadata": {
    "scrolled": false
   },
   "outputs": [
    {
     "data": {
      "image/png": "[encoded data removed]",
      "text/plain": [
       "<Figure size 1000x600 with 1 Axes>"
      ]
     },
     "metadata": {},
     "output_type": "display_data"
    }
   ],
   "source": [
    "# Crear graficos \n",
    "plt.figure(figsize=(10,6))\n",
    "\n",
    "plt.plot(dataA['date'], dataA['revenue'], label='A')\n",
    "\n",
    "plt.plot(dataB['date'], dataB['revenue'], label='B')\n",
    "\n",
    "plt.title('Ingreso acumulado por grupo')\n",
    "plt.xlabel('Meses')\n",
    "plt.ylabel('Ingresos')\n",
    "plt.legend()\n",
    "plt.xticks(rotation=45)\n",
    "plt.show()"
   ]
  },
  {
   "cell_type": "markdown",
   "metadata": {},
   "source": [
    "<span style=\"color:blue; font-weight:bold\">\n",
    "En el grafico de ingresos acomulados por grupo se observa de manera general que el grupo B tiene un mejor ingreso que el grupo A, cabe destacar que en los primeros meses del experimento los ingresos son casi iguales, sin embargo a partir del 2019-08-17 comenzo un incremento exponencial en el grupo B alejandolo por mucho de los ingresos del Grupo A.\n",
    "\n",
    "</span>"
   ]
  },
  {
   "cell_type": "markdown",
   "metadata": {},
   "source": [
    "### Tamaño de pedido promedio acumulado por grupo"
   ]
  },
  {
   "cell_type": "code",
   "execution_count": 27,
   "metadata": {},
   "outputs": [
    {
     "data": {
      "image/png": "[encoded data removed]",
      "text/plain": [
       "<Figure size 1000x600 with 1 Axes>"
      ]
     },
     "metadata": {},
     "output_type": "display_data"
    }
   ],
   "source": [
    "plt.figure(figsize=(10,6))\n",
    "\n",
    "plt.plot(dataA['date'], dataA['revenue'] / dataA['orders'], label='A')\n",
    "plt.plot(dataB['date'], dataB['revenue'] / dataB['orders'], label='B')\n",
    "\n",
    "plt.title('Tamaño de pedido promedio acomulado por grupo')\n",
    "plt.xlabel('Meses')\n",
    "plt.ylabel('Numero de pedidos promedio')\n",
    "plt.legend()\n",
    "plt.xticks(rotation=45)\n",
    "\n",
    "plt.show()"
   ]
  },
  {
   "cell_type": "markdown",
   "metadata": {},
   "source": [
    "<span style=\"color:blue; font-weight:bold\">\n",
    "En este grafico los pedidos promedios del Grupo A tienen una tendencia a la baja en los primeras semanas del experimento, sin embargo en la semana del 2019-08-13 se observa una alza, despues de ello se mantiene y no vuelve a presentar una disminucion considerable en los pedidos promedio, por otra parte el Grupo B, tiene un mejor desempeño \n",
    "en el numero de pedidos, sin embargo en la semana donde el Grupo A tuvo un aumento considerable el Grupo B disminuye el numero de pedidos, lo que podria significar que la estrategia de marketing fue mas efectiva para esa semana, sin embargo despues en la semana del 2019-08-17 nuevamente el Grupo B tiene un mejor desempeño y aumenta exponencialmente, como se observó en el grafico anterior.\n",
    "</span>"
   ]
  },
  {
   "cell_type": "markdown",
   "metadata": {},
   "source": [
    "###  Diferencia relativa en el tamaño de pedido promedio acomulado del grupo B comparado con el grupo A"
   ]
  },
  {
   "cell_type": "code",
   "execution_count": 28,
   "metadata": {
    "scrolled": false
   },
   "outputs": [
    {
     "data": {
      "image/png": "[encoded data removed]",
      "text/plain": [
       "<Figure size 1000x600 with 1 Axes>"
      ]
     },
     "metadata": {},
     "output_type": "display_data"
    }
   ],
   "source": [
    "# unir los datos en un DF\n",
    "relativaAcomulada = dataA.merge(dataB, left_on='date', right_on='date', how='left', suffixes=['A','B'])\n",
    "\n",
    "# trazar grafico\n",
    "plt.figure(figsize=(10,6))\n",
    "plt.plot(\n",
    "    relativaAcomulada['date'], \n",
    "    (relativaAcomulada['revenueB'] / relativaAcomulada['ordersB']) / \n",
    "    (relativaAcomulada['revenueA'] / relativaAcomulada['ordersA'])\n",
    "        -1 )\n",
    "plt.title('Tamaño de pedido promedio acomulado del grupo B comparado con el grupo A')\n",
    "plt.xlabel('Meses')\n",
    "plt.ylabel('Numero de pedidos promedio')\n",
    "plt.xticks(rotation=45)\n",
    "plt.axhline(y=0, color='black', linestyle='--')\n",
    "plt.show()"
   ]
  },
  {
   "cell_type": "markdown",
   "metadata": {},
   "source": [
    "<span style=\"color:blue; font-weight:bold\">\n",
    "En este grafico se observa lo mismo antes mencionado en el grafico de pedidos promedio por grupos. Primero el Grupo B va incrementando el numero de pedidos en la semana 2019-08-05 se observa una caida, sin embargo para la siguiente semana vuelve a haber una alza alcanzando un 30% mas que el Grupo A, pero apartir de la semana 2019-08-09 existio una tendencia a la baja, como se comento anteriormente esto se puede deber a que la estrategia de marketing del Grupo A fue mejor para esta semana y la siguiente, sin embargo a partir de la semana 2019-08-17 hubo un crecimiento exponencial, distanciando por mucho la cantidad de pedidos promedio entre cada grupo.\n",
    "</span>"
   ]
  },
  {
   "cell_type": "markdown",
   "metadata": {},
   "source": [
    "### Tasa de conversión de cada grupo"
   ]
  },
  {
   "cell_type": "code",
   "execution_count": 29,
   "metadata": {},
   "outputs": [],
   "source": [
    "\n",
    "# calcular la conversion acomulada\n",
    "dataAcomulada['conversion'] = dataAcomulada['orders'] / dataAcomulada['visitors']\n",
    "\n",
    "# filtrar por grupo A y B \n",
    "dataAcomuladaA = dataAcomulada[dataAcomulada['group']=='A']\n",
    "\n",
    "dataAcomuladaB = dataAcomulada[dataAcomulada['group']=='B']"
   ]
  },
  {
   "cell_type": "code",
   "execution_count": 30,
   "metadata": {},
   "outputs": [
    {
     "data": {
      "image/png": "[encoded data removed]",
      "text/plain": [
       "<Figure size 1000x600 with 1 Axes>"
      ]
     },
     "metadata": {},
     "output_type": "display_data"
    }
   ],
   "source": [
    "# trazar graficos \n",
    "plt.figure(figsize=(10,6))\n",
    "plt.plot(dataAcomuladaA['date'], dataAcomuladaA['conversion'], label='A')\n",
    "plt.plot(dataAcomuladaB['date'], dataAcomuladaB['conversion'], label='B')\n",
    "\n",
    "plt.title('Tasa de conversion de cada grupo')\n",
    "plt.xlabel('Meses')\n",
    "plt.ylabel('Tasa de conversion (%)')\n",
    "plt.legend()\n",
    "plt.xticks(rotation=45)\n",
    "\n",
    "plt.show()"
   ]
  },
  {
   "cell_type": "markdown",
   "metadata": {},
   "source": [
    "<span style=\"color:blue; font-weight:bold\">\n",
    "En cuanta a la tasa de conversion logramos observar en el grafico que el grupo B arroja mejores resultados que el grupo A, aunque en las primeras semanas del 2019-08-01 al 2019-08-05 el grupo A tenia una mejor tasa, a partir de la siguiente semana el Grupo B incremento y se mantuvo a lo largo del experiemento, lo que indica que podria indicar que la estrategia de marketing es mejor para dicho grupo.\n",
    "</span>"
   ]
  },
  {
   "cell_type": "code",
   "execution_count": 31,
   "metadata": {},
   "outputs": [],
   "source": [
    "# Diferencias relativas para las tasas de conversion acomuladas\n",
    "conversionAcomulada = dataAcomuladaA[['date','conversion']].merge(\n",
    "    dataAcomuladaB[['date','conversion']],\n",
    "    left_on='date', \n",
    "    right_on='date',\n",
    "    suffixes=['A','B']\n",
    ")"
   ]
  },
  {
   "cell_type": "code",
   "execution_count": 32,
   "metadata": {
    "scrolled": false
   },
   "outputs": [
    {
     "data": {
      "image/png": "[encoded data removed]",
      "text/plain": [
       "<Figure size 1000x600 with 1 Axes>"
      ]
     },
     "metadata": {},
     "output_type": "display_data"
    }
   ],
   "source": [
    "# trazar grafico \n",
    "plt.figure(figsize=(10,6))\n",
    "\n",
    "plt.plot(\n",
    "    conversionAcomulada['date'],\n",
    "    conversionAcomulada['conversionB'] \n",
    "    / conversionAcomulada['conversionA']\n",
    "    -1)\n",
    "plt.xticks(rotation=45)\n",
    "\n",
    "plt.title('Diferencias relativas para las tasas de conversion acomuladas')\n",
    "plt.xlabel('Meses')\n",
    "plt.ylabel('Tasa de conversion (%)')\n",
    "plt.axhline(y=0, color='black', linestyle='--')\n",
    "plt.axhline(y=-0.1, color='gray', linestyle='--')\n",
    "\n",
    "plt.show()"
   ]
  },
  {
   "cell_type": "markdown",
   "metadata": {},
   "source": [
    "<span style=\"color:blue; font-weight:bold\">\n",
    "En este grafico se observa la tasa de conversion del Grupo B se mantiene estable a partir de la semana 2019-08-05 alcanzando mas de un 20% de conversion que el grupo A, lo que podria indicar que el experimento esta teniendo los resultados esperados\n",
    "</span>"
   ]
  },
  {
   "cell_type": "markdown",
   "metadata": {},
   "source": [
    "### Grafico de dispersión del número de pedidos por usuario"
   ]
  },
  {
   "cell_type": "code",
   "execution_count": 33,
   "metadata": {},
   "outputs": [],
   "source": [
    "# calcular los pedidos de los usuarios\n",
    "order_users = orders.groupby('visitorId').size().reset_index(name='order_count')"
   ]
  },
  {
   "cell_type": "code",
   "execution_count": 34,
   "metadata": {
    "scrolled": false
   },
   "outputs": [
    {
     "data": {
      "image/png": "[encoded data removed]",
      "text/plain": [
       "<Figure size 1000x600 with 1 Axes>"
      ]
     },
     "metadata": {},
     "output_type": "display_data"
    }
   ],
   "source": [
    "# investigar la distribucion de el numero de pedidos por usuario\n",
    "\n",
    "plt.figure(figsize=(10,6))\n",
    "plt.hist(order_users['order_count'])\n",
    "\n",
    "plt.title('Distribución del numero de pedidos por usuario')\n",
    "plt.xlabel('Número de pedidos')\n",
    "plt.ylabel('Usuarios')\n",
    "plt.show()"
   ]
  },
  {
   "cell_type": "code",
   "execution_count": 35,
   "metadata": {},
   "outputs": [
    {
     "data": {
      "image/png": "[encoded data removed]",
      "text/plain": [
       "<Figure size 1000x600 with 1 Axes>"
      ]
     },
     "metadata": {},
     "output_type": "display_data"
    }
   ],
   "source": [
    "# crear grafico de dispersion\n",
    "plt.figure(figsize=(10,6))\n",
    "plt.scatter(order_users['visitorId'], order_users['order_count'])\n",
    "\n",
    "plt.title('Numero de pedidos por usuario')\n",
    "plt.xlabel('VisitorId')\n",
    "plt.ylabel('Numero de pedidos')\n",
    "\n",
    "plt.show()"
   ]
  },
  {
   "cell_type": "markdown",
   "metadata": {},
   "source": [
    "<span style=\"color:blue; font-weight:bold\">\n",
    "En los graficos de distribución anteriores se observa que el los usuarios tienen en promedio un total de 2 pedidos, tambien se observa que hay usuarios que pueden tener 4 pedidos y algunos pocos mas de 6 pedidos en adelante, esto se confirmara al calcular los percentiles.\n",
    "\n",
    "</span>"
   ]
  },
  {
   "cell_type": "markdown",
   "metadata": {},
   "source": [
    "### Calculo de percentiles del numero de pedidos por usuario"
   ]
  },
  {
   "cell_type": "code",
   "execution_count": 36,
   "metadata": {},
   "outputs": [
    {
     "name": "stdout",
     "output_type": "stream",
     "text": [
      "[ 1.  2.  4. 11.]\n"
     ]
    }
   ],
   "source": [
    "print(np.percentile(order_users['order_count'], [90,95,99,100]))"
   ]
  },
  {
   "cell_type": "markdown",
   "metadata": {},
   "source": [
    "<span style=\"color:blue; font-weight:bold\">\n",
    "Al calcular los percentiles se obtiene que un 90% de los usuarios tienen por lo menos 1 pedido, el 5% tienen 2 pedidos, el 1% tienen 4 pedidos, y se observan valores atipicos de usuarios donde solicitan hasta 11 pedidos. \n",
    "</span>"
   ]
  },
  {
   "cell_type": "markdown",
   "metadata": {},
   "source": [
    "### Grafico de dispersion de los precios de los pedidos"
   ]
  },
  {
   "cell_type": "code",
   "execution_count": 37,
   "metadata": {},
   "outputs": [],
   "source": [
    "# Grafico de dispersion de los precios de los pedidos\n",
    "xvalues = pd.Series(range(0, len(orders['revenue'])))"
   ]
  },
  {
   "cell_type": "code",
   "execution_count": 38,
   "metadata": {},
   "outputs": [
    {
     "data": {
      "image/png": "[encoded data removed]",
      "text/plain": [
       "<Figure size 1000x600 with 1 Axes>"
      ]
     },
     "metadata": {},
     "output_type": "display_data"
    }
   ],
   "source": [
    "# investigar la distribucion de los precios de los pedidos \n",
    "plt.figure(figsize=(10,6))\n",
    "plt.hist(orders['revenue'])\n",
    "\n",
    "plt.title('Distribución de los precios de los pedidos')\n",
    "plt.xlabel('Precio del pedido')\n",
    "plt.ylabel('Frecuencia')\n",
    "plt.show()"
   ]
  },
  {
   "cell_type": "code",
   "execution_count": 39,
   "metadata": {},
   "outputs": [
    {
     "data": {
      "image/png": "[encoded data removed]",
      "text/plain": [
       "<Figure size 1000x600 with 1 Axes>"
      ]
     },
     "metadata": {},
     "output_type": "display_data"
    }
   ],
   "source": [
    "# grafico de dispersion\n",
    "plt.figure(figsize=(10,6))\n",
    "plt.scatter(xvalues, orders['revenue'])\n",
    "\n",
    "plt.title('Distribución de precios de los pedidos')\n",
    "plt.ylabel('Precio del pedido')\n",
    "plt.xlabel('Indice de pedidos')\n",
    "\n",
    "plt.show()"
   ]
  },
  {
   "cell_type": "markdown",
   "metadata": {},
   "source": [
    "<span style=\"color:blue; font-weight:bold\">\n",
    "En estos graficos se observa que la frecuencia de los pedidos esta en los que tienen un valor menor a $250, en estos graficos no observan tantos valores atipicos. \n",
    "\n",
    "</span>"
   ]
  },
  {
   "cell_type": "markdown",
   "metadata": {},
   "source": [
    "###  Calcular percentiles de los precios de pedidos"
   ]
  },
  {
   "cell_type": "code",
   "execution_count": 40,
   "metadata": {},
   "outputs": [
    {
     "name": "stdout",
     "output_type": "stream",
     "text": [
      "[  282.48    435.54    900.904 19920.4  ]\n"
     ]
    }
   ],
   "source": [
    "print(np.percentile(orders['revenue'], [90,95,99,100]))"
   ]
  },
  {
   "cell_type": "markdown",
   "metadata": {},
   "source": [
    "<span style=\"color:blue; font-weight:bold\">\n",
    "Al realizar el calculo de los percentiles se puede concluir que el 90% de los usuarios piden productos con un costo de 282.48, el 5 por ciento  de los usuarios piden productos con un valor de 435.54 y un 1% piden productos con unn valor de $900.904. Por ultimo hay un usuario que pidio productos con un valor de 19920.4. Este usuario y los del 1 porciento podrian ser considerados para recibir alguna recompensa.\n",
    "</span>"
   ]
  },
  {
   "cell_type": "markdown",
   "metadata": {},
   "source": [
    "### Significancia estadística de la diferencia en la conversion entre los grupos con datos brutos"
   ]
  },
  {
   "cell_type": "code",
   "execution_count": 41,
   "metadata": {},
   "outputs": [],
   "source": [
    "# crear variables con las ordenes por usuario de acuerdo al grupo\n",
    "ordersA = orders[orders['group'] == 'A'].groupby('visitorId', as_index=False).agg({'transactionId':pd.Series.nunique})\n",
    "# renombrar las columnas \n",
    "ordersA.columns= ['userId', 'orders']"
   ]
  },
  {
   "cell_type": "code",
   "execution_count": 42,
   "metadata": {},
   "outputs": [],
   "source": [
    "ordersB = orders[orders['group'] == 'B'].groupby('visitorId', as_index=False).agg({'transactionId':pd.Series.nunique})\n",
    "# renombrar las columnas \n",
    "ordersB.columns= ['userId', 'orders']"
   ]
  },
  {
   "cell_type": "code",
   "execution_count": 43,
   "metadata": {},
   "outputs": [],
   "source": [
    "# crear variables Sample para crear una series con puntaje 0 si es que no tuvieron pedidos, necesario para la prueba\n",
    "# U de Mann\n",
    "sampleA = pd.concat(\n",
    "    [\n",
    "        ordersA['orders'],\n",
    "        pd.Series(0,\n",
    "                  index=np.arange(visits[visits['group'] =='A']['visits'].sum() - len(ordersA['orders'])),\n",
    "                  name='orders'\n",
    "                 )\n",
    "    ],\n",
    "    axis=0\n",
    ")"
   ]
  },
  {
   "cell_type": "code",
   "execution_count": 44,
   "metadata": {},
   "outputs": [],
   "source": [
    "sampleB = pd.concat(\n",
    "    [\n",
    "        ordersB['orders'],\n",
    "        pd.Series(0,\n",
    "                  index=np.arange(visits[visits['group'] =='B']['visits'].sum() - len(ordersB['orders'])),\n",
    "                  name='orders'\n",
    "                 )\n",
    "    ],\n",
    "    axis=0\n",
    ")"
   ]
  },
  {
   "cell_type": "code",
   "execution_count": 45,
   "metadata": {},
   "outputs": [
    {
     "name": "stdout",
     "output_type": "stream",
     "text": [
      "P-valor: 0.017\n",
      "Ganancia relativa en la conversión: 0.138\n"
     ]
    }
   ],
   "source": [
    "# imprimir la ganancia relativa de conversion\n",
    "print(\"P-valor: {0:.3f}\".format(stats.mannwhitneyu(sampleA, sampleB)[1]))\n",
    "print(\"Ganancia relativa en la conversión: {0:.3f}\".format(sampleB.mean() / sampleA.mean()-1))"
   ]
  },
  {
   "cell_type": "markdown",
   "metadata": {},
   "source": [
    "<span style=\"color:blue; font-weight:bold\">\n",
    "Al realizar la prueba U de Mann se obtuvo que el valor p es de 0.017 lo que es menor que un alpha de 0.05 lo que indica que hay una diferencia significativa en las distribuciones de las conversiones entre los Grupos A y B. \n",
    " Por otra parte se obtuvo un valor de 0.138 lo que indica queel grupo B tuvo aproximadamente un 13.8% de mayor ganancia en la tasa de conversion sobre el Grupo A. Esto indica que la estrategia de marketing del Grupo B tiene mejores resultados, como se observo en los graficos anteriores\n",
    "</span>"
   ]
  },
  {
   "cell_type": "markdown",
   "metadata": {},
   "source": [
    "### Significancia estadistica de la diferencia en el tamaño promedio de pedidos entre los grupos utilizando datos en bruto\n"
   ]
  },
  {
   "cell_type": "code",
   "execution_count": 46,
   "metadata": {},
   "outputs": [
    {
     "name": "stdout",
     "output_type": "stream",
     "text": [
      "P-valor: 0.692\n",
      "Ganancia relativa en el tamaño promedio de pedidos: 0.252\n"
     ]
    }
   ],
   "source": [
    "print('P-valor: {0:.3f}'.format(stats.mannwhitneyu(orders[orders['group']=='A']['revenue'],\n",
    "                                          orders[orders['group']=='B']['revenue'])[1]))\n",
    "\n",
    "print('Ganancia relativa en el tamaño promedio de pedidos: {0:.3f}'.format(orders[orders['group']=='B']['revenue'].mean()/\n",
    "                       orders[orders['group']=='A']['revenue'].mean()-1))"
   ]
  },
  {
   "cell_type": "markdown",
   "metadata": {},
   "source": [
    "<span style=\"color:blue; font-weight:bold\">\n",
    "Sin embargo al realizar la prueba U de Mann para el tamaño promedio de pedidos, se encontro que el valor p de 0.692 es mucho mayor a un alpha de 0.05, por lo cual no se podria rechazar la hipotesis nula, lo que indica que no hay una diferencia significativa en el tamaño de pedidos promedio de ambos grupos. \n",
    "    \n",
    "Por otra parte se obtuvo un valor de 0.252 o 25.2% mayor de tamaño promedio del Grupo B que el Grupo A sin embargo con el resultado del valor p, indica que esta diferencia podria deberse al azar ya que no es estadisticamente significativa\n",
    "\n",
    "</span>"
   ]
  },
  {
   "cell_type": "markdown",
   "metadata": {},
   "source": [
    "### Significancia estadistica de la diferencia en la conversion entre los grupos usando datos filtrados\n"
   ]
  },
  {
   "cell_type": "code",
   "execution_count": 47,
   "metadata": {},
   "outputs": [
    {
     "name": "stdout",
     "output_type": "stream",
     "text": [
      "1099    148427295\n",
      "18      199603092\n",
      "928     204675465\n",
      "23      237748145\n",
      "37      249864742\n",
      "dtype: int64\n",
      "(73,)\n"
     ]
    }
   ],
   "source": [
    "# encontar el numero de usuarios con valores atipicos\n",
    "\n",
    "usersManyOrders = pd.concat(\n",
    "    [\n",
    "        ordersA[ordersA['orders'] > 2]['userId'], \n",
    "        ordersB[ordersB['orders'] > 2]['userId']\n",
    "    ], \n",
    "    axis = 0\n",
    ")\n",
    "\n",
    "usersSpentOrders = orders[orders['revenue'] > 436]['visitorId']\n",
    "\n",
    "abnormalUsers = pd.concat(\n",
    "    [usersManyOrders, usersSpentOrders], axis = 0).drop_duplicates().sort_values()\n",
    "\n",
    "print(abnormalUsers.head())\n",
    "print(abnormalUsers.shape)\n"
   ]
  },
  {
   "cell_type": "code",
   "execution_count": 48,
   "metadata": {},
   "outputs": [],
   "source": [
    "# filtrar los datos anomalos Grupo A\n",
    "\n",
    "sampleAFiltro = pd.concat(\n",
    "    [\n",
    "        ordersA[np.logical_not(ordersA['userId'].isin(abnormalUsers))]['orders'],\n",
    "        pd.Series(\n",
    "            0,\n",
    "            index=np.arange(visits[visits['group'] == 'A']['visits'].sum() - len(ordersA[np.logical_not(ordersA['userId'].isin(abnormalUsers))]['orders'])),\n",
    "            name='orders'\n",
    "        )\n",
    "    ],\n",
    "    axis=0\n",
    ")"
   ]
  },
  {
   "cell_type": "code",
   "execution_count": 49,
   "metadata": {},
   "outputs": [],
   "source": [
    "# filtro de datos Grupo B\n",
    "sampleBFiltro = pd.concat(\n",
    "    [\n",
    "        ordersB[np.logical_not(ordersB['userId'].isin(abnormalUsers))]['orders'],\n",
    "        pd.Series(\n",
    "            0,\n",
    "            index=np.arange(visits[visits['group'] == 'B']['visits'].sum() - len(ordersB[np.logical_not(ordersB['userId'].isin(abnormalUsers))]['orders'])),\n",
    "            name='orders'\n",
    "        )\n",
    "    ],\n",
    "    axis=0\n",
    ")"
   ]
  },
  {
   "cell_type": "code",
   "execution_count": 50,
   "metadata": {},
   "outputs": [
    {
     "name": "stdout",
     "output_type": "stream",
     "text": [
      "P-valor: 0.014\n",
      "Ganancia relativa en la conversión: 1.170\n"
     ]
    }
   ],
   "source": [
    "# aplicar la prueba U de Mann \n",
    "print(\"P-valor: {0:.3f}\".format(stats.mannwhitneyu(sampleAFiltro, sampleBFiltro)[1]))\n",
    "print(\"Ganancia relativa en la conversión: {0:.3f}\".format(sampleBFiltro.mean() / sampleAFiltro.mean()))"
   ]
  },
  {
   "cell_type": "markdown",
   "metadata": {},
   "source": [
    "<span style=\"color:blue; font-weight:bold\">\n",
    "Al calcular la significancia estadistica de la conversion entre grupos pero usando datos filtrados se encontro que el valor p tuvo un valor de 0.014 lo que es menor a un alpha de 0.05 lo que indica que existen diferencias significativas en la conversion entre el Grupo A y el grupo B, por otra parte se obtuvo un valor de 1.170 o 17% mayor de ganancia relativa en la conversion del Grupo B que del Grupo A, lo que indica que el Grupo B mostro un mayor desempeño en la tasa conversion con los datos filtrados.\n",
    "\n",
    "</span>"
   ]
  },
  {
   "cell_type": "markdown",
   "metadata": {},
   "source": [
    "### Significancia estadística de la diferencia en el tamaño promedio de pedido entre los grupos utilizando datos filtrados"
   ]
  },
  {
   "cell_type": "code",
   "execution_count": 51,
   "metadata": {},
   "outputs": [
    {
     "name": "stdout",
     "output_type": "stream",
     "text": [
      "P-valor:  0.744\n"
     ]
    }
   ],
   "source": [
    "# Mostrar el valor p calculado con la prueba U de Mann\n",
    "print(\"P-valor:  {0:.3f}\".format(stats.mannwhitneyu(\n",
    "    orders[np.logical_and(\n",
    "        orders['group'] == 'A',\n",
    "        np.logical_not(orders['visitorId'].isin(abnormalUsers)))]['revenue'],\n",
    "    orders[np.logical_and(\n",
    "        orders['group'] == 'B',\n",
    "        np.logical_not(orders['visitorId'].isin(abnormalUsers)))]['revenue']\n",
    ")[1]))"
   ]
  },
  {
   "cell_type": "code",
   "execution_count": 52,
   "metadata": {},
   "outputs": [
    {
     "name": "stdout",
     "output_type": "stream",
     "text": [
      "Diferencia relativa en el tamaño promedio del pedido: -0.028\n"
     ]
    }
   ],
   "source": [
    "# Mostrar la diferencia relativa en el ingreso promedio entre A y B\n",
    "print(\"Diferencia relativa en el tamaño promedio del pedido: {0:.3f}\".format(\n",
    "    orders[np.logical_and(orders['group'] == 'B',\n",
    "                          np.logical_not(orders['visitorId'].isin(abnormalUsers)))]['revenue'].mean() / \n",
    "    orders[np.logical_and(orders['group'] == 'A',\n",
    "                          np.logical_not(orders['visitorId'].isin(abnormalUsers)))]['revenue'].mean()-1 ))"
   ]
  },
  {
   "cell_type": "markdown",
   "metadata": {},
   "source": [
    "<span style=\"color:blue; font-weight:bold\">\n",
    "Por ultimo al calcular la significancia del tamaño promedio de pedidos se obtuvo un valor p de 0.744 lo cual es mayor a un alpha de 0.05 lo que indica que no existe una diferencia estadisticamente significativa, lo cual podria indicar que la diferencia se deba al azar. Por otra parte la diferencia relativa es de -0.028 o -2.8% lo que indica que los pedidos en el Grupo B son aproximadamente 2.8% menor que en el grupo A. Lo que puede sugerir que un cambio evaluado no afecta significativamente el tamaño promedio de los pedidos en estos grupos.\n",
    "\n",
    "</span>"
   ]
  },
  {
   "cell_type": "markdown",
   "metadata": {},
   "source": [
    "## Tomar una decision basada en los resultados de la prueba "
   ]
  },
  {
   "cell_type": "markdown",
   "metadata": {},
   "source": [
    "<span style=\"color:blue; font-weight:bold\">\n",
    "Basándome en los resultados obtenidos de las pruebas y en la observación, el Grupo B muestra una ventaja significativa en la tasa de conversion teniendo un 17% más en comparación del Grupo A, el Grupo B podría ser una opcion solida para elegirlo como líder. Sin embargo en el tamaño promedio de pedido, no se observa una diferencia significativa entre los grupos ya que el Grupo B tiene un 2.8% menos comparado con el Grupo A. Esto podria ser una señal para extender los experimentos y evaluar si el Grupo B puede mejorar en ese aspecto.\n",
    "\n",
    "Por lo tanto elegiria la opcion 3: Continuar con la prueba, esto podría ayudar a identificar si el Grupo B consolida su desempeño en ambas métricas (conversión y tamaño de pedido) \n",
    "\n",
    "</span>"
   ]
  }
 ],
 "metadata": {
  "ExecuteTimeLog": [
   {
    "duration": 9,
    "start_time": "2024-10-23T03:12:10.346Z"
   },
   {
    "duration": 4,
    "start_time": "2024-10-23T03:14:31.329Z"
   },
   {
    "duration": 2537,
    "start_time": "2024-10-23T03:14:51.570Z"
   },
   {
    "duration": 601,
    "start_time": "2024-10-23T03:16:20.730Z"
   },
   {
    "duration": 24,
    "start_time": "2024-10-23T03:16:38.824Z"
   },
   {
    "duration": 2,
    "start_time": "2024-10-23T03:18:04.375Z"
   },
   {
    "duration": 15,
    "start_time": "2024-10-23T03:18:28.778Z"
   },
   {
    "duration": 12,
    "start_time": "2024-10-23T03:18:48.450Z"
   },
   {
    "duration": 2,
    "start_time": "2024-10-23T03:18:51.084Z"
   },
   {
    "duration": 16,
    "start_time": "2024-10-23T03:18:52.104Z"
   },
   {
    "duration": 3,
    "start_time": "2024-10-23T03:22:51.730Z"
   },
   {
    "duration": 8,
    "start_time": "2024-10-23T03:23:02.747Z"
   },
   {
    "duration": 3,
    "start_time": "2024-10-23T03:23:18.306Z"
   },
   {
    "duration": 15,
    "start_time": "2024-10-23T03:23:18.889Z"
   },
   {
    "duration": 3,
    "start_time": "2024-10-23T03:23:19.668Z"
   },
   {
    "duration": 8,
    "start_time": "2024-10-23T03:23:20.334Z"
   },
   {
    "duration": 3,
    "start_time": "2024-10-23T03:23:35.504Z"
   },
   {
    "duration": 19,
    "start_time": "2024-10-23T03:23:35.880Z"
   },
   {
    "duration": 3,
    "start_time": "2024-10-23T03:24:16.851Z"
   },
   {
    "duration": 5,
    "start_time": "2024-10-23T03:24:25.266Z"
   },
   {
    "duration": 2,
    "start_time": "2024-10-23T03:26:14.766Z"
   },
   {
    "duration": 22,
    "start_time": "2024-10-23T03:26:15.328Z"
   },
   {
    "duration": 18,
    "start_time": "2024-10-23T03:27:15.501Z"
   },
   {
    "duration": 5,
    "start_time": "2024-10-23T03:30:24.963Z"
   },
   {
    "duration": 4,
    "start_time": "2024-10-23T03:31:35.752Z"
   },
   {
    "duration": 7,
    "start_time": "2024-10-23T03:31:48.782Z"
   },
   {
    "duration": 8,
    "start_time": "2024-10-23T03:31:59.024Z"
   },
   {
    "duration": 12,
    "start_time": "2024-10-23T03:32:35.440Z"
   },
   {
    "duration": 5,
    "start_time": "2024-10-23T03:34:48.660Z"
   },
   {
    "duration": 9,
    "start_time": "2024-10-23T03:35:32.809Z"
   },
   {
    "duration": 159,
    "start_time": "2024-10-24T03:15:34.065Z"
   },
   {
    "duration": 2523,
    "start_time": "2024-10-24T03:15:44.492Z"
   },
   {
    "duration": 28,
    "start_time": "2024-10-24T03:15:47.018Z"
   },
   {
    "duration": 3,
    "start_time": "2024-10-24T03:15:47.048Z"
   },
   {
    "duration": 19,
    "start_time": "2024-10-24T03:15:47.053Z"
   },
   {
    "duration": 3,
    "start_time": "2024-10-24T03:15:47.074Z"
   },
   {
    "duration": 8,
    "start_time": "2024-10-24T03:15:47.078Z"
   },
   {
    "duration": 3,
    "start_time": "2024-10-24T03:15:47.087Z"
   },
   {
    "duration": 5,
    "start_time": "2024-10-24T03:15:47.091Z"
   },
   {
    "duration": 36,
    "start_time": "2024-10-24T03:15:47.098Z"
   },
   {
    "duration": 5,
    "start_time": "2024-10-24T03:15:47.136Z"
   },
   {
    "duration": 4,
    "start_time": "2024-10-24T03:15:47.142Z"
   },
   {
    "duration": 8,
    "start_time": "2024-10-24T03:15:47.148Z"
   },
   {
    "duration": 12,
    "start_time": "2024-10-24T03:15:47.157Z"
   },
   {
    "duration": 4,
    "start_time": "2024-10-24T03:15:47.172Z"
   },
   {
    "duration": 47,
    "start_time": "2024-10-24T03:15:47.178Z"
   },
   {
    "duration": 5,
    "start_time": "2024-10-24T03:15:47.226Z"
   },
   {
    "duration": 5,
    "start_time": "2024-10-24T03:15:59.246Z"
   },
   {
    "duration": 5,
    "start_time": "2024-10-24T03:18:36.851Z"
   },
   {
    "duration": 4,
    "start_time": "2024-10-24T03:22:31.656Z"
   },
   {
    "duration": 14,
    "start_time": "2024-10-24T03:23:26.889Z"
   },
   {
    "duration": 213,
    "start_time": "2024-10-24T03:26:38.287Z"
   },
   {
    "duration": 8,
    "start_time": "2024-10-24T03:30:52.228Z"
   },
   {
    "duration": 320,
    "start_time": "2024-10-24T03:32:56.037Z"
   },
   {
    "duration": 31,
    "start_time": "2024-10-24T03:33:25.691Z"
   },
   {
    "duration": 7,
    "start_time": "2024-10-24T03:34:03.442Z"
   },
   {
    "duration": 115,
    "start_time": "2024-10-24T03:35:32.206Z"
   },
   {
    "duration": 733,
    "start_time": "2024-10-24T03:40:08.309Z"
   },
   {
    "duration": 16,
    "start_time": "2024-10-24T03:40:09.044Z"
   },
   {
    "duration": 3,
    "start_time": "2024-10-24T03:40:09.061Z"
   },
   {
    "duration": 18,
    "start_time": "2024-10-24T03:40:09.065Z"
   },
   {
    "duration": 3,
    "start_time": "2024-10-24T03:40:09.086Z"
   },
   {
    "duration": 9,
    "start_time": "2024-10-24T03:40:09.090Z"
   },
   {
    "duration": 23,
    "start_time": "2024-10-24T03:40:09.101Z"
   },
   {
    "duration": 5,
    "start_time": "2024-10-24T03:40:09.126Z"
   },
   {
    "duration": 16,
    "start_time": "2024-10-24T03:40:09.133Z"
   },
   {
    "duration": 5,
    "start_time": "2024-10-24T03:40:09.151Z"
   },
   {
    "duration": 4,
    "start_time": "2024-10-24T03:40:09.157Z"
   },
   {
    "duration": 9,
    "start_time": "2024-10-24T03:40:09.162Z"
   },
   {
    "duration": 12,
    "start_time": "2024-10-24T03:40:09.173Z"
   },
   {
    "duration": 4,
    "start_time": "2024-10-24T03:40:09.225Z"
   },
   {
    "duration": 9,
    "start_time": "2024-10-24T03:40:09.231Z"
   },
   {
    "duration": 7,
    "start_time": "2024-10-24T03:40:09.241Z"
   },
   {
    "duration": 7,
    "start_time": "2024-10-24T03:40:09.249Z"
   },
   {
    "duration": 402,
    "start_time": "2024-10-24T03:40:09.258Z"
   },
   {
    "duration": 76,
    "start_time": "2024-10-24T03:41:31.977Z"
   },
   {
    "duration": 4,
    "start_time": "2024-10-24T03:44:13.792Z"
   },
   {
    "duration": 18,
    "start_time": "2024-10-24T03:44:20.724Z"
   },
   {
    "duration": 19,
    "start_time": "2024-10-24T03:44:33.778Z"
   },
   {
    "duration": 5,
    "start_time": "2024-10-24T03:49:22.743Z"
   },
   {
    "duration": 4,
    "start_time": "2024-10-24T03:49:52.265Z"
   },
   {
    "duration": 7,
    "start_time": "2024-10-24T03:49:58.002Z"
   },
   {
    "duration": 7,
    "start_time": "2024-10-24T03:50:09.912Z"
   },
   {
    "duration": 7,
    "start_time": "2024-10-24T03:50:22.896Z"
   },
   {
    "duration": 8,
    "start_time": "2024-10-24T03:50:56.407Z"
   },
   {
    "duration": 7,
    "start_time": "2024-10-24T03:51:04.071Z"
   },
   {
    "duration": 7,
    "start_time": "2024-10-24T03:51:58.745Z"
   },
   {
    "duration": 7,
    "start_time": "2024-10-24T03:52:19.537Z"
   },
   {
    "duration": 7,
    "start_time": "2024-10-24T03:52:23.177Z"
   },
   {
    "duration": 13,
    "start_time": "2024-10-24T03:56:15.218Z"
   },
   {
    "duration": 386,
    "start_time": "2024-10-24T03:56:23.122Z"
   },
   {
    "duration": 159,
    "start_time": "2024-10-24T03:56:55.893Z"
   },
   {
    "duration": 791,
    "start_time": "2024-10-24T04:28:58.731Z"
   },
   {
    "duration": 15,
    "start_time": "2024-10-24T04:28:59.525Z"
   },
   {
    "duration": 3,
    "start_time": "2024-10-24T04:28:59.542Z"
   },
   {
    "duration": 19,
    "start_time": "2024-10-24T04:28:59.546Z"
   },
   {
    "duration": 3,
    "start_time": "2024-10-24T04:28:59.568Z"
   },
   {
    "duration": 16,
    "start_time": "2024-10-24T04:28:59.573Z"
   },
   {
    "duration": 3,
    "start_time": "2024-10-24T04:28:59.592Z"
   },
   {
    "duration": 28,
    "start_time": "2024-10-24T04:28:59.598Z"
   },
   {
    "duration": 23,
    "start_time": "2024-10-24T04:28:59.631Z"
   },
   {
    "duration": 6,
    "start_time": "2024-10-24T04:28:59.656Z"
   },
   {
    "duration": 9,
    "start_time": "2024-10-24T04:29:04.555Z"
   },
   {
    "duration": 9,
    "start_time": "2024-10-24T04:29:05.473Z"
   },
   {
    "duration": 14,
    "start_time": "2024-10-24T04:29:17.410Z"
   },
   {
    "duration": 5,
    "start_time": "2024-10-24T04:29:20.695Z"
   },
   {
    "duration": 9,
    "start_time": "2024-10-24T04:32:45.355Z"
   },
   {
    "duration": 13,
    "start_time": "2024-10-24T04:33:00.957Z"
   },
   {
    "duration": 7,
    "start_time": "2024-10-24T04:33:01.370Z"
   },
   {
    "duration": 567,
    "start_time": "2024-10-24T04:37:42.277Z"
   },
   {
    "duration": 139,
    "start_time": "2024-10-24T04:42:40.614Z"
   },
   {
    "duration": 217,
    "start_time": "2024-10-24T04:44:38.425Z"
   },
   {
    "duration": 16,
    "start_time": "2024-10-24T04:46:42.689Z"
   },
   {
    "duration": 5,
    "start_time": "2024-10-24T04:51:29.897Z"
   },
   {
    "duration": 157,
    "start_time": "2024-10-24T04:52:51.819Z"
   },
   {
    "duration": 137,
    "start_time": "2024-10-24T04:53:14.142Z"
   },
   {
    "duration": 893,
    "start_time": "2024-10-24T04:53:35.079Z"
   },
   {
    "duration": 137,
    "start_time": "2024-10-24T04:54:54.649Z"
   },
   {
    "duration": 132,
    "start_time": "2024-10-24T04:55:01.065Z"
   },
   {
    "duration": 131,
    "start_time": "2024-10-24T04:59:46.016Z"
   },
   {
    "duration": 4,
    "start_time": "2024-10-24T05:12:53.722Z"
   },
   {
    "duration": 198,
    "start_time": "2024-10-24T05:12:59.489Z"
   },
   {
    "duration": 227,
    "start_time": "2024-10-24T05:13:07.240Z"
   },
   {
    "duration": 251,
    "start_time": "2024-10-24T05:14:14.052Z"
   },
   {
    "duration": 260,
    "start_time": "2024-10-24T05:15:35.714Z"
   },
   {
    "duration": 6,
    "start_time": "2024-10-24T05:21:37.890Z"
   },
   {
    "duration": 6,
    "start_time": "2024-10-24T05:21:48.847Z"
   },
   {
    "duration": 5,
    "start_time": "2024-10-24T05:22:06.290Z"
   },
   {
    "duration": 147,
    "start_time": "2024-10-24T05:23:32.282Z"
   },
   {
    "duration": 145,
    "start_time": "2024-10-24T05:23:39.497Z"
   },
   {
    "duration": 6,
    "start_time": "2024-10-24T05:23:48.335Z"
   },
   {
    "duration": 7,
    "start_time": "2024-10-24T05:27:32.730Z"
   },
   {
    "duration": 4,
    "start_time": "2024-10-24T05:30:43.514Z"
   },
   {
    "duration": 4,
    "start_time": "2024-10-24T05:31:11.146Z"
   },
   {
    "duration": 234,
    "start_time": "2024-10-24T05:31:18.922Z"
   },
   {
    "duration": 193,
    "start_time": "2024-10-24T05:31:48.139Z"
   },
   {
    "duration": 166,
    "start_time": "2024-10-24T05:32:08.004Z"
   },
   {
    "duration": 171,
    "start_time": "2024-10-24T05:32:33.809Z"
   },
   {
    "duration": 3,
    "start_time": "2024-10-24T05:40:13.370Z"
   },
   {
    "duration": 7,
    "start_time": "2024-10-24T05:40:31.579Z"
   },
   {
    "duration": 224,
    "start_time": "2024-10-24T05:43:32.964Z"
   },
   {
    "duration": 253,
    "start_time": "2024-10-24T05:43:43.832Z"
   },
   {
    "duration": 240,
    "start_time": "2024-10-24T05:44:15.004Z"
   },
   {
    "duration": 106,
    "start_time": "2024-10-24T05:49:58.304Z"
   },
   {
    "duration": 104,
    "start_time": "2024-10-24T05:50:08.328Z"
   },
   {
    "duration": 110,
    "start_time": "2024-10-24T05:50:47.217Z"
   },
   {
    "duration": 135,
    "start_time": "2024-10-24T05:53:55.845Z"
   },
   {
    "duration": 91,
    "start_time": "2024-10-24T05:54:03.403Z"
   },
   {
    "duration": 117,
    "start_time": "2024-10-24T05:56:21.779Z"
   },
   {
    "duration": 4,
    "start_time": "2024-10-24T06:00:23.274Z"
   },
   {
    "duration": 4,
    "start_time": "2024-10-24T06:00:47.835Z"
   },
   {
    "duration": 106,
    "start_time": "2024-10-24T06:03:14.507Z"
   },
   {
    "duration": 122,
    "start_time": "2024-10-24T06:04:54.990Z"
   },
   {
    "duration": 129,
    "start_time": "2024-10-24T06:05:20.740Z"
   },
   {
    "duration": 135,
    "start_time": "2024-10-24T06:05:37.124Z"
   },
   {
    "duration": 4,
    "start_time": "2024-10-24T06:06:26.706Z"
   },
   {
    "duration": 164,
    "start_time": "2024-10-25T01:35:14.405Z"
   },
   {
    "duration": 2457,
    "start_time": "2024-10-25T01:35:27.593Z"
   },
   {
    "duration": 25,
    "start_time": "2024-10-25T01:35:30.052Z"
   },
   {
    "duration": 3,
    "start_time": "2024-10-25T01:35:30.078Z"
   },
   {
    "duration": 17,
    "start_time": "2024-10-25T01:35:30.083Z"
   },
   {
    "duration": 3,
    "start_time": "2024-10-25T01:35:30.102Z"
   },
   {
    "duration": 18,
    "start_time": "2024-10-25T01:35:30.106Z"
   },
   {
    "duration": 3,
    "start_time": "2024-10-25T01:35:30.126Z"
   },
   {
    "duration": 5,
    "start_time": "2024-10-25T01:35:30.130Z"
   },
   {
    "duration": 16,
    "start_time": "2024-10-25T01:35:30.137Z"
   },
   {
    "duration": 5,
    "start_time": "2024-10-25T01:35:30.155Z"
   },
   {
    "duration": 9,
    "start_time": "2024-10-25T01:35:30.161Z"
   },
   {
    "duration": 9,
    "start_time": "2024-10-25T01:35:30.171Z"
   },
   {
    "duration": 54,
    "start_time": "2024-10-25T01:35:30.182Z"
   },
   {
    "duration": 5,
    "start_time": "2024-10-25T01:35:30.240Z"
   },
   {
    "duration": 9,
    "start_time": "2024-10-25T01:35:30.247Z"
   },
   {
    "duration": 8,
    "start_time": "2024-10-25T01:35:30.258Z"
   },
   {
    "duration": 7,
    "start_time": "2024-10-25T01:35:30.268Z"
   },
   {
    "duration": 248,
    "start_time": "2024-10-25T01:35:30.278Z"
   },
   {
    "duration": 6,
    "start_time": "2024-10-25T01:35:30.528Z"
   },
   {
    "duration": 6,
    "start_time": "2024-10-25T01:35:30.536Z"
   },
   {
    "duration": 175,
    "start_time": "2024-10-25T01:35:30.544Z"
   },
   {
    "duration": 159,
    "start_time": "2024-10-25T01:35:30.723Z"
   },
   {
    "duration": 246,
    "start_time": "2024-10-25T01:35:30.884Z"
   },
   {
    "duration": 5,
    "start_time": "2024-10-25T01:35:31.132Z"
   },
   {
    "duration": 197,
    "start_time": "2024-10-25T01:35:31.139Z"
   },
   {
    "duration": 7,
    "start_time": "2024-10-25T01:35:31.338Z"
   },
   {
    "duration": 248,
    "start_time": "2024-10-25T01:35:31.347Z"
   },
   {
    "duration": 128,
    "start_time": "2024-10-25T01:35:31.597Z"
   },
   {
    "duration": 106,
    "start_time": "2024-10-25T01:35:31.727Z"
   },
   {
    "duration": 4,
    "start_time": "2024-10-25T01:35:31.835Z"
   },
   {
    "duration": 208,
    "start_time": "2024-10-25T01:35:31.840Z"
   },
   {
    "duration": 4,
    "start_time": "2024-10-25T01:35:32.050Z"
   },
   {
    "duration": 84,
    "start_time": "2024-10-25T01:35:55.776Z"
   },
   {
    "duration": 5,
    "start_time": "2024-10-25T01:36:36.110Z"
   },
   {
    "duration": 111,
    "start_time": "2024-10-25T01:36:36.699Z"
   },
   {
    "duration": 131,
    "start_time": "2024-10-25T01:36:37.900Z"
   },
   {
    "duration": 216,
    "start_time": "2024-10-25T01:37:47.980Z"
   },
   {
    "duration": 98,
    "start_time": "2024-10-25T01:37:54.931Z"
   },
   {
    "duration": 3,
    "start_time": "2024-10-25T01:38:34.651Z"
   },
   {
    "duration": 117,
    "start_time": "2024-10-25T01:39:34.099Z"
   },
   {
    "duration": 120,
    "start_time": "2024-10-25T01:58:18.070Z"
   },
   {
    "duration": 4,
    "start_time": "2024-10-25T02:17:05.530Z"
   },
   {
    "duration": 6,
    "start_time": "2024-10-25T02:20:46.045Z"
   },
   {
    "duration": 178,
    "start_time": "2024-10-25T02:22:09.046Z"
   },
   {
    "duration": 13,
    "start_time": "2024-10-25T02:22:20.153Z"
   },
   {
    "duration": 2,
    "start_time": "2024-10-25T02:22:54.605Z"
   },
   {
    "duration": 16,
    "start_time": "2024-10-25T02:23:03.004Z"
   },
   {
    "duration": 3,
    "start_time": "2024-10-25T02:23:43.139Z"
   },
   {
    "duration": 67,
    "start_time": "2024-10-25T02:23:52.760Z"
   },
   {
    "duration": 805,
    "start_time": "2024-10-25T02:24:47.327Z"
   },
   {
    "duration": 17,
    "start_time": "2024-10-25T02:24:48.135Z"
   },
   {
    "duration": 3,
    "start_time": "2024-10-25T02:24:48.153Z"
   },
   {
    "duration": 17,
    "start_time": "2024-10-25T02:24:48.157Z"
   },
   {
    "duration": 2,
    "start_time": "2024-10-25T02:24:48.178Z"
   },
   {
    "duration": 9,
    "start_time": "2024-10-25T02:24:48.182Z"
   },
   {
    "duration": 2,
    "start_time": "2024-10-25T02:24:48.193Z"
   },
   {
    "duration": 30,
    "start_time": "2024-10-25T02:24:48.197Z"
   },
   {
    "duration": 17,
    "start_time": "2024-10-25T02:24:48.228Z"
   },
   {
    "duration": 5,
    "start_time": "2024-10-25T02:24:48.246Z"
   },
   {
    "duration": 9,
    "start_time": "2024-10-25T02:24:48.252Z"
   },
   {
    "duration": 8,
    "start_time": "2024-10-25T02:24:48.263Z"
   },
   {
    "duration": 11,
    "start_time": "2024-10-25T02:24:48.273Z"
   },
   {
    "duration": 4,
    "start_time": "2024-10-25T02:24:48.323Z"
   },
   {
    "duration": 9,
    "start_time": "2024-10-25T02:24:48.329Z"
   },
   {
    "duration": 7,
    "start_time": "2024-10-25T02:24:48.339Z"
   },
   {
    "duration": 8,
    "start_time": "2024-10-25T02:24:48.347Z"
   },
   {
    "duration": 251,
    "start_time": "2024-10-25T02:24:48.357Z"
   },
   {
    "duration": 14,
    "start_time": "2024-10-25T02:24:48.610Z"
   },
   {
    "duration": 5,
    "start_time": "2024-10-25T02:24:48.626Z"
   },
   {
    "duration": 169,
    "start_time": "2024-10-25T02:24:48.633Z"
   },
   {
    "duration": 162,
    "start_time": "2024-10-25T02:24:48.805Z"
   },
   {
    "duration": 240,
    "start_time": "2024-10-25T02:24:48.969Z"
   },
   {
    "duration": 12,
    "start_time": "2024-10-25T02:24:49.212Z"
   },
   {
    "duration": 189,
    "start_time": "2024-10-25T02:24:49.227Z"
   },
   {
    "duration": 7,
    "start_time": "2024-10-25T02:24:49.418Z"
   },
   {
    "duration": 284,
    "start_time": "2024-10-25T02:24:49.427Z"
   },
   {
    "duration": 13,
    "start_time": "2024-10-25T02:24:49.713Z"
   },
   {
    "duration": 107,
    "start_time": "2024-10-25T02:24:49.728Z"
   },
   {
    "duration": 120,
    "start_time": "2024-10-25T02:24:49.837Z"
   },
   {
    "duration": 3,
    "start_time": "2024-10-25T02:24:49.959Z"
   },
   {
    "duration": 3,
    "start_time": "2024-10-25T02:24:49.963Z"
   },
   {
    "duration": 130,
    "start_time": "2024-10-25T02:24:49.969Z"
   },
   {
    "duration": 140,
    "start_time": "2024-10-25T02:24:50.101Z"
   },
   {
    "duration": 4,
    "start_time": "2024-10-25T02:24:50.243Z"
   },
   {
    "duration": 121,
    "start_time": "2024-10-25T02:24:50.249Z"
   },
   {
    "duration": 6,
    "start_time": "2024-10-25T02:24:50.371Z"
   },
   {
    "duration": 319,
    "start_time": "2024-10-25T02:24:50.378Z"
   },
   {
    "duration": 0,
    "start_time": "2024-10-25T02:24:50.698Z"
   },
   {
    "duration": 0,
    "start_time": "2024-10-25T02:24:50.699Z"
   },
   {
    "duration": 6,
    "start_time": "2024-10-25T02:27:08.803Z"
   },
   {
    "duration": 7,
    "start_time": "2024-10-25T02:27:31.360Z"
   },
   {
    "duration": 6,
    "start_time": "2024-10-25T02:27:34.243Z"
   },
   {
    "duration": 65,
    "start_time": "2024-10-25T02:27:38.499Z"
   },
   {
    "duration": 7,
    "start_time": "2024-10-25T02:28:39.788Z"
   },
   {
    "duration": 133,
    "start_time": "2024-10-25T02:28:44.993Z"
   },
   {
    "duration": 4,
    "start_time": "2024-10-25T02:33:50.430Z"
   },
   {
    "duration": 3,
    "start_time": "2024-10-25T02:33:56.797Z"
   },
   {
    "duration": 74,
    "start_time": "2024-10-25T02:34:27.509Z"
   },
   {
    "duration": 4,
    "start_time": "2024-10-25T02:35:33.229Z"
   },
   {
    "duration": 6,
    "start_time": "2024-10-25T02:35:34.864Z"
   },
   {
    "duration": 3,
    "start_time": "2024-10-25T02:35:35.834Z"
   },
   {
    "duration": 15,
    "start_time": "2024-10-25T02:35:39.654Z"
   },
   {
    "duration": 10,
    "start_time": "2024-10-25T02:36:16.197Z"
   },
   {
    "duration": 4,
    "start_time": "2024-10-25T02:39:46.225Z"
   },
   {
    "duration": 7,
    "start_time": "2024-10-25T02:40:09.283Z"
   },
   {
    "duration": 9,
    "start_time": "2024-10-25T02:42:08.078Z"
   },
   {
    "duration": 9,
    "start_time": "2024-10-25T02:44:00.911Z"
   },
   {
    "duration": 4,
    "start_time": "2024-10-25T02:52:36.138Z"
   },
   {
    "duration": 5,
    "start_time": "2024-10-25T02:53:09.216Z"
   },
   {
    "duration": 4,
    "start_time": "2024-10-25T02:54:09.656Z"
   },
   {
    "duration": 4,
    "start_time": "2024-10-25T02:54:39.162Z"
   },
   {
    "duration": 505,
    "start_time": "2024-10-25T02:55:51.840Z"
   },
   {
    "duration": 5,
    "start_time": "2024-10-25T02:58:39.578Z"
   },
   {
    "duration": 46,
    "start_time": "2024-10-25T03:03:02.118Z"
   },
   {
    "duration": 44,
    "start_time": "2024-10-25T03:03:43.278Z"
   },
   {
    "duration": 20,
    "start_time": "2024-10-25T03:03:51.223Z"
   },
   {
    "duration": 7,
    "start_time": "2024-10-25T03:04:04.494Z"
   },
   {
    "duration": 4,
    "start_time": "2024-10-25T03:22:45.688Z"
   },
   {
    "duration": 3,
    "start_time": "2024-10-25T03:24:54.169Z"
   },
   {
    "duration": 44,
    "start_time": "2024-10-25T03:26:17.245Z"
   },
   {
    "duration": 6,
    "start_time": "2024-10-25T03:26:34.878Z"
   },
   {
    "duration": 8,
    "start_time": "2024-10-25T03:30:57.688Z"
   },
   {
    "duration": 16,
    "start_time": "2024-10-25T03:46:58.010Z"
   },
   {
    "duration": 16,
    "start_time": "2024-10-25T03:47:44.083Z"
   },
   {
    "duration": 8,
    "start_time": "2024-10-25T03:52:45.264Z"
   },
   {
    "duration": 8,
    "start_time": "2024-10-25T03:52:46.649Z"
   },
   {
    "duration": 15,
    "start_time": "2024-10-25T03:52:47.671Z"
   },
   {
    "duration": 7,
    "start_time": "2024-10-25T03:52:58.779Z"
   },
   {
    "duration": 8,
    "start_time": "2024-10-25T03:53:08.029Z"
   },
   {
    "duration": 8,
    "start_time": "2024-10-25T03:53:08.803Z"
   },
   {
    "duration": 18,
    "start_time": "2024-10-25T03:53:09.607Z"
   },
   {
    "duration": 7,
    "start_time": "2024-10-25T03:53:59.341Z"
   },
   {
    "duration": 8,
    "start_time": "2024-10-25T03:54:01.237Z"
   },
   {
    "duration": 16,
    "start_time": "2024-10-25T03:54:02.134Z"
   },
   {
    "duration": 717,
    "start_time": "2024-10-25T03:54:34.311Z"
   },
   {
    "duration": 15,
    "start_time": "2024-10-25T03:54:35.031Z"
   },
   {
    "duration": 3,
    "start_time": "2024-10-25T03:54:35.047Z"
   },
   {
    "duration": 18,
    "start_time": "2024-10-25T03:54:35.052Z"
   },
   {
    "duration": 2,
    "start_time": "2024-10-25T03:54:35.072Z"
   },
   {
    "duration": 8,
    "start_time": "2024-10-25T03:54:35.076Z"
   },
   {
    "duration": 3,
    "start_time": "2024-10-25T03:54:35.085Z"
   },
   {
    "duration": 5,
    "start_time": "2024-10-25T03:54:35.090Z"
   },
   {
    "duration": 41,
    "start_time": "2024-10-25T03:54:35.097Z"
   },
   {
    "duration": 4,
    "start_time": "2024-10-25T03:54:35.140Z"
   },
   {
    "duration": 9,
    "start_time": "2024-10-25T03:54:35.146Z"
   },
   {
    "duration": 8,
    "start_time": "2024-10-25T03:54:35.156Z"
   },
   {
    "duration": 12,
    "start_time": "2024-10-25T03:54:35.166Z"
   },
   {
    "duration": 3,
    "start_time": "2024-10-25T03:54:35.183Z"
   },
   {
    "duration": 10,
    "start_time": "2024-10-25T03:54:35.225Z"
   },
   {
    "duration": 7,
    "start_time": "2024-10-25T03:54:35.237Z"
   },
   {
    "duration": 6,
    "start_time": "2024-10-25T03:54:35.246Z"
   },
   {
    "duration": 243,
    "start_time": "2024-10-25T03:54:35.255Z"
   },
   {
    "duration": 7,
    "start_time": "2024-10-25T03:54:35.500Z"
   },
   {
    "duration": 18,
    "start_time": "2024-10-25T03:54:35.508Z"
   },
   {
    "duration": 166,
    "start_time": "2024-10-25T03:54:35.528Z"
   },
   {
    "duration": 161,
    "start_time": "2024-10-25T03:54:35.696Z"
   },
   {
    "duration": 246,
    "start_time": "2024-10-25T03:54:35.859Z"
   },
   {
    "duration": 5,
    "start_time": "2024-10-25T03:54:36.107Z"
   },
   {
    "duration": 195,
    "start_time": "2024-10-25T03:54:36.113Z"
   },
   {
    "duration": 6,
    "start_time": "2024-10-25T03:54:36.311Z"
   },
   {
    "duration": 294,
    "start_time": "2024-10-25T03:54:36.319Z"
   },
   {
    "duration": 5,
    "start_time": "2024-10-25T03:54:36.623Z"
   },
   {
    "duration": 105,
    "start_time": "2024-10-25T03:54:36.629Z"
   },
   {
    "duration": 121,
    "start_time": "2024-10-25T03:54:36.735Z"
   },
   {
    "duration": 4,
    "start_time": "2024-10-25T03:54:36.858Z"
   },
   {
    "duration": 3,
    "start_time": "2024-10-25T03:54:36.864Z"
   },
   {
    "duration": 131,
    "start_time": "2024-10-25T03:54:36.868Z"
   },
   {
    "duration": 135,
    "start_time": "2024-10-25T03:54:37.002Z"
   },
   {
    "duration": 4,
    "start_time": "2024-10-25T03:54:37.139Z"
   },
   {
    "duration": 122,
    "start_time": "2024-10-25T03:54:37.145Z"
   },
   {
    "duration": 4,
    "start_time": "2024-10-25T03:54:37.268Z"
   },
   {
    "duration": 6,
    "start_time": "2024-10-25T03:54:37.274Z"
   },
   {
    "duration": 16,
    "start_time": "2024-10-25T03:54:37.282Z"
   },
   {
    "duration": 24,
    "start_time": "2024-10-25T03:54:37.300Z"
   },
   {
    "duration": 7,
    "start_time": "2024-10-25T03:54:37.329Z"
   },
   {
    "duration": 7,
    "start_time": "2024-10-25T03:54:37.337Z"
   },
   {
    "duration": 15,
    "start_time": "2024-10-25T03:54:37.346Z"
   },
   {
    "duration": 8,
    "start_time": "2024-10-25T03:55:26.550Z"
   },
   {
    "duration": 9,
    "start_time": "2024-10-25T03:55:30.204Z"
   },
   {
    "duration": 15,
    "start_time": "2024-10-25T03:55:30.723Z"
   },
   {
    "duration": 7,
    "start_time": "2024-10-25T03:57:15.988Z"
   },
   {
    "duration": 8,
    "start_time": "2024-10-25T03:57:17.314Z"
   },
   {
    "duration": 15,
    "start_time": "2024-10-25T03:57:18.281Z"
   },
   {
    "duration": 16,
    "start_time": "2024-10-25T04:08:14.977Z"
   },
   {
    "duration": 7,
    "start_time": "2024-10-25T04:09:11.590Z"
   },
   {
    "duration": 8,
    "start_time": "2024-10-25T04:09:14.160Z"
   },
   {
    "duration": 15,
    "start_time": "2024-10-25T04:09:15.054Z"
   },
   {
    "duration": 16,
    "start_time": "2024-10-25T04:09:58.440Z"
   },
   {
    "duration": 16,
    "start_time": "2024-10-25T04:10:07.894Z"
   },
   {
    "duration": 24,
    "start_time": "2024-10-25T04:10:18.031Z"
   },
   {
    "duration": 9,
    "start_time": "2024-10-25T04:12:27.517Z"
   },
   {
    "duration": 8,
    "start_time": "2024-10-25T04:12:34.665Z"
   },
   {
    "duration": 15,
    "start_time": "2024-10-25T04:12:37.018Z"
   },
   {
    "duration": 4,
    "start_time": "2024-10-25T04:14:05.814Z"
   },
   {
    "duration": 4,
    "start_time": "2024-10-25T04:14:11.779Z"
   },
   {
    "duration": 134,
    "start_time": "2024-10-25T04:15:41.926Z"
   },
   {
    "duration": 6,
    "start_time": "2024-10-25T04:16:51.719Z"
   },
   {
    "duration": 25,
    "start_time": "2024-10-25T04:16:56.290Z"
   },
   {
    "duration": 15,
    "start_time": "2024-10-25T04:17:10.532Z"
   },
   {
    "duration": 5,
    "start_time": "2024-10-25T04:19:02.199Z"
   },
   {
    "duration": 714,
    "start_time": "2024-10-25T04:20:55.010Z"
   },
   {
    "duration": 16,
    "start_time": "2024-10-25T04:20:55.726Z"
   },
   {
    "duration": 4,
    "start_time": "2024-10-25T04:20:55.743Z"
   },
   {
    "duration": 19,
    "start_time": "2024-10-25T04:20:55.748Z"
   },
   {
    "duration": 3,
    "start_time": "2024-10-25T04:20:55.770Z"
   },
   {
    "duration": 8,
    "start_time": "2024-10-25T04:20:55.775Z"
   },
   {
    "duration": 3,
    "start_time": "2024-10-25T04:20:55.784Z"
   },
   {
    "duration": 35,
    "start_time": "2024-10-25T04:20:55.789Z"
   },
   {
    "duration": 17,
    "start_time": "2024-10-25T04:20:55.826Z"
   },
   {
    "duration": 5,
    "start_time": "2024-10-25T04:20:55.845Z"
   },
   {
    "duration": 9,
    "start_time": "2024-10-25T04:20:55.851Z"
   },
   {
    "duration": 9,
    "start_time": "2024-10-25T04:20:55.862Z"
   },
   {
    "duration": 13,
    "start_time": "2024-10-25T04:20:55.873Z"
   },
   {
    "duration": 5,
    "start_time": "2024-10-25T04:20:55.925Z"
   },
   {
    "duration": 9,
    "start_time": "2024-10-25T04:20:55.931Z"
   },
   {
    "duration": 6,
    "start_time": "2024-10-25T04:20:55.942Z"
   },
   {
    "duration": 7,
    "start_time": "2024-10-25T04:20:55.950Z"
   },
   {
    "duration": 252,
    "start_time": "2024-10-25T04:20:55.958Z"
   },
   {
    "duration": 16,
    "start_time": "2024-10-25T04:20:56.212Z"
   },
   {
    "duration": 6,
    "start_time": "2024-10-25T04:20:56.229Z"
   },
   {
    "duration": 173,
    "start_time": "2024-10-25T04:20:56.237Z"
   },
   {
    "duration": 159,
    "start_time": "2024-10-25T04:20:56.412Z"
   },
   {
    "duration": 240,
    "start_time": "2024-10-25T04:20:56.573Z"
   },
   {
    "duration": 5,
    "start_time": "2024-10-25T04:20:56.823Z"
   },
   {
    "duration": 188,
    "start_time": "2024-10-25T04:20:56.830Z"
   },
   {
    "duration": 6,
    "start_time": "2024-10-25T04:20:57.020Z"
   },
   {
    "duration": 279,
    "start_time": "2024-10-25T04:20:57.027Z"
   },
   {
    "duration": 17,
    "start_time": "2024-10-25T04:20:57.308Z"
   },
   {
    "duration": 101,
    "start_time": "2024-10-25T04:20:57.327Z"
   },
   {
    "duration": 129,
    "start_time": "2024-10-25T04:20:57.430Z"
   },
   {
    "duration": 4,
    "start_time": "2024-10-25T04:20:57.561Z"
   },
   {
    "duration": 3,
    "start_time": "2024-10-25T04:20:57.567Z"
   },
   {
    "duration": 137,
    "start_time": "2024-10-25T04:20:57.572Z"
   },
   {
    "duration": 143,
    "start_time": "2024-10-25T04:20:57.711Z"
   },
   {
    "duration": 4,
    "start_time": "2024-10-25T04:20:57.856Z"
   },
   {
    "duration": 126,
    "start_time": "2024-10-25T04:20:57.861Z"
   },
   {
    "duration": 3,
    "start_time": "2024-10-25T04:20:57.988Z"
   },
   {
    "duration": 6,
    "start_time": "2024-10-25T04:20:57.992Z"
   },
   {
    "duration": 337,
    "start_time": "2024-10-25T04:20:57.999Z"
   },
   {
    "duration": 0,
    "start_time": "2024-10-25T04:20:58.338Z"
   },
   {
    "duration": 0,
    "start_time": "2024-10-25T04:20:58.339Z"
   },
   {
    "duration": 0,
    "start_time": "2024-10-25T04:20:58.340Z"
   },
   {
    "duration": 0,
    "start_time": "2024-10-25T04:20:58.341Z"
   },
   {
    "duration": 0,
    "start_time": "2024-10-25T04:20:58.342Z"
   },
   {
    "duration": 8,
    "start_time": "2024-10-25T04:21:07.784Z"
   },
   {
    "duration": 214,
    "start_time": "2024-10-25T04:21:08.975Z"
   },
   {
    "duration": 18,
    "start_time": "2024-10-25T04:21:30.202Z"
   },
   {
    "duration": 4,
    "start_time": "2024-10-25T04:22:47.123Z"
   },
   {
    "duration": 10,
    "start_time": "2024-10-25T04:22:48.122Z"
   },
   {
    "duration": 5,
    "start_time": "2024-10-25T04:22:50.350Z"
   },
   {
    "duration": 8,
    "start_time": "2024-10-25T04:23:37.124Z"
   },
   {
    "duration": 5,
    "start_time": "2024-10-25T04:23:54.159Z"
   },
   {
    "duration": 5,
    "start_time": "2024-10-25T04:24:56.228Z"
   },
   {
    "duration": 112,
    "start_time": "2024-10-25T04:29:40.370Z"
   },
   {
    "duration": 6,
    "start_time": "2024-10-25T04:29:50.093Z"
   },
   {
    "duration": 16,
    "start_time": "2024-10-25T04:29:52.669Z"
   },
   {
    "duration": 8,
    "start_time": "2024-10-25T04:29:56.788Z"
   },
   {
    "duration": 7,
    "start_time": "2024-10-25T04:29:57.813Z"
   },
   {
    "duration": 9,
    "start_time": "2024-10-25T04:29:58.722Z"
   },
   {
    "duration": 4,
    "start_time": "2024-10-25T04:30:06.881Z"
   },
   {
    "duration": 16,
    "start_time": "2024-10-25T04:31:11.243Z"
   },
   {
    "duration": 7,
    "start_time": "2024-10-25T04:33:05.048Z"
   },
   {
    "duration": 8,
    "start_time": "2024-10-25T04:33:06.249Z"
   },
   {
    "duration": 17,
    "start_time": "2024-10-25T04:33:07.085Z"
   },
   {
    "duration": 2710,
    "start_time": "2024-10-25T06:54:32.555Z"
   },
   {
    "duration": 21,
    "start_time": "2024-10-25T06:54:35.267Z"
   },
   {
    "duration": 4,
    "start_time": "2024-10-25T06:54:35.290Z"
   },
   {
    "duration": 21,
    "start_time": "2024-10-25T06:54:35.295Z"
   },
   {
    "duration": 3,
    "start_time": "2024-10-25T06:54:35.320Z"
   },
   {
    "duration": 21,
    "start_time": "2024-10-25T06:54:35.325Z"
   },
   {
    "duration": 3,
    "start_time": "2024-10-25T06:54:35.349Z"
   },
   {
    "duration": 6,
    "start_time": "2024-10-25T06:54:35.354Z"
   },
   {
    "duration": 19,
    "start_time": "2024-10-25T06:54:35.361Z"
   },
   {
    "duration": 5,
    "start_time": "2024-10-25T06:54:35.382Z"
   },
   {
    "duration": 10,
    "start_time": "2024-10-25T06:54:35.389Z"
   },
   {
    "duration": 47,
    "start_time": "2024-10-25T06:54:35.400Z"
   },
   {
    "duration": 21,
    "start_time": "2024-10-25T06:54:35.450Z"
   },
   {
    "duration": 4,
    "start_time": "2024-10-25T06:54:35.477Z"
   },
   {
    "duration": 9,
    "start_time": "2024-10-25T06:54:35.484Z"
   },
   {
    "duration": 8,
    "start_time": "2024-10-25T06:54:35.496Z"
   },
   {
    "duration": 44,
    "start_time": "2024-10-25T06:54:35.505Z"
   },
   {
    "duration": 239,
    "start_time": "2024-10-25T06:54:35.551Z"
   },
   {
    "duration": 5,
    "start_time": "2024-10-25T06:54:35.792Z"
   },
   {
    "duration": 6,
    "start_time": "2024-10-25T06:54:35.799Z"
   },
   {
    "duration": 189,
    "start_time": "2024-10-25T06:54:35.807Z"
   },
   {
    "duration": 172,
    "start_time": "2024-10-25T06:54:35.997Z"
   },
   {
    "duration": 276,
    "start_time": "2024-10-25T06:54:36.171Z"
   },
   {
    "duration": 5,
    "start_time": "2024-10-25T06:54:36.450Z"
   },
   {
    "duration": 214,
    "start_time": "2024-10-25T06:54:36.457Z"
   },
   {
    "duration": 7,
    "start_time": "2024-10-25T06:54:36.673Z"
   },
   {
    "duration": 243,
    "start_time": "2024-10-25T06:54:36.682Z"
   },
   {
    "duration": 17,
    "start_time": "2024-10-25T06:54:36.927Z"
   },
   {
    "duration": 105,
    "start_time": "2024-10-25T06:54:36.946Z"
   },
   {
    "duration": 137,
    "start_time": "2024-10-25T06:54:37.054Z"
   },
   {
    "duration": 3,
    "start_time": "2024-10-25T06:54:37.194Z"
   },
   {
    "duration": 4,
    "start_time": "2024-10-25T06:54:37.199Z"
   },
   {
    "duration": 141,
    "start_time": "2024-10-25T06:54:37.205Z"
   },
   {
    "duration": 143,
    "start_time": "2024-10-25T06:54:37.348Z"
   },
   {
    "duration": 3,
    "start_time": "2024-10-25T06:54:37.493Z"
   },
   {
    "duration": 133,
    "start_time": "2024-10-25T06:54:37.498Z"
   },
   {
    "duration": 10,
    "start_time": "2024-10-25T06:54:37.633Z"
   },
   {
    "duration": 18,
    "start_time": "2024-10-25T06:54:37.645Z"
   },
   {
    "duration": 8,
    "start_time": "2024-10-25T06:54:37.665Z"
   },
   {
    "duration": 8,
    "start_time": "2024-10-25T06:54:37.675Z"
   },
   {
    "duration": 9,
    "start_time": "2024-10-25T06:54:37.687Z"
   },
   {
    "duration": 47,
    "start_time": "2024-10-25T06:54:37.697Z"
   },
   {
    "duration": 8,
    "start_time": "2024-10-25T06:58:21.342Z"
   },
   {
    "duration": 17,
    "start_time": "2024-10-25T06:58:22.050Z"
   },
   {
    "duration": 11,
    "start_time": "2024-10-25T06:58:36.305Z"
   },
   {
    "duration": 16,
    "start_time": "2024-10-25T06:58:36.824Z"
   },
   {
    "duration": 8,
    "start_time": "2024-10-25T07:04:00.269Z"
   },
   {
    "duration": 8,
    "start_time": "2024-10-25T07:04:33.507Z"
   },
   {
    "duration": 8,
    "start_time": "2024-10-25T07:05:07.202Z"
   },
   {
    "duration": 9,
    "start_time": "2024-10-25T07:05:26.151Z"
   },
   {
    "duration": 4,
    "start_time": "2024-10-25T07:09:54.841Z"
   },
   {
    "duration": 12,
    "start_time": "2024-10-25T07:12:41.166Z"
   },
   {
    "duration": 163,
    "start_time": "2024-10-25T15:32:05.509Z"
   },
   {
    "duration": 2594,
    "start_time": "2024-10-25T15:32:18.981Z"
   },
   {
    "duration": 23,
    "start_time": "2024-10-25T15:32:21.577Z"
   },
   {
    "duration": 2,
    "start_time": "2024-10-25T15:32:21.602Z"
   },
   {
    "duration": 19,
    "start_time": "2024-10-25T15:32:21.607Z"
   },
   {
    "duration": 3,
    "start_time": "2024-10-25T15:32:21.628Z"
   },
   {
    "duration": 13,
    "start_time": "2024-10-25T15:32:21.633Z"
   },
   {
    "duration": 3,
    "start_time": "2024-10-25T15:32:21.647Z"
   },
   {
    "duration": 4,
    "start_time": "2024-10-25T15:32:21.652Z"
   },
   {
    "duration": 17,
    "start_time": "2024-10-25T15:32:21.658Z"
   },
   {
    "duration": 5,
    "start_time": "2024-10-25T15:32:21.677Z"
   },
   {
    "duration": 9,
    "start_time": "2024-10-25T15:32:21.683Z"
   },
   {
    "duration": 8,
    "start_time": "2024-10-25T15:32:21.693Z"
   },
   {
    "duration": 14,
    "start_time": "2024-10-25T15:32:21.744Z"
   },
   {
    "duration": 4,
    "start_time": "2024-10-25T15:32:21.761Z"
   },
   {
    "duration": 9,
    "start_time": "2024-10-25T15:32:21.766Z"
   },
   {
    "duration": 7,
    "start_time": "2024-10-25T15:32:21.777Z"
   },
   {
    "duration": 6,
    "start_time": "2024-10-25T15:32:21.786Z"
   },
   {
    "duration": 315,
    "start_time": "2024-10-25T15:32:21.794Z"
   },
   {
    "duration": 11,
    "start_time": "2024-10-25T15:32:22.111Z"
   },
   {
    "duration": 12,
    "start_time": "2024-10-25T15:32:22.124Z"
   },
   {
    "duration": 174,
    "start_time": "2024-10-25T15:32:26.762Z"
   },
   {
    "duration": 197,
    "start_time": "2024-10-25T15:33:31.278Z"
   },
   {
    "duration": 166,
    "start_time": "2024-10-25T15:34:28.384Z"
   },
   {
    "duration": 166,
    "start_time": "2024-10-25T15:40:06.829Z"
   },
   {
    "duration": 280,
    "start_time": "2024-10-25T15:40:30.518Z"
   },
   {
    "duration": 283,
    "start_time": "2024-10-25T15:46:07.589Z"
   },
   {
    "duration": 252,
    "start_time": "2024-10-25T15:46:16.522Z"
   },
   {
    "duration": 5,
    "start_time": "2024-10-25T15:46:18.373Z"
   },
   {
    "duration": 180,
    "start_time": "2024-10-25T15:46:19.776Z"
   },
   {
    "duration": 7,
    "start_time": "2024-10-25T15:46:24.054Z"
   },
   {
    "duration": 256,
    "start_time": "2024-10-25T15:46:25.039Z"
   },
   {
    "duration": 18,
    "start_time": "2024-10-25T15:50:37.182Z"
   },
   {
    "duration": 5,
    "start_time": "2024-10-25T15:51:48.537Z"
   },
   {
    "duration": 185,
    "start_time": "2024-10-25T15:51:49.173Z"
   },
   {
    "duration": 6,
    "start_time": "2024-10-25T15:51:58.637Z"
   },
   {
    "duration": 243,
    "start_time": "2024-10-25T15:51:59.288Z"
   },
   {
    "duration": 267,
    "start_time": "2024-10-25T15:52:44.170Z"
   },
   {
    "duration": 17,
    "start_time": "2024-10-25T15:56:29.146Z"
   },
   {
    "duration": 5,
    "start_time": "2024-10-25T15:56:33.218Z"
   },
   {
    "duration": 115,
    "start_time": "2024-10-25T15:56:33.905Z"
   },
   {
    "duration": 115,
    "start_time": "2024-10-25T15:56:46.406Z"
   },
   {
    "duration": 119,
    "start_time": "2024-10-25T15:57:01.976Z"
   },
   {
    "duration": 4,
    "start_time": "2024-10-25T15:59:47.982Z"
   },
   {
    "duration": 131,
    "start_time": "2024-10-25T16:02:58.341Z"
   },
   {
    "duration": 135,
    "start_time": "2024-10-25T16:03:50.016Z"
   },
   {
    "duration": 140,
    "start_time": "2024-10-25T16:06:15.772Z"
   },
   {
    "duration": 16,
    "start_time": "2024-10-25T16:07:12.699Z"
   },
   {
    "duration": 6,
    "start_time": "2024-10-25T16:07:18.059Z"
   },
   {
    "duration": 133,
    "start_time": "2024-10-25T16:07:18.689Z"
   },
   {
    "duration": 227,
    "start_time": "2024-10-25T16:07:19.422Z"
   },
   {
    "duration": 4,
    "start_time": "2024-10-25T16:10:08.894Z"
   },
   {
    "duration": 2522,
    "start_time": "2024-10-25T17:59:19.902Z"
   },
   {
    "duration": 17,
    "start_time": "2024-10-25T17:59:22.427Z"
   },
   {
    "duration": 3,
    "start_time": "2024-10-25T17:59:22.446Z"
   },
   {
    "duration": 27,
    "start_time": "2024-10-25T17:59:22.451Z"
   },
   {
    "duration": 2,
    "start_time": "2024-10-25T17:59:22.480Z"
   },
   {
    "duration": 8,
    "start_time": "2024-10-25T17:59:22.484Z"
   },
   {
    "duration": 3,
    "start_time": "2024-10-25T17:59:22.493Z"
   },
   {
    "duration": 5,
    "start_time": "2024-10-25T17:59:22.498Z"
   },
   {
    "duration": 15,
    "start_time": "2024-10-25T17:59:22.505Z"
   },
   {
    "duration": 4,
    "start_time": "2024-10-25T17:59:22.522Z"
   },
   {
    "duration": 43,
    "start_time": "2024-10-25T17:59:22.528Z"
   },
   {
    "duration": 8,
    "start_time": "2024-10-25T17:59:22.573Z"
   },
   {
    "duration": 12,
    "start_time": "2024-10-25T17:59:22.583Z"
   },
   {
    "duration": 4,
    "start_time": "2024-10-25T17:59:22.598Z"
   },
   {
    "duration": 8,
    "start_time": "2024-10-25T17:59:22.604Z"
   },
   {
    "duration": 7,
    "start_time": "2024-10-25T17:59:22.613Z"
   },
   {
    "duration": 6,
    "start_time": "2024-10-25T17:59:22.622Z"
   },
   {
    "duration": 241,
    "start_time": "2024-10-25T17:59:22.670Z"
   },
   {
    "duration": 6,
    "start_time": "2024-10-25T17:59:22.912Z"
   },
   {
    "duration": 6,
    "start_time": "2024-10-25T17:59:22.921Z"
   },
   {
    "duration": 189,
    "start_time": "2024-10-25T17:59:22.929Z"
   },
   {
    "duration": 198,
    "start_time": "2024-10-25T17:59:23.120Z"
   },
   {
    "duration": 261,
    "start_time": "2024-10-25T17:59:23.320Z"
   },
   {
    "duration": 5,
    "start_time": "2024-10-25T17:59:23.583Z"
   },
   {
    "duration": 195,
    "start_time": "2024-10-25T17:59:23.589Z"
   },
   {
    "duration": 6,
    "start_time": "2024-10-25T17:59:23.786Z"
   },
   {
    "duration": 270,
    "start_time": "2024-10-25T17:59:23.794Z"
   },
   {
    "duration": 4,
    "start_time": "2024-10-25T17:59:24.070Z"
   },
   {
    "duration": 124,
    "start_time": "2024-10-25T17:59:24.075Z"
   },
   {
    "duration": 125,
    "start_time": "2024-10-25T17:59:24.201Z"
   },
   {
    "duration": 4,
    "start_time": "2024-10-25T17:59:24.328Z"
   },
   {
    "duration": 3,
    "start_time": "2024-10-25T17:59:24.334Z"
   },
   {
    "duration": 150,
    "start_time": "2024-10-25T17:59:24.339Z"
   },
   {
    "duration": 142,
    "start_time": "2024-10-25T17:59:24.491Z"
   },
   {
    "duration": 4,
    "start_time": "2024-10-25T17:59:24.635Z"
   },
   {
    "duration": 151,
    "start_time": "2024-10-25T17:59:24.641Z"
   },
   {
    "duration": 8,
    "start_time": "2024-10-25T17:59:24.794Z"
   },
   {
    "duration": 18,
    "start_time": "2024-10-25T17:59:24.804Z"
   },
   {
    "duration": 12,
    "start_time": "2024-10-25T17:59:24.823Z"
   },
   {
    "duration": 10,
    "start_time": "2024-10-25T17:59:24.836Z"
   },
   {
    "duration": 13,
    "start_time": "2024-10-25T17:59:24.874Z"
   },
   {
    "duration": 24,
    "start_time": "2024-10-25T17:59:24.888Z"
   },
   {
    "duration": 14,
    "start_time": "2024-10-25T17:59:24.914Z"
   },
   {
    "duration": 2577,
    "start_time": "2024-10-28T17:59:33.598Z"
   },
   {
    "duration": 22,
    "start_time": "2024-10-28T17:59:36.177Z"
   },
   {
    "duration": 3,
    "start_time": "2024-10-28T17:59:36.201Z"
   },
   {
    "duration": 21,
    "start_time": "2024-10-28T17:59:36.213Z"
   },
   {
    "duration": 9,
    "start_time": "2024-10-28T17:59:36.236Z"
   },
   {
    "duration": 9,
    "start_time": "2024-10-28T17:59:36.246Z"
   },
   {
    "duration": 3,
    "start_time": "2024-10-28T17:59:36.256Z"
   },
   {
    "duration": 5,
    "start_time": "2024-10-28T17:59:36.260Z"
   },
   {
    "duration": 16,
    "start_time": "2024-10-28T17:59:36.267Z"
   },
   {
    "duration": 5,
    "start_time": "2024-10-28T17:59:36.284Z"
   },
   {
    "duration": 42,
    "start_time": "2024-10-28T17:59:36.290Z"
   },
   {
    "duration": 9,
    "start_time": "2024-10-28T17:59:36.334Z"
   },
   {
    "duration": 11,
    "start_time": "2024-10-28T17:59:36.344Z"
   },
   {
    "duration": 3,
    "start_time": "2024-10-28T17:59:36.359Z"
   },
   {
    "duration": 8,
    "start_time": "2024-10-28T17:59:36.364Z"
   },
   {
    "duration": 8,
    "start_time": "2024-10-28T17:59:36.374Z"
   },
   {
    "duration": 49,
    "start_time": "2024-10-28T17:59:36.383Z"
   },
   {
    "duration": 272,
    "start_time": "2024-10-28T17:59:36.434Z"
   },
   {
    "duration": 7,
    "start_time": "2024-10-28T17:59:36.708Z"
   },
   {
    "duration": 4,
    "start_time": "2024-10-28T17:59:36.716Z"
   },
   {
    "duration": 198,
    "start_time": "2024-10-28T17:59:36.722Z"
   },
   {
    "duration": 204,
    "start_time": "2024-10-28T17:59:36.922Z"
   },
   {
    "duration": 289,
    "start_time": "2024-10-28T17:59:37.128Z"
   },
   {
    "duration": 20,
    "start_time": "2024-10-28T17:59:37.418Z"
   },
   {
    "duration": 201,
    "start_time": "2024-10-28T17:59:37.439Z"
   },
   {
    "duration": 6,
    "start_time": "2024-10-28T17:59:37.642Z"
   },
   {
    "duration": 246,
    "start_time": "2024-10-28T17:59:37.650Z"
   },
   {
    "duration": 10,
    "start_time": "2024-10-28T17:59:37.898Z"
   },
   {
    "duration": 116,
    "start_time": "2024-10-28T17:59:37.910Z"
   },
   {
    "duration": 116,
    "start_time": "2024-10-28T17:59:38.030Z"
   },
   {
    "duration": 3,
    "start_time": "2024-10-28T17:59:38.148Z"
   },
   {
    "duration": 3,
    "start_time": "2024-10-28T17:59:38.153Z"
   },
   {
    "duration": 155,
    "start_time": "2024-10-28T17:59:38.157Z"
   },
   {
    "duration": 144,
    "start_time": "2024-10-28T17:59:38.313Z"
   },
   {
    "duration": 4,
    "start_time": "2024-10-28T17:59:38.459Z"
   },
   {
    "duration": 129,
    "start_time": "2024-10-28T17:59:38.464Z"
   },
   {
    "duration": 34,
    "start_time": "2024-10-28T17:59:38.595Z"
   },
   {
    "duration": 16,
    "start_time": "2024-10-28T17:59:38.634Z"
   },
   {
    "duration": 8,
    "start_time": "2024-10-28T17:59:38.652Z"
   },
   {
    "duration": 7,
    "start_time": "2024-10-28T17:59:38.662Z"
   },
   {
    "duration": 8,
    "start_time": "2024-10-28T17:59:38.673Z"
   },
   {
    "duration": 31,
    "start_time": "2024-10-28T17:59:38.683Z"
   },
   {
    "duration": 16,
    "start_time": "2024-10-28T17:59:38.716Z"
   },
   {
    "duration": 298,
    "start_time": "2024-10-28T18:04:15.330Z"
   },
   {
    "duration": 418,
    "start_time": "2024-10-28T18:04:40.713Z"
   },
   {
    "duration": 123,
    "start_time": "2024-10-28T18:05:05.205Z"
   },
   {
    "duration": 218,
    "start_time": "2024-10-28T18:06:23.514Z"
   },
   {
    "duration": 262,
    "start_time": "2024-10-28T18:11:15.875Z"
   },
   {
    "duration": 177,
    "start_time": "2024-10-28T18:21:40.275Z"
   },
   {
    "duration": 40,
    "start_time": "2024-10-28T18:22:02.976Z"
   },
   {
    "duration": 68,
    "start_time": "2024-10-28T18:22:33.097Z"
   },
   {
    "duration": 178,
    "start_time": "2024-10-28T18:22:54.408Z"
   },
   {
    "duration": 147,
    "start_time": "2024-10-28T18:23:36.825Z"
   },
   {
    "duration": 142,
    "start_time": "2024-10-28T18:23:44.450Z"
   },
   {
    "duration": 174,
    "start_time": "2024-10-28T18:23:49.082Z"
   },
   {
    "duration": 221,
    "start_time": "2024-10-28T18:24:23.833Z"
   },
   {
    "duration": 233,
    "start_time": "2024-10-28T18:28:18.082Z"
   },
   {
    "duration": 57,
    "start_time": "2024-10-28T18:30:48.195Z"
   },
   {
    "duration": 74,
    "start_time": "2024-10-28T18:30:48.944Z"
   },
   {
    "duration": 5,
    "start_time": "2024-10-28T18:31:09.920Z"
   },
   {
    "duration": 5,
    "start_time": "2024-10-28T18:31:10.475Z"
   },
   {
    "duration": 15,
    "start_time": "2024-10-28T18:31:36.187Z"
   },
   {
    "duration": 32,
    "start_time": "2024-10-28T18:34:03.505Z"
   },
   {
    "duration": 16,
    "start_time": "2024-10-28T18:34:07.378Z"
   },
   {
    "duration": 16,
    "start_time": "2024-10-28T18:34:30.836Z"
   },
   {
    "duration": 9,
    "start_time": "2024-10-28T18:35:22.086Z"
   },
   {
    "duration": 10,
    "start_time": "2024-10-28T18:35:30.670Z"
   },
   {
    "duration": 16,
    "start_time": "2024-10-28T18:36:40.237Z"
   },
   {
    "duration": 11,
    "start_time": "2024-10-28T18:37:42.357Z"
   },
   {
    "duration": 10,
    "start_time": "2024-10-28T18:38:46.827Z"
   },
   {
    "duration": 7,
    "start_time": "2024-10-28T18:38:49.916Z"
   },
   {
    "duration": 6,
    "start_time": "2024-10-28T18:39:21.242Z"
   },
   {
    "duration": 7,
    "start_time": "2024-10-28T18:39:44.092Z"
   },
   {
    "duration": 7,
    "start_time": "2024-10-28T18:39:50.757Z"
   },
   {
    "duration": 37,
    "start_time": "2024-10-28T18:58:04.496Z"
   },
   {
    "duration": 3,
    "start_time": "2024-10-28T18:58:30.184Z"
   },
   {
    "duration": 13,
    "start_time": "2024-10-28T18:58:30.770Z"
   },
   {
    "duration": 9,
    "start_time": "2024-10-28T18:58:53.358Z"
   },
   {
    "duration": 29,
    "start_time": "2024-10-28T18:59:39.700Z"
   },
   {
    "duration": 3,
    "start_time": "2024-10-28T18:59:43.801Z"
   },
   {
    "duration": 10,
    "start_time": "2024-10-28T18:59:44.185Z"
   },
   {
    "duration": 9,
    "start_time": "2024-10-28T19:08:03.357Z"
   },
   {
    "duration": 188,
    "start_time": "2024-10-28T19:11:42.192Z"
   },
   {
    "duration": 160,
    "start_time": "2024-10-28T19:11:49.472Z"
   },
   {
    "duration": 154,
    "start_time": "2024-10-28T19:12:25.841Z"
   },
   {
    "duration": 737,
    "start_time": "2024-10-28T19:32:00.095Z"
   },
   {
    "duration": 14,
    "start_time": "2024-10-28T19:32:00.834Z"
   },
   {
    "duration": 2,
    "start_time": "2024-10-28T19:32:00.849Z"
   },
   {
    "duration": 18,
    "start_time": "2024-10-28T19:32:00.853Z"
   },
   {
    "duration": 2,
    "start_time": "2024-10-28T19:32:00.874Z"
   },
   {
    "duration": 11,
    "start_time": "2024-10-28T19:32:00.877Z"
   },
   {
    "duration": 3,
    "start_time": "2024-10-28T19:32:00.891Z"
   },
   {
    "duration": 27,
    "start_time": "2024-10-28T19:32:00.897Z"
   },
   {
    "duration": 17,
    "start_time": "2024-10-28T19:32:00.933Z"
   },
   {
    "duration": 5,
    "start_time": "2024-10-28T19:32:00.952Z"
   },
   {
    "duration": 13,
    "start_time": "2024-10-28T19:32:00.959Z"
   },
   {
    "duration": 9,
    "start_time": "2024-10-28T19:32:00.974Z"
   },
   {
    "duration": 43,
    "start_time": "2024-10-28T19:32:00.985Z"
   },
   {
    "duration": 4,
    "start_time": "2024-10-28T19:32:01.036Z"
   },
   {
    "duration": 8,
    "start_time": "2024-10-28T19:32:01.043Z"
   },
   {
    "duration": 5,
    "start_time": "2024-10-28T19:32:01.053Z"
   },
   {
    "duration": 7,
    "start_time": "2024-10-28T19:32:01.059Z"
   },
   {
    "duration": 3,
    "start_time": "2024-10-28T19:32:01.068Z"
   },
   {
    "duration": 8,
    "start_time": "2024-10-28T19:32:01.072Z"
   },
   {
    "duration": 191,
    "start_time": "2024-10-28T19:32:01.082Z"
   },
   {
    "duration": 6,
    "start_time": "2024-10-28T19:32:01.276Z"
   },
   {
    "duration": 157,
    "start_time": "2024-10-28T19:32:01.283Z"
   },
   {
    "duration": 104,
    "start_time": "2024-10-28T19:32:01.442Z"
   },
   {
    "duration": 5,
    "start_time": "2024-10-28T19:32:01.548Z"
   },
   {
    "duration": 5,
    "start_time": "2024-10-28T19:32:01.555Z"
   },
   {
    "duration": 188,
    "start_time": "2024-10-28T19:32:01.563Z"
   },
   {
    "duration": 205,
    "start_time": "2024-10-28T19:32:01.753Z"
   },
   {
    "duration": 275,
    "start_time": "2024-10-28T19:32:01.960Z"
   },
   {
    "duration": 5,
    "start_time": "2024-10-28T19:32:02.236Z"
   },
   {
    "duration": 242,
    "start_time": "2024-10-28T19:32:02.243Z"
   },
   {
    "duration": 6,
    "start_time": "2024-10-28T19:32:02.487Z"
   },
   {
    "duration": 281,
    "start_time": "2024-10-28T19:32:02.495Z"
   },
   {
    "duration": 4,
    "start_time": "2024-10-28T19:32:02.778Z"
   },
   {
    "duration": 120,
    "start_time": "2024-10-28T19:32:02.784Z"
   },
   {
    "duration": 123,
    "start_time": "2024-10-28T19:32:02.909Z"
   },
   {
    "duration": 3,
    "start_time": "2024-10-28T19:32:03.034Z"
   },
   {
    "duration": 2,
    "start_time": "2024-10-28T19:32:03.039Z"
   },
   {
    "duration": 148,
    "start_time": "2024-10-28T19:32:03.043Z"
   },
   {
    "duration": 150,
    "start_time": "2024-10-28T19:32:03.193Z"
   },
   {
    "duration": 4,
    "start_time": "2024-10-28T19:32:03.345Z"
   },
   {
    "duration": 81,
    "start_time": "2024-10-28T19:32:03.354Z"
   },
   {
    "duration": 73,
    "start_time": "2024-10-28T19:32:03.436Z"
   },
   {
    "duration": 4,
    "start_time": "2024-10-28T19:32:03.510Z"
   },
   {
    "duration": 13,
    "start_time": "2024-10-28T19:32:03.515Z"
   },
   {
    "duration": 22,
    "start_time": "2024-10-28T19:32:03.529Z"
   },
   {
    "duration": 9,
    "start_time": "2024-10-28T19:32:03.553Z"
   },
   {
    "duration": 7,
    "start_time": "2024-10-28T19:32:03.564Z"
   },
   {
    "duration": 6,
    "start_time": "2024-10-28T19:32:03.572Z"
   },
   {
    "duration": 6,
    "start_time": "2024-10-28T19:32:03.579Z"
   },
   {
    "duration": 47,
    "start_time": "2024-10-28T19:32:03.587Z"
   },
   {
    "duration": 7,
    "start_time": "2024-10-28T19:32:03.636Z"
   },
   {
    "duration": 6,
    "start_time": "2024-10-28T19:32:03.644Z"
   },
   {
    "duration": 720,
    "start_time": "2024-10-28T19:43:04.380Z"
   },
   {
    "duration": 37,
    "start_time": "2024-10-28T19:43:05.102Z"
   },
   {
    "duration": 3,
    "start_time": "2024-10-28T19:43:05.140Z"
   },
   {
    "duration": 19,
    "start_time": "2024-10-28T19:43:05.145Z"
   },
   {
    "duration": 3,
    "start_time": "2024-10-28T19:43:05.167Z"
   },
   {
    "duration": 8,
    "start_time": "2024-10-28T19:43:05.171Z"
   },
   {
    "duration": 3,
    "start_time": "2024-10-28T19:43:05.181Z"
   },
   {
    "duration": 4,
    "start_time": "2024-10-28T19:43:05.186Z"
   },
   {
    "duration": 23,
    "start_time": "2024-10-28T19:43:05.192Z"
   },
   {
    "duration": 11,
    "start_time": "2024-10-28T19:43:05.217Z"
   },
   {
    "duration": 14,
    "start_time": "2024-10-28T19:43:05.229Z"
   },
   {
    "duration": 8,
    "start_time": "2024-10-28T19:43:05.244Z"
   },
   {
    "duration": 12,
    "start_time": "2024-10-28T19:43:05.253Z"
   },
   {
    "duration": 3,
    "start_time": "2024-10-28T19:43:05.268Z"
   },
   {
    "duration": 9,
    "start_time": "2024-10-28T19:43:05.273Z"
   },
   {
    "duration": 40,
    "start_time": "2024-10-28T19:43:05.284Z"
   },
   {
    "duration": 8,
    "start_time": "2024-10-28T19:43:05.333Z"
   },
   {
    "duration": 4,
    "start_time": "2024-10-28T19:43:05.342Z"
   },
   {
    "duration": 9,
    "start_time": "2024-10-28T19:43:05.347Z"
   },
   {
    "duration": 174,
    "start_time": "2024-10-28T19:43:05.358Z"
   },
   {
    "duration": 2,
    "start_time": "2024-10-28T19:43:05.533Z"
   },
   {
    "duration": 2558,
    "start_time": "2024-10-28T19:43:09.366Z"
   },
   {
    "duration": 1488,
    "start_time": "2024-10-28T19:43:15.782Z"
   },
   {
    "duration": 8,
    "start_time": "2024-10-28T19:43:19.173Z"
   },
   {
    "duration": 9,
    "start_time": "2024-10-28T19:43:20.431Z"
   },
   {
    "duration": 187,
    "start_time": "2024-10-28T19:43:21.853Z"
   },
   {
    "duration": 224,
    "start_time": "2024-10-28T19:43:37.399Z"
   },
   {
    "duration": 731,
    "start_time": "2024-10-28T19:44:37.662Z"
   },
   {
    "duration": 36,
    "start_time": "2024-10-28T19:44:38.397Z"
   },
   {
    "duration": 3,
    "start_time": "2024-10-28T19:44:38.434Z"
   },
   {
    "duration": 18,
    "start_time": "2024-10-28T19:44:38.438Z"
   },
   {
    "duration": 3,
    "start_time": "2024-10-28T19:44:38.458Z"
   },
   {
    "duration": 7,
    "start_time": "2024-10-28T19:44:38.462Z"
   },
   {
    "duration": 2,
    "start_time": "2024-10-28T19:44:38.471Z"
   },
   {
    "duration": 5,
    "start_time": "2024-10-28T19:44:38.475Z"
   },
   {
    "duration": 15,
    "start_time": "2024-10-28T19:44:38.481Z"
   },
   {
    "duration": 15,
    "start_time": "2024-10-28T19:44:38.509Z"
   },
   {
    "duration": 10,
    "start_time": "2024-10-28T19:44:38.533Z"
   },
   {
    "duration": 7,
    "start_time": "2024-10-28T19:44:38.545Z"
   },
   {
    "duration": 12,
    "start_time": "2024-10-28T19:44:38.553Z"
   },
   {
    "duration": 4,
    "start_time": "2024-10-28T19:44:38.569Z"
   },
   {
    "duration": 9,
    "start_time": "2024-10-28T19:44:38.575Z"
   },
   {
    "duration": 5,
    "start_time": "2024-10-28T19:44:38.585Z"
   },
   {
    "duration": 22,
    "start_time": "2024-10-28T19:44:38.612Z"
   },
   {
    "duration": 3,
    "start_time": "2024-10-28T19:44:38.635Z"
   },
   {
    "duration": 8,
    "start_time": "2024-10-28T19:44:38.640Z"
   },
   {
    "duration": 174,
    "start_time": "2024-10-28T19:44:38.649Z"
   },
   {
    "duration": 8,
    "start_time": "2024-10-28T19:44:38.826Z"
   },
   {
    "duration": 158,
    "start_time": "2024-10-28T19:44:38.837Z"
   },
   {
    "duration": 92,
    "start_time": "2024-10-28T19:44:38.997Z"
   },
   {
    "duration": 21,
    "start_time": "2024-10-28T19:44:39.091Z"
   },
   {
    "duration": 9,
    "start_time": "2024-10-28T19:44:39.124Z"
   },
   {
    "duration": 173,
    "start_time": "2024-10-28T19:44:39.135Z"
   },
   {
    "duration": 189,
    "start_time": "2024-10-28T19:44:39.309Z"
   },
   {
    "duration": 279,
    "start_time": "2024-10-28T19:44:39.499Z"
   },
   {
    "duration": 5,
    "start_time": "2024-10-28T19:44:39.780Z"
   },
   {
    "duration": 244,
    "start_time": "2024-10-28T19:44:39.786Z"
   },
   {
    "duration": 11,
    "start_time": "2024-10-28T19:44:40.032Z"
   },
   {
    "duration": 247,
    "start_time": "2024-10-28T19:44:40.044Z"
   },
   {
    "duration": 36,
    "start_time": "2024-10-28T19:44:40.293Z"
   },
   {
    "duration": 120,
    "start_time": "2024-10-28T19:44:40.330Z"
   },
   {
    "duration": 114,
    "start_time": "2024-10-28T19:44:40.451Z"
   },
   {
    "duration": 3,
    "start_time": "2024-10-28T19:44:40.567Z"
   },
   {
    "duration": 3,
    "start_time": "2024-10-28T19:44:40.572Z"
   },
   {
    "duration": 162,
    "start_time": "2024-10-28T19:44:40.577Z"
   },
   {
    "duration": 135,
    "start_time": "2024-10-28T19:44:40.740Z"
   },
   {
    "duration": 4,
    "start_time": "2024-10-28T19:44:40.877Z"
   },
   {
    "duration": 64,
    "start_time": "2024-10-28T19:44:40.886Z"
   },
   {
    "duration": 89,
    "start_time": "2024-10-28T19:44:40.952Z"
   },
   {
    "duration": 4,
    "start_time": "2024-10-28T19:44:41.043Z"
   },
   {
    "duration": 4,
    "start_time": "2024-10-28T19:44:41.049Z"
   },
   {
    "duration": 15,
    "start_time": "2024-10-28T19:44:41.055Z"
   },
   {
    "duration": 8,
    "start_time": "2024-10-28T19:44:41.072Z"
   },
   {
    "duration": 43,
    "start_time": "2024-10-28T19:44:41.081Z"
   },
   {
    "duration": 6,
    "start_time": "2024-10-28T19:44:41.133Z"
   },
   {
    "duration": 6,
    "start_time": "2024-10-28T19:44:41.140Z"
   },
   {
    "duration": 15,
    "start_time": "2024-10-28T19:44:41.147Z"
   },
   {
    "duration": 7,
    "start_time": "2024-10-28T19:44:41.164Z"
   },
   {
    "duration": 5,
    "start_time": "2024-10-28T19:44:41.174Z"
   },
   {
    "duration": 9,
    "start_time": "2024-10-28T19:58:06.529Z"
   },
   {
    "duration": 4,
    "start_time": "2024-10-28T19:58:18.849Z"
   },
   {
    "duration": 5,
    "start_time": "2024-10-28T20:16:29.031Z"
   },
   {
    "duration": 7,
    "start_time": "2024-10-28T20:16:36.376Z"
   },
   {
    "duration": 12,
    "start_time": "2024-10-28T20:18:18.725Z"
   },
   {
    "duration": 8,
    "start_time": "2024-10-28T20:18:19.605Z"
   },
   {
    "duration": 7,
    "start_time": "2024-10-28T20:20:33.521Z"
   },
   {
    "duration": 4,
    "start_time": "2024-10-28T20:22:43.735Z"
   },
   {
    "duration": 736,
    "start_time": "2024-10-28T20:23:12.125Z"
   },
   {
    "duration": 3,
    "start_time": "2024-10-28T20:28:10.611Z"
   },
   {
    "duration": 7,
    "start_time": "2024-10-28T20:28:20.765Z"
   },
   {
    "duration": 146,
    "start_time": "2024-10-28T20:28:50.968Z"
   },
   {
    "duration": 89,
    "start_time": "2024-10-28T20:28:56.445Z"
   },
   {
    "duration": 6,
    "start_time": "2024-10-28T20:28:57.441Z"
   },
   {
    "duration": 6,
    "start_time": "2024-10-28T20:28:58.129Z"
   },
   {
    "duration": 161,
    "start_time": "2024-10-28T20:28:59.061Z"
   },
   {
    "duration": 207,
    "start_time": "2024-10-28T20:29:13.271Z"
   },
   {
    "duration": 89,
    "start_time": "2024-10-28T20:29:14.343Z"
   },
   {
    "duration": 6,
    "start_time": "2024-10-28T20:29:15.037Z"
   },
   {
    "duration": 5,
    "start_time": "2024-10-28T20:29:15.741Z"
   },
   {
    "duration": 159,
    "start_time": "2024-10-28T20:29:16.485Z"
   },
   {
    "duration": 41,
    "start_time": "2024-10-28T20:30:08.516Z"
   },
   {
    "duration": 4,
    "start_time": "2024-10-28T20:30:22.257Z"
   },
   {
    "duration": 59,
    "start_time": "2024-10-28T20:30:54.245Z"
   },
   {
    "duration": 717,
    "start_time": "2024-10-28T20:31:17.976Z"
   },
   {
    "duration": 16,
    "start_time": "2024-10-28T20:31:18.695Z"
   },
   {
    "duration": 2,
    "start_time": "2024-10-28T20:31:18.715Z"
   },
   {
    "duration": 18,
    "start_time": "2024-10-28T20:31:18.719Z"
   },
   {
    "duration": 2,
    "start_time": "2024-10-28T20:31:18.740Z"
   },
   {
    "duration": 8,
    "start_time": "2024-10-28T20:31:18.744Z"
   },
   {
    "duration": 2,
    "start_time": "2024-10-28T20:31:18.754Z"
   },
   {
    "duration": 4,
    "start_time": "2024-10-28T20:31:18.759Z"
   },
   {
    "duration": 40,
    "start_time": "2024-10-28T20:31:18.765Z"
   },
   {
    "duration": 5,
    "start_time": "2024-10-28T20:31:18.807Z"
   },
   {
    "duration": 9,
    "start_time": "2024-10-28T20:31:18.814Z"
   },
   {
    "duration": 8,
    "start_time": "2024-10-28T20:31:18.825Z"
   },
   {
    "duration": 13,
    "start_time": "2024-10-28T20:31:18.834Z"
   },
   {
    "duration": 4,
    "start_time": "2024-10-28T20:31:18.850Z"
   },
   {
    "duration": 8,
    "start_time": "2024-10-28T20:31:18.856Z"
   },
   {
    "duration": 41,
    "start_time": "2024-10-28T20:31:18.865Z"
   },
   {
    "duration": 7,
    "start_time": "2024-10-28T20:31:18.908Z"
   },
   {
    "duration": 3,
    "start_time": "2024-10-28T20:31:18.917Z"
   },
   {
    "duration": 8,
    "start_time": "2024-10-28T20:31:18.922Z"
   },
   {
    "duration": 188,
    "start_time": "2024-10-28T20:31:18.931Z"
   },
   {
    "duration": 4,
    "start_time": "2024-10-28T20:31:19.121Z"
   },
   {
    "duration": 719,
    "start_time": "2024-10-28T20:31:21.911Z"
   },
   {
    "duration": 161,
    "start_time": "2024-10-28T20:32:12.630Z"
   },
   {
    "duration": 89,
    "start_time": "2024-10-28T20:32:16.272Z"
   },
   {
    "duration": 8,
    "start_time": "2024-10-28T20:32:17.311Z"
   },
   {
    "duration": 6,
    "start_time": "2024-10-28T20:32:17.793Z"
   },
   {
    "duration": 165,
    "start_time": "2024-10-28T20:32:18.566Z"
   },
   {
    "duration": 6,
    "start_time": "2024-10-28T21:00:12.486Z"
   },
   {
    "duration": 24,
    "start_time": "2024-10-28T21:01:13.700Z"
   },
   {
    "duration": 6,
    "start_time": "2024-10-28T21:02:42.145Z"
   },
   {
    "duration": 179,
    "start_time": "2024-10-28T21:02:42.763Z"
   },
   {
    "duration": 7,
    "start_time": "2024-10-28T21:05:44.681Z"
   },
   {
    "duration": 179,
    "start_time": "2024-10-28T21:05:47.637Z"
   },
   {
    "duration": 739,
    "start_time": "2024-10-28T21:06:54.564Z"
   },
   {
    "duration": 30,
    "start_time": "2024-10-28T21:06:55.309Z"
   },
   {
    "duration": 5,
    "start_time": "2024-10-28T21:06:55.340Z"
   },
   {
    "duration": 17,
    "start_time": "2024-10-28T21:06:55.347Z"
   },
   {
    "duration": 3,
    "start_time": "2024-10-28T21:06:55.367Z"
   },
   {
    "duration": 9,
    "start_time": "2024-10-28T21:06:55.372Z"
   },
   {
    "duration": 3,
    "start_time": "2024-10-28T21:06:55.382Z"
   },
   {
    "duration": 6,
    "start_time": "2024-10-28T21:06:55.386Z"
   },
   {
    "duration": 24,
    "start_time": "2024-10-28T21:06:55.393Z"
   },
   {
    "duration": 8,
    "start_time": "2024-10-28T21:06:55.419Z"
   },
   {
    "duration": 14,
    "start_time": "2024-10-28T21:06:55.428Z"
   },
   {
    "duration": 8,
    "start_time": "2024-10-28T21:06:55.443Z"
   },
   {
    "duration": 12,
    "start_time": "2024-10-28T21:06:55.453Z"
   },
   {
    "duration": 4,
    "start_time": "2024-10-28T21:06:55.469Z"
   },
   {
    "duration": 37,
    "start_time": "2024-10-28T21:06:55.475Z"
   },
   {
    "duration": 6,
    "start_time": "2024-10-28T21:06:55.528Z"
   },
   {
    "duration": 8,
    "start_time": "2024-10-28T21:06:55.535Z"
   },
   {
    "duration": 3,
    "start_time": "2024-10-28T21:06:55.545Z"
   },
   {
    "duration": 9,
    "start_time": "2024-10-28T21:06:55.550Z"
   },
   {
    "duration": 176,
    "start_time": "2024-10-28T21:06:55.560Z"
   },
   {
    "duration": 5,
    "start_time": "2024-10-28T21:06:55.737Z"
   },
   {
    "duration": 164,
    "start_time": "2024-10-28T21:06:55.744Z"
   },
   {
    "duration": 107,
    "start_time": "2024-10-28T21:06:55.925Z"
   },
   {
    "duration": 5,
    "start_time": "2024-10-28T21:06:56.034Z"
   },
   {
    "duration": 7,
    "start_time": "2024-10-28T21:06:56.042Z"
   },
   {
    "duration": 187,
    "start_time": "2024-10-28T21:06:56.051Z"
   },
   {
    "duration": 194,
    "start_time": "2024-10-28T21:06:56.239Z"
   },
   {
    "duration": 289,
    "start_time": "2024-10-28T21:06:56.435Z"
   },
   {
    "duration": 13,
    "start_time": "2024-10-28T21:06:56.725Z"
   },
   {
    "duration": 198,
    "start_time": "2024-10-28T21:06:56.741Z"
   },
   {
    "duration": 7,
    "start_time": "2024-10-28T21:06:56.941Z"
   },
   {
    "duration": 278,
    "start_time": "2024-10-28T21:06:56.950Z"
   },
   {
    "duration": 4,
    "start_time": "2024-10-28T21:06:57.234Z"
   },
   {
    "duration": 119,
    "start_time": "2024-10-28T21:06:57.239Z"
   },
   {
    "duration": 119,
    "start_time": "2024-10-28T21:06:57.360Z"
   },
   {
    "duration": 4,
    "start_time": "2024-10-28T21:06:57.481Z"
   },
   {
    "duration": 3,
    "start_time": "2024-10-28T21:06:57.487Z"
   },
   {
    "duration": 145,
    "start_time": "2024-10-28T21:06:57.491Z"
   },
   {
    "duration": 137,
    "start_time": "2024-10-28T21:06:57.637Z"
   },
   {
    "duration": 4,
    "start_time": "2024-10-28T21:06:57.775Z"
   },
   {
    "duration": 76,
    "start_time": "2024-10-28T21:06:57.783Z"
   },
   {
    "duration": 76,
    "start_time": "2024-10-28T21:06:57.860Z"
   },
   {
    "duration": 4,
    "start_time": "2024-10-28T21:06:57.938Z"
   },
   {
    "duration": 4,
    "start_time": "2024-10-28T21:06:57.943Z"
   },
   {
    "duration": 15,
    "start_time": "2024-10-28T21:06:57.949Z"
   },
   {
    "duration": 8,
    "start_time": "2024-10-28T21:06:57.965Z"
   },
   {
    "duration": 7,
    "start_time": "2024-10-28T21:06:57.975Z"
   },
   {
    "duration": 24,
    "start_time": "2024-10-28T21:06:57.984Z"
   },
   {
    "duration": 7,
    "start_time": "2024-10-28T21:06:58.009Z"
   },
   {
    "duration": 19,
    "start_time": "2024-10-28T21:06:58.017Z"
   },
   {
    "duration": 7,
    "start_time": "2024-10-28T21:06:58.037Z"
   },
   {
    "duration": 7,
    "start_time": "2024-10-28T21:06:58.046Z"
   }
  ],
  "kernelspec": {
   "display_name": "Python 3 (ipykernel)",
   "language": "python",
   "name": "python3"
  },
  "language_info": {
   "codemirror_mode": {
    "name": "ipython",
    "version": 3
   },
   "file_extension": ".py",
   "mimetype": "text/x-python",
   "name": "python",
   "nbconvert_exporter": "python",
   "pygments_lexer": "ipython3",
   "version": "3.9.19"
  },
  "toc": {
   "base_numbering": 1,
   "nav_menu": {
    "height": "423px",
    "width": "799px"
   },
   "number_sections": true,
   "sideBar": true,
   "skip_h1_title": true,
   "title_cell": "Table of Contents",
   "title_sidebar": "Contents",
   "toc_cell": false,
   "toc_position": {
    "height": "calc(100% - 180px)",
    "left": "10px",
    "top": "150px",
    "width": "267px"
   },
   "toc_section_display": true,
   "toc_window_display": false
  }
 },
 "nbformat": 4,
 "nbformat_minor": 2
}
