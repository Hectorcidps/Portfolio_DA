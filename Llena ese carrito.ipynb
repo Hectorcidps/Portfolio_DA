{
 "cells": [
  {
   "cell_type": "markdown",
   "id": "3Xg_RQfnafXz",
   "metadata": {
    "id": "3Xg_RQfnafXz"
   },
   "source": [
    "# ¡Llena ese carrito!"
   ]
  },
  {
   "cell_type": "markdown",
   "id": "mhIvmmkW414q",
   "metadata": {
    "id": "mhIvmmkW414q"
   },
   "source": [
    "# Introducción\n",
    "\n",
    "Instacart es una plataforma de entregas de comestibles donde la clientela puede registrar un pedido y hacer que se lo entreguen, similar a Uber Eats y Door Dash.\n",
    "El conjunto de datos que te hemos proporcionado tiene modificaciones del original. Redujimos el tamaño del conjunto para que tus cálculos se hicieran más rápido e introdujimos valores ausentes y duplicados. Tuvimos cuidado de conservar las distribuciones de los datos originales cuando hicimos los cambios.\n",
    "\n",
    "Debes completar tres pasos. Para cada uno de ellos, escribe una breve introducción que refleje con claridad cómo pretendes resolver cada paso, y escribe párrafos explicatorios que justifiquen tus decisiones al tiempo que avanzas en tu solución.  También escribe una conclusión que resuma tus hallazgos y elecciones.\n"
   ]
  },
  {
   "cell_type": "markdown",
   "id": "3MbyzpOQZ5Or",
   "metadata": {
    "id": "3MbyzpOQZ5Or"
   },
   "source": [
    "## Diccionario de datos\n",
    "\n",
    "Hay cinco tablas en el conjunto de datos, y tendrás que usarlas todas para hacer el preprocesamiento de datos y el análisis exploratorio de datos. A continuación se muestra un diccionario de datos que enumera las columnas de cada tabla y describe los datos que contienen.\n",
    "\n",
    "- `instacart_orders.csv`: cada fila corresponde a un pedido en la aplicación Instacart.\n",
    "    - `'order_id'`: número de ID que identifica de manera única cada pedido.\n",
    "    - `'user_id'`: número de ID que identifica de manera única la cuenta de cada cliente.\n",
    "    - `'order_number'`: el número de veces que este cliente ha hecho un pedido.\n",
    "    - `'order_dow'`: día de la semana en que se hizo el pedido (0 si es domingo).\n",
    "    - `'order_hour_of_day'`: hora del día en que se hizo el pedido.\n",
    "    - `'days_since_prior_order'`: número de días transcurridos desde que este cliente hizo su pedido anterior.\n",
    "- `products.csv`: cada fila corresponde a un producto único que pueden comprar los clientes.\n",
    "    - `'product_id'`: número ID que identifica de manera única cada producto.\n",
    "    - `'product_name'`: nombre del producto.\n",
    "    - `'aisle_id'`: número ID que identifica de manera única cada categoría de pasillo de víveres.\n",
    "    - `'department_id'`: número ID que identifica de manera única cada departamento de víveres.\n",
    "- `order_products.csv`: cada fila corresponde a un artículo pedido en un pedido.\n",
    "    - `'order_id'`: número de ID que identifica de manera única cada pedido.\n",
    "    - `'product_id'`: número ID que identifica de manera única cada producto.\n",
    "    - `'add_to_cart_order'`: el orden secuencial en el que se añadió cada artículo en el carrito.\n",
    "    - `'reordered'`: 0 si el cliente nunca ha pedido este producto antes, 1 si lo ha pedido.\n",
    "- `aisles.csv`\n",
    "    - `'aisle_id'`: número ID que identifica de manera única cada categoría de pasillo de víveres.\n",
    "    - `'aisle'`: nombre del pasillo.\n",
    "- `departments.csv`\n",
    "    - `'department_id'`: número ID que identifica de manera única cada departamento de víveres.\n",
    "    - `'department'`: nombre del departamento."
   ]
  },
  {
   "cell_type": "markdown",
   "id": "n3Ha_cNSZ8lK",
   "metadata": {
    "id": "n3Ha_cNSZ8lK"
   },
   "source": [
    "# Paso 1. Descripción de los datos\n",
    "\n",
    "Lee los archivos de datos (`/datasets/instacart_orders.csv`, `/datasets/products.csv`, `/datasets/aisles.csv`, `/datasets/departments.csv` y `/datasets/order_products.csv`) con `pd.read_csv()` usando los parámetros adecuados para leer los datos correctamente. Verifica la información para cada DataFrame creado.\n"
   ]
  },
  {
   "cell_type": "markdown",
   "id": "OmlQPLlyaAfR",
   "metadata": {
    "id": "OmlQPLlyaAfR"
   },
   "source": [
    "## Plan de solución\n",
    "\n",
    "Escribe aquí tu plan de solución para el Paso 1. Descripción de los datos.\n",
    "\n",
    "Primero Importaré la librería Pandas, para poder leer los DataFrames, posteriormente con ayuda del método info() verificaré que los tipos de datos correspondan al DataSet, y con el método head() dare un vistazo de los datos."
   ]
  },
  {
   "cell_type": "code",
   "execution_count": 1,
   "id": "fbf1adab",
   "metadata": {
    "id": "fbf1adab"
   },
   "outputs": [],
   "source": [
    "# importar librerías\n",
    "import pandas as pd\n",
    "from matplotlib import pyplot as plt \n",
    "\n",
    "import numpy as np\n"
   ]
  },
  {
   "cell_type": "code",
   "execution_count": 3,
   "id": "ad36396d",
   "metadata": {
    "id": "ad36396d"
   },
   "outputs": [],
   "source": [
    "# leer conjuntos de datos en los DataFrames\n",
    "df_orders = pd.read_csv('/datasets/instacart_orders.csv', sep=';')\n",
    "df_products = pd.read_csv('/datasets/products.csv', sep=';')\n",
    "df_aisles = pd.read_csv('/datasets/aisles.csv', sep=';')\n",
    "df_departments = pd.read_csv('/datasets/departments.csv', sep=';' )\n",
    "df_order_product = pd.read_csv('/datasets/order_products.csv', sep=';')\n"
   ]
  },
  {
   "cell_type": "code",
   "execution_count": 4,
   "id": "ad6a1efa",
   "metadata": {
    "id": "ad6a1efa"
   },
   "outputs": [
    {
     "name": "stdout",
     "output_type": "stream",
     "text": [
      "   order_id  user_id  order_number  order_dow  order_hour_of_day  \\\n",
      "0   1515936   183418            11          6                 13   \n",
      "1   1690866   163593             5          5                 12   \n",
      "2   1454967    39980             4          5                 19   \n",
      "3   1768857    82516            56          0                 20   \n",
      "4   3007858   196724             2          4                 12   \n",
      "\n",
      "   days_since_prior_order  \n",
      "0                    30.0  \n",
      "1                     9.0  \n",
      "2                     2.0  \n",
      "3                    10.0  \n",
      "4                    17.0  \n",
      "<class 'pandas.core.frame.DataFrame'>\n",
      "RangeIndex: 478967 entries, 0 to 478966\n",
      "Data columns (total 6 columns):\n",
      " #   Column                  Non-Null Count   Dtype  \n",
      "---  ------                  --------------   -----  \n",
      " 0   order_id                478967 non-null  int64  \n",
      " 1   user_id                 478967 non-null  int64  \n",
      " 2   order_number            478967 non-null  int64  \n",
      " 3   order_dow               478967 non-null  int64  \n",
      " 4   order_hour_of_day       478967 non-null  int64  \n",
      " 5   days_since_prior_order  450148 non-null  float64\n",
      "dtypes: float64(1), int64(5)\n",
      "memory usage: 21.9 MB\n"
     ]
    }
   ],
   "source": [
    "# mostrar información del DataFrame\n",
    "print(df_orders.head())\n",
    "df_orders.info()\n"
   ]
  },
  {
   "cell_type": "code",
   "execution_count": 5,
   "id": "5130e05e",
   "metadata": {
    "id": "5130e05e"
   },
   "outputs": [
    {
     "name": "stdout",
     "output_type": "stream",
     "text": [
      "   product_id                                       product_name  aisle_id  \\\n",
      "0           1                         Chocolate Sandwich Cookies        61   \n",
      "1           2                                   All-Seasons Salt       104   \n",
      "2           3               Robust Golden Unsweetened Oolong Tea        94   \n",
      "3           4  Smart Ones Classic Favorites Mini Rigatoni Wit...        38   \n",
      "4           5                          Green Chile Anytime Sauce         5   \n",
      "\n",
      "   department_id  \n",
      "0             19  \n",
      "1             13  \n",
      "2              7  \n",
      "3              1  \n",
      "4             13  \n",
      "<class 'pandas.core.frame.DataFrame'>\n",
      "RangeIndex: 49694 entries, 0 to 49693\n",
      "Data columns (total 4 columns):\n",
      " #   Column         Non-Null Count  Dtype \n",
      "---  ------         --------------  ----- \n",
      " 0   product_id     49694 non-null  int64 \n",
      " 1   product_name   48436 non-null  object\n",
      " 2   aisle_id       49694 non-null  int64 \n",
      " 3   department_id  49694 non-null  int64 \n",
      "dtypes: int64(3), object(1)\n",
      "memory usage: 1.5+ MB\n"
     ]
    }
   ],
   "source": [
    "# mostrar información del DataFrame\n",
    "print(df_products.head())\n",
    "df_products.info()"
   ]
  },
  {
   "cell_type": "code",
   "execution_count": 6,
   "id": "d8370c05",
   "metadata": {
    "id": "d8370c05"
   },
   "outputs": [
    {
     "name": "stdout",
     "output_type": "stream",
     "text": [
      "   aisle_id                       aisle\n",
      "0         1       prepared soups salads\n",
      "1         2           specialty cheeses\n",
      "2         3         energy granola bars\n",
      "3         4               instant foods\n",
      "4         5  marinades meat preparation\n",
      "<class 'pandas.core.frame.DataFrame'>\n",
      "RangeIndex: 134 entries, 0 to 133\n",
      "Data columns (total 2 columns):\n",
      " #   Column    Non-Null Count  Dtype \n",
      "---  ------    --------------  ----- \n",
      " 0   aisle_id  134 non-null    int64 \n",
      " 1   aisle     134 non-null    object\n",
      "dtypes: int64(1), object(1)\n",
      "memory usage: 2.2+ KB\n"
     ]
    }
   ],
   "source": [
    "# mostrar información del DataFrame\n",
    "print(df_aisles.head())\n",
    "df_aisles.info()"
   ]
  },
  {
   "cell_type": "code",
   "execution_count": 7,
   "id": "59e2090f",
   "metadata": {
    "id": "59e2090f"
   },
   "outputs": [
    {
     "name": "stdout",
     "output_type": "stream",
     "text": [
      "   department_id department\n",
      "0              1     frozen\n",
      "1              2      other\n",
      "2              3     bakery\n",
      "3              4    produce\n",
      "4              5    alcohol\n",
      "<class 'pandas.core.frame.DataFrame'>\n",
      "RangeIndex: 21 entries, 0 to 20\n",
      "Data columns (total 2 columns):\n",
      " #   Column         Non-Null Count  Dtype \n",
      "---  ------         --------------  ----- \n",
      " 0   department_id  21 non-null     int64 \n",
      " 1   department     21 non-null     object\n",
      "dtypes: int64(1), object(1)\n",
      "memory usage: 464.0+ bytes\n"
     ]
    }
   ],
   "source": [
    "# mostrar información del DataFrame\n",
    "print(df_departments.head())\n",
    "df_departments.info()"
   ]
  },
  {
   "cell_type": "code",
   "execution_count": 8,
   "id": "6fc81694",
   "metadata": {
    "id": "6fc81694"
   },
   "outputs": [
    {
     "name": "stdout",
     "output_type": "stream",
     "text": [
      "   order_id  product_id  add_to_cart_order  reordered\n",
      "0   2141543       11440               17.0          0\n",
      "1    567889        1560                1.0          1\n",
      "2   2261212       26683                1.0          1\n",
      "3    491251        8670               35.0          1\n",
      "4   2571142        1940                5.0          1\n",
      "<class 'pandas.core.frame.DataFrame'>\n",
      "RangeIndex: 4545007 entries, 0 to 4545006\n",
      "Data columns (total 4 columns):\n",
      " #   Column             Non-Null Count    Dtype  \n",
      "---  ------             --------------    -----  \n",
      " 0   order_id           4545007 non-null  int64  \n",
      " 1   product_id         4545007 non-null  int64  \n",
      " 2   add_to_cart_order  4544171 non-null  float64\n",
      " 3   reordered          4545007 non-null  int64  \n",
      "dtypes: float64(1), int64(3)\n",
      "memory usage: 138.7 MB\n"
     ]
    }
   ],
   "source": [
    "# mostrar información del DataFrame\n",
    "print(df_order_product.head())\n",
    "df_order_product.info(show_counts=True)"
   ]
  },
  {
   "cell_type": "markdown",
   "id": "t75BD19oaR5f",
   "metadata": {
    "id": "t75BD19oaR5f"
   },
   "source": [
    "## Conclusiones\n",
    "\n",
    "Escribe aquí tus conclusiones intermedias sobre el Paso 1. Descripción de los datos.\n",
    "\n",
    "En el primer DF orders, contiene columnas que se podrían considerar como categóricas y tienen un tipo de datos INT cuando bien podria ser considerado un string, como en el caso de la columna , 'order_dow'. En el caso de 'days_since_prior_order' el tipo de datos es float, cuando podria ser considerado un int, y tambien en esta ultima hay una cantidad considerable de valores nulos. \n",
    "\n",
    "\n",
    "Y por ultimo en el DF 'df_order_product' el tipo de datos de la columna 'reordered' es del tipo int, cuando es categórica la variable.\n",
    "\n",
    "\n"
   ]
  },
  {
   "cell_type": "markdown",
   "id": "8RJHqxVmaVsF",
   "metadata": {
    "id": "8RJHqxVmaVsF"
   },
   "source": [
    "# Paso 2. Preprocesamiento de los datos\n",
    "\n",
    "Preprocesa los datos de la siguiente manera:\n",
    "\n",
    "- Verifica y corrige los tipos de datos (por ejemplo, asegúrate de que las columnas de ID sean números enteros).\n",
    "- Identifica y completa los valores ausentes.\n",
    "- Identifica y elimina los valores duplicados.\n",
    "\n",
    "Asegúrate de explicar qué tipos de valores ausentes y duplicados encontraste, cómo los completaste o eliminaste y por qué usaste esos métodos. ¿Por qué crees que estos valores ausentes y duplicados pueden haber estado presentes en el conjunto de datos?"
   ]
  },
  {
   "cell_type": "markdown",
   "id": "p6poABZQaZYb",
   "metadata": {
    "id": "p6poABZQaZYb"
   },
   "source": [
    "## Plan de solución\n",
    "\n",
    "Escribe aquí tu plan para el Paso 2. Preprocesamiento de los datos.\n",
    "\n",
    "Para empezar verificare si existen valores duplicados en cada unos de los DataSets, en algunos se cuentan con tipos de datos object, por lo cual es relevante revisar si existen espacios extras, modificar las palabras a mayusculas o minusculas. Haré uso del método duplicated + sum para obtener aquellas filas duplicadas dentro del DF y asi mismo utilizaré el parametro subset= para corroborar cada una de las columnas. Al encontrar valores duplicados relevantes se puede implementar el metodo drop_duplicates con inplace=True para eliminarlos del DF, tambien se puede hacer filtros para una Series y descubrir si hay valores engañosos. Por último con ayuda del metodo value_counts se puede identificar aquellos valores duplicados en una columna incluso si son NaN.\n",
    "\n",
    "Para los valores ausentes se implementara el método isna para encontrar valores ausentes en los DF, una vez que sean identificados se evaluará si es necesario eliminarlos o cambiarlos para no afectar el Data Set, además es posible que se requiera uso de filtros para ubicar en que columnas de los DataFrames tienen relacion con otras. Esto ayudara a definir su situación. En caso de requerir hacer modificaciones en los datos ausentes se puede considerar el uso de fillna o replace.  \n",
    "\n",
    "Por Último para el cambio en tipo de datos con el método astype se puede lograr el cambio."
   ]
  },
  {
   "cell_type": "markdown",
   "id": "07357848-dc64-4156-9cc3-01ff4365226d",
   "metadata": {
    "id": "07357848-dc64-4156-9cc3-01ff4365226d"
   },
   "source": [
    "## Encuentra y elimina los valores duplicados (y describe cómo tomaste tus decisiones)."
   ]
  },
  {
   "cell_type": "markdown",
   "id": "f179f0a9",
   "metadata": {
    "id": "f179f0a9"
   },
   "source": [
    "### `instacart_orders` data frame"
   ]
  },
  {
   "cell_type": "code",
   "execution_count": 9,
   "id": "b99297a5-405a-463d-8535-9adc3da4ad74",
   "metadata": {
    "id": "b99297a5-405a-463d-8535-9adc3da4ad74"
   },
   "outputs": [
    {
     "name": "stdout",
     "output_type": "stream",
     "text": [
      "15\n"
     ]
    }
   ],
   "source": [
    "# Revisa si hay pedidos duplicados\n",
    "print(df_orders.duplicated().sum())\n"
   ]
  },
  {
   "cell_type": "markdown",
   "id": "PEkwUX_gvt5A",
   "metadata": {
    "id": "PEkwUX_gvt5A"
   },
   "source": [
    "¿Tienes líneas duplicadas? Si sí, ¿qué tienen en común?"
   ]
  },
  {
   "cell_type": "code",
   "execution_count": 10,
   "id": "0d44de5d",
   "metadata": {
    "id": "0d44de5d"
   },
   "outputs": [
    {
     "data": {
      "text/html": [
       "<div>\n",
       "<style scoped>\n",
       "    .dataframe tbody tr th:only-of-type {\n",
       "        vertical-align: middle;\n",
       "    }\n",
       "\n",
       "    .dataframe tbody tr th {\n",
       "        vertical-align: top;\n",
       "    }\n",
       "\n",
       "    .dataframe thead th {\n",
       "        text-align: right;\n",
       "    }\n",
       "</style>\n",
       "<table border=\"1\" class=\"dataframe\">\n",
       "  <thead>\n",
       "    <tr style=\"text-align: right;\">\n",
       "      <th></th>\n",
       "      <th>order_id</th>\n",
       "      <th>user_id</th>\n",
       "      <th>order_number</th>\n",
       "      <th>order_dow</th>\n",
       "      <th>order_hour_of_day</th>\n",
       "      <th>days_since_prior_order</th>\n",
       "    </tr>\n",
       "  </thead>\n",
       "  <tbody>\n",
       "    <tr>\n",
       "      <th>145574</th>\n",
       "      <td>794638</td>\n",
       "      <td>50898</td>\n",
       "      <td>24</td>\n",
       "      <td>3</td>\n",
       "      <td>2</td>\n",
       "      <td>2.0</td>\n",
       "    </tr>\n",
       "    <tr>\n",
       "      <th>223105</th>\n",
       "      <td>2160484</td>\n",
       "      <td>107525</td>\n",
       "      <td>16</td>\n",
       "      <td>3</td>\n",
       "      <td>2</td>\n",
       "      <td>30.0</td>\n",
       "    </tr>\n",
       "    <tr>\n",
       "      <th>230807</th>\n",
       "      <td>1918001</td>\n",
       "      <td>188546</td>\n",
       "      <td>14</td>\n",
       "      <td>3</td>\n",
       "      <td>2</td>\n",
       "      <td>16.0</td>\n",
       "    </tr>\n",
       "    <tr>\n",
       "      <th>266232</th>\n",
       "      <td>1782114</td>\n",
       "      <td>106752</td>\n",
       "      <td>1</td>\n",
       "      <td>3</td>\n",
       "      <td>2</td>\n",
       "      <td>NaN</td>\n",
       "    </tr>\n",
       "    <tr>\n",
       "      <th>273805</th>\n",
       "      <td>1112182</td>\n",
       "      <td>202304</td>\n",
       "      <td>84</td>\n",
       "      <td>3</td>\n",
       "      <td>2</td>\n",
       "      <td>6.0</td>\n",
       "    </tr>\n",
       "    <tr>\n",
       "      <th>284038</th>\n",
       "      <td>2845099</td>\n",
       "      <td>31189</td>\n",
       "      <td>11</td>\n",
       "      <td>3</td>\n",
       "      <td>2</td>\n",
       "      <td>7.0</td>\n",
       "    </tr>\n",
       "    <tr>\n",
       "      <th>311713</th>\n",
       "      <td>1021560</td>\n",
       "      <td>53767</td>\n",
       "      <td>3</td>\n",
       "      <td>3</td>\n",
       "      <td>2</td>\n",
       "      <td>9.0</td>\n",
       "    </tr>\n",
       "    <tr>\n",
       "      <th>321100</th>\n",
       "      <td>408114</td>\n",
       "      <td>68324</td>\n",
       "      <td>4</td>\n",
       "      <td>3</td>\n",
       "      <td>2</td>\n",
       "      <td>18.0</td>\n",
       "    </tr>\n",
       "    <tr>\n",
       "      <th>323900</th>\n",
       "      <td>1919531</td>\n",
       "      <td>191501</td>\n",
       "      <td>32</td>\n",
       "      <td>3</td>\n",
       "      <td>2</td>\n",
       "      <td>7.0</td>\n",
       "    </tr>\n",
       "    <tr>\n",
       "      <th>345917</th>\n",
       "      <td>2232988</td>\n",
       "      <td>82565</td>\n",
       "      <td>1</td>\n",
       "      <td>3</td>\n",
       "      <td>2</td>\n",
       "      <td>NaN</td>\n",
       "    </tr>\n",
       "    <tr>\n",
       "      <th>371905</th>\n",
       "      <td>391768</td>\n",
       "      <td>57671</td>\n",
       "      <td>19</td>\n",
       "      <td>3</td>\n",
       "      <td>2</td>\n",
       "      <td>10.0</td>\n",
       "    </tr>\n",
       "    <tr>\n",
       "      <th>394347</th>\n",
       "      <td>467134</td>\n",
       "      <td>63189</td>\n",
       "      <td>21</td>\n",
       "      <td>3</td>\n",
       "      <td>2</td>\n",
       "      <td>2.0</td>\n",
       "    </tr>\n",
       "    <tr>\n",
       "      <th>411408</th>\n",
       "      <td>1286742</td>\n",
       "      <td>183220</td>\n",
       "      <td>48</td>\n",
       "      <td>3</td>\n",
       "      <td>2</td>\n",
       "      <td>4.0</td>\n",
       "    </tr>\n",
       "    <tr>\n",
       "      <th>415163</th>\n",
       "      <td>2282673</td>\n",
       "      <td>86751</td>\n",
       "      <td>49</td>\n",
       "      <td>3</td>\n",
       "      <td>2</td>\n",
       "      <td>2.0</td>\n",
       "    </tr>\n",
       "    <tr>\n",
       "      <th>441599</th>\n",
       "      <td>2125197</td>\n",
       "      <td>14050</td>\n",
       "      <td>48</td>\n",
       "      <td>3</td>\n",
       "      <td>2</td>\n",
       "      <td>3.0</td>\n",
       "    </tr>\n",
       "  </tbody>\n",
       "</table>\n",
       "</div>"
      ],
      "text/plain": [
       "        order_id  user_id  order_number  order_dow  order_hour_of_day  \\\n",
       "145574    794638    50898            24          3                  2   \n",
       "223105   2160484   107525            16          3                  2   \n",
       "230807   1918001   188546            14          3                  2   \n",
       "266232   1782114   106752             1          3                  2   \n",
       "273805   1112182   202304            84          3                  2   \n",
       "284038   2845099    31189            11          3                  2   \n",
       "311713   1021560    53767             3          3                  2   \n",
       "321100    408114    68324             4          3                  2   \n",
       "323900   1919531   191501            32          3                  2   \n",
       "345917   2232988    82565             1          3                  2   \n",
       "371905    391768    57671            19          3                  2   \n",
       "394347    467134    63189            21          3                  2   \n",
       "411408   1286742   183220            48          3                  2   \n",
       "415163   2282673    86751            49          3                  2   \n",
       "441599   2125197    14050            48          3                  2   \n",
       "\n",
       "        days_since_prior_order  \n",
       "145574                     2.0  \n",
       "223105                    30.0  \n",
       "230807                    16.0  \n",
       "266232                     NaN  \n",
       "273805                     6.0  \n",
       "284038                     7.0  \n",
       "311713                     9.0  \n",
       "321100                    18.0  \n",
       "323900                     7.0  \n",
       "345917                     NaN  \n",
       "371905                    10.0  \n",
       "394347                     2.0  \n",
       "411408                     4.0  \n",
       "415163                     2.0  \n",
       "441599                     3.0  "
      ]
     },
     "execution_count": 10,
     "metadata": {},
     "output_type": "execute_result"
    }
   ],
   "source": [
    "# Basándote en tus hallazgos,\n",
    "# Verifica todos los pedidos que se hicieron el miércoles a las 2:00 a.m.\n",
    "df_orders[df_orders.duplicated(subset=['order_id', 'order_hour_of_day'])]"
   ]
  },
  {
   "cell_type": "markdown",
   "id": "vu2OWyoqwOx5",
   "metadata": {
    "id": "vu2OWyoqwOx5"
   },
   "source": [
    "¿Qué sugiere este resultado? Se comprueba que los valores en las columnas order_dow y order_hour_of_day tienen valores duplicados"
   ]
  },
  {
   "cell_type": "code",
   "execution_count": 11,
   "id": "480563c7",
   "metadata": {
    "id": "480563c7"
   },
   "outputs": [
    {
     "name": "stdout",
     "output_type": "stream",
     "text": [
      "None\n"
     ]
    }
   ],
   "source": [
    "# Elimina los pedidos duplicados\n",
    "print(df_orders.drop_duplicates(inplace=True))"
   ]
  },
  {
   "cell_type": "code",
   "execution_count": 12,
   "id": "0b2396a2",
   "metadata": {
    "id": "0b2396a2"
   },
   "outputs": [
    {
     "name": "stdout",
     "output_type": "stream",
     "text": [
      "0\n"
     ]
    }
   ],
   "source": [
    "# Vuelve a verificar si hay filas duplicadas\n",
    "print(df_orders.duplicated().sum())"
   ]
  },
  {
   "cell_type": "code",
   "execution_count": 13,
   "id": "f6113ef1",
   "metadata": {
    "id": "f6113ef1"
   },
   "outputs": [
    {
     "name": "stdout",
     "output_type": "stream",
     "text": [
      "1048576    1\n",
      "3389216    1\n",
      "1100604    1\n",
      "1275704    1\n",
      "2337103    1\n",
      "          ..\n",
      "1752059    1\n",
      "2794488    1\n",
      "711671     1\n",
      "1711087    1\n",
      "2047       1\n",
      "Name: order_id, Length: 478952, dtype: int64\n"
     ]
    }
   ],
   "source": [
    "# Vuelve a verificar únicamente si hay IDs duplicados de pedidos\n",
    "print(df_orders['order_id'].value_counts())"
   ]
  },
  {
   "cell_type": "markdown",
   "id": "5e8905ae",
   "metadata": {
    "id": "5e8905ae"
   },
   "source": [
    "Describe brevemente tus hallazgos y lo que hiciste con ellos.\n",
    "\n",
    "En el DF df_orders existian 15 valores duplicados, con ayuda del método duplicated + sum logre visualizar cuantos valores existían, después aplicando un filtro con el método duplicated visualice los 15 valores los cuales coincidian en el con pedidos hechos el miércoles a las 2 am. posteriormente con el método drop.duplicates y aplicando el inplace=True, elimine estos valores. Por último aplique un filtro en la columna 'order_id' con el método value_counts() para confirmar que han sido eliminados del DF.   "
   ]
  },
  {
   "cell_type": "markdown",
   "id": "45e6bc46",
   "metadata": {
    "id": "45e6bc46"
   },
   "source": [
    "### `products` data frame"
   ]
  },
  {
   "cell_type": "code",
   "execution_count": 14,
   "id": "5f526b5b-8175-46fa-a0fd-441767d50e64",
   "metadata": {
    "id": "5f526b5b-8175-46fa-a0fd-441767d50e64"
   },
   "outputs": [
    {
     "name": "stdout",
     "output_type": "stream",
     "text": [
      "Empty DataFrame\n",
      "Columns: [product_id, product_name, aisle_id, department_id]\n",
      "Index: []\n"
     ]
    }
   ],
   "source": [
    "# Verifica si hay filas totalmente duplicadas\n",
    "print(df_products[df_products.duplicated()])\n"
   ]
  },
  {
   "cell_type": "code",
   "execution_count": 15,
   "id": "88daa4f4",
   "metadata": {
    "id": "88daa4f4"
   },
   "outputs": [
    {
     "data": {
      "text/plain": [
       "49673"
      ]
     },
     "execution_count": 15,
     "metadata": {},
     "output_type": "execute_result"
    }
   ],
   "source": [
    "# Revisa únicamente si hay ID de departamentos duplicados\n",
    "df_products['department_id'].duplicated().sum()"
   ]
  },
  {
   "cell_type": "code",
   "execution_count": 16,
   "id": "c773f0bf",
   "metadata": {
    "id": "c773f0bf"
   },
   "outputs": [
    {
     "name": "stdout",
     "output_type": "stream",
     "text": [
      "1361\n"
     ]
    }
   ],
   "source": [
    "# Revisa únicamente si hay nombres duplicados de productos (convierte los nombres a letras mayúsculas para compararlos mejor)\n",
    "name_product_upper = df_products['product_name'].str.upper()\n",
    "print(name_product_upper.duplicated().sum())"
   ]
  },
  {
   "cell_type": "code",
   "execution_count": 17,
   "id": "01efd02e",
   "metadata": {
    "id": "01efd02e"
   },
   "outputs": [
    {
     "data": {
      "text/html": [
       "<div>\n",
       "<style scoped>\n",
       "    .dataframe tbody tr th:only-of-type {\n",
       "        vertical-align: middle;\n",
       "    }\n",
       "\n",
       "    .dataframe tbody tr th {\n",
       "        vertical-align: top;\n",
       "    }\n",
       "\n",
       "    .dataframe thead th {\n",
       "        text-align: right;\n",
       "    }\n",
       "</style>\n",
       "<table border=\"1\" class=\"dataframe\">\n",
       "  <thead>\n",
       "    <tr style=\"text-align: right;\">\n",
       "      <th></th>\n",
       "      <th>product_id</th>\n",
       "      <th>product_name</th>\n",
       "      <th>aisle_id</th>\n",
       "      <th>department_id</th>\n",
       "    </tr>\n",
       "  </thead>\n",
       "  <tbody>\n",
       "    <tr>\n",
       "      <th>2058</th>\n",
       "      <td>2059</td>\n",
       "      <td>Biotin 1000 Mcg</td>\n",
       "      <td>47</td>\n",
       "      <td>11</td>\n",
       "    </tr>\n",
       "    <tr>\n",
       "      <th>5455</th>\n",
       "      <td>5456</td>\n",
       "      <td>Green Tea With Ginseng and Honey</td>\n",
       "      <td>96</td>\n",
       "      <td>20</td>\n",
       "    </tr>\n",
       "    <tr>\n",
       "      <th>5558</th>\n",
       "      <td>5559</td>\n",
       "      <td>Cream Of Mushroom Soup</td>\n",
       "      <td>69</td>\n",
       "      <td>15</td>\n",
       "    </tr>\n",
       "    <tr>\n",
       "      <th>7558</th>\n",
       "      <td>7559</td>\n",
       "      <td>Cinnamon Rolls with Icing</td>\n",
       "      <td>105</td>\n",
       "      <td>13</td>\n",
       "    </tr>\n",
       "    <tr>\n",
       "      <th>9037</th>\n",
       "      <td>9038</td>\n",
       "      <td>American Cheese slices</td>\n",
       "      <td>21</td>\n",
       "      <td>16</td>\n",
       "    </tr>\n",
       "    <tr>\n",
       "      <th>...</th>\n",
       "      <td>...</td>\n",
       "      <td>...</td>\n",
       "      <td>...</td>\n",
       "      <td>...</td>\n",
       "    </tr>\n",
       "    <tr>\n",
       "      <th>49689</th>\n",
       "      <td>49690</td>\n",
       "      <td>HIGH PERFORMANCE ENERGY DRINK</td>\n",
       "      <td>64</td>\n",
       "      <td>7</td>\n",
       "    </tr>\n",
       "    <tr>\n",
       "      <th>49690</th>\n",
       "      <td>49691</td>\n",
       "      <td>ORIGINAL PANCAKE &amp; WAFFLE MIX</td>\n",
       "      <td>130</td>\n",
       "      <td>14</td>\n",
       "    </tr>\n",
       "    <tr>\n",
       "      <th>49691</th>\n",
       "      <td>49692</td>\n",
       "      <td>ORGANIC INSTANT OATMEAL LIGHT MAPLE BROWN SUGAR</td>\n",
       "      <td>130</td>\n",
       "      <td>14</td>\n",
       "    </tr>\n",
       "    <tr>\n",
       "      <th>49692</th>\n",
       "      <td>49693</td>\n",
       "      <td>SPRING WATER BODY WASH</td>\n",
       "      <td>127</td>\n",
       "      <td>11</td>\n",
       "    </tr>\n",
       "    <tr>\n",
       "      <th>49693</th>\n",
       "      <td>49694</td>\n",
       "      <td>BURRITO- STEAK &amp; CHEESE</td>\n",
       "      <td>38</td>\n",
       "      <td>1</td>\n",
       "    </tr>\n",
       "  </tbody>\n",
       "</table>\n",
       "<p>104 rows × 4 columns</p>\n",
       "</div>"
      ],
      "text/plain": [
       "       product_id                                     product_name  aisle_id  \\\n",
       "2058         2059                                  Biotin 1000 Mcg        47   \n",
       "5455         5456                 Green Tea With Ginseng and Honey        96   \n",
       "5558         5559                           Cream Of Mushroom Soup        69   \n",
       "7558         7559                        Cinnamon Rolls with Icing       105   \n",
       "9037         9038                           American Cheese slices        21   \n",
       "...           ...                                              ...       ...   \n",
       "49689       49690                    HIGH PERFORMANCE ENERGY DRINK        64   \n",
       "49690       49691                    ORIGINAL PANCAKE & WAFFLE MIX       130   \n",
       "49691       49692  ORGANIC INSTANT OATMEAL LIGHT MAPLE BROWN SUGAR       130   \n",
       "49692       49693                           SPRING WATER BODY WASH       127   \n",
       "49693       49694                          BURRITO- STEAK & CHEESE        38   \n",
       "\n",
       "       department_id  \n",
       "2058              11  \n",
       "5455              20  \n",
       "5558              15  \n",
       "7558              13  \n",
       "9037              16  \n",
       "...              ...  \n",
       "49689              7  \n",
       "49690             14  \n",
       "49691             14  \n",
       "49692             11  \n",
       "49693              1  \n",
       "\n",
       "[104 rows x 4 columns]"
      ]
     },
     "execution_count": 17,
     "metadata": {},
     "output_type": "execute_result"
    }
   ],
   "source": [
    "# Revisa si hay nombres duplicados de productos no faltantes\n",
    "df_products[~df_products['product_name'].isna() & (df_products['product_name'].str.upper().duplicated())]"
   ]
  },
  {
   "cell_type": "markdown",
   "id": "9da8d293",
   "metadata": {
    "id": "9da8d293"
   },
   "source": [
    "Describe brevemente tus hallazgos y lo que hiciste con ellos.\n",
    "\n",
    "Primeramente aplique el metodo duplicated para revisar si en el DF existian valores duplicados, pero arrojo 0. Después revise en la columna 'department_id' y encontre una gran cantidad de valores duplicados, esto se debe a que son pocos los departamentos donde se acomodan los productos. Posteriormente en la columna 'product_name' se hallaron 1361 valores duplicados, de los cuales 1258 son valores NaN, esto con la ayuda del método value_counts(dropna=False) el cual incluye los valores unicos y los None de una Series. "
   ]
  },
  {
   "cell_type": "markdown",
   "id": "60f30db1",
   "metadata": {
    "id": "60f30db1"
   },
   "source": [
    "### `departments` data frame"
   ]
  },
  {
   "cell_type": "code",
   "execution_count": 18,
   "id": "fb410ad4-0fbf-4b80-bb09-23fdea79afe3",
   "metadata": {
    "id": "fb410ad4-0fbf-4b80-bb09-23fdea79afe3"
   },
   "outputs": [
    {
     "name": "stdout",
     "output_type": "stream",
     "text": [
      "Empty DataFrame\n",
      "Columns: [department_id, department]\n",
      "Index: []\n"
     ]
    }
   ],
   "source": [
    "# Revisa si hay filas totalmente duplicadas\n",
    "print(df_departments[df_departments.duplicated()])"
   ]
  },
  {
   "cell_type": "code",
   "execution_count": 19,
   "id": "332b12bb",
   "metadata": {
    "id": "332b12bb"
   },
   "outputs": [
    {
     "name": "stdout",
     "output_type": "stream",
     "text": [
      "0\n"
     ]
    }
   ],
   "source": [
    "# Revisa únicamente si hay IDs duplicadas de productos\n",
    "print(df_departments['department_id'].duplicated().sum())"
   ]
  },
  {
   "cell_type": "markdown",
   "id": "bd30d78e",
   "metadata": {
    "id": "bd30d78e"
   },
   "source": [
    "Describe brevemente tus hallazgos y lo que hiciste con ellos.\n",
    "\n",
    "No se encontraron valores duplicados en este DF"
   ]
  },
  {
   "cell_type": "markdown",
   "id": "889349c1",
   "metadata": {
    "id": "889349c1"
   },
   "source": [
    "### `aisles` data frame"
   ]
  },
  {
   "cell_type": "code",
   "execution_count": 20,
   "id": "9da89fb9-4679-40f5-ad0d-c34df753a3f8",
   "metadata": {
    "id": "9da89fb9-4679-40f5-ad0d-c34df753a3f8"
   },
   "outputs": [
    {
     "name": "stdout",
     "output_type": "stream",
     "text": [
      "0\n"
     ]
    }
   ],
   "source": [
    "# Revisa si hay filas totalmente duplicadas\n",
    "print(df_aisles.duplicated().sum())"
   ]
  },
  {
   "cell_type": "code",
   "execution_count": 21,
   "id": "da7c2822",
   "metadata": {
    "id": "da7c2822"
   },
   "outputs": [
    {
     "name": "stdout",
     "output_type": "stream",
     "text": [
      "0\n"
     ]
    }
   ],
   "source": [
    "# Revisa únicamente si hay IDs duplicadas de productos\n",
    "print(df_aisles['aisle_id'].duplicated().sum())"
   ]
  },
  {
   "cell_type": "markdown",
   "id": "ac63826f",
   "metadata": {
    "id": "ac63826f"
   },
   "source": [
    "Describe brevemente tus hallazgos y lo que hiciste con ellos.\n",
    "\n",
    "No se encontraron valores duplicados en este DF"
   ]
  },
  {
   "cell_type": "markdown",
   "id": "274cd06a",
   "metadata": {
    "id": "274cd06a"
   },
   "source": [
    "### `order_products` data frame"
   ]
  },
  {
   "cell_type": "code",
   "execution_count": 22,
   "id": "52326689-84a8-4b8f-a881-7c68780f62c9",
   "metadata": {
    "id": "52326689-84a8-4b8f-a881-7c68780f62c9"
   },
   "outputs": [
    {
     "name": "stdout",
     "output_type": "stream",
     "text": [
      "0\n"
     ]
    }
   ],
   "source": [
    "# Revisa si hay filas totalmente duplicadas\n",
    "print(df_order_product.duplicated().sum())"
   ]
  },
  {
   "cell_type": "code",
   "execution_count": 23,
   "id": "7b861391",
   "metadata": {
    "id": "7b861391"
   },
   "outputs": [
    {
     "name": "stdout",
     "output_type": "stream",
     "text": [
      "0\n"
     ]
    }
   ],
   "source": [
    "# Vuelve a verificar si hay cualquier otro duplicado engañoso\n",
    "print(df_order_product.duplicated(subset=['order_id', 'product_id', 'add_to_cart_order', 'reordered']).sum())"
   ]
  },
  {
   "cell_type": "markdown",
   "id": "0b890492",
   "metadata": {
    "id": "0b890492"
   },
   "source": [
    "Describe brevemente tus hallazgos y lo que hiciste con ellos.\n",
    "\n",
    "Aplique el método duplicated para verificar que no existieran valores duplicados, esto arrojo 0 valores, posteriormente aplique el metodo duplicated con el parametro subset para verificar cada una de las columnas y descubir algun valor engañoso, pero como al contar con valores de tipo int y float, no hay la posibilidad que tengan espacios extras, o que algunos esten en mayusculas. "
   ]
  },
  {
   "cell_type": "markdown",
   "id": "1e46de76",
   "metadata": {
    "id": "1e46de76"
   },
   "source": [
    "## Encuentra y elimina los valores ausentes\n",
    "\n",
    "Al trabajar con valores duplicados, pudimos observar que también nos falta investigar valores ausentes:\n",
    "\n",
    "* La columna `'product_name'` de la tabla products.\n",
    "* La columna `'days_since_prior_order'` de la tabla orders.\n",
    "* La columna `'add_to_cart_order'` de la tabla order_productos."
   ]
  },
  {
   "cell_type": "markdown",
   "id": "c0aebd78",
   "metadata": {
    "id": "c0aebd78"
   },
   "source": [
    "### `products` data frame"
   ]
  },
  {
   "cell_type": "code",
   "execution_count": 24,
   "id": "fe4a8b0f",
   "metadata": {
    "id": "fe4a8b0f"
   },
   "outputs": [
    {
     "name": "stdout",
     "output_type": "stream",
     "text": [
      "NaN                                         1258\n",
      "Halloween Mix Bag                              1\n",
      "Pocket Pepperoni Pizza Style                   1\n",
      "Pure Pomegranate Juice                         1\n",
      "Raw Pistachios                                 1\n",
      "                                            ... \n",
      "Recycled Adult Ultra Soft Toothbrush           1\n",
      "Cheddar Snack Mix                              1\n",
      "Fresh Ciliegine Mozzarella Cheese              1\n",
      "Powdered Sugar                                 1\n",
      "Crispy Battered Fish Portions Value Pack       1\n",
      "Name: product_name, Length: 48437, dtype: int64\n"
     ]
    }
   ],
   "source": [
    "# Encuentra los valores ausentes en la columna 'product_name'\n",
    "values_ausen_product = df_products['product_name'].value_counts(dropna=False)\n",
    "print(values_ausen_product)"
   ]
  },
  {
   "cell_type": "markdown",
   "id": "-A6x1AbJhjkp",
   "metadata": {
    "id": "-A6x1AbJhjkp"
   },
   "source": [
    "Describe brevemente cuáles son tus hallazgos.\n",
    "En la columna 'product_name' se encuentran 1258 valores ausentes"
   ]
  },
  {
   "cell_type": "code",
   "execution_count": 25,
   "id": "e96167bc",
   "metadata": {
    "id": "e96167bc"
   },
   "outputs": [
    {
     "name": "stdout",
     "output_type": "stream",
     "text": [
      "       product_id product_name  aisle_id  department_id\n",
      "37             38          NaN       100             21\n",
      "71             72          NaN       100             21\n",
      "109           110          NaN       100             21\n",
      "296           297          NaN       100             21\n",
      "416           417          NaN       100             21\n",
      "...           ...          ...       ...            ...\n",
      "49552       49553          NaN       100             21\n",
      "49574       49575          NaN       100             21\n",
      "49640       49641          NaN       100             21\n",
      "49663       49664          NaN       100             21\n",
      "49668       49669          NaN       100             21\n",
      "\n",
      "[1258 rows x 4 columns]\n",
      "True\n"
     ]
    }
   ],
   "source": [
    "#  ¿Todos los nombres de productos ausentes están relacionados con el pasillo con ID 100?\n",
    "productos_ausentes = df_products[df_products['product_name'].isna()]\n",
    "print(productos_ausentes)\n",
    "\n",
    "productos_en_pasillo_100 = (productos_ausentes['aisle_id'] == 100).all()\n",
    "print(productos_en_pasillo_100)\n"
   ]
  },
  {
   "cell_type": "markdown",
   "id": "WRpIfXRphpSL",
   "metadata": {
    "id": "WRpIfXRphpSL"
   },
   "source": [
    "Describe brevemente cuáles son tus hallazgos. Al usar el método isna en la columna'product_name' se puede observar que hay muchos valores ausentes relacionados con el aisle_id 100 pero para confirmarlo se hace una condicion en la columna aisle y el valor que nos arroja es True, por lo cual se puede concluir que todos los valores ausentes estan relacionados con aisle_id 100"
   ]
  },
  {
   "cell_type": "code",
   "execution_count": 26,
   "id": "8fd0a541",
   "metadata": {
    "id": "8fd0a541"
   },
   "outputs": [
    {
     "name": "stdout",
     "output_type": "stream",
     "text": [
      "       product_id product_name  aisle_id  department_id\n",
      "37             38          NaN       100             21\n",
      "71             72          NaN       100             21\n",
      "109           110          NaN       100             21\n",
      "296           297          NaN       100             21\n",
      "416           417          NaN       100             21\n",
      "...           ...          ...       ...            ...\n",
      "49552       49553          NaN       100             21\n",
      "49574       49575          NaN       100             21\n",
      "49640       49641          NaN       100             21\n",
      "49663       49664          NaN       100             21\n",
      "49668       49669          NaN       100             21\n",
      "\n",
      "[1258 rows x 4 columns]\n",
      "True\n"
     ]
    }
   ],
   "source": [
    "# ¿Todos los nombres de productos ausentes están relacionados con el departamento con ID 21?\n",
    "print(productos_ausentes)\n",
    "product_depar_21 = (productos_ausentes['department_id'] == 21).all()\n",
    "print(product_depar_21)"
   ]
  },
  {
   "cell_type": "markdown",
   "id": "qDpdYn1Fht_I",
   "metadata": {
    "id": "qDpdYn1Fht_I"
   },
   "source": [
    "Describe brevemente cuáles son tus hallazgos. Al nuevamamente el DF se observa que los productos ausentes estan relacionados con el department id 21 al aplicar una nueva condicion se puede confirmar que si estan relacionados."
   ]
  },
  {
   "cell_type": "code",
   "execution_count": 27,
   "id": "325c3464",
   "metadata": {
    "id": "325c3464"
   },
   "outputs": [
    {
     "name": "stdout",
     "output_type": "stream",
     "text": [
      "      product_name  aisle_id  department_id\n",
      "37             NaN       100             21\n",
      "71             NaN       100             21\n",
      "109            NaN       100             21\n",
      "296            NaN       100             21\n",
      "416            NaN       100             21\n",
      "...            ...       ...            ...\n",
      "49552          NaN       100             21\n",
      "49574          NaN       100             21\n",
      "49640          NaN       100             21\n",
      "49663          NaN       100             21\n",
      "49668          NaN       100             21\n",
      "\n",
      "[1258 rows x 3 columns]\n"
     ]
    }
   ],
   "source": [
    "# Usa las tablas department y aisle para revisar los datos del pasillo con ID 100 y el departamento con ID 21.\n",
    "filtro_tables = df_products[(df_products['aisle_id'] == 100) & (df_products['department_id'] == 21)]\n",
    "filtro_valores_ausentes = filtro_tables[filtro_tables['product_name'].isna()]\n",
    "valores_ausentes_totales = filtro_valores_ausentes[['product_name','aisle_id','department_id']]\n",
    "print(valores_ausentes_totales)"
   ]
  },
  {
   "cell_type": "markdown",
   "id": "nqhSTUPhhvEJ",
   "metadata": {
    "id": "nqhSTUPhhvEJ"
   },
   "source": [
    "Describe brevemente cuáles son tus hallazgos. Aqui se muestra unicamente las columnas product_name, aisle_id y department_id y se observa la relacion que previamente ya se habia descrito."
   ]
  },
  {
   "cell_type": "code",
   "execution_count": 28,
   "id": "6b295120",
   "metadata": {
    "id": "6b295120"
   },
   "outputs": [
    {
     "name": "stdout",
     "output_type": "stream",
     "text": [
      "product_id       0\n",
      "product_name     0\n",
      "aisle_id         0\n",
      "department_id    0\n",
      "dtype: int64\n",
      "       product_id product_name  aisle_id  department_id\n",
      "37             38       Unknow       100             21\n",
      "71             72       Unknow       100             21\n",
      "109           110       Unknow       100             21\n",
      "296           297       Unknow       100             21\n",
      "416           417       Unknow       100             21\n",
      "...           ...          ...       ...            ...\n",
      "49552       49553       Unknow       100             21\n",
      "49574       49575       Unknow       100             21\n",
      "49640       49641       Unknow       100             21\n",
      "49663       49664       Unknow       100             21\n",
      "49668       49669       Unknow       100             21\n",
      "\n",
      "[1258 rows x 4 columns]\n"
     ]
    }
   ],
   "source": [
    "# Completa los nombres de productos ausentes con 'Unknown'\n",
    "df_products['product_name'] = df_products['product_name'].fillna('Unknow')\n",
    "print(df_products.isna().sum())\n",
    "comprobar = df_products[df_products['product_name'] =='Unknow']\n",
    "print(comprobar)\n"
   ]
  },
  {
   "cell_type": "markdown",
   "id": "fc70e5ad",
   "metadata": {
    "id": "fc70e5ad"
   },
   "source": [
    "Describe brevemente tus hallazgos y lo que hiciste con ellos.\n",
    "\n",
    "Se encontraron 1258 valores ausentes dentro de la columna product_name los cuales tienen una relación con las columnas aisle_id 100 y department_id 21, al ubicar estos valores ausentes se decidio rellenarlos con el metodo fillna y como nuevo valor se le asigno \"Unknow\", al final se hizo una comprobacion para corroborrar que los datos habian sido modificados."
   ]
  },
  {
   "cell_type": "markdown",
   "id": "7eb45c86",
   "metadata": {
    "id": "7eb45c86"
   },
   "source": [
    "### `orders` data frame"
   ]
  },
  {
   "cell_type": "code",
   "execution_count": 29,
   "id": "93e41d96",
   "metadata": {
    "id": "93e41d96"
   },
   "outputs": [
    {
     "name": "stdout",
     "output_type": "stream",
     "text": [
      "order_id                      0\n",
      "user_id                       0\n",
      "order_number                  0\n",
      "order_dow                     0\n",
      "order_hour_of_day             0\n",
      "days_since_prior_order    28817\n",
      "dtype: int64\n"
     ]
    }
   ],
   "source": [
    "# Encuentra los valores ausentes\n",
    "print(df_orders.isna().sum())"
   ]
  },
  {
   "cell_type": "code",
   "execution_count": 30,
   "id": "166e5a86",
   "metadata": {
    "id": "166e5a86"
   },
   "outputs": [
    {
     "name": "stdout",
     "output_type": "stream",
     "text": [
      "0.0      9589\n",
      "1.0     20179\n",
      "2.0     27138\n",
      "3.0     30224\n",
      "4.0     31006\n",
      "5.0     30096\n",
      "6.0     33930\n",
      "7.0     44577\n",
      "8.0     25361\n",
      "9.0     16753\n",
      "10.0    13309\n",
      "11.0    11467\n",
      "12.0    10658\n",
      "13.0    11737\n",
      "14.0    13992\n",
      "15.0     9416\n",
      "16.0     6587\n",
      "17.0     5498\n",
      "18.0     4971\n",
      "19.0     4939\n",
      "20.0     5302\n",
      "21.0     6448\n",
      "22.0     4514\n",
      "23.0     3337\n",
      "24.0     3015\n",
      "25.0     2711\n",
      "26.0     2640\n",
      "27.0     2986\n",
      "28.0     3745\n",
      "29.0     2673\n",
      "30.0    51337\n",
      "NaN     28817\n",
      "Name: days_since_prior_order, dtype: int64\n"
     ]
    }
   ],
   "source": [
    "# ¿Hay algún valor ausente que no sea el primer pedido del cliente?\n",
    "print(df_orders['days_since_prior_order'].value_counts(dropna=False).sort_index())"
   ]
  },
  {
   "cell_type": "markdown",
   "id": "4e23d089",
   "metadata": {
    "id": "4e23d089"
   },
   "source": [
    "Describe brevemente tus hallazgos y lo que hiciste con ellos. Se encontraron valores ausentes en la columna days_since, pero al verificarla utilizando el método value_counts(dropna=False) con el parametro dropna en false para incluir los valores ausentes, y por ultimo utilizando el método sort_index para ordernarlos vemos que el primer valor no es ausente. "
   ]
  },
  {
   "cell_type": "markdown",
   "id": "69dc9ca4",
   "metadata": {
    "id": "69dc9ca4"
   },
   "source": [
    "### `order_products` data frame"
   ]
  },
  {
   "cell_type": "code",
   "execution_count": 31,
   "id": "b8240253",
   "metadata": {
    "id": "b8240253"
   },
   "outputs": [
    {
     "name": "stdout",
     "output_type": "stream",
     "text": [
      "order_id               0\n",
      "product_id             0\n",
      "add_to_cart_order    836\n",
      "reordered              0\n",
      "dtype: int64\n"
     ]
    }
   ],
   "source": [
    "# Encuentra los valores ausentes\n",
    "print(df_order_product.isna().sum())"
   ]
  },
  {
   "cell_type": "code",
   "execution_count": 32,
   "id": "9a78e5ee",
   "metadata": {
    "id": "9a78e5ee"
   },
   "outputs": [
    {
     "name": "stdout",
     "output_type": "stream",
     "text": [
      "(1.0, 64.0)\n"
     ]
    }
   ],
   "source": [
    "# ¿Cuáles son los valores mínimos y máximos en esta columna?\n",
    "valores_max_min = (df_order_product['add_to_cart_order'].min(), df_order_product['add_to_cart_order'].max()) \n",
    "print(valores_max_min)\n"
   ]
  },
  {
   "cell_type": "markdown",
   "id": "-Z2Ja215jW78",
   "metadata": {
    "id": "-Z2Ja215jW78"
   },
   "source": [
    "Describe brevemente cuáles son tus hallazgos.\n",
    "Hay 836 valores ausentes en la columna add_to_cart_order. El valor minimo de esta columna es 1.0 y el maximo es 64.0"
   ]
  },
  {
   "cell_type": "code",
   "execution_count": 33,
   "id": "ab9d0c2b",
   "metadata": {
    "id": "ab9d0c2b",
    "scrolled": true
   },
   "outputs": [
    {
     "name": "stdout",
     "output_type": "stream",
     "text": [
      "[2449164 1968313 2926893 1717990 1959075  844733   61355  936852  264710\n",
      " 1564093  129627  293169 2849370 1386261 3308010  903110 2136777 3347453\n",
      " 1888628  165801 2094761 1038146 2997021  813364 2256933  171934 2409109\n",
      " 1730767 1169835  733526  404157 3125735  747668 1800005 1961723  871281\n",
      "  388234 1648217 1477139  102236 1021563 1832957 2721963  678116 1220886\n",
      " 1673227 2999801 1633337 2470674 2625444 1677118 2479011 3383594 1183255\n",
      " 1713430 2652650 1598369 1916118  854647 1302315  888470  180546 2621907\n",
      " 1308785 2729254    9310 2170451 2979697 1625713 1529171]\n"
     ]
    }
   ],
   "source": [
    "# Guarda todas las IDs de pedidos que tengan un valor ausente en 'add_to_cart_order'\n",
    "filtro_ausente_cart = df_order_product[df_order_product['add_to_cart_order'].isna()]\n",
    "extraer_order_id = filtro_ausente_cart['order_id'].unique()\n",
    "print(extraer_order_id)"
   ]
  },
  {
   "cell_type": "code",
   "execution_count": 34,
   "id": "54c31695",
   "metadata": {
    "id": "54c31695"
   },
   "outputs": [
    {
     "data": {
      "text/plain": [
       "order_id\n",
       "61355      127\n",
       "3308010    115\n",
       "2136777    108\n",
       "171934     104\n",
       "1959075     98\n",
       "          ... \n",
       "888470      65\n",
       "1598369     65\n",
       "747668      65\n",
       "1677118     65\n",
       "9310        65\n",
       "Name: product_id, Length: 70, dtype: int64"
      ]
     },
     "execution_count": 34,
     "metadata": {},
     "output_type": "execute_result"
    }
   ],
   "source": [
    "# ¿Todos los pedidos con valores ausentes tienen más de 64 productos?\n",
    "df_order_product.groupby('order_id')['product_id'].count().sort_values(ascending=False)\n",
    "\n",
    "# Agrupa todos los pedidos con datos ausentes por su ID de pedido.\n",
    "# filtrar con el metodo isin para identificar ids faltantes\n",
    "\n",
    "df_order_product[df_order_product['order_id'].isin(extraer_order_id)].groupby('order_id')['product_id'].count().sort_values(ascending=False)\n"
   ]
  },
  {
   "cell_type": "markdown",
   "id": "p9V6pddtjglj",
   "metadata": {
    "id": "p9V6pddtjglj"
   },
   "source": [
    "Describe brevemente cuáles son tus hallazgos.\n",
    "Con base en los resultados existen order_id con mas de 64 productos, por lo cual se cumple se puede deducir que los valores ausentes si tienen mas de 64 productos"
   ]
  },
  {
   "cell_type": "code",
   "execution_count": 35,
   "id": "7a987d08",
   "metadata": {
    "id": "7a987d08"
   },
   "outputs": [
    {
     "name": "stdout",
     "output_type": "stream",
     "text": [
      "         order_id  product_id  add_to_cart_order  reordered\n",
      "737       2449164        5068                999          0\n",
      "9926      1968313       43867                999          0\n",
      "14394     2926893       11688                999          0\n",
      "16418     1717990        4142                999          0\n",
      "30114     1959075       42828                999          1\n",
      "...           ...         ...                ...        ...\n",
      "4505662   1800005        7411                999          0\n",
      "4511400   1633337         260                999          0\n",
      "4517562    404157        9517                999          0\n",
      "4534112   1673227       17835                999          0\n",
      "4535739   1832957       17949                999          1\n",
      "\n",
      "[836 rows x 4 columns]\n",
      "<class 'pandas.core.frame.DataFrame'>\n",
      "RangeIndex: 4545007 entries, 0 to 4545006\n",
      "Data columns (total 4 columns):\n",
      " #   Column             Dtype\n",
      "---  ------             -----\n",
      " 0   order_id           int64\n",
      " 1   product_id         int64\n",
      " 2   add_to_cart_order  int64\n",
      " 3   reordered          int64\n",
      "dtypes: int64(4)\n",
      "memory usage: 138.7 MB\n"
     ]
    }
   ],
   "source": [
    "# Remplaza los valores ausentes en la columna 'add_to_cart? con 999 y convierte la columna al tipo entero.\n",
    "df_order_product['add_to_cart_order'] = df_order_product['add_to_cart_order'].fillna(999)\n",
    "df_order_product['add_to_cart_order'] = df_order_product['add_to_cart_order'].astype('int')\n",
    "comprobar_1 = df_order_product[df_order_product['add_to_cart_order'] == 999]\n",
    "print(comprobar_1)\n",
    "df_order_product.info()"
   ]
  },
  {
   "cell_type": "markdown",
   "id": "fea4bcc7",
   "metadata": {
    "id": "fea4bcc7"
   },
   "source": [
    "Describe brevemente tus hallazgos y lo que hiciste con ellos.\n",
    "Se reemplazaron los valores ausentes con 999 con ayuda del método fillna y para cambiar el tipo de datos de la columna \"add_to_cart_order\" se uso el metodo astype, por ultimo corroborre los cambios creando una variable llamada comprobar_1 y llame a info para verificar la columna se modifico a int."
   ]
  },
  {
   "cell_type": "markdown",
   "id": "RnplPFY1gSrb",
   "metadata": {
    "id": "RnplPFY1gSrb"
   },
   "source": [
    "## Conclusiones\n",
    "\n",
    "Escribe aquí tus conclusiones intermedias sobre el Paso 2. Preprocesamiento de los datos\n",
    "\n",
    "Dentro de los conjuntos de datos existian algunas columnas que contenian muchos valores duplicados y ausentes, por lo cual fue necesario implementar algunos cambios en los DF para un mejor manejo de la data. asimismo hay algunos que se conservaron ya que si se eliminaban era posible afectar de manera significativa, por lo cual se opto por reemplazar esos valores. \n"
   ]
  },
  {
   "cell_type": "markdown",
   "id": "UjrOIwTcz3ri",
   "metadata": {
    "id": "UjrOIwTcz3ri"
   },
   "source": [
    "# Paso 3. Análisis de los datos\n",
    "\n",
    "Una vez los datos estén procesados y listos, haz el siguiente análisis:"
   ]
  },
  {
   "cell_type": "markdown",
   "id": "turkish-kidney",
   "metadata": {
    "id": "turkish-kidney"
   },
   "source": [
    "# [A] Fácil (deben completarse todos para aprobar)\n",
    "\n",
    "1. Verifica que los valores en las columnas `'order_hour_of_day'` y `'order_dow'` en la tabla orders sean razonables (es decir, `'order_hour_of_day'` oscile entre 0 y 23 y `'order_dow'` oscile entre 0 y 6).\n",
    "2. Crea un gráfico que muestre el número de personas que hacen pedidos dependiendo de la hora del día.\n",
    "3. Crea un gráfico que muestre qué día de la semana la gente hace sus compras.\n",
    "4. Crea un gráfico que muestre el tiempo que la gente espera hasta hacer su siguiente pedido, y comenta sobre los valores mínimos y máximos."
   ]
  },
  {
   "cell_type": "markdown",
   "id": "short-capability",
   "metadata": {
    "id": "short-capability"
   },
   "source": [
    "### [A1] Verifica que los valores sean sensibles"
   ]
  },
  {
   "cell_type": "code",
   "execution_count": 36,
   "id": "growing-fruit",
   "metadata": {
    "id": "growing-fruit"
   },
   "outputs": [
    {
     "name": "stdout",
     "output_type": "stream",
     "text": [
      "0      3180\n",
      "1      1763\n",
      "2       989\n",
      "3       770\n",
      "4       765\n",
      "5      1371\n",
      "6      4215\n",
      "7     13043\n",
      "8     25024\n",
      "9     35896\n",
      "10    40578\n",
      "11    40032\n",
      "12    38034\n",
      "13    39007\n",
      "14    39631\n",
      "15    39789\n",
      "16    38112\n",
      "17    31930\n",
      "18    25510\n",
      "19    19547\n",
      "20    14624\n",
      "21    11019\n",
      "22     8512\n",
      "23     5611\n",
      "Name: order_hour_of_day, dtype: int64\n"
     ]
    }
   ],
   "source": [
    "# verificación de la columna order_hour_of_day\n",
    "valores_hora = df_orders['order_hour_of_day'].value_counts().sort_index()\n",
    "print(valores_hora)"
   ]
  },
  {
   "cell_type": "code",
   "execution_count": 37,
   "id": "accessory-malaysia",
   "metadata": {
    "id": "accessory-malaysia"
   },
   "outputs": [
    {
     "name": "stdout",
     "output_type": "stream",
     "text": [
      "0    84090\n",
      "1    82185\n",
      "2    65833\n",
      "3    60897\n",
      "4    59810\n",
      "5    63488\n",
      "6    62649\n",
      "Name: order_dow, dtype: int64\n"
     ]
    }
   ],
   "source": [
    "# verificar los datos de la columna order_dow\n",
    "datos_semana = df_orders['order_dow'].value_counts().sort_index()\n",
    "print(datos_semana)"
   ]
  },
  {
   "cell_type": "markdown",
   "id": "hmR2GNQ6lCsX",
   "metadata": {
    "id": "hmR2GNQ6lCsX"
   },
   "source": [
    "Escribe aquí tus conclusiones. al verificar los valores unicos dentro de las columnas order_hour_of_day y order_dow se puede observar que cuentan con datos razonables, por lo cual no es necesario realizar cambios. "
   ]
  },
  {
   "cell_type": "markdown",
   "id": "a6743a70",
   "metadata": {
    "id": "a6743a70"
   },
   "source": [
    "### [A2] Para cada hora del día, ¿cuántas personas hacen órdenes?"
   ]
  },
  {
   "cell_type": "code",
   "execution_count": 38,
   "id": "a36cca27",
   "metadata": {
    "id": "a36cca27",
    "scrolled": true
   },
   "outputs": [
    {
     "data": {
      "image/png": "[encoded data removed]",
      "text/plain": [
       "<Figure size 1000x600 with 1 Axes>"
      ]
     },
     "metadata": {},
     "output_type": "display_data"
    }
   ],
   "source": [
    "# filtro para agrupar órdenes hechas por hora del día \n",
    "pedidos_por_hora = df_orders.groupby('order_hour_of_day')['order_id'].count()\n",
    "\n",
    "# gráfica de órdenes por hora del día  \n",
    "pedidos_por_hora.plot(kind='bar', \n",
    "                      figsize=(10, 6), \n",
    "                      title='Órdenes por Hora del día',\n",
    "                      xlabel=('Horas del día / 24hrs'), \n",
    "                      ylabel=('Número de órdenes'),\n",
    "                      rot=1,\n",
    "                     color='darkmagenta')\n",
    "plt.grid(axis='y')\n",
    "plt.show()\n"
   ]
  },
  {
   "cell_type": "markdown",
   "id": "11270eed",
   "metadata": {
    "id": "11270eed"
   },
   "source": [
    "Escribe aquí tus conclusiones. De acuerdo al gráfico las horas en las que se presentan más números de órdenes es de las 9 am hasta las 16 pm.  "
   ]
  },
  {
   "cell_type": "markdown",
   "id": "documented-command",
   "metadata": {
    "id": "documented-command"
   },
   "source": [
    "### [A3] ¿Qué día de la semana compran víveres las personas?"
   ]
  },
  {
   "cell_type": "code",
   "execution_count": 39,
   "id": "chief-digit",
   "metadata": {
    "id": "chief-digit"
   },
   "outputs": [
    {
     "data": {
      "image/png": "[encoded data removed]",
      "text/plain": [
       "<Figure size 1000x600 with 1 Axes>"
      ]
     },
     "metadata": {},
     "output_type": "display_data"
    }
   ],
   "source": [
    "# Filtro para agrupar los pedidos realizados por día de la semana \n",
    "compras_por_semana = df_orders.groupby('order_dow')['order_id'].count()\n",
    "\n",
    "# Gráfica de órdenes realizadas por dia de la semana\n",
    "compras_por_semana.plot(title='Órdenes por día de la Semana',\n",
    "                        xlabel='Días de la semana / 0 es igual a Domingo',\n",
    "                        ylabel='Número de órdenes',\n",
    "                        kind='bar',\n",
    "                        figsize=(10,6),\n",
    "                        color='olive',\n",
    "                       rot = 1)\n",
    "plt.grid(axis='y')\n",
    "plt.show()\n"
   ]
  },
  {
   "cell_type": "markdown",
   "id": "dominant-lightning",
   "metadata": {
    "id": "dominant-lightning"
   },
   "source": [
    "Escribe aquí tus conclusiones. \n",
    "La gráfica muestra que los días en los que se realizan mayores ordenes son los Domingos(0) y Lunes (1), mientras los dias que disminuyen las órdenes son los Jueves (4)"
   ]
  },
  {
   "cell_type": "markdown",
   "id": "cutting-concert",
   "metadata": {
    "id": "cutting-concert"
   },
   "source": [
    "### [A4] ¿Cuánto tiempo esperan las personas hasta hacer otro pedido? Comenta sobre los valores mínimos y máximos."
   ]
  },
  {
   "cell_type": "code",
   "execution_count": 40,
   "id": "c231f523",
   "metadata": {
    "id": "c231f523"
   },
   "outputs": [
    {
     "name": "stdout",
     "output_type": "stream",
     "text": [
      "Valor minimo de dias transcurridos : 0.0\n",
      "Valor maximo de dias transcurridos : 30.0\n"
     ]
    },
    {
     "data": {
      "image/png": "[encoded data removed]",
      "text/plain": [
       "<Figure size 1000x600 with 1 Axes>"
      ]
     },
     "metadata": {},
     "output_type": "display_data"
    }
   ],
   "source": [
    "#Filtro para agrupar los dias desde que el cliente hizo un pedido \n",
    "tiempo_espera = df_orders['days_since_prior_order'].value_counts().sort_index()\n",
    "\n",
    "# valores minimos y maximos\n",
    "print(f\"Valor minimo de dias transcurridos : {df_orders['days_since_prior_order'].min()}\")\n",
    "print(f\"Valor maximo de dias transcurridos : {df_orders['days_since_prior_order'].max()}\")\n",
    "\n",
    "# Gráfica de los días que han transcurrido desde el último pedido del cliente\n",
    "tiempo_espera.plot(title='Dias transcurridos desde el último pedido',\n",
    "                   xlabel='Número de días transcurridos',\n",
    "                   ylabel='Numero de pedidos',\n",
    "                   kind='bar',\n",
    "                   figsize=(10,6),\n",
    "                   color='skyblue')\n",
    "plt.grid(axis='y')\n",
    "plt.show()"
   ]
  },
  {
   "cell_type": "markdown",
   "id": "discrete-vertex",
   "metadata": {
    "id": "discrete-vertex"
   },
   "source": [
    "Escribe aquí tus conclusiones. En la grafica se observa que los dias minimos que transcurren para que el cliente pida otra orden es de 0 dias y un maximo de 30 dias, de los cuales los más frecuentes que transcurren para que el cliente ordene nuevamente son 7 dias y 30 dias.  "
   ]
  },
  {
   "cell_type": "markdown",
   "id": "tight-staff",
   "metadata": {
    "id": "tight-staff"
   },
   "source": [
    "# [B] Intermedio (deben completarse todos para aprobar)\n",
    "\n",
    "1. ¿Existe alguna diferencia entre las distribuciones `'order_hour_of_day'` de los miércoles y los sábados? Traza gráficos de barra de `'order_hour_of_day'` para ambos días en la misma figura y describe las diferencias que observes.\n",
    "2. Grafica la distribución para el número de órdenes que hacen los clientes (es decir, cuántos clientes hicieron solo 1 pedido, cuántos hicieron 2, cuántos 3, y así sucesivamente...).\n",
    "3. ¿Cuáles son los 20 principales productos que se piden con más frecuencia (muestra su identificación y nombre)?"
   ]
  },
  {
   "cell_type": "markdown",
   "id": "packed-classic",
   "metadata": {
    "id": "packed-classic"
   },
   "source": [
    "### [B1] Diferencia entre miércoles y sábados para  `'order_hour_of_day'`. Traza gráficos de barra para los dos días y describe las diferencias que veas."
   ]
  },
  {
   "cell_type": "code",
   "execution_count": 41,
   "id": "d89b8403",
   "metadata": {
    "id": "d89b8403"
   },
   "outputs": [],
   "source": [
    "# filtro para los miercoles\n",
    "miercoles= df_orders['order_dow'] == 3\n",
    "ordenes_miercoles = df_orders[miercoles]['order_hour_of_day'].value_counts().sort_index()\n"
   ]
  },
  {
   "cell_type": "code",
   "execution_count": 42,
   "id": "94e54e8a",
   "metadata": {
    "id": "94e54e8a"
   },
   "outputs": [],
   "source": [
    "# filtro para los sabados\n",
    "sabado = df_orders['order_dow'] == 6\n",
    "ordenes_sabados = df_orders[sabado]['order_hour_of_day'].value_counts().sort_index()"
   ]
  },
  {
   "cell_type": "code",
   "execution_count": 43,
   "id": "797c90a8",
   "metadata": {
    "id": "797c90a8"
   },
   "outputs": [
    {
     "data": {
      "text/html": [
       "<div>\n",
       "<style scoped>\n",
       "    .dataframe tbody tr th:only-of-type {\n",
       "        vertical-align: middle;\n",
       "    }\n",
       "\n",
       "    .dataframe tbody tr th {\n",
       "        vertical-align: top;\n",
       "    }\n",
       "\n",
       "    .dataframe thead th {\n",
       "        text-align: right;\n",
       "    }\n",
       "</style>\n",
       "<table border=\"1\" class=\"dataframe\">\n",
       "  <thead>\n",
       "    <tr style=\"text-align: right;\">\n",
       "      <th></th>\n",
       "      <th>Miércoles</th>\n",
       "      <th>Sábados</th>\n",
       "    </tr>\n",
       "  </thead>\n",
       "  <tbody>\n",
       "    <tr>\n",
       "      <th>0</th>\n",
       "      <td>373</td>\n",
       "      <td>464</td>\n",
       "    </tr>\n",
       "    <tr>\n",
       "      <th>1</th>\n",
       "      <td>215</td>\n",
       "      <td>254</td>\n",
       "    </tr>\n",
       "    <tr>\n",
       "      <th>2</th>\n",
       "      <td>106</td>\n",
       "      <td>177</td>\n",
       "    </tr>\n",
       "    <tr>\n",
       "      <th>3</th>\n",
       "      <td>101</td>\n",
       "      <td>125</td>\n",
       "    </tr>\n",
       "    <tr>\n",
       "      <th>4</th>\n",
       "      <td>108</td>\n",
       "      <td>118</td>\n",
       "    </tr>\n",
       "    <tr>\n",
       "      <th>5</th>\n",
       "      <td>170</td>\n",
       "      <td>161</td>\n",
       "    </tr>\n",
       "    <tr>\n",
       "      <th>6</th>\n",
       "      <td>643</td>\n",
       "      <td>451</td>\n",
       "    </tr>\n",
       "    <tr>\n",
       "      <th>7</th>\n",
       "      <td>1732</td>\n",
       "      <td>1619</td>\n",
       "    </tr>\n",
       "    <tr>\n",
       "      <th>8</th>\n",
       "      <td>3125</td>\n",
       "      <td>3246</td>\n",
       "    </tr>\n",
       "    <tr>\n",
       "      <th>9</th>\n",
       "      <td>4490</td>\n",
       "      <td>4311</td>\n",
       "    </tr>\n",
       "    <tr>\n",
       "      <th>10</th>\n",
       "      <td>5026</td>\n",
       "      <td>4919</td>\n",
       "    </tr>\n",
       "    <tr>\n",
       "      <th>11</th>\n",
       "      <td>5004</td>\n",
       "      <td>5116</td>\n",
       "    </tr>\n",
       "    <tr>\n",
       "      <th>12</th>\n",
       "      <td>4688</td>\n",
       "      <td>5132</td>\n",
       "    </tr>\n",
       "    <tr>\n",
       "      <th>13</th>\n",
       "      <td>4674</td>\n",
       "      <td>5323</td>\n",
       "    </tr>\n",
       "    <tr>\n",
       "      <th>14</th>\n",
       "      <td>4774</td>\n",
       "      <td>5375</td>\n",
       "    </tr>\n",
       "    <tr>\n",
       "      <th>15</th>\n",
       "      <td>5163</td>\n",
       "      <td>5188</td>\n",
       "    </tr>\n",
       "    <tr>\n",
       "      <th>16</th>\n",
       "      <td>4976</td>\n",
       "      <td>5029</td>\n",
       "    </tr>\n",
       "    <tr>\n",
       "      <th>17</th>\n",
       "      <td>4175</td>\n",
       "      <td>4295</td>\n",
       "    </tr>\n",
       "    <tr>\n",
       "      <th>18</th>\n",
       "      <td>3463</td>\n",
       "      <td>3338</td>\n",
       "    </tr>\n",
       "    <tr>\n",
       "      <th>19</th>\n",
       "      <td>2652</td>\n",
       "      <td>2610</td>\n",
       "    </tr>\n",
       "    <tr>\n",
       "      <th>20</th>\n",
       "      <td>1917</td>\n",
       "      <td>1847</td>\n",
       "    </tr>\n",
       "    <tr>\n",
       "      <th>21</th>\n",
       "      <td>1450</td>\n",
       "      <td>1473</td>\n",
       "    </tr>\n",
       "    <tr>\n",
       "      <th>22</th>\n",
       "      <td>1154</td>\n",
       "      <td>1185</td>\n",
       "    </tr>\n",
       "    <tr>\n",
       "      <th>23</th>\n",
       "      <td>718</td>\n",
       "      <td>893</td>\n",
       "    </tr>\n",
       "  </tbody>\n",
       "</table>\n",
       "</div>"
      ],
      "text/plain": [
       "    Miércoles  Sábados\n",
       "0         373      464\n",
       "1         215      254\n",
       "2         106      177\n",
       "3         101      125\n",
       "4         108      118\n",
       "5         170      161\n",
       "6         643      451\n",
       "7        1732     1619\n",
       "8        3125     3246\n",
       "9        4490     4311\n",
       "10       5026     4919\n",
       "11       5004     5116\n",
       "12       4688     5132\n",
       "13       4674     5323\n",
       "14       4774     5375\n",
       "15       5163     5188\n",
       "16       4976     5029\n",
       "17       4175     4295\n",
       "18       3463     3338\n",
       "19       2652     2610\n",
       "20       1917     1847\n",
       "21       1450     1473\n",
       "22       1154     1185\n",
       "23        718      893"
      ]
     },
     "execution_count": 43,
     "metadata": {},
     "output_type": "execute_result"
    }
   ],
   "source": [
    "# Uso de Concatenar para fusionar los filtros miercoles y sabado \n",
    "order_miercoles_sabado = pd.concat([ordenes_miercoles, ordenes_sabados], axis=1)\n",
    "order_miercoles_sabado.columns = ['Miércoles', \"Sábados\"]\n",
    "order_miercoles_sabado"
   ]
  },
  {
   "cell_type": "code",
   "execution_count": 44,
   "id": "35bcea30",
   "metadata": {
    "id": "35bcea30"
   },
   "outputs": [
    {
     "data": {
      "image/png": "[encoded data removed]",
      "text/plain": [
       "<Figure size 1100x600 with 1 Axes>"
      ]
     },
     "metadata": {},
     "output_type": "display_data"
    }
   ],
   "source": [
    "order_miercoles_sabado.plot(kind='bar',\n",
    "                 title='Diferencias entre la distribucion de los dias Miércoles y Sábados',\n",
    "                 xlabel='Horas del día',\n",
    "                 ylabel='Número de pedidos',\n",
    "                  figsize=(11,6),\n",
    "                 color=['mediumblue', 'lawngreen'],\n",
    "                 rot=1)\n",
    "plt.legend(title='Día de la semana')\n",
    "plt.show()"
   ]
  },
  {
   "cell_type": "markdown",
   "id": "charitable-congo",
   "metadata": {
    "id": "charitable-congo"
   },
   "source": [
    "Escribe aquí tus conclusiones. En el gráfico se puede observar que si existe una diferencia entre los dos dias, ya que el sábado tiene un mejor numero de pedidos en casi todas las horas del día, aunque se podria considerar que esta diferencia no es tan significativa, ya que los miércoles tienen un considerable número de pedidos."
   ]
  },
  {
   "cell_type": "markdown",
   "id": "e3891143",
   "metadata": {
    "id": "e3891143"
   },
   "source": [
    "### [B2] ¿Cuál es la distribución para el número de pedidos por cliente?"
   ]
  },
  {
   "cell_type": "code",
   "execution_count": 45,
   "id": "d8c26c23",
   "metadata": {
    "id": "d8c26c23"
   },
   "outputs": [],
   "source": [
    "# agrupar los pedidos realizados por los clientes\n",
    "filtro_pedidos_user = df_orders.groupby('user_id').size()\n",
    "#cuantos clientes hicieron 1, 2, 3 ... pedidos\n",
    "num_pedidos = filtro_pedidos_user.value_counts().sort_index()"
   ]
  },
  {
   "cell_type": "code",
   "execution_count": 46,
   "id": "00e69a66",
   "metadata": {
    "id": "00e69a66"
   },
   "outputs": [
    {
     "data": {
      "image/png": "[encoded data removed]",
      "text/plain": [
       "<Figure size 1100x600 with 1 Axes>"
      ]
     },
     "metadata": {},
     "output_type": "display_data"
    }
   ],
   "source": [
    "num_pedidos.plot(title='Número de pedidos por cliente',\n",
    "                         kind='bar',\n",
    "                         xlabel='Número de pedidos',\n",
    "                         ylabel='Número de clientes',\n",
    "                         color='salmon',\n",
    "                         figsize=(11,6))\n",
    "plt.grid(axis='y')\n",
    "plt.show()"
   ]
  },
  {
   "cell_type": "markdown",
   "id": "d2eff7d5",
   "metadata": {
    "id": "d2eff7d5"
   },
   "source": [
    "Escribe aquí tus conclusiones. Se puede observar en el grafico que el numero de pedido mas frecuente es de 1, mientras que el menos frecuente es de 16 pedidos hechos por un cliente."
   ]
  },
  {
   "cell_type": "markdown",
   "id": "54a0319c",
   "metadata": {
    "id": "54a0319c"
   },
   "source": [
    "### [B3] ¿Cuáles son los 20 productos más populares (muestra su ID y nombre)?"
   ]
  },
  {
   "cell_type": "code",
   "execution_count": 47,
   "id": "25813cc0",
   "metadata": {},
   "outputs": [],
   "source": [
    "# hacer un merge entre orders y products\n",
    "df_prueba = pd.merge(df_order_product, df_products, on ='product_id')"
   ]
  },
  {
   "cell_type": "code",
   "execution_count": 48,
   "id": "exterior-arizona",
   "metadata": {
    "id": "exterior-arizona",
    "scrolled": true
   },
   "outputs": [],
   "source": [
    "# agrupar los productos por product_id y name, crear una nueva columna llamada 'counts'\n",
    "productos_vendidos = df_prueba.groupby(['product_id', 'product_name']).size().reset_index(name='counts')"
   ]
  },
  {
   "cell_type": "code",
   "execution_count": 49,
   "id": "universal-facial",
   "metadata": {
    "id": "universal-facial"
   },
   "outputs": [],
   "source": [
    "productos_ordenados = productos_vendidos.sort_values(by='counts', ascending=False)"
   ]
  },
  {
   "cell_type": "code",
   "execution_count": 68,
   "id": "774722ca",
   "metadata": {},
   "outputs": [
    {
     "name": "stdout",
     "output_type": "stream",
     "text": [
      "       product_id              product_name  counts\n",
      "22808       24852                    Banana   66050\n",
      "12025       13176    Bag of Organic Bananas   53297\n",
      "19370       21137      Organic Strawberries   37039\n",
      "20077       21903      Organic Baby Spinach   33971\n",
      "43271       47209      Organic Hass Avocado   29773\n",
      "43788       47766           Organic Avocado   24689\n",
      "43663       47626               Large Lemon   21495\n",
      "15364       16797              Strawberries   20018\n",
      "24047       26209                     Limes   19690\n",
      "25556       27845        Organic Whole Milk   19600\n",
      "25666       27966       Organic Raspberries   19197\n",
      "21025       22935      Organic Yellow Onion   15898\n",
      "22908       24964            Organic Garlic   15292\n",
      "41244       45007          Organic Zucchini   14584\n",
      "35996       39275       Organic Blueberries   13879\n",
      "45561       49683            Cucumber Kirby   13675\n",
      "25889       28204        Organic Fuji Apple   12544\n",
      "5375         5876             Organic Lemon   12232\n",
      "7543         8277  Apple Honeycrisp Organic   11993\n",
      "37301       40706    Organic Grape Tomatoes   11781\n"
     ]
    }
   ],
   "source": [
    "# obtener los 20 productos top\n",
    "filtro_top20 = productos_ordenados.head(20)\n",
    "# imprimir\n",
    "print(filtro_top20)"
   ]
  },
  {
   "cell_type": "markdown",
   "id": "7df00f47",
   "metadata": {
    "id": "7df00f47"
   },
   "source": [
    "Escribe aquí tus conclusiones. Se muestra una lista de los 20 productos mas vendidos incluyendo el Id, nombre y cantidad vendia de dichos productos."
   ]
  },
  {
   "cell_type": "markdown",
   "id": "gross-theme",
   "metadata": {
    "id": "gross-theme"
   },
   "source": [
    "# [C] Difícil (deben completarse todos para aprobar)\n",
    "\n",
    "1. ¿Cuántos artículos suelen comprar las personas en un pedido? ¿Cómo es la distribución?\n",
    "2. ¿Cuáles son los 20 principales artículos que vuelven a pedirse con mayor frecuencia (muestra sus nombres e IDs de los productos)?\n",
    "3. Para cada producto, ¿cuál es la tasa de repetición del pedido (número de repeticiones de pedido/total de pedidos?\n",
    "4. Para cada cliente, ¿qué proporción de los productos que pidió ya los había pedido? Calcula la tasa de repetición de pedido para cada usuario en lugar de para cada producto.\n",
    "5. ¿Cuáles son los 20 principales artículos que la gente pone primero en sus carritos (muestra las IDs de los productos, sus nombres, y el número de veces en que fueron el primer artículo en añadirse al carrito)?"
   ]
  },
  {
   "cell_type": "markdown",
   "id": "romantic-deposit",
   "metadata": {
    "id": "romantic-deposit"
   },
   "source": [
    "### [C1] ¿Cuántos artículos compran normalmente las personas en un pedido? ¿Cómo es la distribución?"
   ]
  },
  {
   "cell_type": "code",
   "execution_count": 51,
   "id": "virtual-punch",
   "metadata": {
    "id": "virtual-punch"
   },
   "outputs": [],
   "source": [
    "# agrupar las order_id por el product_id y contarlos\n",
    "total_producto_ordenes = df_order_product.groupby('order_id')['product_id'].count()"
   ]
  },
  {
   "cell_type": "code",
   "execution_count": 52,
   "id": "sensitive-breathing",
   "metadata": {
    "id": "sensitive-breathing"
   },
   "outputs": [],
   "source": [
    "# Crear una variable para despues graficar\n",
    "histo_valores = total_producto_ordenes.value_counts().sort_index()"
   ]
  },
  {
   "cell_type": "code",
   "execution_count": 53,
   "id": "completed-frank",
   "metadata": {
    "id": "completed-frank"
   },
   "outputs": [
    {
     "data": {
      "image/png": "[encoded data removed]",
      "text/plain": [
       "<Figure size 640x480 with 1 Axes>"
      ]
     },
     "metadata": {},
     "output_type": "display_data"
    }
   ],
   "source": [
    "# graficar los resultados\n",
    "histo_valores[histo_valores.index < 41].plot(kind= 'bar',\n",
    "                   title='Articulos comprados normalmente en un pedido',\n",
    "                   xlabel='Cantidad de productos',\n",
    "                   ylabel='Frecuencia de compra', \n",
    "                    color='darkviolet')\n",
    "\n",
    "plt.show()"
   ]
  },
  {
   "cell_type": "markdown",
   "id": "designed-mortality",
   "metadata": {
    "id": "designed-mortality"
   },
   "source": [
    "Escribe aquí tus conclusiones. La cantidad de articulos comprados en un pedido son en su mayoria de 1 a 10 articulos entre los mas frecuente. "
   ]
  },
  {
   "cell_type": "markdown",
   "id": "5e6b5537",
   "metadata": {
    "id": "5e6b5537"
   },
   "source": [
    "### [C2] ¿Cuáles son los 20 principales artículos que vuelven a pedirse con mayor frecuencia (muestra sus nombres e IDs de los productos)?"
   ]
  },
  {
   "cell_type": "code",
   "execution_count": 54,
   "id": "9374e55a",
   "metadata": {
    "id": "9374e55a"
   },
   "outputs": [],
   "source": [
    "# unir DF product y order_product\n",
    "df_combinados = pd.merge(df_order_product, df_products, on='product_id')"
   ]
  },
  {
   "cell_type": "code",
   "execution_count": 55,
   "id": "possible-change",
   "metadata": {
    "id": "possible-change",
    "scrolled": true
   },
   "outputs": [],
   "source": [
    "# agrupar por product_id y nombre del producto\n",
    "articulos_recomprados = df_combinados.groupby(['product_id','product_name'])['reordered'].sum().reset_index()"
   ]
  },
  {
   "cell_type": "code",
   "execution_count": 56,
   "id": "professional-surfing",
   "metadata": {
    "id": "professional-surfing",
    "scrolled": true
   },
   "outputs": [],
   "source": [
    "# filtrar los articulos que han sido comprados mas de 1 vez y ordenarlos \n",
    "articulos_recomprados = articulos_recomprados[articulos_recomprados['reordered'] > 1].sort_values(by='reordered', ascending=False)"
   ]
  },
  {
   "cell_type": "code",
   "execution_count": 57,
   "id": "48dd3658",
   "metadata": {
    "id": "48dd3658"
   },
   "outputs": [
    {
     "name": "stdout",
     "output_type": "stream",
     "text": [
      "       product_id              product_name  reordered\n",
      "22808       24852                    Banana      55763\n",
      "12025       13176    Bag of Organic Bananas      44450\n",
      "19370       21137      Organic Strawberries      28639\n",
      "20077       21903      Organic Baby Spinach      26233\n",
      "43271       47209      Organic Hass Avocado      23629\n",
      "43788       47766           Organic Avocado      18743\n",
      "25556       27845        Organic Whole Milk      16251\n",
      "43663       47626               Large Lemon      15044\n",
      "25666       27966       Organic Raspberries      14748\n",
      "15364       16797              Strawberries      13945\n",
      "24047       26209                     Limes      13327\n",
      "21025       22935      Organic Yellow Onion      11145\n",
      "22908       24964            Organic Garlic      10411\n",
      "41244       45007          Organic Zucchini      10076\n",
      "45561       49683            Cucumber Kirby       9538\n",
      "25889       28204        Organic Fuji Apple       8989\n",
      "7543         8277  Apple Honeycrisp Organic       8836\n",
      "35996       39275       Organic Blueberries       8799\n",
      "5375         5876             Organic Lemon       8412\n",
      "45155       49235       Organic Half & Half       8389\n"
     ]
    }
   ],
   "source": [
    "## imprimir articulos con mayor frecuencia\n",
    "top20_articulos_recomprados = articulos_recomprados.head(20)\n",
    "print(top20_articulos_recomprados)"
   ]
  },
  {
   "cell_type": "markdown",
   "id": "80e70c74",
   "metadata": {
    "id": "80e70c74"
   },
   "source": [
    "Escribe aquí tus conclusiones. Los articulos top 20 han sido recomprados entre 8000 y 55763 veces. Tambien se observa que la mayoria son productos naturales."
   ]
  },
  {
   "cell_type": "markdown",
   "id": "9d312b14",
   "metadata": {
    "id": "9d312b14"
   },
   "source": [
    "### [C3] Para cada producto, ¿cuál es la proporción de las veces que se pide y que se vuelve a pedir?"
   ]
  },
  {
   "cell_type": "code",
   "execution_count": 58,
   "id": "8ae9f4b1",
   "metadata": {
    "id": "8ae9f4b1"
   },
   "outputs": [],
   "source": [
    "# Agrupar por producto\n",
    "df_productos_agru = df_combinados.groupby(['product_id' , 'product_name'])"
   ]
  },
  {
   "cell_type": "code",
   "execution_count": 59,
   "id": "103e7fe1",
   "metadata": {
    "id": "103e7fe1"
   },
   "outputs": [],
   "source": [
    "# calcular la proporcion de productos \n",
    "reorder_proporcion = df_productos_agru[\"reordered\"].mean()\n",
    "# convertir a DF y ordenar\n",
    "reorder_df = reorder_proporcion.to_frame(name=\"reorder_proporcion\").reset_index()\n",
    "reorder_df.sort_values(by=\"reorder_proporcion\", ascending=False, inplace=True)"
   ]
  },
  {
   "cell_type": "code",
   "execution_count": 60,
   "id": "social-individual",
   "metadata": {
    "id": "social-individual"
   },
   "outputs": [
    {
     "name": "stdout",
     "output_type": "stream",
     "text": [
      "Proporcion de veces que se piden los productos\n",
      "\n",
      "       product_id                                       product_name  \\\n",
      "13453       14721                            Bone Strength Take Care   \n",
      "19195       20949                           Vanilla Sandwich Cookies   \n",
      "6136         6723                                   Palmiers- Petite   \n",
      "6144         6732                  Naturally Sparkling Mineral Water   \n",
      "41319       45088  California Dill Pollen & Garlic Goat Cheese & ...   \n",
      "41310       45078                                       Pomegranatea   \n",
      "19258       21016       Parchment Lined 8 in x 3.75 in x 2.5 in Pans   \n",
      "19248       21005                        Peanut Butter Pie Ice Cream   \n",
      "32273       35192                         Chocolate Soy Milk Singles   \n",
      "32277       35197  Mocha Chocolate Chip  Organic Non-Dairy Frozen...   \n",
      "6211         6810                        Raspberry Goji Paleo Prints   \n",
      "41274       45040                                 Head Lock Mega Gel   \n",
      "41269       45035                               Coffee Flavor Yogurt   \n",
      "25120       27373                                     Meat Loaf Meal   \n",
      "28203       30748                           Cheese & Garlic Croutons   \n",
      "41265       45031                 Sugar Free Hazelnut Coffee Creamer   \n",
      "32224       35137  Superior Preference Fade-Defying Color + Shine...   \n",
      "28202       30747                   Dentotape® Unflavored Waxed Tape   \n",
      "32304       35228                       Marvelous Muffins Baking Mix   \n",
      "32305       35229                             Bean & Cheese Burritos   \n",
      "\n",
      "       reorder_proporcion  \n",
      "13453                 1.0  \n",
      "19195                 1.0  \n",
      "6136                  1.0  \n",
      "6144                  1.0  \n",
      "41319                 1.0  \n",
      "41310                 1.0  \n",
      "19258                 1.0  \n",
      "19248                 1.0  \n",
      "32273                 1.0  \n",
      "32277                 1.0  \n",
      "6211                  1.0  \n",
      "41274                 1.0  \n",
      "41269                 1.0  \n",
      "25120                 1.0  \n",
      "28203                 1.0  \n",
      "41265                 1.0  \n",
      "32224                 1.0  \n",
      "28202                 1.0  \n",
      "32304                 1.0  \n",
      "32305                 1.0  \n"
     ]
    }
   ],
   "source": [
    "# imprimir resultados\n",
    "print(\"Proporcion de veces que se piden los productos\")\n",
    "print()\n",
    "print(reorder_df.head(20))"
   ]
  },
  {
   "cell_type": "markdown",
   "id": "I10dEIAyldcO",
   "metadata": {
    "id": "I10dEIAyldcO"
   },
   "source": [
    "Escribe aquí tus conclusiones. En los resultados se muestra que cada producto se ha reordenado 1 vez."
   ]
  },
  {
   "cell_type": "markdown",
   "id": "subject-boxing",
   "metadata": {
    "id": "subject-boxing"
   },
   "source": [
    "### [C4] Para cada cliente, ¿qué proporción de sus productos ya los había pedido?"
   ]
  },
  {
   "cell_type": "code",
   "execution_count": 61,
   "id": "d995fd80",
   "metadata": {},
   "outputs": [
    {
     "data": {
      "text/plain": [
       "array([0, 1])"
      ]
     },
     "execution_count": 61,
     "metadata": {},
     "output_type": "execute_result"
    }
   ],
   "source": [
    "# valores unicos de reordered\n",
    "df_order_product['reordered'].unique()"
   ]
  },
  {
   "cell_type": "code",
   "execution_count": 62,
   "id": "8892e4b4",
   "metadata": {
    "id": "8892e4b4"
   },
   "outputs": [],
   "source": [
    "# crear un merge con df_order y df_order_product\n",
    "df_merge = pd.merge(df_orders, df_order_product, on='order_id')"
   ]
  },
  {
   "cell_type": "code",
   "execution_count": 63,
   "id": "9a9e9cee",
   "metadata": {},
   "outputs": [],
   "source": [
    "# agrupar por user_id y reordered para verificar sus pedidos y aplicar el mean()\n",
    "pedido_cliente = df_merge.groupby('user_id')['reordered'].mean()\n",
    "\n",
    "# crear variable donde se obtendra la proporcion de las veces que ha vuelto a pedir un producto\n",
    "proporcion_pedido_ordenado = pedido_cliente.sort_values(ascending=False)"
   ]
  },
  {
   "cell_type": "code",
   "execution_count": 64,
   "id": "f21b0703",
   "metadata": {},
   "outputs": [
    {
     "name": "stdout",
     "output_type": "stream",
     "text": [
      "user_id\n",
      "137587    1.0\n",
      "173474    1.0\n",
      "13918     1.0\n",
      "62300     1.0\n",
      "62307     1.0\n",
      "96301     1.0\n",
      "62312     1.0\n",
      "48616     1.0\n",
      "62316     1.0\n",
      "191162    1.0\n",
      "Name: reordered, dtype: float64\n"
     ]
    }
   ],
   "source": [
    "# imprimir resultado\n",
    "print(proporcion_pedido_ordenado.head(10))"
   ]
  },
  {
   "cell_type": "markdown",
   "id": "BgJSvXDsleXz",
   "metadata": {
    "id": "BgJSvXDsleXz"
   },
   "source": [
    "Escribe aquí tus conclusiones"
   ]
  },
  {
   "cell_type": "markdown",
   "id": "92d35137",
   "metadata": {
    "id": "92d35137"
   },
   "source": [
    "### [C5] ¿Cuáles son los 20 principales artículos que las personas ponen primero en sus carritos?"
   ]
  },
  {
   "cell_type": "code",
   "execution_count": 65,
   "id": "forty-netherlands",
   "metadata": {
    "id": "forty-netherlands",
    "scrolled": true
   },
   "outputs": [],
   "source": [
    "# filtro de la columna add_to y condicion a 1 \n",
    "primeros_20 = df_combinados[df_combinados['add_to_cart_order'] == 1]"
   ]
  },
  {
   "cell_type": "code",
   "execution_count": 66,
   "id": "08e41ec2",
   "metadata": {
    "id": "08e41ec2"
   },
   "outputs": [],
   "source": [
    "# Se agrupa por las columnas id y name, se hace el conteo por la columna product_id y se ordenan de manera descendente\n",
    "contar_productos = primeros_20.groupby(['product_id', 'product_name'])['product_id'].count().sort_values(ascending=False)"
   ]
  },
  {
   "cell_type": "code",
   "execution_count": 67,
   "id": "3ebac1cd",
   "metadata": {},
   "outputs": [
    {
     "name": "stdout",
     "output_type": "stream",
     "text": [
      "    product_id                 product_name  count\n",
      "0        24852                       Banana  15562\n",
      "1        13176       Bag of Organic Bananas  11026\n",
      "2        27845           Organic Whole Milk   4363\n",
      "3        21137         Organic Strawberries   3946\n",
      "4        47209         Organic Hass Avocado   3390\n",
      "5        21903         Organic Baby Spinach   3336\n",
      "6        47766              Organic Avocado   3044\n",
      "7        19660                 Spring Water   2336\n",
      "8        16797                 Strawberries   2308\n",
      "9        27966          Organic Raspberries   2024\n",
      "10       44632   Sparkling Water Grapefruit   1914\n",
      "11       49235          Organic Half & Half   1797\n",
      "12       47626                  Large Lemon   1737\n",
      "13         196                         Soda   1733\n",
      "14       38689     Organic Reduced Fat Milk   1397\n",
      "15       26209                        Limes   1370\n",
      "16       12341                Hass Avocados   1340\n",
      "17        5785  Organic Reduced Fat 2% Milk   1310\n",
      "18       27086                  Half & Half   1309\n",
      "19       43352                  Raspberries   1246\n"
     ]
    }
   ],
   "source": [
    "# agregar la columna count con el metodo reset_index(name=)\n",
    "contar_productos_index = contar_productos.reset_index(name='count')\n",
    "# imprimir resultados\n",
    "print(contar_productos_index.head(20))"
   ]
  },
  {
   "cell_type": "markdown",
   "id": "28ce9872",
   "metadata": {
    "id": "28ce9872"
   },
   "source": [
    "Escribe aquí tus conclusiones. Los primeros 20 productos que los clientes agregan comienzan por Bananas, esto lo hacen 15562 personas y las Raspberries son el último producto dentro del top 20 que las personas agregan, dando un total de 1246 clientes. "
   ]
  },
  {
   "cell_type": "markdown",
   "id": "uITbFCEoDosC",
   "metadata": {
    "id": "uITbFCEoDosC"
   },
   "source": [
    "### Conclusion general del proyecto:"
   ]
  },
  {
   "cell_type": "markdown",
   "id": "5cea7880",
   "metadata": {},
   "source": [
    "Los DF contaban con valores duplicados, de los cuales algunos no contenian la información necesaria, puede ser por que haya sido omitida o habra ocurrido algun error en la captura. Por otra parte tambien se encontraron valores ausentes, esto arrojo un total de 70 ordenes que superaban el 'maximo' de productos en los pedidos de los clientes, dichos valores fueron relleandos con 999. En cuanto a la visualizacion de datos se logro observar que entre las 9 y las 16 horas se alcanza el punto maximo de pedidos, por otra parte se hizo un analisis para comparar las ventas de los dias miercoles y sabados, lo que arrojo una mayor solicitud de ventas los dias sabados, casi en los mismos horarios. Por otra parte el numero de pedidos por cliente oscila entre 1 y 4 pedidos, y la proporcion de productos comprados por cliente va de 1 hasta 10 productos. En cuanto a el primer producto que los clientes agregan a su carrito se logro observar que son las Bananas, siendo estas las mas populares. "
   ]
  },
  {
   "cell_type": "markdown",
   "id": "9628dff6",
   "metadata": {
    "id": "Nk-4GS7mDwqY"
   },
   "source": [
    "<div class=\"alert alert-block alert-warning\">\n",
    "<b>Comentario revisor</b> <a class=\"tocSkip\"></a>\n",
    "\n",
    "En general creo que hiciste un muy buen trabajo con el proyecto, pudiste limpiar y trabajar las bases de datos de beuna manera, análisis de duplicados, y de valores faltantes. Además dearrollaste de buena manera los diferentes anális que se solicitaban y cuando podías los complementabas con greaficas. No obstante, recuerda que siempre podemos mejorar y te menciono algunos puntos que debes considerar:\n",
    "\n",
    "* Revisar que los filtros sean correctos en algunos apartados con base en la indicación\n",
    "    \n",
    "    \n",
    "*  Realizar análisis complementarios eliminando los valores que parecen ser atípicos. \n",
    "    \n",
    "*  Realizar gráficas de barras en algunos análisis para complementarlos.\n",
    "    \n",
    "*  Ordenar los datos para que sean más claros los resultados.\n",
    "    \n",
    "*  Profundizar en los resultados intermedios y en la conclusión final.\n",
    "\n",
    "</div>"
   ]
  }
 ],
 "metadata": {
  "ExecuteTimeLog": [
   {
    "duration": 483,
    "start_time": "2024-07-08T17:32:13.484Z"
   },
   {
    "duration": 4254,
    "start_time": "2024-07-08T17:33:05.180Z"
   },
   {
    "duration": 41,
    "start_time": "2024-07-08T17:33:35.864Z"
   },
   {
    "duration": 16,
    "start_time": "2024-07-08T17:33:52.230Z"
   },
   {
    "duration": 34,
    "start_time": "2024-07-08T17:35:08.900Z"
   },
   {
    "duration": 19,
    "start_time": "2024-07-08T17:35:33.289Z"
   },
   {
    "duration": 3761,
    "start_time": "2024-07-08T17:37:48.583Z"
   },
   {
    "duration": 20,
    "start_time": "2024-07-08T17:37:52.348Z"
   },
   {
    "duration": 3815,
    "start_time": "2024-07-08T17:39:00.854Z"
   },
   {
    "duration": 18,
    "start_time": "2024-07-08T17:39:04.875Z"
   },
   {
    "duration": 6,
    "start_time": "2024-07-08T17:39:44.934Z"
   },
   {
    "duration": 6,
    "start_time": "2024-07-08T17:40:07.238Z"
   },
   {
    "duration": 6,
    "start_time": "2024-07-08T17:40:26.688Z"
   },
   {
    "duration": 1531,
    "start_time": "2024-07-08T17:41:00.931Z"
   },
   {
    "duration": 21,
    "start_time": "2024-07-08T17:41:03.670Z"
   },
   {
    "duration": 19,
    "start_time": "2024-07-08T17:41:06.415Z"
   },
   {
    "duration": 17,
    "start_time": "2024-07-08T17:41:19.371Z"
   },
   {
    "duration": 20,
    "start_time": "2024-07-08T17:41:33.617Z"
   },
   {
    "duration": 20,
    "start_time": "2024-07-08T17:41:52.796Z"
   },
   {
    "duration": 41,
    "start_time": "2024-07-08T17:42:59.619Z"
   },
   {
    "duration": 184,
    "start_time": "2024-07-08T18:14:15.643Z"
   },
   {
    "duration": 7,
    "start_time": "2024-07-08T18:15:06.763Z"
   },
   {
    "duration": 137,
    "start_time": "2024-07-08T18:15:12.093Z"
   },
   {
    "duration": 161,
    "start_time": "2024-07-08T18:15:25.692Z"
   },
   {
    "duration": 147,
    "start_time": "2024-07-08T18:16:00.379Z"
   },
   {
    "duration": 161,
    "start_time": "2024-07-08T18:17:33.778Z"
   },
   {
    "duration": 137,
    "start_time": "2024-07-08T18:18:10.778Z"
   },
   {
    "duration": 167,
    "start_time": "2024-07-08T18:19:29.978Z"
   },
   {
    "duration": 184,
    "start_time": "2024-07-08T18:20:02.391Z"
   },
   {
    "duration": 151,
    "start_time": "2024-07-08T18:20:17.966Z"
   },
   {
    "duration": 154,
    "start_time": "2024-07-08T18:20:23.408Z"
   },
   {
    "duration": 42,
    "start_time": "2024-07-08T18:21:37.605Z"
   },
   {
    "duration": 149,
    "start_time": "2024-07-08T18:21:55.413Z"
   },
   {
    "duration": 42,
    "start_time": "2024-07-08T18:22:17.343Z"
   },
   {
    "duration": 79,
    "start_time": "2024-07-08T18:28:24.813Z"
   },
   {
    "duration": 67,
    "start_time": "2024-07-08T18:29:21.520Z"
   },
   {
    "duration": 69,
    "start_time": "2024-07-08T18:30:09.492Z"
   },
   {
    "duration": 20,
    "start_time": "2024-07-08T18:31:03.548Z"
   },
   {
    "duration": 7,
    "start_time": "2024-07-08T18:32:10.570Z"
   },
   {
    "duration": 6,
    "start_time": "2024-07-08T18:32:26.123Z"
   },
   {
    "duration": 132,
    "start_time": "2024-07-08T18:35:07.573Z"
   },
   {
    "duration": 256,
    "start_time": "2024-07-08T18:38:13.348Z"
   },
   {
    "duration": 46,
    "start_time": "2024-07-08T18:38:22.668Z"
   },
   {
    "duration": 25,
    "start_time": "2024-07-08T18:38:33.551Z"
   },
   {
    "duration": 666,
    "start_time": "2024-07-08T18:41:47.141Z"
   },
   {
    "duration": 7,
    "start_time": "2024-07-08T18:42:20.365Z"
   },
   {
    "duration": 4,
    "start_time": "2024-07-08T18:43:19.213Z"
   },
   {
    "duration": 23,
    "start_time": "2024-07-08T18:43:26.283Z"
   },
   {
    "duration": 35,
    "start_time": "2024-07-08T18:43:56.798Z"
   },
   {
    "duration": 31,
    "start_time": "2024-07-08T18:44:09.187Z"
   },
   {
    "duration": 5,
    "start_time": "2024-07-08T18:44:19.258Z"
   },
   {
    "duration": 48,
    "start_time": "2024-07-08T18:48:45.542Z"
   },
   {
    "duration": 5,
    "start_time": "2024-07-08T18:55:56.354Z"
   },
   {
    "duration": 890,
    "start_time": "2024-07-08T18:56:52.029Z"
   },
   {
    "duration": 5,
    "start_time": "2024-07-08T18:57:06.134Z"
   },
   {
    "duration": 7,
    "start_time": "2024-07-08T18:58:23.167Z"
   },
   {
    "duration": 4,
    "start_time": "2024-07-08T18:58:58.878Z"
   },
   {
    "duration": 8,
    "start_time": "2024-07-08T18:59:56.008Z"
   },
   {
    "duration": 27,
    "start_time": "2024-07-08T19:00:03.235Z"
   },
   {
    "duration": 1407,
    "start_time": "2024-07-08T19:00:22.035Z"
   },
   {
    "duration": 3718,
    "start_time": "2024-07-08T19:01:31.506Z"
   },
   {
    "duration": 25,
    "start_time": "2024-07-08T19:01:52.197Z"
   },
   {
    "duration": 23,
    "start_time": "2024-07-08T19:02:01.344Z"
   },
   {
    "duration": 5,
    "start_time": "2024-07-08T19:02:42.003Z"
   },
   {
    "duration": 104,
    "start_time": "2024-07-08T19:02:48.042Z"
   },
   {
    "duration": 476,
    "start_time": "2024-07-08T19:03:12.610Z"
   },
   {
    "duration": 35,
    "start_time": "2024-07-08T19:08:41.817Z"
   },
   {
    "duration": 7,
    "start_time": "2024-07-08T19:09:27.903Z"
   },
   {
    "duration": 7,
    "start_time": "2024-07-08T19:09:48.206Z"
   },
   {
    "duration": 1362,
    "start_time": "2024-07-08T19:11:39.598Z"
   },
   {
    "duration": 67,
    "start_time": "2024-07-08T19:13:44.949Z"
   },
   {
    "duration": 1372,
    "start_time": "2024-07-08T19:14:22.943Z"
   },
   {
    "duration": 16,
    "start_time": "2024-07-08T19:31:22.923Z"
   },
   {
    "duration": 16,
    "start_time": "2024-07-08T19:31:38.539Z"
   },
   {
    "duration": 122,
    "start_time": "2024-07-08T19:31:52.448Z"
   },
   {
    "duration": 10,
    "start_time": "2024-07-08T19:33:44.563Z"
   },
   {
    "duration": 10,
    "start_time": "2024-07-08T19:33:59.978Z"
   },
   {
    "duration": 9,
    "start_time": "2024-07-08T19:34:07.411Z"
   },
   {
    "duration": 50,
    "start_time": "2024-07-08T19:35:43.011Z"
   },
   {
    "duration": 56,
    "start_time": "2024-07-08T19:36:07.691Z"
   },
   {
    "duration": 77,
    "start_time": "2024-07-08T19:41:03.360Z"
   },
   {
    "duration": 15,
    "start_time": "2024-07-08T19:41:53.853Z"
   },
   {
    "duration": 83,
    "start_time": "2024-07-08T19:46:44.900Z"
   },
   {
    "duration": 23,
    "start_time": "2024-07-08T19:46:57.463Z"
   },
   {
    "duration": 5,
    "start_time": "2024-07-08T19:52:00.873Z"
   },
   {
    "duration": 10,
    "start_time": "2024-07-08T19:52:30.713Z"
   },
   {
    "duration": 24,
    "start_time": "2024-07-08T20:01:15.408Z"
   },
   {
    "duration": 74,
    "start_time": "2024-07-08T20:01:23.694Z"
   },
   {
    "duration": 5,
    "start_time": "2024-07-08T20:06:52.065Z"
   },
   {
    "duration": 5,
    "start_time": "2024-07-08T20:07:29.897Z"
   },
   {
    "duration": 7,
    "start_time": "2024-07-08T20:07:37.348Z"
   },
   {
    "duration": 5,
    "start_time": "2024-07-08T20:09:06.490Z"
   },
   {
    "duration": 103,
    "start_time": "2024-07-08T20:10:27.478Z"
   },
   {
    "duration": 404,
    "start_time": "2024-07-08T20:10:41.388Z"
   },
   {
    "duration": 9,
    "start_time": "2024-07-08T20:10:57.667Z"
   },
   {
    "duration": 9,
    "start_time": "2024-07-08T20:11:37.438Z"
   },
   {
    "duration": 11,
    "start_time": "2024-07-08T20:12:23.151Z"
   },
   {
    "duration": 9,
    "start_time": "2024-07-08T20:13:02.753Z"
   },
   {
    "duration": 13,
    "start_time": "2024-07-08T20:13:33.698Z"
   },
   {
    "duration": 10,
    "start_time": "2024-07-08T20:13:36.785Z"
   },
   {
    "duration": 51,
    "start_time": "2024-07-08T20:13:42.939Z"
   },
   {
    "duration": 17,
    "start_time": "2024-07-08T20:13:45.567Z"
   },
   {
    "duration": 11,
    "start_time": "2024-07-08T20:13:48.112Z"
   },
   {
    "duration": 10,
    "start_time": "2024-07-08T20:13:50.800Z"
   },
   {
    "duration": 9,
    "start_time": "2024-07-08T20:16:58.335Z"
   },
   {
    "duration": 28,
    "start_time": "2024-07-08T20:22:32.238Z"
   },
   {
    "duration": 14,
    "start_time": "2024-07-08T20:23:23.998Z"
   },
   {
    "duration": 14,
    "start_time": "2024-07-08T20:23:46.632Z"
   },
   {
    "duration": 22,
    "start_time": "2024-07-08T20:28:50.608Z"
   },
   {
    "duration": 14,
    "start_time": "2024-07-08T20:28:59.728Z"
   },
   {
    "duration": 16,
    "start_time": "2024-07-08T20:29:50.346Z"
   },
   {
    "duration": 16,
    "start_time": "2024-07-08T20:29:58.824Z"
   },
   {
    "duration": 25,
    "start_time": "2024-07-08T20:33:47.318Z"
   },
   {
    "duration": 10,
    "start_time": "2024-07-08T20:38:34.626Z"
   },
   {
    "duration": 10,
    "start_time": "2024-07-08T20:38:42.069Z"
   },
   {
    "duration": 10,
    "start_time": "2024-07-08T20:41:09.888Z"
   },
   {
    "duration": 10,
    "start_time": "2024-07-08T20:41:46.378Z"
   },
   {
    "duration": 5,
    "start_time": "2024-07-08T20:46:11.547Z"
   },
   {
    "duration": 7,
    "start_time": "2024-07-08T20:46:41.993Z"
   },
   {
    "duration": 5,
    "start_time": "2024-07-08T20:46:48.962Z"
   },
   {
    "duration": 15,
    "start_time": "2024-07-08T20:47:03.151Z"
   },
   {
    "duration": 16,
    "start_time": "2024-07-08T20:47:25.849Z"
   },
   {
    "duration": 16,
    "start_time": "2024-07-08T20:48:09.439Z"
   },
   {
    "duration": 27,
    "start_time": "2024-07-08T20:52:40.238Z"
   },
   {
    "duration": 24,
    "start_time": "2024-07-08T20:55:09.148Z"
   },
   {
    "duration": 1476,
    "start_time": "2024-07-08T20:56:12.381Z"
   },
   {
    "duration": 27,
    "start_time": "2024-07-08T20:57:06.012Z"
   },
   {
    "duration": 30,
    "start_time": "2024-07-08T20:57:17.728Z"
   },
   {
    "duration": 63,
    "start_time": "2024-07-08T20:58:07.708Z"
   },
   {
    "duration": 18,
    "start_time": "2024-07-08T21:06:16.988Z"
   },
   {
    "duration": 13,
    "start_time": "2024-07-08T21:09:14.578Z"
   },
   {
    "duration": 21,
    "start_time": "2024-07-08T21:09:27.153Z"
   },
   {
    "duration": 112,
    "start_time": "2024-07-08T21:09:43.299Z"
   },
   {
    "duration": 739,
    "start_time": "2024-07-08T21:10:49.712Z"
   },
   {
    "duration": 370,
    "start_time": "2024-07-08T21:14:20.483Z"
   },
   {
    "duration": 752,
    "start_time": "2024-07-08T21:15:00.951Z"
   },
   {
    "duration": 384,
    "start_time": "2024-07-08T21:15:28.560Z"
   },
   {
    "duration": 707,
    "start_time": "2024-07-08T21:16:12.649Z"
   },
   {
    "duration": 374,
    "start_time": "2024-07-08T21:16:36.182Z"
   },
   {
    "duration": 735,
    "start_time": "2024-07-08T21:20:35.263Z"
   },
   {
    "duration": 752,
    "start_time": "2024-07-08T21:20:50.463Z"
   },
   {
    "duration": 722,
    "start_time": "2024-07-08T21:20:58.168Z"
   },
   {
    "duration": 695,
    "start_time": "2024-07-08T21:21:07.595Z"
   },
   {
    "duration": 391,
    "start_time": "2024-07-08T21:22:52.611Z"
   },
   {
    "duration": 469,
    "start_time": "2024-07-08T21:25:50.007Z"
   },
   {
    "duration": 813,
    "start_time": "2024-07-08T21:26:16.077Z"
   },
   {
    "duration": 674,
    "start_time": "2024-07-08T21:29:13.682Z"
   },
   {
    "duration": 562,
    "start_time": "2024-07-08T21:30:37.543Z"
   },
   {
    "duration": 512,
    "start_time": "2024-07-08T21:35:30.744Z"
   },
   {
    "duration": 519,
    "start_time": "2024-07-08T21:39:51.049Z"
   },
   {
    "duration": 535,
    "start_time": "2024-07-08T21:41:00.279Z"
   },
   {
    "duration": 63,
    "start_time": "2024-07-08T21:45:46.141Z"
   },
   {
    "duration": 55,
    "start_time": "2024-07-08T21:46:13.897Z"
   },
   {
    "duration": 288,
    "start_time": "2024-07-08T21:47:42.832Z"
   },
   {
    "duration": 222,
    "start_time": "2024-07-08T21:50:24.232Z"
   },
   {
    "duration": 12,
    "start_time": "2024-07-08T22:00:04.746Z"
   },
   {
    "duration": 23,
    "start_time": "2024-07-08T22:00:18.102Z"
   },
   {
    "duration": 8,
    "start_time": "2024-07-08T22:00:25.379Z"
   },
   {
    "duration": 8,
    "start_time": "2024-07-08T22:04:48.638Z"
   },
   {
    "duration": 4013,
    "start_time": "2024-07-08T22:10:05.149Z"
   },
   {
    "duration": 41,
    "start_time": "2024-07-08T22:15:33.532Z"
   },
   {
    "duration": 4297,
    "start_time": "2024-07-08T22:15:40.684Z"
   },
   {
    "duration": 2363,
    "start_time": "2024-07-08T22:16:10.553Z"
   },
   {
    "duration": 314,
    "start_time": "2024-07-08T22:18:27.044Z"
   },
   {
    "duration": 24,
    "start_time": "2024-07-08T22:19:31.525Z"
   },
   {
    "duration": 787,
    "start_time": "2024-07-08T22:19:47.100Z"
   },
   {
    "duration": 1834,
    "start_time": "2024-07-08T22:19:49.698Z"
   },
   {
    "duration": 1673,
    "start_time": "2024-07-08T22:19:54.488Z"
   },
   {
    "duration": 24,
    "start_time": "2024-07-08T22:19:56.735Z"
   },
   {
    "duration": 19,
    "start_time": "2024-07-08T22:19:59.043Z"
   },
   {
    "duration": 18,
    "start_time": "2024-07-08T22:20:02.374Z"
   },
   {
    "duration": 15,
    "start_time": "2024-07-08T22:20:05.573Z"
   },
   {
    "duration": 16,
    "start_time": "2024-07-08T22:20:08.183Z"
   },
   {
    "duration": 44,
    "start_time": "2024-07-08T22:20:10.783Z"
   },
   {
    "duration": 152,
    "start_time": "2024-07-08T22:20:15.072Z"
   },
   {
    "duration": 149,
    "start_time": "2024-07-08T22:20:17.813Z"
   },
   {
    "duration": 168,
    "start_time": "2024-07-08T22:20:21.098Z"
   },
   {
    "duration": 164,
    "start_time": "2024-07-08T22:20:23.266Z"
   },
   {
    "duration": 74,
    "start_time": "2024-07-08T22:20:25.033Z"
   },
   {
    "duration": 25,
    "start_time": "2024-07-08T22:20:29.389Z"
   },
   {
    "duration": 5,
    "start_time": "2024-07-08T22:20:30.498Z"
   },
   {
    "duration": 35,
    "start_time": "2024-07-08T22:20:31.413Z"
   },
   {
    "duration": 43,
    "start_time": "2024-07-08T22:20:32.308Z"
   },
   {
    "duration": 7,
    "start_time": "2024-07-08T22:20:39.808Z"
   },
   {
    "duration": 5,
    "start_time": "2024-07-08T22:20:40.843Z"
   },
   {
    "duration": 6,
    "start_time": "2024-07-08T22:20:44.284Z"
   },
   {
    "duration": 5,
    "start_time": "2024-07-08T22:20:46.627Z"
   },
   {
    "duration": 1339,
    "start_time": "2024-07-08T22:20:49.369Z"
   },
   {
    "duration": 1334,
    "start_time": "2024-07-08T22:20:50.711Z"
   },
   {
    "duration": 42,
    "start_time": "2024-07-08T22:20:52.895Z"
   },
   {
    "duration": 21,
    "start_time": "2024-07-08T22:20:56.198Z"
   },
   {
    "duration": 11,
    "start_time": "2024-07-08T22:20:59.611Z"
   },
   {
    "duration": 13,
    "start_time": "2024-07-08T22:21:02.358Z"
   },
   {
    "duration": 24,
    "start_time": "2024-07-08T22:21:04.655Z"
   },
   {
    "duration": 10,
    "start_time": "2024-07-08T22:21:07.719Z"
   },
   {
    "duration": 19,
    "start_time": "2024-07-08T22:21:10.033Z"
   },
   {
    "duration": 26,
    "start_time": "2024-07-08T22:21:13.514Z"
   },
   {
    "duration": 49,
    "start_time": "2024-07-08T22:21:14.392Z"
   },
   {
    "duration": 20,
    "start_time": "2024-07-08T22:21:17.508Z"
   },
   {
    "duration": 8,
    "start_time": "2024-07-08T22:21:24.883Z"
   },
   {
    "duration": 131,
    "start_time": "2024-07-08T22:21:28.953Z"
   },
   {
    "duration": 8,
    "start_time": "2024-07-08T22:21:34.561Z"
   },
   {
    "duration": 10,
    "start_time": "2024-07-08T22:21:36.799Z"
   },
   {
    "duration": 316,
    "start_time": "2024-07-08T22:24:45.119Z"
   },
   {
    "duration": 757,
    "start_time": "2024-07-08T22:24:52.818Z"
   },
   {
    "duration": 1706,
    "start_time": "2024-07-08T22:24:56.834Z"
   },
   {
    "duration": 23,
    "start_time": "2024-07-08T22:25:08.034Z"
   },
   {
    "duration": 4,
    "start_time": "2024-07-08T22:28:50.350Z"
   },
   {
    "duration": 312,
    "start_time": "2024-07-08T22:28:57.965Z"
   },
   {
    "duration": 734,
    "start_time": "2024-07-08T22:29:06.723Z"
   },
   {
    "duration": 3,
    "start_time": "2024-07-08T22:29:09.185Z"
   },
   {
    "duration": 1831,
    "start_time": "2024-07-08T22:29:11.720Z"
   },
   {
    "duration": 3,
    "start_time": "2024-07-08T22:29:29.250Z"
   },
   {
    "duration": 4,
    "start_time": "2024-07-08T22:29:35.988Z"
   },
   {
    "duration": 1608,
    "start_time": "2024-07-08T22:29:35.997Z"
   },
   {
    "duration": 22,
    "start_time": "2024-07-08T22:29:37.608Z"
   },
   {
    "duration": 20,
    "start_time": "2024-07-08T22:29:37.633Z"
   },
   {
    "duration": 46,
    "start_time": "2024-07-08T22:29:37.658Z"
   },
   {
    "duration": 17,
    "start_time": "2024-07-08T22:29:37.707Z"
   },
   {
    "duration": 78,
    "start_time": "2024-07-08T22:29:37.727Z"
   },
   {
    "duration": 166,
    "start_time": "2024-07-08T22:29:37.809Z"
   },
   {
    "duration": 165,
    "start_time": "2024-07-08T22:29:37.978Z"
   },
   {
    "duration": 180,
    "start_time": "2024-07-08T22:29:38.146Z"
   },
   {
    "duration": 188,
    "start_time": "2024-07-08T22:29:38.330Z"
   },
   {
    "duration": 90,
    "start_time": "2024-07-08T22:29:38.522Z"
   },
   {
    "duration": 26,
    "start_time": "2024-07-08T22:29:38.615Z"
   },
   {
    "duration": 6,
    "start_time": "2024-07-08T22:29:38.648Z"
   },
   {
    "duration": 67,
    "start_time": "2024-07-08T22:29:38.657Z"
   },
   {
    "duration": 65,
    "start_time": "2024-07-08T22:29:38.728Z"
   },
   {
    "duration": 7,
    "start_time": "2024-07-08T22:29:38.796Z"
   },
   {
    "duration": 6,
    "start_time": "2024-07-08T22:29:38.807Z"
   },
   {
    "duration": 6,
    "start_time": "2024-07-08T22:29:38.817Z"
   },
   {
    "duration": 5,
    "start_time": "2024-07-08T22:29:38.827Z"
   },
   {
    "duration": 1410,
    "start_time": "2024-07-08T22:29:38.835Z"
   },
   {
    "duration": 1342,
    "start_time": "2024-07-08T22:29:40.248Z"
   },
   {
    "duration": 42,
    "start_time": "2024-07-08T22:29:41.593Z"
   },
   {
    "duration": 24,
    "start_time": "2024-07-08T22:29:41.638Z"
   },
   {
    "duration": 10,
    "start_time": "2024-07-08T22:29:41.691Z"
   },
   {
    "duration": 13,
    "start_time": "2024-07-08T22:29:41.704Z"
   },
   {
    "duration": 24,
    "start_time": "2024-07-08T22:29:41.720Z"
   },
   {
    "duration": 49,
    "start_time": "2024-07-08T22:29:41.747Z"
   },
   {
    "duration": 17,
    "start_time": "2024-07-08T22:29:41.799Z"
   },
   {
    "duration": 27,
    "start_time": "2024-07-08T22:29:41.819Z"
   },
   {
    "duration": 85,
    "start_time": "2024-07-08T22:29:41.849Z"
   },
   {
    "duration": 17,
    "start_time": "2024-07-08T22:29:41.938Z"
   },
   {
    "duration": 35,
    "start_time": "2024-07-08T22:29:41.959Z"
   },
   {
    "duration": 151,
    "start_time": "2024-07-08T22:29:41.998Z"
   },
   {
    "duration": 8,
    "start_time": "2024-07-08T22:29:42.152Z"
   },
   {
    "duration": 27,
    "start_time": "2024-07-08T22:29:42.163Z"
   },
   {
    "duration": 4,
    "start_time": "2024-07-08T22:29:42.193Z"
   },
   {
    "duration": 4011,
    "start_time": "2024-07-08T22:29:55.720Z"
   },
   {
    "duration": 2391,
    "start_time": "2024-07-08T22:31:19.117Z"
   },
   {
    "duration": 13,
    "start_time": "2024-07-08T22:35:53.102Z"
   },
   {
    "duration": 307,
    "start_time": "2024-07-08T22:36:05.595Z"
   },
   {
    "duration": 906,
    "start_time": "2024-07-08T22:36:19.478Z"
   },
   {
    "duration": 2071,
    "start_time": "2024-07-08T22:36:20.387Z"
   },
   {
    "duration": 32,
    "start_time": "2024-07-08T22:36:22.462Z"
   },
   {
    "duration": 36,
    "start_time": "2024-07-08T22:36:22.500Z"
   },
   {
    "duration": 26,
    "start_time": "2024-07-08T22:36:22.544Z"
   },
   {
    "duration": 28,
    "start_time": "2024-07-08T22:36:22.576Z"
   },
   {
    "duration": 57,
    "start_time": "2024-07-08T22:36:22.610Z"
   },
   {
    "duration": 220,
    "start_time": "2024-07-08T22:36:22.670Z"
   },
   {
    "duration": 217,
    "start_time": "2024-07-08T22:36:22.894Z"
   },
   {
    "duration": 268,
    "start_time": "2024-07-08T22:36:23.115Z"
   },
   {
    "duration": 262,
    "start_time": "2024-07-08T22:36:23.387Z"
   },
   {
    "duration": 107,
    "start_time": "2024-07-08T22:36:23.654Z"
   },
   {
    "duration": 45,
    "start_time": "2024-07-08T22:36:23.766Z"
   },
   {
    "duration": 7,
    "start_time": "2024-07-08T22:36:23.821Z"
   },
   {
    "duration": 77,
    "start_time": "2024-07-08T22:36:23.832Z"
   },
   {
    "duration": 60,
    "start_time": "2024-07-08T22:36:23.913Z"
   },
   {
    "duration": 8,
    "start_time": "2024-07-08T22:36:23.993Z"
   },
   {
    "duration": 6,
    "start_time": "2024-07-08T22:36:24.005Z"
   },
   {
    "duration": 9,
    "start_time": "2024-07-08T22:36:24.016Z"
   },
   {
    "duration": 6,
    "start_time": "2024-07-08T22:36:24.030Z"
   },
   {
    "duration": 1810,
    "start_time": "2024-07-08T22:36:24.040Z"
   },
   {
    "duration": 1571,
    "start_time": "2024-07-08T22:36:25.854Z"
   },
   {
    "duration": 40,
    "start_time": "2024-07-08T22:36:27.428Z"
   },
   {
    "duration": 15,
    "start_time": "2024-07-08T22:36:27.490Z"
   },
   {
    "duration": 10,
    "start_time": "2024-07-08T22:36:27.507Z"
   },
   {
    "duration": 15,
    "start_time": "2024-07-08T22:36:27.520Z"
   },
   {
    "duration": 64,
    "start_time": "2024-07-08T22:36:27.538Z"
   },
   {
    "duration": 10,
    "start_time": "2024-07-08T22:36:27.605Z"
   },
   {
    "duration": 17,
    "start_time": "2024-07-08T22:36:27.618Z"
   },
   {
    "duration": 68,
    "start_time": "2024-07-08T22:36:27.638Z"
   },
   {
    "duration": 49,
    "start_time": "2024-07-08T22:36:27.708Z"
   },
   {
    "duration": 40,
    "start_time": "2024-07-08T22:36:27.760Z"
   },
   {
    "duration": 8,
    "start_time": "2024-07-08T22:36:27.803Z"
   },
   {
    "duration": 170,
    "start_time": "2024-07-08T22:36:27.814Z"
   },
   {
    "duration": 10,
    "start_time": "2024-07-08T22:36:27.991Z"
   },
   {
    "duration": 8,
    "start_time": "2024-07-08T22:36:28.005Z"
   },
   {
    "duration": 3902,
    "start_time": "2024-07-08T22:36:28.016Z"
   },
   {
    "duration": 83173,
    "start_time": "2024-07-08T22:36:31.921Z"
   },
   {
    "duration": 0,
    "start_time": "2024-07-08T22:37:55.106Z"
   },
   {
    "duration": 11,
    "start_time": "2024-07-08T22:37:59.933Z"
   },
   {
    "duration": 317,
    "start_time": "2024-07-09T00:21:47.365Z"
   },
   {
    "duration": 4389,
    "start_time": "2024-07-09T00:21:57.585Z"
   },
   {
    "duration": 1764,
    "start_time": "2024-07-09T00:22:01.977Z"
   },
   {
    "duration": 28,
    "start_time": "2024-07-09T00:22:03.744Z"
   },
   {
    "duration": 21,
    "start_time": "2024-07-09T00:22:03.790Z"
   },
   {
    "duration": 18,
    "start_time": "2024-07-09T00:22:03.816Z"
   },
   {
    "duration": 55,
    "start_time": "2024-07-09T00:22:03.838Z"
   },
   {
    "duration": 44,
    "start_time": "2024-07-09T00:22:03.896Z"
   },
   {
    "duration": 195,
    "start_time": "2024-07-09T00:22:03.945Z"
   },
   {
    "duration": 181,
    "start_time": "2024-07-09T00:22:04.143Z"
   },
   {
    "duration": 194,
    "start_time": "2024-07-09T00:22:04.326Z"
   },
   {
    "duration": 178,
    "start_time": "2024-07-09T00:22:04.523Z"
   },
   {
    "duration": 98,
    "start_time": "2024-07-09T00:22:04.704Z"
   },
   {
    "duration": 34,
    "start_time": "2024-07-09T00:22:04.805Z"
   },
   {
    "duration": 6,
    "start_time": "2024-07-09T00:22:04.847Z"
   },
   {
    "duration": 72,
    "start_time": "2024-07-09T00:22:04.857Z"
   },
   {
    "duration": 68,
    "start_time": "2024-07-09T00:22:04.932Z"
   },
   {
    "duration": 8,
    "start_time": "2024-07-09T00:22:05.003Z"
   },
   {
    "duration": 6,
    "start_time": "2024-07-09T00:22:05.014Z"
   },
   {
    "duration": 7,
    "start_time": "2024-07-09T00:22:05.023Z"
   },
   {
    "duration": 6,
    "start_time": "2024-07-09T00:22:05.034Z"
   },
   {
    "duration": 1375,
    "start_time": "2024-07-09T00:22:05.089Z"
   },
   {
    "duration": 1365,
    "start_time": "2024-07-09T00:22:06.467Z"
   },
   {
    "duration": 55,
    "start_time": "2024-07-09T00:22:07.835Z"
   },
   {
    "duration": 19,
    "start_time": "2024-07-09T00:22:07.894Z"
   },
   {
    "duration": 11,
    "start_time": "2024-07-09T00:22:07.916Z"
   },
   {
    "duration": 14,
    "start_time": "2024-07-09T00:22:07.931Z"
   },
   {
    "duration": 23,
    "start_time": "2024-07-09T00:22:07.990Z"
   },
   {
    "duration": 10,
    "start_time": "2024-07-09T00:22:08.017Z"
   },
   {
    "duration": 16,
    "start_time": "2024-07-09T00:22:08.030Z"
   },
   {
    "duration": 67,
    "start_time": "2024-07-09T00:22:08.049Z"
   },
   {
    "duration": 71,
    "start_time": "2024-07-09T00:22:08.121Z"
   },
   {
    "duration": 22,
    "start_time": "2024-07-09T00:22:08.195Z"
   },
   {
    "duration": 7,
    "start_time": "2024-07-09T00:22:08.220Z"
   },
   {
    "duration": 172,
    "start_time": "2024-07-09T00:22:08.235Z"
   },
   {
    "duration": 8,
    "start_time": "2024-07-09T00:22:08.413Z"
   },
   {
    "duration": 7,
    "start_time": "2024-07-09T00:22:08.424Z"
   },
   {
    "duration": 3906,
    "start_time": "2024-07-09T00:22:08.434Z"
   },
   {
    "duration": 2374,
    "start_time": "2024-07-09T00:22:12.344Z"
   },
   {
    "duration": 713,
    "start_time": "2024-07-09T00:27:31.716Z"
   },
   {
    "duration": 1748,
    "start_time": "2024-07-09T00:27:32.432Z"
   },
   {
    "duration": 29,
    "start_time": "2024-07-09T00:27:34.183Z"
   },
   {
    "duration": 26,
    "start_time": "2024-07-09T00:27:34.216Z"
   },
   {
    "duration": 45,
    "start_time": "2024-07-09T00:27:34.247Z"
   },
   {
    "duration": 21,
    "start_time": "2024-07-09T00:27:34.295Z"
   },
   {
    "duration": 73,
    "start_time": "2024-07-09T00:27:34.320Z"
   },
   {
    "duration": 177,
    "start_time": "2024-07-09T00:27:34.397Z"
   },
   {
    "duration": 183,
    "start_time": "2024-07-09T00:27:34.578Z"
   },
   {
    "duration": 214,
    "start_time": "2024-07-09T00:27:34.763Z"
   },
   {
    "duration": 193,
    "start_time": "2024-07-09T00:27:34.981Z"
   },
   {
    "duration": 84,
    "start_time": "2024-07-09T00:27:35.177Z"
   },
   {
    "duration": 41,
    "start_time": "2024-07-09T00:27:35.264Z"
   },
   {
    "duration": 5,
    "start_time": "2024-07-09T00:27:35.312Z"
   },
   {
    "duration": 39,
    "start_time": "2024-07-09T00:27:35.320Z"
   },
   {
    "duration": 52,
    "start_time": "2024-07-09T00:27:35.392Z"
   },
   {
    "duration": 8,
    "start_time": "2024-07-09T00:27:35.447Z"
   },
   {
    "duration": 34,
    "start_time": "2024-07-09T00:27:35.459Z"
   },
   {
    "duration": 8,
    "start_time": "2024-07-09T00:27:35.497Z"
   },
   {
    "duration": 5,
    "start_time": "2024-07-09T00:27:35.508Z"
   },
   {
    "duration": 1399,
    "start_time": "2024-07-09T00:27:35.517Z"
   },
   {
    "duration": 1366,
    "start_time": "2024-07-09T00:27:36.919Z"
   },
   {
    "duration": 45,
    "start_time": "2024-07-09T00:27:38.289Z"
   },
   {
    "duration": 15,
    "start_time": "2024-07-09T00:27:38.337Z"
   },
   {
    "duration": 42,
    "start_time": "2024-07-09T00:27:38.356Z"
   },
   {
    "duration": 14,
    "start_time": "2024-07-09T00:27:38.401Z"
   },
   {
    "duration": 24,
    "start_time": "2024-07-09T00:27:38.418Z"
   },
   {
    "duration": 53,
    "start_time": "2024-07-09T00:27:38.445Z"
   },
   {
    "duration": 16,
    "start_time": "2024-07-09T00:27:38.501Z"
   },
   {
    "duration": 28,
    "start_time": "2024-07-09T00:27:38.519Z"
   },
   {
    "duration": 85,
    "start_time": "2024-07-09T00:27:38.551Z"
   },
   {
    "duration": 20,
    "start_time": "2024-07-09T00:27:38.639Z"
   },
   {
    "duration": 32,
    "start_time": "2024-07-09T00:27:38.662Z"
   },
   {
    "duration": 167,
    "start_time": "2024-07-09T00:27:38.697Z"
   },
   {
    "duration": 9,
    "start_time": "2024-07-09T00:27:38.866Z"
   },
   {
    "duration": 9,
    "start_time": "2024-07-09T00:27:38.891Z"
   },
   {
    "duration": 4005,
    "start_time": "2024-07-09T00:27:38.903Z"
   },
   {
    "duration": 2635,
    "start_time": "2024-07-09T00:27:42.910Z"
   },
   {
    "duration": 2103,
    "start_time": "2024-07-09T00:27:45.549Z"
   },
   {
    "duration": 314,
    "start_time": "2024-07-09T00:37:05.919Z"
   },
   {
    "duration": 752,
    "start_time": "2024-07-09T00:37:16.309Z"
   },
   {
    "duration": 1685,
    "start_time": "2024-07-09T00:37:17.064Z"
   },
   {
    "duration": 25,
    "start_time": "2024-07-09T00:37:18.752Z"
   },
   {
    "duration": 24,
    "start_time": "2024-07-09T00:37:18.792Z"
   },
   {
    "duration": 19,
    "start_time": "2024-07-09T00:37:18.822Z"
   },
   {
    "duration": 50,
    "start_time": "2024-07-09T00:37:18.846Z"
   },
   {
    "duration": 45,
    "start_time": "2024-07-09T00:37:18.899Z"
   },
   {
    "duration": 191,
    "start_time": "2024-07-09T00:37:18.947Z"
   },
   {
    "duration": 179,
    "start_time": "2024-07-09T00:37:19.141Z"
   },
   {
    "duration": 203,
    "start_time": "2024-07-09T00:37:19.324Z"
   },
   {
    "duration": 178,
    "start_time": "2024-07-09T00:37:19.530Z"
   },
   {
    "duration": 93,
    "start_time": "2024-07-09T00:37:19.711Z"
   },
   {
    "duration": 26,
    "start_time": "2024-07-09T00:37:19.806Z"
   },
   {
    "duration": 5,
    "start_time": "2024-07-09T00:37:19.838Z"
   },
   {
    "duration": 67,
    "start_time": "2024-07-09T00:37:19.846Z"
   },
   {
    "duration": 75,
    "start_time": "2024-07-09T00:37:19.917Z"
   },
   {
    "duration": 8,
    "start_time": "2024-07-09T00:37:19.995Z"
   },
   {
    "duration": 6,
    "start_time": "2024-07-09T00:37:20.006Z"
   },
   {
    "duration": 7,
    "start_time": "2024-07-09T00:37:20.015Z"
   },
   {
    "duration": 6,
    "start_time": "2024-07-09T00:37:20.025Z"
   },
   {
    "duration": 1414,
    "start_time": "2024-07-09T00:37:20.034Z"
   },
   {
    "duration": 1382,
    "start_time": "2024-07-09T00:37:21.451Z"
   },
   {
    "duration": 56,
    "start_time": "2024-07-09T00:37:22.836Z"
   },
   {
    "duration": 16,
    "start_time": "2024-07-09T00:37:22.896Z"
   },
   {
    "duration": 11,
    "start_time": "2024-07-09T00:37:22.915Z"
   },
   {
    "duration": 15,
    "start_time": "2024-07-09T00:37:22.929Z"
   },
   {
    "duration": 67,
    "start_time": "2024-07-09T00:37:22.947Z"
   },
   {
    "duration": 9,
    "start_time": "2024-07-09T00:37:23.017Z"
   },
   {
    "duration": 18,
    "start_time": "2024-07-09T00:37:23.029Z"
   },
   {
    "duration": 64,
    "start_time": "2024-07-09T00:37:23.050Z"
   },
   {
    "duration": 74,
    "start_time": "2024-07-09T00:37:23.117Z"
   },
   {
    "duration": 22,
    "start_time": "2024-07-09T00:37:23.194Z"
   },
   {
    "duration": 7,
    "start_time": "2024-07-09T00:37:23.218Z"
   },
   {
    "duration": 179,
    "start_time": "2024-07-09T00:37:23.228Z"
   },
   {
    "duration": 8,
    "start_time": "2024-07-09T00:37:23.410Z"
   },
   {
    "duration": 8,
    "start_time": "2024-07-09T00:37:23.421Z"
   },
   {
    "duration": 3922,
    "start_time": "2024-07-09T00:37:23.432Z"
   },
   {
    "duration": 2338,
    "start_time": "2024-07-09T00:37:27.357Z"
   },
   {
    "duration": 731,
    "start_time": "2024-07-09T00:46:27.615Z"
   },
   {
    "duration": 1735,
    "start_time": "2024-07-09T00:46:28.350Z"
   },
   {
    "duration": 24,
    "start_time": "2024-07-09T00:46:30.090Z"
   },
   {
    "duration": 19,
    "start_time": "2024-07-09T00:46:30.117Z"
   },
   {
    "duration": 50,
    "start_time": "2024-07-09T00:46:30.141Z"
   },
   {
    "duration": 17,
    "start_time": "2024-07-09T00:46:30.193Z"
   },
   {
    "duration": 43,
    "start_time": "2024-07-09T00:46:30.214Z"
   },
   {
    "duration": 214,
    "start_time": "2024-07-09T00:46:30.259Z"
   },
   {
    "duration": 187,
    "start_time": "2024-07-09T00:46:30.477Z"
   },
   {
    "duration": 247,
    "start_time": "2024-07-09T00:46:30.668Z"
   },
   {
    "duration": 205,
    "start_time": "2024-07-09T00:46:30.919Z"
   },
   {
    "duration": 99,
    "start_time": "2024-07-09T00:46:31.127Z"
   },
   {
    "duration": 27,
    "start_time": "2024-07-09T00:46:31.229Z"
   },
   {
    "duration": 29,
    "start_time": "2024-07-09T00:46:31.263Z"
   },
   {
    "duration": 47,
    "start_time": "2024-07-09T00:46:31.296Z"
   },
   {
    "duration": 80,
    "start_time": "2024-07-09T00:46:31.346Z"
   },
   {
    "duration": 9,
    "start_time": "2024-07-09T00:46:31.429Z"
   },
   {
    "duration": 6,
    "start_time": "2024-07-09T00:46:31.441Z"
   },
   {
    "duration": 41,
    "start_time": "2024-07-09T00:46:31.450Z"
   },
   {
    "duration": 5,
    "start_time": "2024-07-09T00:46:31.494Z"
   },
   {
    "duration": 1508,
    "start_time": "2024-07-09T00:46:31.505Z"
   },
   {
    "duration": 1403,
    "start_time": "2024-07-09T00:46:33.017Z"
   },
   {
    "duration": 42,
    "start_time": "2024-07-09T00:46:34.423Z"
   },
   {
    "duration": 31,
    "start_time": "2024-07-09T00:46:34.468Z"
   },
   {
    "duration": 11,
    "start_time": "2024-07-09T00:46:34.501Z"
   },
   {
    "duration": 13,
    "start_time": "2024-07-09T00:46:34.516Z"
   },
   {
    "duration": 65,
    "start_time": "2024-07-09T00:46:34.532Z"
   },
   {
    "duration": 10,
    "start_time": "2024-07-09T00:46:34.601Z"
   },
   {
    "duration": 15,
    "start_time": "2024-07-09T00:46:34.614Z"
   },
   {
    "duration": 68,
    "start_time": "2024-07-09T00:46:34.632Z"
   },
   {
    "duration": 55,
    "start_time": "2024-07-09T00:46:34.703Z"
   },
   {
    "duration": 48,
    "start_time": "2024-07-09T00:46:34.762Z"
   },
   {
    "duration": 10,
    "start_time": "2024-07-09T00:46:34.814Z"
   },
   {
    "duration": 171,
    "start_time": "2024-07-09T00:46:34.828Z"
   },
   {
    "duration": 13,
    "start_time": "2024-07-09T00:46:35.001Z"
   },
   {
    "duration": 8,
    "start_time": "2024-07-09T00:46:35.017Z"
   },
   {
    "duration": 411,
    "start_time": "2024-07-09T00:48:52.729Z"
   },
   {
    "duration": 4645,
    "start_time": "2024-07-09T14:58:48.022Z"
   },
   {
    "duration": 1679,
    "start_time": "2024-07-09T14:58:52.671Z"
   },
   {
    "duration": 25,
    "start_time": "2024-07-09T14:58:54.353Z"
   },
   {
    "duration": 44,
    "start_time": "2024-07-09T14:58:54.382Z"
   },
   {
    "duration": 18,
    "start_time": "2024-07-09T14:58:54.431Z"
   },
   {
    "duration": 17,
    "start_time": "2024-07-09T14:58:54.452Z"
   },
   {
    "duration": 84,
    "start_time": "2024-07-09T14:58:54.472Z"
   },
   {
    "duration": 211,
    "start_time": "2024-07-09T14:58:54.560Z"
   },
   {
    "duration": 207,
    "start_time": "2024-07-09T14:58:54.776Z"
   },
   {
    "duration": 208,
    "start_time": "2024-07-09T14:58:54.986Z"
   },
   {
    "duration": 205,
    "start_time": "2024-07-09T14:58:55.197Z"
   },
   {
    "duration": 99,
    "start_time": "2024-07-09T14:58:55.405Z"
   },
   {
    "duration": 37,
    "start_time": "2024-07-09T14:58:55.509Z"
   },
   {
    "duration": 6,
    "start_time": "2024-07-09T14:58:55.555Z"
   },
   {
    "duration": 66,
    "start_time": "2024-07-09T14:58:55.565Z"
   },
   {
    "duration": 49,
    "start_time": "2024-07-09T14:58:55.635Z"
   },
   {
    "duration": 40,
    "start_time": "2024-07-09T14:58:55.688Z"
   },
   {
    "duration": 6,
    "start_time": "2024-07-09T14:58:55.732Z"
   },
   {
    "duration": 7,
    "start_time": "2024-07-09T14:58:55.742Z"
   },
   {
    "duration": 5,
    "start_time": "2024-07-09T14:58:55.753Z"
   },
   {
    "duration": 1524,
    "start_time": "2024-07-09T14:58:55.762Z"
   },
   {
    "duration": 1475,
    "start_time": "2024-07-09T14:58:57.289Z"
   },
   {
    "duration": 61,
    "start_time": "2024-07-09T14:58:58.767Z"
   },
   {
    "duration": 17,
    "start_time": "2024-07-09T14:58:58.831Z"
   },
   {
    "duration": 13,
    "start_time": "2024-07-09T14:58:58.851Z"
   },
   {
    "duration": 56,
    "start_time": "2024-07-09T14:58:58.868Z"
   },
   {
    "duration": 24,
    "start_time": "2024-07-09T14:58:58.927Z"
   },
   {
    "duration": 10,
    "start_time": "2024-07-09T14:58:58.955Z"
   },
   {
    "duration": 55,
    "start_time": "2024-07-09T14:58:58.968Z"
   },
   {
    "duration": 27,
    "start_time": "2024-07-09T14:58:59.026Z"
   },
   {
    "duration": 81,
    "start_time": "2024-07-09T14:58:59.057Z"
   },
   {
    "duration": 23,
    "start_time": "2024-07-09T14:58:59.142Z"
   },
   {
    "duration": 8,
    "start_time": "2024-07-09T14:58:59.169Z"
   },
   {
    "duration": 190,
    "start_time": "2024-07-09T14:58:59.182Z"
   },
   {
    "duration": 9,
    "start_time": "2024-07-09T14:58:59.376Z"
   },
   {
    "duration": 33,
    "start_time": "2024-07-09T14:58:59.389Z"
   },
   {
    "duration": 450,
    "start_time": "2024-07-09T14:58:59.426Z"
   },
   {
    "duration": 644,
    "start_time": "2024-07-09T15:04:56.723Z"
   },
   {
    "duration": 395,
    "start_time": "2024-07-09T15:05:30.024Z"
   },
   {
    "duration": 8,
    "start_time": "2024-07-09T15:09:07.478Z"
   },
   {
    "duration": 8,
    "start_time": "2024-07-09T15:09:34.156Z"
   },
   {
    "duration": 8,
    "start_time": "2024-07-09T15:09:47.698Z"
   },
   {
    "duration": 8,
    "start_time": "2024-07-09T15:10:03.479Z"
   },
   {
    "duration": 404,
    "start_time": "2024-07-09T15:10:14.810Z"
   },
   {
    "duration": 382,
    "start_time": "2024-07-09T15:13:28.319Z"
   },
   {
    "duration": 466,
    "start_time": "2024-07-09T15:13:41.204Z"
   },
   {
    "duration": 403,
    "start_time": "2024-07-09T15:13:51.998Z"
   },
   {
    "duration": 418,
    "start_time": "2024-07-09T15:14:10.075Z"
   },
   {
    "duration": 482,
    "start_time": "2024-07-09T15:14:20.136Z"
   },
   {
    "duration": 393,
    "start_time": "2024-07-09T15:14:31.684Z"
   },
   {
    "duration": 403,
    "start_time": "2024-07-09T15:14:42.714Z"
   },
   {
    "duration": 383,
    "start_time": "2024-07-09T15:14:52.458Z"
   },
   {
    "duration": 438,
    "start_time": "2024-07-09T15:15:00.130Z"
   },
   {
    "duration": 438,
    "start_time": "2024-07-09T15:15:57.013Z"
   },
   {
    "duration": 409,
    "start_time": "2024-07-09T15:22:27.750Z"
   },
   {
    "duration": 318,
    "start_time": "2024-07-09T15:26:08.510Z"
   },
   {
    "duration": 262,
    "start_time": "2024-07-09T15:27:01.694Z"
   },
   {
    "duration": 100,
    "start_time": "2024-07-09T15:28:18.253Z"
   },
   {
    "duration": 245,
    "start_time": "2024-07-09T15:29:08.933Z"
   },
   {
    "duration": 349,
    "start_time": "2024-07-09T15:29:30.630Z"
   },
   {
    "duration": 266,
    "start_time": "2024-07-09T15:30:26.138Z"
   },
   {
    "duration": 266,
    "start_time": "2024-07-09T15:30:59.804Z"
   },
   {
    "duration": 269,
    "start_time": "2024-07-09T15:31:27.348Z"
   },
   {
    "duration": 9,
    "start_time": "2024-07-09T15:33:25.634Z"
   },
   {
    "duration": 253,
    "start_time": "2024-07-09T15:33:35.902Z"
   },
   {
    "duration": 276,
    "start_time": "2024-07-09T15:34:06.103Z"
   },
   {
    "duration": 660,
    "start_time": "2024-07-09T15:41:43.864Z"
   },
   {
    "duration": 264,
    "start_time": "2024-07-09T15:42:03.328Z"
   },
   {
    "duration": 426,
    "start_time": "2024-07-09T15:53:13.012Z"
   },
   {
    "duration": 415,
    "start_time": "2024-07-09T15:55:01.150Z"
   },
   {
    "duration": 454,
    "start_time": "2024-07-09T15:55:13.734Z"
   },
   {
    "duration": 437,
    "start_time": "2024-07-09T15:55:29.006Z"
   },
   {
    "duration": 554,
    "start_time": "2024-07-09T15:55:38.980Z"
   },
   {
    "duration": 434,
    "start_time": "2024-07-09T15:56:01.001Z"
   },
   {
    "duration": 7,
    "start_time": "2024-07-09T15:56:18.028Z"
   },
   {
    "duration": 7,
    "start_time": "2024-07-09T15:56:32.319Z"
   },
   {
    "duration": 7,
    "start_time": "2024-07-09T15:56:38.576Z"
   },
   {
    "duration": 438,
    "start_time": "2024-07-09T15:57:00.224Z"
   },
   {
    "duration": 442,
    "start_time": "2024-07-09T15:58:12.084Z"
   },
   {
    "duration": 425,
    "start_time": "2024-07-09T15:58:31.624Z"
   },
   {
    "duration": 454,
    "start_time": "2024-07-09T15:58:49.488Z"
   },
   {
    "duration": 30,
    "start_time": "2024-07-09T16:00:10.240Z"
   },
   {
    "duration": 436,
    "start_time": "2024-07-09T16:00:17.238Z"
   },
   {
    "duration": 434,
    "start_time": "2024-07-09T16:01:02.240Z"
   },
   {
    "duration": 493,
    "start_time": "2024-07-09T16:08:42.302Z"
   },
   {
    "duration": 600,
    "start_time": "2024-07-09T16:09:37.959Z"
   },
   {
    "duration": 15,
    "start_time": "2024-07-09T16:19:20.799Z"
   },
   {
    "duration": 4,
    "start_time": "2024-07-09T16:20:29.149Z"
   },
   {
    "duration": 369,
    "start_time": "2024-07-09T16:23:27.502Z"
   },
   {
    "duration": 8,
    "start_time": "2024-07-09T16:23:32.354Z"
   },
   {
    "duration": 424,
    "start_time": "2024-07-09T16:24:01.537Z"
   },
   {
    "duration": 3,
    "start_time": "2024-07-09T16:24:37.869Z"
   },
   {
    "duration": 372,
    "start_time": "2024-07-09T16:24:40.589Z"
   },
   {
    "duration": 17,
    "start_time": "2024-07-09T16:31:58.849Z"
   },
   {
    "duration": 483,
    "start_time": "2024-07-09T16:34:07.436Z"
   },
   {
    "duration": 9,
    "start_time": "2024-07-09T16:34:29.209Z"
   },
   {
    "duration": 20,
    "start_time": "2024-07-09T16:39:45.770Z"
   },
   {
    "duration": 5,
    "start_time": "2024-07-09T16:40:33.299Z"
   },
   {
    "duration": 449,
    "start_time": "2024-07-09T16:43:48.268Z"
   },
   {
    "duration": 7,
    "start_time": "2024-07-09T16:44:22.764Z"
   },
   {
    "duration": 581,
    "start_time": "2024-07-09T16:44:24.786Z"
   },
   {
    "duration": 467,
    "start_time": "2024-07-09T16:45:18.916Z"
   },
   {
    "duration": 474,
    "start_time": "2024-07-09T16:46:14.044Z"
   },
   {
    "duration": 484,
    "start_time": "2024-07-09T16:46:51.084Z"
   },
   {
    "duration": 463,
    "start_time": "2024-07-09T16:47:03.150Z"
   },
   {
    "duration": 470,
    "start_time": "2024-07-09T16:47:13.323Z"
   },
   {
    "duration": 469,
    "start_time": "2024-07-09T16:48:46.795Z"
   },
   {
    "duration": 66,
    "start_time": "2024-07-09T16:54:18.384Z"
   },
   {
    "duration": 322,
    "start_time": "2024-07-09T16:59:02.255Z"
   },
   {
    "duration": 792,
    "start_time": "2024-07-09T16:59:35.341Z"
   },
   {
    "duration": 1726,
    "start_time": "2024-07-09T16:59:36.137Z"
   },
   {
    "duration": 24,
    "start_time": "2024-07-09T16:59:37.866Z"
   },
   {
    "duration": 41,
    "start_time": "2024-07-09T16:59:37.893Z"
   },
   {
    "duration": 24,
    "start_time": "2024-07-09T16:59:37.939Z"
   },
   {
    "duration": 20,
    "start_time": "2024-07-09T16:59:37.966Z"
   },
   {
    "duration": 75,
    "start_time": "2024-07-09T16:59:37.990Z"
   },
   {
    "duration": 209,
    "start_time": "2024-07-09T16:59:38.068Z"
   },
   {
    "duration": 193,
    "start_time": "2024-07-09T16:59:38.280Z"
   },
   {
    "duration": 224,
    "start_time": "2024-07-09T16:59:38.476Z"
   },
   {
    "duration": 187,
    "start_time": "2024-07-09T16:59:38.702Z"
   },
   {
    "duration": 94,
    "start_time": "2024-07-09T16:59:38.892Z"
   },
   {
    "duration": 41,
    "start_time": "2024-07-09T16:59:38.989Z"
   },
   {
    "duration": 5,
    "start_time": "2024-07-09T16:59:39.038Z"
   },
   {
    "duration": 38,
    "start_time": "2024-07-09T16:59:39.046Z"
   },
   {
    "duration": 81,
    "start_time": "2024-07-09T16:59:39.087Z"
   },
   {
    "duration": 8,
    "start_time": "2024-07-09T16:59:39.172Z"
   },
   {
    "duration": 6,
    "start_time": "2024-07-09T16:59:39.183Z"
   },
   {
    "duration": 6,
    "start_time": "2024-07-09T16:59:39.222Z"
   },
   {
    "duration": 6,
    "start_time": "2024-07-09T16:59:39.231Z"
   },
   {
    "duration": 1501,
    "start_time": "2024-07-09T16:59:39.240Z"
   },
   {
    "duration": 1491,
    "start_time": "2024-07-09T16:59:40.745Z"
   },
   {
    "duration": 48,
    "start_time": "2024-07-09T16:59:42.240Z"
   },
   {
    "duration": 37,
    "start_time": "2024-07-09T16:59:42.291Z"
   },
   {
    "duration": 12,
    "start_time": "2024-07-09T16:59:42.331Z"
   },
   {
    "duration": 16,
    "start_time": "2024-07-09T16:59:42.346Z"
   },
   {
    "duration": 60,
    "start_time": "2024-07-09T16:59:42.365Z"
   },
   {
    "duration": 10,
    "start_time": "2024-07-09T16:59:42.428Z"
   },
   {
    "duration": 17,
    "start_time": "2024-07-09T16:59:42.441Z"
   },
   {
    "duration": 71,
    "start_time": "2024-07-09T16:59:42.461Z"
   },
   {
    "duration": 50,
    "start_time": "2024-07-09T16:59:42.536Z"
   },
   {
    "duration": 44,
    "start_time": "2024-07-09T16:59:42.589Z"
   },
   {
    "duration": 8,
    "start_time": "2024-07-09T16:59:42.636Z"
   },
   {
    "duration": 175,
    "start_time": "2024-07-09T16:59:42.649Z"
   },
   {
    "duration": 10,
    "start_time": "2024-07-09T16:59:42.826Z"
   },
   {
    "duration": 9,
    "start_time": "2024-07-09T16:59:42.838Z"
   },
   {
    "duration": 480,
    "start_time": "2024-07-09T16:59:42.850Z"
   },
   {
    "duration": 284,
    "start_time": "2024-07-09T16:59:43.333Z"
   },
   {
    "duration": 457,
    "start_time": "2024-07-09T16:59:43.619Z"
   },
   {
    "duration": 16,
    "start_time": "2024-07-09T16:59:44.080Z"
   },
   {
    "duration": 9,
    "start_time": "2024-07-09T16:59:44.124Z"
   },
   {
    "duration": 4,
    "start_time": "2024-07-09T16:59:44.137Z"
   },
   {
    "duration": 529,
    "start_time": "2024-07-09T16:59:44.144Z"
   },
   {
    "duration": 150,
    "start_time": "2024-07-09T16:59:44.677Z"
   },
   {
    "duration": 71,
    "start_time": "2024-07-09T17:00:07.158Z"
   },
   {
    "duration": 502,
    "start_time": "2024-07-09T17:01:17.031Z"
   },
   {
    "duration": 1153,
    "start_time": "2024-07-09T17:05:25.545Z"
   },
   {
    "duration": 392,
    "start_time": "2024-07-09T17:05:36.880Z"
   },
   {
    "duration": 76,
    "start_time": "2024-07-09T17:16:27.452Z"
   },
   {
    "duration": 6,
    "start_time": "2024-07-09T17:18:35.441Z"
   },
   {
    "duration": 8,
    "start_time": "2024-07-09T17:23:13.290Z"
   },
   {
    "duration": 19,
    "start_time": "2024-07-09T17:31:08.980Z"
   },
   {
    "duration": 24,
    "start_time": "2024-07-09T17:35:58.375Z"
   },
   {
    "duration": 6,
    "start_time": "2024-07-09T17:36:08.933Z"
   },
   {
    "duration": 18,
    "start_time": "2024-07-09T17:36:10.938Z"
   },
   {
    "duration": 248,
    "start_time": "2024-07-09T17:36:12.765Z"
   },
   {
    "duration": 9,
    "start_time": "2024-07-09T17:36:37.401Z"
   },
   {
    "duration": 512,
    "start_time": "2024-07-09T17:36:41.575Z"
   },
   {
    "duration": 550,
    "start_time": "2024-07-09T17:36:51.896Z"
   },
   {
    "duration": 569,
    "start_time": "2024-07-09T17:37:32.726Z"
   },
   {
    "duration": 570,
    "start_time": "2024-07-09T17:38:41.625Z"
   },
   {
    "duration": 593,
    "start_time": "2024-07-09T17:39:00.771Z"
   },
   {
    "duration": 576,
    "start_time": "2024-07-09T17:40:15.700Z"
   },
   {
    "duration": 607,
    "start_time": "2024-07-09T17:40:26.101Z"
   },
   {
    "duration": 518,
    "start_time": "2024-07-09T17:40:37.375Z"
   },
   {
    "duration": 502,
    "start_time": "2024-07-09T17:40:49.267Z"
   },
   {
    "duration": 746,
    "start_time": "2024-07-09T17:41:01.081Z"
   },
   {
    "duration": 4283,
    "start_time": "2024-07-09T18:09:54.501Z"
   },
   {
    "duration": 1654,
    "start_time": "2024-07-09T18:09:58.788Z"
   },
   {
    "duration": 29,
    "start_time": "2024-07-09T18:10:00.447Z"
   },
   {
    "duration": 22,
    "start_time": "2024-07-09T18:10:00.480Z"
   },
   {
    "duration": 15,
    "start_time": "2024-07-09T18:10:00.530Z"
   },
   {
    "duration": 15,
    "start_time": "2024-07-09T18:10:00.548Z"
   },
   {
    "duration": 73,
    "start_time": "2024-07-09T18:10:00.566Z"
   },
   {
    "duration": 165,
    "start_time": "2024-07-09T18:10:00.642Z"
   },
   {
    "duration": 168,
    "start_time": "2024-07-09T18:10:00.810Z"
   },
   {
    "duration": 182,
    "start_time": "2024-07-09T18:10:00.980Z"
   },
   {
    "duration": 169,
    "start_time": "2024-07-09T18:10:01.165Z"
   },
   {
    "duration": 78,
    "start_time": "2024-07-09T18:10:01.337Z"
   },
   {
    "duration": 24,
    "start_time": "2024-07-09T18:10:01.432Z"
   },
   {
    "duration": 6,
    "start_time": "2024-07-09T18:10:01.462Z"
   },
   {
    "duration": 62,
    "start_time": "2024-07-09T18:10:01.471Z"
   },
   {
    "duration": 50,
    "start_time": "2024-07-09T18:10:01.537Z"
   },
   {
    "duration": 7,
    "start_time": "2024-07-09T18:10:01.592Z"
   },
   {
    "duration": 5,
    "start_time": "2024-07-09T18:10:01.633Z"
   },
   {
    "duration": 8,
    "start_time": "2024-07-09T18:10:01.642Z"
   },
   {
    "duration": 7,
    "start_time": "2024-07-09T18:10:01.653Z"
   },
   {
    "duration": 1394,
    "start_time": "2024-07-09T18:10:01.663Z"
   },
   {
    "duration": 1303,
    "start_time": "2024-07-09T18:10:03.061Z"
   },
   {
    "duration": 38,
    "start_time": "2024-07-09T18:10:04.367Z"
   },
   {
    "duration": 31,
    "start_time": "2024-07-09T18:10:04.409Z"
   },
   {
    "duration": 11,
    "start_time": "2024-07-09T18:10:04.443Z"
   },
   {
    "duration": 14,
    "start_time": "2024-07-09T18:10:04.457Z"
   },
   {
    "duration": 63,
    "start_time": "2024-07-09T18:10:04.474Z"
   },
   {
    "duration": 10,
    "start_time": "2024-07-09T18:10:04.540Z"
   },
   {
    "duration": 16,
    "start_time": "2024-07-09T18:10:04.552Z"
   },
   {
    "duration": 63,
    "start_time": "2024-07-09T18:10:04.571Z"
   },
   {
    "duration": 49,
    "start_time": "2024-07-09T18:10:04.637Z"
   },
   {
    "duration": 49,
    "start_time": "2024-07-09T18:10:04.689Z"
   },
   {
    "duration": 7,
    "start_time": "2024-07-09T18:10:04.742Z"
   },
   {
    "duration": 150,
    "start_time": "2024-07-09T18:10:04.752Z"
   },
   {
    "duration": 8,
    "start_time": "2024-07-09T18:10:04.905Z"
   },
   {
    "duration": 9,
    "start_time": "2024-07-09T18:10:04.931Z"
   },
   {
    "duration": 413,
    "start_time": "2024-07-09T18:10:04.943Z"
   },
   {
    "duration": 271,
    "start_time": "2024-07-09T18:10:05.359Z"
   },
   {
    "duration": 508,
    "start_time": "2024-07-09T18:10:05.635Z"
   },
   {
    "duration": 16,
    "start_time": "2024-07-09T18:10:06.146Z"
   },
   {
    "duration": 9,
    "start_time": "2024-07-09T18:10:06.172Z"
   },
   {
    "duration": 4,
    "start_time": "2024-07-09T18:10:06.185Z"
   },
   {
    "duration": 454,
    "start_time": "2024-07-09T18:10:06.230Z"
   },
   {
    "duration": 80,
    "start_time": "2024-07-09T18:10:06.688Z"
   },
   {
    "duration": 374,
    "start_time": "2024-07-09T18:10:06.771Z"
   },
   {
    "duration": 6,
    "start_time": "2024-07-09T18:10:07.150Z"
   },
   {
    "duration": 20,
    "start_time": "2024-07-09T18:10:07.159Z"
   },
   {
    "duration": 617,
    "start_time": "2024-07-09T18:10:07.182Z"
   },
   {
    "duration": 7,
    "start_time": "2024-07-09T18:13:36.635Z"
   },
   {
    "duration": 1250,
    "start_time": "2024-07-09T18:13:40.172Z"
   },
   {
    "duration": 451,
    "start_time": "2024-07-09T18:14:12.214Z"
   },
   {
    "duration": 501,
    "start_time": "2024-07-09T18:14:43.524Z"
   },
   {
    "duration": 19,
    "start_time": "2024-07-09T18:22:21.559Z"
   },
   {
    "duration": 426,
    "start_time": "2024-07-09T18:22:25.564Z"
   },
   {
    "duration": 7,
    "start_time": "2024-07-09T18:22:32.591Z"
   },
   {
    "duration": 22,
    "start_time": "2024-07-09T18:22:34.739Z"
   },
   {
    "duration": 432,
    "start_time": "2024-07-09T18:22:36.663Z"
   },
   {
    "duration": 569,
    "start_time": "2024-07-09T18:23:15.469Z"
   },
   {
    "duration": 536,
    "start_time": "2024-07-09T18:26:49.160Z"
   },
   {
    "duration": 11,
    "start_time": "2024-07-09T18:30:11.869Z"
   },
   {
    "duration": 29,
    "start_time": "2024-07-09T18:31:12.040Z"
   },
   {
    "duration": 3,
    "start_time": "2024-07-09T18:31:56.870Z"
   },
   {
    "duration": 26,
    "start_time": "2024-07-09T18:38:08.128Z"
   },
   {
    "duration": 20,
    "start_time": "2024-07-09T18:41:16.129Z"
   },
   {
    "duration": 21,
    "start_time": "2024-07-09T18:42:40.828Z"
   },
   {
    "duration": 11,
    "start_time": "2024-07-09T18:45:35.852Z"
   },
   {
    "duration": 4,
    "start_time": "2024-07-09T18:45:37.687Z"
   },
   {
    "duration": 20,
    "start_time": "2024-07-09T18:45:39.939Z"
   },
   {
    "duration": 25,
    "start_time": "2024-07-09T18:45:58.269Z"
   },
   {
    "duration": 4,
    "start_time": "2024-07-09T18:45:59.917Z"
   },
   {
    "duration": 22,
    "start_time": "2024-07-09T18:46:01.828Z"
   },
   {
    "duration": 2497,
    "start_time": "2024-07-09T18:58:23.069Z"
   },
   {
    "duration": 755,
    "start_time": "2024-07-09T19:01:37.733Z"
   },
   {
    "duration": 728,
    "start_time": "2024-07-09T19:02:34.602Z"
   },
   {
    "duration": 269,
    "start_time": "2024-07-09T19:04:42.749Z"
   },
   {
    "duration": 273,
    "start_time": "2024-07-09T19:05:02.360Z"
   },
   {
    "duration": 455,
    "start_time": "2024-07-09T19:11:43.178Z"
   },
   {
    "duration": 465,
    "start_time": "2024-07-09T19:11:54.493Z"
   },
   {
    "duration": 492,
    "start_time": "2024-07-09T19:12:26.608Z"
   },
   {
    "duration": 477,
    "start_time": "2024-07-09T19:12:38.389Z"
   },
   {
    "duration": 388,
    "start_time": "2024-07-09T19:15:45.383Z"
   },
   {
    "duration": 479,
    "start_time": "2024-07-09T19:16:16.270Z"
   },
   {
    "duration": 2629,
    "start_time": "2024-07-09T19:23:36.853Z"
   },
   {
    "duration": 24,
    "start_time": "2024-07-09T19:33:53.739Z"
   },
   {
    "duration": 847,
    "start_time": "2024-07-09T19:34:31.497Z"
   },
   {
    "duration": 1736,
    "start_time": "2024-07-09T19:34:32.348Z"
   },
   {
    "duration": 23,
    "start_time": "2024-07-09T19:34:34.087Z"
   },
   {
    "duration": 31,
    "start_time": "2024-07-09T19:34:34.113Z"
   },
   {
    "duration": 15,
    "start_time": "2024-07-09T19:34:34.149Z"
   },
   {
    "duration": 21,
    "start_time": "2024-07-09T19:34:34.168Z"
   },
   {
    "duration": 86,
    "start_time": "2024-07-09T19:34:34.192Z"
   },
   {
    "duration": 174,
    "start_time": "2024-07-09T19:34:34.281Z"
   },
   {
    "duration": 167,
    "start_time": "2024-07-09T19:34:34.458Z"
   },
   {
    "duration": 184,
    "start_time": "2024-07-09T19:34:34.631Z"
   },
   {
    "duration": 164,
    "start_time": "2024-07-09T19:34:34.818Z"
   },
   {
    "duration": 90,
    "start_time": "2024-07-09T19:34:34.984Z"
   },
   {
    "duration": 27,
    "start_time": "2024-07-09T19:34:35.077Z"
   },
   {
    "duration": 21,
    "start_time": "2024-07-09T19:34:35.111Z"
   },
   {
    "duration": 36,
    "start_time": "2024-07-09T19:34:35.135Z"
   },
   {
    "duration": 66,
    "start_time": "2024-07-09T19:34:35.174Z"
   },
   {
    "duration": 8,
    "start_time": "2024-07-09T19:34:35.243Z"
   },
   {
    "duration": 5,
    "start_time": "2024-07-09T19:34:35.254Z"
   },
   {
    "duration": 6,
    "start_time": "2024-07-09T19:34:35.262Z"
   },
   {
    "duration": 6,
    "start_time": "2024-07-09T19:34:35.270Z"
   },
   {
    "duration": 1409,
    "start_time": "2024-07-09T19:34:35.283Z"
   },
   {
    "duration": 1316,
    "start_time": "2024-07-09T19:34:36.694Z"
   },
   {
    "duration": 48,
    "start_time": "2024-07-09T19:34:38.014Z"
   },
   {
    "duration": 15,
    "start_time": "2024-07-09T19:34:38.065Z"
   },
   {
    "duration": 10,
    "start_time": "2024-07-09T19:34:38.084Z"
   },
   {
    "duration": 12,
    "start_time": "2024-07-09T19:34:38.130Z"
   },
   {
    "duration": 23,
    "start_time": "2024-07-09T19:34:38.144Z"
   },
   {
    "duration": 9,
    "start_time": "2024-07-09T19:34:38.170Z"
   },
   {
    "duration": 53,
    "start_time": "2024-07-09T19:34:38.182Z"
   },
   {
    "duration": 28,
    "start_time": "2024-07-09T19:34:38.238Z"
   },
   {
    "duration": 76,
    "start_time": "2024-07-09T19:34:38.268Z"
   },
   {
    "duration": 21,
    "start_time": "2024-07-09T19:34:38.347Z"
   },
   {
    "duration": 8,
    "start_time": "2024-07-09T19:34:38.370Z"
   },
   {
    "duration": 167,
    "start_time": "2024-07-09T19:34:38.381Z"
   },
   {
    "duration": 9,
    "start_time": "2024-07-09T19:34:38.551Z"
   },
   {
    "duration": 7,
    "start_time": "2024-07-09T19:34:38.563Z"
   },
   {
    "duration": 448,
    "start_time": "2024-07-09T19:34:38.573Z"
   },
   {
    "duration": 261,
    "start_time": "2024-07-09T19:34:39.024Z"
   },
   {
    "duration": 427,
    "start_time": "2024-07-09T19:34:39.288Z"
   },
   {
    "duration": 24,
    "start_time": "2024-07-09T19:34:39.719Z"
   },
   {
    "duration": 8,
    "start_time": "2024-07-09T19:34:39.752Z"
   },
   {
    "duration": 5,
    "start_time": "2024-07-09T19:34:39.763Z"
   },
   {
    "duration": 499,
    "start_time": "2024-07-09T19:34:39.770Z"
   },
   {
    "duration": 83,
    "start_time": "2024-07-09T19:34:40.272Z"
   },
   {
    "duration": 377,
    "start_time": "2024-07-09T19:34:40.358Z"
   },
   {
    "duration": 11,
    "start_time": "2024-07-09T19:34:40.738Z"
   },
   {
    "duration": 5,
    "start_time": "2024-07-09T19:34:40.751Z"
   },
   {
    "duration": 22,
    "start_time": "2024-07-09T19:34:40.758Z"
   },
   {
    "duration": 2635,
    "start_time": "2024-07-09T19:34:40.783Z"
   },
   {
    "duration": 753,
    "start_time": "2024-07-09T19:34:43.421Z"
   },
   {
    "duration": 408,
    "start_time": "2024-07-09T19:34:44.177Z"
   },
   {
    "duration": 2543,
    "start_time": "2024-07-09T19:34:44.588Z"
   },
   {
    "duration": 786,
    "start_time": "2024-07-09T19:35:18.165Z"
   },
   {
    "duration": 1740,
    "start_time": "2024-07-09T19:35:18.955Z"
   },
   {
    "duration": 34,
    "start_time": "2024-07-09T19:35:20.697Z"
   },
   {
    "duration": 18,
    "start_time": "2024-07-09T19:35:20.734Z"
   },
   {
    "duration": 16,
    "start_time": "2024-07-09T19:35:20.759Z"
   },
   {
    "duration": 15,
    "start_time": "2024-07-09T19:35:20.778Z"
   },
   {
    "duration": 45,
    "start_time": "2024-07-09T19:35:20.830Z"
   },
   {
    "duration": 189,
    "start_time": "2024-07-09T19:35:20.878Z"
   },
   {
    "duration": 166,
    "start_time": "2024-07-09T19:35:21.070Z"
   },
   {
    "duration": 186,
    "start_time": "2024-07-09T19:35:21.238Z"
   },
   {
    "duration": 169,
    "start_time": "2024-07-09T19:35:21.431Z"
   },
   {
    "duration": 88,
    "start_time": "2024-07-09T19:35:21.603Z"
   },
   {
    "duration": 35,
    "start_time": "2024-07-09T19:35:21.695Z"
   },
   {
    "duration": 6,
    "start_time": "2024-07-09T19:35:21.738Z"
   },
   {
    "duration": 45,
    "start_time": "2024-07-09T19:35:21.747Z"
   },
   {
    "duration": 61,
    "start_time": "2024-07-09T19:35:21.799Z"
   },
   {
    "duration": 6,
    "start_time": "2024-07-09T19:35:21.863Z"
   },
   {
    "duration": 5,
    "start_time": "2024-07-09T19:35:21.873Z"
   },
   {
    "duration": 6,
    "start_time": "2024-07-09T19:35:21.882Z"
   },
   {
    "duration": 41,
    "start_time": "2024-07-09T19:35:21.891Z"
   },
   {
    "duration": 1374,
    "start_time": "2024-07-09T19:35:21.936Z"
   },
   {
    "duration": 1334,
    "start_time": "2024-07-09T19:35:23.312Z"
   },
   {
    "duration": 40,
    "start_time": "2024-07-09T19:35:24.649Z"
   },
   {
    "duration": 15,
    "start_time": "2024-07-09T19:35:24.692Z"
   },
   {
    "duration": 10,
    "start_time": "2024-07-09T19:35:24.732Z"
   },
   {
    "duration": 12,
    "start_time": "2024-07-09T19:35:24.745Z"
   },
   {
    "duration": 22,
    "start_time": "2024-07-09T19:35:24.760Z"
   },
   {
    "duration": 50,
    "start_time": "2024-07-09T19:35:24.785Z"
   },
   {
    "duration": 16,
    "start_time": "2024-07-09T19:35:24.838Z"
   },
   {
    "duration": 26,
    "start_time": "2024-07-09T19:35:24.857Z"
   },
   {
    "duration": 79,
    "start_time": "2024-07-09T19:35:24.886Z"
   },
   {
    "duration": 20,
    "start_time": "2024-07-09T19:35:24.968Z"
   },
   {
    "duration": 7,
    "start_time": "2024-07-09T19:35:24.992Z"
   },
   {
    "duration": 137,
    "start_time": "2024-07-09T19:35:25.032Z"
   },
   {
    "duration": 9,
    "start_time": "2024-07-09T19:35:25.176Z"
   },
   {
    "duration": 8,
    "start_time": "2024-07-09T19:35:25.188Z"
   },
   {
    "duration": 502,
    "start_time": "2024-07-09T19:35:25.198Z"
   },
   {
    "duration": 352,
    "start_time": "2024-07-09T19:35:25.703Z"
   },
   {
    "duration": 526,
    "start_time": "2024-07-09T19:35:26.059Z"
   },
   {
    "duration": 22,
    "start_time": "2024-07-09T19:35:26.589Z"
   },
   {
    "duration": 8,
    "start_time": "2024-07-09T19:35:26.631Z"
   },
   {
    "duration": 6,
    "start_time": "2024-07-09T19:35:26.643Z"
   },
   {
    "duration": 520,
    "start_time": "2024-07-09T19:35:26.653Z"
   },
   {
    "duration": 75,
    "start_time": "2024-07-09T19:35:27.176Z"
   },
   {
    "duration": 423,
    "start_time": "2024-07-09T19:35:27.254Z"
   },
   {
    "duration": 14,
    "start_time": "2024-07-09T19:35:27.680Z"
   },
   {
    "duration": 4,
    "start_time": "2024-07-09T19:35:27.697Z"
   },
   {
    "duration": 25,
    "start_time": "2024-07-09T19:35:27.730Z"
   },
   {
    "duration": 2714,
    "start_time": "2024-07-09T19:35:27.758Z"
   },
   {
    "duration": 741,
    "start_time": "2024-07-09T19:35:30.475Z"
   },
   {
    "duration": 405,
    "start_time": "2024-07-09T19:35:31.219Z"
   },
   {
    "duration": 2754,
    "start_time": "2024-07-09T19:35:31.627Z"
   },
   {
    "duration": 333,
    "start_time": "2024-07-09T19:36:49.683Z"
   },
   {
    "duration": 844,
    "start_time": "2024-07-09T19:37:01.397Z"
   },
   {
    "duration": 1693,
    "start_time": "2024-07-09T19:37:02.244Z"
   },
   {
    "duration": 26,
    "start_time": "2024-07-09T19:37:03.940Z"
   },
   {
    "duration": 19,
    "start_time": "2024-07-09T19:37:03.969Z"
   },
   {
    "duration": 43,
    "start_time": "2024-07-09T19:37:03.992Z"
   },
   {
    "duration": 15,
    "start_time": "2024-07-09T19:37:04.039Z"
   },
   {
    "duration": 42,
    "start_time": "2024-07-09T19:37:04.057Z"
   },
   {
    "duration": 167,
    "start_time": "2024-07-09T19:37:04.130Z"
   },
   {
    "duration": 167,
    "start_time": "2024-07-09T19:37:04.300Z"
   },
   {
    "duration": 179,
    "start_time": "2024-07-09T19:37:04.470Z"
   },
   {
    "duration": 169,
    "start_time": "2024-07-09T19:37:04.652Z"
   },
   {
    "duration": 77,
    "start_time": "2024-07-09T19:37:04.834Z"
   },
   {
    "duration": 35,
    "start_time": "2024-07-09T19:37:04.915Z"
   },
   {
    "duration": 5,
    "start_time": "2024-07-09T19:37:04.957Z"
   },
   {
    "duration": 35,
    "start_time": "2024-07-09T19:37:04.965Z"
   },
   {
    "duration": 76,
    "start_time": "2024-07-09T19:37:05.003Z"
   },
   {
    "duration": 7,
    "start_time": "2024-07-09T19:37:05.081Z"
   },
   {
    "duration": 6,
    "start_time": "2024-07-09T19:37:05.090Z"
   },
   {
    "duration": 6,
    "start_time": "2024-07-09T19:37:05.132Z"
   },
   {
    "duration": 5,
    "start_time": "2024-07-09T19:37:05.141Z"
   },
   {
    "duration": 1373,
    "start_time": "2024-07-09T19:37:05.152Z"
   },
   {
    "duration": 1338,
    "start_time": "2024-07-09T19:37:06.532Z"
   },
   {
    "duration": 40,
    "start_time": "2024-07-09T19:37:07.872Z"
   },
   {
    "duration": 16,
    "start_time": "2024-07-09T19:37:07.930Z"
   },
   {
    "duration": 13,
    "start_time": "2024-07-09T19:37:07.950Z"
   },
   {
    "duration": 12,
    "start_time": "2024-07-09T19:37:07.966Z"
   },
   {
    "duration": 63,
    "start_time": "2024-07-09T19:37:07.981Z"
   },
   {
    "duration": 9,
    "start_time": "2024-07-09T19:37:08.047Z"
   },
   {
    "duration": 16,
    "start_time": "2024-07-09T19:37:08.059Z"
   },
   {
    "duration": 67,
    "start_time": "2024-07-09T19:37:08.078Z"
   },
   {
    "duration": 49,
    "start_time": "2024-07-09T19:37:08.149Z"
   },
   {
    "duration": 40,
    "start_time": "2024-07-09T19:37:08.200Z"
   },
   {
    "duration": 8,
    "start_time": "2024-07-09T19:37:08.243Z"
   },
   {
    "duration": 167,
    "start_time": "2024-07-09T19:37:08.254Z"
   },
   {
    "duration": 14,
    "start_time": "2024-07-09T19:37:08.424Z"
   },
   {
    "duration": 9,
    "start_time": "2024-07-09T19:37:08.445Z"
   },
   {
    "duration": 427,
    "start_time": "2024-07-09T19:37:08.457Z"
   },
   {
    "duration": 270,
    "start_time": "2024-07-09T19:37:08.887Z"
   },
   {
    "duration": 444,
    "start_time": "2024-07-09T19:37:09.161Z"
   },
   {
    "duration": 30,
    "start_time": "2024-07-09T19:37:09.609Z"
   },
   {
    "duration": 8,
    "start_time": "2024-07-09T19:37:09.649Z"
   },
   {
    "duration": 4,
    "start_time": "2024-07-09T19:37:09.660Z"
   },
   {
    "duration": 494,
    "start_time": "2024-07-09T19:37:09.668Z"
   },
   {
    "duration": 83,
    "start_time": "2024-07-09T19:37:10.167Z"
   },
   {
    "duration": 442,
    "start_time": "2024-07-09T19:37:10.253Z"
   },
   {
    "duration": 11,
    "start_time": "2024-07-09T19:37:10.698Z"
   },
   {
    "duration": 19,
    "start_time": "2024-07-09T19:37:10.712Z"
   },
   {
    "duration": 21,
    "start_time": "2024-07-09T19:37:10.734Z"
   },
   {
    "duration": 2572,
    "start_time": "2024-07-09T19:37:10.758Z"
   },
   {
    "duration": 745,
    "start_time": "2024-07-09T19:37:13.333Z"
   },
   {
    "duration": 396,
    "start_time": "2024-07-09T19:37:14.081Z"
   },
   {
    "duration": 2556,
    "start_time": "2024-07-09T19:37:14.480Z"
   },
   {
    "duration": 765,
    "start_time": "2024-07-09T19:38:40.775Z"
   },
   {
    "duration": 1771,
    "start_time": "2024-07-09T19:38:41.544Z"
   },
   {
    "duration": 30,
    "start_time": "2024-07-09T19:38:43.318Z"
   },
   {
    "duration": 19,
    "start_time": "2024-07-09T19:38:43.352Z"
   },
   {
    "duration": 15,
    "start_time": "2024-07-09T19:38:43.376Z"
   },
   {
    "duration": 48,
    "start_time": "2024-07-09T19:38:43.394Z"
   },
   {
    "duration": 42,
    "start_time": "2024-07-09T19:38:43.445Z"
   },
   {
    "duration": 208,
    "start_time": "2024-07-09T19:38:43.491Z"
   },
   {
    "duration": 161,
    "start_time": "2024-07-09T19:38:43.702Z"
   },
   {
    "duration": 181,
    "start_time": "2024-07-09T19:38:43.866Z"
   },
   {
    "duration": 164,
    "start_time": "2024-07-09T19:38:44.050Z"
   },
   {
    "duration": 78,
    "start_time": "2024-07-09T19:38:44.217Z"
   },
   {
    "duration": 39,
    "start_time": "2024-07-09T19:38:44.298Z"
   },
   {
    "duration": 5,
    "start_time": "2024-07-09T19:38:44.344Z"
   },
   {
    "duration": 37,
    "start_time": "2024-07-09T19:38:44.352Z"
   },
   {
    "duration": 72,
    "start_time": "2024-07-09T19:38:44.392Z"
   },
   {
    "duration": 7,
    "start_time": "2024-07-09T19:38:44.466Z"
   },
   {
    "duration": 5,
    "start_time": "2024-07-09T19:38:44.476Z"
   },
   {
    "duration": 46,
    "start_time": "2024-07-09T19:38:44.485Z"
   },
   {
    "duration": 5,
    "start_time": "2024-07-09T19:38:44.534Z"
   },
   {
    "duration": 1340,
    "start_time": "2024-07-09T19:38:44.542Z"
   },
   {
    "duration": 1346,
    "start_time": "2024-07-09T19:38:45.885Z"
   },
   {
    "duration": 41,
    "start_time": "2024-07-09T19:38:47.234Z"
   },
   {
    "duration": 15,
    "start_time": "2024-07-09T19:38:47.279Z"
   },
   {
    "duration": 41,
    "start_time": "2024-07-09T19:38:47.296Z"
   },
   {
    "duration": 15,
    "start_time": "2024-07-09T19:38:47.340Z"
   },
   {
    "duration": 22,
    "start_time": "2024-07-09T19:38:47.358Z"
   },
   {
    "duration": 50,
    "start_time": "2024-07-09T19:38:47.383Z"
   },
   {
    "duration": 15,
    "start_time": "2024-07-09T19:38:47.437Z"
   },
   {
    "duration": 25,
    "start_time": "2024-07-09T19:38:47.456Z"
   },
   {
    "duration": 83,
    "start_time": "2024-07-09T19:38:47.484Z"
   },
   {
    "duration": 20,
    "start_time": "2024-07-09T19:38:47.570Z"
   },
   {
    "duration": 7,
    "start_time": "2024-07-09T19:38:47.592Z"
   },
   {
    "duration": 141,
    "start_time": "2024-07-09T19:38:47.630Z"
   },
   {
    "duration": 8,
    "start_time": "2024-07-09T19:38:47.774Z"
   },
   {
    "duration": 8,
    "start_time": "2024-07-09T19:38:47.785Z"
   },
   {
    "duration": 439,
    "start_time": "2024-07-09T19:38:47.795Z"
   },
   {
    "duration": 266,
    "start_time": "2024-07-09T19:38:48.237Z"
   },
   {
    "duration": 427,
    "start_time": "2024-07-09T19:38:48.506Z"
   },
   {
    "duration": 15,
    "start_time": "2024-07-09T19:38:48.936Z"
   },
   {
    "duration": 8,
    "start_time": "2024-07-09T19:38:48.960Z"
   },
   {
    "duration": 5,
    "start_time": "2024-07-09T19:38:48.971Z"
   },
   {
    "duration": 496,
    "start_time": "2024-07-09T19:38:48.980Z"
   },
   {
    "duration": 76,
    "start_time": "2024-07-09T19:38:49.479Z"
   },
   {
    "duration": 384,
    "start_time": "2024-07-09T19:38:49.558Z"
   },
   {
    "duration": 11,
    "start_time": "2024-07-09T19:38:49.945Z"
   },
   {
    "duration": 4,
    "start_time": "2024-07-09T19:38:49.958Z"
   },
   {
    "duration": 20,
    "start_time": "2024-07-09T19:38:49.965Z"
   },
   {
    "duration": 2646,
    "start_time": "2024-07-09T19:38:49.988Z"
   },
   {
    "duration": 773,
    "start_time": "2024-07-09T19:38:52.638Z"
   },
   {
    "duration": 387,
    "start_time": "2024-07-09T19:38:53.414Z"
   },
   {
    "duration": 2526,
    "start_time": "2024-07-09T19:38:53.804Z"
   },
   {
    "duration": 4,
    "start_time": "2024-07-09T19:38:56.333Z"
   },
   {
    "duration": 3,
    "start_time": "2024-07-09T19:38:56.341Z"
   },
   {
    "duration": 308,
    "start_time": "2024-07-09T19:40:26.573Z"
   },
   {
    "duration": 826,
    "start_time": "2024-07-09T19:41:39.321Z"
   },
   {
    "duration": 1770,
    "start_time": "2024-07-09T19:41:40.150Z"
   },
   {
    "duration": 22,
    "start_time": "2024-07-09T19:41:41.922Z"
   },
   {
    "duration": 18,
    "start_time": "2024-07-09T19:41:41.948Z"
   },
   {
    "duration": 15,
    "start_time": "2024-07-09T19:41:41.970Z"
   },
   {
    "duration": 56,
    "start_time": "2024-07-09T19:41:41.990Z"
   },
   {
    "duration": 42,
    "start_time": "2024-07-09T19:41:42.049Z"
   },
   {
    "duration": 189,
    "start_time": "2024-07-09T19:41:42.094Z"
   },
   {
    "duration": 169,
    "start_time": "2024-07-09T19:41:42.286Z"
   },
   {
    "duration": 187,
    "start_time": "2024-07-09T19:41:42.462Z"
   },
   {
    "duration": 179,
    "start_time": "2024-07-09T19:41:42.654Z"
   },
   {
    "duration": 78,
    "start_time": "2024-07-09T19:41:42.836Z"
   },
   {
    "duration": 37,
    "start_time": "2024-07-09T19:41:42.917Z"
   },
   {
    "duration": 5,
    "start_time": "2024-07-09T19:41:42.957Z"
   },
   {
    "duration": 71,
    "start_time": "2024-07-09T19:41:42.966Z"
   },
   {
    "duration": 39,
    "start_time": "2024-07-09T19:41:43.040Z"
   },
   {
    "duration": 6,
    "start_time": "2024-07-09T19:41:43.082Z"
   },
   {
    "duration": 7,
    "start_time": "2024-07-09T19:41:43.091Z"
   },
   {
    "duration": 6,
    "start_time": "2024-07-09T19:41:43.134Z"
   },
   {
    "duration": 5,
    "start_time": "2024-07-09T19:41:43.144Z"
   },
   {
    "duration": 1345,
    "start_time": "2024-07-09T19:41:43.153Z"
   },
   {
    "duration": 1324,
    "start_time": "2024-07-09T19:41:44.501Z"
   },
   {
    "duration": 40,
    "start_time": "2024-07-09T19:41:45.831Z"
   },
   {
    "duration": 16,
    "start_time": "2024-07-09T19:41:45.874Z"
   },
   {
    "duration": 9,
    "start_time": "2024-07-09T19:41:45.893Z"
   },
   {
    "duration": 17,
    "start_time": "2024-07-09T19:41:45.933Z"
   },
   {
    "duration": 27,
    "start_time": "2024-07-09T19:41:45.953Z"
   },
   {
    "duration": 48,
    "start_time": "2024-07-09T19:41:45.989Z"
   },
   {
    "duration": 17,
    "start_time": "2024-07-09T19:41:46.043Z"
   },
   {
    "duration": 31,
    "start_time": "2024-07-09T19:41:46.064Z"
   },
   {
    "duration": 76,
    "start_time": "2024-07-09T19:41:46.098Z"
   },
   {
    "duration": 21,
    "start_time": "2024-07-09T19:41:46.177Z"
   },
   {
    "duration": 36,
    "start_time": "2024-07-09T19:41:46.200Z"
   },
   {
    "duration": 150,
    "start_time": "2024-07-09T19:41:46.239Z"
   },
   {
    "duration": 9,
    "start_time": "2024-07-09T19:41:46.393Z"
   },
   {
    "duration": 26,
    "start_time": "2024-07-09T19:41:46.405Z"
   },
   {
    "duration": 404,
    "start_time": "2024-07-09T19:41:46.434Z"
   },
   {
    "duration": 267,
    "start_time": "2024-07-09T19:41:46.841Z"
   },
   {
    "duration": 452,
    "start_time": "2024-07-09T19:41:47.111Z"
   },
   {
    "duration": 15,
    "start_time": "2024-07-09T19:41:47.567Z"
   },
   {
    "duration": 7,
    "start_time": "2024-07-09T19:41:47.584Z"
   },
   {
    "duration": 5,
    "start_time": "2024-07-09T19:41:47.594Z"
   },
   {
    "duration": 454,
    "start_time": "2024-07-09T19:41:47.630Z"
   },
   {
    "duration": 77,
    "start_time": "2024-07-09T19:41:48.087Z"
   },
   {
    "duration": 399,
    "start_time": "2024-07-09T19:41:48.167Z"
   },
   {
    "duration": 10,
    "start_time": "2024-07-09T19:41:48.571Z"
   },
   {
    "duration": 4,
    "start_time": "2024-07-09T19:41:48.584Z"
   },
   {
    "duration": 49,
    "start_time": "2024-07-09T19:41:48.591Z"
   },
   {
    "duration": 2478,
    "start_time": "2024-07-09T19:41:48.645Z"
   },
   {
    "duration": 775,
    "start_time": "2024-07-09T19:41:51.125Z"
   },
   {
    "duration": 412,
    "start_time": "2024-07-09T19:41:51.902Z"
   },
   {
    "duration": 14,
    "start_time": "2024-07-09T19:41:52.317Z"
   },
   {
    "duration": 4,
    "start_time": "2024-07-09T19:41:52.335Z"
   },
   {
    "duration": 5,
    "start_time": "2024-07-09T19:41:52.342Z"
   },
   {
    "duration": 415,
    "start_time": "2024-07-09T19:41:59.526Z"
   },
   {
    "duration": 22,
    "start_time": "2024-07-09T19:42:20.905Z"
   },
   {
    "duration": 393,
    "start_time": "2024-07-09T19:42:30.986Z"
   },
   {
    "duration": 381,
    "start_time": "2024-07-09T19:43:21.839Z"
   },
   {
    "duration": 93,
    "start_time": "2024-07-09T19:46:29.010Z"
   },
   {
    "duration": 87,
    "start_time": "2024-07-09T19:47:32.289Z"
   },
   {
    "duration": 37,
    "start_time": "2024-07-09T19:47:53.734Z"
   },
   {
    "duration": 812,
    "start_time": "2024-07-09T19:51:46.999Z"
   },
   {
    "duration": 1749,
    "start_time": "2024-07-09T19:51:47.815Z"
   },
   {
    "duration": 22,
    "start_time": "2024-07-09T19:51:49.567Z"
   },
   {
    "duration": 38,
    "start_time": "2024-07-09T19:51:49.592Z"
   },
   {
    "duration": 17,
    "start_time": "2024-07-09T19:51:49.635Z"
   },
   {
    "duration": 15,
    "start_time": "2024-07-09T19:51:49.655Z"
   },
   {
    "duration": 81,
    "start_time": "2024-07-09T19:51:49.674Z"
   },
   {
    "duration": 167,
    "start_time": "2024-07-09T19:51:49.758Z"
   },
   {
    "duration": 167,
    "start_time": "2024-07-09T19:51:49.928Z"
   },
   {
    "duration": 185,
    "start_time": "2024-07-09T19:51:50.097Z"
   },
   {
    "duration": 191,
    "start_time": "2024-07-09T19:51:50.284Z"
   },
   {
    "duration": 97,
    "start_time": "2024-07-09T19:51:50.478Z"
   },
   {
    "duration": 23,
    "start_time": "2024-07-09T19:51:50.578Z"
   },
   {
    "duration": 22,
    "start_time": "2024-07-09T19:51:50.608Z"
   },
   {
    "duration": 36,
    "start_time": "2024-07-09T19:51:50.633Z"
   },
   {
    "duration": 76,
    "start_time": "2024-07-09T19:51:50.671Z"
   },
   {
    "duration": 6,
    "start_time": "2024-07-09T19:51:50.750Z"
   },
   {
    "duration": 5,
    "start_time": "2024-07-09T19:51:50.759Z"
   },
   {
    "duration": 5,
    "start_time": "2024-07-09T19:51:50.766Z"
   },
   {
    "duration": 4,
    "start_time": "2024-07-09T19:51:50.774Z"
   },
   {
    "duration": 1508,
    "start_time": "2024-07-09T19:51:50.781Z"
   },
   {
    "duration": 1327,
    "start_time": "2024-07-09T19:51:52.292Z"
   },
   {
    "duration": 42,
    "start_time": "2024-07-09T19:51:53.622Z"
   },
   {
    "duration": 22,
    "start_time": "2024-07-09T19:51:53.668Z"
   },
   {
    "duration": 36,
    "start_time": "2024-07-09T19:51:53.694Z"
   },
   {
    "duration": 15,
    "start_time": "2024-07-09T19:51:53.733Z"
   },
   {
    "duration": 27,
    "start_time": "2024-07-09T19:51:53.752Z"
   },
   {
    "duration": 49,
    "start_time": "2024-07-09T19:51:53.782Z"
   },
   {
    "duration": 16,
    "start_time": "2024-07-09T19:51:53.834Z"
   },
   {
    "duration": 27,
    "start_time": "2024-07-09T19:51:53.853Z"
   },
   {
    "duration": 84,
    "start_time": "2024-07-09T19:51:53.882Z"
   },
   {
    "duration": 20,
    "start_time": "2024-07-09T19:51:53.969Z"
   },
   {
    "duration": 7,
    "start_time": "2024-07-09T19:51:53.991Z"
   },
   {
    "duration": 163,
    "start_time": "2024-07-09T19:51:54.001Z"
   },
   {
    "duration": 8,
    "start_time": "2024-07-09T19:51:54.167Z"
   },
   {
    "duration": 8,
    "start_time": "2024-07-09T19:51:54.179Z"
   },
   {
    "duration": 421,
    "start_time": "2024-07-09T19:51:54.190Z"
   },
   {
    "duration": 278,
    "start_time": "2024-07-09T19:51:54.614Z"
   },
   {
    "duration": 427,
    "start_time": "2024-07-09T19:51:54.895Z"
   },
   {
    "duration": 19,
    "start_time": "2024-07-09T19:51:55.325Z"
   },
   {
    "duration": 8,
    "start_time": "2024-07-09T19:51:55.353Z"
   },
   {
    "duration": 4,
    "start_time": "2024-07-09T19:51:55.364Z"
   },
   {
    "duration": 483,
    "start_time": "2024-07-09T19:51:55.372Z"
   },
   {
    "duration": 78,
    "start_time": "2024-07-09T19:51:55.858Z"
   },
   {
    "duration": 418,
    "start_time": "2024-07-09T19:51:55.939Z"
   },
   {
    "duration": 11,
    "start_time": "2024-07-09T19:51:56.360Z"
   },
   {
    "duration": 4,
    "start_time": "2024-07-09T19:51:56.374Z"
   },
   {
    "duration": 50,
    "start_time": "2024-07-09T19:51:56.381Z"
   },
   {
    "duration": 2556,
    "start_time": "2024-07-09T19:51:56.434Z"
   },
   {
    "duration": 762,
    "start_time": "2024-07-09T19:51:58.993Z"
   },
   {
    "duration": 387,
    "start_time": "2024-07-09T19:51:59.757Z"
   },
   {
    "duration": 2594,
    "start_time": "2024-07-09T19:52:00.146Z"
   },
   {
    "duration": 4,
    "start_time": "2024-07-09T19:52:02.744Z"
   },
   {
    "duration": 3,
    "start_time": "2024-07-09T19:52:02.751Z"
   },
   {
    "duration": 781,
    "start_time": "2024-07-09T19:53:29.799Z"
   },
   {
    "duration": 1792,
    "start_time": "2024-07-09T19:53:30.584Z"
   },
   {
    "duration": 23,
    "start_time": "2024-07-09T19:53:32.382Z"
   },
   {
    "duration": 35,
    "start_time": "2024-07-09T19:53:32.408Z"
   },
   {
    "duration": 14,
    "start_time": "2024-07-09T19:53:32.448Z"
   },
   {
    "duration": 15,
    "start_time": "2024-07-09T19:53:32.466Z"
   },
   {
    "duration": 78,
    "start_time": "2024-07-09T19:53:32.486Z"
   },
   {
    "duration": 170,
    "start_time": "2024-07-09T19:53:32.567Z"
   },
   {
    "duration": 164,
    "start_time": "2024-07-09T19:53:32.740Z"
   },
   {
    "duration": 188,
    "start_time": "2024-07-09T19:53:32.907Z"
   },
   {
    "duration": 168,
    "start_time": "2024-07-09T19:53:33.098Z"
   },
   {
    "duration": 90,
    "start_time": "2024-07-09T19:53:33.269Z"
   },
   {
    "duration": 23,
    "start_time": "2024-07-09T19:53:33.362Z"
   },
   {
    "duration": 4,
    "start_time": "2024-07-09T19:53:33.392Z"
   },
   {
    "duration": 64,
    "start_time": "2024-07-09T19:53:33.400Z"
   },
   {
    "duration": 67,
    "start_time": "2024-07-09T19:53:33.468Z"
   },
   {
    "duration": 7,
    "start_time": "2024-07-09T19:53:33.538Z"
   },
   {
    "duration": 6,
    "start_time": "2024-07-09T19:53:33.549Z"
   },
   {
    "duration": 6,
    "start_time": "2024-07-09T19:53:33.558Z"
   },
   {
    "duration": 5,
    "start_time": "2024-07-09T19:53:33.569Z"
   },
   {
    "duration": 1360,
    "start_time": "2024-07-09T19:53:33.577Z"
   },
   {
    "duration": 1354,
    "start_time": "2024-07-09T19:53:34.941Z"
   },
   {
    "duration": 47,
    "start_time": "2024-07-09T19:53:36.298Z"
   },
   {
    "duration": 17,
    "start_time": "2024-07-09T19:53:36.348Z"
   },
   {
    "duration": 10,
    "start_time": "2024-07-09T19:53:36.369Z"
   },
   {
    "duration": 54,
    "start_time": "2024-07-09T19:53:36.381Z"
   },
   {
    "duration": 22,
    "start_time": "2024-07-09T19:53:36.438Z"
   },
   {
    "duration": 9,
    "start_time": "2024-07-09T19:53:36.463Z"
   },
   {
    "duration": 16,
    "start_time": "2024-07-09T19:53:36.475Z"
   },
   {
    "duration": 27,
    "start_time": "2024-07-09T19:53:36.530Z"
   },
   {
    "duration": 49,
    "start_time": "2024-07-09T19:53:36.560Z"
   },
   {
    "duration": 22,
    "start_time": "2024-07-09T19:53:36.632Z"
   },
   {
    "duration": 8,
    "start_time": "2024-07-09T19:53:36.657Z"
   },
   {
    "duration": 170,
    "start_time": "2024-07-09T19:53:36.669Z"
   },
   {
    "duration": 11,
    "start_time": "2024-07-09T19:53:36.843Z"
   },
   {
    "duration": 9,
    "start_time": "2024-07-09T19:53:36.857Z"
   },
   {
    "duration": 441,
    "start_time": "2024-07-09T19:53:36.870Z"
   },
   {
    "duration": 265,
    "start_time": "2024-07-09T19:53:37.314Z"
   },
   {
    "duration": 439,
    "start_time": "2024-07-09T19:53:37.582Z"
   },
   {
    "duration": 22,
    "start_time": "2024-07-09T19:53:38.024Z"
   },
   {
    "duration": 8,
    "start_time": "2024-07-09T19:53:38.055Z"
   },
   {
    "duration": 5,
    "start_time": "2024-07-09T19:53:38.066Z"
   },
   {
    "duration": 481,
    "start_time": "2024-07-09T19:53:38.075Z"
   },
   {
    "duration": 81,
    "start_time": "2024-07-09T19:53:38.559Z"
   },
   {
    "duration": 369,
    "start_time": "2024-07-09T19:53:38.642Z"
   },
   {
    "duration": 19,
    "start_time": "2024-07-09T19:53:39.014Z"
   },
   {
    "duration": 4,
    "start_time": "2024-07-09T19:53:39.036Z"
   },
   {
    "duration": 20,
    "start_time": "2024-07-09T19:53:39.044Z"
   },
   {
    "duration": 2566,
    "start_time": "2024-07-09T19:53:39.067Z"
   },
   {
    "duration": 776,
    "start_time": "2024-07-09T19:53:41.636Z"
   },
   {
    "duration": 410,
    "start_time": "2024-07-09T19:53:42.414Z"
   },
   {
    "duration": 4,
    "start_time": "2024-07-09T19:53:42.831Z"
   },
   {
    "duration": 394,
    "start_time": "2024-07-09T19:54:06.631Z"
   },
   {
    "duration": 374,
    "start_time": "2024-07-09T19:54:22.797Z"
   },
   {
    "duration": 127,
    "start_time": "2024-07-09T19:57:31.224Z"
   },
   {
    "duration": 7,
    "start_time": "2024-07-09T20:02:35.915Z"
   },
   {
    "duration": 339,
    "start_time": "2024-07-09T20:02:41.192Z"
   },
   {
    "duration": 809,
    "start_time": "2024-07-09T20:03:52.345Z"
   },
   {
    "duration": 1724,
    "start_time": "2024-07-09T20:03:53.159Z"
   },
   {
    "duration": 23,
    "start_time": "2024-07-09T20:03:54.886Z"
   },
   {
    "duration": 18,
    "start_time": "2024-07-09T20:03:54.929Z"
   },
   {
    "duration": 16,
    "start_time": "2024-07-09T20:03:54.951Z"
   },
   {
    "duration": 16,
    "start_time": "2024-07-09T20:03:54.970Z"
   },
   {
    "duration": 74,
    "start_time": "2024-07-09T20:03:54.988Z"
   },
   {
    "duration": 175,
    "start_time": "2024-07-09T20:03:55.065Z"
   },
   {
    "duration": 193,
    "start_time": "2024-07-09T20:03:55.243Z"
   },
   {
    "duration": 183,
    "start_time": "2024-07-09T20:03:55.438Z"
   },
   {
    "duration": 168,
    "start_time": "2024-07-09T20:03:55.623Z"
   },
   {
    "duration": 91,
    "start_time": "2024-07-09T20:03:55.794Z"
   },
   {
    "duration": 30,
    "start_time": "2024-07-09T20:03:55.888Z"
   },
   {
    "duration": 6,
    "start_time": "2024-07-09T20:03:55.936Z"
   },
   {
    "duration": 37,
    "start_time": "2024-07-09T20:03:55.947Z"
   },
   {
    "duration": 69,
    "start_time": "2024-07-09T20:03:55.987Z"
   },
   {
    "duration": 6,
    "start_time": "2024-07-09T20:03:56.060Z"
   },
   {
    "duration": 6,
    "start_time": "2024-07-09T20:03:56.069Z"
   },
   {
    "duration": 7,
    "start_time": "2024-07-09T20:03:56.077Z"
   },
   {
    "duration": 45,
    "start_time": "2024-07-09T20:03:56.087Z"
   },
   {
    "duration": 1355,
    "start_time": "2024-07-09T20:03:56.136Z"
   },
   {
    "duration": 1362,
    "start_time": "2024-07-09T20:03:57.494Z"
   },
   {
    "duration": 40,
    "start_time": "2024-07-09T20:03:58.859Z"
   },
   {
    "duration": 39,
    "start_time": "2024-07-09T20:03:58.902Z"
   },
   {
    "duration": 12,
    "start_time": "2024-07-09T20:03:58.944Z"
   },
   {
    "duration": 13,
    "start_time": "2024-07-09T20:03:58.959Z"
   },
   {
    "duration": 63,
    "start_time": "2024-07-09T20:03:58.975Z"
   },
   {
    "duration": 11,
    "start_time": "2024-07-09T20:03:59.041Z"
   },
   {
    "duration": 16,
    "start_time": "2024-07-09T20:03:59.057Z"
   },
   {
    "duration": 59,
    "start_time": "2024-07-09T20:03:59.075Z"
   },
   {
    "duration": 49,
    "start_time": "2024-07-09T20:03:59.137Z"
   },
   {
    "duration": 44,
    "start_time": "2024-07-09T20:03:59.189Z"
   },
   {
    "duration": 7,
    "start_time": "2024-07-09T20:03:59.236Z"
   },
   {
    "duration": 161,
    "start_time": "2024-07-09T20:03:59.246Z"
   },
   {
    "duration": 9,
    "start_time": "2024-07-09T20:03:59.410Z"
   },
   {
    "duration": 9,
    "start_time": "2024-07-09T20:03:59.432Z"
   },
   {
    "duration": 413,
    "start_time": "2024-07-09T20:03:59.445Z"
   },
   {
    "duration": 289,
    "start_time": "2024-07-09T20:03:59.862Z"
   },
   {
    "duration": 428,
    "start_time": "2024-07-09T20:04:00.154Z"
   },
   {
    "duration": 16,
    "start_time": "2024-07-09T20:04:00.585Z"
   },
   {
    "duration": 25,
    "start_time": "2024-07-09T20:04:00.610Z"
   },
   {
    "duration": 5,
    "start_time": "2024-07-09T20:04:00.638Z"
   },
   {
    "duration": 473,
    "start_time": "2024-07-09T20:04:00.646Z"
   },
   {
    "duration": 70,
    "start_time": "2024-07-09T20:04:01.122Z"
   },
   {
    "duration": 406,
    "start_time": "2024-07-09T20:04:01.195Z"
   },
   {
    "duration": 26,
    "start_time": "2024-07-09T20:04:01.604Z"
   },
   {
    "duration": 4,
    "start_time": "2024-07-09T20:04:01.633Z"
   },
   {
    "duration": 22,
    "start_time": "2024-07-09T20:04:01.640Z"
   },
   {
    "duration": 2616,
    "start_time": "2024-07-09T20:04:01.665Z"
   },
   {
    "duration": 761,
    "start_time": "2024-07-09T20:04:04.284Z"
   },
   {
    "duration": 385,
    "start_time": "2024-07-09T20:04:05.048Z"
   },
   {
    "duration": 441,
    "start_time": "2024-07-09T20:04:05.436Z"
   },
   {
    "duration": 4,
    "start_time": "2024-07-09T20:04:05.880Z"
   },
   {
    "duration": 443,
    "start_time": "2024-07-09T20:04:05.887Z"
   },
   {
    "duration": 24,
    "start_time": "2024-07-09T20:05:13.318Z"
   },
   {
    "duration": 24,
    "start_time": "2024-07-09T20:05:21.230Z"
   },
   {
    "duration": 779,
    "start_time": "2024-07-09T20:08:45.454Z"
   },
   {
    "duration": 1756,
    "start_time": "2024-07-09T20:08:46.237Z"
   },
   {
    "duration": 34,
    "start_time": "2024-07-09T20:08:47.996Z"
   },
   {
    "duration": 19,
    "start_time": "2024-07-09T20:08:48.033Z"
   },
   {
    "duration": 16,
    "start_time": "2024-07-09T20:08:48.058Z"
   },
   {
    "duration": 53,
    "start_time": "2024-07-09T20:08:48.077Z"
   },
   {
    "duration": 42,
    "start_time": "2024-07-09T20:08:48.133Z"
   },
   {
    "duration": 184,
    "start_time": "2024-07-09T20:08:48.177Z"
   },
   {
    "duration": 175,
    "start_time": "2024-07-09T20:08:48.364Z"
   },
   {
    "duration": 187,
    "start_time": "2024-07-09T20:08:48.543Z"
   },
   {
    "duration": 171,
    "start_time": "2024-07-09T20:08:48.733Z"
   },
   {
    "duration": 107,
    "start_time": "2024-07-09T20:08:48.907Z"
   },
   {
    "duration": 33,
    "start_time": "2024-07-09T20:08:49.017Z"
   },
   {
    "duration": 6,
    "start_time": "2024-07-09T20:08:49.056Z"
   },
   {
    "duration": 35,
    "start_time": "2024-07-09T20:08:49.065Z"
   },
   {
    "duration": 62,
    "start_time": "2024-07-09T20:08:49.103Z"
   },
   {
    "duration": 6,
    "start_time": "2024-07-09T20:08:49.168Z"
   },
   {
    "duration": 5,
    "start_time": "2024-07-09T20:08:49.177Z"
   },
   {
    "duration": 45,
    "start_time": "2024-07-09T20:08:49.185Z"
   },
   {
    "duration": 5,
    "start_time": "2024-07-09T20:08:49.233Z"
   },
   {
    "duration": 1337,
    "start_time": "2024-07-09T20:08:49.241Z"
   },
   {
    "duration": 1337,
    "start_time": "2024-07-09T20:08:50.580Z"
   },
   {
    "duration": 43,
    "start_time": "2024-07-09T20:08:51.920Z"
   },
   {
    "duration": 16,
    "start_time": "2024-07-09T20:08:51.965Z"
   },
   {
    "duration": 9,
    "start_time": "2024-07-09T20:08:51.984Z"
   },
   {
    "duration": 16,
    "start_time": "2024-07-09T20:08:52.032Z"
   },
   {
    "duration": 28,
    "start_time": "2024-07-09T20:08:52.052Z"
   },
   {
    "duration": 11,
    "start_time": "2024-07-09T20:08:52.082Z"
   },
   {
    "duration": 56,
    "start_time": "2024-07-09T20:08:52.095Z"
   },
   {
    "duration": 26,
    "start_time": "2024-07-09T20:08:52.154Z"
   },
   {
    "duration": 82,
    "start_time": "2024-07-09T20:08:52.182Z"
   },
   {
    "duration": 21,
    "start_time": "2024-07-09T20:08:52.267Z"
   },
   {
    "duration": 8,
    "start_time": "2024-07-09T20:08:52.291Z"
   },
   {
    "duration": 156,
    "start_time": "2024-07-09T20:08:52.331Z"
   },
   {
    "duration": 9,
    "start_time": "2024-07-09T20:08:52.490Z"
   },
   {
    "duration": 28,
    "start_time": "2024-07-09T20:08:52.502Z"
   },
   {
    "duration": 409,
    "start_time": "2024-07-09T20:08:52.533Z"
   },
   {
    "duration": 265,
    "start_time": "2024-07-09T20:08:52.945Z"
   },
   {
    "duration": 464,
    "start_time": "2024-07-09T20:08:53.213Z"
   },
   {
    "duration": 16,
    "start_time": "2024-07-09T20:08:53.680Z"
   },
   {
    "duration": 27,
    "start_time": "2024-07-09T20:08:53.704Z"
   },
   {
    "duration": 5,
    "start_time": "2024-07-09T20:08:53.734Z"
   },
   {
    "duration": 473,
    "start_time": "2024-07-09T20:08:53.742Z"
   },
   {
    "duration": 71,
    "start_time": "2024-07-09T20:08:54.218Z"
   },
   {
    "duration": 396,
    "start_time": "2024-07-09T20:08:54.291Z"
   },
   {
    "duration": 11,
    "start_time": "2024-07-09T20:08:54.690Z"
   },
   {
    "duration": 4,
    "start_time": "2024-07-09T20:08:54.703Z"
   },
   {
    "duration": 21,
    "start_time": "2024-07-09T20:08:54.730Z"
   },
   {
    "duration": 2545,
    "start_time": "2024-07-09T20:08:54.754Z"
   },
   {
    "duration": 743,
    "start_time": "2024-07-09T20:08:57.301Z"
   },
   {
    "duration": 401,
    "start_time": "2024-07-09T20:08:58.047Z"
   },
   {
    "duration": 3,
    "start_time": "2024-07-09T20:08:58.452Z"
   },
   {
    "duration": 431,
    "start_time": "2024-07-09T20:09:18.592Z"
   },
   {
    "duration": 2530,
    "start_time": "2024-07-09T20:09:30.545Z"
   },
   {
    "duration": 756,
    "start_time": "2024-07-09T20:15:20.589Z"
   },
   {
    "duration": 1762,
    "start_time": "2024-07-09T20:15:21.349Z"
   },
   {
    "duration": 31,
    "start_time": "2024-07-09T20:15:23.115Z"
   },
   {
    "duration": 22,
    "start_time": "2024-07-09T20:15:23.149Z"
   },
   {
    "duration": 19,
    "start_time": "2024-07-09T20:15:23.176Z"
   },
   {
    "duration": 16,
    "start_time": "2024-07-09T20:15:23.231Z"
   },
   {
    "duration": 40,
    "start_time": "2024-07-09T20:15:23.251Z"
   },
   {
    "duration": 188,
    "start_time": "2024-07-09T20:15:23.294Z"
   },
   {
    "duration": 166,
    "start_time": "2024-07-09T20:15:23.485Z"
   },
   {
    "duration": 181,
    "start_time": "2024-07-09T20:15:23.654Z"
   },
   {
    "duration": 168,
    "start_time": "2024-07-09T20:15:23.838Z"
   },
   {
    "duration": 90,
    "start_time": "2024-07-09T20:15:24.008Z"
   },
   {
    "duration": 35,
    "start_time": "2024-07-09T20:15:24.102Z"
   },
   {
    "duration": 5,
    "start_time": "2024-07-09T20:15:24.144Z"
   },
   {
    "duration": 45,
    "start_time": "2024-07-09T20:15:24.152Z"
   },
   {
    "duration": 70,
    "start_time": "2024-07-09T20:15:24.202Z"
   },
   {
    "duration": 7,
    "start_time": "2024-07-09T20:15:24.276Z"
   },
   {
    "duration": 5,
    "start_time": "2024-07-09T20:15:24.286Z"
   },
   {
    "duration": 37,
    "start_time": "2024-07-09T20:15:24.294Z"
   },
   {
    "duration": 5,
    "start_time": "2024-07-09T20:15:24.334Z"
   },
   {
    "duration": 1348,
    "start_time": "2024-07-09T20:15:24.345Z"
   },
   {
    "duration": 1348,
    "start_time": "2024-07-09T20:15:25.696Z"
   },
   {
    "duration": 38,
    "start_time": "2024-07-09T20:15:27.048Z"
   },
   {
    "duration": 17,
    "start_time": "2024-07-09T20:15:27.088Z"
   },
   {
    "duration": 10,
    "start_time": "2024-07-09T20:15:27.132Z"
   },
   {
    "duration": 13,
    "start_time": "2024-07-09T20:15:27.145Z"
   },
   {
    "duration": 22,
    "start_time": "2024-07-09T20:15:27.161Z"
   },
   {
    "duration": 49,
    "start_time": "2024-07-09T20:15:27.186Z"
   },
   {
    "duration": 17,
    "start_time": "2024-07-09T20:15:27.238Z"
   },
   {
    "duration": 26,
    "start_time": "2024-07-09T20:15:27.258Z"
   },
   {
    "duration": 79,
    "start_time": "2024-07-09T20:15:27.287Z"
   },
   {
    "duration": 20,
    "start_time": "2024-07-09T20:15:27.369Z"
   },
   {
    "duration": 7,
    "start_time": "2024-07-09T20:15:27.392Z"
   },
   {
    "duration": 142,
    "start_time": "2024-07-09T20:15:27.432Z"
   },
   {
    "duration": 9,
    "start_time": "2024-07-09T20:15:27.577Z"
   },
   {
    "duration": 9,
    "start_time": "2024-07-09T20:15:27.589Z"
   },
   {
    "duration": 424,
    "start_time": "2024-07-09T20:15:27.601Z"
   },
   {
    "duration": 256,
    "start_time": "2024-07-09T20:15:28.032Z"
   },
   {
    "duration": 426,
    "start_time": "2024-07-09T20:15:28.294Z"
   },
   {
    "duration": 15,
    "start_time": "2024-07-09T20:15:28.733Z"
   },
   {
    "duration": 7,
    "start_time": "2024-07-09T20:15:28.757Z"
   },
   {
    "duration": 5,
    "start_time": "2024-07-09T20:15:28.767Z"
   },
   {
    "duration": 488,
    "start_time": "2024-07-09T20:15:28.776Z"
   },
   {
    "duration": 78,
    "start_time": "2024-07-09T20:15:29.267Z"
   },
   {
    "duration": 375,
    "start_time": "2024-07-09T20:15:29.347Z"
   },
   {
    "duration": 14,
    "start_time": "2024-07-09T20:15:29.731Z"
   },
   {
    "duration": 4,
    "start_time": "2024-07-09T20:15:29.747Z"
   },
   {
    "duration": 25,
    "start_time": "2024-07-09T20:15:29.755Z"
   },
   {
    "duration": 2613,
    "start_time": "2024-07-09T20:15:29.783Z"
   },
   {
    "duration": 761,
    "start_time": "2024-07-09T20:15:32.399Z"
   },
   {
    "duration": 400,
    "start_time": "2024-07-09T20:15:33.163Z"
   },
   {
    "duration": 2548,
    "start_time": "2024-07-09T20:15:33.566Z"
   },
   {
    "duration": 3,
    "start_time": "2024-07-09T20:15:36.117Z"
   },
   {
    "duration": 4,
    "start_time": "2024-07-09T20:15:36.130Z"
   },
   {
    "duration": 3,
    "start_time": "2024-07-09T20:15:36.137Z"
   },
   {
    "duration": 4,
    "start_time": "2024-07-09T20:21:38.970Z"
   },
   {
    "duration": 412,
    "start_time": "2024-07-09T20:23:32.884Z"
   },
   {
    "duration": 137,
    "start_time": "2024-07-09T20:23:46.287Z"
   },
   {
    "duration": 4387,
    "start_time": "2024-07-09T20:31:31.455Z"
   },
   {
    "duration": 39,
    "start_time": "2024-07-09T20:34:03.905Z"
   },
   {
    "duration": 65,
    "start_time": "2024-07-09T20:35:25.540Z"
   },
   {
    "duration": 51,
    "start_time": "2024-07-09T20:35:49.640Z"
   },
   {
    "duration": 7,
    "start_time": "2024-07-09T20:37:35.085Z"
   },
   {
    "duration": 13,
    "start_time": "2024-07-10T17:44:13.173Z"
   },
   {
    "duration": 4200,
    "start_time": "2024-07-10T17:45:07.414Z"
   },
   {
    "duration": 1631,
    "start_time": "2024-07-10T17:45:14.820Z"
   },
   {
    "duration": 22,
    "start_time": "2024-07-10T17:45:18.699Z"
   },
   {
    "duration": 18,
    "start_time": "2024-07-10T17:45:21.001Z"
   },
   {
    "duration": 15,
    "start_time": "2024-07-10T17:45:22.398Z"
   },
   {
    "duration": 15,
    "start_time": "2024-07-10T17:45:23.643Z"
   },
   {
    "duration": 42,
    "start_time": "2024-07-10T17:45:24.980Z"
   },
   {
    "duration": 151,
    "start_time": "2024-07-10T17:45:34.206Z"
   },
   {
    "duration": 4,
    "start_time": "2024-07-10T17:46:25.019Z"
   },
   {
    "duration": 8,
    "start_time": "2024-07-10T17:47:24.749Z"
   },
   {
    "duration": 49,
    "start_time": "2024-07-10T17:47:50.219Z"
   },
   {
    "duration": 43,
    "start_time": "2024-07-10T17:48:26.568Z"
   },
   {
    "duration": 1216,
    "start_time": "2024-07-10T17:49:42.109Z"
   },
   {
    "duration": 72,
    "start_time": "2024-07-10T17:49:52.959Z"
   },
   {
    "duration": 174,
    "start_time": "2024-07-10T17:50:56.948Z"
   },
   {
    "duration": 71,
    "start_time": "2024-07-10T17:50:59.952Z"
   },
   {
    "duration": 39,
    "start_time": "2024-07-10T17:51:57.699Z"
   },
   {
    "duration": 27,
    "start_time": "2024-07-10T17:52:18.580Z"
   },
   {
    "duration": 46,
    "start_time": "2024-07-10T17:52:56.699Z"
   },
   {
    "duration": 65,
    "start_time": "2024-07-10T18:07:16.254Z"
   },
   {
    "duration": 339,
    "start_time": "2024-07-10T18:07:31.965Z"
   },
   {
    "duration": 60,
    "start_time": "2024-07-10T18:11:42.767Z"
   },
   {
    "duration": 148,
    "start_time": "2024-07-10T18:14:23.272Z"
   },
   {
    "duration": 4,
    "start_time": "2024-07-10T18:14:57.029Z"
   },
   {
    "duration": 126,
    "start_time": "2024-07-10T18:15:04.636Z"
   },
   {
    "duration": 180,
    "start_time": "2024-07-10T18:23:08.015Z"
   },
   {
    "duration": 162,
    "start_time": "2024-07-10T18:23:10.009Z"
   },
   {
    "duration": 84,
    "start_time": "2024-07-10T18:23:12.179Z"
   },
   {
    "duration": 24,
    "start_time": "2024-07-10T18:23:51.519Z"
   },
   {
    "duration": 74,
    "start_time": "2024-07-10T18:24:44.016Z"
   },
   {
    "duration": 9,
    "start_time": "2024-07-10T18:24:58.365Z"
   },
   {
    "duration": 34,
    "start_time": "2024-07-10T18:25:12.085Z"
   },
   {
    "duration": 21,
    "start_time": "2024-07-10T18:26:44.984Z"
   },
   {
    "duration": 9,
    "start_time": "2024-07-10T18:26:58.621Z"
   },
   {
    "duration": 5,
    "start_time": "2024-07-10T18:27:07.564Z"
   },
   {
    "duration": 47,
    "start_time": "2024-07-10T18:27:16.698Z"
   },
   {
    "duration": 6,
    "start_time": "2024-07-10T18:29:19.404Z"
   },
   {
    "duration": 6,
    "start_time": "2024-07-10T18:29:22.918Z"
   },
   {
    "duration": 6,
    "start_time": "2024-07-10T18:29:30.609Z"
   },
   {
    "duration": 4,
    "start_time": "2024-07-10T18:29:32.243Z"
   },
   {
    "duration": 1331,
    "start_time": "2024-07-10T18:29:38.299Z"
   },
   {
    "duration": 1314,
    "start_time": "2024-07-10T18:30:42.988Z"
   },
   {
    "duration": 45,
    "start_time": "2024-07-10T18:32:56.024Z"
   },
   {
    "duration": 20,
    "start_time": "2024-07-10T18:32:59.290Z"
   },
   {
    "duration": 9,
    "start_time": "2024-07-10T18:33:15.811Z"
   },
   {
    "duration": 12,
    "start_time": "2024-07-10T18:33:29.963Z"
   },
   {
    "duration": 23,
    "start_time": "2024-07-10T18:34:01.464Z"
   },
   {
    "duration": 10,
    "start_time": "2024-07-10T18:34:24.123Z"
   },
   {
    "duration": 16,
    "start_time": "2024-07-10T18:34:27.018Z"
   },
   {
    "duration": 29,
    "start_time": "2024-07-10T18:34:34.334Z"
   },
   {
    "duration": 48,
    "start_time": "2024-07-10T18:34:39.659Z"
   },
   {
    "duration": 20,
    "start_time": "2024-07-10T18:36:32.452Z"
   },
   {
    "duration": 6,
    "start_time": "2024-07-10T18:37:46.828Z"
   },
   {
    "duration": 10,
    "start_time": "2024-07-10T18:38:01.924Z"
   },
   {
    "duration": 542,
    "start_time": "2024-07-10T18:38:35.353Z"
   },
   {
    "duration": 939,
    "start_time": "2024-07-10T18:42:18.681Z"
   },
   {
    "duration": 6,
    "start_time": "2024-07-10T18:43:14.589Z"
   },
   {
    "duration": 648,
    "start_time": "2024-07-10T18:43:28.154Z"
   },
   {
    "duration": 137,
    "start_time": "2024-07-10T18:48:46.094Z"
   },
   {
    "duration": 8,
    "start_time": "2024-07-10T18:49:15.310Z"
   },
   {
    "duration": 11,
    "start_time": "2024-07-10T18:50:05.187Z"
   },
   {
    "duration": 10,
    "start_time": "2024-07-10T18:50:32.899Z"
   },
   {
    "duration": 500,
    "start_time": "2024-07-10T18:52:59.404Z"
   },
   {
    "duration": 254,
    "start_time": "2024-07-10T18:53:04.415Z"
   },
   {
    "duration": 415,
    "start_time": "2024-07-10T18:53:53.010Z"
   },
   {
    "duration": 11,
    "start_time": "2024-07-10T18:56:24.425Z"
   },
   {
    "duration": 11,
    "start_time": "2024-07-10T18:57:52.339Z"
   },
   {
    "duration": 11,
    "start_time": "2024-07-10T18:58:01.619Z"
   },
   {
    "duration": 25,
    "start_time": "2024-07-10T19:00:25.692Z"
   },
   {
    "duration": 11,
    "start_time": "2024-07-10T19:01:18.965Z"
   },
   {
    "duration": 24,
    "start_time": "2024-07-10T19:01:21.423Z"
   },
   {
    "duration": 11,
    "start_time": "2024-07-10T19:01:36.844Z"
   },
   {
    "duration": 12,
    "start_time": "2024-07-10T19:01:38.810Z"
   },
   {
    "duration": 469,
    "start_time": "2024-07-10T19:02:12.901Z"
   },
   {
    "duration": 62,
    "start_time": "2024-07-10T19:02:33.265Z"
   },
   {
    "duration": 390,
    "start_time": "2024-07-10T19:02:36.035Z"
   },
   {
    "duration": 514,
    "start_time": "2024-07-10T19:06:08.281Z"
   },
   {
    "duration": 9,
    "start_time": "2024-07-10T19:07:29.029Z"
   },
   {
    "duration": 28,
    "start_time": "2024-07-10T19:09:54.675Z"
   },
   {
    "duration": 202,
    "start_time": "2024-07-10T19:10:21.594Z"
   },
   {
    "duration": 1475,
    "start_time": "2024-07-10T19:11:03.298Z"
   },
   {
    "duration": 375,
    "start_time": "2024-07-10T19:11:29.979Z"
   },
   {
    "duration": 383,
    "start_time": "2024-07-10T19:11:50.650Z"
   },
   {
    "duration": 673,
    "start_time": "2024-07-10T19:11:58.879Z"
   },
   {
    "duration": 390,
    "start_time": "2024-07-10T19:13:25.517Z"
   },
   {
    "duration": 390,
    "start_time": "2024-07-10T19:13:32.632Z"
   },
   {
    "duration": 388,
    "start_time": "2024-07-10T19:13:41.609Z"
   },
   {
    "duration": 440,
    "start_time": "2024-07-10T19:15:01.561Z"
   },
   {
    "duration": 578,
    "start_time": "2024-07-10T19:15:33.813Z"
   },
   {
    "duration": 421,
    "start_time": "2024-07-10T19:15:46.589Z"
   },
   {
    "duration": 101,
    "start_time": "2024-07-10T19:19:10.276Z"
   },
   {
    "duration": 5,
    "start_time": "2024-07-10T19:20:14.689Z"
   },
   {
    "duration": 557,
    "start_time": "2024-07-10T19:20:19.665Z"
   },
   {
    "duration": 12,
    "start_time": "2024-07-10T19:21:07.871Z"
   },
   {
    "duration": 100,
    "start_time": "2024-07-10T19:21:32.215Z"
   },
   {
    "duration": 9,
    "start_time": "2024-07-10T19:21:35.266Z"
   },
   {
    "duration": 251,
    "start_time": "2024-07-10T19:28:09.962Z"
   },
   {
    "duration": 46,
    "start_time": "2024-07-10T19:56:08.175Z"
   },
   {
    "duration": 772,
    "start_time": "2024-07-10T19:56:40.427Z"
   },
   {
    "duration": 759,
    "start_time": "2024-07-10T19:58:01.919Z"
   },
   {
    "duration": 10,
    "start_time": "2024-07-10T19:59:05.116Z"
   },
   {
    "duration": 771,
    "start_time": "2024-07-10T19:59:48.408Z"
   },
   {
    "duration": 15,
    "start_time": "2024-07-10T19:59:51.503Z"
   },
   {
    "duration": 7,
    "start_time": "2024-07-10T20:01:57.804Z"
   },
   {
    "duration": 11,
    "start_time": "2024-07-10T20:02:16.053Z"
   },
   {
    "duration": 25,
    "start_time": "2024-07-10T20:02:40.061Z"
   },
   {
    "duration": 18,
    "start_time": "2024-07-10T20:02:58.493Z"
   },
   {
    "duration": 14,
    "start_time": "2024-07-10T20:03:14.578Z"
   },
   {
    "duration": 10,
    "start_time": "2024-07-10T20:03:56.533Z"
   },
   {
    "duration": 7,
    "start_time": "2024-07-10T20:05:06.024Z"
   },
   {
    "duration": 9,
    "start_time": "2024-07-10T20:10:58.336Z"
   },
   {
    "duration": 8,
    "start_time": "2024-07-10T20:11:09.531Z"
   },
   {
    "duration": 747,
    "start_time": "2024-07-10T20:11:20.209Z"
   },
   {
    "duration": 127,
    "start_time": "2024-07-10T20:11:23.168Z"
   },
   {
    "duration": 748,
    "start_time": "2024-07-10T20:11:43.188Z"
   },
   {
    "duration": 12,
    "start_time": "2024-07-10T20:11:47.149Z"
   },
   {
    "duration": 3,
    "start_time": "2024-07-10T20:12:45.414Z"
   },
   {
    "duration": 116,
    "start_time": "2024-07-10T20:12:49.780Z"
   },
   {
    "duration": 6,
    "start_time": "2024-07-10T20:12:54.629Z"
   },
   {
    "duration": 5,
    "start_time": "2024-07-10T20:18:34.713Z"
   },
   {
    "duration": 819,
    "start_time": "2024-07-10T20:18:37.425Z"
   },
   {
    "duration": 8,
    "start_time": "2024-07-10T20:18:39.999Z"
   },
   {
    "duration": 1348,
    "start_time": "2024-07-10T20:24:55.343Z"
   },
   {
    "duration": 7,
    "start_time": "2024-07-10T20:27:40.202Z"
   },
   {
    "duration": 498,
    "start_time": "2024-07-10T20:27:58.904Z"
   },
   {
    "duration": 31,
    "start_time": "2024-07-10T20:28:35.128Z"
   },
   {
    "duration": 711,
    "start_time": "2024-07-10T20:29:29.469Z"
   },
   {
    "duration": 1721,
    "start_time": "2024-07-10T20:29:30.183Z"
   },
   {
    "duration": 24,
    "start_time": "2024-07-10T20:29:31.907Z"
   },
   {
    "duration": 35,
    "start_time": "2024-07-10T20:29:31.935Z"
   },
   {
    "duration": 15,
    "start_time": "2024-07-10T20:29:31.973Z"
   },
   {
    "duration": 15,
    "start_time": "2024-07-10T20:29:31.991Z"
   },
   {
    "duration": 81,
    "start_time": "2024-07-10T20:29:32.009Z"
   },
   {
    "duration": 168,
    "start_time": "2024-07-10T20:29:32.094Z"
   },
   {
    "duration": 129,
    "start_time": "2024-07-10T20:29:32.264Z"
   },
   {
    "duration": 197,
    "start_time": "2024-07-10T20:29:32.398Z"
   },
   {
    "duration": 167,
    "start_time": "2024-07-10T20:29:32.598Z"
   },
   {
    "duration": 74,
    "start_time": "2024-07-10T20:29:32.769Z"
   },
   {
    "duration": 43,
    "start_time": "2024-07-10T20:29:32.847Z"
   },
   {
    "duration": 7,
    "start_time": "2024-07-10T20:29:32.893Z"
   },
   {
    "duration": 63,
    "start_time": "2024-07-10T20:29:32.903Z"
   },
   {
    "duration": 45,
    "start_time": "2024-07-10T20:29:32.969Z"
   },
   {
    "duration": 6,
    "start_time": "2024-07-10T20:29:33.017Z"
   },
   {
    "duration": 42,
    "start_time": "2024-07-10T20:29:33.026Z"
   },
   {
    "duration": 7,
    "start_time": "2024-07-10T20:29:33.071Z"
   },
   {
    "duration": 5,
    "start_time": "2024-07-10T20:29:33.081Z"
   },
   {
    "duration": 1338,
    "start_time": "2024-07-10T20:29:33.090Z"
   },
   {
    "duration": 1324,
    "start_time": "2024-07-10T20:29:34.431Z"
   },
   {
    "duration": 41,
    "start_time": "2024-07-10T20:29:35.757Z"
   },
   {
    "duration": 15,
    "start_time": "2024-07-10T20:29:35.801Z"
   },
   {
    "duration": 10,
    "start_time": "2024-07-10T20:29:35.820Z"
   },
   {
    "duration": 14,
    "start_time": "2024-07-10T20:29:35.869Z"
   },
   {
    "duration": 22,
    "start_time": "2024-07-10T20:29:35.886Z"
   },
   {
    "duration": 10,
    "start_time": "2024-07-10T20:29:35.918Z"
   },
   {
    "duration": 16,
    "start_time": "2024-07-10T20:29:35.967Z"
   },
   {
    "duration": 26,
    "start_time": "2024-07-10T20:29:35.986Z"
   },
   {
    "duration": 81,
    "start_time": "2024-07-10T20:29:36.015Z"
   },
   {
    "duration": 21,
    "start_time": "2024-07-10T20:29:36.099Z"
   },
   {
    "duration": 667,
    "start_time": "2024-07-10T20:29:36.123Z"
   },
   {
    "duration": 145,
    "start_time": "2024-07-10T20:29:36.793Z"
   },
   {
    "duration": 11,
    "start_time": "2024-07-10T20:29:36.941Z"
   },
   {
    "duration": 23,
    "start_time": "2024-07-10T20:29:36.954Z"
   },
   {
    "duration": 418,
    "start_time": "2024-07-10T20:29:36.980Z"
   },
   {
    "duration": 262,
    "start_time": "2024-07-10T20:29:37.401Z"
   },
   {
    "duration": 444,
    "start_time": "2024-07-10T20:29:37.669Z"
   },
   {
    "duration": 12,
    "start_time": "2024-07-10T20:29:38.116Z"
   },
   {
    "duration": 11,
    "start_time": "2024-07-10T20:29:38.130Z"
   },
   {
    "duration": 14,
    "start_time": "2024-07-10T20:29:38.168Z"
   },
   {
    "duration": 484,
    "start_time": "2024-07-10T20:29:38.185Z"
   },
   {
    "duration": 75,
    "start_time": "2024-07-10T20:29:38.675Z"
   },
   {
    "duration": 376,
    "start_time": "2024-07-10T20:29:38.755Z"
   },
   {
    "duration": 10,
    "start_time": "2024-07-10T20:29:39.134Z"
   },
   {
    "duration": 20,
    "start_time": "2024-07-10T20:29:39.147Z"
   },
   {
    "duration": 20,
    "start_time": "2024-07-10T20:29:39.171Z"
   },
   {
    "duration": 529,
    "start_time": "2024-07-10T20:29:39.194Z"
   },
   {
    "duration": 9,
    "start_time": "2024-07-10T20:29:39.726Z"
   },
   {
    "duration": 439,
    "start_time": "2024-07-10T20:29:39.737Z"
   },
   {
    "duration": 810,
    "start_time": "2024-07-10T20:29:40.179Z"
   },
   {
    "duration": 788,
    "start_time": "2024-07-10T20:29:40.992Z"
   },
   {
    "duration": 12,
    "start_time": "2024-07-10T20:29:41.783Z"
   },
   {
    "duration": 8,
    "start_time": "2024-07-10T20:29:41.797Z"
   },
   {
    "duration": 5,
    "start_time": "2024-07-10T20:29:41.808Z"
   },
   {
    "duration": 811,
    "start_time": "2024-07-10T20:29:41.816Z"
   },
   {
    "duration": 8,
    "start_time": "2024-07-10T20:29:42.630Z"
   },
   {
    "duration": 1358,
    "start_time": "2024-07-10T20:29:42.641Z"
   },
   {
    "duration": 584,
    "start_time": "2024-07-10T20:29:44.002Z"
   },
   {
    "duration": 728,
    "start_time": "2024-07-10T20:32:01.569Z"
   },
   {
    "duration": 390,
    "start_time": "2024-07-10T20:32:21.556Z"
   },
   {
    "duration": 19,
    "start_time": "2024-07-10T20:32:43.835Z"
   },
   {
    "duration": 436,
    "start_time": "2024-07-10T20:34:30.559Z"
   },
   {
    "duration": 17,
    "start_time": "2024-07-10T20:34:34.729Z"
   },
   {
    "duration": 209,
    "start_time": "2024-07-10T20:39:43.505Z"
   },
   {
    "duration": 418,
    "start_time": "2024-07-10T20:40:02.105Z"
   },
   {
    "duration": 423,
    "start_time": "2024-07-10T20:43:04.101Z"
   },
   {
    "duration": 1532,
    "start_time": "2024-07-10T20:50:18.204Z"
   },
   {
    "duration": 217,
    "start_time": "2024-07-10T20:52:52.964Z"
   },
   {
    "duration": 6,
    "start_time": "2024-07-10T20:53:20.592Z"
   },
   {
    "duration": 5,
    "start_time": "2024-07-10T20:55:02.882Z"
   },
   {
    "duration": 26,
    "start_time": "2024-07-10T20:57:40.551Z"
   },
   {
    "duration": 762,
    "start_time": "2024-07-10T21:02:22.967Z"
   },
   {
    "duration": 150,
    "start_time": "2024-07-10T21:05:58.407Z"
   },
   {
    "duration": 17,
    "start_time": "2024-07-10T21:06:45.432Z"
   },
   {
    "duration": 129,
    "start_time": "2024-07-10T21:10:34.088Z"
   },
   {
    "duration": 10,
    "start_time": "2024-07-10T21:10:57.184Z"
   },
   {
    "duration": 18,
    "start_time": "2024-07-10T21:15:47.537Z"
   },
   {
    "duration": 13,
    "start_time": "2024-07-10T21:19:52.591Z"
   },
   {
    "duration": 37,
    "start_time": "2024-07-10T21:30:17.596Z"
   },
   {
    "duration": 877,
    "start_time": "2024-07-10T21:50:04.955Z"
   },
   {
    "duration": 4547,
    "start_time": "2024-07-13T02:58:03.783Z"
   },
   {
    "duration": 1712,
    "start_time": "2024-07-13T02:58:08.334Z"
   },
   {
    "duration": 25,
    "start_time": "2024-07-13T02:58:10.049Z"
   },
   {
    "duration": 38,
    "start_time": "2024-07-13T02:58:10.077Z"
   },
   {
    "duration": 16,
    "start_time": "2024-07-13T02:58:10.120Z"
   },
   {
    "duration": 17,
    "start_time": "2024-07-13T02:58:10.140Z"
   },
   {
    "duration": 80,
    "start_time": "2024-07-13T02:58:10.161Z"
   },
   {
    "duration": 200,
    "start_time": "2024-07-13T02:58:10.244Z"
   },
   {
    "duration": 160,
    "start_time": "2024-07-13T02:58:10.448Z"
   },
   {
    "duration": 207,
    "start_time": "2024-07-13T02:58:10.612Z"
   },
   {
    "duration": 195,
    "start_time": "2024-07-13T02:58:10.822Z"
   },
   {
    "duration": 103,
    "start_time": "2024-07-13T02:58:11.020Z"
   },
   {
    "duration": 25,
    "start_time": "2024-07-13T02:58:11.127Z"
   },
   {
    "duration": 7,
    "start_time": "2024-07-13T02:58:11.160Z"
   },
   {
    "duration": 65,
    "start_time": "2024-07-13T02:58:11.170Z"
   },
   {
    "duration": 71,
    "start_time": "2024-07-13T02:58:11.239Z"
   },
   {
    "duration": 6,
    "start_time": "2024-07-13T02:58:11.313Z"
   },
   {
    "duration": 8,
    "start_time": "2024-07-13T02:58:11.322Z"
   },
   {
    "duration": 6,
    "start_time": "2024-07-13T02:58:11.333Z"
   },
   {
    "duration": 7,
    "start_time": "2024-07-13T02:58:11.342Z"
   },
   {
    "duration": 1484,
    "start_time": "2024-07-13T02:58:11.352Z"
   },
   {
    "duration": 1436,
    "start_time": "2024-07-13T02:58:12.839Z"
   },
   {
    "duration": 54,
    "start_time": "2024-07-13T02:58:14.278Z"
   },
   {
    "duration": 16,
    "start_time": "2024-07-13T02:58:14.336Z"
   },
   {
    "duration": 12,
    "start_time": "2024-07-13T02:58:14.355Z"
   },
   {
    "duration": 14,
    "start_time": "2024-07-13T02:58:14.410Z"
   },
   {
    "duration": 24,
    "start_time": "2024-07-13T02:58:14.427Z"
   },
   {
    "duration": 10,
    "start_time": "2024-07-13T02:58:14.454Z"
   },
   {
    "duration": 51,
    "start_time": "2024-07-13T02:58:14.468Z"
   },
   {
    "duration": 29,
    "start_time": "2024-07-13T02:58:14.523Z"
   },
   {
    "duration": 93,
    "start_time": "2024-07-13T02:58:14.555Z"
   },
   {
    "duration": 20,
    "start_time": "2024-07-13T02:58:14.652Z"
   },
   {
    "duration": 736,
    "start_time": "2024-07-13T02:58:14.675Z"
   },
   {
    "duration": 151,
    "start_time": "2024-07-13T02:58:15.414Z"
   },
   {
    "duration": 11,
    "start_time": "2024-07-13T02:58:15.568Z"
   },
   {
    "duration": 31,
    "start_time": "2024-07-13T02:58:15.582Z"
   },
   {
    "duration": 448,
    "start_time": "2024-07-13T02:58:15.616Z"
   },
   {
    "duration": 277,
    "start_time": "2024-07-13T02:58:16.068Z"
   },
   {
    "duration": 453,
    "start_time": "2024-07-13T02:58:16.349Z"
   },
   {
    "duration": 14,
    "start_time": "2024-07-13T02:58:16.804Z"
   },
   {
    "duration": 12,
    "start_time": "2024-07-13T02:58:16.827Z"
   },
   {
    "duration": 13,
    "start_time": "2024-07-13T02:58:16.842Z"
   },
   {
    "duration": 592,
    "start_time": "2024-07-13T02:58:16.859Z"
   },
   {
    "duration": 78,
    "start_time": "2024-07-13T02:58:17.454Z"
   },
   {
    "duration": 383,
    "start_time": "2024-07-13T02:58:17.535Z"
   },
   {
    "duration": 12,
    "start_time": "2024-07-13T02:58:17.921Z"
   },
   {
    "duration": 4,
    "start_time": "2024-07-13T02:58:17.936Z"
   },
   {
    "duration": 20,
    "start_time": "2024-07-13T02:58:17.945Z"
   },
   {
    "duration": 528,
    "start_time": "2024-07-13T02:58:18.008Z"
   },
   {
    "duration": 11,
    "start_time": "2024-07-13T02:58:18.539Z"
   },
   {
    "duration": 457,
    "start_time": "2024-07-13T02:58:18.553Z"
   },
   {
    "duration": 810,
    "start_time": "2024-07-13T02:58:19.013Z"
   },
   {
    "duration": 790,
    "start_time": "2024-07-13T02:58:19.826Z"
   },
   {
    "duration": 13,
    "start_time": "2024-07-13T02:58:20.619Z"
   },
   {
    "duration": 7,
    "start_time": "2024-07-13T02:58:20.635Z"
   },
   {
    "duration": 4,
    "start_time": "2024-07-13T02:58:20.646Z"
   },
   {
    "duration": 825,
    "start_time": "2024-07-13T02:58:20.654Z"
   },
   {
    "duration": 9,
    "start_time": "2024-07-13T02:58:21.482Z"
   },
   {
    "duration": 50,
    "start_time": "2024-07-13T02:58:21.494Z"
   },
   {
    "duration": 1436,
    "start_time": "2024-07-13T02:58:21.547Z"
   },
   {
    "duration": 265,
    "start_time": "2024-07-13T02:58:22.986Z"
   },
   {
    "duration": 7,
    "start_time": "2024-07-13T02:58:23.253Z"
   },
   {
    "duration": 177,
    "start_time": "2024-07-13T02:58:23.264Z"
   },
   {
    "duration": 152,
    "start_time": "2024-07-13T02:58:23.444Z"
   },
   {
    "duration": 25,
    "start_time": "2024-07-13T02:58:23.599Z"
   },
   {
    "duration": 180,
    "start_time": "2024-07-13T03:01:45.000Z"
   },
   {
    "duration": 38,
    "start_time": "2024-07-13T03:03:46.314Z"
   },
   {
    "duration": 36,
    "start_time": "2024-07-13T03:04:19.495Z"
   },
   {
    "duration": 817,
    "start_time": "2024-07-13T03:05:24.261Z"
   },
   {
    "duration": 14,
    "start_time": "2024-07-13T03:05:41.679Z"
   },
   {
    "duration": 3,
    "start_time": "2024-07-13T03:05:44.326Z"
   },
   {
    "duration": 5,
    "start_time": "2024-07-13T03:06:01.754Z"
   },
   {
    "duration": 8,
    "start_time": "2024-07-13T03:06:46.870Z"
   },
   {
    "duration": 238,
    "start_time": "2024-07-13T03:07:07.655Z"
   },
   {
    "duration": 767,
    "start_time": "2024-07-13T03:08:00.013Z"
   },
   {
    "duration": 83,
    "start_time": "2024-07-13T03:09:16.766Z"
   },
   {
    "duration": 256,
    "start_time": "2024-07-13T03:09:22.125Z"
   },
   {
    "duration": 29,
    "start_time": "2024-07-13T03:09:43.590Z"
   },
   {
    "duration": 23,
    "start_time": "2024-07-13T03:10:08.410Z"
   },
   {
    "duration": 789,
    "start_time": "2024-07-13T03:11:52.265Z"
   },
   {
    "duration": 1817,
    "start_time": "2024-07-13T03:11:53.059Z"
   },
   {
    "duration": 36,
    "start_time": "2024-07-13T03:11:54.879Z"
   },
   {
    "duration": 28,
    "start_time": "2024-07-13T03:11:54.919Z"
   },
   {
    "duration": 17,
    "start_time": "2024-07-13T03:11:54.953Z"
   },
   {
    "duration": 47,
    "start_time": "2024-07-13T03:11:54.973Z"
   },
   {
    "duration": 45,
    "start_time": "2024-07-13T03:11:55.026Z"
   },
   {
    "duration": 225,
    "start_time": "2024-07-13T03:11:55.074Z"
   },
   {
    "duration": 150,
    "start_time": "2024-07-13T03:11:55.310Z"
   },
   {
    "duration": 221,
    "start_time": "2024-07-13T03:11:55.463Z"
   },
   {
    "duration": 220,
    "start_time": "2024-07-13T03:11:55.687Z"
   },
   {
    "duration": 111,
    "start_time": "2024-07-13T03:11:55.912Z"
   },
   {
    "duration": 36,
    "start_time": "2024-07-13T03:11:56.028Z"
   },
   {
    "duration": 7,
    "start_time": "2024-07-13T03:11:56.073Z"
   },
   {
    "duration": 45,
    "start_time": "2024-07-13T03:11:56.111Z"
   },
   {
    "duration": 80,
    "start_time": "2024-07-13T03:11:56.160Z"
   },
   {
    "duration": 11,
    "start_time": "2024-07-13T03:11:56.244Z"
   },
   {
    "duration": 6,
    "start_time": "2024-07-13T03:11:56.259Z"
   },
   {
    "duration": 7,
    "start_time": "2024-07-13T03:11:56.269Z"
   },
   {
    "duration": 8,
    "start_time": "2024-07-13T03:11:56.310Z"
   },
   {
    "duration": 1411,
    "start_time": "2024-07-13T03:11:56.323Z"
   },
   {
    "duration": 1357,
    "start_time": "2024-07-13T03:11:57.737Z"
   },
   {
    "duration": 48,
    "start_time": "2024-07-13T03:11:59.097Z"
   },
   {
    "duration": 15,
    "start_time": "2024-07-13T03:11:59.148Z"
   },
   {
    "duration": 11,
    "start_time": "2024-07-13T03:11:59.166Z"
   },
   {
    "duration": 13,
    "start_time": "2024-07-13T03:11:59.208Z"
   },
   {
    "duration": 23,
    "start_time": "2024-07-13T03:11:59.225Z"
   },
   {
    "duration": 10,
    "start_time": "2024-07-13T03:11:59.250Z"
   },
   {
    "duration": 61,
    "start_time": "2024-07-13T03:11:59.263Z"
   },
   {
    "duration": 29,
    "start_time": "2024-07-13T03:11:59.327Z"
   },
   {
    "duration": 79,
    "start_time": "2024-07-13T03:11:59.359Z"
   },
   {
    "duration": 20,
    "start_time": "2024-07-13T03:11:59.441Z"
   },
   {
    "duration": 686,
    "start_time": "2024-07-13T03:11:59.465Z"
   },
   {
    "duration": 146,
    "start_time": "2024-07-13T03:12:00.154Z"
   },
   {
    "duration": 15,
    "start_time": "2024-07-13T03:12:00.303Z"
   },
   {
    "duration": 12,
    "start_time": "2024-07-13T03:12:00.321Z"
   },
   {
    "duration": 441,
    "start_time": "2024-07-13T03:12:00.335Z"
   },
   {
    "duration": 275,
    "start_time": "2024-07-13T03:12:00.780Z"
   },
   {
    "duration": 449,
    "start_time": "2024-07-13T03:12:01.059Z"
   },
   {
    "duration": 12,
    "start_time": "2024-07-13T03:12:01.512Z"
   },
   {
    "duration": 13,
    "start_time": "2024-07-13T03:12:01.536Z"
   },
   {
    "duration": 13,
    "start_time": "2024-07-13T03:12:01.551Z"
   },
   {
    "duration": 513,
    "start_time": "2024-07-13T03:12:01.568Z"
   },
   {
    "duration": 81,
    "start_time": "2024-07-13T03:12:02.085Z"
   },
   {
    "duration": 391,
    "start_time": "2024-07-13T03:12:02.169Z"
   },
   {
    "duration": 848,
    "start_time": "2024-07-13T03:12:02.564Z"
   },
   {
    "duration": 4,
    "start_time": "2024-07-13T03:12:03.415Z"
   },
   {
    "duration": 466,
    "start_time": "2024-07-13T03:12:03.423Z"
   },
   {
    "duration": 0,
    "start_time": "2024-07-13T03:12:03.892Z"
   },
   {
    "duration": 0,
    "start_time": "2024-07-13T03:12:03.895Z"
   },
   {
    "duration": 0,
    "start_time": "2024-07-13T03:12:03.909Z"
   },
   {
    "duration": 0,
    "start_time": "2024-07-13T03:12:03.911Z"
   },
   {
    "duration": 0,
    "start_time": "2024-07-13T03:12:03.914Z"
   },
   {
    "duration": 0,
    "start_time": "2024-07-13T03:12:03.916Z"
   },
   {
    "duration": 0,
    "start_time": "2024-07-13T03:12:03.918Z"
   },
   {
    "duration": 0,
    "start_time": "2024-07-13T03:12:03.921Z"
   },
   {
    "duration": 0,
    "start_time": "2024-07-13T03:12:03.925Z"
   },
   {
    "duration": 0,
    "start_time": "2024-07-13T03:12:03.927Z"
   },
   {
    "duration": 0,
    "start_time": "2024-07-13T03:12:03.930Z"
   },
   {
    "duration": 0,
    "start_time": "2024-07-13T03:12:03.933Z"
   },
   {
    "duration": 0,
    "start_time": "2024-07-13T03:12:03.935Z"
   },
   {
    "duration": 0,
    "start_time": "2024-07-13T03:12:03.937Z"
   },
   {
    "duration": 0,
    "start_time": "2024-07-13T03:12:03.939Z"
   },
   {
    "duration": 0,
    "start_time": "2024-07-13T03:12:03.941Z"
   },
   {
    "duration": 0,
    "start_time": "2024-07-13T03:12:03.943Z"
   },
   {
    "duration": 0,
    "start_time": "2024-07-13T03:12:03.947Z"
   },
   {
    "duration": 0,
    "start_time": "2024-07-13T03:12:03.949Z"
   },
   {
    "duration": 4,
    "start_time": "2024-07-13T03:12:29.047Z"
   },
   {
    "duration": 1536,
    "start_time": "2024-07-13T03:12:29.055Z"
   },
   {
    "duration": 29,
    "start_time": "2024-07-13T03:12:30.595Z"
   },
   {
    "duration": 21,
    "start_time": "2024-07-13T03:12:30.627Z"
   },
   {
    "duration": 57,
    "start_time": "2024-07-13T03:12:30.653Z"
   },
   {
    "duration": 24,
    "start_time": "2024-07-13T03:12:30.716Z"
   },
   {
    "duration": 65,
    "start_time": "2024-07-13T03:12:30.744Z"
   },
   {
    "duration": 187,
    "start_time": "2024-07-13T03:12:30.813Z"
   },
   {
    "duration": 137,
    "start_time": "2024-07-13T03:12:31.003Z"
   },
   {
    "duration": 185,
    "start_time": "2024-07-13T03:12:31.143Z"
   },
   {
    "duration": 211,
    "start_time": "2024-07-13T03:12:31.332Z"
   },
   {
    "duration": 110,
    "start_time": "2024-07-13T03:12:31.547Z"
   },
   {
    "duration": 41,
    "start_time": "2024-07-13T03:12:31.672Z"
   },
   {
    "duration": 10,
    "start_time": "2024-07-13T03:12:31.716Z"
   },
   {
    "duration": 85,
    "start_time": "2024-07-13T03:12:31.730Z"
   },
   {
    "duration": 55,
    "start_time": "2024-07-13T03:12:31.819Z"
   },
   {
    "duration": 32,
    "start_time": "2024-07-13T03:12:31.877Z"
   },
   {
    "duration": 7,
    "start_time": "2024-07-13T03:12:31.915Z"
   },
   {
    "duration": 6,
    "start_time": "2024-07-13T03:12:31.926Z"
   },
   {
    "duration": 6,
    "start_time": "2024-07-13T03:12:31.937Z"
   },
   {
    "duration": 1616,
    "start_time": "2024-07-13T03:12:31.948Z"
   },
   {
    "duration": 1442,
    "start_time": "2024-07-13T03:12:33.567Z"
   },
   {
    "duration": 53,
    "start_time": "2024-07-13T03:12:35.012Z"
   },
   {
    "duration": 41,
    "start_time": "2024-07-13T03:12:35.068Z"
   },
   {
    "duration": 13,
    "start_time": "2024-07-13T03:12:35.113Z"
   },
   {
    "duration": 17,
    "start_time": "2024-07-13T03:12:35.129Z"
   },
   {
    "duration": 76,
    "start_time": "2024-07-13T03:12:35.150Z"
   },
   {
    "duration": 10,
    "start_time": "2024-07-13T03:12:35.233Z"
   },
   {
    "duration": 18,
    "start_time": "2024-07-13T03:12:35.249Z"
   },
   {
    "duration": 64,
    "start_time": "2024-07-13T03:12:35.270Z"
   },
   {
    "duration": 72,
    "start_time": "2024-07-13T03:12:35.337Z"
   },
   {
    "duration": 20,
    "start_time": "2024-07-13T03:12:35.413Z"
   },
   {
    "duration": 762,
    "start_time": "2024-07-13T03:12:35.436Z"
   },
   {
    "duration": 151,
    "start_time": "2024-07-13T03:12:36.208Z"
   },
   {
    "duration": 11,
    "start_time": "2024-07-13T03:12:36.364Z"
   },
   {
    "duration": 33,
    "start_time": "2024-07-13T03:12:36.379Z"
   },
   {
    "duration": 408,
    "start_time": "2024-07-13T03:12:36.423Z"
   },
   {
    "duration": 272,
    "start_time": "2024-07-13T03:12:36.834Z"
   },
   {
    "duration": 458,
    "start_time": "2024-07-13T03:12:37.109Z"
   },
   {
    "duration": 11,
    "start_time": "2024-07-13T03:12:37.571Z"
   },
   {
    "duration": 27,
    "start_time": "2024-07-13T03:12:37.586Z"
   },
   {
    "duration": 12,
    "start_time": "2024-07-13T03:12:37.616Z"
   },
   {
    "duration": 499,
    "start_time": "2024-07-13T03:12:37.631Z"
   },
   {
    "duration": 79,
    "start_time": "2024-07-13T03:12:38.134Z"
   },
   {
    "duration": 396,
    "start_time": "2024-07-13T03:12:38.216Z"
   },
   {
    "duration": 864,
    "start_time": "2024-07-13T03:12:38.616Z"
   },
   {
    "duration": 3,
    "start_time": "2024-07-13T03:12:39.484Z"
   },
   {
    "duration": 19,
    "start_time": "2024-07-13T03:12:39.490Z"
   },
   {
    "duration": 3,
    "start_time": "2024-07-13T03:12:39.512Z"
   },
   {
    "duration": 4,
    "start_time": "2024-07-13T03:12:39.518Z"
   },
   {
    "duration": 569,
    "start_time": "2024-07-13T03:12:39.525Z"
   },
   {
    "duration": 14,
    "start_time": "2024-07-13T03:12:40.097Z"
   },
   {
    "duration": 448,
    "start_time": "2024-07-13T03:12:40.114Z"
   },
   {
    "duration": 818,
    "start_time": "2024-07-13T03:12:40.565Z"
   },
   {
    "duration": 810,
    "start_time": "2024-07-13T03:12:41.386Z"
   },
   {
    "duration": 19,
    "start_time": "2024-07-13T03:12:42.199Z"
   },
   {
    "duration": 20,
    "start_time": "2024-07-13T03:12:42.221Z"
   },
   {
    "duration": 18,
    "start_time": "2024-07-13T03:12:42.245Z"
   },
   {
    "duration": 812,
    "start_time": "2024-07-13T03:12:42.266Z"
   },
   {
    "duration": 10,
    "start_time": "2024-07-13T03:12:43.082Z"
   },
   {
    "duration": 44,
    "start_time": "2024-07-13T03:12:43.108Z"
   },
   {
    "duration": 1584,
    "start_time": "2024-07-13T03:12:43.155Z"
   },
   {
    "duration": 267,
    "start_time": "2024-07-13T03:12:44.742Z"
   },
   {
    "duration": 9,
    "start_time": "2024-07-13T03:12:45.012Z"
   },
   {
    "duration": 168,
    "start_time": "2024-07-13T03:12:45.024Z"
   },
   {
    "duration": 168,
    "start_time": "2024-07-13T03:12:45.196Z"
   },
   {
    "duration": 16,
    "start_time": "2024-07-13T03:12:45.367Z"
   },
   {
    "duration": 787,
    "start_time": "2024-07-13T03:13:02.431Z"
   },
   {
    "duration": 7,
    "start_time": "2024-07-13T03:13:08.350Z"
   },
   {
    "duration": 713,
    "start_time": "2024-07-13T03:13:27.644Z"
   },
   {
    "duration": 8,
    "start_time": "2024-07-13T03:13:28.360Z"
   },
   {
    "duration": 3,
    "start_time": "2024-07-13T03:13:45.046Z"
   },
   {
    "duration": 7,
    "start_time": "2024-07-13T03:13:53.645Z"
   },
   {
    "duration": 381,
    "start_time": "2024-07-13T03:14:46.504Z"
   },
   {
    "duration": 449,
    "start_time": "2024-07-13T03:14:59.764Z"
   },
   {
    "duration": 8,
    "start_time": "2024-07-13T03:15:27.380Z"
   },
   {
    "duration": 75,
    "start_time": "2024-07-13T03:15:44.431Z"
   },
   {
    "duration": 332,
    "start_time": "2024-07-13T03:22:43.062Z"
   },
   {
    "duration": 831,
    "start_time": "2024-07-13T03:24:24.075Z"
   },
   {
    "duration": 1826,
    "start_time": "2024-07-13T03:24:24.912Z"
   },
   {
    "duration": 26,
    "start_time": "2024-07-13T03:24:26.741Z"
   },
   {
    "duration": 49,
    "start_time": "2024-07-13T03:24:26.772Z"
   },
   {
    "duration": 18,
    "start_time": "2024-07-13T03:24:26.827Z"
   },
   {
    "duration": 22,
    "start_time": "2024-07-13T03:24:26.848Z"
   },
   {
    "duration": 88,
    "start_time": "2024-07-13T03:24:26.873Z"
   },
   {
    "duration": 199,
    "start_time": "2024-07-13T03:24:26.964Z"
   },
   {
    "duration": 144,
    "start_time": "2024-07-13T03:24:27.166Z"
   },
   {
    "duration": 233,
    "start_time": "2024-07-13T03:24:27.315Z"
   },
   {
    "duration": 195,
    "start_time": "2024-07-13T03:24:27.552Z"
   },
   {
    "duration": 91,
    "start_time": "2024-07-13T03:24:27.751Z"
   },
   {
    "duration": 26,
    "start_time": "2024-07-13T03:24:27.846Z"
   },
   {
    "duration": 30,
    "start_time": "2024-07-13T03:24:27.880Z"
   },
   {
    "duration": 39,
    "start_time": "2024-07-13T03:24:27.915Z"
   },
   {
    "duration": 87,
    "start_time": "2024-07-13T03:24:27.957Z"
   },
   {
    "duration": 8,
    "start_time": "2024-07-13T03:24:28.048Z"
   },
   {
    "duration": 6,
    "start_time": "2024-07-13T03:24:28.059Z"
   },
   {
    "duration": 42,
    "start_time": "2024-07-13T03:24:28.069Z"
   },
   {
    "duration": 7,
    "start_time": "2024-07-13T03:24:28.115Z"
   },
   {
    "duration": 1397,
    "start_time": "2024-07-13T03:24:28.124Z"
   },
   {
    "duration": 1435,
    "start_time": "2024-07-13T03:24:29.525Z"
   },
   {
    "duration": 79,
    "start_time": "2024-07-13T03:24:30.963Z"
   },
   {
    "duration": 18,
    "start_time": "2024-07-13T03:24:31.047Z"
   },
   {
    "duration": 13,
    "start_time": "2024-07-13T03:24:31.068Z"
   },
   {
    "duration": 17,
    "start_time": "2024-07-13T03:24:31.109Z"
   },
   {
    "duration": 28,
    "start_time": "2024-07-13T03:24:31.129Z"
   },
   {
    "duration": 50,
    "start_time": "2024-07-13T03:24:31.161Z"
   },
   {
    "duration": 20,
    "start_time": "2024-07-13T03:24:31.214Z"
   },
   {
    "duration": 33,
    "start_time": "2024-07-13T03:24:31.237Z"
   },
   {
    "duration": 62,
    "start_time": "2024-07-13T03:24:31.309Z"
   },
   {
    "duration": 44,
    "start_time": "2024-07-13T03:24:31.375Z"
   },
   {
    "duration": 729,
    "start_time": "2024-07-13T03:24:31.422Z"
   },
   {
    "duration": 168,
    "start_time": "2024-07-13T03:24:32.156Z"
   },
   {
    "duration": 13,
    "start_time": "2024-07-13T03:24:32.330Z"
   },
   {
    "duration": 13,
    "start_time": "2024-07-13T03:24:32.347Z"
   },
   {
    "duration": 442,
    "start_time": "2024-07-13T03:24:32.362Z"
   },
   {
    "duration": 303,
    "start_time": "2024-07-13T03:24:32.810Z"
   },
   {
    "duration": 502,
    "start_time": "2024-07-13T03:24:33.117Z"
   },
   {
    "duration": 13,
    "start_time": "2024-07-13T03:24:33.624Z"
   },
   {
    "duration": 13,
    "start_time": "2024-07-13T03:24:33.650Z"
   },
   {
    "duration": 47,
    "start_time": "2024-07-13T03:24:33.667Z"
   },
   {
    "duration": 535,
    "start_time": "2024-07-13T03:24:33.717Z"
   },
   {
    "duration": 90,
    "start_time": "2024-07-13T03:24:34.254Z"
   },
   {
    "duration": 527,
    "start_time": "2024-07-13T03:24:34.347Z"
   },
   {
    "duration": 892,
    "start_time": "2024-07-13T03:24:34.881Z"
   },
   {
    "duration": 812,
    "start_time": "2024-07-13T03:24:35.776Z"
   },
   {
    "duration": 23,
    "start_time": "2024-07-13T03:24:36.591Z"
   },
   {
    "duration": 13,
    "start_time": "2024-07-13T03:24:36.617Z"
   },
   {
    "duration": 577,
    "start_time": "2024-07-13T03:24:36.633Z"
   },
   {
    "duration": 10,
    "start_time": "2024-07-13T03:24:37.213Z"
   },
   {
    "duration": 490,
    "start_time": "2024-07-13T03:24:37.225Z"
   },
   {
    "duration": 884,
    "start_time": "2024-07-13T03:24:37.720Z"
   },
   {
    "duration": 831,
    "start_time": "2024-07-13T03:24:38.610Z"
   },
   {
    "duration": 15,
    "start_time": "2024-07-13T03:24:39.444Z"
   },
   {
    "duration": 8,
    "start_time": "2024-07-13T03:24:39.463Z"
   },
   {
    "duration": 36,
    "start_time": "2024-07-13T03:24:39.474Z"
   },
   {
    "duration": 848,
    "start_time": "2024-07-13T03:24:39.513Z"
   },
   {
    "duration": 9,
    "start_time": "2024-07-13T03:24:40.364Z"
   },
   {
    "duration": 57,
    "start_time": "2024-07-13T03:24:40.376Z"
   },
   {
    "duration": 1533,
    "start_time": "2024-07-13T03:24:40.437Z"
   },
   {
    "duration": 261,
    "start_time": "2024-07-13T03:24:41.973Z"
   },
   {
    "duration": 6,
    "start_time": "2024-07-13T03:24:42.236Z"
   },
   {
    "duration": 162,
    "start_time": "2024-07-13T03:24:42.246Z"
   },
   {
    "duration": 153,
    "start_time": "2024-07-13T03:24:42.411Z"
   },
   {
    "duration": 15,
    "start_time": "2024-07-13T03:24:42.567Z"
   },
   {
    "duration": 7,
    "start_time": "2024-07-13T03:26:02.004Z"
   }
  ],
  "colab": {
   "provenance": []
  },
  "kernelspec": {
   "display_name": "Python 3 (ipykernel)",
   "language": "python",
   "name": "python3"
  },
  "language_info": {
   "codemirror_mode": {
    "name": "ipython",
    "version": 3
   },
   "file_extension": ".py",
   "mimetype": "text/x-python",
   "name": "python",
   "nbconvert_exporter": "python",
   "pygments_lexer": "ipython3",
   "version": "3.11.9"
  },
  "toc": {
   "base_numbering": 1,
   "nav_menu": {},
   "number_sections": true,
   "sideBar": true,
   "skip_h1_title": true,
   "title_cell": "Table of Contents",
   "title_sidebar": "Contents",
   "toc_cell": false,
   "toc_position": {},
   "toc_section_display": true,
   "toc_window_display": false
  },
  "vscode": {
   "interpreter": {
    "hash": "01a7be9ec63e704a62cefc5fe7a4756944464ee731be31632bdf42a4cb4688cf"
   }
  }
 },
 "nbformat": 4,
 "nbformat_minor": 5
}
