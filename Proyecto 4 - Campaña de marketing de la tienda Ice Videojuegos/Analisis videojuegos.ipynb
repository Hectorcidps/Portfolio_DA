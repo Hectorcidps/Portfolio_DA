{
 "cells": [
  {
   "cell_type": "markdown",
   "metadata": {},
   "source": [
    "# 1. Descripción del proyecto \n",
    "\n",
    "Trabajas para la tienda online Ice que vende videojuegos por todo el mundo. Las reseñas de usuarios y expertos, los géneros, las plataformas (por ejemplo, Xbox o PlayStation) y los datos históricos sobre las ventas de juegos están disponibles en fuentes abiertas. Tienes que identificar patrones que determinen si un juego tiene éxito o no. Esto te permitirá detectar proyectos prometedores y planificar campañas publicitarias.\n",
    "\n",
    "Delante de ti hay datos que se remontan a 2016. Imaginemos que es diciembre de 2016 y estás planeando una campaña para 2017.\n",
    "\n",
    "Lo importante es adquirir experiencia de trabajo con datos. Realmente no importa si estás pronosticando las ventas de 2017 en función de los datos de 2016 o las ventas de 2027 en función de los datos de 2026.\n",
    "\n",
    "El dataset contiene una columna \"rating\" que almacena la clasificación ESRB de cada juego. El Entertainment Software Rating Board (la Junta de clasificación de software de entretenimiento) evalúa el contenido de un juego y asigna una clasificación de edad como Adolescente o Adulto."
   ]
  },
  {
   "cell_type": "markdown",
   "metadata": {},
   "source": [
    "# 2.  Diccionario de los datos\n",
    "\n",
    "— Name (Nombre)\n",
    "\n",
    "— Platform (Plataforma)\n",
    "\n",
    "— Year_of_Release (Año de lanzamiento)\n",
    "\n",
    "— Genre (Género) \n",
    "\n",
    "— NA_sales (ventas en Norteamérica en millones de dólares estadounidenses) \n",
    "\n",
    "— EU_sales (ventas en Europa en millones de dólares estadounidenses) \n",
    "\n",
    "— JP_sales (ventas en Japón en millones de dólares estadounidenses) \n",
    "\n",
    "— Other_sales (ventas en otros países en millones de dólares estadounidenses) \n",
    "\n",
    "— Critic_Score (máximo de 100) \n",
    "\n",
    "— User_Score (máximo de 10) \n",
    "\n",
    "— Rating (ESRB)"
   ]
  },
  {
   "cell_type": "markdown",
   "metadata": {},
   "source": [
    "# 3. Información general"
   ]
  },
  {
   "cell_type": "code",
   "execution_count": 1,
   "metadata": {
    "tags": [
     "e5c1f0c2-db9f-43a0-99b9-4875c52427e8"
    ]
   },
   "outputs": [],
   "source": [
    "# Importar librerias con las que se trabajara \n",
    "import pandas as pd \n",
    "import matplotlib.pyplot as plt \n",
    "import scipy.stats as st \n",
    "import numpy as np\n",
    "import seaborn as sns"
   ]
  },
  {
   "cell_type": "code",
   "execution_count": 2,
   "metadata": {},
   "outputs": [],
   "source": [
    "# Abrir el archivo\n",
    "df_games = pd.read_csv('./datasets/games.csv')"
   ]
  },
  {
   "cell_type": "code",
   "execution_count": 3,
   "metadata": {
    "scrolled": false
   },
   "outputs": [
    {
     "name": "stdout",
     "output_type": "stream",
     "text": [
      "                       Name Platform  Year_of_Release         Genre  NA_sales  \\\n",
      "0                Wii Sports      Wii           2006.0        Sports     41.36   \n",
      "1         Super Mario Bros.      NES           1985.0      Platform     29.08   \n",
      "2            Mario Kart Wii      Wii           2008.0        Racing     15.68   \n",
      "3         Wii Sports Resort      Wii           2009.0        Sports     15.61   \n",
      "4  Pokemon Red/Pokemon Blue       GB           1996.0  Role-Playing     11.27   \n",
      "\n",
      "   EU_sales  JP_sales  Other_sales  Critic_Score User_Score Rating  \n",
      "0     28.96      3.77         8.45          76.0          8      E  \n",
      "1      3.58      6.81         0.77           NaN        NaN    NaN  \n",
      "2     12.76      3.79         3.29          82.0        8.3      E  \n",
      "3     10.93      3.28         2.95          80.0          8      E  \n",
      "4      8.89     10.22         1.00           NaN        NaN    NaN  \n",
      "<class 'pandas.core.frame.DataFrame'>\n",
      "RangeIndex: 16715 entries, 0 to 16714\n",
      "Data columns (total 11 columns):\n",
      " #   Column           Non-Null Count  Dtype  \n",
      "---  ------           --------------  -----  \n",
      " 0   Name             16713 non-null  object \n",
      " 1   Platform         16715 non-null  object \n",
      " 2   Year_of_Release  16446 non-null  float64\n",
      " 3   Genre            16713 non-null  object \n",
      " 4   NA_sales         16715 non-null  float64\n",
      " 5   EU_sales         16715 non-null  float64\n",
      " 6   JP_sales         16715 non-null  float64\n",
      " 7   Other_sales      16715 non-null  float64\n",
      " 8   Critic_Score     8137 non-null   float64\n",
      " 9   User_Score       10014 non-null  object \n",
      " 10  Rating           9949 non-null   object \n",
      "dtypes: float64(6), object(5)\n",
      "memory usage: 1.4+ MB\n"
     ]
    },
    {
     "data": {
      "text/html": [
       "<div>\n",
       "<style scoped>\n",
       "    .dataframe tbody tr th:only-of-type {\n",
       "        vertical-align: middle;\n",
       "    }\n",
       "\n",
       "    .dataframe tbody tr th {\n",
       "        vertical-align: top;\n",
       "    }\n",
       "\n",
       "    .dataframe thead th {\n",
       "        text-align: right;\n",
       "    }\n",
       "</style>\n",
       "<table border=\"1\" class=\"dataframe\">\n",
       "  <thead>\n",
       "    <tr style=\"text-align: right;\">\n",
       "      <th></th>\n",
       "      <th>Year_of_Release</th>\n",
       "      <th>NA_sales</th>\n",
       "      <th>EU_sales</th>\n",
       "      <th>JP_sales</th>\n",
       "      <th>Other_sales</th>\n",
       "      <th>Critic_Score</th>\n",
       "    </tr>\n",
       "  </thead>\n",
       "  <tbody>\n",
       "    <tr>\n",
       "      <th>count</th>\n",
       "      <td>16446.000000</td>\n",
       "      <td>16715.000000</td>\n",
       "      <td>16715.000000</td>\n",
       "      <td>16715.000000</td>\n",
       "      <td>16715.000000</td>\n",
       "      <td>8137.000000</td>\n",
       "    </tr>\n",
       "    <tr>\n",
       "      <th>mean</th>\n",
       "      <td>2006.484616</td>\n",
       "      <td>0.263377</td>\n",
       "      <td>0.145060</td>\n",
       "      <td>0.077617</td>\n",
       "      <td>0.047342</td>\n",
       "      <td>68.967679</td>\n",
       "    </tr>\n",
       "    <tr>\n",
       "      <th>std</th>\n",
       "      <td>5.877050</td>\n",
       "      <td>0.813604</td>\n",
       "      <td>0.503339</td>\n",
       "      <td>0.308853</td>\n",
       "      <td>0.186731</td>\n",
       "      <td>13.938165</td>\n",
       "    </tr>\n",
       "    <tr>\n",
       "      <th>min</th>\n",
       "      <td>1980.000000</td>\n",
       "      <td>0.000000</td>\n",
       "      <td>0.000000</td>\n",
       "      <td>0.000000</td>\n",
       "      <td>0.000000</td>\n",
       "      <td>13.000000</td>\n",
       "    </tr>\n",
       "    <tr>\n",
       "      <th>25%</th>\n",
       "      <td>2003.000000</td>\n",
       "      <td>0.000000</td>\n",
       "      <td>0.000000</td>\n",
       "      <td>0.000000</td>\n",
       "      <td>0.000000</td>\n",
       "      <td>60.000000</td>\n",
       "    </tr>\n",
       "    <tr>\n",
       "      <th>50%</th>\n",
       "      <td>2007.000000</td>\n",
       "      <td>0.080000</td>\n",
       "      <td>0.020000</td>\n",
       "      <td>0.000000</td>\n",
       "      <td>0.010000</td>\n",
       "      <td>71.000000</td>\n",
       "    </tr>\n",
       "    <tr>\n",
       "      <th>75%</th>\n",
       "      <td>2010.000000</td>\n",
       "      <td>0.240000</td>\n",
       "      <td>0.110000</td>\n",
       "      <td>0.040000</td>\n",
       "      <td>0.030000</td>\n",
       "      <td>79.000000</td>\n",
       "    </tr>\n",
       "    <tr>\n",
       "      <th>max</th>\n",
       "      <td>2016.000000</td>\n",
       "      <td>41.360000</td>\n",
       "      <td>28.960000</td>\n",
       "      <td>10.220000</td>\n",
       "      <td>10.570000</td>\n",
       "      <td>98.000000</td>\n",
       "    </tr>\n",
       "  </tbody>\n",
       "</table>\n",
       "</div>"
      ],
      "text/plain": [
       "       Year_of_Release      NA_sales      EU_sales      JP_sales  \\\n",
       "count     16446.000000  16715.000000  16715.000000  16715.000000   \n",
       "mean       2006.484616      0.263377      0.145060      0.077617   \n",
       "std           5.877050      0.813604      0.503339      0.308853   \n",
       "min        1980.000000      0.000000      0.000000      0.000000   \n",
       "25%        2003.000000      0.000000      0.000000      0.000000   \n",
       "50%        2007.000000      0.080000      0.020000      0.000000   \n",
       "75%        2010.000000      0.240000      0.110000      0.040000   \n",
       "max        2016.000000     41.360000     28.960000     10.220000   \n",
       "\n",
       "        Other_sales  Critic_Score  \n",
       "count  16715.000000   8137.000000  \n",
       "mean       0.047342     68.967679  \n",
       "std        0.186731     13.938165  \n",
       "min        0.000000     13.000000  \n",
       "25%        0.000000     60.000000  \n",
       "50%        0.010000     71.000000  \n",
       "75%        0.030000     79.000000  \n",
       "max       10.570000     98.000000  "
      ]
     },
     "execution_count": 3,
     "metadata": {},
     "output_type": "execute_result"
    }
   ],
   "source": [
    "# Informacion general del DF \n",
    "print(df_games.head())\n",
    "df_games.info()\n",
    "df_games.describe()"
   ]
  },
  {
   "cell_type": "markdown",
   "metadata": {},
   "source": [
    "# 4. Preparar los datos "
   ]
  },
  {
   "cell_type": "code",
   "execution_count": 4,
   "metadata": {},
   "outputs": [
    {
     "name": "stdout",
     "output_type": "stream",
     "text": [
      "0\n"
     ]
    }
   ],
   "source": [
    "# verificar valores duplicados\n",
    "df_duplicados = df_games.duplicated().sum()\n",
    "print(df_duplicados)"
   ]
  },
  {
   "cell_type": "code",
   "execution_count": 5,
   "metadata": {
    "scrolled": false
   },
   "outputs": [
    {
     "name": "stdout",
     "output_type": "stream",
     "text": [
      "Name                  2\n",
      "Platform              0\n",
      "Year_of_Release     269\n",
      "Genre                 2\n",
      "NA_sales              0\n",
      "EU_sales              0\n",
      "JP_sales              0\n",
      "Other_sales           0\n",
      "Critic_Score       8578\n",
      "User_Score         6701\n",
      "Rating             6766\n",
      "dtype: int64\n"
     ]
    }
   ],
   "source": [
    "# verificar valores ausentes en las columnas \n",
    "df_ausentes = df_games.isna().sum()\n",
    "print(df_ausentes)"
   ]
  },
  {
   "cell_type": "code",
   "execution_count": 6,
   "metadata": {},
   "outputs": [],
   "source": [
    "# reemplazar los nombres a minusculas \n",
    "df_games.columns = df_games.columns.str.lower()"
   ]
  },
  {
   "cell_type": "code",
   "execution_count": 7,
   "metadata": {},
   "outputs": [
    {
     "name": "stdout",
     "output_type": "stream",
     "text": [
      "                       name platform  year_of_release         genre  na_sales  \\\n",
      "0                Wii Sports      Wii           2006.0        Sports     41.36   \n",
      "1         Super Mario Bros.      NES           1985.0      Platform     29.08   \n",
      "2            Mario Kart Wii      Wii           2008.0        Racing     15.68   \n",
      "3         Wii Sports Resort      Wii           2009.0        Sports     15.61   \n",
      "4  Pokemon Red/Pokemon Blue       GB           1996.0  Role-Playing     11.27   \n",
      "\n",
      "   eu_sales  jp_sales  other_sales  critic_score user_score rating  \n",
      "0     28.96      3.77         8.45          76.0          8      E  \n",
      "1      3.58      6.81         0.77           NaN        NaN    NaN  \n",
      "2     12.76      3.79         3.29          82.0        8.3      E  \n",
      "3     10.93      3.28         2.95          80.0          8      E  \n",
      "4      8.89     10.22         1.00           NaN        NaN    NaN  \n"
     ]
    }
   ],
   "source": [
    "# comprobar que las columnas del DF esten en minusculas\n",
    "print(df_games.head())"
   ]
  },
  {
   "cell_type": "markdown",
   "metadata": {},
   "source": [
    "# 4.1 Series 'year_of_release'"
   ]
  },
  {
   "cell_type": "code",
   "execution_count": 8,
   "metadata": {},
   "outputs": [],
   "source": [
    "# En la columna year_of_release los valores ausentes dejarlos en 0 y convertirlos a int\n",
    "df_games['year_of_release'] = df_games['year_of_release'].fillna(0).astype('int')"
   ]
  },
  {
   "cell_type": "code",
   "execution_count": 9,
   "metadata": {},
   "outputs": [
    {
     "name": "stdout",
     "output_type": "stream",
     "text": [
      "<class 'pandas.core.frame.DataFrame'>\n",
      "RangeIndex: 16715 entries, 0 to 16714\n",
      "Data columns (total 11 columns):\n",
      " #   Column           Non-Null Count  Dtype  \n",
      "---  ------           --------------  -----  \n",
      " 0   name             16713 non-null  object \n",
      " 1   platform         16715 non-null  object \n",
      " 2   year_of_release  16715 non-null  int64  \n",
      " 3   genre            16713 non-null  object \n",
      " 4   na_sales         16715 non-null  float64\n",
      " 5   eu_sales         16715 non-null  float64\n",
      " 6   jp_sales         16715 non-null  float64\n",
      " 7   other_sales      16715 non-null  float64\n",
      " 8   critic_score     8137 non-null   float64\n",
      " 9   user_score       10014 non-null  object \n",
      " 10  rating           9949 non-null   object \n",
      "dtypes: float64(5), int64(1), object(5)\n",
      "memory usage: 1.4+ MB\n"
     ]
    }
   ],
   "source": [
    "df_games.info()"
   ]
  },
  {
   "cell_type": "markdown",
   "metadata": {},
   "source": [
    "<span style=\"color:blue; font-weight:bold\">\n",
    "En la columna 'year' decidi modificar el tipo de datos de float a int, esto para facilitar el análisis que realizare posteriormente, como primer paso rellene los valores ausentes con 0, debido a que solo encontre 269 valores, lo cual no son de gran relevancia. Después cambie el tipo de dato de float a int \n",
    "</span>"
   ]
  },
  {
   "cell_type": "markdown",
   "metadata": {},
   "source": [
    "# 4. 2 Series 'user_score'"
   ]
  },
  {
   "cell_type": "code",
   "execution_count": 10,
   "metadata": {},
   "outputs": [
    {
     "data": {
      "text/plain": [
       "array(['8', nan, '8.3', '8.5', '6.6', '8.4', '8.6', '7.7', '6.3', '7.4',\n",
       "       '8.2', '9', '7.9', '8.1', '8.7', '7.1', '3.4', '5.3', '4.8', '3.2',\n",
       "       '8.9', '6.4', '7.8', '7.5', '2.6', '7.2', '9.2', '7', '7.3', '4.3',\n",
       "       '7.6', '5.7', '5', '9.1', '6.5', 'tbd', '8.8', '6.9', '9.4', '6.8',\n",
       "       '6.1', '6.7', '5.4', '4', '4.9', '4.5', '9.3', '6.2', '4.2', '6',\n",
       "       '3.7', '4.1', '5.8', '5.6', '5.5', '4.4', '4.6', '5.9', '3.9',\n",
       "       '3.1', '2.9', '5.2', '3.3', '4.7', '5.1', '3.5', '2.5', '1.9', '3',\n",
       "       '2.7', '2.2', '2', '9.5', '2.1', '3.6', '2.8', '1.8', '3.8', '0',\n",
       "       '1.6', '9.6', '2.4', '1.7', '1.1', '0.3', '1.5', '0.7', '1.2',\n",
       "       '2.3', '0.5', '1.3', '0.2', '0.6', '1.4', '0.9', '1', '9.7'],\n",
       "      dtype=object)"
      ]
     },
     "execution_count": 10,
     "metadata": {},
     "output_type": "execute_result"
    }
   ],
   "source": [
    "# Verificar los valores unicos de la columna user_score\n",
    "df_games['user_score'].unique()"
   ]
  },
  {
   "cell_type": "code",
   "execution_count": 11,
   "metadata": {},
   "outputs": [
    {
     "data": {
      "text/html": [
       "<div>\n",
       "<style scoped>\n",
       "    .dataframe tbody tr th:only-of-type {\n",
       "        vertical-align: middle;\n",
       "    }\n",
       "\n",
       "    .dataframe tbody tr th {\n",
       "        vertical-align: top;\n",
       "    }\n",
       "\n",
       "    .dataframe thead th {\n",
       "        text-align: right;\n",
       "    }\n",
       "</style>\n",
       "<table border=\"1\" class=\"dataframe\">\n",
       "  <thead>\n",
       "    <tr style=\"text-align: right;\">\n",
       "      <th></th>\n",
       "      <th>name</th>\n",
       "      <th>platform</th>\n",
       "      <th>year_of_release</th>\n",
       "      <th>genre</th>\n",
       "      <th>na_sales</th>\n",
       "      <th>eu_sales</th>\n",
       "      <th>jp_sales</th>\n",
       "      <th>other_sales</th>\n",
       "      <th>critic_score</th>\n",
       "      <th>user_score</th>\n",
       "      <th>rating</th>\n",
       "    </tr>\n",
       "  </thead>\n",
       "  <tbody>\n",
       "    <tr>\n",
       "      <th>119</th>\n",
       "      <td>Zumba Fitness</td>\n",
       "      <td>Wii</td>\n",
       "      <td>2010</td>\n",
       "      <td>Sports</td>\n",
       "      <td>3.45</td>\n",
       "      <td>2.59</td>\n",
       "      <td>0.0</td>\n",
       "      <td>0.66</td>\n",
       "      <td>NaN</td>\n",
       "      <td>tbd</td>\n",
       "      <td>E</td>\n",
       "    </tr>\n",
       "    <tr>\n",
       "      <th>301</th>\n",
       "      <td>Namco Museum: 50th Anniversary</td>\n",
       "      <td>PS2</td>\n",
       "      <td>2005</td>\n",
       "      <td>Misc</td>\n",
       "      <td>2.08</td>\n",
       "      <td>1.35</td>\n",
       "      <td>0.0</td>\n",
       "      <td>0.54</td>\n",
       "      <td>61.0</td>\n",
       "      <td>tbd</td>\n",
       "      <td>E10+</td>\n",
       "    </tr>\n",
       "    <tr>\n",
       "      <th>520</th>\n",
       "      <td>Zumba Fitness 2</td>\n",
       "      <td>Wii</td>\n",
       "      <td>2011</td>\n",
       "      <td>Sports</td>\n",
       "      <td>1.51</td>\n",
       "      <td>1.03</td>\n",
       "      <td>0.0</td>\n",
       "      <td>0.27</td>\n",
       "      <td>NaN</td>\n",
       "      <td>tbd</td>\n",
       "      <td>T</td>\n",
       "    </tr>\n",
       "    <tr>\n",
       "      <th>645</th>\n",
       "      <td>uDraw Studio</td>\n",
       "      <td>Wii</td>\n",
       "      <td>2010</td>\n",
       "      <td>Misc</td>\n",
       "      <td>1.65</td>\n",
       "      <td>0.57</td>\n",
       "      <td>0.0</td>\n",
       "      <td>0.20</td>\n",
       "      <td>71.0</td>\n",
       "      <td>tbd</td>\n",
       "      <td>E</td>\n",
       "    </tr>\n",
       "    <tr>\n",
       "      <th>657</th>\n",
       "      <td>Frogger's Adventures: Temple of the Frog</td>\n",
       "      <td>GBA</td>\n",
       "      <td>0</td>\n",
       "      <td>Adventure</td>\n",
       "      <td>2.15</td>\n",
       "      <td>0.18</td>\n",
       "      <td>0.0</td>\n",
       "      <td>0.07</td>\n",
       "      <td>73.0</td>\n",
       "      <td>tbd</td>\n",
       "      <td>E</td>\n",
       "    </tr>\n",
       "    <tr>\n",
       "      <th>...</th>\n",
       "      <td>...</td>\n",
       "      <td>...</td>\n",
       "      <td>...</td>\n",
       "      <td>...</td>\n",
       "      <td>...</td>\n",
       "      <td>...</td>\n",
       "      <td>...</td>\n",
       "      <td>...</td>\n",
       "      <td>...</td>\n",
       "      <td>...</td>\n",
       "      <td>...</td>\n",
       "    </tr>\n",
       "    <tr>\n",
       "      <th>16695</th>\n",
       "      <td>Planet Monsters</td>\n",
       "      <td>GBA</td>\n",
       "      <td>2001</td>\n",
       "      <td>Action</td>\n",
       "      <td>0.01</td>\n",
       "      <td>0.00</td>\n",
       "      <td>0.0</td>\n",
       "      <td>0.00</td>\n",
       "      <td>67.0</td>\n",
       "      <td>tbd</td>\n",
       "      <td>E</td>\n",
       "    </tr>\n",
       "    <tr>\n",
       "      <th>16697</th>\n",
       "      <td>Bust-A-Move 3000</td>\n",
       "      <td>GC</td>\n",
       "      <td>2003</td>\n",
       "      <td>Puzzle</td>\n",
       "      <td>0.01</td>\n",
       "      <td>0.00</td>\n",
       "      <td>0.0</td>\n",
       "      <td>0.00</td>\n",
       "      <td>53.0</td>\n",
       "      <td>tbd</td>\n",
       "      <td>E</td>\n",
       "    </tr>\n",
       "    <tr>\n",
       "      <th>16698</th>\n",
       "      <td>Mega Brain Boost</td>\n",
       "      <td>DS</td>\n",
       "      <td>2008</td>\n",
       "      <td>Puzzle</td>\n",
       "      <td>0.01</td>\n",
       "      <td>0.00</td>\n",
       "      <td>0.0</td>\n",
       "      <td>0.00</td>\n",
       "      <td>48.0</td>\n",
       "      <td>tbd</td>\n",
       "      <td>E</td>\n",
       "    </tr>\n",
       "    <tr>\n",
       "      <th>16704</th>\n",
       "      <td>Plushees</td>\n",
       "      <td>DS</td>\n",
       "      <td>2008</td>\n",
       "      <td>Simulation</td>\n",
       "      <td>0.01</td>\n",
       "      <td>0.00</td>\n",
       "      <td>0.0</td>\n",
       "      <td>0.00</td>\n",
       "      <td>NaN</td>\n",
       "      <td>tbd</td>\n",
       "      <td>E</td>\n",
       "    </tr>\n",
       "    <tr>\n",
       "      <th>16706</th>\n",
       "      <td>Men in Black II: Alien Escape</td>\n",
       "      <td>GC</td>\n",
       "      <td>2003</td>\n",
       "      <td>Shooter</td>\n",
       "      <td>0.01</td>\n",
       "      <td>0.00</td>\n",
       "      <td>0.0</td>\n",
       "      <td>0.00</td>\n",
       "      <td>NaN</td>\n",
       "      <td>tbd</td>\n",
       "      <td>T</td>\n",
       "    </tr>\n",
       "  </tbody>\n",
       "</table>\n",
       "<p>2424 rows × 11 columns</p>\n",
       "</div>"
      ],
      "text/plain": [
       "                                           name platform  year_of_release  \\\n",
       "119                               Zumba Fitness      Wii             2010   \n",
       "301              Namco Museum: 50th Anniversary      PS2             2005   \n",
       "520                             Zumba Fitness 2      Wii             2011   \n",
       "645                                uDraw Studio      Wii             2010   \n",
       "657    Frogger's Adventures: Temple of the Frog      GBA                0   \n",
       "...                                         ...      ...              ...   \n",
       "16695                           Planet Monsters      GBA             2001   \n",
       "16697                          Bust-A-Move 3000       GC             2003   \n",
       "16698                          Mega Brain Boost       DS             2008   \n",
       "16704                                  Plushees       DS             2008   \n",
       "16706             Men in Black II: Alien Escape       GC             2003   \n",
       "\n",
       "            genre  na_sales  eu_sales  jp_sales  other_sales  critic_score  \\\n",
       "119        Sports      3.45      2.59       0.0         0.66           NaN   \n",
       "301          Misc      2.08      1.35       0.0         0.54          61.0   \n",
       "520        Sports      1.51      1.03       0.0         0.27           NaN   \n",
       "645          Misc      1.65      0.57       0.0         0.20          71.0   \n",
       "657     Adventure      2.15      0.18       0.0         0.07          73.0   \n",
       "...           ...       ...       ...       ...          ...           ...   \n",
       "16695      Action      0.01      0.00       0.0         0.00          67.0   \n",
       "16697      Puzzle      0.01      0.00       0.0         0.00          53.0   \n",
       "16698      Puzzle      0.01      0.00       0.0         0.00          48.0   \n",
       "16704  Simulation      0.01      0.00       0.0         0.00           NaN   \n",
       "16706     Shooter      0.01      0.00       0.0         0.00           NaN   \n",
       "\n",
       "      user_score rating  \n",
       "119          tbd      E  \n",
       "301          tbd   E10+  \n",
       "520          tbd      T  \n",
       "645          tbd      E  \n",
       "657          tbd      E  \n",
       "...          ...    ...  \n",
       "16695        tbd      E  \n",
       "16697        tbd      E  \n",
       "16698        tbd      E  \n",
       "16704        tbd      E  \n",
       "16706        tbd      T  \n",
       "\n",
       "[2424 rows x 11 columns]"
      ]
     },
     "execution_count": 11,
     "metadata": {},
     "output_type": "execute_result"
    }
   ],
   "source": [
    "# Filtrar de la columna score todos aquellos que sean 'tbd'\n",
    "df_games.query('user_score == \"tbd\"')"
   ]
  },
  {
   "cell_type": "code",
   "execution_count": 12,
   "metadata": {},
   "outputs": [],
   "source": [
    "# Convertir los valores 'tbd' a ausentes \n",
    "df_games.loc[df_games['user_score']== 'tbd', 'user_score'] = np.nan"
   ]
  },
  {
   "cell_type": "code",
   "execution_count": 13,
   "metadata": {},
   "outputs": [],
   "source": [
    "# Cambiar el tipo de dato de la columna user_score a float \n",
    "df_games['user_score'] = df_games['user_score'].astype('float')"
   ]
  },
  {
   "cell_type": "code",
   "execution_count": 14,
   "metadata": {},
   "outputs": [
    {
     "name": "stdout",
     "output_type": "stream",
     "text": [
      "<class 'pandas.core.frame.DataFrame'>\n",
      "RangeIndex: 16715 entries, 0 to 16714\n",
      "Data columns (total 11 columns):\n",
      " #   Column           Non-Null Count  Dtype  \n",
      "---  ------           --------------  -----  \n",
      " 0   name             16713 non-null  object \n",
      " 1   platform         16715 non-null  object \n",
      " 2   year_of_release  16715 non-null  int64  \n",
      " 3   genre            16713 non-null  object \n",
      " 4   na_sales         16715 non-null  float64\n",
      " 5   eu_sales         16715 non-null  float64\n",
      " 6   jp_sales         16715 non-null  float64\n",
      " 7   other_sales      16715 non-null  float64\n",
      " 8   critic_score     8137 non-null   float64\n",
      " 9   user_score       7590 non-null   float64\n",
      " 10  rating           9949 non-null   object \n",
      "dtypes: float64(6), int64(1), object(4)\n",
      "memory usage: 1.4+ MB\n"
     ]
    }
   ],
   "source": [
    "# comprobar los cambios \n",
    "df_games.info()"
   ]
  },
  {
   "cell_type": "markdown",
   "metadata": {},
   "source": [
    "<span style=\"color:blue; font-weight:bold\">\n",
    "En la columna 'user_critic' existian valores 'tbd' los cuales significan que no han sido calificados, reemplazar estos valores con 0 o algun otro dato como la media o mediana, afectaria al analisis sesgandolo ya que aun no han sido calificados por algun usuario, por lo cual decidi convertir esos valores 'tbd' a NaN. Por ultimo cambie el tipo de dato de object a float\n",
    "</span>"
   ]
  },
  {
   "cell_type": "markdown",
   "metadata": {},
   "source": [
    "# 4.3 Ventas totales "
   ]
  },
  {
   "cell_type": "code",
   "execution_count": 15,
   "metadata": {},
   "outputs": [],
   "source": [
    "# crear una nueva columna que contenga las ventas totales de las regiones\n",
    "df_games['ventas_totales'] = df_games[['na_sales', 'eu_sales', 'jp_sales', 'other_sales']].sum(axis=1)"
   ]
  },
  {
   "cell_type": "code",
   "execution_count": 16,
   "metadata": {
    "scrolled": true
   },
   "outputs": [
    {
     "data": {
      "text/plain": [
       "0        82.54\n",
       "1        40.24\n",
       "2        35.52\n",
       "3        32.77\n",
       "4        31.38\n",
       "         ...  \n",
       "16710     0.01\n",
       "16711     0.01\n",
       "16712     0.01\n",
       "16713     0.01\n",
       "16714     0.01\n",
       "Name: ventas_totales, Length: 16715, dtype: float64"
      ]
     },
     "execution_count": 16,
     "metadata": {},
     "output_type": "execute_result"
    }
   ],
   "source": [
    "# verificar la columna\n",
    "df_games['ventas_totales']"
   ]
  },
  {
   "cell_type": "markdown",
   "metadata": {},
   "source": [
    "# 5. Analizar los datos"
   ]
  },
  {
   "cell_type": "code",
   "execution_count": 17,
   "metadata": {
    "scrolled": false
   },
   "outputs": [
    {
     "data": {
      "text/html": [
       "<div>\n",
       "<style scoped>\n",
       "    .dataframe tbody tr th:only-of-type {\n",
       "        vertical-align: middle;\n",
       "    }\n",
       "\n",
       "    .dataframe tbody tr th {\n",
       "        vertical-align: top;\n",
       "    }\n",
       "\n",
       "    .dataframe thead th {\n",
       "        text-align: right;\n",
       "    }\n",
       "</style>\n",
       "<table border=\"1\" class=\"dataframe\">\n",
       "  <thead>\n",
       "    <tr style=\"text-align: right;\">\n",
       "      <th></th>\n",
       "      <th>name</th>\n",
       "      <th>platform</th>\n",
       "      <th>year_of_release</th>\n",
       "      <th>genre</th>\n",
       "      <th>na_sales</th>\n",
       "      <th>eu_sales</th>\n",
       "      <th>jp_sales</th>\n",
       "      <th>other_sales</th>\n",
       "      <th>critic_score</th>\n",
       "      <th>user_score</th>\n",
       "      <th>rating</th>\n",
       "      <th>ventas_totales</th>\n",
       "    </tr>\n",
       "  </thead>\n",
       "  <tbody>\n",
       "    <tr>\n",
       "      <th>0</th>\n",
       "      <td>Wii Sports</td>\n",
       "      <td>Wii</td>\n",
       "      <td>2006</td>\n",
       "      <td>Sports</td>\n",
       "      <td>41.36</td>\n",
       "      <td>28.96</td>\n",
       "      <td>3.77</td>\n",
       "      <td>8.45</td>\n",
       "      <td>76.0</td>\n",
       "      <td>8.0</td>\n",
       "      <td>E</td>\n",
       "      <td>82.54</td>\n",
       "    </tr>\n",
       "    <tr>\n",
       "      <th>1</th>\n",
       "      <td>Super Mario Bros.</td>\n",
       "      <td>NES</td>\n",
       "      <td>1985</td>\n",
       "      <td>Platform</td>\n",
       "      <td>29.08</td>\n",
       "      <td>3.58</td>\n",
       "      <td>6.81</td>\n",
       "      <td>0.77</td>\n",
       "      <td>NaN</td>\n",
       "      <td>NaN</td>\n",
       "      <td>NaN</td>\n",
       "      <td>40.24</td>\n",
       "    </tr>\n",
       "    <tr>\n",
       "      <th>2</th>\n",
       "      <td>Mario Kart Wii</td>\n",
       "      <td>Wii</td>\n",
       "      <td>2008</td>\n",
       "      <td>Racing</td>\n",
       "      <td>15.68</td>\n",
       "      <td>12.76</td>\n",
       "      <td>3.79</td>\n",
       "      <td>3.29</td>\n",
       "      <td>82.0</td>\n",
       "      <td>8.3</td>\n",
       "      <td>E</td>\n",
       "      <td>35.52</td>\n",
       "    </tr>\n",
       "    <tr>\n",
       "      <th>3</th>\n",
       "      <td>Wii Sports Resort</td>\n",
       "      <td>Wii</td>\n",
       "      <td>2009</td>\n",
       "      <td>Sports</td>\n",
       "      <td>15.61</td>\n",
       "      <td>10.93</td>\n",
       "      <td>3.28</td>\n",
       "      <td>2.95</td>\n",
       "      <td>80.0</td>\n",
       "      <td>8.0</td>\n",
       "      <td>E</td>\n",
       "      <td>32.77</td>\n",
       "    </tr>\n",
       "    <tr>\n",
       "      <th>4</th>\n",
       "      <td>Pokemon Red/Pokemon Blue</td>\n",
       "      <td>GB</td>\n",
       "      <td>1996</td>\n",
       "      <td>Role-Playing</td>\n",
       "      <td>11.27</td>\n",
       "      <td>8.89</td>\n",
       "      <td>10.22</td>\n",
       "      <td>1.00</td>\n",
       "      <td>NaN</td>\n",
       "      <td>NaN</td>\n",
       "      <td>NaN</td>\n",
       "      <td>31.38</td>\n",
       "    </tr>\n",
       "  </tbody>\n",
       "</table>\n",
       "</div>"
      ],
      "text/plain": [
       "                       name platform  year_of_release         genre  na_sales  \\\n",
       "0                Wii Sports      Wii             2006        Sports     41.36   \n",
       "1         Super Mario Bros.      NES             1985      Platform     29.08   \n",
       "2            Mario Kart Wii      Wii             2008        Racing     15.68   \n",
       "3         Wii Sports Resort      Wii             2009        Sports     15.61   \n",
       "4  Pokemon Red/Pokemon Blue       GB             1996  Role-Playing     11.27   \n",
       "\n",
       "   eu_sales  jp_sales  other_sales  critic_score  user_score rating  \\\n",
       "0     28.96      3.77         8.45          76.0         8.0      E   \n",
       "1      3.58      6.81         0.77           NaN         NaN    NaN   \n",
       "2     12.76      3.79         3.29          82.0         8.3      E   \n",
       "3     10.93      3.28         2.95          80.0         8.0      E   \n",
       "4      8.89     10.22         1.00           NaN         NaN    NaN   \n",
       "\n",
       "   ventas_totales  \n",
       "0           82.54  \n",
       "1           40.24  \n",
       "2           35.52  \n",
       "3           32.77  \n",
       "4           31.38  "
      ]
     },
     "execution_count": 17,
     "metadata": {},
     "output_type": "execute_result"
    }
   ],
   "source": [
    "# usar la funcion nlargest para observar los productos mas vendidos\n",
    "df_games.nlargest(5, ['ventas_totales'])"
   ]
  },
  {
   "cell_type": "markdown",
   "metadata": {},
   "source": [
    "# 5.1 Cuantos juegos fueron lanzados en diferentes años"
   ]
  },
  {
   "cell_type": "code",
   "execution_count": 18,
   "metadata": {
    "scrolled": true
   },
   "outputs": [
    {
     "name": "stdout",
     "output_type": "stream",
     "text": [
      "   year_of_release  name\n",
      "0             2008  1427\n",
      "1             2009  1426\n",
      "2             2010  1255\n",
      "3             2007  1197\n",
      "4             2011  1136\n",
      "5             2006  1006\n",
      "6             2005   939\n",
      "7             2002   829\n",
      "8             2003   775\n",
      "9             2004   762\n"
     ]
    }
   ],
   "source": [
    "# Juegos lanzados en diferentes años \n",
    "juegos_lanzados_por_año = df_games.groupby('year_of_release')['name'].count().sort_values(ascending=False).reset_index()\n",
    "print(juegos_lanzados_por_año.head(10))"
   ]
  },
  {
   "cell_type": "code",
   "execution_count": 19,
   "metadata": {},
   "outputs": [
    {
     "data": {
      "text/html": [
       "<div>\n",
       "<style scoped>\n",
       "    .dataframe tbody tr th:only-of-type {\n",
       "        vertical-align: middle;\n",
       "    }\n",
       "\n",
       "    .dataframe tbody tr th {\n",
       "        vertical-align: top;\n",
       "    }\n",
       "\n",
       "    .dataframe thead th {\n",
       "        text-align: right;\n",
       "    }\n",
       "</style>\n",
       "<table border=\"1\" class=\"dataframe\">\n",
       "  <thead>\n",
       "    <tr style=\"text-align: right;\">\n",
       "      <th></th>\n",
       "      <th>year_of_release</th>\n",
       "      <th>name</th>\n",
       "    </tr>\n",
       "  </thead>\n",
       "  <tbody>\n",
       "    <tr>\n",
       "      <th>20</th>\n",
       "      <td>0</td>\n",
       "      <td>269</td>\n",
       "    </tr>\n",
       "  </tbody>\n",
       "</table>\n",
       "</div>"
      ],
      "text/plain": [
       "    year_of_release  name\n",
       "20                0   269"
      ]
     },
     "execution_count": 19,
     "metadata": {},
     "output_type": "execute_result"
    }
   ],
   "source": [
    "# filtrar cuantos juegos con un año de lanzamiento en 0 existen\n",
    "juegos_lanzados_por_año[juegos_lanzados_por_año['year_of_release'] == 0]"
   ]
  },
  {
   "cell_type": "code",
   "execution_count": 20,
   "metadata": {},
   "outputs": [],
   "source": [
    "# filtrar los datos que tengan un año de lanzamiento 0 para no mostrarlos\n",
    "juegos_lanzados_por_año = juegos_lanzados_por_año[juegos_lanzados_por_año['year_of_release'] != 0]"
   ]
  },
  {
   "cell_type": "code",
   "execution_count": 21,
   "metadata": {},
   "outputs": [
    {
     "data": {
      "image/png": "[encoded data removed]",
      "text/plain": [
       "<Figure size 1000x700 with 1 Axes>"
      ]
     },
     "metadata": {},
     "output_type": "display_data"
    }
   ],
   "source": [
    "# Graficar los juegos lanzados por año\n",
    "fig, ax = plt.subplots(figsize=(10, 7))\n",
    "\n",
    "ax.vlines(x=juegos_lanzados_por_año['year_of_release'],\n",
    "          ymin=0,\n",
    "          ymax=juegos_lanzados_por_año['name'], \n",
    "          color='darkslateblue',\n",
    "          linewidth=2)\n",
    "\n",
    "ax.set_title('Lanzamiento de juegos por año', fontsize=16)\n",
    "ax.set_xlabel('Año de lanzamiento')\n",
    "ax.set_ylabel('Número de juegos lanzados')\n",
    "ax.set_xticks(juegos_lanzados_por_año['year_of_release'])\n",
    "ax.set_xticklabels(juegos_lanzados_por_año['year_of_release'], rotation=90, fontsize=12)\n",
    "ax.grid(True, linestyle='-', alpha=0.7)\n",
    "\n",
    "plt.show()"
   ]
  },
  {
   "cell_type": "markdown",
   "metadata": {},
   "source": [
    "<span style=\"color:blue; font-weight:bold\">\n",
    "Se observa que los años con mayores lanzamientos de videojuegos es en 2008 y 2009, seguido de 2010, 2007 y 2011, estos años se encuentran ubicados en el top 5 \n",
    "</span>"
   ]
  },
  {
   "cell_type": "markdown",
   "metadata": {},
   "source": [
    "# 5.2 Ventas totales de las plataformas"
   ]
  },
  {
   "cell_type": "code",
   "execution_count": 22,
   "metadata": {},
   "outputs": [],
   "source": [
    "# mostrar las ventas de las plataformas por las ventas totales\n",
    "df_platform = df_games.groupby('platform')['ventas_totales'].sum().sort_values(ascending=False).reset_index()"
   ]
  },
  {
   "cell_type": "code",
   "execution_count": 23,
   "metadata": {},
   "outputs": [],
   "source": [
    "# calcular el valor Z de las ventas totales de las plataformas\n",
    "df_platform['z_score'] = (df_platform['ventas_totales'] - df_platform['ventas_totales'].mean()) / df_platform['ventas_totales'].std()"
   ]
  },
  {
   "cell_type": "code",
   "execution_count": 24,
   "metadata": {},
   "outputs": [
    {
     "name": "stdout",
     "output_type": "stream",
     "text": [
      "  platform  ventas_totales   z_score\n",
      "0      PS2         1255.77  2.780807\n",
      "1     X360          971.42  1.964085\n",
      "2      PS3          939.65  1.872834\n",
      "3      Wii          907.51  1.780520\n",
      "4       DS          806.12  1.489304\n"
     ]
    }
   ],
   "source": [
    "print(df_platform.head(5))"
   ]
  },
  {
   "cell_type": "code",
   "execution_count": 25,
   "metadata": {},
   "outputs": [],
   "source": [
    "# Crear columna para identificar las plataformas con mayores ventas totales y las que solian ser populares\n",
    "df_platform['color'] = ['red' if ventas_z < 0 else 'green' for ventas_z in df_platform['z_score']]"
   ]
  },
  {
   "cell_type": "code",
   "execution_count": 26,
   "metadata": {},
   "outputs": [
    {
     "data": {
      "text/html": [
       "<div>\n",
       "<style scoped>\n",
       "    .dataframe tbody tr th:only-of-type {\n",
       "        vertical-align: middle;\n",
       "    }\n",
       "\n",
       "    .dataframe tbody tr th {\n",
       "        vertical-align: top;\n",
       "    }\n",
       "\n",
       "    .dataframe thead th {\n",
       "        text-align: right;\n",
       "    }\n",
       "</style>\n",
       "<table border=\"1\" class=\"dataframe\">\n",
       "  <thead>\n",
       "    <tr style=\"text-align: right;\">\n",
       "      <th></th>\n",
       "      <th>platform</th>\n",
       "      <th>ventas_totales</th>\n",
       "      <th>z_score</th>\n",
       "      <th>color</th>\n",
       "    </tr>\n",
       "  </thead>\n",
       "  <tbody>\n",
       "    <tr>\n",
       "      <th>0</th>\n",
       "      <td>PS2</td>\n",
       "      <td>1255.77</td>\n",
       "      <td>2.780807</td>\n",
       "      <td>green</td>\n",
       "    </tr>\n",
       "    <tr>\n",
       "      <th>1</th>\n",
       "      <td>X360</td>\n",
       "      <td>971.42</td>\n",
       "      <td>1.964085</td>\n",
       "      <td>green</td>\n",
       "    </tr>\n",
       "    <tr>\n",
       "      <th>2</th>\n",
       "      <td>PS3</td>\n",
       "      <td>939.65</td>\n",
       "      <td>1.872834</td>\n",
       "      <td>green</td>\n",
       "    </tr>\n",
       "    <tr>\n",
       "      <th>3</th>\n",
       "      <td>Wii</td>\n",
       "      <td>907.51</td>\n",
       "      <td>1.780520</td>\n",
       "      <td>green</td>\n",
       "    </tr>\n",
       "    <tr>\n",
       "      <th>4</th>\n",
       "      <td>DS</td>\n",
       "      <td>806.12</td>\n",
       "      <td>1.489304</td>\n",
       "      <td>green</td>\n",
       "    </tr>\n",
       "    <tr>\n",
       "      <th>5</th>\n",
       "      <td>PS</td>\n",
       "      <td>730.86</td>\n",
       "      <td>1.273139</td>\n",
       "      <td>green</td>\n",
       "    </tr>\n",
       "    <tr>\n",
       "      <th>6</th>\n",
       "      <td>GBA</td>\n",
       "      <td>317.85</td>\n",
       "      <td>0.086875</td>\n",
       "      <td>green</td>\n",
       "    </tr>\n",
       "    <tr>\n",
       "      <th>7</th>\n",
       "      <td>PS4</td>\n",
       "      <td>314.14</td>\n",
       "      <td>0.076219</td>\n",
       "      <td>green</td>\n",
       "    </tr>\n",
       "    <tr>\n",
       "      <th>8</th>\n",
       "      <td>PSP</td>\n",
       "      <td>294.05</td>\n",
       "      <td>0.018516</td>\n",
       "      <td>green</td>\n",
       "    </tr>\n",
       "    <tr>\n",
       "      <th>9</th>\n",
       "      <td>PC</td>\n",
       "      <td>259.52</td>\n",
       "      <td>-0.080663</td>\n",
       "      <td>red</td>\n",
       "    </tr>\n",
       "    <tr>\n",
       "      <th>10</th>\n",
       "      <td>3DS</td>\n",
       "      <td>259.00</td>\n",
       "      <td>-0.082156</td>\n",
       "      <td>red</td>\n",
       "    </tr>\n",
       "    <tr>\n",
       "      <th>11</th>\n",
       "      <td>XB</td>\n",
       "      <td>257.74</td>\n",
       "      <td>-0.085775</td>\n",
       "      <td>red</td>\n",
       "    </tr>\n",
       "    <tr>\n",
       "      <th>12</th>\n",
       "      <td>GB</td>\n",
       "      <td>255.46</td>\n",
       "      <td>-0.092324</td>\n",
       "      <td>red</td>\n",
       "    </tr>\n",
       "    <tr>\n",
       "      <th>13</th>\n",
       "      <td>NES</td>\n",
       "      <td>251.05</td>\n",
       "      <td>-0.104991</td>\n",
       "      <td>red</td>\n",
       "    </tr>\n",
       "    <tr>\n",
       "      <th>14</th>\n",
       "      <td>N64</td>\n",
       "      <td>218.68</td>\n",
       "      <td>-0.197965</td>\n",
       "      <td>red</td>\n",
       "    </tr>\n",
       "    <tr>\n",
       "      <th>15</th>\n",
       "      <td>SNES</td>\n",
       "      <td>200.04</td>\n",
       "      <td>-0.251504</td>\n",
       "      <td>red</td>\n",
       "    </tr>\n",
       "    <tr>\n",
       "      <th>16</th>\n",
       "      <td>GC</td>\n",
       "      <td>198.93</td>\n",
       "      <td>-0.254692</td>\n",
       "      <td>red</td>\n",
       "    </tr>\n",
       "    <tr>\n",
       "      <th>17</th>\n",
       "      <td>XOne</td>\n",
       "      <td>159.32</td>\n",
       "      <td>-0.368461</td>\n",
       "      <td>red</td>\n",
       "    </tr>\n",
       "    <tr>\n",
       "      <th>18</th>\n",
       "      <td>2600</td>\n",
       "      <td>96.98</td>\n",
       "      <td>-0.547517</td>\n",
       "      <td>red</td>\n",
       "    </tr>\n",
       "    <tr>\n",
       "      <th>19</th>\n",
       "      <td>WiiU</td>\n",
       "      <td>82.19</td>\n",
       "      <td>-0.589997</td>\n",
       "      <td>red</td>\n",
       "    </tr>\n",
       "    <tr>\n",
       "      <th>20</th>\n",
       "      <td>PSV</td>\n",
       "      <td>54.07</td>\n",
       "      <td>-0.670765</td>\n",
       "      <td>red</td>\n",
       "    </tr>\n",
       "    <tr>\n",
       "      <th>21</th>\n",
       "      <td>SAT</td>\n",
       "      <td>33.59</td>\n",
       "      <td>-0.729588</td>\n",
       "      <td>red</td>\n",
       "    </tr>\n",
       "    <tr>\n",
       "      <th>22</th>\n",
       "      <td>GEN</td>\n",
       "      <td>30.77</td>\n",
       "      <td>-0.737688</td>\n",
       "      <td>red</td>\n",
       "    </tr>\n",
       "    <tr>\n",
       "      <th>23</th>\n",
       "      <td>DC</td>\n",
       "      <td>15.95</td>\n",
       "      <td>-0.780254</td>\n",
       "      <td>red</td>\n",
       "    </tr>\n",
       "    <tr>\n",
       "      <th>24</th>\n",
       "      <td>SCD</td>\n",
       "      <td>1.86</td>\n",
       "      <td>-0.820724</td>\n",
       "      <td>red</td>\n",
       "    </tr>\n",
       "    <tr>\n",
       "      <th>25</th>\n",
       "      <td>NG</td>\n",
       "      <td>1.44</td>\n",
       "      <td>-0.821931</td>\n",
       "      <td>red</td>\n",
       "    </tr>\n",
       "    <tr>\n",
       "      <th>26</th>\n",
       "      <td>WS</td>\n",
       "      <td>1.42</td>\n",
       "      <td>-0.821988</td>\n",
       "      <td>red</td>\n",
       "    </tr>\n",
       "    <tr>\n",
       "      <th>27</th>\n",
       "      <td>TG16</td>\n",
       "      <td>0.16</td>\n",
       "      <td>-0.825607</td>\n",
       "      <td>red</td>\n",
       "    </tr>\n",
       "    <tr>\n",
       "      <th>28</th>\n",
       "      <td>3DO</td>\n",
       "      <td>0.10</td>\n",
       "      <td>-0.825779</td>\n",
       "      <td>red</td>\n",
       "    </tr>\n",
       "    <tr>\n",
       "      <th>29</th>\n",
       "      <td>GG</td>\n",
       "      <td>0.04</td>\n",
       "      <td>-0.825952</td>\n",
       "      <td>red</td>\n",
       "    </tr>\n",
       "    <tr>\n",
       "      <th>30</th>\n",
       "      <td>PCFX</td>\n",
       "      <td>0.03</td>\n",
       "      <td>-0.825980</td>\n",
       "      <td>red</td>\n",
       "    </tr>\n",
       "  </tbody>\n",
       "</table>\n",
       "</div>"
      ],
      "text/plain": [
       "   platform  ventas_totales   z_score  color\n",
       "0       PS2         1255.77  2.780807  green\n",
       "1      X360          971.42  1.964085  green\n",
       "2       PS3          939.65  1.872834  green\n",
       "3       Wii          907.51  1.780520  green\n",
       "4        DS          806.12  1.489304  green\n",
       "5        PS          730.86  1.273139  green\n",
       "6       GBA          317.85  0.086875  green\n",
       "7       PS4          314.14  0.076219  green\n",
       "8       PSP          294.05  0.018516  green\n",
       "9        PC          259.52 -0.080663    red\n",
       "10      3DS          259.00 -0.082156    red\n",
       "11       XB          257.74 -0.085775    red\n",
       "12       GB          255.46 -0.092324    red\n",
       "13      NES          251.05 -0.104991    red\n",
       "14      N64          218.68 -0.197965    red\n",
       "15     SNES          200.04 -0.251504    red\n",
       "16       GC          198.93 -0.254692    red\n",
       "17     XOne          159.32 -0.368461    red\n",
       "18     2600           96.98 -0.547517    red\n",
       "19     WiiU           82.19 -0.589997    red\n",
       "20      PSV           54.07 -0.670765    red\n",
       "21      SAT           33.59 -0.729588    red\n",
       "22      GEN           30.77 -0.737688    red\n",
       "23       DC           15.95 -0.780254    red\n",
       "24      SCD            1.86 -0.820724    red\n",
       "25       NG            1.44 -0.821931    red\n",
       "26       WS            1.42 -0.821988    red\n",
       "27     TG16            0.16 -0.825607    red\n",
       "28      3DO            0.10 -0.825779    red\n",
       "29       GG            0.04 -0.825952    red\n",
       "30     PCFX            0.03 -0.825980    red"
      ]
     },
     "execution_count": 26,
     "metadata": {},
     "output_type": "execute_result"
    }
   ],
   "source": [
    "# mostrar los resultados\n",
    "df_platform"
   ]
  },
  {
   "cell_type": "code",
   "execution_count": 27,
   "metadata": {},
   "outputs": [
    {
     "data": {
      "image/png": "[encoded data removed]",
      "text/plain": [
       "<Figure size 1000x600 with 1 Axes>"
      ]
     },
     "metadata": {},
     "output_type": "display_data"
    }
   ],
   "source": [
    "plt.figure(figsize=(10,6))\n",
    "plt.hlines(\n",
    "    y= df_platform['platform'], \n",
    "    xmin= 0,\n",
    "    xmax= df_platform['z_score'], \n",
    "    color= df_platform['color'],\n",
    "    linewidth= 10, \n",
    "    alpha=0.6)\n",
    "plt.title('Rentabilidad por plataforma')\n",
    "plt.xlabel('Z score')\n",
    "plt.ylabel('Plataforma')\n",
    "plt.show()"
   ]
  },
  {
   "cell_type": "markdown",
   "metadata": {},
   "source": [
    "<span style=\"color:blue; font-weight:bold\">\n",
    "Para describir los datos de las ventas segun la plataforma se calculo el puntaje Z, para conocer su rentabilidad dentro del mercado, esto nos indica a cuantas desviaciones estandart esta respecto a la media, esto quiere decir que las consolas como el PS2 se encuentra a mas de 2.5 desviaciones de la media a la derecha (valor positivo) lo cual es un buen indicador en cuanto a sus ventas totales. \n",
    "</span>"
   ]
  },
  {
   "cell_type": "markdown",
   "metadata": {},
   "source": [
    "# 5.3 plataformas lideres en ventas"
   ]
  },
  {
   "cell_type": "code",
   "execution_count": 28,
   "metadata": {},
   "outputs": [],
   "source": [
    "# filtro para mostrar los datos mas relevantes para construir un modelo en el 2017\n",
    "datos_recientes = df_games.query('year_of_release >=2012')"
   ]
  },
  {
   "cell_type": "code",
   "execution_count": 29,
   "metadata": {},
   "outputs": [],
   "source": [
    "# construir pivot table para mostrar las plataformas lideres en ventas y como crecen y se reducen\n",
    "pivot_platform = pd.pivot_table(datos_recientes, index='year_of_release', columns='platform', values='ventas_totales', aggfunc='sum').fillna(0)"
   ]
  },
  {
   "cell_type": "code",
   "execution_count": 30,
   "metadata": {},
   "outputs": [
    {
     "data": {
      "text/html": [
       "<div>\n",
       "<style scoped>\n",
       "    .dataframe tbody tr th:only-of-type {\n",
       "        vertical-align: middle;\n",
       "    }\n",
       "\n",
       "    .dataframe tbody tr th {\n",
       "        vertical-align: top;\n",
       "    }\n",
       "\n",
       "    .dataframe thead th {\n",
       "        text-align: right;\n",
       "    }\n",
       "</style>\n",
       "<table border=\"1\" class=\"dataframe\">\n",
       "  <thead>\n",
       "    <tr style=\"text-align: right;\">\n",
       "      <th>platform</th>\n",
       "      <th>3DS</th>\n",
       "      <th>DS</th>\n",
       "      <th>PC</th>\n",
       "      <th>PS3</th>\n",
       "      <th>PS4</th>\n",
       "      <th>PSP</th>\n",
       "      <th>PSV</th>\n",
       "      <th>Wii</th>\n",
       "      <th>WiiU</th>\n",
       "      <th>X360</th>\n",
       "      <th>XOne</th>\n",
       "    </tr>\n",
       "    <tr>\n",
       "      <th>year_of_release</th>\n",
       "      <th></th>\n",
       "      <th></th>\n",
       "      <th></th>\n",
       "      <th></th>\n",
       "      <th></th>\n",
       "      <th></th>\n",
       "      <th></th>\n",
       "      <th></th>\n",
       "      <th></th>\n",
       "      <th></th>\n",
       "      <th></th>\n",
       "    </tr>\n",
       "  </thead>\n",
       "  <tbody>\n",
       "    <tr>\n",
       "      <th>2012</th>\n",
       "      <td>51.36</td>\n",
       "      <td>11.01</td>\n",
       "      <td>23.22</td>\n",
       "      <td>107.36</td>\n",
       "      <td>0.00</td>\n",
       "      <td>7.69</td>\n",
       "      <td>16.19</td>\n",
       "      <td>21.71</td>\n",
       "      <td>17.56</td>\n",
       "      <td>99.74</td>\n",
       "      <td>0.00</td>\n",
       "    </tr>\n",
       "    <tr>\n",
       "      <th>2013</th>\n",
       "      <td>56.57</td>\n",
       "      <td>1.54</td>\n",
       "      <td>12.38</td>\n",
       "      <td>113.25</td>\n",
       "      <td>25.99</td>\n",
       "      <td>3.14</td>\n",
       "      <td>10.59</td>\n",
       "      <td>8.59</td>\n",
       "      <td>21.65</td>\n",
       "      <td>88.58</td>\n",
       "      <td>18.96</td>\n",
       "    </tr>\n",
       "    <tr>\n",
       "      <th>2014</th>\n",
       "      <td>43.76</td>\n",
       "      <td>0.00</td>\n",
       "      <td>13.28</td>\n",
       "      <td>47.76</td>\n",
       "      <td>100.00</td>\n",
       "      <td>0.24</td>\n",
       "      <td>11.90</td>\n",
       "      <td>3.75</td>\n",
       "      <td>22.03</td>\n",
       "      <td>34.74</td>\n",
       "      <td>54.07</td>\n",
       "    </tr>\n",
       "    <tr>\n",
       "      <th>2015</th>\n",
       "      <td>27.78</td>\n",
       "      <td>0.00</td>\n",
       "      <td>8.52</td>\n",
       "      <td>16.82</td>\n",
       "      <td>118.90</td>\n",
       "      <td>0.12</td>\n",
       "      <td>6.25</td>\n",
       "      <td>1.14</td>\n",
       "      <td>16.35</td>\n",
       "      <td>11.96</td>\n",
       "      <td>60.14</td>\n",
       "    </tr>\n",
       "    <tr>\n",
       "      <th>2016</th>\n",
       "      <td>15.14</td>\n",
       "      <td>0.00</td>\n",
       "      <td>5.25</td>\n",
       "      <td>3.60</td>\n",
       "      <td>69.25</td>\n",
       "      <td>0.00</td>\n",
       "      <td>4.25</td>\n",
       "      <td>0.18</td>\n",
       "      <td>4.60</td>\n",
       "      <td>1.52</td>\n",
       "      <td>26.15</td>\n",
       "    </tr>\n",
       "  </tbody>\n",
       "</table>\n",
       "</div>"
      ],
      "text/plain": [
       "platform           3DS     DS     PC     PS3     PS4   PSP    PSV    Wii  \\\n",
       "year_of_release                                                            \n",
       "2012             51.36  11.01  23.22  107.36    0.00  7.69  16.19  21.71   \n",
       "2013             56.57   1.54  12.38  113.25   25.99  3.14  10.59   8.59   \n",
       "2014             43.76   0.00  13.28   47.76  100.00  0.24  11.90   3.75   \n",
       "2015             27.78   0.00   8.52   16.82  118.90  0.12   6.25   1.14   \n",
       "2016             15.14   0.00   5.25    3.60   69.25  0.00   4.25   0.18   \n",
       "\n",
       "platform          WiiU   X360   XOne  \n",
       "year_of_release                       \n",
       "2012             17.56  99.74   0.00  \n",
       "2013             21.65  88.58  18.96  \n",
       "2014             22.03  34.74  54.07  \n",
       "2015             16.35  11.96  60.14  \n",
       "2016              4.60   1.52  26.15  "
      ]
     },
     "execution_count": 30,
     "metadata": {},
     "output_type": "execute_result"
    }
   ],
   "source": [
    "# mostrar la tabla pivote\n",
    "pivot_platform"
   ]
  },
  {
   "cell_type": "code",
   "execution_count": 31,
   "metadata": {},
   "outputs": [
    {
     "data": {
      "image/png": "[encoded data removed]",
      "text/plain": [
       "<Figure size 1000x600 with 1 Axes>"
      ]
     },
     "metadata": {},
     "output_type": "display_data"
    }
   ],
   "source": [
    "# crear grafico de lineas para observar cuales plataformas crecen y cuales disminuyen\n",
    "plt.figure(figsize=(10,6))\n",
    "\n",
    "sns.lineplot(data=pivot_platform, palette=\"tab10\", linewidth=2.5)\n",
    "plt.ylabel('Rentabilidad')\n",
    "plt.xlabel('Año')\n",
    "plt.title('Plataformas lideres en ventas')\n",
    "plt.show()"
   ]
  },
  {
   "cell_type": "markdown",
   "metadata": {},
   "source": [
    "<span style=\"color:blue; font-weight:bold\">\n",
    "Para analizar las plataformas lideres en ventas considere 5 años antes de la fecha de la campaña que se desea desarrollar (2017), ya que al ser datos de videojuegos estos cambian conforme al tiempo, y aunque las ventas de 2008 han sido las mas altas dentro de este conjunto de datos, ya no serian una muestra relevante a considerar para el objetivo de este analisis.\n",
    "Desarrolle una pivot table y a partir de ella un grafico en donde se muestra que el PS4 es la plataforma que se ha mantenido como lider en ventas, seguido del XOne. Quien ha mostrado una gran perdida de ventas el es PS3 antecesor de la PS4, asi como el nintendo 3DS y la Wii\n",
    "</span>"
   ]
  },
  {
   "cell_type": "markdown",
   "metadata": {},
   "source": [
    "# 5.4 Ventas globales"
   ]
  },
  {
   "cell_type": "code",
   "execution_count": 32,
   "metadata": {},
   "outputs": [
    {
     "data": {
      "image/png": "[encoded data removed]",
      "text/plain": [
       "<Figure size 1000x600 with 1 Axes>"
      ]
     },
     "metadata": {},
     "output_type": "display_data"
    }
   ],
   "source": [
    "# crear diagrama que muestre las ventas globales\n",
    "\n",
    "plt.figure(figsize=(10, 6))\n",
    "\n",
    "sns.boxplot(x='platform', y='ventas_totales', data= df_games)\n",
    "plt.xlabel('Plataforma')\n",
    "plt.ylabel('Ventas Totales (millones de USD)')\n",
    "plt.title('Distribución de Ventas Globales por Plataforma')\n",
    "plt.xticks(rotation =90)\n",
    "\n",
    "plt.show()\n"
   ]
  },
  {
   "cell_type": "code",
   "execution_count": 33,
   "metadata": {
    "scrolled": false
   },
   "outputs": [
    {
     "data": {
      "text/html": [
       "<div>\n",
       "<style scoped>\n",
       "    .dataframe tbody tr th:only-of-type {\n",
       "        vertical-align: middle;\n",
       "    }\n",
       "\n",
       "    .dataframe tbody tr th {\n",
       "        vertical-align: top;\n",
       "    }\n",
       "\n",
       "    .dataframe thead th {\n",
       "        text-align: right;\n",
       "    }\n",
       "</style>\n",
       "<table border=\"1\" class=\"dataframe\">\n",
       "  <thead>\n",
       "    <tr style=\"text-align: right;\">\n",
       "      <th></th>\n",
       "      <th>platform</th>\n",
       "      <th>Ventas globales promedio</th>\n",
       "    </tr>\n",
       "  </thead>\n",
       "  <tbody>\n",
       "    <tr>\n",
       "      <th>0</th>\n",
       "      <td>GB</td>\n",
       "      <td>2.606735</td>\n",
       "    </tr>\n",
       "    <tr>\n",
       "      <th>1</th>\n",
       "      <td>NES</td>\n",
       "      <td>2.561735</td>\n",
       "    </tr>\n",
       "    <tr>\n",
       "      <th>2</th>\n",
       "      <td>GEN</td>\n",
       "      <td>1.061034</td>\n",
       "    </tr>\n",
       "    <tr>\n",
       "      <th>3</th>\n",
       "      <td>SNES</td>\n",
       "      <td>0.836987</td>\n",
       "    </tr>\n",
       "    <tr>\n",
       "      <th>4</th>\n",
       "      <td>PS4</td>\n",
       "      <td>0.801378</td>\n",
       "    </tr>\n",
       "    <tr>\n",
       "      <th>5</th>\n",
       "      <td>X360</td>\n",
       "      <td>0.769746</td>\n",
       "    </tr>\n",
       "    <tr>\n",
       "      <th>6</th>\n",
       "      <td>2600</td>\n",
       "      <td>0.729173</td>\n",
       "    </tr>\n",
       "    <tr>\n",
       "      <th>7</th>\n",
       "      <td>PS3</td>\n",
       "      <td>0.705973</td>\n",
       "    </tr>\n",
       "    <tr>\n",
       "      <th>8</th>\n",
       "      <td>Wii</td>\n",
       "      <td>0.687508</td>\n",
       "    </tr>\n",
       "    <tr>\n",
       "      <th>9</th>\n",
       "      <td>N64</td>\n",
       "      <td>0.685517</td>\n",
       "    </tr>\n",
       "    <tr>\n",
       "      <th>10</th>\n",
       "      <td>XOne</td>\n",
       "      <td>0.645020</td>\n",
       "    </tr>\n",
       "    <tr>\n",
       "      <th>11</th>\n",
       "      <td>PS</td>\n",
       "      <td>0.610576</td>\n",
       "    </tr>\n",
       "    <tr>\n",
       "      <th>12</th>\n",
       "      <td>PS2</td>\n",
       "      <td>0.581106</td>\n",
       "    </tr>\n",
       "    <tr>\n",
       "      <th>13</th>\n",
       "      <td>WiiU</td>\n",
       "      <td>0.559116</td>\n",
       "    </tr>\n",
       "    <tr>\n",
       "      <th>14</th>\n",
       "      <td>3DS</td>\n",
       "      <td>0.498077</td>\n",
       "    </tr>\n",
       "    <tr>\n",
       "      <th>15</th>\n",
       "      <td>GBA</td>\n",
       "      <td>0.386679</td>\n",
       "    </tr>\n",
       "    <tr>\n",
       "      <th>16</th>\n",
       "      <td>DS</td>\n",
       "      <td>0.374765</td>\n",
       "    </tr>\n",
       "    <tr>\n",
       "      <th>17</th>\n",
       "      <td>GC</td>\n",
       "      <td>0.357788</td>\n",
       "    </tr>\n",
       "    <tr>\n",
       "      <th>18</th>\n",
       "      <td>XB</td>\n",
       "      <td>0.312791</td>\n",
       "    </tr>\n",
       "    <tr>\n",
       "      <th>19</th>\n",
       "      <td>SCD</td>\n",
       "      <td>0.310000</td>\n",
       "    </tr>\n",
       "    <tr>\n",
       "      <th>20</th>\n",
       "      <td>DC</td>\n",
       "      <td>0.306731</td>\n",
       "    </tr>\n",
       "    <tr>\n",
       "      <th>21</th>\n",
       "      <td>PC</td>\n",
       "      <td>0.266448</td>\n",
       "    </tr>\n",
       "    <tr>\n",
       "      <th>22</th>\n",
       "      <td>PSP</td>\n",
       "      <td>0.243218</td>\n",
       "    </tr>\n",
       "    <tr>\n",
       "      <th>23</th>\n",
       "      <td>WS</td>\n",
       "      <td>0.236667</td>\n",
       "    </tr>\n",
       "    <tr>\n",
       "      <th>24</th>\n",
       "      <td>SAT</td>\n",
       "      <td>0.194162</td>\n",
       "    </tr>\n",
       "    <tr>\n",
       "      <th>25</th>\n",
       "      <td>PSV</td>\n",
       "      <td>0.125744</td>\n",
       "    </tr>\n",
       "    <tr>\n",
       "      <th>26</th>\n",
       "      <td>NG</td>\n",
       "      <td>0.120000</td>\n",
       "    </tr>\n",
       "    <tr>\n",
       "      <th>27</th>\n",
       "      <td>TG16</td>\n",
       "      <td>0.080000</td>\n",
       "    </tr>\n",
       "    <tr>\n",
       "      <th>28</th>\n",
       "      <td>GG</td>\n",
       "      <td>0.040000</td>\n",
       "    </tr>\n",
       "    <tr>\n",
       "      <th>29</th>\n",
       "      <td>3DO</td>\n",
       "      <td>0.033333</td>\n",
       "    </tr>\n",
       "    <tr>\n",
       "      <th>30</th>\n",
       "      <td>PCFX</td>\n",
       "      <td>0.030000</td>\n",
       "    </tr>\n",
       "  </tbody>\n",
       "</table>\n",
       "</div>"
      ],
      "text/plain": [
       "   platform  Ventas globales promedio\n",
       "0        GB                  2.606735\n",
       "1       NES                  2.561735\n",
       "2       GEN                  1.061034\n",
       "3      SNES                  0.836987\n",
       "4       PS4                  0.801378\n",
       "5      X360                  0.769746\n",
       "6      2600                  0.729173\n",
       "7       PS3                  0.705973\n",
       "8       Wii                  0.687508\n",
       "9       N64                  0.685517\n",
       "10     XOne                  0.645020\n",
       "11       PS                  0.610576\n",
       "12      PS2                  0.581106\n",
       "13     WiiU                  0.559116\n",
       "14      3DS                  0.498077\n",
       "15      GBA                  0.386679\n",
       "16       DS                  0.374765\n",
       "17       GC                  0.357788\n",
       "18       XB                  0.312791\n",
       "19      SCD                  0.310000\n",
       "20       DC                  0.306731\n",
       "21       PC                  0.266448\n",
       "22      PSP                  0.243218\n",
       "23       WS                  0.236667\n",
       "24      SAT                  0.194162\n",
       "25      PSV                  0.125744\n",
       "26       NG                  0.120000\n",
       "27     TG16                  0.080000\n",
       "28       GG                  0.040000\n",
       "29      3DO                  0.033333\n",
       "30     PCFX                  0.030000"
      ]
     },
     "execution_count": 33,
     "metadata": {},
     "output_type": "execute_result"
    }
   ],
   "source": [
    "# agrupar por platform y ventas totales, obtener promedio\n",
    "ventas_globales = df_games.groupby('platform')['ventas_totales'].mean().sort_values(ascending=False).reset_index(name='Ventas globales promedio')\n",
    "ventas_globales"
   ]
  },
  {
   "cell_type": "markdown",
   "metadata": {},
   "source": [
    "<span style=\"color:blue; font-weight:bold\">\n",
    "En cuanto a las ventas globales por plataforma en el diagrama de caja y bigote se observa que GB, NES y GEN son los que cuentan con menos outliers y esto se comprueba con la tabla abajo del grafico en donde se extrajeron los promedios de ventas.\n",
    "</span>"
   ]
  },
  {
   "cell_type": "markdown",
   "metadata": {},
   "source": [
    "# 5.5 Reseñas de usuarios a la PS4"
   ]
  },
  {
   "cell_type": "code",
   "execution_count": 34,
   "metadata": {},
   "outputs": [
    {
     "name": "stdout",
     "output_type": "stream",
     "text": [
      "La correlacion entre las reseñas de expertos y las ventas es: 0.40656790206178095\n",
      "La correlacion entre las reseñas de usuarios y las ventas es: -0.031957110204556424\n"
     ]
    }
   ],
   "source": [
    "# crear filtro para ps4 \n",
    "filtro_ps4 = df_games[df_games['platform'] == 'PS4']\n",
    "\n",
    "# calcular la correlacion entre critic_score y ventas totales de la ps4 \n",
    "review_expert_ps4 = filtro_ps4['critic_score'].corr(filtro_ps4['ventas_totales'])\n",
    "\n",
    "# calcular la correlacion entre user_score y ventas totales de la ps4 \n",
    "review_user_ps4 = filtro_ps4['user_score'].corr(filtro_ps4['ventas_totales'])\n",
    "\n",
    "# mostrar el resultado de las correlaciones de la ps4\n",
    "print(f'La correlacion entre las reseñas de expertos y las ventas es: {review_expert_ps4}')\n",
    "print(f'La correlacion entre las reseñas de usuarios y las ventas es: {review_user_ps4}')"
   ]
  },
  {
   "cell_type": "code",
   "execution_count": 35,
   "metadata": {},
   "outputs": [
    {
     "data": {
      "image/png": "[encoded data removed]",
      "text/plain": [
       "<Figure size 1000x600 with 1 Axes>"
      ]
     },
     "metadata": {},
     "output_type": "display_data"
    }
   ],
   "source": [
    "# crear grafico de dispersion de las Reseñas de Expertos\n",
    "filtro_ps4.plot(x= 'critic_score',\n",
    "                y='ventas_totales' , \n",
    "                title='Correlacion entre las reseñas expertos y las ventas de la PS4',\n",
    "                xlabel= 'Reseñas de Expertos',\n",
    "                ylabel= 'Ventas Totales (millones de USD)',\n",
    "                kind= 'scatter', \n",
    "                color = 'green', \n",
    "                alpha=0.5,  \n",
    "                figsize=(10,6))\n",
    "plt.show()"
   ]
  },
  {
   "cell_type": "code",
   "execution_count": 36,
   "metadata": {},
   "outputs": [
    {
     "data": {
      "image/png": "[encoded data removed]",
      "text/plain": [
       "<Figure size 1000x600 with 1 Axes>"
      ]
     },
     "metadata": {},
     "output_type": "display_data"
    }
   ],
   "source": [
    "# crear grafico de dispersion de las Reseñas de Usuarios\n",
    "filtro_ps4.plot(x= 'user_score',\n",
    "                y='ventas_totales' , \n",
    "                title='Correlacion entre las reseñas de usuarios y las ventas de la PS4',\n",
    "                xlabel= 'Reseñas de Usuarios',\n",
    "                ylabel= 'Ventas Totales (millones de USD)',\n",
    "                kind= 'scatter', \n",
    "                color = 'firebrick', \n",
    "                alpha=0.5,  \n",
    "                figsize=(10,6))\n",
    "plt.show()"
   ]
  },
  {
   "cell_type": "markdown",
   "metadata": {},
   "source": [
    "<span style=\"color:blue; font-weight:bold\">\n",
    "Al calcular la correlación entre las reseñas de expertos y usuarios con respecto a las ventas totales se obtiene como resultado que existe una relación debil y positiva con respecto a las reseñas de expertos y las ventas totales, lo cual no es significativo, por otra parte los resultados de la correlación de las reseñas de usuarios con las ventas totales de la PS4 son negativas. Por lo tanto ninguna de las dos reseñas tienen una correlacion significativa con las ventas de la PS4, es decir, no influyen en las ventas de esta plataforma\n",
    "</span>"
   ]
  },
  {
   "cell_type": "markdown",
   "metadata": {},
   "source": [
    "# 5.6 Distribución general de los juegos por género "
   ]
  },
  {
   "cell_type": "code",
   "execution_count": 37,
   "metadata": {},
   "outputs": [
    {
     "name": "stdout",
     "output_type": "stream",
     "text": [
      "           genre  ventas_totales\n",
      "0         Action         1744.17\n",
      "10        Sports         1331.27\n",
      "8        Shooter         1052.45\n",
      "7   Role-Playing          934.56\n",
      "4       Platform          827.77\n",
      "3           Misc          802.51\n",
      "6         Racing          728.67\n",
      "2       Fighting          447.53\n",
      "9     Simulation          389.97\n",
      "5         Puzzle          242.57\n",
      "1      Adventure          237.59\n",
      "11      Strategy          174.23\n"
     ]
    }
   ],
   "source": [
    "# obtener el genero mas vendido por sus ventas totales \n",
    "ventas_genero = df_games.groupby('genre')['ventas_totales'].sum().reset_index()\n",
    "ventas_genero = ventas_genero.sort_values(by='ventas_totales',ascending=False)\n",
    "print(ventas_genero)"
   ]
  },
  {
   "cell_type": "code",
   "execution_count": 38,
   "metadata": {},
   "outputs": [
    {
     "name": "stdout",
     "output_type": "stream",
     "text": [
      "           genre  ventas_totales   valor_z\n",
      "0         Action         1744.17  2.179571\n",
      "10        Sports         1331.27  1.280880\n",
      "8        Shooter         1052.45  0.674020\n",
      "7   Role-Playing          934.56  0.417428\n",
      "4       Platform          827.77  0.184996\n",
      "3           Misc          802.51  0.130017\n",
      "6         Racing          728.67 -0.030698\n",
      "2       Fighting          447.53 -0.642609\n",
      "9     Simulation          389.97 -0.767890\n",
      "5         Puzzle          242.57 -1.088711\n",
      "1      Adventure          237.59 -1.099550\n",
      "11      Strategy          174.23 -1.237455\n"
     ]
    }
   ],
   "source": [
    "# calcular el valor z para conocer la rentabilidad \n",
    "ventas_genero['valor_z'] = st.zscore(ventas_genero['ventas_totales'])\n",
    "print(ventas_genero)"
   ]
  },
  {
   "cell_type": "code",
   "execution_count": 39,
   "metadata": {},
   "outputs": [
    {
     "data": {
      "image/png": "[encoded data removed]",
      "text/plain": [
       "<Figure size 1000x600 with 1 Axes>"
      ]
     },
     "metadata": {},
     "output_type": "display_data"
    }
   ],
   "source": [
    "plt.figure(figsize=(10, 6))\n",
    "\n",
    "sns.barplot(x='valor_z', y='genre', data=ventas_genero, palette='coolwarm')\n",
    "plt.title('Rentabilidad de Géneros de Videojuegos  por Z-Score')\n",
    "plt.xlabel('Z-Score de Ventas Totales')\n",
    "plt.ylabel('Género')\n",
    "\n",
    "plt.show()"
   ]
  },
  {
   "cell_type": "markdown",
   "metadata": {},
   "source": [
    "<span style=\"color:blue; font-weight:bold\">\n",
    "Para conocer la rentabilidad de los generos primero se calculo el puntaje Z, el cual nos indica a cuantas desviaciones estandard se encuentran con relación a la media, posteriormente se desarrolo un grafico en el cual se observa que los juegos de género Action, Sport, Shooter, Role-playing, Platform y Misc son los mas rentables, ya que su puntaje Z arrojo un resultado positivo. \n",
    "En cuanto a los generos de los juegos con ventas mas altas se encuentran los de Action y Sport, mientras los generos con menores ventas son Strategy y Adventure. \n",
    "</span>"
   ]
  },
  {
   "cell_type": "markdown",
   "metadata": {},
   "source": [
    "# 6. Perfil de usuario para cada región"
   ]
  },
  {
   "cell_type": "markdown",
   "metadata": {},
   "source": [
    "# 6.1 Región Norte America"
   ]
  },
  {
   "cell_type": "code",
   "execution_count": 40,
   "metadata": {},
   "outputs": [
    {
     "name": "stdout",
     "output_type": "stream",
     "text": [
      "Index(['X360', 'PS2', 'Wii', 'PS3', 'DS'], dtype='object', name='platform')\n"
     ]
    }
   ],
   "source": [
    "# filtro top 5 plataformas en NA \n",
    "platform_na = df_games.groupby('platform')['na_sales'].sum().sort_values(ascending=False)\n",
    "\n",
    "#crear variable top 5 de plataformas\n",
    "top5_na_platform = platform_na.head(5).index\n",
    "\n",
    "print(top5_na_platform)"
   ]
  },
  {
   "cell_type": "code",
   "execution_count": 41,
   "metadata": {},
   "outputs": [
    {
     "name": "stdout",
     "output_type": "stream",
     "text": [
      "           na_sales   eu_sales   jp_sales\n",
      "platform                                 \n",
      "DS        15.550405  13.575145  36.828746\n",
      "PS2       23.742019  24.384091  29.199530\n",
      "PS3       16.001383  23.737279  16.821195\n",
      "Wii       20.206580  18.844506  14.543128\n",
      "X360      24.499614  19.458978   2.607401\n"
     ]
    }
   ],
   "source": [
    "# filtrar el DF original con las plataformas principales\n",
    "top_na = df_games[df_games['platform'].isin(top5_na_platform)]\n",
    "\n",
    "# calcular cuotas del mercado de una region a otra\n",
    "na_cuotas = top_na.groupby('platform').agg({'na_sales' : 'sum', 'eu_sales' : 'sum', 'jp_sales': 'sum'})\n",
    "\n",
    "# calcular el total por columna\n",
    "total_na = na_cuotas.sum(axis=0)\n",
    "\n",
    "# obtener el porcentaje de cuotas en el mercado\n",
    "na_cuotas = (na_cuotas / total_na) * 100\n",
    "\n",
    "print(na_cuotas)"
   ]
  },
  {
   "cell_type": "code",
   "execution_count": 42,
   "metadata": {},
   "outputs": [
    {
     "data": {
      "image/png": "[encoded data removed]",
      "text/plain": [
       "<Figure size 1000x600 with 1 Axes>"
      ]
     },
     "metadata": {},
     "output_type": "display_data"
    }
   ],
   "source": [
    "# crear grafico de barras \n",
    "na_cuotas.plot(title='Cuotas del mercado de NA respecto a otros mercados',\n",
    "               xlabel='Plataforma', \n",
    "               ylabel='Cuota del mercado(%)',\n",
    "               kind='bar',\n",
    "               rot = 0,\n",
    "               color=['yellowgreen', 'sienna', 'indigo'],\n",
    "               figsize=(10,6))\n",
    "plt.show()"
   ]
  },
  {
   "cell_type": "markdown",
   "metadata": {},
   "source": [
    "<span style=\"color:blue; font-weight:bold\">\n",
    "En Norte America el top 5 de principales plataformas esta encabezada por el Xbox 360, seguido del PS2, Wii, PS3 y finalmente el DS. En el grafico de barras se muestra una comparacion del porcentaje de cuotas del mercado de las plataformas mas populares en NA, en donde se observa que claramente el Xbox 360 tiene un mayor porcentaje en esta region.\n",
    "</span>"
   ]
  },
  {
   "cell_type": "code",
   "execution_count": 43,
   "metadata": {
    "scrolled": false
   },
   "outputs": [
    {
     "name": "stdout",
     "output_type": "stream",
     "text": [
      "genre\n",
      "Action      879.01\n",
      "Sports      684.43\n",
      "Shooter     592.24\n",
      "Platform    445.50\n",
      "Misc        407.27\n",
      "Name: na_sales, dtype: float64\n"
     ]
    }
   ],
   "source": [
    "# filtro top 5 generos principales en NA\n",
    "genre_na = df_games.groupby('genre')['na_sales'].sum().sort_values(ascending=False)\n",
    "\n",
    "print(genre_na.head(5))"
   ]
  },
  {
   "cell_type": "markdown",
   "metadata": {},
   "source": [
    "<span style=\"color:blue; font-weight:bold\">\n",
    "En Norte America el top 5 de principales generos lo encabeza Action, seguido de Sports, Shooter, Platform y Misc, recordando el análisis de rentabilidad el top de Norte America coincide con los generos mas rentables\n",
    "</span>"
   ]
  },
  {
   "cell_type": "code",
   "execution_count": 44,
   "metadata": {},
   "outputs": [
    {
     "name": "stdout",
     "output_type": "stream",
     "text": [
      "rating_E       0.041764\n",
      "rating_E10+   -0.005453\n",
      "rating_EC     -0.001940\n",
      "rating_K-A     0.009716\n",
      "rating_M       0.085072\n",
      "rating_RP     -0.004337\n",
      "rating_T      -0.003873\n",
      "Name: na_sales, dtype: float64\n"
     ]
    }
   ],
   "source": [
    "# crear variable dummy para incluir los datos categoricos a la correlacion\n",
    "na_dummy = pd.get_dummies(df_games, columns=['rating'], drop_first=True)\n",
    "\n",
    "# correlacionar si la clasificacion afecta a las ventas \n",
    "na_correlacion = na_dummy.corr()['na_sales'].filter(like='rating')\n",
    "\n",
    "print(na_correlacion)"
   ]
  },
  {
   "cell_type": "markdown",
   "metadata": {},
   "source": [
    "<span style=\"color:blue; font-weight:bold\">\n",
    "En la última parte del análisis de la región de NA al contar con la variable categorica 'rating' se implemento el uso de variables dummy, esto con la finalidad de poder realizar el calculo de la correlación entre las distintas clasificaciones en esta region y si estas influyen en las ventas, sin embargo de las 7 clasificaciones de NA ninguna tiene una correlacion significativa, la mayoria son negativas y las unicas dos positivas estan muy lejos de tener una correlacion fuerte. Por lo tanto se podria concluir que las clasificaciones no influyen en las ventas de esta region. \n",
    "</span>"
   ]
  },
  {
   "cell_type": "markdown",
   "metadata": {},
   "source": [
    "# 6.2 Región Europa"
   ]
  },
  {
   "cell_type": "code",
   "execution_count": 45,
   "metadata": {},
   "outputs": [
    {
     "name": "stdout",
     "output_type": "stream",
     "text": [
      "Index(['PS2', 'PS3', 'X360', 'Wii', 'PS'], dtype='object', name='platform')\n"
     ]
    }
   ],
   "source": [
    "# filtro de plataformas principales en EU\n",
    "platform_eu = df_games.groupby('platform')['eu_sales'].sum().sort_values(ascending=False)\n",
    "\n",
    "# crear variable top 5 de plataformas\n",
    "eu_top5_platform = platform_eu.head(5).index\n",
    "\n",
    "print(eu_top5_platform)"
   ]
  },
  {
   "cell_type": "code",
   "execution_count": 46,
   "metadata": {},
   "outputs": [
    {
     "name": "stdout",
     "output_type": "stream",
     "text": [
      "           eu_sales   na_sales   jp_sales\n",
      "platform                                 \n",
      "PS        15.083748  13.944854  31.707372\n",
      "PS2       23.958451  24.193401  31.566773\n",
      "PS3       23.322930  16.305600  18.184911\n",
      "Wii       18.515563  20.590746  15.722158\n",
      "X360      19.119309  24.965399   2.818786\n"
     ]
    }
   ],
   "source": [
    "# filtrar el DF con el resultado del top 5\n",
    "top_eu = df_games[df_games['platform'].isin(eu_top5_platform)]\n",
    "\n",
    "# calcular cuotas del mercado \n",
    "eu_cuotas = top_eu.groupby('platform').agg({'eu_sales': 'sum', 'na_sales': 'sum', 'jp_sales': 'sum'})\n",
    "\n",
    "# calcular el total por columnas\n",
    "total_eu = eu_cuotas.sum(axis=0)\n",
    "\n",
    "# obtener el porcentaje de cuotas en el mercado\n",
    "eu_cuotas = (eu_cuotas / total_eu) * 100\n",
    "\n",
    "print(eu_cuotas)\n",
    "                         "
   ]
  },
  {
   "cell_type": "code",
   "execution_count": 47,
   "metadata": {
    "scrolled": false
   },
   "outputs": [
    {
     "data": {
      "image/png": "[encoded data removed]",
      "text/plain": [
       "<Figure size 1000x600 with 1 Axes>"
      ]
     },
     "metadata": {},
     "output_type": "display_data"
    }
   ],
   "source": [
    "# crear grafico de barras \n",
    "eu_cuotas.plot(title='Mercado de cuotas de EU con respecto a otros mercados', \n",
    "               xlabel= 'Plataformas',\n",
    "               ylabel='Cuota del mercado(%)',\n",
    "               kind='bar',\n",
    "               rot=0, \n",
    "               color=['violet', 'turquoise', 'palegreen'],\n",
    "               figsize=(10,6))\n",
    "plt.show()"
   ]
  },
  {
   "cell_type": "markdown",
   "metadata": {},
   "source": [
    "<span style=\"color:blue; font-weight:bold\">\n",
    "En Europa el top 5 de principales plataformas esta encabezada por PS2, seguido del PS3, Xbox 360, Wii y por ultimo el PS. Sin embargo al compararlo con otros mercados el PS2 y el PS tienen mayor porcentaje de cuotas en el mercado Japonés. El único que lidera este porcentaje para esta region es el PS3.\n",
    "</span>"
   ]
  },
  {
   "cell_type": "code",
   "execution_count": 48,
   "metadata": {
    "scrolled": true
   },
   "outputs": [
    {
     "name": "stdout",
     "output_type": "stream",
     "text": [
      "genre\n",
      "Action     519.13\n",
      "Sports     376.79\n",
      "Shooter    317.34\n",
      "Racing     236.51\n",
      "Misc       212.74\n",
      "Name: eu_sales, dtype: float64\n"
     ]
    }
   ],
   "source": [
    "# Top 5 generos principales en EU\n",
    "genre_eu = df_games.groupby('genre')['eu_sales'].sum().sort_values(ascending=False)\n",
    "print(genre_eu.head(5))"
   ]
  },
  {
   "cell_type": "markdown",
   "metadata": {},
   "source": [
    "<span style=\"color:blue; font-weight:bold\">\n",
    "Siguiendo con el análisis el top 5 de generos principales para Europa esta encabezado por Action, seguido de Sports, Shooter, Racing y Misc. La mayoria de los géneros de videojuegos siguen el analisis de rentabilidad previamente realizado, sin embargo el género racing ocupa la cuarta posición de este top, por lo cual debera ser considerado para la campaña de 2017 ya que es un genero no rentable y esto podría causar efectos negativos, es decir, perdidas.\n",
    "</span>"
   ]
  },
  {
   "cell_type": "code",
   "execution_count": 49,
   "metadata": {},
   "outputs": [
    {
     "name": "stdout",
     "output_type": "stream",
     "text": [
      "rating_E       0.036656\n",
      "rating_E10+   -0.007445\n",
      "rating_EC     -0.005709\n",
      "rating_K-A    -0.001466\n",
      "rating_M       0.105022\n",
      "rating_RP     -0.003152\n",
      "rating_T      -0.000776\n",
      "Name: eu_sales, dtype: float64\n"
     ]
    }
   ],
   "source": [
    "# crear variable dummy para incluir los datos categoricos a la correlacion\n",
    "eu_dummy = pd.get_dummies(df_games, columns=['rating'], drop_first=True)\n",
    "\n",
    "# correlacionar la clasificacion con las ventas \n",
    "eu_correlacion = eu_dummy.corr()['eu_sales'].filter(like='rating')\n",
    "\n",
    "print(eu_correlacion)"
   ]
  },
  {
   "cell_type": "markdown",
   "metadata": {},
   "source": [
    "<span style=\"color:blue; font-weight:bold\">\n",
    "En esta ultima parte en el analisis de la region de Europa, se implementaron variables dummy, para poder correlacionar la variable categorica 'rating' y si estas influyen en las ventas de EU, sin embargo al analizarlas la mayoria son negativas y muy lejanas a -1 por lo tanto es una correlacion negativa y debil, por otra parte las clasificaciones positivas de igual manera son debiles, por lo cual ninguna de ellas influye directamente a las ventas de esta region.\n",
    "</span>"
   ]
  },
  {
   "cell_type": "markdown",
   "metadata": {},
   "source": [
    "# 6.3 Región Japón"
   ]
  },
  {
   "cell_type": "code",
   "execution_count": 50,
   "metadata": {},
   "outputs": [
    {
     "name": "stdout",
     "output_type": "stream",
     "text": [
      "Index(['DS', 'PS', 'PS2', 'SNES', '3DS'], dtype='object', name='platform')\n"
     ]
    }
   ],
   "source": [
    "# filtro top 5 plataformas principales en JP\n",
    "platform_jp = df_games.groupby('platform')['jp_sales'].sum().sort_values(ascending=False)\n",
    "\n",
    "# crear variable que almacene el top 5 de plataformas \n",
    "top5_platform_jp = platform_jp.head(5).index\n",
    "\n",
    "print(top5_platform_jp)"
   ]
  },
  {
   "cell_type": "code",
   "execution_count": 51,
   "metadata": {},
   "outputs": [
    {
     "name": "stdout",
     "output_type": "stream",
     "text": [
      "           jp_sales   na_sales   eu_sales\n",
      "platform                                 \n",
      "3DS       14.984892   5.767955   7.476499\n",
      "DS        26.133877  26.418327  22.970656\n",
      "PS        20.812432  23.248680  25.976821\n",
      "PS2       20.720144  40.334927  41.260595\n",
      "SNES      17.348655   4.230110   2.315428\n"
     ]
    }
   ],
   "source": [
    "# filtrar DF original con el top 5 \n",
    "top_jp = df_games[df_games['platform'].isin(top5_platform_jp)]\n",
    "\n",
    "# calcular las cuotas del mercado \n",
    "cuotas_jp = top_jp.groupby('platform').agg({'jp_sales': 'sum', 'na_sales': 'sum', 'eu_sales': 'sum'})\n",
    "\n",
    "# calcular el porcentaje de cuotas segun el mercado por columna\n",
    "total_jp = cuotas_jp.sum(axis=0)\n",
    "cuotas_jp = (cuotas_jp / total_jp) * 100\n",
    "\n",
    "print(cuotas_jp)"
   ]
  },
  {
   "cell_type": "code",
   "execution_count": 52,
   "metadata": {},
   "outputs": [
    {
     "data": {
      "image/png": "[encoded data removed]",
      "text/plain": [
       "<Figure size 1000x600 with 1 Axes>"
      ]
     },
     "metadata": {},
     "output_type": "display_data"
    }
   ],
   "source": [
    "# crear grafica de barras con cuotas del mercado de JP\n",
    "cuotas_jp.plot(title='Mercado de cuotas de JP con respecto a otros mercados', \n",
    "               xlabel= 'Plataformas',\n",
    "               ylabel='Cuota del mercado(%)',\n",
    "               kind='bar',\n",
    "               rot=0, \n",
    "               color=['seagreen', 'plum', 'coral'],\n",
    "               figsize=(10,6))\n",
    "plt.show()"
   ]
  },
  {
   "cell_type": "markdown",
   "metadata": {},
   "source": [
    "<span style=\"color:blue; font-weight:bold\">\n",
    "El top 5 de plataformas principales en Japón estan lideradas por la DS, seguidos de la PS2, PS, SNES y la nintendo 3DS. Sin embargo. la unica de estas consolas que tiene un claro porcentaje de cuotas con respecto a los otros mercados es la SNES.\n",
    "</span>"
   ]
  },
  {
   "cell_type": "code",
   "execution_count": 53,
   "metadata": {},
   "outputs": [
    {
     "name": "stdout",
     "output_type": "stream",
     "text": [
      "genre\n",
      "Action       161.43\n",
      "Adventure     52.30\n",
      "Fighting      87.48\n",
      "Misc         108.11\n",
      "Platform     130.83\n",
      "Name: jp_sales, dtype: float64\n"
     ]
    }
   ],
   "source": [
    "# filtro top 5 generos principales\n",
    "genre_jp = df_games.groupby('genre')['jp_sales'].sum().sort_index()\n",
    "print(genre_jp.head(5))"
   ]
  },
  {
   "cell_type": "markdown",
   "metadata": {},
   "source": [
    "<span style=\"color:blue; font-weight:bold\">\n",
    "En cuanto al top 5 de generos principales se observa que Action lidera la lista, seguido de Adventure, Fighting, Misc y Platform, solo 3 de estos generos se encuentran dentro de la rentabilidad de videojuegos. Los generos como Fighting y Adventure se encuentran dentro de los menos rentables por lo cual es necesario no considerarlos dentro de la campaña de 2017.\n",
    "</span>"
   ]
  },
  {
   "cell_type": "code",
   "execution_count": 54,
   "metadata": {},
   "outputs": [
    {
     "name": "stdout",
     "output_type": "stream",
     "text": [
      "rating_E      -0.050704\n",
      "rating_E10+   -0.048645\n",
      "rating_EC     -0.005499\n",
      "rating_K-A     0.017745\n",
      "rating_M      -0.037975\n",
      "rating_RP     -0.003367\n",
      "rating_T      -0.039790\n",
      "Name: jp_sales, dtype: float64\n"
     ]
    }
   ],
   "source": [
    "# crear variable dummy para incluir los datos categoricos a la correlacion\n",
    "jp_dummy = pd.get_dummies(df_games, columns=['rating'], drop_first=True)\n",
    "\n",
    "# correlacionar la clasificacion con las ventas de JP\n",
    "jp_correlacion = jp_dummy.corr()['jp_sales'].filter(like='rating')\n",
    "\n",
    "print(jp_correlacion)"
   ]
  },
  {
   "cell_type": "markdown",
   "metadata": {},
   "source": [
    "<span style=\"color:blue; font-weight:bold\">\n",
    "En esta ultima parte en el analisis de la region de Japón, se implementaron variables dummy, para poder correlacionar la variable categorica 'rating' y si estas influyen en las ventas de JP, sin embargo al analizarlas todas excepto 1 son negativas y debiles. Asimismo la unica clasificacion que es positiva se encuentra muy lejos de 1 por lo cual ninguna de ellas influye directamente en la ventas de esta region.\n",
    "</span>"
   ]
  },
  {
   "cell_type": "markdown",
   "metadata": {},
   "source": [
    "# 6. Prueba de hipótesis "
   ]
  },
  {
   "cell_type": "markdown",
   "metadata": {},
   "source": [
    "# Hipótesis 1: Las calificaciones promedio de los usuarios para las plataformas Xbox One y PC son las mismas."
   ]
  },
  {
   "cell_type": "markdown",
   "metadata": {},
   "source": [
    "# Hipótesis Nula - no existen diferencias entre las calificaciones promedio de los usuarios para las plataformas Xbox One y PC"
   ]
  },
  {
   "cell_type": "markdown",
   "metadata": {},
   "source": [
    "# Hipótesis Alternativa - existen diferencias entre las calificaciones promedio de los usuarios para las plataformas Xbox One y PC"
   ]
  },
  {
   "cell_type": "code",
   "execution_count": 55,
   "metadata": {},
   "outputs": [
    {
     "name": "stdout",
     "output_type": "stream",
     "text": [
      "El promedio de las calificaciones de user_score para xbox es: 6.521428571428572\n",
      "\n",
      "El promedio de las calificaciones de user_score para pc es: 7.062467532467533\n"
     ]
    }
   ],
   "source": [
    "# filtro para Xbox One\n",
    "filtro_xbox = df_games[df_games['platform'] == 'XOne']['user_score'].dropna()\n",
    "mean_xbox = filtro_xbox.mean()\n",
    "# filtro para PC\n",
    "filtro_pc = df_games[df_games['platform'] =='PC']['user_score'].dropna()\n",
    "mean_pc = filtro_pc.mean()\n",
    "\n",
    "print(f'El promedio de las calificaciones de user_score para xbox es: {mean_xbox}')\n",
    "print(f'\\nEl promedio de las calificaciones de user_score para pc es: {mean_pc}')\n"
   ]
  },
  {
   "cell_type": "code",
   "execution_count": 56,
   "metadata": {},
   "outputs": [
    {
     "name": "stdout",
     "output_type": "stream",
     "text": [
      "El valor p es:  1.3896435533548819e-05\n",
      "Rechazar hipótesis nula\n"
     ]
    }
   ],
   "source": [
    "# establecer valor alpha \n",
    "alpha = 0.05\n",
    "\n",
    "# realizar prueba ttest para independientes \n",
    "diferencia_promedios = st.ttest_ind(filtro_xbox, filtro_pc)\n",
    "\n",
    "# extraer el valor p\n",
    "print('El valor p es: ', diferencia_promedios.pvalue)\n",
    "\n",
    "# comparar el valor p con el nivel de significancia \n",
    "if diferencia_promedios.pvalue < alpha: \n",
    "    print('Rechazar hipótesis nula')\n",
    "else:\n",
    "    print('No podemos rechazar la hipótesis nula')"
   ]
  },
  {
   "cell_type": "markdown",
   "metadata": {},
   "source": [
    "<span style=\"color:blue; font-weight:bold\">\n",
    "Para comprobar la primera hipótesis se creo un filtro para extraer los datos de las calificaciones de usuarios para el Xbox One y para la PC, una vez que se extrajeron se considero un nivel de significancia(alpha) en 0.05, se eligio la prueba T de student para muestras independientes, de esta manera se obtuvo un valor p mayor al alpha por lo cual se rechaza la hipotesis nula y se puede decir que si existen diferencias significativas en los promedios de calificaciones de usuarios para las plataformas de Xbox One y PC.\n",
    "</span>"
   ]
  },
  {
   "cell_type": "markdown",
   "metadata": {},
   "source": [
    "# Hipótesis 2: Las calificaciones promedio de los usuarios para los géneros de Acción y Deportes son diferentes."
   ]
  },
  {
   "cell_type": "markdown",
   "metadata": {},
   "source": [
    "# Hipótesis nula: No existen diferencias entre las calificaciones promedio de los usuarios para los géneros de Acción y Deportes"
   ]
  },
  {
   "cell_type": "markdown",
   "metadata": {},
   "source": [
    "# Hipótesis alternativa:  Existen diferencias entre las calificaciones promedio de los usuarios para los géneros de Acción y Deportes"
   ]
  },
  {
   "cell_type": "code",
   "execution_count": 57,
   "metadata": {},
   "outputs": [
    {
     "name": "stdout",
     "output_type": "stream",
     "text": [
      "El promedio de las calificaciones de user_score para Action es: 7.054043715846995\n",
      "\n",
      "El promedio de las calificaciones de user_score para Sporst es: 6.961196736174069\n"
     ]
    }
   ],
   "source": [
    "# filtro para action\n",
    "filtro_action = df_games[df_games['genre'] == 'Action']['user_score'].dropna()\n",
    "mean_action = filtro_action.mean()\n",
    "\n",
    "# filtro para sports \n",
    "filtro_sports = df_games[df_games['genre'] == 'Sports']['user_score'].dropna()\n",
    "mean_sports = filtro_sports.mean()\n",
    "\n",
    "print(f'El promedio de las calificaciones de user_score para Action es: {mean_action}')\n",
    "print(f'\\nEl promedio de las calificaciones de user_score para Sporst es: {mean_sports}')"
   ]
  },
  {
   "cell_type": "code",
   "execution_count": 58,
   "metadata": {},
   "outputs": [
    {
     "name": "stdout",
     "output_type": "stream",
     "text": [
      "El valor p es: 0.10406951359049141\n",
      "No podemos rechazar la hipótesis nula\n"
     ]
    }
   ],
   "source": [
    "# realizar prueba ttest \n",
    "promedio_genre = st.ttest_ind(filtro_action, filtro_sports)\n",
    "\n",
    "# extraer el valor p\n",
    "print(f'El valor p es:', promedio_genre.pvalue)\n",
    "\n",
    "# comparar el valor p con el nivel de significancia \n",
    "if promedio_genre.pvalue < alpha: \n",
    "    print('Rechazar hipótesis nula')\n",
    "else:\n",
    "    print('No podemos rechazar la hipótesis nula')"
   ]
  },
  {
   "cell_type": "markdown",
   "metadata": {},
   "source": [
    "<span style=\"color:blue; font-weight:bold\">\n",
    "Para la ultima hipótesis de igual manera que en la anterior se establecio un nivel de significancia (alpha) de 0.05 se eligio una prueba t de student para muestras independientes. Esto dio como resultado un valor p menor al alpha por lo cual la hipotesis nula no puede ser rechazada, lo que indica que no hay una diferencia significativa entre los promedios de las calificaciones de usuarios que juegan videojuegos del género Action y Sports. \n",
    "</span>"
   ]
  },
  {
   "cell_type": "markdown",
   "metadata": {},
   "source": [
    "# 7.  Conclusión General"
   ]
  },
  {
   "cell_type": "markdown",
   "metadata": {},
   "source": [
    "<span style=\"color:blue; font-weight:bold\">\n",
    "Esta base de datos contaba con muchas de sus columnas con datos ausentes, principalmente en las columnas de rating, criticas de expertos y usuarios, sin embargo no fue posible rellenar estos valores con la media o mediana, debido a que esto produciria un sesgo en los datos, ya que son opiniones de jugadores reales, por lo cual se decidio mantener los NaN. En cuanto a valores duplicados no se encontraron dentro del DataSet. Para algunas columnas como year_of_release y user_score fue necesario cambiar el tipo de datos para un mejor manejo en el analisis. \n",
    "    \n",
    "    \n",
    "En el analisis se obtuvieron resultados interesantes, por ejemplo las mejores ventas de videojuegos se obtuvieron en los años 2008 y 2009, aqui existieron muchos lanzamientos. Por otra parte al realizar un analisis de rentabilidad segun el valor Z de cada plataforma, se obtuvo como resultado que la consola PS2, Xbox 360, PS3, entre otras son las mas rentables esto considerando todos los años del DF. Sin embargo para realizar la campaña de 2017 fue necesario tomar los datos de 5 años antes, es decir, de 2012, esto se debe al tipo de mercado y su fluctuacion. \n",
    "Una vez realizado este filtro, se obtuvo que la PS4 y el Xbox One eran las mas rentables, ya que mantuvieron sus ventas y no se desplomaron como la nintendo 3DS o el PS3. \n",
    "    \n",
    "Por otra parte se realizo un analisis de rentabilidad sobre el genero de los videojuegos, esto dio como resultado dos partes, los generos mas rentables de videojuegos como Action, Sports, Shooter, y los menos rentables como Strategy, Adventure, Puzzle, entre otros. \n",
    "    \n",
    "De esta manera se analizo el mercado de cada uno de las regiones incluidas en este DataSet lo que dio resultados a considerarse. En la region de NA, se identifico que las consolas lideres son Xbox 360 y el Wii, los jugadores tienen una inclinacion hacia los videojuegos de Accion, Sports, Shooters entre otros. Para la region de EU la consola lider fue la PS3, la inclinacion de los jugadores al genero de los videojuegos fue muy similar a la de NA, sin embargo, tambien la categoria Racing se encuentra dentro del top 5 de preferencias, pero dicha categoria se encuentra en los videojuegos menos rentables, por lo cual es necesario tomarlo en consideracion.\n",
    "\n",
    "Por ultimo, para la region de JP las consolas lideres en ventas son el 3DS, DS y la SNES, en cuanto a los generos, se detectaron dos categorias (Adventure y Fighting) dentro del top 5 de preferencias, estos tambien se encuentran en los menos rentables. Además se realizo una correlación en todas las regiones, para saber si las clasificaciones de los videojuegos afectaban a las cuotas de ventas, pero esto arrojo en la gran mayoria una correlacion negativa y debil.\n",
    "\n",
    "Finalmente en la comprobacion de las hipotesis: en la primera se encontro que si existen diferencias significativas en las calificaciones promedio de los usuarios para las plataformas de Xbox One y PC. En cuanto a la segunda hipotesis, no se obtuvo una diferencia significativa en los promedios del genero de Action y Sports, esto se observo en las graficas, ya que los dos son lideres en los videojuegos mas rentables.\n",
    "</span>"
   ]
  }
 ],
 "metadata": {
  "ExecuteTimeLog": [
   {
    "duration": 4352,
    "start_time": "2024-08-22T23:26:49.681Z"
   },
   {
    "duration": 502,
    "start_time": "2024-08-22T23:33:03.433Z"
   },
   {
    "duration": 54,
    "start_time": "2024-08-22T23:34:40.028Z"
   },
   {
    "duration": 54,
    "start_time": "2024-08-22T23:35:44.718Z"
   },
   {
    "duration": 46,
    "start_time": "2024-08-22T23:38:26.917Z"
   },
   {
    "duration": 52,
    "start_time": "2024-08-22T23:38:39.533Z"
   },
   {
    "duration": 193,
    "start_time": "2024-08-22T23:43:12.354Z"
   },
   {
    "duration": 16,
    "start_time": "2024-08-22T23:49:31.997Z"
   },
   {
    "duration": 6,
    "start_time": "2024-08-22T23:49:48.368Z"
   },
   {
    "duration": 6,
    "start_time": "2024-08-22T23:50:07.528Z"
   },
   {
    "duration": 12,
    "start_time": "2024-08-22T23:51:51.029Z"
   },
   {
    "duration": 14,
    "start_time": "2024-08-22T23:59:36.293Z"
   },
   {
    "duration": 8,
    "start_time": "2024-08-23T00:00:15.590Z"
   },
   {
    "duration": 27,
    "start_time": "2024-08-23T00:00:25.376Z"
   },
   {
    "duration": 1441,
    "start_time": "2024-08-23T00:08:24.018Z"
   },
   {
    "duration": 1145,
    "start_time": "2024-08-23T00:10:17.409Z"
   },
   {
    "duration": 38,
    "start_time": "2024-08-23T00:10:18.559Z"
   },
   {
    "duration": 77,
    "start_time": "2024-08-23T00:10:18.601Z"
   },
   {
    "duration": 5,
    "start_time": "2024-08-23T00:10:18.681Z"
   },
   {
    "duration": 11,
    "start_time": "2024-08-23T00:10:23.204Z"
   },
   {
    "duration": 1577,
    "start_time": "2024-08-23T00:10:26.779Z"
   },
   {
    "duration": 8,
    "start_time": "2024-08-23T00:11:57.537Z"
   },
   {
    "duration": 7,
    "start_time": "2024-08-23T00:12:05.242Z"
   },
   {
    "duration": 14,
    "start_time": "2024-08-23T00:13:11.338Z"
   },
   {
    "duration": 17,
    "start_time": "2024-08-23T00:15:16.820Z"
   },
   {
    "duration": 16,
    "start_time": "2024-08-23T00:15:26.062Z"
   },
   {
    "duration": 11,
    "start_time": "2024-08-23T00:15:46.395Z"
   },
   {
    "duration": 7,
    "start_time": "2024-08-23T00:20:14.609Z"
   },
   {
    "duration": 136,
    "start_time": "2024-08-23T00:20:18.667Z"
   },
   {
    "duration": 96,
    "start_time": "2024-08-23T00:21:09.845Z"
   },
   {
    "duration": 1163,
    "start_time": "2024-08-23T00:21:57.813Z"
   },
   {
    "duration": 39,
    "start_time": "2024-08-23T00:21:58.981Z"
   },
   {
    "duration": 65,
    "start_time": "2024-08-23T00:21:59.022Z"
   },
   {
    "duration": 5,
    "start_time": "2024-08-23T00:21:59.090Z"
   },
   {
    "duration": 39,
    "start_time": "2024-08-23T00:21:59.100Z"
   },
   {
    "duration": 19,
    "start_time": "2024-08-23T00:21:59.143Z"
   },
   {
    "duration": 10,
    "start_time": "2024-08-23T00:21:59.165Z"
   },
   {
    "duration": 6,
    "start_time": "2024-08-23T00:22:03.831Z"
   },
   {
    "duration": 1600,
    "start_time": "2024-08-23T00:22:06.925Z"
   },
   {
    "duration": 1347,
    "start_time": "2024-08-23T00:24:40.241Z"
   },
   {
    "duration": 48,
    "start_time": "2024-08-23T00:24:41.593Z"
   },
   {
    "duration": 58,
    "start_time": "2024-08-23T00:24:41.644Z"
   },
   {
    "duration": 5,
    "start_time": "2024-08-23T00:24:41.705Z"
   },
   {
    "duration": 11,
    "start_time": "2024-08-23T00:24:41.735Z"
   },
   {
    "duration": 19,
    "start_time": "2024-08-23T00:24:41.750Z"
   },
   {
    "duration": 10,
    "start_time": "2024-08-23T00:24:41.772Z"
   },
   {
    "duration": 5,
    "start_time": "2024-08-23T00:24:46.829Z"
   },
   {
    "duration": 11,
    "start_time": "2024-08-23T00:24:50.220Z"
   },
   {
    "duration": 10,
    "start_time": "2024-08-23T00:25:57.153Z"
   },
   {
    "duration": 7,
    "start_time": "2024-08-23T00:26:21.504Z"
   },
   {
    "duration": 304,
    "start_time": "2024-08-23T02:22:37.302Z"
   },
   {
    "duration": 0,
    "start_time": "2024-08-23T02:22:37.608Z"
   },
   {
    "duration": 4766,
    "start_time": "2024-08-23T02:22:44.408Z"
   },
   {
    "duration": 56,
    "start_time": "2024-08-23T02:22:53.514Z"
   },
   {
    "duration": 58,
    "start_time": "2024-08-23T02:22:57.715Z"
   },
   {
    "duration": 5,
    "start_time": "2024-08-23T02:23:02.072Z"
   },
   {
    "duration": 11,
    "start_time": "2024-08-23T02:23:04.498Z"
   },
   {
    "duration": 19,
    "start_time": "2024-08-23T02:23:07.152Z"
   },
   {
    "duration": 11,
    "start_time": "2024-08-23T02:23:10.534Z"
   },
   {
    "duration": 5,
    "start_time": "2024-08-23T02:23:13.940Z"
   },
   {
    "duration": 14,
    "start_time": "2024-08-23T02:23:16.602Z"
   },
   {
    "duration": 1134,
    "start_time": "2024-08-23T02:24:10.802Z"
   },
   {
    "duration": 37,
    "start_time": "2024-08-23T02:24:11.940Z"
   },
   {
    "duration": 85,
    "start_time": "2024-08-23T02:24:11.979Z"
   },
   {
    "duration": 4,
    "start_time": "2024-08-23T02:24:12.067Z"
   },
   {
    "duration": 11,
    "start_time": "2024-08-23T02:24:12.075Z"
   },
   {
    "duration": 47,
    "start_time": "2024-08-23T02:24:12.089Z"
   },
   {
    "duration": 11,
    "start_time": "2024-08-23T02:24:12.139Z"
   },
   {
    "duration": 6,
    "start_time": "2024-08-23T02:24:12.153Z"
   },
   {
    "duration": 21,
    "start_time": "2024-08-23T02:24:17.040Z"
   },
   {
    "duration": 19,
    "start_time": "2024-08-23T02:24:29.686Z"
   },
   {
    "duration": 35,
    "start_time": "2024-08-23T02:24:36.296Z"
   },
   {
    "duration": 18,
    "start_time": "2024-08-23T02:24:47.618Z"
   },
   {
    "duration": 4,
    "start_time": "2024-08-23T02:26:14.925Z"
   },
   {
    "duration": 4822,
    "start_time": "2024-08-24T00:34:04.405Z"
   },
   {
    "duration": 54,
    "start_time": "2024-08-24T00:34:09.232Z"
   },
   {
    "duration": 62,
    "start_time": "2024-08-24T00:34:09.289Z"
   },
   {
    "duration": 17,
    "start_time": "2024-08-24T00:34:09.354Z"
   },
   {
    "duration": 32,
    "start_time": "2024-08-24T00:34:09.377Z"
   },
   {
    "duration": 4,
    "start_time": "2024-08-24T00:34:09.412Z"
   },
   {
    "duration": 11,
    "start_time": "2024-08-24T00:34:09.420Z"
   },
   {
    "duration": 5,
    "start_time": "2024-08-24T00:34:16.947Z"
   },
   {
    "duration": 18,
    "start_time": "2024-08-24T00:34:23.549Z"
   },
   {
    "duration": 393,
    "start_time": "2024-08-24T00:36:20.509Z"
   },
   {
    "duration": 7,
    "start_time": "2024-08-24T00:36:28.368Z"
   },
   {
    "duration": 34,
    "start_time": "2024-08-24T00:37:15.439Z"
   },
   {
    "duration": 27,
    "start_time": "2024-08-24T00:40:00.654Z"
   },
   {
    "duration": 6,
    "start_time": "2024-08-24T00:40:14.176Z"
   },
   {
    "duration": 7,
    "start_time": "2024-08-24T00:40:52.607Z"
   },
   {
    "duration": 7,
    "start_time": "2024-08-24T00:44:05.094Z"
   },
   {
    "duration": 16,
    "start_time": "2024-08-24T00:44:24.329Z"
   },
   {
    "duration": 850,
    "start_time": "2024-08-24T00:54:11.514Z"
   },
   {
    "duration": 81,
    "start_time": "2024-08-24T00:54:37.379Z"
   },
   {
    "duration": 10,
    "start_time": "2024-08-24T00:55:21.433Z"
   },
   {
    "duration": 8,
    "start_time": "2024-08-24T00:55:34.775Z"
   },
   {
    "duration": 7,
    "start_time": "2024-08-24T00:56:17.894Z"
   },
   {
    "duration": 8,
    "start_time": "2024-08-24T00:56:20.164Z"
   },
   {
    "duration": 22,
    "start_time": "2024-08-24T00:58:43.256Z"
   },
   {
    "duration": 337,
    "start_time": "2024-08-24T01:04:30.859Z"
   },
   {
    "duration": 22,
    "start_time": "2024-08-24T01:04:48.044Z"
   },
   {
    "duration": 15,
    "start_time": "2024-08-24T01:06:43.089Z"
   },
   {
    "duration": 16,
    "start_time": "2024-08-24T01:07:16.079Z"
   },
   {
    "duration": 11,
    "start_time": "2024-08-24T01:10:39.226Z"
   },
   {
    "duration": 14,
    "start_time": "2024-08-24T01:10:53.633Z"
   },
   {
    "duration": 11,
    "start_time": "2024-08-24T01:13:33.793Z"
   },
   {
    "duration": 10,
    "start_time": "2024-08-24T01:16:13.392Z"
   },
   {
    "duration": 11,
    "start_time": "2024-08-24T01:17:36.731Z"
   },
   {
    "duration": 4,
    "start_time": "2024-08-24T01:18:03.632Z"
   },
   {
    "duration": 7,
    "start_time": "2024-08-24T01:18:16.469Z"
   },
   {
    "duration": 4,
    "start_time": "2024-08-24T01:18:24.999Z"
   },
   {
    "duration": 7,
    "start_time": "2024-08-24T01:27:53.730Z"
   },
   {
    "duration": 189,
    "start_time": "2024-08-24T01:28:04.569Z"
   },
   {
    "duration": 182,
    "start_time": "2024-08-24T01:28:11.190Z"
   },
   {
    "duration": 329,
    "start_time": "2024-08-24T01:29:05.417Z"
   },
   {
    "duration": 236,
    "start_time": "2024-08-24T01:30:06.263Z"
   },
   {
    "duration": 25,
    "start_time": "2024-08-24T01:30:52.314Z"
   },
   {
    "duration": 253,
    "start_time": "2024-08-24T01:31:03.688Z"
   },
   {
    "duration": 223,
    "start_time": "2024-08-24T01:31:20.762Z"
   },
   {
    "duration": 382,
    "start_time": "2024-08-24T01:34:30.726Z"
   },
   {
    "duration": 632,
    "start_time": "2024-08-24T01:34:51.389Z"
   },
   {
    "duration": 387,
    "start_time": "2024-08-24T01:35:17.055Z"
   },
   {
    "duration": 376,
    "start_time": "2024-08-24T01:35:28.025Z"
   },
   {
    "duration": 391,
    "start_time": "2024-08-24T01:35:39.646Z"
   },
   {
    "duration": 1025,
    "start_time": "2024-08-24T01:43:43.570Z"
   },
   {
    "duration": 471,
    "start_time": "2024-08-24T01:44:02.642Z"
   },
   {
    "duration": 569,
    "start_time": "2024-08-24T01:44:15.283Z"
   },
   {
    "duration": 429,
    "start_time": "2024-08-24T01:44:59.545Z"
   },
   {
    "duration": 437,
    "start_time": "2024-08-24T01:47:01.249Z"
   },
   {
    "duration": 452,
    "start_time": "2024-08-24T01:47:44.288Z"
   },
   {
    "duration": 26,
    "start_time": "2024-08-24T01:49:27.452Z"
   },
   {
    "duration": 9,
    "start_time": "2024-08-24T01:49:36.808Z"
   },
   {
    "duration": 20,
    "start_time": "2024-08-24T01:49:50.727Z"
   },
   {
    "duration": 8,
    "start_time": "2024-08-24T01:51:19.944Z"
   },
   {
    "duration": 9,
    "start_time": "2024-08-24T01:51:33.549Z"
   },
   {
    "duration": 6,
    "start_time": "2024-08-24T01:57:43.326Z"
   },
   {
    "duration": 15,
    "start_time": "2024-08-24T01:57:52.548Z"
   },
   {
    "duration": 7,
    "start_time": "2024-08-24T01:58:33.970Z"
   },
   {
    "duration": 5,
    "start_time": "2024-08-24T02:03:05.724Z"
   },
   {
    "duration": 16,
    "start_time": "2024-08-24T02:03:26.160Z"
   },
   {
    "duration": 993,
    "start_time": "2024-08-24T02:06:33.194Z"
   },
   {
    "duration": 330,
    "start_time": "2024-08-24T02:07:50.904Z"
   },
   {
    "duration": 321,
    "start_time": "2024-08-24T02:09:16.544Z"
   },
   {
    "duration": 4,
    "start_time": "2024-08-24T02:09:45.589Z"
   },
   {
    "duration": 16,
    "start_time": "2024-08-24T02:09:49.038Z"
   },
   {
    "duration": 295,
    "start_time": "2024-08-24T02:09:53.338Z"
   },
   {
    "duration": 466,
    "start_time": "2024-08-24T02:10:03.492Z"
   },
   {
    "duration": 299,
    "start_time": "2024-08-24T02:10:35.798Z"
   },
   {
    "duration": 302,
    "start_time": "2024-08-24T02:10:41.544Z"
   },
   {
    "duration": 293,
    "start_time": "2024-08-24T02:11:39.766Z"
   },
   {
    "duration": 295,
    "start_time": "2024-08-24T02:11:48.844Z"
   },
   {
    "duration": 294,
    "start_time": "2024-08-24T02:11:56.567Z"
   },
   {
    "duration": 289,
    "start_time": "2024-08-24T02:12:02.384Z"
   },
   {
    "duration": 343,
    "start_time": "2024-08-24T02:13:41.059Z"
   },
   {
    "duration": 234,
    "start_time": "2024-08-24T02:14:08.992Z"
   },
   {
    "duration": 316,
    "start_time": "2024-08-24T02:14:30.020Z"
   },
   {
    "duration": 326,
    "start_time": "2024-08-24T02:14:42.580Z"
   },
   {
    "duration": 125,
    "start_time": "2024-08-24T02:15:10.632Z"
   },
   {
    "duration": 346,
    "start_time": "2024-08-24T02:16:12.265Z"
   },
   {
    "duration": 344,
    "start_time": "2024-08-24T02:17:11.783Z"
   },
   {
    "duration": 362,
    "start_time": "2024-08-24T02:43:43.799Z"
   },
   {
    "duration": 9,
    "start_time": "2024-08-24T02:55:48.547Z"
   },
   {
    "duration": 29,
    "start_time": "2024-08-24T02:55:54.454Z"
   },
   {
    "duration": 126,
    "start_time": "2024-08-24T03:01:18.962Z"
   },
   {
    "duration": 7,
    "start_time": "2024-08-24T03:02:50.930Z"
   },
   {
    "duration": 5,
    "start_time": "2024-08-24T03:03:01.443Z"
   },
   {
    "duration": 6,
    "start_time": "2024-08-24T03:03:53.264Z"
   },
   {
    "duration": 8,
    "start_time": "2024-08-24T03:04:51.030Z"
   },
   {
    "duration": 17,
    "start_time": "2024-08-24T03:05:02.241Z"
   },
   {
    "duration": 18,
    "start_time": "2024-08-24T03:05:08.670Z"
   },
   {
    "duration": 7,
    "start_time": "2024-08-24T03:11:24.498Z"
   },
   {
    "duration": 17,
    "start_time": "2024-08-24T03:11:26.175Z"
   },
   {
    "duration": 22,
    "start_time": "2024-08-24T03:11:26.984Z"
   },
   {
    "duration": 7,
    "start_time": "2024-08-24T03:14:09.019Z"
   },
   {
    "duration": 18,
    "start_time": "2024-08-24T03:14:09.711Z"
   },
   {
    "duration": 19,
    "start_time": "2024-08-24T03:14:10.414Z"
   },
   {
    "duration": 536,
    "start_time": "2024-08-24T03:15:35.564Z"
   },
   {
    "duration": 561,
    "start_time": "2024-08-24T03:17:34.782Z"
   },
   {
    "duration": 568,
    "start_time": "2024-08-24T03:17:44.811Z"
   },
   {
    "duration": 965,
    "start_time": "2024-08-24T03:18:11.079Z"
   },
   {
    "duration": 540,
    "start_time": "2024-08-24T03:20:00.645Z"
   },
   {
    "duration": 574,
    "start_time": "2024-08-24T03:20:43.435Z"
   },
   {
    "duration": 85,
    "start_time": "2024-08-24T03:23:39.948Z"
   },
   {
    "duration": 81,
    "start_time": "2024-08-24T03:24:09.085Z"
   },
   {
    "duration": 19,
    "start_time": "2024-08-24T03:25:07.555Z"
   },
   {
    "duration": 16,
    "start_time": "2024-08-24T03:28:35.060Z"
   },
   {
    "duration": 19,
    "start_time": "2024-08-24T03:28:35.720Z"
   },
   {
    "duration": 552,
    "start_time": "2024-08-24T03:28:36.544Z"
   },
   {
    "duration": 23,
    "start_time": "2024-08-24T03:30:58.142Z"
   },
   {
    "duration": 41,
    "start_time": "2024-08-24T03:31:03.954Z"
   },
   {
    "duration": 24,
    "start_time": "2024-08-24T03:31:27.569Z"
   },
   {
    "duration": 28,
    "start_time": "2024-08-24T03:31:28.303Z"
   },
   {
    "duration": 47,
    "start_time": "2024-08-24T03:31:58.798Z"
   },
   {
    "duration": 50,
    "start_time": "2024-08-24T03:31:59.573Z"
   },
   {
    "duration": 23,
    "start_time": "2024-08-24T03:41:22.369Z"
   },
   {
    "duration": 7,
    "start_time": "2024-08-24T03:41:41.994Z"
   },
   {
    "duration": 7,
    "start_time": "2024-08-24T03:41:52.755Z"
   },
   {
    "duration": 7,
    "start_time": "2024-08-24T03:42:13.415Z"
   },
   {
    "duration": 12,
    "start_time": "2024-08-24T03:42:16.483Z"
   },
   {
    "duration": 29,
    "start_time": "2024-08-24T03:45:34.115Z"
   },
   {
    "duration": 732,
    "start_time": "2024-08-24T03:45:41.568Z"
   },
   {
    "duration": 373,
    "start_time": "2024-08-24T03:46:03.156Z"
   },
   {
    "duration": 87,
    "start_time": "2024-08-24T03:46:25.664Z"
   },
   {
    "duration": 89,
    "start_time": "2024-08-24T03:47:00.142Z"
   },
   {
    "duration": 728,
    "start_time": "2024-08-24T03:48:18.410Z"
   },
   {
    "duration": 357,
    "start_time": "2024-08-24T03:48:35.904Z"
   },
   {
    "duration": 927,
    "start_time": "2024-08-24T03:49:40.049Z"
   },
   {
    "duration": 16,
    "start_time": "2024-08-24T03:50:34.345Z"
   },
   {
    "duration": 17,
    "start_time": "2024-08-24T03:51:50.910Z"
   },
   {
    "duration": 10,
    "start_time": "2024-08-24T03:54:27.799Z"
   },
   {
    "duration": 4905,
    "start_time": "2024-08-25T20:53:58.085Z"
   },
   {
    "duration": 59,
    "start_time": "2024-08-25T20:54:02.994Z"
   },
   {
    "duration": 58,
    "start_time": "2024-08-25T20:54:03.056Z"
   },
   {
    "duration": 18,
    "start_time": "2024-08-25T20:54:03.132Z"
   },
   {
    "duration": 10,
    "start_time": "2024-08-25T20:54:03.156Z"
   },
   {
    "duration": 5,
    "start_time": "2024-08-25T20:54:03.171Z"
   },
   {
    "duration": 11,
    "start_time": "2024-08-25T20:54:03.179Z"
   },
   {
    "duration": 5,
    "start_time": "2024-08-25T20:54:03.233Z"
   },
   {
    "duration": 19,
    "start_time": "2024-08-25T20:54:03.241Z"
   },
   {
    "duration": 8,
    "start_time": "2024-08-25T20:54:03.262Z"
   },
   {
    "duration": 68,
    "start_time": "2024-08-25T20:54:03.273Z"
   },
   {
    "duration": 7,
    "start_time": "2024-08-25T20:54:03.344Z"
   },
   {
    "duration": 7,
    "start_time": "2024-08-25T20:54:03.354Z"
   },
   {
    "duration": 17,
    "start_time": "2024-08-25T20:54:03.369Z"
   },
   {
    "duration": 43,
    "start_time": "2024-08-25T20:54:03.392Z"
   },
   {
    "duration": 9,
    "start_time": "2024-08-25T20:54:03.440Z"
   },
   {
    "duration": 23,
    "start_time": "2024-08-25T20:54:03.452Z"
   },
   {
    "duration": 11,
    "start_time": "2024-08-25T20:54:03.478Z"
   },
   {
    "duration": 48,
    "start_time": "2024-08-25T20:54:03.493Z"
   },
   {
    "duration": 5,
    "start_time": "2024-08-25T20:54:03.544Z"
   },
   {
    "duration": 488,
    "start_time": "2024-08-25T20:54:03.552Z"
   },
   {
    "duration": 8,
    "start_time": "2024-08-25T20:54:04.043Z"
   },
   {
    "duration": 6,
    "start_time": "2024-08-25T20:54:04.054Z"
   },
   {
    "duration": 8,
    "start_time": "2024-08-25T20:54:04.063Z"
   },
   {
    "duration": 5,
    "start_time": "2024-08-25T20:54:04.074Z"
   },
   {
    "duration": 57,
    "start_time": "2024-08-25T20:54:04.082Z"
   },
   {
    "duration": 367,
    "start_time": "2024-08-25T20:54:04.142Z"
   },
   {
    "duration": 26,
    "start_time": "2024-08-25T20:54:04.512Z"
   },
   {
    "duration": 19,
    "start_time": "2024-08-25T20:54:04.541Z"
   },
   {
    "duration": 21,
    "start_time": "2024-08-25T20:54:04.564Z"
   },
   {
    "duration": 600,
    "start_time": "2024-08-25T20:54:04.589Z"
   },
   {
    "duration": 12,
    "start_time": "2024-08-25T20:54:05.192Z"
   },
   {
    "duration": 17,
    "start_time": "2024-08-25T20:56:43.544Z"
   },
   {
    "duration": 850,
    "start_time": "2024-08-25T20:56:51.374Z"
   },
   {
    "duration": 12,
    "start_time": "2024-08-25T20:57:46.126Z"
   },
   {
    "duration": 101,
    "start_time": "2024-08-25T20:57:51.258Z"
   },
   {
    "duration": 734,
    "start_time": "2024-08-25T20:58:42.810Z"
   },
   {
    "duration": 11,
    "start_time": "2024-08-25T20:59:02.780Z"
   },
   {
    "duration": 825,
    "start_time": "2024-08-25T20:59:08.494Z"
   },
   {
    "duration": 10,
    "start_time": "2024-08-25T20:59:30.897Z"
   },
   {
    "duration": 755,
    "start_time": "2024-08-25T20:59:47.270Z"
   },
   {
    "duration": 731,
    "start_time": "2024-08-25T21:00:05.524Z"
   },
   {
    "duration": 11,
    "start_time": "2024-08-25T21:01:15.650Z"
   },
   {
    "duration": 16,
    "start_time": "2024-08-25T21:01:33.555Z"
   },
   {
    "duration": 6,
    "start_time": "2024-08-25T21:02:51.355Z"
   },
   {
    "duration": 16,
    "start_time": "2024-08-25T21:03:04.471Z"
   },
   {
    "duration": 16,
    "start_time": "2024-08-25T21:03:26.865Z"
   },
   {
    "duration": 29,
    "start_time": "2024-08-25T21:08:44.391Z"
   },
   {
    "duration": 24,
    "start_time": "2024-08-25T21:18:55.470Z"
   },
   {
    "duration": 7,
    "start_time": "2024-08-25T21:19:18.765Z"
   },
   {
    "duration": 6,
    "start_time": "2024-08-25T21:19:30.359Z"
   },
   {
    "duration": 942,
    "start_time": "2024-08-25T21:20:11.255Z"
   },
   {
    "duration": 32,
    "start_time": "2024-08-25T21:20:36.693Z"
   },
   {
    "duration": 8,
    "start_time": "2024-08-25T21:21:52.095Z"
   },
   {
    "duration": 9,
    "start_time": "2024-08-25T21:23:47.917Z"
   },
   {
    "duration": 223,
    "start_time": "2024-08-25T21:26:40.050Z"
   },
   {
    "duration": 6,
    "start_time": "2024-08-25T21:31:05.288Z"
   },
   {
    "duration": 1276,
    "start_time": "2024-08-25T21:31:12.394Z"
   },
   {
    "duration": 294,
    "start_time": "2024-08-25T21:31:46.969Z"
   },
   {
    "duration": 12,
    "start_time": "2024-08-25T21:35:13.934Z"
   },
   {
    "duration": 29,
    "start_time": "2024-08-25T21:51:25.710Z"
   },
   {
    "duration": 30,
    "start_time": "2024-08-25T21:52:31.210Z"
   },
   {
    "duration": 10,
    "start_time": "2024-08-25T21:52:37.741Z"
   },
   {
    "duration": 10,
    "start_time": "2024-08-25T21:52:52.148Z"
   },
   {
    "duration": 6,
    "start_time": "2024-08-25T21:53:39.829Z"
   },
   {
    "duration": 6,
    "start_time": "2024-08-25T21:53:53.939Z"
   },
   {
    "duration": 235,
    "start_time": "2024-08-25T21:54:01.824Z"
   },
   {
    "duration": 30,
    "start_time": "2024-08-25T21:54:56.864Z"
   },
   {
    "duration": 222,
    "start_time": "2024-08-25T21:55:02.575Z"
   },
   {
    "duration": 260,
    "start_time": "2024-08-25T21:55:24.930Z"
   },
   {
    "duration": 6,
    "start_time": "2024-08-25T21:57:06.710Z"
   },
   {
    "duration": 263,
    "start_time": "2024-08-25T21:57:14.524Z"
   },
   {
    "duration": 251,
    "start_time": "2024-08-25T21:58:30.800Z"
   },
   {
    "duration": 763,
    "start_time": "2024-08-25T22:00:40.646Z"
   },
   {
    "duration": 249,
    "start_time": "2024-08-25T22:00:44.487Z"
   },
   {
    "duration": 263,
    "start_time": "2024-08-25T22:06:03.650Z"
   },
   {
    "duration": 1313,
    "start_time": "2024-08-25T22:06:32.074Z"
   },
   {
    "duration": 430,
    "start_time": "2024-08-25T22:07:32.305Z"
   },
   {
    "duration": 30,
    "start_time": "2024-08-25T22:09:30.755Z"
   },
   {
    "duration": 5,
    "start_time": "2024-08-25T22:10:50.244Z"
   },
   {
    "duration": 6,
    "start_time": "2024-08-25T22:11:08.863Z"
   },
   {
    "duration": 6,
    "start_time": "2024-08-25T22:14:56.523Z"
   },
   {
    "duration": 25,
    "start_time": "2024-08-25T22:19:43.940Z"
   },
   {
    "duration": 25,
    "start_time": "2024-08-25T22:19:57.950Z"
   },
   {
    "duration": 7,
    "start_time": "2024-08-25T22:20:57.537Z"
   },
   {
    "duration": 10,
    "start_time": "2024-08-25T22:21:02.894Z"
   },
   {
    "duration": 18,
    "start_time": "2024-08-25T22:25:14.114Z"
   },
   {
    "duration": 16,
    "start_time": "2024-08-25T22:26:02.169Z"
   },
   {
    "duration": 11,
    "start_time": "2024-08-25T22:28:58.434Z"
   },
   {
    "duration": 28,
    "start_time": "2024-08-25T22:29:08.160Z"
   },
   {
    "duration": 12,
    "start_time": "2024-08-25T22:29:15.090Z"
   },
   {
    "duration": 5,
    "start_time": "2024-08-25T22:29:25.236Z"
   },
   {
    "duration": 27,
    "start_time": "2024-08-25T22:29:31.000Z"
   },
   {
    "duration": 12,
    "start_time": "2024-08-25T22:29:42.675Z"
   },
   {
    "duration": 24,
    "start_time": "2024-08-25T22:31:30.966Z"
   },
   {
    "duration": 10,
    "start_time": "2024-08-25T22:31:56.464Z"
   },
   {
    "duration": 141,
    "start_time": "2024-08-25T22:33:25.139Z"
   },
   {
    "duration": 308,
    "start_time": "2024-08-25T22:33:34.280Z"
   },
   {
    "duration": 349,
    "start_time": "2024-08-25T22:34:30.465Z"
   },
   {
    "duration": 297,
    "start_time": "2024-08-25T22:35:37.619Z"
   },
   {
    "duration": 310,
    "start_time": "2024-08-25T22:35:58.507Z"
   },
   {
    "duration": 302,
    "start_time": "2024-08-25T22:36:14.138Z"
   },
   {
    "duration": 300,
    "start_time": "2024-08-25T22:36:43.220Z"
   },
   {
    "duration": 30,
    "start_time": "2024-08-25T22:49:43.560Z"
   },
   {
    "duration": 23,
    "start_time": "2024-08-25T22:53:43.589Z"
   },
   {
    "duration": 22,
    "start_time": "2024-08-25T22:58:43.414Z"
   },
   {
    "duration": 77,
    "start_time": "2024-08-25T22:58:55.431Z"
   },
   {
    "duration": 22,
    "start_time": "2024-08-25T22:59:06.290Z"
   },
   {
    "duration": 25,
    "start_time": "2024-08-25T22:59:43.494Z"
   },
   {
    "duration": 16,
    "start_time": "2024-08-25T23:00:07.819Z"
   },
   {
    "duration": 25,
    "start_time": "2024-08-25T23:00:14.479Z"
   },
   {
    "duration": 16,
    "start_time": "2024-08-25T23:00:46.531Z"
   },
   {
    "duration": 21,
    "start_time": "2024-08-25T23:01:01.119Z"
   },
   {
    "duration": 22,
    "start_time": "2024-08-25T23:02:17.725Z"
   },
   {
    "duration": 16,
    "start_time": "2024-08-25T23:05:20.786Z"
   },
   {
    "duration": 503,
    "start_time": "2024-08-25T23:05:47.194Z"
   },
   {
    "duration": 15,
    "start_time": "2024-08-25T23:06:00.545Z"
   },
   {
    "duration": 10,
    "start_time": "2024-08-25T23:10:38.592Z"
   },
   {
    "duration": 31,
    "start_time": "2024-08-25T23:11:25.714Z"
   },
   {
    "duration": 10,
    "start_time": "2024-08-25T23:11:47.674Z"
   },
   {
    "duration": 7,
    "start_time": "2024-08-25T23:15:39.534Z"
   },
   {
    "duration": 10,
    "start_time": "2024-08-25T23:15:49.544Z"
   },
   {
    "duration": 11,
    "start_time": "2024-08-25T23:15:58.628Z"
   },
   {
    "duration": 8,
    "start_time": "2024-08-25T23:16:16.073Z"
   },
   {
    "duration": 8,
    "start_time": "2024-08-25T23:17:07.854Z"
   },
   {
    "duration": 441,
    "start_time": "2024-08-25T23:22:16.325Z"
   },
   {
    "duration": 29,
    "start_time": "2024-08-25T23:22:52.802Z"
   },
   {
    "duration": 9,
    "start_time": "2024-08-25T23:23:14.490Z"
   },
   {
    "duration": 9,
    "start_time": "2024-08-25T23:23:38.681Z"
   },
   {
    "duration": 10,
    "start_time": "2024-08-25T23:24:35.743Z"
   },
   {
    "duration": 11,
    "start_time": "2024-08-25T23:24:44.071Z"
   },
   {
    "duration": 8,
    "start_time": "2024-08-25T23:24:51.142Z"
   },
   {
    "duration": 9,
    "start_time": "2024-08-25T23:25:17.294Z"
   },
   {
    "duration": 9,
    "start_time": "2024-08-25T23:29:57.869Z"
   },
   {
    "duration": 9,
    "start_time": "2024-08-25T23:30:25.796Z"
   },
   {
    "duration": 9,
    "start_time": "2024-08-25T23:30:33.874Z"
   },
   {
    "duration": 8,
    "start_time": "2024-08-25T23:30:40.350Z"
   },
   {
    "duration": 10,
    "start_time": "2024-08-25T23:32:53.884Z"
   },
   {
    "duration": 10,
    "start_time": "2024-08-25T23:33:05.745Z"
   },
   {
    "duration": 24,
    "start_time": "2024-08-25T23:33:32.644Z"
   },
   {
    "duration": 10,
    "start_time": "2024-08-25T23:33:39.440Z"
   },
   {
    "duration": 9,
    "start_time": "2024-08-25T23:35:31.199Z"
   },
   {
    "duration": 9,
    "start_time": "2024-08-25T23:35:38.390Z"
   },
   {
    "duration": 10,
    "start_time": "2024-08-25T23:39:30.425Z"
   },
   {
    "duration": 10,
    "start_time": "2024-08-25T23:40:24.789Z"
   },
   {
    "duration": 5,
    "start_time": "2024-08-25T23:40:51.519Z"
   },
   {
    "duration": 12,
    "start_time": "2024-08-25T23:40:57.765Z"
   },
   {
    "duration": 619,
    "start_time": "2024-08-25T23:44:58.601Z"
   },
   {
    "duration": 138,
    "start_time": "2024-08-25T23:45:29.986Z"
   },
   {
    "duration": 32,
    "start_time": "2024-08-25T23:56:39.388Z"
   },
   {
    "duration": 8,
    "start_time": "2024-08-25T23:56:58.360Z"
   },
   {
    "duration": 7,
    "start_time": "2024-08-25T23:57:04.499Z"
   },
   {
    "duration": 33,
    "start_time": "2024-08-25T23:58:47.255Z"
   },
   {
    "duration": 78,
    "start_time": "2024-08-26T00:05:37.707Z"
   },
   {
    "duration": 13,
    "start_time": "2024-08-26T00:08:28.776Z"
   },
   {
    "duration": 16,
    "start_time": "2024-08-26T00:08:34.193Z"
   },
   {
    "duration": 14,
    "start_time": "2024-08-26T00:09:42.510Z"
   },
   {
    "duration": 9,
    "start_time": "2024-08-26T00:13:52.487Z"
   },
   {
    "duration": 13,
    "start_time": "2024-08-26T00:13:56.632Z"
   },
   {
    "duration": 10,
    "start_time": "2024-08-26T00:15:16.815Z"
   },
   {
    "duration": 27,
    "start_time": "2024-08-26T00:15:30.789Z"
   },
   {
    "duration": 27,
    "start_time": "2024-08-26T00:15:36.240Z"
   },
   {
    "duration": 27,
    "start_time": "2024-08-26T00:15:51.226Z"
   },
   {
    "duration": 8,
    "start_time": "2024-08-26T00:15:59.529Z"
   },
   {
    "duration": 13,
    "start_time": "2024-08-26T00:16:09.385Z"
   },
   {
    "duration": 31,
    "start_time": "2024-08-26T00:16:11.729Z"
   },
   {
    "duration": 18,
    "start_time": "2024-08-26T00:19:23.885Z"
   },
   {
    "duration": 283,
    "start_time": "2024-08-26T00:23:05.089Z"
   },
   {
    "duration": 298,
    "start_time": "2024-08-26T00:24:37.105Z"
   },
   {
    "duration": 6,
    "start_time": "2024-08-26T00:25:03.091Z"
   },
   {
    "duration": 530,
    "start_time": "2024-08-26T00:25:07.239Z"
   },
   {
    "duration": 297,
    "start_time": "2024-08-26T00:25:18.410Z"
   },
   {
    "duration": 278,
    "start_time": "2024-08-26T00:25:27.705Z"
   },
   {
    "duration": 7,
    "start_time": "2024-08-26T00:26:35.524Z"
   },
   {
    "duration": 279,
    "start_time": "2024-08-26T00:26:40.420Z"
   },
   {
    "duration": 33,
    "start_time": "2024-08-26T00:27:53.335Z"
   },
   {
    "duration": 8,
    "start_time": "2024-08-26T00:29:52.012Z"
   },
   {
    "duration": 21,
    "start_time": "2024-08-26T00:29:54.551Z"
   },
   {
    "duration": 279,
    "start_time": "2024-08-26T00:29:58.054Z"
   },
   {
    "duration": 8,
    "start_time": "2024-08-26T00:30:24.482Z"
   },
   {
    "duration": 17,
    "start_time": "2024-08-26T00:30:25.431Z"
   },
   {
    "duration": 294,
    "start_time": "2024-08-26T00:30:28.050Z"
   },
   {
    "duration": 10,
    "start_time": "2024-08-26T00:30:46.722Z"
   },
   {
    "duration": 17,
    "start_time": "2024-08-26T00:30:47.559Z"
   },
   {
    "duration": 283,
    "start_time": "2024-08-26T00:30:47.850Z"
   },
   {
    "duration": 9,
    "start_time": "2024-08-26T00:32:10.781Z"
   },
   {
    "duration": 30,
    "start_time": "2024-08-26T00:32:19.425Z"
   },
   {
    "duration": 27,
    "start_time": "2024-08-26T00:35:34.844Z"
   },
   {
    "duration": 8,
    "start_time": "2024-08-26T00:35:45.149Z"
   },
   {
    "duration": 28,
    "start_time": "2024-08-26T00:40:02.414Z"
   },
   {
    "duration": 6,
    "start_time": "2024-08-26T00:40:13.360Z"
   },
   {
    "duration": 17,
    "start_time": "2024-08-26T00:40:38.174Z"
   },
   {
    "duration": 275,
    "start_time": "2024-08-26T00:44:28.774Z"
   },
   {
    "duration": 283,
    "start_time": "2024-08-26T00:44:52.165Z"
   },
   {
    "duration": 4886,
    "start_time": "2024-08-26T03:24:43.529Z"
   },
   {
    "duration": 57,
    "start_time": "2024-08-26T03:24:48.418Z"
   },
   {
    "duration": 59,
    "start_time": "2024-08-26T03:24:48.478Z"
   },
   {
    "duration": 17,
    "start_time": "2024-08-26T03:24:48.540Z"
   },
   {
    "duration": 10,
    "start_time": "2024-08-26T03:24:48.561Z"
   },
   {
    "duration": 36,
    "start_time": "2024-08-26T03:24:48.574Z"
   },
   {
    "duration": 11,
    "start_time": "2024-08-26T03:24:48.614Z"
   },
   {
    "duration": 6,
    "start_time": "2024-08-26T03:24:48.628Z"
   },
   {
    "duration": 18,
    "start_time": "2024-08-26T03:24:48.637Z"
   },
   {
    "duration": 51,
    "start_time": "2024-08-26T03:24:48.658Z"
   },
   {
    "duration": 31,
    "start_time": "2024-08-26T03:24:48.712Z"
   },
   {
    "duration": 7,
    "start_time": "2024-08-26T03:24:48.746Z"
   },
   {
    "duration": 7,
    "start_time": "2024-08-26T03:24:48.757Z"
   },
   {
    "duration": 19,
    "start_time": "2024-08-26T03:24:48.808Z"
   },
   {
    "duration": 7,
    "start_time": "2024-08-26T03:24:48.831Z"
   },
   {
    "duration": 8,
    "start_time": "2024-08-26T03:24:48.841Z"
   },
   {
    "duration": 67,
    "start_time": "2024-08-26T03:24:48.853Z"
   },
   {
    "duration": 15,
    "start_time": "2024-08-26T03:24:48.923Z"
   },
   {
    "duration": 10,
    "start_time": "2024-08-26T03:24:48.941Z"
   },
   {
    "duration": 5,
    "start_time": "2024-08-26T03:24:48.954Z"
   },
   {
    "duration": 498,
    "start_time": "2024-08-26T03:24:48.962Z"
   },
   {
    "duration": 9,
    "start_time": "2024-08-26T03:24:49.463Z"
   },
   {
    "duration": 7,
    "start_time": "2024-08-26T03:24:49.474Z"
   },
   {
    "duration": 29,
    "start_time": "2024-08-26T03:24:49.484Z"
   },
   {
    "duration": 6,
    "start_time": "2024-08-26T03:24:49.516Z"
   },
   {
    "duration": 16,
    "start_time": "2024-08-26T03:24:49.526Z"
   },
   {
    "duration": 391,
    "start_time": "2024-08-26T03:24:49.546Z"
   },
   {
    "duration": 8,
    "start_time": "2024-08-26T03:24:49.940Z"
   },
   {
    "duration": 18,
    "start_time": "2024-08-26T03:24:49.950Z"
   },
   {
    "duration": 45,
    "start_time": "2024-08-26T03:24:49.970Z"
   },
   {
    "duration": 607,
    "start_time": "2024-08-26T03:24:50.018Z"
   },
   {
    "duration": 797,
    "start_time": "2024-08-26T03:24:50.628Z"
   },
   {
    "duration": 17,
    "start_time": "2024-08-26T03:24:51.428Z"
   },
   {
    "duration": 10,
    "start_time": "2024-08-26T03:24:51.448Z"
   },
   {
    "duration": 306,
    "start_time": "2024-08-26T03:24:51.461Z"
   },
   {
    "duration": 265,
    "start_time": "2024-08-26T03:24:51.770Z"
   },
   {
    "duration": 10,
    "start_time": "2024-08-26T03:24:52.038Z"
   },
   {
    "duration": 12,
    "start_time": "2024-08-26T03:24:52.051Z"
   },
   {
    "duration": 43,
    "start_time": "2024-08-26T03:24:52.066Z"
   },
   {
    "duration": 327,
    "start_time": "2024-08-26T03:24:52.113Z"
   },
   {
    "duration": 8,
    "start_time": "2024-08-26T03:24:52.448Z"
   },
   {
    "duration": 16,
    "start_time": "2024-08-26T03:24:52.460Z"
   },
   {
    "duration": 289,
    "start_time": "2024-08-26T03:24:52.508Z"
   },
   {
    "duration": 411,
    "start_time": "2024-08-26T03:24:52.800Z"
   },
   {
    "duration": 1,
    "start_time": "2024-08-26T03:24:53.214Z"
   },
   {
    "duration": 0,
    "start_time": "2024-08-26T03:24:53.218Z"
   },
   {
    "duration": 0,
    "start_time": "2024-08-26T03:24:53.220Z"
   },
   {
    "duration": 0,
    "start_time": "2024-08-26T03:24:53.222Z"
   },
   {
    "duration": 8,
    "start_time": "2024-08-26T03:25:33.750Z"
   },
   {
    "duration": 30,
    "start_time": "2024-08-26T03:25:39.733Z"
   },
   {
    "duration": 8,
    "start_time": "2024-08-26T03:25:41.862Z"
   },
   {
    "duration": 17,
    "start_time": "2024-08-26T03:25:42.382Z"
   },
   {
    "duration": 369,
    "start_time": "2024-08-26T03:25:43.060Z"
   },
   {
    "duration": 175,
    "start_time": "2024-08-26T03:26:31.789Z"
   },
   {
    "duration": 10,
    "start_time": "2024-08-26T03:26:43.977Z"
   },
   {
    "duration": 9,
    "start_time": "2024-08-26T03:28:04.222Z"
   },
   {
    "duration": 29,
    "start_time": "2024-08-26T03:30:54.794Z"
   },
   {
    "duration": 9,
    "start_time": "2024-08-26T03:31:44.098Z"
   },
   {
    "duration": 32,
    "start_time": "2024-08-26T03:35:25.319Z"
   },
   {
    "duration": 27,
    "start_time": "2024-08-26T03:36:19.247Z"
   },
   {
    "duration": 48,
    "start_time": "2024-08-26T03:36:32.091Z"
   },
   {
    "duration": 57,
    "start_time": "2024-08-26T03:37:02.372Z"
   },
   {
    "duration": 29,
    "start_time": "2024-08-26T03:37:23.314Z"
   },
   {
    "duration": 8,
    "start_time": "2024-08-26T03:39:36.315Z"
   },
   {
    "duration": 6,
    "start_time": "2024-08-26T03:39:45.892Z"
   },
   {
    "duration": 6,
    "start_time": "2024-08-26T03:41:25.122Z"
   },
   {
    "duration": 195,
    "start_time": "2024-08-26T03:41:29.082Z"
   },
   {
    "duration": 210,
    "start_time": "2024-08-26T03:42:31.132Z"
   },
   {
    "duration": 21,
    "start_time": "2024-08-26T03:46:33.195Z"
   },
   {
    "duration": 9,
    "start_time": "2024-08-26T03:46:41.878Z"
   },
   {
    "duration": 34,
    "start_time": "2024-08-26T03:52:01.647Z"
   },
   {
    "duration": 18,
    "start_time": "2024-08-26T03:52:16.689Z"
   },
   {
    "duration": 16,
    "start_time": "2024-08-26T03:52:40.757Z"
   },
   {
    "duration": 330,
    "start_time": "2024-08-26T03:54:49.524Z"
   },
   {
    "duration": 283,
    "start_time": "2024-08-26T03:54:55.464Z"
   },
   {
    "duration": 9,
    "start_time": "2024-08-26T03:56:53.879Z"
   },
   {
    "duration": 9,
    "start_time": "2024-08-26T03:57:04.183Z"
   },
   {
    "duration": 29,
    "start_time": "2024-08-26T04:00:13.864Z"
   },
   {
    "duration": 18,
    "start_time": "2024-08-26T04:59:02.989Z"
   },
   {
    "duration": 860,
    "start_time": "2024-08-26T05:00:35.329Z"
   },
   {
    "duration": 7,
    "start_time": "2024-08-26T05:01:17.230Z"
   },
   {
    "duration": 7,
    "start_time": "2024-08-26T05:01:32.417Z"
   },
   {
    "duration": 17,
    "start_time": "2024-08-26T05:02:36.644Z"
   },
   {
    "duration": 39,
    "start_time": "2024-08-26T05:03:27.863Z"
   },
   {
    "duration": 1310,
    "start_time": "2024-08-26T05:04:14.118Z"
   },
   {
    "duration": 39,
    "start_time": "2024-08-26T05:04:15.432Z"
   },
   {
    "duration": 77,
    "start_time": "2024-08-26T05:04:15.473Z"
   },
   {
    "duration": 18,
    "start_time": "2024-08-26T05:04:15.552Z"
   },
   {
    "duration": 34,
    "start_time": "2024-08-26T05:04:15.574Z"
   },
   {
    "duration": 6,
    "start_time": "2024-08-26T05:04:15.611Z"
   },
   {
    "duration": 14,
    "start_time": "2024-08-26T05:04:15.620Z"
   },
   {
    "duration": 6,
    "start_time": "2024-08-26T05:04:15.637Z"
   },
   {
    "duration": 18,
    "start_time": "2024-08-26T05:04:15.646Z"
   },
   {
    "duration": 49,
    "start_time": "2024-08-26T05:04:15.666Z"
   },
   {
    "duration": 30,
    "start_time": "2024-08-26T05:04:15.718Z"
   },
   {
    "duration": 8,
    "start_time": "2024-08-26T05:04:15.751Z"
   },
   {
    "duration": 47,
    "start_time": "2024-08-26T05:04:15.762Z"
   },
   {
    "duration": 19,
    "start_time": "2024-08-26T05:04:15.817Z"
   },
   {
    "duration": 8,
    "start_time": "2024-08-26T05:04:15.838Z"
   },
   {
    "duration": 7,
    "start_time": "2024-08-26T05:04:15.849Z"
   },
   {
    "duration": 59,
    "start_time": "2024-08-26T05:04:15.859Z"
   },
   {
    "duration": 11,
    "start_time": "2024-08-26T05:04:15.921Z"
   },
   {
    "duration": 11,
    "start_time": "2024-08-26T05:04:15.935Z"
   },
   {
    "duration": 7,
    "start_time": "2024-08-26T05:04:15.948Z"
   },
   {
    "duration": 503,
    "start_time": "2024-08-26T05:04:15.959Z"
   },
   {
    "duration": 9,
    "start_time": "2024-08-26T05:04:16.464Z"
   },
   {
    "duration": 7,
    "start_time": "2024-08-26T05:04:16.476Z"
   },
   {
    "duration": 32,
    "start_time": "2024-08-26T05:04:16.485Z"
   },
   {
    "duration": 7,
    "start_time": "2024-08-26T05:04:16.521Z"
   },
   {
    "duration": 16,
    "start_time": "2024-08-26T05:04:16.532Z"
   },
   {
    "duration": 385,
    "start_time": "2024-08-26T05:04:16.551Z"
   },
   {
    "duration": 8,
    "start_time": "2024-08-26T05:04:16.939Z"
   },
   {
    "duration": 16,
    "start_time": "2024-08-26T05:04:16.950Z"
   },
   {
    "duration": 45,
    "start_time": "2024-08-26T05:04:16.969Z"
   },
   {
    "duration": 652,
    "start_time": "2024-08-26T05:04:17.017Z"
   },
   {
    "duration": 750,
    "start_time": "2024-08-26T05:04:17.672Z"
   },
   {
    "duration": 17,
    "start_time": "2024-08-26T05:04:18.425Z"
   },
   {
    "duration": 10,
    "start_time": "2024-08-26T05:04:18.445Z"
   },
   {
    "duration": 296,
    "start_time": "2024-08-26T05:04:18.458Z"
   },
   {
    "duration": 265,
    "start_time": "2024-08-26T05:04:18.757Z"
   },
   {
    "duration": 12,
    "start_time": "2024-08-26T05:04:19.026Z"
   },
   {
    "duration": 11,
    "start_time": "2024-08-26T05:04:19.041Z"
   },
   {
    "duration": 344,
    "start_time": "2024-08-26T05:04:19.055Z"
   },
   {
    "duration": 9,
    "start_time": "2024-08-26T05:04:19.409Z"
   },
   {
    "duration": 17,
    "start_time": "2024-08-26T05:04:19.428Z"
   },
   {
    "duration": 309,
    "start_time": "2024-08-26T05:04:19.448Z"
   },
   {
    "duration": 9,
    "start_time": "2024-08-26T05:04:19.760Z"
   },
   {
    "duration": 57,
    "start_time": "2024-08-26T05:04:19.773Z"
   },
   {
    "duration": 10,
    "start_time": "2024-08-26T05:04:19.832Z"
   },
   {
    "duration": 16,
    "start_time": "2024-08-26T05:04:19.844Z"
   },
   {
    "duration": 309,
    "start_time": "2024-08-26T05:04:19.863Z"
   },
   {
    "duration": 9,
    "start_time": "2024-08-26T05:04:20.175Z"
   },
   {
    "duration": 48,
    "start_time": "2024-08-26T05:04:20.187Z"
   },
   {
    "duration": 9,
    "start_time": "2024-08-26T05:04:20.238Z"
   },
   {
    "duration": 17,
    "start_time": "2024-08-26T05:04:20.250Z"
   },
   {
    "duration": 410,
    "start_time": "2024-08-26T05:04:20.271Z"
   },
   {
    "duration": 8,
    "start_time": "2024-08-26T05:04:20.684Z"
   },
   {
    "duration": 42,
    "start_time": "2024-08-26T05:04:20.695Z"
   },
   {
    "duration": 28,
    "start_time": "2024-08-26T05:04:28.586Z"
   },
   {
    "duration": 11,
    "start_time": "2024-08-26T05:15:31.315Z"
   },
   {
    "duration": 9,
    "start_time": "2024-08-26T05:16:33.190Z"
   },
   {
    "duration": 12,
    "start_time": "2024-08-26T05:17:33.741Z"
   },
   {
    "duration": 390,
    "start_time": "2024-08-26T05:21:31.577Z"
   },
   {
    "duration": 30,
    "start_time": "2024-08-26T05:22:39.136Z"
   },
   {
    "duration": 25,
    "start_time": "2024-08-26T05:23:29.727Z"
   },
   {
    "duration": 29,
    "start_time": "2024-08-26T05:23:54.412Z"
   },
   {
    "duration": 10,
    "start_time": "2024-08-26T05:24:04.245Z"
   },
   {
    "duration": 11,
    "start_time": "2024-08-26T05:25:27.833Z"
   },
   {
    "duration": 7,
    "start_time": "2024-08-26T05:25:30.821Z"
   },
   {
    "duration": 27,
    "start_time": "2024-08-26T05:25:39.594Z"
   },
   {
    "duration": 11,
    "start_time": "2024-08-26T05:26:02.560Z"
   },
   {
    "duration": 27,
    "start_time": "2024-08-26T05:26:06.259Z"
   },
   {
    "duration": 12,
    "start_time": "2024-08-26T05:26:43.831Z"
   },
   {
    "duration": 27,
    "start_time": "2024-08-26T05:26:46.622Z"
   },
   {
    "duration": 27,
    "start_time": "2024-08-26T05:30:00.557Z"
   },
   {
    "duration": 6,
    "start_time": "2024-08-26T05:30:51.180Z"
   },
   {
    "duration": 11,
    "start_time": "2024-08-26T05:32:19.126Z"
   },
   {
    "duration": 7,
    "start_time": "2024-08-26T05:32:33.999Z"
   },
   {
    "duration": 15,
    "start_time": "2024-08-26T05:34:20.912Z"
   },
   {
    "duration": 12,
    "start_time": "2024-08-26T05:34:29.605Z"
   },
   {
    "duration": 6,
    "start_time": "2024-08-26T05:34:50.633Z"
   },
   {
    "duration": 11,
    "start_time": "2024-08-26T05:35:47.540Z"
   },
   {
    "duration": 7,
    "start_time": "2024-08-26T05:35:49.959Z"
   },
   {
    "duration": 15,
    "start_time": "2024-08-26T05:40:00.712Z"
   },
   {
    "duration": 5,
    "start_time": "2024-08-26T05:42:33.992Z"
   },
   {
    "duration": 7,
    "start_time": "2024-08-26T05:43:01.804Z"
   },
   {
    "duration": 14,
    "start_time": "2024-08-26T05:43:38.598Z"
   },
   {
    "duration": 7,
    "start_time": "2024-08-26T05:43:40.064Z"
   },
   {
    "duration": 6,
    "start_time": "2024-08-26T05:44:05.924Z"
   },
   {
    "duration": 7,
    "start_time": "2024-08-26T05:44:15.909Z"
   },
   {
    "duration": 26,
    "start_time": "2024-08-26T05:44:26.194Z"
   },
   {
    "duration": 7,
    "start_time": "2024-08-26T05:44:36.965Z"
   },
   {
    "duration": 2493,
    "start_time": "2024-08-26T17:29:07.535Z"
   },
   {
    "duration": 40,
    "start_time": "2024-08-26T17:29:10.030Z"
   },
   {
    "duration": 33,
    "start_time": "2024-08-26T17:29:10.072Z"
   },
   {
    "duration": 10,
    "start_time": "2024-08-26T17:29:10.106Z"
   },
   {
    "duration": 6,
    "start_time": "2024-08-26T17:29:10.119Z"
   },
   {
    "duration": 3,
    "start_time": "2024-08-26T17:29:10.134Z"
   },
   {
    "duration": 7,
    "start_time": "2024-08-26T17:29:10.139Z"
   },
   {
    "duration": 4,
    "start_time": "2024-08-26T17:29:10.148Z"
   },
   {
    "duration": 11,
    "start_time": "2024-08-26T17:29:10.153Z"
   },
   {
    "duration": 4,
    "start_time": "2024-08-26T17:29:10.166Z"
   },
   {
    "duration": 16,
    "start_time": "2024-08-26T17:29:10.172Z"
   },
   {
    "duration": 3,
    "start_time": "2024-08-26T17:29:10.190Z"
   },
   {
    "duration": 4,
    "start_time": "2024-08-26T17:29:10.236Z"
   },
   {
    "duration": 11,
    "start_time": "2024-08-26T17:29:10.244Z"
   },
   {
    "duration": 4,
    "start_time": "2024-08-26T17:29:10.256Z"
   },
   {
    "duration": 4,
    "start_time": "2024-08-26T17:29:10.262Z"
   },
   {
    "duration": 12,
    "start_time": "2024-08-26T17:29:10.269Z"
   },
   {
    "duration": 6,
    "start_time": "2024-08-26T17:29:10.282Z"
   },
   {
    "duration": 6,
    "start_time": "2024-08-26T17:29:10.290Z"
   },
   {
    "duration": 40,
    "start_time": "2024-08-26T17:29:10.297Z"
   },
   {
    "duration": 257,
    "start_time": "2024-08-26T17:29:10.339Z"
   },
   {
    "duration": 5,
    "start_time": "2024-08-26T17:29:10.598Z"
   },
   {
    "duration": 3,
    "start_time": "2024-08-26T17:29:10.605Z"
   },
   {
    "duration": 5,
    "start_time": "2024-08-26T17:29:10.610Z"
   },
   {
    "duration": 21,
    "start_time": "2024-08-26T17:29:10.616Z"
   },
   {
    "duration": 9,
    "start_time": "2024-08-26T17:29:10.638Z"
   },
   {
    "duration": 203,
    "start_time": "2024-08-26T17:29:10.648Z"
   },
   {
    "duration": 5,
    "start_time": "2024-08-26T17:29:10.853Z"
   },
   {
    "duration": 10,
    "start_time": "2024-08-26T17:29:10.860Z"
   },
   {
    "duration": 11,
    "start_time": "2024-08-26T17:29:10.871Z"
   },
   {
    "duration": 380,
    "start_time": "2024-08-26T17:29:10.884Z"
   },
   {
    "duration": 401,
    "start_time": "2024-08-26T17:29:11.266Z"
   },
   {
    "duration": 10,
    "start_time": "2024-08-26T17:29:11.669Z"
   },
   {
    "duration": 5,
    "start_time": "2024-08-26T17:29:11.681Z"
   },
   {
    "duration": 168,
    "start_time": "2024-08-26T17:29:11.688Z"
   },
   {
    "duration": 144,
    "start_time": "2024-08-26T17:29:11.858Z"
   },
   {
    "duration": 8,
    "start_time": "2024-08-26T17:29:12.003Z"
   },
   {
    "duration": 5,
    "start_time": "2024-08-26T17:29:12.013Z"
   },
   {
    "duration": 158,
    "start_time": "2024-08-26T17:29:12.034Z"
   },
   {
    "duration": 5,
    "start_time": "2024-08-26T17:29:12.194Z"
   },
   {
    "duration": 9,
    "start_time": "2024-08-26T17:29:12.205Z"
   },
   {
    "duration": 173,
    "start_time": "2024-08-26T17:29:12.216Z"
   },
   {
    "duration": 5,
    "start_time": "2024-08-26T17:29:12.391Z"
   },
   {
    "duration": 15,
    "start_time": "2024-08-26T17:29:12.398Z"
   },
   {
    "duration": 21,
    "start_time": "2024-08-26T17:29:12.415Z"
   },
   {
    "duration": 10,
    "start_time": "2024-08-26T17:29:12.437Z"
   },
   {
    "duration": 166,
    "start_time": "2024-08-26T17:29:12.448Z"
   },
   {
    "duration": 6,
    "start_time": "2024-08-26T17:29:12.615Z"
   },
   {
    "duration": 25,
    "start_time": "2024-08-26T17:29:12.622Z"
   },
   {
    "duration": 5,
    "start_time": "2024-08-26T17:29:12.648Z"
   },
   {
    "duration": 9,
    "start_time": "2024-08-26T17:29:12.656Z"
   },
   {
    "duration": 173,
    "start_time": "2024-08-26T17:29:12.667Z"
   },
   {
    "duration": 6,
    "start_time": "2024-08-26T17:29:12.841Z"
   },
   {
    "duration": 16,
    "start_time": "2024-08-26T17:29:12.848Z"
   },
   {
    "duration": 7,
    "start_time": "2024-08-26T17:29:12.865Z"
   },
   {
    "duration": 4,
    "start_time": "2024-08-26T17:29:12.874Z"
   },
   {
    "duration": 336,
    "start_time": "2024-08-26T17:29:12.879Z"
   },
   {
    "duration": 0,
    "start_time": "2024-08-26T17:29:13.216Z"
   },
   {
    "duration": 8,
    "start_time": "2024-08-26T17:29:38.291Z"
   },
   {
    "duration": 5,
    "start_time": "2024-08-26T17:30:08.859Z"
   },
   {
    "duration": 4,
    "start_time": "2024-08-26T17:30:35.162Z"
   },
   {
    "duration": 2,
    "start_time": "2024-08-26T18:03:44.861Z"
   },
   {
    "duration": 23,
    "start_time": "2024-08-26T18:03:45.748Z"
   },
   {
    "duration": 31,
    "start_time": "2024-08-26T18:03:45.774Z"
   },
   {
    "duration": 11,
    "start_time": "2024-08-26T18:03:45.807Z"
   },
   {
    "duration": 14,
    "start_time": "2024-08-26T18:03:45.821Z"
   },
   {
    "duration": 3,
    "start_time": "2024-08-26T18:03:45.837Z"
   },
   {
    "duration": 9,
    "start_time": "2024-08-26T18:03:45.842Z"
   },
   {
    "duration": 5,
    "start_time": "2024-08-26T18:03:45.853Z"
   },
   {
    "duration": 12,
    "start_time": "2024-08-26T18:03:45.860Z"
   },
   {
    "duration": 4,
    "start_time": "2024-08-26T18:03:45.874Z"
   },
   {
    "duration": 62,
    "start_time": "2024-08-26T18:03:45.879Z"
   },
   {
    "duration": 4,
    "start_time": "2024-08-26T18:03:45.942Z"
   },
   {
    "duration": 4,
    "start_time": "2024-08-26T18:03:45.948Z"
   },
   {
    "duration": 10,
    "start_time": "2024-08-26T18:03:46.055Z"
   },
   {
    "duration": 4,
    "start_time": "2024-08-26T18:03:46.068Z"
   },
   {
    "duration": 6,
    "start_time": "2024-08-26T18:03:46.074Z"
   },
   {
    "duration": 12,
    "start_time": "2024-08-26T18:03:46.088Z"
   },
   {
    "duration": 6,
    "start_time": "2024-08-26T18:03:46.102Z"
   },
   {
    "duration": 7,
    "start_time": "2024-08-26T18:03:46.110Z"
   },
   {
    "duration": 18,
    "start_time": "2024-08-26T18:03:46.118Z"
   },
   {
    "duration": 246,
    "start_time": "2024-08-26T18:03:46.139Z"
   },
   {
    "duration": 6,
    "start_time": "2024-08-26T18:03:46.387Z"
   },
   {
    "duration": 3,
    "start_time": "2024-08-26T18:03:46.396Z"
   },
   {
    "duration": 5,
    "start_time": "2024-08-26T18:03:46.402Z"
   },
   {
    "duration": 3,
    "start_time": "2024-08-26T18:03:46.436Z"
   },
   {
    "duration": 9,
    "start_time": "2024-08-26T18:03:46.440Z"
   },
   {
    "duration": 205,
    "start_time": "2024-08-26T18:03:46.451Z"
   },
   {
    "duration": 6,
    "start_time": "2024-08-26T18:03:46.657Z"
   },
   {
    "duration": 10,
    "start_time": "2024-08-26T18:03:46.665Z"
   },
   {
    "duration": 11,
    "start_time": "2024-08-26T18:03:46.677Z"
   },
   {
    "duration": 347,
    "start_time": "2024-08-26T18:03:46.690Z"
   },
   {
    "duration": 398,
    "start_time": "2024-08-26T18:03:47.040Z"
   },
   {
    "duration": 12,
    "start_time": "2024-08-26T18:03:47.440Z"
   },
   {
    "duration": 5,
    "start_time": "2024-08-26T18:03:47.454Z"
   },
   {
    "duration": 160,
    "start_time": "2024-08-26T18:03:47.461Z"
   },
   {
    "duration": 228,
    "start_time": "2024-08-26T18:03:47.634Z"
   },
   {
    "duration": 8,
    "start_time": "2024-08-26T18:03:47.864Z"
   },
   {
    "duration": 6,
    "start_time": "2024-08-26T18:03:47.874Z"
   },
   {
    "duration": 184,
    "start_time": "2024-08-26T18:03:47.882Z"
   },
   {
    "duration": 6,
    "start_time": "2024-08-26T18:03:48.068Z"
   },
   {
    "duration": 12,
    "start_time": "2024-08-26T18:03:48.076Z"
   },
   {
    "duration": 178,
    "start_time": "2024-08-26T18:03:48.089Z"
   },
   {
    "duration": 6,
    "start_time": "2024-08-26T18:03:48.269Z"
   },
   {
    "duration": 16,
    "start_time": "2024-08-26T18:03:48.277Z"
   },
   {
    "duration": 5,
    "start_time": "2024-08-26T18:03:48.294Z"
   },
   {
    "duration": 42,
    "start_time": "2024-08-26T18:03:48.300Z"
   },
   {
    "duration": 161,
    "start_time": "2024-08-26T18:03:48.343Z"
   },
   {
    "duration": 6,
    "start_time": "2024-08-26T18:03:48.505Z"
   },
   {
    "duration": 35,
    "start_time": "2024-08-26T18:03:48.513Z"
   },
   {
    "duration": 6,
    "start_time": "2024-08-26T18:03:48.549Z"
   },
   {
    "duration": 10,
    "start_time": "2024-08-26T18:03:48.557Z"
   },
   {
    "duration": 174,
    "start_time": "2024-08-26T18:03:48.568Z"
   },
   {
    "duration": 7,
    "start_time": "2024-08-26T18:03:48.744Z"
   },
   {
    "duration": 16,
    "start_time": "2024-08-26T18:03:48.753Z"
   },
   {
    "duration": 7,
    "start_time": "2024-08-26T18:03:48.771Z"
   },
   {
    "duration": 4,
    "start_time": "2024-08-26T18:03:48.779Z"
   },
   {
    "duration": 50,
    "start_time": "2024-08-26T18:03:48.785Z"
   },
   {
    "duration": 5,
    "start_time": "2024-08-26T18:03:48.837Z"
   },
   {
    "duration": 804,
    "start_time": "2024-08-26T18:04:27.180Z"
   },
   {
    "duration": 21,
    "start_time": "2024-08-26T18:04:27.986Z"
   },
   {
    "duration": 45,
    "start_time": "2024-08-26T18:04:28.009Z"
   },
   {
    "duration": 12,
    "start_time": "2024-08-26T18:04:28.055Z"
   },
   {
    "duration": 6,
    "start_time": "2024-08-26T18:04:28.071Z"
   },
   {
    "duration": 3,
    "start_time": "2024-08-26T18:04:28.079Z"
   },
   {
    "duration": 7,
    "start_time": "2024-08-26T18:04:28.083Z"
   },
   {
    "duration": 4,
    "start_time": "2024-08-26T18:04:28.091Z"
   },
   {
    "duration": 17,
    "start_time": "2024-08-26T18:04:28.137Z"
   },
   {
    "duration": 5,
    "start_time": "2024-08-26T18:04:28.156Z"
   },
   {
    "duration": 16,
    "start_time": "2024-08-26T18:04:28.163Z"
   },
   {
    "duration": 4,
    "start_time": "2024-08-26T18:04:28.180Z"
   },
   {
    "duration": 4,
    "start_time": "2024-08-26T18:04:28.186Z"
   },
   {
    "duration": 43,
    "start_time": "2024-08-26T18:04:28.194Z"
   },
   {
    "duration": 8,
    "start_time": "2024-08-26T18:04:28.238Z"
   },
   {
    "duration": 6,
    "start_time": "2024-08-26T18:04:28.248Z"
   },
   {
    "duration": 12,
    "start_time": "2024-08-26T18:04:28.255Z"
   },
   {
    "duration": 5,
    "start_time": "2024-08-26T18:04:28.269Z"
   },
   {
    "duration": 7,
    "start_time": "2024-08-26T18:04:28.276Z"
   },
   {
    "duration": 3,
    "start_time": "2024-08-26T18:04:28.284Z"
   },
   {
    "duration": 295,
    "start_time": "2024-08-26T18:04:28.289Z"
   },
   {
    "duration": 4,
    "start_time": "2024-08-26T18:04:28.586Z"
   },
   {
    "duration": 22,
    "start_time": "2024-08-26T18:04:28.593Z"
   },
   {
    "duration": 4,
    "start_time": "2024-08-26T18:04:28.616Z"
   },
   {
    "duration": 3,
    "start_time": "2024-08-26T18:04:28.622Z"
   },
   {
    "duration": 8,
    "start_time": "2024-08-26T18:04:28.635Z"
   },
   {
    "duration": 203,
    "start_time": "2024-08-26T18:04:28.645Z"
   },
   {
    "duration": 6,
    "start_time": "2024-08-26T18:04:28.850Z"
   },
   {
    "duration": 9,
    "start_time": "2024-08-26T18:04:28.857Z"
   },
   {
    "duration": 10,
    "start_time": "2024-08-26T18:04:28.868Z"
   },
   {
    "duration": 363,
    "start_time": "2024-08-26T18:04:28.879Z"
   },
   {
    "duration": 386,
    "start_time": "2024-08-26T18:04:29.244Z"
   },
   {
    "duration": 10,
    "start_time": "2024-08-26T18:04:29.636Z"
   },
   {
    "duration": 6,
    "start_time": "2024-08-26T18:04:29.648Z"
   },
   {
    "duration": 160,
    "start_time": "2024-08-26T18:04:29.656Z"
   },
   {
    "duration": 149,
    "start_time": "2024-08-26T18:04:29.817Z"
   },
   {
    "duration": 8,
    "start_time": "2024-08-26T18:04:29.968Z"
   },
   {
    "duration": 7,
    "start_time": "2024-08-26T18:04:29.978Z"
   },
   {
    "duration": 185,
    "start_time": "2024-08-26T18:04:29.987Z"
   },
   {
    "duration": 5,
    "start_time": "2024-08-26T18:04:30.173Z"
   },
   {
    "duration": 9,
    "start_time": "2024-08-26T18:04:30.183Z"
   },
   {
    "duration": 178,
    "start_time": "2024-08-26T18:04:30.193Z"
   },
   {
    "duration": 6,
    "start_time": "2024-08-26T18:04:30.373Z"
   },
   {
    "duration": 15,
    "start_time": "2024-08-26T18:04:30.380Z"
   },
   {
    "duration": 4,
    "start_time": "2024-08-26T18:04:30.397Z"
   },
   {
    "duration": 34,
    "start_time": "2024-08-26T18:04:30.403Z"
   },
   {
    "duration": 164,
    "start_time": "2024-08-26T18:04:30.438Z"
   },
   {
    "duration": 6,
    "start_time": "2024-08-26T18:04:30.604Z"
   },
   {
    "duration": 24,
    "start_time": "2024-08-26T18:04:30.611Z"
   },
   {
    "duration": 4,
    "start_time": "2024-08-26T18:04:30.637Z"
   },
   {
    "duration": 10,
    "start_time": "2024-08-26T18:04:30.643Z"
   },
   {
    "duration": 256,
    "start_time": "2024-08-26T18:04:30.655Z"
   },
   {
    "duration": 5,
    "start_time": "2024-08-26T18:04:30.913Z"
   },
   {
    "duration": 29,
    "start_time": "2024-08-26T18:04:30.920Z"
   },
   {
    "duration": 8,
    "start_time": "2024-08-26T18:04:30.950Z"
   },
   {
    "duration": 5,
    "start_time": "2024-08-26T18:04:30.959Z"
   },
   {
    "duration": 7,
    "start_time": "2024-08-26T18:04:30.965Z"
   },
   {
    "duration": 3,
    "start_time": "2024-08-26T18:04:30.974Z"
   }
  ],
  "kernelspec": {
   "display_name": "Python 3",
   "language": "python",
   "name": "python3"
  },
  "language_info": {
   "codemirror_mode": {
    "name": "ipython",
    "version": 3
   },
   "file_extension": ".py",
   "mimetype": "text/x-python",
   "name": "python",
   "nbconvert_exporter": "python",
   "pygments_lexer": "ipython3",
   "version": "3.11.9"
  },
  "toc": {
   "base_numbering": 1,
   "nav_menu": {},
   "number_sections": true,
   "sideBar": true,
   "skip_h1_title": true,
   "title_cell": "Table of Contents",
   "title_sidebar": "Contents",
   "toc_cell": false,
   "toc_position": {},
   "toc_section_display": true,
   "toc_window_display": false
  }
 },
 "nbformat": 4,
 "nbformat_minor": 2
}
