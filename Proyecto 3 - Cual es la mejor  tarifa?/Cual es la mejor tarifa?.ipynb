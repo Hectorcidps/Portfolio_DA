{
 "cells": [
  {
   "cell_type": "markdown",
   "metadata": {
    "id": "3rYiDeEH0q0f"
   },
   "source": [
    "# ¿Cuál es la mejor tarifa?\n",
    "\n",
    "Trabajas como analista para el operador de telecomunicaciones Megaline. La empresa ofrece a sus clientes dos tarifas de prepago, Surf y Ultimate. El departamento comercial quiere saber cuál de las tarifas genera más ingresos para poder ajustar el presupuesto de publicidad.\n",
    "\n",
    "Vas a realizar un análisis preliminar de las tarifas basado en una selección de clientes relativamente pequeña. Tendrás los datos de 500 clientes de Megaline: quiénes son los clientes, de dónde son, qué tarifa usan, así como la cantidad de llamadas que hicieron y los mensajes de texto que enviaron en 2018. Tu trabajo es analizar el comportamiento de los clientes y determinar qué tarifa de prepago genera más ingresos."
   ]
  },
  {
   "cell_type": "markdown",
   "metadata": {},
   "source": [
    "## Diccionario de datos \n",
    "\n",
    "Tabla users (datos sobre los usuarios)\n",
    "- user_id: identificador único del usuario.\n",
    "- first_name: nombre del usuario.\n",
    "- last_name: apellido del usuario.\n",
    "- age: edad del usuario (en años).\n",
    "- reg_date: fecha de suscripción (dd, mm, aa).\n",
    "- churn_date: la fecha en la que el usuario dejó de usar el servicio (si el valor es ausente, la tarifa se estaba usando cuando fue extraída esta base de datos).\n",
    "- city: ciudad de residencia del usuario.\n",
    "- plan: nombre de la tarifa.\n",
    "\n",
    "Tabla calls (datos sobre las llamadas)\n",
    "- id: identificador único de la llamada.\n",
    "- call_date: fecha de la llamada.\n",
    "- duration: duración de la llamada (en minutos).\n",
    "- user_id: el identificador del usuario que realiza la llamada.\n",
    "\n",
    "Tabla messages (datos sobre los SMS)\n",
    "- id: identificador único del SMS.\n",
    "- message_date: fecha del SMS.\n",
    "- user_id: el identificador del usuario que manda el SMS.\n",
    "\n",
    "Tabla internet (datos sobre las sesiones web)\n",
    "- id: identificador único de la sesión.\n",
    "- mb_used: el volumen de datos gastados durante la sesión (en megabytes).\n",
    "- session_date: fecha de la sesión web.\n",
    "- user_id: identificador del usuario.\n",
    "\n",
    "Tabla plans (datos sobre las tarifas)\n",
    "- plan_name: nombre de la tarifa.\n",
    "- usd_monthly_fee: pago mensual en dólares estadounidenses.\n",
    "- minutes_included: minutos incluidos al mes.\n",
    "- messages_included: SMS incluidos al mes.\n",
    "- mb_per_month_included: datos incluidos al mes (en megabytes).\n",
    "- usd_per_minute: precio por minuto tras exceder los límites del paquete (por ejemplo, si el paquete incluye 100 minutos, el operador cobrará el minuto 101).\n",
    "- usd_per_message: precio por SMS tras exceder los límites del paquete.\n",
    "- usd_per_gb: precio por gigabyte de los datos extra tras exceder los límites del paquete (1 GB = 1024 megabytes)."
   ]
  },
  {
   "cell_type": "markdown",
   "metadata": {
    "id": "MQi4IPy70q0y"
   },
   "source": [
    "## Inicialización"
   ]
  },
  {
   "cell_type": "code",
   "execution_count": 1,
   "metadata": {
    "id": "MtYIuBxu0q0z"
   },
   "outputs": [],
   "source": [
    "# Cargar todas las librerías\n",
    "import pandas as pd \n",
    "import numpy as np\n",
    "import seaborn as sns\n",
    "from matplotlib import pyplot as plt \n",
    "from scipy import stats as st"
   ]
  },
  {
   "cell_type": "markdown",
   "metadata": {
    "id": "4ysWWC5i0q00"
   },
   "source": [
    "## Cargar datos"
   ]
  },
  {
   "cell_type": "code",
   "execution_count": 2,
   "metadata": {
    "id": "CCqPW7rS0q01"
   },
   "outputs": [],
   "source": [
    "# Carga los archivos de datos en diferentes DataFrames\n",
    "df_users = pd.read_csv('./datasets/megaline_users.csv')\n",
    "df_calls = pd.read_csv('./datasets/megaline_calls.csv')\n",
    "df_messages = pd.read_csv('./datasets/megaline_messages.csv')\n",
    "df_internet = pd.read_csv('./datasets/megaline_internet.csv')\n",
    "df_plans = pd.read_csv('./datasets/megaline_plans.csv')"
   ]
  },
  {
   "cell_type": "markdown",
   "metadata": {
    "id": "69qqoJ3r0q01"
   },
   "source": [
    "## Preparar los datos"
   ]
  },
  {
   "cell_type": "markdown",
   "metadata": {
    "id": "ohBhimvH0q01"
   },
   "source": [
    "## Tarifas"
   ]
  },
  {
   "cell_type": "code",
   "execution_count": 3,
   "metadata": {
    "id": "GptqP3Q40q02"
   },
   "outputs": [
    {
     "name": "stdout",
     "output_type": "stream",
     "text": [
      "<class 'pandas.core.frame.DataFrame'>\n",
      "RangeIndex: 2 entries, 0 to 1\n",
      "Data columns (total 8 columns):\n",
      " #   Column                 Non-Null Count  Dtype  \n",
      "---  ------                 --------------  -----  \n",
      " 0   messages_included      2 non-null      int64  \n",
      " 1   mb_per_month_included  2 non-null      int64  \n",
      " 2   minutes_included       2 non-null      int64  \n",
      " 3   usd_monthly_pay        2 non-null      int64  \n",
      " 4   usd_per_gb             2 non-null      int64  \n",
      " 5   usd_per_message        2 non-null      float64\n",
      " 6   usd_per_minute         2 non-null      float64\n",
      " 7   plan_name              2 non-null      object \n",
      "dtypes: float64(2), int64(5), object(1)\n",
      "memory usage: 256.0+ bytes\n",
      "       messages_included  mb_per_month_included  minutes_included  \\\n",
      "count           2.000000               2.000000          2.000000   \n",
      "mean          525.000000           23040.000000       1750.000000   \n",
      "std           671.751442           10861.160159       1767.766953   \n",
      "min            50.000000           15360.000000        500.000000   \n",
      "25%           287.500000           19200.000000       1125.000000   \n",
      "50%           525.000000           23040.000000       1750.000000   \n",
      "75%           762.500000           26880.000000       2375.000000   \n",
      "max          1000.000000           30720.000000       3000.000000   \n",
      "\n",
      "       usd_monthly_pay  usd_per_gb  usd_per_message  usd_per_minute  \n",
      "count         2.000000     2.00000         2.000000        2.000000  \n",
      "mean         45.000000     8.50000         0.020000        0.020000  \n",
      "std          35.355339     2.12132         0.014142        0.014142  \n",
      "min          20.000000     7.00000         0.010000        0.010000  \n",
      "25%          32.500000     7.75000         0.015000        0.015000  \n",
      "50%          45.000000     8.50000         0.020000        0.020000  \n",
      "75%          57.500000     9.25000         0.025000        0.025000  \n",
      "max          70.000000    10.00000         0.030000        0.030000  \n"
     ]
    }
   ],
   "source": [
    "# Imprime la información general/resumida sobre el DataFrame de las tarifas\n",
    "df_plans.info()\n",
    "print(df_plans.describe())\n"
   ]
  },
  {
   "cell_type": "code",
   "execution_count": 4,
   "metadata": {
    "id": "64xzjwL70q02"
   },
   "outputs": [
    {
     "data": {
      "text/html": [
       "<div>\n",
       "<style scoped>\n",
       "    .dataframe tbody tr th:only-of-type {\n",
       "        vertical-align: middle;\n",
       "    }\n",
       "\n",
       "    .dataframe tbody tr th {\n",
       "        vertical-align: top;\n",
       "    }\n",
       "\n",
       "    .dataframe thead th {\n",
       "        text-align: right;\n",
       "    }\n",
       "</style>\n",
       "<table border=\"1\" class=\"dataframe\">\n",
       "  <thead>\n",
       "    <tr style=\"text-align: right;\">\n",
       "      <th></th>\n",
       "      <th>messages_included</th>\n",
       "      <th>mb_per_month_included</th>\n",
       "      <th>minutes_included</th>\n",
       "      <th>usd_monthly_pay</th>\n",
       "      <th>usd_per_gb</th>\n",
       "      <th>usd_per_message</th>\n",
       "      <th>usd_per_minute</th>\n",
       "      <th>plan_name</th>\n",
       "    </tr>\n",
       "  </thead>\n",
       "  <tbody>\n",
       "    <tr>\n",
       "      <th>0</th>\n",
       "      <td>50</td>\n",
       "      <td>15360</td>\n",
       "      <td>500</td>\n",
       "      <td>20</td>\n",
       "      <td>10</td>\n",
       "      <td>0.03</td>\n",
       "      <td>0.03</td>\n",
       "      <td>surf</td>\n",
       "    </tr>\n",
       "    <tr>\n",
       "      <th>1</th>\n",
       "      <td>1000</td>\n",
       "      <td>30720</td>\n",
       "      <td>3000</td>\n",
       "      <td>70</td>\n",
       "      <td>7</td>\n",
       "      <td>0.01</td>\n",
       "      <td>0.01</td>\n",
       "      <td>ultimate</td>\n",
       "    </tr>\n",
       "  </tbody>\n",
       "</table>\n",
       "</div>"
      ],
      "text/plain": [
       "   messages_included  mb_per_month_included  minutes_included  \\\n",
       "0                 50                  15360               500   \n",
       "1               1000                  30720              3000   \n",
       "\n",
       "   usd_monthly_pay  usd_per_gb  usd_per_message  usd_per_minute plan_name  \n",
       "0               20          10             0.03            0.03      surf  \n",
       "1               70           7             0.01            0.01  ultimate  "
      ]
     },
     "execution_count": 4,
     "metadata": {},
     "output_type": "execute_result"
    }
   ],
   "source": [
    "# Imprime una muestra de los datos para las tarifas\n",
    "df_plans.head()"
   ]
  },
  {
   "cell_type": "markdown",
   "metadata": {
    "id": "R3C05i1l0q03"
   },
   "source": [
    "## Corregir datos"
   ]
  },
  {
   "cell_type": "markdown",
   "metadata": {
    "id": "bIi8StZI0q03"
   },
   "source": [
    "[Corrige los problemas obvios con los datos basándote en las observaciones iniciales.]"
   ]
  },
  {
   "cell_type": "code",
   "execution_count": 5,
   "metadata": {},
   "outputs": [
    {
     "name": "stdout",
     "output_type": "stream",
     "text": [
      "   messages_included  mb_per_month_included  minutes_included  \\\n",
      "0                 50                  15360               500   \n",
      "1               1000                  30720              3000   \n",
      "\n",
      "   usd_monthly_fee  usd_per_gb  usd_per_message  usd_per_minute plan_name  \n",
      "0               20          10             0.03            0.03      surf  \n",
      "1               70           7             0.01            0.01  ultimate  \n"
     ]
    }
   ],
   "source": [
    "# Cambiar el nombre usd_monthly_pay por usd_monthly_fee\n",
    "new_name_column = {'usd_monthly_pay' : 'usd_monthly_fee'}\n",
    "df_plans = df_plans.rename(columns=new_name_column)\n",
    "print(df_plans)"
   ]
  },
  {
   "cell_type": "markdown",
   "metadata": {
    "id": "LJir7bml0q03"
   },
   "source": [
    "## Enriquecer los datos"
   ]
  },
  {
   "cell_type": "code",
   "execution_count": 6,
   "metadata": {
    "id": "gfcIEuXV0q04"
   },
   "outputs": [
    {
     "name": "stdout",
     "output_type": "stream",
     "text": [
      "   messages_included  mb_per_month_included  minutes_included  \\\n",
      "0                 50                  15360               500   \n",
      "1               1000                  30720              3000   \n",
      "\n",
      "   usd_monthly_fee  usd_per_gb  usd_per_message  usd_per_minute      plan  \n",
      "0               20          10             0.03            0.03      surf  \n",
      "1               70           7             0.01            0.01  ultimate  \n"
     ]
    }
   ],
   "source": [
    "# Cambiar el nombre de la columna plan_name para mantener la uniformidad\n",
    "df_plans.rename(columns={'plan_name': 'plan'}, inplace=True)\n",
    "print(df_plans)"
   ]
  },
  {
   "cell_type": "code",
   "execution_count": 7,
   "metadata": {},
   "outputs": [
    {
     "name": "stdout",
     "output_type": "stream",
     "text": [
      "   messages_included  mb_per_month_included  minutes_included  \\\n",
      "0                 50                  15360               500   \n",
      "1               1000                  30720              3000   \n",
      "\n",
      "   usd_monthly_fee  usd_per_gb  usd_per_message  usd_per_minute      plan  \\\n",
      "0               20          10             0.03            0.03      surf   \n",
      "1               70           7             0.01            0.01  ultimate   \n",
      "\n",
      "   gb_per_month_included  \n",
      "0                   15.0  \n",
      "1                   30.0  \n"
     ]
    }
   ],
   "source": [
    "# convertir los mb incluidos a gb\n",
    "df_plans['gb_per_month_included'] = df_plans['mb_per_month_included'] / 1024\n",
    "print(df_plans)"
   ]
  },
  {
   "cell_type": "markdown",
   "metadata": {},
   "source": [
    "En el DataFrame df_plans se corrigio el nombre de la columna 'usd_monthly_pay' por 'usd_monthly_fee' para coincidir con la información mostrada en el diccionario de datos, asimismo la columna 'plan_name' fue renombrada por 'plan' esto para facilitar una posible union con la tabla users. Por ultimo se agrego una nueva columna donde se transforman los mb utilizados a gb, dado que el cliente utiliza esta medida. "
   ]
  },
  {
   "cell_type": "markdown",
   "metadata": {
    "id": "1n2X6WXf0q04"
   },
   "source": [
    "## Usuarios/as"
   ]
  },
  {
   "cell_type": "code",
   "execution_count": 8,
   "metadata": {
    "id": "2NgjWFqx0q05"
   },
   "outputs": [
    {
     "name": "stdout",
     "output_type": "stream",
     "text": [
      "<class 'pandas.core.frame.DataFrame'>\n",
      "RangeIndex: 500 entries, 0 to 499\n",
      "Data columns (total 8 columns):\n",
      " #   Column      Non-Null Count  Dtype \n",
      "---  ------      --------------  ----- \n",
      " 0   user_id     500 non-null    int64 \n",
      " 1   first_name  500 non-null    object\n",
      " 2   last_name   500 non-null    object\n",
      " 3   age         500 non-null    int64 \n",
      " 4   city        500 non-null    object\n",
      " 5   reg_date    500 non-null    object\n",
      " 6   plan        500 non-null    object\n",
      " 7   churn_date  34 non-null     object\n",
      "dtypes: int64(2), object(6)\n",
      "memory usage: 31.4+ KB\n",
      "           user_id         age\n",
      "count   500.000000  500.000000\n",
      "mean   1249.500000   45.486000\n",
      "std     144.481833   16.972269\n",
      "min    1000.000000   18.000000\n",
      "25%    1124.750000   30.000000\n",
      "50%    1249.500000   46.000000\n",
      "75%    1374.250000   61.000000\n",
      "max    1499.000000   75.000000\n"
     ]
    }
   ],
   "source": [
    "# Imprime la información general/resumida sobre el DataFrame de usuarios\n",
    "df_users.info()\n",
    "print(df_users.describe())"
   ]
  },
  {
   "cell_type": "markdown",
   "metadata": {},
   "source": [
    "En este df_users se puede observar que la columna churn_date es tiene tipos de datos object, cuando lo ideal es que sean del tipo datetime, asimismo en esta misma columna existen muchos valores ausentes, por lo cual es necesario rellenarlos."
   ]
  },
  {
   "cell_type": "code",
   "execution_count": 9,
   "metadata": {
    "id": "1IN1L9uh0q05"
   },
   "outputs": [
    {
     "name": "stdout",
     "output_type": "stream",
     "text": [
      "   user_id first_name  last_name  age                                    city  \\\n",
      "0     1000   Anamaria      Bauer   45   Atlanta-Sandy Springs-Roswell, GA MSA   \n",
      "1     1001     Mickey  Wilkerson   28         Seattle-Tacoma-Bellevue, WA MSA   \n",
      "2     1002     Carlee    Hoffman   36    Las Vegas-Henderson-Paradise, NV MSA   \n",
      "3     1003   Reynaldo    Jenkins   52                           Tulsa, OK MSA   \n",
      "4     1004    Leonila   Thompson   40         Seattle-Tacoma-Bellevue, WA MSA   \n",
      "5     1005      Livia    Shields   31     Dallas-Fort Worth-Arlington, TX MSA   \n",
      "6     1006     Jesusa   Bradford   73  San Francisco-Oakland-Berkeley, CA MSA   \n",
      "7     1007    Eusebio      Welch   42           Grand Rapids-Kentwood, MI MSA   \n",
      "8     1008      Emely    Hoffman   53       Orlando-Kissimmee-Sanford, FL MSA   \n",
      "9     1009      Gerry     Little   19  San Jose-Sunnyvale-Santa Clara, CA MSA   \n",
      "\n",
      "     reg_date      plan  churn_date  \n",
      "0  2018-12-24  ultimate         NaN  \n",
      "1  2018-08-13      surf         NaN  \n",
      "2  2018-10-21      surf         NaN  \n",
      "3  2018-01-28      surf         NaN  \n",
      "4  2018-05-23      surf         NaN  \n",
      "5  2018-11-29      surf         NaN  \n",
      "6  2018-11-27  ultimate  2018-12-18  \n",
      "7  2018-07-11      surf         NaN  \n",
      "8  2018-08-03  ultimate         NaN  \n",
      "9  2018-04-22      surf         NaN  \n",
      "Valores ausentes:  user_id         0\n",
      "first_name      0\n",
      "last_name       0\n",
      "age             0\n",
      "city            0\n",
      "reg_date        0\n",
      "plan            0\n",
      "churn_date    466\n",
      "dtype: int64\n",
      "Valores duplicados:  0\n"
     ]
    }
   ],
   "source": [
    "# Imprime una muestra de datos para usuarios\n",
    "print(df_users.head(10))\n",
    "# verificar cuantos valores ausentes hay\n",
    "print('Valores ausentes: ', df_users.isna().sum())\n",
    "# verificar si hay valores duplicados\n",
    "print('Valores duplicados: ', df_users.duplicated().sum())"
   ]
  },
  {
   "cell_type": "markdown",
   "metadata": {
    "id": "dCZoUq4f0q06"
   },
   "source": [
    "Existen 466 valores ausentes dentro del df_users por lo cual es necesario investigar como afectaria si se eliminan estos valores ausentes, por otra parte podrían ser reemplazados por los valores de la columna 'plan' esto de acuerdo al diccionario de datos donde indica que las fechas ausentes se deben a que el el tipo de tarifa estaba activa."
   ]
  },
  {
   "cell_type": "markdown",
   "metadata": {
    "id": "BX5FQh_I0q06"
   },
   "source": [
    "### Corregir los datos"
   ]
  },
  {
   "cell_type": "code",
   "execution_count": 10,
   "metadata": {
    "id": "yUqX-K0C0q07"
   },
   "outputs": [
    {
     "name": "stdout",
     "output_type": "stream",
     "text": [
      "   user_id first_name  last_name  age                                    city  \\\n",
      "0     1000   Anamaria      Bauer   45   Atlanta-Sandy Springs-Roswell, GA MSA   \n",
      "1     1001     Mickey  Wilkerson   28         Seattle-Tacoma-Bellevue, WA MSA   \n",
      "2     1002     Carlee    Hoffman   36    Las Vegas-Henderson-Paradise, NV MSA   \n",
      "3     1003   Reynaldo    Jenkins   52                           Tulsa, OK MSA   \n",
      "4     1004    Leonila   Thompson   40         Seattle-Tacoma-Bellevue, WA MSA   \n",
      "5     1005      Livia    Shields   31     Dallas-Fort Worth-Arlington, TX MSA   \n",
      "6     1006     Jesusa   Bradford   73  San Francisco-Oakland-Berkeley, CA MSA   \n",
      "7     1007    Eusebio      Welch   42           Grand Rapids-Kentwood, MI MSA   \n",
      "8     1008      Emely    Hoffman   53       Orlando-Kissimmee-Sanford, FL MSA   \n",
      "9     1009      Gerry     Little   19  San Jose-Sunnyvale-Santa Clara, CA MSA   \n",
      "\n",
      "     reg_date      plan  churn_date  \n",
      "0  2018-12-24  ultimate    ultimate  \n",
      "1  2018-08-13      surf        surf  \n",
      "2  2018-10-21      surf        surf  \n",
      "3  2018-01-28      surf        surf  \n",
      "4  2018-05-23      surf        surf  \n",
      "5  2018-11-29      surf        surf  \n",
      "6  2018-11-27  ultimate  2018-12-18  \n",
      "7  2018-07-11      surf        surf  \n",
      "8  2018-08-03  ultimate    ultimate  \n",
      "9  2018-04-22      surf        surf  \n"
     ]
    }
   ],
   "source": [
    "# rellenar los valores ausentes con el tipo de tarifa que usan, implementanto el metodo apply y lambda para que revise\n",
    "# fila por fila \n",
    "\n",
    "df_users['churn_date'] = df_users.apply(\n",
    "    lambda row: row['plan']\n",
    "    if pd.isna(row['churn_date'])\n",
    "    else row['churn_date'],\n",
    "    axis= 1)\n",
    "print(df_users.head(10))"
   ]
  },
  {
   "cell_type": "code",
   "execution_count": 11,
   "metadata": {},
   "outputs": [
    {
     "name": "stdout",
     "output_type": "stream",
     "text": [
      "     user_id first_name   last_name  age  \\\n",
      "0       1000   Anamaria       Bauer   45   \n",
      "1       1001     Mickey   Wilkerson   28   \n",
      "2       1002     Carlee     Hoffman   36   \n",
      "3       1003   Reynaldo     Jenkins   52   \n",
      "4       1004    Leonila    Thompson   40   \n",
      "..       ...        ...         ...  ...   \n",
      "495     1495      Fidel      Sharpe   67   \n",
      "496     1496      Ariel    Shepherd   49   \n",
      "497     1497      Donte     Barrera   49   \n",
      "498     1498       Scot  Williamson   51   \n",
      "499     1499      Shena     Dickson   37   \n",
      "\n",
      "                                          city   reg_date      plan churn_date  \n",
      "0        Atlanta-Sandy Springs-Roswell, GA MSA 2018-12-24  ultimate   ultimate  \n",
      "1              Seattle-Tacoma-Bellevue, WA MSA 2018-08-13      surf       surf  \n",
      "2         Las Vegas-Henderson-Paradise, NV MSA 2018-10-21      surf       surf  \n",
      "3                                Tulsa, OK MSA 2018-01-28      surf       surf  \n",
      "4              Seattle-Tacoma-Bellevue, WA MSA 2018-05-23      surf       surf  \n",
      "..                                         ...        ...       ...        ...  \n",
      "495  New York-Newark-Jersey City, NY-NJ-PA MSA 2018-09-04      surf       surf  \n",
      "496               New Orleans-Metairie, LA MSA 2018-02-20      surf       surf  \n",
      "497     Los Angeles-Long Beach-Anaheim, CA MSA 2018-12-10  ultimate   ultimate  \n",
      "498  New York-Newark-Jersey City, NY-NJ-PA MSA 2018-02-04      surf       surf  \n",
      "499          Orlando-Kissimmee-Sanford, FL MSA 2018-05-06      surf       surf  \n",
      "\n",
      "[500 rows x 8 columns]\n"
     ]
    }
   ],
   "source": [
    "# cambiar el tipo de datos de la columna reg_date a datetime\n",
    "df_users['reg_date'] = pd.to_datetime(df_users['reg_date'])\n",
    "print(df_users)"
   ]
  },
  {
   "cell_type": "markdown",
   "metadata": {
    "id": "ycwuARJp0q07"
   },
   "source": [
    "### Enriquecer los datos"
   ]
  },
  {
   "cell_type": "code",
   "execution_count": 12,
   "metadata": {
    "id": "iq0AaBS90q08"
   },
   "outputs": [
    {
     "name": "stdout",
     "output_type": "stream",
     "text": [
      "     user_id first_name   last_name  age  \\\n",
      "0       1000   Anamaria       Bauer   45   \n",
      "1       1001     Mickey   Wilkerson   28   \n",
      "2       1002     Carlee     Hoffman   36   \n",
      "3       1003   Reynaldo     Jenkins   52   \n",
      "4       1004    Leonila    Thompson   40   \n",
      "..       ...        ...         ...  ...   \n",
      "495     1495      Fidel      Sharpe   67   \n",
      "496     1496      Ariel    Shepherd   49   \n",
      "497     1497      Donte     Barrera   49   \n",
      "498     1498       Scot  Williamson   51   \n",
      "499     1499      Shena     Dickson   37   \n",
      "\n",
      "                                          city   reg_date      plan  \\\n",
      "0        Atlanta-Sandy Springs-Roswell, GA MSA 2018-12-24  ultimate   \n",
      "1              Seattle-Tacoma-Bellevue, WA MSA 2018-08-13      surf   \n",
      "2         Las Vegas-Henderson-Paradise, NV MSA 2018-10-21      surf   \n",
      "3                                Tulsa, OK MSA 2018-01-28      surf   \n",
      "4              Seattle-Tacoma-Bellevue, WA MSA 2018-05-23      surf   \n",
      "..                                         ...        ...       ...   \n",
      "495  New York-Newark-Jersey City, NY-NJ-PA MSA 2018-09-04      surf   \n",
      "496               New Orleans-Metairie, LA MSA 2018-02-20      surf   \n",
      "497     Los Angeles-Long Beach-Anaheim, CA MSA 2018-12-10  ultimate   \n",
      "498  New York-Newark-Jersey City, NY-NJ-PA MSA 2018-02-04      surf   \n",
      "499          Orlando-Kissimmee-Sanford, FL MSA 2018-05-06      surf   \n",
      "\n",
      "    churn_date  month  \n",
      "0     ultimate     12  \n",
      "1         surf      8  \n",
      "2         surf     10  \n",
      "3         surf      1  \n",
      "4         surf      5  \n",
      "..         ...    ...  \n",
      "495       surf      9  \n",
      "496       surf      2  \n",
      "497   ultimate     12  \n",
      "498       surf      2  \n",
      "499       surf      5  \n",
      "\n",
      "[500 rows x 9 columns]\n"
     ]
    }
   ],
   "source": [
    "# crear una columna donde solo llamamos a los meses\n",
    "df_users['month'] = df_users['reg_date'].dt.month\n",
    "print(df_users)"
   ]
  },
  {
   "cell_type": "markdown",
   "metadata": {},
   "source": [
    "En el df_users primeramente se rellenaron los valores ausentes con la informacion de la columna plan, debido a que en el diccionario de datos nos indica que las filas que tienen fecha es porque en ese momento terminaron el contrato con el cliente, y los que no tienen esa información es porque sigue vigente su plan. Después se cambio el tipo de datos de la columna 'reg_date' a datetime para que de esta manera se pudieran extraer los meses(month) y de esta manera facilitar el análisis mas adelante. "
   ]
  },
  {
   "cell_type": "markdown",
   "metadata": {
    "id": "o7MeKCid0q08"
   },
   "source": [
    "## Llamadas"
   ]
  },
  {
   "cell_type": "code",
   "execution_count": 13,
   "metadata": {
    "id": "6dDlnoDm0q08"
   },
   "outputs": [
    {
     "name": "stdout",
     "output_type": "stream",
     "text": [
      "<class 'pandas.core.frame.DataFrame'>\n",
      "RangeIndex: 137735 entries, 0 to 137734\n",
      "Data columns (total 4 columns):\n",
      " #   Column     Non-Null Count   Dtype  \n",
      "---  ------     --------------   -----  \n",
      " 0   id         137735 non-null  object \n",
      " 1   user_id    137735 non-null  int64  \n",
      " 2   call_date  137735 non-null  object \n",
      " 3   duration   137735 non-null  float64\n",
      "dtypes: float64(1), int64(1), object(2)\n",
      "memory usage: 4.2+ MB\n",
      "             user_id       duration\n",
      "count  137735.000000  137735.000000\n",
      "mean     1247.658046       6.745927\n",
      "std       139.416268       5.839241\n",
      "min      1000.000000       0.000000\n",
      "25%      1128.000000       1.290000\n",
      "50%      1247.000000       5.980000\n",
      "75%      1365.000000      10.690000\n",
      "max      1499.000000      37.600000\n"
     ]
    }
   ],
   "source": [
    "# Imprime la información general/resumida sobre el DataFrame de las llamadas\n",
    "df_calls.info()\n",
    "print(df_calls.describe())"
   ]
  },
  {
   "cell_type": "code",
   "execution_count": 14,
   "metadata": {},
   "outputs": [
    {
     "name": "stdout",
     "output_type": "stream",
     "text": [
      "         id  user_id   call_date  duration\n",
      "0   1000_93     1000  2018-12-27      8.52\n",
      "1  1000_145     1000  2018-12-27     13.66\n",
      "2  1000_247     1000  2018-12-27     14.48\n",
      "3  1000_309     1000  2018-12-28      5.76\n",
      "4  1000_380     1000  2018-12-30      4.22\n",
      "5  1000_388     1000  2018-12-31      2.20\n",
      "6  1000_510     1000  2018-12-27      5.75\n",
      "7  1000_521     1000  2018-12-28     14.18\n",
      "8  1000_530     1000  2018-12-28      5.77\n",
      "9  1000_544     1000  2018-12-26      4.40\n",
      "Valores duplicados:  0\n",
      "Valores ausentes:  id           0\n",
      "user_id      0\n",
      "call_date    0\n",
      "duration     0\n",
      "dtype: int64\n",
      "Valores duplicados en id  0\n"
     ]
    }
   ],
   "source": [
    "# Imprime una muestra de datos para las llamadas\n",
    "print(df_calls.head(10))\n",
    "# verificar si hay valores duplicados\n",
    "print('Valores duplicados: ', df_calls.duplicated().sum())\n",
    "# verificar si hay valores ausentes\n",
    "print('Valores ausentes: ', df_calls.isna().sum())\n",
    "duplicados_id = df_calls['id'].duplicated().sum()\n",
    "print('Valores duplicados en id ', duplicados_id)"
   ]
  },
  {
   "cell_type": "markdown",
   "metadata": {
    "id": "S7hzxmbX0q0-"
   },
   "source": [
    "### Corregir los datos"
   ]
  },
  {
   "cell_type": "code",
   "execution_count": 15,
   "metadata": {
    "id": "S2r8xA4f0q0-"
   },
   "outputs": [
    {
     "name": "stdout",
     "output_type": "stream",
     "text": [
      "              id  user_id   call_date  duration  duration_round\n",
      "0        1000_93     1000  2018-12-27      8.52             9.0\n",
      "1       1000_145     1000  2018-12-27     13.66            14.0\n",
      "2       1000_247     1000  2018-12-27     14.48            15.0\n",
      "3       1000_309     1000  2018-12-28      5.76             6.0\n",
      "4       1000_380     1000  2018-12-30      4.22             5.0\n",
      "...          ...      ...         ...       ...             ...\n",
      "137730  1499_199     1499  2018-11-21      8.72             9.0\n",
      "137731  1499_200     1499  2018-10-20     10.89            11.0\n",
      "137732  1499_201     1499  2018-09-21      8.12             9.0\n",
      "137733  1499_202     1499  2018-10-10      0.37             1.0\n",
      "137734  1499_203     1499  2018-12-29     13.86            14.0\n",
      "\n",
      "[137735 rows x 5 columns]\n"
     ]
    }
   ],
   "source": [
    "# Crear una columna donde se registre el tiempo de duracion redondeado hacia arriba\n",
    "df_calls['duration_round'] = np.ceil(df_calls['duration'])\n",
    "print(df_calls)"
   ]
  },
  {
   "cell_type": "code",
   "execution_count": 16,
   "metadata": {},
   "outputs": [
    {
     "name": "stdout",
     "output_type": "stream",
     "text": [
      "              id  user_id  call_date  duration  duration_round\n",
      "0        1000_93     1000 2018-12-27      8.52             9.0\n",
      "1       1000_145     1000 2018-12-27     13.66            14.0\n",
      "2       1000_247     1000 2018-12-27     14.48            15.0\n",
      "3       1000_309     1000 2018-12-28      5.76             6.0\n",
      "4       1000_380     1000 2018-12-30      4.22             5.0\n",
      "...          ...      ...        ...       ...             ...\n",
      "137730  1499_199     1499 2018-11-21      8.72             9.0\n",
      "137731  1499_200     1499 2018-10-20     10.89            11.0\n",
      "137732  1499_201     1499 2018-09-21      8.12             9.0\n",
      "137733  1499_202     1499 2018-10-10      0.37             1.0\n",
      "137734  1499_203     1499 2018-12-29     13.86            14.0\n",
      "\n",
      "[137735 rows x 5 columns]\n"
     ]
    }
   ],
   "source": [
    "# Cambiar el tipo de datos de la columna call_date a datetime \n",
    "df_calls['call_date'] = pd.to_datetime(df_calls['call_date'])\n",
    "print(df_calls)"
   ]
  },
  {
   "cell_type": "markdown",
   "metadata": {
    "id": "KrMgTrlG0q0_"
   },
   "source": [
    "### Enriquecer los datos"
   ]
  },
  {
   "cell_type": "code",
   "execution_count": 17,
   "metadata": {
    "id": "iZ1avpA_0q0_"
   },
   "outputs": [
    {
     "name": "stdout",
     "output_type": "stream",
     "text": [
      "              id  user_id  call_date  duration  duration_round  month\n",
      "0        1000_93     1000 2018-12-27      8.52             9.0     12\n",
      "1       1000_145     1000 2018-12-27     13.66            14.0     12\n",
      "2       1000_247     1000 2018-12-27     14.48            15.0     12\n",
      "3       1000_309     1000 2018-12-28      5.76             6.0     12\n",
      "4       1000_380     1000 2018-12-30      4.22             5.0     12\n",
      "...          ...      ...        ...       ...             ...    ...\n",
      "137730  1499_199     1499 2018-11-21      8.72             9.0     11\n",
      "137731  1499_200     1499 2018-10-20     10.89            11.0     10\n",
      "137732  1499_201     1499 2018-09-21      8.12             9.0      9\n",
      "137733  1499_202     1499 2018-10-10      0.37             1.0     10\n",
      "137734  1499_203     1499 2018-12-29     13.86            14.0     12\n",
      "\n",
      "[137735 rows x 6 columns]\n"
     ]
    }
   ],
   "source": [
    "# crear una nueva columna donde solo se llamen a los meses \n",
    "df_calls['month'] = df_calls['call_date'].dt.month\n",
    "print(df_calls)"
   ]
  },
  {
   "cell_type": "code",
   "execution_count": 18,
   "metadata": {},
   "outputs": [
    {
     "name": "stdout",
     "output_type": "stream",
     "text": [
      "El total de llamadas en cero es: 26834\n"
     ]
    },
    {
     "data": {
      "text/html": [
       "<div>\n",
       "<style scoped>\n",
       "    .dataframe tbody tr th:only-of-type {\n",
       "        vertical-align: middle;\n",
       "    }\n",
       "\n",
       "    .dataframe tbody tr th {\n",
       "        vertical-align: top;\n",
       "    }\n",
       "\n",
       "    .dataframe thead th {\n",
       "        text-align: right;\n",
       "    }\n",
       "</style>\n",
       "<table border=\"1\" class=\"dataframe\">\n",
       "  <thead>\n",
       "    <tr style=\"text-align: right;\">\n",
       "      <th></th>\n",
       "      <th>id</th>\n",
       "      <th>user_id</th>\n",
       "      <th>call_date</th>\n",
       "      <th>duration</th>\n",
       "      <th>duration_round</th>\n",
       "      <th>month</th>\n",
       "    </tr>\n",
       "  </thead>\n",
       "  <tbody>\n",
       "    <tr>\n",
       "      <th>0</th>\n",
       "      <td>1000_93</td>\n",
       "      <td>1000</td>\n",
       "      <td>2018-12-27</td>\n",
       "      <td>8.52</td>\n",
       "      <td>9.0</td>\n",
       "      <td>12</td>\n",
       "    </tr>\n",
       "    <tr>\n",
       "      <th>1</th>\n",
       "      <td>1000_145</td>\n",
       "      <td>1000</td>\n",
       "      <td>2018-12-27</td>\n",
       "      <td>13.66</td>\n",
       "      <td>14.0</td>\n",
       "      <td>12</td>\n",
       "    </tr>\n",
       "    <tr>\n",
       "      <th>2</th>\n",
       "      <td>1000_247</td>\n",
       "      <td>1000</td>\n",
       "      <td>2018-12-27</td>\n",
       "      <td>14.48</td>\n",
       "      <td>15.0</td>\n",
       "      <td>12</td>\n",
       "    </tr>\n",
       "    <tr>\n",
       "      <th>3</th>\n",
       "      <td>1000_309</td>\n",
       "      <td>1000</td>\n",
       "      <td>2018-12-28</td>\n",
       "      <td>5.76</td>\n",
       "      <td>6.0</td>\n",
       "      <td>12</td>\n",
       "    </tr>\n",
       "    <tr>\n",
       "      <th>4</th>\n",
       "      <td>1000_380</td>\n",
       "      <td>1000</td>\n",
       "      <td>2018-12-30</td>\n",
       "      <td>4.22</td>\n",
       "      <td>5.0</td>\n",
       "      <td>12</td>\n",
       "    </tr>\n",
       "    <tr>\n",
       "      <th>...</th>\n",
       "      <td>...</td>\n",
       "      <td>...</td>\n",
       "      <td>...</td>\n",
       "      <td>...</td>\n",
       "      <td>...</td>\n",
       "      <td>...</td>\n",
       "    </tr>\n",
       "    <tr>\n",
       "      <th>137730</th>\n",
       "      <td>1499_199</td>\n",
       "      <td>1499</td>\n",
       "      <td>2018-11-21</td>\n",
       "      <td>8.72</td>\n",
       "      <td>9.0</td>\n",
       "      <td>11</td>\n",
       "    </tr>\n",
       "    <tr>\n",
       "      <th>137731</th>\n",
       "      <td>1499_200</td>\n",
       "      <td>1499</td>\n",
       "      <td>2018-10-20</td>\n",
       "      <td>10.89</td>\n",
       "      <td>11.0</td>\n",
       "      <td>10</td>\n",
       "    </tr>\n",
       "    <tr>\n",
       "      <th>137732</th>\n",
       "      <td>1499_201</td>\n",
       "      <td>1499</td>\n",
       "      <td>2018-09-21</td>\n",
       "      <td>8.12</td>\n",
       "      <td>9.0</td>\n",
       "      <td>9</td>\n",
       "    </tr>\n",
       "    <tr>\n",
       "      <th>137733</th>\n",
       "      <td>1499_202</td>\n",
       "      <td>1499</td>\n",
       "      <td>2018-10-10</td>\n",
       "      <td>0.37</td>\n",
       "      <td>1.0</td>\n",
       "      <td>10</td>\n",
       "    </tr>\n",
       "    <tr>\n",
       "      <th>137734</th>\n",
       "      <td>1499_203</td>\n",
       "      <td>1499</td>\n",
       "      <td>2018-12-29</td>\n",
       "      <td>13.86</td>\n",
       "      <td>14.0</td>\n",
       "      <td>12</td>\n",
       "    </tr>\n",
       "  </tbody>\n",
       "</table>\n",
       "<p>110901 rows × 6 columns</p>\n",
       "</div>"
      ],
      "text/plain": [
       "              id  user_id  call_date  duration  duration_round  month\n",
       "0        1000_93     1000 2018-12-27      8.52             9.0     12\n",
       "1       1000_145     1000 2018-12-27     13.66            14.0     12\n",
       "2       1000_247     1000 2018-12-27     14.48            15.0     12\n",
       "3       1000_309     1000 2018-12-28      5.76             6.0     12\n",
       "4       1000_380     1000 2018-12-30      4.22             5.0     12\n",
       "...          ...      ...        ...       ...             ...    ...\n",
       "137730  1499_199     1499 2018-11-21      8.72             9.0     11\n",
       "137731  1499_200     1499 2018-10-20     10.89            11.0     10\n",
       "137732  1499_201     1499 2018-09-21      8.12             9.0      9\n",
       "137733  1499_202     1499 2018-10-10      0.37             1.0     10\n",
       "137734  1499_203     1499 2018-12-29     13.86            14.0     12\n",
       "\n",
       "[110901 rows x 6 columns]"
      ]
     },
     "execution_count": 18,
     "metadata": {},
     "output_type": "execute_result"
    }
   ],
   "source": [
    "# filtro para identificar llamadas con 0 min\n",
    "llamadas_cero = df_calls[df_calls['duration'] == 0]\n",
    "# cuantas llamadas en 0 hay\n",
    "total_calls_cero = len(llamadas_cero)\n",
    "print('El total de llamadas en cero es:', total_calls_cero)\n",
    "\n",
    "# eliminar las llamadas en 0 ya que no son relevantes para el análisis que se esta realizando \n",
    "df_calls = df_calls[df_calls['duration'] != 0]\n",
    "df_calls"
   ]
  },
  {
   "cell_type": "markdown",
   "metadata": {},
   "source": [
    "En el df_calls se hicieron varias modificaciones, primeramente se investigo que no existieran valores duplicados y ausentes, si bien al observar la columna user_id se podria pensar que hay valores duplicados al observar la columna call_date se puede concluir que las llamadas pertenecientes a ese usuario fueron hechas en diferentes fechas y con diferentes id de llamadas, para verificar que los id's no estuvieran duplicados se analizo la columna y el resultado fue que no exiten valores duplicados. Después el cliente solicita que todas aquellas llamadas realizadas deben estar redondeadas al siguiente numero, incluso si la llamada duro 1 segundo. Despues los datos de la columna call_date fueron convertidos a datetime y se extrajo una columna con los meses(month) la cual ayudara al análisis que se realizara posteriormente. Finalmente se encontraron 26834 llamadas en 0, las cuales fueron eliminadas ya que en este analisis no son relevantes. "
   ]
  },
  {
   "cell_type": "markdown",
   "metadata": {
    "id": "mOUZSi180q0_"
   },
   "source": [
    "## Mensajes"
   ]
  },
  {
   "cell_type": "code",
   "execution_count": 19,
   "metadata": {
    "id": "R-bYJpdV0q1A"
   },
   "outputs": [
    {
     "name": "stdout",
     "output_type": "stream",
     "text": [
      "<class 'pandas.core.frame.DataFrame'>\n",
      "RangeIndex: 76051 entries, 0 to 76050\n",
      "Data columns (total 3 columns):\n",
      " #   Column        Non-Null Count  Dtype \n",
      "---  ------        --------------  ----- \n",
      " 0   id            76051 non-null  object\n",
      " 1   user_id       76051 non-null  int64 \n",
      " 2   message_date  76051 non-null  object\n",
      "dtypes: int64(1), object(2)\n",
      "memory usage: 1.7+ MB\n",
      "            user_id\n",
      "count  76051.000000\n",
      "mean    1245.972768\n",
      "std      139.843635\n",
      "min     1000.000000\n",
      "25%     1123.000000\n",
      "50%     1251.000000\n",
      "75%     1362.000000\n",
      "max     1497.000000\n"
     ]
    }
   ],
   "source": [
    "# Imprime la información general/resumida sobre el DataFrame de los mensajes\n",
    "df_messages.info()\n",
    "print(df_messages.describe())\n"
   ]
  },
  {
   "cell_type": "code",
   "execution_count": 20,
   "metadata": {
    "id": "mCEl2iGE0q1A"
   },
   "outputs": [
    {
     "name": "stdout",
     "output_type": "stream",
     "text": [
      "          id  user_id message_date\n",
      "0   1000_125     1000   2018-12-27\n",
      "1   1000_160     1000   2018-12-31\n",
      "2   1000_223     1000   2018-12-31\n",
      "3   1000_251     1000   2018-12-27\n",
      "4   1000_255     1000   2018-12-26\n",
      "5   1000_346     1000   2018-12-29\n",
      "6   1000_386     1000   2018-12-30\n",
      "7   1000_413     1000   2018-12-31\n",
      "8   1000_502     1000   2018-12-27\n",
      "9   1000_525     1000   2018-12-28\n",
      "10  1000_567     1000   2018-12-25\n",
      "11    1001_1     1001   2018-11-14\n",
      "12    1001_2     1001   2018-08-17\n",
      "13    1001_5     1001   2018-12-05\n",
      "14    1001_7     1001   2018-11-28\n",
      "15    1001_9     1001   2018-10-23\n",
      "16   1001_10     1001   2018-09-01\n",
      "17   1001_11     1001   2018-11-18\n",
      "18   1001_17     1001   2018-12-11\n",
      "19   1001_18     1001   2018-10-01\n",
      "Valores duplicados:  0\n",
      "Valores ausentes:  id              0\n",
      "user_id         0\n",
      "message_date    0\n",
      "dtype: int64\n"
     ]
    }
   ],
   "source": [
    "# Imprime una muestra de datos para los mensajes\n",
    "print(df_messages.head(20))\n",
    "# Verificar si hay valores duplicados\n",
    "print('Valores duplicados: ', df_messages.duplicated().sum())\n",
    "# Verificar si hay valores ausentes \n",
    "print('Valores ausentes: ', df_messages.isna().sum())"
   ]
  },
  {
   "cell_type": "markdown",
   "metadata": {
    "id": "04xDj7KH0q1A"
   },
   "source": [
    "En este apartado de messages el unico error que alcanzo a percibir es el de el tipo de dato de la columna message_date, el cual sera convertido a datetime. En cuanto a valores ausentes y duplicados, no se encontraron."
   ]
  },
  {
   "cell_type": "markdown",
   "metadata": {
    "id": "Sprfak900q1B"
   },
   "source": [
    "### Corregir los datos"
   ]
  },
  {
   "cell_type": "code",
   "execution_count": 21,
   "metadata": {
    "id": "vsllvkoa0q1B"
   },
   "outputs": [
    {
     "name": "stdout",
     "output_type": "stream",
     "text": [
      "             id  user_id message_date\n",
      "0      1000_125     1000   2018-12-27\n",
      "1      1000_160     1000   2018-12-31\n",
      "2      1000_223     1000   2018-12-31\n",
      "3      1000_251     1000   2018-12-27\n",
      "4      1000_255     1000   2018-12-26\n",
      "...         ...      ...          ...\n",
      "76046  1497_526     1497   2018-12-24\n",
      "76047  1497_536     1497   2018-12-24\n",
      "76048  1497_547     1497   2018-12-31\n",
      "76049  1497_558     1497   2018-12-24\n",
      "76050  1497_613     1497   2018-12-23\n",
      "\n",
      "[76051 rows x 3 columns]\n"
     ]
    }
   ],
   "source": [
    "# cambiar el tipo de datos de la columna message_date a datetime\n",
    "df_messages['message_date'] = pd.to_datetime(df_messages['message_date'])\n",
    "print(df_messages)"
   ]
  },
  {
   "cell_type": "markdown",
   "metadata": {
    "id": "HvLid7iD0q1B"
   },
   "source": [
    "### Enriquecer los datos"
   ]
  },
  {
   "cell_type": "code",
   "execution_count": 22,
   "metadata": {
    "id": "zYEXZac10q1C"
   },
   "outputs": [
    {
     "name": "stdout",
     "output_type": "stream",
     "text": [
      "             id  user_id message_date  month\n",
      "0      1000_125     1000   2018-12-27     12\n",
      "1      1000_160     1000   2018-12-31     12\n",
      "2      1000_223     1000   2018-12-31     12\n",
      "3      1000_251     1000   2018-12-27     12\n",
      "4      1000_255     1000   2018-12-26     12\n",
      "...         ...      ...          ...    ...\n",
      "76046  1497_526     1497   2018-12-24     12\n",
      "76047  1497_536     1497   2018-12-24     12\n",
      "76048  1497_547     1497   2018-12-31     12\n",
      "76049  1497_558     1497   2018-12-24     12\n",
      "76050  1497_613     1497   2018-12-23     12\n",
      "\n",
      "[76051 rows x 4 columns]\n"
     ]
    }
   ],
   "source": [
    "# crear una columna nueva donde se extraigan los meses\n",
    "df_messages['month'] = df_messages['message_date'].dt.month\n",
    "print(df_messages)"
   ]
  },
  {
   "cell_type": "markdown",
   "metadata": {},
   "source": [
    "En este DF no se encontraron valores ausentes ni duplicados, el cambio que se realizo fue principalmente en los datos de la columna message_date los cuales fueron cambiados a datetime. Por último se extrajeron los meses(month) para un futuro análisis. "
   ]
  },
  {
   "cell_type": "markdown",
   "metadata": {
    "id": "bStkaxn40q1C"
   },
   "source": [
    "## Internet"
   ]
  },
  {
   "cell_type": "code",
   "execution_count": 23,
   "metadata": {
    "id": "e-Uz5qyn0q1C"
   },
   "outputs": [
    {
     "name": "stdout",
     "output_type": "stream",
     "text": [
      "<class 'pandas.core.frame.DataFrame'>\n",
      "RangeIndex: 104825 entries, 0 to 104824\n",
      "Data columns (total 4 columns):\n",
      " #   Column        Non-Null Count   Dtype  \n",
      "---  ------        --------------   -----  \n",
      " 0   id            104825 non-null  object \n",
      " 1   user_id       104825 non-null  int64  \n",
      " 2   session_date  104825 non-null  object \n",
      " 3   mb_used       104825 non-null  float64\n",
      "dtypes: float64(1), int64(1), object(2)\n",
      "memory usage: 3.2+ MB\n",
      "             user_id        mb_used\n",
      "count  104825.000000  104825.000000\n",
      "mean     1242.496361     366.713701\n",
      "std       142.053913     277.170542\n",
      "min      1000.000000       0.000000\n",
      "25%      1122.000000     136.080000\n",
      "50%      1236.000000     343.980000\n",
      "75%      1367.000000     554.610000\n",
      "max      1499.000000    1693.470000\n"
     ]
    }
   ],
   "source": [
    "# Imprime la información general/resumida sobre el DataFrame de internet\n",
    "df_internet.info()\n",
    "print(df_internet.describe())"
   ]
  },
  {
   "cell_type": "code",
   "execution_count": 24,
   "metadata": {
    "id": "9r3x_XLw0q1C"
   },
   "outputs": [
    {
     "name": "stdout",
     "output_type": "stream",
     "text": [
      "         id  user_id session_date  mb_used\n",
      "0   1000_13     1000   2018-12-29    89.86\n",
      "1  1000_204     1000   2018-12-31     0.00\n",
      "2  1000_379     1000   2018-12-28   660.40\n",
      "3  1000_413     1000   2018-12-26   270.99\n",
      "4  1000_442     1000   2018-12-27   880.22\n",
      "5    1001_0     1001   2018-08-24   284.68\n",
      "6    1001_3     1001   2018-12-09   656.04\n",
      "7    1001_4     1001   2018-11-04    16.97\n",
      "8   1001_10     1001   2018-11-27   135.18\n",
      "9   1001_15     1001   2018-12-13   761.92\n",
      "Valores duplicados:  0\n",
      "Valores ausentes:  id              0\n",
      "user_id         0\n",
      "session_date    0\n",
      "mb_used         0\n",
      "dtype: int64\n"
     ]
    }
   ],
   "source": [
    "# Imprime una muestra de datos para el tráfico de internet\n",
    "print(df_internet.head(10))\n",
    "# Verificar valores duplicados\n",
    "print('Valores duplicados: ', df_internet.duplicated().sum())\n",
    "# verificar valores ausentes\n",
    "print('Valores ausentes: ', df_internet.isna().sum())"
   ]
  },
  {
   "cell_type": "markdown",
   "metadata": {
    "id": "EzOG5ik30q1D"
   },
   "source": [
    "Al observar la informacion del DataSet no se perciben valores ausentes ni duplicados, aunque si hay valores en la columna mb_used los cuales estan en 0, se analizara si es pertinente borrarlos."
   ]
  },
  {
   "cell_type": "markdown",
   "metadata": {
    "id": "yA0tkPFg0q1D"
   },
   "source": [
    "### Corregir los datos"
   ]
  },
  {
   "cell_type": "code",
   "execution_count": 25,
   "metadata": {},
   "outputs": [
    {
     "name": "stdout",
     "output_type": "stream",
     "text": [
      "              id  user_id session_date  mb_used\n",
      "0        1000_13     1000   2018-12-29    89.86\n",
      "1       1000_204     1000   2018-12-31     0.00\n",
      "2       1000_379     1000   2018-12-28   660.40\n",
      "3       1000_413     1000   2018-12-26   270.99\n",
      "4       1000_442     1000   2018-12-27   880.22\n",
      "...          ...      ...          ...      ...\n",
      "104820  1499_215     1499   2018-10-20   218.06\n",
      "104821  1499_216     1499   2018-12-30   304.72\n",
      "104822  1499_217     1499   2018-09-22   292.75\n",
      "104823  1499_218     1499   2018-12-07     0.00\n",
      "104824  1499_219     1499   2018-12-24   758.31\n",
      "\n",
      "[104825 rows x 4 columns]\n"
     ]
    }
   ],
   "source": [
    "# Cambiar el tipo de datos de session_date a datetime\n",
    "df_internet['session_date'] = pd.to_datetime(df_internet['session_date'])\n",
    "print(df_internet)"
   ]
  },
  {
   "cell_type": "markdown",
   "metadata": {
    "id": "e8_mLF4a0q1E"
   },
   "source": [
    "### Enriquecer los datos"
   ]
  },
  {
   "cell_type": "code",
   "execution_count": 26,
   "metadata": {
    "id": "ESiYPIEK0q1E"
   },
   "outputs": [
    {
     "name": "stdout",
     "output_type": "stream",
     "text": [
      "         id  user_id session_date  mb_used  month\n",
      "0   1000_13     1000   2018-12-29    89.86     12\n",
      "1  1000_204     1000   2018-12-31     0.00     12\n",
      "2  1000_379     1000   2018-12-28   660.40     12\n",
      "3  1000_413     1000   2018-12-26   270.99     12\n",
      "4  1000_442     1000   2018-12-27   880.22     12\n"
     ]
    }
   ],
   "source": [
    "# Crear una columna nueva donde se muestre solo la informacion de los meses \n",
    "df_internet['month'] = df_internet['session_date'].dt.month\n",
    "print(df_internet.head())"
   ]
  },
  {
   "cell_type": "code",
   "execution_count": 27,
   "metadata": {},
   "outputs": [
    {
     "name": "stdout",
     "output_type": "stream",
     "text": [
      "El total de mb en cero es:  13747\n"
     ]
    }
   ],
   "source": [
    "# filtro para detectar valores en 0 de la columna mb_used\n",
    "mb_cero = df_internet[df_internet['mb_used'] == 0]\n",
    "total_mb_cero = len(mb_cero)\n",
    "print('El total de mb en cero es: ', total_mb_cero)"
   ]
  },
  {
   "cell_type": "code",
   "execution_count": 28,
   "metadata": {},
   "outputs": [
    {
     "name": "stdout",
     "output_type": "stream",
     "text": [
      "              id  user_id session_date  mb_used  month\n",
      "0        1000_13     1000   2018-12-29    89.86     12\n",
      "2       1000_379     1000   2018-12-28   660.40     12\n",
      "3       1000_413     1000   2018-12-26   270.99     12\n",
      "4       1000_442     1000   2018-12-27   880.22     12\n",
      "5         1001_0     1001   2018-08-24   284.68      8\n",
      "...          ...      ...          ...      ...    ...\n",
      "104819  1499_214     1499   2018-10-18   261.13     10\n",
      "104820  1499_215     1499   2018-10-20   218.06     10\n",
      "104821  1499_216     1499   2018-12-30   304.72     12\n",
      "104822  1499_217     1499   2018-09-22   292.75      9\n",
      "104824  1499_219     1499   2018-12-24   758.31     12\n",
      "\n",
      "[91078 rows x 5 columns]\n"
     ]
    }
   ],
   "source": [
    "## eliminar los valores en cero del DF\n",
    "df_internet = df_internet[df_internet['mb_used'] !=0]\n",
    "print(df_internet)"
   ]
  },
  {
   "cell_type": "markdown",
   "metadata": {},
   "source": [
    "Primeramente se cambio el tipo de datos de la columna session_date a datetime, posteriormente se agrego ujna columna que contiene unicamente los meses de este DF con la finalidad de hacer un análisis mas detallado. Además se encontraron valores de la columna mb_used en 0 por lo cual se tomo la decision de eliminarlos del DataSet, ya que no son relevantes para este analisis. "
   ]
  },
  {
   "cell_type": "markdown",
   "metadata": {
    "id": "3UA2cqIW0q1E"
   },
   "source": [
    "## Estudiar las condiciones de las tarifas"
   ]
  },
  {
   "cell_type": "code",
   "execution_count": 29,
   "metadata": {
    "id": "i409op8p0q1F"
   },
   "outputs": [
    {
     "name": "stdout",
     "output_type": "stream",
     "text": [
      "<class 'pandas.core.frame.DataFrame'>\n",
      "RangeIndex: 2 entries, 0 to 1\n",
      "Data columns (total 9 columns):\n",
      " #   Column                 Non-Null Count  Dtype  \n",
      "---  ------                 --------------  -----  \n",
      " 0   messages_included      2 non-null      int64  \n",
      " 1   mb_per_month_included  2 non-null      int64  \n",
      " 2   minutes_included       2 non-null      int64  \n",
      " 3   usd_monthly_fee        2 non-null      int64  \n",
      " 4   usd_per_gb             2 non-null      int64  \n",
      " 5   usd_per_message        2 non-null      float64\n",
      " 6   usd_per_minute         2 non-null      float64\n",
      " 7   plan                   2 non-null      object \n",
      " 8   gb_per_month_included  2 non-null      float64\n",
      "dtypes: float64(3), int64(5), object(1)\n",
      "memory usage: 272.0+ bytes\n"
     ]
    },
    {
     "data": {
      "text/html": [
       "<div>\n",
       "<style scoped>\n",
       "    .dataframe tbody tr th:only-of-type {\n",
       "        vertical-align: middle;\n",
       "    }\n",
       "\n",
       "    .dataframe tbody tr th {\n",
       "        vertical-align: top;\n",
       "    }\n",
       "\n",
       "    .dataframe thead th {\n",
       "        text-align: right;\n",
       "    }\n",
       "</style>\n",
       "<table border=\"1\" class=\"dataframe\">\n",
       "  <thead>\n",
       "    <tr style=\"text-align: right;\">\n",
       "      <th></th>\n",
       "      <th>messages_included</th>\n",
       "      <th>mb_per_month_included</th>\n",
       "      <th>minutes_included</th>\n",
       "      <th>usd_monthly_fee</th>\n",
       "      <th>usd_per_gb</th>\n",
       "      <th>usd_per_message</th>\n",
       "      <th>usd_per_minute</th>\n",
       "      <th>plan</th>\n",
       "      <th>gb_per_month_included</th>\n",
       "    </tr>\n",
       "  </thead>\n",
       "  <tbody>\n",
       "    <tr>\n",
       "      <th>0</th>\n",
       "      <td>50</td>\n",
       "      <td>15360</td>\n",
       "      <td>500</td>\n",
       "      <td>20</td>\n",
       "      <td>10</td>\n",
       "      <td>0.03</td>\n",
       "      <td>0.03</td>\n",
       "      <td>surf</td>\n",
       "      <td>15.0</td>\n",
       "    </tr>\n",
       "    <tr>\n",
       "      <th>1</th>\n",
       "      <td>1000</td>\n",
       "      <td>30720</td>\n",
       "      <td>3000</td>\n",
       "      <td>70</td>\n",
       "      <td>7</td>\n",
       "      <td>0.01</td>\n",
       "      <td>0.01</td>\n",
       "      <td>ultimate</td>\n",
       "      <td>30.0</td>\n",
       "    </tr>\n",
       "  </tbody>\n",
       "</table>\n",
       "</div>"
      ],
      "text/plain": [
       "   messages_included  mb_per_month_included  minutes_included  \\\n",
       "0                 50                  15360               500   \n",
       "1               1000                  30720              3000   \n",
       "\n",
       "   usd_monthly_fee  usd_per_gb  usd_per_message  usd_per_minute      plan  \\\n",
       "0               20          10             0.03            0.03      surf   \n",
       "1               70           7             0.01            0.01  ultimate   \n",
       "\n",
       "   gb_per_month_included  \n",
       "0                   15.0  \n",
       "1                   30.0  "
      ]
     },
     "execution_count": 29,
     "metadata": {},
     "output_type": "execute_result"
    }
   ],
   "source": [
    "# Imprime las condiciones de la tarifa y asegúrate de que te quedan claras\n",
    "df_plans.info()\n",
    "df_plans"
   ]
  },
  {
   "cell_type": "markdown",
   "metadata": {
    "id": "hMR1tP5d0q1F"
   },
   "source": [
    "## Agregar datos por usuario"
   ]
  },
  {
   "cell_type": "code",
   "execution_count": 30,
   "metadata": {
    "id": "A332cedB0q1G"
   },
   "outputs": [
    {
     "name": "stdout",
     "output_type": "stream",
     "text": [
      "      user_id  month  llamadas_hechas\n",
      "0        1000     12               16\n",
      "1        1001      8               22\n",
      "2        1001      9               38\n",
      "3        1001     10               47\n",
      "4        1001     11               49\n",
      "...       ...    ...              ...\n",
      "2251     1498     12               32\n",
      "2252     1499      9               35\n",
      "2253     1499     10               41\n",
      "2254     1499     11               39\n",
      "2255     1499     12               56\n",
      "\n",
      "[2256 rows x 3 columns]\n"
     ]
    }
   ],
   "source": [
    "# Calcula el número de llamadas hechas por cada usuario al mes. Guarda el resultado.\n",
    "llamadas_por_mes = df_calls.groupby(['user_id', 'month']).size().reset_index(name='llamadas_hechas')\n",
    "print(llamadas_por_mes)"
   ]
  },
  {
   "cell_type": "code",
   "execution_count": 31,
   "metadata": {
    "id": "aw2cmuql0q1G"
   },
   "outputs": [
    {
     "name": "stdout",
     "output_type": "stream",
     "text": [
      "      user_id  month  minutos_usados\n",
      "0        1000     12           124.0\n",
      "1        1001      8           182.0\n",
      "2        1001      9           315.0\n",
      "3        1001     10           393.0\n",
      "4        1001     11           426.0\n",
      "...       ...    ...             ...\n",
      "2251     1498     12           339.0\n",
      "2252     1499      9           346.0\n",
      "2253     1499     10           385.0\n",
      "2254     1499     11           308.0\n",
      "2255     1499     12           496.0\n",
      "\n",
      "[2256 rows x 3 columns]\n"
     ]
    }
   ],
   "source": [
    "# Calcula la cantidad de minutos usados por cada usuario al mes. Guarda el resultado.\n",
    "minutos_usados = df_calls.groupby(['user_id', 'month'])['duration_round'].sum().reset_index(name='minutos_usados')\n",
    "print(minutos_usados)\n"
   ]
  },
  {
   "cell_type": "code",
   "execution_count": 32,
   "metadata": {
    "id": "CcQvNHn60q1G"
   },
   "outputs": [
    {
     "name": "stdout",
     "output_type": "stream",
     "text": [
      "      user_id  month  mensajes_enviados\n",
      "0        1000     12                 11\n",
      "1        1001      8                 30\n",
      "2        1001      9                 44\n",
      "3        1001     10                 53\n",
      "4        1001     11                 36\n",
      "...       ...    ...                ...\n",
      "1801     1496      9                 21\n",
      "1802     1496     10                 18\n",
      "1803     1496     11                 13\n",
      "1804     1496     12                 11\n",
      "1805     1497     12                 50\n",
      "\n",
      "[1806 rows x 3 columns]\n"
     ]
    }
   ],
   "source": [
    "# Calcula el número de mensajes enviados por cada usuario al mes. Guarda el resultado.\n",
    "mensajes_al_mes = df_messages.groupby(['user_id', 'month']).size().reset_index(name='mensajes_enviados')\n",
    "print(mensajes_al_mes)"
   ]
  },
  {
   "cell_type": "code",
   "execution_count": 33,
   "metadata": {
    "id": "H1AqN2eG0q1H"
   },
   "outputs": [
    {
     "data": {
      "text/html": [
       "<div>\n",
       "<style scoped>\n",
       "    .dataframe tbody tr th:only-of-type {\n",
       "        vertical-align: middle;\n",
       "    }\n",
       "\n",
       "    .dataframe tbody tr th {\n",
       "        vertical-align: top;\n",
       "    }\n",
       "\n",
       "    .dataframe thead th {\n",
       "        text-align: right;\n",
       "    }\n",
       "</style>\n",
       "<table border=\"1\" class=\"dataframe\">\n",
       "  <thead>\n",
       "    <tr style=\"text-align: right;\">\n",
       "      <th></th>\n",
       "      <th>user_id</th>\n",
       "      <th>month</th>\n",
       "      <th>mb_usados</th>\n",
       "      <th>gb_usados</th>\n",
       "      <th>gb_usados_round</th>\n",
       "    </tr>\n",
       "  </thead>\n",
       "  <tbody>\n",
       "    <tr>\n",
       "      <th>0</th>\n",
       "      <td>1000</td>\n",
       "      <td>12</td>\n",
       "      <td>1901.47</td>\n",
       "      <td>1.856904</td>\n",
       "      <td>2.0</td>\n",
       "    </tr>\n",
       "    <tr>\n",
       "      <th>1</th>\n",
       "      <td>1001</td>\n",
       "      <td>8</td>\n",
       "      <td>6919.15</td>\n",
       "      <td>6.756982</td>\n",
       "      <td>7.0</td>\n",
       "    </tr>\n",
       "    <tr>\n",
       "      <th>2</th>\n",
       "      <td>1001</td>\n",
       "      <td>9</td>\n",
       "      <td>13314.82</td>\n",
       "      <td>13.002754</td>\n",
       "      <td>14.0</td>\n",
       "    </tr>\n",
       "    <tr>\n",
       "      <th>3</th>\n",
       "      <td>1001</td>\n",
       "      <td>10</td>\n",
       "      <td>22330.49</td>\n",
       "      <td>21.807119</td>\n",
       "      <td>22.0</td>\n",
       "    </tr>\n",
       "    <tr>\n",
       "      <th>4</th>\n",
       "      <td>1001</td>\n",
       "      <td>11</td>\n",
       "      <td>18504.30</td>\n",
       "      <td>18.070605</td>\n",
       "      <td>19.0</td>\n",
       "    </tr>\n",
       "    <tr>\n",
       "      <th>...</th>\n",
       "      <td>...</td>\n",
       "      <td>...</td>\n",
       "      <td>...</td>\n",
       "      <td>...</td>\n",
       "      <td>...</td>\n",
       "    </tr>\n",
       "    <tr>\n",
       "      <th>2272</th>\n",
       "      <td>1498</td>\n",
       "      <td>12</td>\n",
       "      <td>23137.69</td>\n",
       "      <td>22.595400</td>\n",
       "      <td>23.0</td>\n",
       "    </tr>\n",
       "    <tr>\n",
       "      <th>2273</th>\n",
       "      <td>1499</td>\n",
       "      <td>9</td>\n",
       "      <td>12984.76</td>\n",
       "      <td>12.680430</td>\n",
       "      <td>13.0</td>\n",
       "    </tr>\n",
       "    <tr>\n",
       "      <th>2274</th>\n",
       "      <td>1499</td>\n",
       "      <td>10</td>\n",
       "      <td>19492.43</td>\n",
       "      <td>19.035576</td>\n",
       "      <td>20.0</td>\n",
       "    </tr>\n",
       "    <tr>\n",
       "      <th>2275</th>\n",
       "      <td>1499</td>\n",
       "      <td>11</td>\n",
       "      <td>16813.83</td>\n",
       "      <td>16.419756</td>\n",
       "      <td>17.0</td>\n",
       "    </tr>\n",
       "    <tr>\n",
       "      <th>2276</th>\n",
       "      <td>1499</td>\n",
       "      <td>12</td>\n",
       "      <td>22059.21</td>\n",
       "      <td>21.542197</td>\n",
       "      <td>22.0</td>\n",
       "    </tr>\n",
       "  </tbody>\n",
       "</table>\n",
       "<p>2277 rows × 5 columns</p>\n",
       "</div>"
      ],
      "text/plain": [
       "      user_id  month  mb_usados  gb_usados  gb_usados_round\n",
       "0        1000     12    1901.47   1.856904              2.0\n",
       "1        1001      8    6919.15   6.756982              7.0\n",
       "2        1001      9   13314.82  13.002754             14.0\n",
       "3        1001     10   22330.49  21.807119             22.0\n",
       "4        1001     11   18504.30  18.070605             19.0\n",
       "...       ...    ...        ...        ...              ...\n",
       "2272     1498     12   23137.69  22.595400             23.0\n",
       "2273     1499      9   12984.76  12.680430             13.0\n",
       "2274     1499     10   19492.43  19.035576             20.0\n",
       "2275     1499     11   16813.83  16.419756             17.0\n",
       "2276     1499     12   22059.21  21.542197             22.0\n",
       "\n",
       "[2277 rows x 5 columns]"
      ]
     },
     "execution_count": 33,
     "metadata": {},
     "output_type": "execute_result"
    }
   ],
   "source": [
    "# Calcula el volumen del tráfico de Internet usado por cada usuario al mes. Guarda el resultado.\n",
    "#Agrupar por user_id y month y calcular el volumen de gb usados\n",
    "trafico_internet = df_internet.groupby(['user_id', 'month'])['mb_used'].sum().reset_index(name='mb_usados')\n",
    "\n",
    "# convertir el trafico de MB a GB \n",
    "trafico_internet['gb_usados'] = trafico_internet['mb_usados'] / 1024\n",
    "\n",
    "# redondear hacia arriba los GB durante el mes \n",
    "trafico_internet['gb_usados_round'] = np.ceil(trafico_internet['gb_usados'])\n",
    "trafico_internet"
   ]
  },
  {
   "cell_type": "code",
   "execution_count": 34,
   "metadata": {
    "id": "FW99ykyf0q1H"
   },
   "outputs": [
    {
     "name": "stdout",
     "output_type": "stream",
     "text": [
      "      user_id  month  llamadas_hechas  minutos_usados  mensajes_enviados  \\\n",
      "0        1000     12             16.0           124.0               11.0   \n",
      "1        1001      8             22.0           182.0               30.0   \n",
      "2        1001      9             38.0           315.0               44.0   \n",
      "3        1001     10             47.0           393.0               53.0   \n",
      "4        1001     11             49.0           426.0               36.0   \n",
      "...       ...    ...              ...             ...                ...   \n",
      "2288     1407     11              NaN             NaN                1.0   \n",
      "2289     1482     10              NaN             NaN                2.0   \n",
      "2290     1094     10              NaN             NaN                NaN   \n",
      "2291     1108     12              NaN             NaN                NaN   \n",
      "2292     1311      6              NaN             NaN                NaN   \n",
      "\n",
      "      mb_usados  gb_usados  gb_usados_round  \n",
      "0       1901.47   1.856904              2.0  \n",
      "1       6919.15   6.756982              7.0  \n",
      "2      13314.82  13.002754             14.0  \n",
      "3      22330.49  21.807119             22.0  \n",
      "4      18504.30  18.070605             19.0  \n",
      "...         ...        ...              ...  \n",
      "2288     290.06   0.283262              1.0  \n",
      "2289        NaN        NaN              NaN  \n",
      "2290    1728.71   1.688193              2.0  \n",
      "2291     233.17   0.227705              1.0  \n",
      "2292    1498.83   1.463701              2.0  \n",
      "\n",
      "[2293 rows x 8 columns]\n"
     ]
    }
   ],
   "source": [
    "# Fusionar los datos de llamadas, minutos, mensajes e Internet con base en user_id y month\n",
    "\n",
    "df_combinados = pd.merge(llamadas_por_mes, minutos_usados, on=['user_id', 'month'], how='outer')\n",
    "df_combinados = pd.merge(df_combinados, mensajes_al_mes, on=['user_id', 'month'], how='outer')\n",
    "df_combinados = pd.merge(df_combinados, trafico_internet, on=['user_id', 'month'], how='outer')\n",
    "\n",
    "print(df_combinados)"
   ]
  },
  {
   "cell_type": "code",
   "execution_count": 35,
   "metadata": {},
   "outputs": [
    {
     "name": "stdout",
     "output_type": "stream",
     "text": [
      "      user_id  month  llamadas_hechas  minutos_usados  mensajes_enviados  \\\n",
      "0        1000     12             16.0           124.0               11.0   \n",
      "1        1001      8             22.0           182.0               30.0   \n",
      "2        1001      9             38.0           315.0               44.0   \n",
      "3        1001     10             47.0           393.0               53.0   \n",
      "4        1001     11             49.0           426.0               36.0   \n",
      "...       ...    ...              ...             ...                ...   \n",
      "2288     1407     11              0.0             0.0                1.0   \n",
      "2289     1482     10              0.0             0.0                2.0   \n",
      "2290     1094     10              0.0             0.0                0.0   \n",
      "2291     1108     12              0.0             0.0                0.0   \n",
      "2292     1311      6              0.0             0.0                0.0   \n",
      "\n",
      "      mb_usados  gb_usados  gb_usados_round  \n",
      "0       1901.47   1.856904              2.0  \n",
      "1       6919.15   6.756982              7.0  \n",
      "2      13314.82  13.002754             14.0  \n",
      "3      22330.49  21.807119             22.0  \n",
      "4      18504.30  18.070605             19.0  \n",
      "...         ...        ...              ...  \n",
      "2288     290.06   0.283262              1.0  \n",
      "2289       0.00   0.000000              0.0  \n",
      "2290    1728.71   1.688193              2.0  \n",
      "2291     233.17   0.227705              1.0  \n",
      "2292    1498.83   1.463701              2.0  \n",
      "\n",
      "[2293 rows x 8 columns]\n"
     ]
    }
   ],
   "source": [
    "# rellenar valores NaN \n",
    "df_combinados = df_combinados.fillna(0)\n",
    "print(df_combinados)"
   ]
  },
  {
   "cell_type": "code",
   "execution_count": 36,
   "metadata": {
    "id": "0dNOXHag0q1H"
   },
   "outputs": [
    {
     "name": "stdout",
     "output_type": "stream",
     "text": [
      "      user_id  month  llamadas_hechas  minutos_usados  mensajes_enviados  \\\n",
      "0        1000     12             16.0           124.0               11.0   \n",
      "1        1001      8             22.0           182.0               30.0   \n",
      "2        1001      9             38.0           315.0               44.0   \n",
      "3        1001     10             47.0           393.0               53.0   \n",
      "4        1001     11             49.0           426.0               36.0   \n",
      "...       ...    ...              ...             ...                ...   \n",
      "2288     1407     11              0.0             0.0                1.0   \n",
      "2289     1482     10              0.0             0.0                2.0   \n",
      "2290     1094     10              0.0             0.0                0.0   \n",
      "2291     1108     12              0.0             0.0                0.0   \n",
      "2292     1311      6              0.0             0.0                0.0   \n",
      "\n",
      "      mb_usados  gb_usados  gb_usados_round first_name  last_name  ...  \\\n",
      "0       1901.47   1.856904              2.0   Anamaria      Bauer  ...   \n",
      "1       6919.15   6.756982              7.0     Mickey  Wilkerson  ...   \n",
      "2      13314.82  13.002754             14.0     Mickey  Wilkerson  ...   \n",
      "3      22330.49  21.807119             22.0     Mickey  Wilkerson  ...   \n",
      "4      18504.30  18.070605             19.0     Mickey  Wilkerson  ...   \n",
      "...         ...        ...              ...        ...        ...  ...   \n",
      "2288     290.06   0.283262              1.0    Tristan  Daugherty  ...   \n",
      "2289       0.00   0.000000              0.0     Armand      Glenn  ...   \n",
      "2290    1728.71   1.688193              2.0     Walter   Petersen  ...   \n",
      "2291     233.17   0.227705              1.0   Porfirio       Kane  ...   \n",
      "2292    1498.83   1.463701              2.0    Cherlyn   Saunders  ...   \n",
      "\n",
      "      churn_date month_2 messages_included mb_per_month_included  \\\n",
      "0       ultimate      12              1000                 30720   \n",
      "1           surf       8                50                 15360   \n",
      "2           surf       8                50                 15360   \n",
      "3           surf       8                50                 15360   \n",
      "4           surf       8                50                 15360   \n",
      "...          ...     ...               ...                   ...   \n",
      "2288    ultimate      11              1000                 30720   \n",
      "2289    ultimate       1              1000                 30720   \n",
      "2290  2018-12-12      10                50                 15360   \n",
      "2291    ultimate      12              1000                 30720   \n",
      "2292    ultimate       6              1000                 30720   \n",
      "\n",
      "     minutes_included  usd_monthly_fee  usd_per_gb  usd_per_message  \\\n",
      "0                3000               70           7             0.01   \n",
      "1                 500               20          10             0.03   \n",
      "2                 500               20          10             0.03   \n",
      "3                 500               20          10             0.03   \n",
      "4                 500               20          10             0.03   \n",
      "...               ...              ...         ...              ...   \n",
      "2288             3000               70           7             0.01   \n",
      "2289             3000               70           7             0.01   \n",
      "2290              500               20          10             0.03   \n",
      "2291             3000               70           7             0.01   \n",
      "2292             3000               70           7             0.01   \n",
      "\n",
      "      usd_per_minute  gb_per_month_included  \n",
      "0               0.01                   30.0  \n",
      "1               0.03                   15.0  \n",
      "2               0.03                   15.0  \n",
      "3               0.03                   15.0  \n",
      "4               0.03                   15.0  \n",
      "...              ...                    ...  \n",
      "2288            0.01                   30.0  \n",
      "2289            0.01                   30.0  \n",
      "2290            0.03                   15.0  \n",
      "2291            0.01                   30.0  \n",
      "2292            0.01                   30.0  \n",
      "\n",
      "[2293 rows x 24 columns]\n"
     ]
    }
   ],
   "source": [
    "# Añade la información de la tarifa\n",
    "df_tarifas = pd.merge(df_users, df_plans, on='plan')\n",
    "\n",
    "# combinar con el anterior DF \n",
    "df_final = pd.merge(df_combinados, df_tarifas, on='user_id', how='left', suffixes=['', '_2'])\n",
    "print(df_final)"
   ]
  },
  {
   "cell_type": "code",
   "execution_count": 37,
   "metadata": {
    "id": "5FGCf_c60q1I"
   },
   "outputs": [],
   "source": [
    "# Calcula el ingreso mensual para cada usuario\n",
    "\n",
    "# Costos por llamadas\n",
    "# crear una nueva columna  donde se almacenen los resultados\n",
    "df_final['minutos_excedentes'] = df_final['minutos_usados'] - df_final['minutes_included']\n",
    "# aplicar funcion lambda para cambiar los valores que excedan el maximo y sean negativos en 0\n",
    "df_final['minutos_excedentes'] = df_final['minutos_excedentes'].apply(lambda minutes: max(0, minutes))\n",
    "\n",
    "# costos por mensajes\n",
    "# crear una nueva columna  donde se almacenen los resultados\n",
    "df_final['mensajes_excedentes'] = df_final['mensajes_enviados'] - df_final['messages_included']\n",
    "df_final['mensajes_excedentes'] = df_final['mensajes_excedentes'].apply(lambda msj: max(0, msj))\n",
    "\n",
    "# costos por datos \n",
    "# crear una nueva columna  donde se almacenen los resultados\n",
    "df_final['datos_excedentes'] = df_final['gb_usados_round'] - df_final['gb_per_month_included']\n",
    "df_final['datos_excedentes'] = df_final['datos_excedentes'].apply(lambda dato: max(0, dato))"
   ]
  },
  {
   "cell_type": "code",
   "execution_count": 38,
   "metadata": {},
   "outputs": [
    {
     "name": "stdout",
     "output_type": "stream",
     "text": [
      "      user_id  month      plan  ingreso_total_por_cliente\n",
      "0        1000     12  ultimate                      70.00\n",
      "1        1001      8      surf                      20.00\n",
      "2        1001      9      surf                      20.00\n",
      "3        1001     10      surf                      90.09\n",
      "4        1001     11      surf                      60.00\n",
      "...       ...    ...       ...                        ...\n",
      "2288     1407     11  ultimate                      70.00\n",
      "2289     1482     10  ultimate                      70.00\n",
      "2290     1094     10      surf                      20.00\n",
      "2291     1108     12  ultimate                      70.00\n",
      "2292     1311      6  ultimate                      70.00\n",
      "\n",
      "[2293 rows x 4 columns]\n"
     ]
    }
   ],
   "source": [
    "# multiplicar por la tarifa de llamadas\n",
    "costos_minutos = df_final['minutos_excedentes'] * df_final['usd_per_minute']\n",
    "# multiplicar por la tarifa de mensajes\n",
    "costos_msj = df_final['mensajes_excedentes'] * df_final['usd_per_message']\n",
    "# multiplicar por la tarifa de datos\n",
    "costos_datos = df_final['datos_excedentes'] * df_final['usd_per_gb']\n",
    "\n",
    "# tarifa mensual en función del plan de llamadas\n",
    "ingreso_final = costos_minutos + costos_msj + costos_datos + df_final['usd_monthly_fee']\n",
    "\n",
    "# agregar una columna con el ingreso final\n",
    "df_final['ingreso_total_por_cliente'] = ingreso_final.round(3)\n",
    "\n",
    "# imprimir user_id y la columna donde \n",
    "print(df_final[['user_id','month','plan', 'ingreso_total_por_cliente']])"
   ]
  },
  {
   "cell_type": "markdown",
   "metadata": {},
   "source": [
    "Para calcular el ingreso mensual fue necesario segmentarlo por minutos, mensajes y uso de datos. Para minutos se creo una nueva columna llamada 'minutos_excedentes' donde se restaron los valores de la columna minutos_usados - los valores de la columna 'minutes_included' esto nos dio como resultados numeros negativos los cuales se modificaron por 0, esto se debe a que algunos usuarios no rebasaron el limite de minutos incluidos. Para los mensajes y datos se realizaron los mismos pasos, creacion de columnas donde se almacena el resultado de la resta y los valores negativos fueron reemplazados por 0. \n",
    "\n",
    "Despues de obtener las diferencias del los minutos, mensajes y datos excedentes se multiplico por el costo extra acorde a cada plan, para los minutos extra en el plan surf son 0.03 usd y en ultimate 0.01 usd, para los mensajes es la misma tarifa respectivamente y para el exceso de GB para el plan surf es de 10 usd por cada GB usado, mientras que para el plan surf es de 7 usd por cada GB extra. \n",
    "\n",
    "Para finalizar se creo una nueva columna llamada ingreso_total_por cliente donde se hizo la suma de los costos excedentes de llamadas, mensajes y datos mas el costo que tiene cada plan."
   ]
  },
  {
   "cell_type": "markdown",
   "metadata": {
    "id": "-jtyHzJb0q1I"
   },
   "source": [
    "## Estudia el comportamiento de usuario"
   ]
  },
  {
   "cell_type": "markdown",
   "metadata": {
    "id": "vtW4CJEe0q1J"
   },
   "source": [
    "### Llamadas"
   ]
  },
  {
   "cell_type": "code",
   "execution_count": 39,
   "metadata": {
    "id": "Jf5v5--k0q1J"
   },
   "outputs": [
    {
     "data": {
      "image/png": "[encoded data removed]",
      "text/plain": [
       "<Figure size 1000x600 with 1 Axes>"
      ]
     },
     "metadata": {},
     "output_type": "display_data"
    }
   ],
   "source": [
    "# Compara la duración promedio de llamadas por cada plan y por cada mes. Traza un gráfico de barras para visualizarla.\n",
    "# filtro para extraer el promedio del plan surf\n",
    "calls_surf = df_final[df_final['plan'] == 'surf']\n",
    "calls_surf_mean = calls_surf.groupby('month')['llamadas_hechas'].mean().round(2)\n",
    "\n",
    "# filtro para extraer el promedio del plan ultimate\n",
    "calls_ultimate = df_final[df_final['plan'] =='ultimate']\n",
    "calls_ultimate_mean = calls_ultimate.groupby('month')['llamadas_hechas'].mean().round(2)\n",
    "\n",
    "# concatenar \n",
    "calls_mean = pd.concat([calls_surf_mean, calls_ultimate_mean], axis=1)\n",
    "# nombrar columnas acorde a los datos \n",
    "calls_mean.columns = ['Plan Surf', 'Plan Ultimate']\n",
    "\n",
    "# Crear el gráfico\n",
    "ax = calls_mean.plot(title='Promedio de llamadas por plan y al mes',\n",
    "                kind='bar', \n",
    "                xlabel= 'Promedio de llamadas por plan y meses', \n",
    "                ylabel='Promedio llamadas realizadas', \n",
    "                color=['slateblue', 'maroon'],\n",
    "                rot= 20, \n",
    "                figsize=[10,6])\n",
    "\n",
    "# cambiar el numero de los meses por nombre\n",
    "ax.set_xticks(range(12))\n",
    "ax.set_xticklabels(['Enero', 'Febrero', 'Marzo', 'Abril', 'Mayo', 'Junio', 'Julio', 'Agosto', 'Septiembre', 'Octubre', 'Noviembre', 'Diciembre'])\n",
    "# mostrar el grafico\n",
    "plt.show()\n"
   ]
  },
  {
   "cell_type": "code",
   "execution_count": 40,
   "metadata": {
    "id": "QoLqW1S_0q1J"
   },
   "outputs": [
    {
     "data": {
      "image/png": "[encoded data removed]",
      "text/plain": [
       "<Figure size 640x480 with 1 Axes>"
      ]
     },
     "metadata": {},
     "output_type": "display_data"
    }
   ],
   "source": [
    "# Compara el número de minutos mensuales que necesitan los usuarios de cada plan. Traza un histograma.\n",
    "\n",
    "# filtro de los clientes del plan surf \n",
    "minutes_plan_surf =  df_final[df_final['plan'] == 'surf']\n",
    "# Agrupar por mes y minutos usados\n",
    "minutes_surf = minutes_plan_surf.groupby('month')['minutos_usados'].sum()\n",
    "\n",
    "# filtro de los clientes del plan ultimate \n",
    "minutes_plan_ultimate =  df_final[df_final['plan'] == 'ultimate']\n",
    "# Agrupar por mes y minutos usados\n",
    "minutes_ultimate = minutes_plan_ultimate.groupby('month')['minutos_usados'].sum()\n",
    "\n",
    "# Crear un histograma para el plan surf\n",
    "plt.hist(minutes_surf, bins=10, label='Plan Surf', alpha=0.5, color='aqua')\n",
    "\n",
    "# Crear histograma para el plan ultimate\n",
    "plt.hist(minutes_ultimate, bins= 10, label='Plan Ultimate', alpha=0.8, color='peachpuff')\n",
    "\n",
    "plt.title('Distribución de minutos usados por plan y por mes')\n",
    "plt.xlabel('Minutos usados')\n",
    "plt.ylabel('Frecuencia')\n",
    "plt.legend(loc='upper right')\n",
    "plt.show()\n"
   ]
  },
  {
   "cell_type": "code",
   "execution_count": 41,
   "metadata": {
    "id": "oSndbAnt0q1K"
   },
   "outputs": [
    {
     "name": "stdout",
     "output_type": "stream",
     "text": [
      "Plan Surf\n",
      "La media de las llamadas es:  428.75\n",
      "La mediana de las llamadas es:  425.0\n",
      "La moda de las llamadas es:  0    0.0\n",
      "dtype: float64\n",
      "La varianza de las llamadas es:  54968.279\n",
      "La desviacion estandar es:  234.453\n"
     ]
    }
   ],
   "source": [
    "# Calcula la media y la varianza de la duración mensual de llamadas del plan Surf\n",
    "media_calls_surf = calls_surf['minutos_usados'].mean().round(3)\n",
    "mediana_calls_surf = calls_surf['minutos_usados'].median()\n",
    "moda_calls_surf = calls_surf['minutos_usados'].mode()\n",
    "varianza_calls_surf = calls_surf['minutos_usados'].var().round(3)\n",
    "std_calls_surf = calls_surf['minutos_usados'].std().round(3)\n",
    "print('Plan Surf')\n",
    "print('La media de las llamadas es: ', media_calls_surf)\n",
    "print('La mediana de las llamadas es: ',mediana_calls_surf)\n",
    "print('La moda de las llamadas es: ', moda_calls_surf)\n",
    "print('La varianza de las llamadas es: ', varianza_calls_surf)\n",
    "print('La desviacion estandar es: ', std_calls_surf)"
   ]
  },
  {
   "cell_type": "code",
   "execution_count": 42,
   "metadata": {},
   "outputs": [
    {
     "name": "stdout",
     "output_type": "stream",
     "text": [
      "Plan Ultimate\n",
      "La media de las llamadas es:  430.45\n",
      "La mediana de las llamadas es:  424.0\n",
      "La moda de las llamadas es:  0    0.0\n",
      "dtype: float64\n",
      "La varianza de las llamadas es:  57844.465\n",
      "La desviacion estandar es:  240.509\n"
     ]
    }
   ],
   "source": [
    "# Calcula la media y la varianza de la duración mensual de llamadas del plan Ultimate\n",
    "media_calls_ultimate = calls_ultimate['minutos_usados'].mean().round(3)\n",
    "mediana_calls_ultimate = calls_ultimate['minutos_usados'].median()\n",
    "moda_calls_ultimate = calls_ultimate['minutos_usados'].mode()\n",
    "varianza_calls_ultimate = calls_ultimate['minutos_usados'].var().round(3)\n",
    "std_calls_ultimate = calls_ultimate['minutos_usados'].std().round(3)\n",
    "print('Plan Ultimate')\n",
    "print('La media de las llamadas es: ', media_calls_ultimate)\n",
    "print('La mediana de las llamadas es: ',mediana_calls_ultimate)\n",
    "print('La moda de las llamadas es: ',moda_calls_ultimate)\n",
    "print('La varianza de las llamadas es: ', varianza_calls_ultimate)\n",
    "print('La desviacion estandar es: ', std_calls_ultimate)"
   ]
  },
  {
   "cell_type": "code",
   "execution_count": 43,
   "metadata": {
    "id": "nZzoRUKc0q1K",
    "scrolled": true
   },
   "outputs": [
    {
     "data": {
      "image/png": "[encoded data removed]",
      "text/plain": [
       "<Figure size 640x480 with 1 Axes>"
      ]
     },
     "metadata": {},
     "output_type": "display_data"
    }
   ],
   "source": [
    "# Traza un diagrama de caja para visualizar la distribución de la duración mensual de llamadas\n",
    "\n",
    "# agrupar por usuario, plan y mes, contar el total de minutos usados \n",
    "distribucion_calls = df_final.groupby(['user_id','month', 'plan'])['minutos_usados'].sum().reset_index()\n",
    "\n",
    "# Crear diagrama caja y bigote\n",
    "sns.boxplot(x='month', y='minutos_usados', hue='plan', data=distribucion_calls)\n",
    "plt.title('Distribución de llamadas mensuales por plan')\n",
    "plt.xlabel('Mes')\n",
    "plt.ylabel('Duración de llamadas(en minutos)')\n",
    "plt.legend(title='Plan')\n",
    "plt.show()"
   ]
  },
  {
   "cell_type": "markdown",
   "metadata": {
    "id": "r627zBO50q1K"
   },
   "source": [
    "De acuerdo a el análisis de los datos de llamadas el comportamiento de los usuarios con respecto a la duración de las llamadas varia acorde al plan que ellos tengan contratado, aunque la diferencia entre sus medias, varianzas y desviaciones estandard no sean tan significativas,por otra parte se observa que las medianas de ambos planes se encuentran muy cercanas a la media, y algo curioso es que la moda en ambos casos es 0, es decir, que ningun numero se repite. También se logra visualizar en el diagrama de caja y bigote que el plan \"Surf\" cuenta con más valores atípicos en comparación del plan \"Ultimate\" estos valores también son visibles desde el histograma hecho algunos pasos atrás. Mas adelante se comprobara si el plan ultimate es mas rentable que el plan surf"
   ]
  },
  {
   "cell_type": "markdown",
   "metadata": {
    "id": "8idKy8Wh0q1L"
   },
   "source": [
    "### Mensajes"
   ]
  },
  {
   "cell_type": "code",
   "execution_count": 44,
   "metadata": {
    "id": "NXLxiTit0q1L"
   },
   "outputs": [
    {
     "data": {
      "image/png": "[encoded data removed]",
      "text/plain": [
       "<Figure size 1000x600 with 1 Axes>"
      ]
     },
     "metadata": {},
     "output_type": "display_data"
    }
   ],
   "source": [
    "# Comprara el número de mensajes que tienden a enviar cada mes los usuarios de cada plan\n",
    "# filtro para el plan surf\n",
    "msj_surf = df_final[df_final['plan'] == 'surf']\n",
    "# calcular el promedio de mensajes por plan, agrupando por month y mensajes_enviados\n",
    "msj_surf_mean = msj_surf.groupby('month')['mensajes_enviados'].mean().round(2)\n",
    "\n",
    "# filtro para el plan ultimate \n",
    "msj_ultimate = df_final[df_final['plan'] == 'ultimate']\n",
    "# calcular el promedio de mensajes por plan, agrupando por month y mensajes_enviados\n",
    "msj_ultimate_mean = msj_ultimate.groupby('month')['mensajes_enviados'].mean().round(2)\n",
    "\n",
    "# concatenar \n",
    "msj_concat = pd.concat([msj_surf_mean, msj_ultimate_mean], axis=1)\n",
    "# Renombrar columnas\n",
    "msj_concat.columns = ['Plan Surf', 'Plan Ultimate']\n",
    "\n",
    "# Grafica de barrar comparando los mensajes promedios de cada mes de acuerdo al plan \n",
    "\n",
    "ax = msj_concat.plot(title='Número de mensajes promedio enviados al mes por tipo de plan', \n",
    "                kind='bar',\n",
    "                figsize= [10,6],\n",
    "                xlabel='Promedio de mensajes por plan y mes',\n",
    "                ylabel='Promedio de mensajes enviados', \n",
    "                color=['yellowgreen', 'indigo'], \n",
    "                rot=20)\n",
    "\n",
    "# Modificar el nombre de los datos del eje X\n",
    "ax.set_xticks(range(12))\n",
    "ax.set_xticklabels(['Enero', 'Febrero', 'Marzo', 'Abril', 'Mayo', 'Junio', 'Julio', 'Agosto', 'Septiembre', 'Octubre', 'Noviembre', 'Diciembre'])\n",
    "\n",
    "# Mostrar el grafico\n",
    "plt.show()"
   ]
  },
  {
   "cell_type": "code",
   "execution_count": 45,
   "metadata": {},
   "outputs": [
    {
     "data": {
      "image/png": "[encoded data removed]",
      "text/plain": [
       "<Figure size 640x480 with 1 Axes>"
      ]
     },
     "metadata": {},
     "output_type": "display_data"
    }
   ],
   "source": [
    "# Compara el número de mensajes mensuales que necesitan los usuarios de cada plan. Traza un histograma.\n",
    "# agrupar por mes y por mensajes enviados, despues calcular la suma de los mensajes del plan surf\n",
    "msj_hist_surf = msj_surf.groupby('month')['mensajes_enviados'].sum()\n",
    "\n",
    "# agrupar por mes y por mensajes enviados, despues calcular la suma de los mensajes del plan ultimate\n",
    "msj_hist_ultimate = msj_ultimate.groupby('month')['mensajes_enviados'].sum()\n",
    "\n",
    "# Crear un histograma para el plan surf\n",
    "plt.hist(msj_hist_surf, bins=10, label='Plan Surf', alpha=0.5, color='thistle')\n",
    "\n",
    "# Crear histograma para el plan ultimate\n",
    "plt.hist(msj_hist_ultimate, bins= 10, label='Plan Ultimate', alpha=0.8, color='gold')\n",
    "\n",
    "plt.title('Distribución de mensajes enviados por plan y por mes')\n",
    "plt.xlabel('Mensajes enviados')\n",
    "plt.ylabel('Frecuencia')\n",
    "plt.legend(loc='upper right')\n",
    "plt.show()\n"
   ]
  },
  {
   "cell_type": "code",
   "execution_count": 46,
   "metadata": {
    "id": "GRI_R7xF0q1L"
   },
   "outputs": [
    {
     "name": "stdout",
     "output_type": "stream",
     "text": [
      "Plan Surf\n",
      "La media de los mensajes es:  31.16\n",
      "La mediana de los mensajes es:  24.0\n",
      "La moda de los mensajes es:  0    0.0\n",
      "dtype: float64\n",
      "La varianza de los mensajes es:  1126.725\n",
      "La desviacion estandard es:  33.567\n"
     ]
    }
   ],
   "source": [
    "# Calcula la media y la varianza de los mensajes enviados mensualmente por cada plan \n",
    "\n",
    "# Filtro del plan Surf\n",
    "media_surf_msj = msj_surf['mensajes_enviados'].mean().round(3)\n",
    "mediana_surf_msj = msj_surf['mensajes_enviados'].median()\n",
    "moda_surf_msj = msj_surf['mensajes_enviados'].mode()\n",
    "var_surf_msj = msj_surf['mensajes_enviados'].var().round(3)\n",
    "std_surf_msj = msj_surf['mensajes_enviados'].std().round(3)\n",
    "print('Plan Surf')\n",
    "print('La media de los mensajes es: ', media_surf_msj)\n",
    "print('La mediana de los mensajes es: ', mediana_surf_msj)\n",
    "print('La moda de los mensajes es: ', moda_surf_msj)\n",
    "print('La varianza de los mensajes es: ', var_surf_msj)\n",
    "print('La desviacion estandard es: ', std_surf_msj)"
   ]
  },
  {
   "cell_type": "code",
   "execution_count": 47,
   "metadata": {},
   "outputs": [
    {
     "name": "stdout",
     "output_type": "stream",
     "text": [
      "Plan Ultimate\n",
      "La media de los mensajes es:  37.551\n",
      "La mediana de los mensajes es:  30.0\n",
      "La moda de los mensajes es:  0    0.0\n",
      "dtype: float64\n",
      "La varianza de los mensajes es:  1208.757\n",
      "La desviacion estandard es:  34.767\n"
     ]
    }
   ],
   "source": [
    "# Filtro plan Ultimate\n",
    "media_ultimate_msj = msj_ultimate['mensajes_enviados'].mean().round(3)\n",
    "mediana_ultimate_msj = msj_ultimate['mensajes_enviados'].median()\n",
    "moda_ultimate_msj = msj_ultimate['mensajes_enviados'].mode()\n",
    "var_ultimate_msj = msj_ultimate['mensajes_enviados'].var().round(3)\n",
    "std_ultimate_msj = msj_ultimate['mensajes_enviados'].std().round(3)\n",
    "print('Plan Ultimate')\n",
    "print('La media de los mensajes es: ', media_ultimate_msj)\n",
    "print('La mediana de los mensajes es: ', mediana_ultimate_msj)\n",
    "print('La moda de los mensajes es: ', moda_ultimate_msj)\n",
    "print('La varianza de los mensajes es: ', var_ultimate_msj)\n",
    "print('La desviacion estandard es: ', std_ultimate_msj)"
   ]
  },
  {
   "cell_type": "code",
   "execution_count": 48,
   "metadata": {
    "id": "dtFwCGAp0q1M"
   },
   "outputs": [
    {
     "data": {
      "image/png": "[encoded data removed]",
      "text/plain": [
       "<Figure size 640x480 with 1 Axes>"
      ]
     },
     "metadata": {},
     "output_type": "display_data"
    },
    {
     "data": {
      "text/plain": [
       "<Figure size 1000x600 with 0 Axes>"
      ]
     },
     "metadata": {},
     "output_type": "display_data"
    }
   ],
   "source": [
    "# Trazar un diagrama de caja para visualizar la distribución mensual de mensajes enviados\n",
    "\n",
    "# agrupar por usuario, plan y mes, contar el total de mensajes enviados\n",
    "msj_caja = df_final.groupby(['user_id', 'plan', 'month'])['mensajes_enviados'].sum().reset_index()\n",
    "\n",
    "# Crear diagrama de caja y bigote \n",
    "sns.boxplot(x='month', y='mensajes_enviados', hue='plan', data= msj_caja)\n",
    "plt.title('Distribución de mensajes mensuales por plan')\n",
    "plt.xlabel('Mes')\n",
    "plt.ylabel('Número de mensajes enviados')\n",
    "plt.legend(title='Plan')\n",
    "plt.figure(figsize=(10,6))\n",
    "\n",
    "plt.show()"
   ]
  },
  {
   "cell_type": "markdown",
   "metadata": {
    "id": "390SSL480q1M"
   },
   "source": [
    "De acuerdo al analisis de los datos de mensajes enviados, se observa que en la mayoria de los meses el plan \"ultimate\" tiene en promedio un mayor numero de mensajes enviados aparentemente, aunque al calcular sus medidas de dispersion como la media, la varianza y la desviacion estandard en estas no observa una diferencia considerable. Ademas algo curioso es que en la moda no se registra algun numero que se repita dentro de los mensajes enviados, por otra parte la mediana de surf es muy cercana a su media, y mientras en el plan ultimate, su mediana se encuentra mas lejos de su media. Al revisar un histograma de distribución, se observa que los mensajes enviados en el plan 'surf' son mas en cuanto a cantidad y frecuencia. Por ultimo al revisar el diagrama de caja y bigote se observa nuevamente que los mensajes del plan surf tienen un mayor numero de datos atípicos.  "
   ]
  },
  {
   "cell_type": "markdown",
   "metadata": {
    "id": "42YSypXz0q1M"
   },
   "source": [
    "### Internet"
   ]
  },
  {
   "cell_type": "code",
   "execution_count": 49,
   "metadata": {
    "id": "lSuKPtjh0q1M"
   },
   "outputs": [
    {
     "data": {
      "image/png": "[encoded data removed]",
      "text/plain": [
       "<Figure size 1000x600 with 1 Axes>"
      ]
     },
     "metadata": {},
     "output_type": "display_data"
    }
   ],
   "source": [
    "# Compara la cantidad de tráfico de Internet consumido por usuarios por plan\n",
    "# filtro de Surf\n",
    "internet_surf = df_final[df_final['plan'] == 'surf' ]\n",
    "# calcular el promedio de internet usado\n",
    "internet_mean_surf = internet_surf.groupby('month')['gb_usados_round'].mean().round(2)\n",
    "\n",
    "# Filtro Ultimate \n",
    "internet_ultimate = df_final[df_final['plan'] == 'ultimate']\n",
    "# calcular el promedio de internet usado \n",
    "internet_mean_ultimate = internet_ultimate.groupby('month')['gb_usados_round'].mean().round()\n",
    "\n",
    "# concatenar los planes \n",
    "internet_concat = pd.concat([internet_mean_surf,internet_mean_ultimate], axis=1)\n",
    "# renombrar las columnas \n",
    "internet_concat.columns = ['Plan Surf', 'Plan Ultimate']\n",
    "\n",
    "# Crear grafico de barras para contrastar los promedios mensuales de trafico de internet acorde al plan\n",
    "\n",
    "ax = internet_concat.plot(title='Promedios mensuales de tráfico de internet según el plan',\n",
    "                          kind='bar', \n",
    "                          xlabel='Promedio del tráfico de internet por plan y mes',\n",
    "                          ylabel='Promedio tráfico internet (en GB)',\n",
    "                          color=['darkred', 'hotpink'], \n",
    "                          rot = 20,\n",
    "                          figsize=[10,6])\n",
    "\n",
    "# Reemplazar numeros por nombre de los meses \n",
    "ax.set_xticks(range(12))\n",
    "ax.set_xticklabels(['Enero', 'Febrero', 'Marzo', 'Abril', 'Mayo', 'Junio', 'Julio', 'Agosto', 'Septiembre', 'Octubre', 'Noviembre', 'Diciembre'])\n",
    "\n",
    "plt.show()"
   ]
  },
  {
   "cell_type": "code",
   "execution_count": 50,
   "metadata": {
    "id": "wnh8jYXi0q1N"
   },
   "outputs": [
    {
     "data": {
      "image/png": "[encoded data removed]",
      "text/plain": [
       "<Figure size 640x480 with 1 Axes>"
      ]
     },
     "metadata": {},
     "output_type": "display_data"
    }
   ],
   "source": [
    "# Crear un histograma donde se contraste el trafico de internet acorde al plan\n",
    "# Agrupar por mes e internet usado en el plan surf\n",
    "internet_hist_surf = internet_surf.groupby('month')['gb_usados_round'].sum()\n",
    "\n",
    "# Agrupar por mes e internet usado en el plan ultimate\n",
    "internet_hist_ultimate = internet_ultimate.groupby('month')['gb_usados_round'].sum()\n",
    "\n",
    "# Crear histograma \n",
    "\n",
    "# Crear un histograma para el plan surf\n",
    "plt.hist(internet_hist_surf, bins=10, label='Plan Surf', alpha=0.5, color='teal')\n",
    "\n",
    "# Crear histograma para el plan ultimate\n",
    "plt.hist(internet_hist_ultimate, bins= 10, label='Plan Ultimate', alpha=0.8, color='lime')\n",
    "\n",
    "plt.title('Distribución del trafico de internet por plan y por mes')\n",
    "plt.xlabel('Gigabytes usados')\n",
    "plt.ylabel('Frecuencia')\n",
    "plt.legend(loc='upper right')\n",
    "plt.show()\n",
    "\n"
   ]
  },
  {
   "cell_type": "code",
   "execution_count": 51,
   "metadata": {
    "id": "5VlyJ9ry0q1N"
   },
   "outputs": [
    {
     "name": "stdout",
     "output_type": "stream",
     "text": [
      "Plan Surf\n",
      "La media del trafico es:  16.671\n",
      "La mediana del trafico es:  17.0\n",
      "La moda del trafico es:  0    18.0\n",
      "dtype: float64\n",
      "La varianza del tráfico es:  61.584\n",
      "La desviacion estandard es:  7.848\n"
     ]
    }
   ],
   "source": [
    "# Calcular media, varianza del trafico mensual de internet por plan \n",
    "\n",
    "# Medidas distribucion del plan Surf \n",
    "media_internet_surf = internet_surf['gb_usados_round'].mean().round(3)\n",
    "median_internet_surf = internet_surf['gb_usados_round'].median()\n",
    "moda_internet_surf = internet_surf['gb_usados_round'].mode()\n",
    "var_internet_surf = internet_surf['gb_usados_round'].var().round(3)\n",
    "std_internet_surf = internet_surf['gb_usados_round'].std().round(3)\n",
    "print('Plan Surf')\n",
    "print('La media del trafico es: ', media_internet_surf)\n",
    "print('La mediana del trafico es: ', median_internet_surf)\n",
    "print('La moda del trafico es: ', moda_internet_surf)\n",
    "print('La varianza del tráfico es: ', var_internet_surf)\n",
    "print('La desviacion estandard es: ', std_internet_surf)"
   ]
  },
  {
   "cell_type": "code",
   "execution_count": 52,
   "metadata": {},
   "outputs": [
    {
     "name": "stdout",
     "output_type": "stream",
     "text": [
      "Plan Ultimate\n",
      "La media del tráfico es:  17.307\n",
      "La mediana del tráfico es:  17.0\n",
      "La moda del tráfico es:  0    17.0\n",
      "dtype: float64\n",
      "La varianza del tráfico es:  58.831\n",
      "La desviacion estandard es:  7.67\n"
     ]
    }
   ],
   "source": [
    "# Medidas distribucion del plan Ultimate\n",
    "media_internet_ultimate = internet_ultimate['gb_usados_round'].mean().round(3)\n",
    "median_internet_ultimate = internet_ultimate['gb_usados_round'].median()\n",
    "moda_internet_ultimate = internet_ultimate['gb_usados_round'].mode()\n",
    "var_internet_ultimate = internet_ultimate['gb_usados_round'].var().round(3)\n",
    "std_internet_ultimate = internet_ultimate['gb_usados_round'].std().round(3)\n",
    "print('Plan Ultimate')\n",
    "print('La media del tráfico es: ', media_internet_ultimate)\n",
    "print('La mediana del tráfico es: ', median_internet_ultimate)\n",
    "print('La moda del tráfico es: ', moda_internet_ultimate)\n",
    "print('La varianza del tráfico es: ', var_internet_ultimate)\n",
    "print('La desviacion estandard es: ', std_internet_ultimate)"
   ]
  },
  {
   "cell_type": "code",
   "execution_count": 53,
   "metadata": {},
   "outputs": [
    {
     "data": {
      "image/png": "[encoded data removed]",
      "text/plain": [
       "<Figure size 640x480 with 1 Axes>"
      ]
     },
     "metadata": {},
     "output_type": "display_data"
    },
    {
     "data": {
      "text/plain": [
       "<Figure size 1000x600 with 0 Axes>"
      ]
     },
     "metadata": {},
     "output_type": "display_data"
    }
   ],
   "source": [
    "# Trazar un diagrama de caja para visualizar la distribución de trafico de internet mensual\n",
    "# Agrupar por user_id, month y plan \n",
    "internet_caja = df_final.groupby(['user_id', 'month', 'plan'])['gb_usados_round'].sum().reset_index()\n",
    "\n",
    "# Crear diagrama caja y bigote \n",
    "sns.boxplot(data=internet_caja, x='month', y='gb_usados_round', hue='plan')\n",
    "plt.title('Distribucion de tráfico de internet mensual por plan')\n",
    "plt.xlabel('Mes')\n",
    "plt.ylabel('Gigabytes usados')\n",
    "plt.legend(title='Plan')\n",
    "plt.figure(figsize=(10,6))\n",
    "\n",
    "plt.show()"
   ]
  },
  {
   "cell_type": "markdown",
   "metadata": {
    "id": "UN9zwuMP0q1N"
   },
   "source": [
    "En este análisis se comenzo por transformar los datos de trafico de internet de MB a GB para un mejor entendimiento, en la primera grafica se observa un mayor consumo de datos en el plan \"Ultimate\" aunque hay meses en los que el trafico es similar en ambos planes. En el segundo grafico se observa que el plan \"Surf\" tuvo una mayor distribución comparado con el otro tipo de plan. Por ultimo el diagrama de caja y bigote nos muestra que el plan \"Surf\" sige teniendo el mayor numero de valores atípicos, contrastando con el calculo de las medidas de dispersion, se observa que aparentemente sus medias som muy similares al igual que la varianza y la desviación estandard, siguiendo conla observacion de los datos las medianas de ambos planes estan muy cerca de su media, y en el caso del trafico de internet si hay modas, para el caso de surf es de 18 y para ultimate es de 17. "
   ]
  },
  {
   "cell_type": "markdown",
   "metadata": {
    "id": "tCijq3260q1N"
   },
   "source": [
    "## Ingreso"
   ]
  },
  {
   "cell_type": "code",
   "execution_count": 54,
   "metadata": {
    "id": "tz-dq_V00q1O"
   },
   "outputs": [
    {
     "data": {
      "image/png": "[encoded data removed]",
      "text/plain": [
       "<Figure size 1000x600 with 1 Axes>"
      ]
     },
     "metadata": {},
     "output_type": "display_data"
    }
   ],
   "source": [
    "# Comparar el ingreso mensual promedio de los planes\n",
    "# filtro para plan Surf\n",
    "ingreso_surf = df_final[df_final['plan'] == 'surf']\n",
    "# agrupar por month y sacar el promedio del ingreso por cliente\n",
    "ingreso_mean_surf = ingreso_surf.groupby('month')['ingreso_total_por_cliente'].mean().round(2)\n",
    "\n",
    "#filtro para plan ultimate \n",
    "ingreso_ultimate = df_final[df_final['plan'] == 'ultimate']\n",
    "# agrupar por month y sacar el promedio del ingreso por cliente\n",
    "ingreso_mean_ultimate = ingreso_ultimate.groupby('month')['ingreso_total_por_cliente'].mean().round(2)\n",
    "\n",
    "## concatenar las series\n",
    "ingreso_concat = pd.concat([ingreso_mean_surf,ingreso_mean_ultimate], axis=1)\n",
    "# renombrar las columnas de acuerdo al plan \n",
    "ingreso_concat.columns = ['Plan Surf', \"Plan Ultimate\"]\n",
    "\n",
    "# Crear grafico de barras comparando los ingresos mensuales de cada uno de los planes \n",
    "ax = ingreso_concat.plot(title='Ingresos mensuales promedio por plan',\n",
    "                         kind='bar',\n",
    "                         xlabel='Promedio de ingresos por plan y mes',\n",
    "                         ylabel='Ingreso promedio (en USD)',\n",
    "                         color=['tan', 'mediumorchid'],\n",
    "                         rot=20, \n",
    "                         figsize=[10,6])\n",
    "\n",
    "# reemplazar nombre de los meses \n",
    "ax.set_xticks(range(12))\n",
    "ax.set_xticklabels(['Enero', 'Febrero', 'Marzo', 'Abril', 'Mayo', 'Junio', 'Julio', 'Agosto', 'Septiembre', 'Octubre', 'Noviembre', 'Diciembre'])\n",
    "plt.show()"
   ]
  },
  {
   "cell_type": "code",
   "execution_count": 55,
   "metadata": {
    "id": "0Y1v8ZUz0q1P"
   },
   "outputs": [
    {
     "data": {
      "image/png": "[encoded data removed]",
      "text/plain": [
       "<Figure size 640x480 with 1 Axes>"
      ]
     },
     "metadata": {},
     "output_type": "display_data"
    }
   ],
   "source": [
    "# crear histograma comparando los ingresos mensuales por plan \n",
    "# agrupar por month y los ingresos por cliente, calcular los ingresos del plan surf \n",
    "ingreso_surf_hist = ingreso_surf.groupby('month')['ingreso_total_por_cliente'].sum()\n",
    "\n",
    "# agrupar por month y los ingresos por cliente, calcular los ingresos del plan ultimate\n",
    "ingreso_ultimate_hist = ingreso_ultimate.groupby('month')['ingreso_total_por_cliente'].sum()\n",
    "\n",
    "# Crear un histograma para el plan surf\n",
    "plt.hist(ingreso_surf_hist, bins=10, label='Plan Surf', alpha=0.5, color='cadetblue')\n",
    "\n",
    "# Crear histograma para el plan ultimate\n",
    "plt.hist(ingreso_ultimate_hist, bins= 10, label='Plan Ultimate', alpha=0.8, color='coral')\n",
    "\n",
    "plt.title('Distribución de los ingresos por plan y por mes')\n",
    "plt.xlabel('Ingresos en USD')\n",
    "plt.ylabel('Frecuencia')\n",
    "plt.legend(loc='upper right')\n",
    "plt.show()\n",
    "\n"
   ]
  },
  {
   "cell_type": "code",
   "execution_count": 56,
   "metadata": {
    "id": "bYmwxyVh0q1P"
   },
   "outputs": [
    {
     "name": "stdout",
     "output_type": "stream",
     "text": [
      "Plan Surf\n",
      "La media del ingreso es:  60.706\n",
      "La mediana del ingreso es:  40.36\n",
      "La moda del ingreso es:  0    20.0\n",
      "dtype: float64\n",
      "La varianza del ingreso es:  3067.835\n",
      "La desviacion estandard es:  55.388\n"
     ]
    }
   ],
   "source": [
    "# Calcular media, varianza de los ingresos mensuales por plan \n",
    "# medidas de dispersion del plan Surf\n",
    "media_ingreso_surf = ingreso_surf['ingreso_total_por_cliente'].mean().round(3)\n",
    "median_ingreso_surf = ingreso_surf['ingreso_total_por_cliente'].median()\n",
    "moda_ingreso_surf = ingreso_surf['ingreso_total_por_cliente'].mode()\n",
    "var_ingreso_surf = ingreso_surf['ingreso_total_por_cliente'].var().round(3)\n",
    "std_ingreso_surf = ingreso_surf['ingreso_total_por_cliente'].std().round(3)\n",
    "print('Plan Surf')\n",
    "print('La media del ingreso es: ', media_ingreso_surf)\n",
    "print('La mediana del ingreso es: ', median_ingreso_surf)\n",
    "print('La moda del ingreso es: ', moda_ingreso_surf)\n",
    "print('La varianza del ingreso es: ', var_ingreso_surf)\n",
    "print('La desviacion estandard es: ', std_ingreso_surf)"
   ]
  },
  {
   "cell_type": "code",
   "execution_count": 57,
   "metadata": {},
   "outputs": [
    {
     "name": "stdout",
     "output_type": "stream",
     "text": [
      "Plan Ultimate\n",
      "La media del ingreso es:  72.314\n",
      "La mediana del ingreso es:  70.0\n",
      "La moda del ingreso es:  0    70.0\n",
      "dtype: float64\n",
      "La varianza del ingreso es:  129.848\n",
      "La desviacion estandard es:  11.395\n"
     ]
    }
   ],
   "source": [
    "# medidas de dispersion del plan Surf\n",
    "media_ingreso_ultimate = ingreso_ultimate['ingreso_total_por_cliente'].mean().round(3)\n",
    "median_ingreso_ultimate = ingreso_ultimate['ingreso_total_por_cliente'].median()\n",
    "moda_ingreso_ultimate = ingreso_ultimate['ingreso_total_por_cliente'].mode()\n",
    "var_ingreso_ultimate = ingreso_ultimate['ingreso_total_por_cliente'].var().round(3)\n",
    "std_ingreso_ultimate = ingreso_ultimate['ingreso_total_por_cliente'].std().round(3)\n",
    "print('Plan Ultimate')\n",
    "print('La media del ingreso es: ', media_ingreso_ultimate)\n",
    "print('La mediana del ingreso es: ', median_ingreso_ultimate)\n",
    "print('La moda del ingreso es: ', moda_ingreso_ultimate)\n",
    "print('La varianza del ingreso es: ', var_ingreso_ultimate)\n",
    "print('La desviacion estandard es: ', std_ingreso_ultimate)"
   ]
  },
  {
   "cell_type": "code",
   "execution_count": 58,
   "metadata": {},
   "outputs": [
    {
     "data": {
      "image/png": "[encoded data removed]",
      "text/plain": [
       "<Figure size 640x480 with 1 Axes>"
      ]
     },
     "metadata": {},
     "output_type": "display_data"
    },
    {
     "data": {
      "text/plain": [
       "<Figure size 1000x600 with 0 Axes>"
      ]
     },
     "metadata": {},
     "output_type": "display_data"
    }
   ],
   "source": [
    "# Trazar un diagrama de caja para visualizar la distribución del ingreso mensual\n",
    "# Agrupar por user_id, month y plan \n",
    "ingreso_caja = df_final.groupby(['user_id', 'month', 'plan'])['ingreso_total_por_cliente'].sum().reset_index()\n",
    "\n",
    "# Crear diagrama caja y bigote \n",
    "sns.boxplot(data=ingreso_caja, x='month', y='ingreso_total_por_cliente', hue='plan')\n",
    "plt.title('Distribucion del ingreso mensual por plan')\n",
    "plt.xlabel('Mes')\n",
    "plt.ylabel('Ingreso en USD')\n",
    "plt.legend(title='Plan')\n",
    "plt.figure(figsize=(10,6))\n",
    "\n",
    "plt.show()"
   ]
  },
  {
   "cell_type": "code",
   "execution_count": 59,
   "metadata": {},
   "outputs": [
    {
     "data": {
      "image/png": "[encoded data removed]",
      "text/plain": [
       "<Figure size 1000x600 with 1 Axes>"
      ]
     },
     "metadata": {},
     "output_type": "display_data"
    }
   ],
   "source": [
    "# crear un lineplot por cada plan \n",
    "# filtro para el plan surf\n",
    "filtro_surf = df_final[df_final['plan'] == 'surf']\n",
    "# agrupar los minutos usados, los mensajes enviados y el trafico de internet del plan surf por los ingresos que obtuvieron para observarlos a traves del tiempo\n",
    "dicc_surf = { 'minutos_usados' : 'sum', 'mensajes_enviados' : 'size', 'gb_usados_round' : 'sum', 'ingreso_total_por_cliente' : 'sum'}\n",
    "line_surf = filtro_surf.groupby('month')\n",
    "line_surf = line_surf.agg(dicc_surf).reset_index().round(2)\n",
    "\n",
    "\n",
    "# crear grafico de lineas\n",
    "ax = line_surf.plot(x='month',\n",
    "                    y=['minutos_usados', 'mensajes_enviados', 'gb_usados_round', 'ingreso_total_por_cliente'],\n",
    "                    kind='line',\n",
    "                    marker='o', title='Evolución de los ingresos y uso por plan Surf', \n",
    "                    xlabel='Meses', \n",
    "                    ylabel='Valores', \n",
    "                    figsize=[10,6])\n",
    "\n",
    "plt.legend(['Minutos usados', 'Mensajes enviados', 'GB usados', 'Ingresos'])\n",
    "plt.show()"
   ]
  },
  {
   "cell_type": "code",
   "execution_count": 60,
   "metadata": {},
   "outputs": [
    {
     "data": {
      "image/png": "[encoded data removed]",
      "text/plain": [
       "<Figure size 1000x600 with 1 Axes>"
      ]
     },
     "metadata": {},
     "output_type": "display_data"
    }
   ],
   "source": [
    "# crear un lineplot por cada plan \n",
    "# filtro para el plan surf\n",
    "filtro_ultimate = df_final[df_final['plan'] == 'ultimate']\n",
    "# agrupar los minutos usados, los mensajes enviados y el trafico de internet del plan ultimate por los ingresos que obtuvieron para observarlos a traves del tiempo\n",
    "dicc_ultimate = { 'minutos_usados' : 'sum', 'mensajes_enviados' : 'size', 'gb_usados_round' : 'sum', 'ingreso_total_por_cliente' : 'sum'}\n",
    "line_ultimate = filtro_ultimate.groupby('month')\n",
    "line_ultimate = line_ultimate.agg(dicc_ultimate).reset_index().round(2)\n",
    "\n",
    "\n",
    "# crear grafico de lineas\n",
    "ax = line_ultimate.plot(x='month',\n",
    "                    y=['minutos_usados', 'mensajes_enviados', 'gb_usados_round', 'ingreso_total_por_cliente'],\n",
    "                    marker='o', title='Evolución de los ingresos y uso por plan Ultimate', \n",
    "                    xlabel='Meses', \n",
    "                    ylabel='Valores', \n",
    "                    figsize=[10,6], \n",
    "                    color = ['red', 'yellow', 'indigo', 'green'])\n",
    "\n",
    "plt.legend(['Minutos usados', 'Mensajes enviados', 'GB usados', 'Ingresos'])\n",
    "plt.show()"
   ]
  },
  {
   "cell_type": "markdown",
   "metadata": {
    "id": "KAFidcXZ0q1P"
   },
   "source": [
    "En cuanto a la gráfica de barras se puede observar que el promedio de ingresos es superior en el plan \"Ultimate\", pero al analizar el histograma se aprecia que la frecuencia de la distribucion es mayor en el plan 'Surf' esto se podria explicar con base en el análisis de sus medidas de dispersión, en cuanto a su desviación estandar se observa que es mucho mayor en el plan surf, continuando con el analisis de sus medidas de distribucion en el caso de plan surf la mediana se aleja bastante respecto a su media, caso contrario en el plan ultimate donde su mediana es muy cercana a su media. En ambos casos se observa una moda que difiere en el caso de surf es de 20 y en ultimate es de 70, asimismo analizando el diagrama de caja y bigote se observan muchos valores atipicos en surf, los cuales hacen que su distribucion sea mayor que el plan ultimate. En cuanto al grafico de lineas en ambos planes se observa que el numero de minutos usados crecen exponencialmente mes con mes, los mensajes y el uso de internet su comportamiento se mantiene estable al pasar de los meses. Finalmente el ingreso en ambos planes en ambos casos aumenta al pasar los meses."
   ]
  },
  {
   "cell_type": "markdown",
   "metadata": {
    "id": "ajJ7VKeI0q1Q"
   },
   "source": [
    "## Prueba las hipótesis estadísticas"
   ]
  },
  {
   "cell_type": "markdown",
   "metadata": {},
   "source": [
    "## Hipotesis nula - NO existen diferencias significativas en las medias de los ingresos promedios de cada uno de los planes\n",
    "\n",
    "## Hipotesis alternativa - Existen diferencias significativas en las medias de los ingresos promedios de cada uno de los planes"
   ]
  },
  {
   "cell_type": "code",
   "execution_count": 61,
   "metadata": {
    "id": "nFoPNlPq0q1R",
    "scrolled": true
   },
   "outputs": [
    {
     "name": "stdout",
     "output_type": "stream",
     "text": [
      "El valor p es: 2.862674510698644e-08\n",
      "Rechazar la hipotesis nula\n"
     ]
    }
   ],
   "source": [
    "# Prueba las hipótesis\n",
    "\n",
    "# hacer filtro para el plan surf y por el ingreso total por cliente \n",
    "hipo_surf = df_final[df_final['plan'] == 'surf']['ingreso_total_por_cliente']\n",
    "# hacer filtro para el plan ultimate y por el ingreso total por cliente \n",
    "hipo_ultimate = df_final[df_final['plan']== 'ultimate']['ingreso_total_por_cliente']\n",
    "\n",
    "# establecer el nivel de significancia\n",
    "alpha = 0.05\n",
    "\n",
    "# realizar la pruba ttest\n",
    "diferencia_promedios = st.ttest_ind(hipo_surf, hipo_ultimate)\n",
    "\n",
    "# extraer el valor p\n",
    "print('El valor p es:', diferencia_promedios.pvalue)\n",
    "\n",
    "# comparar el valor p con el nivel de significancia\n",
    "if diferencia_promedios.pvalue < alpha:\n",
    "    print(\"Rechazar la hipotesis nula\")\n",
    "else:\n",
    "    print(\"No podemos rechazar la hipotesis nula\")\n",
    "\n"
   ]
  },
  {
   "cell_type": "markdown",
   "metadata": {},
   "source": [
    "Para comprobar las hipotesis nula y alternativa fue necesario hacer un filtro de cada uno de los planes por la columna de ingreso_total_por_cliente, despues se establecio el nivel de significancia(alpha) en 0.05, se escogió la prueba t de students para muestras independientes. De esta manera obtuvimos el valor p el cual fue mayor al nivel de significancia por lo cual la hipotesis nula debe ser rechazada, es decir, que existen cambios significativos en las medias de los ingresos de cada uno de los planes. "
   ]
  },
  {
   "cell_type": "markdown",
   "metadata": {},
   "source": [
    "# Hipotesis nula - NO existen diferencias significativas en los ingresos promedios de los usuarios del area de NY-NJ en comparacion a los demas\n",
    "\n",
    "# Hipotesis alternativa - Existen diferencias significativas en los ingresos promedios de los usuarios del area de NY-NJ en comparacion a los demas"
   ]
  },
  {
   "cell_type": "code",
   "execution_count": 66,
   "metadata": {},
   "outputs": [
    {
     "data": {
      "text/plain": [
       "0           Atlanta-Sandy Springs-Roswell, GA MSA\n",
       "1                 Seattle-Tacoma-Bellevue, WA MSA\n",
       "2                 Seattle-Tacoma-Bellevue, WA MSA\n",
       "3                 Seattle-Tacoma-Bellevue, WA MSA\n",
       "4                 Seattle-Tacoma-Bellevue, WA MSA\n",
       "                          ...                    \n",
       "2288    New York-Newark-Jersey City, NY-NJ-PA MSA\n",
       "2289    New York-Newark-Jersey City, NY-NJ-PA MSA\n",
       "2290       Los Angeles-Long Beach-Anaheim, CA MSA\n",
       "2291                       Salt Lake City, UT MSA\n",
       "2292                        Memphis, TN-MS-AR MSA\n",
       "Name: city, Length: 2293, dtype: object"
      ]
     },
     "execution_count": 66,
     "metadata": {},
     "output_type": "execute_result"
    }
   ],
   "source": [
    "df_final['city']"
   ]
  },
  {
   "cell_type": "code",
   "execution_count": 82,
   "metadata": {
    "scrolled": true
   },
   "outputs": [
    {
     "name": "stdout",
     "output_type": "stream",
     "text": [
      "Series([], Name: city, dtype: object)\n"
     ]
    }
   ],
   "source": [
    "# crear matriz externa \n",
    "\n",
    "zonas = df_final['city'] == 'NY-NJ'\n",
    "\n",
    "# zonas que SI son NY-NJ\n",
    "zonas_si = df_final[zonas]['city']\n",
    "\n",
    "print(zonas_si)\n"
   ]
  },
  {
   "cell_type": "code",
   "execution_count": 73,
   "metadata": {},
   "outputs": [
    {
     "name": "stdout",
     "output_type": "stream",
     "text": [
      "0        Atlanta-Sandy Springs-Roswell, GA MSA\n",
      "1              Seattle-Tacoma-Bellevue, WA MSA\n",
      "2              Seattle-Tacoma-Bellevue, WA MSA\n",
      "3              Seattle-Tacoma-Bellevue, WA MSA\n",
      "4              Seattle-Tacoma-Bellevue, WA MSA\n",
      "                         ...                  \n",
      "2286        Boston-Cambridge-Newton, MA-NH MSA\n",
      "2287                 Birmingham-Hoover, AL MSA\n",
      "2290    Los Angeles-Long Beach-Anaheim, CA MSA\n",
      "2291                    Salt Lake City, UT MSA\n",
      "2292                     Memphis, TN-MS-AR MSA\n",
      "Name: city, Length: 1916, dtype: object\n"
     ]
    }
   ],
   "source": [
    "# crear matriz externa \n",
    "zonas = ['NY-NJ']\n",
    "\n",
    "# zonas que SI son NY-NJ\n",
    "zonas_si = df_final[df_final['city'].isin(zonas)]['city']\n",
    "\n",
    "print(zonas_si)"
   ]
  },
  {
   "cell_type": "code",
   "execution_count": 77,
   "metadata": {},
   "outputs": [
    {
     "name": "stdout",
     "output_type": "stream",
     "text": [
      "56            New York-Newark-Jersey City, NY-NJ-PA MSA\n",
      "57            New York-Newark-Jersey City, NY-NJ-PA MSA\n",
      "75            New York-Newark-Jersey City, NY-NJ-PA MSA\n",
      "76            New York-Newark-Jersey City, NY-NJ-PA MSA\n",
      "77            New York-Newark-Jersey City, NY-NJ-PA MSA\n",
      "                             ...                       \n",
      "2260          New York-Newark-Jersey City, NY-NJ-PA MSA\n",
      "2261          New York-Newark-Jersey City, NY-NJ-PA MSA\n",
      "2262    Philadelphia-Camden-Wilmington, PA-NJ-DE-MD MSA\n",
      "2288          New York-Newark-Jersey City, NY-NJ-PA MSA\n",
      "2289          New York-Newark-Jersey City, NY-NJ-PA MSA\n",
      "Name: city, Length: 488, dtype: object\n"
     ]
    }
   ],
   "source": [
    "# crear filtro para extraer solo los usuarios de NY-NJ\n",
    "filtro_ny_zonas = df_final[df_final['city'].str.contains('NY|NJ', regex=True)]\n",
    "\n",
    "# filtro para usuarios de otras zonas \n",
    "filtro_otras_zonas = df_final[~df_final['city'].str.contains('NY|NJ', regex=True)]\n",
    "\n",
    "print(filtro_ny_zonas['city'])"
   ]
  },
  {
   "cell_type": "code",
   "execution_count": 62,
   "metadata": {
    "id": "Cqcj7wrZ0q1S"
   },
   "outputs": [
    {
     "name": "stdout",
     "output_type": "stream",
     "text": [
      "El valor de p es:  0.11013307329186486\n",
      "No podemos rechazar la hipótesis nula\n"
     ]
    }
   ],
   "source": [
    "# Prueba las hipótesis\n",
    "\n",
    "# crear filtro para extraer solo los usuarios de NY-NJ\n",
    "filtro_ny_zonas = df_final[df_final['city'].str.contains('NY|NJ', regex=True)]\n",
    "\n",
    "# filtro para usuarios de otras zonas \n",
    "filtro_otras_zonas = df_final[~df_final['city'].str.contains('NY|NJ', regex=True)]\n",
    "\n",
    "# filtro ingreso total por cliente para cada zona \n",
    "ingreso_ny_nj = filtro_ny_zonas['ingreso_total_por_cliente']\n",
    "\n",
    "# filtro ingreso para otras ciudades \n",
    "ingreso_otras_cd = filtro_otras_zonas['ingreso_total_por_cliente']\n",
    "\n",
    "#establecer nivel de significancia\n",
    "alfa = 0.05\n",
    "\n",
    "# prueba ttest\n",
    "resultado = st.ttest_ind(ingreso_ny_nj, ingreso_otras_cd)\n",
    "\n",
    "# extraer pvalue\n",
    "print('El valor de p es: ', resultado.pvalue)\n",
    "\n",
    "# comparar el valor p con el nivel de significancia\n",
    "if resultado.pvalue < alfa:\n",
    "    print('Rechazar la hipótesis nula')\n",
    "else:\n",
    "    print('No podemos rechazar la hipótesis nula')\n"
   ]
  },
  {
   "cell_type": "markdown",
   "metadata": {},
   "source": [
    "Para comprobar las hipotesis nula y alternativa fue necesario hacer un filtro de las zonas de NY - NJ y otro para filtrar el resto de las zonas, despues se establecio el nivel de significancia(alpha) en 0.05, se escogió la prueba t de students para muestras independientes. De esta manera obtuvimos el valor p el cual fue menor al nivel de significancia por lo cual la hipotesis nula no debe ser rechazada, es decir, que no existen cambios significativos en las medias de los ingresos de los usuarios que viven en la zona NY-NJ a comparacion de los usuarios del resto de las zonas. "
   ]
  },
  {
   "cell_type": "markdown",
   "metadata": {
    "id": "bbTR8UQO0q1T"
   },
   "source": [
    "## Conclusión general\n",
    "\n",
    "\n",
    "1. Comportamiento del usuario por llamadas de acuerdo al plan - En cuanto al comportamiento que se pudo observar en las gráficas es que el promedio de llamadas realizadas por el usuario eran mayores para el plan 'ultimate' asi mismo en el histograma de distribución se observa el mismo comportamiento, aunque en el diagrama de caja y bigote es muy notorio los valores atípicos dentro del plan 'surf'.\n",
    "\n",
    "2. Comportamiento del usuario por mensajes de acuerdo al plan contratado: En cuanto al promedio de mensajes enviados por los usuarios del plan 'ultimate' se observa una mayor cantidad de estos, en cuanto a sus medidas de distribucion son muy similares, realmente no se alcanza a percibir una gran diferencia, pero nuevamente en el diagrama de caja y bigote se observa una gran cantidad de valores atípicos en el plan 'surf'\n",
    "\n",
    "3. Comportamiento en el trafico de internet por plan: En cuanto al tráfico de internet hay muchos meses que los usuarios tienden a usar casi el mismo promedio de Gb, solo en 3 meses (de febrero a abril) es donde el plan 'ultimate' tiene un mayor numero de trafico promedio. Aunque al observar el histograma de distribución se observa que realmente quien tiene un mayor numero de trafico es el plan 'surf', aunque al observar sus medidas de distribución como lo es la media, varianza y desviación no se alcanza a ver una gran diferencia entre un plan y el otro. Por ultimo en el diagrama de caja y bigote nuevamente se ven muchos valores atípicos en el plan surf.\n",
    "\n",
    "4. Ingresos mensuales por plan:  finalmente en los ingresos percibidos por plan nuevamente 'ultimate' es quien se observa en el gráfico de barras que posee un mayor número de ingresos promedio, pero al contrastarlo con un histograma se observa que quen deja un mayor ingreso es el plan 'surf', pero esto se puede deber a la enorme cantidad de valores atípicos dentro de esta muestra. \n",
    "\n",
    "Por ultimo al comprobar las hipótesis se llega a la conclusión que realmente existen diferencias significativas en el ingreso percibido por plan, por lo cual se rechaza la hipótesis nula y se acepta la alterna afirmando lo anterior. \n",
    "\n",
    "Por otra parte al comparar las medias de clientes ubicados en las zonas de NY - NJ, al comprobar la hipótesis de que si hay diferencias en el ingreso promedio de los usuarios del área NY-NJ al de los usuarios de otras regiones, aplicando una prueba ttest de muestras independientes, se obtuvo un valor p menor al alfa por lo cual no se puede rechazar la hipótesis nula, lo que indica que no existen diferencias significativas entre las zonas de NY - NJ y las demás. "
   ]
  }
 ],
 "metadata": {
  "ExecuteTimeLog": [
   {
    "duration": 828,
    "start_time": "2021-11-16T09:21:11.304Z"
   },
   {
    "duration": 893,
    "start_time": "2021-11-16T09:21:17.728Z"
   },
   {
    "duration": 1150,
    "start_time": "2021-11-16T09:21:29.568Z"
   },
   {
    "duration": 3,
    "start_time": "2021-11-16T09:24:14.495Z"
   },
   {
    "duration": 120,
    "start_time": "2021-11-16T09:24:46.630Z"
   },
   {
    "duration": 3,
    "start_time": "2021-11-16T09:28:27.882Z"
   },
   {
    "duration": 4,
    "start_time": "2021-11-16T09:29:54.281Z"
   },
   {
    "duration": 3,
    "start_time": "2021-11-16T09:30:45.936Z"
   },
   {
    "duration": 4,
    "start_time": "2021-11-16T09:31:06.300Z"
   },
   {
    "duration": 113,
    "start_time": "2021-11-16T09:31:37.208Z"
   },
   {
    "duration": 143,
    "start_time": "2021-11-16T09:31:48.656Z"
   },
   {
    "duration": 98,
    "start_time": "2021-11-16T09:31:55.678Z"
   },
   {
    "duration": 3,
    "start_time": "2021-11-16T09:32:08.535Z"
   },
   {
    "duration": 111,
    "start_time": "2021-11-16T09:32:10.120Z"
   },
   {
    "duration": 3,
    "start_time": "2021-11-16T09:32:15.732Z"
   },
   {
    "duration": 4,
    "start_time": "2021-11-16T09:32:29.423Z"
   },
   {
    "duration": 3,
    "start_time": "2021-11-16T10:03:03.074Z"
   },
   {
    "duration": 3,
    "start_time": "2021-11-16T10:10:01.288Z"
   },
   {
    "duration": 3,
    "start_time": "2021-11-16T10:10:46.923Z"
   },
   {
    "duration": 121,
    "start_time": "2021-11-16T10:37:46.494Z"
   },
   {
    "duration": 125,
    "start_time": "2021-11-16T10:38:20.632Z"
   },
   {
    "duration": 112,
    "start_time": "2021-11-16T10:46:53.001Z"
   },
   {
    "duration": 110,
    "start_time": "2021-11-16T10:48:25.775Z"
   },
   {
    "duration": 3,
    "start_time": "2021-11-16T10:50:18.720Z"
   },
   {
    "duration": 4,
    "start_time": "2021-11-16T10:50:37.649Z"
   },
   {
    "duration": 2,
    "start_time": "2021-11-16T10:50:51.884Z"
   },
   {
    "duration": 3,
    "start_time": "2021-11-16T10:51:56.237Z"
   },
   {
    "duration": 101,
    "start_time": "2021-11-16T10:53:13.791Z"
   },
   {
    "duration": 3,
    "start_time": "2021-11-16T10:55:59.186Z"
   },
   {
    "duration": 3,
    "start_time": "2021-11-16T10:56:10.751Z"
   },
   {
    "duration": 3,
    "start_time": "2021-11-16T10:56:49.038Z"
   },
   {
    "duration": 3,
    "start_time": "2021-11-16T10:56:49.174Z"
   },
   {
    "duration": 4,
    "start_time": "2021-11-16T10:56:49.414Z"
   },
   {
    "duration": 3,
    "start_time": "2021-11-16T10:56:49.680Z"
   },
   {
    "duration": 3,
    "start_time": "2021-11-16T10:56:50.370Z"
   },
   {
    "duration": 114,
    "start_time": "2021-11-16T10:59:34.518Z"
   },
   {
    "duration": 3,
    "start_time": "2021-11-16T11:01:41.201Z"
   },
   {
    "duration": 116,
    "start_time": "2021-11-16T11:01:48.754Z"
   },
   {
    "duration": 3,
    "start_time": "2021-11-16T11:02:16.685Z"
   },
   {
    "duration": 3,
    "start_time": "2021-11-16T11:02:19.479Z"
   },
   {
    "duration": 3,
    "start_time": "2021-11-16T11:02:47.067Z"
   },
   {
    "duration": 3,
    "start_time": "2021-11-16T11:02:49.353Z"
   },
   {
    "duration": 3,
    "start_time": "2021-11-16T11:03:07.835Z"
   },
   {
    "duration": 3,
    "start_time": "2021-11-16T11:03:07.953Z"
   },
   {
    "duration": 112,
    "start_time": "2021-11-16T11:07:52.072Z"
   },
   {
    "duration": 187,
    "start_time": "2021-11-16T11:09:23.468Z"
   },
   {
    "duration": 4,
    "start_time": "2021-11-16T11:10:01.455Z"
   },
   {
    "duration": 3,
    "start_time": "2021-11-16T11:10:05.069Z"
   },
   {
    "duration": 4,
    "start_time": "2021-11-16T11:10:13.376Z"
   },
   {
    "duration": 3,
    "start_time": "2021-11-16T11:10:14.434Z"
   },
   {
    "duration": 3,
    "start_time": "2021-11-16T11:10:22.853Z"
   },
   {
    "duration": 4,
    "start_time": "2021-11-16T11:27:29.279Z"
   },
   {
    "duration": 4,
    "start_time": "2021-11-16T11:29:08.919Z"
   },
   {
    "duration": 118,
    "start_time": "2021-11-16T11:29:46.703Z"
   },
   {
    "duration": 437,
    "start_time": "2021-11-16T11:36:02.181Z"
   },
   {
    "duration": 157,
    "start_time": "2021-11-16T11:36:14.388Z"
   },
   {
    "duration": 207,
    "start_time": "2021-11-16T11:47:15.898Z"
   },
   {
    "duration": 3,
    "start_time": "2021-11-16T11:53:52.092Z"
   },
   {
    "duration": 3,
    "start_time": "2021-11-16T11:53:52.236Z"
   },
   {
    "duration": 3,
    "start_time": "2021-11-16T11:59:12.005Z"
   },
   {
    "duration": 112,
    "start_time": "2021-11-16T12:00:33.446Z"
   },
   {
    "duration": 3,
    "start_time": "2021-11-16T12:02:14.453Z"
   },
   {
    "duration": 3,
    "start_time": "2021-11-16T12:02:39.512Z"
   },
   {
    "duration": 106,
    "start_time": "2021-11-16T12:03:03.460Z"
   },
   {
    "duration": 3,
    "start_time": "2021-11-17T20:37:21.139Z"
   },
   {
    "duration": 3,
    "start_time": "2021-11-17T20:37:22.229Z"
   },
   {
    "duration": 3,
    "start_time": "2021-11-17T20:38:38.806Z"
   },
   {
    "duration": 3,
    "start_time": "2021-11-17T20:38:41.958Z"
   },
   {
    "duration": 3,
    "start_time": "2021-11-17T20:43:46.551Z"
   },
   {
    "duration": 4,
    "start_time": "2021-11-17T20:58:21.835Z"
   },
   {
    "duration": 3,
    "start_time": "2021-11-17T20:59:21.872Z"
   },
   {
    "duration": 4,
    "start_time": "2021-11-17T20:59:45.352Z"
   },
   {
    "duration": 4,
    "start_time": "2021-11-17T20:59:49.646Z"
   },
   {
    "duration": 159,
    "start_time": "2021-11-17T21:02:26.949Z"
   },
   {
    "duration": 3,
    "start_time": "2021-11-17T21:03:53.461Z"
   },
   {
    "duration": 3,
    "start_time": "2021-11-17T21:03:53.694Z"
   },
   {
    "duration": 3,
    "start_time": "2021-11-17T21:05:28.145Z"
   },
   {
    "duration": 116,
    "start_time": "2021-11-17T21:05:57.787Z"
   },
   {
    "duration": 3,
    "start_time": "2021-11-17T21:06:37.993Z"
   },
   {
    "duration": 3,
    "start_time": "2021-11-17T21:06:38.261Z"
   },
   {
    "duration": 3,
    "start_time": "2021-11-17T21:11:54.358Z"
   },
   {
    "duration": 3,
    "start_time": "2021-11-17T21:12:43.846Z"
   },
   {
    "duration": 4,
    "start_time": "2021-11-17T21:13:08.773Z"
   },
   {
    "duration": 3,
    "start_time": "2021-11-17T21:14:44.441Z"
   },
   {
    "duration": 3,
    "start_time": "2021-11-17T21:15:42.059Z"
   },
   {
    "duration": 4,
    "start_time": "2021-11-17T21:15:51.995Z"
   },
   {
    "duration": 3,
    "start_time": "2021-11-17T21:15:53.923Z"
   },
   {
    "duration": 3,
    "start_time": "2021-11-17T21:15:55.282Z"
   },
   {
    "duration": 3,
    "start_time": "2021-11-17T21:16:28.492Z"
   },
   {
    "duration": 3,
    "start_time": "2021-11-17T21:16:32.603Z"
   },
   {
    "duration": 3,
    "start_time": "2021-11-17T21:17:06.941Z"
   },
   {
    "duration": 98,
    "start_time": "2021-11-17T21:18:05.733Z"
   },
   {
    "duration": 4,
    "start_time": "2021-11-17T21:21:35.255Z"
   },
   {
    "duration": 3,
    "start_time": "2021-11-17T21:21:37.804Z"
   },
   {
    "duration": 4,
    "start_time": "2021-11-17T21:23:06.071Z"
   },
   {
    "duration": 3,
    "start_time": "2021-11-17T21:23:24.799Z"
   },
   {
    "duration": 3,
    "start_time": "2021-11-17T21:23:32.591Z"
   },
   {
    "duration": 98,
    "start_time": "2021-11-17T21:28:31.559Z"
   },
   {
    "duration": 3,
    "start_time": "2021-11-17T21:28:45.448Z"
   },
   {
    "duration": 3,
    "start_time": "2021-11-17T21:29:17.303Z"
   },
   {
    "duration": 3,
    "start_time": "2021-11-17T21:29:29.617Z"
   },
   {
    "duration": 3,
    "start_time": "2021-11-17T21:29:32.681Z"
   },
   {
    "duration": 3,
    "start_time": "2021-11-17T21:36:11.474Z"
   },
   {
    "duration": 3,
    "start_time": "2021-11-17T21:36:14.791Z"
   },
   {
    "duration": 3,
    "start_time": "2021-11-17T21:36:53.943Z"
   },
   {
    "duration": 3,
    "start_time": "2021-11-17T21:36:56.165Z"
   },
   {
    "duration": 4,
    "start_time": "2021-11-17T21:37:16.590Z"
   },
   {
    "duration": 3,
    "start_time": "2021-11-17T21:37:22.702Z"
   },
   {
    "duration": 4,
    "start_time": "2021-11-17T21:38:03.479Z"
   },
   {
    "duration": 3,
    "start_time": "2021-11-17T21:38:08.601Z"
   },
   {
    "duration": 3,
    "start_time": "2021-11-17T21:38:12.928Z"
   },
   {
    "duration": 3,
    "start_time": "2021-11-17T21:38:48.896Z"
   },
   {
    "duration": 2,
    "start_time": "2021-11-17T21:38:49.171Z"
   },
   {
    "duration": 4,
    "start_time": "2021-11-17T21:39:57.889Z"
   },
   {
    "duration": 3,
    "start_time": "2021-11-17T21:39:58.057Z"
   },
   {
    "duration": 3,
    "start_time": "2021-11-17T21:41:20.108Z"
   },
   {
    "duration": 3,
    "start_time": "2021-11-17T21:41:20.629Z"
   },
   {
    "duration": 3,
    "start_time": "2021-11-17T21:42:49.136Z"
   },
   {
    "duration": 3,
    "start_time": "2021-11-17T21:43:15.137Z"
   },
   {
    "duration": 4,
    "start_time": "2021-11-17T21:43:16.766Z"
   },
   {
    "duration": 4,
    "start_time": "2021-11-17T21:43:31.711Z"
   },
   {
    "duration": 3,
    "start_time": "2021-11-17T21:43:36.312Z"
   },
   {
    "duration": 4,
    "start_time": "2021-11-17T21:45:08.825Z"
   },
   {
    "duration": 4,
    "start_time": "2021-11-17T21:45:10.119Z"
   },
   {
    "duration": 4,
    "start_time": "2021-11-17T21:45:13.748Z"
   },
   {
    "duration": 3,
    "start_time": "2021-11-17T21:45:22.219Z"
   },
   {
    "duration": 3,
    "start_time": "2021-11-17T21:45:33.412Z"
   },
   {
    "duration": 2,
    "start_time": "2021-11-17T21:46:01.885Z"
   },
   {
    "duration": 3,
    "start_time": "2021-11-17T21:46:03.628Z"
   },
   {
    "duration": 107,
    "start_time": "2021-11-17T21:47:32.512Z"
   },
   {
    "duration": 103,
    "start_time": "2021-11-17T21:50:36.243Z"
   },
   {
    "duration": 3,
    "start_time": "2021-11-18T06:28:31.440Z"
   },
   {
    "duration": 3,
    "start_time": "2021-11-18T06:29:00.168Z"
   },
   {
    "duration": 3,
    "start_time": "2021-11-18T06:31:27.008Z"
   },
   {
    "duration": 2,
    "start_time": "2021-11-18T06:35:34.288Z"
   },
   {
    "duration": 2,
    "start_time": "2021-11-18T06:38:04.527Z"
   },
   {
    "duration": 5289,
    "start_time": "2024-07-18T17:52:05.613Z"
   },
   {
    "duration": 15,
    "start_time": "2024-07-18T17:58:56.452Z"
   },
   {
    "duration": 391,
    "start_time": "2024-07-18T17:59:23.277Z"
   },
   {
    "duration": 15,
    "start_time": "2024-07-18T17:59:31.457Z"
   },
   {
    "duration": 354,
    "start_time": "2024-07-18T18:01:50.053Z"
   },
   {
    "duration": 15,
    "start_time": "2024-07-18T18:02:44.247Z"
   },
   {
    "duration": 17,
    "start_time": "2024-07-18T18:04:31.934Z"
   },
   {
    "duration": 12,
    "start_time": "2024-07-18T18:06:21.152Z"
   },
   {
    "duration": 16,
    "start_time": "2024-07-18T18:06:26.463Z"
   },
   {
    "duration": 65,
    "start_time": "2024-07-18T18:17:20.967Z"
   },
   {
    "duration": 7,
    "start_time": "2024-07-18T18:17:39.917Z"
   },
   {
    "duration": 7,
    "start_time": "2024-07-18T18:19:58.488Z"
   },
   {
    "duration": 34,
    "start_time": "2024-07-18T18:21:01.577Z"
   },
   {
    "duration": 35,
    "start_time": "2024-07-18T18:21:14.599Z"
   },
   {
    "duration": 24,
    "start_time": "2024-07-18T18:21:31.577Z"
   },
   {
    "duration": 22,
    "start_time": "2024-07-18T18:21:48.982Z"
   },
   {
    "duration": 4,
    "start_time": "2024-07-18T18:22:35.636Z"
   },
   {
    "duration": 309,
    "start_time": "2024-07-18T18:22:38.927Z"
   },
   {
    "duration": 16,
    "start_time": "2024-07-18T18:22:41.976Z"
   },
   {
    "duration": 12,
    "start_time": "2024-07-18T18:22:46.937Z"
   },
   {
    "duration": 9,
    "start_time": "2024-07-18T18:22:58.016Z"
   },
   {
    "duration": 15,
    "start_time": "2024-07-18T18:27:52.461Z"
   },
   {
    "duration": 9,
    "start_time": "2024-07-18T18:30:22.346Z"
   },
   {
    "duration": 30,
    "start_time": "2024-07-18T18:41:49.096Z"
   },
   {
    "duration": 656,
    "start_time": "2024-07-18T18:42:02.263Z"
   },
   {
    "duration": 9,
    "start_time": "2024-07-18T18:42:15.527Z"
   },
   {
    "duration": 13,
    "start_time": "2024-07-18T18:45:36.007Z"
   },
   {
    "duration": 10,
    "start_time": "2024-07-18T18:45:45.321Z"
   },
   {
    "duration": 7,
    "start_time": "2024-07-18T18:49:42.998Z"
   },
   {
    "duration": 9,
    "start_time": "2024-07-18T18:51:53.780Z"
   },
   {
    "duration": 44,
    "start_time": "2024-07-18T18:52:24.304Z"
   },
   {
    "duration": 11,
    "start_time": "2024-07-18T18:52:28.892Z"
   },
   {
    "duration": 722,
    "start_time": "2024-07-18T18:52:58.852Z"
   },
   {
    "duration": 26,
    "start_time": "2024-07-18T18:53:47.727Z"
   },
   {
    "duration": 14,
    "start_time": "2024-07-18T18:53:59.037Z"
   },
   {
    "duration": 23,
    "start_time": "2024-07-18T19:25:59.399Z"
   },
   {
    "duration": 27,
    "start_time": "2024-07-18T19:26:15.644Z"
   },
   {
    "duration": 30,
    "start_time": "2024-07-18T19:26:33.094Z"
   },
   {
    "duration": 8,
    "start_time": "2024-07-18T19:31:02.741Z"
   },
   {
    "duration": 190,
    "start_time": "2024-07-18T19:33:54.312Z"
   },
   {
    "duration": 35,
    "start_time": "2024-07-18T19:35:29.301Z"
   },
   {
    "duration": 7,
    "start_time": "2024-07-18T19:35:59.992Z"
   },
   {
    "duration": 21,
    "start_time": "2024-07-18T19:42:23.731Z"
   },
   {
    "duration": 21,
    "start_time": "2024-07-18T19:46:04.488Z"
   },
   {
    "duration": 7,
    "start_time": "2024-07-18T19:46:32.438Z"
   },
   {
    "duration": 6,
    "start_time": "2024-07-18T19:49:15.177Z"
   },
   {
    "duration": 8,
    "start_time": "2024-07-18T19:49:27.462Z"
   },
   {
    "duration": 83,
    "start_time": "2024-07-18T19:50:09.696Z"
   },
   {
    "duration": 81,
    "start_time": "2024-07-18T19:50:17.497Z"
   },
   {
    "duration": 94,
    "start_time": "2024-07-18T19:51:25.867Z"
   },
   {
    "duration": 28,
    "start_time": "2024-07-18T19:51:51.438Z"
   },
   {
    "duration": 14,
    "start_time": "2024-07-18T19:53:03.187Z"
   },
   {
    "duration": 57,
    "start_time": "2024-07-18T19:57:13.617Z"
   },
   {
    "duration": 24,
    "start_time": "2024-07-18T20:00:36.056Z"
   },
   {
    "duration": 7,
    "start_time": "2024-07-18T20:02:14.935Z"
   },
   {
    "duration": 8,
    "start_time": "2024-07-18T20:02:21.632Z"
   },
   {
    "duration": 91,
    "start_time": "2024-07-18T20:02:30.059Z"
   },
   {
    "duration": 4,
    "start_time": "2024-07-18T20:17:40.198Z"
   },
   {
    "duration": 49,
    "start_time": "2024-07-18T20:21:34.731Z"
   },
   {
    "duration": 51,
    "start_time": "2024-07-18T20:23:24.446Z"
   },
   {
    "duration": 50,
    "start_time": "2024-07-18T20:23:40.832Z"
   },
   {
    "duration": 54,
    "start_time": "2024-07-18T20:23:53.609Z"
   },
   {
    "duration": 17,
    "start_time": "2024-07-18T20:31:08.648Z"
   },
   {
    "duration": 23,
    "start_time": "2024-07-18T20:31:32.332Z"
   },
   {
    "duration": 5989,
    "start_time": "2024-07-19T16:30:04.096Z"
   },
   {
    "duration": 514,
    "start_time": "2024-07-19T16:30:10.089Z"
   },
   {
    "duration": 27,
    "start_time": "2024-07-19T16:30:10.608Z"
   },
   {
    "duration": 22,
    "start_time": "2024-07-19T16:30:10.642Z"
   },
   {
    "duration": 9,
    "start_time": "2024-07-19T16:30:10.668Z"
   },
   {
    "duration": 41,
    "start_time": "2024-07-19T16:30:10.680Z"
   },
   {
    "duration": 16,
    "start_time": "2024-07-19T16:30:10.725Z"
   },
   {
    "duration": 27,
    "start_time": "2024-07-19T16:30:10.745Z"
   },
   {
    "duration": 70,
    "start_time": "2024-07-19T16:30:10.775Z"
   },
   {
    "duration": 129,
    "start_time": "2024-07-19T16:30:10.852Z"
   },
   {
    "duration": 16,
    "start_time": "2024-07-19T16:30:10.984Z"
   },
   {
    "duration": 32,
    "start_time": "2024-07-19T16:30:11.002Z"
   },
   {
    "duration": 82,
    "start_time": "2024-07-19T16:30:11.037Z"
   },
   {
    "duration": 24,
    "start_time": "2024-07-19T16:30:11.122Z"
   },
   {
    "duration": 121,
    "start_time": "2024-07-19T16:30:11.150Z"
   },
   {
    "duration": 57,
    "start_time": "2024-07-19T16:30:11.275Z"
   },
   {
    "duration": 30,
    "start_time": "2024-07-19T16:30:11.335Z"
   },
   {
    "duration": 3,
    "start_time": "2024-07-19T16:30:11.369Z"
   },
   {
    "duration": 38,
    "start_time": "2024-07-19T16:30:11.375Z"
   },
   {
    "duration": 3,
    "start_time": "2024-07-19T16:30:11.416Z"
   },
   {
    "duration": 3,
    "start_time": "2024-07-19T16:30:11.423Z"
   },
   {
    "duration": 4,
    "start_time": "2024-07-19T16:30:11.429Z"
   },
   {
    "duration": 4,
    "start_time": "2024-07-19T16:30:11.437Z"
   },
   {
    "duration": 4,
    "start_time": "2024-07-19T16:30:11.444Z"
   },
   {
    "duration": 4,
    "start_time": "2024-07-19T16:30:11.451Z"
   },
   {
    "duration": 3,
    "start_time": "2024-07-19T16:30:11.514Z"
   },
   {
    "duration": 10,
    "start_time": "2024-07-19T16:30:11.521Z"
   },
   {
    "duration": 3,
    "start_time": "2024-07-19T16:30:11.539Z"
   },
   {
    "duration": 4,
    "start_time": "2024-07-19T16:30:11.544Z"
   },
   {
    "duration": 4,
    "start_time": "2024-07-19T16:30:11.551Z"
   },
   {
    "duration": 3,
    "start_time": "2024-07-19T16:30:11.558Z"
   },
   {
    "duration": 4,
    "start_time": "2024-07-19T16:30:11.564Z"
   },
   {
    "duration": 13,
    "start_time": "2024-07-19T16:36:31.292Z"
   },
   {
    "duration": 4,
    "start_time": "2024-07-19T16:39:29.332Z"
   },
   {
    "duration": 1208,
    "start_time": "2024-07-19T16:44:11.554Z"
   },
   {
    "duration": 122,
    "start_time": "2024-07-19T16:44:29.334Z"
   },
   {
    "duration": 289,
    "start_time": "2024-07-19T16:45:17.866Z"
   },
   {
    "duration": 14,
    "start_time": "2024-07-19T16:45:30.827Z"
   },
   {
    "duration": 10,
    "start_time": "2024-07-19T16:45:54.749Z"
   },
   {
    "duration": 3,
    "start_time": "2024-07-19T16:46:33.086Z"
   },
   {
    "duration": 61,
    "start_time": "2024-07-19T16:55:29.485Z"
   },
   {
    "duration": 204,
    "start_time": "2024-07-19T16:56:24.675Z"
   },
   {
    "duration": 76,
    "start_time": "2024-07-19T16:56:43.122Z"
   },
   {
    "duration": 25,
    "start_time": "2024-07-19T17:07:45.618Z"
   },
   {
    "duration": 33,
    "start_time": "2024-07-19T17:09:38.506Z"
   },
   {
    "duration": 53,
    "start_time": "2024-07-19T17:11:34.018Z"
   },
   {
    "duration": 17,
    "start_time": "2024-07-19T17:11:49.529Z"
   },
   {
    "duration": 17,
    "start_time": "2024-07-19T17:12:03.165Z"
   },
   {
    "duration": 44,
    "start_time": "2024-07-19T17:13:14.096Z"
   },
   {
    "duration": 42,
    "start_time": "2024-07-19T17:13:18.359Z"
   },
   {
    "duration": 26,
    "start_time": "2024-07-19T17:13:23.990Z"
   },
   {
    "duration": 26,
    "start_time": "2024-07-19T17:16:13.974Z"
   },
   {
    "duration": 10,
    "start_time": "2024-07-19T17:17:51.841Z"
   },
   {
    "duration": 17,
    "start_time": "2024-07-19T17:18:01.164Z"
   },
   {
    "duration": 19,
    "start_time": "2024-07-19T17:18:50.726Z"
   },
   {
    "duration": 37,
    "start_time": "2024-07-19T17:20:54.690Z"
   },
   {
    "duration": 23,
    "start_time": "2024-07-19T17:21:29.503Z"
   },
   {
    "duration": 19,
    "start_time": "2024-07-19T17:22:32.065Z"
   },
   {
    "duration": 17,
    "start_time": "2024-07-19T17:22:57.249Z"
   },
   {
    "duration": 30,
    "start_time": "2024-07-19T17:23:51.507Z"
   },
   {
    "duration": 24,
    "start_time": "2024-07-19T17:24:26.171Z"
   },
   {
    "duration": 25,
    "start_time": "2024-07-19T17:24:35.856Z"
   },
   {
    "duration": 22,
    "start_time": "2024-07-19T17:26:10.544Z"
   },
   {
    "duration": 512,
    "start_time": "2024-07-19T17:26:24.357Z"
   },
   {
    "duration": 82,
    "start_time": "2024-07-19T17:26:48.406Z"
   },
   {
    "duration": 61,
    "start_time": "2024-07-19T17:27:15.890Z"
   },
   {
    "duration": 212,
    "start_time": "2024-07-19T17:28:37.949Z"
   },
   {
    "duration": 42,
    "start_time": "2024-07-19T17:29:05.370Z"
   },
   {
    "duration": 19,
    "start_time": "2024-07-19T17:29:40.399Z"
   },
   {
    "duration": 22,
    "start_time": "2024-07-19T17:32:42.014Z"
   },
   {
    "duration": 18,
    "start_time": "2024-07-19T17:35:16.089Z"
   },
   {
    "duration": 277,
    "start_time": "2024-07-19T17:40:30.685Z"
   },
   {
    "duration": 10,
    "start_time": "2024-07-19T17:41:38.480Z"
   },
   {
    "duration": 13,
    "start_time": "2024-07-19T17:42:16.900Z"
   },
   {
    "duration": 8,
    "start_time": "2024-07-19T17:45:07.190Z"
   },
   {
    "duration": 15,
    "start_time": "2024-07-19T17:45:19.959Z"
   },
   {
    "duration": 15,
    "start_time": "2024-07-19T17:47:44.380Z"
   },
   {
    "duration": 23,
    "start_time": "2024-07-19T17:48:30.320Z"
   },
   {
    "duration": 17,
    "start_time": "2024-07-19T17:49:08.637Z"
   },
   {
    "duration": 18,
    "start_time": "2024-07-19T17:49:18.994Z"
   },
   {
    "duration": 19,
    "start_time": "2024-07-19T17:51:16.773Z"
   },
   {
    "duration": 43,
    "start_time": "2024-07-19T17:52:31.407Z"
   },
   {
    "duration": 14,
    "start_time": "2024-07-19T17:53:00.684Z"
   },
   {
    "duration": 15,
    "start_time": "2024-07-19T17:53:39.173Z"
   },
   {
    "duration": 17,
    "start_time": "2024-07-19T17:58:18.195Z"
   },
   {
    "duration": 45,
    "start_time": "2024-07-19T18:00:11.510Z"
   },
   {
    "duration": 44,
    "start_time": "2024-07-19T18:00:23.884Z"
   },
   {
    "duration": 19,
    "start_time": "2024-07-19T18:00:48.031Z"
   },
   {
    "duration": 34,
    "start_time": "2024-07-19T18:01:04.595Z"
   },
   {
    "duration": 27,
    "start_time": "2024-07-19T18:01:22.127Z"
   },
   {
    "duration": 19,
    "start_time": "2024-07-19T18:01:43.944Z"
   },
   {
    "duration": 1154,
    "start_time": "2024-07-19T18:03:19.411Z"
   },
   {
    "duration": 286,
    "start_time": "2024-07-19T18:03:20.569Z"
   },
   {
    "duration": 16,
    "start_time": "2024-07-19T18:03:20.859Z"
   },
   {
    "duration": 38,
    "start_time": "2024-07-19T18:03:20.878Z"
   },
   {
    "duration": 13,
    "start_time": "2024-07-19T18:03:20.921Z"
   },
   {
    "duration": 15,
    "start_time": "2024-07-19T18:03:20.937Z"
   },
   {
    "duration": 17,
    "start_time": "2024-07-19T18:03:20.955Z"
   },
   {
    "duration": 22,
    "start_time": "2024-07-19T18:03:21.011Z"
   },
   {
    "duration": 15,
    "start_time": "2024-07-19T18:03:21.037Z"
   },
   {
    "duration": 17,
    "start_time": "2024-07-19T18:03:21.055Z"
   },
   {
    "duration": 26,
    "start_time": "2024-07-19T18:03:21.113Z"
   },
   {
    "duration": 102,
    "start_time": "2024-07-19T18:03:21.142Z"
   },
   {
    "duration": 15,
    "start_time": "2024-07-19T18:03:21.247Z"
   },
   {
    "duration": 81,
    "start_time": "2024-07-19T18:03:21.270Z"
   },
   {
    "duration": 79,
    "start_time": "2024-07-19T18:03:21.358Z"
   },
   {
    "duration": 36,
    "start_time": "2024-07-19T18:03:21.444Z"
   },
   {
    "duration": 76,
    "start_time": "2024-07-19T18:03:21.485Z"
   },
   {
    "duration": 24,
    "start_time": "2024-07-19T18:03:21.568Z"
   },
   {
    "duration": 34,
    "start_time": "2024-07-19T18:03:21.623Z"
   },
   {
    "duration": 56,
    "start_time": "2024-07-19T18:03:21.661Z"
   },
   {
    "duration": 100,
    "start_time": "2024-07-19T18:03:21.719Z"
   },
   {
    "duration": 44,
    "start_time": "2024-07-19T18:03:21.822Z"
   },
   {
    "duration": 54,
    "start_time": "2024-07-19T18:03:21.869Z"
   },
   {
    "duration": 21,
    "start_time": "2024-07-19T18:03:21.926Z"
   },
   {
    "duration": 27,
    "start_time": "2024-07-19T18:03:21.950Z"
   },
   {
    "duration": 50,
    "start_time": "2024-07-19T18:03:21.980Z"
   },
   {
    "duration": 23,
    "start_time": "2024-07-19T18:03:22.033Z"
   },
   {
    "duration": 59,
    "start_time": "2024-07-19T18:03:22.060Z"
   },
   {
    "duration": 25,
    "start_time": "2024-07-19T18:03:22.122Z"
   },
   {
    "duration": 4,
    "start_time": "2024-07-19T18:03:22.151Z"
   },
   {
    "duration": 4,
    "start_time": "2024-07-19T18:03:22.160Z"
   },
   {
    "duration": 4,
    "start_time": "2024-07-19T18:03:22.168Z"
   },
   {
    "duration": 3,
    "start_time": "2024-07-19T18:03:22.214Z"
   },
   {
    "duration": 3,
    "start_time": "2024-07-19T18:03:22.221Z"
   },
   {
    "duration": 4,
    "start_time": "2024-07-19T18:03:22.227Z"
   },
   {
    "duration": 3,
    "start_time": "2024-07-19T18:03:22.235Z"
   },
   {
    "duration": 3,
    "start_time": "2024-07-19T18:03:22.242Z"
   },
   {
    "duration": 4,
    "start_time": "2024-07-19T18:03:22.248Z"
   },
   {
    "duration": 59,
    "start_time": "2024-07-19T18:03:22.255Z"
   },
   {
    "duration": 4,
    "start_time": "2024-07-19T18:03:22.317Z"
   },
   {
    "duration": 5,
    "start_time": "2024-07-19T18:19:34.939Z"
   },
   {
    "duration": 8,
    "start_time": "2024-07-19T18:19:46.545Z"
   },
   {
    "duration": 190,
    "start_time": "2024-07-19T18:22:06.095Z"
   },
   {
    "duration": 233,
    "start_time": "2024-07-19T18:22:45.504Z"
   },
   {
    "duration": 9,
    "start_time": "2024-07-19T18:23:01.988Z"
   },
   {
    "duration": 30,
    "start_time": "2024-07-19T18:23:38.418Z"
   },
   {
    "duration": 32,
    "start_time": "2024-07-19T18:25:22.251Z"
   },
   {
    "duration": 30,
    "start_time": "2024-07-19T18:25:37.525Z"
   },
   {
    "duration": 29,
    "start_time": "2024-07-19T18:34:30.830Z"
   },
   {
    "duration": 11,
    "start_time": "2024-07-19T18:34:41.539Z"
   },
   {
    "duration": 1170,
    "start_time": "2024-07-19T18:34:56.635Z"
   },
   {
    "duration": 288,
    "start_time": "2024-07-19T18:34:57.812Z"
   },
   {
    "duration": 16,
    "start_time": "2024-07-19T18:34:58.103Z"
   },
   {
    "duration": 17,
    "start_time": "2024-07-19T18:34:58.122Z"
   },
   {
    "duration": 9,
    "start_time": "2024-07-19T18:34:58.144Z"
   },
   {
    "duration": 8,
    "start_time": "2024-07-19T18:34:58.156Z"
   },
   {
    "duration": 54,
    "start_time": "2024-07-19T18:34:58.168Z"
   },
   {
    "duration": 15,
    "start_time": "2024-07-19T18:34:58.226Z"
   },
   {
    "duration": 22,
    "start_time": "2024-07-19T18:34:58.243Z"
   },
   {
    "duration": 55,
    "start_time": "2024-07-19T18:34:58.268Z"
   },
   {
    "duration": 17,
    "start_time": "2024-07-19T18:34:58.326Z"
   },
   {
    "duration": 25,
    "start_time": "2024-07-19T18:34:58.345Z"
   },
   {
    "duration": 107,
    "start_time": "2024-07-19T18:34:58.373Z"
   },
   {
    "duration": 33,
    "start_time": "2024-07-19T18:34:58.488Z"
   },
   {
    "duration": 35,
    "start_time": "2024-07-19T18:34:58.527Z"
   },
   {
    "duration": 46,
    "start_time": "2024-07-19T18:34:58.566Z"
   },
   {
    "duration": 19,
    "start_time": "2024-07-19T18:34:58.615Z"
   },
   {
    "duration": 40,
    "start_time": "2024-07-19T18:34:58.636Z"
   },
   {
    "duration": 49,
    "start_time": "2024-07-19T18:34:58.679Z"
   },
   {
    "duration": 16,
    "start_time": "2024-07-19T18:34:58.731Z"
   },
   {
    "duration": 25,
    "start_time": "2024-07-19T18:34:58.750Z"
   },
   {
    "duration": 135,
    "start_time": "2024-07-19T18:34:58.777Z"
   },
   {
    "duration": 43,
    "start_time": "2024-07-19T18:34:58.915Z"
   },
   {
    "duration": 62,
    "start_time": "2024-07-19T18:34:58.962Z"
   },
   {
    "duration": 22,
    "start_time": "2024-07-19T18:34:59.031Z"
   },
   {
    "duration": 23,
    "start_time": "2024-07-19T18:34:59.056Z"
   },
   {
    "duration": 49,
    "start_time": "2024-07-19T18:34:59.082Z"
   },
   {
    "duration": 23,
    "start_time": "2024-07-19T18:34:59.134Z"
   },
   {
    "duration": 17,
    "start_time": "2024-07-19T18:34:59.160Z"
   },
   {
    "duration": 18,
    "start_time": "2024-07-19T18:34:59.212Z"
   },
   {
    "duration": 4,
    "start_time": "2024-07-19T18:34:59.233Z"
   },
   {
    "duration": 3,
    "start_time": "2024-07-19T18:34:59.240Z"
   },
   {
    "duration": 4,
    "start_time": "2024-07-19T18:34:59.245Z"
   },
   {
    "duration": 4,
    "start_time": "2024-07-19T18:34:59.252Z"
   },
   {
    "duration": 3,
    "start_time": "2024-07-19T18:34:59.259Z"
   },
   {
    "duration": 4,
    "start_time": "2024-07-19T18:34:59.313Z"
   },
   {
    "duration": 3,
    "start_time": "2024-07-19T18:34:59.320Z"
   },
   {
    "duration": 3,
    "start_time": "2024-07-19T18:34:59.327Z"
   },
   {
    "duration": 4,
    "start_time": "2024-07-19T18:34:59.333Z"
   },
   {
    "duration": 3,
    "start_time": "2024-07-19T18:34:59.340Z"
   },
   {
    "duration": 3,
    "start_time": "2024-07-19T18:34:59.351Z"
   },
   {
    "duration": 17,
    "start_time": "2024-07-19T18:35:39.410Z"
   },
   {
    "duration": 5,
    "start_time": "2024-07-19T18:36:50.780Z"
   },
   {
    "duration": 347,
    "start_time": "2024-07-19T18:36:50.790Z"
   },
   {
    "duration": 18,
    "start_time": "2024-07-19T18:36:51.140Z"
   },
   {
    "duration": 13,
    "start_time": "2024-07-19T18:36:51.161Z"
   },
   {
    "duration": 33,
    "start_time": "2024-07-19T18:36:51.181Z"
   },
   {
    "duration": 12,
    "start_time": "2024-07-19T18:36:51.217Z"
   },
   {
    "duration": 18,
    "start_time": "2024-07-19T18:36:51.233Z"
   },
   {
    "duration": 54,
    "start_time": "2024-07-19T18:36:51.260Z"
   },
   {
    "duration": 25,
    "start_time": "2024-07-19T18:36:51.320Z"
   },
   {
    "duration": 20,
    "start_time": "2024-07-19T18:36:51.350Z"
   },
   {
    "duration": 46,
    "start_time": "2024-07-19T18:36:51.374Z"
   },
   {
    "duration": 26,
    "start_time": "2024-07-19T18:36:51.423Z"
   },
   {
    "duration": 144,
    "start_time": "2024-07-19T18:36:51.452Z"
   },
   {
    "duration": 13,
    "start_time": "2024-07-19T18:36:51.603Z"
   },
   {
    "duration": 42,
    "start_time": "2024-07-19T18:36:51.619Z"
   },
   {
    "duration": 56,
    "start_time": "2024-07-19T18:36:51.665Z"
   },
   {
    "duration": 26,
    "start_time": "2024-07-19T18:36:51.724Z"
   },
   {
    "duration": 76,
    "start_time": "2024-07-19T18:36:51.755Z"
   },
   {
    "duration": 24,
    "start_time": "2024-07-19T18:36:51.835Z"
   },
   {
    "duration": 20,
    "start_time": "2024-07-19T18:36:51.862Z"
   },
   {
    "duration": 32,
    "start_time": "2024-07-19T18:36:51.914Z"
   },
   {
    "duration": 111,
    "start_time": "2024-07-19T18:36:51.950Z"
   },
   {
    "duration": 53,
    "start_time": "2024-07-19T18:36:52.068Z"
   },
   {
    "duration": 39,
    "start_time": "2024-07-19T18:36:52.125Z"
   },
   {
    "duration": 17,
    "start_time": "2024-07-19T18:36:52.168Z"
   },
   {
    "duration": 25,
    "start_time": "2024-07-19T18:36:52.214Z"
   },
   {
    "duration": 21,
    "start_time": "2024-07-19T18:36:52.243Z"
   },
   {
    "duration": 63,
    "start_time": "2024-07-19T18:36:52.267Z"
   },
   {
    "duration": 17,
    "start_time": "2024-07-19T18:36:52.334Z"
   },
   {
    "duration": 19,
    "start_time": "2024-07-19T18:36:52.355Z"
   },
   {
    "duration": 3,
    "start_time": "2024-07-19T18:36:52.413Z"
   },
   {
    "duration": 4,
    "start_time": "2024-07-19T18:36:52.420Z"
   },
   {
    "duration": 3,
    "start_time": "2024-07-19T18:36:52.429Z"
   },
   {
    "duration": 4,
    "start_time": "2024-07-19T18:36:52.437Z"
   },
   {
    "duration": 4,
    "start_time": "2024-07-19T18:36:52.445Z"
   },
   {
    "duration": 4,
    "start_time": "2024-07-19T18:36:52.453Z"
   },
   {
    "duration": 52,
    "start_time": "2024-07-19T18:36:52.461Z"
   },
   {
    "duration": 3,
    "start_time": "2024-07-19T18:36:52.518Z"
   },
   {
    "duration": 4,
    "start_time": "2024-07-19T18:36:52.524Z"
   },
   {
    "duration": 4,
    "start_time": "2024-07-19T18:36:52.532Z"
   },
   {
    "duration": 4,
    "start_time": "2024-07-19T18:36:52.546Z"
   },
   {
    "duration": 37,
    "start_time": "2024-07-19T18:40:34.004Z"
   },
   {
    "duration": 30,
    "start_time": "2024-07-19T18:42:08.634Z"
   },
   {
    "duration": 27,
    "start_time": "2024-07-19T18:42:18.535Z"
   },
   {
    "duration": 29,
    "start_time": "2024-07-19T18:42:46.210Z"
   },
   {
    "duration": 206,
    "start_time": "2024-07-19T18:45:59.638Z"
   },
   {
    "duration": 33,
    "start_time": "2024-07-19T18:48:12.755Z"
   },
   {
    "duration": 22,
    "start_time": "2024-07-19T18:48:34.555Z"
   },
   {
    "duration": 35,
    "start_time": "2024-07-19T18:54:18.664Z"
   },
   {
    "duration": 6,
    "start_time": "2024-07-19T19:00:58.382Z"
   },
   {
    "duration": 351,
    "start_time": "2024-07-19T19:00:58.392Z"
   },
   {
    "duration": 18,
    "start_time": "2024-07-19T19:00:58.748Z"
   },
   {
    "duration": 13,
    "start_time": "2024-07-19T19:00:58.771Z"
   },
   {
    "duration": 29,
    "start_time": "2024-07-19T19:00:58.787Z"
   },
   {
    "duration": 13,
    "start_time": "2024-07-19T19:00:58.819Z"
   },
   {
    "duration": 18,
    "start_time": "2024-07-19T19:00:58.835Z"
   },
   {
    "duration": 17,
    "start_time": "2024-07-19T19:00:58.856Z"
   },
   {
    "duration": 25,
    "start_time": "2024-07-19T19:00:58.913Z"
   },
   {
    "duration": 15,
    "start_time": "2024-07-19T19:00:58.945Z"
   },
   {
    "duration": 60,
    "start_time": "2024-07-19T19:00:58.964Z"
   },
   {
    "duration": 31,
    "start_time": "2024-07-19T19:00:59.028Z"
   },
   {
    "duration": 97,
    "start_time": "2024-07-19T19:00:59.064Z"
   },
   {
    "duration": 14,
    "start_time": "2024-07-19T19:00:59.165Z"
   },
   {
    "duration": 61,
    "start_time": "2024-07-19T19:00:59.182Z"
   },
   {
    "duration": 23,
    "start_time": "2024-07-19T19:00:59.246Z"
   },
   {
    "duration": 47,
    "start_time": "2024-07-19T19:00:59.273Z"
   },
   {
    "duration": 42,
    "start_time": "2024-07-19T19:00:59.323Z"
   },
   {
    "duration": 52,
    "start_time": "2024-07-19T19:00:59.369Z"
   },
   {
    "duration": 18,
    "start_time": "2024-07-19T19:00:59.427Z"
   },
   {
    "duration": 31,
    "start_time": "2024-07-19T19:00:59.448Z"
   },
   {
    "duration": 97,
    "start_time": "2024-07-19T19:00:59.514Z"
   },
   {
    "duration": 49,
    "start_time": "2024-07-19T19:00:59.616Z"
   },
   {
    "duration": 54,
    "start_time": "2024-07-19T19:00:59.668Z"
   },
   {
    "duration": 20,
    "start_time": "2024-07-19T19:00:59.727Z"
   },
   {
    "duration": 28,
    "start_time": "2024-07-19T19:00:59.751Z"
   },
   {
    "duration": 45,
    "start_time": "2024-07-19T19:00:59.783Z"
   },
   {
    "duration": 26,
    "start_time": "2024-07-19T19:00:59.835Z"
   },
   {
    "duration": 54,
    "start_time": "2024-07-19T19:00:59.864Z"
   },
   {
    "duration": 21,
    "start_time": "2024-07-19T19:00:59.921Z"
   },
   {
    "duration": 30,
    "start_time": "2024-07-19T19:00:59.945Z"
   },
   {
    "duration": 40,
    "start_time": "2024-07-19T19:01:00.011Z"
   },
   {
    "duration": 4,
    "start_time": "2024-07-19T19:01:00.054Z"
   },
   {
    "duration": 9,
    "start_time": "2024-07-19T19:01:00.062Z"
   },
   {
    "duration": 4,
    "start_time": "2024-07-19T19:01:00.074Z"
   },
   {
    "duration": 32,
    "start_time": "2024-07-19T19:01:00.081Z"
   },
   {
    "duration": 4,
    "start_time": "2024-07-19T19:01:00.116Z"
   },
   {
    "duration": 4,
    "start_time": "2024-07-19T19:01:00.124Z"
   },
   {
    "duration": 3,
    "start_time": "2024-07-19T19:01:00.131Z"
   },
   {
    "duration": 3,
    "start_time": "2024-07-19T19:01:00.138Z"
   },
   {
    "duration": 3,
    "start_time": "2024-07-19T19:01:00.144Z"
   },
   {
    "duration": 1471,
    "start_time": "2024-07-19T19:01:18.057Z"
   },
   {
    "duration": 358,
    "start_time": "2024-07-19T19:01:19.537Z"
   },
   {
    "duration": 22,
    "start_time": "2024-07-19T19:01:19.898Z"
   },
   {
    "duration": 25,
    "start_time": "2024-07-19T19:01:19.924Z"
   },
   {
    "duration": 13,
    "start_time": "2024-07-19T19:01:19.956Z"
   },
   {
    "duration": 39,
    "start_time": "2024-07-19T19:01:19.973Z"
   },
   {
    "duration": 17,
    "start_time": "2024-07-19T19:01:20.015Z"
   },
   {
    "duration": 18,
    "start_time": "2024-07-19T19:01:20.037Z"
   },
   {
    "duration": 58,
    "start_time": "2024-07-19T19:01:20.059Z"
   },
   {
    "duration": 18,
    "start_time": "2024-07-19T19:01:20.124Z"
   },
   {
    "duration": 19,
    "start_time": "2024-07-19T19:01:20.146Z"
   },
   {
    "duration": 69,
    "start_time": "2024-07-19T19:01:20.168Z"
   },
   {
    "duration": 123,
    "start_time": "2024-07-19T19:01:20.240Z"
   },
   {
    "duration": 26,
    "start_time": "2024-07-19T19:01:20.367Z"
   },
   {
    "duration": 67,
    "start_time": "2024-07-19T19:01:20.400Z"
   },
   {
    "duration": 38,
    "start_time": "2024-07-19T19:01:20.474Z"
   },
   {
    "duration": 26,
    "start_time": "2024-07-19T19:01:20.515Z"
   },
   {
    "duration": 71,
    "start_time": "2024-07-19T19:01:20.548Z"
   },
   {
    "duration": 33,
    "start_time": "2024-07-19T19:01:20.622Z"
   },
   {
    "duration": 19,
    "start_time": "2024-07-19T19:01:20.659Z"
   },
   {
    "duration": 32,
    "start_time": "2024-07-19T19:01:20.719Z"
   },
   {
    "duration": 112,
    "start_time": "2024-07-19T19:01:20.761Z"
   },
   {
    "duration": 64,
    "start_time": "2024-07-19T19:01:20.879Z"
   },
   {
    "duration": 37,
    "start_time": "2024-07-19T19:01:20.947Z"
   },
   {
    "duration": 45,
    "start_time": "2024-07-19T19:01:20.986Z"
   },
   {
    "duration": 25,
    "start_time": "2024-07-19T19:01:21.034Z"
   },
   {
    "duration": 50,
    "start_time": "2024-07-19T19:01:21.062Z"
   },
   {
    "duration": 29,
    "start_time": "2024-07-19T19:01:21.123Z"
   },
   {
    "duration": 20,
    "start_time": "2024-07-19T19:01:21.155Z"
   },
   {
    "duration": 52,
    "start_time": "2024-07-19T19:01:21.179Z"
   },
   {
    "duration": 33,
    "start_time": "2024-07-19T19:01:21.235Z"
   },
   {
    "duration": 69,
    "start_time": "2024-07-19T19:01:21.272Z"
   },
   {
    "duration": 4,
    "start_time": "2024-07-19T19:01:21.344Z"
   },
   {
    "duration": 9,
    "start_time": "2024-07-19T19:01:21.351Z"
   },
   {
    "duration": 4,
    "start_time": "2024-07-19T19:01:21.365Z"
   },
   {
    "duration": 4,
    "start_time": "2024-07-19T19:01:21.372Z"
   },
   {
    "duration": 3,
    "start_time": "2024-07-19T19:01:21.380Z"
   },
   {
    "duration": 4,
    "start_time": "2024-07-19T19:01:21.414Z"
   },
   {
    "duration": 3,
    "start_time": "2024-07-19T19:01:21.422Z"
   },
   {
    "duration": 3,
    "start_time": "2024-07-19T19:01:21.429Z"
   },
   {
    "duration": 4,
    "start_time": "2024-07-19T19:01:21.436Z"
   },
   {
    "duration": 34,
    "start_time": "2024-07-19T19:13:25.303Z"
   },
   {
    "duration": 43,
    "start_time": "2024-07-19T19:14:01.954Z"
   },
   {
    "duration": 34,
    "start_time": "2024-07-19T19:16:45.717Z"
   },
   {
    "duration": 4,
    "start_time": "2024-07-19T19:28:58.539Z"
   },
   {
    "duration": 6,
    "start_time": "2024-07-19T19:54:47.121Z"
   },
   {
    "duration": 389,
    "start_time": "2024-07-19T19:54:54.720Z"
   },
   {
    "duration": 24,
    "start_time": "2024-07-19T19:55:11.550Z"
   },
   {
    "duration": 28,
    "start_time": "2024-07-19T19:57:09.926Z"
   },
   {
    "duration": 35,
    "start_time": "2024-07-19T20:00:53.145Z"
   },
   {
    "duration": 877,
    "start_time": "2024-07-19T20:08:56.445Z"
   },
   {
    "duration": 82,
    "start_time": "2024-07-19T20:09:15.039Z"
   },
   {
    "duration": 8,
    "start_time": "2024-07-19T20:09:39.454Z"
   },
   {
    "duration": 11,
    "start_time": "2024-07-19T20:13:39.685Z"
   },
   {
    "duration": 9,
    "start_time": "2024-07-19T20:14:50.068Z"
   },
   {
    "duration": 34,
    "start_time": "2024-07-19T20:21:43.862Z"
   },
   {
    "duration": 38,
    "start_time": "2024-07-19T20:21:53.016Z"
   },
   {
    "duration": 43,
    "start_time": "2024-07-19T20:23:37.780Z"
   },
   {
    "duration": 199,
    "start_time": "2024-07-19T20:25:03.503Z"
   },
   {
    "duration": 37,
    "start_time": "2024-07-19T20:27:09.835Z"
   },
   {
    "duration": 38,
    "start_time": "2024-07-19T20:28:57.760Z"
   },
   {
    "duration": 35,
    "start_time": "2024-07-19T20:35:15.927Z"
   },
   {
    "duration": 38,
    "start_time": "2024-07-19T20:37:20.366Z"
   },
   {
    "duration": 11,
    "start_time": "2024-07-19T20:39:58.185Z"
   },
   {
    "duration": 46,
    "start_time": "2024-07-19T20:40:09.976Z"
   },
   {
    "duration": 33,
    "start_time": "2024-07-19T20:40:54.620Z"
   },
   {
    "duration": 35,
    "start_time": "2024-07-19T20:42:29.614Z"
   },
   {
    "duration": 35,
    "start_time": "2024-07-19T20:45:37.052Z"
   },
   {
    "duration": 12,
    "start_time": "2024-07-19T20:52:31.667Z"
   },
   {
    "duration": 9,
    "start_time": "2024-07-19T20:52:48.767Z"
   },
   {
    "duration": 280,
    "start_time": "2024-07-19T20:53:01.980Z"
   },
   {
    "duration": 24,
    "start_time": "2024-07-19T20:53:24.121Z"
   },
   {
    "duration": 35,
    "start_time": "2024-07-19T20:59:09.496Z"
   },
   {
    "duration": 38,
    "start_time": "2024-07-19T21:15:29.481Z"
   },
   {
    "duration": 42,
    "start_time": "2024-07-19T21:16:12.857Z"
   },
   {
    "duration": 60,
    "start_time": "2024-07-19T21:20:33.096Z"
   },
   {
    "duration": 23,
    "start_time": "2024-07-19T21:20:49.949Z"
   },
   {
    "duration": 49,
    "start_time": "2024-07-19T21:21:32.886Z"
   },
   {
    "duration": 13,
    "start_time": "2024-07-19T21:22:23.885Z"
   },
   {
    "duration": 49,
    "start_time": "2024-07-19T21:22:29.718Z"
   },
   {
    "duration": 29,
    "start_time": "2024-07-19T21:23:23.005Z"
   },
   {
    "duration": 91,
    "start_time": "2024-07-19T21:26:08.690Z"
   },
   {
    "duration": 24,
    "start_time": "2024-07-19T21:26:35.151Z"
   },
   {
    "duration": 36,
    "start_time": "2024-07-19T21:34:37.055Z"
   },
   {
    "duration": 92,
    "start_time": "2024-07-19T21:34:41.897Z"
   },
   {
    "duration": 27,
    "start_time": "2024-07-19T21:34:48.747Z"
   },
   {
    "duration": 5012,
    "start_time": "2024-07-21T20:24:52.704Z"
   },
   {
    "duration": 334,
    "start_time": "2024-07-21T20:24:57.721Z"
   },
   {
    "duration": 16,
    "start_time": "2024-07-21T20:24:58.058Z"
   },
   {
    "duration": 17,
    "start_time": "2024-07-21T20:24:58.077Z"
   },
   {
    "duration": 12,
    "start_time": "2024-07-21T20:24:58.116Z"
   },
   {
    "duration": 13,
    "start_time": "2024-07-21T20:24:58.131Z"
   },
   {
    "duration": 21,
    "start_time": "2024-07-21T20:24:58.147Z"
   },
   {
    "duration": 49,
    "start_time": "2024-07-21T20:24:58.171Z"
   },
   {
    "duration": 21,
    "start_time": "2024-07-21T20:24:58.223Z"
   },
   {
    "duration": 16,
    "start_time": "2024-07-21T20:24:58.248Z"
   },
   {
    "duration": 52,
    "start_time": "2024-07-21T20:24:58.267Z"
   },
   {
    "duration": 26,
    "start_time": "2024-07-21T20:24:58.322Z"
   },
   {
    "duration": 108,
    "start_time": "2024-07-21T20:24:58.351Z"
   },
   {
    "duration": 13,
    "start_time": "2024-07-21T20:24:58.467Z"
   },
   {
    "duration": 61,
    "start_time": "2024-07-21T20:24:58.486Z"
   },
   {
    "duration": 23,
    "start_time": "2024-07-21T20:24:58.550Z"
   },
   {
    "duration": 45,
    "start_time": "2024-07-21T20:24:58.576Z"
   },
   {
    "duration": 40,
    "start_time": "2024-07-21T20:24:58.625Z"
   },
   {
    "duration": 52,
    "start_time": "2024-07-21T20:24:58.667Z"
   },
   {
    "duration": 15,
    "start_time": "2024-07-21T20:24:58.722Z"
   },
   {
    "duration": 22,
    "start_time": "2024-07-21T20:24:58.740Z"
   },
   {
    "duration": 109,
    "start_time": "2024-07-21T20:24:58.764Z"
   },
   {
    "duration": 63,
    "start_time": "2024-07-21T20:24:58.876Z"
   },
   {
    "duration": 28,
    "start_time": "2024-07-21T20:24:58.944Z"
   },
   {
    "duration": 42,
    "start_time": "2024-07-21T20:24:58.975Z"
   },
   {
    "duration": 24,
    "start_time": "2024-07-21T20:24:59.019Z"
   },
   {
    "duration": 21,
    "start_time": "2024-07-21T20:24:59.046Z"
   },
   {
    "duration": 56,
    "start_time": "2024-07-21T20:24:59.069Z"
   },
   {
    "duration": 15,
    "start_time": "2024-07-21T20:24:59.128Z"
   },
   {
    "duration": 18,
    "start_time": "2024-07-21T20:24:59.146Z"
   },
   {
    "duration": 72,
    "start_time": "2024-07-21T20:24:59.166Z"
   },
   {
    "duration": 39,
    "start_time": "2024-07-21T20:24:59.241Z"
   },
   {
    "duration": 49,
    "start_time": "2024-07-21T20:24:59.284Z"
   },
   {
    "duration": 4,
    "start_time": "2024-07-21T20:24:59.336Z"
   },
   {
    "duration": 4,
    "start_time": "2024-07-21T20:24:59.343Z"
   },
   {
    "duration": 4,
    "start_time": "2024-07-21T20:24:59.350Z"
   },
   {
    "duration": 4,
    "start_time": "2024-07-21T20:24:59.358Z"
   },
   {
    "duration": 48,
    "start_time": "2024-07-21T20:24:59.364Z"
   },
   {
    "duration": 3,
    "start_time": "2024-07-21T20:24:59.416Z"
   },
   {
    "duration": 4,
    "start_time": "2024-07-21T20:24:59.422Z"
   },
   {
    "duration": 3,
    "start_time": "2024-07-21T20:24:59.433Z"
   },
   {
    "duration": 42,
    "start_time": "2024-07-21T20:35:25.111Z"
   },
   {
    "duration": 35,
    "start_time": "2024-07-21T20:35:33.472Z"
   },
   {
    "duration": 36,
    "start_time": "2024-07-21T20:35:47.884Z"
   },
   {
    "duration": 9,
    "start_time": "2024-07-21T20:42:27.938Z"
   },
   {
    "duration": 9,
    "start_time": "2024-07-21T20:43:01.550Z"
   },
   {
    "duration": 12,
    "start_time": "2024-07-21T21:01:37.700Z"
   },
   {
    "duration": 447,
    "start_time": "2024-07-21T21:10:37.924Z"
   },
   {
    "duration": 790,
    "start_time": "2024-07-21T21:15:43.473Z"
   },
   {
    "duration": 616,
    "start_time": "2024-07-21T21:20:16.164Z"
   },
   {
    "duration": 5,
    "start_time": "2024-07-21T21:22:09.065Z"
   },
   {
    "duration": 27,
    "start_time": "2024-07-21T21:22:17.195Z"
   },
   {
    "duration": 8,
    "start_time": "2024-07-21T21:22:51.060Z"
   },
   {
    "duration": 7,
    "start_time": "2024-07-21T21:23:24.348Z"
   },
   {
    "duration": 9,
    "start_time": "2024-07-21T21:24:34.414Z"
   },
   {
    "duration": 7,
    "start_time": "2024-07-21T21:25:26.161Z"
   },
   {
    "duration": 9,
    "start_time": "2024-07-21T21:25:30.740Z"
   },
   {
    "duration": 7,
    "start_time": "2024-07-21T21:25:37.326Z"
   },
   {
    "duration": 553,
    "start_time": "2024-07-21T21:27:55.727Z"
   },
   {
    "duration": 26,
    "start_time": "2024-07-21T21:37:19.148Z"
   },
   {
    "duration": 8,
    "start_time": "2024-07-21T21:37:32.026Z"
   },
   {
    "duration": 26,
    "start_time": "2024-07-21T21:39:19.436Z"
   },
   {
    "duration": 239,
    "start_time": "2024-07-21T21:43:39.293Z"
   },
   {
    "duration": 9,
    "start_time": "2024-07-21T21:44:17.114Z"
   },
   {
    "duration": 30,
    "start_time": "2024-07-21T21:45:02.010Z"
   },
   {
    "duration": 10,
    "start_time": "2024-07-21T21:45:52.328Z"
   },
   {
    "duration": 33,
    "start_time": "2024-07-21T21:47:09.643Z"
   },
   {
    "duration": 179,
    "start_time": "2024-07-21T21:47:31.623Z"
   },
   {
    "duration": 45,
    "start_time": "2024-07-21T21:50:34.922Z"
   },
   {
    "duration": 85,
    "start_time": "2024-07-21T21:51:59.429Z"
   },
   {
    "duration": 82,
    "start_time": "2024-07-21T21:52:17.575Z"
   },
   {
    "duration": 88,
    "start_time": "2024-07-21T21:52:51.329Z"
   },
   {
    "duration": 21,
    "start_time": "2024-07-21T22:04:41.161Z"
   },
   {
    "duration": 23,
    "start_time": "2024-07-21T22:05:06.426Z"
   },
   {
    "duration": 21,
    "start_time": "2024-07-21T22:05:14.684Z"
   },
   {
    "duration": 409,
    "start_time": "2024-07-21T22:05:48.434Z"
   },
   {
    "duration": 11,
    "start_time": "2024-07-21T22:11:52.912Z"
   },
   {
    "duration": 11,
    "start_time": "2024-07-21T22:12:49.957Z"
   },
   {
    "duration": 21,
    "start_time": "2024-07-21T22:13:44.892Z"
   },
   {
    "duration": 307,
    "start_time": "2024-07-21T22:14:00.705Z"
   },
   {
    "duration": 310,
    "start_time": "2024-07-21T22:14:23.274Z"
   },
   {
    "duration": 298,
    "start_time": "2024-07-21T22:15:14.045Z"
   },
   {
    "duration": 317,
    "start_time": "2024-07-21T22:17:20.540Z"
   },
   {
    "duration": 462,
    "start_time": "2024-07-21T22:20:33.239Z"
   },
   {
    "duration": 316,
    "start_time": "2024-07-21T22:21:21.204Z"
   },
   {
    "duration": 352,
    "start_time": "2024-07-21T22:21:32.179Z"
   },
   {
    "duration": 365,
    "start_time": "2024-07-21T22:22:24.611Z"
   },
   {
    "duration": 353,
    "start_time": "2024-07-21T22:23:00.413Z"
   },
   {
    "duration": 369,
    "start_time": "2024-07-21T22:25:30.750Z"
   },
   {
    "duration": 374,
    "start_time": "2024-07-21T22:26:51.104Z"
   },
   {
    "duration": 393,
    "start_time": "2024-07-21T22:27:32.861Z"
   },
   {
    "duration": 1142,
    "start_time": "2024-07-21T22:28:22.264Z"
   },
   {
    "duration": 361,
    "start_time": "2024-07-21T22:28:42.054Z"
   },
   {
    "duration": 372,
    "start_time": "2024-07-21T22:30:13.934Z"
   },
   {
    "duration": 363,
    "start_time": "2024-07-21T22:30:24.834Z"
   },
   {
    "duration": 371,
    "start_time": "2024-07-21T22:35:17.829Z"
   },
   {
    "duration": 9,
    "start_time": "2024-07-21T22:42:41.220Z"
   },
   {
    "duration": 13,
    "start_time": "2024-07-21T22:44:13.673Z"
   },
   {
    "duration": 16,
    "start_time": "2024-07-21T22:47:50.774Z"
   },
   {
    "duration": 16,
    "start_time": "2024-07-21T22:48:01.237Z"
   },
   {
    "duration": 30,
    "start_time": "2024-07-21T22:50:46.991Z"
   },
   {
    "duration": 13,
    "start_time": "2024-07-21T22:51:33.530Z"
   },
   {
    "duration": 325,
    "start_time": "2024-07-21T22:51:54.824Z"
   },
   {
    "duration": 295,
    "start_time": "2024-07-21T22:59:17.679Z"
   },
   {
    "duration": 317,
    "start_time": "2024-07-21T23:00:20.057Z"
   },
   {
    "duration": 372,
    "start_time": "2024-07-21T23:01:32.024Z"
   },
   {
    "duration": 316,
    "start_time": "2024-07-21T23:01:56.954Z"
   },
   {
    "duration": 264,
    "start_time": "2024-07-21T23:02:22.379Z"
   },
   {
    "duration": 1455,
    "start_time": "2024-07-21T23:09:50.524Z"
   },
   {
    "duration": 218,
    "start_time": "2024-07-21T23:11:34.952Z"
   },
   {
    "duration": 270,
    "start_time": "2024-07-21T23:11:55.349Z"
   },
   {
    "duration": 222,
    "start_time": "2024-07-21T23:12:10.690Z"
   },
   {
    "duration": 389,
    "start_time": "2024-07-21T23:19:58.074Z"
   },
   {
    "duration": 255,
    "start_time": "2024-07-21T23:20:14.814Z"
   },
   {
    "duration": 9,
    "start_time": "2024-07-21T23:20:49.814Z"
   },
   {
    "duration": 251,
    "start_time": "2024-07-21T23:20:56.079Z"
   },
   {
    "duration": 269,
    "start_time": "2024-07-21T23:21:03.638Z"
   },
   {
    "duration": 294,
    "start_time": "2024-07-21T23:22:58.213Z"
   },
   {
    "duration": 1207,
    "start_time": "2024-07-21T23:24:37.334Z"
   },
   {
    "duration": 279,
    "start_time": "2024-07-21T23:24:38.545Z"
   },
   {
    "duration": 15,
    "start_time": "2024-07-21T23:24:38.827Z"
   },
   {
    "duration": 16,
    "start_time": "2024-07-21T23:24:38.847Z"
   },
   {
    "duration": 9,
    "start_time": "2024-07-21T23:24:38.868Z"
   },
   {
    "duration": 9,
    "start_time": "2024-07-21T23:24:38.911Z"
   },
   {
    "duration": 16,
    "start_time": "2024-07-21T23:24:38.923Z"
   },
   {
    "duration": 15,
    "start_time": "2024-07-21T23:24:38.942Z"
   },
   {
    "duration": 62,
    "start_time": "2024-07-21T23:24:38.960Z"
   },
   {
    "duration": 15,
    "start_time": "2024-07-21T23:24:39.025Z"
   },
   {
    "duration": 15,
    "start_time": "2024-07-21T23:24:39.043Z"
   },
   {
    "duration": 58,
    "start_time": "2024-07-21T23:24:39.061Z"
   },
   {
    "duration": 94,
    "start_time": "2024-07-21T23:24:39.123Z"
   },
   {
    "duration": 14,
    "start_time": "2024-07-21T23:24:39.226Z"
   },
   {
    "duration": 70,
    "start_time": "2024-07-21T23:24:39.243Z"
   },
   {
    "duration": 22,
    "start_time": "2024-07-21T23:24:39.317Z"
   },
   {
    "duration": 21,
    "start_time": "2024-07-21T23:24:39.343Z"
   },
   {
    "duration": 72,
    "start_time": "2024-07-21T23:24:39.366Z"
   },
   {
    "duration": 21,
    "start_time": "2024-07-21T23:24:39.441Z"
   },
   {
    "duration": 17,
    "start_time": "2024-07-21T23:24:39.465Z"
   },
   {
    "duration": 24,
    "start_time": "2024-07-21T23:24:39.513Z"
   },
   {
    "duration": 109,
    "start_time": "2024-07-21T23:24:39.540Z"
   },
   {
    "duration": 42,
    "start_time": "2024-07-21T23:24:39.651Z"
   },
   {
    "duration": 41,
    "start_time": "2024-07-21T23:24:39.696Z"
   },
   {
    "duration": 18,
    "start_time": "2024-07-21T23:24:39.741Z"
   },
   {
    "duration": 57,
    "start_time": "2024-07-21T23:24:39.761Z"
   },
   {
    "duration": 21,
    "start_time": "2024-07-21T23:24:39.821Z"
   },
   {
    "duration": 22,
    "start_time": "2024-07-21T23:24:39.845Z"
   },
   {
    "duration": 52,
    "start_time": "2024-07-21T23:24:39.869Z"
   },
   {
    "duration": 18,
    "start_time": "2024-07-21T23:24:39.924Z"
   },
   {
    "duration": 28,
    "start_time": "2024-07-21T23:24:39.945Z"
   },
   {
    "duration": 69,
    "start_time": "2024-07-21T23:24:39.976Z"
   },
   {
    "duration": 64,
    "start_time": "2024-07-21T23:24:40.049Z"
   },
   {
    "duration": 425,
    "start_time": "2024-07-21T23:24:40.115Z"
   },
   {
    "duration": 281,
    "start_time": "2024-07-21T23:24:40.544Z"
   },
   {
    "duration": 3,
    "start_time": "2024-07-21T23:24:40.830Z"
   },
   {
    "duration": 7,
    "start_time": "2024-07-21T23:24:40.837Z"
   },
   {
    "duration": 3,
    "start_time": "2024-07-21T23:24:40.847Z"
   },
   {
    "duration": 3,
    "start_time": "2024-07-21T23:24:40.854Z"
   },
   {
    "duration": 4,
    "start_time": "2024-07-21T23:24:40.860Z"
   },
   {
    "duration": 3,
    "start_time": "2024-07-21T23:24:40.916Z"
   },
   {
    "duration": 350,
    "start_time": "2024-07-21T23:25:42.739Z"
   },
   {
    "duration": 390,
    "start_time": "2024-07-21T23:25:54.279Z"
   },
   {
    "duration": 372,
    "start_time": "2024-07-21T23:26:22.206Z"
   },
   {
    "duration": 1225,
    "start_time": "2024-07-21T23:44:37.854Z"
   },
   {
    "duration": 6,
    "start_time": "2024-07-21T23:44:52.713Z"
   },
   {
    "duration": 7,
    "start_time": "2024-07-21T23:46:10.633Z"
   },
   {
    "duration": 7,
    "start_time": "2024-07-21T23:47:20.156Z"
   },
   {
    "duration": 7,
    "start_time": "2024-07-21T23:50:43.088Z"
   },
   {
    "duration": 10,
    "start_time": "2024-07-21T23:53:39.093Z"
   },
   {
    "duration": 10,
    "start_time": "2024-07-21T23:55:45.258Z"
   },
   {
    "duration": 14,
    "start_time": "2024-07-21T23:56:30.448Z"
   },
   {
    "duration": 14,
    "start_time": "2024-07-21T23:56:41.281Z"
   },
   {
    "duration": 14,
    "start_time": "2024-07-21T23:56:51.880Z"
   },
   {
    "duration": 11,
    "start_time": "2024-07-21T23:57:04.931Z"
   },
   {
    "duration": 116,
    "start_time": "2024-07-21T23:58:44.741Z"
   },
   {
    "duration": 157,
    "start_time": "2024-07-22T00:00:01.914Z"
   },
   {
    "duration": 16,
    "start_time": "2024-07-22T00:05:38.913Z"
   },
   {
    "duration": 150,
    "start_time": "2024-07-22T00:06:30.742Z"
   },
   {
    "duration": 480,
    "start_time": "2024-07-22T00:07:51.163Z"
   },
   {
    "duration": 89,
    "start_time": "2024-07-22T00:08:29.584Z"
   },
   {
    "duration": 668,
    "start_time": "2024-07-22T00:09:55.764Z"
   },
   {
    "duration": 29,
    "start_time": "2024-07-22T00:10:45.295Z"
   },
   {
    "duration": 21,
    "start_time": "2024-07-22T00:10:54.559Z"
   },
   {
    "duration": 15,
    "start_time": "2024-07-22T00:11:14.984Z"
   },
   {
    "duration": 22,
    "start_time": "2024-07-22T00:11:24.673Z"
   },
   {
    "duration": 796,
    "start_time": "2024-07-22T00:15:22.931Z"
   },
   {
    "duration": 702,
    "start_time": "2024-07-22T00:15:47.963Z"
   },
   {
    "duration": 854,
    "start_time": "2024-07-22T00:16:12.217Z"
   },
   {
    "duration": 699,
    "start_time": "2024-07-22T00:18:19.166Z"
   },
   {
    "duration": 684,
    "start_time": "2024-07-22T00:19:24.189Z"
   },
   {
    "duration": 721,
    "start_time": "2024-07-22T00:19:49.529Z"
   },
   {
    "duration": 4928,
    "start_time": "2024-07-22T02:11:22.074Z"
   },
   {
    "duration": 347,
    "start_time": "2024-07-22T02:11:27.007Z"
   },
   {
    "duration": 16,
    "start_time": "2024-07-22T02:11:27.356Z"
   },
   {
    "duration": 17,
    "start_time": "2024-07-22T02:11:27.374Z"
   },
   {
    "duration": 10,
    "start_time": "2024-07-22T02:11:27.395Z"
   },
   {
    "duration": 8,
    "start_time": "2024-07-22T02:11:27.432Z"
   },
   {
    "duration": 16,
    "start_time": "2024-07-22T02:11:27.444Z"
   },
   {
    "duration": 15,
    "start_time": "2024-07-22T02:11:27.463Z"
   },
   {
    "duration": 67,
    "start_time": "2024-07-22T02:11:27.481Z"
   },
   {
    "duration": 14,
    "start_time": "2024-07-22T02:11:27.554Z"
   },
   {
    "duration": 15,
    "start_time": "2024-07-22T02:11:27.572Z"
   },
   {
    "duration": 59,
    "start_time": "2024-07-22T02:11:27.590Z"
   },
   {
    "duration": 93,
    "start_time": "2024-07-22T02:11:27.651Z"
   },
   {
    "duration": 13,
    "start_time": "2024-07-22T02:11:27.752Z"
   },
   {
    "duration": 62,
    "start_time": "2024-07-22T02:11:27.768Z"
   },
   {
    "duration": 22,
    "start_time": "2024-07-22T02:11:27.834Z"
   },
   {
    "duration": 19,
    "start_time": "2024-07-22T02:11:27.859Z"
   },
   {
    "duration": 74,
    "start_time": "2024-07-22T02:11:27.881Z"
   },
   {
    "duration": 28,
    "start_time": "2024-07-22T02:11:27.958Z"
   },
   {
    "duration": 49,
    "start_time": "2024-07-22T02:11:27.989Z"
   },
   {
    "duration": 26,
    "start_time": "2024-07-22T02:11:28.041Z"
   },
   {
    "duration": 110,
    "start_time": "2024-07-22T02:11:28.069Z"
   },
   {
    "duration": 48,
    "start_time": "2024-07-22T02:11:28.183Z"
   },
   {
    "duration": 31,
    "start_time": "2024-07-22T02:11:28.234Z"
   },
   {
    "duration": 18,
    "start_time": "2024-07-22T02:11:28.268Z"
   },
   {
    "duration": 54,
    "start_time": "2024-07-22T02:11:28.290Z"
   },
   {
    "duration": 22,
    "start_time": "2024-07-22T02:11:28.347Z"
   },
   {
    "duration": 23,
    "start_time": "2024-07-22T02:11:28.372Z"
   },
   {
    "duration": 17,
    "start_time": "2024-07-22T02:11:28.431Z"
   },
   {
    "duration": 19,
    "start_time": "2024-07-22T02:11:28.451Z"
   },
   {
    "duration": 59,
    "start_time": "2024-07-22T02:11:28.473Z"
   },
   {
    "duration": 38,
    "start_time": "2024-07-22T02:11:28.535Z"
   },
   {
    "duration": 72,
    "start_time": "2024-07-22T02:11:28.577Z"
   },
   {
    "duration": 385,
    "start_time": "2024-07-22T02:11:28.652Z"
   },
   {
    "duration": 299,
    "start_time": "2024-07-22T02:11:29.041Z"
   },
   {
    "duration": 11,
    "start_time": "2024-07-22T02:11:29.343Z"
   },
   {
    "duration": 705,
    "start_time": "2024-07-22T02:11:29.358Z"
   },
   {
    "duration": 3,
    "start_time": "2024-07-22T02:11:30.067Z"
   },
   {
    "duration": 3,
    "start_time": "2024-07-22T02:11:30.074Z"
   },
   {
    "duration": 3,
    "start_time": "2024-07-22T02:11:30.081Z"
   },
   {
    "duration": 39,
    "start_time": "2024-07-22T02:11:30.093Z"
   },
   {
    "duration": 16,
    "start_time": "2024-07-22T02:18:36.130Z"
   },
   {
    "duration": 15519,
    "start_time": "2024-07-22T02:19:59.095Z"
   },
   {
    "duration": 12,
    "start_time": "2024-07-22T02:26:05.538Z"
   },
   {
    "duration": 352,
    "start_time": "2024-07-22T02:26:14.710Z"
   },
   {
    "duration": 11,
    "start_time": "2024-07-22T02:27:34.204Z"
   },
   {
    "duration": 11,
    "start_time": "2024-07-22T02:27:47.174Z"
   },
   {
    "duration": 325,
    "start_time": "2024-07-22T02:40:25.153Z"
   },
   {
    "duration": 362,
    "start_time": "2024-07-22T02:40:57.620Z"
   },
   {
    "duration": 10,
    "start_time": "2024-07-22T02:47:28.705Z"
   },
   {
    "duration": 12,
    "start_time": "2024-07-22T02:50:25.639Z"
   },
   {
    "duration": 954,
    "start_time": "2024-07-22T02:50:59.105Z"
   },
   {
    "duration": 10,
    "start_time": "2024-07-22T02:51:11.544Z"
   },
   {
    "duration": 33,
    "start_time": "2024-07-22T02:56:12.434Z"
   },
   {
    "duration": 677,
    "start_time": "2024-07-22T02:56:19.856Z"
   },
   {
    "duration": 678,
    "start_time": "2024-07-22T02:56:29.312Z"
   },
   {
    "duration": 731,
    "start_time": "2024-07-22T02:58:11.275Z"
   },
   {
    "duration": 800,
    "start_time": "2024-07-22T03:00:04.134Z"
   },
   {
    "duration": 717,
    "start_time": "2024-07-22T03:00:35.070Z"
   },
   {
    "duration": 712,
    "start_time": "2024-07-22T03:01:11.124Z"
   },
   {
    "duration": 42,
    "start_time": "2024-07-22T03:09:39.994Z"
   },
   {
    "duration": 11,
    "start_time": "2024-07-22T03:13:48.407Z"
   },
   {
    "duration": 11,
    "start_time": "2024-07-22T03:13:57.121Z"
   },
   {
    "duration": 40,
    "start_time": "2024-07-22T03:18:07.228Z"
   },
   {
    "duration": 18,
    "start_time": "2024-07-22T03:18:21.325Z"
   },
   {
    "duration": 16,
    "start_time": "2024-07-22T03:19:15.354Z"
   },
   {
    "duration": 42,
    "start_time": "2024-07-22T03:26:25.583Z"
   },
   {
    "duration": 363,
    "start_time": "2024-07-22T03:26:37.829Z"
   },
   {
    "duration": 380,
    "start_time": "2024-07-22T03:28:57.874Z"
   },
   {
    "duration": 257,
    "start_time": "2024-07-22T03:35:22.728Z"
   },
   {
    "duration": 12,
    "start_time": "2024-07-22T03:40:10.994Z"
   },
   {
    "duration": 11,
    "start_time": "2024-07-22T03:41:10.353Z"
   },
   {
    "duration": 10,
    "start_time": "2024-07-22T03:42:07.530Z"
   },
   {
    "duration": 25,
    "start_time": "2024-07-22T03:53:14.520Z"
   },
   {
    "duration": 25,
    "start_time": "2024-07-22T03:53:53.819Z"
   },
   {
    "duration": 421,
    "start_time": "2024-07-22T03:54:27.817Z"
   },
   {
    "duration": 516,
    "start_time": "2024-07-22T03:54:59.934Z"
   },
   {
    "duration": 309,
    "start_time": "2024-07-22T03:55:19.704Z"
   },
   {
    "duration": 283,
    "start_time": "2024-07-22T03:55:36.596Z"
   },
   {
    "duration": 13,
    "start_time": "2024-07-22T03:55:52.722Z"
   },
   {
    "duration": 11,
    "start_time": "2024-07-22T03:56:14.260Z"
   },
   {
    "duration": 790,
    "start_time": "2024-07-22T04:04:22.114Z"
   },
   {
    "duration": 694,
    "start_time": "2024-07-22T04:06:34.294Z"
   },
   {
    "duration": 1255,
    "start_time": "2024-07-22T04:13:44.845Z"
   },
   {
    "duration": 272,
    "start_time": "2024-07-22T04:13:46.103Z"
   },
   {
    "duration": 18,
    "start_time": "2024-07-22T04:13:46.378Z"
   },
   {
    "duration": 17,
    "start_time": "2024-07-22T04:13:46.399Z"
   },
   {
    "duration": 8,
    "start_time": "2024-07-22T04:13:46.434Z"
   },
   {
    "duration": 10,
    "start_time": "2024-07-22T04:13:46.445Z"
   },
   {
    "duration": 15,
    "start_time": "2024-07-22T04:13:46.459Z"
   },
   {
    "duration": 62,
    "start_time": "2024-07-22T04:13:46.476Z"
   },
   {
    "duration": 26,
    "start_time": "2024-07-22T04:13:46.541Z"
   },
   {
    "duration": 18,
    "start_time": "2024-07-22T04:13:46.569Z"
   },
   {
    "duration": 57,
    "start_time": "2024-07-22T04:13:46.593Z"
   },
   {
    "duration": 25,
    "start_time": "2024-07-22T04:13:46.654Z"
   },
   {
    "duration": 99,
    "start_time": "2024-07-22T04:13:46.681Z"
   },
   {
    "duration": 11,
    "start_time": "2024-07-22T04:13:46.787Z"
   },
   {
    "duration": 64,
    "start_time": "2024-07-22T04:13:46.801Z"
   },
   {
    "duration": 21,
    "start_time": "2024-07-22T04:13:46.868Z"
   },
   {
    "duration": 45,
    "start_time": "2024-07-22T04:13:46.892Z"
   },
   {
    "duration": 38,
    "start_time": "2024-07-22T04:13:46.940Z"
   },
   {
    "duration": 52,
    "start_time": "2024-07-22T04:13:46.982Z"
   },
   {
    "duration": 17,
    "start_time": "2024-07-22T04:13:47.037Z"
   },
   {
    "duration": 21,
    "start_time": "2024-07-22T04:13:47.057Z"
   },
   {
    "duration": 109,
    "start_time": "2024-07-22T04:13:47.081Z"
   },
   {
    "duration": 60,
    "start_time": "2024-07-22T04:13:47.193Z"
   },
   {
    "duration": 28,
    "start_time": "2024-07-22T04:13:47.255Z"
   },
   {
    "duration": 18,
    "start_time": "2024-07-22T04:13:47.286Z"
   },
   {
    "duration": 23,
    "start_time": "2024-07-22T04:13:47.331Z"
   },
   {
    "duration": 20,
    "start_time": "2024-07-22T04:13:47.356Z"
   },
   {
    "duration": 59,
    "start_time": "2024-07-22T04:13:47.379Z"
   },
   {
    "duration": 18,
    "start_time": "2024-07-22T04:13:47.441Z"
   },
   {
    "duration": 16,
    "start_time": "2024-07-22T04:13:47.462Z"
   },
   {
    "duration": 60,
    "start_time": "2024-07-22T04:13:47.481Z"
   },
   {
    "duration": 36,
    "start_time": "2024-07-22T04:13:47.544Z"
   },
   {
    "duration": 65,
    "start_time": "2024-07-22T04:13:47.583Z"
   },
   {
    "duration": 410,
    "start_time": "2024-07-22T04:13:47.651Z"
   },
   {
    "duration": 282,
    "start_time": "2024-07-22T04:13:48.064Z"
   },
   {
    "duration": 489,
    "start_time": "2024-07-22T04:13:48.350Z"
   },
   {
    "duration": 0,
    "start_time": "2024-07-22T04:13:48.842Z"
   },
   {
    "duration": 0,
    "start_time": "2024-07-22T04:13:48.845Z"
   },
   {
    "duration": 0,
    "start_time": "2024-07-22T04:13:48.847Z"
   },
   {
    "duration": 0,
    "start_time": "2024-07-22T04:13:48.849Z"
   },
   {
    "duration": 0,
    "start_time": "2024-07-22T04:13:48.852Z"
   },
   {
    "duration": 0,
    "start_time": "2024-07-22T04:13:48.855Z"
   },
   {
    "duration": 0,
    "start_time": "2024-07-22T04:13:48.857Z"
   },
   {
    "duration": 0,
    "start_time": "2024-07-22T04:13:48.860Z"
   },
   {
    "duration": 0,
    "start_time": "2024-07-22T04:13:48.862Z"
   },
   {
    "duration": 0,
    "start_time": "2024-07-22T04:13:48.865Z"
   },
   {
    "duration": 11,
    "start_time": "2024-07-22T04:15:06.981Z"
   },
   {
    "duration": 691,
    "start_time": "2024-07-22T04:15:10.424Z"
   },
   {
    "duration": 342,
    "start_time": "2024-07-22T04:15:14.944Z"
   },
   {
    "duration": 14,
    "start_time": "2024-07-22T04:15:18.034Z"
   },
   {
    "duration": 683,
    "start_time": "2024-07-22T04:15:20.701Z"
   },
   {
    "duration": 375,
    "start_time": "2024-07-22T04:15:25.119Z"
   },
   {
    "duration": 357,
    "start_time": "2024-07-22T04:15:28.892Z"
   },
   {
    "duration": 12,
    "start_time": "2024-07-22T04:15:31.948Z"
   },
   {
    "duration": 738,
    "start_time": "2024-07-22T04:15:34.694Z"
   },
   {
    "duration": 315,
    "start_time": "2024-07-22T17:20:18.720Z"
   },
   {
    "duration": 5007,
    "start_time": "2024-07-22T17:20:37.350Z"
   },
   {
    "duration": 388,
    "start_time": "2024-07-22T17:20:42.360Z"
   },
   {
    "duration": 18,
    "start_time": "2024-07-22T17:20:42.751Z"
   },
   {
    "duration": 39,
    "start_time": "2024-07-22T17:20:42.772Z"
   },
   {
    "duration": 9,
    "start_time": "2024-07-22T17:20:42.816Z"
   },
   {
    "duration": 9,
    "start_time": "2024-07-22T17:20:42.828Z"
   },
   {
    "duration": 17,
    "start_time": "2024-07-22T17:20:42.840Z"
   },
   {
    "duration": 56,
    "start_time": "2024-07-22T17:20:42.860Z"
   },
   {
    "duration": 24,
    "start_time": "2024-07-22T17:20:42.918Z"
   },
   {
    "duration": 16,
    "start_time": "2024-07-22T17:20:42.946Z"
   },
   {
    "duration": 56,
    "start_time": "2024-07-22T17:20:42.965Z"
   },
   {
    "duration": 30,
    "start_time": "2024-07-22T17:20:43.024Z"
   },
   {
    "duration": 109,
    "start_time": "2024-07-22T17:20:43.057Z"
   },
   {
    "duration": 12,
    "start_time": "2024-07-22T17:20:43.173Z"
   },
   {
    "duration": 38,
    "start_time": "2024-07-22T17:20:43.210Z"
   },
   {
    "duration": 24,
    "start_time": "2024-07-22T17:20:43.251Z"
   },
   {
    "duration": 49,
    "start_time": "2024-07-22T17:20:43.278Z"
   },
   {
    "duration": 40,
    "start_time": "2024-07-22T17:20:43.330Z"
   },
   {
    "duration": 23,
    "start_time": "2024-07-22T17:20:43.408Z"
   },
   {
    "duration": 17,
    "start_time": "2024-07-22T17:20:43.433Z"
   },
   {
    "duration": 57,
    "start_time": "2024-07-22T17:20:43.452Z"
   },
   {
    "duration": 98,
    "start_time": "2024-07-22T17:20:43.512Z"
   },
   {
    "duration": 42,
    "start_time": "2024-07-22T17:20:43.614Z"
   },
   {
    "duration": 57,
    "start_time": "2024-07-22T17:20:43.658Z"
   },
   {
    "duration": 18,
    "start_time": "2024-07-22T17:20:43.717Z"
   },
   {
    "duration": 24,
    "start_time": "2024-07-22T17:20:43.738Z"
   },
   {
    "duration": 56,
    "start_time": "2024-07-22T17:20:43.765Z"
   },
   {
    "duration": 23,
    "start_time": "2024-07-22T17:20:43.824Z"
   },
   {
    "duration": 16,
    "start_time": "2024-07-22T17:20:43.850Z"
   },
   {
    "duration": 60,
    "start_time": "2024-07-22T17:20:43.869Z"
   },
   {
    "duration": 39,
    "start_time": "2024-07-22T17:20:43.939Z"
   },
   {
    "duration": 60,
    "start_time": "2024-07-22T17:20:43.981Z"
   },
   {
    "duration": 42,
    "start_time": "2024-07-22T17:20:44.044Z"
   },
   {
    "duration": 393,
    "start_time": "2024-07-22T17:20:44.108Z"
   },
   {
    "duration": 312,
    "start_time": "2024-07-22T17:20:44.508Z"
   },
   {
    "duration": 13,
    "start_time": "2024-07-22T17:20:44.824Z"
   },
   {
    "duration": 755,
    "start_time": "2024-07-22T17:20:44.840Z"
   },
   {
    "duration": 439,
    "start_time": "2024-07-22T17:20:45.609Z"
   },
   {
    "duration": 15,
    "start_time": "2024-07-22T17:20:46.051Z"
   },
   {
    "duration": 704,
    "start_time": "2024-07-22T17:20:46.070Z"
   },
   {
    "duration": 382,
    "start_time": "2024-07-22T17:20:46.781Z"
   },
   {
    "duration": 282,
    "start_time": "2024-07-22T17:20:47.166Z"
   },
   {
    "duration": 12,
    "start_time": "2024-07-22T17:20:47.452Z"
   },
   {
    "duration": 729,
    "start_time": "2024-07-22T17:20:47.467Z"
   },
   {
    "duration": 12,
    "start_time": "2024-07-22T17:20:54.512Z"
   },
   {
    "duration": 503,
    "start_time": "2024-07-22T17:28:01.984Z"
   },
   {
    "duration": 325,
    "start_time": "2024-07-22T17:28:10.970Z"
   },
   {
    "duration": 348,
    "start_time": "2024-07-22T17:28:38.464Z"
   },
   {
    "duration": 343,
    "start_time": "2024-07-22T17:28:58.189Z"
   },
   {
    "duration": 330,
    "start_time": "2024-07-22T17:29:48.378Z"
   },
   {
    "duration": 360,
    "start_time": "2024-07-22T17:33:35.429Z"
   },
   {
    "duration": 11,
    "start_time": "2024-07-22T17:34:06.894Z"
   },
   {
    "duration": 31,
    "start_time": "2024-07-22T17:42:42.410Z"
   },
   {
    "duration": 276,
    "start_time": "2024-07-22T17:42:49.919Z"
   },
   {
    "duration": 7,
    "start_time": "2024-07-22T17:45:17.284Z"
   },
   {
    "duration": 11,
    "start_time": "2024-07-22T18:06:22.120Z"
   },
   {
    "duration": 11,
    "start_time": "2024-07-22T18:08:58.790Z"
   },
   {
    "duration": 698,
    "start_time": "2024-07-22T18:11:37.654Z"
   },
   {
    "duration": 5026,
    "start_time": "2024-07-22T21:09:59.846Z"
   },
   {
    "duration": 397,
    "start_time": "2024-07-22T21:10:04.876Z"
   },
   {
    "duration": 17,
    "start_time": "2024-07-22T21:10:05.276Z"
   },
   {
    "duration": 32,
    "start_time": "2024-07-22T21:10:05.300Z"
   },
   {
    "duration": 12,
    "start_time": "2024-07-22T21:10:05.338Z"
   },
   {
    "duration": 9,
    "start_time": "2024-07-22T21:10:05.354Z"
   },
   {
    "duration": 15,
    "start_time": "2024-07-22T21:10:05.367Z"
   },
   {
    "duration": 53,
    "start_time": "2024-07-22T21:10:05.385Z"
   },
   {
    "duration": 24,
    "start_time": "2024-07-22T21:10:05.446Z"
   },
   {
    "duration": 17,
    "start_time": "2024-07-22T21:10:05.473Z"
   },
   {
    "duration": 16,
    "start_time": "2024-07-22T21:10:05.525Z"
   },
   {
    "duration": 27,
    "start_time": "2024-07-22T21:10:05.544Z"
   },
   {
    "duration": 107,
    "start_time": "2024-07-22T21:10:05.574Z"
   },
   {
    "duration": 14,
    "start_time": "2024-07-22T21:10:05.688Z"
   },
   {
    "duration": 36,
    "start_time": "2024-07-22T21:10:05.726Z"
   },
   {
    "duration": 25,
    "start_time": "2024-07-22T21:10:05.765Z"
   },
   {
    "duration": 44,
    "start_time": "2024-07-22T21:10:05.793Z"
   },
   {
    "duration": 48,
    "start_time": "2024-07-22T21:10:05.840Z"
   },
   {
    "duration": 51,
    "start_time": "2024-07-22T21:10:05.893Z"
   },
   {
    "duration": 17,
    "start_time": "2024-07-22T21:10:05.946Z"
   },
   {
    "duration": 23,
    "start_time": "2024-07-22T21:10:05.968Z"
   },
   {
    "duration": 114,
    "start_time": "2024-07-22T21:10:05.994Z"
   },
   {
    "duration": 42,
    "start_time": "2024-07-22T21:10:06.127Z"
   },
   {
    "duration": 29,
    "start_time": "2024-07-22T21:10:06.173Z"
   },
   {
    "duration": 18,
    "start_time": "2024-07-22T21:10:06.227Z"
   },
   {
    "duration": 25,
    "start_time": "2024-07-22T21:10:06.248Z"
   },
   {
    "duration": 53,
    "start_time": "2024-07-22T21:10:06.276Z"
   },
   {
    "duration": 21,
    "start_time": "2024-07-22T21:10:06.334Z"
   },
   {
    "duration": 18,
    "start_time": "2024-07-22T21:10:06.359Z"
   },
   {
    "duration": 55,
    "start_time": "2024-07-22T21:10:06.380Z"
   },
   {
    "duration": 33,
    "start_time": "2024-07-22T21:10:06.438Z"
   },
   {
    "duration": 57,
    "start_time": "2024-07-22T21:10:06.474Z"
   },
   {
    "duration": 45,
    "start_time": "2024-07-22T21:10:06.535Z"
   },
   {
    "duration": 411,
    "start_time": "2024-07-22T21:10:06.584Z"
   },
   {
    "duration": 289,
    "start_time": "2024-07-22T21:10:06.999Z"
   },
   {
    "duration": 12,
    "start_time": "2024-07-22T21:10:07.293Z"
   },
   {
    "duration": 764,
    "start_time": "2024-07-22T21:10:07.308Z"
   },
   {
    "duration": 371,
    "start_time": "2024-07-22T21:10:08.075Z"
   },
   {
    "duration": 16,
    "start_time": "2024-07-22T21:10:08.448Z"
   },
   {
    "duration": 815,
    "start_time": "2024-07-22T21:10:08.467Z"
   },
   {
    "duration": 417,
    "start_time": "2024-07-22T21:10:09.291Z"
   },
   {
    "duration": 289,
    "start_time": "2024-07-22T21:10:09.710Z"
   },
   {
    "duration": 27,
    "start_time": "2024-07-22T21:10:10.002Z"
   },
   {
    "duration": 729,
    "start_time": "2024-07-22T21:10:10.032Z"
   },
   {
    "duration": 370,
    "start_time": "2024-07-22T21:10:10.766Z"
   },
   {
    "duration": 266,
    "start_time": "2024-07-22T21:10:11.139Z"
   },
   {
    "duration": 22,
    "start_time": "2024-07-22T21:10:11.408Z"
   },
   {
    "duration": 797,
    "start_time": "2024-07-22T21:10:11.433Z"
   },
   {
    "duration": 3,
    "start_time": "2024-07-22T21:10:12.233Z"
   },
   {
    "duration": 4,
    "start_time": "2024-07-22T21:10:12.239Z"
   },
   {
    "duration": 7,
    "start_time": "2024-07-22T21:12:11.367Z"
   },
   {
    "duration": 13,
    "start_time": "2024-07-22T21:17:25.296Z"
   },
   {
    "duration": 8,
    "start_time": "2024-07-22T21:18:25.855Z"
   },
   {
    "duration": 9,
    "start_time": "2024-07-22T21:26:37.418Z"
   },
   {
    "duration": 7,
    "start_time": "2024-07-22T21:30:36.394Z"
   },
   {
    "duration": 11,
    "start_time": "2024-07-22T21:37:44.568Z"
   },
   {
    "duration": 9,
    "start_time": "2024-07-22T21:51:45.158Z"
   },
   {
    "duration": 11,
    "start_time": "2024-07-22T21:52:20.265Z"
   },
   {
    "duration": 6,
    "start_time": "2024-07-22T21:52:35.344Z"
   },
   {
    "duration": 9,
    "start_time": "2024-07-22T21:52:45.197Z"
   },
   {
    "duration": 13,
    "start_time": "2024-07-22T21:53:28.999Z"
   },
   {
    "duration": 27,
    "start_time": "2024-07-22T21:57:05.278Z"
   },
   {
    "duration": 10,
    "start_time": "2024-07-22T22:05:12.698Z"
   },
   {
    "duration": 48,
    "start_time": "2024-07-22T22:05:25.510Z"
   },
   {
    "duration": 16,
    "start_time": "2024-07-22T22:09:27.818Z"
   },
   {
    "duration": 16,
    "start_time": "2024-07-22T22:13:41.880Z"
   },
   {
    "duration": 11,
    "start_time": "2024-07-22T22:39:16.413Z"
   },
   {
    "duration": 12,
    "start_time": "2024-07-22T22:40:06.332Z"
   },
   {
    "duration": 13,
    "start_time": "2024-07-23T18:27:13.813Z"
   },
   {
    "duration": 13,
    "start_time": "2024-07-23T20:43:49.095Z"
   },
   {
    "duration": 6,
    "start_time": "2024-07-23T20:45:00.183Z"
   },
   {
    "duration": 6,
    "start_time": "2024-07-23T20:45:09.300Z"
   },
   {
    "duration": 8,
    "start_time": "2024-07-23T20:46:01.650Z"
   },
   {
    "duration": 6,
    "start_time": "2024-07-23T20:47:07.893Z"
   },
   {
    "duration": 4805,
    "start_time": "2024-07-23T20:48:24.961Z"
   },
   {
    "duration": 361,
    "start_time": "2024-07-23T20:48:38.727Z"
   },
   {
    "duration": 40,
    "start_time": "2024-07-23T20:50:26.904Z"
   },
   {
    "duration": 15,
    "start_time": "2024-07-23T20:50:58.318Z"
   },
   {
    "duration": 8,
    "start_time": "2024-07-23T20:51:01.663Z"
   },
   {
    "duration": 8,
    "start_time": "2024-07-23T20:51:06.688Z"
   },
   {
    "duration": 1216,
    "start_time": "2024-07-23T20:53:34.829Z"
   },
   {
    "duration": 26,
    "start_time": "2024-07-23T20:53:47.704Z"
   },
   {
    "duration": 20,
    "start_time": "2024-07-23T20:54:13.078Z"
   },
   {
    "duration": 9,
    "start_time": "2024-07-23T20:54:36.344Z"
   },
   {
    "duration": 5,
    "start_time": "2024-07-23T20:55:05.629Z"
   },
   {
    "duration": 25,
    "start_time": "2024-07-23T21:00:42.667Z"
   },
   {
    "duration": 15,
    "start_time": "2024-07-23T21:00:59.143Z"
   },
   {
    "duration": 21,
    "start_time": "2024-07-23T21:07:15.654Z"
   },
   {
    "duration": 14,
    "start_time": "2024-07-23T21:07:35.888Z"
   },
   {
    "duration": 18,
    "start_time": "2024-07-23T21:07:57.608Z"
   },
   {
    "duration": 25,
    "start_time": "2024-07-23T21:17:03.443Z"
   },
   {
    "duration": 45,
    "start_time": "2024-07-23T21:17:16.748Z"
   },
   {
    "duration": 178,
    "start_time": "2024-07-23T21:23:00.359Z"
   },
   {
    "duration": 146,
    "start_time": "2024-07-23T21:24:38.248Z"
   },
   {
    "duration": 145,
    "start_time": "2024-07-23T21:25:02.464Z"
   },
   {
    "duration": 144,
    "start_time": "2024-07-23T21:25:24.029Z"
   },
   {
    "duration": 617,
    "start_time": "2024-07-23T21:27:46.661Z"
   },
   {
    "duration": 259,
    "start_time": "2024-07-23T21:28:28.223Z"
   },
   {
    "duration": 216,
    "start_time": "2024-07-23T21:28:37.578Z"
   },
   {
    "duration": 172,
    "start_time": "2024-07-23T21:31:08.303Z"
   },
   {
    "duration": 252,
    "start_time": "2024-07-23T21:31:44.973Z"
   },
   {
    "duration": 261,
    "start_time": "2024-07-23T21:33:41.058Z"
   },
   {
    "duration": 207,
    "start_time": "2024-07-23T21:34:23.561Z"
   },
   {
    "duration": 73,
    "start_time": "2024-07-23T21:37:32.913Z"
   },
   {
    "duration": 1246,
    "start_time": "2024-07-23T21:37:56.268Z"
   },
   {
    "duration": 277,
    "start_time": "2024-07-23T21:37:59.672Z"
   },
   {
    "duration": 38,
    "start_time": "2024-07-23T21:38:02.508Z"
   },
   {
    "duration": 15,
    "start_time": "2024-07-23T21:38:06.365Z"
   },
   {
    "duration": 9,
    "start_time": "2024-07-23T21:38:08.826Z"
   },
   {
    "duration": 8,
    "start_time": "2024-07-23T21:38:12.516Z"
   },
   {
    "duration": 15,
    "start_time": "2024-07-23T21:38:15.053Z"
   },
   {
    "duration": 23,
    "start_time": "2024-07-23T21:38:22.954Z"
   },
   {
    "duration": 15,
    "start_time": "2024-07-23T21:38:27.034Z"
   },
   {
    "duration": 21,
    "start_time": "2024-07-23T21:38:34.855Z"
   },
   {
    "duration": 14,
    "start_time": "2024-07-23T21:38:43.038Z"
   },
   {
    "duration": 15,
    "start_time": "2024-07-23T21:38:47.944Z"
   },
   {
    "duration": 43,
    "start_time": "2024-07-23T21:38:56.291Z"
   },
   {
    "duration": 70,
    "start_time": "2024-07-23T21:38:59.814Z"
   },
   {
    "duration": 527,
    "start_time": "2024-07-23T21:39:57.773Z"
   },
   {
    "duration": 88,
    "start_time": "2024-07-23T21:40:22.633Z"
   },
   {
    "duration": 86,
    "start_time": "2024-07-23T21:41:39.095Z"
   },
   {
    "duration": 11,
    "start_time": "2024-07-23T21:44:12.395Z"
   },
   {
    "duration": 25,
    "start_time": "2024-07-23T21:44:41.144Z"
   },
   {
    "duration": 26,
    "start_time": "2024-07-23T21:45:32.150Z"
   },
   {
    "duration": 21,
    "start_time": "2024-07-23T21:46:17.620Z"
   },
   {
    "duration": 12,
    "start_time": "2024-07-23T21:49:02.159Z"
   },
   {
    "duration": 41,
    "start_time": "2024-07-23T21:50:23.130Z"
   },
   {
    "duration": 22,
    "start_time": "2024-07-23T21:50:33.518Z"
   },
   {
    "duration": 219,
    "start_time": "2024-07-23T21:54:36.128Z"
   },
   {
    "duration": 206,
    "start_time": "2024-07-23T21:54:40.901Z"
   },
   {
    "duration": 23,
    "start_time": "2024-07-23T21:54:56.270Z"
   },
   {
    "duration": 12,
    "start_time": "2024-07-23T21:55:10.938Z"
   },
   {
    "duration": 24,
    "start_time": "2024-07-23T21:55:18.873Z"
   },
   {
    "duration": 27,
    "start_time": "2024-07-23T21:58:02.289Z"
   },
   {
    "duration": 139,
    "start_time": "2024-07-23T21:59:08.714Z"
   },
   {
    "duration": 10,
    "start_time": "2024-07-23T22:02:09.679Z"
   },
   {
    "duration": 869,
    "start_time": "2024-07-23T22:08:50.573Z"
   },
   {
    "duration": 34,
    "start_time": "2024-07-23T22:09:41.720Z"
   },
   {
    "duration": 7,
    "start_time": "2024-07-23T22:12:21.365Z"
   },
   {
    "duration": 18,
    "start_time": "2024-07-23T22:14:59.044Z"
   },
   {
    "duration": 27,
    "start_time": "2024-07-23T22:15:15.321Z"
   },
   {
    "duration": 39,
    "start_time": "2024-07-23T22:15:29.181Z"
   },
   {
    "duration": 22,
    "start_time": "2024-07-23T22:15:46.929Z"
   },
   {
    "duration": 40,
    "start_time": "2024-07-23T22:32:33.130Z"
   },
   {
    "duration": 37,
    "start_time": "2024-07-23T22:32:43.598Z"
   },
   {
    "duration": 75,
    "start_time": "2024-07-23T22:34:20.254Z"
   },
   {
    "duration": 28,
    "start_time": "2024-07-23T22:42:49.801Z"
   },
   {
    "duration": 15,
    "start_time": "2024-07-23T22:44:35.894Z"
   },
   {
    "duration": 9,
    "start_time": "2024-07-23T22:50:12.785Z"
   },
   {
    "duration": 17,
    "start_time": "2024-07-23T22:54:12.426Z"
   },
   {
    "duration": 4962,
    "start_time": "2024-07-23T23:41:06.590Z"
   },
   {
    "duration": 365,
    "start_time": "2024-07-23T23:41:16.775Z"
   },
   {
    "duration": 39,
    "start_time": "2024-07-23T23:41:22.677Z"
   },
   {
    "duration": 15,
    "start_time": "2024-07-23T23:41:28.258Z"
   },
   {
    "duration": 10,
    "start_time": "2024-07-23T23:41:31.444Z"
   },
   {
    "duration": 9,
    "start_time": "2024-07-23T23:41:35.036Z"
   },
   {
    "duration": 11,
    "start_time": "2024-07-23T23:41:37.585Z"
   },
   {
    "duration": 26,
    "start_time": "2024-07-23T23:41:55.626Z"
   },
   {
    "duration": 14,
    "start_time": "2024-07-23T23:42:00.302Z"
   },
   {
    "duration": 22,
    "start_time": "2024-07-23T23:42:06.513Z"
   },
   {
    "duration": 14,
    "start_time": "2024-07-23T23:42:10.004Z"
   },
   {
    "duration": 1221,
    "start_time": "2024-07-23T23:44:06.578Z"
   },
   {
    "duration": 267,
    "start_time": "2024-07-23T23:44:07.803Z"
   },
   {
    "duration": 48,
    "start_time": "2024-07-23T23:44:08.072Z"
   },
   {
    "duration": 15,
    "start_time": "2024-07-23T23:44:08.124Z"
   },
   {
    "duration": 9,
    "start_time": "2024-07-23T23:44:08.142Z"
   },
   {
    "duration": 9,
    "start_time": "2024-07-23T23:44:08.154Z"
   },
   {
    "duration": 47,
    "start_time": "2024-07-23T23:44:08.167Z"
   },
   {
    "duration": 23,
    "start_time": "2024-07-23T23:44:08.217Z"
   },
   {
    "duration": 14,
    "start_time": "2024-07-23T23:44:08.243Z"
   },
   {
    "duration": 63,
    "start_time": "2024-07-23T23:44:08.261Z"
   },
   {
    "duration": 13,
    "start_time": "2024-07-23T23:44:15.929Z"
   },
   {
    "duration": 15,
    "start_time": "2024-07-23T23:44:19.209Z"
   },
   {
    "duration": 44,
    "start_time": "2024-07-23T23:44:27.401Z"
   },
   {
    "duration": 12,
    "start_time": "2024-07-23T23:44:48.069Z"
   },
   {
    "duration": 105,
    "start_time": "2024-07-23T23:45:02.698Z"
   },
   {
    "duration": 13,
    "start_time": "2024-07-23T23:45:05.689Z"
   },
   {
    "duration": 35,
    "start_time": "2024-07-23T23:45:09.193Z"
   },
   {
    "duration": 23,
    "start_time": "2024-07-23T23:45:11.568Z"
   },
   {
    "duration": 38,
    "start_time": "2024-07-23T23:45:13.882Z"
   },
   {
    "duration": 26,
    "start_time": "2024-07-23T23:45:19.240Z"
   },
   {
    "duration": 39,
    "start_time": "2024-07-23T23:45:22.713Z"
   },
   {
    "duration": 24,
    "start_time": "2024-07-23T23:45:53.027Z"
   },
   {
    "duration": 17,
    "start_time": "2024-07-23T23:45:56.019Z"
   },
   {
    "duration": 39,
    "start_time": "2024-07-23T23:45:59.218Z"
   },
   {
    "duration": 79,
    "start_time": "2024-07-23T23:46:02.315Z"
   },
   {
    "duration": 29,
    "start_time": "2024-07-23T23:46:09.231Z"
   },
   {
    "duration": 16,
    "start_time": "2024-07-23T23:46:14.903Z"
   },
   {
    "duration": 10,
    "start_time": "2024-07-23T23:46:19.353Z"
   },
   {
    "duration": 16,
    "start_time": "2024-07-23T23:46:22.164Z"
   },
   {
    "duration": 24,
    "start_time": "2024-07-23T23:50:31.975Z"
   },
   {
    "duration": 17,
    "start_time": "2024-07-23T23:50:54.312Z"
   },
   {
    "duration": 17,
    "start_time": "2024-07-23T23:51:00.460Z"
   },
   {
    "duration": 14,
    "start_time": "2024-07-23T23:51:05.297Z"
   },
   {
    "duration": 19,
    "start_time": "2024-07-23T23:57:25.395Z"
   },
   {
    "duration": 22,
    "start_time": "2024-07-23T23:58:29.313Z"
   },
   {
    "duration": 24,
    "start_time": "2024-07-24T00:00:07.681Z"
   },
   {
    "duration": 13,
    "start_time": "2024-07-24T00:01:40.393Z"
   },
   {
    "duration": 20,
    "start_time": "2024-07-24T00:04:04.790Z"
   },
   {
    "duration": 7,
    "start_time": "2024-07-24T00:17:23.188Z"
   },
   {
    "duration": 34,
    "start_time": "2024-07-24T00:19:19.699Z"
   },
   {
    "duration": 1288,
    "start_time": "2024-07-24T00:22:33.868Z"
   },
   {
    "duration": 283,
    "start_time": "2024-07-24T00:22:35.160Z"
   },
   {
    "duration": 40,
    "start_time": "2024-07-24T00:22:35.445Z"
   },
   {
    "duration": 31,
    "start_time": "2024-07-24T00:22:35.488Z"
   },
   {
    "duration": 8,
    "start_time": "2024-07-24T00:22:35.524Z"
   },
   {
    "duration": 10,
    "start_time": "2024-07-24T00:22:35.536Z"
   },
   {
    "duration": 11,
    "start_time": "2024-07-24T00:22:35.549Z"
   },
   {
    "duration": 68,
    "start_time": "2024-07-24T00:22:35.563Z"
   },
   {
    "duration": 15,
    "start_time": "2024-07-24T00:22:35.635Z"
   },
   {
    "duration": 21,
    "start_time": "2024-07-24T00:22:35.656Z"
   },
   {
    "duration": 42,
    "start_time": "2024-07-24T00:22:35.680Z"
   },
   {
    "duration": 17,
    "start_time": "2024-07-24T00:22:35.726Z"
   },
   {
    "duration": 80,
    "start_time": "2024-07-24T00:22:35.746Z"
   },
   {
    "duration": 106,
    "start_time": "2024-07-24T00:22:35.833Z"
   },
   {
    "duration": 12,
    "start_time": "2024-07-24T00:22:35.942Z"
   },
   {
    "duration": 60,
    "start_time": "2024-07-24T00:22:35.958Z"
   },
   {
    "duration": 21,
    "start_time": "2024-07-24T00:22:36.021Z"
   },
   {
    "duration": 37,
    "start_time": "2024-07-24T00:22:36.046Z"
   },
   {
    "duration": 26,
    "start_time": "2024-07-24T00:22:36.113Z"
   },
   {
    "duration": 38,
    "start_time": "2024-07-24T00:22:36.142Z"
   },
   {
    "duration": 24,
    "start_time": "2024-07-24T00:22:36.213Z"
   },
   {
    "duration": 16,
    "start_time": "2024-07-24T00:22:36.239Z"
   },
   {
    "duration": 70,
    "start_time": "2024-07-24T00:22:36.258Z"
   },
   {
    "duration": 93,
    "start_time": "2024-07-24T00:22:36.332Z"
   },
   {
    "duration": 28,
    "start_time": "2024-07-24T00:22:36.428Z"
   },
   {
    "duration": 15,
    "start_time": "2024-07-24T00:22:36.459Z"
   },
   {
    "duration": 41,
    "start_time": "2024-07-24T00:22:36.477Z"
   },
   {
    "duration": 17,
    "start_time": "2024-07-24T00:22:36.521Z"
   },
   {
    "duration": 24,
    "start_time": "2024-07-24T00:22:36.541Z"
   },
   {
    "duration": 53,
    "start_time": "2024-07-24T00:22:36.568Z"
   },
   {
    "duration": 18,
    "start_time": "2024-07-24T00:22:36.624Z"
   },
   {
    "duration": 15,
    "start_time": "2024-07-24T00:22:36.645Z"
   },
   {
    "duration": 16,
    "start_time": "2024-07-24T00:22:44.732Z"
   },
   {
    "duration": 23,
    "start_time": "2024-07-24T00:24:14.408Z"
   },
   {
    "duration": 27,
    "start_time": "2024-07-24T00:26:03.838Z"
   },
   {
    "duration": 31,
    "start_time": "2024-07-24T00:31:57.062Z"
   },
   {
    "duration": 13,
    "start_time": "2024-07-24T00:33:20.929Z"
   },
   {
    "duration": 32,
    "start_time": "2024-07-24T00:34:28.454Z"
   },
   {
    "duration": 17,
    "start_time": "2024-07-24T00:38:12.164Z"
   },
   {
    "duration": 1289,
    "start_time": "2024-07-24T00:38:29.934Z"
   },
   {
    "duration": 26,
    "start_time": "2024-07-24T00:39:10.203Z"
   },
   {
    "duration": 26,
    "start_time": "2024-07-24T00:39:18.862Z"
   },
   {
    "duration": 12,
    "start_time": "2024-07-24T00:55:45.070Z"
   },
   {
    "duration": 15,
    "start_time": "2024-07-24T00:56:02.233Z"
   },
   {
    "duration": 381,
    "start_time": "2024-07-24T00:59:20.635Z"
   },
   {
    "duration": 281,
    "start_time": "2024-07-24T00:59:27.777Z"
   },
   {
    "duration": 14,
    "start_time": "2024-07-24T01:02:52.436Z"
   },
   {
    "duration": 4914,
    "start_time": "2024-07-24T03:22:32.712Z"
   },
   {
    "duration": 371,
    "start_time": "2024-07-24T03:22:37.631Z"
   },
   {
    "duration": 48,
    "start_time": "2024-07-24T03:22:38.005Z"
   },
   {
    "duration": 14,
    "start_time": "2024-07-24T03:22:38.056Z"
   },
   {
    "duration": 13,
    "start_time": "2024-07-24T03:22:38.105Z"
   },
   {
    "duration": 11,
    "start_time": "2024-07-24T03:22:38.121Z"
   },
   {
    "duration": 12,
    "start_time": "2024-07-24T03:22:38.134Z"
   },
   {
    "duration": 65,
    "start_time": "2024-07-24T03:22:38.149Z"
   },
   {
    "duration": 16,
    "start_time": "2024-07-24T03:22:38.218Z"
   },
   {
    "duration": 23,
    "start_time": "2024-07-24T03:22:38.237Z"
   },
   {
    "duration": 54,
    "start_time": "2024-07-24T03:22:38.265Z"
   },
   {
    "duration": 16,
    "start_time": "2024-07-24T03:22:38.322Z"
   },
   {
    "duration": 70,
    "start_time": "2024-07-24T03:22:38.341Z"
   },
   {
    "duration": 109,
    "start_time": "2024-07-24T03:22:38.419Z"
   },
   {
    "duration": 13,
    "start_time": "2024-07-24T03:22:38.531Z"
   },
   {
    "duration": 66,
    "start_time": "2024-07-24T03:22:38.547Z"
   },
   {
    "duration": 23,
    "start_time": "2024-07-24T03:22:38.619Z"
   },
   {
    "duration": 36,
    "start_time": "2024-07-24T03:22:38.644Z"
   },
   {
    "duration": 30,
    "start_time": "2024-07-24T03:22:38.707Z"
   },
   {
    "duration": 69,
    "start_time": "2024-07-24T03:22:38.740Z"
   },
   {
    "duration": 25,
    "start_time": "2024-07-24T03:22:38.811Z"
   },
   {
    "duration": 15,
    "start_time": "2024-07-24T03:22:38.838Z"
   },
   {
    "duration": 74,
    "start_time": "2024-07-24T03:22:38.857Z"
   },
   {
    "duration": 93,
    "start_time": "2024-07-24T03:22:38.934Z"
   },
   {
    "duration": 33,
    "start_time": "2024-07-24T03:22:39.030Z"
   },
   {
    "duration": 42,
    "start_time": "2024-07-24T03:22:39.067Z"
   },
   {
    "duration": 12,
    "start_time": "2024-07-24T03:22:39.113Z"
   },
   {
    "duration": 16,
    "start_time": "2024-07-24T03:22:39.128Z"
   },
   {
    "duration": 59,
    "start_time": "2024-07-24T03:22:39.147Z"
   },
   {
    "duration": 21,
    "start_time": "2024-07-24T03:22:39.209Z"
   },
   {
    "duration": 18,
    "start_time": "2024-07-24T03:22:39.233Z"
   },
   {
    "duration": 14,
    "start_time": "2024-07-24T03:22:39.254Z"
   },
   {
    "duration": 28,
    "start_time": "2024-07-24T03:22:39.307Z"
   },
   {
    "duration": 28,
    "start_time": "2024-07-24T03:22:39.338Z"
   },
   {
    "duration": 45,
    "start_time": "2024-07-24T03:22:39.370Z"
   },
   {
    "duration": 35,
    "start_time": "2024-07-24T03:22:39.418Z"
   },
   {
    "duration": 50,
    "start_time": "2024-07-24T03:22:39.456Z"
   },
   {
    "duration": 17,
    "start_time": "2024-07-24T03:22:39.509Z"
   },
   {
    "duration": 362,
    "start_time": "2024-07-24T03:23:03.709Z"
   },
   {
    "duration": 288,
    "start_time": "2024-07-24T03:23:06.410Z"
   },
   {
    "duration": 11,
    "start_time": "2024-07-24T03:24:04.515Z"
   },
   {
    "duration": 12,
    "start_time": "2024-07-24T03:26:02.712Z"
   },
   {
    "duration": 771,
    "start_time": "2024-07-24T03:28:08.677Z"
   },
   {
    "duration": 344,
    "start_time": "2024-07-24T03:28:53.415Z"
   },
   {
    "duration": 759,
    "start_time": "2024-07-24T03:32:34.284Z"
   },
   {
    "duration": 10,
    "start_time": "2024-07-24T03:34:47.048Z"
   },
   {
    "duration": 9,
    "start_time": "2024-07-24T03:36:46.433Z"
   },
   {
    "duration": 10,
    "start_time": "2024-07-24T03:36:59.576Z"
   },
   {
    "duration": 268,
    "start_time": "2024-07-24T03:44:31.720Z"
   },
   {
    "duration": 265,
    "start_time": "2024-07-24T03:45:09.999Z"
   },
   {
    "duration": 712,
    "start_time": "2024-07-24T03:45:37.469Z"
   },
   {
    "duration": 363,
    "start_time": "2024-07-24T03:50:03.780Z"
   },
   {
    "duration": 352,
    "start_time": "2024-07-24T03:51:02.890Z"
   },
   {
    "duration": 416,
    "start_time": "2024-07-24T03:52:53.699Z"
   },
   {
    "duration": 11,
    "start_time": "2024-07-24T03:53:06.314Z"
   },
   {
    "duration": 10,
    "start_time": "2024-07-24T03:54:29.015Z"
   },
   {
    "duration": 746,
    "start_time": "2024-07-24T04:00:53.760Z"
   },
   {
    "duration": 361,
    "start_time": "2024-07-24T04:01:20.682Z"
   },
   {
    "duration": 248,
    "start_time": "2024-07-24T04:01:43.811Z"
   },
   {
    "duration": 31,
    "start_time": "2024-07-24T04:03:30.155Z"
   },
   {
    "duration": 10,
    "start_time": "2024-07-24T04:03:37.830Z"
   },
   {
    "duration": 11,
    "start_time": "2024-07-24T04:05:06.090Z"
   },
   {
    "duration": 762,
    "start_time": "2024-07-24T04:05:32.730Z"
   },
   {
    "duration": 19,
    "start_time": "2024-07-24T04:15:11.305Z"
   },
   {
    "duration": 10,
    "start_time": "2024-07-24T04:17:28.226Z"
   },
   {
    "duration": 20,
    "start_time": "2024-07-24T04:17:41.964Z"
   },
   {
    "duration": 228,
    "start_time": "2024-07-24T04:18:59.239Z"
   },
   {
    "duration": 233,
    "start_time": "2024-07-24T04:19:19.580Z"
   },
   {
    "duration": 276,
    "start_time": "2024-07-24T04:19:26.735Z"
   },
   {
    "duration": 22,
    "start_time": "2024-07-24T04:25:45.979Z"
   },
   {
    "duration": 25,
    "start_time": "2024-07-24T04:26:10.818Z"
   },
   {
    "duration": 31,
    "start_time": "2024-07-24T04:26:19.768Z"
   },
   {
    "duration": 281,
    "start_time": "2024-07-24T04:26:28.149Z"
   },
   {
    "duration": 8,
    "start_time": "2024-07-24T04:30:04.764Z"
   },
   {
    "duration": 26,
    "start_time": "2024-07-24T04:30:12.479Z"
   },
   {
    "duration": 258,
    "start_time": "2024-07-24T04:30:54.815Z"
   },
   {
    "duration": 535,
    "start_time": "2024-07-24T04:37:15.243Z"
   },
   {
    "duration": 312,
    "start_time": "2024-07-24T04:37:49.436Z"
   },
   {
    "duration": 327,
    "start_time": "2024-07-24T04:39:29.002Z"
   },
   {
    "duration": 422,
    "start_time": "2024-07-24T04:39:57.845Z"
   },
   {
    "duration": 302,
    "start_time": "2024-07-24T04:45:40.254Z"
   },
   {
    "duration": 283,
    "start_time": "2024-07-24T04:46:31.574Z"
   },
   {
    "duration": 340,
    "start_time": "2024-07-24T04:48:33.428Z"
   },
   {
    "duration": 332,
    "start_time": "2024-07-24T04:48:57.710Z"
   },
   {
    "duration": 322,
    "start_time": "2024-07-24T04:50:13.554Z"
   },
   {
    "duration": 284,
    "start_time": "2024-07-24T04:50:41.824Z"
   },
   {
    "duration": 301,
    "start_time": "2024-07-24T04:51:08.795Z"
   },
   {
    "duration": 306,
    "start_time": "2024-07-24T04:52:38.740Z"
   },
   {
    "duration": 293,
    "start_time": "2024-07-24T04:53:50.757Z"
   },
   {
    "duration": 324,
    "start_time": "2024-07-24T04:54:57.773Z"
   },
   {
    "duration": 102,
    "start_time": "2024-07-24T04:56:11.970Z"
   },
   {
    "duration": 302,
    "start_time": "2024-07-24T04:56:27.383Z"
   },
   {
    "duration": 388,
    "start_time": "2024-07-24T04:56:39.679Z"
   },
   {
    "duration": 322,
    "start_time": "2024-07-24T04:56:57.735Z"
   },
   {
    "duration": 314,
    "start_time": "2024-07-24T04:57:11.609Z"
   },
   {
    "duration": 11,
    "start_time": "2024-07-24T05:12:14.219Z"
   },
   {
    "duration": 14,
    "start_time": "2024-07-24T05:18:32.230Z"
   },
   {
    "duration": 4,
    "start_time": "2024-07-24T05:34:23.934Z"
   },
   {
    "duration": 254,
    "start_time": "2024-07-24T05:34:23.942Z"
   },
   {
    "duration": 36,
    "start_time": "2024-07-24T05:34:24.199Z"
   },
   {
    "duration": 12,
    "start_time": "2024-07-24T05:34:24.238Z"
   },
   {
    "duration": 9,
    "start_time": "2024-07-24T05:34:24.255Z"
   },
   {
    "duration": 38,
    "start_time": "2024-07-24T05:34:24.268Z"
   },
   {
    "duration": 10,
    "start_time": "2024-07-24T05:34:24.309Z"
   },
   {
    "duration": 26,
    "start_time": "2024-07-24T05:34:24.322Z"
   },
   {
    "duration": 61,
    "start_time": "2024-07-24T05:34:24.351Z"
   },
   {
    "duration": 21,
    "start_time": "2024-07-24T05:34:24.415Z"
   },
   {
    "duration": 13,
    "start_time": "2024-07-24T05:34:24.443Z"
   },
   {
    "duration": 57,
    "start_time": "2024-07-24T05:34:24.460Z"
   },
   {
    "duration": 42,
    "start_time": "2024-07-24T05:34:24.521Z"
   },
   {
    "duration": 149,
    "start_time": "2024-07-24T05:34:24.566Z"
   },
   {
    "duration": 15,
    "start_time": "2024-07-24T05:34:24.718Z"
   },
   {
    "duration": 39,
    "start_time": "2024-07-24T05:34:24.736Z"
   },
   {
    "duration": 22,
    "start_time": "2024-07-24T05:34:24.807Z"
   },
   {
    "duration": 35,
    "start_time": "2024-07-24T05:34:24.832Z"
   },
   {
    "duration": 55,
    "start_time": "2024-07-24T05:34:24.870Z"
   },
   {
    "duration": 38,
    "start_time": "2024-07-24T05:34:24.929Z"
   },
   {
    "duration": 51,
    "start_time": "2024-07-24T05:34:24.970Z"
   },
   {
    "duration": 16,
    "start_time": "2024-07-24T05:34:25.023Z"
   },
   {
    "duration": 66,
    "start_time": "2024-07-24T05:34:25.042Z"
   },
   {
    "duration": 72,
    "start_time": "2024-07-24T05:34:25.110Z"
   },
   {
    "duration": 48,
    "start_time": "2024-07-24T05:34:25.184Z"
   },
   {
    "duration": 16,
    "start_time": "2024-07-24T05:34:25.235Z"
   },
   {
    "duration": 10,
    "start_time": "2024-07-24T05:34:25.254Z"
   },
   {
    "duration": 49,
    "start_time": "2024-07-24T05:34:25.267Z"
   },
   {
    "duration": 23,
    "start_time": "2024-07-24T05:34:25.325Z"
   },
   {
    "duration": 16,
    "start_time": "2024-07-24T05:34:25.351Z"
   },
   {
    "duration": 18,
    "start_time": "2024-07-24T05:34:25.406Z"
   },
   {
    "duration": 15,
    "start_time": "2024-07-24T05:34:25.427Z"
   },
   {
    "duration": 62,
    "start_time": "2024-07-24T05:34:25.445Z"
   },
   {
    "duration": 29,
    "start_time": "2024-07-24T05:34:25.511Z"
   },
   {
    "duration": 13,
    "start_time": "2024-07-24T05:34:25.543Z"
   },
   {
    "duration": 70,
    "start_time": "2024-07-24T05:34:25.559Z"
   },
   {
    "duration": 16,
    "start_time": "2024-07-24T05:34:25.632Z"
   },
   {
    "duration": 17,
    "start_time": "2024-07-24T05:34:25.651Z"
   },
   {
    "duration": 387,
    "start_time": "2024-07-24T05:34:25.671Z"
   },
   {
    "duration": 287,
    "start_time": "2024-07-24T05:34:26.061Z"
   },
   {
    "duration": 10,
    "start_time": "2024-07-24T05:34:26.352Z"
   },
   {
    "duration": 10,
    "start_time": "2024-07-24T05:34:26.365Z"
   },
   {
    "duration": 733,
    "start_time": "2024-07-24T05:34:26.378Z"
   },
   {
    "duration": 380,
    "start_time": "2024-07-24T05:34:27.114Z"
   },
   {
    "duration": 278,
    "start_time": "2024-07-24T05:34:27.497Z"
   },
   {
    "duration": 9,
    "start_time": "2024-07-24T05:34:27.778Z"
   },
   {
    "duration": 23,
    "start_time": "2024-07-24T05:34:27.790Z"
   },
   {
    "duration": 838,
    "start_time": "2024-07-24T05:34:27.816Z"
   },
   {
    "duration": 384,
    "start_time": "2024-07-24T05:34:28.658Z"
   },
   {
    "duration": 269,
    "start_time": "2024-07-24T05:34:29.046Z"
   },
   {
    "duration": 12,
    "start_time": "2024-07-24T05:34:29.318Z"
   },
   {
    "duration": 11,
    "start_time": "2024-07-24T05:34:29.333Z"
   },
   {
    "duration": 729,
    "start_time": "2024-07-24T05:34:29.348Z"
   },
   {
    "duration": 381,
    "start_time": "2024-07-24T05:34:30.079Z"
   },
   {
    "duration": 277,
    "start_time": "2024-07-24T05:34:30.463Z"
   },
   {
    "duration": 11,
    "start_time": "2024-07-24T05:34:30.743Z"
   },
   {
    "duration": 10,
    "start_time": "2024-07-24T05:34:30.757Z"
   },
   {
    "duration": 846,
    "start_time": "2024-07-24T05:34:30.770Z"
   },
   {
    "duration": 319,
    "start_time": "2024-07-24T05:34:31.621Z"
   },
   {
    "duration": 329,
    "start_time": "2024-07-24T05:34:31.943Z"
   },
   {
    "duration": 11,
    "start_time": "2024-07-24T05:34:32.276Z"
   },
   {
    "duration": 14,
    "start_time": "2024-07-24T05:34:32.307Z"
   },
   {
    "duration": 1244,
    "start_time": "2024-07-24T05:35:14.839Z"
   },
   {
    "duration": 271,
    "start_time": "2024-07-24T05:35:16.086Z"
   },
   {
    "duration": 38,
    "start_time": "2024-07-24T05:35:16.360Z"
   },
   {
    "duration": 15,
    "start_time": "2024-07-24T05:35:16.409Z"
   },
   {
    "duration": 9,
    "start_time": "2024-07-24T05:35:16.427Z"
   },
   {
    "duration": 8,
    "start_time": "2024-07-24T05:35:16.440Z"
   },
   {
    "duration": 57,
    "start_time": "2024-07-24T05:35:16.451Z"
   },
   {
    "duration": 30,
    "start_time": "2024-07-24T05:35:16.511Z"
   },
   {
    "duration": 16,
    "start_time": "2024-07-24T05:35:16.543Z"
   },
   {
    "duration": 54,
    "start_time": "2024-07-24T05:35:16.565Z"
   },
   {
    "duration": 15,
    "start_time": "2024-07-24T05:35:16.622Z"
   },
   {
    "duration": 16,
    "start_time": "2024-07-24T05:35:16.640Z"
   },
   {
    "duration": 77,
    "start_time": "2024-07-24T05:35:16.658Z"
   },
   {
    "duration": 106,
    "start_time": "2024-07-24T05:35:16.738Z"
   },
   {
    "duration": 13,
    "start_time": "2024-07-24T05:35:16.847Z"
   },
   {
    "duration": 65,
    "start_time": "2024-07-24T05:35:16.862Z"
   },
   {
    "duration": 26,
    "start_time": "2024-07-24T05:35:16.930Z"
   },
   {
    "duration": 69,
    "start_time": "2024-07-24T05:35:16.960Z"
   },
   {
    "duration": 29,
    "start_time": "2024-07-24T05:35:17.032Z"
   },
   {
    "duration": 62,
    "start_time": "2024-07-24T05:35:17.064Z"
   },
   {
    "duration": 23,
    "start_time": "2024-07-24T05:35:17.130Z"
   },
   {
    "duration": 15,
    "start_time": "2024-07-24T05:35:17.156Z"
   },
   {
    "duration": 67,
    "start_time": "2024-07-24T05:35:17.174Z"
   },
   {
    "duration": 96,
    "start_time": "2024-07-24T05:35:17.244Z"
   },
   {
    "duration": 29,
    "start_time": "2024-07-24T05:35:17.344Z"
   },
   {
    "duration": 36,
    "start_time": "2024-07-24T05:35:17.376Z"
   },
   {
    "duration": 10,
    "start_time": "2024-07-24T05:35:17.415Z"
   },
   {
    "duration": 16,
    "start_time": "2024-07-24T05:35:17.433Z"
   },
   {
    "duration": 64,
    "start_time": "2024-07-24T05:35:17.453Z"
   },
   {
    "duration": 18,
    "start_time": "2024-07-24T05:35:17.520Z"
   },
   {
    "duration": 17,
    "start_time": "2024-07-24T05:35:17.542Z"
   },
   {
    "duration": 52,
    "start_time": "2024-07-24T05:35:17.562Z"
   },
   {
    "duration": 30,
    "start_time": "2024-07-24T05:35:17.617Z"
   },
   {
    "duration": 29,
    "start_time": "2024-07-24T05:35:17.649Z"
   },
   {
    "duration": 13,
    "start_time": "2024-07-24T05:35:17.707Z"
   },
   {
    "duration": 33,
    "start_time": "2024-07-24T05:35:17.723Z"
   },
   {
    "duration": 48,
    "start_time": "2024-07-24T05:35:17.759Z"
   },
   {
    "duration": 16,
    "start_time": "2024-07-24T05:35:17.810Z"
   },
   {
    "duration": 404,
    "start_time": "2024-07-24T05:35:17.829Z"
   },
   {
    "duration": 289,
    "start_time": "2024-07-24T05:35:18.236Z"
   },
   {
    "duration": 12,
    "start_time": "2024-07-24T05:35:18.528Z"
   },
   {
    "duration": 12,
    "start_time": "2024-07-24T05:35:18.543Z"
   },
   {
    "duration": 798,
    "start_time": "2024-07-24T05:35:18.557Z"
   },
   {
    "duration": 354,
    "start_time": "2024-07-24T05:35:19.358Z"
   },
   {
    "duration": 280,
    "start_time": "2024-07-24T05:35:19.714Z"
   },
   {
    "duration": 16,
    "start_time": "2024-07-24T05:35:19.997Z"
   },
   {
    "duration": 11,
    "start_time": "2024-07-24T05:35:20.016Z"
   },
   {
    "duration": 715,
    "start_time": "2024-07-24T05:35:20.030Z"
   },
   {
    "duration": 379,
    "start_time": "2024-07-24T05:35:20.748Z"
   },
   {
    "duration": 291,
    "start_time": "2024-07-24T05:35:21.130Z"
   },
   {
    "duration": 11,
    "start_time": "2024-07-24T05:35:21.424Z"
   },
   {
    "duration": 10,
    "start_time": "2024-07-24T05:35:21.438Z"
   },
   {
    "duration": 800,
    "start_time": "2024-07-24T05:35:21.451Z"
   },
   {
    "duration": 379,
    "start_time": "2024-07-24T05:35:22.254Z"
   },
   {
    "duration": 273,
    "start_time": "2024-07-24T05:35:22.636Z"
   },
   {
    "duration": 12,
    "start_time": "2024-07-24T05:35:22.911Z"
   },
   {
    "duration": 12,
    "start_time": "2024-07-24T05:35:22.926Z"
   },
   {
    "duration": 746,
    "start_time": "2024-07-24T05:35:22.941Z"
   },
   {
    "duration": 348,
    "start_time": "2024-07-24T05:35:23.691Z"
   },
   {
    "duration": 304,
    "start_time": "2024-07-24T05:35:24.042Z"
   },
   {
    "duration": 15,
    "start_time": "2024-07-24T05:35:24.350Z"
   },
   {
    "duration": 40,
    "start_time": "2024-07-24T05:35:24.369Z"
   },
   {
    "duration": 4802,
    "start_time": "2024-07-31T05:08:12.375Z"
   },
   {
    "duration": 411,
    "start_time": "2024-07-31T05:08:17.181Z"
   },
   {
    "duration": 46,
    "start_time": "2024-07-31T05:08:17.594Z"
   },
   {
    "duration": 15,
    "start_time": "2024-07-31T05:08:17.645Z"
   },
   {
    "duration": 9,
    "start_time": "2024-07-31T05:08:17.666Z"
   },
   {
    "duration": 9,
    "start_time": "2024-07-31T05:08:17.679Z"
   },
   {
    "duration": 47,
    "start_time": "2024-07-31T05:08:17.691Z"
   },
   {
    "duration": 25,
    "start_time": "2024-07-31T05:08:17.741Z"
   },
   {
    "duration": 14,
    "start_time": "2024-07-31T05:08:17.769Z"
   },
   {
    "duration": 24,
    "start_time": "2024-07-31T05:08:17.826Z"
   },
   {
    "duration": 14,
    "start_time": "2024-07-31T05:08:17.853Z"
   },
   {
    "duration": 18,
    "start_time": "2024-07-31T05:08:17.870Z"
   },
   {
    "duration": 46,
    "start_time": "2024-07-31T05:08:17.926Z"
   },
   {
    "duration": 123,
    "start_time": "2024-07-31T05:08:17.976Z"
   },
   {
    "duration": 25,
    "start_time": "2024-07-31T05:08:18.104Z"
   },
   {
    "duration": 36,
    "start_time": "2024-07-31T05:08:18.132Z"
   },
   {
    "duration": 22,
    "start_time": "2024-07-31T05:08:18.171Z"
   },
   {
    "duration": 37,
    "start_time": "2024-07-31T05:08:18.227Z"
   },
   {
    "duration": 31,
    "start_time": "2024-07-31T05:08:18.267Z"
   },
   {
    "duration": 38,
    "start_time": "2024-07-31T05:08:18.330Z"
   },
   {
    "duration": 24,
    "start_time": "2024-07-31T05:08:18.371Z"
   },
   {
    "duration": 41,
    "start_time": "2024-07-31T05:08:18.398Z"
   },
   {
    "duration": 38,
    "start_time": "2024-07-31T05:08:18.442Z"
   },
   {
    "duration": 102,
    "start_time": "2024-07-31T05:08:18.483Z"
   },
   {
    "duration": 48,
    "start_time": "2024-07-31T05:08:18.588Z"
   },
   {
    "duration": 15,
    "start_time": "2024-07-31T05:08:18.640Z"
   },
   {
    "duration": 10,
    "start_time": "2024-07-31T05:08:18.658Z"
   },
   {
    "duration": 53,
    "start_time": "2024-07-31T05:08:18.676Z"
   },
   {
    "duration": 24,
    "start_time": "2024-07-31T05:08:18.731Z"
   },
   {
    "duration": 17,
    "start_time": "2024-07-31T05:08:18.758Z"
   },
   {
    "duration": 54,
    "start_time": "2024-07-31T05:08:18.777Z"
   },
   {
    "duration": 15,
    "start_time": "2024-07-31T05:08:18.835Z"
   },
   {
    "duration": 28,
    "start_time": "2024-07-31T05:08:18.853Z"
   },
   {
    "duration": 62,
    "start_time": "2024-07-31T05:08:18.885Z"
   },
   {
    "duration": 14,
    "start_time": "2024-07-31T05:08:18.950Z"
   },
   {
    "duration": 61,
    "start_time": "2024-07-31T05:08:18.967Z"
   },
   {
    "duration": 16,
    "start_time": "2024-07-31T05:08:19.031Z"
   },
   {
    "duration": 15,
    "start_time": "2024-07-31T05:08:19.050Z"
   },
   {
    "duration": 397,
    "start_time": "2024-07-31T05:08:19.067Z"
   },
   {
    "duration": 299,
    "start_time": "2024-07-31T05:08:19.468Z"
   },
   {
    "duration": 12,
    "start_time": "2024-07-31T05:08:19.769Z"
   },
   {
    "duration": 12,
    "start_time": "2024-07-31T05:08:19.784Z"
   },
   {
    "duration": 714,
    "start_time": "2024-07-31T05:08:19.828Z"
   },
   {
    "duration": 420,
    "start_time": "2024-07-31T05:08:20.545Z"
   },
   {
    "duration": 287,
    "start_time": "2024-07-31T05:08:20.968Z"
   },
   {
    "duration": 11,
    "start_time": "2024-07-31T05:08:21.258Z"
   },
   {
    "duration": 10,
    "start_time": "2024-07-31T05:08:21.272Z"
   },
   {
    "duration": 709,
    "start_time": "2024-07-31T05:08:21.285Z"
   },
   {
    "duration": 370,
    "start_time": "2024-07-31T05:08:21.997Z"
   },
   {
    "duration": 271,
    "start_time": "2024-07-31T05:08:22.371Z"
   },
   {
    "duration": 12,
    "start_time": "2024-07-31T05:08:22.645Z"
   },
   {
    "duration": 11,
    "start_time": "2024-07-31T05:08:22.660Z"
   },
   {
    "duration": 710,
    "start_time": "2024-07-31T05:08:22.675Z"
   },
   {
    "duration": 379,
    "start_time": "2024-07-31T05:08:23.389Z"
   },
   {
    "duration": 361,
    "start_time": "2024-07-31T05:08:23.771Z"
   },
   {
    "duration": 10,
    "start_time": "2024-07-31T05:08:24.135Z"
   },
   {
    "duration": 11,
    "start_time": "2024-07-31T05:08:24.147Z"
   },
   {
    "duration": 703,
    "start_time": "2024-07-31T05:08:24.161Z"
   },
   {
    "duration": 344,
    "start_time": "2024-07-31T05:08:24.867Z"
   },
   {
    "duration": 307,
    "start_time": "2024-07-31T05:08:25.214Z"
   },
   {
    "duration": 12,
    "start_time": "2024-07-31T05:08:25.526Z"
   },
   {
    "duration": 14,
    "start_time": "2024-07-31T05:08:25.542Z"
   },
   {
    "duration": 13,
    "start_time": "2024-07-31T05:11:41.977Z"
   },
   {
    "duration": 9,
    "start_time": "2024-07-31T05:12:06.933Z"
   },
   {
    "duration": 421,
    "start_time": "2024-07-31T05:12:30.419Z"
   },
   {
    "duration": 7,
    "start_time": "2024-07-31T05:14:55.708Z"
   },
   {
    "duration": 25,
    "start_time": "2024-07-31T05:16:21.233Z"
   },
   {
    "duration": 8,
    "start_time": "2024-07-31T05:18:57.938Z"
   },
   {
    "duration": 9,
    "start_time": "2024-07-31T05:19:10.398Z"
   },
   {
    "duration": 6,
    "start_time": "2024-07-31T05:19:19.389Z"
   },
   {
    "duration": 7,
    "start_time": "2024-07-31T05:20:11.091Z"
   },
   {
    "duration": 7,
    "start_time": "2024-07-31T05:21:00.861Z"
   },
   {
    "duration": 9,
    "start_time": "2024-07-31T05:21:32.361Z"
   },
   {
    "duration": 27,
    "start_time": "2024-07-31T05:22:36.682Z"
   },
   {
    "duration": 12,
    "start_time": "2024-07-31T05:23:15.276Z"
   },
   {
    "duration": 12,
    "start_time": "2024-07-31T05:24:03.763Z"
   },
   {
    "duration": 13,
    "start_time": "2024-07-31T05:24:22.538Z"
   },
   {
    "duration": 7,
    "start_time": "2024-07-31T05:25:22.450Z"
   },
   {
    "duration": 7,
    "start_time": "2024-07-31T05:25:27.299Z"
   },
   {
    "duration": 11,
    "start_time": "2024-07-31T05:27:30.274Z"
   },
   {
    "duration": 6,
    "start_time": "2024-07-31T05:27:43.986Z"
   },
   {
    "duration": 7,
    "start_time": "2024-07-31T05:30:24.193Z"
   }
  ],
  "colab": {
   "provenance": []
  },
  "kernelspec": {
   "display_name": "Python 3",
   "language": "python",
   "name": "python3"
  },
  "language_info": {
   "codemirror_mode": {
    "name": "ipython",
    "version": 3
   },
   "file_extension": ".py",
   "mimetype": "text/x-python",
   "name": "python",
   "nbconvert_exporter": "python",
   "pygments_lexer": "ipython3",
   "version": "3.11.9"
  },
  "toc": {
   "base_numbering": 1,
   "nav_menu": {},
   "number_sections": true,
   "sideBar": true,
   "skip_h1_title": false,
   "title_cell": "Table of Contents",
   "title_sidebar": "Contents",
   "toc_cell": false,
   "toc_position": {
    "height": "calc(100% - 180px)",
    "left": "10px",
    "top": "150px",
    "width": "165px"
   },
   "toc_section_display": true,
   "toc_window_display": true
  }
 },
 "nbformat": 4,
 "nbformat_minor": 1
}
