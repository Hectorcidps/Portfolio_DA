{
 "cells": [
  {
   "cell_type": "markdown",
   "metadata": {},
   "source": [
    "# 1.  Diccionario de datos\n",
    "\n",
    "# dataSet proyect_sql_result_01 \n",
    "\n",
    "* company_name: nombre de la empresa de taxis\n",
    "\n",
    "* trips_amount: el número de viajes de cada compañía de taxis el 15 y 16 de noviembre de 2017. \n",
    "\n",
    "# dataSet proyect_sql_result_04\n",
    "\n",
    "* dropoff_location_name: barrios de Chicago donde finalizaron los viajes\n",
    "\n",
    "* average_trips: el promedio de viajes que terminaron en cada barrio en noviembre de 2017.\n",
    "\n",
    "# dataSet proyect_sql_result_07 (prueba de hipótesis)\n",
    "\n",
    "* start_ts: fecha y hora de la recogida\n",
    "\n",
    "* weather_conditions: condiciones climáticas en el momento en el que comenzó el viaje\n",
    "\n",
    "* duration_seconds: duración del viaje en segundos"
   ]
  },
  {
   "cell_type": "code",
   "execution_count": 1,
   "metadata": {},
   "outputs": [],
   "source": [
    "# importar librerias \n",
    "import pandas as pd \n",
    "import matplotlib.pyplot as plt\n",
    "import scipy.stats as st\n",
    "import numpy as np\n",
    "import seaborn as sns"
   ]
  },
  {
   "cell_type": "code",
   "execution_count": 3,
   "metadata": {},
   "outputs": [],
   "source": [
    "# importar datos \n",
    "df_01 = pd.read_csv('./datasets/moved_project_sql_result_01.csv')\n",
    "df_04 = pd.read_csv('./datasets/moved_project_sql_result_04.csv')\n",
    "df_07 = pd.read_csv('./datasets/moved_project_sql_result_07.csv')"
   ]
  },
  {
   "cell_type": "markdown",
   "metadata": {},
   "source": [
    "# 2. dataSet 01"
   ]
  },
  {
   "cell_type": "code",
   "execution_count": 3,
   "metadata": {},
   "outputs": [
    {
     "name": "stdout",
     "output_type": "stream",
     "text": [
      "                      company_name  trips_amount\n",
      "0                        Flash Cab         19558\n",
      "1        Taxi Affiliation Services         11422\n",
      "2                Medallion Leasing         10367\n",
      "3                       Yellow Cab          9888\n",
      "4  Taxi Affiliation Service Yellow          9299\n",
      "<class 'pandas.core.frame.DataFrame'>\n",
      "RangeIndex: 64 entries, 0 to 63\n",
      "Data columns (total 2 columns):\n",
      " #   Column        Non-Null Count  Dtype \n",
      "---  ------        --------------  ----- \n",
      " 0   company_name  64 non-null     object\n",
      " 1   trips_amount  64 non-null     int64 \n",
      "dtypes: int64(1), object(1)\n",
      "memory usage: 1.1+ KB\n"
     ]
    },
    {
     "data": {
      "text/html": [
       "<div>\n",
       "<style scoped>\n",
       "    .dataframe tbody tr th:only-of-type {\n",
       "        vertical-align: middle;\n",
       "    }\n",
       "\n",
       "    .dataframe tbody tr th {\n",
       "        vertical-align: top;\n",
       "    }\n",
       "\n",
       "    .dataframe thead th {\n",
       "        text-align: right;\n",
       "    }\n",
       "</style>\n",
       "<table border=\"1\" class=\"dataframe\">\n",
       "  <thead>\n",
       "    <tr style=\"text-align: right;\">\n",
       "      <th></th>\n",
       "      <th>trips_amount</th>\n",
       "    </tr>\n",
       "  </thead>\n",
       "  <tbody>\n",
       "    <tr>\n",
       "      <th>count</th>\n",
       "      <td>64.000000</td>\n",
       "    </tr>\n",
       "    <tr>\n",
       "      <th>mean</th>\n",
       "      <td>2145.484375</td>\n",
       "    </tr>\n",
       "    <tr>\n",
       "      <th>std</th>\n",
       "      <td>3812.310186</td>\n",
       "    </tr>\n",
       "    <tr>\n",
       "      <th>min</th>\n",
       "      <td>2.000000</td>\n",
       "    </tr>\n",
       "    <tr>\n",
       "      <th>25%</th>\n",
       "      <td>20.750000</td>\n",
       "    </tr>\n",
       "    <tr>\n",
       "      <th>50%</th>\n",
       "      <td>178.500000</td>\n",
       "    </tr>\n",
       "    <tr>\n",
       "      <th>75%</th>\n",
       "      <td>2106.500000</td>\n",
       "    </tr>\n",
       "    <tr>\n",
       "      <th>max</th>\n",
       "      <td>19558.000000</td>\n",
       "    </tr>\n",
       "  </tbody>\n",
       "</table>\n",
       "</div>"
      ],
      "text/plain": [
       "       trips_amount\n",
       "count     64.000000\n",
       "mean    2145.484375\n",
       "std     3812.310186\n",
       "min        2.000000\n",
       "25%       20.750000\n",
       "50%      178.500000\n",
       "75%     2106.500000\n",
       "max    19558.000000"
      ]
     },
     "execution_count": 3,
     "metadata": {},
     "output_type": "execute_result"
    }
   ],
   "source": [
    "# mostrar Información general del DF \n",
    "print(df_01.head())\n",
    "df_01.info()\n",
    "df_01.describe()"
   ]
  },
  {
   "cell_type": "markdown",
   "metadata": {},
   "source": [
    "# 2.1 preparar datos"
   ]
  },
  {
   "cell_type": "code",
   "execution_count": 4,
   "metadata": {},
   "outputs": [
    {
     "name": "stdout",
     "output_type": "stream",
     "text": [
      "0\n"
     ]
    }
   ],
   "source": [
    "# verificar valores nulos \n",
    "df_01_duplicados = df_01.duplicated().sum()\n",
    "print(df_01_duplicados)"
   ]
  },
  {
   "cell_type": "code",
   "execution_count": 5,
   "metadata": {},
   "outputs": [
    {
     "name": "stdout",
     "output_type": "stream",
     "text": [
      "company_name    0\n",
      "trips_amount    0\n",
      "dtype: int64\n"
     ]
    }
   ],
   "source": [
    "# verificar valores ausentes \n",
    "df_01_ausentes = df_01.isna().sum()\n",
    "print(df_01_ausentes)"
   ]
  },
  {
   "cell_type": "code",
   "execution_count": 6,
   "metadata": {
    "scrolled": false
   },
   "outputs": [
    {
     "name": "stdout",
     "output_type": "stream",
     "text": [
      "['Flash Cab' 'Taxi Affiliation Services' 'Medallion Leasing' 'Yellow Cab'\n",
      " 'Taxi Affiliation Service Yellow' 'Chicago Carriage Cab Corp'\n",
      " 'City Service' 'Sun Taxi' 'Star North Management LLC'\n",
      " 'Blue Ribbon Taxi Association Inc.' 'Choice Taxi Association'\n",
      " 'Globe Taxi' 'Dispatch Taxi Affiliation' 'Nova Taxi Affiliation Llc'\n",
      " 'Patriot Taxi Dba Peace Taxi Association' 'Checker Taxi Affiliation'\n",
      " 'Blue Diamond' 'Chicago Medallion Management' '24 Seven Taxi'\n",
      " 'Chicago Medallion Leasing INC' 'Checker Taxi' 'American United'\n",
      " 'Chicago Independents' 'KOAM Taxi Association' 'Chicago Taxicab'\n",
      " 'Top Cab Affiliation' 'Gold Coast Taxi' 'Service Taxi Association'\n",
      " '5 Star Taxi' '303 Taxi' 'Setare Inc' 'American United Taxi Affiliation'\n",
      " 'Leonard Cab Co' 'Metro Jet Taxi A' 'Norshore Cab'\n",
      " '6742 - 83735 Tasha Ride Inc' '3591 - 63480 Chuks Cab'\n",
      " '1469 - 64126 Omar Jada' '6743 - 78771 Luhak Corp'\n",
      " '0118 - 42111 Godfrey S. Awir' '6574 - Babylon Express Inc.'\n",
      " 'Chicago Star Taxicab' '1085 - 72312 N and W Cab Co'\n",
      " '2809 - 95474 C & D Cab Co Inc.' '2092 - 61288 Sbeih Company'\n",
      " '3011 - 66308 JBL Cab Inc.' '3620 - 52292 David K. Cab Corp.'\n",
      " '4615 - 83503 Tyrone Henderson' '3623 - 72222 Arrington Enterprises'\n",
      " '5074 - 54002 Ahzmi Inc' '2823 - 73307 Lee Express Inc'\n",
      " '4623 - 27290 Jay Kim' '3721 - Santamaria Express'\n",
      " '5006 - 39261 Salifu Bawa' '2192 - 73487 Zeymane Corp'\n",
      " '6057 - 24657 Richard Addo' '5997 - 65283 AW Services Inc.' 'Metro Group'\n",
      " '5062 - 34841 Sam Mestas' '4053 - 40193 Adwar H. Nikola'\n",
      " '2733 - 74600 Benny Jona' '5874 - 73628 Sergey Cab Corp.'\n",
      " '2241 - 44667 - Felman Corp' '3556 - 36214 RC Andrews Cab']\n"
     ]
    }
   ],
   "source": [
    "# revisar valores unicos de los nombres de compañias\n",
    "valores_unicos = df_01['company_name'].unique()\n",
    "print(valores_unicos)"
   ]
  },
  {
   "cell_type": "code",
   "execution_count": 7,
   "metadata": {},
   "outputs": [
    {
     "name": "stdout",
     "output_type": "stream",
     "text": [
      "Total de valores unicos: 64\n"
     ]
    }
   ],
   "source": [
    "# cantidad de valores unicos\n",
    "valores_unicos_01 = df_01['company_name'].nunique()\n",
    "print(f'Total de valores unicos: {valores_unicos_01}')"
   ]
  },
  {
   "cell_type": "markdown",
   "metadata": {},
   "source": [
    "<span style=\"color:blue; font-weight:bold\">\n",
    "Al revisar el DF 01 no se encontraron valores ausentes ni duplicados, además los tipos de datos son correctos por lo cual no es necesario modificarlos. Por ultimo se revisaron los valores unicos para la columna company_name y no se encontraron errores, también arroja un valor de 64 el cual coincide con el total de datos en el DF\n",
    "</span>"
   ]
  },
  {
   "cell_type": "markdown",
   "metadata": {},
   "source": [
    "# 3. dataSet 04"
   ]
  },
  {
   "cell_type": "code",
   "execution_count": 8,
   "metadata": {},
   "outputs": [
    {
     "name": "stdout",
     "output_type": "stream",
     "text": [
      "<bound method NDFrame.head of    dropoff_location_name  average_trips\n",
      "0                   Loop   10727.466667\n",
      "1            River North    9523.666667\n",
      "2          Streeterville    6664.666667\n",
      "3              West Loop    5163.666667\n",
      "4                 O'Hare    2546.900000\n",
      "..                   ...            ...\n",
      "89       Mount Greenwood       3.137931\n",
      "90             Hegewisch       3.117647\n",
      "91              Burnside       2.333333\n",
      "92             East Side       1.961538\n",
      "93             Riverdale       1.800000\n",
      "\n",
      "[94 rows x 2 columns]>\n",
      "<class 'pandas.core.frame.DataFrame'>\n",
      "RangeIndex: 94 entries, 0 to 93\n",
      "Data columns (total 2 columns):\n",
      " #   Column                 Non-Null Count  Dtype  \n",
      "---  ------                 --------------  -----  \n",
      " 0   dropoff_location_name  94 non-null     object \n",
      " 1   average_trips          94 non-null     float64\n",
      "dtypes: float64(1), object(1)\n",
      "memory usage: 1.6+ KB\n"
     ]
    },
    {
     "data": {
      "text/html": [
       "<div>\n",
       "<style scoped>\n",
       "    .dataframe tbody tr th:only-of-type {\n",
       "        vertical-align: middle;\n",
       "    }\n",
       "\n",
       "    .dataframe tbody tr th {\n",
       "        vertical-align: top;\n",
       "    }\n",
       "\n",
       "    .dataframe thead th {\n",
       "        text-align: right;\n",
       "    }\n",
       "</style>\n",
       "<table border=\"1\" class=\"dataframe\">\n",
       "  <thead>\n",
       "    <tr style=\"text-align: right;\">\n",
       "      <th></th>\n",
       "      <th>average_trips</th>\n",
       "    </tr>\n",
       "  </thead>\n",
       "  <tbody>\n",
       "    <tr>\n",
       "      <th>count</th>\n",
       "      <td>94.000000</td>\n",
       "    </tr>\n",
       "    <tr>\n",
       "      <th>mean</th>\n",
       "      <td>599.953728</td>\n",
       "    </tr>\n",
       "    <tr>\n",
       "      <th>std</th>\n",
       "      <td>1714.591098</td>\n",
       "    </tr>\n",
       "    <tr>\n",
       "      <th>min</th>\n",
       "      <td>1.800000</td>\n",
       "    </tr>\n",
       "    <tr>\n",
       "      <th>25%</th>\n",
       "      <td>14.266667</td>\n",
       "    </tr>\n",
       "    <tr>\n",
       "      <th>50%</th>\n",
       "      <td>52.016667</td>\n",
       "    </tr>\n",
       "    <tr>\n",
       "      <th>75%</th>\n",
       "      <td>298.858333</td>\n",
       "    </tr>\n",
       "    <tr>\n",
       "      <th>max</th>\n",
       "      <td>10727.466667</td>\n",
       "    </tr>\n",
       "  </tbody>\n",
       "</table>\n",
       "</div>"
      ],
      "text/plain": [
       "       average_trips\n",
       "count      94.000000\n",
       "mean      599.953728\n",
       "std      1714.591098\n",
       "min         1.800000\n",
       "25%        14.266667\n",
       "50%        52.016667\n",
       "75%       298.858333\n",
       "max     10727.466667"
      ]
     },
     "execution_count": 8,
     "metadata": {},
     "output_type": "execute_result"
    }
   ],
   "source": [
    "print(df_04.head)\n",
    "df_04.info()\n",
    "df_04.describe()"
   ]
  },
  {
   "cell_type": "markdown",
   "metadata": {},
   "source": [
    "# 3.1 preparar datos"
   ]
  },
  {
   "cell_type": "code",
   "execution_count": 9,
   "metadata": {},
   "outputs": [
    {
     "name": "stdout",
     "output_type": "stream",
     "text": [
      "0\n"
     ]
    }
   ],
   "source": [
    "# verificar valores duplicados\n",
    "df_04_duplicados = df_04.duplicated().sum()\n",
    "print(df_04_duplicados)"
   ]
  },
  {
   "cell_type": "code",
   "execution_count": 10,
   "metadata": {},
   "outputs": [
    {
     "name": "stdout",
     "output_type": "stream",
     "text": [
      "dropoff_location_name    0\n",
      "average_trips            0\n",
      "dtype: int64\n"
     ]
    }
   ],
   "source": [
    "# verificar valores ausentes\n",
    "df_04_ausentes = df_04.isna().sum()\n",
    "print(df_04_ausentes)"
   ]
  },
  {
   "cell_type": "code",
   "execution_count": 11,
   "metadata": {
    "scrolled": true
   },
   "outputs": [
    {
     "name": "stdout",
     "output_type": "stream",
     "text": [
      "['Loop' 'River North' 'Streeterville' 'West Loop' \"O'Hare\" 'Lake View'\n",
      " 'Grant Park' 'Museum Campus' 'Gold Coast' 'Sheffield & DePaul'\n",
      " 'Lincoln Park' 'East Village' 'Little Italy, UIC' 'Uptown'\n",
      " 'Near South Side' 'Garfield Ridge' 'Logan Square' 'Edgewater' 'West Town'\n",
      " 'Old Town' 'Rush & Division' 'North Center' 'Lincoln Square'\n",
      " 'Rogers Park' 'West Ridge' 'Irving Park' 'Hyde Park' 'Avondale'\n",
      " 'Wicker Park' 'Albany Park' 'United Center' 'Lower West Side' 'Douglas'\n",
      " 'Portage Park' 'Humboldt Park' 'Norwood Park' 'Kenwood' 'Bridgeport'\n",
      " 'Armour Square' 'Jefferson Park' 'Bucktown' 'North Park' 'Garfield Park'\n",
      " 'Mckinley Park' 'Belmont Cragin' 'Boystown' 'Chinatown' 'Grand Boulevard'\n",
      " 'Austin' 'Sauganash,Forest Glen' 'South Shore' 'Woodlawn'\n",
      " 'Little Village' 'Jackson Park' 'North Lawndale' 'Dunning'\n",
      " 'Ukrainian Village' 'Hermosa' 'Englewood' 'Chatham' 'New City'\n",
      " 'Grand Crossing' 'Brighton Park' 'Andersonville' 'Oakland' 'Ashburn'\n",
      " 'Washington Park' 'Auburn Gresham' 'Clearing' 'Roseland' 'Wrigleyville'\n",
      " 'Edison Park' 'South Chicago' 'Chicago Lawn' 'Beverly' 'Calumet Heights'\n",
      " 'Washington Heights' 'Archer Heights' 'Gage Park' 'Fuller Park'\n",
      " 'West Lawn' 'Morgan Park' 'South Deering' 'Avalon Park' 'West Pullman'\n",
      " 'Montclare' 'West Elsdon' 'Pullman' 'Undef' 'Mount Greenwood' 'Hegewisch'\n",
      " 'Burnside' 'East Side' 'Riverdale']\n"
     ]
    }
   ],
   "source": [
    "# revisar valores unicos de los nombres de los barrios\n",
    "valores_unicos_04 = df_04['dropoff_location_name'].unique()\n",
    "print(valores_unicos_04)"
   ]
  },
  {
   "cell_type": "code",
   "execution_count": 12,
   "metadata": {},
   "outputs": [
    {
     "name": "stdout",
     "output_type": "stream",
     "text": [
      "Total de valores unicos: 94\n"
     ]
    }
   ],
   "source": [
    "# cantidad de valores unicos\n",
    "valor_unicos_04 = df_04['dropoff_location_name'].nunique()\n",
    "print(f'Total de valores unicos: {valor_unicos_04}')"
   ]
  },
  {
   "cell_type": "markdown",
   "metadata": {},
   "source": [
    "<span style=\"color:blue; font-weight:bold\">\n",
    "Al revisar el DF 04 no se encontraron valores ausentes ni duplicados, además los tipos de datos son correctos por lo cual no es necesario modificarlos. También se revisaron los valores unicos de la columna dropoff_location_name y no se encontraron errores. Arrojo un total de 94 valores únicos los cuales coinciden con los datos en el Df.\n",
    "</span>"
   ]
  },
  {
   "cell_type": "markdown",
   "metadata": {},
   "source": [
    "# 4. Analizar datos "
   ]
  },
  {
   "cell_type": "code",
   "execution_count": 13,
   "metadata": {
    "scrolled": true
   },
   "outputs": [
    {
     "name": "stdout",
     "output_type": "stream",
     "text": [
      "   dropoff_location_name  average_trips\n",
      "50                  Loop      10727.467\n",
      "68           River North       9523.667\n",
      "78         Streeterville       6664.667\n",
      "87             West Loop       5163.667\n",
      "63                O'Hare       2546.900\n",
      "44             Lake View       2420.967\n",
      "35            Grant Park       2068.533\n",
      "56         Museum Campus       1510.000\n",
      "32            Gold Coast       1364.233\n",
      "74    Sheffield & DePaul       1259.767\n"
     ]
    }
   ],
   "source": [
    "# identificar los 10 principales barrios en términos de finalizacion de recorridos\n",
    "barrios_viajes = df_04.groupby('dropoff_location_name')['average_trips'].sum().reset_index()\n",
    "barrios_viajes = barrios_viajes.sort_values(by='average_trips', ascending=False).round(3)\n",
    "\n",
    "print(barrios_viajes.head(10))"
   ]
  },
  {
   "cell_type": "code",
   "execution_count": 14,
   "metadata": {},
   "outputs": [
    {
     "name": "stdout",
     "output_type": "stream",
     "text": [
      "   dropoff_location_name  average_trips\n",
      "50                  Loop      10727.467\n",
      "68           River North       9523.667\n",
      "78         Streeterville       6664.667\n",
      "87             West Loop       5163.667\n",
      "63                O'Hare       2546.900\n",
      "44             Lake View       2420.967\n",
      "35            Grant Park       2068.533\n",
      "56         Museum Campus       1510.000\n",
      "32            Gold Coast       1364.233\n",
      "74    Sheffield & DePaul       1259.767\n"
     ]
    }
   ],
   "source": [
    "# filtro top 10 de barrios \n",
    "filtro_top10 = barrios_viajes.iloc[:10]\n",
    "print(filtro_top10)"
   ]
  },
  {
   "cell_type": "code",
   "execution_count": 15,
   "metadata": {},
   "outputs": [
    {
     "data": {
      "image/png": "[encoded data removed]",
      "text/plain": [
       "<Figure size 1000x600 with 1 Axes>"
      ]
     },
     "metadata": {},
     "output_type": "display_data"
    }
   ],
   "source": [
    "# graficar barrios \n",
    "filtro_top10.plot(title= 'Top 10 Barrios con mejores promedios de finalización de viajes',\n",
    "                  x= 'dropoff_location_name',\n",
    "                    xlabel= 'Barrio',\n",
    "                    ylabel='promedio de viajes',\n",
    "                  kind= 'bar', \n",
    "                  rot=90, \n",
    "                  color= 'slategrey',\n",
    "                  figsize = [10,6],\n",
    "                  legend=False)\n",
    "plt.grid(axis='y')\n",
    "plt.show()"
   ]
  },
  {
   "cell_type": "markdown",
   "metadata": {},
   "source": [
    "<span style=\"color:blue; font-weight:bold\">\n",
    "En este primer gráfico se muestra el top 10 de barrios y su promedio de viajes finalizados, al analizar los datos se obtiene que Loop es el barrio con mejor promedio, seguido por River North y Streeterville y Sheffield & DePaul es el ultimo dentro de este top 10. Sin embargo después de West Loop, el promedio baja considerablemente.\n",
    "</span>"
   ]
  },
  {
   "cell_type": "code",
   "execution_count": 16,
   "metadata": {},
   "outputs": [
    {
     "name": "stdout",
     "output_type": "stream",
     "text": [
      "                       company_name  trips_amount\n",
      "45                        Flash Cab         19558\n",
      "61        Taxi Affiliation Services         11422\n",
      "50                Medallion Leasing         10367\n",
      "63                       Yellow Cab          9888\n",
      "60  Taxi Affiliation Service Yellow          9299\n",
      "..                              ...           ...\n",
      "17     4053 - 40193 Adwar H. Nikola             7\n",
      "7           2733 - 74600 Benny Jona             7\n",
      "24    5874 - 73628 Sergey Cab Corp.             5\n",
      "5        2241 - 44667 - Felman Corp             3\n",
      "12      3556 - 36214 RC Andrews Cab             2\n",
      "\n",
      "[64 rows x 2 columns]\n"
     ]
    }
   ],
   "source": [
    "# Empresas de taxis y su numero de viajes\n",
    "empresas_viajes = df_01.groupby('company_name')['trips_amount'].sum().reset_index()\n",
    "empresas_viajes = empresas_viajes.sort_values(by='trips_amount', ascending=False)\n",
    "print(empresas_viajes)"
   ]
  },
  {
   "cell_type": "code",
   "execution_count": 17,
   "metadata": {},
   "outputs": [
    {
     "name": "stdout",
     "output_type": "stream",
     "text": [
      "                         company_name  trips_amount\n",
      "45                          Flash Cab         19558\n",
      "61          Taxi Affiliation Services         11422\n",
      "50                  Medallion Leasing         10367\n",
      "63                         Yellow Cab          9888\n",
      "60    Taxi Affiliation Service Yellow          9299\n",
      "36          Chicago Carriage Cab Corp          9181\n",
      "43                       City Service          8448\n",
      "59                           Sun Taxi          7701\n",
      "58          Star North Management LLC          7455\n",
      "33  Blue Ribbon Taxi Association Inc.          5953\n"
     ]
    }
   ],
   "source": [
    "filtro_empresas = empresas_viajes.iloc[:10]\n",
    "print(filtro_empresas)"
   ]
  },
  {
   "cell_type": "code",
   "execution_count": 18,
   "metadata": {},
   "outputs": [
    {
     "data": {
      "image/png": "[encoded data removed]",
      "text/plain": [
       "<Figure size 1000x600 with 1 Axes>"
      ]
     },
     "metadata": {},
     "output_type": "display_data"
    }
   ],
   "source": [
    "# graficar el numero de viajes realizados por las empresas\n",
    "filtro_empresas.plot(title='Top 10 de las empresas con mayores números de viajes',\n",
    "                     x='company_name',\n",
    "                     xlabel='Nombre de la compañia',\n",
    "                     ylabel= 'Número de viajes',\n",
    "                     kind='bar', \n",
    "                     figsize=[10,6],\n",
    "                     color= 'sandybrown', \n",
    "                     legend=False)\n",
    "plt.show()"
   ]
  },
  {
   "cell_type": "markdown",
   "metadata": {},
   "source": [
    "<span style=\"color:blue; font-weight:bold\">\n",
    "En este otro gráfico se analizaron las compañías con mejores números de viajes, siendo Flash Cab la top 1 de este análisis, es importante notar que esta compañía podría ser la preferida por los usuarios debido a la gran diferencia con las demás, ya que la siguiente empresa dentro de este top es Taxi Affiliation Services y se observa facilmente que realmente existe una gran distancia entre Flash Cab y esta. Por otra parte a partir de Taxi Affilation Services las demás empresas se muestran constantes en el número de viajes realizados.\n",
    "</span>"
   ]
  },
  {
   "cell_type": "markdown",
   "metadata": {},
   "source": [
    "# 5. dataSet 07"
   ]
  },
  {
   "cell_type": "code",
   "execution_count": 19,
   "metadata": {},
   "outputs": [
    {
     "name": "stdout",
     "output_type": "stream",
     "text": [
      "<bound method NDFrame.head of                  start_ts weather_conditions  duration_seconds\n",
      "0     2017-11-25 16:00:00               Good            2410.0\n",
      "1     2017-11-25 14:00:00               Good            1920.0\n",
      "2     2017-11-25 12:00:00               Good            1543.0\n",
      "3     2017-11-04 10:00:00               Good            2512.0\n",
      "4     2017-11-11 07:00:00               Good            1440.0\n",
      "...                   ...                ...               ...\n",
      "1063  2017-11-25 11:00:00               Good               0.0\n",
      "1064  2017-11-11 10:00:00               Good            1318.0\n",
      "1065  2017-11-11 13:00:00               Good            2100.0\n",
      "1066  2017-11-11 08:00:00               Good            1380.0\n",
      "1067  2017-11-04 16:00:00                Bad            2834.0\n",
      "\n",
      "[1068 rows x 3 columns]>\n",
      "<class 'pandas.core.frame.DataFrame'>\n",
      "RangeIndex: 1068 entries, 0 to 1067\n",
      "Data columns (total 3 columns):\n",
      " #   Column              Non-Null Count  Dtype  \n",
      "---  ------              --------------  -----  \n",
      " 0   start_ts            1068 non-null   object \n",
      " 1   weather_conditions  1068 non-null   object \n",
      " 2   duration_seconds    1068 non-null   float64\n",
      "dtypes: float64(1), object(2)\n",
      "memory usage: 25.2+ KB\n"
     ]
    },
    {
     "data": {
      "text/html": [
       "<div>\n",
       "<style scoped>\n",
       "    .dataframe tbody tr th:only-of-type {\n",
       "        vertical-align: middle;\n",
       "    }\n",
       "\n",
       "    .dataframe tbody tr th {\n",
       "        vertical-align: top;\n",
       "    }\n",
       "\n",
       "    .dataframe thead th {\n",
       "        text-align: right;\n",
       "    }\n",
       "</style>\n",
       "<table border=\"1\" class=\"dataframe\">\n",
       "  <thead>\n",
       "    <tr style=\"text-align: right;\">\n",
       "      <th></th>\n",
       "      <th>duration_seconds</th>\n",
       "    </tr>\n",
       "  </thead>\n",
       "  <tbody>\n",
       "    <tr>\n",
       "      <th>count</th>\n",
       "      <td>1068.000000</td>\n",
       "    </tr>\n",
       "    <tr>\n",
       "      <th>mean</th>\n",
       "      <td>2071.731273</td>\n",
       "    </tr>\n",
       "    <tr>\n",
       "      <th>std</th>\n",
       "      <td>769.461125</td>\n",
       "    </tr>\n",
       "    <tr>\n",
       "      <th>min</th>\n",
       "      <td>0.000000</td>\n",
       "    </tr>\n",
       "    <tr>\n",
       "      <th>25%</th>\n",
       "      <td>1438.250000</td>\n",
       "    </tr>\n",
       "    <tr>\n",
       "      <th>50%</th>\n",
       "      <td>1980.000000</td>\n",
       "    </tr>\n",
       "    <tr>\n",
       "      <th>75%</th>\n",
       "      <td>2580.000000</td>\n",
       "    </tr>\n",
       "    <tr>\n",
       "      <th>max</th>\n",
       "      <td>7440.000000</td>\n",
       "    </tr>\n",
       "  </tbody>\n",
       "</table>\n",
       "</div>"
      ],
      "text/plain": [
       "       duration_seconds\n",
       "count       1068.000000\n",
       "mean        2071.731273\n",
       "std          769.461125\n",
       "min            0.000000\n",
       "25%         1438.250000\n",
       "50%         1980.000000\n",
       "75%         2580.000000\n",
       "max         7440.000000"
      ]
     },
     "execution_count": 19,
     "metadata": {},
     "output_type": "execute_result"
    }
   ],
   "source": [
    "# verificar la informacion general del DF \n",
    "print(df_07.head)\n",
    "df_07.info()\n",
    "df_07.describe()"
   ]
  },
  {
   "cell_type": "code",
   "execution_count": 20,
   "metadata": {},
   "outputs": [
    {
     "name": "stdout",
     "output_type": "stream",
     "text": [
      "                 start_ts weather_conditions  duration_seconds\n",
      "4     2017-11-11 07:00:00               Good            1440.0\n",
      "8     2017-11-11 14:00:00               Good            2460.0\n",
      "10    2017-11-18 06:00:00               Good            1500.0\n",
      "16    2017-11-04 12:00:00               Good            2640.0\n",
      "23    2017-11-04 14:00:00               Good            3360.0\n",
      "...                   ...                ...               ...\n",
      "1054  2017-11-11 07:00:00               Good            1380.0\n",
      "1058  2017-11-25 12:00:00               Good            1440.0\n",
      "1062  2017-11-11 06:00:00               Good            1500.0\n",
      "1065  2017-11-11 13:00:00               Good            2100.0\n",
      "1066  2017-11-11 08:00:00               Good            1380.0\n",
      "\n",
      "[312 rows x 3 columns]\n"
     ]
    }
   ],
   "source": [
    "# verificar valores duplicados \n",
    "duplicados_07 = df_07[df_07.duplicated(keep=False)]\n",
    "print(duplicados_07)"
   ]
  },
  {
   "cell_type": "code",
   "execution_count": 21,
   "metadata": {},
   "outputs": [
    {
     "name": "stdout",
     "output_type": "stream",
     "text": [
      "start_ts              0\n",
      "weather_conditions    0\n",
      "duration_seconds      0\n",
      "dtype: int64\n"
     ]
    }
   ],
   "source": [
    "# verificar valores ausentes\n",
    "ausentes_07 = df_07.isna().sum()\n",
    "print(ausentes_07)"
   ]
  },
  {
   "cell_type": "code",
   "execution_count": 22,
   "metadata": {
    "scrolled": false
   },
   "outputs": [
    {
     "name": "stdout",
     "output_type": "stream",
     "text": [
      "['2017-11-25 16:00:00' '2017-11-25 14:00:00' '2017-11-25 12:00:00'\n",
      " '2017-11-04 10:00:00' '2017-11-11 07:00:00' '2017-11-11 04:00:00'\n",
      " '2017-11-04 16:00:00' '2017-11-18 11:00:00' '2017-11-11 14:00:00'\n",
      " '2017-11-11 12:00:00' '2017-11-18 06:00:00' '2017-11-04 11:00:00'\n",
      " '2017-11-11 08:00:00' '2017-11-04 08:00:00' '2017-11-11 16:00:00'\n",
      " '2017-11-25 13:00:00' '2017-11-04 12:00:00' '2017-11-25 10:00:00'\n",
      " '2017-11-11 13:00:00' '2017-11-18 14:00:00' '2017-11-04 14:00:00'\n",
      " '2017-11-25 20:00:00' '2017-11-11 11:00:00' '2017-11-18 12:00:00'\n",
      " '2017-11-11 10:00:00' '2017-11-04 17:00:00' '2017-11-11 09:00:00'\n",
      " '2017-11-04 06:00:00' '2017-11-04 05:00:00' '2017-11-11 19:00:00'\n",
      " '2017-11-04 13:00:00' '2017-11-04 07:00:00' '2017-11-11 06:00:00'\n",
      " '2017-11-04 09:00:00' '2017-11-11 05:00:00' '2017-11-18 10:00:00'\n",
      " '2017-11-25 05:00:00' '2017-11-25 08:00:00' '2017-11-04 18:00:00'\n",
      " '2017-11-11 18:00:00' '2017-11-18 16:00:00' '2017-11-11 15:00:00'\n",
      " '2017-11-11 17:00:00' '2017-11-25 07:00:00' '2017-11-18 05:00:00'\n",
      " '2017-11-04 04:00:00' '2017-11-18 07:00:00' '2017-11-04 15:00:00'\n",
      " '2017-11-25 18:00:00' '2017-11-18 08:00:00' '2017-11-18 13:00:00'\n",
      " '2017-11-04 21:00:00' '2017-11-04 19:00:00' '2017-11-18 15:00:00'\n",
      " '2017-11-25 06:00:00' '2017-11-18 18:00:00' '2017-11-11 21:00:00'\n",
      " '2017-11-11 03:00:00' '2017-11-18 09:00:00' '2017-11-04 22:00:00'\n",
      " '2017-11-25 11:00:00' '2017-11-18 19:00:00' '2017-11-25 09:00:00'\n",
      " '2017-11-25 04:00:00' '2017-11-18 00:00:00' '2017-11-11 20:00:00'\n",
      " '2017-11-18 17:00:00' '2017-11-04 02:00:00' '2017-11-18 04:00:00'\n",
      " '2017-11-25 15:00:00' '2017-11-18 03:00:00' '2017-11-25 17:00:00'\n",
      " '2017-11-25 19:00:00' '2017-11-04 20:00:00' '2017-11-04 01:00:00'\n",
      " '2017-11-25 03:00:00' '2017-11-25 23:00:00' '2017-11-18 21:00:00'\n",
      " '2017-11-11 23:00:00' '2017-11-04 00:00:00' '2017-11-18 20:00:00']\n"
     ]
    }
   ],
   "source": [
    "unicos_07 = df_07['start_ts'].unique()\n",
    "print(unicos_07)"
   ]
  },
  {
   "cell_type": "code",
   "execution_count": 23,
   "metadata": {},
   "outputs": [
    {
     "name": "stdout",
     "output_type": "stream",
     "text": [
      "El numero de valores unicos es: 81\n"
     ]
    }
   ],
   "source": [
    "n_unicos_07 = df_07['start_ts'].nunique()\n",
    "print(f'El numero de valores unicos es: {n_unicos_07}')"
   ]
  },
  {
   "cell_type": "code",
   "execution_count": 24,
   "metadata": {},
   "outputs": [
    {
     "name": "stdout",
     "output_type": "stream",
     "text": [
      "<class 'pandas.core.frame.DataFrame'>\n",
      "RangeIndex: 1068 entries, 0 to 1067\n",
      "Data columns (total 3 columns):\n",
      " #   Column              Non-Null Count  Dtype         \n",
      "---  ------              --------------  -----         \n",
      " 0   start_ts            1068 non-null   datetime64[ns]\n",
      " 1   weather_conditions  1068 non-null   object        \n",
      " 2   duration_seconds    1068 non-null   float64       \n",
      "dtypes: datetime64[ns](1), float64(1), object(1)\n",
      "memory usage: 25.2+ KB\n"
     ]
    }
   ],
   "source": [
    "# cambiar el tipo de dato de la columna 'start_ts' a date\n",
    "df_07['start_ts'] = pd.to_datetime(df_07['start_ts'])\n",
    "df_07.info()"
   ]
  },
  {
   "cell_type": "code",
   "execution_count": 44,
   "metadata": {
    "scrolled": false
   },
   "outputs": [
    {
     "data": {
      "image/png": "[encoded data removed]",
      "text/plain": [
       "<Figure size 640x480 with 1 Axes>"
      ]
     },
     "metadata": {},
     "output_type": "display_data"
    },
    {
     "data": {
      "text/plain": [
       "<Figure size 1000x600 with 0 Axes>"
      ]
     },
     "metadata": {},
     "output_type": "display_data"
    }
   ],
   "source": [
    "# graficar valores atipicos \n",
    "sns.boxplot(x='duration_seconds',\n",
    "            y='weather_conditions',\n",
    "            data=df_07)\n",
    "plt.title('Valores atípicos en los viajes de Loop a O\\'Hare')\n",
    "plt.ylabel('Clima')\n",
    "plt.figure(figsize=(10,6))\n",
    "plt.show()"
   ]
  },
  {
   "cell_type": "code",
   "execution_count": 31,
   "metadata": {},
   "outputs": [
    {
     "name": "stdout",
     "output_type": "stream",
     "text": [
      "               start_ts weather_conditions  duration_seconds\n",
      "79  2017-11-11 15:00:00               Good            4800.0\n",
      "276 2017-11-18 12:00:00                Bad            4980.0\n",
      "354 2017-11-25 11:00:00               Good            7440.0\n",
      "583 2017-11-11 16:00:00               Good            4980.0\n",
      "619 2017-11-25 14:00:00               Good            6420.0\n",
      "646 2017-11-11 13:00:00               Good            4380.0\n"
     ]
    }
   ],
   "source": [
    "# # eliminar valores atipicos \n",
    "Q1 = df_07['duration_seconds'].quantile(0.25)\n",
    "Q3 = df_07['duration_seconds'].quantile(0.75)\n",
    "# calcular el rango intercuartilico\n",
    "IQR = Q3 - Q1\n",
    "\n",
    "# definir limite superior e inferior\n",
    "limite_inferior = Q1 - (1.5 * IQR)\n",
    "limite_superior = Q3 + (1.5 * IQR)\n",
    "\n",
    "#mostrar datos atipicos\n",
    "df_atipicos = df_07[(df_07['duration_seconds'] < limite_inferior) | (df_07['duration_seconds'] > limite_superior)]\n",
    "print(df_atipicos)"
   ]
  },
  {
   "cell_type": "code",
   "execution_count": 34,
   "metadata": {},
   "outputs": [],
   "source": [
    "# eliminar valores atipicos del DF\n",
    "datos_hipotesis = df_07.query('duration_seconds >= @limite_inferior and duration_seconds <= @limite_superior')"
   ]
  },
  {
   "cell_type": "code",
   "execution_count": 43,
   "metadata": {
    "scrolled": false
   },
   "outputs": [
    {
     "data": {
      "image/png": "[encoded data removed]",
      "text/plain": [
       "<Figure size 640x480 with 1 Axes>"
      ]
     },
     "metadata": {},
     "output_type": "display_data"
    },
    {
     "data": {
      "text/plain": [
       "<Figure size 1000x600 with 0 Axes>"
      ]
     },
     "metadata": {},
     "output_type": "display_data"
    }
   ],
   "source": [
    "# graficar valores atipicos \n",
    "sns.boxplot(x='duration_seconds',\n",
    "            y='weather_conditions',\n",
    "            data= datos_hipotesis)\n",
    "plt.title('Viajes de Loop a O\\'Hare sin valores atipicos')\n",
    "plt.ylabel('Clima')\n",
    "plt.figure(figsize=(10,6))\n",
    "plt.show()"
   ]
  },
  {
   "cell_type": "markdown",
   "metadata": {},
   "source": [
    "<span style=\"color:blue; font-weight:bold\">\n",
    "Al revisar la información del DF encontre valores duplicados, sin embargo al analizarlos estos no podrian ser eliminados ya que pueden representan viajes que ocurrieron al mismo tiempo, o comparten las mismas condiciones de clima o el mismo tiempo de duración, por lo cual es necesario preservarlos ya que son relevantes para comprobar la hipótesis. Por otra parte cambie el tipo de datos de object a datetime. Al revisar los valores atipicos en este DF son pocos, pero los he eliminado.\n",
    "</span>"
   ]
  },
  {
   "cell_type": "markdown",
   "metadata": {},
   "source": [
    "# 5.1 Prueba de Hipótesis "
   ]
  },
  {
   "cell_type": "markdown",
   "metadata": {},
   "source": [
    "# Hipótesis 1: La duración promedio de los viajes desde el Loop hasta el Aeropuerto Internacional O'Hare cambia los sábados lluviosos"
   ]
  },
  {
   "cell_type": "markdown",
   "metadata": {},
   "source": [
    "# Hipótesis Nula: La duración promedio de los viajes desde el Loop hasta el Aeropuerto Internacional O'Hare NO cambia en los sábados lluviosos"
   ]
  },
  {
   "cell_type": "markdown",
   "metadata": {},
   "source": [
    "# Hipótesis Alternativa: La duración promedio de los viajes desde el Loop hasta el Aeropuerto Internacional O'Hare cambia en los sábados lluviosos"
   ]
  },
  {
   "cell_type": "code",
   "execution_count": 36,
   "metadata": {},
   "outputs": [
    {
     "name": "stdout",
     "output_type": "stream",
     "text": [
      "El promedio en sabados lluviosos es: 2412.9441340782123\n",
      "El promedio en todos los sabados es: 2052.3625235404897\n"
     ]
    }
   ],
   "source": [
    "# extraer los dias sabados lluviosos del DF sin valores atipicos\n",
    "df_sabados = datos_hipotesis[datos_hipotesis['start_ts'].dt.weekday == 5]\n",
    "\n",
    "#filtro sabados lluviosos\n",
    "sabados_lluviosos = df_sabados[df_sabados['weather_conditions'] == \"Bad\"]\n",
    "\n",
    "# promedio de sabados lluviosos\n",
    "mean_sabado_lluvioso = sabados_lluviosos['duration_seconds'].mean()\n",
    "\n",
    "# promedio de todos los sabados\n",
    "mean_sabados = df_sabados['duration_seconds'].mean()\n",
    "\n",
    "print(f'El promedio en sabados lluviosos es: {mean_sabado_lluvioso}')\n",
    "print(f'El promedio en todos los sabados es: {mean_sabados}')"
   ]
  },
  {
   "cell_type": "code",
   "execution_count": 37,
   "metadata": {},
   "outputs": [
    {
     "name": "stdout",
     "output_type": "stream",
     "text": [
      "Resultado de: LeveneResult(statistic=2.1858541163435175, pvalue=0.13953794543909348)\n",
      "Varianzas iguales: usar equal_var=True en ttest.\n",
      "El valor p es:  7.3537671111664e-10\n",
      "Rechazar la hipótesis nula\n"
     ]
    }
   ],
   "source": [
    "# comprobar hipotesis \n",
    "alpha = 0.05\n",
    "\n",
    "# prueba de levene \n",
    "levene = st.levene(sabados_lluviosos['duration_seconds'], df_sabados['duration_seconds'])\n",
    "print('Resultado de:', levene)\n",
    "\n",
    "# Decidir a partir de la prueba de levene que equal_var utilizar en ttest\n",
    "\n",
    "if levene.pvalue > alpha:\n",
    "    equal_var = True\n",
    "    print('Varianzas iguales: usar equal_var=True en ttest.')\n",
    "else:\n",
    "    equal_var = False\n",
    "    print('Varianzas desiguales: usar equal_var=False en ttest.')\n",
    "\n",
    "# prueba ttest\n",
    "resultado = st.ttest_ind(sabados_lluviosos['duration_seconds'], df_sabados['duration_seconds'], equal_var =True)\n",
    "\n",
    "# extraer el pvalue\n",
    "print('El valor p es: ', resultado.pvalue)\n",
    "\n",
    "# comparar el valor p con el nivel de significacia\n",
    "if resultado.pvalue < alpha:\n",
    "    print('Rechazar la hipótesis nula')\n",
    "else:\n",
    "    print('No podemos rechazar la hipótesis nula')"
   ]
  },
  {
   "cell_type": "markdown",
   "metadata": {},
   "source": [
    "<span style=\"color:blue; font-weight:bold\">\n",
    "Para comprobar la hipotesis se realizo un filtro donde se extrajeron los datos del dia sabado tanto lluvisosos como con buen clima, se establecio un nivel de significancia del 0.05, y se escogio una prueba T de Student para muestras independientes. De esta manera se obtuvo un valor p mayor al nivel de significancia (alpha) lo que indica que se debe rechazar la hipótesis nula y podemos confirmar que si existen diferencias significativas en el tiempo promedio de los viajes los dias sabados cuando hay presencia de lluvia.\n",
    "</span>"
   ]
  },
  {
   "cell_type": "markdown",
   "metadata": {},
   "source": [
    "# conclusion general \n",
    "\n",
    "1. Para los primeros dos DF no se encontraron datos nulos ni ausentes y errores en los tipos de datos, por lo cual no fue necesario realizar cambios. Durante el análisis se encontro que  Loop es el barrio con mejor promedio en cuanto a viajes finalizados, seguido por River North y Streeterville y Sheffield & DePaul es el ultimo dentro de este top 10. Sin embargo después de West Loop, el promedio baja considerablemente.\n",
    "\n",
    "2. Para el segundo grafico se encontro que Flash Cab la top 1 por lo cual esta compañía podría ser la preferida por los usuarios debido a la gran diferencia con las demás, ya que la siguiente empresa dentro de este top que es Taxi Affiliation Services se observa facilmente que existe una gran distancia entre Flash Cab y esta ultima . Por otra parte a partir de Taxi Affilation Services las demás empresas se muestran constantes en el número de viajes realizados.\n",
    "\n",
    "3. Para el ultimo DF se encontraron valores duplicados, sin embargo al revisarlos se logro concluir que estos datos son relevantes para la comprobacion de la hipotesis ya que pueden ser viajes que se realizaron en el mismo dia, y a la misma hora y con el mismo clima. Por otra parte se encontraron algunos valores atipicos, los cuales fueron analizados y decidi eliminarlos para no afectar el resultado de la prueba de hipotesis. De esta manera se desarrollaron las hipotesis nula y alternativa; para poder comprobarlas se establecio un alpha de 0.05 antes de realizar la prueba T de student se realizo una prueba levene para conocer si las varianzas de los datos, y se obtuvo como resultado que se tenian varianzas iguales, de esta manera se continuo con la comprobacionde la hipotesis y se obtuvo como resultado un valor p mayor al nivel de significancia elegido por lo cual la hipotesis nula debio ser rechazada y se concluye que existen diferencias significativas en el promedio de tiempo de los viajes los dias sabados cuando hay presencia de lluvia, esto tambien fue observado al analizar los valores atipicos. "
   ]
  }
 ],
 "metadata": {
  "ExecuteTimeLog": [
   {
    "duration": 2518,
    "start_time": "2024-09-19T03:08:38.383Z"
   },
   {
    "duration": 18,
    "start_time": "2024-09-19T03:09:47.318Z"
   },
   {
    "duration": 9,
    "start_time": "2024-09-19T03:13:48.568Z"
   },
   {
    "duration": 17,
    "start_time": "2024-09-19T03:13:58.020Z"
   },
   {
    "duration": 3,
    "start_time": "2024-09-19T03:17:21.953Z"
   },
   {
    "duration": 4,
    "start_time": "2024-09-19T03:18:33.261Z"
   },
   {
    "duration": 15,
    "start_time": "2024-09-19T03:25:05.223Z"
   },
   {
    "duration": 128,
    "start_time": "2024-09-19T03:27:02.346Z"
   },
   {
    "duration": 4,
    "start_time": "2024-09-19T03:27:09.834Z"
   },
   {
    "duration": 4,
    "start_time": "2024-09-19T03:27:51.500Z"
   },
   {
    "duration": 11,
    "start_time": "2024-09-19T03:30:55.444Z"
   },
   {
    "duration": 12,
    "start_time": "2024-09-19T03:31:21.241Z"
   },
   {
    "duration": 3,
    "start_time": "2024-09-19T03:31:47.324Z"
   },
   {
    "duration": 3,
    "start_time": "2024-09-19T03:32:59.527Z"
   },
   {
    "duration": 11,
    "start_time": "2024-09-19T03:33:44.263Z"
   },
   {
    "duration": 4,
    "start_time": "2024-09-19T03:33:48.604Z"
   },
   {
    "duration": 3,
    "start_time": "2024-09-19T03:34:58.557Z"
   },
   {
    "duration": 4,
    "start_time": "2024-09-19T03:35:48.578Z"
   },
   {
    "duration": 4,
    "start_time": "2024-09-19T03:35:53.985Z"
   },
   {
    "duration": 3,
    "start_time": "2024-09-19T03:36:22.664Z"
   },
   {
    "duration": 499,
    "start_time": "2024-09-19T03:37:13.148Z"
   },
   {
    "duration": 4,
    "start_time": "2024-09-19T03:37:21.145Z"
   },
   {
    "duration": 6,
    "start_time": "2024-09-19T03:42:42.809Z"
   },
   {
    "duration": 6,
    "start_time": "2024-09-19T03:42:55.089Z"
   },
   {
    "duration": 7,
    "start_time": "2024-09-19T03:43:11.590Z"
   },
   {
    "duration": 15,
    "start_time": "2024-09-19T03:43:41.313Z"
   },
   {
    "duration": 16,
    "start_time": "2024-09-19T03:43:50.264Z"
   },
   {
    "duration": 8,
    "start_time": "2024-09-19T03:44:10.524Z"
   },
   {
    "duration": 9,
    "start_time": "2024-09-19T03:44:49.003Z"
   },
   {
    "duration": 8,
    "start_time": "2024-09-19T03:46:04.979Z"
   },
   {
    "duration": 11,
    "start_time": "2024-09-19T03:48:36.270Z"
   },
   {
    "duration": 7,
    "start_time": "2024-09-19T03:48:41.943Z"
   },
   {
    "duration": 927,
    "start_time": "2024-09-19T03:51:58.204Z"
   },
   {
    "duration": 2,
    "start_time": "2024-09-19T03:53:08.167Z"
   },
   {
    "duration": 5,
    "start_time": "2024-09-19T03:53:19.244Z"
   },
   {
    "duration": 6,
    "start_time": "2024-09-19T03:53:31.970Z"
   },
   {
    "duration": 139,
    "start_time": "2024-09-19T03:53:47.694Z"
   },
   {
    "duration": 5,
    "start_time": "2024-09-19T03:54:00.903Z"
   },
   {
    "duration": 212,
    "start_time": "2024-09-19T03:54:03.593Z"
   },
   {
    "duration": 140,
    "start_time": "2024-09-19T03:55:12.142Z"
   },
   {
    "duration": 141,
    "start_time": "2024-09-19T03:55:33.294Z"
   },
   {
    "duration": 140,
    "start_time": "2024-09-19T03:55:40.619Z"
   },
   {
    "duration": 140,
    "start_time": "2024-09-19T03:55:48.839Z"
   },
   {
    "duration": 143,
    "start_time": "2024-09-19T03:56:11.084Z"
   },
   {
    "duration": 140,
    "start_time": "2024-09-19T03:57:21.018Z"
   },
   {
    "duration": 141,
    "start_time": "2024-09-19T03:57:42.507Z"
   },
   {
    "duration": 6,
    "start_time": "2024-09-19T03:59:17.734Z"
   },
   {
    "duration": 143,
    "start_time": "2024-09-19T03:59:23.251Z"
   },
   {
    "duration": 167,
    "start_time": "2024-09-19T03:59:36.488Z"
   },
   {
    "duration": 286,
    "start_time": "2024-09-19T03:59:56.889Z"
   },
   {
    "duration": 146,
    "start_time": "2024-09-19T04:00:00.724Z"
   },
   {
    "duration": 259,
    "start_time": "2024-09-19T04:00:32.518Z"
   },
   {
    "duration": 5,
    "start_time": "2024-09-19T04:06:38.593Z"
   },
   {
    "duration": 147,
    "start_time": "2024-09-19T04:07:49.910Z"
   },
   {
    "duration": 8,
    "start_time": "2024-09-19T04:16:00.096Z"
   },
   {
    "duration": 20,
    "start_time": "2024-09-19T04:16:56.668Z"
   },
   {
    "duration": 16,
    "start_time": "2024-09-19T04:17:02.659Z"
   },
   {
    "duration": 7,
    "start_time": "2024-09-19T04:17:10.128Z"
   },
   {
    "duration": 14,
    "start_time": "2024-09-19T04:17:55.536Z"
   },
   {
    "duration": 5,
    "start_time": "2024-09-19T04:18:02.041Z"
   },
   {
    "duration": 8,
    "start_time": "2024-09-19T04:18:42.497Z"
   },
   {
    "duration": 7,
    "start_time": "2024-09-19T04:18:49.783Z"
   },
   {
    "duration": 83,
    "start_time": "2024-09-19T04:18:59.943Z"
   },
   {
    "duration": 9,
    "start_time": "2024-09-19T04:19:13.957Z"
   },
   {
    "duration": 197,
    "start_time": "2024-09-19T04:23:54.069Z"
   },
   {
    "duration": 173,
    "start_time": "2024-09-19T04:24:23.629Z"
   },
   {
    "duration": 17,
    "start_time": "2024-09-19T04:35:44.099Z"
   },
   {
    "duration": 4,
    "start_time": "2024-09-19T04:37:04.649Z"
   },
   {
    "duration": 3,
    "start_time": "2024-09-19T04:38:02.419Z"
   },
   {
    "duration": 6,
    "start_time": "2024-09-19T04:38:14.061Z"
   },
   {
    "duration": 4,
    "start_time": "2024-09-19T04:38:19.120Z"
   },
   {
    "duration": 7,
    "start_time": "2024-09-19T04:43:48.235Z"
   },
   {
    "duration": 11,
    "start_time": "2024-09-19T05:03:11.769Z"
   },
   {
    "duration": 40,
    "start_time": "2024-09-19T05:03:49.458Z"
   },
   {
    "duration": 4,
    "start_time": "2024-09-19T05:04:00.799Z"
   },
   {
    "duration": 4,
    "start_time": "2024-09-19T05:06:17.144Z"
   },
   {
    "duration": 4,
    "start_time": "2024-09-19T05:08:54.424Z"
   },
   {
    "duration": 10,
    "start_time": "2024-09-19T05:09:05.418Z"
   },
   {
    "duration": 11,
    "start_time": "2024-09-19T05:09:20.558Z"
   },
   {
    "duration": 11,
    "start_time": "2024-09-19T05:10:04.866Z"
   },
   {
    "duration": 5,
    "start_time": "2024-09-19T05:16:25.613Z"
   },
   {
    "duration": 4,
    "start_time": "2024-09-19T05:16:36.329Z"
   },
   {
    "duration": 4,
    "start_time": "2024-09-19T05:17:44.690Z"
   },
   {
    "duration": 15,
    "start_time": "2024-09-19T05:18:30.713Z"
   },
   {
    "duration": 15,
    "start_time": "2024-09-19T05:19:27.542Z"
   },
   {
    "duration": 16,
    "start_time": "2024-09-19T05:19:48.515Z"
   },
   {
    "duration": 128,
    "start_time": "2024-09-19T05:19:55.343Z"
   },
   {
    "duration": 9,
    "start_time": "2024-09-19T05:20:08.063Z"
   },
   {
    "duration": 8,
    "start_time": "2024-09-19T05:22:16.519Z"
   },
   {
    "duration": 9,
    "start_time": "2024-09-19T05:26:01.559Z"
   },
   {
    "duration": 6,
    "start_time": "2024-09-19T05:27:34.034Z"
   },
   {
    "duration": 18,
    "start_time": "2024-09-19T05:31:19.863Z"
   },
   {
    "duration": 4,
    "start_time": "2024-09-19T05:32:03.507Z"
   },
   {
    "duration": 8,
    "start_time": "2024-09-19T05:35:39.397Z"
   },
   {
    "duration": 7,
    "start_time": "2024-09-19T05:36:39.426Z"
   },
   {
    "duration": 7,
    "start_time": "2024-09-19T05:37:56.203Z"
   },
   {
    "duration": 5,
    "start_time": "2024-09-19T05:37:59.723Z"
   },
   {
    "duration": 4,
    "start_time": "2024-09-19T05:38:14.692Z"
   },
   {
    "duration": 3,
    "start_time": "2024-09-19T05:38:55.078Z"
   },
   {
    "duration": 13,
    "start_time": "2024-09-19T05:38:55.083Z"
   },
   {
    "duration": 15,
    "start_time": "2024-09-19T05:38:55.097Z"
   },
   {
    "duration": 4,
    "start_time": "2024-09-19T05:38:55.113Z"
   },
   {
    "duration": 3,
    "start_time": "2024-09-19T05:38:55.119Z"
   },
   {
    "duration": 3,
    "start_time": "2024-09-19T05:38:55.124Z"
   },
   {
    "duration": 4,
    "start_time": "2024-09-19T05:38:55.129Z"
   },
   {
    "duration": 44,
    "start_time": "2024-09-19T05:38:55.135Z"
   },
   {
    "duration": 4,
    "start_time": "2024-09-19T05:38:55.180Z"
   },
   {
    "duration": 4,
    "start_time": "2024-09-19T05:38:55.186Z"
   },
   {
    "duration": 3,
    "start_time": "2024-09-19T05:38:55.192Z"
   },
   {
    "duration": 3,
    "start_time": "2024-09-19T05:38:55.197Z"
   },
   {
    "duration": 7,
    "start_time": "2024-09-19T05:38:55.201Z"
   },
   {
    "duration": 4,
    "start_time": "2024-09-19T05:38:55.211Z"
   },
   {
    "duration": 200,
    "start_time": "2024-09-19T05:38:55.217Z"
   },
   {
    "duration": 8,
    "start_time": "2024-09-19T05:38:55.419Z"
   },
   {
    "duration": 4,
    "start_time": "2024-09-19T05:38:55.428Z"
   },
   {
    "duration": 189,
    "start_time": "2024-09-19T05:38:55.434Z"
   },
   {
    "duration": 16,
    "start_time": "2024-09-19T05:38:55.625Z"
   },
   {
    "duration": 6,
    "start_time": "2024-09-19T05:38:55.643Z"
   },
   {
    "duration": 4,
    "start_time": "2024-09-19T05:38:55.670Z"
   },
   {
    "duration": 3,
    "start_time": "2024-09-19T05:38:55.676Z"
   },
   {
    "duration": 3,
    "start_time": "2024-09-19T05:38:55.681Z"
   },
   {
    "duration": 9,
    "start_time": "2024-09-19T05:38:55.686Z"
   },
   {
    "duration": 762,
    "start_time": "2024-09-19T05:39:24.228Z"
   },
   {
    "duration": 11,
    "start_time": "2024-09-19T05:39:24.993Z"
   },
   {
    "duration": 18,
    "start_time": "2024-09-19T05:39:25.006Z"
   },
   {
    "duration": 3,
    "start_time": "2024-09-19T05:39:25.026Z"
   },
   {
    "duration": 4,
    "start_time": "2024-09-19T05:39:25.031Z"
   },
   {
    "duration": 3,
    "start_time": "2024-09-19T05:39:25.037Z"
   },
   {
    "duration": 4,
    "start_time": "2024-09-19T05:39:25.069Z"
   },
   {
    "duration": 16,
    "start_time": "2024-09-19T05:39:25.074Z"
   },
   {
    "duration": 4,
    "start_time": "2024-09-19T05:39:25.091Z"
   },
   {
    "duration": 4,
    "start_time": "2024-09-19T05:39:25.097Z"
   },
   {
    "duration": 3,
    "start_time": "2024-09-19T05:39:25.103Z"
   },
   {
    "duration": 3,
    "start_time": "2024-09-19T05:39:25.108Z"
   },
   {
    "duration": 7,
    "start_time": "2024-09-19T05:39:25.113Z"
   },
   {
    "duration": 48,
    "start_time": "2024-09-19T05:39:25.123Z"
   },
   {
    "duration": 171,
    "start_time": "2024-09-19T05:39:25.173Z"
   },
   {
    "duration": 8,
    "start_time": "2024-09-19T05:39:25.346Z"
   },
   {
    "duration": 16,
    "start_time": "2024-09-19T05:39:25.355Z"
   },
   {
    "duration": 198,
    "start_time": "2024-09-19T05:39:25.372Z"
   },
   {
    "duration": 17,
    "start_time": "2024-09-19T05:39:25.573Z"
   },
   {
    "duration": 6,
    "start_time": "2024-09-19T05:39:25.592Z"
   },
   {
    "duration": 4,
    "start_time": "2024-09-19T05:39:25.600Z"
   },
   {
    "duration": 3,
    "start_time": "2024-09-19T05:39:25.606Z"
   },
   {
    "duration": 4,
    "start_time": "2024-09-19T05:39:25.610Z"
   },
   {
    "duration": 9,
    "start_time": "2024-09-19T05:39:25.616Z"
   },
   {
    "duration": 7,
    "start_time": "2024-09-19T05:39:38.871Z"
   },
   {
    "duration": 6,
    "start_time": "2024-09-19T05:39:42.102Z"
   },
   {
    "duration": 3,
    "start_time": "2024-09-19T05:46:08.802Z"
   },
   {
    "duration": 275,
    "start_time": "2024-09-19T05:46:21.592Z"
   },
   {
    "duration": 4,
    "start_time": "2024-09-19T05:46:33.648Z"
   },
   {
    "duration": 4,
    "start_time": "2024-09-19T05:47:48.819Z"
   },
   {
    "duration": 4,
    "start_time": "2024-09-19T05:48:00.802Z"
   },
   {
    "duration": 163,
    "start_time": "2024-09-19T23:59:50.475Z"
   },
   {
    "duration": 2669,
    "start_time": "2024-09-20T00:00:08.646Z"
   },
   {
    "duration": 16,
    "start_time": "2024-09-20T00:00:11.318Z"
   },
   {
    "duration": 19,
    "start_time": "2024-09-20T00:00:11.335Z"
   },
   {
    "duration": 3,
    "start_time": "2024-09-20T00:00:11.356Z"
   },
   {
    "duration": 6,
    "start_time": "2024-09-20T00:00:11.361Z"
   },
   {
    "duration": 4,
    "start_time": "2024-09-20T00:00:11.369Z"
   },
   {
    "duration": 4,
    "start_time": "2024-09-20T00:00:11.374Z"
   },
   {
    "duration": 45,
    "start_time": "2024-09-20T00:00:11.380Z"
   },
   {
    "duration": 3,
    "start_time": "2024-09-20T00:00:11.428Z"
   },
   {
    "duration": 4,
    "start_time": "2024-09-20T00:00:11.433Z"
   },
   {
    "duration": 3,
    "start_time": "2024-09-20T00:00:11.439Z"
   },
   {
    "duration": 3,
    "start_time": "2024-09-20T00:00:11.445Z"
   },
   {
    "duration": 8,
    "start_time": "2024-09-20T00:00:11.450Z"
   },
   {
    "duration": 5,
    "start_time": "2024-09-20T00:00:11.508Z"
   },
   {
    "duration": 176,
    "start_time": "2024-09-20T00:00:11.516Z"
   },
   {
    "duration": 17,
    "start_time": "2024-09-20T00:00:11.693Z"
   },
   {
    "duration": 4,
    "start_time": "2024-09-20T00:00:11.713Z"
   },
   {
    "duration": 207,
    "start_time": "2024-09-20T00:00:11.719Z"
   },
   {
    "duration": 17,
    "start_time": "2024-09-20T00:00:11.928Z"
   },
   {
    "duration": 6,
    "start_time": "2024-09-20T00:00:11.947Z"
   },
   {
    "duration": 4,
    "start_time": "2024-09-20T00:00:11.955Z"
   },
   {
    "duration": 4,
    "start_time": "2024-09-20T00:00:11.961Z"
   },
   {
    "duration": 4,
    "start_time": "2024-09-20T00:00:11.967Z"
   },
   {
    "duration": 39,
    "start_time": "2024-09-20T00:00:11.973Z"
   },
   {
    "duration": 7,
    "start_time": "2024-09-20T00:00:24.070Z"
   },
   {
    "duration": 6,
    "start_time": "2024-09-20T00:00:27.504Z"
   },
   {
    "duration": 6,
    "start_time": "2024-09-20T00:01:18.818Z"
   },
   {
    "duration": 7,
    "start_time": "2024-09-20T00:06:15.683Z"
   },
   {
    "duration": 7,
    "start_time": "2024-09-20T00:07:55.404Z"
   },
   {
    "duration": 15,
    "start_time": "2024-09-20T00:19:20.159Z"
   },
   {
    "duration": 4,
    "start_time": "2024-09-20T00:20:59.830Z"
   },
   {
    "duration": 9,
    "start_time": "2024-09-20T00:21:09.019Z"
   },
   {
    "duration": 94,
    "start_time": "2024-09-20T00:23:43.908Z"
   },
   {
    "duration": 496,
    "start_time": "2024-09-20T00:24:29.779Z"
   },
   {
    "duration": 156,
    "start_time": "2024-09-20T02:24:06.444Z"
   },
   {
    "duration": 2800,
    "start_time": "2024-09-20T02:24:25.392Z"
   },
   {
    "duration": 35,
    "start_time": "2024-09-20T02:24:28.195Z"
   },
   {
    "duration": 22,
    "start_time": "2024-09-20T02:24:28.232Z"
   },
   {
    "duration": 4,
    "start_time": "2024-09-20T02:24:28.256Z"
   },
   {
    "duration": 4,
    "start_time": "2024-09-20T02:24:28.263Z"
   },
   {
    "duration": 4,
    "start_time": "2024-09-20T02:24:28.268Z"
   },
   {
    "duration": 4,
    "start_time": "2024-09-20T02:24:28.273Z"
   },
   {
    "duration": 53,
    "start_time": "2024-09-20T02:24:28.279Z"
   },
   {
    "duration": 5,
    "start_time": "2024-09-20T02:24:28.334Z"
   },
   {
    "duration": 5,
    "start_time": "2024-09-20T02:24:28.341Z"
   },
   {
    "duration": 4,
    "start_time": "2024-09-20T02:24:28.348Z"
   },
   {
    "duration": 4,
    "start_time": "2024-09-20T02:24:28.354Z"
   },
   {
    "duration": 10,
    "start_time": "2024-09-20T02:24:28.359Z"
   },
   {
    "duration": 5,
    "start_time": "2024-09-20T02:24:28.372Z"
   },
   {
    "duration": 219,
    "start_time": "2024-09-20T02:24:28.378Z"
   },
   {
    "duration": 9,
    "start_time": "2024-09-20T02:24:28.599Z"
   },
   {
    "duration": 4,
    "start_time": "2024-09-20T02:24:28.610Z"
   },
   {
    "duration": 248,
    "start_time": "2024-09-20T02:24:28.631Z"
   },
   {
    "duration": 19,
    "start_time": "2024-09-20T02:24:28.881Z"
   },
   {
    "duration": 7,
    "start_time": "2024-09-20T02:24:28.903Z"
   },
   {
    "duration": 3,
    "start_time": "2024-09-20T02:24:28.912Z"
   },
   {
    "duration": 19,
    "start_time": "2024-09-20T02:24:28.917Z"
   },
   {
    "duration": 3,
    "start_time": "2024-09-20T02:24:28.938Z"
   },
   {
    "duration": 11,
    "start_time": "2024-09-20T02:24:28.943Z"
   },
   {
    "duration": 9,
    "start_time": "2024-09-20T02:24:28.956Z"
   },
   {
    "duration": 78,
    "start_time": "2024-09-20T02:24:34.454Z"
   },
   {
    "duration": 84,
    "start_time": "2024-09-20T02:29:20.310Z"
   },
   {
    "duration": 91,
    "start_time": "2024-09-20T02:31:03.304Z"
   },
   {
    "duration": 141,
    "start_time": "2024-09-20T02:31:12.416Z"
   },
   {
    "duration": 98,
    "start_time": "2024-09-20T02:31:37.600Z"
   },
   {
    "duration": 89,
    "start_time": "2024-09-20T02:31:53.620Z"
   },
   {
    "duration": 4,
    "start_time": "2024-09-20T02:33:08.333Z"
   },
   {
    "duration": 101,
    "start_time": "2024-09-20T02:33:14.435Z"
   },
   {
    "duration": 323,
    "start_time": "2024-09-20T02:33:31.909Z"
   },
   {
    "duration": 412,
    "start_time": "2024-09-20T02:34:01.091Z"
   },
   {
    "duration": 104,
    "start_time": "2024-09-20T02:34:27.679Z"
   },
   {
    "duration": 103,
    "start_time": "2024-09-20T02:37:07.794Z"
   },
   {
    "duration": 104,
    "start_time": "2024-09-20T02:37:24.298Z"
   },
   {
    "duration": 8,
    "start_time": "2024-09-20T02:42:31.199Z"
   },
   {
    "duration": 105,
    "start_time": "2024-09-20T02:42:42.695Z"
   },
   {
    "duration": 765,
    "start_time": "2024-09-20T02:52:25.489Z"
   },
   {
    "duration": 15,
    "start_time": "2024-09-20T02:52:26.256Z"
   },
   {
    "duration": 20,
    "start_time": "2024-09-20T02:52:26.273Z"
   },
   {
    "duration": 4,
    "start_time": "2024-09-20T02:52:26.295Z"
   },
   {
    "duration": 4,
    "start_time": "2024-09-20T02:52:26.302Z"
   },
   {
    "duration": 25,
    "start_time": "2024-09-20T02:52:26.308Z"
   },
   {
    "duration": 5,
    "start_time": "2024-09-20T02:52:26.335Z"
   },
   {
    "duration": 16,
    "start_time": "2024-09-20T02:52:26.342Z"
   },
   {
    "duration": 3,
    "start_time": "2024-09-20T02:52:26.360Z"
   },
   {
    "duration": 4,
    "start_time": "2024-09-20T02:52:26.365Z"
   },
   {
    "duration": 4,
    "start_time": "2024-09-20T02:52:26.371Z"
   },
   {
    "duration": 5,
    "start_time": "2024-09-20T02:52:26.376Z"
   },
   {
    "duration": 48,
    "start_time": "2024-09-20T02:52:26.383Z"
   },
   {
    "duration": 6,
    "start_time": "2024-09-20T02:52:26.434Z"
   },
   {
    "duration": 176,
    "start_time": "2024-09-20T02:52:26.441Z"
   },
   {
    "duration": 13,
    "start_time": "2024-09-20T02:52:26.618Z"
   },
   {
    "duration": 4,
    "start_time": "2024-09-20T02:52:26.633Z"
   },
   {
    "duration": 213,
    "start_time": "2024-09-20T02:52:26.638Z"
   },
   {
    "duration": 17,
    "start_time": "2024-09-20T02:52:26.853Z"
   },
   {
    "duration": 6,
    "start_time": "2024-09-20T02:52:26.872Z"
   },
   {
    "duration": 4,
    "start_time": "2024-09-20T02:52:26.879Z"
   },
   {
    "duration": 4,
    "start_time": "2024-09-20T02:52:26.885Z"
   },
   {
    "duration": 4,
    "start_time": "2024-09-20T02:52:26.890Z"
   },
   {
    "duration": 9,
    "start_time": "2024-09-20T02:52:26.895Z"
   },
   {
    "duration": 147,
    "start_time": "2024-09-20T02:52:31.387Z"
   },
   {
    "duration": 14,
    "start_time": "2024-09-20T02:59:01.299Z"
   },
   {
    "duration": 13,
    "start_time": "2024-09-20T02:59:11.972Z"
   },
   {
    "duration": 6,
    "start_time": "2024-09-20T03:00:15.567Z"
   },
   {
    "duration": 10,
    "start_time": "2024-09-20T03:00:20.127Z"
   },
   {
    "duration": 130,
    "start_time": "2024-09-20T03:00:37.032Z"
   },
   {
    "duration": 9,
    "start_time": "2024-09-20T03:01:37.672Z"
   },
   {
    "duration": 6,
    "start_time": "2024-09-20T03:02:21.535Z"
   },
   {
    "duration": 96,
    "start_time": "2024-09-20T03:02:30.058Z"
   },
   {
    "duration": 6,
    "start_time": "2024-09-20T03:04:24.671Z"
   },
   {
    "duration": 113,
    "start_time": "2024-09-20T03:04:31.004Z"
   },
   {
    "duration": 8,
    "start_time": "2024-09-20T03:06:30.318Z"
   },
   {
    "duration": 6,
    "start_time": "2024-09-20T03:06:52.281Z"
   },
   {
    "duration": 13,
    "start_time": "2024-09-20T03:07:26.461Z"
   },
   {
    "duration": 12,
    "start_time": "2024-09-20T03:07:37.017Z"
   },
   {
    "duration": 6,
    "start_time": "2024-09-20T03:07:45.056Z"
   },
   {
    "duration": 6,
    "start_time": "2024-09-20T03:07:54.722Z"
   },
   {
    "duration": 10,
    "start_time": "2024-09-20T03:07:59.787Z"
   },
   {
    "duration": 99,
    "start_time": "2024-09-20T03:09:53.432Z"
   },
   {
    "duration": 100,
    "start_time": "2024-09-20T03:10:12.257Z"
   }
  ],
  "kernelspec": {
   "display_name": "Python 3",
   "language": "python",
   "name": "python3"
  },
  "language_info": {
   "codemirror_mode": {
    "name": "ipython",
    "version": 3
   },
   "file_extension": ".py",
   "mimetype": "text/x-python",
   "name": "python",
   "nbconvert_exporter": "python",
   "pygments_lexer": "ipython3",
   "version": "3.11.9"
  },
  "toc": {
   "base_numbering": 1,
   "nav_menu": {},
   "number_sections": true,
   "sideBar": true,
   "skip_h1_title": true,
   "title_cell": "Table of Contents",
   "title_sidebar": "Contents",
   "toc_cell": false,
   "toc_position": {},
   "toc_section_display": true,
   "toc_window_display": false
  }
 },
 "nbformat": 4,
 "nbformat_minor": 2
}
