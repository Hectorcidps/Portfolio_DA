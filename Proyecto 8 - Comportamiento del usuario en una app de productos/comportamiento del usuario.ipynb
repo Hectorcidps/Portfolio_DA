{
 "cells": [
  {
   "cell_type": "markdown",
   "metadata": {},
   "source": [
    "# Proyecto integrado 2 "
   ]
  },
  {
   "cell_type": "markdown",
   "metadata": {},
   "source": [
    "## Descripción del proyecto\n",
    "\n",
    "1. Trabajas en una empresa emergente que vende productos alimenticios. Debes investigar el comportamiento del usuario para la aplicación de la empresa.\n",
    "\n",
    "2. Primero, estudia el embudo de ventas. Descubre cómo los usuarios y las usuarias llegan a la etapa de compra. ¿Cuántos usuarios o usuarias realmente llegan a esta etapa? ¿Cuántos se atascan en etapas anteriores? ¿Qué etapas en particular?\n",
    "\n",
    "3. Luego, observa los resultados de un test A/A/B. (Sigue leyendo para obtener más información sobre los test A/A/B). Al equipo de diseño le gustaría cambiar las fuentes de toda la aplicación, pero la gerencia teme que los usuarios y las usuarias piensen que el nuevo diseño es intimidante. Por ello, deciden tomar una decisión basada en los resultados de un test A/A/B.\n",
    "\n",
    "4. Los usuarios se dividen en tres grupos: dos grupos de control obtienen las fuentes antiguas y un grupo de prueba obtiene las nuevas. Descubre qué conjunto de fuentes produce mejores resultados.\n",
    "\n",
    "5. Crear dos grupos A tiene ciertas ventajas. Podemos establecer el principio de que solo confiaremos en la exactitud de nuestras pruebas cuando los dos grupos de control sean similares. Si hay diferencias significativas entre los grupos A, esto puede ayudarnos a descubrir factores que pueden estar distorsionando los resultados. La comparación de grupos de control también nos dice cuánto tiempo y datos necesitaremos cuando realicemos más tests.\n",
    "\n",
    "6. Utilizarás el mismo dataset para el análisis general y para el análisis A/A/B. En proyectos reales, los experimentos se llevan a cabo constantemente. El equipo de análisis estudia la calidad de una aplicación utilizando datos generales, sin prestar atención a si los usuarios y las usuarias participan en experimentos."
   ]
  },
  {
   "cell_type": "markdown",
   "metadata": {},
   "source": [
    "## Diccionario de datos \n",
    "\n",
    "* Cada entrada de registro es una acción de usuario o un evento.\n",
    "\n",
    "- EventName: nombre del evento.\n",
    "- DeviceIDHash: identificador de usuario unívoco.\n",
    "- EventTimestamp: hora del evento.\n",
    "- ExpId: número de experimento: 246 y 247 son los grupos de control, 248 es el grupo de prueba."
   ]
  },
  {
   "cell_type": "markdown",
   "metadata": {},
   "source": [
    "## Librerias"
   ]
  },
  {
   "cell_type": "code",
   "execution_count": 1,
   "metadata": {},
   "outputs": [],
   "source": [
    "import pandas as pd \n",
    "import numpy as np\n",
    "import scipy.stats as stats\n",
    "import math as mth\n",
    "from statsmodels.stats.proportion import proportions_ztest\n",
    "import datetime as dt\n",
    "import matplotlib.pyplot as plt \n",
    "import seaborn as sns "
   ]
  },
  {
   "cell_type": "markdown",
   "metadata": {},
   "source": [
    "## Leer los datos"
   ]
  },
  {
   "cell_type": "code",
   "execution_count": 2,
   "metadata": {},
   "outputs": [],
   "source": [
    "df_exp = pd.read_csv('./datasets/logs_exp_us.csv', sep=\"\\t\")"
   ]
  },
  {
   "cell_type": "code",
   "execution_count": 3,
   "metadata": {
    "scrolled": false
   },
   "outputs": [
    {
     "name": "stdout",
     "output_type": "stream",
     "text": [
      "                 EventName         DeviceIDHash  EventTimestamp  ExpId\n",
      "0         MainScreenAppear  4575588528974610257      1564029816    246\n",
      "1         MainScreenAppear  7416695313311560658      1564053102    246\n",
      "2  PaymentScreenSuccessful  3518123091307005509      1564054127    248\n",
      "3         CartScreenAppear  3518123091307005509      1564054127    248\n",
      "4  PaymentScreenSuccessful  6217807653094995999      1564055322    248\n",
      "<class 'pandas.core.frame.DataFrame'>\n",
      "RangeIndex: 244126 entries, 0 to 244125\n",
      "Data columns (total 4 columns):\n",
      " #   Column          Non-Null Count   Dtype \n",
      "---  ------          --------------   ----- \n",
      " 0   EventName       244126 non-null  object\n",
      " 1   DeviceIDHash    244126 non-null  int64 \n",
      " 2   EventTimestamp  244126 non-null  int64 \n",
      " 3   ExpId           244126 non-null  int64 \n",
      "dtypes: int64(3), object(1)\n",
      "memory usage: 7.5+ MB\n"
     ]
    },
    {
     "data": {
      "text/html": [
       "<div>\n",
       "<style scoped>\n",
       "    .dataframe tbody tr th:only-of-type {\n",
       "        vertical-align: middle;\n",
       "    }\n",
       "\n",
       "    .dataframe tbody tr th {\n",
       "        vertical-align: top;\n",
       "    }\n",
       "\n",
       "    .dataframe thead th {\n",
       "        text-align: right;\n",
       "    }\n",
       "</style>\n",
       "<table border=\"1\" class=\"dataframe\">\n",
       "  <thead>\n",
       "    <tr style=\"text-align: right;\">\n",
       "      <th></th>\n",
       "      <th>DeviceIDHash</th>\n",
       "      <th>EventTimestamp</th>\n",
       "      <th>ExpId</th>\n",
       "    </tr>\n",
       "  </thead>\n",
       "  <tbody>\n",
       "    <tr>\n",
       "      <th>count</th>\n",
       "      <td>2.441260e+05</td>\n",
       "      <td>2.441260e+05</td>\n",
       "      <td>244126.000000</td>\n",
       "    </tr>\n",
       "    <tr>\n",
       "      <th>mean</th>\n",
       "      <td>4.627568e+18</td>\n",
       "      <td>1.564914e+09</td>\n",
       "      <td>247.022296</td>\n",
       "    </tr>\n",
       "    <tr>\n",
       "      <th>std</th>\n",
       "      <td>2.642425e+18</td>\n",
       "      <td>1.771343e+05</td>\n",
       "      <td>0.824434</td>\n",
       "    </tr>\n",
       "    <tr>\n",
       "      <th>min</th>\n",
       "      <td>6.888747e+15</td>\n",
       "      <td>1.564030e+09</td>\n",
       "      <td>246.000000</td>\n",
       "    </tr>\n",
       "    <tr>\n",
       "      <th>25%</th>\n",
       "      <td>2.372212e+18</td>\n",
       "      <td>1.564757e+09</td>\n",
       "      <td>246.000000</td>\n",
       "    </tr>\n",
       "    <tr>\n",
       "      <th>50%</th>\n",
       "      <td>4.623192e+18</td>\n",
       "      <td>1.564919e+09</td>\n",
       "      <td>247.000000</td>\n",
       "    </tr>\n",
       "    <tr>\n",
       "      <th>75%</th>\n",
       "      <td>6.932517e+18</td>\n",
       "      <td>1.565075e+09</td>\n",
       "      <td>248.000000</td>\n",
       "    </tr>\n",
       "    <tr>\n",
       "      <th>max</th>\n",
       "      <td>9.222603e+18</td>\n",
       "      <td>1.565213e+09</td>\n",
       "      <td>248.000000</td>\n",
       "    </tr>\n",
       "  </tbody>\n",
       "</table>\n",
       "</div>"
      ],
      "text/plain": [
       "       DeviceIDHash  EventTimestamp          ExpId\n",
       "count  2.441260e+05    2.441260e+05  244126.000000\n",
       "mean   4.627568e+18    1.564914e+09     247.022296\n",
       "std    2.642425e+18    1.771343e+05       0.824434\n",
       "min    6.888747e+15    1.564030e+09     246.000000\n",
       "25%    2.372212e+18    1.564757e+09     246.000000\n",
       "50%    4.623192e+18    1.564919e+09     247.000000\n",
       "75%    6.932517e+18    1.565075e+09     248.000000\n",
       "max    9.222603e+18    1.565213e+09     248.000000"
      ]
     },
     "execution_count": 3,
     "metadata": {},
     "output_type": "execute_result"
    }
   ],
   "source": [
    "print(df_exp.head())\n",
    "df_exp.info()\n",
    "df_exp.describe()"
   ]
  },
  {
   "cell_type": "markdown",
   "metadata": {},
   "source": [
    "## Pre-procesamiento de datos"
   ]
  },
  {
   "cell_type": "markdown",
   "metadata": {},
   "source": [
    "### Renombrar columnas "
   ]
  },
  {
   "cell_type": "code",
   "execution_count": 4,
   "metadata": {},
   "outputs": [],
   "source": [
    "new_name_columns = {\n",
    "    'EventName':'event_name',\n",
    "    'DeviceIDHash':'uid',\n",
    "    'EventTimestamp':'event_time',\n",
    "    'ExpId':'exp_id'\n",
    "}"
   ]
  },
  {
   "cell_type": "code",
   "execution_count": 5,
   "metadata": {},
   "outputs": [
    {
     "data": {
      "text/html": [
       "<div>\n",
       "<style scoped>\n",
       "    .dataframe tbody tr th:only-of-type {\n",
       "        vertical-align: middle;\n",
       "    }\n",
       "\n",
       "    .dataframe tbody tr th {\n",
       "        vertical-align: top;\n",
       "    }\n",
       "\n",
       "    .dataframe thead th {\n",
       "        text-align: right;\n",
       "    }\n",
       "</style>\n",
       "<table border=\"1\" class=\"dataframe\">\n",
       "  <thead>\n",
       "    <tr style=\"text-align: right;\">\n",
       "      <th></th>\n",
       "      <th>event_name</th>\n",
       "      <th>uid</th>\n",
       "      <th>event_time</th>\n",
       "      <th>exp_id</th>\n",
       "    </tr>\n",
       "  </thead>\n",
       "  <tbody>\n",
       "    <tr>\n",
       "      <th>0</th>\n",
       "      <td>MainScreenAppear</td>\n",
       "      <td>4575588528974610257</td>\n",
       "      <td>1564029816</td>\n",
       "      <td>246</td>\n",
       "    </tr>\n",
       "    <tr>\n",
       "      <th>1</th>\n",
       "      <td>MainScreenAppear</td>\n",
       "      <td>7416695313311560658</td>\n",
       "      <td>1564053102</td>\n",
       "      <td>246</td>\n",
       "    </tr>\n",
       "    <tr>\n",
       "      <th>2</th>\n",
       "      <td>PaymentScreenSuccessful</td>\n",
       "      <td>3518123091307005509</td>\n",
       "      <td>1564054127</td>\n",
       "      <td>248</td>\n",
       "    </tr>\n",
       "    <tr>\n",
       "      <th>3</th>\n",
       "      <td>CartScreenAppear</td>\n",
       "      <td>3518123091307005509</td>\n",
       "      <td>1564054127</td>\n",
       "      <td>248</td>\n",
       "    </tr>\n",
       "    <tr>\n",
       "      <th>4</th>\n",
       "      <td>PaymentScreenSuccessful</td>\n",
       "      <td>6217807653094995999</td>\n",
       "      <td>1564055322</td>\n",
       "      <td>248</td>\n",
       "    </tr>\n",
       "    <tr>\n",
       "      <th>...</th>\n",
       "      <td>...</td>\n",
       "      <td>...</td>\n",
       "      <td>...</td>\n",
       "      <td>...</td>\n",
       "    </tr>\n",
       "    <tr>\n",
       "      <th>244121</th>\n",
       "      <td>MainScreenAppear</td>\n",
       "      <td>4599628364049201812</td>\n",
       "      <td>1565212345</td>\n",
       "      <td>247</td>\n",
       "    </tr>\n",
       "    <tr>\n",
       "      <th>244122</th>\n",
       "      <td>MainScreenAppear</td>\n",
       "      <td>5849806612437486590</td>\n",
       "      <td>1565212439</td>\n",
       "      <td>246</td>\n",
       "    </tr>\n",
       "    <tr>\n",
       "      <th>244123</th>\n",
       "      <td>MainScreenAppear</td>\n",
       "      <td>5746969938801999050</td>\n",
       "      <td>1565212483</td>\n",
       "      <td>246</td>\n",
       "    </tr>\n",
       "    <tr>\n",
       "      <th>244124</th>\n",
       "      <td>MainScreenAppear</td>\n",
       "      <td>5746969938801999050</td>\n",
       "      <td>1565212498</td>\n",
       "      <td>246</td>\n",
       "    </tr>\n",
       "    <tr>\n",
       "      <th>244125</th>\n",
       "      <td>OffersScreenAppear</td>\n",
       "      <td>5746969938801999050</td>\n",
       "      <td>1565212517</td>\n",
       "      <td>246</td>\n",
       "    </tr>\n",
       "  </tbody>\n",
       "</table>\n",
       "<p>244126 rows × 4 columns</p>\n",
       "</div>"
      ],
      "text/plain": [
       "                     event_name                  uid  event_time  exp_id\n",
       "0              MainScreenAppear  4575588528974610257  1564029816     246\n",
       "1              MainScreenAppear  7416695313311560658  1564053102     246\n",
       "2       PaymentScreenSuccessful  3518123091307005509  1564054127     248\n",
       "3              CartScreenAppear  3518123091307005509  1564054127     248\n",
       "4       PaymentScreenSuccessful  6217807653094995999  1564055322     248\n",
       "...                         ...                  ...         ...     ...\n",
       "244121         MainScreenAppear  4599628364049201812  1565212345     247\n",
       "244122         MainScreenAppear  5849806612437486590  1565212439     246\n",
       "244123         MainScreenAppear  5746969938801999050  1565212483     246\n",
       "244124         MainScreenAppear  5746969938801999050  1565212498     246\n",
       "244125       OffersScreenAppear  5746969938801999050  1565212517     246\n",
       "\n",
       "[244126 rows x 4 columns]"
      ]
     },
     "execution_count": 5,
     "metadata": {},
     "output_type": "execute_result"
    }
   ],
   "source": [
    "df_exp = df_exp.rename(columns=new_name_columns)\n",
    "df_exp"
   ]
  },
  {
   "cell_type": "markdown",
   "metadata": {},
   "source": [
    "### Valores duplicados y ausentes"
   ]
  },
  {
   "cell_type": "code",
   "execution_count": 6,
   "metadata": {},
   "outputs": [
    {
     "data": {
      "text/plain": [
       "413"
      ]
     },
     "execution_count": 6,
     "metadata": {},
     "output_type": "execute_result"
    }
   ],
   "source": [
    "duplicados = df_exp.duplicated().sum()\n",
    "duplicados"
   ]
  },
  {
   "cell_type": "code",
   "execution_count": 7,
   "metadata": {},
   "outputs": [
    {
     "data": {
      "text/html": [
       "<div>\n",
       "<style scoped>\n",
       "    .dataframe tbody tr th:only-of-type {\n",
       "        vertical-align: middle;\n",
       "    }\n",
       "\n",
       "    .dataframe tbody tr th {\n",
       "        vertical-align: top;\n",
       "    }\n",
       "\n",
       "    .dataframe thead th {\n",
       "        text-align: right;\n",
       "    }\n",
       "</style>\n",
       "<table border=\"1\" class=\"dataframe\">\n",
       "  <thead>\n",
       "    <tr style=\"text-align: right;\">\n",
       "      <th></th>\n",
       "      <th>event_name</th>\n",
       "      <th>uid</th>\n",
       "      <th>event_time</th>\n",
       "      <th>exp_id</th>\n",
       "    </tr>\n",
       "  </thead>\n",
       "  <tbody>\n",
       "    <tr>\n",
       "      <th>453</th>\n",
       "      <td>MainScreenAppear</td>\n",
       "      <td>5613408041324010552</td>\n",
       "      <td>1564474784</td>\n",
       "      <td>248</td>\n",
       "    </tr>\n",
       "    <tr>\n",
       "      <th>2350</th>\n",
       "      <td>CartScreenAppear</td>\n",
       "      <td>1694940645335807244</td>\n",
       "      <td>1564609899</td>\n",
       "      <td>248</td>\n",
       "    </tr>\n",
       "    <tr>\n",
       "      <th>3573</th>\n",
       "      <td>MainScreenAppear</td>\n",
       "      <td>434103746454591587</td>\n",
       "      <td>1564628377</td>\n",
       "      <td>248</td>\n",
       "    </tr>\n",
       "    <tr>\n",
       "      <th>4076</th>\n",
       "      <td>MainScreenAppear</td>\n",
       "      <td>3761373764179762633</td>\n",
       "      <td>1564631266</td>\n",
       "      <td>247</td>\n",
       "    </tr>\n",
       "    <tr>\n",
       "      <th>4803</th>\n",
       "      <td>MainScreenAppear</td>\n",
       "      <td>2835328739789306622</td>\n",
       "      <td>1564634641</td>\n",
       "      <td>248</td>\n",
       "    </tr>\n",
       "    <tr>\n",
       "      <th>...</th>\n",
       "      <td>...</td>\n",
       "      <td>...</td>\n",
       "      <td>...</td>\n",
       "      <td>...</td>\n",
       "    </tr>\n",
       "    <tr>\n",
       "      <th>242329</th>\n",
       "      <td>MainScreenAppear</td>\n",
       "      <td>8870358373313968633</td>\n",
       "      <td>1565206004</td>\n",
       "      <td>247</td>\n",
       "    </tr>\n",
       "    <tr>\n",
       "      <th>242332</th>\n",
       "      <td>PaymentScreenSuccessful</td>\n",
       "      <td>4718002964983105693</td>\n",
       "      <td>1565206005</td>\n",
       "      <td>247</td>\n",
       "    </tr>\n",
       "    <tr>\n",
       "      <th>242360</th>\n",
       "      <td>PaymentScreenSuccessful</td>\n",
       "      <td>2382591782303281935</td>\n",
       "      <td>1565206049</td>\n",
       "      <td>246</td>\n",
       "    </tr>\n",
       "    <tr>\n",
       "      <th>242362</th>\n",
       "      <td>CartScreenAppear</td>\n",
       "      <td>2382591782303281935</td>\n",
       "      <td>1565206049</td>\n",
       "      <td>246</td>\n",
       "    </tr>\n",
       "    <tr>\n",
       "      <th>242635</th>\n",
       "      <td>MainScreenAppear</td>\n",
       "      <td>4097782667445790512</td>\n",
       "      <td>1565206618</td>\n",
       "      <td>246</td>\n",
       "    </tr>\n",
       "  </tbody>\n",
       "</table>\n",
       "<p>413 rows × 4 columns</p>\n",
       "</div>"
      ],
      "text/plain": [
       "                     event_name                  uid  event_time  exp_id\n",
       "453            MainScreenAppear  5613408041324010552  1564474784     248\n",
       "2350           CartScreenAppear  1694940645335807244  1564609899     248\n",
       "3573           MainScreenAppear   434103746454591587  1564628377     248\n",
       "4076           MainScreenAppear  3761373764179762633  1564631266     247\n",
       "4803           MainScreenAppear  2835328739789306622  1564634641     248\n",
       "...                         ...                  ...         ...     ...\n",
       "242329         MainScreenAppear  8870358373313968633  1565206004     247\n",
       "242332  PaymentScreenSuccessful  4718002964983105693  1565206005     247\n",
       "242360  PaymentScreenSuccessful  2382591782303281935  1565206049     246\n",
       "242362         CartScreenAppear  2382591782303281935  1565206049     246\n",
       "242635         MainScreenAppear  4097782667445790512  1565206618     246\n",
       "\n",
       "[413 rows x 4 columns]"
      ]
     },
     "execution_count": 7,
     "metadata": {},
     "output_type": "execute_result"
    }
   ],
   "source": [
    "# observar filas duplicadas\n",
    "filas_duplicadas = df_exp[df_exp.duplicated()]\n",
    "filas_duplicadas"
   ]
  },
  {
   "cell_type": "code",
   "execution_count": 8,
   "metadata": {},
   "outputs": [
    {
     "data": {
      "text/html": [
       "<div>\n",
       "<style scoped>\n",
       "    .dataframe tbody tr th:only-of-type {\n",
       "        vertical-align: middle;\n",
       "    }\n",
       "\n",
       "    .dataframe tbody tr th {\n",
       "        vertical-align: top;\n",
       "    }\n",
       "\n",
       "    .dataframe thead th {\n",
       "        text-align: right;\n",
       "    }\n",
       "</style>\n",
       "<table border=\"1\" class=\"dataframe\">\n",
       "  <thead>\n",
       "    <tr style=\"text-align: right;\">\n",
       "      <th></th>\n",
       "      <th>event_name</th>\n",
       "      <th>uid</th>\n",
       "      <th>event_time</th>\n",
       "      <th>exp_id</th>\n",
       "    </tr>\n",
       "  </thead>\n",
       "  <tbody>\n",
       "    <tr>\n",
       "      <th>7249</th>\n",
       "      <td>OffersScreenAppear</td>\n",
       "      <td>7224691986599895551</td>\n",
       "      <td>1564641846</td>\n",
       "      <td>246</td>\n",
       "    </tr>\n",
       "    <tr>\n",
       "      <th>9179</th>\n",
       "      <td>MainScreenAppear</td>\n",
       "      <td>2230705996155527339</td>\n",
       "      <td>1564646087</td>\n",
       "      <td>246</td>\n",
       "    </tr>\n",
       "    <tr>\n",
       "      <th>15304</th>\n",
       "      <td>PaymentScreenSuccessful</td>\n",
       "      <td>8125832085431322921</td>\n",
       "      <td>1564657270</td>\n",
       "      <td>246</td>\n",
       "    </tr>\n",
       "    <tr>\n",
       "      <th>17037</th>\n",
       "      <td>CartScreenAppear</td>\n",
       "      <td>197027893265565660</td>\n",
       "      <td>1564659614</td>\n",
       "      <td>246</td>\n",
       "    </tr>\n",
       "    <tr>\n",
       "      <th>17763</th>\n",
       "      <td>MainScreenAppear</td>\n",
       "      <td>677967665205174414</td>\n",
       "      <td>1564660750</td>\n",
       "      <td>246</td>\n",
       "    </tr>\n",
       "    <tr>\n",
       "      <th>...</th>\n",
       "      <td>...</td>\n",
       "      <td>...</td>\n",
       "      <td>...</td>\n",
       "      <td>...</td>\n",
       "    </tr>\n",
       "    <tr>\n",
       "      <th>238543</th>\n",
       "      <td>MainScreenAppear</td>\n",
       "      <td>8118046800480174342</td>\n",
       "      <td>1565198103</td>\n",
       "      <td>246</td>\n",
       "    </tr>\n",
       "    <tr>\n",
       "      <th>241191</th>\n",
       "      <td>CartScreenAppear</td>\n",
       "      <td>1379176160808388540</td>\n",
       "      <td>1565203745</td>\n",
       "      <td>246</td>\n",
       "    </tr>\n",
       "    <tr>\n",
       "      <th>242360</th>\n",
       "      <td>PaymentScreenSuccessful</td>\n",
       "      <td>2382591782303281935</td>\n",
       "      <td>1565206049</td>\n",
       "      <td>246</td>\n",
       "    </tr>\n",
       "    <tr>\n",
       "      <th>242362</th>\n",
       "      <td>CartScreenAppear</td>\n",
       "      <td>2382591782303281935</td>\n",
       "      <td>1565206049</td>\n",
       "      <td>246</td>\n",
       "    </tr>\n",
       "    <tr>\n",
       "      <th>242635</th>\n",
       "      <td>MainScreenAppear</td>\n",
       "      <td>4097782667445790512</td>\n",
       "      <td>1565206618</td>\n",
       "      <td>246</td>\n",
       "    </tr>\n",
       "  </tbody>\n",
       "</table>\n",
       "<p>123 rows × 4 columns</p>\n",
       "</div>"
      ],
      "text/plain": [
       "                     event_name                  uid  event_time  exp_id\n",
       "7249         OffersScreenAppear  7224691986599895551  1564641846     246\n",
       "9179           MainScreenAppear  2230705996155527339  1564646087     246\n",
       "15304   PaymentScreenSuccessful  8125832085431322921  1564657270     246\n",
       "17037          CartScreenAppear   197027893265565660  1564659614     246\n",
       "17763          MainScreenAppear   677967665205174414  1564660750     246\n",
       "...                         ...                  ...         ...     ...\n",
       "238543         MainScreenAppear  8118046800480174342  1565198103     246\n",
       "241191         CartScreenAppear  1379176160808388540  1565203745     246\n",
       "242360  PaymentScreenSuccessful  2382591782303281935  1565206049     246\n",
       "242362         CartScreenAppear  2382591782303281935  1565206049     246\n",
       "242635         MainScreenAppear  4097782667445790512  1565206618     246\n",
       "\n",
       "[123 rows x 4 columns]"
      ]
     },
     "execution_count": 8,
     "metadata": {},
     "output_type": "execute_result"
    }
   ],
   "source": [
    "# cuantos duplicados hay en el grupo control 1\n",
    "filas_duplicadas.query('exp_id == 246')"
   ]
  },
  {
   "cell_type": "code",
   "execution_count": 9,
   "metadata": {},
   "outputs": [
    {
     "data": {
      "text/html": [
       "<div>\n",
       "<style scoped>\n",
       "    .dataframe tbody tr th:only-of-type {\n",
       "        vertical-align: middle;\n",
       "    }\n",
       "\n",
       "    .dataframe tbody tr th {\n",
       "        vertical-align: top;\n",
       "    }\n",
       "\n",
       "    .dataframe thead th {\n",
       "        text-align: right;\n",
       "    }\n",
       "</style>\n",
       "<table border=\"1\" class=\"dataframe\">\n",
       "  <thead>\n",
       "    <tr style=\"text-align: right;\">\n",
       "      <th></th>\n",
       "      <th>event_name</th>\n",
       "      <th>uid</th>\n",
       "      <th>event_time</th>\n",
       "      <th>exp_id</th>\n",
       "    </tr>\n",
       "  </thead>\n",
       "  <tbody>\n",
       "    <tr>\n",
       "      <th>4076</th>\n",
       "      <td>MainScreenAppear</td>\n",
       "      <td>3761373764179762633</td>\n",
       "      <td>1564631266</td>\n",
       "      <td>247</td>\n",
       "    </tr>\n",
       "    <tr>\n",
       "      <th>12454</th>\n",
       "      <td>PaymentScreenSuccessful</td>\n",
       "      <td>5152160705477623487</td>\n",
       "      <td>1564652139</td>\n",
       "      <td>247</td>\n",
       "    </tr>\n",
       "    <tr>\n",
       "      <th>13055</th>\n",
       "      <td>PaymentScreenSuccessful</td>\n",
       "      <td>6258460144399027762</td>\n",
       "      <td>1564653224</td>\n",
       "      <td>247</td>\n",
       "    </tr>\n",
       "    <tr>\n",
       "      <th>15746</th>\n",
       "      <td>PaymentScreenSuccessful</td>\n",
       "      <td>2877433916175408776</td>\n",
       "      <td>1564658001</td>\n",
       "      <td>247</td>\n",
       "    </tr>\n",
       "    <tr>\n",
       "      <th>15751</th>\n",
       "      <td>PaymentScreenSuccessful</td>\n",
       "      <td>3528217211962170139</td>\n",
       "      <td>1564658003</td>\n",
       "      <td>247</td>\n",
       "    </tr>\n",
       "    <tr>\n",
       "      <th>...</th>\n",
       "      <td>...</td>\n",
       "      <td>...</td>\n",
       "      <td>...</td>\n",
       "      <td>...</td>\n",
       "    </tr>\n",
       "    <tr>\n",
       "      <th>236910</th>\n",
       "      <td>MainScreenAppear</td>\n",
       "      <td>8973626519929080220</td>\n",
       "      <td>1565195542</td>\n",
       "      <td>247</td>\n",
       "    </tr>\n",
       "    <tr>\n",
       "      <th>241946</th>\n",
       "      <td>MainScreenAppear</td>\n",
       "      <td>7378574512287645351</td>\n",
       "      <td>1565205244</td>\n",
       "      <td>247</td>\n",
       "    </tr>\n",
       "    <tr>\n",
       "      <th>242327</th>\n",
       "      <td>PaymentScreenSuccessful</td>\n",
       "      <td>4718002964983105693</td>\n",
       "      <td>1565206004</td>\n",
       "      <td>247</td>\n",
       "    </tr>\n",
       "    <tr>\n",
       "      <th>242329</th>\n",
       "      <td>MainScreenAppear</td>\n",
       "      <td>8870358373313968633</td>\n",
       "      <td>1565206004</td>\n",
       "      <td>247</td>\n",
       "    </tr>\n",
       "    <tr>\n",
       "      <th>242332</th>\n",
       "      <td>PaymentScreenSuccessful</td>\n",
       "      <td>4718002964983105693</td>\n",
       "      <td>1565206005</td>\n",
       "      <td>247</td>\n",
       "    </tr>\n",
       "  </tbody>\n",
       "</table>\n",
       "<p>125 rows × 4 columns</p>\n",
       "</div>"
      ],
      "text/plain": [
       "                     event_name                  uid  event_time  exp_id\n",
       "4076           MainScreenAppear  3761373764179762633  1564631266     247\n",
       "12454   PaymentScreenSuccessful  5152160705477623487  1564652139     247\n",
       "13055   PaymentScreenSuccessful  6258460144399027762  1564653224     247\n",
       "15746   PaymentScreenSuccessful  2877433916175408776  1564658001     247\n",
       "15751   PaymentScreenSuccessful  3528217211962170139  1564658003     247\n",
       "...                         ...                  ...         ...     ...\n",
       "236910         MainScreenAppear  8973626519929080220  1565195542     247\n",
       "241946         MainScreenAppear  7378574512287645351  1565205244     247\n",
       "242327  PaymentScreenSuccessful  4718002964983105693  1565206004     247\n",
       "242329         MainScreenAppear  8870358373313968633  1565206004     247\n",
       "242332  PaymentScreenSuccessful  4718002964983105693  1565206005     247\n",
       "\n",
       "[125 rows x 4 columns]"
      ]
     },
     "execution_count": 9,
     "metadata": {},
     "output_type": "execute_result"
    }
   ],
   "source": [
    "# cuantos duplicados hay en el grupo control 2\n",
    "filas_duplicadas.query('exp_id == 247')"
   ]
  },
  {
   "cell_type": "code",
   "execution_count": 10,
   "metadata": {},
   "outputs": [
    {
     "data": {
      "text/html": [
       "<div>\n",
       "<style scoped>\n",
       "    .dataframe tbody tr th:only-of-type {\n",
       "        vertical-align: middle;\n",
       "    }\n",
       "\n",
       "    .dataframe tbody tr th {\n",
       "        vertical-align: top;\n",
       "    }\n",
       "\n",
       "    .dataframe thead th {\n",
       "        text-align: right;\n",
       "    }\n",
       "</style>\n",
       "<table border=\"1\" class=\"dataframe\">\n",
       "  <thead>\n",
       "    <tr style=\"text-align: right;\">\n",
       "      <th></th>\n",
       "      <th>event_name</th>\n",
       "      <th>uid</th>\n",
       "      <th>event_time</th>\n",
       "      <th>exp_id</th>\n",
       "    </tr>\n",
       "  </thead>\n",
       "  <tbody>\n",
       "    <tr>\n",
       "      <th>453</th>\n",
       "      <td>MainScreenAppear</td>\n",
       "      <td>5613408041324010552</td>\n",
       "      <td>1564474784</td>\n",
       "      <td>248</td>\n",
       "    </tr>\n",
       "    <tr>\n",
       "      <th>2350</th>\n",
       "      <td>CartScreenAppear</td>\n",
       "      <td>1694940645335807244</td>\n",
       "      <td>1564609899</td>\n",
       "      <td>248</td>\n",
       "    </tr>\n",
       "    <tr>\n",
       "      <th>3573</th>\n",
       "      <td>MainScreenAppear</td>\n",
       "      <td>434103746454591587</td>\n",
       "      <td>1564628377</td>\n",
       "      <td>248</td>\n",
       "    </tr>\n",
       "    <tr>\n",
       "      <th>4803</th>\n",
       "      <td>MainScreenAppear</td>\n",
       "      <td>2835328739789306622</td>\n",
       "      <td>1564634641</td>\n",
       "      <td>248</td>\n",
       "    </tr>\n",
       "    <tr>\n",
       "      <th>5641</th>\n",
       "      <td>CartScreenAppear</td>\n",
       "      <td>4248762472840564256</td>\n",
       "      <td>1564637764</td>\n",
       "      <td>248</td>\n",
       "    </tr>\n",
       "    <tr>\n",
       "      <th>...</th>\n",
       "      <td>...</td>\n",
       "      <td>...</td>\n",
       "      <td>...</td>\n",
       "      <td>...</td>\n",
       "    </tr>\n",
       "    <tr>\n",
       "      <th>234986</th>\n",
       "      <td>MainScreenAppear</td>\n",
       "      <td>4841344099510929469</td>\n",
       "      <td>1565192803</td>\n",
       "      <td>248</td>\n",
       "    </tr>\n",
       "    <tr>\n",
       "      <th>235186</th>\n",
       "      <td>CartScreenAppear</td>\n",
       "      <td>299409047914517767</td>\n",
       "      <td>1565193055</td>\n",
       "      <td>248</td>\n",
       "    </tr>\n",
       "    <tr>\n",
       "      <th>236364</th>\n",
       "      <td>MainScreenAppear</td>\n",
       "      <td>2335509695522126029</td>\n",
       "      <td>1565194674</td>\n",
       "      <td>248</td>\n",
       "    </tr>\n",
       "    <tr>\n",
       "      <th>237504</th>\n",
       "      <td>CartScreenAppear</td>\n",
       "      <td>7046680021796213910</td>\n",
       "      <td>1565196534</td>\n",
       "      <td>248</td>\n",
       "    </tr>\n",
       "    <tr>\n",
       "      <th>237594</th>\n",
       "      <td>PaymentScreenSuccessful</td>\n",
       "      <td>3610536745613892312</td>\n",
       "      <td>1565196673</td>\n",
       "      <td>248</td>\n",
       "    </tr>\n",
       "  </tbody>\n",
       "</table>\n",
       "<p>165 rows × 4 columns</p>\n",
       "</div>"
      ],
      "text/plain": [
       "                     event_name                  uid  event_time  exp_id\n",
       "453            MainScreenAppear  5613408041324010552  1564474784     248\n",
       "2350           CartScreenAppear  1694940645335807244  1564609899     248\n",
       "3573           MainScreenAppear   434103746454591587  1564628377     248\n",
       "4803           MainScreenAppear  2835328739789306622  1564634641     248\n",
       "5641           CartScreenAppear  4248762472840564256  1564637764     248\n",
       "...                         ...                  ...         ...     ...\n",
       "234986         MainScreenAppear  4841344099510929469  1565192803     248\n",
       "235186         CartScreenAppear   299409047914517767  1565193055     248\n",
       "236364         MainScreenAppear  2335509695522126029  1565194674     248\n",
       "237504         CartScreenAppear  7046680021796213910  1565196534     248\n",
       "237594  PaymentScreenSuccessful  3610536745613892312  1565196673     248\n",
       "\n",
       "[165 rows x 4 columns]"
      ]
     },
     "execution_count": 10,
     "metadata": {},
     "output_type": "execute_result"
    }
   ],
   "source": [
    "# cuantos duplicados hay en el grupo nuevo \n",
    "filas_duplicadas.query('exp_id == 248')"
   ]
  },
  {
   "cell_type": "code",
   "execution_count": 11,
   "metadata": {},
   "outputs": [
    {
     "data": {
      "text/plain": [
       "event_name    0\n",
       "uid           0\n",
       "event_time    0\n",
       "exp_id        0\n",
       "dtype: int64"
      ]
     },
     "execution_count": 11,
     "metadata": {},
     "output_type": "execute_result"
    }
   ],
   "source": [
    "# mostrar valores ausentes\n",
    "ausentes = df_exp.isna().sum()\n",
    "ausentes"
   ]
  },
  {
   "cell_type": "markdown",
   "metadata": {},
   "source": [
    "### Crear columnas con fecha y hora, y una con fechas"
   ]
  },
  {
   "cell_type": "code",
   "execution_count": 12,
   "metadata": {},
   "outputs": [],
   "source": [
    "# crear columna con fecha y hora\n",
    "df_exp['date_hour'] = pd.to_datetime(df_exp['event_time'], unit='s')"
   ]
  },
  {
   "cell_type": "code",
   "execution_count": 13,
   "metadata": {},
   "outputs": [],
   "source": [
    "# crear columna con fecha\n",
    "df_exp['date'] = df_exp['date_hour'].dt.date\n",
    "\n",
    "df_exp['date'] = pd.to_datetime(df_exp['date'])"
   ]
  },
  {
   "cell_type": "code",
   "execution_count": 14,
   "metadata": {},
   "outputs": [
    {
     "data": {
      "text/html": [
       "<div>\n",
       "<style scoped>\n",
       "    .dataframe tbody tr th:only-of-type {\n",
       "        vertical-align: middle;\n",
       "    }\n",
       "\n",
       "    .dataframe tbody tr th {\n",
       "        vertical-align: top;\n",
       "    }\n",
       "\n",
       "    .dataframe thead th {\n",
       "        text-align: right;\n",
       "    }\n",
       "</style>\n",
       "<table border=\"1\" class=\"dataframe\">\n",
       "  <thead>\n",
       "    <tr style=\"text-align: right;\">\n",
       "      <th></th>\n",
       "      <th>event_name</th>\n",
       "      <th>uid</th>\n",
       "      <th>event_time</th>\n",
       "      <th>exp_id</th>\n",
       "      <th>date_hour</th>\n",
       "      <th>date</th>\n",
       "    </tr>\n",
       "  </thead>\n",
       "  <tbody>\n",
       "    <tr>\n",
       "      <th>0</th>\n",
       "      <td>MainScreenAppear</td>\n",
       "      <td>4575588528974610257</td>\n",
       "      <td>1564029816</td>\n",
       "      <td>246</td>\n",
       "      <td>2019-07-25 04:43:36</td>\n",
       "      <td>2019-07-25</td>\n",
       "    </tr>\n",
       "    <tr>\n",
       "      <th>1</th>\n",
       "      <td>MainScreenAppear</td>\n",
       "      <td>7416695313311560658</td>\n",
       "      <td>1564053102</td>\n",
       "      <td>246</td>\n",
       "      <td>2019-07-25 11:11:42</td>\n",
       "      <td>2019-07-25</td>\n",
       "    </tr>\n",
       "    <tr>\n",
       "      <th>2</th>\n",
       "      <td>PaymentScreenSuccessful</td>\n",
       "      <td>3518123091307005509</td>\n",
       "      <td>1564054127</td>\n",
       "      <td>248</td>\n",
       "      <td>2019-07-25 11:28:47</td>\n",
       "      <td>2019-07-25</td>\n",
       "    </tr>\n",
       "    <tr>\n",
       "      <th>3</th>\n",
       "      <td>CartScreenAppear</td>\n",
       "      <td>3518123091307005509</td>\n",
       "      <td>1564054127</td>\n",
       "      <td>248</td>\n",
       "      <td>2019-07-25 11:28:47</td>\n",
       "      <td>2019-07-25</td>\n",
       "    </tr>\n",
       "    <tr>\n",
       "      <th>4</th>\n",
       "      <td>PaymentScreenSuccessful</td>\n",
       "      <td>6217807653094995999</td>\n",
       "      <td>1564055322</td>\n",
       "      <td>248</td>\n",
       "      <td>2019-07-25 11:48:42</td>\n",
       "      <td>2019-07-25</td>\n",
       "    </tr>\n",
       "    <tr>\n",
       "      <th>...</th>\n",
       "      <td>...</td>\n",
       "      <td>...</td>\n",
       "      <td>...</td>\n",
       "      <td>...</td>\n",
       "      <td>...</td>\n",
       "      <td>...</td>\n",
       "    </tr>\n",
       "    <tr>\n",
       "      <th>244121</th>\n",
       "      <td>MainScreenAppear</td>\n",
       "      <td>4599628364049201812</td>\n",
       "      <td>1565212345</td>\n",
       "      <td>247</td>\n",
       "      <td>2019-08-07 21:12:25</td>\n",
       "      <td>2019-08-07</td>\n",
       "    </tr>\n",
       "    <tr>\n",
       "      <th>244122</th>\n",
       "      <td>MainScreenAppear</td>\n",
       "      <td>5849806612437486590</td>\n",
       "      <td>1565212439</td>\n",
       "      <td>246</td>\n",
       "      <td>2019-08-07 21:13:59</td>\n",
       "      <td>2019-08-07</td>\n",
       "    </tr>\n",
       "    <tr>\n",
       "      <th>244123</th>\n",
       "      <td>MainScreenAppear</td>\n",
       "      <td>5746969938801999050</td>\n",
       "      <td>1565212483</td>\n",
       "      <td>246</td>\n",
       "      <td>2019-08-07 21:14:43</td>\n",
       "      <td>2019-08-07</td>\n",
       "    </tr>\n",
       "    <tr>\n",
       "      <th>244124</th>\n",
       "      <td>MainScreenAppear</td>\n",
       "      <td>5746969938801999050</td>\n",
       "      <td>1565212498</td>\n",
       "      <td>246</td>\n",
       "      <td>2019-08-07 21:14:58</td>\n",
       "      <td>2019-08-07</td>\n",
       "    </tr>\n",
       "    <tr>\n",
       "      <th>244125</th>\n",
       "      <td>OffersScreenAppear</td>\n",
       "      <td>5746969938801999050</td>\n",
       "      <td>1565212517</td>\n",
       "      <td>246</td>\n",
       "      <td>2019-08-07 21:15:17</td>\n",
       "      <td>2019-08-07</td>\n",
       "    </tr>\n",
       "  </tbody>\n",
       "</table>\n",
       "<p>244126 rows × 6 columns</p>\n",
       "</div>"
      ],
      "text/plain": [
       "                     event_name                  uid  event_time  exp_id  \\\n",
       "0              MainScreenAppear  4575588528974610257  1564029816     246   \n",
       "1              MainScreenAppear  7416695313311560658  1564053102     246   \n",
       "2       PaymentScreenSuccessful  3518123091307005509  1564054127     248   \n",
       "3              CartScreenAppear  3518123091307005509  1564054127     248   \n",
       "4       PaymentScreenSuccessful  6217807653094995999  1564055322     248   \n",
       "...                         ...                  ...         ...     ...   \n",
       "244121         MainScreenAppear  4599628364049201812  1565212345     247   \n",
       "244122         MainScreenAppear  5849806612437486590  1565212439     246   \n",
       "244123         MainScreenAppear  5746969938801999050  1565212483     246   \n",
       "244124         MainScreenAppear  5746969938801999050  1565212498     246   \n",
       "244125       OffersScreenAppear  5746969938801999050  1565212517     246   \n",
       "\n",
       "                 date_hour       date  \n",
       "0      2019-07-25 04:43:36 2019-07-25  \n",
       "1      2019-07-25 11:11:42 2019-07-25  \n",
       "2      2019-07-25 11:28:47 2019-07-25  \n",
       "3      2019-07-25 11:28:47 2019-07-25  \n",
       "4      2019-07-25 11:48:42 2019-07-25  \n",
       "...                    ...        ...  \n",
       "244121 2019-08-07 21:12:25 2019-08-07  \n",
       "244122 2019-08-07 21:13:59 2019-08-07  \n",
       "244123 2019-08-07 21:14:43 2019-08-07  \n",
       "244124 2019-08-07 21:14:58 2019-08-07  \n",
       "244125 2019-08-07 21:15:17 2019-08-07  \n",
       "\n",
       "[244126 rows x 6 columns]"
      ]
     },
     "execution_count": 14,
     "metadata": {},
     "output_type": "execute_result"
    }
   ],
   "source": [
    "df_exp"
   ]
  },
  {
   "cell_type": "markdown",
   "metadata": {},
   "source": [
    "<span style=\"color:purple; font-weight:bold\">\n",
    "Al realizar el pre-procesamiento de los datos se realizaron modificaciones, la primera consistio en cambiar el nombre de las columnas, despues se analizaron los valores duplicados y ausentes, en donde no se encontraron valores ausentes pero duplicados si, un total de 413, de los cuales 123 son del grupo control 246, 125 para el grupo 247 y 165 filas duplicadas para el grupo 248. Al tratarse de un experimento con dos grupos control A, podrian ser relevantes para los resultados del análisis, por lo que opté por mantener los datos. \n",
    "</span>"
   ]
  },
  {
   "cell_type": "markdown",
   "metadata": {},
   "source": [
    "## Estudiar y comprobar los datos"
   ]
  },
  {
   "cell_type": "markdown",
   "metadata": {},
   "source": [
    "### ¿Cuántos eventos hay en los registros?"
   ]
  },
  {
   "cell_type": "code",
   "execution_count": 15,
   "metadata": {},
   "outputs": [
    {
     "name": "stdout",
     "output_type": "stream",
     "text": [
      "El total de eventos es de: 244126\n"
     ]
    }
   ],
   "source": [
    "eventos_totales = df_exp['event_name'].count()\n",
    "print(f'El total de eventos es de: {eventos_totales}')"
   ]
  },
  {
   "cell_type": "code",
   "execution_count": 16,
   "metadata": {},
   "outputs": [
    {
     "name": "stdout",
     "output_type": "stream",
     "text": [
      "event_name\n",
      "CartScreenAppear            42731\n",
      "MainScreenAppear           119205\n",
      "OffersScreenAppear          46825\n",
      "PaymentScreenSuccessful     34313\n",
      "Tutorial                     1052\n",
      "Name: date, dtype: int64\n"
     ]
    }
   ],
   "source": [
    "eventos_por_tipo = df_exp.groupby('event_name')['date'].count()\n",
    "print(eventos_por_tipo)"
   ]
  },
  {
   "cell_type": "code",
   "execution_count": 17,
   "metadata": {},
   "outputs": [
    {
     "data": {
      "image/png": "[encoded data removed]",
      "text/plain": [
       "<Figure size 1000x600 with 1 Axes>"
      ]
     },
     "metadata": {},
     "output_type": "display_data"
    }
   ],
   "source": [
    "ax = eventos_por_tipo.plot(\n",
    "    title='Total de eventos', \n",
    "    xlabel='Tipo de evento', \n",
    "    ylabel='Cantidad de eventos',\n",
    "    figsize=(10,6),\n",
    "    color='limegreen',\n",
    "    kind='bar')\n",
    "\n",
    "for bar in ax.containers[0]:\n",
    "    ax.annotate(\n",
    "        str(int(bar.get_height())),\n",
    "        (bar.get_x() + bar.get_width() / 2, bar.get_height()),\n",
    "        ha='center',\n",
    "        va='bottom',\n",
    "        fontsize=10,\n",
    "        color ='black')\n",
    "\n",
    "plt.grid(axis='y')\n",
    "plt.show()\n",
    "                     "
   ]
  },
  {
   "cell_type": "markdown",
   "metadata": {},
   "source": [
    "<span style=\"color:purple; font-weight:bold\">\n",
    "Al hacer el calculo de los eventos registrados se obtuvo un total de 244,126 dividido en 5 tipos de eventos, siendo el de Main Screen Appear el que tiene la mayoria de los eventos, seguido de Offer Screen Appear, , Cart, Payment y finalmente Tutorial\n",
    "\n",
    "</span>"
   ]
  },
  {
   "cell_type": "markdown",
   "metadata": {},
   "source": [
    "### ¿Cuántos usuarios y usuarias hay en los registros?"
   ]
  },
  {
   "cell_type": "code",
   "execution_count": 18,
   "metadata": {},
   "outputs": [
    {
     "name": "stdout",
     "output_type": "stream",
     "text": [
      "El total de usuarios/usuarias es de: 7551\n"
     ]
    }
   ],
   "source": [
    "# usuarios(as) unicas en los registros\n",
    "usuarios_totales = df_exp['uid'].nunique()\n",
    "print(f'El total de usuarios/usuarias es de: {usuarios_totales}')"
   ]
  },
  {
   "cell_type": "code",
   "execution_count": 19,
   "metadata": {},
   "outputs": [
    {
     "name": "stdout",
     "output_type": "stream",
     "text": [
      "event_name\n",
      "CartScreenAppear           3749\n",
      "MainScreenAppear           7439\n",
      "OffersScreenAppear         4613\n",
      "PaymentScreenSuccessful    3547\n",
      "Tutorial                    847\n",
      "Name: uid, dtype: int64\n"
     ]
    }
   ],
   "source": [
    "usuarios_por_evento = df_exp.groupby('event_name')['uid'].nunique()\n",
    "print(usuarios_por_evento)"
   ]
  },
  {
   "cell_type": "code",
   "execution_count": 20,
   "metadata": {},
   "outputs": [
    {
     "data": {
      "image/png": "[encoded data removed]",
      "text/plain": [
       "<Figure size 1000x600 with 1 Axes>"
      ]
     },
     "metadata": {},
     "output_type": "display_data"
    }
   ],
   "source": [
    "ax = usuarios_por_evento.plot(\n",
    "    title='Número de usuarios/usuarias en los registros', \n",
    "    xlabel='Tipo de evento',\n",
    "    ylabel='Número de usuarios/usuarias', \n",
    "    figsize=(10,6), \n",
    "    kind='bar', \n",
    "    color='indigo')\n",
    "\n",
    "# colocar numero en lo alto de la barra\n",
    "for barra in ax.containers[0]:\n",
    "    ax.annotate(\n",
    "        str(int(barra.get_height())),\n",
    "        (barra.get_x() + barra.get_width() / 2, barra.get_height()),\n",
    "        ha='center',\n",
    "        va='bottom',\n",
    "        fontsize=10,\n",
    "        color='black'\n",
    "    )\n",
    "\n",
    "plt.grid(axis='y')\n",
    "plt.show()"
   ]
  },
  {
   "cell_type": "markdown",
   "metadata": {},
   "source": [
    "<span style=\"color:purple; font-weight:bold\">\n",
    "Por otra parte al contabilizar los usuarios unicos se obtuvo un total de 7551, los cuales estan divididos de igual manera en los 5 tipos de eventos, sin embargo las cantidades son mayores al total de usuarios unicos, ya que es posible que algunos de ellos hayan realizado más de una accion en los distintos tipos de eventos. Nuevamente Main Screen es el que mayor cantidad de usuarios tiene, seguido de Offers, Cart, Payment y finalmente Tutorial.\n",
    "\n",
    "</span>"
   ]
  },
  {
   "cell_type": "markdown",
   "metadata": {},
   "source": [
    "### ¿Cuál es el promedio de eventos por usuario?"
   ]
  },
  {
   "cell_type": "code",
   "execution_count": 21,
   "metadata": {},
   "outputs": [
    {
     "name": "stdout",
     "output_type": "stream",
     "text": [
      "event_name\n",
      "CartScreenAppear           11.40\n",
      "MainScreenAppear           16.02\n",
      "OffersScreenAppear         10.15\n",
      "PaymentScreenSuccessful     9.67\n",
      "Tutorial                    1.24\n",
      "dtype: float64\n"
     ]
    }
   ],
   "source": [
    "mean_usuarios = (eventos_por_tipo / usuarios_por_evento).round(2)\n",
    "print(mean_usuarios)"
   ]
  },
  {
   "cell_type": "code",
   "execution_count": 22,
   "metadata": {},
   "outputs": [
    {
     "data": {
      "image/png": "[encoded data removed]",
      "text/plain": [
       "<Figure size 1000x600 with 1 Axes>"
      ]
     },
     "metadata": {},
     "output_type": "display_data"
    }
   ],
   "source": [
    "ax = mean_usuarios.plot(\n",
    "    title='Promedio de eventos por usuario', \n",
    "    xlabel='Tipo de evento',\n",
    "    ylabel='Promedio de usuarios/usuarias', \n",
    "    figsize=(10,6), \n",
    "    kind='bar', \n",
    "    color='firebrick')\n",
    "\n",
    "# colocar porcentaje en cada barra \n",
    "for bar in ax.containers[0]:\n",
    "    ax.annotate(\n",
    "        str(float(bar.get_height())),\n",
    "        (bar.get_x() + bar.get_width() / 2, bar.get_height()),\n",
    "        ha='center',\n",
    "        va='bottom',\n",
    "        fontsize=10,\n",
    "        color='black'\n",
    "    )\n",
    "\n",
    "plt.grid(axis='y')\n",
    "plt.show()"
   ]
  },
  {
   "cell_type": "markdown",
   "metadata": {},
   "source": [
    "<span style=\"color:purple; font-weight:bold\">\n",
    "El promedio de eventos por usuario fue calculado y se presenta en el anterior grafico, donde Main Screen tiene un promedio de 16.02, seguido de Cart con un promedio de, 11.4, después sigue Offer con un promedio de 10.15, luego Payment con un promedio de 9.67 y finalmente Tutorial con un promedio de 1.24 eventos por usuario\n",
    "\n",
    "</span>"
   ]
  },
  {
   "cell_type": "markdown",
   "metadata": {},
   "source": [
    "### ¿Qué periodo de tiempo cubren los datos? Encuentra la fecha máxima y mínima. Traza un histograma por fecha y hora."
   ]
  },
  {
   "cell_type": "code",
   "execution_count": 23,
   "metadata": {},
   "outputs": [
    {
     "name": "stdout",
     "output_type": "stream",
     "text": [
      "La fecha de inicio es: 2019-07-25 04:43:36\n"
     ]
    }
   ],
   "source": [
    "# fecha minima\n",
    "date_min = df_exp['date_hour'].min()\n",
    "print(f'La fecha de inicio es: {date_min}')"
   ]
  },
  {
   "cell_type": "code",
   "execution_count": 24,
   "metadata": {},
   "outputs": [
    {
     "name": "stdout",
     "output_type": "stream",
     "text": [
      "La fecha final es:2019-08-07 21:15:17\n"
     ]
    }
   ],
   "source": [
    "# fecha maxima\n",
    "date_max = df_exp['date_hour'].max()\n",
    "print(f'La fecha final es:{date_max}')"
   ]
  },
  {
   "cell_type": "code",
   "execution_count": 25,
   "metadata": {
    "scrolled": false
   },
   "outputs": [
    {
     "data": {
      "image/png": "[encoded data removed]",
      "text/plain": [
       "<Figure size 640x480 with 1 Axes>"
      ]
     },
     "metadata": {},
     "output_type": "display_data"
    }
   ],
   "source": [
    "# trazar histograma para conocer la distribucion de las fechas\n",
    "plt.hist(df_exp['date_hour'], bins=10)\n",
    "\n",
    "plt.xticks(rotation=90)\n",
    "plt.show()"
   ]
  },
  {
   "cell_type": "markdown",
   "metadata": {},
   "source": [
    "<span style=\"color:purple; font-weight:bold\">\n",
    "Al observar el histograma nos podemos percatar que los datos se encuentran mayormente distribuidos a partir del 1 de Agosto de 2019. Dejando muy pocos valores para el mes de Julio.\n",
    "</span>"
   ]
  },
  {
   "cell_type": "markdown",
   "metadata": {},
   "source": [
    "#### ¿Puedes tener seguridad de que tienes datos igualmente completos para todo el periodo?"
   ]
  },
  {
   "cell_type": "code",
   "execution_count": 26,
   "metadata": {},
   "outputs": [],
   "source": [
    "# filtrar datos entre las fechas de inicio y final \n",
    "fecha_inicio = '2019-07-25'\n",
    "fecha_final = '2019-08-07'\n",
    "\n",
    "filtro_fecha = (df_exp['date'] >= fecha_inicio) & (df_exp['date'] <= fecha_final)\n",
    "datos_filtrados = df_exp[filtro_fecha]"
   ]
  },
  {
   "cell_type": "code",
   "execution_count": 27,
   "metadata": {},
   "outputs": [
    {
     "data": {
      "text/plain": [
       "date\n",
       "2019-07-25        9\n",
       "2019-07-26       31\n",
       "2019-07-27       55\n",
       "2019-07-28      105\n",
       "2019-07-29      184\n",
       "2019-07-30      413\n",
       "2019-07-31     2031\n",
       "2019-08-01    36229\n",
       "2019-08-02    35606\n",
       "2019-08-03    33351\n",
       "2019-08-04    33033\n",
       "2019-08-05    36113\n",
       "2019-08-06    35822\n",
       "2019-08-07    31144\n",
       "Name: event_name, dtype: int64"
      ]
     },
     "execution_count": 27,
     "metadata": {},
     "output_type": "execute_result"
    }
   ],
   "source": [
    "#  contar eventos por dia \n",
    "eventos_por_dia = datos_filtrados.groupby('date')['event_name'].count()\n",
    "eventos_por_dia"
   ]
  },
  {
   "cell_type": "code",
   "execution_count": 28,
   "metadata": {},
   "outputs": [
    {
     "data": {
      "image/png": "[encoded data removed]",
      "text/plain": [
       "<Figure size 1000x600 with 1 Axes>"
      ]
     },
     "metadata": {},
     "output_type": "display_data"
    }
   ],
   "source": [
    "# grafico de lineas \n",
    "eventos_por_dia.plot(\n",
    "    title='Eventos por día', \n",
    "    xlabel='Fecha', \n",
    "    ylabel='Número de eventos', \n",
    "    figsize=(10,6),\n",
    "    marker='o', \n",
    "    color='dodgerblue')\n",
    "\n",
    "plt.grid(axis='y')\n",
    "plt.show()"
   ]
  },
  {
   "cell_type": "markdown",
   "metadata": {},
   "source": [
    "<span style=\"color:purple; font-weight:bold\">\n",
    "En el grafico de dispersión se observa que efectivamente los eventos del 25 al 31 de Julio son pocos, y a partir del 1 de Agosto los eventos tienen un incremento considerable.\n",
    "\n",
    "</span>"
   ]
  },
  {
   "cell_type": "markdown",
   "metadata": {},
   "source": [
    "####  ¿Qué periodo representa realmente los datos?"
   ]
  },
  {
   "cell_type": "code",
   "execution_count": 29,
   "metadata": {},
   "outputs": [],
   "source": [
    "# filtrar los datos de Julio\n",
    "periodo_julio = df_exp[df_exp['date'].between('2019-07-25', '2019-07-31')]"
   ]
  },
  {
   "cell_type": "code",
   "execution_count": 30,
   "metadata": {},
   "outputs": [
    {
     "name": "stdout",
     "output_type": "stream",
     "text": [
      "El total de eventos para el periodo de Julio es de: 2828\n"
     ]
    }
   ],
   "source": [
    "# contar el total de eventos para el periodo de Julio\n",
    "total_eventos_julio = periodo_julio['event_name'].count()\n",
    "print(f'El total de eventos para el periodo de Julio es de: {total_eventos_julio}')"
   ]
  },
  {
   "cell_type": "code",
   "execution_count": 31,
   "metadata": {},
   "outputs": [
    {
     "name": "stdout",
     "output_type": "stream",
     "text": [
      "El porcentaje del periodo de Julio es de: 1.16%\n"
     ]
    }
   ],
   "source": [
    "# porcentaje que tiene el periodo de julio \n",
    "porcentaje_julio = (total_eventos_julio / eventos_totales) * 100\n",
    "porcentaje_julio = porcentaje_julio.round(2)\n",
    "\n",
    "print(f'El porcentaje del periodo de Julio es de: {porcentaje_julio}%')"
   ]
  },
  {
   "cell_type": "code",
   "execution_count": 32,
   "metadata": {},
   "outputs": [],
   "source": [
    "# filtrar los datos por el periodo de Agosto\n",
    "periodo_agosto = df_exp[df_exp['date'].between('2019-08-01', '2019-08-07')]"
   ]
  },
  {
   "cell_type": "code",
   "execution_count": 33,
   "metadata": {},
   "outputs": [
    {
     "name": "stdout",
     "output_type": "stream",
     "text": [
      "El total de eventos para el periodo de Agosto es de: 241298\n"
     ]
    }
   ],
   "source": [
    "# contar eventos en el periodo de Agosto\n",
    "total_eventos_agosto = periodo_agosto['event_name'].count()\n",
    "print(f'El total de eventos para el periodo de Agosto es de: {total_eventos_agosto}')"
   ]
  },
  {
   "cell_type": "code",
   "execution_count": 34,
   "metadata": {},
   "outputs": [
    {
     "name": "stdout",
     "output_type": "stream",
     "text": [
      "El porcentaje del periodo de Agosto es de: 98.84%\n"
     ]
    }
   ],
   "source": [
    "# porcentaje que tiene el periodo de Agosto\n",
    "porcentaje_agosto = (total_eventos_agosto / eventos_totales) * 100\n",
    "porcentaje_agosto = porcentaje_agosto.round(2)\n",
    "\n",
    "print(f'El porcentaje del periodo de Agosto es de: {porcentaje_agosto}%')"
   ]
  },
  {
   "cell_type": "markdown",
   "metadata": {},
   "source": [
    "<span style=\"color:purple; font-weight:bold\">\n",
    "Al realizar un análisis por periodos se obtuvo como resultado que Agosto tiene en 98.84% de los datos, dejando con un 1.16% de los Eventos para el mes de Julio, lo cual significa que Agosto es el periodo que representa realmente los datos. \n",
    "\n",
    "</span>"
   ]
  },
  {
   "cell_type": "markdown",
   "metadata": {},
   "source": [
    "### ¿Perdiste muchos eventos y usuarios al excluir los datos más antiguos?"
   ]
  },
  {
   "cell_type": "markdown",
   "metadata": {},
   "source": [
    "#### Eventos perdidos"
   ]
  },
  {
   "cell_type": "code",
   "execution_count": 35,
   "metadata": {},
   "outputs": [
    {
     "data": {
      "text/plain": [
       "event_name\n",
       "CartScreenAppear            366\n",
       "MainScreenAppear           1774\n",
       "OffersScreenAppear          475\n",
       "PaymentScreenSuccessful     200\n",
       "Tutorial                     13\n",
       "Name: date, dtype: int64"
      ]
     },
     "execution_count": 35,
     "metadata": {},
     "output_type": "execute_result"
    }
   ],
   "source": [
    "eventos_julio = periodo_julio.groupby('event_name')['date'].count()\n",
    "eventos_julio"
   ]
  },
  {
   "cell_type": "code",
   "execution_count": 36,
   "metadata": {},
   "outputs": [
    {
     "name": "stdout",
     "output_type": "stream",
     "text": [
      "El numero de eventos durante Julio es de: 2828\n"
     ]
    }
   ],
   "source": [
    "eventos_julio_total = periodo_julio['event_name'].count()\n",
    "print(f'El numero de eventos durante Julio es de: {eventos_julio_total}')"
   ]
  },
  {
   "cell_type": "code",
   "execution_count": 37,
   "metadata": {},
   "outputs": [
    {
     "data": {
      "image/png": "[encoded data removed]",
      "text/plain": [
       "<Figure size 1000x600 with 1 Axes>"
      ]
     },
     "metadata": {},
     "output_type": "display_data"
    }
   ],
   "source": [
    "# grafico del numero de eventos para el periodo de julio\n",
    "ax = eventos_julio.plot(\n",
    "    title='Número de eventos para el periodo de Julio', \n",
    "    xlabel='Tipo de evento',\n",
    "    ylabel='Número de eventos', \n",
    "    figsize=(10,6), \n",
    "    kind='bar', \n",
    "    color='turquoise')\n",
    "\n",
    "# colocar numero en lo alto de la barra\n",
    "for barra in ax.containers[0]:\n",
    "    ax.annotate(\n",
    "        str(int(barra.get_height())),\n",
    "        (barra.get_x() + barra.get_width() / 2, barra.get_height()),\n",
    "        ha='center',\n",
    "        va='bottom',\n",
    "        fontsize=10,\n",
    "        color='black'\n",
    "    )\n",
    "\n",
    "plt.grid(axis='y')\n",
    "plt.show()"
   ]
  },
  {
   "cell_type": "code",
   "execution_count": 38,
   "metadata": {},
   "outputs": [
    {
     "data": {
      "text/plain": [
       "event_name\n",
       "CartScreenAppear            42365\n",
       "MainScreenAppear           117431\n",
       "OffersScreenAppear          46350\n",
       "PaymentScreenSuccessful     34113\n",
       "Tutorial                     1039\n",
       "Name: date, dtype: int64"
      ]
     },
     "execution_count": 38,
     "metadata": {},
     "output_type": "execute_result"
    }
   ],
   "source": [
    "eventos_agosto = periodo_agosto.groupby('event_name')['date'].count()\n",
    "eventos_agosto"
   ]
  },
  {
   "cell_type": "code",
   "execution_count": 39,
   "metadata": {},
   "outputs": [
    {
     "name": "stdout",
     "output_type": "stream",
     "text": [
      "El numero de eventos durante Agosto es de: 241298\n"
     ]
    }
   ],
   "source": [
    "eventos_agosto_total = periodo_agosto['event_name'].count()\n",
    "print(f'El numero de eventos durante Agosto es de: {eventos_agosto_total}')"
   ]
  },
  {
   "cell_type": "code",
   "execution_count": 40,
   "metadata": {},
   "outputs": [
    {
     "data": {
      "image/png": "[encoded data removed]",
      "text/plain": [
       "<Figure size 1000x600 with 1 Axes>"
      ]
     },
     "metadata": {},
     "output_type": "display_data"
    }
   ],
   "source": [
    "# grafico del numero de eventos para el periodo de agosto\n",
    "ax = eventos_agosto.plot(\n",
    "    title='Número de eventos para el periodo de Agosto', \n",
    "    xlabel='Tipo de evento',\n",
    "    ylabel='Número de eventos', \n",
    "    figsize=(10,6), \n",
    "    kind='bar', \n",
    "    color='navy')\n",
    "\n",
    "# colocar numero en lo alto de la barra\n",
    "for barra in ax.containers[0]:\n",
    "    ax.annotate(\n",
    "        str(int(barra.get_height())),\n",
    "        (barra.get_x() + barra.get_width() / 2, barra.get_height()),\n",
    "        ha='center',\n",
    "        va='bottom',\n",
    "        fontsize=10,\n",
    "        color='black'\n",
    "    )\n",
    "\n",
    "plt.grid(axis='y')\n",
    "plt.show()"
   ]
  },
  {
   "cell_type": "code",
   "execution_count": 41,
   "metadata": {},
   "outputs": [
    {
     "name": "stdout",
     "output_type": "stream",
     "text": [
      "El total de eventos después de excluir datos es de: 241298\n"
     ]
    }
   ],
   "source": [
    "# del total de eventos restar los datos del mes de julio\n",
    "eventos_excluidos = eventos_totales - eventos_julio_total \n",
    "\n",
    "print(f'El total de eventos después de excluir datos es de: {eventos_excluidos}')"
   ]
  },
  {
   "cell_type": "code",
   "execution_count": 42,
   "metadata": {},
   "outputs": [
    {
     "data": {
      "text/plain": [
       "event_name\n",
       "CartScreenAppear            42365\n",
       "MainScreenAppear           117431\n",
       "OffersScreenAppear          46350\n",
       "PaymentScreenSuccessful     34113\n",
       "Tutorial                     1039\n",
       "Name: date, dtype: int64"
      ]
     },
     "execution_count": 42,
     "metadata": {},
     "output_type": "execute_result"
    }
   ],
   "source": [
    "eventos_excluidos_tipo = eventos_por_tipo - eventos_julio\n",
    "eventos_excluidos_tipo"
   ]
  },
  {
   "cell_type": "code",
   "execution_count": 43,
   "metadata": {},
   "outputs": [],
   "source": [
    "# concatenar los resultados para mostrar grafico de barras\n",
    "eventos_combinados = pd.concat([eventos_julio, eventos_agosto, eventos_excluidos_tipo], axis='columns')"
   ]
  },
  {
   "cell_type": "code",
   "execution_count": 44,
   "metadata": {},
   "outputs": [],
   "source": [
    "# cambiar el nombre de las columnas\n",
    "eventos_combinados.columns = ['Julio', 'Agosto', 'Total de eventos al excluir datos']"
   ]
  },
  {
   "cell_type": "code",
   "execution_count": 45,
   "metadata": {},
   "outputs": [
    {
     "data": {
      "image/png": "[encoded data removed]",
      "text/plain": [
       "<Figure size 1000x600 with 1 Axes>"
      ]
     },
     "metadata": {},
     "output_type": "display_data"
    }
   ],
   "source": [
    "eventos_combinados.plot(\n",
    "    title=\"Comparación de eventos por mes y excluidos\", \n",
    "    xlabel= 'Tipo de evento', \n",
    "    ylabel= 'Cantidad de eventos',\n",
    "    kind='bar', \n",
    "    figsize=(10, 6),\n",
    "    color=['red', 'limegreen', 'lightsteelblue'] \n",
    ")\n",
    "\n",
    "\n",
    "plt.grid(axis='y')\n",
    "plt.show()"
   ]
  },
  {
   "cell_type": "markdown",
   "metadata": {},
   "source": [
    "<span style=\"color:purple; font-weight:bold\">\n",
    "Al analizar cuantos eventos se han perdido al excluir los datos de Julio, se obtuvo que este periodo solo cuenta con 2828 eventos, mientras que el periodo de Agosto tiene 241,298 eventos. Al calcular la diferencia de los eventos totales menos el periodo de Julio se observo que la perdida de eventos es minima, y como se habia explicado anteriormente estos datos solo ocupan el 1.16% del total de Eventos. Por lo cual no hay perdidas significativas.\n",
    "\n",
    "</span>"
   ]
  },
  {
   "cell_type": "markdown",
   "metadata": {},
   "source": [
    "#### Usuarios perdidos"
   ]
  },
  {
   "cell_type": "code",
   "execution_count": 46,
   "metadata": {},
   "outputs": [
    {
     "data": {
      "text/plain": [
       "event_name\n",
       "CartScreenAppear            283\n",
       "MainScreenAppear           1028\n",
       "OffersScreenAppear          323\n",
       "PaymentScreenSuccessful     177\n",
       "Tutorial                     11\n",
       "Name: uid, dtype: int64"
      ]
     },
     "execution_count": 46,
     "metadata": {},
     "output_type": "execute_result"
    }
   ],
   "source": [
    "# numero de usuarios unicos por evento\n",
    "usuarios_julio_eventos = periodo_julio.groupby('event_name')['uid'].nunique()\n",
    "usuarios_julio_eventos"
   ]
  },
  {
   "cell_type": "code",
   "execution_count": 47,
   "metadata": {},
   "outputs": [
    {
     "name": "stdout",
     "output_type": "stream",
     "text": [
      "El total de usuarios en el periodo de Julio son: 1451 usuarios\n"
     ]
    }
   ],
   "source": [
    "total_usuarios_julio = periodo_julio['uid'].nunique()\n",
    "print(f'El total de usuarios en el periodo de Julio son: {total_usuarios_julio} usuarios')"
   ]
  },
  {
   "cell_type": "code",
   "execution_count": 48,
   "metadata": {},
   "outputs": [
    {
     "data": {
      "image/png": "[encoded data removed]",
      "text/plain": [
       "<Figure size 1000x600 with 1 Axes>"
      ]
     },
     "metadata": {},
     "output_type": "display_data"
    }
   ],
   "source": [
    "ax = usuarios_julio_eventos.plot(\n",
    "    title='Número de usuarios/usuarias por el periodo de Julio', \n",
    "    xlabel='Tipo de evento',\n",
    "    ylabel='Número de usuarios/usuarias', \n",
    "    figsize=(10,6), \n",
    "    kind='bar', \n",
    "    color='orangered')\n",
    "\n",
    "# colocar numero en lo alto de la barra\n",
    "for barra in ax.containers[0]:\n",
    "    ax.annotate(\n",
    "        str(int(barra.get_height())),\n",
    "        (barra.get_x() + barra.get_width() / 2, barra.get_height()),\n",
    "        ha='center',\n",
    "        va='bottom',\n",
    "        fontsize=10,\n",
    "        color='black'\n",
    "    )\n",
    "\n",
    "plt.grid(axis='y')\n",
    "plt.show()"
   ]
  },
  {
   "cell_type": "code",
   "execution_count": 49,
   "metadata": {},
   "outputs": [
    {
     "data": {
      "text/plain": [
       "event_name\n",
       "CartScreenAppear           3734\n",
       "MainScreenAppear           7419\n",
       "OffersScreenAppear         4593\n",
       "PaymentScreenSuccessful    3539\n",
       "Tutorial                    840\n",
       "Name: uid, dtype: int64"
      ]
     },
     "execution_count": 49,
     "metadata": {},
     "output_type": "execute_result"
    }
   ],
   "source": [
    "usuarios_agosto_eventos = periodo_agosto.groupby('event_name')['uid'].nunique()\n",
    "usuarios_agosto_eventos"
   ]
  },
  {
   "cell_type": "code",
   "execution_count": 50,
   "metadata": {},
   "outputs": [
    {
     "name": "stdout",
     "output_type": "stream",
     "text": [
      "El total de usuarios en el periodo de Agosto son: 7534 usuarios\n"
     ]
    }
   ],
   "source": [
    "total_usuarios_agosto = periodo_agosto['uid'].nunique()\n",
    "print(f'El total de usuarios en el periodo de Agosto son: {total_usuarios_agosto} usuarios')"
   ]
  },
  {
   "cell_type": "code",
   "execution_count": 51,
   "metadata": {},
   "outputs": [
    {
     "data": {
      "image/png": "[encoded data removed]",
      "text/plain": [
       "<Figure size 1000x600 with 1 Axes>"
      ]
     },
     "metadata": {},
     "output_type": "display_data"
    }
   ],
   "source": [
    "ax = usuarios_agosto_eventos.plot(\n",
    "    title='Número de usuarios/usuarias por el periodo de Agosto', \n",
    "    xlabel='Tipo de evento',\n",
    "    ylabel='Número de usuarios/usuarias', \n",
    "    figsize=(10,6), \n",
    "    kind='bar', \n",
    "    color='teal')\n",
    "\n",
    "# colocar numero en lo alto de la barra\n",
    "for barra in ax.containers[0]:\n",
    "    ax.annotate(\n",
    "        str(int(barra.get_height())),\n",
    "        (barra.get_x() + barra.get_width() / 2, barra.get_height()),\n",
    "        ha='center',\n",
    "        va='bottom',\n",
    "        fontsize=10,\n",
    "        color='black'\n",
    "    )\n",
    "\n",
    "plt.grid(axis='y')\n",
    "plt.show()"
   ]
  },
  {
   "cell_type": "code",
   "execution_count": 52,
   "metadata": {},
   "outputs": [
    {
     "name": "stdout",
     "output_type": "stream",
     "text": [
      "El total de usuarios despues de excluir los datos antiguos es de: 6100\n"
     ]
    }
   ],
   "source": [
    "# total usuarios al excluir datos\n",
    "usuarios_excluidos =  usuarios_totales - total_usuarios_julio\n",
    "\n",
    "print(f'El total de usuarios despues de excluir los datos antiguos es de: {usuarios_excluidos}')"
   ]
  },
  {
   "cell_type": "code",
   "execution_count": 53,
   "metadata": {},
   "outputs": [
    {
     "data": {
      "text/plain": [
       "event_name\n",
       "CartScreenAppear           3466\n",
       "MainScreenAppear           6411\n",
       "OffersScreenAppear         4290\n",
       "PaymentScreenSuccessful    3370\n",
       "Tutorial                    836\n",
       "Name: uid, dtype: int64"
      ]
     },
     "execution_count": 53,
     "metadata": {},
     "output_type": "execute_result"
    }
   ],
   "source": [
    "# total usuarios por eventos despues de excluir datos\n",
    "usuarios_eventos_excluidos = usuarios_por_evento - usuarios_julio_eventos\n",
    "\n",
    "usuarios_eventos_excluidos"
   ]
  },
  {
   "cell_type": "code",
   "execution_count": 54,
   "metadata": {},
   "outputs": [],
   "source": [
    "usuarios_combinados = pd.concat([usuarios_julio_eventos, usuarios_agosto_eventos, usuarios_eventos_excluidos], axis='columns')"
   ]
  },
  {
   "cell_type": "code",
   "execution_count": 55,
   "metadata": {},
   "outputs": [],
   "source": [
    "usuarios_combinados.columns=['Julio', 'Agosto', 'Total usuarios al excluir datos']"
   ]
  },
  {
   "cell_type": "code",
   "execution_count": 56,
   "metadata": {},
   "outputs": [
    {
     "data": {
      "image/png": "[encoded data removed]",
      "text/plain": [
       "<Figure size 1000x600 with 1 Axes>"
      ]
     },
     "metadata": {},
     "output_type": "display_data"
    }
   ],
   "source": [
    "ax = usuarios_combinados.plot(\n",
    "    title='Número de usuarios/usuarias después de excluir datos antiguos', \n",
    "    xlabel='Tipo de evento',\n",
    "    ylabel='Número de usuarios/usuarias', \n",
    "    figsize=(10,6), \n",
    "    kind='bar', \n",
    "    color=['thistle','cyan','turquoise']\n",
    ")\n",
    "\n",
    "plt.grid(axis='y')\n",
    "plt.show()"
   ]
  },
  {
   "cell_type": "markdown",
   "metadata": {},
   "source": [
    "<span style=\"color:purple; font-weight:bold\">\n",
    "En cuanto a la perdida de usuarios, se logra observar que el periodo de Julio cuenta con un total de 1451 usuarios unicos, mientras que Agosto cuenta con 7534 usuarios unicos. En los graficos se logra observar que la cantidad de usuarios es mayor a los antes mencionados, sin embargo es necesario recordar que un usuario pudo haber realizado distintas acciones en los diferentes tipos de eventos. Finalmente al calcular la diferencia entre los usuarios unicos totales y los del periodo de Julio se observa en el ultimo grafico, que de igual manera que en los Eventos, estos no son significativos, y podemos continuar con el análisis.\n",
    "\n",
    "</span>"
   ]
  },
  {
   "cell_type": "markdown",
   "metadata": {},
   "source": [
    "### Asegúrate de tener usuarios y usuarias de los tres grupos experimentales."
   ]
  },
  {
   "cell_type": "code",
   "execution_count": 57,
   "metadata": {},
   "outputs": [
    {
     "name": "stdout",
     "output_type": "stream",
     "text": [
      "El total de usuarios únicos (casos de exito) para el grupo experimental 246 es de: 2484\n"
     ]
    }
   ],
   "source": [
    "# filtrar los datos\n",
    "data_246 = periodo_agosto.query('exp_id == 246')\n",
    "\n",
    "# contar los usuarios unicos del grupo experimental\n",
    "exitos_246 = data_246['uid'].nunique()\n",
    "\n",
    "print(f'El total de usuarios únicos (casos de exito) para el grupo experimental 246 es de: {exitos_246}')"
   ]
  },
  {
   "cell_type": "code",
   "execution_count": 58,
   "metadata": {},
   "outputs": [
    {
     "name": "stdout",
     "output_type": "stream",
     "text": [
      "El total de usuarios únicos (casos de exito) para el grupo experimental 247 es de: 2513\n"
     ]
    }
   ],
   "source": [
    "# filtrar los datos\n",
    "data_247 = periodo_agosto.query('exp_id == 247')\n",
    "\n",
    "# contar los usuarios unicos del grupo experimental\n",
    "exitos_247 = data_247['uid'].nunique()\n",
    "\n",
    "print(f'El total de usuarios únicos (casos de exito) para el grupo experimental 247 es de: {exitos_247}')"
   ]
  },
  {
   "cell_type": "code",
   "execution_count": 59,
   "metadata": {},
   "outputs": [
    {
     "name": "stdout",
     "output_type": "stream",
     "text": [
      "El total de usuarios únicos (casos de exito) para el grupo experimental 248 es de: 2537\n"
     ]
    }
   ],
   "source": [
    "# filtrar los datos\n",
    "data_248 = periodo_agosto.query('exp_id == 248')\n",
    "\n",
    "# contar los usuarios unicos del grupo experimental\n",
    "exitos_248 = data_248['uid'].nunique()\n",
    "\n",
    "print(f'El total de usuarios únicos (casos de exito) para el grupo experimental 248 es de: {exitos_248}')"
   ]
  },
  {
   "cell_type": "markdown",
   "metadata": {},
   "source": [
    "<span style=\"color:purple; font-weight:bold\">\n",
    "Al analizar el numero de usuarios unicos por grupo experimental se puede apreciar que los 3 cuentan con un numero muy similar. Lo que permite continuar con el análisis.\n",
    "</span>"
   ]
  },
  {
   "cell_type": "markdown",
   "metadata": {},
   "source": [
    "<div class=\"alert alert-block alert-success\">\n",
    "<b>Comentario del revisor</b> <a class=\"tocSkip\"></a>\n",
    "\n",
    "¡Excelente trabajo al realizar un análisis exhaustivo de los datos en términos de eventos, usuarios, y periodos de tiempo! Has manejado correctamente el preprocesamiento al identificar la distribución de eventos y usuarios únicos, destacando que el 98.84% de los datos provienen de agosto, mientras que el impacto de los eventos y usuarios de julio es mínimo. Además, asegurar que los grupos experimentales tengan un número similar de usuarios es un paso importante para garantizar la validez del experimento. La visualización de los datos a lo largo del tiempo proporciona una visión clara y útil para continuar con el análisis. ¡Bien hecho!\n",
    "</div>\n"
   ]
  },
  {
   "cell_type": "markdown",
   "metadata": {},
   "source": [
    "## Estudiar el embudo de eventos"
   ]
  },
  {
   "cell_type": "markdown",
   "metadata": {},
   "source": [
    "### Observa qué eventos hay en los registros y su frecuencia de suceso. Ordénalos por frecuencia."
   ]
  },
  {
   "cell_type": "code",
   "execution_count": 60,
   "metadata": {},
   "outputs": [],
   "source": [
    "# encontrar los eventos por usuario\n",
    "event_count = periodo_agosto.groupby('event_name')['uid'].count().reset_index()"
   ]
  },
  {
   "cell_type": "code",
   "execution_count": 61,
   "metadata": {},
   "outputs": [],
   "source": [
    "# renombrar columnas\n",
    "event_count.columns=['Stage', 'Quantity']"
   ]
  },
  {
   "cell_type": "code",
   "execution_count": 62,
   "metadata": {},
   "outputs": [],
   "source": [
    "# ordenar los eventos por cantidad \n",
    "event_count.sort_values(by='Quantity', ascending=False, inplace=True)"
   ]
  },
  {
   "cell_type": "code",
   "execution_count": 63,
   "metadata": {},
   "outputs": [
    {
     "data": {
      "text/html": [
       "<div>\n",
       "<style scoped>\n",
       "    .dataframe tbody tr th:only-of-type {\n",
       "        vertical-align: middle;\n",
       "    }\n",
       "\n",
       "    .dataframe tbody tr th {\n",
       "        vertical-align: top;\n",
       "    }\n",
       "\n",
       "    .dataframe thead th {\n",
       "        text-align: right;\n",
       "    }\n",
       "</style>\n",
       "<table border=\"1\" class=\"dataframe\">\n",
       "  <thead>\n",
       "    <tr style=\"text-align: right;\">\n",
       "      <th></th>\n",
       "      <th>Stage</th>\n",
       "      <th>Quantity</th>\n",
       "    </tr>\n",
       "  </thead>\n",
       "  <tbody>\n",
       "    <tr>\n",
       "      <th>1</th>\n",
       "      <td>MainScreenAppear</td>\n",
       "      <td>117431</td>\n",
       "    </tr>\n",
       "    <tr>\n",
       "      <th>2</th>\n",
       "      <td>OffersScreenAppear</td>\n",
       "      <td>46350</td>\n",
       "    </tr>\n",
       "    <tr>\n",
       "      <th>0</th>\n",
       "      <td>CartScreenAppear</td>\n",
       "      <td>42365</td>\n",
       "    </tr>\n",
       "    <tr>\n",
       "      <th>3</th>\n",
       "      <td>PaymentScreenSuccessful</td>\n",
       "      <td>34113</td>\n",
       "    </tr>\n",
       "    <tr>\n",
       "      <th>4</th>\n",
       "      <td>Tutorial</td>\n",
       "      <td>1039</td>\n",
       "    </tr>\n",
       "  </tbody>\n",
       "</table>\n",
       "</div>"
      ],
      "text/plain": [
       "                     Stage  Quantity\n",
       "1         MainScreenAppear    117431\n",
       "2       OffersScreenAppear     46350\n",
       "0         CartScreenAppear     42365\n",
       "3  PaymentScreenSuccessful     34113\n",
       "4                 Tutorial      1039"
      ]
     },
     "execution_count": 63,
     "metadata": {},
     "output_type": "execute_result"
    }
   ],
   "source": [
    "event_count"
   ]
  },
  {
   "cell_type": "code",
   "execution_count": 64,
   "metadata": {},
   "outputs": [
    {
     "data": {
      "image/png": "[encoded data removed]",
      "text/plain": [
       "<Figure size 1200x600 with 1 Axes>"
      ]
     },
     "metadata": {},
     "output_type": "display_data"
    }
   ],
   "source": [
    "plt.style.use(\"dark_background\")\n",
    "plt.figure(figsize=(12,6))\n",
    "\n",
    "sns.barplot(\n",
    "    x='Stage', \n",
    "    y='Quantity', \n",
    "    data=event_count)\n",
    "\n",
    "plt.title('Embudo de frecuencia de sucesos por evento')\n",
    "plt.show()"
   ]
  },
  {
   "cell_type": "markdown",
   "metadata": {},
   "source": [
    "<span style=\"color:purple; font-weight:bold\">\n",
    "Para poder identificar la frecuencia de eventos fue necesario construir un embudo, en el cual se observa que las fases tienen un orden comenzando por Main Screen, siguiendo con Offer Screen, Cart Screen y Payment Screen, lo cual al compararlo con otros sitios web, tienen un orden común (sucede en cualquier otro sitio). Sin embargo, la parte final del embudo, es decir, el evento Tutorial es el que menos frecuencia tiene lo que podria indicar que muchos usuarios omiten esta fase o la desconocen. \n",
    "</span>"
   ]
  },
  {
   "cell_type": "markdown",
   "metadata": {},
   "source": [
    "### Encuentra la cantidad de usuarios y usuarias que realizaron cada una de estas acciones. Ordena los eventos por el número de usuarios y usuarias. "
   ]
  },
  {
   "cell_type": "code",
   "execution_count": 65,
   "metadata": {},
   "outputs": [
    {
     "name": "stdout",
     "output_type": "stream",
     "text": [
      "                          uid\n",
      "event_name                   \n",
      "MainScreenAppear         7419\n",
      "OffersScreenAppear       4593\n",
      "CartScreenAppear         3734\n",
      "PaymentScreenSuccessful  3539\n",
      "Tutorial                  840\n"
     ]
    }
   ],
   "source": [
    "# encontrar los eventos por usuario unico \n",
    "user_uniq = periodo_agosto.groupby('event_name').agg({'uid':'nunique'})\n",
    "print(user_uniq.sort_values(by='uid', ascending=False))"
   ]
  },
  {
   "cell_type": "markdown",
   "metadata": {},
   "source": [
    "### Calcula la proporción de usuarios y usuarias que realizaron la acción al menos una vez."
   ]
  },
  {
   "cell_type": "code",
   "execution_count": 66,
   "metadata": {},
   "outputs": [
    {
     "name": "stdout",
     "output_type": "stream",
     "text": [
      "                           uid\n",
      "event_name                    \n",
      "MainScreenAppear         98.47\n",
      "OffersScreenAppear       60.96\n",
      "CartScreenAppear         49.56\n",
      "PaymentScreenSuccessful  46.97\n",
      "Tutorial                 11.15\n"
     ]
    }
   ],
   "source": [
    "# calcular las proporciones \n",
    "proporciones = user_uniq / total_usuarios_agosto * 100\n",
    "print(proporciones.sort_values(by='uid', ascending=False).round(2))"
   ]
  },
  {
   "cell_type": "markdown",
   "metadata": {},
   "source": [
    "<span style=\"color:purple; font-weight:bold\">\n",
    "Al calcular las proporciones se observa que el 98.47% de usuarios entrar a la pagina principal, después un 60.96% entrar a la pagina de ofertas, seguido de un 49.56% de usuarios que entran a la pagina de carrito y finalmente el 46.97% completa el pago, esto hay que recordar es de usuarios que al menos una vez han realizado estas acciones. Por otra parte la fase de Tutorial vuelve a presentar una proporcion baja de usuarios.\n",
    "</span>"
   ]
  },
  {
   "cell_type": "markdown",
   "metadata": {},
   "source": [
    "### ¿En qué orden crees que ocurrieron las acciones? ¿Todas son parte de una sola secuencia?"
   ]
  },
  {
   "cell_type": "code",
   "execution_count": 67,
   "metadata": {},
   "outputs": [],
   "source": [
    "# agrupar por usuario y evento para encontrar el primer evento que occurrio\n",
    "event_order = periodo_agosto.groupby(['uid', 'event_name'])['date_hour'].min().reset_index()"
   ]
  },
  {
   "cell_type": "code",
   "execution_count": 68,
   "metadata": {},
   "outputs": [],
   "source": [
    "# crear columna nueva donde se almacenen el orden de los eventos\n",
    "event_order['event_order'] = event_order.groupby('uid')['date_hour'].rank(method='first')"
   ]
  },
  {
   "cell_type": "code",
   "execution_count": 69,
   "metadata": {},
   "outputs": [],
   "source": [
    "# ordenar por usuario y el orden en que sucedieron los eventos \n",
    "event_order_sorted = event_order.sort_values(by=['uid', 'event_order'])"
   ]
  },
  {
   "cell_type": "code",
   "execution_count": 70,
   "metadata": {
    "scrolled": false
   },
   "outputs": [
    {
     "data": {
      "text/html": [
       "<div>\n",
       "<style scoped>\n",
       "    .dataframe tbody tr th:only-of-type {\n",
       "        vertical-align: middle;\n",
       "    }\n",
       "\n",
       "    .dataframe tbody tr th {\n",
       "        vertical-align: top;\n",
       "    }\n",
       "\n",
       "    .dataframe thead th {\n",
       "        text-align: right;\n",
       "    }\n",
       "</style>\n",
       "<table border=\"1\" class=\"dataframe\">\n",
       "  <thead>\n",
       "    <tr style=\"text-align: right;\">\n",
       "      <th></th>\n",
       "      <th>uid</th>\n",
       "      <th>event_name</th>\n",
       "      <th>date_hour</th>\n",
       "      <th>event_order</th>\n",
       "    </tr>\n",
       "  </thead>\n",
       "  <tbody>\n",
       "    <tr>\n",
       "      <th>0</th>\n",
       "      <td>6888746892508752</td>\n",
       "      <td>MainScreenAppear</td>\n",
       "      <td>2019-08-06 14:06:34</td>\n",
       "      <td>1.0</td>\n",
       "    </tr>\n",
       "    <tr>\n",
       "      <th>2</th>\n",
       "      <td>6909561520679493</td>\n",
       "      <td>MainScreenAppear</td>\n",
       "      <td>2019-08-06 18:52:54</td>\n",
       "      <td>1.0</td>\n",
       "    </tr>\n",
       "    <tr>\n",
       "      <th>1</th>\n",
       "      <td>6909561520679493</td>\n",
       "      <td>CartScreenAppear</td>\n",
       "      <td>2019-08-06 18:52:58</td>\n",
       "      <td>2.0</td>\n",
       "    </tr>\n",
       "    <tr>\n",
       "      <th>4</th>\n",
       "      <td>6909561520679493</td>\n",
       "      <td>PaymentScreenSuccessful</td>\n",
       "      <td>2019-08-06 18:52:58</td>\n",
       "      <td>3.0</td>\n",
       "    </tr>\n",
       "    <tr>\n",
       "      <th>3</th>\n",
       "      <td>6909561520679493</td>\n",
       "      <td>OffersScreenAppear</td>\n",
       "      <td>2019-08-06 18:53:04</td>\n",
       "      <td>4.0</td>\n",
       "    </tr>\n",
       "    <tr>\n",
       "      <th>6</th>\n",
       "      <td>6922444491712477</td>\n",
       "      <td>MainScreenAppear</td>\n",
       "      <td>2019-08-04 14:19:33</td>\n",
       "      <td>1.0</td>\n",
       "    </tr>\n",
       "    <tr>\n",
       "      <th>5</th>\n",
       "      <td>6922444491712477</td>\n",
       "      <td>CartScreenAppear</td>\n",
       "      <td>2019-08-04 14:19:40</td>\n",
       "      <td>2.0</td>\n",
       "    </tr>\n",
       "    <tr>\n",
       "      <th>8</th>\n",
       "      <td>6922444491712477</td>\n",
       "      <td>PaymentScreenSuccessful</td>\n",
       "      <td>2019-08-04 14:19:40</td>\n",
       "      <td>3.0</td>\n",
       "    </tr>\n",
       "    <tr>\n",
       "      <th>7</th>\n",
       "      <td>6922444491712477</td>\n",
       "      <td>OffersScreenAppear</td>\n",
       "      <td>2019-08-04 14:19:46</td>\n",
       "      <td>4.0</td>\n",
       "    </tr>\n",
       "    <tr>\n",
       "      <th>9</th>\n",
       "      <td>7435777799948366</td>\n",
       "      <td>MainScreenAppear</td>\n",
       "      <td>2019-08-05 08:06:34</td>\n",
       "      <td>1.0</td>\n",
       "    </tr>\n",
       "    <tr>\n",
       "      <th>11</th>\n",
       "      <td>7702139951469979</td>\n",
       "      <td>MainScreenAppear</td>\n",
       "      <td>2019-08-01 04:29:54</td>\n",
       "      <td>1.0</td>\n",
       "    </tr>\n",
       "    <tr>\n",
       "      <th>12</th>\n",
       "      <td>7702139951469979</td>\n",
       "      <td>OffersScreenAppear</td>\n",
       "      <td>2019-08-01 04:29:56</td>\n",
       "      <td>2.0</td>\n",
       "    </tr>\n",
       "    <tr>\n",
       "      <th>10</th>\n",
       "      <td>7702139951469979</td>\n",
       "      <td>CartScreenAppear</td>\n",
       "      <td>2019-08-02 14:28:45</td>\n",
       "      <td>3.0</td>\n",
       "    </tr>\n",
       "    <tr>\n",
       "      <th>13</th>\n",
       "      <td>7702139951469979</td>\n",
       "      <td>PaymentScreenSuccessful</td>\n",
       "      <td>2019-08-02 14:28:45</td>\n",
       "      <td>4.0</td>\n",
       "    </tr>\n",
       "    <tr>\n",
       "      <th>16</th>\n",
       "      <td>8486814028069281</td>\n",
       "      <td>OffersScreenAppear</td>\n",
       "      <td>2019-08-05 04:49:13</td>\n",
       "      <td>1.0</td>\n",
       "    </tr>\n",
       "    <tr>\n",
       "      <th>14</th>\n",
       "      <td>8486814028069281</td>\n",
       "      <td>CartScreenAppear</td>\n",
       "      <td>2019-08-05 04:49:18</td>\n",
       "      <td>2.0</td>\n",
       "    </tr>\n",
       "    <tr>\n",
       "      <th>15</th>\n",
       "      <td>8486814028069281</td>\n",
       "      <td>MainScreenAppear</td>\n",
       "      <td>2019-08-05 04:52:40</td>\n",
       "      <td>3.0</td>\n",
       "    </tr>\n",
       "    <tr>\n",
       "      <th>17</th>\n",
       "      <td>8740973466195562</td>\n",
       "      <td>MainScreenAppear</td>\n",
       "      <td>2019-08-02 09:16:48</td>\n",
       "      <td>1.0</td>\n",
       "    </tr>\n",
       "    <tr>\n",
       "      <th>18</th>\n",
       "      <td>8740973466195562</td>\n",
       "      <td>OffersScreenAppear</td>\n",
       "      <td>2019-08-02 09:43:59</td>\n",
       "      <td>2.0</td>\n",
       "    </tr>\n",
       "    <tr>\n",
       "      <th>23</th>\n",
       "      <td>9841258664663090</td>\n",
       "      <td>Tutorial</td>\n",
       "      <td>2019-08-03 10:47:28</td>\n",
       "      <td>1.0</td>\n",
       "    </tr>\n",
       "  </tbody>\n",
       "</table>\n",
       "</div>"
      ],
      "text/plain": [
       "                 uid               event_name           date_hour  event_order\n",
       "0   6888746892508752         MainScreenAppear 2019-08-06 14:06:34          1.0\n",
       "2   6909561520679493         MainScreenAppear 2019-08-06 18:52:54          1.0\n",
       "1   6909561520679493         CartScreenAppear 2019-08-06 18:52:58          2.0\n",
       "4   6909561520679493  PaymentScreenSuccessful 2019-08-06 18:52:58          3.0\n",
       "3   6909561520679493       OffersScreenAppear 2019-08-06 18:53:04          4.0\n",
       "6   6922444491712477         MainScreenAppear 2019-08-04 14:19:33          1.0\n",
       "5   6922444491712477         CartScreenAppear 2019-08-04 14:19:40          2.0\n",
       "8   6922444491712477  PaymentScreenSuccessful 2019-08-04 14:19:40          3.0\n",
       "7   6922444491712477       OffersScreenAppear 2019-08-04 14:19:46          4.0\n",
       "9   7435777799948366         MainScreenAppear 2019-08-05 08:06:34          1.0\n",
       "11  7702139951469979         MainScreenAppear 2019-08-01 04:29:54          1.0\n",
       "12  7702139951469979       OffersScreenAppear 2019-08-01 04:29:56          2.0\n",
       "10  7702139951469979         CartScreenAppear 2019-08-02 14:28:45          3.0\n",
       "13  7702139951469979  PaymentScreenSuccessful 2019-08-02 14:28:45          4.0\n",
       "16  8486814028069281       OffersScreenAppear 2019-08-05 04:49:13          1.0\n",
       "14  8486814028069281         CartScreenAppear 2019-08-05 04:49:18          2.0\n",
       "15  8486814028069281         MainScreenAppear 2019-08-05 04:52:40          3.0\n",
       "17  8740973466195562         MainScreenAppear 2019-08-02 09:16:48          1.0\n",
       "18  8740973466195562       OffersScreenAppear 2019-08-02 09:43:59          2.0\n",
       "23  9841258664663090                 Tutorial 2019-08-03 10:47:28          1.0"
      ]
     },
     "execution_count": 70,
     "metadata": {},
     "output_type": "execute_result"
    }
   ],
   "source": [
    "event_order_sorted.head(20)"
   ]
  },
  {
   "cell_type": "markdown",
   "metadata": {},
   "source": [
    "<span style=\"color:purple; font-weight:bold\">\n",
    "Al analizar el orden de las acciones de los usuarios se logra observar que no todos los usuarios tienen una secuencia completa, ya que algunos entran a Main Screen y a Offer Screen, pero ahi termina su secuencia. hay otros usuarios que incluso empiezan su secuencia en Cart Screen y concluyen con Payment Screen. Por lo que no todos los usuarios cumplen con la secuencia esperada. \n",
    "</span>"
   ]
  },
  {
   "cell_type": "markdown",
   "metadata": {},
   "source": [
    "### Utiliza el embudo de eventos para encontrar la proporción de usuarios y usuarias que pasan de una etapa a la siguiente."
   ]
  },
  {
   "cell_type": "code",
   "execution_count": 71,
   "metadata": {},
   "outputs": [],
   "source": [
    "user_pivot = periodo_agosto.pivot_table(\n",
    "    index='uid',\n",
    "    columns='event_name',\n",
    "    values='date_hour',\n",
    "    aggfunc='min'\n",
    ")"
   ]
  },
  {
   "cell_type": "code",
   "execution_count": 72,
   "metadata": {
    "scrolled": true
   },
   "outputs": [
    {
     "data": {
      "text/html": [
       "<div>\n",
       "<style scoped>\n",
       "    .dataframe tbody tr th:only-of-type {\n",
       "        vertical-align: middle;\n",
       "    }\n",
       "\n",
       "    .dataframe tbody tr th {\n",
       "        vertical-align: top;\n",
       "    }\n",
       "\n",
       "    .dataframe thead th {\n",
       "        text-align: right;\n",
       "    }\n",
       "</style>\n",
       "<table border=\"1\" class=\"dataframe\">\n",
       "  <thead>\n",
       "    <tr style=\"text-align: right;\">\n",
       "      <th>event_name</th>\n",
       "      <th>CartScreenAppear</th>\n",
       "      <th>MainScreenAppear</th>\n",
       "      <th>OffersScreenAppear</th>\n",
       "      <th>PaymentScreenSuccessful</th>\n",
       "      <th>Tutorial</th>\n",
       "    </tr>\n",
       "    <tr>\n",
       "      <th>uid</th>\n",
       "      <th></th>\n",
       "      <th></th>\n",
       "      <th></th>\n",
       "      <th></th>\n",
       "      <th></th>\n",
       "    </tr>\n",
       "  </thead>\n",
       "  <tbody>\n",
       "    <tr>\n",
       "      <th>6888746892508752</th>\n",
       "      <td>NaT</td>\n",
       "      <td>2019-08-06 14:06:34</td>\n",
       "      <td>NaT</td>\n",
       "      <td>NaT</td>\n",
       "      <td>NaT</td>\n",
       "    </tr>\n",
       "    <tr>\n",
       "      <th>6909561520679493</th>\n",
       "      <td>2019-08-06 18:52:58</td>\n",
       "      <td>2019-08-06 18:52:54</td>\n",
       "      <td>2019-08-06 18:53:04</td>\n",
       "      <td>2019-08-06 18:52:58</td>\n",
       "      <td>NaT</td>\n",
       "    </tr>\n",
       "    <tr>\n",
       "      <th>6922444491712477</th>\n",
       "      <td>2019-08-04 14:19:40</td>\n",
       "      <td>2019-08-04 14:19:33</td>\n",
       "      <td>2019-08-04 14:19:46</td>\n",
       "      <td>2019-08-04 14:19:40</td>\n",
       "      <td>NaT</td>\n",
       "    </tr>\n",
       "    <tr>\n",
       "      <th>7435777799948366</th>\n",
       "      <td>NaT</td>\n",
       "      <td>2019-08-05 08:06:34</td>\n",
       "      <td>NaT</td>\n",
       "      <td>NaT</td>\n",
       "      <td>NaT</td>\n",
       "    </tr>\n",
       "    <tr>\n",
       "      <th>7702139951469979</th>\n",
       "      <td>2019-08-02 14:28:45</td>\n",
       "      <td>2019-08-01 04:29:54</td>\n",
       "      <td>2019-08-01 04:29:56</td>\n",
       "      <td>2019-08-02 14:28:45</td>\n",
       "      <td>NaT</td>\n",
       "    </tr>\n",
       "  </tbody>\n",
       "</table>\n",
       "</div>"
      ],
      "text/plain": [
       "event_name          CartScreenAppear    MainScreenAppear  OffersScreenAppear  \\\n",
       "uid                                                                            \n",
       "6888746892508752                 NaT 2019-08-06 14:06:34                 NaT   \n",
       "6909561520679493 2019-08-06 18:52:58 2019-08-06 18:52:54 2019-08-06 18:53:04   \n",
       "6922444491712477 2019-08-04 14:19:40 2019-08-04 14:19:33 2019-08-04 14:19:46   \n",
       "7435777799948366                 NaT 2019-08-05 08:06:34                 NaT   \n",
       "7702139951469979 2019-08-02 14:28:45 2019-08-01 04:29:54 2019-08-01 04:29:56   \n",
       "\n",
       "event_name       PaymentScreenSuccessful Tutorial  \n",
       "uid                                                \n",
       "6888746892508752                     NaT      NaT  \n",
       "6909561520679493     2019-08-06 18:52:58      NaT  \n",
       "6922444491712477     2019-08-04 14:19:40      NaT  \n",
       "7435777799948366                     NaT      NaT  \n",
       "7702139951469979     2019-08-02 14:28:45      NaT  "
      ]
     },
     "execution_count": 72,
     "metadata": {},
     "output_type": "execute_result"
    }
   ],
   "source": [
    "user_pivot.head()"
   ]
  },
  {
   "cell_type": "code",
   "execution_count": 73,
   "metadata": {},
   "outputs": [],
   "source": [
    "# declarar los pasos \n",
    "step_1 = ~user_pivot['MainScreenAppear'].isna()\n",
    "step_2 = step_1 & (user_pivot['OffersScreenAppear'] > user_pivot['MainScreenAppear'])\n",
    "step_3 = step_2 & (user_pivot['CartScreenAppear'] > user_pivot['OffersScreenAppear'])\n",
    "step_4 = step_3 & (user_pivot['PaymentScreenSuccessful'] > user_pivot['CartScreenAppear'])\n",
    "step_5 = step_4 & (user_pivot['Tutorial'] > user_pivot['PaymentScreenSuccessful'])"
   ]
  },
  {
   "cell_type": "code",
   "execution_count": 74,
   "metadata": {},
   "outputs": [],
   "source": [
    "# crear variables con los pasos de la hora de su primer visita y los que realizaron la accion\n",
    "n_mainScreen = user_pivot[step_1].shape[0]\n",
    "n_offers = user_pivot[step_2].shape[0]\n",
    "n_cart = user_pivot[step_3].shape[0]\n",
    "n_payment = user_pivot[step_4].shape[0]\n",
    "n_tutorial = user_pivot[step_5].shape[0]"
   ]
  },
  {
   "cell_type": "code",
   "execution_count": 75,
   "metadata": {},
   "outputs": [
    {
     "name": "stdout",
     "output_type": "stream",
     "text": [
      "Visitantes: 7419\n",
      "Vio pagina de oferta: 4201\n",
      "Se agregó un producto al carrito: 1767\n",
      "Pagado: 454\n",
      "Vio Tutorial:  1\n"
     ]
    }
   ],
   "source": [
    "print('Visitantes:', n_mainScreen)\n",
    "print('Vio pagina de oferta:', n_offers)\n",
    "print('Se agregó un producto al carrito:', n_cart)\n",
    "print('Pagado:', n_payment)\n",
    "print('Vio Tutorial: ', n_tutorial)"
   ]
  },
  {
   "cell_type": "markdown",
   "metadata": {},
   "source": [
    "<span style=\"color:purple; font-weight:bold\">\n",
    "Al realizar el embudo de secuencias de usuarios que pasan a otra fase se obtuvo que de un total de 7419 usuarios que visitaron Main Screen la siguiente etapa solo consiguio mantener a 4201 usuarios, despues los usuarios que llegan a Cart Screen son 1767 y por ultimo, solo 454 usuarios pagan la orden. Esto recordemos es de los usuarios que siguen con una secuencia esperada, es decir, comenzando en la etapa 1 y terminando en la etapa 4.\n",
    "</span>"
   ]
  },
  {
   "cell_type": "markdown",
   "metadata": {},
   "source": [
    "### ¿En qué etapa pierdes más usuarios y usuarias?"
   ]
  },
  {
   "cell_type": "code",
   "execution_count": 76,
   "metadata": {},
   "outputs": [],
   "source": [
    "# crear diccionario con los datos obtenidos\n",
    "embudo_usuarios = {\n",
    "    'MainScreenAppear' : n_mainScreen,\n",
    "    'OffersScreenAppear' : n_offers,\n",
    "    'CartScreenAppear' : n_cart,\n",
    "    'PaymentScreenSuccessful' : n_payment,\n",
    "    'Tutorial' : n_tutorial\n",
    "}"
   ]
  },
  {
   "cell_type": "code",
   "execution_count": 77,
   "metadata": {},
   "outputs": [],
   "source": [
    "# crear DF con los datos del embudo\n",
    "df_embudo = pd.DataFrame(list(embudo_usuarios.items()))\n",
    "\n",
    "# renombrar columnas\n",
    "df_embudo.columns=['event_name', 'usuarios_despues_embudo']"
   ]
  },
  {
   "cell_type": "code",
   "execution_count": 78,
   "metadata": {},
   "outputs": [],
   "source": [
    "# resetear index de usuarios unicos iniciales y renombrar columnas\n",
    "user_unico = user_uniq.sort_values(by='uid', ascending=False).reset_index()\n",
    "user_unico.columns= ['event_name', 'usuarios_iniciales']"
   ]
  },
  {
   "cell_type": "code",
   "execution_count": 79,
   "metadata": {},
   "outputs": [],
   "source": [
    "# combinar los DF \n",
    "df_comparativo = user_unico.merge(df_embudo, on='event_name')"
   ]
  },
  {
   "cell_type": "code",
   "execution_count": 80,
   "metadata": {},
   "outputs": [],
   "source": [
    "# calcular la diferencia entre los usuarios inciales y los que restan despues del embudo\n",
    "df_comparativo['usuarios_perdidos'] = df_comparativo['usuarios_iniciales'] - df_comparativo['usuarios_despues_embudo']"
   ]
  },
  {
   "cell_type": "code",
   "execution_count": 81,
   "metadata": {},
   "outputs": [
    {
     "data": {
      "text/html": [
       "<div>\n",
       "<style scoped>\n",
       "    .dataframe tbody tr th:only-of-type {\n",
       "        vertical-align: middle;\n",
       "    }\n",
       "\n",
       "    .dataframe tbody tr th {\n",
       "        vertical-align: top;\n",
       "    }\n",
       "\n",
       "    .dataframe thead th {\n",
       "        text-align: right;\n",
       "    }\n",
       "</style>\n",
       "<table border=\"1\" class=\"dataframe\">\n",
       "  <thead>\n",
       "    <tr style=\"text-align: right;\">\n",
       "      <th></th>\n",
       "      <th>event_name</th>\n",
       "      <th>usuarios_iniciales</th>\n",
       "      <th>usuarios_despues_embudo</th>\n",
       "      <th>usuarios_perdidos</th>\n",
       "    </tr>\n",
       "  </thead>\n",
       "  <tbody>\n",
       "    <tr>\n",
       "      <th>0</th>\n",
       "      <td>MainScreenAppear</td>\n",
       "      <td>7419</td>\n",
       "      <td>7419</td>\n",
       "      <td>0</td>\n",
       "    </tr>\n",
       "    <tr>\n",
       "      <th>1</th>\n",
       "      <td>OffersScreenAppear</td>\n",
       "      <td>4593</td>\n",
       "      <td>4201</td>\n",
       "      <td>392</td>\n",
       "    </tr>\n",
       "    <tr>\n",
       "      <th>2</th>\n",
       "      <td>CartScreenAppear</td>\n",
       "      <td>3734</td>\n",
       "      <td>1767</td>\n",
       "      <td>1967</td>\n",
       "    </tr>\n",
       "    <tr>\n",
       "      <th>3</th>\n",
       "      <td>PaymentScreenSuccessful</td>\n",
       "      <td>3539</td>\n",
       "      <td>454</td>\n",
       "      <td>3085</td>\n",
       "    </tr>\n",
       "    <tr>\n",
       "      <th>4</th>\n",
       "      <td>Tutorial</td>\n",
       "      <td>840</td>\n",
       "      <td>1</td>\n",
       "      <td>839</td>\n",
       "    </tr>\n",
       "  </tbody>\n",
       "</table>\n",
       "</div>"
      ],
      "text/plain": [
       "                event_name  usuarios_iniciales  usuarios_despues_embudo  \\\n",
       "0         MainScreenAppear                7419                     7419   \n",
       "1       OffersScreenAppear                4593                     4201   \n",
       "2         CartScreenAppear                3734                     1767   \n",
       "3  PaymentScreenSuccessful                3539                      454   \n",
       "4                 Tutorial                 840                        1   \n",
       "\n",
       "   usuarios_perdidos  \n",
       "0                  0  \n",
       "1                392  \n",
       "2               1967  \n",
       "3               3085  \n",
       "4                839  "
      ]
     },
     "execution_count": 81,
     "metadata": {},
     "output_type": "execute_result"
    }
   ],
   "source": [
    "df_comparativo"
   ]
  },
  {
   "cell_type": "markdown",
   "metadata": {},
   "source": [
    "<span style=\"color:purple; font-weight:bold\">\n",
    "Al realizar el calculo de los usuarios que se pierden entre etapas se puede observar que se pierden mas usuarios de la etapa Cart Screen a Payment Screen con un total de 3085 usuarios. Tambien es importante señalar que de la etapa Main a Offers hay una perdida de 2826 usuarios\n",
    "</span>"
   ]
  },
  {
   "cell_type": "markdown",
   "metadata": {},
   "source": [
    "### ¿Qué porcentaje de usuarios y usuarias hace todo el viaje desde su primer evento hasta el pago?"
   ]
  },
  {
   "cell_type": "code",
   "execution_count": 82,
   "metadata": {},
   "outputs": [],
   "source": [
    "# crear columna con porcentajes de usuarios que concluyen la compra\n",
    "df_comparativo['conversion_siguiente_etapa'] = (\n",
    "    df_comparativo['usuarios_despues_embudo'] / df_comparativo['usuarios_iniciales']) * 100"
   ]
  },
  {
   "cell_type": "code",
   "execution_count": 83,
   "metadata": {},
   "outputs": [],
   "source": [
    "# redondear a 2 digitos\n",
    "df_comparativo['conversion_siguiente_etapa'] = df_comparativo['conversion_siguiente_etapa'].round(2)"
   ]
  },
  {
   "cell_type": "code",
   "execution_count": 84,
   "metadata": {},
   "outputs": [
    {
     "data": {
      "text/html": [
       "<div>\n",
       "<style scoped>\n",
       "    .dataframe tbody tr th:only-of-type {\n",
       "        vertical-align: middle;\n",
       "    }\n",
       "\n",
       "    .dataframe tbody tr th {\n",
       "        vertical-align: top;\n",
       "    }\n",
       "\n",
       "    .dataframe thead th {\n",
       "        text-align: right;\n",
       "    }\n",
       "</style>\n",
       "<table border=\"1\" class=\"dataframe\">\n",
       "  <thead>\n",
       "    <tr style=\"text-align: right;\">\n",
       "      <th></th>\n",
       "      <th>event_name</th>\n",
       "      <th>usuarios_iniciales</th>\n",
       "      <th>usuarios_despues_embudo</th>\n",
       "      <th>usuarios_perdidos</th>\n",
       "      <th>conversion_siguiente_etapa</th>\n",
       "    </tr>\n",
       "  </thead>\n",
       "  <tbody>\n",
       "    <tr>\n",
       "      <th>0</th>\n",
       "      <td>MainScreenAppear</td>\n",
       "      <td>7419</td>\n",
       "      <td>7419</td>\n",
       "      <td>0</td>\n",
       "      <td>100.00</td>\n",
       "    </tr>\n",
       "    <tr>\n",
       "      <th>1</th>\n",
       "      <td>OffersScreenAppear</td>\n",
       "      <td>4593</td>\n",
       "      <td>4201</td>\n",
       "      <td>392</td>\n",
       "      <td>91.47</td>\n",
       "    </tr>\n",
       "    <tr>\n",
       "      <th>2</th>\n",
       "      <td>CartScreenAppear</td>\n",
       "      <td>3734</td>\n",
       "      <td>1767</td>\n",
       "      <td>1967</td>\n",
       "      <td>47.32</td>\n",
       "    </tr>\n",
       "    <tr>\n",
       "      <th>3</th>\n",
       "      <td>PaymentScreenSuccessful</td>\n",
       "      <td>3539</td>\n",
       "      <td>454</td>\n",
       "      <td>3085</td>\n",
       "      <td>12.83</td>\n",
       "    </tr>\n",
       "    <tr>\n",
       "      <th>4</th>\n",
       "      <td>Tutorial</td>\n",
       "      <td>840</td>\n",
       "      <td>1</td>\n",
       "      <td>839</td>\n",
       "      <td>0.12</td>\n",
       "    </tr>\n",
       "  </tbody>\n",
       "</table>\n",
       "</div>"
      ],
      "text/plain": [
       "                event_name  usuarios_iniciales  usuarios_despues_embudo  \\\n",
       "0         MainScreenAppear                7419                     7419   \n",
       "1       OffersScreenAppear                4593                     4201   \n",
       "2         CartScreenAppear                3734                     1767   \n",
       "3  PaymentScreenSuccessful                3539                      454   \n",
       "4                 Tutorial                 840                        1   \n",
       "\n",
       "   usuarios_perdidos  conversion_siguiente_etapa  \n",
       "0                  0                      100.00  \n",
       "1                392                       91.47  \n",
       "2               1967                       47.32  \n",
       "3               3085                       12.83  \n",
       "4                839                        0.12  "
      ]
     },
     "execution_count": 84,
     "metadata": {},
     "output_type": "execute_result"
    }
   ],
   "source": [
    "df_comparativo"
   ]
  },
  {
   "cell_type": "markdown",
   "metadata": {},
   "source": [
    "<span style=\"color:purple; font-weight:bold\">\n",
    "Al analizar el porcentaje de usuarios que se hacen todo el viaje desde su primer evento hasta el pago solo alcanzamos un 12.83 % del total de usuarios. \n",
    "</span>"
   ]
  },
  {
   "cell_type": "markdown",
   "metadata": {},
   "source": [
    "## Estudiar los resultados del experimento"
   ]
  },
  {
   "cell_type": "markdown",
   "metadata": {},
   "source": [
    "### ¿Cuántos usuarios y usuarias hay en cada grupo?"
   ]
  },
  {
   "cell_type": "markdown",
   "metadata": {},
   "source": [
    "#### Total usuarios grupo control 246"
   ]
  },
  {
   "cell_type": "code",
   "execution_count": 85,
   "metadata": {},
   "outputs": [
    {
     "name": "stdout",
     "output_type": "stream",
     "text": [
      "el total de usuarios para el grupo 246 es de: 79425\n"
     ]
    }
   ],
   "source": [
    "# Calcular el total de usuarios para el periodo de agosto del grupo control 246\n",
    "total_246 = data_246.shape[0]\n",
    "print('el total de usuarios para el grupo 246 es de:', total_246)"
   ]
  },
  {
   "cell_type": "code",
   "execution_count": 86,
   "metadata": {},
   "outputs": [
    {
     "name": "stdout",
     "output_type": "stream",
     "text": [
      "El total de usuarios únicos (casos de exito) para el grupo experimental 246 es de: 2484\n"
     ]
    }
   ],
   "source": [
    "# mostrar los casos de exito del grupo 246\n",
    "print(f'El total de usuarios únicos (casos de exito) para el grupo experimental 246 es de: {exitos_246}')"
   ]
  },
  {
   "cell_type": "markdown",
   "metadata": {},
   "source": [
    "#### Total usuarios grupo control 247"
   ]
  },
  {
   "cell_type": "code",
   "execution_count": 87,
   "metadata": {},
   "outputs": [
    {
     "name": "stdout",
     "output_type": "stream",
     "text": [
      "el total de usuarios para el grupo 247 es de: 77147\n"
     ]
    }
   ],
   "source": [
    "# Calcular el total de usuarios para el periodo de agosto del grupo control 247\n",
    "total_247 = data_247.shape[0]\n",
    "print('el total de usuarios para el grupo 247 es de:', total_247)"
   ]
  },
  {
   "cell_type": "code",
   "execution_count": 88,
   "metadata": {},
   "outputs": [
    {
     "name": "stdout",
     "output_type": "stream",
     "text": [
      "El total de usuarios únicos (casos de exito) para el grupo experimental 247 es de: 2513\n"
     ]
    }
   ],
   "source": [
    "# mostrar los casos de exito del grupo 247\n",
    "print(f'El total de usuarios únicos (casos de exito) para el grupo experimental 247 es de: {exitos_247}')"
   ]
  },
  {
   "cell_type": "markdown",
   "metadata": {},
   "source": [
    "#### Total usuarios grupo experimental 248"
   ]
  },
  {
   "cell_type": "code",
   "execution_count": 89,
   "metadata": {},
   "outputs": [
    {
     "name": "stdout",
     "output_type": "stream",
     "text": [
      "el total de usuarios para el grupo 248 es de: 84726\n"
     ]
    }
   ],
   "source": [
    "# Calcular el total de usuarios para el periodo de agosto del grupo experimental 248\n",
    "total_248 = data_248.shape[0]\n",
    "print('el total de usuarios para el grupo 248 es de:', total_248)"
   ]
  },
  {
   "cell_type": "code",
   "execution_count": 90,
   "metadata": {},
   "outputs": [
    {
     "name": "stdout",
     "output_type": "stream",
     "text": [
      "El total de usuarios únicos (casos de exito) para el grupo experimental 248 es de: 2537\n"
     ]
    }
   ],
   "source": [
    "# mostrar los casos de exito del grupo 248\n",
    "print(f'El total de usuarios únicos (casos de exito) para el grupo experimental 248 es de: {exitos_248}')"
   ]
  },
  {
   "cell_type": "markdown",
   "metadata": {},
   "source": [
    "### Observa si hay una diferencia estadísticamente significativa entre las muestras 246 y 247."
   ]
  },
  {
   "cell_type": "code",
   "execution_count": 91,
   "metadata": {},
   "outputs": [],
   "source": [
    "# nivel de significancia \n",
    "alpha = 0.05\n",
    "\n",
    "# crear arrays con datos de los grupos 246 y 247 \n",
    "exitos = np.array([2484, 2513])\n",
    "pruebas = np.array([79425, 77147])\n",
    "\n",
    "# proporcion de exito en el primer grupo \n",
    "p1 = exitos[0] / pruebas[0]\n",
    "\n",
    "# proporcion de exito en el segundo grupo \n",
    "p2 = exitos[1] / pruebas[1]\n",
    "\n",
    "# proporcion de exito combinado \n",
    "p_combinado = (exitos[0] + exitos[1]) / (pruebas[0] + pruebas[1])\n",
    "\n",
    "diferencia = p1 - p2"
   ]
  },
  {
   "cell_type": "code",
   "execution_count": 92,
   "metadata": {},
   "outputs": [],
   "source": [
    "# calcular las desviaciones estandar de la distribucion normal \n",
    "z_value = diferencia / mth.sqrt(p_combinado * (1 - p_combinado) * (1/pruebas[0] + 1/pruebas[1]))\n",
    "\n",
    "# establecer la distribucion normal estandar (media 0, desviacion estandar 1)\n",
    "\n",
    "distr = stats.norm(0,1)"
   ]
  },
  {
   "cell_type": "code",
   "execution_count": 93,
   "metadata": {},
   "outputs": [
    {
     "name": "stdout",
     "output_type": "stream",
     "text": [
      "p-value: 0.14363187004102285\n",
      "No se pudo rechazar la hipótesis nula: no hay razón para pensar que las proporciones son diferentes\n"
     ]
    }
   ],
   "source": [
    "# calcular p valor \n",
    "p_value = (1 - distr.cdf(abs(z_value))) * 2\n",
    "\n",
    "print('p-value:', p_value)\n",
    "\n",
    "if (p_value < alpha):\n",
    "    print(\"Rechazar la hipótesis nula: hay una diferencia significativa entre las proporciones\")\n",
    "else:\n",
    "    print(\"No se pudo rechazar la hipótesis nula: no hay razón para pensar que las proporciones son diferentes\")"
   ]
  },
  {
   "cell_type": "markdown",
   "metadata": {},
   "source": [
    "<span style=\"color:purple; font-weight:bold\">\n",
    "Para comprobar esta hipotesis se calcularon la diferencia entre las proporciones de las muestras utilizando el total de usuarios para cada grupo y los casos de exito, es decir, los usuarios unicos que realizaron acciones en los eventos. Asi se calculo el puntaje Z para concer cuantas desviaciones estandar estaban una muestra de la otra. Lo que dio como resultado un p-value de 0.14 y con un nivel de significancia del 0.05, lo cual indica que no se puede rechazar la hipótesis nula y por ende no hay una razon por lo cual pensar que las proporciones son diferentes\n",
    "</span>"
   ]
  },
  {
   "cell_type": "markdown",
   "metadata": {},
   "source": [
    "### Crear una funcion para: selecciona el evento más popular. En cada uno de los grupos de control, encuentra la cantidad de usuarios y usuarias que realizaron esta acción. Encuentra su proporción."
   ]
  },
  {
   "cell_type": "code",
   "execution_count": 94,
   "metadata": {},
   "outputs": [],
   "source": [
    "def proporcion_eventos_por_grupo(df, grupo_id):\n",
    "    #filtrar los datos por grupo\n",
    "    df_grupo = df[df['exp_id'] == grupo_id]\n",
    "    \n",
    "    # obtener el total de usuarios unicos\n",
    "    total_usuarios_unicos = df_grupo['uid'].nunique()\n",
    "    \n",
    "    # agrupar por evento y contar los usuarios unicos en cada evento\n",
    "    evento_count = df_grupo.groupby('event_name')['uid'].nunique().sort_values(ascending=False)\n",
    "    \n",
    "    print(f\"\\nProporciones para el grupo {grupo_id}\\n\")\n",
    "    \n",
    "    # ciclo for para calcular y mostrar la proporcion de cada evento\n",
    "    for evento, usuarios_unicos in evento_count.items():\n",
    "        proporcion = (usuarios_unicos / total_usuarios_unicos) * 100\n",
    "    \n",
    "        print(f\"Evento: {evento} - Usuarios únicos {usuarios_unicos} (proporcion {proporcion:.2f}%)\")"
   ]
  },
  {
   "cell_type": "code",
   "execution_count": 95,
   "metadata": {},
   "outputs": [
    {
     "name": "stdout",
     "output_type": "stream",
     "text": [
      "\n",
      "Proporciones para el grupo 246\n",
      "\n",
      "Evento: MainScreenAppear - Usuarios únicos 2450 (proporcion 98.63%)\n",
      "Evento: OffersScreenAppear - Usuarios únicos 1542 (proporcion 62.08%)\n",
      "Evento: CartScreenAppear - Usuarios únicos 1266 (proporcion 50.97%)\n",
      "Evento: PaymentScreenSuccessful - Usuarios únicos 1200 (proporcion 48.31%)\n",
      "Evento: Tutorial - Usuarios únicos 278 (proporcion 11.19%)\n"
     ]
    }
   ],
   "source": [
    "proporcion_eventos_por_grupo(periodo_agosto, 246)"
   ]
  },
  {
   "cell_type": "code",
   "execution_count": 96,
   "metadata": {},
   "outputs": [
    {
     "name": "stdout",
     "output_type": "stream",
     "text": [
      "\n",
      "Proporciones para el grupo 247\n",
      "\n",
      "Evento: MainScreenAppear - Usuarios únicos 2476 (proporcion 98.53%)\n",
      "Evento: OffersScreenAppear - Usuarios únicos 1520 (proporcion 60.49%)\n",
      "Evento: CartScreenAppear - Usuarios únicos 1238 (proporcion 49.26%)\n",
      "Evento: PaymentScreenSuccessful - Usuarios únicos 1158 (proporcion 46.08%)\n",
      "Evento: Tutorial - Usuarios únicos 283 (proporcion 11.26%)\n"
     ]
    }
   ],
   "source": [
    "proporcion_eventos_por_grupo(periodo_agosto, 247)"
   ]
  },
  {
   "cell_type": "markdown",
   "metadata": {},
   "source": [
    "<span style=\"color:purple; font-weight:bold\">\n",
    "Esta funcion ayuda a calcular la proporcion de cada uno de los grupos control en donde se puede visualizar la cantidad de usuarios unicos y que proporcion tienen en cada tipo de eventos\n",
    "</span>"
   ]
  },
  {
   "cell_type": "markdown",
   "metadata": {},
   "source": [
    "#### Comprueba si la diferencia entre los grupos es estadísticamente significativa."
   ]
  },
  {
   "cell_type": "code",
   "execution_count": 112,
   "metadata": {},
   "outputs": [],
   "source": [
    "def comparar_proporciones(df, evento):\n",
    "    # filtrar usuarios que realizaron el evento para cada grupo \n",
    "    grupo_246 = df[(df['exp_id'] == 246) & (df['event_name'] == evento)]['uid'].nunique()\n",
    "    grupo_247 = df[(df['exp_id'] == 247) & (df['event_name'] == evento)]['uid'].nunique()    \n",
    "    \n",
    "    # obtener usuarios unicos por grupo \n",
    "    total_246 = df[df['exp_id'] == 246 ]['uid'].nunique()\n",
    "    total_247 = df[df['exp_id'] == 247 ]['uid'].nunique()\n",
    "    \n",
    "    # numero de exito y tamaño de la muestra \n",
    "    exitos = np.array([grupo_246, grupo_247])\n",
    "    prueba = np.array([total_246, total_247])\n",
    "    \n",
    "    # aplicar la prueba de dos proporciones\n",
    "    stat, p_value = proportions_ztest(exitos, prueba)\n",
    "    \n",
    "    # Resultados\n",
    "    print(f\"\\nComparación para el evento: {evento}\")\n",
    "    print(f\"Grupo 246: Usuarios que realizan evento: {grupo_246} / Usuarios unicos: {total_246} / proporcion:({grupo_246 / total_246 * 100:.2f}%)\")\n",
    "    print(f\"Grupo 247: Usuarios que realizan evento: {grupo_247} / Usuarios unicos: {total_247} / proporcion:({grupo_247 / total_247 * 100:.2f}%)\")\n",
    "    print(f\"p-value: {p_value}\")\n",
    "    \n",
    "    if p_value < 0.05:\n",
    "        print(\"Diferencia estadísticamente significativa entre los grupos.\")\n",
    "    else:\n",
    "        print(\"No hay diferencia estadísticamente significativa entre los grupos.\")"
   ]
  },
  {
   "cell_type": "code",
   "execution_count": 113,
   "metadata": {},
   "outputs": [
    {
     "name": "stdout",
     "output_type": "stream",
     "text": [
      "\n",
      "Comparación para el evento: MainScreenAppear\n",
      "Grupo 246: Usuarios que realizan evento: 2450 / Usuarios unicos: 2484 / proporcion:(98.63%)\n",
      "Grupo 247: Usuarios que realizan evento: 2476 / Usuarios unicos: 2513 / proporcion:(98.53%)\n",
      "p-value: 0.7570597232046099\n",
      "No hay diferencia estadísticamente significativa entre los grupos.\n"
     ]
    }
   ],
   "source": [
    "comparar_proporciones(periodo_agosto,'MainScreenAppear')"
   ]
  },
  {
   "cell_type": "code",
   "execution_count": 114,
   "metadata": {},
   "outputs": [
    {
     "name": "stdout",
     "output_type": "stream",
     "text": [
      "\n",
      "Comparación para el evento: OffersScreenAppear\n",
      "Grupo 246: Usuarios que realizan evento: 1542 / Usuarios unicos: 2484 / proporcion:(62.08%)\n",
      "Grupo 247: Usuarios que realizan evento: 1520 / Usuarios unicos: 2513 / proporcion:(60.49%)\n",
      "p-value: 0.2480954578522181\n",
      "No hay diferencia estadísticamente significativa entre los grupos.\n"
     ]
    }
   ],
   "source": [
    "comparar_proporciones(periodo_agosto,'OffersScreenAppear')"
   ]
  },
  {
   "cell_type": "code",
   "execution_count": 115,
   "metadata": {},
   "outputs": [
    {
     "name": "stdout",
     "output_type": "stream",
     "text": [
      "\n",
      "Comparación para el evento: CartScreenAppear\n",
      "Grupo 246: Usuarios que realizan evento: 1266 / Usuarios unicos: 2484 / proporcion:(50.97%)\n",
      "Grupo 247: Usuarios que realizan evento: 1238 / Usuarios unicos: 2513 / proporcion:(49.26%)\n",
      "p-value: 0.22883372237997213\n",
      "No hay diferencia estadísticamente significativa entre los grupos.\n"
     ]
    }
   ],
   "source": [
    "comparar_proporciones(periodo_agosto,'CartScreenAppear')"
   ]
  },
  {
   "cell_type": "code",
   "execution_count": 116,
   "metadata": {},
   "outputs": [
    {
     "name": "stdout",
     "output_type": "stream",
     "text": [
      "\n",
      "Comparación para el evento: PaymentScreenSuccessful\n",
      "Grupo 246: Usuarios que realizan evento: 1200 / Usuarios unicos: 2484 / proporcion:(48.31%)\n",
      "Grupo 247: Usuarios que realizan evento: 1158 / Usuarios unicos: 2513 / proporcion:(46.08%)\n",
      "p-value: 0.11456679313141847\n",
      "No hay diferencia estadísticamente significativa entre los grupos.\n"
     ]
    }
   ],
   "source": [
    "comparar_proporciones(periodo_agosto,'PaymentScreenSuccessful')"
   ]
  },
  {
   "cell_type": "code",
   "execution_count": 117,
   "metadata": {},
   "outputs": [
    {
     "name": "stdout",
     "output_type": "stream",
     "text": [
      "\n",
      "Comparación para el evento: Tutorial\n",
      "Grupo 246: Usuarios que realizan evento: 278 / Usuarios unicos: 2484 / proporcion:(11.19%)\n",
      "Grupo 247: Usuarios que realizan evento: 283 / Usuarios unicos: 2513 / proporcion:(11.26%)\n",
      "p-value: 0.9376996189257114\n",
      "No hay diferencia estadísticamente significativa entre los grupos.\n"
     ]
    }
   ],
   "source": [
    "comparar_proporciones(periodo_agosto,'Tutorial')"
   ]
  },
  {
   "cell_type": "markdown",
   "metadata": {},
   "source": [
    "<span style=\"color:purple; font-weight:bold\">\n",
    "Por otra parte se declaro otra funcion la cual permite comparar cada uno de los eventos por Grupo Control y calculando la significancia de cada uno. Esto dio como resultado que en ninguno de los dos Grupos hay una diferencia significativa al comparar los distintos tipos de Eventos.\n",
    "</span>"
   ]
  },
  {
   "cell_type": "markdown",
   "metadata": {},
   "source": [
    "#### ¿Puedes confirmar que los grupos se dividieron correctamente?"
   ]
  },
  {
   "cell_type": "code",
   "execution_count": 118,
   "metadata": {},
   "outputs": [],
   "source": [
    "# crear arrays con la informacion de usuarios unicos que realizaron acciones \n",
    "array_246 = [2450, 1542, 1266, 1200, 278]\n",
    "\n",
    "array_247 = [2476, 1520, 1238, 1158, 283]"
   ]
  },
  {
   "cell_type": "code",
   "execution_count": 119,
   "metadata": {},
   "outputs": [
    {
     "name": "stdout",
     "output_type": "stream",
     "text": [
      "p-value 1.0\n",
      "No se puede rechazar la hipótesis nula: no existen diferencias sobre la distribución de los grupos\n"
     ]
    }
   ],
   "source": [
    "# aplicar prueba U de mann para comprobar que los grupos se dividieron correctamente\n",
    "resultados_control = stats.mannwhitneyu(array_246, array_247)\n",
    "\n",
    "print('p-value', resultados_control.pvalue)\n",
    "\n",
    "if(resultados_control.pvalue < alpha):\n",
    "    print('Hipótesis nula rechazada: existen diferencias significativas entre las distribuciones de los grupos')\n",
    "else:\n",
    "    print('No se puede rechazar la hipótesis nula: no existen diferencias sobre la distribución de los grupos')"
   ]
  },
  {
   "cell_type": "markdown",
   "metadata": {},
   "source": [
    "<span style=\"color:purple; font-weight:bold\">\n",
    "Para verificar que los grupos control fueron correctamente divididos se implemento la prueba U de Mann la cual con un nivel de significancia del 0.05 arrojo un p-value de 1.0 lo que indica que no se puede rechazar la hipótesis nula, es decir, que no existen diferencias significativas en la distribución de los grupos, lo que indica que fueron correctamente divididos.\n",
    "</span>"
   ]
  },
  {
   "cell_type": "markdown",
   "metadata": {},
   "source": [
    "### Haz lo mismo para el grupo con fuentes alteradas. Compara los resultados con los de cada uno de los grupos de control para cada evento de forma aislada. "
   ]
  },
  {
   "cell_type": "code",
   "execution_count": 120,
   "metadata": {},
   "outputs": [
    {
     "name": "stdout",
     "output_type": "stream",
     "text": [
      "\n",
      "Proporciones para el grupo 248\n",
      "\n",
      "Evento: MainScreenAppear - Usuarios únicos 2493 (proporcion 98.27%)\n",
      "Evento: OffersScreenAppear - Usuarios únicos 1531 (proporcion 60.35%)\n",
      "Evento: CartScreenAppear - Usuarios únicos 1230 (proporcion 48.48%)\n",
      "Evento: PaymentScreenSuccessful - Usuarios únicos 1181 (proporcion 46.55%)\n",
      "Evento: Tutorial - Usuarios únicos 279 (proporcion 11.00%)\n"
     ]
    }
   ],
   "source": [
    "proporcion_eventos_por_grupo(periodo_agosto, 248)"
   ]
  },
  {
   "cell_type": "code",
   "execution_count": 106,
   "metadata": {
    "scrolled": true
   },
   "outputs": [
    {
     "name": "stdout",
     "output_type": "stream",
     "text": [
      "p-value 1.0\n",
      "No se puede rechazar la hipótesis nula: no existen diferencias sobre la distribución de los grupos\n"
     ]
    }
   ],
   "source": [
    "# crear array con los datos del grupo experimental \n",
    "array_248 = [ 2493, 1531, 1230, 1181, 279]\n",
    "\n",
    "# aplicar prueba U de mann para comprobar que los grupos se dividieron correctamente\n",
    "resultados_exp246_aislado = stats.mannwhitneyu(array_248, array_246)\n",
    "\n",
    "print('p-value', resultados_exp246_aislado.pvalue)\n",
    "\n",
    "if(resultados_exp246_aislado.pvalue < alpha):\n",
    "    print('Hipótesis nula rechazada: existen diferencias significativas entre las distribuciones de los grupos')\n",
    "else:\n",
    "    print('No se puede rechazar la hipótesis nula: no existen diferencias sobre la distribución de los grupos')"
   ]
  },
  {
   "cell_type": "code",
   "execution_count": 107,
   "metadata": {},
   "outputs": [
    {
     "name": "stdout",
     "output_type": "stream",
     "text": [
      "p-value 1.0\n",
      "No se puede rechazar la hipótesis nula: no existen diferencias sobre la distribución de los grupos\n"
     ]
    }
   ],
   "source": [
    "# aplicar prueba U de mann para comprobar que los grupos se dividieron correctamente\n",
    "resultados_exp247_aislado = stats.mannwhitneyu(array_248, array_247)\n",
    "\n",
    "print('p-value', resultados_exp247_aislado.pvalue)\n",
    "\n",
    "if(resultados_exp247_aislado.pvalue < alpha):\n",
    "    print('Hipótesis nula rechazada: existen diferencias significativas entre las distribuciones de los grupos')\n",
    "else:\n",
    "    print('No se puede rechazar la hipótesis nula: no existen diferencias sobre la distribución de los grupos')"
   ]
  },
  {
   "cell_type": "markdown",
   "metadata": {},
   "source": [
    "<span style=\"color:purple; font-weight:bold\">\n",
    "Al comparar los grupos control con el experimental aisladamente, se aplico nuevamente una prueba U de Mann y se encontro que en ningun caso existe una diferencia en las distribuciones, por lo cual no se puede rechazar la hipótesis nula.\n",
    "</span>"
   ]
  },
  {
   "cell_type": "markdown",
   "metadata": {},
   "source": [
    "#### Compara los resultados con los resultados combinados de los grupos de control. ¿Qué conclusiones puedes sacar del experimento?"
   ]
  },
  {
   "cell_type": "code",
   "execution_count": 108,
   "metadata": {},
   "outputs": [
    {
     "name": "stdout",
     "output_type": "stream",
     "text": [
      "[4926, 3062, 2504, 2358, 561]\n"
     ]
    }
   ],
   "source": [
    "# sumar los valores de cada uno de los grupo control\n",
    "array_combinado = []\n",
    "\n",
    "for valor in range(len(array_246)):\n",
    "    sumar_valores = array_246[valor] + array_247[valor]\n",
    "    array_combinado.append(sumar_valores)\n",
    "print(array_combinado)"
   ]
  },
  {
   "cell_type": "code",
   "execution_count": 109,
   "metadata": {},
   "outputs": [
    {
     "name": "stdout",
     "output_type": "stream",
     "text": [
      "p-value 0.15079365079365079\n",
      "No se puede rechazar la hipótesis nula: no existen diferencias sobre la distribución de los grupos\n"
     ]
    }
   ],
   "source": [
    "# aplicar prueba U de mann para comprobar que los grupos se dividieron correctamente\n",
    "resultado1 = stats.mannwhitneyu(array_248, array_combinado)\n",
    "\n",
    "print('p-value', resultado1.pvalue)\n",
    "\n",
    "if(resultado1.pvalue < alpha):\n",
    "    print('Hipótesis nula rechazada: existen diferencias significativas entre las distribuciones de los grupos')\n",
    "else:\n",
    "    print('No se puede rechazar la hipótesis nula: no existen diferencias sobre la distribución de los grupos')"
   ]
  },
  {
   "cell_type": "markdown",
   "metadata": {},
   "source": [
    "<span style=\"color:purple; font-weight:bold\">\n",
    "Al comparar los grupos control combinados con el experimental,  se aplico nuevamente una prueba U de Mann con un alpha de 0.05 obteniendo un valor p de 0.15, lo cual indica que no se puede rechazar la hipótesis nula, esto significa que no hay diferencias en las distribuciones de los grupos control y el experimental, lo cual indica que fueron correctamente distribuidos. \n",
    "</span>"
   ]
  },
  {
   "cell_type": "markdown",
   "metadata": {},
   "source": [
    "### ¿Qué nivel de significación has establecido para probar las hipótesis estadísticas mencionadas anteriormente? Calcula cuántas pruebas de hipótesis estadísticas has realizado. Con un nivel de significancia estadística de 0.1, uno de cada 10 resultados podría ser falso. ¿Cuál debería ser el nivel de significación? "
   ]
  },
  {
   "cell_type": "code",
   "execution_count": 110,
   "metadata": {},
   "outputs": [],
   "source": [
    "# analizar los datasets con la prueba bonferroni \n",
    "sample_A = array_246\n",
    "sample_B = array_247\n",
    "sample_C = array_248"
   ]
  },
  {
   "cell_type": "code",
   "execution_count": 111,
   "metadata": {},
   "outputs": [
    {
     "name": "stdout",
     "output_type": "stream",
     "text": [
      "El resultado de la prueba Bonfferroni es: 0.016666666666666666\n",
      "valor p para comparar los grupos A y B:  0.9809573661651472\n",
      "valor p para comparar los grupos B y C:  0.9879505929915808\n",
      "valor p para comparar los grupos A y C:  0.9931630297368078\n",
      "Hipótesis nula no rechazada para los grupos А y B\n",
      "Hipótesis nula no rechazada para los grupos B y C\n",
      "Hipótesis nula no rechazada para los grupos А y C\n"
     ]
    }
   ],
   "source": [
    "# nivel de significancia \n",
    "alpha = 0.05\n",
    "\n",
    "# realizar prueba t grupos independientes haciendo 3 comparaciones\n",
    "results_AB = stats.ttest_ind(sample_A, sample_B)\n",
    "\n",
    "results_BC = stats.ttest_ind(sample_B, sample_C)\n",
    "\n",
    "results_AC = stats.ttest_ind(sample_A, sample_C)\n",
    "\n",
    "# tres comparaciones realizadas\n",
    "bonferroni_alpha = alpha / 3\n",
    "\n",
    "print(f'El resultado de la prueba Bonfferroni es: {bonferroni_alpha}')\n",
    "print('valor p para comparar los grupos A y B: ', results_AB.pvalue)\n",
    "print('valor p para comparar los grupos B y C: ', results_BC.pvalue)\n",
    "print('valor p para comparar los grupos A y C: ', results_AC.pvalue)\n",
    "\n",
    "if (results_AB.pvalue < bonferroni_alpha):\n",
    "    print(\"Hipótesis nula rechazada para los grupos А y B\")\n",
    "else:\n",
    "    print(\"Hipótesis nula no rechazada para los grupos А y B\")\n",
    "if (results_BC.pvalue < bonferroni_alpha):\n",
    "    print(\"Hipótesis nula rechazada para los grupos B y C\")\n",
    "else:\n",
    "    print(\"Hipótesis nula no rechazada para los grupos B y C\")\n",
    "if (results_AC.pvalue < bonferroni_alpha):\n",
    "    print(\"Hipótesis nula rechazada para los grupos A y C\")\n",
    "else:\n",
    "    print(\"Hipótesis nula no rechazada para los grupos А y C\")"
   ]
  },
  {
   "cell_type": "markdown",
   "metadata": {},
   "source": [
    "<span style=\"color:purple; font-weight:bold\">\n",
    "La corrección de Bonferroni ajusta el nivel de significancia original de alpha 0.05 a 0.0167 al dividirlo entre el número de comparaciones (3).\n",
    "\n",
    "Con este nivel ajustado cualquier valor p que sea menor a 0.0167 indicaría una diferencia estadísticamente significativa entre los grupos. Al observar los resultados de la comparacion entre los grupos se obtienen puntajes superiores al alpha ajustada, lo que podria significar que no hay suficiente evidencia para rechazar la hipotesis nula en ninguna de las comparaciones. \n",
    " \n",
    "Por lo cual los resultados obtenidos sugieren que los tres grupos (246, 247 y 248) tienen distribuciones muy similares en cuanto al número de usuarios únicos que realizaron cada evento, lo cual es consistente con una correcta asignación de los grupos en el experimento.\n",
    "</span>"
   ]
  }
 ],
 "metadata": {
  "ExecuteTimeLog": [
   {
    "duration": 2837,
    "start_time": "2024-10-31T21:42:01.577Z"
   },
   {
    "duration": 3,
    "start_time": "2024-10-31T21:42:59.325Z"
   },
   {
    "duration": 260,
    "start_time": "2024-10-31T21:44:01.917Z"
   },
   {
    "duration": 7,
    "start_time": "2024-10-31T21:44:16.842Z"
   },
   {
    "duration": 218,
    "start_time": "2024-10-31T21:45:31.501Z"
   },
   {
    "duration": 4,
    "start_time": "2024-10-31T21:45:35.070Z"
   },
   {
    "duration": 207,
    "start_time": "2024-10-31T21:47:18.637Z"
   },
   {
    "duration": 5,
    "start_time": "2024-10-31T21:48:01.255Z"
   },
   {
    "duration": 258,
    "start_time": "2024-10-31T21:51:04.713Z"
   },
   {
    "duration": 3,
    "start_time": "2024-10-31T21:53:01.072Z"
   },
   {
    "duration": 105,
    "start_time": "2024-10-31T21:53:07.420Z"
   },
   {
    "duration": 120,
    "start_time": "2024-10-31T21:53:44.735Z"
   },
   {
    "duration": 40,
    "start_time": "2024-10-31T21:54:22.369Z"
   },
   {
    "duration": 2,
    "start_time": "2024-10-31T22:04:01.726Z"
   },
   {
    "duration": 5,
    "start_time": "2024-10-31T22:04:34.795Z"
   },
   {
    "duration": 8,
    "start_time": "2024-10-31T22:04:39.076Z"
   },
   {
    "duration": 9,
    "start_time": "2024-10-31T22:05:17.154Z"
   },
   {
    "duration": 39,
    "start_time": "2024-10-31T22:06:26.167Z"
   },
   {
    "duration": 40,
    "start_time": "2024-10-31T22:06:32.665Z"
   },
   {
    "duration": 13,
    "start_time": "2024-10-31T22:07:08.534Z"
   },
   {
    "duration": 47,
    "start_time": "2024-10-31T22:11:44.527Z"
   },
   {
    "duration": 50,
    "start_time": "2024-10-31T22:12:55.226Z"
   },
   {
    "duration": 48,
    "start_time": "2024-10-31T22:13:09.097Z"
   },
   {
    "duration": 26,
    "start_time": "2024-10-31T22:14:46.696Z"
   },
   {
    "duration": 10,
    "start_time": "2024-10-31T22:14:59.143Z"
   },
   {
    "duration": 5,
    "start_time": "2024-10-31T22:16:25.358Z"
   },
   {
    "duration": 10,
    "start_time": "2024-10-31T22:16:26.157Z"
   },
   {
    "duration": 6,
    "start_time": "2024-10-31T22:18:49.267Z"
   },
   {
    "duration": 10,
    "start_time": "2024-10-31T22:18:55.936Z"
   },
   {
    "duration": 493,
    "start_time": "2024-10-31T22:19:28.589Z"
   },
   {
    "duration": 43,
    "start_time": "2024-10-31T22:19:49.027Z"
   },
   {
    "duration": 12,
    "start_time": "2024-10-31T22:19:50.606Z"
   },
   {
    "duration": 15,
    "start_time": "2024-10-31T22:32:01.156Z"
   },
   {
    "duration": 9,
    "start_time": "2024-10-31T22:32:27.366Z"
   },
   {
    "duration": 11,
    "start_time": "2024-10-31T22:32:42.140Z"
   },
   {
    "duration": 2950,
    "start_time": "2024-11-01T20:18:44.184Z"
   },
   {
    "duration": 185,
    "start_time": "2024-11-01T20:18:47.140Z"
   },
   {
    "duration": 60,
    "start_time": "2024-11-01T20:18:47.328Z"
   },
   {
    "duration": 3,
    "start_time": "2024-11-01T20:18:47.390Z"
   },
   {
    "duration": 28,
    "start_time": "2024-11-01T20:18:47.395Z"
   },
   {
    "duration": 51,
    "start_time": "2024-11-01T20:18:47.425Z"
   },
   {
    "duration": 68,
    "start_time": "2024-11-01T20:18:47.478Z"
   },
   {
    "duration": 11,
    "start_time": "2024-11-01T20:18:47.548Z"
   },
   {
    "duration": 8,
    "start_time": "2024-11-01T20:18:47.560Z"
   },
   {
    "duration": 9,
    "start_time": "2024-11-01T20:18:47.570Z"
   },
   {
    "duration": 35,
    "start_time": "2024-11-01T20:18:47.581Z"
   },
   {
    "duration": 9,
    "start_time": "2024-11-01T20:18:47.618Z"
   },
   {
    "duration": 53,
    "start_time": "2024-11-01T20:18:47.629Z"
   },
   {
    "duration": 32,
    "start_time": "2024-11-01T20:18:47.686Z"
   },
   {
    "duration": 156,
    "start_time": "2024-11-01T20:22:57.259Z"
   },
   {
    "duration": 31,
    "start_time": "2024-11-01T20:23:05.015Z"
   },
   {
    "duration": 24,
    "start_time": "2024-11-01T20:23:12.170Z"
   },
   {
    "duration": 15,
    "start_time": "2024-11-01T20:27:06.066Z"
   },
   {
    "duration": 2152,
    "start_time": "2024-11-01T20:34:24.194Z"
   },
   {
    "duration": 2160,
    "start_time": "2024-11-01T20:34:28.976Z"
   },
   {
    "duration": 1269,
    "start_time": "2024-11-01T20:35:10.403Z"
   },
   {
    "duration": 34,
    "start_time": "2024-11-01T20:35:21.095Z"
   },
   {
    "duration": 43,
    "start_time": "2024-11-01T20:37:42.339Z"
   },
   {
    "duration": 33,
    "start_time": "2024-11-01T20:40:43.923Z"
   },
   {
    "duration": 31,
    "start_time": "2024-11-01T20:40:48.822Z"
   },
   {
    "duration": 27,
    "start_time": "2024-11-01T20:40:58.593Z"
   },
   {
    "duration": 6,
    "start_time": "2024-11-01T20:41:33.390Z"
   },
   {
    "duration": 140,
    "start_time": "2024-11-01T20:41:39.639Z"
   },
   {
    "duration": 15,
    "start_time": "2024-11-01T20:43:04.193Z"
   },
   {
    "duration": 51,
    "start_time": "2024-11-01T20:43:09.989Z"
   },
   {
    "duration": 34,
    "start_time": "2024-11-01T20:43:13.421Z"
   },
   {
    "duration": 1380,
    "start_time": "2024-11-01T20:43:13.813Z"
   },
   {
    "duration": 132,
    "start_time": "2024-11-01T20:43:40.972Z"
   },
   {
    "duration": 5,
    "start_time": "2024-11-01T20:44:22.135Z"
   },
   {
    "duration": 150,
    "start_time": "2024-11-01T20:44:26.038Z"
   },
   {
    "duration": 158,
    "start_time": "2024-11-01T20:45:06.469Z"
   },
   {
    "duration": 20,
    "start_time": "2024-11-01T20:46:42.984Z"
   },
   {
    "duration": 25,
    "start_time": "2024-11-01T20:46:59.303Z"
   },
   {
    "duration": 15,
    "start_time": "2024-11-01T20:47:24.288Z"
   },
   {
    "duration": 192,
    "start_time": "2024-11-01T20:47:32.179Z"
   },
   {
    "duration": 56,
    "start_time": "2024-11-01T20:48:07.724Z"
   },
   {
    "duration": 1095,
    "start_time": "2024-11-01T20:48:59.892Z"
   },
   {
    "duration": 27,
    "start_time": "2024-11-01T20:49:34.450Z"
   },
   {
    "duration": 37,
    "start_time": "2024-11-01T20:49:42.631Z"
   },
   {
    "duration": 38,
    "start_time": "2024-11-01T20:50:57.035Z"
   },
   {
    "duration": 138,
    "start_time": "2024-11-01T20:53:02.501Z"
   },
   {
    "duration": 132,
    "start_time": "2024-11-01T20:53:14.123Z"
   },
   {
    "duration": 155,
    "start_time": "2024-11-01T20:53:19.330Z"
   },
   {
    "duration": 176,
    "start_time": "2024-11-01T20:53:26.801Z"
   },
   {
    "duration": 439,
    "start_time": "2024-11-01T20:54:06.164Z"
   },
   {
    "duration": 143,
    "start_time": "2024-11-01T20:54:23.288Z"
   },
   {
    "duration": 5,
    "start_time": "2024-11-01T20:59:56.244Z"
   },
   {
    "duration": 282,
    "start_time": "2024-11-01T21:00:03.246Z"
   },
   {
    "duration": 153,
    "start_time": "2024-11-01T21:00:15.880Z"
   },
   {
    "duration": 152,
    "start_time": "2024-11-01T21:01:42.519Z"
   },
   {
    "duration": 154,
    "start_time": "2024-11-01T21:01:49.663Z"
   },
   {
    "duration": 4,
    "start_time": "2024-11-01T21:08:03.903Z"
   },
   {
    "duration": 160,
    "start_time": "2024-11-01T21:08:14.097Z"
   },
   {
    "duration": 167,
    "start_time": "2024-11-01T21:08:30.320Z"
   },
   {
    "duration": 148,
    "start_time": "2024-11-01T21:09:06.587Z"
   },
   {
    "duration": 4,
    "start_time": "2024-11-01T21:09:52.509Z"
   },
   {
    "duration": 19,
    "start_time": "2024-11-01T21:10:43.591Z"
   },
   {
    "duration": 39,
    "start_time": "2024-11-01T21:11:06.677Z"
   },
   {
    "duration": 49,
    "start_time": "2024-11-01T21:14:48.194Z"
   },
   {
    "duration": 26,
    "start_time": "2024-11-01T21:14:58.669Z"
   },
   {
    "duration": 18,
    "start_time": "2024-11-01T21:15:09.114Z"
   },
   {
    "duration": 20,
    "start_time": "2024-11-01T21:15:26.760Z"
   },
   {
    "duration": 37,
    "start_time": "2024-11-01T21:15:38.490Z"
   },
   {
    "duration": 4,
    "start_time": "2024-11-01T21:18:35.066Z"
   },
   {
    "duration": 7,
    "start_time": "2024-11-01T21:18:41.177Z"
   },
   {
    "duration": 5,
    "start_time": "2024-11-01T21:19:04.124Z"
   },
   {
    "duration": 4,
    "start_time": "2024-11-01T21:21:44.818Z"
   },
   {
    "duration": 3,
    "start_time": "2024-11-01T21:22:06.266Z"
   },
   {
    "duration": 303,
    "start_time": "2024-11-01T21:23:27.198Z"
   },
   {
    "duration": 139,
    "start_time": "2024-11-01T21:24:32.786Z"
   },
   {
    "duration": 153,
    "start_time": "2024-11-01T21:30:42.415Z"
   },
   {
    "duration": 166,
    "start_time": "2024-11-01T21:31:07.629Z"
   },
   {
    "duration": 154,
    "start_time": "2024-11-01T21:31:38.445Z"
   },
   {
    "duration": 154,
    "start_time": "2024-11-01T21:31:45.729Z"
   },
   {
    "duration": 14,
    "start_time": "2024-11-01T21:33:25.679Z"
   },
   {
    "duration": 4,
    "start_time": "2024-11-01T21:33:43.404Z"
   },
   {
    "duration": 4,
    "start_time": "2024-11-01T21:34:24.166Z"
   },
   {
    "duration": 3,
    "start_time": "2024-11-01T21:34:40.123Z"
   },
   {
    "duration": 4,
    "start_time": "2024-11-01T21:39:04.004Z"
   },
   {
    "duration": 4,
    "start_time": "2024-11-01T21:39:04.775Z"
   },
   {
    "duration": 117,
    "start_time": "2024-11-01T21:39:40.591Z"
   },
   {
    "duration": 123,
    "start_time": "2024-11-01T21:40:03.938Z"
   },
   {
    "duration": 138,
    "start_time": "2024-11-01T21:40:09.915Z"
   },
   {
    "duration": 116,
    "start_time": "2024-11-01T21:40:15.434Z"
   },
   {
    "duration": 130,
    "start_time": "2024-11-01T21:40:30.636Z"
   },
   {
    "duration": 411,
    "start_time": "2024-11-01T21:40:55.846Z"
   },
   {
    "duration": 125,
    "start_time": "2024-11-01T21:41:56.875Z"
   },
   {
    "duration": 127,
    "start_time": "2024-11-01T21:42:03.857Z"
   },
   {
    "duration": 121,
    "start_time": "2024-11-01T21:42:09.341Z"
   },
   {
    "duration": 137,
    "start_time": "2024-11-01T21:42:14.424Z"
   },
   {
    "duration": 125,
    "start_time": "2024-11-01T21:42:21.667Z"
   },
   {
    "duration": 118,
    "start_time": "2024-11-01T21:42:26.901Z"
   },
   {
    "duration": 124,
    "start_time": "2024-11-01T21:42:33.189Z"
   },
   {
    "duration": 123,
    "start_time": "2024-11-01T21:42:40.625Z"
   },
   {
    "duration": 127,
    "start_time": "2024-11-01T21:42:47.009Z"
   },
   {
    "duration": 123,
    "start_time": "2024-11-01T21:42:51.277Z"
   },
   {
    "duration": 127,
    "start_time": "2024-11-01T21:44:50.547Z"
   },
   {
    "duration": 125,
    "start_time": "2024-11-01T21:45:03.885Z"
   },
   {
    "duration": 124,
    "start_time": "2024-11-01T21:45:10.971Z"
   },
   {
    "duration": 4,
    "start_time": "2024-11-01T22:17:11.843Z"
   },
   {
    "duration": 3,
    "start_time": "2024-11-01T22:17:48.602Z"
   },
   {
    "duration": 8,
    "start_time": "2024-11-01T22:18:56.233Z"
   },
   {
    "duration": 11,
    "start_time": "2024-11-01T22:19:02.190Z"
   },
   {
    "duration": 19,
    "start_time": "2024-11-01T22:20:03.165Z"
   },
   {
    "duration": 5,
    "start_time": "2024-11-01T22:23:37.438Z"
   },
   {
    "duration": 244,
    "start_time": "2024-11-01T22:23:54.985Z"
   },
   {
    "duration": 78,
    "start_time": "2024-11-01T22:24:21.310Z"
   },
   {
    "duration": 3,
    "start_time": "2024-11-01T22:28:47.579Z"
   },
   {
    "duration": 5,
    "start_time": "2024-11-01T22:28:57.174Z"
   },
   {
    "duration": 92,
    "start_time": "2024-11-01T22:30:16.584Z"
   },
   {
    "duration": 96,
    "start_time": "2024-11-01T22:31:02.269Z"
   },
   {
    "duration": 22,
    "start_time": "2024-11-01T22:31:27.448Z"
   },
   {
    "duration": 57,
    "start_time": "2024-11-01T22:32:34.962Z"
   },
   {
    "duration": 66,
    "start_time": "2024-11-01T22:32:40.991Z"
   },
   {
    "duration": 11,
    "start_time": "2024-11-01T22:32:41.838Z"
   },
   {
    "duration": 18,
    "start_time": "2024-11-01T22:32:49.060Z"
   },
   {
    "duration": 11,
    "start_time": "2024-11-01T22:33:06.432Z"
   },
   {
    "duration": 5,
    "start_time": "2024-11-01T22:33:16.434Z"
   },
   {
    "duration": 44,
    "start_time": "2024-11-01T22:33:22.564Z"
   },
   {
    "duration": 12,
    "start_time": "2024-11-01T22:33:50.834Z"
   },
   {
    "duration": 213,
    "start_time": "2024-11-01T22:33:51.757Z"
   },
   {
    "duration": 14,
    "start_time": "2024-11-01T22:33:59.425Z"
   },
   {
    "duration": 134,
    "start_time": "2024-11-01T22:36:35.587Z"
   },
   {
    "duration": 146,
    "start_time": "2024-11-01T22:37:13.814Z"
   },
   {
    "duration": 670,
    "start_time": "2024-11-01T22:39:14.063Z"
   },
   {
    "duration": 160,
    "start_time": "2024-11-01T22:39:23.816Z"
   },
   {
    "duration": 157,
    "start_time": "2024-11-01T22:39:43.866Z"
   },
   {
    "duration": 183,
    "start_time": "2024-11-01T22:40:06.164Z"
   },
   {
    "duration": 194,
    "start_time": "2024-11-01T22:40:27.821Z"
   },
   {
    "duration": 2458,
    "start_time": "2024-11-03T01:22:35.017Z"
   },
   {
    "duration": 123,
    "start_time": "2024-11-03T01:22:37.477Z"
   },
   {
    "duration": 49,
    "start_time": "2024-11-03T01:22:37.602Z"
   },
   {
    "duration": 2,
    "start_time": "2024-11-03T01:22:37.654Z"
   },
   {
    "duration": 12,
    "start_time": "2024-11-03T01:22:37.658Z"
   },
   {
    "duration": 41,
    "start_time": "2024-11-03T01:22:37.672Z"
   },
   {
    "duration": 63,
    "start_time": "2024-11-03T01:22:37.715Z"
   },
   {
    "duration": 9,
    "start_time": "2024-11-03T01:22:37.780Z"
   },
   {
    "duration": 8,
    "start_time": "2024-11-03T01:22:37.790Z"
   },
   {
    "duration": 7,
    "start_time": "2024-11-03T01:22:37.801Z"
   },
   {
    "duration": 36,
    "start_time": "2024-11-03T01:22:37.810Z"
   },
   {
    "duration": 4,
    "start_time": "2024-11-03T01:22:37.848Z"
   },
   {
    "duration": 65,
    "start_time": "2024-11-03T01:22:37.854Z"
   },
   {
    "duration": 27,
    "start_time": "2024-11-03T01:22:37.921Z"
   },
   {
    "duration": 26,
    "start_time": "2024-11-03T01:22:37.950Z"
   },
   {
    "duration": 19,
    "start_time": "2024-11-03T01:22:37.977Z"
   },
   {
    "duration": 175,
    "start_time": "2024-11-03T01:22:37.997Z"
   },
   {
    "duration": 35,
    "start_time": "2024-11-03T01:22:38.174Z"
   },
   {
    "duration": 166,
    "start_time": "2024-11-03T01:22:38.211Z"
   },
   {
    "duration": 5,
    "start_time": "2024-11-03T01:22:38.379Z"
   },
   {
    "duration": 168,
    "start_time": "2024-11-03T01:22:38.385Z"
   },
   {
    "duration": 3,
    "start_time": "2024-11-03T01:22:38.555Z"
   },
   {
    "duration": 3,
    "start_time": "2024-11-03T01:22:38.560Z"
   },
   {
    "duration": 144,
    "start_time": "2024-11-03T01:22:38.565Z"
   },
   {
    "duration": 13,
    "start_time": "2024-11-03T01:22:38.711Z"
   },
   {
    "duration": 25,
    "start_time": "2024-11-03T01:22:38.726Z"
   },
   {
    "duration": 217,
    "start_time": "2024-11-03T01:22:38.753Z"
   },
   {
    "duration": 127,
    "start_time": "2024-11-03T01:42:34.039Z"
   },
   {
    "duration": 9,
    "start_time": "2024-11-03T01:43:17.808Z"
   },
   {
    "duration": 3,
    "start_time": "2024-11-03T01:48:48.049Z"
   },
   {
    "duration": 521,
    "start_time": "2024-11-03T01:49:01.820Z"
   },
   {
    "duration": 6,
    "start_time": "2024-11-03T01:51:36.716Z"
   },
   {
    "duration": 4,
    "start_time": "2024-11-03T01:51:50.012Z"
   },
   {
    "duration": 11,
    "start_time": "2024-11-03T01:51:56.338Z"
   },
   {
    "duration": 4,
    "start_time": "2024-11-03T01:52:39.759Z"
   },
   {
    "duration": 9,
    "start_time": "2024-11-03T01:53:50.983Z"
   },
   {
    "duration": 6,
    "start_time": "2024-11-03T01:53:58.309Z"
   },
   {
    "duration": 5,
    "start_time": "2024-11-03T01:54:44.051Z"
   },
   {
    "duration": 3,
    "start_time": "2024-11-03T01:56:05.224Z"
   },
   {
    "duration": 5,
    "start_time": "2024-11-03T02:00:13.276Z"
   },
   {
    "duration": 799,
    "start_time": "2024-11-03T02:03:17.790Z"
   },
   {
    "duration": 106,
    "start_time": "2024-11-03T02:03:18.592Z"
   },
   {
    "duration": 49,
    "start_time": "2024-11-03T02:03:18.700Z"
   },
   {
    "duration": 3,
    "start_time": "2024-11-03T02:03:18.751Z"
   },
   {
    "duration": 11,
    "start_time": "2024-11-03T02:03:18.757Z"
   },
   {
    "duration": 41,
    "start_time": "2024-11-03T02:03:18.770Z"
   },
   {
    "duration": 67,
    "start_time": "2024-11-03T02:03:18.812Z"
   },
   {
    "duration": 9,
    "start_time": "2024-11-03T02:03:18.881Z"
   },
   {
    "duration": 8,
    "start_time": "2024-11-03T02:03:18.891Z"
   },
   {
    "duration": 8,
    "start_time": "2024-11-03T02:03:18.901Z"
   },
   {
    "duration": 36,
    "start_time": "2024-11-03T02:03:18.910Z"
   },
   {
    "duration": 5,
    "start_time": "2024-11-03T02:03:18.947Z"
   },
   {
    "duration": 65,
    "start_time": "2024-11-03T02:03:18.953Z"
   },
   {
    "duration": 32,
    "start_time": "2024-11-03T02:03:19.021Z"
   },
   {
    "duration": 5,
    "start_time": "2024-11-03T02:03:19.054Z"
   },
   {
    "duration": 0,
    "start_time": "2024-11-03T02:03:19.061Z"
   },
   {
    "duration": 0,
    "start_time": "2024-11-03T02:03:19.062Z"
   },
   {
    "duration": 0,
    "start_time": "2024-11-03T02:03:19.063Z"
   },
   {
    "duration": 0,
    "start_time": "2024-11-03T02:03:19.064Z"
   },
   {
    "duration": 0,
    "start_time": "2024-11-03T02:03:19.065Z"
   },
   {
    "duration": 0,
    "start_time": "2024-11-03T02:03:19.067Z"
   },
   {
    "duration": 0,
    "start_time": "2024-11-03T02:03:19.068Z"
   },
   {
    "duration": 0,
    "start_time": "2024-11-03T02:03:19.070Z"
   },
   {
    "duration": 0,
    "start_time": "2024-11-03T02:03:19.071Z"
   },
   {
    "duration": 0,
    "start_time": "2024-11-03T02:03:19.072Z"
   },
   {
    "duration": 0,
    "start_time": "2024-11-03T02:03:19.073Z"
   },
   {
    "duration": 0,
    "start_time": "2024-11-03T02:03:19.074Z"
   },
   {
    "duration": 0,
    "start_time": "2024-11-03T02:03:19.076Z"
   },
   {
    "duration": 3,
    "start_time": "2024-11-03T02:03:40.388Z"
   },
   {
    "duration": 263,
    "start_time": "2024-11-03T02:03:43.939Z"
   },
   {
    "duration": 9,
    "start_time": "2024-11-03T02:03:49.303Z"
   },
   {
    "duration": 19,
    "start_time": "2024-11-03T02:03:58.924Z"
   },
   {
    "duration": 153,
    "start_time": "2024-11-03T02:03:59.874Z"
   },
   {
    "duration": 36,
    "start_time": "2024-11-03T02:04:04.330Z"
   },
   {
    "duration": 155,
    "start_time": "2024-11-03T02:04:04.595Z"
   },
   {
    "duration": 4,
    "start_time": "2024-11-03T02:04:05.475Z"
   },
   {
    "duration": 149,
    "start_time": "2024-11-03T02:04:05.752Z"
   },
   {
    "duration": 4,
    "start_time": "2024-11-03T02:04:06.670Z"
   },
   {
    "duration": 4,
    "start_time": "2024-11-03T02:04:07.215Z"
   },
   {
    "duration": 121,
    "start_time": "2024-11-03T02:04:07.793Z"
   },
   {
    "duration": 13,
    "start_time": "2024-11-03T02:04:09.148Z"
   },
   {
    "duration": 13,
    "start_time": "2024-11-03T02:04:10.385Z"
   },
   {
    "duration": 154,
    "start_time": "2024-11-03T02:04:15.498Z"
   },
   {
    "duration": 4,
    "start_time": "2024-11-03T02:04:19.867Z"
   },
   {
    "duration": 3,
    "start_time": "2024-11-03T02:04:20.579Z"
   },
   {
    "duration": 4,
    "start_time": "2024-11-03T02:04:23.795Z"
   },
   {
    "duration": 2,
    "start_time": "2024-11-03T02:04:53.880Z"
   },
   {
    "duration": 3,
    "start_time": "2024-11-03T02:05:23.481Z"
   },
   {
    "duration": 3,
    "start_time": "2024-11-03T02:05:26.622Z"
   },
   {
    "duration": 15,
    "start_time": "2024-11-03T02:06:40.338Z"
   },
   {
    "duration": 10,
    "start_time": "2024-11-03T02:06:52.722Z"
   },
   {
    "duration": 9,
    "start_time": "2024-11-03T02:08:04.688Z"
   },
   {
    "duration": 14,
    "start_time": "2024-11-03T02:09:22.368Z"
   },
   {
    "duration": 10,
    "start_time": "2024-11-03T02:09:45.813Z"
   },
   {
    "duration": 3,
    "start_time": "2024-11-03T02:10:18.984Z"
   },
   {
    "duration": 3,
    "start_time": "2024-11-03T02:10:33.816Z"
   },
   {
    "duration": 3,
    "start_time": "2024-11-03T02:10:37.716Z"
   },
   {
    "duration": 10,
    "start_time": "2024-11-03T02:12:34.486Z"
   },
   {
    "duration": 3,
    "start_time": "2024-11-03T02:13:16.980Z"
   },
   {
    "duration": 4,
    "start_time": "2024-11-03T02:13:24.875Z"
   },
   {
    "duration": 4,
    "start_time": "2024-11-03T02:13:50.117Z"
   },
   {
    "duration": 5,
    "start_time": "2024-11-03T02:14:42.539Z"
   },
   {
    "duration": 13,
    "start_time": "2024-11-03T02:15:19.569Z"
   },
   {
    "duration": 13,
    "start_time": "2024-11-03T02:15:30.196Z"
   },
   {
    "duration": 13,
    "start_time": "2024-11-03T02:16:01.721Z"
   },
   {
    "duration": 12,
    "start_time": "2024-11-03T02:16:06.586Z"
   },
   {
    "duration": 9,
    "start_time": "2024-11-03T02:16:07.169Z"
   },
   {
    "duration": 3,
    "start_time": "2024-11-03T02:16:07.669Z"
   },
   {
    "duration": 6,
    "start_time": "2024-11-03T02:16:09.270Z"
   },
   {
    "duration": 36,
    "start_time": "2024-11-03T02:16:10.674Z"
   },
   {
    "duration": 4,
    "start_time": "2024-11-03T02:25:02.739Z"
   },
   {
    "duration": 5,
    "start_time": "2024-11-03T02:25:15.612Z"
   },
   {
    "duration": 6,
    "start_time": "2024-11-03T02:25:46.769Z"
   },
   {
    "duration": 7,
    "start_time": "2024-11-03T02:26:21.721Z"
   },
   {
    "duration": 5,
    "start_time": "2024-11-03T02:26:45.673Z"
   },
   {
    "duration": 3,
    "start_time": "2024-11-03T02:26:57.545Z"
   },
   {
    "duration": 16,
    "start_time": "2024-11-03T02:27:03.434Z"
   },
   {
    "duration": 4,
    "start_time": "2024-11-03T02:27:08.725Z"
   },
   {
    "duration": 6,
    "start_time": "2024-11-03T02:28:23.544Z"
   },
   {
    "duration": 4,
    "start_time": "2024-11-03T02:29:02.077Z"
   },
   {
    "duration": 3,
    "start_time": "2024-11-03T02:29:08.851Z"
   },
   {
    "duration": 3,
    "start_time": "2024-11-03T02:29:31.063Z"
   },
   {
    "duration": 6,
    "start_time": "2024-11-03T02:29:50.553Z"
   },
   {
    "duration": 5,
    "start_time": "2024-11-03T02:30:01.584Z"
   },
   {
    "duration": 3,
    "start_time": "2024-11-03T02:30:41.852Z"
   },
   {
    "duration": 4,
    "start_time": "2024-11-03T02:31:08.347Z"
   },
   {
    "duration": 3,
    "start_time": "2024-11-03T02:31:51.818Z"
   },
   {
    "duration": 3,
    "start_time": "2024-11-03T02:32:01.383Z"
   },
   {
    "duration": 35,
    "start_time": "2024-11-03T02:37:21.106Z"
   },
   {
    "duration": 3,
    "start_time": "2024-11-03T02:37:46.359Z"
   },
   {
    "duration": 5,
    "start_time": "2024-11-03T02:38:03.157Z"
   },
   {
    "duration": 35,
    "start_time": "2024-11-03T02:41:14.908Z"
   },
   {
    "duration": 160,
    "start_time": "2024-11-03T02:42:20.725Z"
   },
   {
    "duration": 160,
    "start_time": "2024-11-03T02:46:33.135Z"
   },
   {
    "duration": 151,
    "start_time": "2024-11-03T02:47:29.008Z"
   },
   {
    "duration": 693,
    "start_time": "2024-11-03T02:48:20.292Z"
   },
   {
    "duration": 171,
    "start_time": "2024-11-03T02:48:28.240Z"
   },
   {
    "duration": 120,
    "start_time": "2024-11-03T02:48:43.384Z"
   },
   {
    "duration": 126,
    "start_time": "2024-11-03T02:48:55.518Z"
   },
   {
    "duration": 213,
    "start_time": "2024-11-03T02:49:00.630Z"
   },
   {
    "duration": 121,
    "start_time": "2024-11-03T02:49:08.440Z"
   },
   {
    "duration": 160,
    "start_time": "2024-11-03T02:52:30.943Z"
   },
   {
    "duration": 148,
    "start_time": "2024-11-03T02:52:46.717Z"
   },
   {
    "duration": 144,
    "start_time": "2024-11-03T02:54:29.620Z"
   },
   {
    "duration": 144,
    "start_time": "2024-11-03T02:55:25.722Z"
   },
   {
    "duration": 150,
    "start_time": "2024-11-03T02:56:07.360Z"
   },
   {
    "duration": 154,
    "start_time": "2024-11-03T02:56:36.633Z"
   },
   {
    "duration": 152,
    "start_time": "2024-11-03T02:57:48.792Z"
   },
   {
    "duration": 5,
    "start_time": "2024-11-03T03:00:45.846Z"
   },
   {
    "duration": 339,
    "start_time": "2024-11-03T03:00:57.284Z"
   },
   {
    "duration": 176,
    "start_time": "2024-11-03T03:06:33.314Z"
   },
   {
    "duration": 3,
    "start_time": "2024-11-03T03:08:13.750Z"
   },
   {
    "duration": 122,
    "start_time": "2024-11-03T03:08:17.093Z"
   },
   {
    "duration": 3,
    "start_time": "2024-11-03T03:08:40.867Z"
   },
   {
    "duration": 3,
    "start_time": "2024-11-03T03:08:48.584Z"
   },
   {
    "duration": 110,
    "start_time": "2024-11-03T03:08:49.229Z"
   },
   {
    "duration": 6,
    "start_time": "2024-11-03T03:09:57.020Z"
   },
   {
    "duration": 6,
    "start_time": "2024-11-03T03:10:02.724Z"
   },
   {
    "duration": 16,
    "start_time": "2024-11-03T03:11:36.300Z"
   },
   {
    "duration": 38,
    "start_time": "2024-11-03T03:11:52.457Z"
   },
   {
    "duration": 6,
    "start_time": "2024-11-03T03:13:38.820Z"
   },
   {
    "duration": 146,
    "start_time": "2024-11-03T03:14:48.040Z"
   },
   {
    "duration": 154,
    "start_time": "2024-11-03T03:15:37.334Z"
   },
   {
    "duration": 4,
    "start_time": "2024-11-03T03:23:05.886Z"
   },
   {
    "duration": 3,
    "start_time": "2024-11-03T03:25:13.330Z"
   },
   {
    "duration": 17,
    "start_time": "2024-11-03T03:26:08.415Z"
   },
   {
    "duration": 144,
    "start_time": "2024-11-03T03:26:35.911Z"
   },
   {
    "duration": 17,
    "start_time": "2024-11-03T03:26:56.215Z"
   },
   {
    "duration": 768,
    "start_time": "2024-11-03T03:27:06.810Z"
   },
   {
    "duration": 106,
    "start_time": "2024-11-03T03:27:07.580Z"
   },
   {
    "duration": 46,
    "start_time": "2024-11-03T03:27:07.688Z"
   },
   {
    "duration": 3,
    "start_time": "2024-11-03T03:27:07.742Z"
   },
   {
    "duration": 12,
    "start_time": "2024-11-03T03:27:07.747Z"
   },
   {
    "duration": 42,
    "start_time": "2024-11-03T03:27:07.760Z"
   },
   {
    "duration": 67,
    "start_time": "2024-11-03T03:27:07.803Z"
   },
   {
    "duration": 8,
    "start_time": "2024-11-03T03:27:07.872Z"
   },
   {
    "duration": 8,
    "start_time": "2024-11-03T03:27:07.881Z"
   },
   {
    "duration": 9,
    "start_time": "2024-11-03T03:27:07.891Z"
   },
   {
    "duration": 12,
    "start_time": "2024-11-03T03:27:07.901Z"
   },
   {
    "duration": 5,
    "start_time": "2024-11-03T03:27:07.942Z"
   },
   {
    "duration": 65,
    "start_time": "2024-11-03T03:27:07.949Z"
   },
   {
    "duration": 26,
    "start_time": "2024-11-03T03:27:08.018Z"
   },
   {
    "duration": 9,
    "start_time": "2024-11-03T03:27:08.046Z"
   },
   {
    "duration": 18,
    "start_time": "2024-11-03T03:27:08.056Z"
   },
   {
    "duration": 175,
    "start_time": "2024-11-03T03:27:08.075Z"
   },
   {
    "duration": 36,
    "start_time": "2024-11-03T03:27:08.251Z"
   },
   {
    "duration": 168,
    "start_time": "2024-11-03T03:27:08.288Z"
   },
   {
    "duration": 4,
    "start_time": "2024-11-03T03:27:08.458Z"
   },
   {
    "duration": 210,
    "start_time": "2024-11-03T03:27:08.464Z"
   },
   {
    "duration": 4,
    "start_time": "2024-11-03T03:27:08.676Z"
   },
   {
    "duration": 3,
    "start_time": "2024-11-03T03:27:08.682Z"
   },
   {
    "duration": 145,
    "start_time": "2024-11-03T03:27:08.687Z"
   },
   {
    "duration": 17,
    "start_time": "2024-11-03T03:27:08.834Z"
   },
   {
    "duration": 14,
    "start_time": "2024-11-03T03:27:08.853Z"
   },
   {
    "duration": 167,
    "start_time": "2024-11-03T03:27:08.868Z"
   },
   {
    "duration": 8,
    "start_time": "2024-11-03T03:27:09.037Z"
   },
   {
    "duration": 4,
    "start_time": "2024-11-03T03:27:09.047Z"
   },
   {
    "duration": 3,
    "start_time": "2024-11-03T03:27:09.053Z"
   },
   {
    "duration": 11,
    "start_time": "2024-11-03T03:27:09.058Z"
   },
   {
    "duration": 9,
    "start_time": "2024-11-03T03:27:09.071Z"
   },
   {
    "duration": 3,
    "start_time": "2024-11-03T03:27:09.082Z"
   },
   {
    "duration": 4,
    "start_time": "2024-11-03T03:27:09.087Z"
   },
   {
    "duration": 52,
    "start_time": "2024-11-03T03:27:09.092Z"
   },
   {
    "duration": 3,
    "start_time": "2024-11-03T03:27:09.145Z"
   },
   {
    "duration": 161,
    "start_time": "2024-11-03T03:27:09.150Z"
   },
   {
    "duration": 41,
    "start_time": "2024-11-03T03:27:09.312Z"
   },
   {
    "duration": 6,
    "start_time": "2024-11-03T03:27:09.354Z"
   },
   {
    "duration": 167,
    "start_time": "2024-11-03T03:27:09.361Z"
   },
   {
    "duration": 11,
    "start_time": "2024-11-03T03:27:09.533Z"
   },
   {
    "duration": 8,
    "start_time": "2024-11-03T03:27:09.545Z"
   },
   {
    "duration": 158,
    "start_time": "2024-11-03T03:27:09.555Z"
   },
   {
    "duration": 18,
    "start_time": "2024-11-03T03:29:11.117Z"
   },
   {
    "duration": 7,
    "start_time": "2024-11-03T03:30:21.414Z"
   },
   {
    "duration": 2648,
    "start_time": "2024-11-03T04:18:14.454Z"
   },
   {
    "duration": 127,
    "start_time": "2024-11-03T04:18:17.104Z"
   },
   {
    "duration": 49,
    "start_time": "2024-11-03T04:18:17.233Z"
   },
   {
    "duration": 4,
    "start_time": "2024-11-03T04:18:17.284Z"
   },
   {
    "duration": 12,
    "start_time": "2024-11-03T04:18:17.291Z"
   },
   {
    "duration": 59,
    "start_time": "2024-11-03T04:18:17.304Z"
   },
   {
    "duration": 47,
    "start_time": "2024-11-03T04:18:17.365Z"
   },
   {
    "duration": 25,
    "start_time": "2024-11-03T04:18:17.413Z"
   },
   {
    "duration": 8,
    "start_time": "2024-11-03T04:18:17.440Z"
   },
   {
    "duration": 8,
    "start_time": "2024-11-03T04:18:17.449Z"
   },
   {
    "duration": 11,
    "start_time": "2024-11-03T04:18:17.459Z"
   },
   {
    "duration": 5,
    "start_time": "2024-11-03T04:18:17.472Z"
   },
   {
    "duration": 98,
    "start_time": "2024-11-03T04:18:17.479Z"
   },
   {
    "duration": 11,
    "start_time": "2024-11-03T04:18:17.581Z"
   },
   {
    "duration": 9,
    "start_time": "2024-11-03T04:18:17.595Z"
   },
   {
    "duration": 37,
    "start_time": "2024-11-03T04:18:17.605Z"
   },
   {
    "duration": 183,
    "start_time": "2024-11-03T04:18:17.644Z"
   },
   {
    "duration": 38,
    "start_time": "2024-11-03T04:18:17.829Z"
   },
   {
    "duration": 177,
    "start_time": "2024-11-03T04:18:17.869Z"
   },
   {
    "duration": 4,
    "start_time": "2024-11-03T04:18:18.048Z"
   },
   {
    "duration": 173,
    "start_time": "2024-11-03T04:18:18.053Z"
   },
   {
    "duration": 5,
    "start_time": "2024-11-03T04:18:18.228Z"
   },
   {
    "duration": 6,
    "start_time": "2024-11-03T04:18:18.235Z"
   },
   {
    "duration": 146,
    "start_time": "2024-11-03T04:18:18.243Z"
   },
   {
    "duration": 14,
    "start_time": "2024-11-03T04:18:18.391Z"
   },
   {
    "duration": 29,
    "start_time": "2024-11-03T04:18:18.407Z"
   },
   {
    "duration": 170,
    "start_time": "2024-11-03T04:18:18.438Z"
   },
   {
    "duration": 5,
    "start_time": "2024-11-03T04:18:18.611Z"
   },
   {
    "duration": 14,
    "start_time": "2024-11-03T04:18:18.617Z"
   },
   {
    "duration": 4,
    "start_time": "2024-11-03T04:18:18.632Z"
   },
   {
    "duration": 10,
    "start_time": "2024-11-03T04:18:18.638Z"
   },
   {
    "duration": 10,
    "start_time": "2024-11-03T04:18:18.649Z"
   },
   {
    "duration": 3,
    "start_time": "2024-11-03T04:18:18.665Z"
   },
   {
    "duration": 6,
    "start_time": "2024-11-03T04:18:18.670Z"
   },
   {
    "duration": 4,
    "start_time": "2024-11-03T04:18:18.677Z"
   },
   {
    "duration": 6,
    "start_time": "2024-11-03T04:18:18.682Z"
   },
   {
    "duration": 42,
    "start_time": "2024-11-03T04:18:18.690Z"
   },
   {
    "duration": 218,
    "start_time": "2024-11-03T04:18:18.734Z"
   },
   {
    "duration": 37,
    "start_time": "2024-11-03T04:18:18.953Z"
   },
   {
    "duration": 6,
    "start_time": "2024-11-03T04:18:18.991Z"
   },
   {
    "duration": 171,
    "start_time": "2024-11-03T04:18:19.002Z"
   },
   {
    "duration": 3,
    "start_time": "2024-11-03T04:18:19.176Z"
   },
   {
    "duration": 5,
    "start_time": "2024-11-03T04:18:19.180Z"
   },
   {
    "duration": 171,
    "start_time": "2024-11-03T04:18:19.186Z"
   },
   {
    "duration": 292,
    "start_time": "2024-11-03T04:19:22.437Z"
   },
   {
    "duration": 20,
    "start_time": "2024-11-03T04:19:30.127Z"
   },
   {
    "duration": 9,
    "start_time": "2024-11-03T04:20:03.227Z"
   },
   {
    "duration": 6,
    "start_time": "2024-11-03T04:22:42.127Z"
   },
   {
    "duration": 4,
    "start_time": "2024-11-03T04:22:46.573Z"
   },
   {
    "duration": 6,
    "start_time": "2024-11-03T04:22:49.739Z"
   },
   {
    "duration": 3,
    "start_time": "2024-11-03T04:23:55.609Z"
   },
   {
    "duration": 5,
    "start_time": "2024-11-03T04:24:12.097Z"
   },
   {
    "duration": 21,
    "start_time": "2024-11-03T04:26:22.876Z"
   },
   {
    "duration": 37,
    "start_time": "2024-11-03T04:26:45.264Z"
   },
   {
    "duration": 4,
    "start_time": "2024-11-03T04:29:24.041Z"
   },
   {
    "duration": 151,
    "start_time": "2024-11-03T04:29:24.746Z"
   },
   {
    "duration": 4,
    "start_time": "2024-11-03T04:30:28.268Z"
   },
   {
    "duration": 3,
    "start_time": "2024-11-03T04:30:32.950Z"
   },
   {
    "duration": 5,
    "start_time": "2024-11-03T04:32:42.537Z"
   },
   {
    "duration": 2640,
    "start_time": "2024-11-03T19:14:18.277Z"
   },
   {
    "duration": 131,
    "start_time": "2024-11-03T19:14:20.919Z"
   },
   {
    "duration": 47,
    "start_time": "2024-11-03T19:14:21.052Z"
   },
   {
    "duration": 3,
    "start_time": "2024-11-03T19:14:21.101Z"
   },
   {
    "duration": 11,
    "start_time": "2024-11-03T19:14:21.107Z"
   },
   {
    "duration": 43,
    "start_time": "2024-11-03T19:14:21.131Z"
   },
   {
    "duration": 57,
    "start_time": "2024-11-03T19:14:21.176Z"
   },
   {
    "duration": 9,
    "start_time": "2024-11-03T19:14:21.234Z"
   },
   {
    "duration": 8,
    "start_time": "2024-11-03T19:14:21.245Z"
   },
   {
    "duration": 8,
    "start_time": "2024-11-03T19:14:21.255Z"
   },
   {
    "duration": 11,
    "start_time": "2024-11-03T19:14:21.264Z"
   },
   {
    "duration": 4,
    "start_time": "2024-11-03T19:14:21.277Z"
   },
   {
    "duration": 98,
    "start_time": "2024-11-03T19:14:21.283Z"
   },
   {
    "duration": 11,
    "start_time": "2024-11-03T19:14:21.384Z"
   },
   {
    "duration": 10,
    "start_time": "2024-11-03T19:14:21.396Z"
   },
   {
    "duration": 38,
    "start_time": "2024-11-03T19:14:21.408Z"
   },
   {
    "duration": 169,
    "start_time": "2024-11-03T19:14:21.448Z"
   },
   {
    "duration": 14,
    "start_time": "2024-11-03T19:14:21.619Z"
   },
   {
    "duration": 35,
    "start_time": "2024-11-03T19:14:21.635Z"
   },
   {
    "duration": 166,
    "start_time": "2024-11-03T19:14:21.672Z"
   },
   {
    "duration": 4,
    "start_time": "2024-11-03T19:14:21.840Z"
   },
   {
    "duration": 189,
    "start_time": "2024-11-03T19:14:21.845Z"
   },
   {
    "duration": 4,
    "start_time": "2024-11-03T19:14:22.036Z"
   },
   {
    "duration": 4,
    "start_time": "2024-11-03T19:14:22.042Z"
   },
   {
    "duration": 146,
    "start_time": "2024-11-03T19:14:22.047Z"
   },
   {
    "duration": 14,
    "start_time": "2024-11-03T19:14:22.195Z"
   },
   {
    "duration": 27,
    "start_time": "2024-11-03T19:14:22.211Z"
   },
   {
    "duration": 169,
    "start_time": "2024-11-03T19:14:22.240Z"
   },
   {
    "duration": 4,
    "start_time": "2024-11-03T19:14:22.411Z"
   },
   {
    "duration": 14,
    "start_time": "2024-11-03T19:14:22.417Z"
   },
   {
    "duration": 4,
    "start_time": "2024-11-03T19:14:22.433Z"
   },
   {
    "duration": 10,
    "start_time": "2024-11-03T19:14:22.439Z"
   },
   {
    "duration": 10,
    "start_time": "2024-11-03T19:14:22.451Z"
   },
   {
    "duration": 4,
    "start_time": "2024-11-03T19:14:22.462Z"
   },
   {
    "duration": 5,
    "start_time": "2024-11-03T19:14:22.468Z"
   },
   {
    "duration": 3,
    "start_time": "2024-11-03T19:14:22.475Z"
   },
   {
    "duration": 60,
    "start_time": "2024-11-03T19:14:22.480Z"
   },
   {
    "duration": 9,
    "start_time": "2024-11-03T19:14:22.542Z"
   },
   {
    "duration": 3,
    "start_time": "2024-11-03T19:14:22.553Z"
   },
   {
    "duration": 6,
    "start_time": "2024-11-03T19:14:22.558Z"
   },
   {
    "duration": 6,
    "start_time": "2024-11-03T19:14:22.568Z"
   },
   {
    "duration": 4,
    "start_time": "2024-11-03T19:14:22.576Z"
   },
   {
    "duration": 187,
    "start_time": "2024-11-03T19:14:22.581Z"
   },
   {
    "duration": 39,
    "start_time": "2024-11-03T19:14:22.770Z"
   },
   {
    "duration": 22,
    "start_time": "2024-11-03T19:14:22.811Z"
   },
   {
    "duration": 165,
    "start_time": "2024-11-03T19:14:22.835Z"
   },
   {
    "duration": 3,
    "start_time": "2024-11-03T19:14:23.002Z"
   },
   {
    "duration": 5,
    "start_time": "2024-11-03T19:14:23.007Z"
   },
   {
    "duration": 169,
    "start_time": "2024-11-03T19:14:23.014Z"
   },
   {
    "duration": 5,
    "start_time": "2024-11-03T19:20:16.880Z"
   },
   {
    "duration": 3,
    "start_time": "2024-11-03T19:20:21.021Z"
   },
   {
    "duration": 3,
    "start_time": "2024-11-03T19:29:48.342Z"
   },
   {
    "duration": 3,
    "start_time": "2024-11-03T19:38:07.387Z"
   },
   {
    "duration": 134,
    "start_time": "2024-11-03T19:38:34.002Z"
   },
   {
    "duration": 4,
    "start_time": "2024-11-03T19:39:14.357Z"
   },
   {
    "duration": 6,
    "start_time": "2024-11-03T19:39:30.055Z"
   },
   {
    "duration": 3,
    "start_time": "2024-11-03T19:41:38.406Z"
   },
   {
    "duration": 7,
    "start_time": "2024-11-03T19:41:48.198Z"
   },
   {
    "duration": 200,
    "start_time": "2024-11-03T19:42:27.818Z"
   },
   {
    "duration": 233,
    "start_time": "2024-11-03T19:47:18.461Z"
   },
   {
    "duration": 3,
    "start_time": "2024-11-03T19:50:04.323Z"
   },
   {
    "duration": 179,
    "start_time": "2024-11-03T19:50:05.416Z"
   },
   {
    "duration": 179,
    "start_time": "2024-11-03T19:50:22.955Z"
   },
   {
    "duration": 155,
    "start_time": "2024-11-03T19:51:25.170Z"
   },
   {
    "duration": 152,
    "start_time": "2024-11-03T19:52:35.906Z"
   },
   {
    "duration": 148,
    "start_time": "2024-11-03T19:52:49.220Z"
   },
   {
    "duration": 159,
    "start_time": "2024-11-03T19:53:35.391Z"
   },
   {
    "duration": 107,
    "start_time": "2024-11-03T19:54:29.841Z"
   },
   {
    "duration": 3,
    "start_time": "2024-11-03T19:54:39.567Z"
   },
   {
    "duration": 2,
    "start_time": "2024-11-03T19:54:39.925Z"
   },
   {
    "duration": 252,
    "start_time": "2024-11-03T19:54:44.659Z"
   },
   {
    "duration": 177,
    "start_time": "2024-11-03T19:55:13.237Z"
   },
   {
    "duration": 172,
    "start_time": "2024-11-03T19:55:23.782Z"
   },
   {
    "duration": 3,
    "start_time": "2024-11-03T19:56:41.508Z"
   },
   {
    "duration": 4,
    "start_time": "2024-11-03T19:58:46.752Z"
   },
   {
    "duration": 5,
    "start_time": "2024-11-03T19:58:56.138Z"
   },
   {
    "duration": 5,
    "start_time": "2024-11-03T19:59:01.581Z"
   },
   {
    "duration": 4,
    "start_time": "2024-11-03T19:59:25.650Z"
   },
   {
    "duration": 3,
    "start_time": "2024-11-03T19:59:59.782Z"
   },
   {
    "duration": 295,
    "start_time": "2024-11-03T20:01:40.169Z"
   },
   {
    "duration": 178,
    "start_time": "2024-11-03T20:01:45.145Z"
   },
   {
    "duration": 174,
    "start_time": "2024-11-03T20:02:02.859Z"
   },
   {
    "duration": 176,
    "start_time": "2024-11-03T20:02:32.506Z"
   },
   {
    "duration": 256,
    "start_time": "2024-11-03T20:03:23.971Z"
   },
   {
    "duration": 178,
    "start_time": "2024-11-03T20:03:35.875Z"
   },
   {
    "duration": 173,
    "start_time": "2024-11-03T20:03:44.707Z"
   },
   {
    "duration": 173,
    "start_time": "2024-11-03T20:03:58.925Z"
   },
   {
    "duration": 174,
    "start_time": "2024-11-03T20:04:36.170Z"
   },
   {
    "duration": 518,
    "start_time": "2024-11-03T20:06:11.313Z"
   },
   {
    "duration": 10,
    "start_time": "2024-11-03T20:07:06.302Z"
   },
   {
    "duration": 10,
    "start_time": "2024-11-03T20:07:28.110Z"
   },
   {
    "duration": 10,
    "start_time": "2024-11-03T20:07:36.122Z"
   },
   {
    "duration": 10,
    "start_time": "2024-11-03T20:08:23.311Z"
   },
   {
    "duration": 20,
    "start_time": "2024-11-03T20:08:52.371Z"
   },
   {
    "duration": 15,
    "start_time": "2024-11-03T20:08:58.768Z"
   },
   {
    "duration": 14,
    "start_time": "2024-11-03T20:10:08.988Z"
   },
   {
    "duration": 13,
    "start_time": "2024-11-03T20:10:20.326Z"
   },
   {
    "duration": 4,
    "start_time": "2024-11-03T20:10:49.366Z"
   },
   {
    "duration": 1352,
    "start_time": "2024-11-03T20:11:11.252Z"
   },
   {
    "duration": 12,
    "start_time": "2024-11-03T20:11:19.057Z"
   },
   {
    "duration": 14,
    "start_time": "2024-11-03T20:11:33.225Z"
   },
   {
    "duration": 10,
    "start_time": "2024-11-03T20:12:11.382Z"
   },
   {
    "duration": 10,
    "start_time": "2024-11-03T20:12:24.868Z"
   },
   {
    "duration": 13,
    "start_time": "2024-11-03T20:12:32.430Z"
   },
   {
    "duration": 9,
    "start_time": "2024-11-03T20:13:42.663Z"
   },
   {
    "duration": 10,
    "start_time": "2024-11-03T20:13:49.893Z"
   },
   {
    "duration": 10,
    "start_time": "2024-11-03T20:14:54.376Z"
   },
   {
    "duration": 9,
    "start_time": "2024-11-03T20:15:04.563Z"
   },
   {
    "duration": 10,
    "start_time": "2024-11-03T20:16:05.972Z"
   },
   {
    "duration": 9,
    "start_time": "2024-11-03T20:16:25.578Z"
   },
   {
    "duration": 8,
    "start_time": "2024-11-03T20:17:00.757Z"
   },
   {
    "duration": 9,
    "start_time": "2024-11-03T20:17:40.505Z"
   },
   {
    "duration": 4,
    "start_time": "2024-11-03T20:28:41.496Z"
   },
   {
    "duration": 3,
    "start_time": "2024-11-03T20:29:05.188Z"
   },
   {
    "duration": 4,
    "start_time": "2024-11-03T20:29:42.530Z"
   },
   {
    "duration": 14,
    "start_time": "2024-11-03T20:29:49.310Z"
   },
   {
    "duration": 5,
    "start_time": "2024-11-03T20:29:52.500Z"
   },
   {
    "duration": 171,
    "start_time": "2024-11-03T20:31:26.343Z"
   },
   {
    "duration": 525,
    "start_time": "2024-11-03T20:32:31.827Z"
   },
   {
    "duration": 7,
    "start_time": "2024-11-03T20:33:09.984Z"
   },
   {
    "duration": 5,
    "start_time": "2024-11-03T20:33:17.371Z"
   },
   {
    "duration": 31,
    "start_time": "2024-11-03T20:33:17.977Z"
   },
   {
    "duration": 5,
    "start_time": "2024-11-03T20:33:46.786Z"
   },
   {
    "duration": 4,
    "start_time": "2024-11-03T20:33:47.817Z"
   },
   {
    "duration": 2,
    "start_time": "2024-11-03T20:33:48.268Z"
   },
   {
    "duration": 187,
    "start_time": "2024-11-03T20:33:51.947Z"
   },
   {
    "duration": 3,
    "start_time": "2024-11-03T20:34:34.079Z"
   },
   {
    "duration": 6,
    "start_time": "2024-11-03T20:34:44.673Z"
   },
   {
    "duration": 3,
    "start_time": "2024-11-03T20:34:57.246Z"
   },
   {
    "duration": 100,
    "start_time": "2024-11-03T20:35:02.406Z"
   },
   {
    "duration": 2584,
    "start_time": "2024-11-03T21:48:42.652Z"
   },
   {
    "duration": 135,
    "start_time": "2024-11-03T21:48:45.238Z"
   },
   {
    "duration": 51,
    "start_time": "2024-11-03T21:48:45.375Z"
   },
   {
    "duration": 4,
    "start_time": "2024-11-03T21:48:45.428Z"
   },
   {
    "duration": 13,
    "start_time": "2024-11-03T21:48:45.435Z"
   },
   {
    "duration": 42,
    "start_time": "2024-11-03T21:48:45.451Z"
   },
   {
    "duration": 68,
    "start_time": "2024-11-03T21:48:45.495Z"
   },
   {
    "duration": 10,
    "start_time": "2024-11-03T21:48:45.566Z"
   },
   {
    "duration": 8,
    "start_time": "2024-11-03T21:48:45.577Z"
   },
   {
    "duration": 9,
    "start_time": "2024-11-03T21:48:45.587Z"
   },
   {
    "duration": 36,
    "start_time": "2024-11-03T21:48:45.597Z"
   },
   {
    "duration": 5,
    "start_time": "2024-11-03T21:48:45.634Z"
   },
   {
    "duration": 64,
    "start_time": "2024-11-03T21:48:45.641Z"
   },
   {
    "duration": 11,
    "start_time": "2024-11-03T21:48:45.726Z"
   },
   {
    "duration": 12,
    "start_time": "2024-11-03T21:48:45.738Z"
   },
   {
    "duration": 19,
    "start_time": "2024-11-03T21:48:45.752Z"
   },
   {
    "duration": 177,
    "start_time": "2024-11-03T21:48:45.774Z"
   },
   {
    "duration": 6,
    "start_time": "2024-11-03T21:48:45.953Z"
   },
   {
    "duration": 35,
    "start_time": "2024-11-03T21:48:45.961Z"
   },
   {
    "duration": 176,
    "start_time": "2024-11-03T21:48:45.997Z"
   },
   {
    "duration": 4,
    "start_time": "2024-11-03T21:48:46.176Z"
   },
   {
    "duration": 169,
    "start_time": "2024-11-03T21:48:46.181Z"
   },
   {
    "duration": 3,
    "start_time": "2024-11-03T21:48:46.354Z"
   },
   {
    "duration": 3,
    "start_time": "2024-11-03T21:48:46.359Z"
   },
   {
    "duration": 192,
    "start_time": "2024-11-03T21:48:46.364Z"
   },
   {
    "duration": 13,
    "start_time": "2024-11-03T21:48:46.558Z"
   },
   {
    "duration": 13,
    "start_time": "2024-11-03T21:48:46.573Z"
   },
   {
    "duration": 176,
    "start_time": "2024-11-03T21:48:46.588Z"
   },
   {
    "duration": 5,
    "start_time": "2024-11-03T21:48:46.766Z"
   },
   {
    "duration": 3,
    "start_time": "2024-11-03T21:48:46.773Z"
   },
   {
    "duration": 4,
    "start_time": "2024-11-03T21:48:46.777Z"
   },
   {
    "duration": 10,
    "start_time": "2024-11-03T21:48:46.783Z"
   },
   {
    "duration": 36,
    "start_time": "2024-11-03T21:48:46.795Z"
   },
   {
    "duration": 4,
    "start_time": "2024-11-03T21:48:46.833Z"
   },
   {
    "duration": 7,
    "start_time": "2024-11-03T21:48:46.839Z"
   },
   {
    "duration": 3,
    "start_time": "2024-11-03T21:48:46.847Z"
   },
   {
    "duration": 180,
    "start_time": "2024-11-03T21:48:46.852Z"
   },
   {
    "duration": 19,
    "start_time": "2024-11-03T21:48:47.033Z"
   },
   {
    "duration": 10,
    "start_time": "2024-11-03T21:48:47.053Z"
   },
   {
    "duration": 164,
    "start_time": "2024-11-03T21:48:47.065Z"
   },
   {
    "duration": 3,
    "start_time": "2024-11-03T21:48:47.235Z"
   },
   {
    "duration": 4,
    "start_time": "2024-11-03T21:48:47.243Z"
   },
   {
    "duration": 4,
    "start_time": "2024-11-03T21:48:47.249Z"
   },
   {
    "duration": 3,
    "start_time": "2024-11-03T21:48:47.254Z"
   },
   {
    "duration": 199,
    "start_time": "2024-11-03T21:48:47.259Z"
   },
   {
    "duration": 6,
    "start_time": "2024-11-03T21:48:47.460Z"
   },
   {
    "duration": 3,
    "start_time": "2024-11-03T21:48:47.468Z"
   },
   {
    "duration": 171,
    "start_time": "2024-11-03T21:48:47.473Z"
   },
   {
    "duration": 36,
    "start_time": "2024-11-03T21:48:47.646Z"
   },
   {
    "duration": 4,
    "start_time": "2024-11-03T21:48:47.684Z"
   },
   {
    "duration": 177,
    "start_time": "2024-11-03T21:48:47.690Z"
   },
   {
    "duration": 239,
    "start_time": "2024-11-03T21:48:47.869Z"
   },
   {
    "duration": 0,
    "start_time": "2024-11-03T21:48:48.110Z"
   },
   {
    "duration": 0,
    "start_time": "2024-11-03T21:48:48.111Z"
   },
   {
    "duration": 0,
    "start_time": "2024-11-03T21:48:48.113Z"
   },
   {
    "duration": 0,
    "start_time": "2024-11-03T21:48:48.113Z"
   },
   {
    "duration": 0,
    "start_time": "2024-11-03T21:48:48.114Z"
   },
   {
    "duration": 0,
    "start_time": "2024-11-03T21:48:48.127Z"
   },
   {
    "duration": 0,
    "start_time": "2024-11-03T21:48:48.129Z"
   },
   {
    "duration": 0,
    "start_time": "2024-11-03T21:48:48.130Z"
   },
   {
    "duration": 0,
    "start_time": "2024-11-03T21:48:48.132Z"
   },
   {
    "duration": 0,
    "start_time": "2024-11-03T21:48:48.134Z"
   },
   {
    "duration": 0,
    "start_time": "2024-11-03T21:48:48.135Z"
   },
   {
    "duration": 3,
    "start_time": "2024-11-03T21:49:05.978Z"
   },
   {
    "duration": 5,
    "start_time": "2024-11-03T21:49:07.681Z"
   },
   {
    "duration": 3,
    "start_time": "2024-11-03T21:49:08.042Z"
   },
   {
    "duration": 3,
    "start_time": "2024-11-03T21:49:08.584Z"
   },
   {
    "duration": 242,
    "start_time": "2024-11-03T21:49:08.909Z"
   },
   {
    "duration": 10,
    "start_time": "2024-11-03T21:49:09.881Z"
   },
   {
    "duration": 9,
    "start_time": "2024-11-03T21:49:10.228Z"
   },
   {
    "duration": 9,
    "start_time": "2024-11-03T21:49:10.552Z"
   },
   {
    "duration": 6,
    "start_time": "2024-11-03T21:49:12.289Z"
   },
   {
    "duration": 3,
    "start_time": "2024-11-03T21:49:12.666Z"
   },
   {
    "duration": 5,
    "start_time": "2024-11-03T21:49:13.373Z"
   },
   {
    "duration": 7,
    "start_time": "2024-11-03T21:51:43.369Z"
   },
   {
    "duration": 119,
    "start_time": "2024-11-03T21:51:51.827Z"
   },
   {
    "duration": 3,
    "start_time": "2024-11-03T21:52:08.158Z"
   },
   {
    "duration": 102,
    "start_time": "2024-11-03T21:52:09.033Z"
   },
   {
    "duration": 6,
    "start_time": "2024-11-03T21:52:24.605Z"
   },
   {
    "duration": 3,
    "start_time": "2024-11-03T21:52:29.984Z"
   },
   {
    "duration": 6,
    "start_time": "2024-11-03T21:52:30.557Z"
   },
   {
    "duration": 118,
    "start_time": "2024-11-03T21:52:32.575Z"
   },
   {
    "duration": 114,
    "start_time": "2024-11-03T21:53:06.434Z"
   },
   {
    "duration": 105,
    "start_time": "2024-11-03T21:54:02.155Z"
   },
   {
    "duration": 3,
    "start_time": "2024-11-03T21:57:31.973Z"
   },
   {
    "duration": 109,
    "start_time": "2024-11-03T21:59:48.245Z"
   },
   {
    "duration": 665,
    "start_time": "2024-11-03T22:00:07.341Z"
   },
   {
    "duration": 203,
    "start_time": "2024-11-03T22:00:31.854Z"
   },
   {
    "duration": 148,
    "start_time": "2024-11-03T22:00:43.531Z"
   },
   {
    "duration": 127,
    "start_time": "2024-11-03T22:00:52.759Z"
   },
   {
    "duration": 4,
    "start_time": "2024-11-03T22:01:23.648Z"
   },
   {
    "duration": 22,
    "start_time": "2024-11-03T22:01:24.042Z"
   },
   {
    "duration": 4,
    "start_time": "2024-11-03T22:01:31.015Z"
   },
   {
    "duration": 71,
    "start_time": "2024-11-03T22:01:31.913Z"
   },
   {
    "duration": 123,
    "start_time": "2024-11-03T22:01:40.946Z"
   },
   {
    "duration": 888,
    "start_time": "2024-11-03T22:08:08.920Z"
   },
   {
    "duration": 105,
    "start_time": "2024-11-03T22:08:09.810Z"
   },
   {
    "duration": 52,
    "start_time": "2024-11-03T22:08:09.917Z"
   },
   {
    "duration": 2,
    "start_time": "2024-11-03T22:08:09.972Z"
   },
   {
    "duration": 13,
    "start_time": "2024-11-03T22:08:09.976Z"
   },
   {
    "duration": 62,
    "start_time": "2024-11-03T22:08:09.991Z"
   },
   {
    "duration": 45,
    "start_time": "2024-11-03T22:08:10.055Z"
   },
   {
    "duration": 24,
    "start_time": "2024-11-03T22:08:10.102Z"
   },
   {
    "duration": 10,
    "start_time": "2024-11-03T22:08:10.128Z"
   },
   {
    "duration": 9,
    "start_time": "2024-11-03T22:08:10.139Z"
   },
   {
    "duration": 11,
    "start_time": "2024-11-03T22:08:10.150Z"
   },
   {
    "duration": 4,
    "start_time": "2024-11-03T22:08:10.163Z"
   },
   {
    "duration": 98,
    "start_time": "2024-11-03T22:08:10.169Z"
   },
   {
    "duration": 11,
    "start_time": "2024-11-03T22:08:10.271Z"
   },
   {
    "duration": 9,
    "start_time": "2024-11-03T22:08:10.284Z"
   },
   {
    "duration": 35,
    "start_time": "2024-11-03T22:08:10.295Z"
   },
   {
    "duration": 170,
    "start_time": "2024-11-03T22:08:10.332Z"
   },
   {
    "duration": 6,
    "start_time": "2024-11-03T22:08:10.504Z"
   },
   {
    "duration": 47,
    "start_time": "2024-11-03T22:08:10.511Z"
   },
   {
    "duration": 173,
    "start_time": "2024-11-03T22:08:10.561Z"
   },
   {
    "duration": 3,
    "start_time": "2024-11-03T22:08:10.738Z"
   },
   {
    "duration": 209,
    "start_time": "2024-11-03T22:08:10.743Z"
   },
   {
    "duration": 4,
    "start_time": "2024-11-03T22:08:10.954Z"
   },
   {
    "duration": 4,
    "start_time": "2024-11-03T22:08:10.960Z"
   },
   {
    "duration": 141,
    "start_time": "2024-11-03T22:08:10.965Z"
   },
   {
    "duration": 17,
    "start_time": "2024-11-03T22:08:11.108Z"
   },
   {
    "duration": 14,
    "start_time": "2024-11-03T22:08:11.127Z"
   },
   {
    "duration": 181,
    "start_time": "2024-11-03T22:08:11.143Z"
   },
   {
    "duration": 6,
    "start_time": "2024-11-03T22:08:11.325Z"
   },
   {
    "duration": 3,
    "start_time": "2024-11-03T22:08:11.333Z"
   },
   {
    "duration": 4,
    "start_time": "2024-11-03T22:08:11.337Z"
   },
   {
    "duration": 11,
    "start_time": "2024-11-03T22:08:11.342Z"
   },
   {
    "duration": 10,
    "start_time": "2024-11-03T22:08:11.354Z"
   },
   {
    "duration": 4,
    "start_time": "2024-11-03T22:08:11.365Z"
   },
   {
    "duration": 5,
    "start_time": "2024-11-03T22:08:11.371Z"
   },
   {
    "duration": 3,
    "start_time": "2024-11-03T22:08:11.378Z"
   },
   {
    "duration": 160,
    "start_time": "2024-11-03T22:08:11.425Z"
   },
   {
    "duration": 17,
    "start_time": "2024-11-03T22:08:11.587Z"
   },
   {
    "duration": 19,
    "start_time": "2024-11-03T22:08:11.606Z"
   },
   {
    "duration": 165,
    "start_time": "2024-11-03T22:08:11.627Z"
   },
   {
    "duration": 3,
    "start_time": "2024-11-03T22:08:11.797Z"
   },
   {
    "duration": 4,
    "start_time": "2024-11-03T22:08:11.802Z"
   },
   {
    "duration": 19,
    "start_time": "2024-11-03T22:08:11.807Z"
   },
   {
    "duration": 4,
    "start_time": "2024-11-03T22:08:11.827Z"
   },
   {
    "duration": 178,
    "start_time": "2024-11-03T22:08:11.833Z"
   },
   {
    "duration": 12,
    "start_time": "2024-11-03T22:08:12.013Z"
   },
   {
    "duration": 4,
    "start_time": "2024-11-03T22:08:12.026Z"
   },
   {
    "duration": 156,
    "start_time": "2024-11-03T22:08:12.033Z"
   },
   {
    "duration": 44,
    "start_time": "2024-11-03T22:08:12.191Z"
   },
   {
    "duration": 5,
    "start_time": "2024-11-03T22:08:12.236Z"
   },
   {
    "duration": 162,
    "start_time": "2024-11-03T22:08:12.243Z"
   },
   {
    "duration": 3,
    "start_time": "2024-11-03T22:08:12.406Z"
   },
   {
    "duration": 16,
    "start_time": "2024-11-03T22:08:12.411Z"
   },
   {
    "duration": 4,
    "start_time": "2024-11-03T22:08:12.428Z"
   },
   {
    "duration": 3,
    "start_time": "2024-11-03T22:08:12.433Z"
   },
   {
    "duration": 190,
    "start_time": "2024-11-03T22:08:12.438Z"
   },
   {
    "duration": 9,
    "start_time": "2024-11-03T22:08:12.630Z"
   },
   {
    "duration": 9,
    "start_time": "2024-11-03T22:08:12.641Z"
   },
   {
    "duration": 8,
    "start_time": "2024-11-03T22:08:12.652Z"
   },
   {
    "duration": 3,
    "start_time": "2024-11-03T22:08:12.662Z"
   },
   {
    "duration": 4,
    "start_time": "2024-11-03T22:08:24.113Z"
   },
   {
    "duration": 7,
    "start_time": "2024-11-03T22:08:33.229Z"
   },
   {
    "duration": 4,
    "start_time": "2024-11-03T22:09:05.780Z"
   },
   {
    "duration": 3,
    "start_time": "2024-11-03T22:09:06.636Z"
   },
   {
    "duration": 6,
    "start_time": "2024-11-03T22:09:16.366Z"
   },
   {
    "duration": 132,
    "start_time": "2024-11-03T22:09:46.216Z"
   },
   {
    "duration": 126,
    "start_time": "2024-11-03T22:10:11.278Z"
   },
   {
    "duration": 3,
    "start_time": "2024-11-03T22:19:55.880Z"
   },
   {
    "duration": 12,
    "start_time": "2024-11-03T22:22:05.482Z"
   },
   {
    "duration": 10,
    "start_time": "2024-11-03T22:28:30.804Z"
   },
   {
    "duration": 3,
    "start_time": "2024-11-03T22:35:10.053Z"
   },
   {
    "duration": 4,
    "start_time": "2024-11-03T22:35:39.366Z"
   },
   {
    "duration": 3,
    "start_time": "2024-11-03T22:35:45.655Z"
   },
   {
    "duration": 3,
    "start_time": "2024-11-03T22:36:25.327Z"
   },
   {
    "duration": 3,
    "start_time": "2024-11-03T22:37:04.272Z"
   },
   {
    "duration": 4,
    "start_time": "2024-11-03T22:37:08.371Z"
   },
   {
    "duration": 5,
    "start_time": "2024-11-03T22:37:35.546Z"
   },
   {
    "duration": 3,
    "start_time": "2024-11-03T22:40:06.601Z"
   },
   {
    "duration": 3,
    "start_time": "2024-11-03T22:40:07.870Z"
   },
   {
    "duration": 172,
    "start_time": "2024-11-03T22:40:08.822Z"
   },
   {
    "duration": 6,
    "start_time": "2024-11-03T22:41:56.390Z"
   },
   {
    "duration": 3,
    "start_time": "2024-11-03T22:42:00.857Z"
   },
   {
    "duration": 208,
    "start_time": "2024-11-03T22:42:01.740Z"
   },
   {
    "duration": 37,
    "start_time": "2024-11-03T22:42:09.550Z"
   },
   {
    "duration": 6,
    "start_time": "2024-11-03T22:42:10.756Z"
   },
   {
    "duration": 170,
    "start_time": "2024-11-03T22:42:19.199Z"
   },
   {
    "duration": 3,
    "start_time": "2024-11-03T22:42:20.515Z"
   },
   {
    "duration": 3,
    "start_time": "2024-11-03T22:42:53.731Z"
   },
   {
    "duration": 5,
    "start_time": "2024-11-03T22:43:15.664Z"
   },
   {
    "duration": 37,
    "start_time": "2024-11-03T22:47:53.104Z"
   },
   {
    "duration": 3,
    "start_time": "2024-11-03T22:48:12.782Z"
   },
   {
    "duration": 6,
    "start_time": "2024-11-03T22:48:26.602Z"
   },
   {
    "duration": 40,
    "start_time": "2024-11-03T22:51:41.051Z"
   },
   {
    "duration": 4,
    "start_time": "2024-11-03T22:51:47.705Z"
   },
   {
    "duration": 7,
    "start_time": "2024-11-03T22:51:51.434Z"
   },
   {
    "duration": 44,
    "start_time": "2024-11-03T22:52:04.376Z"
   },
   {
    "duration": 42,
    "start_time": "2024-11-03T22:52:08.380Z"
   },
   {
    "duration": 5,
    "start_time": "2024-11-03T22:52:23.108Z"
   },
   {
    "duration": 41,
    "start_time": "2024-11-03T22:52:34.977Z"
   },
   {
    "duration": 40,
    "start_time": "2024-11-03T22:52:56.591Z"
   },
   {
    "duration": 6,
    "start_time": "2024-11-03T22:53:06.594Z"
   },
   {
    "duration": 17,
    "start_time": "2024-11-03T22:57:27.376Z"
   },
   {
    "duration": 38,
    "start_time": "2024-11-03T22:57:43.715Z"
   },
   {
    "duration": 773,
    "start_time": "2024-11-03T23:03:26.197Z"
   },
   {
    "duration": 102,
    "start_time": "2024-11-03T23:03:26.972Z"
   },
   {
    "duration": 50,
    "start_time": "2024-11-03T23:03:27.076Z"
   },
   {
    "duration": 4,
    "start_time": "2024-11-03T23:03:27.128Z"
   },
   {
    "duration": 11,
    "start_time": "2024-11-03T23:03:27.134Z"
   },
   {
    "duration": 41,
    "start_time": "2024-11-03T23:03:27.147Z"
   },
   {
    "duration": 64,
    "start_time": "2024-11-03T23:03:27.190Z"
   },
   {
    "duration": 10,
    "start_time": "2024-11-03T23:03:27.255Z"
   },
   {
    "duration": 9,
    "start_time": "2024-11-03T23:03:27.266Z"
   },
   {
    "duration": 9,
    "start_time": "2024-11-03T23:03:27.278Z"
   },
   {
    "duration": 41,
    "start_time": "2024-11-03T23:03:27.289Z"
   },
   {
    "duration": 5,
    "start_time": "2024-11-03T23:03:27.331Z"
   },
   {
    "duration": 65,
    "start_time": "2024-11-03T23:03:27.337Z"
   },
   {
    "duration": 23,
    "start_time": "2024-11-03T23:03:27.405Z"
   },
   {
    "duration": 10,
    "start_time": "2024-11-03T23:03:27.429Z"
   },
   {
    "duration": 18,
    "start_time": "2024-11-03T23:03:27.440Z"
   },
   {
    "duration": 185,
    "start_time": "2024-11-03T23:03:27.459Z"
   },
   {
    "duration": 7,
    "start_time": "2024-11-03T23:03:27.645Z"
   },
   {
    "duration": 38,
    "start_time": "2024-11-03T23:03:27.653Z"
   },
   {
    "duration": 191,
    "start_time": "2024-11-03T23:03:27.693Z"
   },
   {
    "duration": 8,
    "start_time": "2024-11-03T23:03:27.886Z"
   },
   {
    "duration": 284,
    "start_time": "2024-11-03T23:03:27.896Z"
   },
   {
    "duration": 4,
    "start_time": "2024-11-03T23:03:28.181Z"
   },
   {
    "duration": 4,
    "start_time": "2024-11-03T23:03:28.187Z"
   },
   {
    "duration": 156,
    "start_time": "2024-11-03T23:03:28.192Z"
   },
   {
    "duration": 13,
    "start_time": "2024-11-03T23:03:28.349Z"
   },
   {
    "duration": 13,
    "start_time": "2024-11-03T23:03:28.364Z"
   },
   {
    "duration": 176,
    "start_time": "2024-11-03T23:03:28.379Z"
   },
   {
    "duration": 4,
    "start_time": "2024-11-03T23:03:28.557Z"
   },
   {
    "duration": 3,
    "start_time": "2024-11-03T23:03:28.563Z"
   },
   {
    "duration": 3,
    "start_time": "2024-11-03T23:03:28.568Z"
   },
   {
    "duration": 10,
    "start_time": "2024-11-03T23:03:28.572Z"
   },
   {
    "duration": 10,
    "start_time": "2024-11-03T23:03:28.583Z"
   },
   {
    "duration": 3,
    "start_time": "2024-11-03T23:03:28.624Z"
   },
   {
    "duration": 6,
    "start_time": "2024-11-03T23:03:28.629Z"
   },
   {
    "duration": 3,
    "start_time": "2024-11-03T23:03:28.636Z"
   },
   {
    "duration": 177,
    "start_time": "2024-11-03T23:03:28.641Z"
   },
   {
    "duration": 18,
    "start_time": "2024-11-03T23:03:28.820Z"
   },
   {
    "duration": 9,
    "start_time": "2024-11-03T23:03:28.839Z"
   },
   {
    "duration": 166,
    "start_time": "2024-11-03T23:03:28.850Z"
   },
   {
    "duration": 4,
    "start_time": "2024-11-03T23:03:29.021Z"
   },
   {
    "duration": 6,
    "start_time": "2024-11-03T23:03:29.027Z"
   },
   {
    "duration": 3,
    "start_time": "2024-11-03T23:03:29.035Z"
   },
   {
    "duration": 3,
    "start_time": "2024-11-03T23:03:29.041Z"
   },
   {
    "duration": 199,
    "start_time": "2024-11-03T23:03:29.046Z"
   },
   {
    "duration": 5,
    "start_time": "2024-11-03T23:03:29.247Z"
   },
   {
    "duration": 3,
    "start_time": "2024-11-03T23:03:29.253Z"
   },
   {
    "duration": 167,
    "start_time": "2024-11-03T23:03:29.258Z"
   },
   {
    "duration": 37,
    "start_time": "2024-11-03T23:03:29.427Z"
   },
   {
    "duration": 5,
    "start_time": "2024-11-03T23:03:29.466Z"
   },
   {
    "duration": 170,
    "start_time": "2024-11-03T23:03:29.473Z"
   },
   {
    "duration": 3,
    "start_time": "2024-11-03T23:03:29.645Z"
   },
   {
    "duration": 9,
    "start_time": "2024-11-03T23:03:29.650Z"
   },
   {
    "duration": 4,
    "start_time": "2024-11-03T23:03:29.660Z"
   },
   {
    "duration": 587,
    "start_time": "2024-11-03T23:03:29.666Z"
   },
   {
    "duration": 0,
    "start_time": "2024-11-03T23:03:30.255Z"
   },
   {
    "duration": 0,
    "start_time": "2024-11-03T23:03:30.259Z"
   },
   {
    "duration": 0,
    "start_time": "2024-11-03T23:03:30.260Z"
   },
   {
    "duration": 0,
    "start_time": "2024-11-03T23:03:30.261Z"
   },
   {
    "duration": 0,
    "start_time": "2024-11-03T23:03:30.262Z"
   },
   {
    "duration": 0,
    "start_time": "2024-11-03T23:03:30.262Z"
   },
   {
    "duration": 0,
    "start_time": "2024-11-03T23:03:30.264Z"
   },
   {
    "duration": 0,
    "start_time": "2024-11-03T23:03:30.265Z"
   },
   {
    "duration": 0,
    "start_time": "2024-11-03T23:03:30.265Z"
   },
   {
    "duration": 11,
    "start_time": "2024-11-03T23:03:56.189Z"
   },
   {
    "duration": 9,
    "start_time": "2024-11-03T23:04:46.129Z"
   },
   {
    "duration": 10,
    "start_time": "2024-11-03T23:05:56.960Z"
   },
   {
    "duration": 5,
    "start_time": "2024-11-03T23:06:18.279Z"
   },
   {
    "duration": 4,
    "start_time": "2024-11-03T23:06:26.379Z"
   },
   {
    "duration": 36,
    "start_time": "2024-11-03T23:07:14.757Z"
   },
   {
    "duration": 157,
    "start_time": "2024-11-03T23:07:31.870Z"
   },
   {
    "duration": 4,
    "start_time": "2024-11-03T23:07:35.232Z"
   },
   {
    "duration": 228,
    "start_time": "2024-11-03T23:07:38.663Z"
   },
   {
    "duration": 3,
    "start_time": "2024-11-03T23:08:01.622Z"
   },
   {
    "duration": 5,
    "start_time": "2024-11-03T23:08:11.559Z"
   },
   {
    "duration": 3,
    "start_time": "2024-11-03T23:08:15.448Z"
   },
   {
    "duration": 3,
    "start_time": "2024-11-03T23:08:16.225Z"
   },
   {
    "duration": 177,
    "start_time": "2024-11-03T23:08:18.614Z"
   },
   {
    "duration": 4,
    "start_time": "2024-11-03T23:09:04.226Z"
   },
   {
    "duration": 10,
    "start_time": "2024-11-03T23:09:31.433Z"
   },
   {
    "duration": 8,
    "start_time": "2024-11-03T23:09:31.897Z"
   },
   {
    "duration": 9,
    "start_time": "2024-11-03T23:09:32.409Z"
   },
   {
    "duration": 4,
    "start_time": "2024-11-03T23:09:34.818Z"
   },
   {
    "duration": 3,
    "start_time": "2024-11-03T23:09:35.741Z"
   },
   {
    "duration": 5,
    "start_time": "2024-11-03T23:09:36.331Z"
   },
   {
    "duration": 126,
    "start_time": "2024-11-03T23:09:37.378Z"
   },
   {
    "duration": 11,
    "start_time": "2024-11-03T23:10:27.432Z"
   },
   {
    "duration": 22,
    "start_time": "2024-11-03T23:17:39.710Z"
   },
   {
    "duration": 39,
    "start_time": "2024-11-03T23:20:49.946Z"
   },
   {
    "duration": 5,
    "start_time": "2024-11-03T23:21:28.795Z"
   },
   {
    "duration": 38,
    "start_time": "2024-11-03T23:21:33.221Z"
   },
   {
    "duration": 15,
    "start_time": "2024-11-03T23:27:44.112Z"
   },
   {
    "duration": 47,
    "start_time": "2024-11-03T23:27:48.865Z"
   },
   {
    "duration": 5,
    "start_time": "2024-11-03T23:34:01.732Z"
   },
   {
    "duration": 5,
    "start_time": "2024-11-03T23:35:09.854Z"
   },
   {
    "duration": 47,
    "start_time": "2024-11-03T23:36:34.140Z"
   },
   {
    "duration": 47,
    "start_time": "2024-11-03T23:36:52.854Z"
   },
   {
    "duration": 5,
    "start_time": "2024-11-03T23:41:28.898Z"
   },
   {
    "duration": 420,
    "start_time": "2024-11-03T23:42:31.365Z"
   },
   {
    "duration": 5,
    "start_time": "2024-11-03T23:42:46.284Z"
   },
   {
    "duration": 51,
    "start_time": "2024-11-03T23:43:07.593Z"
   },
   {
    "duration": 4,
    "start_time": "2024-11-03T23:45:27.163Z"
   },
   {
    "duration": 5,
    "start_time": "2024-11-03T23:45:32.797Z"
   },
   {
    "duration": 4,
    "start_time": "2024-11-03T23:51:25.175Z"
   },
   {
    "duration": 6,
    "start_time": "2024-11-03T23:52:55.300Z"
   },
   {
    "duration": 3,
    "start_time": "2024-11-03T23:54:08.643Z"
   },
   {
    "duration": 3,
    "start_time": "2024-11-03T23:54:22.250Z"
   },
   {
    "duration": 6,
    "start_time": "2024-11-03T23:54:25.330Z"
   },
   {
    "duration": 5,
    "start_time": "2024-11-03T23:57:22.768Z"
   },
   {
    "duration": 7,
    "start_time": "2024-11-03T23:57:39.118Z"
   },
   {
    "duration": 4,
    "start_time": "2024-11-04T00:00:49.324Z"
   },
   {
    "duration": 6,
    "start_time": "2024-11-04T00:01:23.074Z"
   },
   {
    "duration": 7,
    "start_time": "2024-11-04T00:01:40.401Z"
   },
   {
    "duration": 27,
    "start_time": "2024-11-04T00:09:12.732Z"
   },
   {
    "duration": 42,
    "start_time": "2024-11-04T00:09:21.889Z"
   },
   {
    "duration": 26,
    "start_time": "2024-11-04T00:10:08.192Z"
   },
   {
    "duration": 8,
    "start_time": "2024-11-04T00:11:21.092Z"
   },
   {
    "duration": 10,
    "start_time": "2024-11-04T00:11:31.460Z"
   },
   {
    "duration": 7,
    "start_time": "2024-11-04T00:12:16.163Z"
   },
   {
    "duration": 10,
    "start_time": "2024-11-04T00:12:23.090Z"
   },
   {
    "duration": 8,
    "start_time": "2024-11-04T00:12:34.203Z"
   },
   {
    "duration": 10,
    "start_time": "2024-11-04T00:12:34.758Z"
   },
   {
    "duration": 414,
    "start_time": "2024-11-04T00:14:26.433Z"
   },
   {
    "duration": 5,
    "start_time": "2024-11-04T00:14:38.205Z"
   },
   {
    "duration": 123,
    "start_time": "2024-11-04T00:14:56.733Z"
   },
   {
    "duration": 9,
    "start_time": "2024-11-04T00:15:03.623Z"
   },
   {
    "duration": 10,
    "start_time": "2024-11-04T00:15:28.849Z"
   },
   {
    "duration": 9,
    "start_time": "2024-11-04T00:16:11.524Z"
   },
   {
    "duration": 2616,
    "start_time": "2024-11-04T02:52:15.138Z"
   },
   {
    "duration": 145,
    "start_time": "2024-11-04T02:52:17.756Z"
   },
   {
    "duration": 56,
    "start_time": "2024-11-04T02:52:17.903Z"
   },
   {
    "duration": 3,
    "start_time": "2024-11-04T02:52:17.961Z"
   },
   {
    "duration": 12,
    "start_time": "2024-11-04T02:52:17.967Z"
   },
   {
    "duration": 65,
    "start_time": "2024-11-04T02:52:17.981Z"
   },
   {
    "duration": 45,
    "start_time": "2024-11-04T02:52:18.048Z"
   },
   {
    "duration": 11,
    "start_time": "2024-11-04T02:52:18.108Z"
   },
   {
    "duration": 9,
    "start_time": "2024-11-04T02:52:18.120Z"
   },
   {
    "duration": 8,
    "start_time": "2024-11-04T02:52:18.131Z"
   },
   {
    "duration": 11,
    "start_time": "2024-11-04T02:52:18.141Z"
   },
   {
    "duration": 4,
    "start_time": "2024-11-04T02:52:18.155Z"
   },
   {
    "duration": 101,
    "start_time": "2024-11-04T02:52:18.161Z"
   },
   {
    "duration": 10,
    "start_time": "2024-11-04T02:52:18.266Z"
   },
   {
    "duration": 9,
    "start_time": "2024-11-04T02:52:18.278Z"
   },
   {
    "duration": 35,
    "start_time": "2024-11-04T02:52:18.289Z"
   },
   {
    "duration": 166,
    "start_time": "2024-11-04T02:52:18.326Z"
   },
   {
    "duration": 15,
    "start_time": "2024-11-04T02:52:18.494Z"
   },
   {
    "duration": 36,
    "start_time": "2024-11-04T02:52:18.511Z"
   },
   {
    "duration": 163,
    "start_time": "2024-11-04T02:52:18.549Z"
   },
   {
    "duration": 4,
    "start_time": "2024-11-04T02:52:18.714Z"
   },
   {
    "duration": 170,
    "start_time": "2024-11-04T02:52:18.720Z"
   },
   {
    "duration": 4,
    "start_time": "2024-11-04T02:52:18.892Z"
   },
   {
    "duration": 14,
    "start_time": "2024-11-04T02:52:18.897Z"
   },
   {
    "duration": 150,
    "start_time": "2024-11-04T02:52:18.913Z"
   },
   {
    "duration": 14,
    "start_time": "2024-11-04T02:52:19.065Z"
   },
   {
    "duration": 28,
    "start_time": "2024-11-04T02:52:19.081Z"
   },
   {
    "duration": 164,
    "start_time": "2024-11-04T02:52:19.111Z"
   },
   {
    "duration": 5,
    "start_time": "2024-11-04T02:52:19.276Z"
   },
   {
    "duration": 4,
    "start_time": "2024-11-04T02:52:19.282Z"
   },
   {
    "duration": 24,
    "start_time": "2024-11-04T02:52:19.287Z"
   },
   {
    "duration": 10,
    "start_time": "2024-11-04T02:52:19.312Z"
   },
   {
    "duration": 9,
    "start_time": "2024-11-04T02:52:19.324Z"
   },
   {
    "duration": 4,
    "start_time": "2024-11-04T02:52:19.336Z"
   },
   {
    "duration": 6,
    "start_time": "2024-11-04T02:52:19.341Z"
   },
   {
    "duration": 3,
    "start_time": "2024-11-04T02:52:19.349Z"
   },
   {
    "duration": 244,
    "start_time": "2024-11-04T02:52:19.354Z"
   },
   {
    "duration": 25,
    "start_time": "2024-11-04T02:52:19.600Z"
   },
   {
    "duration": 10,
    "start_time": "2024-11-04T02:52:19.627Z"
   },
   {
    "duration": 170,
    "start_time": "2024-11-04T02:52:19.639Z"
   },
   {
    "duration": 4,
    "start_time": "2024-11-04T02:52:19.816Z"
   },
   {
    "duration": 5,
    "start_time": "2024-11-04T02:52:19.822Z"
   },
   {
    "duration": 4,
    "start_time": "2024-11-04T02:52:19.829Z"
   },
   {
    "duration": 3,
    "start_time": "2024-11-04T02:52:19.834Z"
   },
   {
    "duration": 202,
    "start_time": "2024-11-04T02:52:19.839Z"
   },
   {
    "duration": 7,
    "start_time": "2024-11-04T02:52:20.043Z"
   },
   {
    "duration": 4,
    "start_time": "2024-11-04T02:52:20.051Z"
   },
   {
    "duration": 170,
    "start_time": "2024-11-04T02:52:20.057Z"
   },
   {
    "duration": 39,
    "start_time": "2024-11-04T02:52:20.229Z"
   },
   {
    "duration": 6,
    "start_time": "2024-11-04T02:52:20.270Z"
   },
   {
    "duration": 183,
    "start_time": "2024-11-04T02:52:20.278Z"
   },
   {
    "duration": 3,
    "start_time": "2024-11-04T02:52:20.463Z"
   },
   {
    "duration": 6,
    "start_time": "2024-11-04T02:52:20.467Z"
   },
   {
    "duration": 4,
    "start_time": "2024-11-04T02:52:20.474Z"
   },
   {
    "duration": 3,
    "start_time": "2024-11-04T02:52:20.479Z"
   },
   {
    "duration": 215,
    "start_time": "2024-11-04T02:52:20.484Z"
   },
   {
    "duration": 14,
    "start_time": "2024-11-04T02:52:20.701Z"
   },
   {
    "duration": 8,
    "start_time": "2024-11-04T02:52:20.717Z"
   },
   {
    "duration": 9,
    "start_time": "2024-11-04T02:52:20.726Z"
   },
   {
    "duration": 4,
    "start_time": "2024-11-04T02:52:20.736Z"
   },
   {
    "duration": 3,
    "start_time": "2024-11-04T02:52:20.742Z"
   },
   {
    "duration": 6,
    "start_time": "2024-11-04T02:52:20.747Z"
   },
   {
    "duration": 167,
    "start_time": "2024-11-04T02:52:20.754Z"
   },
   {
    "duration": 20,
    "start_time": "2024-11-04T02:52:20.923Z"
   },
   {
    "duration": 39,
    "start_time": "2024-11-04T02:52:20.945Z"
   },
   {
    "duration": 28,
    "start_time": "2024-11-04T02:52:20.986Z"
   },
   {
    "duration": 6,
    "start_time": "2024-11-04T02:52:21.016Z"
   },
   {
    "duration": 28,
    "start_time": "2024-11-04T02:52:21.023Z"
   },
   {
    "duration": 6,
    "start_time": "2024-11-04T02:52:21.053Z"
   },
   {
    "duration": 6,
    "start_time": "2024-11-04T02:52:21.061Z"
   },
   {
    "duration": 9,
    "start_time": "2024-11-04T02:52:21.069Z"
   },
   {
    "duration": 28,
    "start_time": "2024-11-04T03:00:28.087Z"
   },
   {
    "duration": 4,
    "start_time": "2024-11-04T03:00:42.318Z"
   },
   {
    "duration": 813,
    "start_time": "2024-11-04T03:02:01.151Z"
   },
   {
    "duration": 106,
    "start_time": "2024-11-04T03:02:01.967Z"
   },
   {
    "duration": 50,
    "start_time": "2024-11-04T03:02:02.074Z"
   },
   {
    "duration": 2,
    "start_time": "2024-11-04T03:02:02.126Z"
   },
   {
    "duration": 13,
    "start_time": "2024-11-04T03:02:02.130Z"
   },
   {
    "duration": 44,
    "start_time": "2024-11-04T03:02:02.144Z"
   },
   {
    "duration": 45,
    "start_time": "2024-11-04T03:02:02.209Z"
   },
   {
    "duration": 11,
    "start_time": "2024-11-04T03:02:02.256Z"
   },
   {
    "duration": 9,
    "start_time": "2024-11-04T03:02:02.269Z"
   },
   {
    "duration": 34,
    "start_time": "2024-11-04T03:02:02.279Z"
   },
   {
    "duration": 12,
    "start_time": "2024-11-04T03:02:02.315Z"
   },
   {
    "duration": 5,
    "start_time": "2024-11-04T03:02:02.328Z"
   },
   {
    "duration": 86,
    "start_time": "2024-11-04T03:02:02.334Z"
   },
   {
    "duration": 11,
    "start_time": "2024-11-04T03:02:02.424Z"
   },
   {
    "duration": 9,
    "start_time": "2024-11-04T03:02:02.436Z"
   },
   {
    "duration": 17,
    "start_time": "2024-11-04T03:02:02.447Z"
   },
   {
    "duration": 177,
    "start_time": "2024-11-04T03:02:02.465Z"
   },
   {
    "duration": 6,
    "start_time": "2024-11-04T03:02:02.643Z"
   },
   {
    "duration": 36,
    "start_time": "2024-11-04T03:02:02.650Z"
   },
   {
    "duration": 175,
    "start_time": "2024-11-04T03:02:02.688Z"
   },
   {
    "duration": 4,
    "start_time": "2024-11-04T03:02:02.865Z"
   },
   {
    "duration": 241,
    "start_time": "2024-11-04T03:02:02.870Z"
   },
   {
    "duration": 4,
    "start_time": "2024-11-04T03:02:03.113Z"
   },
   {
    "duration": 4,
    "start_time": "2024-11-04T03:02:03.119Z"
   },
   {
    "duration": 143,
    "start_time": "2024-11-04T03:02:03.124Z"
   },
   {
    "duration": 15,
    "start_time": "2024-11-04T03:02:03.268Z"
   },
   {
    "duration": 27,
    "start_time": "2024-11-04T03:02:03.285Z"
   },
   {
    "duration": 170,
    "start_time": "2024-11-04T03:02:03.314Z"
   },
   {
    "duration": 4,
    "start_time": "2024-11-04T03:02:03.486Z"
   },
   {
    "duration": 3,
    "start_time": "2024-11-04T03:02:03.492Z"
   },
   {
    "duration": 3,
    "start_time": "2024-11-04T03:02:03.510Z"
   },
   {
    "duration": 12,
    "start_time": "2024-11-04T03:02:03.515Z"
   },
   {
    "duration": 10,
    "start_time": "2024-11-04T03:02:03.528Z"
   },
   {
    "duration": 3,
    "start_time": "2024-11-04T03:02:03.540Z"
   },
   {
    "duration": 6,
    "start_time": "2024-11-04T03:02:03.545Z"
   },
   {
    "duration": 2,
    "start_time": "2024-11-04T03:02:03.553Z"
   },
   {
    "duration": 186,
    "start_time": "2024-11-04T03:02:03.557Z"
   },
   {
    "duration": 18,
    "start_time": "2024-11-04T03:02:03.745Z"
   },
   {
    "duration": 10,
    "start_time": "2024-11-04T03:02:03.765Z"
   },
   {
    "duration": 171,
    "start_time": "2024-11-04T03:02:03.776Z"
   },
   {
    "duration": 4,
    "start_time": "2024-11-04T03:02:03.951Z"
   },
   {
    "duration": 5,
    "start_time": "2024-11-04T03:02:03.958Z"
   },
   {
    "duration": 3,
    "start_time": "2024-11-04T03:02:03.964Z"
   },
   {
    "duration": 3,
    "start_time": "2024-11-04T03:02:03.969Z"
   },
   {
    "duration": 203,
    "start_time": "2024-11-04T03:02:03.974Z"
   },
   {
    "duration": 6,
    "start_time": "2024-11-04T03:02:04.179Z"
   },
   {
    "duration": 3,
    "start_time": "2024-11-04T03:02:04.187Z"
   },
   {
    "duration": 170,
    "start_time": "2024-11-04T03:02:04.191Z"
   },
   {
    "duration": 47,
    "start_time": "2024-11-04T03:02:04.362Z"
   },
   {
    "duration": 6,
    "start_time": "2024-11-04T03:02:04.411Z"
   },
   {
    "duration": 166,
    "start_time": "2024-11-04T03:02:04.418Z"
   },
   {
    "duration": 3,
    "start_time": "2024-11-04T03:02:04.585Z"
   },
   {
    "duration": 5,
    "start_time": "2024-11-04T03:02:04.590Z"
   },
   {
    "duration": 4,
    "start_time": "2024-11-04T03:02:04.609Z"
   },
   {
    "duration": 3,
    "start_time": "2024-11-04T03:02:04.614Z"
   },
   {
    "duration": 192,
    "start_time": "2024-11-04T03:02:04.618Z"
   },
   {
    "duration": 10,
    "start_time": "2024-11-04T03:02:04.813Z"
   },
   {
    "duration": 8,
    "start_time": "2024-11-04T03:02:04.825Z"
   },
   {
    "duration": 9,
    "start_time": "2024-11-04T03:02:04.835Z"
   },
   {
    "duration": 17,
    "start_time": "2024-11-04T03:02:04.846Z"
   },
   {
    "duration": 2,
    "start_time": "2024-11-04T03:02:04.865Z"
   },
   {
    "duration": 337,
    "start_time": "2024-11-04T03:02:04.869Z"
   },
   {
    "duration": 0,
    "start_time": "2024-11-04T03:02:05.208Z"
   },
   {
    "duration": 4,
    "start_time": "2024-11-04T03:02:45.876Z"
   },
   {
    "duration": 16,
    "start_time": "2024-11-04T03:03:23.097Z"
   },
   {
    "duration": 15,
    "start_time": "2024-11-04T03:03:23.853Z"
   },
   {
    "duration": 17,
    "start_time": "2024-11-04T03:03:33.625Z"
   },
   {
    "duration": 2,
    "start_time": "2024-11-04T03:03:34.087Z"
   },
   {
    "duration": 6,
    "start_time": "2024-11-04T03:03:35.390Z"
   },
   {
    "duration": 4,
    "start_time": "2024-11-04T03:03:37.814Z"
   },
   {
    "duration": 6,
    "start_time": "2024-11-04T03:03:47.015Z"
   },
   {
    "duration": 128,
    "start_time": "2024-11-04T03:04:00.408Z"
   },
   {
    "duration": 15,
    "start_time": "2024-11-04T03:06:08.865Z"
   },
   {
    "duration": 39,
    "start_time": "2024-11-04T03:06:13.755Z"
   },
   {
    "duration": 6,
    "start_time": "2024-11-04T03:06:15.246Z"
   },
   {
    "duration": 28,
    "start_time": "2024-11-04T03:06:32.138Z"
   },
   {
    "duration": 8,
    "start_time": "2024-11-04T03:06:32.512Z"
   },
   {
    "duration": 7,
    "start_time": "2024-11-04T03:06:32.976Z"
   },
   {
    "duration": 9,
    "start_time": "2024-11-04T03:06:33.841Z"
   },
   {
    "duration": 15,
    "start_time": "2024-11-04T03:07:35.147Z"
   },
   {
    "duration": 36,
    "start_time": "2024-11-04T03:07:43.970Z"
   },
   {
    "duration": 11,
    "start_time": "2024-11-04T03:07:48.989Z"
   },
   {
    "duration": 37,
    "start_time": "2024-11-04T03:08:05.261Z"
   },
   {
    "duration": 10,
    "start_time": "2024-11-04T03:08:06.841Z"
   },
   {
    "duration": 8,
    "start_time": "2024-11-04T03:08:36.476Z"
   },
   {
    "duration": 4,
    "start_time": "2024-11-04T03:10:03.752Z"
   },
   {
    "duration": 3,
    "start_time": "2024-11-04T03:10:33.284Z"
   },
   {
    "duration": 8,
    "start_time": "2024-11-04T03:10:34.055Z"
   },
   {
    "duration": 8,
    "start_time": "2024-11-04T03:10:53.481Z"
   },
   {
    "duration": 813,
    "start_time": "2024-11-04T03:11:40.154Z"
   },
   {
    "duration": 105,
    "start_time": "2024-11-04T03:11:40.970Z"
   },
   {
    "duration": 57,
    "start_time": "2024-11-04T03:11:41.077Z"
   },
   {
    "duration": 3,
    "start_time": "2024-11-04T03:11:41.136Z"
   },
   {
    "duration": 12,
    "start_time": "2024-11-04T03:11:41.142Z"
   },
   {
    "duration": 62,
    "start_time": "2024-11-04T03:11:41.157Z"
   },
   {
    "duration": 45,
    "start_time": "2024-11-04T03:11:41.221Z"
   },
   {
    "duration": 11,
    "start_time": "2024-11-04T03:11:41.267Z"
   },
   {
    "duration": 30,
    "start_time": "2024-11-04T03:11:41.279Z"
   },
   {
    "duration": 9,
    "start_time": "2024-11-04T03:11:41.311Z"
   },
   {
    "duration": 13,
    "start_time": "2024-11-04T03:11:41.321Z"
   },
   {
    "duration": 5,
    "start_time": "2024-11-04T03:11:41.335Z"
   },
   {
    "duration": 92,
    "start_time": "2024-11-04T03:11:41.342Z"
   },
   {
    "duration": 10,
    "start_time": "2024-11-04T03:11:41.439Z"
   },
   {
    "duration": 9,
    "start_time": "2024-11-04T03:11:41.451Z"
   },
   {
    "duration": 18,
    "start_time": "2024-11-04T03:11:41.462Z"
   },
   {
    "duration": 186,
    "start_time": "2024-11-04T03:11:41.482Z"
   },
   {
    "duration": 6,
    "start_time": "2024-11-04T03:11:41.670Z"
   },
   {
    "duration": 53,
    "start_time": "2024-11-04T03:11:41.678Z"
   },
   {
    "duration": 160,
    "start_time": "2024-11-04T03:11:41.733Z"
   },
   {
    "duration": 4,
    "start_time": "2024-11-04T03:11:41.895Z"
   },
   {
    "duration": 210,
    "start_time": "2024-11-04T03:11:41.908Z"
   },
   {
    "duration": 5,
    "start_time": "2024-11-04T03:11:42.119Z"
   },
   {
    "duration": 4,
    "start_time": "2024-11-04T03:11:42.126Z"
   },
   {
    "duration": 159,
    "start_time": "2024-11-04T03:11:42.133Z"
   },
   {
    "duration": 22,
    "start_time": "2024-11-04T03:11:42.295Z"
   },
   {
    "duration": 14,
    "start_time": "2024-11-04T03:11:42.319Z"
   },
   {
    "duration": 178,
    "start_time": "2024-11-04T03:11:42.335Z"
   },
   {
    "duration": 5,
    "start_time": "2024-11-04T03:11:42.515Z"
   },
   {
    "duration": 3,
    "start_time": "2024-11-04T03:11:42.522Z"
   },
   {
    "duration": 3,
    "start_time": "2024-11-04T03:11:42.527Z"
   },
   {
    "duration": 10,
    "start_time": "2024-11-04T03:11:42.531Z"
   },
   {
    "duration": 10,
    "start_time": "2024-11-04T03:11:42.543Z"
   },
   {
    "duration": 3,
    "start_time": "2024-11-04T03:11:42.554Z"
   },
   {
    "duration": 6,
    "start_time": "2024-11-04T03:11:42.559Z"
   },
   {
    "duration": 42,
    "start_time": "2024-11-04T03:11:42.567Z"
   },
   {
    "duration": 160,
    "start_time": "2024-11-04T03:11:42.610Z"
   },
   {
    "duration": 19,
    "start_time": "2024-11-04T03:11:42.774Z"
   },
   {
    "duration": 18,
    "start_time": "2024-11-04T03:11:42.794Z"
   },
   {
    "duration": 156,
    "start_time": "2024-11-04T03:11:42.814Z"
   },
   {
    "duration": 2,
    "start_time": "2024-11-04T03:11:42.977Z"
   },
   {
    "duration": 6,
    "start_time": "2024-11-04T03:11:42.981Z"
   },
   {
    "duration": 22,
    "start_time": "2024-11-04T03:11:42.989Z"
   },
   {
    "duration": 3,
    "start_time": "2024-11-04T03:11:43.012Z"
   },
   {
    "duration": 186,
    "start_time": "2024-11-04T03:11:43.017Z"
   },
   {
    "duration": 8,
    "start_time": "2024-11-04T03:11:43.205Z"
   },
   {
    "duration": 3,
    "start_time": "2024-11-04T03:11:43.215Z"
   },
   {
    "duration": 180,
    "start_time": "2024-11-04T03:11:43.220Z"
   },
   {
    "duration": 43,
    "start_time": "2024-11-04T03:11:43.402Z"
   },
   {
    "duration": 5,
    "start_time": "2024-11-04T03:11:43.447Z"
   },
   {
    "duration": 169,
    "start_time": "2024-11-04T03:11:43.454Z"
   },
   {
    "duration": 3,
    "start_time": "2024-11-04T03:11:43.625Z"
   },
   {
    "duration": 6,
    "start_time": "2024-11-04T03:11:43.630Z"
   },
   {
    "duration": 4,
    "start_time": "2024-11-04T03:11:43.637Z"
   },
   {
    "duration": 3,
    "start_time": "2024-11-04T03:11:43.642Z"
   },
   {
    "duration": 206,
    "start_time": "2024-11-04T03:11:43.647Z"
   },
   {
    "duration": 9,
    "start_time": "2024-11-04T03:11:43.855Z"
   },
   {
    "duration": 8,
    "start_time": "2024-11-04T03:11:43.866Z"
   },
   {
    "duration": 7,
    "start_time": "2024-11-04T03:11:43.876Z"
   },
   {
    "duration": 36,
    "start_time": "2024-11-04T03:11:43.885Z"
   },
   {
    "duration": 2,
    "start_time": "2024-11-04T03:11:43.923Z"
   },
   {
    "duration": 3,
    "start_time": "2024-11-04T03:11:43.927Z"
   },
   {
    "duration": 7,
    "start_time": "2024-11-04T03:11:43.932Z"
   },
   {
    "duration": 156,
    "start_time": "2024-11-04T03:11:43.940Z"
   },
   {
    "duration": 47,
    "start_time": "2024-11-04T03:11:44.098Z"
   },
   {
    "duration": 5,
    "start_time": "2024-11-04T03:11:44.147Z"
   },
   {
    "duration": 29,
    "start_time": "2024-11-04T03:11:44.154Z"
   },
   {
    "duration": 24,
    "start_time": "2024-11-04T03:11:44.185Z"
   },
   {
    "duration": 6,
    "start_time": "2024-11-04T03:11:44.210Z"
   },
   {
    "duration": 9,
    "start_time": "2024-11-04T03:11:44.217Z"
   },
   {
    "duration": 42,
    "start_time": "2024-11-04T03:11:44.228Z"
   },
   {
    "duration": 3,
    "start_time": "2024-11-04T03:11:44.272Z"
   },
   {
    "duration": 33,
    "start_time": "2024-11-04T03:11:44.277Z"
   },
   {
    "duration": 5,
    "start_time": "2024-11-04T03:16:11.679Z"
   },
   {
    "duration": 740,
    "start_time": "2024-11-04T03:16:15.862Z"
   },
   {
    "duration": 14,
    "start_time": "2024-11-04T03:16:35.633Z"
   },
   {
    "duration": 4,
    "start_time": "2024-11-04T03:16:43.140Z"
   },
   {
    "duration": 5,
    "start_time": "2024-11-04T03:16:46.209Z"
   },
   {
    "duration": 4,
    "start_time": "2024-11-04T03:17:21.731Z"
   },
   {
    "duration": 15,
    "start_time": "2024-11-04T03:21:53.335Z"
   },
   {
    "duration": 15,
    "start_time": "2024-11-04T03:22:02.070Z"
   },
   {
    "duration": 4,
    "start_time": "2024-11-04T03:22:06.849Z"
   },
   {
    "duration": 14,
    "start_time": "2024-11-04T03:26:50.074Z"
   },
   {
    "duration": 6,
    "start_time": "2024-11-04T03:26:54.735Z"
   },
   {
    "duration": 4,
    "start_time": "2024-11-04T03:26:55.812Z"
   },
   {
    "duration": 5,
    "start_time": "2024-11-04T03:29:21.095Z"
   },
   {
    "duration": 4,
    "start_time": "2024-11-04T03:30:16.740Z"
   },
   {
    "duration": 4,
    "start_time": "2024-11-04T03:30:26.513Z"
   },
   {
    "duration": 3,
    "start_time": "2024-11-04T03:31:15.882Z"
   },
   {
    "duration": 5,
    "start_time": "2024-11-04T03:37:03.285Z"
   },
   {
    "duration": 45,
    "start_time": "2024-11-04T03:38:44.311Z"
   },
   {
    "duration": 47,
    "start_time": "2024-11-04T03:40:23.655Z"
   },
   {
    "duration": 49,
    "start_time": "2024-11-04T03:40:35.337Z"
   },
   {
    "duration": 37,
    "start_time": "2024-11-04T03:40:43.677Z"
   },
   {
    "duration": 341,
    "start_time": "2024-11-04T03:40:56.794Z"
   },
   {
    "duration": 38,
    "start_time": "2024-11-04T03:41:26.680Z"
   },
   {
    "duration": 6,
    "start_time": "2024-11-04T03:41:28.938Z"
   },
   {
    "duration": 4,
    "start_time": "2024-11-04T03:42:02.131Z"
   },
   {
    "duration": 6,
    "start_time": "2024-11-04T03:42:12.603Z"
   },
   {
    "duration": 234,
    "start_time": "2024-11-04T03:42:46.595Z"
   },
   {
    "duration": 3,
    "start_time": "2024-11-04T03:55:44.572Z"
   },
   {
    "duration": 3,
    "start_time": "2024-11-04T03:56:57.340Z"
   },
   {
    "duration": 6,
    "start_time": "2024-11-04T03:57:11.425Z"
   },
   {
    "duration": 4,
    "start_time": "2024-11-04T04:00:18.421Z"
   },
   {
    "duration": 6,
    "start_time": "2024-11-04T04:00:23.744Z"
   },
   {
    "duration": 839,
    "start_time": "2024-11-04T04:02:44.071Z"
   },
   {
    "duration": 105,
    "start_time": "2024-11-04T04:02:44.913Z"
   },
   {
    "duration": 53,
    "start_time": "2024-11-04T04:02:45.020Z"
   },
   {
    "duration": 3,
    "start_time": "2024-11-04T04:02:45.076Z"
   },
   {
    "duration": 35,
    "start_time": "2024-11-04T04:02:45.082Z"
   },
   {
    "duration": 43,
    "start_time": "2024-11-04T04:02:45.118Z"
   },
   {
    "duration": 56,
    "start_time": "2024-11-04T04:02:45.163Z"
   },
   {
    "duration": 12,
    "start_time": "2024-11-04T04:02:45.221Z"
   },
   {
    "duration": 8,
    "start_time": "2024-11-04T04:02:45.235Z"
   },
   {
    "duration": 9,
    "start_time": "2024-11-04T04:02:45.247Z"
   },
   {
    "duration": 12,
    "start_time": "2024-11-04T04:02:45.258Z"
   },
   {
    "duration": 37,
    "start_time": "2024-11-04T04:02:45.272Z"
   },
   {
    "duration": 68,
    "start_time": "2024-11-04T04:02:45.311Z"
   },
   {
    "duration": 10,
    "start_time": "2024-11-04T04:02:45.381Z"
   },
   {
    "duration": 10,
    "start_time": "2024-11-04T04:02:45.409Z"
   },
   {
    "duration": 18,
    "start_time": "2024-11-04T04:02:45.421Z"
   },
   {
    "duration": 174,
    "start_time": "2024-11-04T04:02:45.440Z"
   },
   {
    "duration": 5,
    "start_time": "2024-11-04T04:02:45.617Z"
   },
   {
    "duration": 35,
    "start_time": "2024-11-04T04:02:45.624Z"
   },
   {
    "duration": 173,
    "start_time": "2024-11-04T04:02:45.661Z"
   },
   {
    "duration": 4,
    "start_time": "2024-11-04T04:02:45.836Z"
   },
   {
    "duration": 217,
    "start_time": "2024-11-04T04:02:45.842Z"
   },
   {
    "duration": 4,
    "start_time": "2024-11-04T04:02:46.061Z"
   },
   {
    "duration": 3,
    "start_time": "2024-11-04T04:02:46.067Z"
   },
   {
    "duration": 164,
    "start_time": "2024-11-04T04:02:46.072Z"
   },
   {
    "duration": 13,
    "start_time": "2024-11-04T04:02:46.238Z"
   },
   {
    "duration": 14,
    "start_time": "2024-11-04T04:02:46.252Z"
   },
   {
    "duration": 180,
    "start_time": "2024-11-04T04:02:46.271Z"
   },
   {
    "duration": 4,
    "start_time": "2024-11-04T04:02:46.452Z"
   },
   {
    "duration": 3,
    "start_time": "2024-11-04T04:02:46.458Z"
   },
   {
    "duration": 4,
    "start_time": "2024-11-04T04:02:46.463Z"
   },
   {
    "duration": 9,
    "start_time": "2024-11-04T04:02:46.469Z"
   },
   {
    "duration": 33,
    "start_time": "2024-11-04T04:02:46.480Z"
   },
   {
    "duration": 3,
    "start_time": "2024-11-04T04:02:46.516Z"
   },
   {
    "duration": 5,
    "start_time": "2024-11-04T04:02:46.521Z"
   },
   {
    "duration": 3,
    "start_time": "2024-11-04T04:02:46.528Z"
   },
   {
    "duration": 186,
    "start_time": "2024-11-04T04:02:46.533Z"
   },
   {
    "duration": 17,
    "start_time": "2024-11-04T04:02:46.721Z"
   },
   {
    "duration": 9,
    "start_time": "2024-11-04T04:02:46.739Z"
   },
   {
    "duration": 169,
    "start_time": "2024-11-04T04:02:46.750Z"
   },
   {
    "duration": 3,
    "start_time": "2024-11-04T04:02:46.921Z"
   },
   {
    "duration": 5,
    "start_time": "2024-11-04T04:02:46.926Z"
   },
   {
    "duration": 3,
    "start_time": "2024-11-04T04:02:46.933Z"
   },
   {
    "duration": 4,
    "start_time": "2024-11-04T04:02:46.937Z"
   },
   {
    "duration": 199,
    "start_time": "2024-11-04T04:02:46.942Z"
   },
   {
    "duration": 7,
    "start_time": "2024-11-04T04:02:47.143Z"
   },
   {
    "duration": 3,
    "start_time": "2024-11-04T04:02:47.152Z"
   },
   {
    "duration": 204,
    "start_time": "2024-11-04T04:02:47.157Z"
   },
   {
    "duration": 48,
    "start_time": "2024-11-04T04:02:47.363Z"
   },
   {
    "duration": 6,
    "start_time": "2024-11-04T04:02:47.413Z"
   },
   {
    "duration": 169,
    "start_time": "2024-11-04T04:02:47.421Z"
   },
   {
    "duration": 3,
    "start_time": "2024-11-04T04:02:47.592Z"
   },
   {
    "duration": 13,
    "start_time": "2024-11-04T04:02:47.596Z"
   },
   {
    "duration": 3,
    "start_time": "2024-11-04T04:02:47.611Z"
   },
   {
    "duration": 9,
    "start_time": "2024-11-04T04:02:47.616Z"
   },
   {
    "duration": 236,
    "start_time": "2024-11-04T04:02:47.626Z"
   },
   {
    "duration": 12,
    "start_time": "2024-11-04T04:02:47.864Z"
   },
   {
    "duration": 10,
    "start_time": "2024-11-04T04:02:47.878Z"
   },
   {
    "duration": 26,
    "start_time": "2024-11-04T04:02:47.890Z"
   },
   {
    "duration": 18,
    "start_time": "2024-11-04T04:02:47.918Z"
   },
   {
    "duration": 2,
    "start_time": "2024-11-04T04:02:47.938Z"
   },
   {
    "duration": 9,
    "start_time": "2024-11-04T04:02:47.941Z"
   },
   {
    "duration": 6,
    "start_time": "2024-11-04T04:02:47.952Z"
   },
   {
    "duration": 168,
    "start_time": "2024-11-04T04:02:47.960Z"
   },
   {
    "duration": 37,
    "start_time": "2024-11-04T04:02:48.130Z"
   },
   {
    "duration": 5,
    "start_time": "2024-11-04T04:02:48.169Z"
   },
   {
    "duration": 44,
    "start_time": "2024-11-04T04:02:48.176Z"
   },
   {
    "duration": 8,
    "start_time": "2024-11-04T04:02:48.221Z"
   },
   {
    "duration": 7,
    "start_time": "2024-11-04T04:02:48.230Z"
   },
   {
    "duration": 9,
    "start_time": "2024-11-04T04:02:48.238Z"
   },
   {
    "duration": 67,
    "start_time": "2024-11-04T04:02:48.248Z"
   },
   {
    "duration": 8,
    "start_time": "2024-11-04T04:02:48.317Z"
   },
   {
    "duration": 6,
    "start_time": "2024-11-04T04:02:48.327Z"
   },
   {
    "duration": 4,
    "start_time": "2024-11-04T04:02:48.334Z"
   },
   {
    "duration": 3,
    "start_time": "2024-11-04T04:02:48.340Z"
   },
   {
    "duration": 3,
    "start_time": "2024-11-04T04:02:48.345Z"
   },
   {
    "duration": 3,
    "start_time": "2024-11-04T04:02:48.350Z"
   },
   {
    "duration": 5,
    "start_time": "2024-11-04T04:03:21.693Z"
   },
   {
    "duration": 7,
    "start_time": "2024-11-04T04:03:27.441Z"
   },
   {
    "duration": 4,
    "start_time": "2024-11-04T04:03:47.854Z"
   },
   {
    "duration": 5,
    "start_time": "2024-11-04T04:03:48.492Z"
   },
   {
    "duration": 7,
    "start_time": "2024-11-04T04:03:49.593Z"
   },
   {
    "duration": 4,
    "start_time": "2024-11-04T04:09:46.469Z"
   },
   {
    "duration": 4,
    "start_time": "2024-11-04T04:10:09.546Z"
   },
   {
    "duration": 6,
    "start_time": "2024-11-04T04:10:30.638Z"
   },
   {
    "duration": 4,
    "start_time": "2024-11-04T04:11:08.702Z"
   },
   {
    "duration": 6,
    "start_time": "2024-11-04T04:11:10.011Z"
   },
   {
    "duration": 560,
    "start_time": "2024-11-04T04:11:28.730Z"
   },
   {
    "duration": 4,
    "start_time": "2024-11-04T04:11:43.261Z"
   },
   {
    "duration": 7,
    "start_time": "2024-11-04T04:11:44.329Z"
   },
   {
    "duration": 4,
    "start_time": "2024-11-04T04:11:57.439Z"
   },
   {
    "duration": 7,
    "start_time": "2024-11-04T04:11:57.963Z"
   },
   {
    "duration": 13,
    "start_time": "2024-11-04T04:12:12.918Z"
   },
   {
    "duration": 6,
    "start_time": "2024-11-04T04:12:16.979Z"
   },
   {
    "duration": 823,
    "start_time": "2024-11-04T04:12:41.150Z"
   },
   {
    "duration": 107,
    "start_time": "2024-11-04T04:12:41.976Z"
   },
   {
    "duration": 52,
    "start_time": "2024-11-04T04:12:42.085Z"
   },
   {
    "duration": 4,
    "start_time": "2024-11-04T04:12:42.139Z"
   },
   {
    "duration": 12,
    "start_time": "2024-11-04T04:12:42.145Z"
   },
   {
    "duration": 61,
    "start_time": "2024-11-04T04:12:42.158Z"
   },
   {
    "duration": 48,
    "start_time": "2024-11-04T04:12:42.221Z"
   },
   {
    "duration": 10,
    "start_time": "2024-11-04T04:12:42.271Z"
   },
   {
    "duration": 28,
    "start_time": "2024-11-04T04:12:42.283Z"
   },
   {
    "duration": 9,
    "start_time": "2024-11-04T04:12:42.313Z"
   },
   {
    "duration": 11,
    "start_time": "2024-11-04T04:12:42.324Z"
   },
   {
    "duration": 5,
    "start_time": "2024-11-04T04:12:42.336Z"
   },
   {
    "duration": 90,
    "start_time": "2024-11-04T04:12:42.342Z"
   },
   {
    "duration": 12,
    "start_time": "2024-11-04T04:12:42.435Z"
   },
   {
    "duration": 10,
    "start_time": "2024-11-04T04:12:42.448Z"
   },
   {
    "duration": 18,
    "start_time": "2024-11-04T04:12:42.459Z"
   },
   {
    "duration": 177,
    "start_time": "2024-11-04T04:12:42.478Z"
   },
   {
    "duration": 6,
    "start_time": "2024-11-04T04:12:42.657Z"
   },
   {
    "duration": 51,
    "start_time": "2024-11-04T04:12:42.666Z"
   },
   {
    "duration": 164,
    "start_time": "2024-11-04T04:12:42.719Z"
   },
   {
    "duration": 4,
    "start_time": "2024-11-04T04:12:42.885Z"
   },
   {
    "duration": 211,
    "start_time": "2024-11-04T04:12:42.891Z"
   },
   {
    "duration": 5,
    "start_time": "2024-11-04T04:12:43.108Z"
   },
   {
    "duration": 4,
    "start_time": "2024-11-04T04:12:43.115Z"
   },
   {
    "duration": 144,
    "start_time": "2024-11-04T04:12:43.120Z"
   },
   {
    "duration": 13,
    "start_time": "2024-11-04T04:12:43.266Z"
   },
   {
    "duration": 13,
    "start_time": "2024-11-04T04:12:43.281Z"
   },
   {
    "duration": 162,
    "start_time": "2024-11-04T04:12:43.309Z"
   },
   {
    "duration": 5,
    "start_time": "2024-11-04T04:12:43.474Z"
   },
   {
    "duration": 3,
    "start_time": "2024-11-04T04:12:43.480Z"
   },
   {
    "duration": 3,
    "start_time": "2024-11-04T04:12:43.485Z"
   },
   {
    "duration": 10,
    "start_time": "2024-11-04T04:12:43.509Z"
   },
   {
    "duration": 9,
    "start_time": "2024-11-04T04:12:43.521Z"
   },
   {
    "duration": 4,
    "start_time": "2024-11-04T04:12:43.532Z"
   },
   {
    "duration": 6,
    "start_time": "2024-11-04T04:12:43.537Z"
   },
   {
    "duration": 3,
    "start_time": "2024-11-04T04:12:43.545Z"
   },
   {
    "duration": 191,
    "start_time": "2024-11-04T04:12:43.549Z"
   },
   {
    "duration": 23,
    "start_time": "2024-11-04T04:12:43.742Z"
   },
   {
    "duration": 11,
    "start_time": "2024-11-04T04:12:43.767Z"
   },
   {
    "duration": 169,
    "start_time": "2024-11-04T04:12:43.779Z"
   },
   {
    "duration": 3,
    "start_time": "2024-11-04T04:12:43.953Z"
   },
   {
    "duration": 6,
    "start_time": "2024-11-04T04:12:43.958Z"
   },
   {
    "duration": 3,
    "start_time": "2024-11-04T04:12:43.968Z"
   },
   {
    "duration": 4,
    "start_time": "2024-11-04T04:12:43.972Z"
   },
   {
    "duration": 221,
    "start_time": "2024-11-04T04:12:43.977Z"
   },
   {
    "duration": 11,
    "start_time": "2024-11-04T04:12:44.200Z"
   },
   {
    "duration": 3,
    "start_time": "2024-11-04T04:12:44.213Z"
   },
   {
    "duration": 165,
    "start_time": "2024-11-04T04:12:44.218Z"
   },
   {
    "duration": 46,
    "start_time": "2024-11-04T04:12:44.385Z"
   },
   {
    "duration": 6,
    "start_time": "2024-11-04T04:12:44.433Z"
   },
   {
    "duration": 164,
    "start_time": "2024-11-04T04:12:44.440Z"
   },
   {
    "duration": 3,
    "start_time": "2024-11-04T04:12:44.609Z"
   },
   {
    "duration": 6,
    "start_time": "2024-11-04T04:12:44.613Z"
   },
   {
    "duration": 3,
    "start_time": "2024-11-04T04:12:44.621Z"
   },
   {
    "duration": 3,
    "start_time": "2024-11-04T04:12:44.626Z"
   },
   {
    "duration": 222,
    "start_time": "2024-11-04T04:12:44.631Z"
   },
   {
    "duration": 10,
    "start_time": "2024-11-04T04:12:44.855Z"
   },
   {
    "duration": 8,
    "start_time": "2024-11-04T04:12:44.868Z"
   },
   {
    "duration": 9,
    "start_time": "2024-11-04T04:12:44.878Z"
   },
   {
    "duration": 17,
    "start_time": "2024-11-04T04:12:44.909Z"
   },
   {
    "duration": 3,
    "start_time": "2024-11-04T04:12:44.927Z"
   },
   {
    "duration": 3,
    "start_time": "2024-11-04T04:12:44.931Z"
   },
   {
    "duration": 6,
    "start_time": "2024-11-04T04:12:44.936Z"
   },
   {
    "duration": 153,
    "start_time": "2024-11-04T04:12:44.944Z"
   },
   {
    "duration": 43,
    "start_time": "2024-11-04T04:12:45.100Z"
   },
   {
    "duration": 6,
    "start_time": "2024-11-04T04:12:45.144Z"
   },
   {
    "duration": 27,
    "start_time": "2024-11-04T04:12:45.152Z"
   },
   {
    "duration": 6,
    "start_time": "2024-11-04T04:12:45.181Z"
   },
   {
    "duration": 26,
    "start_time": "2024-11-04T04:12:45.188Z"
   },
   {
    "duration": 9,
    "start_time": "2024-11-04T04:12:45.215Z"
   },
   {
    "duration": 44,
    "start_time": "2024-11-04T04:12:45.226Z"
   },
   {
    "duration": 8,
    "start_time": "2024-11-04T04:12:45.271Z"
   },
   {
    "duration": 30,
    "start_time": "2024-11-04T04:12:45.281Z"
   },
   {
    "duration": 4,
    "start_time": "2024-11-04T04:12:45.313Z"
   },
   {
    "duration": 4,
    "start_time": "2024-11-04T04:12:45.319Z"
   },
   {
    "duration": 3,
    "start_time": "2024-11-04T04:12:45.325Z"
   },
   {
    "duration": 3,
    "start_time": "2024-11-04T04:12:45.330Z"
   },
   {
    "duration": 6,
    "start_time": "2024-11-04T04:12:45.335Z"
   },
   {
    "duration": 4,
    "start_time": "2024-11-04T04:12:45.343Z"
   },
   {
    "duration": 6,
    "start_time": "2024-11-04T04:12:45.348Z"
   },
   {
    "duration": 4,
    "start_time": "2024-11-04T04:14:36.350Z"
   },
   {
    "duration": 3,
    "start_time": "2024-11-04T04:16:32.238Z"
   },
   {
    "duration": 3,
    "start_time": "2024-11-04T04:16:40.699Z"
   },
   {
    "duration": 6,
    "start_time": "2024-11-04T04:16:49.388Z"
   },
   {
    "duration": 3,
    "start_time": "2024-11-04T04:17:06.250Z"
   },
   {
    "duration": 3,
    "start_time": "2024-11-04T04:17:22.910Z"
   },
   {
    "duration": 6,
    "start_time": "2024-11-04T04:17:25.564Z"
   },
   {
    "duration": 4,
    "start_time": "2024-11-04T04:18:21.855Z"
   },
   {
    "duration": 7,
    "start_time": "2024-11-04T04:19:07.406Z"
   },
   {
    "duration": 7,
    "start_time": "2024-11-04T04:19:13.788Z"
   },
   {
    "duration": 4,
    "start_time": "2024-11-04T04:21:11.318Z"
   },
   {
    "duration": 6,
    "start_time": "2024-11-04T04:21:15.862Z"
   },
   {
    "duration": 4,
    "start_time": "2024-11-04T04:25:32.104Z"
   },
   {
    "duration": 7,
    "start_time": "2024-11-04T04:25:32.877Z"
   },
   {
    "duration": 284,
    "start_time": "2024-11-04T04:26:42.533Z"
   },
   {
    "duration": 2,
    "start_time": "2024-11-04T04:27:10.539Z"
   },
   {
    "duration": 5,
    "start_time": "2024-11-04T04:27:16.624Z"
   },
   {
    "duration": 5,
    "start_time": "2024-11-04T04:27:38.973Z"
   },
   {
    "duration": 844,
    "start_time": "2024-11-04T04:27:59.767Z"
   },
   {
    "duration": 123,
    "start_time": "2024-11-04T04:28:00.613Z"
   },
   {
    "duration": 46,
    "start_time": "2024-11-04T04:28:00.738Z"
   },
   {
    "duration": 3,
    "start_time": "2024-11-04T04:28:00.786Z"
   },
   {
    "duration": 29,
    "start_time": "2024-11-04T04:28:00.791Z"
   },
   {
    "duration": 45,
    "start_time": "2024-11-04T04:28:00.822Z"
   },
   {
    "duration": 61,
    "start_time": "2024-11-04T04:28:00.868Z"
   },
   {
    "duration": 10,
    "start_time": "2024-11-04T04:28:00.931Z"
   },
   {
    "duration": 8,
    "start_time": "2024-11-04T04:28:00.943Z"
   },
   {
    "duration": 9,
    "start_time": "2024-11-04T04:28:00.952Z"
   },
   {
    "duration": 14,
    "start_time": "2024-11-04T04:28:00.963Z"
   },
   {
    "duration": 34,
    "start_time": "2024-11-04T04:28:00.978Z"
   },
   {
    "duration": 65,
    "start_time": "2024-11-04T04:28:01.014Z"
   },
   {
    "duration": 27,
    "start_time": "2024-11-04T04:28:01.083Z"
   },
   {
    "duration": 10,
    "start_time": "2024-11-04T04:28:01.111Z"
   },
   {
    "duration": 17,
    "start_time": "2024-11-04T04:28:01.123Z"
   },
   {
    "duration": 177,
    "start_time": "2024-11-04T04:28:01.141Z"
   },
   {
    "duration": 6,
    "start_time": "2024-11-04T04:28:01.320Z"
   },
   {
    "duration": 35,
    "start_time": "2024-11-04T04:28:01.328Z"
   },
   {
    "duration": 173,
    "start_time": "2024-11-04T04:28:01.367Z"
   },
   {
    "duration": 4,
    "start_time": "2024-11-04T04:28:01.542Z"
   },
   {
    "duration": 221,
    "start_time": "2024-11-04T04:28:01.548Z"
   },
   {
    "duration": 4,
    "start_time": "2024-11-04T04:28:01.771Z"
   },
   {
    "duration": 4,
    "start_time": "2024-11-04T04:28:01.777Z"
   },
   {
    "duration": 143,
    "start_time": "2024-11-04T04:28:01.782Z"
   },
   {
    "duration": 13,
    "start_time": "2024-11-04T04:28:01.927Z"
   },
   {
    "duration": 13,
    "start_time": "2024-11-04T04:28:01.942Z"
   },
   {
    "duration": 182,
    "start_time": "2024-11-04T04:28:01.957Z"
   },
   {
    "duration": 5,
    "start_time": "2024-11-04T04:28:02.141Z"
   },
   {
    "duration": 3,
    "start_time": "2024-11-04T04:28:02.148Z"
   },
   {
    "duration": 4,
    "start_time": "2024-11-04T04:28:02.153Z"
   },
   {
    "duration": 12,
    "start_time": "2024-11-04T04:28:02.158Z"
   },
   {
    "duration": 39,
    "start_time": "2024-11-04T04:28:02.171Z"
   },
   {
    "duration": 3,
    "start_time": "2024-11-04T04:28:02.212Z"
   },
   {
    "duration": 6,
    "start_time": "2024-11-04T04:28:02.217Z"
   },
   {
    "duration": 4,
    "start_time": "2024-11-04T04:28:02.225Z"
   },
   {
    "duration": 180,
    "start_time": "2024-11-04T04:28:02.231Z"
   },
   {
    "duration": 18,
    "start_time": "2024-11-04T04:28:02.413Z"
   },
   {
    "duration": 9,
    "start_time": "2024-11-04T04:28:02.432Z"
   },
   {
    "duration": 168,
    "start_time": "2024-11-04T04:28:02.443Z"
   },
   {
    "duration": 3,
    "start_time": "2024-11-04T04:28:02.617Z"
   },
   {
    "duration": 5,
    "start_time": "2024-11-04T04:28:02.621Z"
   },
   {
    "duration": 3,
    "start_time": "2024-11-04T04:28:02.628Z"
   },
   {
    "duration": 3,
    "start_time": "2024-11-04T04:28:02.632Z"
   },
   {
    "duration": 209,
    "start_time": "2024-11-04T04:28:02.637Z"
   },
   {
    "duration": 6,
    "start_time": "2024-11-04T04:28:02.849Z"
   },
   {
    "duration": 4,
    "start_time": "2024-11-04T04:28:02.856Z"
   },
   {
    "duration": 166,
    "start_time": "2024-11-04T04:28:02.862Z"
   },
   {
    "duration": 37,
    "start_time": "2024-11-04T04:28:03.030Z"
   },
   {
    "duration": 5,
    "start_time": "2024-11-04T04:28:03.069Z"
   },
   {
    "duration": 180,
    "start_time": "2024-11-04T04:28:03.076Z"
   },
   {
    "duration": 3,
    "start_time": "2024-11-04T04:28:03.258Z"
   },
   {
    "duration": 6,
    "start_time": "2024-11-04T04:28:03.262Z"
   },
   {
    "duration": 3,
    "start_time": "2024-11-04T04:28:03.269Z"
   },
   {
    "duration": 3,
    "start_time": "2024-11-04T04:28:03.274Z"
   },
   {
    "duration": 206,
    "start_time": "2024-11-04T04:28:03.279Z"
   },
   {
    "duration": 9,
    "start_time": "2024-11-04T04:28:03.486Z"
   },
   {
    "duration": 17,
    "start_time": "2024-11-04T04:28:03.497Z"
   },
   {
    "duration": 9,
    "start_time": "2024-11-04T04:28:03.515Z"
   },
   {
    "duration": 17,
    "start_time": "2024-11-04T04:28:03.525Z"
   },
   {
    "duration": 2,
    "start_time": "2024-11-04T04:28:03.544Z"
   },
   {
    "duration": 4,
    "start_time": "2024-11-04T04:28:03.547Z"
   },
   {
    "duration": 7,
    "start_time": "2024-11-04T04:28:03.552Z"
   },
   {
    "duration": 154,
    "start_time": "2024-11-04T04:28:03.560Z"
   },
   {
    "duration": 37,
    "start_time": "2024-11-04T04:28:03.717Z"
   },
   {
    "duration": 6,
    "start_time": "2024-11-04T04:28:03.756Z"
   },
   {
    "duration": 51,
    "start_time": "2024-11-04T04:28:03.763Z"
   },
   {
    "duration": 8,
    "start_time": "2024-11-04T04:28:03.817Z"
   },
   {
    "duration": 7,
    "start_time": "2024-11-04T04:28:03.827Z"
   },
   {
    "duration": 10,
    "start_time": "2024-11-04T04:28:03.836Z"
   },
   {
    "duration": 68,
    "start_time": "2024-11-04T04:28:03.848Z"
   },
   {
    "duration": 8,
    "start_time": "2024-11-04T04:28:03.918Z"
   },
   {
    "duration": 5,
    "start_time": "2024-11-04T04:28:03.928Z"
   },
   {
    "duration": 5,
    "start_time": "2024-11-04T04:28:03.934Z"
   },
   {
    "duration": 3,
    "start_time": "2024-11-04T04:28:03.940Z"
   },
   {
    "duration": 3,
    "start_time": "2024-11-04T04:28:03.945Z"
   },
   {
    "duration": 5,
    "start_time": "2024-11-04T04:28:03.950Z"
   },
   {
    "duration": 4,
    "start_time": "2024-11-04T04:28:03.957Z"
   },
   {
    "duration": 48,
    "start_time": "2024-11-04T04:28:03.962Z"
   },
   {
    "duration": 4,
    "start_time": "2024-11-04T04:28:04.012Z"
   },
   {
    "duration": 6,
    "start_time": "2024-11-04T04:28:04.018Z"
   },
   {
    "duration": 4,
    "start_time": "2024-11-04T04:28:04.026Z"
   },
   {
    "duration": 8,
    "start_time": "2024-11-04T04:28:58.671Z"
   },
   {
    "duration": 8,
    "start_time": "2024-11-04T04:30:06.573Z"
   },
   {
    "duration": 4,
    "start_time": "2024-11-04T04:30:39.570Z"
   },
   {
    "duration": 7,
    "start_time": "2024-11-04T04:30:49.014Z"
   },
   {
    "duration": 3,
    "start_time": "2024-11-04T04:31:06.850Z"
   },
   {
    "duration": 7,
    "start_time": "2024-11-04T04:31:07.349Z"
   },
   {
    "duration": 294,
    "start_time": "2024-11-04T04:33:01.148Z"
   },
   {
    "duration": 15,
    "start_time": "2024-11-04T04:33:17.866Z"
   },
   {
    "duration": 9,
    "start_time": "2024-11-04T04:33:32.509Z"
   },
   {
    "duration": 15,
    "start_time": "2024-11-04T04:34:55.278Z"
   },
   {
    "duration": 3,
    "start_time": "2024-11-04T04:35:03.208Z"
   },
   {
    "duration": 7,
    "start_time": "2024-11-04T04:35:11.243Z"
   },
   {
    "duration": 3,
    "start_time": "2024-11-04T04:37:12.428Z"
   },
   {
    "duration": 7,
    "start_time": "2024-11-04T04:37:18.712Z"
   },
   {
    "duration": 2605,
    "start_time": "2024-11-04T16:50:18.700Z"
   },
   {
    "duration": 182,
    "start_time": "2024-11-04T16:50:21.307Z"
   },
   {
    "duration": 48,
    "start_time": "2024-11-04T16:50:21.491Z"
   },
   {
    "duration": 8,
    "start_time": "2024-11-04T16:50:21.541Z"
   },
   {
    "duration": 13,
    "start_time": "2024-11-04T16:50:21.552Z"
   },
   {
    "duration": 58,
    "start_time": "2024-11-04T16:50:21.567Z"
   },
   {
    "duration": 67,
    "start_time": "2024-11-04T16:50:21.627Z"
   },
   {
    "duration": 10,
    "start_time": "2024-11-04T16:50:21.696Z"
   },
   {
    "duration": 10,
    "start_time": "2024-11-04T16:50:21.707Z"
   },
   {
    "duration": 10,
    "start_time": "2024-11-04T16:50:21.719Z"
   },
   {
    "duration": 11,
    "start_time": "2024-11-04T16:50:21.731Z"
   },
   {
    "duration": 4,
    "start_time": "2024-11-04T16:50:21.743Z"
   },
   {
    "duration": 96,
    "start_time": "2024-11-04T16:50:21.749Z"
   },
   {
    "duration": 14,
    "start_time": "2024-11-04T16:50:21.850Z"
   },
   {
    "duration": 21,
    "start_time": "2024-11-04T16:50:21.867Z"
   },
   {
    "duration": 26,
    "start_time": "2024-11-04T16:50:21.890Z"
   },
   {
    "duration": 191,
    "start_time": "2024-11-04T16:50:21.917Z"
   },
   {
    "duration": 5,
    "start_time": "2024-11-04T16:50:22.110Z"
   },
   {
    "duration": 39,
    "start_time": "2024-11-04T16:50:22.117Z"
   },
   {
    "duration": 185,
    "start_time": "2024-11-04T16:50:22.157Z"
   },
   {
    "duration": 7,
    "start_time": "2024-11-04T16:50:22.343Z"
   },
   {
    "duration": 168,
    "start_time": "2024-11-04T16:50:22.351Z"
   },
   {
    "duration": 5,
    "start_time": "2024-11-04T16:50:22.521Z"
   },
   {
    "duration": 3,
    "start_time": "2024-11-04T16:50:22.529Z"
   },
   {
    "duration": 145,
    "start_time": "2024-11-04T16:50:22.534Z"
   },
   {
    "duration": 18,
    "start_time": "2024-11-04T16:50:22.680Z"
   },
   {
    "duration": 14,
    "start_time": "2024-11-04T16:50:22.699Z"
   },
   {
    "duration": 177,
    "start_time": "2024-11-04T16:50:22.715Z"
   },
   {
    "duration": 5,
    "start_time": "2024-11-04T16:50:22.893Z"
   },
   {
    "duration": 3,
    "start_time": "2024-11-04T16:50:22.899Z"
   },
   {
    "duration": 3,
    "start_time": "2024-11-04T16:50:22.904Z"
   },
   {
    "duration": 9,
    "start_time": "2024-11-04T16:50:22.909Z"
   },
   {
    "duration": 10,
    "start_time": "2024-11-04T16:50:22.920Z"
   },
   {
    "duration": 4,
    "start_time": "2024-11-04T16:50:22.931Z"
   },
   {
    "duration": 5,
    "start_time": "2024-11-04T16:50:22.937Z"
   },
   {
    "duration": 42,
    "start_time": "2024-11-04T16:50:22.944Z"
   },
   {
    "duration": 184,
    "start_time": "2024-11-04T16:50:22.989Z"
   },
   {
    "duration": 29,
    "start_time": "2024-11-04T16:50:23.177Z"
   },
   {
    "duration": 13,
    "start_time": "2024-11-04T16:50:23.209Z"
   },
   {
    "duration": 231,
    "start_time": "2024-11-04T16:50:23.224Z"
   },
   {
    "duration": 3,
    "start_time": "2024-11-04T16:50:23.462Z"
   },
   {
    "duration": 5,
    "start_time": "2024-11-04T16:50:23.467Z"
   },
   {
    "duration": 15,
    "start_time": "2024-11-04T16:50:23.473Z"
   },
   {
    "duration": 4,
    "start_time": "2024-11-04T16:50:23.489Z"
   },
   {
    "duration": 194,
    "start_time": "2024-11-04T16:50:23.495Z"
   },
   {
    "duration": 6,
    "start_time": "2024-11-04T16:50:23.692Z"
   },
   {
    "duration": 3,
    "start_time": "2024-11-04T16:50:23.700Z"
   },
   {
    "duration": 173,
    "start_time": "2024-11-04T16:50:23.705Z"
   },
   {
    "duration": 43,
    "start_time": "2024-11-04T16:50:23.881Z"
   },
   {
    "duration": 5,
    "start_time": "2024-11-04T16:50:23.926Z"
   },
   {
    "duration": 168,
    "start_time": "2024-11-04T16:50:23.933Z"
   },
   {
    "duration": 4,
    "start_time": "2024-11-04T16:50:24.103Z"
   },
   {
    "duration": 5,
    "start_time": "2024-11-04T16:50:24.110Z"
   },
   {
    "duration": 3,
    "start_time": "2024-11-04T16:50:24.116Z"
   },
   {
    "duration": 3,
    "start_time": "2024-11-04T16:50:24.121Z"
   },
   {
    "duration": 217,
    "start_time": "2024-11-04T16:50:24.126Z"
   },
   {
    "duration": 9,
    "start_time": "2024-11-04T16:50:24.345Z"
   },
   {
    "duration": 9,
    "start_time": "2024-11-04T16:50:24.356Z"
   },
   {
    "duration": 9,
    "start_time": "2024-11-04T16:50:24.386Z"
   },
   {
    "duration": 16,
    "start_time": "2024-11-04T16:50:24.396Z"
   },
   {
    "duration": 3,
    "start_time": "2024-11-04T16:50:24.414Z"
   },
   {
    "duration": 3,
    "start_time": "2024-11-04T16:50:24.419Z"
   },
   {
    "duration": 7,
    "start_time": "2024-11-04T16:50:24.424Z"
   },
   {
    "duration": 192,
    "start_time": "2024-11-04T16:50:24.432Z"
   },
   {
    "duration": 38,
    "start_time": "2024-11-04T16:50:24.627Z"
   },
   {
    "duration": 5,
    "start_time": "2024-11-04T16:50:24.667Z"
   },
   {
    "duration": 36,
    "start_time": "2024-11-04T16:50:24.687Z"
   },
   {
    "duration": 7,
    "start_time": "2024-11-04T16:50:24.725Z"
   },
   {
    "duration": 7,
    "start_time": "2024-11-04T16:50:24.734Z"
   },
   {
    "duration": 7,
    "start_time": "2024-11-04T16:50:24.743Z"
   },
   {
    "duration": 71,
    "start_time": "2024-11-04T16:50:24.752Z"
   },
   {
    "duration": 7,
    "start_time": "2024-11-04T16:50:24.825Z"
   },
   {
    "duration": 5,
    "start_time": "2024-11-04T16:50:24.834Z"
   },
   {
    "duration": 6,
    "start_time": "2024-11-04T16:50:24.841Z"
   },
   {
    "duration": 4,
    "start_time": "2024-11-04T16:50:24.848Z"
   },
   {
    "duration": 3,
    "start_time": "2024-11-04T16:50:24.854Z"
   },
   {
    "duration": 29,
    "start_time": "2024-11-04T16:50:24.859Z"
   },
   {
    "duration": 4,
    "start_time": "2024-11-04T16:50:24.890Z"
   },
   {
    "duration": 5,
    "start_time": "2024-11-04T16:50:24.895Z"
   },
   {
    "duration": 3,
    "start_time": "2024-11-04T16:50:24.902Z"
   },
   {
    "duration": 7,
    "start_time": "2024-11-04T16:50:24.907Z"
   },
   {
    "duration": 3,
    "start_time": "2024-11-04T16:50:24.915Z"
   },
   {
    "duration": 3,
    "start_time": "2024-11-04T16:50:24.920Z"
   },
   {
    "duration": 7,
    "start_time": "2024-11-04T16:50:24.924Z"
   },
   {
    "duration": 3,
    "start_time": "2024-11-04T16:51:29.654Z"
   },
   {
    "duration": 3,
    "start_time": "2024-11-04T16:59:52.064Z"
   },
   {
    "duration": 4,
    "start_time": "2024-11-04T17:01:01.671Z"
   },
   {
    "duration": 3,
    "start_time": "2024-11-04T17:01:06.293Z"
   },
   {
    "duration": 3,
    "start_time": "2024-11-04T17:01:20.190Z"
   },
   {
    "duration": 3,
    "start_time": "2024-11-04T17:01:31.443Z"
   },
   {
    "duration": 217,
    "start_time": "2024-11-04T17:14:15.663Z"
   },
   {
    "duration": 2,
    "start_time": "2024-11-04T17:14:34.045Z"
   },
   {
    "duration": 5,
    "start_time": "2024-11-04T17:14:46.124Z"
   },
   {
    "duration": 14,
    "start_time": "2024-11-04T17:40:11.092Z"
   },
   {
    "duration": 13,
    "start_time": "2024-11-04T17:46:25.468Z"
   },
   {
    "duration": 815,
    "start_time": "2024-11-04T17:52:27.776Z"
   },
   {
    "duration": 103,
    "start_time": "2024-11-04T17:52:28.593Z"
   },
   {
    "duration": 45,
    "start_time": "2024-11-04T17:52:28.698Z"
   },
   {
    "duration": 2,
    "start_time": "2024-11-04T17:52:28.745Z"
   },
   {
    "duration": 11,
    "start_time": "2024-11-04T17:52:28.749Z"
   },
   {
    "duration": 60,
    "start_time": "2024-11-04T17:52:28.762Z"
   },
   {
    "duration": 43,
    "start_time": "2024-11-04T17:52:28.824Z"
   },
   {
    "duration": 26,
    "start_time": "2024-11-04T17:52:28.868Z"
   },
   {
    "duration": 9,
    "start_time": "2024-11-04T17:52:28.895Z"
   },
   {
    "duration": 9,
    "start_time": "2024-11-04T17:52:28.905Z"
   },
   {
    "duration": 12,
    "start_time": "2024-11-04T17:52:28.915Z"
   },
   {
    "duration": 4,
    "start_time": "2024-11-04T17:52:28.928Z"
   },
   {
    "duration": 90,
    "start_time": "2024-11-04T17:52:28.934Z"
   },
   {
    "duration": 11,
    "start_time": "2024-11-04T17:52:29.028Z"
   },
   {
    "duration": 9,
    "start_time": "2024-11-04T17:52:29.041Z"
   },
   {
    "duration": 42,
    "start_time": "2024-11-04T17:52:29.053Z"
   },
   {
    "duration": 165,
    "start_time": "2024-11-04T17:52:29.096Z"
   },
   {
    "duration": 6,
    "start_time": "2024-11-04T17:52:29.264Z"
   },
   {
    "duration": 46,
    "start_time": "2024-11-04T17:52:29.271Z"
   },
   {
    "duration": 163,
    "start_time": "2024-11-04T17:52:29.319Z"
   },
   {
    "duration": 3,
    "start_time": "2024-11-04T17:52:29.486Z"
   },
   {
    "duration": 205,
    "start_time": "2024-11-04T17:52:29.492Z"
   },
   {
    "duration": 4,
    "start_time": "2024-11-04T17:52:29.698Z"
   },
   {
    "duration": 3,
    "start_time": "2024-11-04T17:52:29.704Z"
   },
   {
    "duration": 140,
    "start_time": "2024-11-04T17:52:29.709Z"
   },
   {
    "duration": 13,
    "start_time": "2024-11-04T17:52:29.850Z"
   },
   {
    "duration": 26,
    "start_time": "2024-11-04T17:52:29.865Z"
   },
   {
    "duration": 167,
    "start_time": "2024-11-04T17:52:29.892Z"
   },
   {
    "duration": 4,
    "start_time": "2024-11-04T17:52:30.061Z"
   },
   {
    "duration": 4,
    "start_time": "2024-11-04T17:52:30.067Z"
   },
   {
    "duration": 16,
    "start_time": "2024-11-04T17:52:30.073Z"
   },
   {
    "duration": 12,
    "start_time": "2024-11-04T17:52:30.091Z"
   },
   {
    "duration": 10,
    "start_time": "2024-11-04T17:52:30.106Z"
   },
   {
    "duration": 3,
    "start_time": "2024-11-04T17:52:30.118Z"
   },
   {
    "duration": 5,
    "start_time": "2024-11-04T17:52:30.124Z"
   },
   {
    "duration": 4,
    "start_time": "2024-11-04T17:52:30.131Z"
   },
   {
    "duration": 191,
    "start_time": "2024-11-04T17:52:30.137Z"
   },
   {
    "duration": 18,
    "start_time": "2024-11-04T17:52:30.330Z"
   },
   {
    "duration": 9,
    "start_time": "2024-11-04T17:52:30.350Z"
   },
   {
    "duration": 164,
    "start_time": "2024-11-04T17:52:30.361Z"
   },
   {
    "duration": 3,
    "start_time": "2024-11-04T17:52:30.531Z"
   },
   {
    "duration": 5,
    "start_time": "2024-11-04T17:52:30.535Z"
   },
   {
    "duration": 4,
    "start_time": "2024-11-04T17:52:30.541Z"
   },
   {
    "duration": 3,
    "start_time": "2024-11-04T17:52:30.546Z"
   },
   {
    "duration": 198,
    "start_time": "2024-11-04T17:52:30.551Z"
   },
   {
    "duration": 6,
    "start_time": "2024-11-04T17:52:30.751Z"
   },
   {
    "duration": 3,
    "start_time": "2024-11-04T17:52:30.758Z"
   },
   {
    "duration": 166,
    "start_time": "2024-11-04T17:52:30.763Z"
   },
   {
    "duration": 37,
    "start_time": "2024-11-04T17:52:30.931Z"
   },
   {
    "duration": 21,
    "start_time": "2024-11-04T17:52:30.970Z"
   },
   {
    "duration": 166,
    "start_time": "2024-11-04T17:52:30.992Z"
   },
   {
    "duration": 6,
    "start_time": "2024-11-04T17:52:31.161Z"
   },
   {
    "duration": 4,
    "start_time": "2024-11-04T17:52:31.169Z"
   },
   {
    "duration": 3,
    "start_time": "2024-11-04T17:52:31.187Z"
   },
   {
    "duration": 4,
    "start_time": "2024-11-04T17:52:31.193Z"
   },
   {
    "duration": 197,
    "start_time": "2024-11-04T17:52:31.198Z"
   },
   {
    "duration": 298,
    "start_time": "2024-11-04T17:52:31.398Z"
   },
   {
    "duration": 0,
    "start_time": "2024-11-04T17:52:31.697Z"
   },
   {
    "duration": 0,
    "start_time": "2024-11-04T17:52:31.699Z"
   },
   {
    "duration": 0,
    "start_time": "2024-11-04T17:52:31.700Z"
   },
   {
    "duration": 0,
    "start_time": "2024-11-04T17:52:31.700Z"
   },
   {
    "duration": 0,
    "start_time": "2024-11-04T17:52:31.702Z"
   },
   {
    "duration": 0,
    "start_time": "2024-11-04T17:52:31.703Z"
   },
   {
    "duration": 0,
    "start_time": "2024-11-04T17:52:31.704Z"
   },
   {
    "duration": 0,
    "start_time": "2024-11-04T17:52:31.705Z"
   },
   {
    "duration": 0,
    "start_time": "2024-11-04T17:52:31.706Z"
   },
   {
    "duration": 0,
    "start_time": "2024-11-04T17:52:31.707Z"
   },
   {
    "duration": 0,
    "start_time": "2024-11-04T17:52:31.708Z"
   },
   {
    "duration": 0,
    "start_time": "2024-11-04T17:52:31.709Z"
   },
   {
    "duration": 0,
    "start_time": "2024-11-04T17:52:31.710Z"
   },
   {
    "duration": 0,
    "start_time": "2024-11-04T17:52:31.711Z"
   },
   {
    "duration": 0,
    "start_time": "2024-11-04T17:52:31.712Z"
   },
   {
    "duration": 0,
    "start_time": "2024-11-04T17:52:31.713Z"
   },
   {
    "duration": 0,
    "start_time": "2024-11-04T17:52:31.714Z"
   },
   {
    "duration": 0,
    "start_time": "2024-11-04T17:52:31.715Z"
   },
   {
    "duration": 1,
    "start_time": "2024-11-04T17:52:31.716Z"
   },
   {
    "duration": 0,
    "start_time": "2024-11-04T17:52:31.718Z"
   },
   {
    "duration": 0,
    "start_time": "2024-11-04T17:52:31.719Z"
   },
   {
    "duration": 0,
    "start_time": "2024-11-04T17:52:31.720Z"
   },
   {
    "duration": 0,
    "start_time": "2024-11-04T17:52:31.720Z"
   },
   {
    "duration": 0,
    "start_time": "2024-11-04T17:52:31.722Z"
   },
   {
    "duration": 0,
    "start_time": "2024-11-04T17:52:31.723Z"
   },
   {
    "duration": 0,
    "start_time": "2024-11-04T17:52:31.724Z"
   },
   {
    "duration": 0,
    "start_time": "2024-11-04T17:52:31.726Z"
   },
   {
    "duration": 9,
    "start_time": "2024-11-04T17:53:15.392Z"
   },
   {
    "duration": 18,
    "start_time": "2024-11-04T17:53:16.825Z"
   },
   {
    "duration": 8,
    "start_time": "2024-11-04T17:53:30.752Z"
   },
   {
    "duration": 9,
    "start_time": "2024-11-04T17:53:31.480Z"
   },
   {
    "duration": 16,
    "start_time": "2024-11-04T17:53:47.671Z"
   },
   {
    "duration": 3,
    "start_time": "2024-11-04T17:53:48.166Z"
   },
   {
    "duration": 3,
    "start_time": "2024-11-04T17:53:48.604Z"
   },
   {
    "duration": 6,
    "start_time": "2024-11-04T17:53:49.030Z"
   },
   {
    "duration": 125,
    "start_time": "2024-11-04T17:53:49.494Z"
   },
   {
    "duration": 38,
    "start_time": "2024-11-04T17:53:50.491Z"
   },
   {
    "duration": 6,
    "start_time": "2024-11-04T17:53:51.557Z"
   },
   {
    "duration": 28,
    "start_time": "2024-11-04T17:53:52.430Z"
   },
   {
    "duration": 7,
    "start_time": "2024-11-04T17:53:52.983Z"
   },
   {
    "duration": 7,
    "start_time": "2024-11-04T17:53:54.166Z"
   },
   {
    "duration": 9,
    "start_time": "2024-11-04T17:53:54.675Z"
   },
   {
    "duration": 41,
    "start_time": "2024-11-04T17:53:55.760Z"
   },
   {
    "duration": 8,
    "start_time": "2024-11-04T17:53:56.402Z"
   },
   {
    "duration": 7,
    "start_time": "2024-11-04T17:53:56.967Z"
   },
   {
    "duration": 5,
    "start_time": "2024-11-04T17:53:57.476Z"
   },
   {
    "duration": 3,
    "start_time": "2024-11-04T17:53:57.991Z"
   },
   {
    "duration": 2,
    "start_time": "2024-11-04T17:53:59.045Z"
   },
   {
    "duration": 4,
    "start_time": "2024-11-04T17:53:59.591Z"
   },
   {
    "duration": 4,
    "start_time": "2024-11-04T17:54:00.165Z"
   },
   {
    "duration": 4,
    "start_time": "2024-11-04T17:54:00.909Z"
   },
   {
    "duration": 4,
    "start_time": "2024-11-04T17:54:01.466Z"
   },
   {
    "duration": 7,
    "start_time": "2024-11-04T17:54:02.536Z"
   },
   {
    "duration": 4,
    "start_time": "2024-11-04T17:54:03.611Z"
   },
   {
    "duration": 3,
    "start_time": "2024-11-04T17:54:04.351Z"
   },
   {
    "duration": 7,
    "start_time": "2024-11-04T17:54:05.246Z"
   },
   {
    "duration": 3,
    "start_time": "2024-11-04T17:54:20.974Z"
   },
   {
    "duration": 3,
    "start_time": "2024-11-04T17:54:59.368Z"
   },
   {
    "duration": 3,
    "start_time": "2024-11-04T17:55:26.732Z"
   },
   {
    "duration": 3,
    "start_time": "2024-11-04T17:55:44.121Z"
   },
   {
    "duration": 3,
    "start_time": "2024-11-04T17:59:52.645Z"
   },
   {
    "duration": 3,
    "start_time": "2024-11-04T18:00:01.662Z"
   },
   {
    "duration": 3,
    "start_time": "2024-11-04T18:00:10.142Z"
   },
   {
    "duration": 3,
    "start_time": "2024-11-04T18:02:41.882Z"
   },
   {
    "duration": 3,
    "start_time": "2024-11-04T18:09:19.613Z"
   },
   {
    "duration": 4,
    "start_time": "2024-11-04T18:09:28.806Z"
   },
   {
    "duration": 3,
    "start_time": "2024-11-04T18:09:34.678Z"
   },
   {
    "duration": 3,
    "start_time": "2024-11-04T18:11:08.916Z"
   },
   {
    "duration": 13,
    "start_time": "2024-11-04T18:11:35.586Z"
   },
   {
    "duration": 3,
    "start_time": "2024-11-04T18:11:55.744Z"
   },
   {
    "duration": 3,
    "start_time": "2024-11-04T18:12:04.947Z"
   },
   {
    "duration": 4,
    "start_time": "2024-11-04T18:12:51.121Z"
   },
   {
    "duration": 4,
    "start_time": "2024-11-04T18:14:48.258Z"
   },
   {
    "duration": 17,
    "start_time": "2024-11-04T18:19:06.358Z"
   },
   {
    "duration": 9,
    "start_time": "2024-11-04T18:20:46.496Z"
   },
   {
    "duration": 19,
    "start_time": "2024-11-04T18:20:55.273Z"
   },
   {
    "duration": 1031,
    "start_time": "2024-11-04T18:21:25.924Z"
   },
   {
    "duration": 125,
    "start_time": "2024-11-04T18:21:26.960Z"
   },
   {
    "duration": 59,
    "start_time": "2024-11-04T18:21:27.091Z"
   },
   {
    "duration": 4,
    "start_time": "2024-11-04T18:21:27.154Z"
   },
   {
    "duration": 13,
    "start_time": "2024-11-04T18:21:27.163Z"
   },
   {
    "duration": 51,
    "start_time": "2024-11-04T18:21:27.186Z"
   },
   {
    "duration": 59,
    "start_time": "2024-11-04T18:21:27.239Z"
   },
   {
    "duration": 14,
    "start_time": "2024-11-04T18:21:27.300Z"
   },
   {
    "duration": 10,
    "start_time": "2024-11-04T18:21:27.316Z"
   },
   {
    "duration": 9,
    "start_time": "2024-11-04T18:21:27.328Z"
   },
   {
    "duration": 11,
    "start_time": "2024-11-04T18:21:27.339Z"
   },
   {
    "duration": 6,
    "start_time": "2024-11-04T18:21:27.351Z"
   },
   {
    "duration": 116,
    "start_time": "2024-11-04T18:21:27.358Z"
   },
   {
    "duration": 10,
    "start_time": "2024-11-04T18:21:27.487Z"
   },
   {
    "duration": 10,
    "start_time": "2024-11-04T18:21:27.499Z"
   },
   {
    "duration": 26,
    "start_time": "2024-11-04T18:21:27.511Z"
   },
   {
    "duration": 251,
    "start_time": "2024-11-04T18:21:27.539Z"
   },
   {
    "duration": 7,
    "start_time": "2024-11-04T18:21:27.792Z"
   },
   {
    "duration": 55,
    "start_time": "2024-11-04T18:21:27.801Z"
   },
   {
    "duration": 224,
    "start_time": "2024-11-04T18:21:27.861Z"
   },
   {
    "duration": 5,
    "start_time": "2024-11-04T18:21:28.086Z"
   },
   {
    "duration": 245,
    "start_time": "2024-11-04T18:21:28.092Z"
   },
   {
    "duration": 6,
    "start_time": "2024-11-04T18:21:28.339Z"
   },
   {
    "duration": 6,
    "start_time": "2024-11-04T18:21:28.349Z"
   },
   {
    "duration": 141,
    "start_time": "2024-11-04T18:21:28.359Z"
   },
   {
    "duration": 14,
    "start_time": "2024-11-04T18:21:28.502Z"
   },
   {
    "duration": 15,
    "start_time": "2024-11-04T18:21:28.518Z"
   },
   {
    "duration": 185,
    "start_time": "2024-11-04T18:21:28.536Z"
   },
   {
    "duration": 7,
    "start_time": "2024-11-04T18:21:28.723Z"
   },
   {
    "duration": 4,
    "start_time": "2024-11-04T18:21:28.732Z"
   },
   {
    "duration": 4,
    "start_time": "2024-11-04T18:21:28.738Z"
   },
   {
    "duration": 11,
    "start_time": "2024-11-04T18:21:28.744Z"
   },
   {
    "duration": 36,
    "start_time": "2024-11-04T18:21:28.762Z"
   },
   {
    "duration": 7,
    "start_time": "2024-11-04T18:21:28.802Z"
   },
   {
    "duration": 11,
    "start_time": "2024-11-04T18:21:28.813Z"
   },
   {
    "duration": 4,
    "start_time": "2024-11-04T18:21:28.830Z"
   },
   {
    "duration": 217,
    "start_time": "2024-11-04T18:21:28.836Z"
   },
   {
    "duration": 35,
    "start_time": "2024-11-04T18:21:29.055Z"
   },
   {
    "duration": 13,
    "start_time": "2024-11-04T18:21:29.092Z"
   },
   {
    "duration": 219,
    "start_time": "2024-11-04T18:21:29.107Z"
   },
   {
    "duration": 4,
    "start_time": "2024-11-04T18:21:29.335Z"
   },
   {
    "duration": 7,
    "start_time": "2024-11-04T18:21:29.341Z"
   },
   {
    "duration": 4,
    "start_time": "2024-11-04T18:21:29.349Z"
   },
   {
    "duration": 2,
    "start_time": "2024-11-04T18:21:29.356Z"
   },
   {
    "duration": 281,
    "start_time": "2024-11-04T18:21:29.360Z"
   },
   {
    "duration": 7,
    "start_time": "2024-11-04T18:21:29.644Z"
   },
   {
    "duration": 3,
    "start_time": "2024-11-04T18:21:29.653Z"
   },
   {
    "duration": 235,
    "start_time": "2024-11-04T18:21:29.658Z"
   },
   {
    "duration": 55,
    "start_time": "2024-11-04T18:21:29.895Z"
   },
   {
    "duration": 10,
    "start_time": "2024-11-04T18:21:29.952Z"
   },
   {
    "duration": 216,
    "start_time": "2024-11-04T18:21:29.964Z"
   },
   {
    "duration": 4,
    "start_time": "2024-11-04T18:21:30.186Z"
   },
   {
    "duration": 5,
    "start_time": "2024-11-04T18:21:30.192Z"
   },
   {
    "duration": 4,
    "start_time": "2024-11-04T18:21:30.200Z"
   },
   {
    "duration": 3,
    "start_time": "2024-11-04T18:21:30.206Z"
   },
   {
    "duration": 246,
    "start_time": "2024-11-04T18:21:30.211Z"
   },
   {
    "duration": 11,
    "start_time": "2024-11-04T18:21:30.459Z"
   },
   {
    "duration": 25,
    "start_time": "2024-11-04T18:21:30.472Z"
   },
   {
    "duration": 12,
    "start_time": "2024-11-04T18:21:30.500Z"
   },
   {
    "duration": 19,
    "start_time": "2024-11-04T18:21:30.514Z"
   },
   {
    "duration": 4,
    "start_time": "2024-11-04T18:21:30.537Z"
   },
   {
    "duration": 4,
    "start_time": "2024-11-04T18:21:30.542Z"
   },
   {
    "duration": 7,
    "start_time": "2024-11-04T18:21:30.548Z"
   },
   {
    "duration": 194,
    "start_time": "2024-11-04T18:21:30.557Z"
   },
   {
    "duration": 47,
    "start_time": "2024-11-04T18:21:30.753Z"
   },
   {
    "duration": 6,
    "start_time": "2024-11-04T18:21:30.802Z"
   },
   {
    "duration": 27,
    "start_time": "2024-11-04T18:21:30.810Z"
   },
   {
    "duration": 7,
    "start_time": "2024-11-04T18:21:30.839Z"
   },
   {
    "duration": 7,
    "start_time": "2024-11-04T18:21:30.847Z"
   },
   {
    "duration": 33,
    "start_time": "2024-11-04T18:21:30.856Z"
   },
   {
    "duration": 58,
    "start_time": "2024-11-04T18:21:30.891Z"
   },
   {
    "duration": 11,
    "start_time": "2024-11-04T18:21:30.950Z"
   },
   {
    "duration": 24,
    "start_time": "2024-11-04T18:21:30.963Z"
   },
   {
    "duration": 8,
    "start_time": "2024-11-04T18:21:30.990Z"
   },
   {
    "duration": 3,
    "start_time": "2024-11-04T18:21:31.000Z"
   },
   {
    "duration": 3,
    "start_time": "2024-11-04T18:21:31.005Z"
   },
   {
    "duration": 4,
    "start_time": "2024-11-04T18:21:31.011Z"
   },
   {
    "duration": 7,
    "start_time": "2024-11-04T18:21:31.017Z"
   },
   {
    "duration": 5,
    "start_time": "2024-11-04T18:21:31.026Z"
   },
   {
    "duration": 4,
    "start_time": "2024-11-04T18:21:31.033Z"
   },
   {
    "duration": 8,
    "start_time": "2024-11-04T18:21:31.039Z"
   },
   {
    "duration": 38,
    "start_time": "2024-11-04T18:21:31.050Z"
   },
   {
    "duration": 5,
    "start_time": "2024-11-04T18:21:31.090Z"
   },
   {
    "duration": 14,
    "start_time": "2024-11-04T18:21:31.097Z"
   },
   {
    "duration": 11,
    "start_time": "2024-11-04T18:21:31.113Z"
   },
   {
    "duration": 11,
    "start_time": "2024-11-04T18:21:31.128Z"
   },
   {
    "duration": 4,
    "start_time": "2024-11-04T18:21:31.145Z"
   },
   {
    "duration": 3,
    "start_time": "2024-11-04T18:21:31.151Z"
   },
   {
    "duration": 3,
    "start_time": "2024-11-04T18:21:31.156Z"
   },
   {
    "duration": 3,
    "start_time": "2024-11-04T18:21:31.161Z"
   },
   {
    "duration": 21,
    "start_time": "2024-11-04T18:21:31.166Z"
   },
   {
    "duration": 4,
    "start_time": "2024-11-04T18:21:31.188Z"
   },
   {
    "duration": 4,
    "start_time": "2024-11-04T18:21:31.193Z"
   },
   {
    "duration": 492,
    "start_time": "2024-11-04T18:21:31.199Z"
   },
   {
    "duration": 19,
    "start_time": "2024-11-04T18:22:00.603Z"
   },
   {
    "duration": 2512,
    "start_time": "2024-11-04T20:01:53.699Z"
   },
   {
    "duration": 135,
    "start_time": "2024-11-04T20:01:56.213Z"
   },
   {
    "duration": 47,
    "start_time": "2024-11-04T20:01:56.350Z"
   },
   {
    "duration": 3,
    "start_time": "2024-11-04T20:01:56.399Z"
   },
   {
    "duration": 12,
    "start_time": "2024-11-04T20:01:56.405Z"
   },
   {
    "duration": 65,
    "start_time": "2024-11-04T20:01:56.419Z"
   },
   {
    "duration": 44,
    "start_time": "2024-11-04T20:01:56.486Z"
   },
   {
    "duration": 10,
    "start_time": "2024-11-04T20:01:56.542Z"
   },
   {
    "duration": 9,
    "start_time": "2024-11-04T20:01:56.554Z"
   },
   {
    "duration": 9,
    "start_time": "2024-11-04T20:01:56.565Z"
   },
   {
    "duration": 12,
    "start_time": "2024-11-04T20:01:56.577Z"
   },
   {
    "duration": 5,
    "start_time": "2024-11-04T20:01:56.590Z"
   },
   {
    "duration": 98,
    "start_time": "2024-11-04T20:01:56.597Z"
   },
   {
    "duration": 11,
    "start_time": "2024-11-04T20:01:56.699Z"
   },
   {
    "duration": 9,
    "start_time": "2024-11-04T20:01:56.712Z"
   },
   {
    "duration": 18,
    "start_time": "2024-11-04T20:01:56.742Z"
   },
   {
    "duration": 168,
    "start_time": "2024-11-04T20:01:56.761Z"
   },
   {
    "duration": 16,
    "start_time": "2024-11-04T20:01:56.931Z"
   },
   {
    "duration": 36,
    "start_time": "2024-11-04T20:01:56.949Z"
   },
   {
    "duration": 171,
    "start_time": "2024-11-04T20:01:56.987Z"
   },
   {
    "duration": 4,
    "start_time": "2024-11-04T20:01:57.160Z"
   },
   {
    "duration": 170,
    "start_time": "2024-11-04T20:01:57.166Z"
   },
   {
    "duration": 3,
    "start_time": "2024-11-04T20:01:57.343Z"
   },
   {
    "duration": 3,
    "start_time": "2024-11-04T20:01:57.348Z"
   },
   {
    "duration": 142,
    "start_time": "2024-11-04T20:01:57.353Z"
   },
   {
    "duration": 14,
    "start_time": "2024-11-04T20:01:57.497Z"
   },
   {
    "duration": 13,
    "start_time": "2024-11-04T20:01:57.513Z"
   },
   {
    "duration": 177,
    "start_time": "2024-11-04T20:01:57.543Z"
   },
   {
    "duration": 5,
    "start_time": "2024-11-04T20:01:57.722Z"
   },
   {
    "duration": 15,
    "start_time": "2024-11-04T20:01:57.729Z"
   },
   {
    "duration": 3,
    "start_time": "2024-11-04T20:01:57.746Z"
   },
   {
    "duration": 10,
    "start_time": "2024-11-04T20:01:57.750Z"
   },
   {
    "duration": 9,
    "start_time": "2024-11-04T20:01:57.762Z"
   },
   {
    "duration": 4,
    "start_time": "2024-11-04T20:01:57.773Z"
   },
   {
    "duration": 5,
    "start_time": "2024-11-04T20:01:57.779Z"
   },
   {
    "duration": 3,
    "start_time": "2024-11-04T20:01:57.786Z"
   },
   {
    "duration": 193,
    "start_time": "2024-11-04T20:01:57.790Z"
   },
   {
    "duration": 18,
    "start_time": "2024-11-04T20:01:57.985Z"
   },
   {
    "duration": 10,
    "start_time": "2024-11-04T20:01:58.005Z"
   },
   {
    "duration": 175,
    "start_time": "2024-11-04T20:01:58.017Z"
   },
   {
    "duration": 3,
    "start_time": "2024-11-04T20:01:58.197Z"
   },
   {
    "duration": 4,
    "start_time": "2024-11-04T20:01:58.202Z"
   },
   {
    "duration": 3,
    "start_time": "2024-11-04T20:01:58.209Z"
   },
   {
    "duration": 28,
    "start_time": "2024-11-04T20:01:58.214Z"
   },
   {
    "duration": 181,
    "start_time": "2024-11-04T20:01:58.244Z"
   },
   {
    "duration": 15,
    "start_time": "2024-11-04T20:01:58.427Z"
   },
   {
    "duration": 3,
    "start_time": "2024-11-04T20:01:58.444Z"
   },
   {
    "duration": 220,
    "start_time": "2024-11-04T20:01:58.449Z"
   },
   {
    "duration": 37,
    "start_time": "2024-11-04T20:01:58.670Z"
   },
   {
    "duration": 5,
    "start_time": "2024-11-04T20:01:58.709Z"
   },
   {
    "duration": 176,
    "start_time": "2024-11-04T20:01:58.717Z"
   },
   {
    "duration": 4,
    "start_time": "2024-11-04T20:01:58.894Z"
   },
   {
    "duration": 5,
    "start_time": "2024-11-04T20:01:58.899Z"
   },
   {
    "duration": 3,
    "start_time": "2024-11-04T20:01:58.906Z"
   },
   {
    "duration": 3,
    "start_time": "2024-11-04T20:01:58.911Z"
   },
   {
    "duration": 207,
    "start_time": "2024-11-04T20:01:58.916Z"
   },
   {
    "duration": 9,
    "start_time": "2024-11-04T20:01:59.125Z"
   },
   {
    "duration": 12,
    "start_time": "2024-11-04T20:01:59.136Z"
   },
   {
    "duration": 10,
    "start_time": "2024-11-04T20:01:59.149Z"
   },
   {
    "duration": 18,
    "start_time": "2024-11-04T20:01:59.161Z"
   },
   {
    "duration": 3,
    "start_time": "2024-11-04T20:01:59.180Z"
   },
   {
    "duration": 3,
    "start_time": "2024-11-04T20:01:59.185Z"
   },
   {
    "duration": 5,
    "start_time": "2024-11-04T20:01:59.189Z"
   },
   {
    "duration": 183,
    "start_time": "2024-11-04T20:01:59.197Z"
   },
   {
    "duration": 40,
    "start_time": "2024-11-04T20:01:59.382Z"
   },
   {
    "duration": 18,
    "start_time": "2024-11-04T20:01:59.424Z"
   },
   {
    "duration": 27,
    "start_time": "2024-11-04T20:01:59.444Z"
   },
   {
    "duration": 6,
    "start_time": "2024-11-04T20:01:59.473Z"
   },
   {
    "duration": 6,
    "start_time": "2024-11-04T20:01:59.480Z"
   },
   {
    "duration": 8,
    "start_time": "2024-11-04T20:01:59.488Z"
   },
   {
    "duration": 64,
    "start_time": "2024-11-04T20:01:59.498Z"
   },
   {
    "duration": 8,
    "start_time": "2024-11-04T20:01:59.564Z"
   },
   {
    "duration": 6,
    "start_time": "2024-11-04T20:01:59.574Z"
   },
   {
    "duration": 5,
    "start_time": "2024-11-04T20:01:59.581Z"
   },
   {
    "duration": 3,
    "start_time": "2024-11-04T20:01:59.588Z"
   },
   {
    "duration": 3,
    "start_time": "2024-11-04T20:01:59.592Z"
   },
   {
    "duration": 3,
    "start_time": "2024-11-04T20:01:59.597Z"
   },
   {
    "duration": 3,
    "start_time": "2024-11-04T20:01:59.602Z"
   },
   {
    "duration": 4,
    "start_time": "2024-11-04T20:01:59.643Z"
   },
   {
    "duration": 3,
    "start_time": "2024-11-04T20:01:59.649Z"
   },
   {
    "duration": 6,
    "start_time": "2024-11-04T20:01:59.654Z"
   },
   {
    "duration": 4,
    "start_time": "2024-11-04T20:01:59.661Z"
   },
   {
    "duration": 3,
    "start_time": "2024-11-04T20:01:59.666Z"
   },
   {
    "duration": 7,
    "start_time": "2024-11-04T20:01:59.671Z"
   },
   {
    "duration": 3,
    "start_time": "2024-11-04T20:01:59.679Z"
   },
   {
    "duration": 3,
    "start_time": "2024-11-04T20:01:59.684Z"
   },
   {
    "duration": 3,
    "start_time": "2024-11-04T20:01:59.688Z"
   },
   {
    "duration": 51,
    "start_time": "2024-11-04T20:01:59.692Z"
   },
   {
    "duration": 3,
    "start_time": "2024-11-04T20:01:59.744Z"
   },
   {
    "duration": 2,
    "start_time": "2024-11-04T20:01:59.750Z"
   },
   {
    "duration": 3,
    "start_time": "2024-11-04T20:01:59.754Z"
   },
   {
    "duration": 4,
    "start_time": "2024-11-04T20:01:59.759Z"
   },
   {
    "duration": 3,
    "start_time": "2024-11-04T20:01:59.766Z"
   },
   {
    "duration": 254,
    "start_time": "2024-11-04T20:01:59.771Z"
   },
   {
    "duration": 4,
    "start_time": "2024-11-04T20:25:23.337Z"
   },
   {
    "duration": 44,
    "start_time": "2024-11-04T20:25:47.878Z"
   },
   {
    "duration": 40,
    "start_time": "2024-11-04T20:26:21.383Z"
   },
   {
    "duration": 4,
    "start_time": "2024-11-04T20:37:21.671Z"
   },
   {
    "duration": 53,
    "start_time": "2024-11-04T20:37:26.238Z"
   },
   {
    "duration": 3,
    "start_time": "2024-11-04T20:38:19.284Z"
   },
   {
    "duration": 31,
    "start_time": "2024-11-04T20:38:21.734Z"
   },
   {
    "duration": 31,
    "start_time": "2024-11-04T20:38:40.324Z"
   },
   {
    "duration": 3,
    "start_time": "2024-11-04T20:40:55.925Z"
   },
   {
    "duration": 17,
    "start_time": "2024-11-04T20:41:13.088Z"
   },
   {
    "duration": 17,
    "start_time": "2024-11-04T20:41:39.453Z"
   },
   {
    "duration": 4,
    "start_time": "2024-11-04T20:55:57.774Z"
   },
   {
    "duration": 419,
    "start_time": "2024-11-04T20:56:11.764Z"
   },
   {
    "duration": 4,
    "start_time": "2024-11-04T20:56:21.478Z"
   },
   {
    "duration": 17,
    "start_time": "2024-11-04T20:56:22.429Z"
   },
   {
    "duration": 4,
    "start_time": "2024-11-04T20:57:38.792Z"
   },
   {
    "duration": 34,
    "start_time": "2024-11-04T20:57:39.418Z"
   },
   {
    "duration": 4,
    "start_time": "2024-11-04T20:57:47.672Z"
   },
   {
    "duration": 17,
    "start_time": "2024-11-04T20:57:48.968Z"
   },
   {
    "duration": 1006,
    "start_time": "2024-11-04T21:00:08.132Z"
   },
   {
    "duration": 147,
    "start_time": "2024-11-04T21:00:09.143Z"
   },
   {
    "duration": 61,
    "start_time": "2024-11-04T21:00:09.292Z"
   },
   {
    "duration": 2,
    "start_time": "2024-11-04T21:00:09.355Z"
   },
   {
    "duration": 15,
    "start_time": "2024-11-04T21:00:09.361Z"
   },
   {
    "duration": 75,
    "start_time": "2024-11-04T21:00:09.379Z"
   },
   {
    "duration": 62,
    "start_time": "2024-11-04T21:00:09.456Z"
   },
   {
    "duration": 22,
    "start_time": "2024-11-04T21:00:09.520Z"
   },
   {
    "duration": 15,
    "start_time": "2024-11-04T21:00:09.544Z"
   },
   {
    "duration": 11,
    "start_time": "2024-11-04T21:00:09.560Z"
   },
   {
    "duration": 15,
    "start_time": "2024-11-04T21:00:09.573Z"
   },
   {
    "duration": 5,
    "start_time": "2024-11-04T21:00:09.590Z"
   },
   {
    "duration": 113,
    "start_time": "2024-11-04T21:00:09.597Z"
   },
   {
    "duration": 14,
    "start_time": "2024-11-04T21:00:09.714Z"
   },
   {
    "duration": 17,
    "start_time": "2024-11-04T21:00:09.732Z"
   },
   {
    "duration": 24,
    "start_time": "2024-11-04T21:00:09.754Z"
   },
   {
    "duration": 227,
    "start_time": "2024-11-04T21:00:09.780Z"
   },
   {
    "duration": 10,
    "start_time": "2024-11-04T21:00:10.010Z"
   },
   {
    "duration": 60,
    "start_time": "2024-11-04T21:00:10.023Z"
   },
   {
    "duration": 192,
    "start_time": "2024-11-04T21:00:10.086Z"
   },
   {
    "duration": 5,
    "start_time": "2024-11-04T21:00:10.281Z"
   },
   {
    "duration": 310,
    "start_time": "2024-11-04T21:00:10.289Z"
   },
   {
    "duration": 4,
    "start_time": "2024-11-04T21:00:10.601Z"
   },
   {
    "duration": 5,
    "start_time": "2024-11-04T21:00:10.606Z"
   },
   {
    "duration": 177,
    "start_time": "2024-11-04T21:00:10.612Z"
   },
   {
    "duration": 18,
    "start_time": "2024-11-04T21:00:10.793Z"
   },
   {
    "duration": 29,
    "start_time": "2024-11-04T21:00:10.816Z"
   },
   {
    "duration": 222,
    "start_time": "2024-11-04T21:00:10.847Z"
   },
   {
    "duration": 4,
    "start_time": "2024-11-04T21:00:11.072Z"
   },
   {
    "duration": 4,
    "start_time": "2024-11-04T21:00:11.078Z"
   },
   {
    "duration": 3,
    "start_time": "2024-11-04T21:00:11.084Z"
   },
   {
    "duration": 12,
    "start_time": "2024-11-04T21:00:11.089Z"
   },
   {
    "duration": 42,
    "start_time": "2024-11-04T21:00:11.103Z"
   },
   {
    "duration": 10,
    "start_time": "2024-11-04T21:00:11.147Z"
   },
   {
    "duration": 12,
    "start_time": "2024-11-04T21:00:11.159Z"
   },
   {
    "duration": 4,
    "start_time": "2024-11-04T21:00:11.173Z"
   },
   {
    "duration": 216,
    "start_time": "2024-11-04T21:00:11.179Z"
   },
   {
    "duration": 25,
    "start_time": "2024-11-04T21:00:11.397Z"
   },
   {
    "duration": 33,
    "start_time": "2024-11-04T21:00:11.424Z"
   },
   {
    "duration": 211,
    "start_time": "2024-11-04T21:00:11.459Z"
   },
   {
    "duration": 6,
    "start_time": "2024-11-04T21:00:11.680Z"
   },
   {
    "duration": 5,
    "start_time": "2024-11-04T21:00:11.688Z"
   },
   {
    "duration": 4,
    "start_time": "2024-11-04T21:00:11.696Z"
   },
   {
    "duration": 2,
    "start_time": "2024-11-04T21:00:11.702Z"
   },
   {
    "duration": 253,
    "start_time": "2024-11-04T21:00:11.707Z"
   },
   {
    "duration": 7,
    "start_time": "2024-11-04T21:00:11.962Z"
   },
   {
    "duration": 4,
    "start_time": "2024-11-04T21:00:11.971Z"
   },
   {
    "duration": 216,
    "start_time": "2024-11-04T21:00:11.978Z"
   },
   {
    "duration": 61,
    "start_time": "2024-11-04T21:00:12.196Z"
   },
   {
    "duration": 6,
    "start_time": "2024-11-04T21:00:12.259Z"
   },
   {
    "duration": 230,
    "start_time": "2024-11-04T21:00:12.268Z"
   },
   {
    "duration": 4,
    "start_time": "2024-11-04T21:00:12.500Z"
   },
   {
    "duration": 6,
    "start_time": "2024-11-04T21:00:12.507Z"
   },
   {
    "duration": 6,
    "start_time": "2024-11-04T21:00:12.515Z"
   },
   {
    "duration": 5,
    "start_time": "2024-11-04T21:00:12.546Z"
   },
   {
    "duration": 253,
    "start_time": "2024-11-04T21:00:12.553Z"
   },
   {
    "duration": 11,
    "start_time": "2024-11-04T21:00:12.810Z"
   },
   {
    "duration": 22,
    "start_time": "2024-11-04T21:00:12.824Z"
   },
   {
    "duration": 21,
    "start_time": "2024-11-04T21:00:12.850Z"
   },
   {
    "duration": 32,
    "start_time": "2024-11-04T21:00:12.875Z"
   },
   {
    "duration": 5,
    "start_time": "2024-11-04T21:00:12.913Z"
   },
   {
    "duration": 5,
    "start_time": "2024-11-04T21:00:12.929Z"
   },
   {
    "duration": 11,
    "start_time": "2024-11-04T21:00:12.938Z"
   },
   {
    "duration": 210,
    "start_time": "2024-11-04T21:00:12.954Z"
   },
   {
    "duration": 64,
    "start_time": "2024-11-04T21:00:13.168Z"
   },
   {
    "duration": 8,
    "start_time": "2024-11-04T21:00:13.242Z"
   },
   {
    "duration": 41,
    "start_time": "2024-11-04T21:00:13.254Z"
   },
   {
    "duration": 9,
    "start_time": "2024-11-04T21:00:13.299Z"
   },
   {
    "duration": 8,
    "start_time": "2024-11-04T21:00:13.311Z"
   },
   {
    "duration": 27,
    "start_time": "2024-11-04T21:00:13.322Z"
   },
   {
    "duration": 58,
    "start_time": "2024-11-04T21:00:13.350Z"
   },
   {
    "duration": 12,
    "start_time": "2024-11-04T21:00:13.414Z"
   },
   {
    "duration": 17,
    "start_time": "2024-11-04T21:00:13.429Z"
   },
   {
    "duration": 7,
    "start_time": "2024-11-04T21:00:13.448Z"
   },
   {
    "duration": 6,
    "start_time": "2024-11-04T21:00:13.459Z"
   },
   {
    "duration": 3,
    "start_time": "2024-11-04T21:00:13.467Z"
   },
   {
    "duration": 4,
    "start_time": "2024-11-04T21:00:13.472Z"
   },
   {
    "duration": 5,
    "start_time": "2024-11-04T21:00:13.478Z"
   },
   {
    "duration": 5,
    "start_time": "2024-11-04T21:00:13.485Z"
   },
   {
    "duration": 4,
    "start_time": "2024-11-04T21:00:13.492Z"
   },
   {
    "duration": 8,
    "start_time": "2024-11-04T21:00:13.499Z"
   },
   {
    "duration": 5,
    "start_time": "2024-11-04T21:00:13.542Z"
   },
   {
    "duration": 4,
    "start_time": "2024-11-04T21:00:13.549Z"
   },
   {
    "duration": 10,
    "start_time": "2024-11-04T21:00:13.555Z"
   },
   {
    "duration": 3,
    "start_time": "2024-11-04T21:00:13.567Z"
   },
   {
    "duration": 3,
    "start_time": "2024-11-04T21:00:13.573Z"
   },
   {
    "duration": 3,
    "start_time": "2024-11-04T21:00:13.578Z"
   },
   {
    "duration": 3,
    "start_time": "2024-11-04T21:00:13.584Z"
   },
   {
    "duration": 4,
    "start_time": "2024-11-04T21:00:13.589Z"
   },
   {
    "duration": 3,
    "start_time": "2024-11-04T21:00:13.595Z"
   },
   {
    "duration": 45,
    "start_time": "2024-11-04T21:00:13.601Z"
   },
   {
    "duration": 4,
    "start_time": "2024-11-04T21:00:13.648Z"
   },
   {
    "duration": 5,
    "start_time": "2024-11-04T21:00:13.654Z"
   },
   {
    "duration": 4,
    "start_time": "2024-11-04T21:00:13.661Z"
   },
   {
    "duration": 24,
    "start_time": "2024-11-04T21:00:13.668Z"
   },
   {
    "duration": 49,
    "start_time": "2024-11-04T21:00:13.695Z"
   },
   {
    "duration": 5,
    "start_time": "2024-11-04T21:00:13.748Z"
   },
   {
    "duration": 27,
    "start_time": "2024-11-04T21:00:13.755Z"
   },
   {
    "duration": 4,
    "start_time": "2024-11-04T21:01:02.714Z"
   },
   {
    "duration": 19,
    "start_time": "2024-11-04T21:01:10.894Z"
   },
   {
    "duration": 3,
    "start_time": "2024-11-04T21:02:36.876Z"
   },
   {
    "duration": 22,
    "start_time": "2024-11-04T21:02:37.690Z"
   },
   {
    "duration": 17,
    "start_time": "2024-11-04T21:03:05.720Z"
   },
   {
    "duration": 5,
    "start_time": "2024-11-04T21:08:52.932Z"
   },
   {
    "duration": 5,
    "start_time": "2024-11-04T21:09:03.774Z"
   },
   {
    "duration": 4,
    "start_time": "2024-11-04T21:09:08.687Z"
   },
   {
    "duration": 20,
    "start_time": "2024-11-04T21:09:09.490Z"
   },
   {
    "duration": 4,
    "start_time": "2024-11-04T21:09:15.968Z"
   },
   {
    "duration": 19,
    "start_time": "2024-11-04T21:09:16.557Z"
   },
   {
    "duration": 18,
    "start_time": "2024-11-04T21:09:17.596Z"
   },
   {
    "duration": 7,
    "start_time": "2024-11-04T21:30:43.610Z"
   },
   {
    "duration": 5,
    "start_time": "2024-11-04T21:31:38.228Z"
   },
   {
    "duration": 376,
    "start_time": "2024-11-04T21:32:03.975Z"
   },
   {
    "duration": 5,
    "start_time": "2024-11-04T21:32:17.760Z"
   },
   {
    "duration": 52,
    "start_time": "2024-11-04T21:32:18.574Z"
   },
   {
    "duration": 6,
    "start_time": "2024-11-04T21:33:57.891Z"
   },
   {
    "duration": 54,
    "start_time": "2024-11-04T21:33:58.646Z"
   },
   {
    "duration": 7,
    "start_time": "2024-11-04T21:34:40.672Z"
   },
   {
    "duration": 51,
    "start_time": "2024-11-04T21:34:43.765Z"
   },
   {
    "duration": 7,
    "start_time": "2024-11-04T21:35:10.333Z"
   },
   {
    "duration": 50,
    "start_time": "2024-11-04T21:35:13.070Z"
   },
   {
    "duration": 7,
    "start_time": "2024-11-04T21:35:37.785Z"
   },
   {
    "duration": 42,
    "start_time": "2024-11-04T21:35:41.069Z"
   },
   {
    "duration": 4,
    "start_time": "2024-11-04T21:36:04.091Z"
   },
   {
    "duration": 46,
    "start_time": "2024-11-04T21:36:05.983Z"
   },
   {
    "duration": 5,
    "start_time": "2024-11-04T21:37:15.121Z"
   },
   {
    "duration": 42,
    "start_time": "2024-11-04T21:37:16.287Z"
   },
   {
    "duration": 9,
    "start_time": "2024-11-04T21:37:27.426Z"
   },
   {
    "duration": 56,
    "start_time": "2024-11-04T21:37:29.939Z"
   },
   {
    "duration": 5,
    "start_time": "2024-11-04T21:39:00.904Z"
   },
   {
    "duration": 44,
    "start_time": "2024-11-04T21:39:02.783Z"
   },
   {
    "duration": 5,
    "start_time": "2024-11-04T21:40:11.734Z"
   },
   {
    "duration": 36,
    "start_time": "2024-11-04T21:40:13.608Z"
   },
   {
    "duration": 43,
    "start_time": "2024-11-04T21:46:31.252Z"
   },
   {
    "duration": 38,
    "start_time": "2024-11-04T21:47:14.861Z"
   },
   {
    "duration": 36,
    "start_time": "2024-11-04T21:47:30.340Z"
   },
   {
    "duration": 34,
    "start_time": "2024-11-04T21:48:01.532Z"
   },
   {
    "duration": 5,
    "start_time": "2024-11-04T22:18:20.193Z"
   },
   {
    "duration": 19,
    "start_time": "2024-11-04T22:22:32.225Z"
   },
   {
    "duration": 20,
    "start_time": "2024-11-04T22:23:19.192Z"
   },
   {
    "duration": 3,
    "start_time": "2024-11-04T22:23:49.311Z"
   },
   {
    "duration": 4,
    "start_time": "2024-11-04T22:23:58.508Z"
   },
   {
    "duration": 18,
    "start_time": "2024-11-04T22:26:35.909Z"
   },
   {
    "duration": 16,
    "start_time": "2024-11-04T22:35:56.193Z"
   },
   {
    "duration": 5,
    "start_time": "2024-11-04T22:36:01.721Z"
   },
   {
    "duration": 12,
    "start_time": "2024-11-04T22:39:09.509Z"
   },
   {
    "duration": 62,
    "start_time": "2024-11-04T22:42:28.646Z"
   },
   {
    "duration": 42,
    "start_time": "2024-11-04T22:42:50.061Z"
   },
   {
    "duration": 4,
    "start_time": "2024-11-04T22:45:21.530Z"
   },
   {
    "duration": 6,
    "start_time": "2024-11-04T22:46:42.022Z"
   },
   {
    "duration": 9,
    "start_time": "2024-11-04T22:46:54.470Z"
   },
   {
    "duration": 5,
    "start_time": "2024-11-04T22:49:05.216Z"
   },
   {
    "duration": 7,
    "start_time": "2024-11-04T22:49:28.039Z"
   },
   {
    "duration": 4,
    "start_time": "2024-11-04T22:52:32.264Z"
   },
   {
    "duration": 3,
    "start_time": "2024-11-04T22:52:48.410Z"
   },
   {
    "duration": 3,
    "start_time": "2024-11-04T22:53:42.012Z"
   },
   {
    "duration": 3,
    "start_time": "2024-11-04T22:53:54.233Z"
   },
   {
    "duration": 17,
    "start_time": "2024-11-04T22:54:07.774Z"
   },
   {
    "duration": 4,
    "start_time": "2024-11-04T22:54:16.395Z"
   },
   {
    "duration": 3,
    "start_time": "2024-11-04T22:54:32.011Z"
   },
   {
    "duration": 14,
    "start_time": "2024-11-04T22:54:45.454Z"
   },
   {
    "duration": 2,
    "start_time": "2024-11-04T22:54:55.106Z"
   },
   {
    "duration": 3,
    "start_time": "2024-11-04T22:55:19.526Z"
   },
   {
    "duration": 4,
    "start_time": "2024-11-04T22:55:38.514Z"
   },
   {
    "duration": 4,
    "start_time": "2024-11-04T22:55:53.915Z"
   },
   {
    "duration": 5,
    "start_time": "2024-11-04T22:56:34.477Z"
   },
   {
    "duration": 4,
    "start_time": "2024-11-04T22:57:16.266Z"
   },
   {
    "duration": 4,
    "start_time": "2024-11-04T22:57:32.906Z"
   },
   {
    "duration": 5,
    "start_time": "2024-11-04T22:58:20.313Z"
   },
   {
    "duration": 4,
    "start_time": "2024-11-04T22:58:35.057Z"
   },
   {
    "duration": 5,
    "start_time": "2024-11-04T23:00:32.959Z"
   },
   {
    "duration": 3,
    "start_time": "2024-11-04T23:00:38.650Z"
   },
   {
    "duration": 17,
    "start_time": "2024-11-04T23:00:55.305Z"
   },
   {
    "duration": 15,
    "start_time": "2024-11-04T23:03:14.813Z"
   },
   {
    "duration": 4,
    "start_time": "2024-11-04T23:03:49.630Z"
   },
   {
    "duration": 5,
    "start_time": "2024-11-04T23:04:29.014Z"
   },
   {
    "duration": 2486,
    "start_time": "2024-11-05T02:44:56.097Z"
   },
   {
    "duration": 137,
    "start_time": "2024-11-05T02:44:58.585Z"
   },
   {
    "duration": 46,
    "start_time": "2024-11-05T02:44:58.724Z"
   },
   {
    "duration": 3,
    "start_time": "2024-11-05T02:44:58.771Z"
   },
   {
    "duration": 12,
    "start_time": "2024-11-05T02:44:58.776Z"
   },
   {
    "duration": 53,
    "start_time": "2024-11-05T02:44:58.789Z"
   },
   {
    "duration": 41,
    "start_time": "2024-11-05T02:44:58.844Z"
   },
   {
    "duration": 25,
    "start_time": "2024-11-05T02:44:58.888Z"
   },
   {
    "duration": 8,
    "start_time": "2024-11-05T02:44:58.916Z"
   },
   {
    "duration": 9,
    "start_time": "2024-11-05T02:44:58.926Z"
   },
   {
    "duration": 12,
    "start_time": "2024-11-05T02:44:58.936Z"
   },
   {
    "duration": 4,
    "start_time": "2024-11-05T02:44:58.949Z"
   },
   {
    "duration": 97,
    "start_time": "2024-11-05T02:44:58.955Z"
   },
   {
    "duration": 9,
    "start_time": "2024-11-05T02:44:59.057Z"
   },
   {
    "duration": 10,
    "start_time": "2024-11-05T02:44:59.068Z"
   },
   {
    "duration": 36,
    "start_time": "2024-11-05T02:44:59.080Z"
   },
   {
    "duration": 164,
    "start_time": "2024-11-05T02:44:59.118Z"
   },
   {
    "duration": 6,
    "start_time": "2024-11-05T02:44:59.283Z"
   },
   {
    "duration": 42,
    "start_time": "2024-11-05T02:44:59.290Z"
   },
   {
    "duration": 173,
    "start_time": "2024-11-05T02:44:59.334Z"
   },
   {
    "duration": 4,
    "start_time": "2024-11-05T02:44:59.510Z"
   },
   {
    "duration": 162,
    "start_time": "2024-11-05T02:44:59.515Z"
   },
   {
    "duration": 3,
    "start_time": "2024-11-05T02:44:59.679Z"
   },
   {
    "duration": 3,
    "start_time": "2024-11-05T02:44:59.684Z"
   },
   {
    "duration": 178,
    "start_time": "2024-11-05T02:44:59.688Z"
   },
   {
    "duration": 13,
    "start_time": "2024-11-05T02:44:59.867Z"
   },
   {
    "duration": 27,
    "start_time": "2024-11-05T02:44:59.881Z"
   },
   {
    "duration": 159,
    "start_time": "2024-11-05T02:44:59.910Z"
   },
   {
    "duration": 4,
    "start_time": "2024-11-05T02:45:00.071Z"
   },
   {
    "duration": 4,
    "start_time": "2024-11-05T02:45:00.077Z"
   },
   {
    "duration": 24,
    "start_time": "2024-11-05T02:45:00.083Z"
   },
   {
    "duration": 9,
    "start_time": "2024-11-05T02:45:00.109Z"
   },
   {
    "duration": 9,
    "start_time": "2024-11-05T02:45:00.120Z"
   },
   {
    "duration": 3,
    "start_time": "2024-11-05T02:45:00.131Z"
   },
   {
    "duration": 5,
    "start_time": "2024-11-05T02:45:00.136Z"
   },
   {
    "duration": 3,
    "start_time": "2024-11-05T02:45:00.143Z"
   },
   {
    "duration": 186,
    "start_time": "2024-11-05T02:45:00.148Z"
   },
   {
    "duration": 17,
    "start_time": "2024-11-05T02:45:00.336Z"
   },
   {
    "duration": 9,
    "start_time": "2024-11-05T02:45:00.355Z"
   },
   {
    "duration": 178,
    "start_time": "2024-11-05T02:45:00.366Z"
   },
   {
    "duration": 3,
    "start_time": "2024-11-05T02:45:00.550Z"
   },
   {
    "duration": 5,
    "start_time": "2024-11-05T02:45:00.554Z"
   },
   {
    "duration": 4,
    "start_time": "2024-11-05T02:45:00.560Z"
   },
   {
    "duration": 4,
    "start_time": "2024-11-05T02:45:00.565Z"
   },
   {
    "duration": 198,
    "start_time": "2024-11-05T02:45:00.572Z"
   },
   {
    "duration": 6,
    "start_time": "2024-11-05T02:45:00.771Z"
   },
   {
    "duration": 4,
    "start_time": "2024-11-05T02:45:00.778Z"
   },
   {
    "duration": 167,
    "start_time": "2024-11-05T02:45:00.784Z"
   },
   {
    "duration": 35,
    "start_time": "2024-11-05T02:45:00.953Z"
   },
   {
    "duration": 17,
    "start_time": "2024-11-05T02:45:00.989Z"
   },
   {
    "duration": 174,
    "start_time": "2024-11-05T02:45:01.008Z"
   },
   {
    "duration": 3,
    "start_time": "2024-11-05T02:45:01.184Z"
   },
   {
    "duration": 17,
    "start_time": "2024-11-05T02:45:01.189Z"
   },
   {
    "duration": 3,
    "start_time": "2024-11-05T02:45:01.208Z"
   },
   {
    "duration": 3,
    "start_time": "2024-11-05T02:45:01.212Z"
   },
   {
    "duration": 206,
    "start_time": "2024-11-05T02:45:01.217Z"
   },
   {
    "duration": 9,
    "start_time": "2024-11-05T02:45:01.425Z"
   },
   {
    "duration": 10,
    "start_time": "2024-11-05T02:45:01.435Z"
   },
   {
    "duration": 9,
    "start_time": "2024-11-05T02:45:01.446Z"
   },
   {
    "duration": 19,
    "start_time": "2024-11-05T02:45:01.456Z"
   },
   {
    "duration": 3,
    "start_time": "2024-11-05T02:45:01.504Z"
   },
   {
    "duration": 3,
    "start_time": "2024-11-05T02:45:01.508Z"
   },
   {
    "duration": 6,
    "start_time": "2024-11-05T02:45:01.513Z"
   },
   {
    "duration": 144,
    "start_time": "2024-11-05T02:45:01.521Z"
   },
   {
    "duration": 52,
    "start_time": "2024-11-05T02:45:01.667Z"
   },
   {
    "duration": 5,
    "start_time": "2024-11-05T02:45:01.720Z"
   },
   {
    "duration": 26,
    "start_time": "2024-11-05T02:45:01.727Z"
   },
   {
    "duration": 6,
    "start_time": "2024-11-05T02:45:01.755Z"
   },
   {
    "duration": 5,
    "start_time": "2024-11-05T02:45:01.763Z"
   },
   {
    "duration": 35,
    "start_time": "2024-11-05T02:45:01.770Z"
   },
   {
    "duration": 40,
    "start_time": "2024-11-05T02:45:01.807Z"
   },
   {
    "duration": 8,
    "start_time": "2024-11-05T02:45:01.849Z"
   },
   {
    "duration": 5,
    "start_time": "2024-11-05T02:45:01.859Z"
   },
   {
    "duration": 5,
    "start_time": "2024-11-05T02:45:01.865Z"
   },
   {
    "duration": 4,
    "start_time": "2024-11-05T02:45:01.871Z"
   },
   {
    "duration": 30,
    "start_time": "2024-11-05T02:45:01.876Z"
   },
   {
    "duration": 3,
    "start_time": "2024-11-05T02:45:01.908Z"
   },
   {
    "duration": 4,
    "start_time": "2024-11-05T02:45:01.913Z"
   },
   {
    "duration": 7,
    "start_time": "2024-11-05T02:45:01.919Z"
   },
   {
    "duration": 5,
    "start_time": "2024-11-05T02:45:01.927Z"
   },
   {
    "duration": 10,
    "start_time": "2024-11-05T02:45:01.934Z"
   },
   {
    "duration": 3,
    "start_time": "2024-11-05T02:45:01.946Z"
   },
   {
    "duration": 10,
    "start_time": "2024-11-05T02:45:01.952Z"
   },
   {
    "duration": 7,
    "start_time": "2024-11-05T02:45:01.964Z"
   },
   {
    "duration": 3,
    "start_time": "2024-11-05T02:45:01.972Z"
   },
   {
    "duration": 2,
    "start_time": "2024-11-05T02:45:02.006Z"
   },
   {
    "duration": 3,
    "start_time": "2024-11-05T02:45:02.010Z"
   },
   {
    "duration": 3,
    "start_time": "2024-11-05T02:45:02.015Z"
   },
   {
    "duration": 4,
    "start_time": "2024-11-05T02:45:02.019Z"
   },
   {
    "duration": 2,
    "start_time": "2024-11-05T02:45:02.025Z"
   },
   {
    "duration": 3,
    "start_time": "2024-11-05T02:45:02.029Z"
   },
   {
    "duration": 3,
    "start_time": "2024-11-05T02:45:02.034Z"
   },
   {
    "duration": 4,
    "start_time": "2024-11-05T02:45:02.039Z"
   },
   {
    "duration": 4,
    "start_time": "2024-11-05T02:45:02.044Z"
   },
   {
    "duration": 61,
    "start_time": "2024-11-05T02:45:02.050Z"
   },
   {
    "duration": 16,
    "start_time": "2024-11-05T02:45:02.113Z"
   },
   {
    "duration": 5,
    "start_time": "2024-11-05T02:45:02.130Z"
   },
   {
    "duration": 38,
    "start_time": "2024-11-05T02:45:02.137Z"
   },
   {
    "duration": 60,
    "start_time": "2024-11-05T02:45:02.176Z"
   },
   {
    "duration": 35,
    "start_time": "2024-11-05T02:45:02.238Z"
   },
   {
    "duration": 49,
    "start_time": "2024-11-05T02:45:02.275Z"
   },
   {
    "duration": 32,
    "start_time": "2024-11-05T02:45:02.326Z"
   },
   {
    "duration": 2,
    "start_time": "2024-11-05T02:45:02.360Z"
   },
   {
    "duration": 5,
    "start_time": "2024-11-05T02:45:02.364Z"
   },
   {
    "duration": 37,
    "start_time": "2024-11-05T02:45:02.371Z"
   },
   {
    "duration": 4,
    "start_time": "2024-11-05T02:45:02.410Z"
   },
   {
    "duration": 9,
    "start_time": "2024-11-05T02:45:02.416Z"
   },
   {
    "duration": 5,
    "start_time": "2024-11-05T02:45:02.427Z"
   },
   {
    "duration": 3,
    "start_time": "2024-11-05T03:00:15.583Z"
   },
   {
    "duration": 3,
    "start_time": "2024-11-05T03:00:24.267Z"
   },
   {
    "duration": 2,
    "start_time": "2024-11-05T03:00:55.137Z"
   },
   {
    "duration": 278,
    "start_time": "2024-11-05T03:04:49.750Z"
   },
   {
    "duration": 4,
    "start_time": "2024-11-05T03:04:55.123Z"
   },
   {
    "duration": 4,
    "start_time": "2024-11-05T03:05:28.425Z"
   },
   {
    "duration": 4,
    "start_time": "2024-11-05T03:05:45.587Z"
   },
   {
    "duration": 6,
    "start_time": "2024-11-05T03:09:40.378Z"
   },
   {
    "duration": 5,
    "start_time": "2024-11-05T03:11:58.235Z"
   },
   {
    "duration": 4,
    "start_time": "2024-11-05T03:12:13.362Z"
   },
   {
    "duration": 5,
    "start_time": "2024-11-05T03:13:49.642Z"
   },
   {
    "duration": 6,
    "start_time": "2024-11-05T03:13:55.837Z"
   },
   {
    "duration": 5,
    "start_time": "2024-11-05T03:24:36.611Z"
   },
   {
    "duration": 4,
    "start_time": "2024-11-05T03:25:05.347Z"
   },
   {
    "duration": 191,
    "start_time": "2024-11-05T04:00:27.128Z"
   },
   {
    "duration": 6,
    "start_time": "2024-11-05T04:00:51.904Z"
   },
   {
    "duration": 4,
    "start_time": "2024-11-05T04:01:11.810Z"
   },
   {
    "duration": 3,
    "start_time": "2024-11-05T04:01:30.413Z"
   },
   {
    "duration": 13,
    "start_time": "2024-11-05T04:08:55.363Z"
   },
   {
    "duration": 14,
    "start_time": "2024-11-05T04:09:20.408Z"
   },
   {
    "duration": 841,
    "start_time": "2024-11-05T04:11:59.146Z"
   },
   {
    "duration": 139,
    "start_time": "2024-11-05T04:11:59.989Z"
   },
   {
    "duration": 68,
    "start_time": "2024-11-05T04:12:00.130Z"
   },
   {
    "duration": 6,
    "start_time": "2024-11-05T04:12:00.200Z"
   },
   {
    "duration": 13,
    "start_time": "2024-11-05T04:12:00.209Z"
   },
   {
    "duration": 42,
    "start_time": "2024-11-05T04:12:00.225Z"
   },
   {
    "duration": 70,
    "start_time": "2024-11-05T04:12:00.269Z"
   },
   {
    "duration": 10,
    "start_time": "2024-11-05T04:12:00.341Z"
   },
   {
    "duration": 10,
    "start_time": "2024-11-05T04:12:00.353Z"
   },
   {
    "duration": 10,
    "start_time": "2024-11-05T04:12:00.365Z"
   },
   {
    "duration": 36,
    "start_time": "2024-11-05T04:12:00.377Z"
   },
   {
    "duration": 5,
    "start_time": "2024-11-05T04:12:00.415Z"
   },
   {
    "duration": 107,
    "start_time": "2024-11-05T04:12:00.423Z"
   },
   {
    "duration": 12,
    "start_time": "2024-11-05T04:12:00.534Z"
   },
   {
    "duration": 9,
    "start_time": "2024-11-05T04:12:00.549Z"
   },
   {
    "duration": 18,
    "start_time": "2024-11-05T04:12:00.560Z"
   },
   {
    "duration": 178,
    "start_time": "2024-11-05T04:12:00.580Z"
   },
   {
    "duration": 7,
    "start_time": "2024-11-05T04:12:00.760Z"
   },
   {
    "duration": 67,
    "start_time": "2024-11-05T04:12:00.769Z"
   },
   {
    "duration": 170,
    "start_time": "2024-11-05T04:12:00.838Z"
   },
   {
    "duration": 4,
    "start_time": "2024-11-05T04:12:01.010Z"
   },
   {
    "duration": 224,
    "start_time": "2024-11-05T04:12:01.016Z"
   },
   {
    "duration": 9,
    "start_time": "2024-11-05T04:12:01.242Z"
   },
   {
    "duration": 11,
    "start_time": "2024-11-05T04:12:01.253Z"
   },
   {
    "duration": 154,
    "start_time": "2024-11-05T04:12:01.265Z"
   },
   {
    "duration": 13,
    "start_time": "2024-11-05T04:12:01.423Z"
   },
   {
    "duration": 13,
    "start_time": "2024-11-05T04:12:01.438Z"
   },
   {
    "duration": 195,
    "start_time": "2024-11-05T04:12:01.453Z"
   },
   {
    "duration": 5,
    "start_time": "2024-11-05T04:12:01.650Z"
   },
   {
    "duration": 4,
    "start_time": "2024-11-05T04:12:01.657Z"
   },
   {
    "duration": 4,
    "start_time": "2024-11-05T04:12:01.663Z"
   },
   {
    "duration": 11,
    "start_time": "2024-11-05T04:12:01.669Z"
   },
   {
    "duration": 14,
    "start_time": "2024-11-05T04:12:01.706Z"
   },
   {
    "duration": 4,
    "start_time": "2024-11-05T04:12:01.721Z"
   },
   {
    "duration": 6,
    "start_time": "2024-11-05T04:12:01.728Z"
   },
   {
    "duration": 4,
    "start_time": "2024-11-05T04:12:01.736Z"
   },
   {
    "duration": 206,
    "start_time": "2024-11-05T04:12:01.742Z"
   },
   {
    "duration": 19,
    "start_time": "2024-11-05T04:12:01.950Z"
   },
   {
    "duration": 12,
    "start_time": "2024-11-05T04:12:01.971Z"
   },
   {
    "duration": 202,
    "start_time": "2024-11-05T04:12:01.985Z"
   },
   {
    "duration": 3,
    "start_time": "2024-11-05T04:12:02.194Z"
   },
   {
    "duration": 5,
    "start_time": "2024-11-05T04:12:02.205Z"
   },
   {
    "duration": 4,
    "start_time": "2024-11-05T04:12:02.212Z"
   },
   {
    "duration": 4,
    "start_time": "2024-11-05T04:12:02.218Z"
   },
   {
    "duration": 205,
    "start_time": "2024-11-05T04:12:02.224Z"
   },
   {
    "duration": 9,
    "start_time": "2024-11-05T04:12:02.433Z"
   },
   {
    "duration": 8,
    "start_time": "2024-11-05T04:12:02.445Z"
   },
   {
    "duration": 168,
    "start_time": "2024-11-05T04:12:02.456Z"
   },
   {
    "duration": 43,
    "start_time": "2024-11-05T04:12:02.628Z"
   },
   {
    "duration": 6,
    "start_time": "2024-11-05T04:12:02.673Z"
   },
   {
    "duration": 174,
    "start_time": "2024-11-05T04:12:02.681Z"
   },
   {
    "duration": 3,
    "start_time": "2024-11-05T04:12:02.857Z"
   },
   {
    "duration": 6,
    "start_time": "2024-11-05T04:12:02.862Z"
   },
   {
    "duration": 5,
    "start_time": "2024-11-05T04:12:02.869Z"
   },
   {
    "duration": 3,
    "start_time": "2024-11-05T04:12:02.875Z"
   },
   {
    "duration": 208,
    "start_time": "2024-11-05T04:12:02.880Z"
   },
   {
    "duration": 21,
    "start_time": "2024-11-05T04:12:03.090Z"
   },
   {
    "duration": 11,
    "start_time": "2024-11-05T04:12:03.113Z"
   },
   {
    "duration": 9,
    "start_time": "2024-11-05T04:12:03.127Z"
   },
   {
    "duration": 18,
    "start_time": "2024-11-05T04:12:03.138Z"
   },
   {
    "duration": 3,
    "start_time": "2024-11-05T04:12:03.159Z"
   },
   {
    "duration": 11,
    "start_time": "2024-11-05T04:12:03.163Z"
   },
   {
    "duration": 10,
    "start_time": "2024-11-05T04:12:03.178Z"
   },
   {
    "duration": 139,
    "start_time": "2024-11-05T04:12:03.206Z"
   },
   {
    "duration": 56,
    "start_time": "2024-11-05T04:12:03.349Z"
   },
   {
    "duration": 8,
    "start_time": "2024-11-05T04:12:03.407Z"
   },
   {
    "duration": 27,
    "start_time": "2024-11-05T04:12:03.419Z"
   },
   {
    "duration": 8,
    "start_time": "2024-11-05T04:12:03.448Z"
   },
   {
    "duration": 5,
    "start_time": "2024-11-05T04:12:03.458Z"
   },
   {
    "duration": 8,
    "start_time": "2024-11-05T04:12:03.465Z"
   },
   {
    "duration": 89,
    "start_time": "2024-11-05T04:12:03.474Z"
   },
   {
    "duration": 9,
    "start_time": "2024-11-05T04:12:03.566Z"
   },
   {
    "duration": 7,
    "start_time": "2024-11-05T04:12:03.578Z"
   },
   {
    "duration": 18,
    "start_time": "2024-11-05T04:12:03.587Z"
   },
   {
    "duration": 3,
    "start_time": "2024-11-05T04:12:03.607Z"
   },
   {
    "duration": 3,
    "start_time": "2024-11-05T04:12:03.612Z"
   },
   {
    "duration": 4,
    "start_time": "2024-11-05T04:12:03.617Z"
   },
   {
    "duration": 4,
    "start_time": "2024-11-05T04:12:03.623Z"
   },
   {
    "duration": 6,
    "start_time": "2024-11-05T04:12:03.629Z"
   },
   {
    "duration": 7,
    "start_time": "2024-11-05T04:12:03.636Z"
   },
   {
    "duration": 7,
    "start_time": "2024-11-05T04:12:07.374Z"
   },
   {
    "duration": 12,
    "start_time": "2024-11-05T04:16:44.105Z"
   },
   {
    "duration": 862,
    "start_time": "2024-11-05T04:17:55.388Z"
   },
   {
    "duration": 117,
    "start_time": "2024-11-05T04:17:56.253Z"
   },
   {
    "duration": 60,
    "start_time": "2024-11-05T04:17:56.372Z"
   },
   {
    "duration": 3,
    "start_time": "2024-11-05T04:17:56.434Z"
   },
   {
    "duration": 12,
    "start_time": "2024-11-05T04:17:56.439Z"
   },
   {
    "duration": 62,
    "start_time": "2024-11-05T04:17:56.453Z"
   },
   {
    "duration": 43,
    "start_time": "2024-11-05T04:17:56.517Z"
   },
   {
    "duration": 10,
    "start_time": "2024-11-05T04:17:56.563Z"
   },
   {
    "duration": 31,
    "start_time": "2024-11-05T04:17:56.575Z"
   },
   {
    "duration": 13,
    "start_time": "2024-11-05T04:17:56.609Z"
   },
   {
    "duration": 12,
    "start_time": "2024-11-05T04:17:56.624Z"
   },
   {
    "duration": 5,
    "start_time": "2024-11-05T04:17:56.640Z"
   },
   {
    "duration": 95,
    "start_time": "2024-11-05T04:17:56.647Z"
   },
   {
    "duration": 10,
    "start_time": "2024-11-05T04:17:56.745Z"
   },
   {
    "duration": 9,
    "start_time": "2024-11-05T04:17:56.757Z"
   },
   {
    "duration": 41,
    "start_time": "2024-11-05T04:17:56.768Z"
   },
   {
    "duration": 188,
    "start_time": "2024-11-05T04:17:56.811Z"
   },
   {
    "duration": 7,
    "start_time": "2024-11-05T04:17:57.005Z"
   },
   {
    "duration": 37,
    "start_time": "2024-11-05T04:17:57.013Z"
   },
   {
    "duration": 176,
    "start_time": "2024-11-05T04:17:57.052Z"
   },
   {
    "duration": 4,
    "start_time": "2024-11-05T04:17:57.230Z"
   },
   {
    "duration": 241,
    "start_time": "2024-11-05T04:17:57.236Z"
   },
   {
    "duration": 5,
    "start_time": "2024-11-05T04:17:57.479Z"
   },
   {
    "duration": 4,
    "start_time": "2024-11-05T04:17:57.486Z"
   },
   {
    "duration": 130,
    "start_time": "2024-11-05T04:17:57.506Z"
   },
   {
    "duration": 12,
    "start_time": "2024-11-05T04:17:57.638Z"
   },
   {
    "duration": 14,
    "start_time": "2024-11-05T04:17:57.653Z"
   },
   {
    "duration": 206,
    "start_time": "2024-11-05T04:17:57.669Z"
   },
   {
    "duration": 6,
    "start_time": "2024-11-05T04:17:57.877Z"
   },
   {
    "duration": 3,
    "start_time": "2024-11-05T04:17:57.885Z"
   },
   {
    "duration": 3,
    "start_time": "2024-11-05T04:17:57.905Z"
   },
   {
    "duration": 11,
    "start_time": "2024-11-05T04:17:57.910Z"
   },
   {
    "duration": 11,
    "start_time": "2024-11-05T04:17:57.923Z"
   },
   {
    "duration": 3,
    "start_time": "2024-11-05T04:17:57.936Z"
   },
   {
    "duration": 6,
    "start_time": "2024-11-05T04:17:57.941Z"
   },
   {
    "duration": 4,
    "start_time": "2024-11-05T04:17:57.949Z"
   },
   {
    "duration": 212,
    "start_time": "2024-11-05T04:17:57.954Z"
   },
   {
    "duration": 23,
    "start_time": "2024-11-05T04:17:58.168Z"
   },
   {
    "duration": 21,
    "start_time": "2024-11-05T04:17:58.193Z"
   },
   {
    "duration": 210,
    "start_time": "2024-11-05T04:17:58.215Z"
   },
   {
    "duration": 2,
    "start_time": "2024-11-05T04:17:58.432Z"
   },
   {
    "duration": 5,
    "start_time": "2024-11-05T04:17:58.436Z"
   },
   {
    "duration": 3,
    "start_time": "2024-11-05T04:17:58.443Z"
   },
   {
    "duration": 3,
    "start_time": "2024-11-05T04:17:58.447Z"
   },
   {
    "duration": 201,
    "start_time": "2024-11-05T04:17:58.453Z"
   },
   {
    "duration": 6,
    "start_time": "2024-11-05T04:17:58.656Z"
   },
   {
    "duration": 3,
    "start_time": "2024-11-05T04:17:58.663Z"
   },
   {
    "duration": 177,
    "start_time": "2024-11-05T04:17:58.668Z"
   },
   {
    "duration": 43,
    "start_time": "2024-11-05T04:17:58.847Z"
   },
   {
    "duration": 18,
    "start_time": "2024-11-05T04:17:58.891Z"
   },
   {
    "duration": 166,
    "start_time": "2024-11-05T04:17:58.910Z"
   },
   {
    "duration": 4,
    "start_time": "2024-11-05T04:17:59.078Z"
   },
   {
    "duration": 21,
    "start_time": "2024-11-05T04:17:59.084Z"
   },
   {
    "duration": 6,
    "start_time": "2024-11-05T04:17:59.106Z"
   },
   {
    "duration": 3,
    "start_time": "2024-11-05T04:17:59.114Z"
   },
   {
    "duration": 222,
    "start_time": "2024-11-05T04:17:59.119Z"
   },
   {
    "duration": 9,
    "start_time": "2024-11-05T04:17:59.343Z"
   },
   {
    "duration": 11,
    "start_time": "2024-11-05T04:17:59.354Z"
   },
   {
    "duration": 9,
    "start_time": "2024-11-05T04:17:59.366Z"
   },
   {
    "duration": 48,
    "start_time": "2024-11-05T04:17:59.377Z"
   },
   {
    "duration": 5,
    "start_time": "2024-11-05T04:17:59.428Z"
   },
   {
    "duration": 3,
    "start_time": "2024-11-05T04:17:59.435Z"
   },
   {
    "duration": 8,
    "start_time": "2024-11-05T04:17:59.440Z"
   },
   {
    "duration": 173,
    "start_time": "2024-11-05T04:17:59.450Z"
   },
   {
    "duration": 37,
    "start_time": "2024-11-05T04:17:59.626Z"
   },
   {
    "duration": 7,
    "start_time": "2024-11-05T04:17:59.665Z"
   },
   {
    "duration": 43,
    "start_time": "2024-11-05T04:17:59.674Z"
   },
   {
    "duration": 7,
    "start_time": "2024-11-05T04:17:59.719Z"
   },
   {
    "duration": 6,
    "start_time": "2024-11-05T04:17:59.727Z"
   },
   {
    "duration": 11,
    "start_time": "2024-11-05T04:17:59.735Z"
   },
   {
    "duration": 85,
    "start_time": "2024-11-05T04:17:59.748Z"
   },
   {
    "duration": 11,
    "start_time": "2024-11-05T04:17:59.835Z"
   },
   {
    "duration": 6,
    "start_time": "2024-11-05T04:17:59.848Z"
   },
   {
    "duration": 5,
    "start_time": "2024-11-05T04:17:59.856Z"
   },
   {
    "duration": 4,
    "start_time": "2024-11-05T04:17:59.863Z"
   },
   {
    "duration": 3,
    "start_time": "2024-11-05T04:17:59.869Z"
   },
   {
    "duration": 31,
    "start_time": "2024-11-05T04:17:59.874Z"
   },
   {
    "duration": 5,
    "start_time": "2024-11-05T04:17:59.907Z"
   },
   {
    "duration": 7,
    "start_time": "2024-11-05T04:17:59.914Z"
   },
   {
    "duration": 6,
    "start_time": "2024-11-05T04:17:59.922Z"
   },
   {
    "duration": 10,
    "start_time": "2024-11-05T04:17:59.930Z"
   },
   {
    "duration": 4,
    "start_time": "2024-11-05T04:17:59.942Z"
   },
   {
    "duration": 4,
    "start_time": "2024-11-05T04:17:59.948Z"
   },
   {
    "duration": 7,
    "start_time": "2024-11-05T04:17:59.954Z"
   },
   {
    "duration": 3,
    "start_time": "2024-11-05T04:17:59.963Z"
   },
   {
    "duration": 3,
    "start_time": "2024-11-05T04:17:59.968Z"
   },
   {
    "duration": 4,
    "start_time": "2024-11-05T04:18:00.004Z"
   },
   {
    "duration": 3,
    "start_time": "2024-11-05T04:18:00.009Z"
   },
   {
    "duration": 3,
    "start_time": "2024-11-05T04:18:00.013Z"
   },
   {
    "duration": 3,
    "start_time": "2024-11-05T04:18:00.018Z"
   },
   {
    "duration": 3,
    "start_time": "2024-11-05T04:18:00.023Z"
   },
   {
    "duration": 4,
    "start_time": "2024-11-05T04:18:00.027Z"
   },
   {
    "duration": 3,
    "start_time": "2024-11-05T04:18:00.033Z"
   },
   {
    "duration": 4,
    "start_time": "2024-11-05T04:18:00.038Z"
   },
   {
    "duration": 69,
    "start_time": "2024-11-05T04:18:00.043Z"
   },
   {
    "duration": 16,
    "start_time": "2024-11-05T04:18:00.114Z"
   },
   {
    "duration": 5,
    "start_time": "2024-11-05T04:18:00.132Z"
   },
   {
    "duration": 40,
    "start_time": "2024-11-05T04:18:00.139Z"
   },
   {
    "duration": 60,
    "start_time": "2024-11-05T04:18:00.181Z"
   },
   {
    "duration": 51,
    "start_time": "2024-11-05T04:18:00.243Z"
   },
   {
    "duration": 40,
    "start_time": "2024-11-05T04:18:00.306Z"
   },
   {
    "duration": 57,
    "start_time": "2024-11-05T04:18:00.348Z"
   },
   {
    "duration": 2,
    "start_time": "2024-11-05T04:18:00.407Z"
   },
   {
    "duration": 7,
    "start_time": "2024-11-05T04:18:00.412Z"
   },
   {
    "duration": 17,
    "start_time": "2024-11-05T04:18:00.421Z"
   },
   {
    "duration": 8,
    "start_time": "2024-11-05T04:18:00.440Z"
   },
   {
    "duration": 3,
    "start_time": "2024-11-05T04:18:00.450Z"
   },
   {
    "duration": 7,
    "start_time": "2024-11-05T04:18:00.455Z"
   },
   {
    "duration": 3,
    "start_time": "2024-11-05T04:18:00.464Z"
   },
   {
    "duration": 40,
    "start_time": "2024-11-05T04:18:00.469Z"
   },
   {
    "duration": 6,
    "start_time": "2024-11-05T04:35:47.829Z"
   },
   {
    "duration": 6,
    "start_time": "2024-11-05T04:35:57.930Z"
   },
   {
    "duration": 3280,
    "start_time": "2024-11-06T02:47:37.335Z"
   },
   {
    "duration": 167,
    "start_time": "2024-11-06T02:47:40.617Z"
   },
   {
    "duration": 60,
    "start_time": "2024-11-06T02:47:40.786Z"
   },
   {
    "duration": 4,
    "start_time": "2024-11-06T02:47:40.851Z"
   },
   {
    "duration": 18,
    "start_time": "2024-11-06T02:47:40.858Z"
   },
   {
    "duration": 47,
    "start_time": "2024-11-06T02:47:40.879Z"
   },
   {
    "duration": 66,
    "start_time": "2024-11-06T02:47:40.928Z"
   },
   {
    "duration": 12,
    "start_time": "2024-11-06T02:47:40.997Z"
   },
   {
    "duration": 17,
    "start_time": "2024-11-06T02:47:41.011Z"
   },
   {
    "duration": 12,
    "start_time": "2024-11-06T02:47:41.035Z"
   },
   {
    "duration": 18,
    "start_time": "2024-11-06T02:47:41.052Z"
   },
   {
    "duration": 5,
    "start_time": "2024-11-06T02:47:41.073Z"
   },
   {
    "duration": 105,
    "start_time": "2024-11-06T02:47:41.081Z"
   },
   {
    "duration": 16,
    "start_time": "2024-11-06T02:47:41.188Z"
   },
   {
    "duration": 18,
    "start_time": "2024-11-06T02:47:41.206Z"
   },
   {
    "duration": 34,
    "start_time": "2024-11-06T02:47:41.225Z"
   },
   {
    "duration": 198,
    "start_time": "2024-11-06T02:47:41.264Z"
   },
   {
    "duration": 8,
    "start_time": "2024-11-06T02:47:41.468Z"
   },
   {
    "duration": 35,
    "start_time": "2024-11-06T02:47:41.478Z"
   },
   {
    "duration": 187,
    "start_time": "2024-11-06T02:47:41.524Z"
   },
   {
    "duration": 4,
    "start_time": "2024-11-06T02:47:41.713Z"
   },
   {
    "duration": 191,
    "start_time": "2024-11-06T02:47:41.724Z"
   },
   {
    "duration": 12,
    "start_time": "2024-11-06T02:47:41.916Z"
   },
   {
    "duration": 6,
    "start_time": "2024-11-06T02:47:41.933Z"
   },
   {
    "duration": 180,
    "start_time": "2024-11-06T02:47:41.940Z"
   },
   {
    "duration": 20,
    "start_time": "2024-11-06T02:47:42.124Z"
   },
   {
    "duration": 21,
    "start_time": "2024-11-06T02:47:42.151Z"
   },
   {
    "duration": 256,
    "start_time": "2024-11-06T02:47:42.178Z"
   },
   {
    "duration": 12,
    "start_time": "2024-11-06T02:47:42.436Z"
   },
   {
    "duration": 12,
    "start_time": "2024-11-06T02:47:42.450Z"
   },
   {
    "duration": 9,
    "start_time": "2024-11-06T02:47:42.467Z"
   },
   {
    "duration": 10,
    "start_time": "2024-11-06T02:47:42.477Z"
   },
   {
    "duration": 10,
    "start_time": "2024-11-06T02:47:42.489Z"
   },
   {
    "duration": 2,
    "start_time": "2024-11-06T02:47:42.501Z"
   },
   {
    "duration": 25,
    "start_time": "2024-11-06T02:47:42.505Z"
   },
   {
    "duration": 5,
    "start_time": "2024-11-06T02:47:42.531Z"
   },
   {
    "duration": 258,
    "start_time": "2024-11-06T02:47:42.537Z"
   },
   {
    "duration": 28,
    "start_time": "2024-11-06T02:47:42.797Z"
   },
   {
    "duration": 20,
    "start_time": "2024-11-06T02:47:42.830Z"
   },
   {
    "duration": 172,
    "start_time": "2024-11-06T02:47:42.856Z"
   },
   {
    "duration": 3,
    "start_time": "2024-11-06T02:47:43.030Z"
   },
   {
    "duration": 6,
    "start_time": "2024-11-06T02:47:43.035Z"
   },
   {
    "duration": 4,
    "start_time": "2024-11-06T02:47:43.043Z"
   },
   {
    "duration": 3,
    "start_time": "2024-11-06T02:47:43.049Z"
   },
   {
    "duration": 246,
    "start_time": "2024-11-06T02:47:43.053Z"
   },
   {
    "duration": 5,
    "start_time": "2024-11-06T02:47:43.302Z"
   },
   {
    "duration": 4,
    "start_time": "2024-11-06T02:47:43.309Z"
   },
   {
    "duration": 187,
    "start_time": "2024-11-06T02:47:43.326Z"
   },
   {
    "duration": 50,
    "start_time": "2024-11-06T02:47:43.515Z"
   },
   {
    "duration": 6,
    "start_time": "2024-11-06T02:47:43.567Z"
   },
   {
    "duration": 203,
    "start_time": "2024-11-06T02:47:43.575Z"
   },
   {
    "duration": 5,
    "start_time": "2024-11-06T02:47:43.780Z"
   },
   {
    "duration": 5,
    "start_time": "2024-11-06T02:47:43.788Z"
   },
   {
    "duration": 3,
    "start_time": "2024-11-06T02:47:43.795Z"
   },
   {
    "duration": 3,
    "start_time": "2024-11-06T02:47:43.800Z"
   },
   {
    "duration": 233,
    "start_time": "2024-11-06T02:47:43.804Z"
   },
   {
    "duration": 11,
    "start_time": "2024-11-06T02:47:44.039Z"
   },
   {
    "duration": 11,
    "start_time": "2024-11-06T02:47:44.052Z"
   },
   {
    "duration": 12,
    "start_time": "2024-11-06T02:47:44.065Z"
   },
   {
    "duration": 45,
    "start_time": "2024-11-06T02:47:44.079Z"
   },
   {
    "duration": 2,
    "start_time": "2024-11-06T02:47:44.126Z"
   },
   {
    "duration": 8,
    "start_time": "2024-11-06T02:47:44.130Z"
   },
   {
    "duration": 13,
    "start_time": "2024-11-06T02:47:44.140Z"
   },
   {
    "duration": 154,
    "start_time": "2024-11-06T02:47:44.155Z"
   },
   {
    "duration": 65,
    "start_time": "2024-11-06T02:47:44.311Z"
   },
   {
    "duration": 6,
    "start_time": "2024-11-06T02:47:44.378Z"
   },
   {
    "duration": 26,
    "start_time": "2024-11-06T02:47:44.386Z"
   },
   {
    "duration": 7,
    "start_time": "2024-11-06T02:47:44.423Z"
   },
   {
    "duration": 7,
    "start_time": "2024-11-06T02:47:44.432Z"
   },
   {
    "duration": 12,
    "start_time": "2024-11-06T02:47:44.440Z"
   },
   {
    "duration": 73,
    "start_time": "2024-11-06T02:47:44.455Z"
   },
   {
    "duration": 13,
    "start_time": "2024-11-06T02:47:44.530Z"
   },
   {
    "duration": 10,
    "start_time": "2024-11-06T02:47:44.545Z"
   },
   {
    "duration": 5,
    "start_time": "2024-11-06T02:47:44.557Z"
   },
   {
    "duration": 5,
    "start_time": "2024-11-06T02:47:44.563Z"
   },
   {
    "duration": 3,
    "start_time": "2024-11-06T02:47:44.571Z"
   },
   {
    "duration": 4,
    "start_time": "2024-11-06T02:47:44.576Z"
   },
   {
    "duration": 4,
    "start_time": "2024-11-06T02:47:44.582Z"
   },
   {
    "duration": 5,
    "start_time": "2024-11-06T02:47:44.587Z"
   },
   {
    "duration": 32,
    "start_time": "2024-11-06T02:47:44.594Z"
   },
   {
    "duration": 9,
    "start_time": "2024-11-06T02:47:44.628Z"
   },
   {
    "duration": 4,
    "start_time": "2024-11-06T02:47:44.648Z"
   },
   {
    "duration": 3,
    "start_time": "2024-11-06T02:47:44.654Z"
   },
   {
    "duration": 7,
    "start_time": "2024-11-06T02:47:44.659Z"
   },
   {
    "duration": 3,
    "start_time": "2024-11-06T02:47:44.668Z"
   },
   {
    "duration": 3,
    "start_time": "2024-11-06T02:47:44.673Z"
   },
   {
    "duration": 3,
    "start_time": "2024-11-06T02:47:44.677Z"
   },
   {
    "duration": 42,
    "start_time": "2024-11-06T02:47:44.682Z"
   },
   {
    "duration": 4,
    "start_time": "2024-11-06T02:47:44.726Z"
   },
   {
    "duration": 4,
    "start_time": "2024-11-06T02:47:44.731Z"
   },
   {
    "duration": 4,
    "start_time": "2024-11-06T02:47:44.737Z"
   },
   {
    "duration": 8,
    "start_time": "2024-11-06T02:47:44.743Z"
   },
   {
    "duration": 4,
    "start_time": "2024-11-06T02:47:44.752Z"
   },
   {
    "duration": 4,
    "start_time": "2024-11-06T02:47:44.758Z"
   },
   {
    "duration": 21,
    "start_time": "2024-11-06T02:47:44.764Z"
   },
   {
    "duration": 54,
    "start_time": "2024-11-06T02:47:44.786Z"
   },
   {
    "duration": 6,
    "start_time": "2024-11-06T02:47:44.842Z"
   },
   {
    "duration": 45,
    "start_time": "2024-11-06T02:47:44.850Z"
   },
   {
    "duration": 61,
    "start_time": "2024-11-06T02:47:44.897Z"
   },
   {
    "duration": 44,
    "start_time": "2024-11-06T02:47:44.960Z"
   },
   {
    "duration": 63,
    "start_time": "2024-11-06T02:47:45.006Z"
   },
   {
    "duration": 32,
    "start_time": "2024-11-06T02:47:45.072Z"
   },
   {
    "duration": 19,
    "start_time": "2024-11-06T02:47:45.106Z"
   },
   {
    "duration": 8,
    "start_time": "2024-11-06T02:47:45.127Z"
   },
   {
    "duration": 25,
    "start_time": "2024-11-06T02:47:45.137Z"
   },
   {
    "duration": 6,
    "start_time": "2024-11-06T02:47:45.164Z"
   },
   {
    "duration": 6,
    "start_time": "2024-11-06T02:47:45.171Z"
   },
   {
    "duration": 4,
    "start_time": "2024-11-06T02:47:45.178Z"
   },
   {
    "duration": 5,
    "start_time": "2024-11-06T02:47:45.184Z"
   },
   {
    "duration": 34,
    "start_time": "2024-11-06T02:47:45.191Z"
   },
   {
    "duration": 8,
    "start_time": "2024-11-06T02:47:45.227Z"
   },
   {
    "duration": 6,
    "start_time": "2024-11-06T02:47:53.840Z"
   },
   {
    "duration": 52,
    "start_time": "2024-11-06T02:47:55.317Z"
   },
   {
    "duration": 48,
    "start_time": "2024-11-06T02:48:07.741Z"
   },
   {
    "duration": 43,
    "start_time": "2024-11-06T02:48:08.756Z"
   },
   {
    "duration": 46,
    "start_time": "2024-11-06T02:48:09.514Z"
   },
   {
    "duration": 41,
    "start_time": "2024-11-06T02:48:13.207Z"
   },
   {
    "duration": 4,
    "start_time": "2024-11-06T02:48:42.131Z"
   },
   {
    "duration": 5,
    "start_time": "2024-11-06T02:48:43.247Z"
   },
   {
    "duration": 24,
    "start_time": "2024-11-06T02:48:51.424Z"
   }
  ],
  "kernelspec": {
   "display_name": "Python 3",
   "language": "python",
   "name": "python3"
  },
  "language_info": {
   "codemirror_mode": {
    "name": "ipython",
    "version": 3
   },
   "file_extension": ".py",
   "mimetype": "text/x-python",
   "name": "python",
   "nbconvert_exporter": "python",
   "pygments_lexer": "ipython3",
   "version": "3.11.9"
  },
  "toc": {
   "base_numbering": 1,
   "nav_menu": {},
   "number_sections": true,
   "sideBar": true,
   "skip_h1_title": true,
   "title_cell": "Table of Contents",
   "title_sidebar": "Contents",
   "toc_cell": false,
   "toc_position": {
    "height": "calc(100% - 180px)",
    "left": "10px",
    "top": "150px",
    "width": "338.212px"
   },
   "toc_section_display": true,
   "toc_window_display": false
  }
 },
 "nbformat": 4,
 "nbformat_minor": 2
}
