{
 "cells": [
  {
   "cell_type": "markdown",
   "metadata": {},
   "source": [
    "# Proyecto final - SQL"
   ]
  },
  {
   "cell_type": "markdown",
   "metadata": {},
   "source": [
    "## Descripción del proyecto \n",
    "El coronavirus tomó al mundo entero por sorpresa, cambiando la rutina diaria de todos y todas. Los habitantes de las ciudades ya no pasaban su tiempo libre fuera, yendo a cafés y centros comerciales; sino que más gente se quedaba en casa, leyendo libros. Eso atrajo la atención de las startups (empresas emergentes) que se apresuraron a desarrollar nuevas aplicaciones para los amantes de los libros.\n",
    "\n",
    "Te han dado una base de datos de uno de los servicios que compiten en este mercado. Contiene datos sobre libros, editoriales, autores y calificaciones de clientes y reseñas de libros. Esta información se utilizará para generar una propuesta de valor para un nuevo producto."
   ]
  },
  {
   "cell_type": "markdown",
   "metadata": {},
   "source": [
    "## Diccionario de datos\n",
    "\n",
    "**`books`**\n",
    "\n",
    "Contiene datos sobre libros:\n",
    "\n",
    "- `book_id`: identificación del libro\n",
    "- `author_id`: identificación del autor o autora\n",
    "- `title`: título\n",
    "- `num_pages`: número de páginas\n",
    "- `publication_date`: fecha de la publicación\n",
    "- `publisher_id`: identificación de la editorial\n",
    "\n",
    "**`authors`**\n",
    "\n",
    "Contiene datos sobre autores:\n",
    "\n",
    "- `author_id`: identificación del autor o autora\n",
    "- `author`: el autor o la autora\n",
    "\n",
    "- `author`: el autor o la autora\n",
    "\n",
    "**`publishers`**\n",
    "\n",
    "Contiene datos sobre editoriales:\n",
    "\n",
    "- `publisher_id`: identificación de la editorial\n",
    "- `publisher`: la editorial\n",
    "\n",
    "**`ratings`**\n",
    "\n",
    "Contiene datos sobre las calificaciones de usuarios:\n",
    "\n",
    "- `rating_id`: identificación de la calificación\n",
    "- `book_id`: identificación del libro\n",
    "- `username`: el nombre del usuario que revisó el libro\n",
    "- `rating`: calificación\n",
    "\n",
    "**`reviews`**\n",
    "\n",
    "Contiene datos sobre las reseñas de los y las clientes:\n",
    "\n",
    "- `review_id` — identificación de la reseña\n",
    "- `book_id` — identificación del libro\n",
    "- `username` — el nombre del usuario que revisó el libro\n",
    "- `text` — el texto de la reseña\n"
   ]
  },
  {
   "cell_type": "markdown",
   "metadata": {},
   "source": [
    "## Conexión a la base de datos"
   ]
  },
  {
   "cell_type": "code",
   "execution_count": 2,
   "metadata": {},
   "outputs": [],
   "source": [
    "# importar librerías\n",
    "import pandas as pd\n",
    "from sqlalchemy import create_engine\n",
    "\n",
    "\n",
    "db_config = {'user': 'practicum_student',         # nombre de usuario\n",
    "             'pwd': 's65BlTKV3faNIGhmvJVzOqhs', # contraseña\n",
    "             'host': 'rc1b-wcoijxj3yxfsf3fs.mdb.yandexcloud.net',\n",
    "             'port': 6432,              # puerto de conexión\n",
    "             'db': 'data-analyst-final-project-db'}          # nombre de la base de datos\n",
    "\n",
    "connection_string = 'postgresql://{}:{}@{}:{}/{}'.format(db_config['user'],\n",
    "                                                                     db_config['pwd'],\n",
    "                                                                       db_config['host'],\n",
    "                                                                       db_config['port'],\n",
    "                                                                       db_config['db'])\n",
    "\n",
    "engine = create_engine(connection_string, connect_args={'sslmode':'require'})"
   ]
  },
  {
   "cell_type": "markdown",
   "metadata": {},
   "source": [
    "### funciones"
   ]
  },
  {
   "cell_type": "code",
   "execution_count": 3,
   "metadata": {},
   "outputs": [],
   "source": [
    "# funcion para explorar las tablas\n",
    "def explorar_tabla(nombre_tabla, limite=5):\n",
    "    try:\n",
    "        consulta = f\"SELECT * FROM {nombre_tabla} LIMIT {limite};\"\n",
    "        raw_data = pd.read_sql(consulta, con=engine)\n",
    "        return raw_data\n",
    "    except Exception as e:\n",
    "        print(f\"Error al explorar la tabla {nombre_tabla}: {e}\")\n",
    "        return None"
   ]
  },
  {
   "cell_type": "code",
   "execution_count": 4,
   "metadata": {},
   "outputs": [],
   "source": [
    "# funcion para imprimir los resultados de la consulta \n",
    "def imprimir_resultados(consulta):\n",
    "    try:\n",
    "        resultados = pd.read_sql(consulta, con=engine)\n",
    "        print(resultados)\n",
    "    except Exception as e:\n",
    "        print(f\"Error al ejecutar la consulta: {e}\")"
   ]
  },
  {
   "cell_type": "markdown",
   "metadata": {},
   "source": [
    "## Estudiar tablas (imprimir primeras filas)"
   ]
  },
  {
   "cell_type": "markdown",
   "metadata": {},
   "source": [
    "### Tabla books"
   ]
  },
  {
   "cell_type": "code",
   "execution_count": 5,
   "metadata": {},
   "outputs": [
    {
     "data": {
      "text/html": [
       "<div>\n",
       "<style scoped>\n",
       "    .dataframe tbody tr th:only-of-type {\n",
       "        vertical-align: middle;\n",
       "    }\n",
       "\n",
       "    .dataframe tbody tr th {\n",
       "        vertical-align: top;\n",
       "    }\n",
       "\n",
       "    .dataframe thead th {\n",
       "        text-align: right;\n",
       "    }\n",
       "</style>\n",
       "<table border=\"1\" class=\"dataframe\">\n",
       "  <thead>\n",
       "    <tr style=\"text-align: right;\">\n",
       "      <th></th>\n",
       "      <th>book_id</th>\n",
       "      <th>author_id</th>\n",
       "      <th>title</th>\n",
       "      <th>num_pages</th>\n",
       "      <th>publication_date</th>\n",
       "      <th>publisher_id</th>\n",
       "    </tr>\n",
       "  </thead>\n",
       "  <tbody>\n",
       "    <tr>\n",
       "      <th>0</th>\n",
       "      <td>1</td>\n",
       "      <td>546</td>\n",
       "      <td>'Salem's Lot</td>\n",
       "      <td>594</td>\n",
       "      <td>2005-11-01</td>\n",
       "      <td>93</td>\n",
       "    </tr>\n",
       "    <tr>\n",
       "      <th>1</th>\n",
       "      <td>2</td>\n",
       "      <td>465</td>\n",
       "      <td>1 000 Places to See Before You Die</td>\n",
       "      <td>992</td>\n",
       "      <td>2003-05-22</td>\n",
       "      <td>336</td>\n",
       "    </tr>\n",
       "    <tr>\n",
       "      <th>2</th>\n",
       "      <td>3</td>\n",
       "      <td>407</td>\n",
       "      <td>13 Little Blue Envelopes (Little Blue Envelope...</td>\n",
       "      <td>322</td>\n",
       "      <td>2010-12-21</td>\n",
       "      <td>135</td>\n",
       "    </tr>\n",
       "    <tr>\n",
       "      <th>3</th>\n",
       "      <td>4</td>\n",
       "      <td>82</td>\n",
       "      <td>1491: New Revelations of the Americas Before C...</td>\n",
       "      <td>541</td>\n",
       "      <td>2006-10-10</td>\n",
       "      <td>309</td>\n",
       "    </tr>\n",
       "    <tr>\n",
       "      <th>4</th>\n",
       "      <td>5</td>\n",
       "      <td>125</td>\n",
       "      <td>1776</td>\n",
       "      <td>386</td>\n",
       "      <td>2006-07-04</td>\n",
       "      <td>268</td>\n",
       "    </tr>\n",
       "  </tbody>\n",
       "</table>\n",
       "</div>"
      ],
      "text/plain": [
       "   book_id  author_id                                              title  \\\n",
       "0        1        546                                       'Salem's Lot   \n",
       "1        2        465                 1 000 Places to See Before You Die   \n",
       "2        3        407  13 Little Blue Envelopes (Little Blue Envelope...   \n",
       "3        4         82  1491: New Revelations of the Americas Before C...   \n",
       "4        5        125                                               1776   \n",
       "\n",
       "   num_pages publication_date  publisher_id  \n",
       "0        594       2005-11-01            93  \n",
       "1        992       2003-05-22           336  \n",
       "2        322       2010-12-21           135  \n",
       "3        541       2006-10-10           309  \n",
       "4        386       2006-07-04           268  "
      ]
     },
     "execution_count": 5,
     "metadata": {},
     "output_type": "execute_result"
    }
   ],
   "source": [
    "books = 'books'\n",
    "explorar_tabla(books)"
   ]
  },
  {
   "cell_type": "markdown",
   "metadata": {},
   "source": [
    "### Tabla authors"
   ]
  },
  {
   "cell_type": "code",
   "execution_count": 6,
   "metadata": {},
   "outputs": [
    {
     "data": {
      "text/html": [
       "<div>\n",
       "<style scoped>\n",
       "    .dataframe tbody tr th:only-of-type {\n",
       "        vertical-align: middle;\n",
       "    }\n",
       "\n",
       "    .dataframe tbody tr th {\n",
       "        vertical-align: top;\n",
       "    }\n",
       "\n",
       "    .dataframe thead th {\n",
       "        text-align: right;\n",
       "    }\n",
       "</style>\n",
       "<table border=\"1\" class=\"dataframe\">\n",
       "  <thead>\n",
       "    <tr style=\"text-align: right;\">\n",
       "      <th></th>\n",
       "      <th>author_id</th>\n",
       "      <th>author</th>\n",
       "    </tr>\n",
       "  </thead>\n",
       "  <tbody>\n",
       "    <tr>\n",
       "      <th>0</th>\n",
       "      <td>1</td>\n",
       "      <td>A.S. Byatt</td>\n",
       "    </tr>\n",
       "    <tr>\n",
       "      <th>1</th>\n",
       "      <td>2</td>\n",
       "      <td>Aesop/Laura Harris/Laura Gibbs</td>\n",
       "    </tr>\n",
       "    <tr>\n",
       "      <th>2</th>\n",
       "      <td>3</td>\n",
       "      <td>Agatha Christie</td>\n",
       "    </tr>\n",
       "    <tr>\n",
       "      <th>3</th>\n",
       "      <td>4</td>\n",
       "      <td>Alan Brennert</td>\n",
       "    </tr>\n",
       "    <tr>\n",
       "      <th>4</th>\n",
       "      <td>5</td>\n",
       "      <td>Alan Moore/David   Lloyd</td>\n",
       "    </tr>\n",
       "  </tbody>\n",
       "</table>\n",
       "</div>"
      ],
      "text/plain": [
       "   author_id                          author\n",
       "0          1                      A.S. Byatt\n",
       "1          2  Aesop/Laura Harris/Laura Gibbs\n",
       "2          3                 Agatha Christie\n",
       "3          4                   Alan Brennert\n",
       "4          5        Alan Moore/David   Lloyd"
      ]
     },
     "execution_count": 6,
     "metadata": {},
     "output_type": "execute_result"
    }
   ],
   "source": [
    "authors = 'authors'\n",
    "explorar_tabla(authors)"
   ]
  },
  {
   "cell_type": "markdown",
   "metadata": {},
   "source": [
    "### Tabla publishers"
   ]
  },
  {
   "cell_type": "code",
   "execution_count": 7,
   "metadata": {},
   "outputs": [
    {
     "data": {
      "text/html": [
       "<div>\n",
       "<style scoped>\n",
       "    .dataframe tbody tr th:only-of-type {\n",
       "        vertical-align: middle;\n",
       "    }\n",
       "\n",
       "    .dataframe tbody tr th {\n",
       "        vertical-align: top;\n",
       "    }\n",
       "\n",
       "    .dataframe thead th {\n",
       "        text-align: right;\n",
       "    }\n",
       "</style>\n",
       "<table border=\"1\" class=\"dataframe\">\n",
       "  <thead>\n",
       "    <tr style=\"text-align: right;\">\n",
       "      <th></th>\n",
       "      <th>publisher_id</th>\n",
       "      <th>publisher</th>\n",
       "    </tr>\n",
       "  </thead>\n",
       "  <tbody>\n",
       "    <tr>\n",
       "      <th>0</th>\n",
       "      <td>1</td>\n",
       "      <td>Ace</td>\n",
       "    </tr>\n",
       "    <tr>\n",
       "      <th>1</th>\n",
       "      <td>2</td>\n",
       "      <td>Ace Book</td>\n",
       "    </tr>\n",
       "    <tr>\n",
       "      <th>2</th>\n",
       "      <td>3</td>\n",
       "      <td>Ace Books</td>\n",
       "    </tr>\n",
       "    <tr>\n",
       "      <th>3</th>\n",
       "      <td>4</td>\n",
       "      <td>Ace Hardcover</td>\n",
       "    </tr>\n",
       "    <tr>\n",
       "      <th>4</th>\n",
       "      <td>5</td>\n",
       "      <td>Addison Wesley Publishing Company</td>\n",
       "    </tr>\n",
       "  </tbody>\n",
       "</table>\n",
       "</div>"
      ],
      "text/plain": [
       "   publisher_id                          publisher\n",
       "0             1                                Ace\n",
       "1             2                           Ace Book\n",
       "2             3                          Ace Books\n",
       "3             4                      Ace Hardcover\n",
       "4             5  Addison Wesley Publishing Company"
      ]
     },
     "execution_count": 7,
     "metadata": {},
     "output_type": "execute_result"
    }
   ],
   "source": [
    "publishers = 'publishers'\n",
    "explorar_tabla(publishers)"
   ]
  },
  {
   "cell_type": "markdown",
   "metadata": {},
   "source": [
    "### Tabla ratings "
   ]
  },
  {
   "cell_type": "code",
   "execution_count": 8,
   "metadata": {},
   "outputs": [
    {
     "data": {
      "text/html": [
       "<div>\n",
       "<style scoped>\n",
       "    .dataframe tbody tr th:only-of-type {\n",
       "        vertical-align: middle;\n",
       "    }\n",
       "\n",
       "    .dataframe tbody tr th {\n",
       "        vertical-align: top;\n",
       "    }\n",
       "\n",
       "    .dataframe thead th {\n",
       "        text-align: right;\n",
       "    }\n",
       "</style>\n",
       "<table border=\"1\" class=\"dataframe\">\n",
       "  <thead>\n",
       "    <tr style=\"text-align: right;\">\n",
       "      <th></th>\n",
       "      <th>rating_id</th>\n",
       "      <th>book_id</th>\n",
       "      <th>username</th>\n",
       "      <th>rating</th>\n",
       "    </tr>\n",
       "  </thead>\n",
       "  <tbody>\n",
       "    <tr>\n",
       "      <th>0</th>\n",
       "      <td>1</td>\n",
       "      <td>1</td>\n",
       "      <td>ryanfranco</td>\n",
       "      <td>4</td>\n",
       "    </tr>\n",
       "    <tr>\n",
       "      <th>1</th>\n",
       "      <td>2</td>\n",
       "      <td>1</td>\n",
       "      <td>grantpatricia</td>\n",
       "      <td>2</td>\n",
       "    </tr>\n",
       "    <tr>\n",
       "      <th>2</th>\n",
       "      <td>3</td>\n",
       "      <td>1</td>\n",
       "      <td>brandtandrea</td>\n",
       "      <td>5</td>\n",
       "    </tr>\n",
       "    <tr>\n",
       "      <th>3</th>\n",
       "      <td>4</td>\n",
       "      <td>2</td>\n",
       "      <td>lorichen</td>\n",
       "      <td>3</td>\n",
       "    </tr>\n",
       "    <tr>\n",
       "      <th>4</th>\n",
       "      <td>5</td>\n",
       "      <td>2</td>\n",
       "      <td>mariokeller</td>\n",
       "      <td>2</td>\n",
       "    </tr>\n",
       "  </tbody>\n",
       "</table>\n",
       "</div>"
      ],
      "text/plain": [
       "   rating_id  book_id       username  rating\n",
       "0          1        1     ryanfranco       4\n",
       "1          2        1  grantpatricia       2\n",
       "2          3        1   brandtandrea       5\n",
       "3          4        2       lorichen       3\n",
       "4          5        2    mariokeller       2"
      ]
     },
     "execution_count": 8,
     "metadata": {},
     "output_type": "execute_result"
    }
   ],
   "source": [
    "ratings = 'ratings'\n",
    "explorar_tabla(ratings)"
   ]
  },
  {
   "cell_type": "markdown",
   "metadata": {},
   "source": [
    "### Tabla reviews"
   ]
  },
  {
   "cell_type": "code",
   "execution_count": 9,
   "metadata": {},
   "outputs": [
    {
     "data": {
      "text/html": [
       "<div>\n",
       "<style scoped>\n",
       "    .dataframe tbody tr th:only-of-type {\n",
       "        vertical-align: middle;\n",
       "    }\n",
       "\n",
       "    .dataframe tbody tr th {\n",
       "        vertical-align: top;\n",
       "    }\n",
       "\n",
       "    .dataframe thead th {\n",
       "        text-align: right;\n",
       "    }\n",
       "</style>\n",
       "<table border=\"1\" class=\"dataframe\">\n",
       "  <thead>\n",
       "    <tr style=\"text-align: right;\">\n",
       "      <th></th>\n",
       "      <th>review_id</th>\n",
       "      <th>book_id</th>\n",
       "      <th>username</th>\n",
       "      <th>text</th>\n",
       "    </tr>\n",
       "  </thead>\n",
       "  <tbody>\n",
       "    <tr>\n",
       "      <th>0</th>\n",
       "      <td>1</td>\n",
       "      <td>1</td>\n",
       "      <td>brandtandrea</td>\n",
       "      <td>Mention society tell send professor analysis. ...</td>\n",
       "    </tr>\n",
       "    <tr>\n",
       "      <th>1</th>\n",
       "      <td>2</td>\n",
       "      <td>1</td>\n",
       "      <td>ryanfranco</td>\n",
       "      <td>Foot glass pretty audience hit themselves. Amo...</td>\n",
       "    </tr>\n",
       "    <tr>\n",
       "      <th>2</th>\n",
       "      <td>3</td>\n",
       "      <td>2</td>\n",
       "      <td>lorichen</td>\n",
       "      <td>Listen treat keep worry. Miss husband tax but ...</td>\n",
       "    </tr>\n",
       "    <tr>\n",
       "      <th>3</th>\n",
       "      <td>4</td>\n",
       "      <td>3</td>\n",
       "      <td>johnsonamanda</td>\n",
       "      <td>Finally month interesting blue could nature cu...</td>\n",
       "    </tr>\n",
       "    <tr>\n",
       "      <th>4</th>\n",
       "      <td>5</td>\n",
       "      <td>3</td>\n",
       "      <td>scotttamara</td>\n",
       "      <td>Nation purpose heavy give wait song will. List...</td>\n",
       "    </tr>\n",
       "  </tbody>\n",
       "</table>\n",
       "</div>"
      ],
      "text/plain": [
       "   review_id  book_id       username  \\\n",
       "0          1        1   brandtandrea   \n",
       "1          2        1     ryanfranco   \n",
       "2          3        2       lorichen   \n",
       "3          4        3  johnsonamanda   \n",
       "4          5        3    scotttamara   \n",
       "\n",
       "                                                text  \n",
       "0  Mention society tell send professor analysis. ...  \n",
       "1  Foot glass pretty audience hit themselves. Amo...  \n",
       "2  Listen treat keep worry. Miss husband tax but ...  \n",
       "3  Finally month interesting blue could nature cu...  \n",
       "4  Nation purpose heavy give wait song will. List...  "
      ]
     },
     "execution_count": 9,
     "metadata": {},
     "output_type": "execute_result"
    }
   ],
   "source": [
    "reviews = 'reviews'\n",
    "explorar_tabla(reviews)"
   ]
  },
  {
   "cell_type": "markdown",
   "metadata": {},
   "source": [
    "## Tareas"
   ]
  },
  {
   "cell_type": "markdown",
   "metadata": {},
   "source": [
    "### Encuentra el número de libros publicados después del 1 de enero de 2000."
   ]
  },
  {
   "cell_type": "code",
   "execution_count": 10,
   "metadata": {},
   "outputs": [
    {
     "name": "stdout",
     "output_type": "stream",
     "text": [
      "   num_books\n",
      "0        819\n"
     ]
    }
   ],
   "source": [
    "count_books = ''' \n",
    "SELECT COUNT (book_id) AS num_books\n",
    "FROM books \n",
    "WHERE publication_date::date > '2000-01-01';\n",
    "'''\n",
    "imprimir_resultados(count_books)"
   ]
  },
  {
   "cell_type": "markdown",
   "metadata": {},
   "source": [
    "<span style=\"color:purple; font-weight:bold; font-size: 18px\">\n",
    "En esta consulta se encontraron un total de 819 libros publicados después del 1 de enero de 2000\n",
    "</span>"
   ]
  },
  {
   "cell_type": "markdown",
   "metadata": {},
   "source": [
    "### Encuentra el número de reseñas de usuarios y la calificación promedio para cada libro."
   ]
  },
  {
   "cell_type": "code",
   "execution_count": 11,
   "metadata": {},
   "outputs": [
    {
     "name": "stdout",
     "output_type": "stream",
     "text": [
      "     book_id                                              title  num_reviews  \\\n",
      "0        938                          Triptych (Will Trent  #1)            4   \n",
      "1        967               Welcome to Temptation (Dempseys  #1)            4   \n",
      "2        347  In the Hand of the Goddess (Song of the Liones...            6   \n",
      "3         20              A Fistful of Charms (The Hollows  #4)            4   \n",
      "4        390                                    Light in August            4   \n",
      "..       ...                                                ...          ...   \n",
      "989      915  The World Is Flat: A Brief History of the Twen...           12   \n",
      "990      202                                      Drowning Ruth            9   \n",
      "991      371                                              Junky            4   \n",
      "992      316                  His Excellency: George Washington            4   \n",
      "993      303                               Harvesting the Heart            4   \n",
      "\n",
      "     avg_rating  \n",
      "0          5.00  \n",
      "1          5.00  \n",
      "2          5.00  \n",
      "3          5.00  \n",
      "4          5.00  \n",
      "..          ...  \n",
      "989        2.25  \n",
      "990        2.00  \n",
      "991        2.00  \n",
      "992        2.00  \n",
      "993        1.50  \n",
      "\n",
      "[994 rows x 4 columns]\n"
     ]
    }
   ],
   "source": [
    "review_rating = '''\n",
    "SELECT \n",
    "    reviews.book_id,\n",
    "    books.title,\n",
    "    COUNT(reviews.review_id) AS num_reviews, \n",
    "    AVG(ratings.rating) AS avg_rating\n",
    "FROM \n",
    "    reviews \n",
    "JOIN \n",
    "    books ON reviews.book_id = books.book_id\n",
    "JOIN \n",
    "    ratings ON reviews.book_id = ratings.book_id\n",
    "GROUP BY\n",
    "    reviews.book_id,\n",
    "    books.title\n",
    "ORDER BY \n",
    "    avg_rating DESC;\n",
    "'''\n",
    "imprimir_resultados(review_rating)"
   ]
  },
  {
   "cell_type": "markdown",
   "metadata": {},
   "source": [
    "<span style=\"color:purple; font-weight:bold; font-size: 18px\">\n",
    "En esta consulta se aprecia que el promedio mas alto de calificacion es de 5 para diferentes libros, mientras que el numero de reseñas varia, además se observa que algunos titulos cuentan con un mayor numero de reseñas y esto se ve reflejado en la calificacion promedio del libro, siendo mas bajo que aquellos que presentan menos reseñas de usuarios\n",
    "</span>"
   ]
  },
  {
   "cell_type": "markdown",
   "metadata": {},
   "source": [
    "### Identifica la editorial que ha publicado el mayor número de libros con más de 50 páginas (esto te ayudará a excluir folletos y publicaciones similares de tu análisis)."
   ]
  },
  {
   "cell_type": "code",
   "execution_count": 12,
   "metadata": {},
   "outputs": [
    {
     "name": "stdout",
     "output_type": "stream",
     "text": [
      "                  publisher  publisher_id  num_books\n",
      "0             Penguin Books           212         42\n",
      "1                   Vintage           309         31\n",
      "2  Grand Central Publishing           116         25\n",
      "3          Penguin Classics           217         24\n",
      "4          Ballantine Books            33         19\n",
      "5                    Bantam            35         19\n",
      "6                   Berkley            45         17\n",
      "7        St. Martin's Press           284         14\n",
      "8             Berkley Books            46         14\n",
      "9                     Delta            83         13\n"
     ]
    }
   ],
   "source": [
    "publishers_books = '''\n",
    "SELECT \n",
    "    publishers.publisher,\n",
    "    publishers.publisher_id,\n",
    "    COUNT(books.book_id) AS num_books\n",
    "FROM\n",
    "    publishers\n",
    "JOIN \n",
    "    books\n",
    "ON \n",
    "    publishers.publisher_id = books.publisher_id\n",
    "WHERE \n",
    "    books.num_pages > 50\n",
    "GROUP BY \n",
    "    publishers.publisher,\n",
    "    publishers.publisher_id\n",
    "ORDER BY\n",
    "    num_books DESC\n",
    "LIMIT\n",
    "    10;\n",
    "'''\n",
    "imprimir_resultados(publishers_books)"
   ]
  },
  {
   "cell_type": "markdown",
   "metadata": {},
   "source": [
    "<span style=\"color:purple; font-weight:bold; font-size: 18px\">\n",
    "La editorial con mayor número de libros publicados con mas de 50 páginas es Penguin Books con un total de 42 libros publicados, seguido de Vintage con 31 libros y Grand Central Publishing con 25 libros.\n",
    "</span>"
   ]
  },
  {
   "cell_type": "markdown",
   "metadata": {},
   "source": [
    "### Identifica al autor que tiene la más alta calificación promedio del libro: mira solo los libros con al menos 50 calificaciones."
   ]
  },
  {
   "cell_type": "code",
   "execution_count": 13,
   "metadata": {},
   "outputs": [
    {
     "name": "stdout",
     "output_type": "stream",
     "text": [
      "                              author  author_id  num_reviews  avg_rating\n",
      "0                     Diana Gabaldon        130           50    4.300000\n",
      "1         J.K. Rowling/Mary GrandPré        236          312    4.288462\n",
      "2                    Agatha Christie          3           53    4.283019\n",
      "3  Markus Zusak/Cao Xuân Việt Khương        402           53    4.264151\n",
      "4                     J.R.R. Tolkien        240          166    4.240964\n",
      "5           Roald Dahl/Quentin Blake        499           62    4.209677\n",
      "6                  Louisa May Alcott        376           54    4.203704\n",
      "7                       Rick Riordan        498           84    4.130952\n",
      "8                      Arthur Golden         39           56    4.107143\n",
      "9                       Stephen King        542          106    4.009434\n"
     ]
    }
   ],
   "source": [
    "author_avg = '''\n",
    "SELECT \n",
    "    authors.author,\n",
    "    authors.author_id,\n",
    "    COUNT(ratings.rating) AS num_reviews,\n",
    "    AVG(ratings.rating) AS avg_rating\n",
    "FROM\n",
    "    authors\n",
    "JOIN \n",
    "    books ON authors.author_id = books.author_id\n",
    "JOIN \n",
    "    ratings ON books.book_id = ratings.book_id\n",
    "GROUP BY\n",
    "    authors.author,\n",
    "    authors.author_id\n",
    "HAVING \n",
    "    COUNT(ratings.rating) >= 50\n",
    "ORDER BY \n",
    "    avg_rating DESC\n",
    "LIMIT 10 ;\n",
    "    \n",
    "'''\n",
    "imprimir_resultados(author_avg)"
   ]
  },
  {
   "cell_type": "markdown",
   "metadata": {},
   "source": [
    "<span style=\"color:purple; font-weight:bold; font-size: 18px\">\n",
    "La autora con la mas alta calificación promedio por libro es Diana Gabaldon con un promedio de 4.3 y un total de 50 calificaciones recibidas, sin embargo, J.K. Rowling/Mary GrandPré cuentan con un mayor numero de calificaciones recibidas y estan muy cerca en cuanto a promedio de la autora Diana.\n",
    "</span>"
   ]
  },
  {
   "cell_type": "markdown",
   "metadata": {},
   "source": [
    "### Encuentra el número promedio de reseñas de texto entre los usuarios que calificaron más de 50 libros."
   ]
  },
  {
   "cell_type": "code",
   "execution_count": 26,
   "metadata": {},
   "outputs": [
    {
     "name": "stdout",
     "output_type": "stream",
     "text": [
      "   avg_reviews_text\n",
      "0         24.333333\n"
     ]
    }
   ],
   "source": [
    "reviews_text = '''\n",
    "SELECT\n",
    "    AVG(reviews_count) AS avg_reviews_text\n",
    "FROM (\n",
    "    SELECT \n",
    "        ratings.username,\n",
    "        COUNT(DISTINCT reviews.review_id) AS reviews_count\n",
    "    FROM\n",
    "        reviews\n",
    "    JOIN \n",
    "        ratings ON reviews.username = ratings.username \n",
    "    GROUP BY\n",
    "        ratings.username\n",
    "    HAVING\n",
    "        COUNT(DISTINCT ratings.rating_id) > 50\n",
    ") user_many_review;\n",
    "\n",
    "'''\n",
    "imprimir_resultados(reviews_text)"
   ]
  },
  {
   "cell_type": "markdown",
   "metadata": {},
   "source": [
    "<span style=\"color:purple; font-weight:bold; font-size: 18px\">\n",
    "Por último se cálculo el promedio de reseñas de texto entre los usuarios que han calificado mas de 50 libros y esto dio como resultado 24.33 reseñas de texto por usuario.\n",
    "</span>"
   ]
  }
 ],
 "metadata": {
  "ExecuteTimeLog": [
   {
    "duration": 382,
    "start_time": "2024-12-02T19:18:52.299Z"
   },
   {
    "duration": 216,
    "start_time": "2024-12-02T19:19:42.874Z"
   },
   {
    "duration": 3,
    "start_time": "2024-12-02T19:31:35.791Z"
   },
   {
    "duration": 3217,
    "start_time": "2024-12-02T19:31:41.767Z"
   },
   {
    "duration": 1115,
    "start_time": "2024-12-02T19:32:54.260Z"
   },
   {
    "duration": 1119,
    "start_time": "2024-12-02T19:35:06.446Z"
   },
   {
    "duration": 2,
    "start_time": "2024-12-02T19:45:34.401Z"
   },
   {
    "duration": 840,
    "start_time": "2024-12-02T19:45:41.622Z"
   },
   {
    "duration": 4,
    "start_time": "2024-12-02T19:48:01.557Z"
   },
   {
    "duration": 4,
    "start_time": "2024-12-02T19:48:08.762Z"
   },
   {
    "duration": 6,
    "start_time": "2024-12-02T19:48:41.417Z"
   },
   {
    "duration": 0,
    "start_time": "2024-12-02T19:49:35.945Z"
   },
   {
    "duration": 9278,
    "start_time": "2024-12-02T19:49:37.811Z"
   },
   {
    "duration": 3,
    "start_time": "2024-12-02T19:56:22.860Z"
   },
   {
    "duration": 840,
    "start_time": "2024-12-02T19:56:48.752Z"
   },
   {
    "duration": 3,
    "start_time": "2024-12-02T20:09:09.745Z"
   },
   {
    "duration": 840,
    "start_time": "2024-12-02T20:09:50.521Z"
   },
   {
    "duration": 838,
    "start_time": "2024-12-02T20:13:53.273Z"
   },
   {
    "duration": 837,
    "start_time": "2024-12-02T20:14:18.526Z"
   },
   {
    "duration": 838,
    "start_time": "2024-12-02T20:14:51.927Z"
   },
   {
    "duration": 841,
    "start_time": "2024-12-02T20:15:31.865Z"
   },
   {
    "duration": 844,
    "start_time": "2024-12-02T20:15:47.793Z"
   },
   {
    "duration": 840,
    "start_time": "2024-12-02T20:16:09.985Z"
   },
   {
    "duration": 838,
    "start_time": "2024-12-02T20:16:11.444Z"
   },
   {
    "duration": 840,
    "start_time": "2024-12-02T20:16:12.284Z"
   },
   {
    "duration": 839,
    "start_time": "2024-12-02T20:16:13.127Z"
   },
   {
    "duration": 841,
    "start_time": "2024-12-02T20:16:13.968Z"
   },
   {
    "duration": 836,
    "start_time": "2024-12-02T20:19:05.404Z"
   },
   {
    "duration": 836,
    "start_time": "2024-12-02T20:19:35.964Z"
   },
   {
    "duration": 835,
    "start_time": "2024-12-02T20:19:54.768Z"
   },
   {
    "duration": 836,
    "start_time": "2024-12-02T20:20:04.874Z"
   },
   {
    "duration": 836,
    "start_time": "2024-12-02T20:24:24.350Z"
   },
   {
    "duration": 836,
    "start_time": "2024-12-02T20:24:47.756Z"
   },
   {
    "duration": 835,
    "start_time": "2024-12-02T20:28:34.488Z"
   },
   {
    "duration": 836,
    "start_time": "2024-12-02T20:30:50.270Z"
   },
   {
    "duration": 837,
    "start_time": "2024-12-02T20:31:30.574Z"
   },
   {
    "duration": 2,
    "start_time": "2024-12-02T20:52:36.694Z"
   },
   {
    "duration": 2318,
    "start_time": "2024-12-02T20:53:04.893Z"
   },
   {
    "duration": 836,
    "start_time": "2024-12-02T20:58:58.510Z"
   },
   {
    "duration": 835,
    "start_time": "2024-12-02T20:59:16.254Z"
   },
   {
    "duration": 989,
    "start_time": "2024-12-02T20:59:33.478Z"
   },
   {
    "duration": 1027,
    "start_time": "2024-12-02T21:02:09.375Z"
   },
   {
    "duration": 987,
    "start_time": "2024-12-02T21:02:39.666Z"
   },
   {
    "duration": 836,
    "start_time": "2024-12-02T21:10:16.511Z"
   },
   {
    "duration": 835,
    "start_time": "2024-12-02T21:11:12.911Z"
   },
   {
    "duration": 836,
    "start_time": "2024-12-02T21:13:45.126Z"
   },
   {
    "duration": 836,
    "start_time": "2024-12-02T21:14:03.538Z"
   },
   {
    "duration": 839,
    "start_time": "2024-12-02T21:14:38.431Z"
   },
   {
    "duration": 837,
    "start_time": "2024-12-02T21:15:41.161Z"
   },
   {
    "duration": 840,
    "start_time": "2024-12-02T21:15:49.972Z"
   },
   {
    "duration": 840,
    "start_time": "2024-12-02T21:16:30.628Z"
   },
   {
    "duration": 838,
    "start_time": "2024-12-02T21:16:49.468Z"
   },
   {
    "duration": 834,
    "start_time": "2024-12-02T21:28:47.461Z"
   },
   {
    "duration": 835,
    "start_time": "2024-12-02T21:28:57.618Z"
   },
   {
    "duration": 834,
    "start_time": "2024-12-02T21:29:08.179Z"
   },
   {
    "duration": 834,
    "start_time": "2024-12-02T21:29:23.898Z"
   },
   {
    "duration": 835,
    "start_time": "2024-12-02T21:29:41.531Z"
   },
   {
    "duration": 835,
    "start_time": "2024-12-02T21:30:04.674Z"
   },
   {
    "duration": 834,
    "start_time": "2024-12-02T21:30:33.369Z"
   },
   {
    "duration": 835,
    "start_time": "2024-12-02T21:30:52.510Z"
   },
   {
    "duration": 837,
    "start_time": "2024-12-02T21:31:10.319Z"
   },
   {
    "duration": 834,
    "start_time": "2024-12-02T21:31:56.354Z"
   },
   {
    "duration": 836,
    "start_time": "2024-12-02T21:40:58.743Z"
   },
   {
    "duration": 834,
    "start_time": "2024-12-02T21:41:23.661Z"
   },
   {
    "duration": 835,
    "start_time": "2024-12-02T21:42:02.082Z"
   },
   {
    "duration": 841,
    "start_time": "2024-12-02T21:42:13.752Z"
   },
   {
    "duration": 840,
    "start_time": "2024-12-02T21:43:54.535Z"
   },
   {
    "duration": 13,
    "start_time": "2024-12-02T21:51:28.287Z"
   },
   {
    "duration": 837,
    "start_time": "2024-12-02T21:51:39.195Z"
   },
   {
    "duration": 835,
    "start_time": "2024-12-02T21:51:47.133Z"
   },
   {
    "duration": 834,
    "start_time": "2024-12-02T21:52:24.603Z"
   },
   {
    "duration": 834,
    "start_time": "2024-12-02T21:53:41.550Z"
   },
   {
    "duration": 834,
    "start_time": "2024-12-02T21:55:15.155Z"
   },
   {
    "duration": 835,
    "start_time": "2024-12-02T21:56:29.856Z"
   },
   {
    "duration": 843,
    "start_time": "2024-12-02T21:56:40.406Z"
   },
   {
    "duration": 835,
    "start_time": "2024-12-02T21:59:39.167Z"
   },
   {
    "duration": 835,
    "start_time": "2024-12-02T22:07:22.990Z"
   },
   {
    "duration": 844,
    "start_time": "2024-12-02T22:08:06.214Z"
   },
   {
    "duration": 984,
    "start_time": "2024-12-02T22:20:12.677Z"
   },
   {
    "duration": 984,
    "start_time": "2024-12-02T22:20:22.766Z"
   },
   {
    "duration": 834,
    "start_time": "2024-12-02T22:24:02.617Z"
   },
   {
    "duration": 835,
    "start_time": "2024-12-02T22:24:08.804Z"
   },
   {
    "duration": 835,
    "start_time": "2024-12-02T22:26:35.245Z"
   },
   {
    "duration": 834,
    "start_time": "2024-12-02T22:26:57.948Z"
   },
   {
    "duration": 1129,
    "start_time": "2024-12-02T22:27:28.949Z"
   },
   {
    "duration": 1024,
    "start_time": "2024-12-02T22:28:20.477Z"
   },
   {
    "duration": 1131,
    "start_time": "2024-12-02T22:31:16.258Z"
   },
   {
    "duration": 985,
    "start_time": "2024-12-02T22:31:55.020Z"
   },
   {
    "duration": 840,
    "start_time": "2024-12-02T22:43:05.990Z"
   },
   {
    "duration": 837,
    "start_time": "2024-12-02T22:45:21.201Z"
   },
   {
    "duration": 837,
    "start_time": "2024-12-02T22:45:35.211Z"
   },
   {
    "duration": 374,
    "start_time": "2024-12-02T22:49:04.669Z"
   },
   {
    "duration": 4,
    "start_time": "2024-12-02T22:49:05.045Z"
   },
   {
    "duration": 3,
    "start_time": "2024-12-02T22:49:05.050Z"
   },
   {
    "duration": 2860,
    "start_time": "2024-12-02T22:49:05.055Z"
   },
   {
    "duration": 817,
    "start_time": "2024-12-02T22:49:07.917Z"
   },
   {
    "duration": 818,
    "start_time": "2024-12-02T22:49:08.736Z"
   },
   {
    "duration": 819,
    "start_time": "2024-12-02T22:49:09.555Z"
   },
   {
    "duration": 817,
    "start_time": "2024-12-02T22:49:10.376Z"
   },
   {
    "duration": 815,
    "start_time": "2024-12-02T22:49:11.195Z"
   },
   {
    "duration": 1103,
    "start_time": "2024-12-02T22:49:12.013Z"
   },
   {
    "duration": 817,
    "start_time": "2024-12-02T22:49:13.118Z"
   },
   {
    "duration": 819,
    "start_time": "2024-12-02T22:49:13.938Z"
   },
   {
    "duration": 823,
    "start_time": "2024-12-02T22:49:14.759Z"
   },
   {
    "duration": 160,
    "start_time": "2024-12-03T21:51:33.558Z"
   },
   {
    "duration": 500,
    "start_time": "2024-12-03T21:51:37.454Z"
   },
   {
    "duration": 3,
    "start_time": "2024-12-03T21:51:37.956Z"
   },
   {
    "duration": 3,
    "start_time": "2024-12-03T21:51:37.962Z"
   },
   {
    "duration": 2876,
    "start_time": "2024-12-03T21:51:37.966Z"
   },
   {
    "duration": 821,
    "start_time": "2024-12-03T21:51:40.845Z"
   },
   {
    "duration": 820,
    "start_time": "2024-12-03T21:51:41.668Z"
   },
   {
    "duration": 821,
    "start_time": "2024-12-03T21:51:42.489Z"
   },
   {
    "duration": 822,
    "start_time": "2024-12-03T21:51:43.312Z"
   },
   {
    "duration": 818,
    "start_time": "2024-12-03T21:51:44.136Z"
   },
   {
    "duration": 1108,
    "start_time": "2024-12-03T21:51:44.955Z"
   },
   {
    "duration": 819,
    "start_time": "2024-12-03T21:51:46.064Z"
   },
   {
    "duration": 822,
    "start_time": "2024-12-03T21:51:46.885Z"
   },
   {
    "duration": 825,
    "start_time": "2024-12-03T21:51:47.709Z"
   },
   {
    "duration": 829,
    "start_time": "2024-12-03T21:53:09.673Z"
   },
   {
    "duration": 1532,
    "start_time": "2024-12-03T21:53:37.323Z"
   },
   {
    "duration": 1367,
    "start_time": "2024-12-03T21:53:59.415Z"
   },
   {
    "duration": 371,
    "start_time": "2024-12-03T22:17:13.071Z"
   },
   {
    "duration": 3,
    "start_time": "2024-12-03T22:17:13.445Z"
   },
   {
    "duration": 3,
    "start_time": "2024-12-03T22:17:13.452Z"
   },
   {
    "duration": 2782,
    "start_time": "2024-12-03T22:17:13.457Z"
   },
   {
    "duration": 793,
    "start_time": "2024-12-03T22:17:16.241Z"
   },
   {
    "duration": 793,
    "start_time": "2024-12-03T22:17:17.036Z"
   },
   {
    "duration": 793,
    "start_time": "2024-12-03T22:17:17.831Z"
   },
   {
    "duration": 793,
    "start_time": "2024-12-03T22:17:18.626Z"
   },
   {
    "duration": 791,
    "start_time": "2024-12-03T22:17:19.421Z"
   },
   {
    "duration": 1068,
    "start_time": "2024-12-03T22:17:20.213Z"
   },
   {
    "duration": 792,
    "start_time": "2024-12-03T22:17:21.283Z"
   },
   {
    "duration": 795,
    "start_time": "2024-12-03T22:17:22.077Z"
   },
   {
    "duration": 792,
    "start_time": "2024-12-03T22:17:31.204Z"
   },
   {
    "duration": 793,
    "start_time": "2024-12-03T22:21:40.535Z"
   },
   {
    "duration": 794,
    "start_time": "2024-12-03T22:22:51.620Z"
   },
   {
    "duration": 791,
    "start_time": "2024-12-03T22:25:46.796Z"
   },
   {
    "duration": 792,
    "start_time": "2024-12-03T22:26:17.740Z"
   },
   {
    "duration": 792,
    "start_time": "2024-12-03T22:26:47.946Z"
   },
   {
    "duration": 793,
    "start_time": "2024-12-03T22:32:12.357Z"
   },
   {
    "duration": 793,
    "start_time": "2024-12-03T22:33:20.274Z"
   },
   {
    "duration": 794,
    "start_time": "2024-12-03T22:33:42.724Z"
   },
   {
    "duration": 4910,
    "start_time": "2024-12-03T22:36:42.220Z"
   },
   {
    "duration": 792,
    "start_time": "2024-12-03T22:37:00.960Z"
   },
   {
    "duration": 792,
    "start_time": "2024-12-03T22:37:34.306Z"
   },
   {
    "duration": 155,
    "start_time": "2024-12-04T20:23:01.568Z"
   },
   {
    "duration": 517,
    "start_time": "2024-12-04T20:23:05.069Z"
   },
   {
    "duration": 3,
    "start_time": "2024-12-04T20:23:05.588Z"
   },
   {
    "duration": 4,
    "start_time": "2024-12-04T20:23:05.593Z"
   },
   {
    "duration": 2619,
    "start_time": "2024-12-04T20:23:05.599Z"
   },
   {
    "duration": 745,
    "start_time": "2024-12-04T20:23:08.222Z"
   },
   {
    "duration": 743,
    "start_time": "2024-12-04T20:23:08.969Z"
   },
   {
    "duration": 743,
    "start_time": "2024-12-04T20:23:09.714Z"
   },
   {
    "duration": 748,
    "start_time": "2024-12-04T20:23:10.459Z"
   },
   {
    "duration": 742,
    "start_time": "2024-12-04T20:23:11.208Z"
   },
   {
    "duration": 1003,
    "start_time": "2024-12-04T20:23:11.952Z"
   },
   {
    "duration": 746,
    "start_time": "2024-12-04T20:23:12.957Z"
   },
   {
    "duration": 746,
    "start_time": "2024-12-04T20:23:13.705Z"
   },
   {
    "duration": 742,
    "start_time": "2024-12-04T20:23:14.453Z"
   },
   {
    "duration": 744,
    "start_time": "2024-12-04T20:23:15.198Z"
   },
   {
    "duration": 751,
    "start_time": "2024-12-04T20:23:15.944Z"
   },
   {
    "duration": 1170,
    "start_time": "2024-12-04T20:23:16.697Z"
   },
   {
    "duration": 743,
    "start_time": "2024-12-04T20:24:09.036Z"
   },
   {
    "duration": 750,
    "start_time": "2024-12-04T20:24:20.411Z"
   },
   {
    "duration": 166,
    "start_time": "2024-12-05T00:02:33.429Z"
   },
   {
    "duration": 415,
    "start_time": "2024-12-05T00:02:39.118Z"
   },
   {
    "duration": 3,
    "start_time": "2024-12-05T00:02:39.535Z"
   },
   {
    "duration": 3,
    "start_time": "2024-12-05T00:02:39.540Z"
   },
   {
    "duration": 2621,
    "start_time": "2024-12-05T00:02:39.546Z"
   },
   {
    "duration": 743,
    "start_time": "2024-12-05T00:02:42.170Z"
   },
   {
    "duration": 743,
    "start_time": "2024-12-05T00:02:42.915Z"
   },
   {
    "duration": 744,
    "start_time": "2024-12-05T00:02:43.660Z"
   },
   {
    "duration": 745,
    "start_time": "2024-12-05T00:02:44.406Z"
   },
   {
    "duration": 741,
    "start_time": "2024-12-05T00:02:45.153Z"
   },
   {
    "duration": 1002,
    "start_time": "2024-12-05T00:02:45.896Z"
   },
   {
    "duration": 743,
    "start_time": "2024-12-05T00:02:46.900Z"
   },
   {
    "duration": 746,
    "start_time": "2024-12-05T00:02:47.646Z"
   },
   {
    "duration": 742,
    "start_time": "2024-12-05T00:02:52.933Z"
   },
   {
    "duration": 741,
    "start_time": "2024-12-05T00:03:08.019Z"
   },
   {
    "duration": 766,
    "start_time": "2024-12-05T00:03:29.861Z"
   },
   {
    "duration": 808,
    "start_time": "2024-12-05T00:03:47.058Z"
   },
   {
    "duration": 776,
    "start_time": "2024-12-05T00:09:47.769Z"
   },
   {
    "duration": 743,
    "start_time": "2024-12-05T00:11:19.273Z"
   },
   {
    "duration": 778,
    "start_time": "2024-12-05T00:12:01.254Z"
   },
   {
    "duration": 777,
    "start_time": "2024-12-05T00:16:15.004Z"
   },
   {
    "duration": 775,
    "start_time": "2024-12-05T00:21:22.799Z"
   },
   {
    "duration": 776,
    "start_time": "2024-12-05T00:22:03.763Z"
   },
   {
    "duration": 769,
    "start_time": "2024-12-05T00:23:39.190Z"
   },
   {
    "duration": 770,
    "start_time": "2024-12-05T00:23:47.257Z"
   },
   {
    "duration": 776,
    "start_time": "2024-12-05T00:23:57.713Z"
   }
  ],
  "kernelspec": {
   "display_name": "base",
   "language": "python",
   "name": "python3"
  },
  "language_info": {
   "codemirror_mode": {
    "name": "ipython",
    "version": 3
   },
   "file_extension": ".py",
   "mimetype": "text/x-python",
   "name": "python",
   "nbconvert_exporter": "python",
   "pygments_lexer": "ipython3",
   "version": "3.12.4"
  },
  "toc": {
   "base_numbering": 1,
   "nav_menu": {},
   "number_sections": true,
   "sideBar": true,
   "skip_h1_title": true,
   "title_cell": "Table of Contents",
   "title_sidebar": "Contents",
   "toc_cell": false,
   "toc_position": {
    "height": "calc(100% - 180px)",
    "left": "10px",
    "top": "150px",
    "width": "304px"
   },
   "toc_section_display": true,
   "toc_window_display": false
  }
 },
 "nbformat": 4,
 "nbformat_minor": 2
}
