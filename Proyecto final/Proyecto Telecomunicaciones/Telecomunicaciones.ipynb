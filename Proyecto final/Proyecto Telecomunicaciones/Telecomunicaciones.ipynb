{
 "cells": [
  {
   "cell_type": "markdown",
   "metadata": {},
   "source": [
    "# Presentación, dashboard y fuentes\n",
    "carpeta en drive: https://drive.google.com/drive/folders/19VfF_keECPC57zesznAfeKtI_99xJmET?usp=sharing"
   ]
  },
  {
   "cell_type": "markdown",
   "metadata": {},
   "source": [
    "# Proyecto Final - Telecomunicaciones: identificar operadores ineficaces"
   ]
  },
  {
   "cell_type": "markdown",
   "metadata": {},
   "source": [
    "## Descripción del proyecto: \n",
    "\n",
    "El servicio de telefonía virtual CallMeMaybe está desarrollando una nueva función que brindará a los supervisores y las supervisores información sobre los operadores menos eficaces. Se considera que un operador es ineficaz si tiene una gran cantidad de llamadas entrantes perdidas (internas y externas) y un tiempo de espera prolongado para las llamadas entrantes. Además, si se supone que un operador debe realizar llamadas salientes, un número reducido de ellas también será un signo de ineficacia."
   ]
  },
  {
   "cell_type": "markdown",
   "metadata": {},
   "source": [
    "## Descripción de los datos\n",
    "\n",
    "Los datasets contienen información sobre el uso del servicio de telefonía virtual CallMeMaybe. Sus clientes son organizaciones que necesitan distribuir gran cantidad de llamadas entrantes entre varios operadores, o realizar llamadas salientes a través de sus operadores. Los operadores también pueden realizar llamadas internas para comunicarse entre ellos. Estas llamadas se realizan a través de la red de CallMeMaybe."
   ]
  },
  {
   "cell_type": "markdown",
   "metadata": {},
   "source": [
    "## Diccionario de datos\n",
    "\n",
    "* El dataset `telecom_dataset_us.csv` contiene las siguientes columnas:\n",
    "\n",
    "    - `user_id`: ID de la cuenta de cliente\n",
    "    - `date`: fecha en la que se recuperaron las estadísticas\n",
    "    - `direction`: \"dirección\" de llamada (`out` para saliente, `in` para entrante)\n",
    "    - `internal`: si la llamada fue interna (entre los operadores de un cliente o clienta)\n",
    "    - `operator_id`: identificador del operador\n",
    "    - `is_missed_call`: si fue una llamada perdida\n",
    "    - `calls_count`: número de llamadas\n",
    "    - `call_duration`: duración de la llamada (sin incluir el tiempo de espera)\n",
    "    - `total_call_duration`: duración de la llamada (incluido el tiempo de espera)\n",
    "    \n",
    "\n",
    "* El conjunto de datos `telecom_clients_us.csv` tiene las siguientes columnas:\n",
    "\n",
    "    - `user_id`: ID de usuario/a\n",
    "    - `tariff_plan`: tarifa actual de la clientela\n",
    "    - `date_start`: fecha de registro de la clientela"
   ]
  },
  {
   "cell_type": "markdown",
   "metadata": {},
   "source": [
    "## Análisis exploratorio (EDA)"
   ]
  },
  {
   "cell_type": "markdown",
   "metadata": {},
   "source": [
    "### Librerías"
   ]
  },
  {
   "cell_type": "code",
   "execution_count": 1,
   "metadata": {},
   "outputs": [],
   "source": [
    "import datetime as dt \n",
    "import math as mth\n",
    "import matplotlib.pyplot as plt\n",
    "import numpy as np \n",
    "import pandas as pd \n",
    "import seaborn as sns\n",
    "from scipy.stats import kruskal\n",
    "from scipy.stats import mannwhitneyu"
   ]
  },
  {
   "cell_type": "markdown",
   "metadata": {},
   "source": [
    "### Cargar datasets"
   ]
  },
  {
   "cell_type": "code",
   "execution_count": 2,
   "metadata": {},
   "outputs": [],
   "source": [
    "calls = pd.read_csv('../datasets/telecom_dataset_us.csv')\n",
    "clients = pd.read_csv('../datasets/telecom_clients_us.csv')"
   ]
  },
  {
   "cell_type": "code",
   "execution_count": 3,
   "metadata": {},
   "outputs": [],
   "source": [
    "# función para obtener un panorama general de los datos\n",
    "def info_data(df):\n",
    "    print(df.head())\n",
    "    df.info()\n",
    "    print(df.describe())"
   ]
  },
  {
   "cell_type": "code",
   "execution_count": 4,
   "metadata": {},
   "outputs": [],
   "source": [
    "# función para obtener valores duplicados y ausentes \n",
    "def values_data(df):\n",
    "    duplicados = df.duplicated().sum()\n",
    "    print(f'Existen: {duplicados} valores duplicados')\n",
    "    ausentes = df.isna().sum()\n",
    "    print(f'El total de valores ausentes es:\\n{ausentes}')"
   ]
  },
  {
   "cell_type": "markdown",
   "metadata": {},
   "source": [
    "## DataSet Clients"
   ]
  },
  {
   "cell_type": "code",
   "execution_count": 5,
   "metadata": {},
   "outputs": [
    {
     "name": "stdout",
     "output_type": "stream",
     "text": [
      "   user_id tariff_plan  date_start\n",
      "0   166713           A  2019-08-15\n",
      "1   166901           A  2019-08-23\n",
      "2   168527           A  2019-10-29\n",
      "3   167097           A  2019-09-01\n",
      "4   168193           A  2019-10-16\n",
      "<class 'pandas.core.frame.DataFrame'>\n",
      "RangeIndex: 732 entries, 0 to 731\n",
      "Data columns (total 3 columns):\n",
      " #   Column       Non-Null Count  Dtype \n",
      "---  ------       --------------  ----- \n",
      " 0   user_id      732 non-null    int64 \n",
      " 1   tariff_plan  732 non-null    object\n",
      " 2   date_start   732 non-null    object\n",
      "dtypes: int64(1), object(2)\n",
      "memory usage: 17.3+ KB\n",
      "             user_id\n",
      "count     732.000000\n",
      "mean   167431.927596\n",
      "std       633.810383\n",
      "min    166373.000000\n",
      "25%    166900.750000\n",
      "50%    167432.000000\n",
      "75%    167973.000000\n",
      "max    168606.000000\n"
     ]
    }
   ],
   "source": [
    "info_data(clients)"
   ]
  },
  {
   "cell_type": "markdown",
   "metadata": {},
   "source": [
    "### Tipos de datos"
   ]
  },
  {
   "cell_type": "code",
   "execution_count": 6,
   "metadata": {},
   "outputs": [],
   "source": [
    "# convertir la columna date_start en date\n",
    "clients['date_start'] = pd.to_datetime(clients['date_start'])"
   ]
  },
  {
   "cell_type": "markdown",
   "metadata": {},
   "source": [
    "### Valores ausentes y duplicados"
   ]
  },
  {
   "cell_type": "code",
   "execution_count": 7,
   "metadata": {},
   "outputs": [
    {
     "name": "stdout",
     "output_type": "stream",
     "text": [
      "Existen: 0 valores duplicados\n",
      "El total de valores ausentes es:\n",
      "user_id        0\n",
      "tariff_plan    0\n",
      "date_start     0\n",
      "dtype: int64\n"
     ]
    }
   ],
   "source": [
    "values_data(clients)"
   ]
  },
  {
   "cell_type": "markdown",
   "metadata": {},
   "source": [
    "## DataSet Calls"
   ]
  },
  {
   "cell_type": "code",
   "execution_count": 8,
   "metadata": {
    "scrolled": true
   },
   "outputs": [
    {
     "name": "stdout",
     "output_type": "stream",
     "text": [
      "   user_id                       date direction internal  operator_id  \\\n",
      "0   166377  2019-08-04 00:00:00+03:00        in    False          NaN   \n",
      "1   166377  2019-08-05 00:00:00+03:00       out     True     880022.0   \n",
      "2   166377  2019-08-05 00:00:00+03:00       out     True     880020.0   \n",
      "3   166377  2019-08-05 00:00:00+03:00       out     True     880020.0   \n",
      "4   166377  2019-08-05 00:00:00+03:00       out    False     880022.0   \n",
      "\n",
      "   is_missed_call  calls_count  call_duration  total_call_duration  \n",
      "0            True            2              0                    4  \n",
      "1            True            3              0                    5  \n",
      "2            True            1              0                    1  \n",
      "3           False            1             10                   18  \n",
      "4            True            3              0                   25  \n",
      "<class 'pandas.core.frame.DataFrame'>\n",
      "RangeIndex: 53902 entries, 0 to 53901\n",
      "Data columns (total 9 columns):\n",
      " #   Column               Non-Null Count  Dtype  \n",
      "---  ------               --------------  -----  \n",
      " 0   user_id              53902 non-null  int64  \n",
      " 1   date                 53902 non-null  object \n",
      " 2   direction            53902 non-null  object \n",
      " 3   internal             53785 non-null  object \n",
      " 4   operator_id          45730 non-null  float64\n",
      " 5   is_missed_call       53902 non-null  bool   \n",
      " 6   calls_count          53902 non-null  int64  \n",
      " 7   call_duration        53902 non-null  int64  \n",
      " 8   total_call_duration  53902 non-null  int64  \n",
      "dtypes: bool(1), float64(1), int64(4), object(3)\n",
      "memory usage: 3.3+ MB\n",
      "             user_id    operator_id   calls_count  call_duration  \\\n",
      "count   53902.000000   45730.000000  53902.000000   53902.000000   \n",
      "mean   167295.344477  916535.993002     16.451245     866.684427   \n",
      "std       598.883775   21254.123136     62.917170    3731.791202   \n",
      "min    166377.000000  879896.000000      1.000000       0.000000   \n",
      "25%    166782.000000  900788.000000      1.000000       0.000000   \n",
      "50%    167162.000000  913938.000000      4.000000      38.000000   \n",
      "75%    167819.000000  937708.000000     12.000000     572.000000   \n",
      "max    168606.000000  973286.000000   4817.000000  144395.000000   \n",
      "\n",
      "       total_call_duration  \n",
      "count         53902.000000  \n",
      "mean           1157.133297  \n",
      "std            4403.468763  \n",
      "min               0.000000  \n",
      "25%              47.000000  \n",
      "50%             210.000000  \n",
      "75%             902.000000  \n",
      "max          166155.000000  \n"
     ]
    }
   ],
   "source": [
    "# panorama general del dataset\n",
    "info_data(calls)"
   ]
  },
  {
   "cell_type": "markdown",
   "metadata": {},
   "source": [
    "### Tipos de datos "
   ]
  },
  {
   "cell_type": "code",
   "execution_count": 9,
   "metadata": {},
   "outputs": [],
   "source": [
    "# cambiar el tipo de dato de la columna 'date'\n",
    "calls['date'] = pd.to_datetime(calls['date'])"
   ]
  },
  {
   "cell_type": "code",
   "execution_count": 10,
   "metadata": {},
   "outputs": [
    {
     "data": {
      "text/plain": [
       "Timestamp('2019-08-02 00:00:00+0300', tz='pytz.FixedOffset(180)')"
      ]
     },
     "execution_count": 10,
     "metadata": {},
     "output_type": "execute_result"
    }
   ],
   "source": [
    "calls['date'].min()"
   ]
  },
  {
   "cell_type": "code",
   "execution_count": 11,
   "metadata": {},
   "outputs": [],
   "source": [
    "# cambiar el tipo de dato de la columna 'operador_id'\n",
    "calls['operator_id'] = pd.to_numeric(calls['operator_id'], errors='coerce').astype('Int64')"
   ]
  },
  {
   "cell_type": "markdown",
   "metadata": {},
   "source": [
    "### Valores duplicados y ausentes"
   ]
  },
  {
   "cell_type": "code",
   "execution_count": 12,
   "metadata": {},
   "outputs": [
    {
     "name": "stdout",
     "output_type": "stream",
     "text": [
      "Existen: 4900 valores duplicados\n",
      "El total de valores ausentes es:\n",
      "user_id                   0\n",
      "date                      0\n",
      "direction                 0\n",
      "internal                117\n",
      "operator_id            8172\n",
      "is_missed_call            0\n",
      "calls_count               0\n",
      "call_duration             0\n",
      "total_call_duration       0\n",
      "dtype: int64\n"
     ]
    }
   ],
   "source": [
    "values_data(calls)"
   ]
  },
  {
   "cell_type": "markdown",
   "metadata": {},
   "source": [
    "### Valores duplicados"
   ]
  },
  {
   "cell_type": "code",
   "execution_count": 13,
   "metadata": {},
   "outputs": [
    {
     "data": {
      "text/html": [
       "<div>\n",
       "<style scoped>\n",
       "    .dataframe tbody tr th:only-of-type {\n",
       "        vertical-align: middle;\n",
       "    }\n",
       "\n",
       "    .dataframe tbody tr th {\n",
       "        vertical-align: top;\n",
       "    }\n",
       "\n",
       "    .dataframe thead th {\n",
       "        text-align: right;\n",
       "    }\n",
       "</style>\n",
       "<table border=\"1\" class=\"dataframe\">\n",
       "  <thead>\n",
       "    <tr style=\"text-align: right;\">\n",
       "      <th></th>\n",
       "      <th>user_id</th>\n",
       "      <th>date</th>\n",
       "      <th>direction</th>\n",
       "      <th>internal</th>\n",
       "      <th>operator_id</th>\n",
       "      <th>is_missed_call</th>\n",
       "      <th>calls_count</th>\n",
       "      <th>call_duration</th>\n",
       "      <th>total_call_duration</th>\n",
       "    </tr>\n",
       "  </thead>\n",
       "  <tbody>\n",
       "    <tr>\n",
       "      <th>8</th>\n",
       "      <td>166377</td>\n",
       "      <td>2019-08-05 00:00:00+03:00</td>\n",
       "      <td>out</td>\n",
       "      <td>False</td>\n",
       "      <td>880020</td>\n",
       "      <td>True</td>\n",
       "      <td>8</td>\n",
       "      <td>0</td>\n",
       "      <td>50</td>\n",
       "    </tr>\n",
       "    <tr>\n",
       "      <th>28</th>\n",
       "      <td>166377</td>\n",
       "      <td>2019-08-12 00:00:00+03:00</td>\n",
       "      <td>in</td>\n",
       "      <td>False</td>\n",
       "      <td>&lt;NA&gt;</td>\n",
       "      <td>True</td>\n",
       "      <td>2</td>\n",
       "      <td>0</td>\n",
       "      <td>34</td>\n",
       "    </tr>\n",
       "    <tr>\n",
       "      <th>44</th>\n",
       "      <td>166377</td>\n",
       "      <td>2019-08-14 00:00:00+03:00</td>\n",
       "      <td>out</td>\n",
       "      <td>False</td>\n",
       "      <td>880026</td>\n",
       "      <td>False</td>\n",
       "      <td>10</td>\n",
       "      <td>1567</td>\n",
       "      <td>1654</td>\n",
       "    </tr>\n",
       "    <tr>\n",
       "      <th>45</th>\n",
       "      <td>166377</td>\n",
       "      <td>2019-08-14 00:00:00+03:00</td>\n",
       "      <td>in</td>\n",
       "      <td>False</td>\n",
       "      <td>&lt;NA&gt;</td>\n",
       "      <td>True</td>\n",
       "      <td>1</td>\n",
       "      <td>0</td>\n",
       "      <td>3</td>\n",
       "    </tr>\n",
       "    <tr>\n",
       "      <th>51</th>\n",
       "      <td>166377</td>\n",
       "      <td>2019-08-15 00:00:00+03:00</td>\n",
       "      <td>out</td>\n",
       "      <td>False</td>\n",
       "      <td>880026</td>\n",
       "      <td>False</td>\n",
       "      <td>11</td>\n",
       "      <td>1413</td>\n",
       "      <td>1473</td>\n",
       "    </tr>\n",
       "    <tr>\n",
       "      <th>62</th>\n",
       "      <td>166377</td>\n",
       "      <td>2019-08-19 00:00:00+03:00</td>\n",
       "      <td>out</td>\n",
       "      <td>False</td>\n",
       "      <td>880026</td>\n",
       "      <td>False</td>\n",
       "      <td>14</td>\n",
       "      <td>1519</td>\n",
       "      <td>1598</td>\n",
       "    </tr>\n",
       "    <tr>\n",
       "      <th>78</th>\n",
       "      <td>166377</td>\n",
       "      <td>2019-08-22 00:00:00+03:00</td>\n",
       "      <td>out</td>\n",
       "      <td>False</td>\n",
       "      <td>880026</td>\n",
       "      <td>True</td>\n",
       "      <td>6</td>\n",
       "      <td>0</td>\n",
       "      <td>55</td>\n",
       "    </tr>\n",
       "    <tr>\n",
       "      <th>86</th>\n",
       "      <td>166377</td>\n",
       "      <td>2019-08-23 00:00:00+03:00</td>\n",
       "      <td>out</td>\n",
       "      <td>False</td>\n",
       "      <td>880026</td>\n",
       "      <td>False</td>\n",
       "      <td>43</td>\n",
       "      <td>3435</td>\n",
       "      <td>3654</td>\n",
       "    </tr>\n",
       "    <tr>\n",
       "      <th>87</th>\n",
       "      <td>166377</td>\n",
       "      <td>2019-08-23 00:00:00+03:00</td>\n",
       "      <td>in</td>\n",
       "      <td>False</td>\n",
       "      <td>880026</td>\n",
       "      <td>False</td>\n",
       "      <td>1</td>\n",
       "      <td>45</td>\n",
       "      <td>52</td>\n",
       "    </tr>\n",
       "    <tr>\n",
       "      <th>100</th>\n",
       "      <td>166377</td>\n",
       "      <td>2019-08-27 00:00:00+03:00</td>\n",
       "      <td>out</td>\n",
       "      <td>False</td>\n",
       "      <td>880028</td>\n",
       "      <td>False</td>\n",
       "      <td>20</td>\n",
       "      <td>2784</td>\n",
       "      <td>2979</td>\n",
       "    </tr>\n",
       "  </tbody>\n",
       "</table>\n",
       "</div>"
      ],
      "text/plain": [
       "     user_id                      date direction internal  operator_id  \\\n",
       "8     166377 2019-08-05 00:00:00+03:00       out    False       880020   \n",
       "28    166377 2019-08-12 00:00:00+03:00        in    False         <NA>   \n",
       "44    166377 2019-08-14 00:00:00+03:00       out    False       880026   \n",
       "45    166377 2019-08-14 00:00:00+03:00        in    False         <NA>   \n",
       "51    166377 2019-08-15 00:00:00+03:00       out    False       880026   \n",
       "62    166377 2019-08-19 00:00:00+03:00       out    False       880026   \n",
       "78    166377 2019-08-22 00:00:00+03:00       out    False       880026   \n",
       "86    166377 2019-08-23 00:00:00+03:00       out    False       880026   \n",
       "87    166377 2019-08-23 00:00:00+03:00        in    False       880026   \n",
       "100   166377 2019-08-27 00:00:00+03:00       out    False       880028   \n",
       "\n",
       "     is_missed_call  calls_count  call_duration  total_call_duration  \n",
       "8              True            8              0                   50  \n",
       "28             True            2              0                   34  \n",
       "44            False           10           1567                 1654  \n",
       "45             True            1              0                    3  \n",
       "51            False           11           1413                 1473  \n",
       "62            False           14           1519                 1598  \n",
       "78             True            6              0                   55  \n",
       "86            False           43           3435                 3654  \n",
       "87            False            1             45                   52  \n",
       "100           False           20           2784                 2979  "
      ]
     },
     "execution_count": 13,
     "metadata": {},
     "output_type": "execute_result"
    }
   ],
   "source": [
    "# verificar valores duplicados\n",
    "values_duplicated = calls[calls.duplicated()]\n",
    "values_duplicated.head(10)"
   ]
  },
  {
   "cell_type": "markdown",
   "metadata": {},
   "source": [
    "<span style=\"color:purple; font-weight:bold; font-size: 18px\">\n",
    "En un primer vistazo general, se lograron identificar 4900 valores duplicados, sin embargo, al analizarlos mas de cerca se encontro que estos valores coinciden en el user_id y la fecha en la que se recuperaron los datos, por lo cual no podemos eliminarlos ya que afectarían al análisis que se realizará\n",
    "</span>"
   ]
  },
  {
   "cell_type": "markdown",
   "metadata": {},
   "source": [
    "### Valores ausentes de la columna 'internal'"
   ]
  },
  {
   "cell_type": "code",
   "execution_count": 14,
   "metadata": {},
   "outputs": [
    {
     "data": {
      "text/html": [
       "<div>\n",
       "<style scoped>\n",
       "    .dataframe tbody tr th:only-of-type {\n",
       "        vertical-align: middle;\n",
       "    }\n",
       "\n",
       "    .dataframe tbody tr th {\n",
       "        vertical-align: top;\n",
       "    }\n",
       "\n",
       "    .dataframe thead th {\n",
       "        text-align: right;\n",
       "    }\n",
       "</style>\n",
       "<table border=\"1\" class=\"dataframe\">\n",
       "  <thead>\n",
       "    <tr style=\"text-align: right;\">\n",
       "      <th></th>\n",
       "      <th>user_id</th>\n",
       "      <th>date</th>\n",
       "      <th>direction</th>\n",
       "      <th>internal</th>\n",
       "      <th>operator_id</th>\n",
       "      <th>is_missed_call</th>\n",
       "      <th>calls_count</th>\n",
       "      <th>call_duration</th>\n",
       "      <th>total_call_duration</th>\n",
       "    </tr>\n",
       "  </thead>\n",
       "  <tbody>\n",
       "    <tr>\n",
       "      <th>1007</th>\n",
       "      <td>166405</td>\n",
       "      <td>2019-09-18 00:00:00+03:00</td>\n",
       "      <td>in</td>\n",
       "      <td>NaN</td>\n",
       "      <td>&lt;NA&gt;</td>\n",
       "      <td>True</td>\n",
       "      <td>1</td>\n",
       "      <td>0</td>\n",
       "      <td>59</td>\n",
       "    </tr>\n",
       "    <tr>\n",
       "      <th>1090</th>\n",
       "      <td>166405</td>\n",
       "      <td>2019-10-01 00:00:00+03:00</td>\n",
       "      <td>in</td>\n",
       "      <td>NaN</td>\n",
       "      <td>&lt;NA&gt;</td>\n",
       "      <td>True</td>\n",
       "      <td>1</td>\n",
       "      <td>0</td>\n",
       "      <td>1</td>\n",
       "    </tr>\n",
       "    <tr>\n",
       "      <th>1864</th>\n",
       "      <td>166406</td>\n",
       "      <td>2019-08-20 00:00:00+03:00</td>\n",
       "      <td>in</td>\n",
       "      <td>NaN</td>\n",
       "      <td>&lt;NA&gt;</td>\n",
       "      <td>True</td>\n",
       "      <td>1</td>\n",
       "      <td>0</td>\n",
       "      <td>36</td>\n",
       "    </tr>\n",
       "    <tr>\n",
       "      <th>1924</th>\n",
       "      <td>166406</td>\n",
       "      <td>2019-09-02 00:00:00+03:00</td>\n",
       "      <td>in</td>\n",
       "      <td>NaN</td>\n",
       "      <td>879898</td>\n",
       "      <td>False</td>\n",
       "      <td>1</td>\n",
       "      <td>2</td>\n",
       "      <td>9</td>\n",
       "    </tr>\n",
       "    <tr>\n",
       "      <th>6210</th>\n",
       "      <td>166541</td>\n",
       "      <td>2019-09-26 00:00:00+03:00</td>\n",
       "      <td>in</td>\n",
       "      <td>NaN</td>\n",
       "      <td>908960</td>\n",
       "      <td>False</td>\n",
       "      <td>1</td>\n",
       "      <td>393</td>\n",
       "      <td>423</td>\n",
       "    </tr>\n",
       "    <tr>\n",
       "      <th>...</th>\n",
       "      <td>...</td>\n",
       "      <td>...</td>\n",
       "      <td>...</td>\n",
       "      <td>...</td>\n",
       "      <td>...</td>\n",
       "      <td>...</td>\n",
       "      <td>...</td>\n",
       "      <td>...</td>\n",
       "      <td>...</td>\n",
       "    </tr>\n",
       "    <tr>\n",
       "      <th>52462</th>\n",
       "      <td>168361</td>\n",
       "      <td>2019-11-09 00:00:00+03:00</td>\n",
       "      <td>in</td>\n",
       "      <td>NaN</td>\n",
       "      <td>&lt;NA&gt;</td>\n",
       "      <td>True</td>\n",
       "      <td>6</td>\n",
       "      <td>0</td>\n",
       "      <td>14</td>\n",
       "    </tr>\n",
       "    <tr>\n",
       "      <th>52590</th>\n",
       "      <td>168361</td>\n",
       "      <td>2019-11-13 00:00:00+03:00</td>\n",
       "      <td>in</td>\n",
       "      <td>NaN</td>\n",
       "      <td>&lt;NA&gt;</td>\n",
       "      <td>True</td>\n",
       "      <td>2</td>\n",
       "      <td>0</td>\n",
       "      <td>6</td>\n",
       "    </tr>\n",
       "    <tr>\n",
       "      <th>52621</th>\n",
       "      <td>168361</td>\n",
       "      <td>2019-11-14 00:00:00+03:00</td>\n",
       "      <td>in</td>\n",
       "      <td>NaN</td>\n",
       "      <td>&lt;NA&gt;</td>\n",
       "      <td>True</td>\n",
       "      <td>1</td>\n",
       "      <td>0</td>\n",
       "      <td>2</td>\n",
       "    </tr>\n",
       "    <tr>\n",
       "      <th>53717</th>\n",
       "      <td>168579</td>\n",
       "      <td>2019-11-09 00:00:00+03:00</td>\n",
       "      <td>in</td>\n",
       "      <td>NaN</td>\n",
       "      <td>&lt;NA&gt;</td>\n",
       "      <td>True</td>\n",
       "      <td>1</td>\n",
       "      <td>0</td>\n",
       "      <td>18</td>\n",
       "    </tr>\n",
       "    <tr>\n",
       "      <th>53799</th>\n",
       "      <td>168598</td>\n",
       "      <td>2019-11-22 00:00:00+03:00</td>\n",
       "      <td>in</td>\n",
       "      <td>NaN</td>\n",
       "      <td>958394</td>\n",
       "      <td>False</td>\n",
       "      <td>1</td>\n",
       "      <td>11</td>\n",
       "      <td>17</td>\n",
       "    </tr>\n",
       "  </tbody>\n",
       "</table>\n",
       "<p>117 rows × 9 columns</p>\n",
       "</div>"
      ],
      "text/plain": [
       "       user_id                      date direction internal  operator_id  \\\n",
       "1007    166405 2019-09-18 00:00:00+03:00        in      NaN         <NA>   \n",
       "1090    166405 2019-10-01 00:00:00+03:00        in      NaN         <NA>   \n",
       "1864    166406 2019-08-20 00:00:00+03:00        in      NaN         <NA>   \n",
       "1924    166406 2019-09-02 00:00:00+03:00        in      NaN       879898   \n",
       "6210    166541 2019-09-26 00:00:00+03:00        in      NaN       908960   \n",
       "...        ...                       ...       ...      ...          ...   \n",
       "52462   168361 2019-11-09 00:00:00+03:00        in      NaN         <NA>   \n",
       "52590   168361 2019-11-13 00:00:00+03:00        in      NaN         <NA>   \n",
       "52621   168361 2019-11-14 00:00:00+03:00        in      NaN         <NA>   \n",
       "53717   168579 2019-11-09 00:00:00+03:00        in      NaN         <NA>   \n",
       "53799   168598 2019-11-22 00:00:00+03:00        in      NaN       958394   \n",
       "\n",
       "       is_missed_call  calls_count  call_duration  total_call_duration  \n",
       "1007             True            1              0                   59  \n",
       "1090             True            1              0                    1  \n",
       "1864             True            1              0                   36  \n",
       "1924            False            1              2                    9  \n",
       "6210            False            1            393                  423  \n",
       "...               ...          ...            ...                  ...  \n",
       "52462            True            6              0                   14  \n",
       "52590            True            2              0                    6  \n",
       "52621            True            1              0                    2  \n",
       "53717            True            1              0                   18  \n",
       "53799           False            1             11                   17  \n",
       "\n",
       "[117 rows x 9 columns]"
      ]
     },
     "execution_count": 14,
     "metadata": {},
     "output_type": "execute_result"
    }
   ],
   "source": [
    "# analizar los valores ausentes de la columna internal \n",
    "values_nan_internal = calls[calls['internal'].isna()]\n",
    "values_nan_internal"
   ]
  },
  {
   "cell_type": "code",
   "execution_count": 15,
   "metadata": {},
   "outputs": [
    {
     "data": {
      "text/html": [
       "<div>\n",
       "<style scoped>\n",
       "    .dataframe tbody tr th:only-of-type {\n",
       "        vertical-align: middle;\n",
       "    }\n",
       "\n",
       "    .dataframe tbody tr th {\n",
       "        vertical-align: top;\n",
       "    }\n",
       "\n",
       "    .dataframe thead th {\n",
       "        text-align: right;\n",
       "    }\n",
       "</style>\n",
       "<table border=\"1\" class=\"dataframe\">\n",
       "  <thead>\n",
       "    <tr style=\"text-align: right;\">\n",
       "      <th></th>\n",
       "      <th>user_id</th>\n",
       "      <th>date</th>\n",
       "      <th>direction</th>\n",
       "      <th>internal</th>\n",
       "      <th>operator_id</th>\n",
       "      <th>is_missed_call</th>\n",
       "      <th>calls_count</th>\n",
       "      <th>call_duration</th>\n",
       "      <th>total_call_duration</th>\n",
       "    </tr>\n",
       "  </thead>\n",
       "  <tbody>\n",
       "    <tr>\n",
       "      <th>1007</th>\n",
       "      <td>166405</td>\n",
       "      <td>2019-09-18 00:00:00+03:00</td>\n",
       "      <td>in</td>\n",
       "      <td>NaN</td>\n",
       "      <td>&lt;NA&gt;</td>\n",
       "      <td>True</td>\n",
       "      <td>1</td>\n",
       "      <td>0</td>\n",
       "      <td>59</td>\n",
       "    </tr>\n",
       "    <tr>\n",
       "      <th>1090</th>\n",
       "      <td>166405</td>\n",
       "      <td>2019-10-01 00:00:00+03:00</td>\n",
       "      <td>in</td>\n",
       "      <td>NaN</td>\n",
       "      <td>&lt;NA&gt;</td>\n",
       "      <td>True</td>\n",
       "      <td>1</td>\n",
       "      <td>0</td>\n",
       "      <td>1</td>\n",
       "    </tr>\n",
       "    <tr>\n",
       "      <th>1864</th>\n",
       "      <td>166406</td>\n",
       "      <td>2019-08-20 00:00:00+03:00</td>\n",
       "      <td>in</td>\n",
       "      <td>NaN</td>\n",
       "      <td>&lt;NA&gt;</td>\n",
       "      <td>True</td>\n",
       "      <td>1</td>\n",
       "      <td>0</td>\n",
       "      <td>36</td>\n",
       "    </tr>\n",
       "    <tr>\n",
       "      <th>1924</th>\n",
       "      <td>166406</td>\n",
       "      <td>2019-09-02 00:00:00+03:00</td>\n",
       "      <td>in</td>\n",
       "      <td>NaN</td>\n",
       "      <td>879898</td>\n",
       "      <td>False</td>\n",
       "      <td>1</td>\n",
       "      <td>2</td>\n",
       "      <td>9</td>\n",
       "    </tr>\n",
       "    <tr>\n",
       "      <th>6210</th>\n",
       "      <td>166541</td>\n",
       "      <td>2019-09-26 00:00:00+03:00</td>\n",
       "      <td>in</td>\n",
       "      <td>NaN</td>\n",
       "      <td>908960</td>\n",
       "      <td>False</td>\n",
       "      <td>1</td>\n",
       "      <td>393</td>\n",
       "      <td>423</td>\n",
       "    </tr>\n",
       "    <tr>\n",
       "      <th>...</th>\n",
       "      <td>...</td>\n",
       "      <td>...</td>\n",
       "      <td>...</td>\n",
       "      <td>...</td>\n",
       "      <td>...</td>\n",
       "      <td>...</td>\n",
       "      <td>...</td>\n",
       "      <td>...</td>\n",
       "      <td>...</td>\n",
       "    </tr>\n",
       "    <tr>\n",
       "      <th>52462</th>\n",
       "      <td>168361</td>\n",
       "      <td>2019-11-09 00:00:00+03:00</td>\n",
       "      <td>in</td>\n",
       "      <td>NaN</td>\n",
       "      <td>&lt;NA&gt;</td>\n",
       "      <td>True</td>\n",
       "      <td>6</td>\n",
       "      <td>0</td>\n",
       "      <td>14</td>\n",
       "    </tr>\n",
       "    <tr>\n",
       "      <th>52590</th>\n",
       "      <td>168361</td>\n",
       "      <td>2019-11-13 00:00:00+03:00</td>\n",
       "      <td>in</td>\n",
       "      <td>NaN</td>\n",
       "      <td>&lt;NA&gt;</td>\n",
       "      <td>True</td>\n",
       "      <td>2</td>\n",
       "      <td>0</td>\n",
       "      <td>6</td>\n",
       "    </tr>\n",
       "    <tr>\n",
       "      <th>52621</th>\n",
       "      <td>168361</td>\n",
       "      <td>2019-11-14 00:00:00+03:00</td>\n",
       "      <td>in</td>\n",
       "      <td>NaN</td>\n",
       "      <td>&lt;NA&gt;</td>\n",
       "      <td>True</td>\n",
       "      <td>1</td>\n",
       "      <td>0</td>\n",
       "      <td>2</td>\n",
       "    </tr>\n",
       "    <tr>\n",
       "      <th>53717</th>\n",
       "      <td>168579</td>\n",
       "      <td>2019-11-09 00:00:00+03:00</td>\n",
       "      <td>in</td>\n",
       "      <td>NaN</td>\n",
       "      <td>&lt;NA&gt;</td>\n",
       "      <td>True</td>\n",
       "      <td>1</td>\n",
       "      <td>0</td>\n",
       "      <td>18</td>\n",
       "    </tr>\n",
       "    <tr>\n",
       "      <th>53799</th>\n",
       "      <td>168598</td>\n",
       "      <td>2019-11-22 00:00:00+03:00</td>\n",
       "      <td>in</td>\n",
       "      <td>NaN</td>\n",
       "      <td>958394</td>\n",
       "      <td>False</td>\n",
       "      <td>1</td>\n",
       "      <td>11</td>\n",
       "      <td>17</td>\n",
       "    </tr>\n",
       "  </tbody>\n",
       "</table>\n",
       "<p>115 rows × 9 columns</p>\n",
       "</div>"
      ],
      "text/plain": [
       "       user_id                      date direction internal  operator_id  \\\n",
       "1007    166405 2019-09-18 00:00:00+03:00        in      NaN         <NA>   \n",
       "1090    166405 2019-10-01 00:00:00+03:00        in      NaN         <NA>   \n",
       "1864    166406 2019-08-20 00:00:00+03:00        in      NaN         <NA>   \n",
       "1924    166406 2019-09-02 00:00:00+03:00        in      NaN       879898   \n",
       "6210    166541 2019-09-26 00:00:00+03:00        in      NaN       908960   \n",
       "...        ...                       ...       ...      ...          ...   \n",
       "52462   168361 2019-11-09 00:00:00+03:00        in      NaN         <NA>   \n",
       "52590   168361 2019-11-13 00:00:00+03:00        in      NaN         <NA>   \n",
       "52621   168361 2019-11-14 00:00:00+03:00        in      NaN         <NA>   \n",
       "53717   168579 2019-11-09 00:00:00+03:00        in      NaN         <NA>   \n",
       "53799   168598 2019-11-22 00:00:00+03:00        in      NaN       958394   \n",
       "\n",
       "       is_missed_call  calls_count  call_duration  total_call_duration  \n",
       "1007             True            1              0                   59  \n",
       "1090             True            1              0                    1  \n",
       "1864             True            1              0                   36  \n",
       "1924            False            1              2                    9  \n",
       "6210            False            1            393                  423  \n",
       "...               ...          ...            ...                  ...  \n",
       "52462            True            6              0                   14  \n",
       "52590            True            2              0                    6  \n",
       "52621            True            1              0                    2  \n",
       "53717            True            1              0                   18  \n",
       "53799           False            1             11                   17  \n",
       "\n",
       "[115 rows x 9 columns]"
      ]
     },
     "execution_count": 15,
     "metadata": {},
     "output_type": "execute_result"
    }
   ],
   "source": [
    "# analizar que direccion tienen las llamadas internal ausentes\n",
    "values_nan_internal[values_nan_internal['direction'] == 'in']"
   ]
  },
  {
   "cell_type": "code",
   "execution_count": 16,
   "metadata": {},
   "outputs": [
    {
     "data": {
      "text/plain": [
       "973"
      ]
     },
     "execution_count": 16,
     "metadata": {},
     "output_type": "execute_result"
    }
   ],
   "source": [
    "# identificar la llamada mas larga \n",
    "max_call_internal = values_nan_internal['total_call_duration'].max()\n",
    "max_call_internal"
   ]
  },
  {
   "cell_type": "code",
   "execution_count": 17,
   "metadata": {},
   "outputs": [
    {
     "data": {
      "text/html": [
       "<div>\n",
       "<style scoped>\n",
       "    .dataframe tbody tr th:only-of-type {\n",
       "        vertical-align: middle;\n",
       "    }\n",
       "\n",
       "    .dataframe tbody tr th {\n",
       "        vertical-align: top;\n",
       "    }\n",
       "\n",
       "    .dataframe thead th {\n",
       "        text-align: right;\n",
       "    }\n",
       "</style>\n",
       "<table border=\"1\" class=\"dataframe\">\n",
       "  <thead>\n",
       "    <tr style=\"text-align: right;\">\n",
       "      <th></th>\n",
       "      <th>user_id</th>\n",
       "      <th>date</th>\n",
       "      <th>direction</th>\n",
       "      <th>internal</th>\n",
       "      <th>operator_id</th>\n",
       "      <th>is_missed_call</th>\n",
       "      <th>calls_count</th>\n",
       "      <th>call_duration</th>\n",
       "      <th>total_call_duration</th>\n",
       "    </tr>\n",
       "  </thead>\n",
       "  <tbody>\n",
       "    <tr>\n",
       "      <th>43094</th>\n",
       "      <td>167977</td>\n",
       "      <td>2019-11-14 00:00:00+03:00</td>\n",
       "      <td>in</td>\n",
       "      <td>NaN</td>\n",
       "      <td>944222</td>\n",
       "      <td>False</td>\n",
       "      <td>1</td>\n",
       "      <td>960</td>\n",
       "      <td>973</td>\n",
       "    </tr>\n",
       "  </tbody>\n",
       "</table>\n",
       "</div>"
      ],
      "text/plain": [
       "       user_id                      date direction internal  operator_id  \\\n",
       "43094   167977 2019-11-14 00:00:00+03:00        in      NaN       944222   \n",
       "\n",
       "       is_missed_call  calls_count  call_duration  total_call_duration  \n",
       "43094           False            1            960                  973  "
      ]
     },
     "execution_count": 17,
     "metadata": {},
     "output_type": "execute_result"
    }
   ],
   "source": [
    "# explorar las caracteristicas de la llamada mas larga\n",
    "values_nan_internal[values_nan_internal['total_call_duration'] == 973]"
   ]
  },
  {
   "cell_type": "markdown",
   "metadata": {},
   "source": [
    "<span style=\"color:purple; font-weight:bold; font-size: 18px\">\n",
    "En la columna internal se encontraron 117 valores ausentes, se realizo un análisis mas profundo de estos valores para determinar que accion llevar a cabo, se identifico que la mayoria de estos valores ausentes tienen una direccion IN de la llamada, lo que podria indicar que se tratan de llamadas hechas por usuarios y estas pudieron ser o no atendidas por los operadores. Ademas existe una llamada que cuenta con un tiempo total de 973 segundos o aproximadamente 16 min. \n",
    "</span>"
   ]
  },
  {
   "cell_type": "markdown",
   "metadata": {},
   "source": [
    "### Valores ausentes de la columna 'operador_id'"
   ]
  },
  {
   "cell_type": "code",
   "execution_count": 18,
   "metadata": {},
   "outputs": [
    {
     "data": {
      "text/html": [
       "<div>\n",
       "<style scoped>\n",
       "    .dataframe tbody tr th:only-of-type {\n",
       "        vertical-align: middle;\n",
       "    }\n",
       "\n",
       "    .dataframe tbody tr th {\n",
       "        vertical-align: top;\n",
       "    }\n",
       "\n",
       "    .dataframe thead th {\n",
       "        text-align: right;\n",
       "    }\n",
       "</style>\n",
       "<table border=\"1\" class=\"dataframe\">\n",
       "  <thead>\n",
       "    <tr style=\"text-align: right;\">\n",
       "      <th></th>\n",
       "      <th>user_id</th>\n",
       "      <th>date</th>\n",
       "      <th>direction</th>\n",
       "      <th>internal</th>\n",
       "      <th>operator_id</th>\n",
       "      <th>is_missed_call</th>\n",
       "      <th>calls_count</th>\n",
       "      <th>call_duration</th>\n",
       "      <th>total_call_duration</th>\n",
       "    </tr>\n",
       "  </thead>\n",
       "  <tbody>\n",
       "    <tr>\n",
       "      <th>0</th>\n",
       "      <td>166377</td>\n",
       "      <td>2019-08-04 00:00:00+03:00</td>\n",
       "      <td>in</td>\n",
       "      <td>False</td>\n",
       "      <td>&lt;NA&gt;</td>\n",
       "      <td>True</td>\n",
       "      <td>2</td>\n",
       "      <td>0</td>\n",
       "      <td>4</td>\n",
       "    </tr>\n",
       "    <tr>\n",
       "      <th>7</th>\n",
       "      <td>166377</td>\n",
       "      <td>2019-08-05 00:00:00+03:00</td>\n",
       "      <td>in</td>\n",
       "      <td>False</td>\n",
       "      <td>&lt;NA&gt;</td>\n",
       "      <td>True</td>\n",
       "      <td>6</td>\n",
       "      <td>0</td>\n",
       "      <td>35</td>\n",
       "    </tr>\n",
       "    <tr>\n",
       "      <th>9</th>\n",
       "      <td>166377</td>\n",
       "      <td>2019-08-06 00:00:00+03:00</td>\n",
       "      <td>in</td>\n",
       "      <td>False</td>\n",
       "      <td>&lt;NA&gt;</td>\n",
       "      <td>True</td>\n",
       "      <td>4</td>\n",
       "      <td>0</td>\n",
       "      <td>62</td>\n",
       "    </tr>\n",
       "    <tr>\n",
       "      <th>17</th>\n",
       "      <td>166377</td>\n",
       "      <td>2019-08-07 00:00:00+03:00</td>\n",
       "      <td>in</td>\n",
       "      <td>False</td>\n",
       "      <td>&lt;NA&gt;</td>\n",
       "      <td>True</td>\n",
       "      <td>2</td>\n",
       "      <td>0</td>\n",
       "      <td>24</td>\n",
       "    </tr>\n",
       "    <tr>\n",
       "      <th>27</th>\n",
       "      <td>166377</td>\n",
       "      <td>2019-08-12 00:00:00+03:00</td>\n",
       "      <td>in</td>\n",
       "      <td>False</td>\n",
       "      <td>&lt;NA&gt;</td>\n",
       "      <td>True</td>\n",
       "      <td>2</td>\n",
       "      <td>0</td>\n",
       "      <td>34</td>\n",
       "    </tr>\n",
       "    <tr>\n",
       "      <th>...</th>\n",
       "      <td>...</td>\n",
       "      <td>...</td>\n",
       "      <td>...</td>\n",
       "      <td>...</td>\n",
       "      <td>...</td>\n",
       "      <td>...</td>\n",
       "      <td>...</td>\n",
       "      <td>...</td>\n",
       "      <td>...</td>\n",
       "    </tr>\n",
       "    <tr>\n",
       "      <th>53876</th>\n",
       "      <td>168601</td>\n",
       "      <td>2019-11-27 00:00:00+03:00</td>\n",
       "      <td>in</td>\n",
       "      <td>False</td>\n",
       "      <td>&lt;NA&gt;</td>\n",
       "      <td>True</td>\n",
       "      <td>2</td>\n",
       "      <td>0</td>\n",
       "      <td>39</td>\n",
       "    </tr>\n",
       "    <tr>\n",
       "      <th>53880</th>\n",
       "      <td>168601</td>\n",
       "      <td>2019-11-28 00:00:00+03:00</td>\n",
       "      <td>in</td>\n",
       "      <td>False</td>\n",
       "      <td>&lt;NA&gt;</td>\n",
       "      <td>True</td>\n",
       "      <td>1</td>\n",
       "      <td>0</td>\n",
       "      <td>19</td>\n",
       "    </tr>\n",
       "    <tr>\n",
       "      <th>53889</th>\n",
       "      <td>168603</td>\n",
       "      <td>2019-11-28 00:00:00+03:00</td>\n",
       "      <td>in</td>\n",
       "      <td>False</td>\n",
       "      <td>&lt;NA&gt;</td>\n",
       "      <td>True</td>\n",
       "      <td>1</td>\n",
       "      <td>0</td>\n",
       "      <td>30</td>\n",
       "    </tr>\n",
       "    <tr>\n",
       "      <th>53893</th>\n",
       "      <td>168606</td>\n",
       "      <td>2019-11-08 00:00:00+03:00</td>\n",
       "      <td>in</td>\n",
       "      <td>False</td>\n",
       "      <td>&lt;NA&gt;</td>\n",
       "      <td>True</td>\n",
       "      <td>6</td>\n",
       "      <td>0</td>\n",
       "      <td>121</td>\n",
       "    </tr>\n",
       "    <tr>\n",
       "      <th>53901</th>\n",
       "      <td>168606</td>\n",
       "      <td>2019-11-19 00:00:00+03:00</td>\n",
       "      <td>in</td>\n",
       "      <td>False</td>\n",
       "      <td>&lt;NA&gt;</td>\n",
       "      <td>True</td>\n",
       "      <td>2</td>\n",
       "      <td>0</td>\n",
       "      <td>64</td>\n",
       "    </tr>\n",
       "  </tbody>\n",
       "</table>\n",
       "<p>8172 rows × 9 columns</p>\n",
       "</div>"
      ],
      "text/plain": [
       "       user_id                      date direction internal  operator_id  \\\n",
       "0       166377 2019-08-04 00:00:00+03:00        in    False         <NA>   \n",
       "7       166377 2019-08-05 00:00:00+03:00        in    False         <NA>   \n",
       "9       166377 2019-08-06 00:00:00+03:00        in    False         <NA>   \n",
       "17      166377 2019-08-07 00:00:00+03:00        in    False         <NA>   \n",
       "27      166377 2019-08-12 00:00:00+03:00        in    False         <NA>   \n",
       "...        ...                       ...       ...      ...          ...   \n",
       "53876   168601 2019-11-27 00:00:00+03:00        in    False         <NA>   \n",
       "53880   168601 2019-11-28 00:00:00+03:00        in    False         <NA>   \n",
       "53889   168603 2019-11-28 00:00:00+03:00        in    False         <NA>   \n",
       "53893   168606 2019-11-08 00:00:00+03:00        in    False         <NA>   \n",
       "53901   168606 2019-11-19 00:00:00+03:00        in    False         <NA>   \n",
       "\n",
       "       is_missed_call  calls_count  call_duration  total_call_duration  \n",
       "0                True            2              0                    4  \n",
       "7                True            6              0                   35  \n",
       "9                True            4              0                   62  \n",
       "17               True            2              0                   24  \n",
       "27               True            2              0                   34  \n",
       "...               ...          ...            ...                  ...  \n",
       "53876            True            2              0                   39  \n",
       "53880            True            1              0                   19  \n",
       "53889            True            1              0                   30  \n",
       "53893            True            6              0                  121  \n",
       "53901            True            2              0                   64  \n",
       "\n",
       "[8172 rows x 9 columns]"
      ]
     },
     "execution_count": 18,
     "metadata": {},
     "output_type": "execute_result"
    }
   ],
   "source": [
    "# verificar que todos los valores ausentes de operator_id \n",
    "values_nan_operator = calls[calls['operator_id'].isna()]\n",
    "values_nan_operator"
   ]
  },
  {
   "cell_type": "code",
   "execution_count": 19,
   "metadata": {},
   "outputs": [
    {
     "data": {
      "text/html": [
       "<div>\n",
       "<style scoped>\n",
       "    .dataframe tbody tr th:only-of-type {\n",
       "        vertical-align: middle;\n",
       "    }\n",
       "\n",
       "    .dataframe tbody tr th {\n",
       "        vertical-align: top;\n",
       "    }\n",
       "\n",
       "    .dataframe thead th {\n",
       "        text-align: right;\n",
       "    }\n",
       "</style>\n",
       "<table border=\"1\" class=\"dataframe\">\n",
       "  <thead>\n",
       "    <tr style=\"text-align: right;\">\n",
       "      <th></th>\n",
       "      <th>user_id</th>\n",
       "      <th>date</th>\n",
       "      <th>direction</th>\n",
       "      <th>internal</th>\n",
       "      <th>operator_id</th>\n",
       "      <th>is_missed_call</th>\n",
       "      <th>calls_count</th>\n",
       "      <th>call_duration</th>\n",
       "      <th>total_call_duration</th>\n",
       "    </tr>\n",
       "  </thead>\n",
       "  <tbody>\n",
       "    <tr>\n",
       "      <th>0</th>\n",
       "      <td>166377</td>\n",
       "      <td>2019-08-04 00:00:00+03:00</td>\n",
       "      <td>in</td>\n",
       "      <td>False</td>\n",
       "      <td>&lt;NA&gt;</td>\n",
       "      <td>True</td>\n",
       "      <td>2</td>\n",
       "      <td>0</td>\n",
       "      <td>4</td>\n",
       "    </tr>\n",
       "    <tr>\n",
       "      <th>7</th>\n",
       "      <td>166377</td>\n",
       "      <td>2019-08-05 00:00:00+03:00</td>\n",
       "      <td>in</td>\n",
       "      <td>False</td>\n",
       "      <td>&lt;NA&gt;</td>\n",
       "      <td>True</td>\n",
       "      <td>6</td>\n",
       "      <td>0</td>\n",
       "      <td>35</td>\n",
       "    </tr>\n",
       "    <tr>\n",
       "      <th>9</th>\n",
       "      <td>166377</td>\n",
       "      <td>2019-08-06 00:00:00+03:00</td>\n",
       "      <td>in</td>\n",
       "      <td>False</td>\n",
       "      <td>&lt;NA&gt;</td>\n",
       "      <td>True</td>\n",
       "      <td>4</td>\n",
       "      <td>0</td>\n",
       "      <td>62</td>\n",
       "    </tr>\n",
       "    <tr>\n",
       "      <th>17</th>\n",
       "      <td>166377</td>\n",
       "      <td>2019-08-07 00:00:00+03:00</td>\n",
       "      <td>in</td>\n",
       "      <td>False</td>\n",
       "      <td>&lt;NA&gt;</td>\n",
       "      <td>True</td>\n",
       "      <td>2</td>\n",
       "      <td>0</td>\n",
       "      <td>24</td>\n",
       "    </tr>\n",
       "    <tr>\n",
       "      <th>27</th>\n",
       "      <td>166377</td>\n",
       "      <td>2019-08-12 00:00:00+03:00</td>\n",
       "      <td>in</td>\n",
       "      <td>False</td>\n",
       "      <td>&lt;NA&gt;</td>\n",
       "      <td>True</td>\n",
       "      <td>2</td>\n",
       "      <td>0</td>\n",
       "      <td>34</td>\n",
       "    </tr>\n",
       "    <tr>\n",
       "      <th>...</th>\n",
       "      <td>...</td>\n",
       "      <td>...</td>\n",
       "      <td>...</td>\n",
       "      <td>...</td>\n",
       "      <td>...</td>\n",
       "      <td>...</td>\n",
       "      <td>...</td>\n",
       "      <td>...</td>\n",
       "      <td>...</td>\n",
       "    </tr>\n",
       "    <tr>\n",
       "      <th>53876</th>\n",
       "      <td>168601</td>\n",
       "      <td>2019-11-27 00:00:00+03:00</td>\n",
       "      <td>in</td>\n",
       "      <td>False</td>\n",
       "      <td>&lt;NA&gt;</td>\n",
       "      <td>True</td>\n",
       "      <td>2</td>\n",
       "      <td>0</td>\n",
       "      <td>39</td>\n",
       "    </tr>\n",
       "    <tr>\n",
       "      <th>53880</th>\n",
       "      <td>168601</td>\n",
       "      <td>2019-11-28 00:00:00+03:00</td>\n",
       "      <td>in</td>\n",
       "      <td>False</td>\n",
       "      <td>&lt;NA&gt;</td>\n",
       "      <td>True</td>\n",
       "      <td>1</td>\n",
       "      <td>0</td>\n",
       "      <td>19</td>\n",
       "    </tr>\n",
       "    <tr>\n",
       "      <th>53889</th>\n",
       "      <td>168603</td>\n",
       "      <td>2019-11-28 00:00:00+03:00</td>\n",
       "      <td>in</td>\n",
       "      <td>False</td>\n",
       "      <td>&lt;NA&gt;</td>\n",
       "      <td>True</td>\n",
       "      <td>1</td>\n",
       "      <td>0</td>\n",
       "      <td>30</td>\n",
       "    </tr>\n",
       "    <tr>\n",
       "      <th>53893</th>\n",
       "      <td>168606</td>\n",
       "      <td>2019-11-08 00:00:00+03:00</td>\n",
       "      <td>in</td>\n",
       "      <td>False</td>\n",
       "      <td>&lt;NA&gt;</td>\n",
       "      <td>True</td>\n",
       "      <td>6</td>\n",
       "      <td>0</td>\n",
       "      <td>121</td>\n",
       "    </tr>\n",
       "    <tr>\n",
       "      <th>53901</th>\n",
       "      <td>168606</td>\n",
       "      <td>2019-11-19 00:00:00+03:00</td>\n",
       "      <td>in</td>\n",
       "      <td>False</td>\n",
       "      <td>&lt;NA&gt;</td>\n",
       "      <td>True</td>\n",
       "      <td>2</td>\n",
       "      <td>0</td>\n",
       "      <td>64</td>\n",
       "    </tr>\n",
       "  </tbody>\n",
       "</table>\n",
       "<p>8050 rows × 9 columns</p>\n",
       "</div>"
      ],
      "text/plain": [
       "       user_id                      date direction internal  operator_id  \\\n",
       "0       166377 2019-08-04 00:00:00+03:00        in    False         <NA>   \n",
       "7       166377 2019-08-05 00:00:00+03:00        in    False         <NA>   \n",
       "9       166377 2019-08-06 00:00:00+03:00        in    False         <NA>   \n",
       "17      166377 2019-08-07 00:00:00+03:00        in    False         <NA>   \n",
       "27      166377 2019-08-12 00:00:00+03:00        in    False         <NA>   \n",
       "...        ...                       ...       ...      ...          ...   \n",
       "53876   168601 2019-11-27 00:00:00+03:00        in    False         <NA>   \n",
       "53880   168601 2019-11-28 00:00:00+03:00        in    False         <NA>   \n",
       "53889   168603 2019-11-28 00:00:00+03:00        in    False         <NA>   \n",
       "53893   168606 2019-11-08 00:00:00+03:00        in    False         <NA>   \n",
       "53901   168606 2019-11-19 00:00:00+03:00        in    False         <NA>   \n",
       "\n",
       "       is_missed_call  calls_count  call_duration  total_call_duration  \n",
       "0                True            2              0                    4  \n",
       "7                True            6              0                   35  \n",
       "9                True            4              0                   62  \n",
       "17               True            2              0                   24  \n",
       "27               True            2              0                   34  \n",
       "...               ...          ...            ...                  ...  \n",
       "53876            True            2              0                   39  \n",
       "53880            True            1              0                   19  \n",
       "53889            True            1              0                   30  \n",
       "53893            True            6              0                  121  \n",
       "53901            True            2              0                   64  \n",
       "\n",
       "[8050 rows x 9 columns]"
      ]
     },
     "execution_count": 19,
     "metadata": {},
     "output_type": "execute_result"
    }
   ],
   "source": [
    "# confirmar que las llamadas sin operador sean por que fueron llamadas entrantes perdidas\n",
    "values_nan_operator[values_nan_operator['is_missed_call'] == True]"
   ]
  },
  {
   "cell_type": "code",
   "execution_count": 20,
   "metadata": {},
   "outputs": [
    {
     "data": {
      "text/html": [
       "<div>\n",
       "<style scoped>\n",
       "    .dataframe tbody tr th:only-of-type {\n",
       "        vertical-align: middle;\n",
       "    }\n",
       "\n",
       "    .dataframe tbody tr th {\n",
       "        vertical-align: top;\n",
       "    }\n",
       "\n",
       "    .dataframe thead th {\n",
       "        text-align: right;\n",
       "    }\n",
       "</style>\n",
       "<table border=\"1\" class=\"dataframe\">\n",
       "  <thead>\n",
       "    <tr style=\"text-align: right;\">\n",
       "      <th></th>\n",
       "      <th>user_id</th>\n",
       "      <th>date</th>\n",
       "      <th>direction</th>\n",
       "      <th>internal</th>\n",
       "      <th>operator_id</th>\n",
       "      <th>is_missed_call</th>\n",
       "      <th>calls_count</th>\n",
       "      <th>call_duration</th>\n",
       "      <th>total_call_duration</th>\n",
       "    </tr>\n",
       "  </thead>\n",
       "  <tbody>\n",
       "    <tr>\n",
       "      <th>0</th>\n",
       "      <td>166377</td>\n",
       "      <td>2019-08-04 00:00:00+03:00</td>\n",
       "      <td>in</td>\n",
       "      <td>False</td>\n",
       "      <td>&lt;NA&gt;</td>\n",
       "      <td>True</td>\n",
       "      <td>2</td>\n",
       "      <td>0</td>\n",
       "      <td>4</td>\n",
       "    </tr>\n",
       "    <tr>\n",
       "      <th>7</th>\n",
       "      <td>166377</td>\n",
       "      <td>2019-08-05 00:00:00+03:00</td>\n",
       "      <td>in</td>\n",
       "      <td>False</td>\n",
       "      <td>&lt;NA&gt;</td>\n",
       "      <td>True</td>\n",
       "      <td>6</td>\n",
       "      <td>0</td>\n",
       "      <td>35</td>\n",
       "    </tr>\n",
       "    <tr>\n",
       "      <th>9</th>\n",
       "      <td>166377</td>\n",
       "      <td>2019-08-06 00:00:00+03:00</td>\n",
       "      <td>in</td>\n",
       "      <td>False</td>\n",
       "      <td>&lt;NA&gt;</td>\n",
       "      <td>True</td>\n",
       "      <td>4</td>\n",
       "      <td>0</td>\n",
       "      <td>62</td>\n",
       "    </tr>\n",
       "    <tr>\n",
       "      <th>17</th>\n",
       "      <td>166377</td>\n",
       "      <td>2019-08-07 00:00:00+03:00</td>\n",
       "      <td>in</td>\n",
       "      <td>False</td>\n",
       "      <td>&lt;NA&gt;</td>\n",
       "      <td>True</td>\n",
       "      <td>2</td>\n",
       "      <td>0</td>\n",
       "      <td>24</td>\n",
       "    </tr>\n",
       "    <tr>\n",
       "      <th>27</th>\n",
       "      <td>166377</td>\n",
       "      <td>2019-08-12 00:00:00+03:00</td>\n",
       "      <td>in</td>\n",
       "      <td>False</td>\n",
       "      <td>&lt;NA&gt;</td>\n",
       "      <td>True</td>\n",
       "      <td>2</td>\n",
       "      <td>0</td>\n",
       "      <td>34</td>\n",
       "    </tr>\n",
       "    <tr>\n",
       "      <th>...</th>\n",
       "      <td>...</td>\n",
       "      <td>...</td>\n",
       "      <td>...</td>\n",
       "      <td>...</td>\n",
       "      <td>...</td>\n",
       "      <td>...</td>\n",
       "      <td>...</td>\n",
       "      <td>...</td>\n",
       "      <td>...</td>\n",
       "    </tr>\n",
       "    <tr>\n",
       "      <th>53876</th>\n",
       "      <td>168601</td>\n",
       "      <td>2019-11-27 00:00:00+03:00</td>\n",
       "      <td>in</td>\n",
       "      <td>False</td>\n",
       "      <td>&lt;NA&gt;</td>\n",
       "      <td>True</td>\n",
       "      <td>2</td>\n",
       "      <td>0</td>\n",
       "      <td>39</td>\n",
       "    </tr>\n",
       "    <tr>\n",
       "      <th>53880</th>\n",
       "      <td>168601</td>\n",
       "      <td>2019-11-28 00:00:00+03:00</td>\n",
       "      <td>in</td>\n",
       "      <td>False</td>\n",
       "      <td>&lt;NA&gt;</td>\n",
       "      <td>True</td>\n",
       "      <td>1</td>\n",
       "      <td>0</td>\n",
       "      <td>19</td>\n",
       "    </tr>\n",
       "    <tr>\n",
       "      <th>53889</th>\n",
       "      <td>168603</td>\n",
       "      <td>2019-11-28 00:00:00+03:00</td>\n",
       "      <td>in</td>\n",
       "      <td>False</td>\n",
       "      <td>&lt;NA&gt;</td>\n",
       "      <td>True</td>\n",
       "      <td>1</td>\n",
       "      <td>0</td>\n",
       "      <td>30</td>\n",
       "    </tr>\n",
       "    <tr>\n",
       "      <th>53893</th>\n",
       "      <td>168606</td>\n",
       "      <td>2019-11-08 00:00:00+03:00</td>\n",
       "      <td>in</td>\n",
       "      <td>False</td>\n",
       "      <td>&lt;NA&gt;</td>\n",
       "      <td>True</td>\n",
       "      <td>6</td>\n",
       "      <td>0</td>\n",
       "      <td>121</td>\n",
       "    </tr>\n",
       "    <tr>\n",
       "      <th>53901</th>\n",
       "      <td>168606</td>\n",
       "      <td>2019-11-19 00:00:00+03:00</td>\n",
       "      <td>in</td>\n",
       "      <td>False</td>\n",
       "      <td>&lt;NA&gt;</td>\n",
       "      <td>True</td>\n",
       "      <td>2</td>\n",
       "      <td>0</td>\n",
       "      <td>64</td>\n",
       "    </tr>\n",
       "  </tbody>\n",
       "</table>\n",
       "<p>7899 rows × 9 columns</p>\n",
       "</div>"
      ],
      "text/plain": [
       "       user_id                      date direction internal  operator_id  \\\n",
       "0       166377 2019-08-04 00:00:00+03:00        in    False         <NA>   \n",
       "7       166377 2019-08-05 00:00:00+03:00        in    False         <NA>   \n",
       "9       166377 2019-08-06 00:00:00+03:00        in    False         <NA>   \n",
       "17      166377 2019-08-07 00:00:00+03:00        in    False         <NA>   \n",
       "27      166377 2019-08-12 00:00:00+03:00        in    False         <NA>   \n",
       "...        ...                       ...       ...      ...          ...   \n",
       "53876   168601 2019-11-27 00:00:00+03:00        in    False         <NA>   \n",
       "53880   168601 2019-11-28 00:00:00+03:00        in    False         <NA>   \n",
       "53889   168603 2019-11-28 00:00:00+03:00        in    False         <NA>   \n",
       "53893   168606 2019-11-08 00:00:00+03:00        in    False         <NA>   \n",
       "53901   168606 2019-11-19 00:00:00+03:00        in    False         <NA>   \n",
       "\n",
       "       is_missed_call  calls_count  call_duration  total_call_duration  \n",
       "0                True            2              0                    4  \n",
       "7                True            6              0                   35  \n",
       "9                True            4              0                   62  \n",
       "17               True            2              0                   24  \n",
       "27               True            2              0                   34  \n",
       "...               ...          ...            ...                  ...  \n",
       "53876            True            2              0                   39  \n",
       "53880            True            1              0                   19  \n",
       "53889            True            1              0                   30  \n",
       "53893            True            6              0                  121  \n",
       "53901            True            2              0                   64  \n",
       "\n",
       "[7899 rows x 9 columns]"
      ]
     },
     "execution_count": 20,
     "metadata": {},
     "output_type": "execute_result"
    }
   ],
   "source": [
    "# confirmar llamadas perdidas y entrantes\n",
    "values_nan_operator[(values_nan_operator['is_missed_call'] == True) & (values_nan_operator['direction'] == 'in')]"
   ]
  },
  {
   "cell_type": "code",
   "execution_count": 21,
   "metadata": {},
   "outputs": [
    {
     "data": {
      "text/html": [
       "<div>\n",
       "<style scoped>\n",
       "    .dataframe tbody tr th:only-of-type {\n",
       "        vertical-align: middle;\n",
       "    }\n",
       "\n",
       "    .dataframe tbody tr th {\n",
       "        vertical-align: top;\n",
       "    }\n",
       "\n",
       "    .dataframe thead th {\n",
       "        text-align: right;\n",
       "    }\n",
       "</style>\n",
       "<table border=\"1\" class=\"dataframe\">\n",
       "  <thead>\n",
       "    <tr style=\"text-align: right;\">\n",
       "      <th></th>\n",
       "      <th>user_id</th>\n",
       "      <th>date</th>\n",
       "      <th>direction</th>\n",
       "      <th>internal</th>\n",
       "      <th>operator_id</th>\n",
       "      <th>is_missed_call</th>\n",
       "      <th>calls_count</th>\n",
       "      <th>call_duration</th>\n",
       "      <th>total_call_duration</th>\n",
       "    </tr>\n",
       "  </thead>\n",
       "  <tbody>\n",
       "    <tr>\n",
       "      <th>4089</th>\n",
       "      <td>166503</td>\n",
       "      <td>2019-09-26 00:00:00+03:00</td>\n",
       "      <td>out</td>\n",
       "      <td>False</td>\n",
       "      <td>&lt;NA&gt;</td>\n",
       "      <td>False</td>\n",
       "      <td>1</td>\n",
       "      <td>213</td>\n",
       "      <td>220</td>\n",
       "    </tr>\n",
       "    <tr>\n",
       "      <th>4198</th>\n",
       "      <td>166503</td>\n",
       "      <td>2019-10-21 00:00:00+03:00</td>\n",
       "      <td>out</td>\n",
       "      <td>True</td>\n",
       "      <td>&lt;NA&gt;</td>\n",
       "      <td>False</td>\n",
       "      <td>2</td>\n",
       "      <td>382</td>\n",
       "      <td>397</td>\n",
       "    </tr>\n",
       "    <tr>\n",
       "      <th>43756</th>\n",
       "      <td>168018</td>\n",
       "      <td>2019-11-05 00:00:00+03:00</td>\n",
       "      <td>out</td>\n",
       "      <td>False</td>\n",
       "      <td>&lt;NA&gt;</td>\n",
       "      <td>False</td>\n",
       "      <td>1</td>\n",
       "      <td>978</td>\n",
       "      <td>984</td>\n",
       "    </tr>\n",
       "    <tr>\n",
       "      <th>43806</th>\n",
       "      <td>168018</td>\n",
       "      <td>2019-11-13 00:00:00+03:00</td>\n",
       "      <td>out</td>\n",
       "      <td>False</td>\n",
       "      <td>&lt;NA&gt;</td>\n",
       "      <td>False</td>\n",
       "      <td>1</td>\n",
       "      <td>585</td>\n",
       "      <td>598</td>\n",
       "    </tr>\n",
       "    <tr>\n",
       "      <th>43850</th>\n",
       "      <td>168018</td>\n",
       "      <td>2019-11-26 00:00:00+03:00</td>\n",
       "      <td>out</td>\n",
       "      <td>False</td>\n",
       "      <td>&lt;NA&gt;</td>\n",
       "      <td>False</td>\n",
       "      <td>1</td>\n",
       "      <td>229</td>\n",
       "      <td>246</td>\n",
       "    </tr>\n",
       "    <tr>\n",
       "      <th>50038</th>\n",
       "      <td>168252</td>\n",
       "      <td>2019-10-17 00:00:00+03:00</td>\n",
       "      <td>out</td>\n",
       "      <td>False</td>\n",
       "      <td>&lt;NA&gt;</td>\n",
       "      <td>False</td>\n",
       "      <td>1</td>\n",
       "      <td>69</td>\n",
       "      <td>79</td>\n",
       "    </tr>\n",
       "    <tr>\n",
       "      <th>50048</th>\n",
       "      <td>168252</td>\n",
       "      <td>2019-10-18 00:00:00+03:00</td>\n",
       "      <td>out</td>\n",
       "      <td>False</td>\n",
       "      <td>&lt;NA&gt;</td>\n",
       "      <td>False</td>\n",
       "      <td>1</td>\n",
       "      <td>170</td>\n",
       "      <td>177</td>\n",
       "    </tr>\n",
       "    <tr>\n",
       "      <th>50058</th>\n",
       "      <td>168252</td>\n",
       "      <td>2019-10-18 00:00:00+03:00</td>\n",
       "      <td>out</td>\n",
       "      <td>False</td>\n",
       "      <td>&lt;NA&gt;</td>\n",
       "      <td>False</td>\n",
       "      <td>1</td>\n",
       "      <td>170</td>\n",
       "      <td>177</td>\n",
       "    </tr>\n",
       "    <tr>\n",
       "      <th>50072</th>\n",
       "      <td>168252</td>\n",
       "      <td>2019-10-21 00:00:00+03:00</td>\n",
       "      <td>out</td>\n",
       "      <td>False</td>\n",
       "      <td>&lt;NA&gt;</td>\n",
       "      <td>False</td>\n",
       "      <td>1</td>\n",
       "      <td>60</td>\n",
       "      <td>68</td>\n",
       "    </tr>\n",
       "    <tr>\n",
       "      <th>50094</th>\n",
       "      <td>168252</td>\n",
       "      <td>2019-10-23 00:00:00+03:00</td>\n",
       "      <td>out</td>\n",
       "      <td>False</td>\n",
       "      <td>&lt;NA&gt;</td>\n",
       "      <td>False</td>\n",
       "      <td>1</td>\n",
       "      <td>81</td>\n",
       "      <td>100</td>\n",
       "    </tr>\n",
       "  </tbody>\n",
       "</table>\n",
       "</div>"
      ],
      "text/plain": [
       "       user_id                      date direction internal  operator_id  \\\n",
       "4089    166503 2019-09-26 00:00:00+03:00       out    False         <NA>   \n",
       "4198    166503 2019-10-21 00:00:00+03:00       out     True         <NA>   \n",
       "43756   168018 2019-11-05 00:00:00+03:00       out    False         <NA>   \n",
       "43806   168018 2019-11-13 00:00:00+03:00       out    False         <NA>   \n",
       "43850   168018 2019-11-26 00:00:00+03:00       out    False         <NA>   \n",
       "50038   168252 2019-10-17 00:00:00+03:00       out    False         <NA>   \n",
       "50048   168252 2019-10-18 00:00:00+03:00       out    False         <NA>   \n",
       "50058   168252 2019-10-18 00:00:00+03:00       out    False         <NA>   \n",
       "50072   168252 2019-10-21 00:00:00+03:00       out    False         <NA>   \n",
       "50094   168252 2019-10-23 00:00:00+03:00       out    False         <NA>   \n",
       "\n",
       "       is_missed_call  calls_count  call_duration  total_call_duration  \n",
       "4089            False            1            213                  220  \n",
       "4198            False            2            382                  397  \n",
       "43756           False            1            978                  984  \n",
       "43806           False            1            585                  598  \n",
       "43850           False            1            229                  246  \n",
       "50038           False            1             69                   79  \n",
       "50048           False            1            170                  177  \n",
       "50058           False            1            170                  177  \n",
       "50072           False            1             60                   68  \n",
       "50094           False            1             81                  100  "
      ]
     },
     "execution_count": 21,
     "metadata": {},
     "output_type": "execute_result"
    }
   ],
   "source": [
    "# llamadas perdidas con valores ausentes del operador\n",
    "out_value = values_nan_operator[(values_nan_operator['is_missed_call'] == False) & \n",
    "                                (values_nan_operator['direction'] == 'out')]\n",
    "out_value.head(10)"
   ]
  },
  {
   "cell_type": "code",
   "execution_count": 22,
   "metadata": {},
   "outputs": [
    {
     "name": "stdout",
     "output_type": "stream",
     "text": [
      "49\n"
     ]
    }
   ],
   "source": [
    "print(len(out_value))"
   ]
  },
  {
   "cell_type": "markdown",
   "metadata": {},
   "source": [
    "<span style=\"color:purple; font-weight:bold; font-size: 18px\">\n",
    "En cuanto a los valores ausentes en la columna operator_id se hallaron 8172 llamadas, de las cuales 8050 estan clasificadas como llamadas perdidas, lo que significa que el operador no respondio a estas, asimismo al revisar detalladamente la direccion y la llamada perdida, se encontro que el 7899 de estos valores son llamadas entrantes y perdidas. Por ultimo se hallaron 49 llamadas que no fueron perdidas pero fueron hechas por el operador hacia el cliente. \n",
    "De esta manera los valores ausentes en la columna operator_id son relevantes ya que cuentan con informacion como la duracion, la direccion y si son llamadas perdidas, por lo cual no es posible eliminarlos o rellenarlos con algun otro dato.\n",
    "</span>"
   ]
  },
  {
   "cell_type": "markdown",
   "metadata": {},
   "source": [
    "### Calcular porcentaje de valores ausentes ocupan dentro del DF"
   ]
  },
  {
   "cell_type": "code",
   "execution_count": 23,
   "metadata": {},
   "outputs": [
    {
     "name": "stdout",
     "output_type": "stream",
     "text": [
      "Valores ausentes en internal: 117\n",
      "Valores ausentes en operator_id: 8172\n"
     ]
    }
   ],
   "source": [
    "# sumar el total de valores por la columna internal\n",
    "internal_missing = calls['internal'].isna().sum()\n",
    "\n",
    "# sumar el total de valores por la columna operator\n",
    "operator_missing = calls['operator_id'].isna().sum()\n",
    "\n",
    "print(f\"Valores ausentes en internal: {internal_missing}\")\n",
    "print(f\"Valores ausentes en operator_id: {operator_missing}\")"
   ]
  },
  {
   "cell_type": "code",
   "execution_count": 24,
   "metadata": {},
   "outputs": [
    {
     "name": "stdout",
     "output_type": "stream",
     "text": [
      "Total de valores ausentes: 8289\n",
      "Porcentaje de valores ausentes: 15.38 %\n"
     ]
    }
   ],
   "source": [
    "# calcular el total de valores en el DF \n",
    "total_missing = internal_missing + operator_missing\n",
    "print(f\"Total de valores ausentes: {total_missing}\")\n",
    "\n",
    "# total de filas en el DF\n",
    "total_rows = len(calls)\n",
    "\n",
    "# calcular el porcentaje que representan los valores ausentes en el DF\n",
    "missing_percentage = (total_missing / total_rows) * 100\n",
    "print(\"Porcentaje de valores ausentes:\", missing_percentage.round(2),'%')"
   ]
  },
  {
   "cell_type": "markdown",
   "metadata": {},
   "source": [
    "<span style=\"color:purple; font-weight:bold; font-size: 18px\">\n",
    "Al calcular los valores ausentes se obtuvo un total de 8289 los cuales representan un 15 % del total de los datos.\n",
    "</span>"
   ]
  },
  {
   "cell_type": "markdown",
   "metadata": {},
   "source": [
    "## Enriquecer los datos del dataset Calls"
   ]
  },
  {
   "cell_type": "code",
   "execution_count": 25,
   "metadata": {},
   "outputs": [],
   "source": [
    "# crear columna con el tiempo de llamada sin tiempo de espera en minutos \n",
    "calls['call_duration_min'] = (calls['call_duration'] / 60).round(2)\n",
    "\n",
    "# crear columna con el tiempo de llamada sin tiempo de espera en minutos \n",
    "calls['total_call_duration_min'] = (calls['total_call_duration'] / 60).round(2)"
   ]
  },
  {
   "cell_type": "markdown",
   "metadata": {},
   "source": [
    "### Crear columnas para segmentar la fecha en dias, semanas y meses"
   ]
  },
  {
   "cell_type": "code",
   "execution_count": 26,
   "metadata": {},
   "outputs": [],
   "source": [
    "# segmentar la fecha en dias\n",
    "calls['calls_day'] = calls['date'].dt.day\n",
    "# segmentar la fecha en semanas\n",
    "calls['calls_week'] = calls['date'].dt.week\n",
    "# segmentar la fecha en meses\n",
    "calls['calls_month'] = calls['date'].dt.month"
   ]
  },
  {
   "cell_type": "markdown",
   "metadata": {},
   "source": [
    "### Valores atípicos "
   ]
  },
  {
   "cell_type": "code",
   "execution_count": 27,
   "metadata": {},
   "outputs": [
    {
     "data": {
      "image/png": "[encoded data removed]",
      "text/plain": [
       "<Figure size 1000x600 with 1 Axes>"
      ]
     },
     "metadata": {},
     "output_type": "display_data"
    }
   ],
   "source": [
    "# investigar valores atipicos del tiempo de llamadas\n",
    "with plt.style.context('ggplot'):\n",
    "    # crear boxplot\n",
    "    plt.figure(figsize=(10,6))\n",
    "    sns.boxplot(data=calls, x='call_duration_min')\n",
    "    \n",
    "    plt.title('Distribución de tiempo(en minutos) de llamadas Sin espera')\n",
    "    plt.xlabel('Tiempo total de duración de llamadas')\n",
    "              \n",
    "    plt.show()"
   ]
  },
  {
   "cell_type": "code",
   "execution_count": 28,
   "metadata": {
    "scrolled": false
   },
   "outputs": [
    {
     "data": {
      "image/png": "[encoded data removed]",
      "text/plain": [
       "<Figure size 1000x600 with 1 Axes>"
      ]
     },
     "metadata": {},
     "output_type": "display_data"
    }
   ],
   "source": [
    "# investigar valores atipicos del tiempo de llamadas\n",
    "with plt.style.context('ggplot'):\n",
    "    # crear boxplot\n",
    "    plt.figure(figsize=(10,6))\n",
    "    sns.boxplot(data=calls, x='total_call_duration_min')\n",
    "    \n",
    "    plt.title('Distribución total del tiempo(en minutos) de llamadas Con espera')\n",
    "    plt.xlabel('Tiempo total de duración de llamadas')\n",
    "              \n",
    "    plt.show()"
   ]
  },
  {
   "cell_type": "markdown",
   "metadata": {},
   "source": [
    "<span style=\"color:purple; font-weight:bold; font-size: 18px\">\n",
    "Al indagar mas sobre la distribucion de los tiempos de duración de las llamadas se encontro que existen muchos valores outliers, los cuales seran tratados mas adelante para realizar el analisis.\n",
    "</span>"
   ]
  },
  {
   "cell_type": "markdown",
   "metadata": {},
   "source": [
    "## Distribución de llamadas "
   ]
  },
  {
   "cell_type": "markdown",
   "metadata": {},
   "source": [
    "### Distribución de llamadas entrantes y salientes por día "
   ]
  },
  {
   "cell_type": "code",
   "execution_count": 29,
   "metadata": {},
   "outputs": [],
   "source": [
    "# agrupar llamadas al día por direccion de llamada\n",
    "direction_day = calls.groupby(['calls_day', 'direction'])['calls_count'].count().unstack()"
   ]
  },
  {
   "cell_type": "code",
   "execution_count": 30,
   "metadata": {},
   "outputs": [
    {
     "data": {
      "image/png": "[encoded data removed]",
      "text/plain": [
       "<Figure size 1000x600 with 1 Axes>"
      ]
     },
     "metadata": {},
     "output_type": "display_data"
    }
   ],
   "source": [
    "# Gráfico de llamadas entrantes y salientes por dia\n",
    "direction_day.plot(\n",
    "    kind='bar',\n",
    "    figsize=(10,6),\n",
    "    rot=1, \n",
    "    color=['orange', 'navy'])\n",
    "\n",
    "plt.title('Distribución de llamadas entrantes y salientes por día')\n",
    "plt.xlabel('Día')\n",
    "plt.ylabel('Total de llamadas')\n",
    "plt.legend(['In','Out'])\n",
    "plt.show()"
   ]
  },
  {
   "cell_type": "markdown",
   "metadata": {},
   "source": [
    "<span style=\"color:purple; font-weight:bold; font-size: 18px\">\n",
    "En el grafico anterior se observa la distribucion de llamadas entrantes y salientes por dia, en donde se observa que las llamadas salientes son mayores.\n",
    "</span>"
   ]
  },
  {
   "cell_type": "markdown",
   "metadata": {},
   "source": [
    "### Distribución de llamadas entrantes y salientes por semana"
   ]
  },
  {
   "cell_type": "code",
   "execution_count": 31,
   "metadata": {},
   "outputs": [],
   "source": [
    "# agrupar llamadas a la semana por direccion de llamada\n",
    "direction_week = calls.groupby(['calls_week', 'direction'])['calls_count'].count().unstack()"
   ]
  },
  {
   "cell_type": "code",
   "execution_count": 32,
   "metadata": {},
   "outputs": [
    {
     "data": {
      "image/png": "[encoded data removed]",
      "text/plain": [
       "<Figure size 1000x600 with 1 Axes>"
      ]
     },
     "metadata": {},
     "output_type": "display_data"
    }
   ],
   "source": [
    "# grafico de llamadas entrastes y salientes a la semana\n",
    "direction_week.plot(\n",
    "    kind='bar',\n",
    "    figsize=(10,6),\n",
    "    rot=1, \n",
    "    color=['darkgray', 'tan'])\n",
    "\n",
    "plt.title('Distribución de llamadas entrantes y salientes por semana')\n",
    "plt.xlabel('Semana')\n",
    "plt.ylabel('Total de llamadas')\n",
    "plt.legend(['In','Out'])\n",
    "plt.show()"
   ]
  },
  {
   "cell_type": "markdown",
   "metadata": {},
   "source": [
    "<span style=\"color:purple; font-weight:bold; font-size: 18px\">\n",
    "En este grafico se observa la cantidad de llamadas realizadas por semana, y de igual manera las llamadas salientes tienen una mayor presencia.\n",
    "</span>"
   ]
  },
  {
   "cell_type": "markdown",
   "metadata": {},
   "source": [
    "### Distribución de llamadas entrantes y salientes por mes "
   ]
  },
  {
   "cell_type": "code",
   "execution_count": 33,
   "metadata": {},
   "outputs": [],
   "source": [
    "# agrupar llamadas al mes por direccion de llamada\n",
    "direction_month = calls.groupby(['calls_month', 'direction'])['calls_count'].count().unstack()"
   ]
  },
  {
   "cell_type": "code",
   "execution_count": 34,
   "metadata": {},
   "outputs": [
    {
     "data": {
      "image/png": "[encoded data removed]",
      "text/plain": [
       "<Figure size 1000x600 with 1 Axes>"
      ]
     },
     "metadata": {},
     "output_type": "display_data"
    }
   ],
   "source": [
    "# Gráfico de llamadas entrantes y salientes por mes \n",
    "direction_month.plot(\n",
    "    kind='bar',\n",
    "    figsize=(10,6),\n",
    "    rot=1, \n",
    "    color=['aqua', 'teal'])\n",
    "\n",
    "plt.title('Distribución de llamadas entrantes y salientes por mes')\n",
    "plt.xlabel('Mes')\n",
    "plt.ylabel('Total de llamadas')\n",
    "plt.legend(['In','Out'])\n",
    "plt.show()"
   ]
  },
  {
   "cell_type": "markdown",
   "metadata": {},
   "source": [
    "<span style=\"color:purple; font-weight:bold; font-size: 18px\">\n",
    "En este ultimo grafico se hace nuevamente una comparación de las llamadas recibidas al mes y donde nuevamente las llamadas salientes son las que mayormente se realizan\n",
    "</span>"
   ]
  },
  {
   "cell_type": "markdown",
   "metadata": {},
   "source": [
    "## Distribución de llamadas salientes y entrantes por operador"
   ]
  },
  {
   "cell_type": "markdown",
   "metadata": {},
   "source": [
    "### Número de llamadas salientes (out) por operador al día "
   ]
  },
  {
   "cell_type": "code",
   "execution_count": 35,
   "metadata": {},
   "outputs": [],
   "source": [
    "# filtro llamadas Out \n",
    "call_out = calls.query('direction == \"out\"')\n",
    "\n",
    "# filtro llamadas In \n",
    "call_in = calls.query('direction == \"in\"')"
   ]
  },
  {
   "cell_type": "code",
   "execution_count": 36,
   "metadata": {},
   "outputs": [
    {
     "data": {
      "text/html": [
       "<div>\n",
       "<style scoped>\n",
       "    .dataframe tbody tr th:only-of-type {\n",
       "        vertical-align: middle;\n",
       "    }\n",
       "\n",
       "    .dataframe tbody tr th {\n",
       "        vertical-align: top;\n",
       "    }\n",
       "\n",
       "    .dataframe thead th {\n",
       "        text-align: right;\n",
       "    }\n",
       "</style>\n",
       "<table border=\"1\" class=\"dataframe\">\n",
       "  <thead>\n",
       "    <tr style=\"text-align: right;\">\n",
       "      <th></th>\n",
       "      <th>calls_day</th>\n",
       "      <th>operator_id</th>\n",
       "      <th>num_calls</th>\n",
       "    </tr>\n",
       "  </thead>\n",
       "  <tbody>\n",
       "    <tr>\n",
       "      <th>3424</th>\n",
       "      <td>11</td>\n",
       "      <td>929428</td>\n",
       "      <td>5029</td>\n",
       "    </tr>\n",
       "    <tr>\n",
       "      <th>10</th>\n",
       "      <td>1</td>\n",
       "      <td>885876</td>\n",
       "      <td>4360</td>\n",
       "    </tr>\n",
       "    <tr>\n",
       "      <th>7908</th>\n",
       "      <td>23</td>\n",
       "      <td>885876</td>\n",
       "      <td>3950</td>\n",
       "    </tr>\n",
       "    <tr>\n",
       "      <th>5202</th>\n",
       "      <td>16</td>\n",
       "      <td>885890</td>\n",
       "      <td>3349</td>\n",
       "    </tr>\n",
       "    <tr>\n",
       "      <th>2882</th>\n",
       "      <td>10</td>\n",
       "      <td>885876</td>\n",
       "      <td>3328</td>\n",
       "    </tr>\n",
       "    <tr>\n",
       "      <th>...</th>\n",
       "      <td>...</td>\n",
       "      <td>...</td>\n",
       "      <td>...</td>\n",
       "    </tr>\n",
       "    <tr>\n",
       "      <th>6719</th>\n",
       "      <td>20</td>\n",
       "      <td>900788</td>\n",
       "      <td>1</td>\n",
       "    </tr>\n",
       "    <tr>\n",
       "      <th>6718</th>\n",
       "      <td>20</td>\n",
       "      <td>900746</td>\n",
       "      <td>1</td>\n",
       "    </tr>\n",
       "    <tr>\n",
       "      <th>6717</th>\n",
       "      <td>20</td>\n",
       "      <td>900742</td>\n",
       "      <td>1</td>\n",
       "    </tr>\n",
       "    <tr>\n",
       "      <th>6716</th>\n",
       "      <td>20</td>\n",
       "      <td>900614</td>\n",
       "      <td>1</td>\n",
       "    </tr>\n",
       "    <tr>\n",
       "      <th>11307</th>\n",
       "      <td>31</td>\n",
       "      <td>952114</td>\n",
       "      <td>1</td>\n",
       "    </tr>\n",
       "  </tbody>\n",
       "</table>\n",
       "<p>11308 rows × 3 columns</p>\n",
       "</div>"
      ],
      "text/plain": [
       "       calls_day  operator_id  num_calls\n",
       "3424          11       929428       5029\n",
       "10             1       885876       4360\n",
       "7908          23       885876       3950\n",
       "5202          16       885890       3349\n",
       "2882          10       885876       3328\n",
       "...          ...          ...        ...\n",
       "6719          20       900788          1\n",
       "6718          20       900746          1\n",
       "6717          20       900742          1\n",
       "6716          20       900614          1\n",
       "11307         31       952114          1\n",
       "\n",
       "[11308 rows x 3 columns]"
      ]
     },
     "execution_count": 36,
     "metadata": {},
     "output_type": "execute_result"
    }
   ],
   "source": [
    "# calcular el numero de llamadas salientes que realizo el operador por dia \n",
    "calls_operator_day = call_out.groupby([\n",
    "    'calls_day', 'operator_id'])['calls_count'].sum().reset_index(name='num_calls')\n",
    "# ordenar descendentemente\n",
    "calls_operator_day.sort_values(by='num_calls', ascending=False)"
   ]
  },
  {
   "cell_type": "code",
   "execution_count": 37,
   "metadata": {},
   "outputs": [
    {
     "data": {
      "image/png": "[encoded data removed]",
      "text/plain": [
       "<Figure size 1000x600 with 1 Axes>"
      ]
     },
     "metadata": {},
     "output_type": "display_data"
    }
   ],
   "source": [
    "# grafico de llamadas salientes por operador al dia\n",
    "plt.figure(figsize=(10,6))\n",
    "sns.scatterplot(\n",
    "    x='calls_day',\n",
    "    y='num_calls',\n",
    "    data= calls_operator_day,\n",
    "    hue='operator_id',\n",
    "    palette='autumn', \n",
    "    legend=False)\n",
    "plt.title('Número de llamadas salientes realizadas por operador por día')\n",
    "plt.xlabel('Días')\n",
    "plt.ylabel('Número de llamadas')\n",
    "\n",
    "plt.show()"
   ]
  },
  {
   "cell_type": "markdown",
   "metadata": {},
   "source": [
    "<span style=\"color:purple; font-weight:bold; font-size: 18px\">\n",
    "En este grafico de dispersión se muestra el numero de llamadas salientes por dia y por operador, en el se puede observar que la gran parte de los datos se encuentran por debajo de las 1000 llamadas y solo algunos operadores lograron superar este umbral\n",
    "</span>"
   ]
  },
  {
   "cell_type": "markdown",
   "metadata": {},
   "source": [
    "### Número de llamadas salientes (out) por operador a la semana"
   ]
  },
  {
   "cell_type": "code",
   "execution_count": 38,
   "metadata": {},
   "outputs": [
    {
     "data": {
      "text/html": [
       "<div>\n",
       "<style scoped>\n",
       "    .dataframe tbody tr th:only-of-type {\n",
       "        vertical-align: middle;\n",
       "    }\n",
       "\n",
       "    .dataframe tbody tr th {\n",
       "        vertical-align: top;\n",
       "    }\n",
       "\n",
       "    .dataframe thead th {\n",
       "        text-align: right;\n",
       "    }\n",
       "</style>\n",
       "<table border=\"1\" class=\"dataframe\">\n",
       "  <thead>\n",
       "    <tr style=\"text-align: right;\">\n",
       "      <th></th>\n",
       "      <th>calls_week</th>\n",
       "      <th>operator_id</th>\n",
       "      <th>num_calls</th>\n",
       "    </tr>\n",
       "  </thead>\n",
       "  <tbody>\n",
       "    <tr>\n",
       "      <th>690</th>\n",
       "      <td>39</td>\n",
       "      <td>885876</td>\n",
       "      <td>11062</td>\n",
       "    </tr>\n",
       "    <tr>\n",
       "      <th>342</th>\n",
       "      <td>37</td>\n",
       "      <td>885876</td>\n",
       "      <td>9141</td>\n",
       "    </tr>\n",
       "    <tr>\n",
       "      <th>1443</th>\n",
       "      <td>41</td>\n",
       "      <td>925922</td>\n",
       "      <td>8701</td>\n",
       "    </tr>\n",
       "    <tr>\n",
       "      <th>507</th>\n",
       "      <td>38</td>\n",
       "      <td>885876</td>\n",
       "      <td>8286</td>\n",
       "    </tr>\n",
       "    <tr>\n",
       "      <th>936</th>\n",
       "      <td>40</td>\n",
       "      <td>885876</td>\n",
       "      <td>8163</td>\n",
       "    </tr>\n",
       "    <tr>\n",
       "      <th>...</th>\n",
       "      <td>...</td>\n",
       "      <td>...</td>\n",
       "      <td>...</td>\n",
       "    </tr>\n",
       "    <tr>\n",
       "      <th>2798</th>\n",
       "      <td>45</td>\n",
       "      <td>920902</td>\n",
       "      <td>1</td>\n",
       "    </tr>\n",
       "    <tr>\n",
       "      <th>4147</th>\n",
       "      <td>48</td>\n",
       "      <td>927142</td>\n",
       "      <td>1</td>\n",
       "    </tr>\n",
       "    <tr>\n",
       "      <th>2799</th>\n",
       "      <td>45</td>\n",
       "      <td>921102</td>\n",
       "      <td>1</td>\n",
       "    </tr>\n",
       "    <tr>\n",
       "      <th>1264</th>\n",
       "      <td>41</td>\n",
       "      <td>900592</td>\n",
       "      <td>1</td>\n",
       "    </tr>\n",
       "    <tr>\n",
       "      <th>2941</th>\n",
       "      <td>45</td>\n",
       "      <td>940828</td>\n",
       "      <td>1</td>\n",
       "    </tr>\n",
       "  </tbody>\n",
       "</table>\n",
       "<p>4416 rows × 3 columns</p>\n",
       "</div>"
      ],
      "text/plain": [
       "      calls_week  operator_id  num_calls\n",
       "690           39       885876      11062\n",
       "342           37       885876       9141\n",
       "1443          41       925922       8701\n",
       "507           38       885876       8286\n",
       "936           40       885876       8163\n",
       "...          ...          ...        ...\n",
       "2798          45       920902          1\n",
       "4147          48       927142          1\n",
       "2799          45       921102          1\n",
       "1264          41       900592          1\n",
       "2941          45       940828          1\n",
       "\n",
       "[4416 rows x 3 columns]"
      ]
     },
     "execution_count": 38,
     "metadata": {},
     "output_type": "execute_result"
    }
   ],
   "source": [
    "# calcular el numero de llamadas salientes que realizo el operador por semana\n",
    "calls_operator_week = call_out.groupby([\n",
    "    'calls_week', 'operator_id'])['calls_count'].sum().reset_index(name='num_calls')\n",
    "# ordenar descendentemente\n",
    "calls_operator_week.sort_values(by='num_calls', ascending=False)"
   ]
  },
  {
   "cell_type": "code",
   "execution_count": 39,
   "metadata": {},
   "outputs": [
    {
     "data": {
      "image/png": "[encoded data removed]",
      "text/plain": [
       "<Figure size 1000x600 with 1 Axes>"
      ]
     },
     "metadata": {},
     "output_type": "display_data"
    }
   ],
   "source": [
    "# grafico de llamdas salientes por operador al dia\n",
    "plt.figure(figsize=(10,6))\n",
    "sns.scatterplot(\n",
    "    x='calls_week',\n",
    "    y='num_calls',\n",
    "    data= calls_operator_week, \n",
    "    hue='operator_id',\n",
    "    palette='brg', \n",
    "    legend=False)\n",
    "plt.title('Número de llamadas salientes realizadas por operador por semana')\n",
    "plt.xlabel('Número de semana')\n",
    "plt.ylabel('Números de llamadas')\n",
    "\n",
    "plt.show()"
   ]
  },
  {
   "cell_type": "markdown",
   "metadata": {},
   "source": [
    "<span style=\"color:purple; font-weight:bold; font-size: 18px\">\n",
    "En este otro grafico de dispersión se observa que en las semanas 40 a 45 se realizaron mas llamadas por los operadores, sin embargo, el numero de estas no rebasa las 2000 llamadas, solo algunos operadores puedieron superar las 8000  y solo 1 las 10,000.\n",
    "</span>"
   ]
  },
  {
   "cell_type": "markdown",
   "metadata": {},
   "source": [
    "### Número de llamadas salientes (out) por operador al mes"
   ]
  },
  {
   "cell_type": "code",
   "execution_count": 40,
   "metadata": {},
   "outputs": [
    {
     "data": {
      "text/html": [
       "<div>\n",
       "<style scoped>\n",
       "    .dataframe tbody tr th:only-of-type {\n",
       "        vertical-align: middle;\n",
       "    }\n",
       "\n",
       "    .dataframe tbody tr th {\n",
       "        vertical-align: top;\n",
       "    }\n",
       "\n",
       "    .dataframe thead th {\n",
       "        text-align: right;\n",
       "    }\n",
       "</style>\n",
       "<table border=\"1\" class=\"dataframe\">\n",
       "  <thead>\n",
       "    <tr style=\"text-align: right;\">\n",
       "      <th></th>\n",
       "      <th>calls_month</th>\n",
       "      <th>operator_id</th>\n",
       "      <th>num_calls</th>\n",
       "    </tr>\n",
       "  </thead>\n",
       "  <tbody>\n",
       "    <tr>\n",
       "      <th>133</th>\n",
       "      <td>9</td>\n",
       "      <td>885876</td>\n",
       "      <td>38601</td>\n",
       "    </tr>\n",
       "    <tr>\n",
       "      <th>134</th>\n",
       "      <td>9</td>\n",
       "      <td>885890</td>\n",
       "      <td>25599</td>\n",
       "    </tr>\n",
       "    <tr>\n",
       "      <th>478</th>\n",
       "      <td>10</td>\n",
       "      <td>885890</td>\n",
       "      <td>24686</td>\n",
       "    </tr>\n",
       "    <tr>\n",
       "      <th>802</th>\n",
       "      <td>10</td>\n",
       "      <td>925922</td>\n",
       "      <td>21754</td>\n",
       "    </tr>\n",
       "    <tr>\n",
       "      <th>640</th>\n",
       "      <td>10</td>\n",
       "      <td>908640</td>\n",
       "      <td>16571</td>\n",
       "    </tr>\n",
       "    <tr>\n",
       "      <th>...</th>\n",
       "      <td>...</td>\n",
       "      <td>...</td>\n",
       "      <td>...</td>\n",
       "    </tr>\n",
       "    <tr>\n",
       "      <th>948</th>\n",
       "      <td>10</td>\n",
       "      <td>940440</td>\n",
       "      <td>1</td>\n",
       "    </tr>\n",
       "    <tr>\n",
       "      <th>957</th>\n",
       "      <td>10</td>\n",
       "      <td>940610</td>\n",
       "      <td>1</td>\n",
       "    </tr>\n",
       "    <tr>\n",
       "      <th>965</th>\n",
       "      <td>10</td>\n",
       "      <td>940842</td>\n",
       "      <td>1</td>\n",
       "    </tr>\n",
       "    <tr>\n",
       "      <th>1342</th>\n",
       "      <td>11</td>\n",
       "      <td>936296</td>\n",
       "      <td>1</td>\n",
       "    </tr>\n",
       "    <tr>\n",
       "      <th>1459</th>\n",
       "      <td>11</td>\n",
       "      <td>944246</td>\n",
       "      <td>1</td>\n",
       "    </tr>\n",
       "  </tbody>\n",
       "</table>\n",
       "<p>1667 rows × 3 columns</p>\n",
       "</div>"
      ],
      "text/plain": [
       "      calls_month  operator_id  num_calls\n",
       "133             9       885876      38601\n",
       "134             9       885890      25599\n",
       "478            10       885890      24686\n",
       "802            10       925922      21754\n",
       "640            10       908640      16571\n",
       "...           ...          ...        ...\n",
       "948            10       940440          1\n",
       "957            10       940610          1\n",
       "965            10       940842          1\n",
       "1342           11       936296          1\n",
       "1459           11       944246          1\n",
       "\n",
       "[1667 rows x 3 columns]"
      ]
     },
     "execution_count": 40,
     "metadata": {},
     "output_type": "execute_result"
    }
   ],
   "source": [
    "# calcular el numero de llamadas salientes que realizo el operador por mes\n",
    "calls_operator_month = call_out.groupby([\n",
    "    'calls_month', 'operator_id'])['calls_count'].sum().reset_index(name='num_calls')\n",
    "# ordenar descendentemente\n",
    "calls_operator_month.sort_values(by='num_calls', ascending=False)"
   ]
  },
  {
   "cell_type": "code",
   "execution_count": 41,
   "metadata": {},
   "outputs": [
    {
     "data": {
      "image/png": "[encoded data removed]",
      "text/plain": [
       "<Figure size 1000x600 with 1 Axes>"
      ]
     },
     "metadata": {},
     "output_type": "display_data"
    }
   ],
   "source": [
    "# grafico de llamadas salientes por operador al dia\n",
    "plt.figure(figsize=(10,6))\n",
    "sns.scatterplot(\n",
    "    x='calls_month',\n",
    "    y='num_calls',\n",
    "    data= calls_operator_month,\n",
    "    hue='operator_id',\n",
    "    palette='crest',\n",
    "    legend=False)\n",
    "plt.title('Número de llamadas salientes realizadas por operador por mes')\n",
    "plt.xlabel('Mes')\n",
    "plt.ylabel('Número de llamadas')\n",
    "\n",
    "# Ajustar los ticks del eje x para eliminar decimales\n",
    "plt.xticks(ticks=range(int(calls_operator_month['calls_month'].min()), \n",
    "                       int(calls_operator_month['calls_month'].max()) + 1))\n",
    "\n",
    "plt.show()"
   ]
  },
  {
   "cell_type": "markdown",
   "metadata": {},
   "source": [
    "<span style=\"color:purple; font-weight:bold; font-size: 18px\">\n",
    "En este grafico se muestra el total de llamadas por mes por operador, en donde se observa claramente que el mes con mayor actividad es Noviembre, aunque en los meses anteriores se llegan a observar valores outliers, estos son minimos y no podrian marcar una gran diferencia en el análisis.\n",
    "</span>"
   ]
  },
  {
   "cell_type": "markdown",
   "metadata": {},
   "source": [
    "## Llamadas y tiempos generales por operador"
   ]
  },
  {
   "cell_type": "code",
   "execution_count": 42,
   "metadata": {},
   "outputs": [],
   "source": [
    "# crear DF con el total de llamadas, llamadas promedio y numero de llamadas perdidas por operador\n",
    "df_call = calls.groupby('operator_id').agg(\n",
    "    total_calls=('calls_count', 'sum'),\n",
    "    missed_calls=('is_missed_call', 'count'),\n",
    "    time_without_wait = ('call_duration_min', 'sum'),\n",
    "    time_with_wait = ('total_call_duration_min', sum)\n",
    ").reset_index()"
   ]
  },
  {
   "cell_type": "code",
   "execution_count": 43,
   "metadata": {},
   "outputs": [
    {
     "data": {
      "text/html": [
       "<div>\n",
       "<style scoped>\n",
       "    .dataframe tbody tr th:only-of-type {\n",
       "        vertical-align: middle;\n",
       "    }\n",
       "\n",
       "    .dataframe tbody tr th {\n",
       "        vertical-align: top;\n",
       "    }\n",
       "\n",
       "    .dataframe thead th {\n",
       "        text-align: right;\n",
       "    }\n",
       "</style>\n",
       "<table border=\"1\" class=\"dataframe\">\n",
       "  <thead>\n",
       "    <tr style=\"text-align: right;\">\n",
       "      <th></th>\n",
       "      <th>operator_id</th>\n",
       "      <th>total_calls</th>\n",
       "      <th>missed_calls</th>\n",
       "      <th>time_without_wait</th>\n",
       "      <th>time_with_wait</th>\n",
       "    </tr>\n",
       "  </thead>\n",
       "  <tbody>\n",
       "    <tr>\n",
       "      <th>0</th>\n",
       "      <td>879896</td>\n",
       "      <td>1131</td>\n",
       "      <td>128</td>\n",
       "      <td>1387.71</td>\n",
       "      <td>1623.74</td>\n",
       "    </tr>\n",
       "    <tr>\n",
       "      <th>1</th>\n",
       "      <td>879898</td>\n",
       "      <td>7974</td>\n",
       "      <td>251</td>\n",
       "      <td>4647.97</td>\n",
       "      <td>6530.84</td>\n",
       "    </tr>\n",
       "    <tr>\n",
       "      <th>2</th>\n",
       "      <td>880020</td>\n",
       "      <td>54</td>\n",
       "      <td>22</td>\n",
       "      <td>38.17</td>\n",
       "      <td>43.75</td>\n",
       "    </tr>\n",
       "    <tr>\n",
       "      <th>3</th>\n",
       "      <td>880022</td>\n",
       "      <td>219</td>\n",
       "      <td>76</td>\n",
       "      <td>305.03</td>\n",
       "      <td>377.98</td>\n",
       "    </tr>\n",
       "    <tr>\n",
       "      <th>4</th>\n",
       "      <td>880026</td>\n",
       "      <td>2439</td>\n",
       "      <td>198</td>\n",
       "      <td>2827.96</td>\n",
       "      <td>3227.75</td>\n",
       "    </tr>\n",
       "    <tr>\n",
       "      <th>...</th>\n",
       "      <td>...</td>\n",
       "      <td>...</td>\n",
       "      <td>...</td>\n",
       "      <td>...</td>\n",
       "      <td>...</td>\n",
       "    </tr>\n",
       "    <tr>\n",
       "      <th>1087</th>\n",
       "      <td>972410</td>\n",
       "      <td>77</td>\n",
       "      <td>4</td>\n",
       "      <td>62.95</td>\n",
       "      <td>87.91</td>\n",
       "    </tr>\n",
       "    <tr>\n",
       "      <th>1088</th>\n",
       "      <td>972412</td>\n",
       "      <td>61</td>\n",
       "      <td>5</td>\n",
       "      <td>58.30</td>\n",
       "      <td>75.80</td>\n",
       "    </tr>\n",
       "    <tr>\n",
       "      <th>1089</th>\n",
       "      <td>972460</td>\n",
       "      <td>70</td>\n",
       "      <td>9</td>\n",
       "      <td>38.68</td>\n",
       "      <td>52.03</td>\n",
       "    </tr>\n",
       "    <tr>\n",
       "      <th>1090</th>\n",
       "      <td>973120</td>\n",
       "      <td>3</td>\n",
       "      <td>2</td>\n",
       "      <td>0.08</td>\n",
       "      <td>0.42</td>\n",
       "    </tr>\n",
       "    <tr>\n",
       "      <th>1091</th>\n",
       "      <td>973286</td>\n",
       "      <td>2</td>\n",
       "      <td>1</td>\n",
       "      <td>0.28</td>\n",
       "      <td>1.75</td>\n",
       "    </tr>\n",
       "  </tbody>\n",
       "</table>\n",
       "<p>1092 rows × 5 columns</p>\n",
       "</div>"
      ],
      "text/plain": [
       "      operator_id  total_calls  missed_calls  time_without_wait  \\\n",
       "0          879896         1131           128            1387.71   \n",
       "1          879898         7974           251            4647.97   \n",
       "2          880020           54            22              38.17   \n",
       "3          880022          219            76             305.03   \n",
       "4          880026         2439           198            2827.96   \n",
       "...           ...          ...           ...                ...   \n",
       "1087       972410           77             4              62.95   \n",
       "1088       972412           61             5              58.30   \n",
       "1089       972460           70             9              38.68   \n",
       "1090       973120            3             2               0.08   \n",
       "1091       973286            2             1               0.28   \n",
       "\n",
       "      time_with_wait  \n",
       "0            1623.74  \n",
       "1            6530.84  \n",
       "2              43.75  \n",
       "3             377.98  \n",
       "4            3227.75  \n",
       "...              ...  \n",
       "1087           87.91  \n",
       "1088           75.80  \n",
       "1089           52.03  \n",
       "1090            0.42  \n",
       "1091            1.75  \n",
       "\n",
       "[1092 rows x 5 columns]"
      ]
     },
     "execution_count": 43,
     "metadata": {},
     "output_type": "execute_result"
    }
   ],
   "source": [
    "df_call"
   ]
  },
  {
   "cell_type": "code",
   "execution_count": 44,
   "metadata": {},
   "outputs": [],
   "source": [
    "# graficar las llamadas totales y las llamadas perdidas por operador al mes\n",
    "graf_missed_call = calls.groupby(['operator_id','direction','calls_month']).agg(\n",
    "    total_call = ('calls_count', 'sum'),\n",
    "    missed_call= ('is_missed_call', 'count')\n",
    ").reset_index()"
   ]
  },
  {
   "cell_type": "code",
   "execution_count": 45,
   "metadata": {},
   "outputs": [],
   "source": [
    "# usar el metodo melt para convertir el tipo de llamadas en una columna\n",
    "graf_melted = graf_missed_call.melt(\n",
    "    id_vars=['calls_month', 'direction'],\n",
    "    value_vars=['total_call', 'missed_call'],\n",
    "    var_name='call_type', \n",
    "    value_name='call_count'\n",
    ")"
   ]
  },
  {
   "cell_type": "code",
   "execution_count": 46,
   "metadata": {
    "scrolled": false
   },
   "outputs": [
    {
     "data": {
      "image/png": "[encoded data removed]",
      "text/plain": [
       "<Figure size 1000x600 with 1 Axes>"
      ]
     },
     "metadata": {},
     "output_type": "display_data"
    }
   ],
   "source": [
    "plt.figure(figsize=(10,6))\n",
    "\n",
    "sns.lineplot(\n",
    "    data=graf_melted, \n",
    "             x='calls_month',\n",
    "             y='call_count',\n",
    "             hue='call_type',\n",
    "             style='direction',\n",
    "             markers=True)\n",
    "\n",
    "plt.title(\"Tendencia de Llamadas Totales y Perdidas por Mes\")\n",
    "plt.xlabel(\"Mes\")\n",
    "plt.ylabel(\"Cantidad de Llamadas\")\n",
    "plt.legend(title=\"Tipo de Llamada / Dirección\")\n",
    "plt.xticks(rotation=45)\n",
    "plt.tight_layout()\n",
    "plt.show()"
   ]
  },
  {
   "cell_type": "markdown",
   "metadata": {},
   "source": [
    "<span style=\"color:purple; font-weight:bold; font-size: 18px\">\n",
    "En este grafico se muestra el total de llamadas y total de llamadas perdidas por direccion, en donde se observa que hay un gran numero de llamadas salientes y pocas llamadas entrantes a lo largo de los meses, mientras la cantidad de llamadas perdidas es minima y no se observan grandes diferencias entre llamadas salientes y entrantes.\n",
    "</span>"
   ]
  },
  {
   "cell_type": "markdown",
   "metadata": {},
   "source": [
    "### Llamadas entrantes (In) por operador"
   ]
  },
  {
   "cell_type": "code",
   "execution_count": 47,
   "metadata": {},
   "outputs": [],
   "source": [
    "df_call_in = call_in.groupby('operator_id').agg(\n",
    "    total_call_in = ('calls_count', 'sum'),\n",
    "    missed_call_in = ('is_missed_call', 'count'),\n",
    "    avg_without_wait = ('call_duration_min', 'mean'),\n",
    "    avg_with_wait = ('total_call_duration_min', 'mean')\n",
    ").reset_index()"
   ]
  },
  {
   "cell_type": "code",
   "execution_count": 48,
   "metadata": {},
   "outputs": [
    {
     "data": {
      "text/html": [
       "<div>\n",
       "<style scoped>\n",
       "    .dataframe tbody tr th:only-of-type {\n",
       "        vertical-align: middle;\n",
       "    }\n",
       "\n",
       "    .dataframe tbody tr th {\n",
       "        vertical-align: top;\n",
       "    }\n",
       "\n",
       "    .dataframe thead th {\n",
       "        text-align: right;\n",
       "    }\n",
       "</style>\n",
       "<table border=\"1\" class=\"dataframe\">\n",
       "  <thead>\n",
       "    <tr style=\"text-align: right;\">\n",
       "      <th></th>\n",
       "      <th>operator_id</th>\n",
       "      <th>total_call_in</th>\n",
       "      <th>missed_call_in</th>\n",
       "      <th>avg_without_wait</th>\n",
       "      <th>avg_with_wait</th>\n",
       "    </tr>\n",
       "  </thead>\n",
       "  <tbody>\n",
       "    <tr>\n",
       "      <th>0</th>\n",
       "      <td>879896</td>\n",
       "      <td>60</td>\n",
       "      <td>23</td>\n",
       "      <td>4.102609</td>\n",
       "      <td>4.551304</td>\n",
       "    </tr>\n",
       "    <tr>\n",
       "      <th>1</th>\n",
       "      <td>879898</td>\n",
       "      <td>118</td>\n",
       "      <td>64</td>\n",
       "      <td>1.837500</td>\n",
       "      <td>2.307031</td>\n",
       "    </tr>\n",
       "    <tr>\n",
       "      <th>2</th>\n",
       "      <td>880020</td>\n",
       "      <td>8</td>\n",
       "      <td>8</td>\n",
       "      <td>0.716250</td>\n",
       "      <td>0.840000</td>\n",
       "    </tr>\n",
       "    <tr>\n",
       "      <th>3</th>\n",
       "      <td>880022</td>\n",
       "      <td>8</td>\n",
       "      <td>8</td>\n",
       "      <td>1.066250</td>\n",
       "      <td>1.298750</td>\n",
       "    </tr>\n",
       "    <tr>\n",
       "      <th>4</th>\n",
       "      <td>880026</td>\n",
       "      <td>25</td>\n",
       "      <td>19</td>\n",
       "      <td>1.432105</td>\n",
       "      <td>1.563684</td>\n",
       "    </tr>\n",
       "    <tr>\n",
       "      <th>...</th>\n",
       "      <td>...</td>\n",
       "      <td>...</td>\n",
       "      <td>...</td>\n",
       "      <td>...</td>\n",
       "      <td>...</td>\n",
       "    </tr>\n",
       "    <tr>\n",
       "      <th>749</th>\n",
       "      <td>971102</td>\n",
       "      <td>78</td>\n",
       "      <td>5</td>\n",
       "      <td>35.428000</td>\n",
       "      <td>39.994000</td>\n",
       "    </tr>\n",
       "    <tr>\n",
       "      <th>750</th>\n",
       "      <td>971354</td>\n",
       "      <td>6</td>\n",
       "      <td>2</td>\n",
       "      <td>6.190000</td>\n",
       "      <td>6.895000</td>\n",
       "    </tr>\n",
       "    <tr>\n",
       "      <th>751</th>\n",
       "      <td>972412</td>\n",
       "      <td>1</td>\n",
       "      <td>1</td>\n",
       "      <td>2.000000</td>\n",
       "      <td>2.420000</td>\n",
       "    </tr>\n",
       "    <tr>\n",
       "      <th>752</th>\n",
       "      <td>972460</td>\n",
       "      <td>2</td>\n",
       "      <td>2</td>\n",
       "      <td>0.230000</td>\n",
       "      <td>0.300000</td>\n",
       "    </tr>\n",
       "    <tr>\n",
       "      <th>753</th>\n",
       "      <td>973286</td>\n",
       "      <td>2</td>\n",
       "      <td>1</td>\n",
       "      <td>0.280000</td>\n",
       "      <td>1.750000</td>\n",
       "    </tr>\n",
       "  </tbody>\n",
       "</table>\n",
       "<p>754 rows × 5 columns</p>\n",
       "</div>"
      ],
      "text/plain": [
       "     operator_id  total_call_in  missed_call_in  avg_without_wait  \\\n",
       "0         879896             60              23          4.102609   \n",
       "1         879898            118              64          1.837500   \n",
       "2         880020              8               8          0.716250   \n",
       "3         880022              8               8          1.066250   \n",
       "4         880026             25              19          1.432105   \n",
       "..           ...            ...             ...               ...   \n",
       "749       971102             78               5         35.428000   \n",
       "750       971354              6               2          6.190000   \n",
       "751       972412              1               1          2.000000   \n",
       "752       972460              2               2          0.230000   \n",
       "753       973286              2               1          0.280000   \n",
       "\n",
       "     avg_with_wait  \n",
       "0         4.551304  \n",
       "1         2.307031  \n",
       "2         0.840000  \n",
       "3         1.298750  \n",
       "4         1.563684  \n",
       "..             ...  \n",
       "749      39.994000  \n",
       "750       6.895000  \n",
       "751       2.420000  \n",
       "752       0.300000  \n",
       "753       1.750000  \n",
       "\n",
       "[754 rows x 5 columns]"
      ]
     },
     "execution_count": 48,
     "metadata": {},
     "output_type": "execute_result"
    }
   ],
   "source": [
    "df_call_in"
   ]
  },
  {
   "cell_type": "markdown",
   "metadata": {},
   "source": [
    "### Llamadas salientes (Out)  por operador "
   ]
  },
  {
   "cell_type": "code",
   "execution_count": 49,
   "metadata": {},
   "outputs": [],
   "source": [
    "df_call_out = call_out.groupby('operator_id').agg(\n",
    "    total_call_out = ('calls_count', 'sum'),\n",
    "    missed_call_out = ('is_missed_call', 'count'),\n",
    "    avg_without_wait = ('call_duration_min', 'mean'),\n",
    "    avg_with_wait = ('total_call_duration_min', 'mean')\n",
    ").reset_index()"
   ]
  },
  {
   "cell_type": "code",
   "execution_count": 50,
   "metadata": {},
   "outputs": [
    {
     "data": {
      "text/html": [
       "<div>\n",
       "<style scoped>\n",
       "    .dataframe tbody tr th:only-of-type {\n",
       "        vertical-align: middle;\n",
       "    }\n",
       "\n",
       "    .dataframe tbody tr th {\n",
       "        vertical-align: top;\n",
       "    }\n",
       "\n",
       "    .dataframe thead th {\n",
       "        text-align: right;\n",
       "    }\n",
       "</style>\n",
       "<table border=\"1\" class=\"dataframe\">\n",
       "  <thead>\n",
       "    <tr style=\"text-align: right;\">\n",
       "      <th></th>\n",
       "      <th>operator_id</th>\n",
       "      <th>total_call_out</th>\n",
       "      <th>missed_call_out</th>\n",
       "      <th>avg_without_wait</th>\n",
       "      <th>avg_with_wait</th>\n",
       "    </tr>\n",
       "  </thead>\n",
       "  <tbody>\n",
       "    <tr>\n",
       "      <th>0</th>\n",
       "      <td>879896</td>\n",
       "      <td>1071</td>\n",
       "      <td>105</td>\n",
       "      <td>12.317619</td>\n",
       "      <td>14.467238</td>\n",
       "    </tr>\n",
       "    <tr>\n",
       "      <th>1</th>\n",
       "      <td>879898</td>\n",
       "      <td>7856</td>\n",
       "      <td>187</td>\n",
       "      <td>24.226578</td>\n",
       "      <td>34.134706</td>\n",
       "    </tr>\n",
       "    <tr>\n",
       "      <th>2</th>\n",
       "      <td>880020</td>\n",
       "      <td>46</td>\n",
       "      <td>14</td>\n",
       "      <td>2.317143</td>\n",
       "      <td>2.645000</td>\n",
       "    </tr>\n",
       "    <tr>\n",
       "      <th>3</th>\n",
       "      <td>880022</td>\n",
       "      <td>211</td>\n",
       "      <td>68</td>\n",
       "      <td>4.360294</td>\n",
       "      <td>5.405735</td>\n",
       "    </tr>\n",
       "    <tr>\n",
       "      <th>4</th>\n",
       "      <td>880026</td>\n",
       "      <td>2414</td>\n",
       "      <td>179</td>\n",
       "      <td>15.646648</td>\n",
       "      <td>17.866145</td>\n",
       "    </tr>\n",
       "    <tr>\n",
       "      <th>...</th>\n",
       "      <td>...</td>\n",
       "      <td>...</td>\n",
       "      <td>...</td>\n",
       "      <td>...</td>\n",
       "      <td>...</td>\n",
       "    </tr>\n",
       "    <tr>\n",
       "      <th>877</th>\n",
       "      <td>972408</td>\n",
       "      <td>8</td>\n",
       "      <td>3</td>\n",
       "      <td>1.110000</td>\n",
       "      <td>1.526667</td>\n",
       "    </tr>\n",
       "    <tr>\n",
       "      <th>878</th>\n",
       "      <td>972410</td>\n",
       "      <td>77</td>\n",
       "      <td>4</td>\n",
       "      <td>15.737500</td>\n",
       "      <td>21.977500</td>\n",
       "    </tr>\n",
       "    <tr>\n",
       "      <th>879</th>\n",
       "      <td>972412</td>\n",
       "      <td>60</td>\n",
       "      <td>4</td>\n",
       "      <td>14.075000</td>\n",
       "      <td>18.345000</td>\n",
       "    </tr>\n",
       "    <tr>\n",
       "      <th>880</th>\n",
       "      <td>972460</td>\n",
       "      <td>68</td>\n",
       "      <td>7</td>\n",
       "      <td>5.460000</td>\n",
       "      <td>7.347143</td>\n",
       "    </tr>\n",
       "    <tr>\n",
       "      <th>881</th>\n",
       "      <td>973120</td>\n",
       "      <td>3</td>\n",
       "      <td>2</td>\n",
       "      <td>0.040000</td>\n",
       "      <td>0.210000</td>\n",
       "    </tr>\n",
       "  </tbody>\n",
       "</table>\n",
       "<p>882 rows × 5 columns</p>\n",
       "</div>"
      ],
      "text/plain": [
       "     operator_id  total_call_out  missed_call_out  avg_without_wait  \\\n",
       "0         879896            1071              105         12.317619   \n",
       "1         879898            7856              187         24.226578   \n",
       "2         880020              46               14          2.317143   \n",
       "3         880022             211               68          4.360294   \n",
       "4         880026            2414              179         15.646648   \n",
       "..           ...             ...              ...               ...   \n",
       "877       972408               8                3          1.110000   \n",
       "878       972410              77                4         15.737500   \n",
       "879       972412              60                4         14.075000   \n",
       "880       972460              68                7          5.460000   \n",
       "881       973120               3                2          0.040000   \n",
       "\n",
       "     avg_with_wait  \n",
       "0        14.467238  \n",
       "1        34.134706  \n",
       "2         2.645000  \n",
       "3         5.405735  \n",
       "4        17.866145  \n",
       "..             ...  \n",
       "877       1.526667  \n",
       "878      21.977500  \n",
       "879      18.345000  \n",
       "880       7.347143  \n",
       "881       0.210000  \n",
       "\n",
       "[882 rows x 5 columns]"
      ]
     },
     "execution_count": 50,
     "metadata": {},
     "output_type": "execute_result"
    }
   ],
   "source": [
    "df_call_out"
   ]
  },
  {
   "cell_type": "markdown",
   "metadata": {},
   "source": [
    "## Operadores ineficientes"
   ]
  },
  {
   "cell_type": "code",
   "execution_count": 51,
   "metadata": {},
   "outputs": [],
   "source": [
    "# calcular indice de ineficacia con: gran cantidad llamadas entrantes perdidas, tiempo prolongado para las llamadas\n",
    "# entrantes, numero reducido de llamadas salientes\n",
    "\n",
    "df_combinado = df_call_in.merge(df_call_out, \n",
    "                                   on='operator_id', \n",
    "                                   how='outer', \n",
    "                                suffixes=('_in', '_out'))"
   ]
  },
  {
   "cell_type": "code",
   "execution_count": 52,
   "metadata": {},
   "outputs": [],
   "source": [
    "# calcular la proporcion de llamadas entrantes perdidas\n",
    "df_combinado['missed_calls_ratio'] = df_combinado['missed_call_in'] / df_combinado['total_call_in']"
   ]
  },
  {
   "cell_type": "code",
   "execution_count": 53,
   "metadata": {},
   "outputs": [],
   "source": [
    "# calcular diferencia promedio de tiempo con y sin espera de llamadas entrantes\n",
    "df_combinado['wait_time_difference'] = df_combinado['avg_with_wait_in'] - df_combinado['avg_without_wait_in']"
   ]
  },
  {
   "cell_type": "code",
   "execution_count": 54,
   "metadata": {},
   "outputs": [],
   "source": [
    "# calcular el promedio total de llamadas salientes por operador\n",
    "total_mean_calls_out = df_combinado['total_call_out'].mean()\n",
    "\n",
    "# calcular la proporcion de llamadas salientes con respecto al promedio total\n",
    "df_combinado['calls_out_ratio'] = df_combinado['total_call_out'] / total_mean_calls_out"
   ]
  },
  {
   "cell_type": "code",
   "execution_count": 55,
   "metadata": {},
   "outputs": [],
   "source": [
    "# establecer pesos para las metricas segun la importancia relativa\n",
    "# peso para proporcion de llamadas perdidas\n",
    "w1 = 0.4\n",
    "# peso para la diferencia de tiempo de espera \n",
    "w2 = 0.4\n",
    "# peso para la proporcion de llamadas salientes\n",
    "w3 = 0.2"
   ]
  },
  {
   "cell_type": "code",
   "execution_count": 56,
   "metadata": {},
   "outputs": [],
   "source": [
    "# calcular el indice de ineficacia\n",
    "df_combinado['inefficiency_index'] = (\n",
    "    w1 * df_combinado['missed_calls_ratio'] +\n",
    "    w2 * df_combinado['wait_time_difference'] -\n",
    "    w3 * df_combinado['calls_out_ratio']\n",
    ")"
   ]
  },
  {
   "cell_type": "code",
   "execution_count": 57,
   "metadata": {},
   "outputs": [],
   "source": [
    "df_combinado = df_combinado.sort_values(by='inefficiency_index', ascending=False)"
   ]
  },
  {
   "cell_type": "code",
   "execution_count": 58,
   "metadata": {},
   "outputs": [
    {
     "data": {
      "text/html": [
       "<div>\n",
       "<style scoped>\n",
       "    .dataframe tbody tr th:only-of-type {\n",
       "        vertical-align: middle;\n",
       "    }\n",
       "\n",
       "    .dataframe tbody tr th {\n",
       "        vertical-align: top;\n",
       "    }\n",
       "\n",
       "    .dataframe thead th {\n",
       "        text-align: right;\n",
       "    }\n",
       "</style>\n",
       "<table border=\"1\" class=\"dataframe\">\n",
       "  <thead>\n",
       "    <tr style=\"text-align: right;\">\n",
       "      <th></th>\n",
       "      <th>operator_id</th>\n",
       "      <th>inefficiency_index</th>\n",
       "      <th>missed_calls_ratio</th>\n",
       "      <th>wait_time_difference</th>\n",
       "      <th>calls_out_ratio</th>\n",
       "    </tr>\n",
       "  </thead>\n",
       "  <tbody>\n",
       "    <tr>\n",
       "      <th>337</th>\n",
       "      <td>919794</td>\n",
       "      <td>6.936429</td>\n",
       "      <td>0.027882</td>\n",
       "      <td>17.327027</td>\n",
       "      <td>0.027672</td>\n",
       "    </tr>\n",
       "    <tr>\n",
       "      <th>206</th>\n",
       "      <td>906070</td>\n",
       "      <td>5.682523</td>\n",
       "      <td>0.044321</td>\n",
       "      <td>14.220625</td>\n",
       "      <td>0.117276</td>\n",
       "    </tr>\n",
       "    <tr>\n",
       "      <th>335</th>\n",
       "      <td>919790</td>\n",
       "      <td>5.607955</td>\n",
       "      <td>0.039598</td>\n",
       "      <td>13.996761</td>\n",
       "      <td>0.032943</td>\n",
       "    </tr>\n",
       "    <tr>\n",
       "      <th>207</th>\n",
       "      <td>906076</td>\n",
       "      <td>4.111070</td>\n",
       "      <td>0.083333</td>\n",
       "      <td>10.195000</td>\n",
       "      <td>0.001318</td>\n",
       "    </tr>\n",
       "    <tr>\n",
       "      <th>328</th>\n",
       "      <td>919204</td>\n",
       "      <td>3.864684</td>\n",
       "      <td>0.013751</td>\n",
       "      <td>9.653889</td>\n",
       "      <td>0.011859</td>\n",
       "    </tr>\n",
       "    <tr>\n",
       "      <th>333</th>\n",
       "      <td>919552</td>\n",
       "      <td>3.717983</td>\n",
       "      <td>0.061340</td>\n",
       "      <td>9.279737</td>\n",
       "      <td>0.092240</td>\n",
       "    </tr>\n",
       "    <tr>\n",
       "      <th>445</th>\n",
       "      <td>931458</td>\n",
       "      <td>3.703330</td>\n",
       "      <td>0.025834</td>\n",
       "      <td>10.919818</td>\n",
       "      <td>3.374655</td>\n",
       "    </tr>\n",
       "    <tr>\n",
       "      <th>334</th>\n",
       "      <td>919554</td>\n",
       "      <td>3.475321</td>\n",
       "      <td>0.062407</td>\n",
       "      <td>8.635119</td>\n",
       "      <td>0.018448</td>\n",
       "    </tr>\n",
       "    <tr>\n",
       "      <th>288</th>\n",
       "      <td>913938</td>\n",
       "      <td>3.458865</td>\n",
       "      <td>0.016089</td>\n",
       "      <td>8.918333</td>\n",
       "      <td>0.574522</td>\n",
       "    </tr>\n",
       "    <tr>\n",
       "      <th>358</th>\n",
       "      <td>921318</td>\n",
       "      <td>3.304407</td>\n",
       "      <td>0.024145</td>\n",
       "      <td>10.123833</td>\n",
       "      <td>3.773922</td>\n",
       "    </tr>\n",
       "  </tbody>\n",
       "</table>\n",
       "</div>"
      ],
      "text/plain": [
       "     operator_id  inefficiency_index  missed_calls_ratio  \\\n",
       "337       919794            6.936429            0.027882   \n",
       "206       906070            5.682523            0.044321   \n",
       "335       919790            5.607955            0.039598   \n",
       "207       906076            4.111070            0.083333   \n",
       "328       919204            3.864684            0.013751   \n",
       "333       919552            3.717983            0.061340   \n",
       "445       931458            3.703330            0.025834   \n",
       "334       919554            3.475321            0.062407   \n",
       "288       913938            3.458865            0.016089   \n",
       "358       921318            3.304407            0.024145   \n",
       "\n",
       "     wait_time_difference  calls_out_ratio  \n",
       "337             17.327027         0.027672  \n",
       "206             14.220625         0.117276  \n",
       "335             13.996761         0.032943  \n",
       "207             10.195000         0.001318  \n",
       "328              9.653889         0.011859  \n",
       "333              9.279737         0.092240  \n",
       "445             10.919818         3.374655  \n",
       "334              8.635119         0.018448  \n",
       "288              8.918333         0.574522  \n",
       "358             10.123833         3.773922  "
      ]
     },
     "execution_count": 58,
     "metadata": {},
     "output_type": "execute_result"
    }
   ],
   "source": [
    "# mostrar metricas relevantes\n",
    "df_combinado[['operator_id', 'inefficiency_index', 'missed_calls_ratio', 'wait_time_difference', 'calls_out_ratio']].head(10)"
   ]
  },
  {
   "cell_type": "markdown",
   "metadata": {},
   "source": [
    "<span style=\"color:purple; font-weight:bold; font-size: 18px\">\n",
    "Para calcular el indice general de ineficacia se consideraron 3 metricas relacionadas con el objetivo del proyecto, la primera consistio en calcular el promedio de llamadas perdidas, la segunda el tiempo de espera y por ultimo el promedio de llamadas salientes hechas por el operador. De esta manera se asigno un peso a cada una de las metricas y se calculo el indice de ineficacia, lo que dio como resultado que el operador 919794 es quien cuenta con un gran indice de ineficacia con un 2% de llamadas perdidas, un promedio de 17 minutos de tiempo de espera por llamada y un 2% de llamadas salientes.\n",
    "</span>"
   ]
  },
  {
   "cell_type": "markdown",
   "metadata": {},
   "source": [
    "## Operadores por tipo de plan"
   ]
  },
  {
   "cell_type": "code",
   "execution_count": 59,
   "metadata": {},
   "outputs": [],
   "source": [
    "# unir los dos Datasets\n",
    "plan_id = clients.merge(calls, on ='user_id', how='outer')"
   ]
  },
  {
   "cell_type": "code",
   "execution_count": 60,
   "metadata": {},
   "outputs": [],
   "source": [
    "# crear columna con tiempo de espera en minutos \n",
    "plan_id['wait_time'] = plan_id['total_call_duration_min'] - plan_id['call_duration_min']"
   ]
  },
  {
   "cell_type": "code",
   "execution_count": 61,
   "metadata": {},
   "outputs": [
    {
     "data": {
      "text/plain": [
       "array(['A', 'C', 'B'], dtype=object)"
      ]
     },
     "execution_count": 61,
     "metadata": {},
     "output_type": "execute_result"
    }
   ],
   "source": [
    "# identificar cuantos planes existen\n",
    "plan_id['tariff_plan'].unique()"
   ]
  },
  {
   "cell_type": "code",
   "execution_count": 62,
   "metadata": {},
   "outputs": [],
   "source": [
    "# Segmentar por tipo de plan \n",
    "plan_a = plan_id[plan_id ['tariff_plan'] == 'A']\n",
    "plan_b = plan_id[plan_id ['tariff_plan'] == 'B']\n",
    "plan_c = plan_id[plan_id ['tariff_plan'] == 'C']"
   ]
  },
  {
   "cell_type": "markdown",
   "metadata": {},
   "source": [
    "### Metricas operadores tarifa A"
   ]
  },
  {
   "cell_type": "code",
   "execution_count": 63,
   "metadata": {},
   "outputs": [],
   "source": [
    "# calcular las metricas objetivo\n",
    "operator_a = plan_a.groupby('operator_id').agg(\n",
    "    total_calls=('calls_count', 'sum'),\n",
    "    missed_calls=('is_missed_call', 'count'),\n",
    "    time_wait=('wait_time', 'sum')\n",
    ").reset_index()"
   ]
  },
  {
   "cell_type": "code",
   "execution_count": 64,
   "metadata": {},
   "outputs": [],
   "source": [
    "# calcular metrica de llamadas perdidas por operador del plan A\n",
    "operator_a['missed_call_rate'] = operator_a['missed_calls'] / operator_a['total_calls']\n",
    "\n",
    "# calcular metrica de tiempo de espera por operador del plan A\n",
    "operator_a['avg_time_call'] = operator_a['time_wait'] / operator_a['total_calls']"
   ]
  },
  {
   "cell_type": "code",
   "execution_count": 65,
   "metadata": {},
   "outputs": [
    {
     "data": {
      "text/html": [
       "<div>\n",
       "<style scoped>\n",
       "    .dataframe tbody tr th:only-of-type {\n",
       "        vertical-align: middle;\n",
       "    }\n",
       "\n",
       "    .dataframe tbody tr th {\n",
       "        vertical-align: top;\n",
       "    }\n",
       "\n",
       "    .dataframe thead th {\n",
       "        text-align: right;\n",
       "    }\n",
       "</style>\n",
       "<table border=\"1\" class=\"dataframe\">\n",
       "  <thead>\n",
       "    <tr style=\"text-align: right;\">\n",
       "      <th></th>\n",
       "      <th>operator_id</th>\n",
       "      <th>total_calls</th>\n",
       "      <th>missed_calls</th>\n",
       "      <th>time_wait</th>\n",
       "      <th>missed_call_rate</th>\n",
       "      <th>avg_time_call</th>\n",
       "    </tr>\n",
       "  </thead>\n",
       "  <tbody>\n",
       "    <tr>\n",
       "      <th>0</th>\n",
       "      <td>884294</td>\n",
       "      <td>1.0</td>\n",
       "      <td>1</td>\n",
       "      <td>0.10</td>\n",
       "      <td>1.000000</td>\n",
       "      <td>0.100000</td>\n",
       "    </tr>\n",
       "    <tr>\n",
       "      <th>1</th>\n",
       "      <td>885876</td>\n",
       "      <td>66049.0</td>\n",
       "      <td>319</td>\n",
       "      <td>25606.24</td>\n",
       "      <td>0.004830</td>\n",
       "      <td>0.387686</td>\n",
       "    </tr>\n",
       "    <tr>\n",
       "      <th>2</th>\n",
       "      <td>885890</td>\n",
       "      <td>66016.0</td>\n",
       "      <td>277</td>\n",
       "      <td>26440.27</td>\n",
       "      <td>0.004196</td>\n",
       "      <td>0.400513</td>\n",
       "    </tr>\n",
       "    <tr>\n",
       "      <th>3</th>\n",
       "      <td>886146</td>\n",
       "      <td>52.0</td>\n",
       "      <td>19</td>\n",
       "      <td>19.24</td>\n",
       "      <td>0.365385</td>\n",
       "      <td>0.370000</td>\n",
       "    </tr>\n",
       "    <tr>\n",
       "      <th>4</th>\n",
       "      <td>887992</td>\n",
       "      <td>47.0</td>\n",
       "      <td>6</td>\n",
       "      <td>11.33</td>\n",
       "      <td>0.127660</td>\n",
       "      <td>0.241064</td>\n",
       "    </tr>\n",
       "    <tr>\n",
       "      <th>...</th>\n",
       "      <td>...</td>\n",
       "      <td>...</td>\n",
       "      <td>...</td>\n",
       "      <td>...</td>\n",
       "      <td>...</td>\n",
       "      <td>...</td>\n",
       "    </tr>\n",
       "    <tr>\n",
       "      <th>305</th>\n",
       "      <td>965542</td>\n",
       "      <td>776.0</td>\n",
       "      <td>14</td>\n",
       "      <td>298.74</td>\n",
       "      <td>0.018041</td>\n",
       "      <td>0.384974</td>\n",
       "    </tr>\n",
       "    <tr>\n",
       "      <th>306</th>\n",
       "      <td>965544</td>\n",
       "      <td>1277.0</td>\n",
       "      <td>13</td>\n",
       "      <td>417.82</td>\n",
       "      <td>0.010180</td>\n",
       "      <td>0.327189</td>\n",
       "    </tr>\n",
       "    <tr>\n",
       "      <th>307</th>\n",
       "      <td>966686</td>\n",
       "      <td>3.0</td>\n",
       "      <td>2</td>\n",
       "      <td>0.72</td>\n",
       "      <td>0.666667</td>\n",
       "      <td>0.240000</td>\n",
       "    </tr>\n",
       "    <tr>\n",
       "      <th>308</th>\n",
       "      <td>968232</td>\n",
       "      <td>1.0</td>\n",
       "      <td>1</td>\n",
       "      <td>0.22</td>\n",
       "      <td>1.000000</td>\n",
       "      <td>0.220000</td>\n",
       "    </tr>\n",
       "    <tr>\n",
       "      <th>309</th>\n",
       "      <td>968520</td>\n",
       "      <td>10.0</td>\n",
       "      <td>2</td>\n",
       "      <td>0.16</td>\n",
       "      <td>0.200000</td>\n",
       "      <td>0.016000</td>\n",
       "    </tr>\n",
       "  </tbody>\n",
       "</table>\n",
       "<p>310 rows × 6 columns</p>\n",
       "</div>"
      ],
      "text/plain": [
       "     operator_id  total_calls  missed_calls  time_wait  missed_call_rate  \\\n",
       "0         884294          1.0             1       0.10          1.000000   \n",
       "1         885876      66049.0           319   25606.24          0.004830   \n",
       "2         885890      66016.0           277   26440.27          0.004196   \n",
       "3         886146         52.0            19      19.24          0.365385   \n",
       "4         887992         47.0             6      11.33          0.127660   \n",
       "..           ...          ...           ...        ...               ...   \n",
       "305       965542        776.0            14     298.74          0.018041   \n",
       "306       965544       1277.0            13     417.82          0.010180   \n",
       "307       966686          3.0             2       0.72          0.666667   \n",
       "308       968232          1.0             1       0.22          1.000000   \n",
       "309       968520         10.0             2       0.16          0.200000   \n",
       "\n",
       "     avg_time_call  \n",
       "0         0.100000  \n",
       "1         0.387686  \n",
       "2         0.400513  \n",
       "3         0.370000  \n",
       "4         0.241064  \n",
       "..             ...  \n",
       "305       0.384974  \n",
       "306       0.327189  \n",
       "307       0.240000  \n",
       "308       0.220000  \n",
       "309       0.016000  \n",
       "\n",
       "[310 rows x 6 columns]"
      ]
     },
     "execution_count": 65,
     "metadata": {},
     "output_type": "execute_result"
    }
   ],
   "source": [
    "operator_a"
   ]
  },
  {
   "cell_type": "markdown",
   "metadata": {},
   "source": [
    "### Metricas operadores tarifa B"
   ]
  },
  {
   "cell_type": "code",
   "execution_count": 66,
   "metadata": {},
   "outputs": [],
   "source": [
    "# calcular las metricas objetivo\n",
    "operator_b = plan_b.groupby('operator_id').agg(\n",
    "    total_calls=('calls_count', 'sum'),\n",
    "    missed_calls=('is_missed_call', 'count'),\n",
    "    time_wait=('wait_time', 'sum')\n",
    ").reset_index()"
   ]
  },
  {
   "cell_type": "code",
   "execution_count": 67,
   "metadata": {},
   "outputs": [],
   "source": [
    "# calcular metrica de llamadas perdidas por operador del plan B\n",
    "operator_b['missed_call_rate'] = operator_b['missed_calls'] / operator_b['total_calls']\n",
    "\n",
    "# calcular metrica de tiempo de espera por operador del plan B\n",
    "operator_b['avg_time_call'] = operator_b['time_wait'] / operator_b['total_calls']"
   ]
  },
  {
   "cell_type": "code",
   "execution_count": 68,
   "metadata": {},
   "outputs": [
    {
     "data": {
      "text/html": [
       "<div>\n",
       "<style scoped>\n",
       "    .dataframe tbody tr th:only-of-type {\n",
       "        vertical-align: middle;\n",
       "    }\n",
       "\n",
       "    .dataframe tbody tr th {\n",
       "        vertical-align: top;\n",
       "    }\n",
       "\n",
       "    .dataframe thead th {\n",
       "        text-align: right;\n",
       "    }\n",
       "</style>\n",
       "<table border=\"1\" class=\"dataframe\">\n",
       "  <thead>\n",
       "    <tr style=\"text-align: right;\">\n",
       "      <th></th>\n",
       "      <th>operator_id</th>\n",
       "      <th>total_calls</th>\n",
       "      <th>missed_calls</th>\n",
       "      <th>time_wait</th>\n",
       "      <th>missed_call_rate</th>\n",
       "      <th>avg_time_call</th>\n",
       "    </tr>\n",
       "  </thead>\n",
       "  <tbody>\n",
       "    <tr>\n",
       "      <th>0</th>\n",
       "      <td>879896</td>\n",
       "      <td>1131.0</td>\n",
       "      <td>128</td>\n",
       "      <td>236.03</td>\n",
       "      <td>0.113174</td>\n",
       "      <td>0.208691</td>\n",
       "    </tr>\n",
       "    <tr>\n",
       "      <th>1</th>\n",
       "      <td>879898</td>\n",
       "      <td>7974.0</td>\n",
       "      <td>251</td>\n",
       "      <td>1882.87</td>\n",
       "      <td>0.031477</td>\n",
       "      <td>0.236126</td>\n",
       "    </tr>\n",
       "    <tr>\n",
       "      <th>2</th>\n",
       "      <td>880020</td>\n",
       "      <td>54.0</td>\n",
       "      <td>22</td>\n",
       "      <td>5.58</td>\n",
       "      <td>0.407407</td>\n",
       "      <td>0.103333</td>\n",
       "    </tr>\n",
       "    <tr>\n",
       "      <th>3</th>\n",
       "      <td>880022</td>\n",
       "      <td>219.0</td>\n",
       "      <td>76</td>\n",
       "      <td>72.95</td>\n",
       "      <td>0.347032</td>\n",
       "      <td>0.333105</td>\n",
       "    </tr>\n",
       "    <tr>\n",
       "      <th>4</th>\n",
       "      <td>880026</td>\n",
       "      <td>2439.0</td>\n",
       "      <td>198</td>\n",
       "      <td>399.79</td>\n",
       "      <td>0.081181</td>\n",
       "      <td>0.163916</td>\n",
       "    </tr>\n",
       "    <tr>\n",
       "      <th>...</th>\n",
       "      <td>...</td>\n",
       "      <td>...</td>\n",
       "      <td>...</td>\n",
       "      <td>...</td>\n",
       "      <td>...</td>\n",
       "      <td>...</td>\n",
       "    </tr>\n",
       "    <tr>\n",
       "      <th>390</th>\n",
       "      <td>971354</td>\n",
       "      <td>6.0</td>\n",
       "      <td>2</td>\n",
       "      <td>1.41</td>\n",
       "      <td>0.333333</td>\n",
       "      <td>0.235000</td>\n",
       "    </tr>\n",
       "    <tr>\n",
       "      <th>391</th>\n",
       "      <td>972408</td>\n",
       "      <td>8.0</td>\n",
       "      <td>3</td>\n",
       "      <td>1.25</td>\n",
       "      <td>0.375000</td>\n",
       "      <td>0.156250</td>\n",
       "    </tr>\n",
       "    <tr>\n",
       "      <th>392</th>\n",
       "      <td>972410</td>\n",
       "      <td>77.0</td>\n",
       "      <td>4</td>\n",
       "      <td>24.96</td>\n",
       "      <td>0.051948</td>\n",
       "      <td>0.324156</td>\n",
       "    </tr>\n",
       "    <tr>\n",
       "      <th>393</th>\n",
       "      <td>972412</td>\n",
       "      <td>61.0</td>\n",
       "      <td>5</td>\n",
       "      <td>17.50</td>\n",
       "      <td>0.081967</td>\n",
       "      <td>0.286885</td>\n",
       "    </tr>\n",
       "    <tr>\n",
       "      <th>394</th>\n",
       "      <td>973286</td>\n",
       "      <td>2.0</td>\n",
       "      <td>1</td>\n",
       "      <td>1.47</td>\n",
       "      <td>0.500000</td>\n",
       "      <td>0.735000</td>\n",
       "    </tr>\n",
       "  </tbody>\n",
       "</table>\n",
       "<p>395 rows × 6 columns</p>\n",
       "</div>"
      ],
      "text/plain": [
       "     operator_id  total_calls  missed_calls  time_wait  missed_call_rate  \\\n",
       "0         879896       1131.0           128     236.03          0.113174   \n",
       "1         879898       7974.0           251    1882.87          0.031477   \n",
       "2         880020         54.0            22       5.58          0.407407   \n",
       "3         880022        219.0            76      72.95          0.347032   \n",
       "4         880026       2439.0           198     399.79          0.081181   \n",
       "..           ...          ...           ...        ...               ...   \n",
       "390       971354          6.0             2       1.41          0.333333   \n",
       "391       972408          8.0             3       1.25          0.375000   \n",
       "392       972410         77.0             4      24.96          0.051948   \n",
       "393       972412         61.0             5      17.50          0.081967   \n",
       "394       973286          2.0             1       1.47          0.500000   \n",
       "\n",
       "     avg_time_call  \n",
       "0         0.208691  \n",
       "1         0.236126  \n",
       "2         0.103333  \n",
       "3         0.333105  \n",
       "4         0.163916  \n",
       "..             ...  \n",
       "390       0.235000  \n",
       "391       0.156250  \n",
       "392       0.324156  \n",
       "393       0.286885  \n",
       "394       0.735000  \n",
       "\n",
       "[395 rows x 6 columns]"
      ]
     },
     "execution_count": 68,
     "metadata": {},
     "output_type": "execute_result"
    }
   ],
   "source": [
    "operator_b"
   ]
  },
  {
   "cell_type": "markdown",
   "metadata": {},
   "source": [
    "### Metricas operadores tarifa C"
   ]
  },
  {
   "cell_type": "code",
   "execution_count": 69,
   "metadata": {},
   "outputs": [],
   "source": [
    "# calcular las metricas objetivo\n",
    "operator_c = plan_c.groupby('operator_id').agg(\n",
    "    total_calls=('calls_count', 'sum'),\n",
    "    missed_calls=('is_missed_call', 'count'),\n",
    "    time_wait=('wait_time', 'sum')\n",
    ").reset_index()"
   ]
  },
  {
   "cell_type": "code",
   "execution_count": 70,
   "metadata": {},
   "outputs": [],
   "source": [
    "# calcular metrica de llamadas perdidas por operador del plan C\n",
    "operator_c['missed_call_rate'] = operator_c['missed_calls'] / operator_c['total_calls']\n",
    "\n",
    "# calcular metrica de tiempo de espera por operador del plan C\n",
    "operator_c['avg_time_call'] = operator_c['time_wait'] / operator_c['total_calls']"
   ]
  },
  {
   "cell_type": "code",
   "execution_count": 71,
   "metadata": {},
   "outputs": [
    {
     "data": {
      "text/html": [
       "<div>\n",
       "<style scoped>\n",
       "    .dataframe tbody tr th:only-of-type {\n",
       "        vertical-align: middle;\n",
       "    }\n",
       "\n",
       "    .dataframe tbody tr th {\n",
       "        vertical-align: top;\n",
       "    }\n",
       "\n",
       "    .dataframe thead th {\n",
       "        text-align: right;\n",
       "    }\n",
       "</style>\n",
       "<table border=\"1\" class=\"dataframe\">\n",
       "  <thead>\n",
       "    <tr style=\"text-align: right;\">\n",
       "      <th></th>\n",
       "      <th>operator_id</th>\n",
       "      <th>total_calls</th>\n",
       "      <th>missed_calls</th>\n",
       "      <th>time_wait</th>\n",
       "      <th>missed_call_rate</th>\n",
       "      <th>avg_time_call</th>\n",
       "    </tr>\n",
       "  </thead>\n",
       "  <tbody>\n",
       "    <tr>\n",
       "      <th>0</th>\n",
       "      <td>882476</td>\n",
       "      <td>3.0</td>\n",
       "      <td>3</td>\n",
       "      <td>1.57</td>\n",
       "      <td>1.000000</td>\n",
       "      <td>0.523333</td>\n",
       "    </tr>\n",
       "    <tr>\n",
       "      <th>1</th>\n",
       "      <td>882478</td>\n",
       "      <td>4.0</td>\n",
       "      <td>3</td>\n",
       "      <td>1.39</td>\n",
       "      <td>0.750000</td>\n",
       "      <td>0.347500</td>\n",
       "    </tr>\n",
       "    <tr>\n",
       "      <th>2</th>\n",
       "      <td>883018</td>\n",
       "      <td>2.0</td>\n",
       "      <td>1</td>\n",
       "      <td>0.25</td>\n",
       "      <td>0.500000</td>\n",
       "      <td>0.125000</td>\n",
       "    </tr>\n",
       "    <tr>\n",
       "      <th>3</th>\n",
       "      <td>883898</td>\n",
       "      <td>1.0</td>\n",
       "      <td>1</td>\n",
       "      <td>0.16</td>\n",
       "      <td>1.000000</td>\n",
       "      <td>0.160000</td>\n",
       "    </tr>\n",
       "    <tr>\n",
       "      <th>4</th>\n",
       "      <td>884946</td>\n",
       "      <td>2042.0</td>\n",
       "      <td>92</td>\n",
       "      <td>739.54</td>\n",
       "      <td>0.045054</td>\n",
       "      <td>0.362165</td>\n",
       "    </tr>\n",
       "    <tr>\n",
       "      <th>...</th>\n",
       "      <td>...</td>\n",
       "      <td>...</td>\n",
       "      <td>...</td>\n",
       "      <td>...</td>\n",
       "      <td>...</td>\n",
       "      <td>...</td>\n",
       "    </tr>\n",
       "    <tr>\n",
       "      <th>382</th>\n",
       "      <td>969600</td>\n",
       "      <td>29.0</td>\n",
       "      <td>3</td>\n",
       "      <td>6.51</td>\n",
       "      <td>0.103448</td>\n",
       "      <td>0.224483</td>\n",
       "    </tr>\n",
       "    <tr>\n",
       "      <th>383</th>\n",
       "      <td>971100</td>\n",
       "      <td>3.0</td>\n",
       "      <td>2</td>\n",
       "      <td>0.43</td>\n",
       "      <td>0.666667</td>\n",
       "      <td>0.143333</td>\n",
       "    </tr>\n",
       "    <tr>\n",
       "      <th>384</th>\n",
       "      <td>971102</td>\n",
       "      <td>78.0</td>\n",
       "      <td>5</td>\n",
       "      <td>22.83</td>\n",
       "      <td>0.064103</td>\n",
       "      <td>0.292692</td>\n",
       "    </tr>\n",
       "    <tr>\n",
       "      <th>385</th>\n",
       "      <td>972460</td>\n",
       "      <td>70.0</td>\n",
       "      <td>9</td>\n",
       "      <td>13.35</td>\n",
       "      <td>0.128571</td>\n",
       "      <td>0.190714</td>\n",
       "    </tr>\n",
       "    <tr>\n",
       "      <th>386</th>\n",
       "      <td>973120</td>\n",
       "      <td>3.0</td>\n",
       "      <td>2</td>\n",
       "      <td>0.34</td>\n",
       "      <td>0.666667</td>\n",
       "      <td>0.113333</td>\n",
       "    </tr>\n",
       "  </tbody>\n",
       "</table>\n",
       "<p>387 rows × 6 columns</p>\n",
       "</div>"
      ],
      "text/plain": [
       "     operator_id  total_calls  missed_calls  time_wait  missed_call_rate  \\\n",
       "0         882476          3.0             3       1.57          1.000000   \n",
       "1         882478          4.0             3       1.39          0.750000   \n",
       "2         883018          2.0             1       0.25          0.500000   \n",
       "3         883898          1.0             1       0.16          1.000000   \n",
       "4         884946       2042.0            92     739.54          0.045054   \n",
       "..           ...          ...           ...        ...               ...   \n",
       "382       969600         29.0             3       6.51          0.103448   \n",
       "383       971100          3.0             2       0.43          0.666667   \n",
       "384       971102         78.0             5      22.83          0.064103   \n",
       "385       972460         70.0             9      13.35          0.128571   \n",
       "386       973120          3.0             2       0.34          0.666667   \n",
       "\n",
       "     avg_time_call  \n",
       "0         0.523333  \n",
       "1         0.347500  \n",
       "2         0.125000  \n",
       "3         0.160000  \n",
       "4         0.362165  \n",
       "..             ...  \n",
       "382       0.224483  \n",
       "383       0.143333  \n",
       "384       0.292692  \n",
       "385       0.190714  \n",
       "386       0.113333  \n",
       "\n",
       "[387 rows x 6 columns]"
      ]
     },
     "execution_count": 71,
     "metadata": {},
     "output_type": "execute_result"
    }
   ],
   "source": [
    "operator_c"
   ]
  },
  {
   "cell_type": "markdown",
   "metadata": {},
   "source": [
    "<span style=\"color:purple; font-weight:bold; font-size: 18px\">\n",
    "Despues se obtuvieron las metricas de los operadores por tipo de plan, esto con la finalidad de mostrar que operadores son los menos eficaces y que grupo atienden.\n",
    "</span>"
   ]
  },
  {
   "cell_type": "markdown",
   "metadata": {},
   "source": [
    "## Operadores ineficaces por plan"
   ]
  },
  {
   "cell_type": "code",
   "execution_count": 72,
   "metadata": {},
   "outputs": [],
   "source": [
    "# concatenar los resultados de cada plan \n",
    "operators_all = pd.concat([operator_a,operator_b,operator_c])"
   ]
  },
  {
   "cell_type": "code",
   "execution_count": 73,
   "metadata": {},
   "outputs": [
    {
     "name": "stdout",
     "output_type": "stream",
     "text": [
      "Umbral para missed_call_rate: 54.25\n",
      "Umbral para avg_time_call: 0.33357142857142863\n"
     ]
    }
   ],
   "source": [
    "# establecer umbrales por para llamadas perdidas y tiempo promedio de llamadas\n",
    "missed_umbral = operators_all['missed_calls'].quantile(0.75)\n",
    "\n",
    "avg_time_umbral = operators_all['avg_time_call'].quantile(0.75)\n",
    "\n",
    "print(f\"Umbral para missed_call_rate: {missed_umbral}\")\n",
    "print(f\"Umbral para avg_time_call: {avg_time_umbral}\")"
   ]
  },
  {
   "cell_type": "code",
   "execution_count": 74,
   "metadata": {},
   "outputs": [],
   "source": [
    "# funcion para etiquetar operadores ineficientes \n",
    "def inefficiency_operator(df, missed_call_umbral, time_umbral):\n",
    "    df['inefficient'] = (\n",
    "        (df['missed_call_rate'] > missed_call_umbral) | \n",
    "        (df['avg_time_call'] > time_umbral)\n",
    "    )\n",
    "    return df"
   ]
  },
  {
   "cell_type": "code",
   "execution_count": 75,
   "metadata": {},
   "outputs": [],
   "source": [
    "# operadores ineficaces etiquetados si rebasaron los umbrales\n",
    "operator_a = inefficiency_operator(operator_a, missed_umbral, avg_time_umbral)\n",
    "operator_b = inefficiency_operator(operator_b, missed_umbral, avg_time_umbral)\n",
    "operator_c = inefficiency_operator(operator_c, missed_umbral, avg_time_umbral)"
   ]
  },
  {
   "cell_type": "code",
   "execution_count": 76,
   "metadata": {},
   "outputs": [],
   "source": [
    "# funcion para calcular la proporcion de operadores ineficaces \n",
    "def inefficiency_total(df):\n",
    "    total_operators = len(df)\n",
    "    inefficient_operator = df['inefficient'].sum()\n",
    "    inefficient_rate = inefficient_operator / total_operators\n",
    "    avg_time = df['time_wait'].mean()\n",
    "    \n",
    "    return pd.Series({\n",
    "        'total_operator': total_operators,\n",
    "        'inefficient_operator': inefficient_operator,\n",
    "        'inefficient_rate' : inefficient_rate,\n",
    "        'avg_wait_time' : avg_time\n",
    "    })"
   ]
  },
  {
   "cell_type": "code",
   "execution_count": 77,
   "metadata": {},
   "outputs": [],
   "source": [
    "# llamar a la funcion para calcular el total de operadores, operadores ineficaces y promedio de operadores\n",
    "operator_total_a = inefficiency_total(operator_a)\n",
    "operator_total_b = inefficiency_total(operator_b)\n",
    "operator_total_c = inefficiency_total(operator_c)"
   ]
  },
  {
   "cell_type": "code",
   "execution_count": 78,
   "metadata": {},
   "outputs": [],
   "source": [
    "# crear DF con los totales de operadores ineficaces por cada plan de tarifa\n",
    "df_operators_inefficents = pd.DataFrame({\n",
    "    'Plan': ['A', 'B', 'C'],\n",
    "    'Total Operators': [operator_total_a['total_operator'], \n",
    "                        operator_total_b['total_operator'], \n",
    "                        operator_total_c['total_operator']],\n",
    "    'Inefficient Operators': [operator_total_a['inefficient_operator'], \n",
    "                               operator_total_b['inefficient_operator'], \n",
    "                               operator_total_c['inefficient_operator']],\n",
    "    'Inefficiency Rate (%)': [operator_total_a['inefficient_rate'] * 100, \n",
    "                              operator_total_b['inefficient_rate'] * 100, \n",
    "                              operator_total_c['inefficient_rate'] * 100],\n",
    "    'Average_wait_time' : [operator_total_a['avg_wait_time'],\n",
    "                          operator_total_b['avg_wait_time'],\n",
    "                          operator_total_c['avg_wait_time']]\n",
    "})"
   ]
  },
  {
   "cell_type": "code",
   "execution_count": 79,
   "metadata": {},
   "outputs": [
    {
     "data": {
      "text/html": [
       "<div>\n",
       "<style scoped>\n",
       "    .dataframe tbody tr th:only-of-type {\n",
       "        vertical-align: middle;\n",
       "    }\n",
       "\n",
       "    .dataframe tbody tr th {\n",
       "        vertical-align: top;\n",
       "    }\n",
       "\n",
       "    .dataframe thead th {\n",
       "        text-align: right;\n",
       "    }\n",
       "</style>\n",
       "<table border=\"1\" class=\"dataframe\">\n",
       "  <thead>\n",
       "    <tr style=\"text-align: right;\">\n",
       "      <th></th>\n",
       "      <th>Plan</th>\n",
       "      <th>Total Operators</th>\n",
       "      <th>Inefficient Operators</th>\n",
       "      <th>Inefficiency Rate (%)</th>\n",
       "      <th>Average_wait_time</th>\n",
       "    </tr>\n",
       "  </thead>\n",
       "  <tbody>\n",
       "    <tr>\n",
       "      <th>0</th>\n",
       "      <td>A</td>\n",
       "      <td>310.0</td>\n",
       "      <td>98.0</td>\n",
       "      <td>31.612903</td>\n",
       "      <td>457.163645</td>\n",
       "    </tr>\n",
       "    <tr>\n",
       "      <th>1</th>\n",
       "      <td>B</td>\n",
       "      <td>395.0</td>\n",
       "      <td>95.0</td>\n",
       "      <td>24.050633</td>\n",
       "      <td>109.647468</td>\n",
       "    </tr>\n",
       "    <tr>\n",
       "      <th>2</th>\n",
       "      <td>C</td>\n",
       "      <td>387.0</td>\n",
       "      <td>80.0</td>\n",
       "      <td>20.671835</td>\n",
       "      <td>137.085478</td>\n",
       "    </tr>\n",
       "  </tbody>\n",
       "</table>\n",
       "</div>"
      ],
      "text/plain": [
       "  Plan  Total Operators  Inefficient Operators  Inefficiency Rate (%)  \\\n",
       "0    A            310.0                   98.0              31.612903   \n",
       "1    B            395.0                   95.0              24.050633   \n",
       "2    C            387.0                   80.0              20.671835   \n",
       "\n",
       "   Average_wait_time  \n",
       "0         457.163645  \n",
       "1         109.647468  \n",
       "2         137.085478  "
      ]
     },
     "execution_count": 79,
     "metadata": {},
     "output_type": "execute_result"
    }
   ],
   "source": [
    "df_operators_inefficents"
   ]
  },
  {
   "cell_type": "markdown",
   "metadata": {},
   "source": [
    "<span style=\"color:purple; font-weight:bold; font-size: 18px\">\n",
    "Para determinar qué operadores son más eficientes y cuáles no, se establecieron umbrales utilizando los percentiles de la muestra, dado que la presencia de valores atípicos podría sesgar los resultados al calcular medidas de tendencia central como la media o la mediana. Se tomó en cuenta el percentil 75 como referencia, y los hallazgos son los siguientes:\n",
    "\n",
    "* Grupo A: Se identificaron 310 operadores, de los cuales 98 fueron clasificados como ineficientes, representando un 31% de ineficacia, con un tiempo de espera promedio de 457 minutos para este grupo.\n",
    "    \n",
    "* Grupo B: De 395 operadores, 95 se consideraron ineficaces, lo que equivale al 24% de ineficacia, con un tiempo de espera promedio de 109 minutos.\n",
    "    \n",
    "* Grupo C: En este grupo, compuesto por 387 operadores, 80 se identificaron como ineficaces, representando el 20% de ineficacia. El tiempo de espera promedio para este grupo fue de 137 minutos.\n",
    "    \n",
    "Estos resultados resaltan las diferencias en la eficiencia entre los grupos, siendo el grupo C el más eficiente en términos de porcentaje de ineficacia, mientras que el grupo A presenta los mayores tiempos de espera y la mayor proporción de operadores ineficientes.\n",
    "</span>"
   ]
  },
  {
   "cell_type": "markdown",
   "metadata": {},
   "source": [
    "## Prueba de hipótesis estadísticas"
   ]
  },
  {
   "cell_type": "markdown",
   "metadata": {},
   "source": [
    "### Comparación entre los tiempos de espera de los planes tarifarios"
   ]
  },
  {
   "cell_type": "markdown",
   "metadata": {},
   "source": [
    "#### Hipótesis Nula: No existen diferencias significativas entre los tiempos de espera de los distintos planes\n",
    "#### Hipótesis Alternativa: Existen diferencias significativas (al menos en una) entre los tiempos de espera de los distintos planes"
   ]
  },
  {
   "cell_type": "code",
   "execution_count": 80,
   "metadata": {},
   "outputs": [
    {
     "data": {
      "image/png": "[encoded data removed]",
      "text/plain": [
       "<Figure size 1000x600 with 1 Axes>"
      ]
     },
     "metadata": {},
     "output_type": "display_data"
    }
   ],
   "source": [
    "# Verificar normalidad con un boxplot \n",
    "with plt.style.context('ggplot'):\n",
    "    # crear boxplot\n",
    "    plt.figure(figsize=(10,6))\n",
    "    sns.boxplot(data=plan_id, x='tariff_plan', y='wait_time')\n",
    "\n",
    "    plt.title('Distribución del Tiempo de Espera por Plan')\n",
    "    plt.xlabel('Plan Tarifario')\n",
    "    plt.ylabel('Tiempo de Espera (min)')\n",
    "    \n",
    "plt.show()\n"
   ]
  },
  {
   "cell_type": "code",
   "execution_count": 81,
   "metadata": {},
   "outputs": [
    {
     "data": {
      "text/plain": [
       "425"
      ]
     },
     "execution_count": 81,
     "metadata": {},
     "output_type": "execute_result"
    }
   ],
   "source": [
    "# verificar valores nulos\n",
    "plan_id['wait_time'].isna().sum()"
   ]
  },
  {
   "cell_type": "code",
   "execution_count": 82,
   "metadata": {},
   "outputs": [],
   "source": [
    "# dividir los tiempos de espera por cada plan y eliminar valores nulos\n",
    "wait_time_a = plan_id[(plan_id['tariff_plan'] == 'A') & (plan_id['wait_time'].notna())]['wait_time']\n",
    "wait_time_b = plan_id[(plan_id['tariff_plan'] == 'B') & (plan_id['wait_time'].notna())]['wait_time']\n",
    "wait_time_c = plan_id[(plan_id['tariff_plan'] == 'C') & (plan_id['wait_time'].notna())]['wait_time']"
   ]
  },
  {
   "cell_type": "code",
   "execution_count": 83,
   "metadata": {},
   "outputs": [
    {
     "name": "stdout",
     "output_type": "stream",
     "text": [
      "Estadístico de Kruskal-Wallis: 859.5024452639879\n",
      "Valor p: 2.2983460553686325e-187\n",
      "Hay diferencias significativas entre los planes.\n"
     ]
    }
   ],
   "source": [
    "# aplicar prueba Kruskal-Wallis\n",
    "stat, p_value = kruskal(wait_time_a, wait_time_b, wait_time_c)\n",
    "\n",
    "# mostrar resultados\n",
    "print(f'Estadístico de Kruskal-Wallis: {stat}')\n",
    "print(f'Valor p: {p_value}')\n",
    "\n",
    "if p_value < 0.05:\n",
    "    print(\"Hay diferencias significativas entre los planes.\")\n",
    "else:\n",
    "    print(\"No hay diferencias significativas entre los planes.\")"
   ]
  },
  {
   "cell_type": "markdown",
   "metadata": {},
   "source": [
    "<span style=\"color:purple; font-weight:bold; font-size: 18px\">\n",
    "Para comprobar esta hipótesis se realizó una prueba de Kruskal-Wallis para comparar los tiempos de espera promedio entre los tres grupos (planes). El estadístico de Kruskal-Wallis obtenido fue 859.50, y el valor p asociado fue 2.30e-187, lo cual es mucho menor que el nivel de significancia establecido de 0.05.\n",
    "\n",
    "Esto indica que hay evidencia estadísticamente significativa para concluir que al menos uno de los grupos difiere de los otros en términos de los tiempos de espera promedio.\n",
    "</span>"
   ]
  },
  {
   "cell_type": "markdown",
   "metadata": {},
   "source": [
    "### Diferencia entre el tiempo de espera promedio de operadores más eficaces y menos eficaces"
   ]
  },
  {
   "cell_type": "markdown",
   "metadata": {},
   "source": [
    "#### Hipótesis Nula: No existen diferencias significativas en el tiempo de espera promedio entre los operadores más eficaces y los menos eficaces\n",
    "\n",
    "#### Hipótesis Alternativa: Existen diferencias significativas en el tiempo de espera promedio entre los operadores más eficaces de los menos eficaces"
   ]
  },
  {
   "cell_type": "code",
   "execution_count": 84,
   "metadata": {},
   "outputs": [],
   "source": [
    "# calcular el tiempo promedio de operadores \n",
    "avg_time_operator = calls.groupby('operator_id')['total_call_duration_min'].mean()"
   ]
  },
  {
   "cell_type": "code",
   "execution_count": 85,
   "metadata": {},
   "outputs": [
    {
     "data": {
      "text/plain": [
       "operator_id\n",
       "885876    323.946270\n",
       "885890    316.098087\n",
       "925922    294.455949\n",
       "908640    160.350000\n",
       "929428    158.660429\n",
       "             ...    \n",
       "955068      0.000000\n",
       "914626      0.000000\n",
       "960674      0.000000\n",
       "946454      0.000000\n",
       "958458      0.000000\n",
       "Name: total_call_duration_min, Length: 1092, dtype: float64"
      ]
     },
     "execution_count": 85,
     "metadata": {},
     "output_type": "execute_result"
    }
   ],
   "source": [
    "avg_time_operator.sort_values(ascending=False)"
   ]
  },
  {
   "cell_type": "code",
   "execution_count": 86,
   "metadata": {},
   "outputs": [
    {
     "name": "stdout",
     "output_type": "stream",
     "text": [
      "El tiempo maximo es de: 323.94626959247637\n",
      "El tiempo minimo es de: 0.0\n",
      "La media es: 14.394250680923752\n",
      "La mediana es: 4.898895833333333\n"
     ]
    }
   ],
   "source": [
    "# obtener calculos estadisticos \n",
    "print('El tiempo maximo es de:', avg_time_operator.max())\n",
    "print('El tiempo minimo es de:', avg_time_operator.min())\n",
    "print('La media es:', avg_time_operator.mean())\n",
    "print('La mediana es:',avg_time_operator.median())"
   ]
  },
  {
   "cell_type": "code",
   "execution_count": 87,
   "metadata": {},
   "outputs": [
    {
     "data": {
      "image/png": "[encoded data removed]",
      "text/plain": [
       "<Figure size 1000x600 with 1 Axes>"
      ]
     },
     "metadata": {},
     "output_type": "display_data"
    }
   ],
   "source": [
    "# diagrama caja y bigote para conocer la distribución de los datos\n",
    "data = calls.groupby('operator_id')['total_call_duration_min'].mean().reset_index(name='avg_time')\n",
    "\n",
    "# grafico\n",
    "with plt.style.context('ggplot'):\n",
    "    # crear boxplot\n",
    "    plt.figure(figsize=(10,6))\n",
    "    sns.boxplot(data=data, x='avg_time')\n",
    "\n",
    "plt.title('Distribución de llamadas con tiempo de espera(en minutos) por operador')\n",
    "plt.xlabel('Distribución')\n",
    "plt.ylabel('Tiempo de llamada (en minutos)')\n",
    "\n",
    "plt.show()"
   ]
  },
  {
   "cell_type": "code",
   "execution_count": 88,
   "metadata": {},
   "outputs": [
    {
     "name": "stdout",
     "output_type": "stream",
     "text": [
      "[ 1.812375    4.89889583 13.87281392]\n"
     ]
    }
   ],
   "source": [
    "# calcular percentiles de la distribucion \n",
    "print(np.percentile(avg_time_operator, [25,50,75]))"
   ]
  },
  {
   "cell_type": "code",
   "execution_count": 89,
   "metadata": {},
   "outputs": [],
   "source": [
    "# definir a los operadores mas eficaces\n",
    "more_efficents = avg_time_operator[(avg_time_operator >= 4.89) & (avg_time_operator <= 13.87)]\n",
    "\n",
    "less_inefficents = avg_time_operator[avg_time_operator > 13.87]"
   ]
  },
  {
   "cell_type": "markdown",
   "metadata": {},
   "source": [
    "<span style=\"color:purple; font-weight:bold; font-size: 18px\">\n",
    "Para evaluar si existe una diferencia significativa en el tiempo de espera promedio entre operadores mas eficaces y menos eficaces se clasificaron los operadores: \n",
    "\n",
    "* Operadores más eficaces: Aquellos cuyo tiempo promedio de espera se encuentra entre los percentiles 50 y 75 (valores entre 4.89 y 13.87 minutos).\n",
    "* Operadores menos eficaces: Aquellos cuyo tiempo promedio de espera es mayor a 13.87 minutos (superior al percentil 75).\n",
    "</span>"
   ]
  },
  {
   "cell_type": "code",
   "execution_count": 90,
   "metadata": {},
   "outputs": [],
   "source": [
    "# extraer los valores de cada categoria \n",
    "values_efficents = more_efficents.values\n",
    "values_inefficents = less_inefficents.values"
   ]
  },
  {
   "cell_type": "code",
   "execution_count": 91,
   "metadata": {},
   "outputs": [
    {
     "name": "stdout",
     "output_type": "stream",
     "text": [
      "Valor p: 4.7352597550758344e-91\n",
      "Hay diferencias significativas entre los operadores más eficaces y menos eficaces.\n"
     ]
    }
   ],
   "source": [
    "# aplicar prueba U de maan \n",
    "stat, p_value = mannwhitneyu(values_efficents, values_inefficents)\n",
    "\n",
    "# Mostrar resultado\n",
    "print(f'Valor p: {p_value}')\n",
    "\n",
    "if p_value < 0.05:\n",
    "    print(\"Hay diferencias significativas entre los operadores más eficaces y menos eficaces.\")\n",
    "else:\n",
    "    print(\"No hay diferencias significativas entre los operadores más eficaces y menos eficaces.\")"
   ]
  },
  {
   "cell_type": "markdown",
   "metadata": {},
   "source": [
    "<span style=\"color:purple; font-weight:bold; font-size: 18px\">\n",
    "Se aplicó la prueba U de Mann-Whitney, se obtuvo un valor p de 4.735e-91 es significativamente menor que 0.05, se rechaza la hipótesis nula. Esto indica que hay evidencia estadísticamente significativa para concluir que existe una diferencia en el tiempo de espera promedio entre los operadores más eficaces y los menos eficaces.\n",
    "</span>"
   ]
  },
  {
   "cell_type": "markdown",
   "metadata": {},
   "source": [
    "### Tiempo promedio de operadores con más llamadas perdidas y menos llamadas perdidas"
   ]
  },
  {
   "cell_type": "markdown",
   "metadata": {},
   "source": [
    "#### Hipótesis nula: No hay diferencias significativas en el tiempo promedio de espera entre operadores con más y menos llamadas perdidas.\n",
    "\n",
    "#### Hipótesis alternativa: Hay diferencias significativas en el tiempo promedio de espera entre operadores con más y menos llamadas perdidas."
   ]
  },
  {
   "cell_type": "code",
   "execution_count": 92,
   "metadata": {},
   "outputs": [],
   "source": [
    "# agrupacion de operadores por llamadas perdidas y tiempo con espera \n",
    "time_calls_missed = calls.groupby('operator_id').agg(\n",
    "    total_missed_call=('is_missed_call', 'count'),\n",
    "    avg_wait_time=('total_call_duration_min', 'mean')\n",
    ").reset_index()"
   ]
  },
  {
   "cell_type": "code",
   "execution_count": 93,
   "metadata": {},
   "outputs": [
    {
     "name": "stdout",
     "output_type": "stream",
     "text": [
      "Las llamadas maximas son: 348\n",
      "Las llamadas minimas son: 1\n",
      "La media es: 41.87728937728938\n",
      "La mediana es: 21.0\n"
     ]
    }
   ],
   "source": [
    "# obtener calculos estadisticos de las llamadas perdidas\n",
    "print('Las llamadas maximas son:', time_calls_missed['total_missed_call'].max())\n",
    "print('Las llamadas minimas son:', time_calls_missed['total_missed_call'].min())\n",
    "print('La media es:', time_calls_missed['total_missed_call'].mean())\n",
    "print('La mediana es:',time_calls_missed['total_missed_call'].median())"
   ]
  },
  {
   "cell_type": "code",
   "execution_count": 94,
   "metadata": {},
   "outputs": [
    {
     "data": {
      "image/png": "[encoded data removed]",
      "text/plain": [
       "<Figure size 1000x600 with 1 Axes>"
      ]
     },
     "metadata": {},
     "output_type": "display_data"
    }
   ],
   "source": [
    "# diagrama caja y bigote para conocer la distribución de las llamadas perdidas\n",
    "\n",
    "with plt.style.context('ggplot'):\n",
    "    # crear boxplot\n",
    "    plt.figure(figsize=(10,6))\n",
    "    sns.boxplot(data=time_calls_missed, x='total_missed_call')\n",
    "\n",
    "plt.title('Distribución de llamadas perdidas por operador')\n",
    "plt.xlabel('Distribución')\n",
    "plt.ylabel('Total de llamadas perdidas')\n",
    "\n",
    "plt.show()"
   ]
  },
  {
   "cell_type": "code",
   "execution_count": 95,
   "metadata": {},
   "outputs": [
    {
     "name": "stdout",
     "output_type": "stream",
     "text": [
      "Percentil 25: 6.0, Percentil 75: 54.25\n"
     ]
    }
   ],
   "source": [
    "# definir umbrales por percentiles\n",
    "percentile_75 = time_calls_missed['total_missed_call'].quantile(0.75)\n",
    "percentile_25 = time_calls_missed['total_missed_call'].quantile(0.25)\n",
    "\n",
    "print(f\"Percentil 25: {percentile_25}, Percentil 75: {percentile_75}\")"
   ]
  },
  {
   "cell_type": "code",
   "execution_count": 96,
   "metadata": {},
   "outputs": [],
   "source": [
    "# segmentar por operadores con mas llamadas perdidas y menos llamadas perdidas \n",
    "more_missed_call = time_calls_missed[time_calls_missed['total_missed_call'] > percentile_75]\n",
    "\n",
    "less_missed_call = time_calls_missed[time_calls_missed['total_missed_call'] <= percentile_25]"
   ]
  },
  {
   "cell_type": "markdown",
   "metadata": {},
   "source": [
    "<span style=\"color:purple; font-weight:bold; font-size: 18px\">\n",
    "Para probar la hipotesis: tiempo promedio de operadores con más llamadas perdidas y menos llamadas perdidas, se analizó la distribución de las llamadas perdidas, calculando medidas de tendencia central como la media y la mediana, ademas de valores maximos y minimos, dando una distribucion no normal, por lo cual se opto por utilizar los percentiles 25 y 75 de la muestra, clasificando las llamadas perdidas de la siguiente forma:\n",
    "    \n",
    "* Menos llamadas perdidas: Aquellas cuya cantidad se encuentra por debajo del percentil 25 (menos de 6 llamadas).\n",
    "* Mas llamadas perdidas: Aquellas cuya cantidad se encuentra por encima del percentil 75 (mas de 54 llamadas).\n",
    " \n",
    "</span>"
   ]
  },
  {
   "cell_type": "code",
   "execution_count": 97,
   "metadata": {},
   "outputs": [
    {
     "name": "stdout",
     "output_type": "stream",
     "text": [
      "Operadores con más llamadas perdidas:\n",
      "   operator_id  total_missed_call  avg_wait_time\n",
      "0       879896                128      12.685469\n",
      "1       879898                251      26.019283\n",
      "3       880022                 76       4.973421\n",
      "4       880026                198      16.301768\n",
      "5       880028                226      15.947655\n",
      "\n",
      "Operadores con menos llamadas perdidas:\n",
      "    operator_id  total_missed_call  avg_wait_time\n",
      "8        882476                  3       1.593333\n",
      "9        882478                  3       0.840000\n",
      "15       883018                  1       0.250000\n",
      "16       883898                  1       1.330000\n",
      "19       884294                  1       0.180000\n"
     ]
    }
   ],
   "source": [
    "# mostrar las primeras filas de los grupos\n",
    "print(\"Operadores con más llamadas perdidas:\")\n",
    "print(more_missed_call.head())\n",
    "\n",
    "print(\"\\nOperadores con menos llamadas perdidas:\")\n",
    "print(less_missed_call.head())"
   ]
  },
  {
   "cell_type": "code",
   "execution_count": 98,
   "metadata": {},
   "outputs": [],
   "source": [
    "# preparar datos para la prueba, extraer tiempo promedio \n",
    "wait_times_more = more_missed_call['avg_wait_time']\n",
    "wait_times_less = less_missed_call['avg_wait_time']"
   ]
  },
  {
   "cell_type": "code",
   "execution_count": 99,
   "metadata": {},
   "outputs": [
    {
     "name": "stdout",
     "output_type": "stream",
     "text": [
      "Valor p: 7.550856678675656e-66\n",
      "Hay diferencias significativas entre los grupos.\n"
     ]
    }
   ],
   "source": [
    "# establecer nivel de significancia\n",
    "alpha = 0.05 \n",
    "\n",
    "# aplicar prueba U de mann \n",
    "stat, p_value = mannwhitneyu(wait_times_more, wait_times_less)\n",
    "\n",
    "# imprimir p valor \n",
    "print(f'Valor p: {p_value}')\n",
    "\n",
    "if p_value < alpha:\n",
    "    print(\"Hay diferencias significativas entre los grupos.\")\n",
    "else:\n",
    "    print(\"No hay diferencias significativas entre los grupos.\")"
   ]
  },
  {
   "cell_type": "markdown",
   "metadata": {},
   "source": [
    "<span style=\"color:purple; font-weight:bold; font-size: 18px\">\n",
    "Se determinó que la distribución de las llamadas perdidas no es normal, basándose en estadísticas descriptivas (media, mediana, valores máximo y mínimo).\n",
    "Por esta razón, se utilizó la prueba U de Mann-Whitney, que es adecuada para comparar dos grupos independientes con distribuciones no normales. El Valor p (7.55e-66 ) obtenido es significativamente menor que 0.05, se rechaza la hipótesis nula, lo que indica que hay evidencia estadísticamente significativa para concluir que existe una diferencia en el tiempo promedio de los operadores con más llamadas perdidas y aquellos con menos llamadas perdidas.\n",
    "</span>"
   ]
  }
 ],
 "metadata": {
  "ExecuteTimeLog": [
   {
    "duration": 2722,
    "start_time": "2024-12-05T18:59:08.146Z"
   },
   {
    "duration": 83,
    "start_time": "2024-12-05T18:59:19.208Z"
   },
   {
    "duration": 2,
    "start_time": "2024-12-05T18:59:28.022Z"
   },
   {
    "duration": 3,
    "start_time": "2024-12-05T18:59:39.403Z"
   },
   {
    "duration": 32,
    "start_time": "2024-12-05T19:00:09.091Z"
   },
   {
    "duration": 12,
    "start_time": "2024-12-05T19:03:16.277Z"
   },
   {
    "duration": 5,
    "start_time": "2024-12-05T19:03:56.029Z"
   },
   {
    "duration": 4,
    "start_time": "2024-12-05T19:04:14.351Z"
   },
   {
    "duration": 7,
    "start_time": "2024-12-05T19:04:45.416Z"
   },
   {
    "duration": 223,
    "start_time": "2024-12-05T19:04:49.149Z"
   },
   {
    "duration": 14,
    "start_time": "2024-12-05T19:05:25.706Z"
   },
   {
    "duration": 5,
    "start_time": "2024-12-05T19:05:36.456Z"
   },
   {
    "duration": 18,
    "start_time": "2024-12-05T19:06:02.741Z"
   },
   {
    "duration": 16,
    "start_time": "2024-12-05T19:06:23.887Z"
   },
   {
    "duration": 594,
    "start_time": "2024-12-05T19:07:27.182Z"
   },
   {
    "duration": 4,
    "start_time": "2024-12-05T19:11:45.889Z"
   },
   {
    "duration": 12,
    "start_time": "2024-12-05T19:11:59.978Z"
   },
   {
    "duration": 21,
    "start_time": "2024-12-05T19:12:40.894Z"
   },
   {
    "duration": 9,
    "start_time": "2024-12-05T19:12:54.569Z"
   },
   {
    "duration": 22,
    "start_time": "2024-12-05T19:13:27.768Z"
   },
   {
    "duration": 14,
    "start_time": "2024-12-05T19:14:15.128Z"
   },
   {
    "duration": 20,
    "start_time": "2024-12-05T19:15:18.134Z"
   },
   {
    "duration": 14,
    "start_time": "2024-12-05T19:16:37.087Z"
   },
   {
    "duration": 16,
    "start_time": "2024-12-05T19:21:43.003Z"
   },
   {
    "duration": 15,
    "start_time": "2024-12-05T19:21:55.714Z"
   },
   {
    "duration": 4,
    "start_time": "2024-12-05T19:26:22.463Z"
   },
   {
    "duration": 9,
    "start_time": "2024-12-05T19:27:37.440Z"
   },
   {
    "duration": 10,
    "start_time": "2024-12-05T19:32:30.807Z"
   },
   {
    "duration": 3,
    "start_time": "2024-12-05T19:32:56.187Z"
   },
   {
    "duration": 6,
    "start_time": "2024-12-05T19:35:41.844Z"
   },
   {
    "duration": 4,
    "start_time": "2024-12-05T19:38:21.602Z"
   },
   {
    "duration": 6,
    "start_time": "2024-12-05T19:38:56.894Z"
   },
   {
    "duration": 3,
    "start_time": "2024-12-05T19:39:15.183Z"
   },
   {
    "duration": 12,
    "start_time": "2024-12-05T19:39:47.387Z"
   },
   {
    "duration": 3,
    "start_time": "2024-12-05T19:40:31.870Z"
   },
   {
    "duration": 6,
    "start_time": "2024-12-05T19:41:12.770Z"
   },
   {
    "duration": 3,
    "start_time": "2024-12-05T19:41:16.117Z"
   },
   {
    "duration": 5,
    "start_time": "2024-12-05T19:41:22.079Z"
   },
   {
    "duration": 18,
    "start_time": "2024-12-05T19:43:27.150Z"
   },
   {
    "duration": 11,
    "start_time": "2024-12-05T19:43:38.604Z"
   },
   {
    "duration": 18,
    "start_time": "2024-12-05T19:43:41.367Z"
   },
   {
    "duration": 4,
    "start_time": "2024-12-05T19:48:38.877Z"
   },
   {
    "duration": 6,
    "start_time": "2024-12-05T19:48:55.268Z"
   },
   {
    "duration": 6,
    "start_time": "2024-12-05T19:49:00.175Z"
   },
   {
    "duration": 4,
    "start_time": "2024-12-05T19:51:31.873Z"
   },
   {
    "duration": 873,
    "start_time": "2024-12-05T19:53:20.932Z"
   },
   {
    "duration": 44,
    "start_time": "2024-12-05T19:53:21.809Z"
   },
   {
    "duration": 3,
    "start_time": "2024-12-05T19:53:21.854Z"
   },
   {
    "duration": 3,
    "start_time": "2024-12-05T19:53:21.858Z"
   },
   {
    "duration": 45,
    "start_time": "2024-12-05T19:53:21.864Z"
   },
   {
    "duration": 9,
    "start_time": "2024-12-05T19:53:21.910Z"
   },
   {
    "duration": 4,
    "start_time": "2024-12-05T19:53:21.921Z"
   },
   {
    "duration": 18,
    "start_time": "2024-12-05T19:53:21.926Z"
   },
   {
    "duration": 21,
    "start_time": "2024-12-05T19:53:21.946Z"
   },
   {
    "duration": 43,
    "start_time": "2024-12-05T19:53:21.969Z"
   },
   {
    "duration": 14,
    "start_time": "2024-12-05T19:53:22.013Z"
   },
   {
    "duration": 5,
    "start_time": "2024-12-05T19:53:22.028Z"
   },
   {
    "duration": 9,
    "start_time": "2024-12-05T19:53:22.034Z"
   },
   {
    "duration": 3,
    "start_time": "2024-12-05T19:53:22.047Z"
   },
   {
    "duration": 0,
    "start_time": "2024-12-05T19:53:22.052Z"
   },
   {
    "duration": 0,
    "start_time": "2024-12-05T19:53:22.054Z"
   },
   {
    "duration": 0,
    "start_time": "2024-12-05T19:53:22.055Z"
   },
   {
    "duration": 0,
    "start_time": "2024-12-05T19:53:22.056Z"
   },
   {
    "duration": 0,
    "start_time": "2024-12-05T19:53:22.057Z"
   },
   {
    "duration": 0,
    "start_time": "2024-12-05T19:53:22.058Z"
   },
   {
    "duration": 0,
    "start_time": "2024-12-05T19:53:22.059Z"
   },
   {
    "duration": 0,
    "start_time": "2024-12-05T19:53:22.060Z"
   },
   {
    "duration": 0,
    "start_time": "2024-12-05T19:53:22.061Z"
   },
   {
    "duration": 3,
    "start_time": "2024-12-05T19:53:41.766Z"
   },
   {
    "duration": 41,
    "start_time": "2024-12-05T19:53:41.771Z"
   },
   {
    "duration": 2,
    "start_time": "2024-12-05T19:53:41.814Z"
   },
   {
    "duration": 3,
    "start_time": "2024-12-05T19:53:41.818Z"
   },
   {
    "duration": 28,
    "start_time": "2024-12-05T19:53:41.823Z"
   },
   {
    "duration": 8,
    "start_time": "2024-12-05T19:53:41.853Z"
   },
   {
    "duration": 3,
    "start_time": "2024-12-05T19:53:41.863Z"
   },
   {
    "duration": 42,
    "start_time": "2024-12-05T19:53:41.868Z"
   },
   {
    "duration": 19,
    "start_time": "2024-12-05T19:53:41.911Z"
   },
   {
    "duration": 15,
    "start_time": "2024-12-05T19:53:41.932Z"
   },
   {
    "duration": 12,
    "start_time": "2024-12-05T19:53:41.949Z"
   },
   {
    "duration": 3,
    "start_time": "2024-12-05T19:53:41.963Z"
   },
   {
    "duration": 41,
    "start_time": "2024-12-05T19:53:41.968Z"
   },
   {
    "duration": 13,
    "start_time": "2024-12-05T19:53:42.013Z"
   },
   {
    "duration": 13,
    "start_time": "2024-12-05T19:53:42.028Z"
   },
   {
    "duration": 13,
    "start_time": "2024-12-05T19:53:42.043Z"
   },
   {
    "duration": 6,
    "start_time": "2024-12-05T19:53:42.057Z"
   },
   {
    "duration": 4,
    "start_time": "2024-12-05T19:53:42.064Z"
   },
   {
    "duration": 41,
    "start_time": "2024-12-05T19:53:42.070Z"
   },
   {
    "duration": 5,
    "start_time": "2024-12-05T19:53:42.113Z"
   },
   {
    "duration": 6,
    "start_time": "2024-12-05T19:53:42.120Z"
   },
   {
    "duration": 4,
    "start_time": "2024-12-05T19:53:42.127Z"
   },
   {
    "duration": 14,
    "start_time": "2024-12-05T19:53:54.513Z"
   },
   {
    "duration": 17,
    "start_time": "2024-12-05T19:53:59.912Z"
   },
   {
    "duration": 11,
    "start_time": "2024-12-05T19:55:05.045Z"
   },
   {
    "duration": 18,
    "start_time": "2024-12-05T19:55:06.173Z"
   },
   {
    "duration": 701,
    "start_time": "2024-12-05T19:55:51.564Z"
   },
   {
    "duration": 4,
    "start_time": "2024-12-05T19:55:55.101Z"
   },
   {
    "duration": 6,
    "start_time": "2024-12-05T19:56:17.761Z"
   },
   {
    "duration": 4,
    "start_time": "2024-12-05T19:56:41.383Z"
   },
   {
    "duration": 12,
    "start_time": "2024-12-05T19:58:16.634Z"
   },
   {
    "duration": 18,
    "start_time": "2024-12-05T19:58:22.730Z"
   },
   {
    "duration": 3,
    "start_time": "2024-12-05T20:00:23.623Z"
   },
   {
    "duration": 12,
    "start_time": "2024-12-05T20:08:08.124Z"
   },
   {
    "duration": 18,
    "start_time": "2024-12-05T20:08:22.083Z"
   },
   {
    "duration": 14,
    "start_time": "2024-12-05T20:08:51.638Z"
   },
   {
    "duration": 6,
    "start_time": "2024-12-05T20:09:11.745Z"
   },
   {
    "duration": 5,
    "start_time": "2024-12-05T20:11:25.681Z"
   },
   {
    "duration": 9,
    "start_time": "2024-12-05T20:12:03.184Z"
   },
   {
    "duration": 7,
    "start_time": "2024-12-05T20:12:35.464Z"
   },
   {
    "duration": 17,
    "start_time": "2024-12-05T20:12:51.128Z"
   },
   {
    "duration": 14,
    "start_time": "2024-12-05T20:12:54.705Z"
   },
   {
    "duration": 18,
    "start_time": "2024-12-05T20:15:59.499Z"
   },
   {
    "duration": 5,
    "start_time": "2024-12-05T20:16:40.678Z"
   },
   {
    "duration": 7,
    "start_time": "2024-12-05T20:17:10.809Z"
   },
   {
    "duration": 131,
    "start_time": "2024-12-05T20:28:32.619Z"
   },
   {
    "duration": 117,
    "start_time": "2024-12-05T20:28:59.413Z"
   },
   {
    "duration": 112,
    "start_time": "2024-12-05T20:29:17.999Z"
   },
   {
    "duration": 112,
    "start_time": "2024-12-05T20:30:16.405Z"
   },
   {
    "duration": 13,
    "start_time": "2024-12-05T20:32:15.894Z"
   },
   {
    "duration": 143,
    "start_time": "2024-12-05T20:32:38.887Z"
   },
   {
    "duration": 20,
    "start_time": "2024-12-05T20:34:24.707Z"
   },
   {
    "duration": 16,
    "start_time": "2024-12-05T20:34:38.759Z"
   },
   {
    "duration": 261,
    "start_time": "2024-12-05T20:34:53.232Z"
   },
   {
    "duration": 12,
    "start_time": "2024-12-05T20:36:26.785Z"
   },
   {
    "duration": 183,
    "start_time": "2024-12-05T20:36:36.315Z"
   },
   {
    "duration": 16,
    "start_time": "2024-12-05T20:37:24.327Z"
   },
   {
    "duration": 150,
    "start_time": "2024-12-05T20:37:40.563Z"
   },
   {
    "duration": 12,
    "start_time": "2024-12-05T20:40:39.434Z"
   },
   {
    "duration": 12,
    "start_time": "2024-12-05T20:41:06.114Z"
   },
   {
    "duration": 10,
    "start_time": "2024-12-05T20:42:10.849Z"
   },
   {
    "duration": 10,
    "start_time": "2024-12-05T20:43:13.229Z"
   },
   {
    "duration": 12,
    "start_time": "2024-12-05T20:46:58.795Z"
   },
   {
    "duration": 12,
    "start_time": "2024-12-05T20:48:36.419Z"
   },
   {
    "duration": 147,
    "start_time": "2024-12-05T20:52:37.356Z"
   },
   {
    "duration": 17,
    "start_time": "2024-12-05T20:56:24.176Z"
   },
   {
    "duration": 285,
    "start_time": "2024-12-05T20:57:05.184Z"
   },
   {
    "duration": 279,
    "start_time": "2024-12-05T20:58:23.901Z"
   },
   {
    "duration": 285,
    "start_time": "2024-12-05T20:58:36.645Z"
   },
   {
    "duration": 396,
    "start_time": "2024-12-05T20:58:51.878Z"
   },
   {
    "duration": 284,
    "start_time": "2024-12-05T20:59:06.059Z"
   },
   {
    "duration": 13,
    "start_time": "2024-12-05T20:59:39.480Z"
   },
   {
    "duration": 10,
    "start_time": "2024-12-05T21:00:06.403Z"
   },
   {
    "duration": 14,
    "start_time": "2024-12-05T21:01:10.725Z"
   },
   {
    "duration": 11,
    "start_time": "2024-12-05T21:01:37.942Z"
   },
   {
    "duration": 808,
    "start_time": "2024-12-05T21:02:25.197Z"
   },
   {
    "duration": 42,
    "start_time": "2024-12-05T21:02:26.009Z"
   },
   {
    "duration": 3,
    "start_time": "2024-12-05T21:02:26.053Z"
   },
   {
    "duration": 3,
    "start_time": "2024-12-05T21:02:26.059Z"
   },
   {
    "duration": 17,
    "start_time": "2024-12-05T21:02:26.066Z"
   },
   {
    "duration": 26,
    "start_time": "2024-12-05T21:02:26.085Z"
   },
   {
    "duration": 5,
    "start_time": "2024-12-05T21:02:26.113Z"
   },
   {
    "duration": 31,
    "start_time": "2024-12-05T21:02:26.120Z"
   },
   {
    "duration": 8,
    "start_time": "2024-12-05T21:02:26.153Z"
   },
   {
    "duration": 4,
    "start_time": "2024-12-05T21:02:26.163Z"
   },
   {
    "duration": 51,
    "start_time": "2024-12-05T21:02:26.168Z"
   },
   {
    "duration": 21,
    "start_time": "2024-12-05T21:02:26.221Z"
   },
   {
    "duration": 14,
    "start_time": "2024-12-05T21:02:26.245Z"
   },
   {
    "duration": 13,
    "start_time": "2024-12-05T21:02:26.262Z"
   },
   {
    "duration": 31,
    "start_time": "2024-12-05T21:02:26.277Z"
   },
   {
    "duration": 11,
    "start_time": "2024-12-05T21:02:26.310Z"
   },
   {
    "duration": 14,
    "start_time": "2024-12-05T21:02:26.323Z"
   },
   {
    "duration": 13,
    "start_time": "2024-12-05T21:02:26.339Z"
   },
   {
    "duration": 13,
    "start_time": "2024-12-05T21:02:26.353Z"
   },
   {
    "duration": 7,
    "start_time": "2024-12-05T21:02:26.368Z"
   },
   {
    "duration": 4,
    "start_time": "2024-12-05T21:02:26.409Z"
   },
   {
    "duration": 6,
    "start_time": "2024-12-05T21:02:26.415Z"
   },
   {
    "duration": 3,
    "start_time": "2024-12-05T21:02:26.423Z"
   },
   {
    "duration": 6,
    "start_time": "2024-12-05T21:02:26.428Z"
   },
   {
    "duration": 3,
    "start_time": "2024-12-05T21:02:26.436Z"
   },
   {
    "duration": 11,
    "start_time": "2024-12-05T21:02:26.441Z"
   },
   {
    "duration": 4,
    "start_time": "2024-12-05T21:02:26.453Z"
   },
   {
    "duration": 50,
    "start_time": "2024-12-05T21:02:26.459Z"
   },
   {
    "duration": 4,
    "start_time": "2024-12-05T21:02:26.511Z"
   },
   {
    "duration": 11,
    "start_time": "2024-12-05T21:02:26.517Z"
   },
   {
    "duration": 12,
    "start_time": "2024-12-05T21:02:26.529Z"
   },
   {
    "duration": 151,
    "start_time": "2024-12-05T21:02:26.542Z"
   },
   {
    "duration": 129,
    "start_time": "2024-12-05T21:02:26.695Z"
   },
   {
    "duration": 12,
    "start_time": "2024-12-05T21:02:36.719Z"
   },
   {
    "duration": 396,
    "start_time": "2024-12-05T21:02:47.078Z"
   },
   {
    "duration": 9,
    "start_time": "2024-12-05T21:03:04.022Z"
   },
   {
    "duration": 13,
    "start_time": "2024-12-05T21:03:36.909Z"
   },
   {
    "duration": 9,
    "start_time": "2024-12-05T21:04:00.977Z"
   },
   {
    "duration": 217,
    "start_time": "2024-12-05T21:05:54.476Z"
   },
   {
    "duration": 11,
    "start_time": "2024-12-05T21:06:31.400Z"
   },
   {
    "duration": 143,
    "start_time": "2024-12-05T21:06:42.968Z"
   },
   {
    "duration": 14,
    "start_time": "2024-12-05T21:16:05.377Z"
   },
   {
    "duration": 12,
    "start_time": "2024-12-05T21:16:14.069Z"
   },
   {
    "duration": 11,
    "start_time": "2024-12-05T21:16:21.633Z"
   },
   {
    "duration": 13,
    "start_time": "2024-12-05T21:16:22.627Z"
   },
   {
    "duration": 2881,
    "start_time": "2024-12-05T22:49:32.073Z"
   },
   {
    "duration": 83,
    "start_time": "2024-12-05T22:49:34.957Z"
   },
   {
    "duration": 3,
    "start_time": "2024-12-05T22:49:35.042Z"
   },
   {
    "duration": 5,
    "start_time": "2024-12-05T22:49:35.048Z"
   },
   {
    "duration": 18,
    "start_time": "2024-12-05T22:49:35.056Z"
   },
   {
    "duration": 6,
    "start_time": "2024-12-05T22:49:35.076Z"
   },
   {
    "duration": 22,
    "start_time": "2024-12-05T22:49:35.084Z"
   },
   {
    "duration": 40,
    "start_time": "2024-12-05T22:49:35.108Z"
   },
   {
    "duration": 9,
    "start_time": "2024-12-05T22:49:35.150Z"
   },
   {
    "duration": 5,
    "start_time": "2024-12-05T22:49:35.161Z"
   },
   {
    "duration": 43,
    "start_time": "2024-12-05T22:49:35.168Z"
   },
   {
    "duration": 29,
    "start_time": "2024-12-05T22:49:35.213Z"
   },
   {
    "duration": 18,
    "start_time": "2024-12-05T22:49:35.244Z"
   },
   {
    "duration": 14,
    "start_time": "2024-12-05T22:49:35.266Z"
   },
   {
    "duration": 25,
    "start_time": "2024-12-05T22:49:35.282Z"
   },
   {
    "duration": 11,
    "start_time": "2024-12-05T22:49:35.309Z"
   },
   {
    "duration": 14,
    "start_time": "2024-12-05T22:49:35.321Z"
   },
   {
    "duration": 12,
    "start_time": "2024-12-05T22:49:35.337Z"
   },
   {
    "duration": 16,
    "start_time": "2024-12-05T22:49:35.351Z"
   },
   {
    "duration": 36,
    "start_time": "2024-12-05T22:49:35.369Z"
   },
   {
    "duration": 5,
    "start_time": "2024-12-05T22:49:35.408Z"
   },
   {
    "duration": 6,
    "start_time": "2024-12-05T22:49:35.414Z"
   },
   {
    "duration": 6,
    "start_time": "2024-12-05T22:49:35.422Z"
   },
   {
    "duration": 6,
    "start_time": "2024-12-05T22:49:35.429Z"
   },
   {
    "duration": 3,
    "start_time": "2024-12-05T22:49:35.437Z"
   },
   {
    "duration": 14,
    "start_time": "2024-12-05T22:49:35.442Z"
   },
   {
    "duration": 4,
    "start_time": "2024-12-05T22:49:35.458Z"
   },
   {
    "duration": 43,
    "start_time": "2024-12-05T22:49:35.464Z"
   },
   {
    "duration": 5,
    "start_time": "2024-12-05T22:49:35.510Z"
   },
   {
    "duration": 16,
    "start_time": "2024-12-05T22:49:35.517Z"
   },
   {
    "duration": 12,
    "start_time": "2024-12-05T22:49:35.536Z"
   },
   {
    "duration": 143,
    "start_time": "2024-12-05T22:49:35.550Z"
   },
   {
    "duration": 115,
    "start_time": "2024-12-05T22:49:35.704Z"
   },
   {
    "duration": 10,
    "start_time": "2024-12-05T22:49:35.821Z"
   },
   {
    "duration": 307,
    "start_time": "2024-12-05T22:49:35.833Z"
   },
   {
    "duration": 8,
    "start_time": "2024-12-05T22:49:36.142Z"
   },
   {
    "duration": 235,
    "start_time": "2024-12-05T22:49:36.152Z"
   },
   {
    "duration": 17,
    "start_time": "2024-12-05T22:49:36.389Z"
   },
   {
    "duration": 251,
    "start_time": "2024-12-05T22:49:36.409Z"
   },
   {
    "duration": 16,
    "start_time": "2024-12-05T22:49:36.662Z"
   },
   {
    "duration": 26,
    "start_time": "2024-12-05T22:49:36.683Z"
   },
   {
    "duration": 355,
    "start_time": "2024-12-05T22:49:36.711Z"
   },
   {
    "duration": 14,
    "start_time": "2024-12-05T22:49:37.069Z"
   },
   {
    "duration": 185,
    "start_time": "2024-12-05T22:49:37.085Z"
   },
   {
    "duration": 14,
    "start_time": "2024-12-05T22:49:37.272Z"
   },
   {
    "duration": 176,
    "start_time": "2024-12-05T22:49:37.288Z"
   },
   {
    "duration": 13,
    "start_time": "2024-12-05T22:49:37.466Z"
   },
   {
    "duration": 25,
    "start_time": "2024-12-05T22:49:37.481Z"
   },
   {
    "duration": 14,
    "start_time": "2024-12-05T22:49:37.508Z"
   },
   {
    "duration": 12,
    "start_time": "2024-12-05T22:49:37.524Z"
   },
   {
    "duration": 13,
    "start_time": "2024-12-05T22:49:37.537Z"
   },
   {
    "duration": 13,
    "start_time": "2024-12-05T22:49:37.552Z"
   },
   {
    "duration": 45,
    "start_time": "2024-12-05T22:49:37.568Z"
   },
   {
    "duration": 15,
    "start_time": "2024-12-05T22:49:37.615Z"
   },
   {
    "duration": 13,
    "start_time": "2024-12-05T22:49:37.632Z"
   },
   {
    "duration": 13,
    "start_time": "2024-12-05T22:49:37.647Z"
   },
   {
    "duration": 14,
    "start_time": "2024-12-05T23:09:09.382Z"
   },
   {
    "duration": 10,
    "start_time": "2024-12-05T23:10:14.795Z"
   },
   {
    "duration": 10,
    "start_time": "2024-12-05T23:12:04.088Z"
   },
   {
    "duration": 11,
    "start_time": "2024-12-05T23:17:08.387Z"
   },
   {
    "duration": 214,
    "start_time": "2024-12-05T23:25:56.522Z"
   },
   {
    "duration": 10,
    "start_time": "2024-12-05T23:26:01.707Z"
   },
   {
    "duration": 401,
    "start_time": "2024-12-05T23:26:06.055Z"
   },
   {
    "duration": 8,
    "start_time": "2024-12-05T23:26:12.668Z"
   },
   {
    "duration": 17,
    "start_time": "2024-12-05T23:38:16.527Z"
   },
   {
    "duration": 3,
    "start_time": "2024-12-05T23:43:59.483Z"
   },
   {
    "duration": 9,
    "start_time": "2024-12-05T23:44:05.177Z"
   },
   {
    "duration": 870,
    "start_time": "2024-12-05T23:50:41.022Z"
   },
   {
    "duration": 41,
    "start_time": "2024-12-05T23:50:41.895Z"
   },
   {
    "duration": 3,
    "start_time": "2024-12-05T23:50:41.938Z"
   },
   {
    "duration": 3,
    "start_time": "2024-12-05T23:50:41.943Z"
   },
   {
    "duration": 14,
    "start_time": "2024-12-05T23:50:41.949Z"
   },
   {
    "duration": 4,
    "start_time": "2024-12-05T23:50:41.964Z"
   },
   {
    "duration": 5,
    "start_time": "2024-12-05T23:50:41.970Z"
   },
   {
    "duration": 29,
    "start_time": "2024-12-05T23:50:42.004Z"
   },
   {
    "duration": 9,
    "start_time": "2024-12-05T23:50:42.035Z"
   },
   {
    "duration": 4,
    "start_time": "2024-12-05T23:50:42.045Z"
   },
   {
    "duration": 16,
    "start_time": "2024-12-05T23:50:42.050Z"
   },
   {
    "duration": 45,
    "start_time": "2024-12-05T23:50:42.067Z"
   },
   {
    "duration": 14,
    "start_time": "2024-12-05T23:50:42.114Z"
   },
   {
    "duration": 15,
    "start_time": "2024-12-05T23:50:42.132Z"
   },
   {
    "duration": 3,
    "start_time": "2024-12-05T23:50:42.149Z"
   },
   {
    "duration": 9,
    "start_time": "2024-12-05T23:50:42.154Z"
   },
   {
    "duration": 13,
    "start_time": "2024-12-05T23:50:42.164Z"
   },
   {
    "duration": 14,
    "start_time": "2024-12-05T23:50:42.206Z"
   },
   {
    "duration": 13,
    "start_time": "2024-12-05T23:50:42.221Z"
   },
   {
    "duration": 5,
    "start_time": "2024-12-05T23:50:42.236Z"
   },
   {
    "duration": 4,
    "start_time": "2024-12-05T23:50:42.243Z"
   },
   {
    "duration": 4,
    "start_time": "2024-12-05T23:50:42.248Z"
   },
   {
    "duration": 4,
    "start_time": "2024-12-05T23:50:42.253Z"
   },
   {
    "duration": 6,
    "start_time": "2024-12-05T23:50:42.258Z"
   },
   {
    "duration": 4,
    "start_time": "2024-12-05T23:50:42.306Z"
   },
   {
    "duration": 13,
    "start_time": "2024-12-05T23:50:42.311Z"
   },
   {
    "duration": 4,
    "start_time": "2024-12-05T23:50:42.325Z"
   },
   {
    "duration": 6,
    "start_time": "2024-12-05T23:50:42.331Z"
   },
   {
    "duration": 3,
    "start_time": "2024-12-05T23:50:42.339Z"
   },
   {
    "duration": 11,
    "start_time": "2024-12-05T23:50:42.344Z"
   },
   {
    "duration": 51,
    "start_time": "2024-12-05T23:50:42.359Z"
   },
   {
    "duration": 133,
    "start_time": "2024-12-05T23:50:42.412Z"
   },
   {
    "duration": 118,
    "start_time": "2024-12-05T23:50:42.546Z"
   },
   {
    "duration": 7,
    "start_time": "2024-12-05T23:50:42.667Z"
   },
   {
    "duration": 343,
    "start_time": "2024-12-05T23:50:42.676Z"
   },
   {
    "duration": 8,
    "start_time": "2024-12-05T23:50:43.021Z"
   },
   {
    "duration": 228,
    "start_time": "2024-12-05T23:50:43.030Z"
   },
   {
    "duration": 11,
    "start_time": "2024-12-05T23:50:43.259Z"
   },
   {
    "duration": 166,
    "start_time": "2024-12-05T23:50:43.271Z"
   },
   {
    "duration": 22,
    "start_time": "2024-12-05T23:50:43.442Z"
   },
   {
    "duration": 14,
    "start_time": "2024-12-05T23:50:43.469Z"
   },
   {
    "duration": 320,
    "start_time": "2024-12-05T23:50:43.485Z"
   },
   {
    "duration": 13,
    "start_time": "2024-12-05T23:50:43.807Z"
   },
   {
    "duration": 189,
    "start_time": "2024-12-05T23:50:43.821Z"
   },
   {
    "duration": 13,
    "start_time": "2024-12-05T23:50:44.012Z"
   },
   {
    "duration": 163,
    "start_time": "2024-12-05T23:50:44.027Z"
   },
   {
    "duration": 21,
    "start_time": "2024-12-05T23:50:44.192Z"
   },
   {
    "duration": 15,
    "start_time": "2024-12-05T23:54:03.013Z"
   },
   {
    "duration": 11,
    "start_time": "2024-12-05T23:54:09.745Z"
   },
   {
    "duration": 10,
    "start_time": "2024-12-05T23:55:29.250Z"
   },
   {
    "duration": 10,
    "start_time": "2024-12-05T23:55:38.254Z"
   },
   {
    "duration": 213,
    "start_time": "2024-12-05T23:57:55.251Z"
   },
   {
    "duration": 13,
    "start_time": "2024-12-05T23:58:03.654Z"
   },
   {
    "duration": 18,
    "start_time": "2024-12-05T23:58:28.204Z"
   },
   {
    "duration": 13,
    "start_time": "2024-12-05T23:58:37.718Z"
   },
   {
    "duration": 10,
    "start_time": "2024-12-05T23:59:56.301Z"
   },
   {
    "duration": 9,
    "start_time": "2024-12-06T00:00:11.631Z"
   },
   {
    "duration": 14,
    "start_time": "2024-12-06T00:00:26.815Z"
   },
   {
    "duration": 9,
    "start_time": "2024-12-06T00:00:39.191Z"
   },
   {
    "duration": 10,
    "start_time": "2024-12-06T00:00:51.480Z"
   },
   {
    "duration": 3,
    "start_time": "2024-12-06T00:02:27.676Z"
   },
   {
    "duration": 10,
    "start_time": "2024-12-06T00:02:28.516Z"
   },
   {
    "duration": 11,
    "start_time": "2024-12-06T00:06:32.873Z"
   },
   {
    "duration": 11,
    "start_time": "2024-12-06T00:06:48.426Z"
   },
   {
    "duration": 3,
    "start_time": "2024-12-06T00:07:24.360Z"
   },
   {
    "duration": 10,
    "start_time": "2024-12-06T00:07:47.285Z"
   },
   {
    "duration": 11,
    "start_time": "2024-12-06T00:08:05.791Z"
   },
   {
    "duration": 11,
    "start_time": "2024-12-06T00:08:13.144Z"
   },
   {
    "duration": 10,
    "start_time": "2024-12-06T00:08:39.374Z"
   },
   {
    "duration": 8,
    "start_time": "2024-12-06T00:10:58.956Z"
   },
   {
    "duration": 3,
    "start_time": "2024-12-06T00:11:52.191Z"
   },
   {
    "duration": 9,
    "start_time": "2024-12-06T00:12:30.431Z"
   },
   {
    "duration": 195,
    "start_time": "2024-12-06T00:32:03.766Z"
   },
   {
    "duration": 12,
    "start_time": "2024-12-06T00:32:14.767Z"
   },
   {
    "duration": 9,
    "start_time": "2024-12-06T00:32:23.440Z"
   },
   {
    "duration": 4,
    "start_time": "2024-12-06T00:34:49.132Z"
   },
   {
    "duration": 10,
    "start_time": "2024-12-06T00:35:33.760Z"
   },
   {
    "duration": 2610,
    "start_time": "2024-12-06T03:06:56.057Z"
   },
   {
    "duration": 79,
    "start_time": "2024-12-06T03:06:58.670Z"
   },
   {
    "duration": 3,
    "start_time": "2024-12-06T03:06:58.750Z"
   },
   {
    "duration": 4,
    "start_time": "2024-12-06T03:06:58.755Z"
   },
   {
    "duration": 16,
    "start_time": "2024-12-06T03:06:58.762Z"
   },
   {
    "duration": 4,
    "start_time": "2024-12-06T03:06:58.780Z"
   },
   {
    "duration": 5,
    "start_time": "2024-12-06T03:06:58.785Z"
   },
   {
    "duration": 52,
    "start_time": "2024-12-06T03:06:58.792Z"
   },
   {
    "duration": 9,
    "start_time": "2024-12-06T03:06:58.847Z"
   },
   {
    "duration": 4,
    "start_time": "2024-12-06T03:06:58.857Z"
   },
   {
    "duration": 18,
    "start_time": "2024-12-06T03:06:58.863Z"
   },
   {
    "duration": 46,
    "start_time": "2024-12-06T03:06:58.883Z"
   },
   {
    "duration": 16,
    "start_time": "2024-12-06T03:06:58.930Z"
   },
   {
    "duration": 13,
    "start_time": "2024-12-06T03:06:58.950Z"
   },
   {
    "duration": 4,
    "start_time": "2024-12-06T03:06:58.964Z"
   },
   {
    "duration": 8,
    "start_time": "2024-12-06T03:06:58.970Z"
   },
   {
    "duration": 50,
    "start_time": "2024-12-06T03:06:58.980Z"
   },
   {
    "duration": 12,
    "start_time": "2024-12-06T03:06:59.032Z"
   },
   {
    "duration": 13,
    "start_time": "2024-12-06T03:06:59.046Z"
   },
   {
    "duration": 5,
    "start_time": "2024-12-06T03:06:59.061Z"
   },
   {
    "duration": 4,
    "start_time": "2024-12-06T03:06:59.068Z"
   },
   {
    "duration": 4,
    "start_time": "2024-12-06T03:06:59.074Z"
   },
   {
    "duration": 3,
    "start_time": "2024-12-06T03:06:59.080Z"
   },
   {
    "duration": 44,
    "start_time": "2024-12-06T03:06:59.085Z"
   },
   {
    "duration": 3,
    "start_time": "2024-12-06T03:06:59.131Z"
   },
   {
    "duration": 11,
    "start_time": "2024-12-06T03:06:59.136Z"
   },
   {
    "duration": 4,
    "start_time": "2024-12-06T03:06:59.149Z"
   },
   {
    "duration": 5,
    "start_time": "2024-12-06T03:06:59.155Z"
   },
   {
    "duration": 4,
    "start_time": "2024-12-06T03:06:59.162Z"
   },
   {
    "duration": 11,
    "start_time": "2024-12-06T03:06:59.168Z"
   },
   {
    "duration": 52,
    "start_time": "2024-12-06T03:06:59.181Z"
   },
   {
    "duration": 136,
    "start_time": "2024-12-06T03:06:59.234Z"
   },
   {
    "duration": 123,
    "start_time": "2024-12-06T03:06:59.372Z"
   },
   {
    "duration": 8,
    "start_time": "2024-12-06T03:06:59.497Z"
   },
   {
    "duration": 288,
    "start_time": "2024-12-06T03:06:59.506Z"
   },
   {
    "duration": 10,
    "start_time": "2024-12-06T03:06:59.796Z"
   },
   {
    "duration": 284,
    "start_time": "2024-12-06T03:06:59.807Z"
   },
   {
    "duration": 11,
    "start_time": "2024-12-06T03:07:00.093Z"
   },
   {
    "duration": 152,
    "start_time": "2024-12-06T03:07:00.106Z"
   },
   {
    "duration": 19,
    "start_time": "2024-12-06T03:07:00.260Z"
   },
   {
    "duration": 12,
    "start_time": "2024-12-06T03:07:00.283Z"
   },
   {
    "duration": 291,
    "start_time": "2024-12-06T03:07:00.297Z"
   },
   {
    "duration": 12,
    "start_time": "2024-12-06T03:07:00.590Z"
   },
   {
    "duration": 178,
    "start_time": "2024-12-06T03:07:00.604Z"
   },
   {
    "duration": 11,
    "start_time": "2024-12-06T03:07:00.784Z"
   },
   {
    "duration": 160,
    "start_time": "2024-12-06T03:07:00.796Z"
   },
   {
    "duration": 11,
    "start_time": "2024-12-06T03:07:00.957Z"
   },
   {
    "duration": 3,
    "start_time": "2024-12-06T03:07:00.970Z"
   },
   {
    "duration": 14,
    "start_time": "2024-12-06T03:07:00.974Z"
   },
   {
    "duration": 11,
    "start_time": "2024-12-06T03:07:00.990Z"
   },
   {
    "duration": 22,
    "start_time": "2024-12-06T03:07:01.003Z"
   },
   {
    "duration": 9,
    "start_time": "2024-12-06T03:07:01.027Z"
   },
   {
    "duration": 18,
    "start_time": "2024-12-06T03:07:41.302Z"
   },
   {
    "duration": 16,
    "start_time": "2024-12-06T03:08:20.534Z"
   },
   {
    "duration": 3,
    "start_time": "2024-12-06T03:08:22.082Z"
   },
   {
    "duration": 14,
    "start_time": "2024-12-06T03:08:23.865Z"
   },
   {
    "duration": 10,
    "start_time": "2024-12-06T03:14:24.032Z"
   },
   {
    "duration": 3,
    "start_time": "2024-12-06T03:14:24.570Z"
   },
   {
    "duration": 14,
    "start_time": "2024-12-06T03:14:25.567Z"
   },
   {
    "duration": 2,
    "start_time": "2024-12-06T03:20:07.954Z"
   },
   {
    "duration": 41,
    "start_time": "2024-12-06T03:20:07.958Z"
   },
   {
    "duration": 3,
    "start_time": "2024-12-06T03:20:08.001Z"
   },
   {
    "duration": 3,
    "start_time": "2024-12-06T03:20:08.083Z"
   },
   {
    "duration": 14,
    "start_time": "2024-12-06T03:20:08.088Z"
   },
   {
    "duration": 4,
    "start_time": "2024-12-06T03:20:08.126Z"
   },
   {
    "duration": 6,
    "start_time": "2024-12-06T03:20:08.132Z"
   },
   {
    "duration": 32,
    "start_time": "2024-12-06T03:20:08.140Z"
   },
   {
    "duration": 12,
    "start_time": "2024-12-06T03:20:08.174Z"
   },
   {
    "duration": 3,
    "start_time": "2024-12-06T03:20:08.195Z"
   },
   {
    "duration": 37,
    "start_time": "2024-12-06T03:20:08.200Z"
   },
   {
    "duration": 19,
    "start_time": "2024-12-06T03:20:08.239Z"
   },
   {
    "duration": 15,
    "start_time": "2024-12-06T03:20:08.259Z"
   },
   {
    "duration": 12,
    "start_time": "2024-12-06T03:20:08.276Z"
   },
   {
    "duration": 3,
    "start_time": "2024-12-06T03:20:08.290Z"
   },
   {
    "duration": 37,
    "start_time": "2024-12-06T03:20:08.295Z"
   },
   {
    "duration": 13,
    "start_time": "2024-12-06T03:20:08.334Z"
   },
   {
    "duration": 13,
    "start_time": "2024-12-06T03:20:08.349Z"
   },
   {
    "duration": 13,
    "start_time": "2024-12-06T03:20:08.363Z"
   },
   {
    "duration": 5,
    "start_time": "2024-12-06T03:20:08.378Z"
   },
   {
    "duration": 41,
    "start_time": "2024-12-06T03:20:08.385Z"
   },
   {
    "duration": 4,
    "start_time": "2024-12-06T03:20:08.428Z"
   },
   {
    "duration": 4,
    "start_time": "2024-12-06T03:20:08.435Z"
   },
   {
    "duration": 6,
    "start_time": "2024-12-06T03:20:08.440Z"
   },
   {
    "duration": 3,
    "start_time": "2024-12-06T03:20:08.448Z"
   },
   {
    "duration": 12,
    "start_time": "2024-12-06T03:20:08.453Z"
   },
   {
    "duration": 4,
    "start_time": "2024-12-06T03:20:08.466Z"
   },
   {
    "duration": 6,
    "start_time": "2024-12-06T03:20:08.472Z"
   },
   {
    "duration": 47,
    "start_time": "2024-12-06T03:20:08.479Z"
   },
   {
    "duration": 12,
    "start_time": "2024-12-06T03:20:08.528Z"
   },
   {
    "duration": 11,
    "start_time": "2024-12-06T03:20:08.542Z"
   },
   {
    "duration": 143,
    "start_time": "2024-12-06T03:20:08.556Z"
   },
   {
    "duration": 124,
    "start_time": "2024-12-06T03:20:08.701Z"
   },
   {
    "duration": 8,
    "start_time": "2024-12-06T03:20:08.827Z"
   },
   {
    "duration": 282,
    "start_time": "2024-12-06T03:20:08.836Z"
   },
   {
    "duration": 8,
    "start_time": "2024-12-06T03:20:09.123Z"
   },
   {
    "duration": 228,
    "start_time": "2024-12-06T03:20:09.133Z"
   },
   {
    "duration": 11,
    "start_time": "2024-12-06T03:20:09.363Z"
   },
   {
    "duration": 234,
    "start_time": "2024-12-06T03:20:09.375Z"
   },
   {
    "duration": 19,
    "start_time": "2024-12-06T03:20:09.611Z"
   },
   {
    "duration": 12,
    "start_time": "2024-12-06T03:20:09.635Z"
   },
   {
    "duration": 266,
    "start_time": "2024-12-06T03:20:09.649Z"
   },
   {
    "duration": 16,
    "start_time": "2024-12-06T03:20:09.917Z"
   },
   {
    "duration": 189,
    "start_time": "2024-12-06T03:20:09.935Z"
   },
   {
    "duration": 12,
    "start_time": "2024-12-06T03:20:10.126Z"
   },
   {
    "duration": 161,
    "start_time": "2024-12-06T03:20:10.139Z"
   },
   {
    "duration": 22,
    "start_time": "2024-12-06T03:20:10.302Z"
   },
   {
    "duration": 4,
    "start_time": "2024-12-06T03:20:10.326Z"
   },
   {
    "duration": 9,
    "start_time": "2024-12-06T03:20:10.332Z"
   },
   {
    "duration": 11,
    "start_time": "2024-12-06T03:20:10.342Z"
   },
   {
    "duration": 2,
    "start_time": "2024-12-06T03:20:10.355Z"
   },
   {
    "duration": 9,
    "start_time": "2024-12-06T03:20:10.359Z"
   },
   {
    "duration": 11,
    "start_time": "2024-12-06T03:20:10.370Z"
   },
   {
    "duration": 3,
    "start_time": "2024-12-06T03:20:10.382Z"
   },
   {
    "duration": 43,
    "start_time": "2024-12-06T03:20:10.387Z"
   },
   {
    "duration": 10,
    "start_time": "2024-12-06T03:20:10.432Z"
   },
   {
    "duration": 4,
    "start_time": "2024-12-06T03:20:16.252Z"
   },
   {
    "duration": 10,
    "start_time": "2024-12-06T03:20:24.516Z"
   },
   {
    "duration": 9,
    "start_time": "2024-12-06T03:25:04.235Z"
   },
   {
    "duration": 9,
    "start_time": "2024-12-06T03:25:42.715Z"
   },
   {
    "duration": 12,
    "start_time": "2024-12-06T03:30:36.908Z"
   },
   {
    "duration": 10,
    "start_time": "2024-12-06T03:30:43.451Z"
   },
   {
    "duration": 3,
    "start_time": "2024-12-06T03:32:48.768Z"
   },
   {
    "duration": 14,
    "start_time": "2024-12-06T03:33:00.264Z"
   },
   {
    "duration": 10,
    "start_time": "2024-12-06T03:33:51.847Z"
   },
   {
    "duration": 12,
    "start_time": "2024-12-06T03:36:18.122Z"
   },
   {
    "duration": 12,
    "start_time": "2024-12-06T03:36:57.845Z"
   },
   {
    "duration": 10,
    "start_time": "2024-12-06T03:37:09.928Z"
   },
   {
    "duration": 876,
    "start_time": "2024-12-06T03:52:51.545Z"
   },
   {
    "duration": 47,
    "start_time": "2024-12-06T03:52:52.424Z"
   },
   {
    "duration": 3,
    "start_time": "2024-12-06T03:52:52.472Z"
   },
   {
    "duration": 3,
    "start_time": "2024-12-06T03:52:52.477Z"
   },
   {
    "duration": 14,
    "start_time": "2024-12-06T03:52:52.483Z"
   },
   {
    "duration": 4,
    "start_time": "2024-12-06T03:52:52.498Z"
   },
   {
    "duration": 27,
    "start_time": "2024-12-06T03:52:52.503Z"
   },
   {
    "duration": 31,
    "start_time": "2024-12-06T03:52:52.533Z"
   },
   {
    "duration": 9,
    "start_time": "2024-12-06T03:52:52.566Z"
   },
   {
    "duration": 4,
    "start_time": "2024-12-06T03:52:52.577Z"
   },
   {
    "duration": 44,
    "start_time": "2024-12-06T03:52:52.582Z"
   },
   {
    "duration": 22,
    "start_time": "2024-12-06T03:52:52.628Z"
   },
   {
    "duration": 15,
    "start_time": "2024-12-06T03:52:52.652Z"
   },
   {
    "duration": 13,
    "start_time": "2024-12-06T03:52:52.672Z"
   },
   {
    "duration": 4,
    "start_time": "2024-12-06T03:52:52.687Z"
   },
   {
    "duration": 33,
    "start_time": "2024-12-06T03:52:52.693Z"
   },
   {
    "duration": 13,
    "start_time": "2024-12-06T03:52:52.728Z"
   },
   {
    "duration": 12,
    "start_time": "2024-12-06T03:52:52.743Z"
   },
   {
    "duration": 13,
    "start_time": "2024-12-06T03:52:52.757Z"
   },
   {
    "duration": 5,
    "start_time": "2024-12-06T03:52:52.772Z"
   },
   {
    "duration": 3,
    "start_time": "2024-12-06T03:52:52.780Z"
   },
   {
    "duration": 6,
    "start_time": "2024-12-06T03:52:52.823Z"
   },
   {
    "duration": 3,
    "start_time": "2024-12-06T03:52:52.831Z"
   },
   {
    "duration": 6,
    "start_time": "2024-12-06T03:52:52.836Z"
   },
   {
    "duration": 4,
    "start_time": "2024-12-06T03:52:52.843Z"
   },
   {
    "duration": 11,
    "start_time": "2024-12-06T03:52:52.848Z"
   },
   {
    "duration": 4,
    "start_time": "2024-12-06T03:52:52.861Z"
   },
   {
    "duration": 6,
    "start_time": "2024-12-06T03:52:52.867Z"
   },
   {
    "duration": 3,
    "start_time": "2024-12-06T03:52:52.874Z"
   },
   {
    "duration": 12,
    "start_time": "2024-12-06T03:52:52.924Z"
   },
   {
    "duration": 11,
    "start_time": "2024-12-06T03:52:52.937Z"
   },
   {
    "duration": 138,
    "start_time": "2024-12-06T03:52:52.950Z"
   },
   {
    "duration": 130,
    "start_time": "2024-12-06T03:52:53.090Z"
   },
   {
    "duration": 8,
    "start_time": "2024-12-06T03:52:53.224Z"
   },
   {
    "duration": 348,
    "start_time": "2024-12-06T03:52:53.233Z"
   },
   {
    "duration": 8,
    "start_time": "2024-12-06T03:52:53.583Z"
   },
   {
    "duration": 231,
    "start_time": "2024-12-06T03:52:53.593Z"
   },
   {
    "duration": 11,
    "start_time": "2024-12-06T03:52:53.825Z"
   },
   {
    "duration": 162,
    "start_time": "2024-12-06T03:52:53.838Z"
   },
   {
    "duration": 22,
    "start_time": "2024-12-06T03:52:54.002Z"
   },
   {
    "duration": 12,
    "start_time": "2024-12-06T03:52:54.028Z"
   },
   {
    "duration": 282,
    "start_time": "2024-12-06T03:52:54.042Z"
   },
   {
    "duration": 12,
    "start_time": "2024-12-06T03:52:54.326Z"
   },
   {
    "duration": 200,
    "start_time": "2024-12-06T03:52:54.340Z"
   },
   {
    "duration": 12,
    "start_time": "2024-12-06T03:52:54.542Z"
   },
   {
    "duration": 158,
    "start_time": "2024-12-06T03:52:54.556Z"
   },
   {
    "duration": 16,
    "start_time": "2024-12-06T03:52:54.715Z"
   },
   {
    "duration": 11,
    "start_time": "2024-12-06T03:52:57.996Z"
   },
   {
    "duration": 13,
    "start_time": "2024-12-06T03:53:08.299Z"
   },
   {
    "duration": 10,
    "start_time": "2024-12-06T03:53:08.946Z"
   },
   {
    "duration": 13,
    "start_time": "2024-12-06T03:53:15.796Z"
   },
   {
    "duration": 11,
    "start_time": "2024-12-06T03:53:16.204Z"
   },
   {
    "duration": 11,
    "start_time": "2024-12-06T03:53:24.092Z"
   },
   {
    "duration": 4,
    "start_time": "2024-12-06T03:53:24.865Z"
   },
   {
    "duration": 11,
    "start_time": "2024-12-06T03:53:25.947Z"
   },
   {
    "duration": 11,
    "start_time": "2024-12-06T03:53:33.756Z"
   },
   {
    "duration": 4,
    "start_time": "2024-12-06T03:53:34.373Z"
   },
   {
    "duration": 10,
    "start_time": "2024-12-06T03:53:34.927Z"
   },
   {
    "duration": 10,
    "start_time": "2024-12-06T03:56:04.630Z"
   },
   {
    "duration": 4,
    "start_time": "2024-12-06T03:57:44.292Z"
   },
   {
    "duration": 46,
    "start_time": "2024-12-06T03:57:44.298Z"
   },
   {
    "duration": 2,
    "start_time": "2024-12-06T03:57:44.346Z"
   },
   {
    "duration": 3,
    "start_time": "2024-12-06T03:57:44.454Z"
   },
   {
    "duration": 16,
    "start_time": "2024-12-06T03:57:44.460Z"
   },
   {
    "duration": 4,
    "start_time": "2024-12-06T03:57:44.478Z"
   },
   {
    "duration": 6,
    "start_time": "2024-12-06T03:57:44.484Z"
   },
   {
    "duration": 40,
    "start_time": "2024-12-06T03:57:44.493Z"
   },
   {
    "duration": 9,
    "start_time": "2024-12-06T03:57:44.535Z"
   },
   {
    "duration": 4,
    "start_time": "2024-12-06T03:57:44.545Z"
   },
   {
    "duration": 16,
    "start_time": "2024-12-06T03:57:44.551Z"
   },
   {
    "duration": 19,
    "start_time": "2024-12-06T03:57:44.569Z"
   },
   {
    "duration": 42,
    "start_time": "2024-12-06T03:57:44.590Z"
   },
   {
    "duration": 14,
    "start_time": "2024-12-06T03:57:44.634Z"
   },
   {
    "duration": 5,
    "start_time": "2024-12-06T03:57:44.649Z"
   },
   {
    "duration": 8,
    "start_time": "2024-12-06T03:57:44.656Z"
   },
   {
    "duration": 12,
    "start_time": "2024-12-06T03:57:44.668Z"
   },
   {
    "duration": 47,
    "start_time": "2024-12-06T03:57:44.682Z"
   },
   {
    "duration": 13,
    "start_time": "2024-12-06T03:57:44.731Z"
   },
   {
    "duration": 6,
    "start_time": "2024-12-06T03:57:44.746Z"
   },
   {
    "duration": 4,
    "start_time": "2024-12-06T03:57:44.753Z"
   },
   {
    "duration": 5,
    "start_time": "2024-12-06T03:57:44.758Z"
   },
   {
    "duration": 4,
    "start_time": "2024-12-06T03:57:44.765Z"
   },
   {
    "duration": 5,
    "start_time": "2024-12-06T03:57:44.771Z"
   },
   {
    "duration": 4,
    "start_time": "2024-12-06T03:57:44.778Z"
   },
   {
    "duration": 11,
    "start_time": "2024-12-06T03:57:44.825Z"
   },
   {
    "duration": 4,
    "start_time": "2024-12-06T03:57:44.838Z"
   },
   {
    "duration": 5,
    "start_time": "2024-12-06T03:57:44.844Z"
   },
   {
    "duration": 3,
    "start_time": "2024-12-06T03:57:44.851Z"
   },
   {
    "duration": 11,
    "start_time": "2024-12-06T03:57:44.856Z"
   },
   {
    "duration": 11,
    "start_time": "2024-12-06T03:57:44.868Z"
   },
   {
    "duration": 153,
    "start_time": "2024-12-06T03:57:44.880Z"
   },
   {
    "duration": 118,
    "start_time": "2024-12-06T03:57:45.035Z"
   },
   {
    "duration": 8,
    "start_time": "2024-12-06T03:57:45.155Z"
   },
   {
    "duration": 287,
    "start_time": "2024-12-06T03:57:45.164Z"
   },
   {
    "duration": 8,
    "start_time": "2024-12-06T03:57:45.453Z"
   },
   {
    "duration": 306,
    "start_time": "2024-12-06T03:57:45.462Z"
   },
   {
    "duration": 11,
    "start_time": "2024-12-06T03:57:45.770Z"
   },
   {
    "duration": 156,
    "start_time": "2024-12-06T03:57:45.782Z"
   },
   {
    "duration": 16,
    "start_time": "2024-12-06T03:57:45.940Z"
   },
   {
    "duration": 13,
    "start_time": "2024-12-06T03:57:45.958Z"
   },
   {
    "duration": 267,
    "start_time": "2024-12-06T03:57:45.972Z"
   },
   {
    "duration": 12,
    "start_time": "2024-12-06T03:57:46.242Z"
   },
   {
    "duration": 193,
    "start_time": "2024-12-06T03:57:46.259Z"
   },
   {
    "duration": 12,
    "start_time": "2024-12-06T03:57:46.454Z"
   },
   {
    "duration": 160,
    "start_time": "2024-12-06T03:57:46.468Z"
   },
   {
    "duration": 12,
    "start_time": "2024-12-06T03:57:46.630Z"
   },
   {
    "duration": 9,
    "start_time": "2024-12-06T03:57:46.644Z"
   },
   {
    "duration": 13,
    "start_time": "2024-12-06T03:57:46.655Z"
   },
   {
    "duration": 14,
    "start_time": "2024-12-06T03:57:46.669Z"
   },
   {
    "duration": 43,
    "start_time": "2024-12-06T03:57:46.685Z"
   },
   {
    "duration": 10,
    "start_time": "2024-12-06T03:57:46.730Z"
   },
   {
    "duration": 12,
    "start_time": "2024-12-06T03:57:46.742Z"
   },
   {
    "duration": 3,
    "start_time": "2024-12-06T03:57:46.756Z"
   },
   {
    "duration": 10,
    "start_time": "2024-12-06T03:57:46.761Z"
   },
   {
    "duration": 12,
    "start_time": "2024-12-06T03:57:51.795Z"
   },
   {
    "duration": 4,
    "start_time": "2024-12-06T03:57:52.512Z"
   },
   {
    "duration": 12,
    "start_time": "2024-12-06T03:57:53.841Z"
   },
   {
    "duration": 4,
    "start_time": "2024-12-06T04:00:12.831Z"
   },
   {
    "duration": 13,
    "start_time": "2024-12-06T04:00:17.313Z"
   },
   {
    "duration": 11,
    "start_time": "2024-12-06T04:03:50.031Z"
   },
   {
    "duration": 3,
    "start_time": "2024-12-06T04:03:50.853Z"
   },
   {
    "duration": 4,
    "start_time": "2024-12-06T04:03:51.375Z"
   },
   {
    "duration": 12,
    "start_time": "2024-12-06T04:03:56.381Z"
   },
   {
    "duration": 16,
    "start_time": "2024-12-06T04:10:47.144Z"
   },
   {
    "duration": 231,
    "start_time": "2024-12-06T04:24:57.356Z"
   },
   {
    "duration": 22,
    "start_time": "2024-12-06T04:25:15.754Z"
   },
   {
    "duration": 22,
    "start_time": "2024-12-06T04:26:15.636Z"
   },
   {
    "duration": 6,
    "start_time": "2024-12-06T04:32:51.162Z"
   },
   {
    "duration": 14,
    "start_time": "2024-12-06T04:32:59.479Z"
   },
   {
    "duration": 5,
    "start_time": "2024-12-06T04:33:52.984Z"
   },
   {
    "duration": 7,
    "start_time": "2024-12-06T04:34:28.418Z"
   },
   {
    "duration": 16,
    "start_time": "2024-12-06T04:34:36.065Z"
   },
   {
    "duration": 7,
    "start_time": "2024-12-06T04:37:06.367Z"
   },
   {
    "duration": 382,
    "start_time": "2024-12-06T04:37:57.270Z"
   },
   {
    "duration": 15,
    "start_time": "2024-12-06T04:38:36.759Z"
   },
   {
    "duration": 6,
    "start_time": "2024-12-06T04:40:38.910Z"
   },
   {
    "duration": 37,
    "start_time": "2024-12-06T04:40:45.111Z"
   },
   {
    "duration": 7,
    "start_time": "2024-12-06T04:44:50.734Z"
   },
   {
    "duration": 15,
    "start_time": "2024-12-06T04:44:54.379Z"
   },
   {
    "duration": 3,
    "start_time": "2024-12-06T04:55:07.549Z"
   },
   {
    "duration": 16,
    "start_time": "2024-12-06T04:55:40.055Z"
   },
   {
    "duration": 4,
    "start_time": "2024-12-06T04:57:25.855Z"
   },
   {
    "duration": 20,
    "start_time": "2024-12-06T04:57:30.793Z"
   },
   {
    "duration": 3,
    "start_time": "2024-12-06T05:02:27.605Z"
   },
   {
    "duration": 17,
    "start_time": "2024-12-06T05:02:33.279Z"
   },
   {
    "duration": 3,
    "start_time": "2024-12-06T05:11:13.516Z"
   },
   {
    "duration": 334,
    "start_time": "2024-12-06T05:11:24.459Z"
   },
   {
    "duration": 5,
    "start_time": "2024-12-06T05:11:44.904Z"
   },
   {
    "duration": 19,
    "start_time": "2024-12-06T05:11:59.352Z"
   },
   {
    "duration": 17,
    "start_time": "2024-12-06T05:12:43.344Z"
   },
   {
    "duration": 5,
    "start_time": "2024-12-06T05:13:30.080Z"
   },
   {
    "duration": 8,
    "start_time": "2024-12-06T05:13:56.504Z"
   },
   {
    "duration": 2,
    "start_time": "2024-12-06T05:14:40.202Z"
   },
   {
    "duration": 3,
    "start_time": "2024-12-06T05:14:40.516Z"
   },
   {
    "duration": 3,
    "start_time": "2024-12-06T05:14:41.161Z"
   },
   {
    "duration": 11,
    "start_time": "2024-12-06T05:14:41.681Z"
   },
   {
    "duration": 9,
    "start_time": "2024-12-06T05:15:10.770Z"
   },
   {
    "duration": 2476,
    "start_time": "2024-12-06T17:54:16.645Z"
   },
   {
    "duration": 68,
    "start_time": "2024-12-06T17:54:19.123Z"
   },
   {
    "duration": 4,
    "start_time": "2024-12-06T17:54:19.192Z"
   },
   {
    "duration": 4,
    "start_time": "2024-12-06T17:54:19.198Z"
   },
   {
    "duration": 15,
    "start_time": "2024-12-06T17:54:19.204Z"
   },
   {
    "duration": 4,
    "start_time": "2024-12-06T17:54:19.221Z"
   },
   {
    "duration": 6,
    "start_time": "2024-12-06T17:54:19.227Z"
   },
   {
    "duration": 59,
    "start_time": "2024-12-06T17:54:19.235Z"
   },
   {
    "duration": 9,
    "start_time": "2024-12-06T17:54:19.296Z"
   },
   {
    "duration": 4,
    "start_time": "2024-12-06T17:54:19.307Z"
   },
   {
    "duration": 17,
    "start_time": "2024-12-06T17:54:19.312Z"
   },
   {
    "duration": 20,
    "start_time": "2024-12-06T17:54:19.330Z"
   },
   {
    "duration": 41,
    "start_time": "2024-12-06T17:54:19.352Z"
   },
   {
    "duration": 12,
    "start_time": "2024-12-06T17:54:19.398Z"
   },
   {
    "duration": 4,
    "start_time": "2024-12-06T17:54:19.412Z"
   },
   {
    "duration": 9,
    "start_time": "2024-12-06T17:54:19.418Z"
   },
   {
    "duration": 13,
    "start_time": "2024-12-06T17:54:19.428Z"
   },
   {
    "duration": 45,
    "start_time": "2024-12-06T17:54:19.443Z"
   },
   {
    "duration": 24,
    "start_time": "2024-12-06T17:54:19.490Z"
   },
   {
    "duration": 5,
    "start_time": "2024-12-06T17:54:19.516Z"
   },
   {
    "duration": 4,
    "start_time": "2024-12-06T17:54:19.522Z"
   },
   {
    "duration": 5,
    "start_time": "2024-12-06T17:54:19.527Z"
   },
   {
    "duration": 4,
    "start_time": "2024-12-06T17:54:19.533Z"
   },
   {
    "duration": 6,
    "start_time": "2024-12-06T17:54:19.538Z"
   },
   {
    "duration": 4,
    "start_time": "2024-12-06T17:54:19.545Z"
   },
   {
    "duration": 10,
    "start_time": "2024-12-06T17:54:19.587Z"
   },
   {
    "duration": 3,
    "start_time": "2024-12-06T17:54:19.599Z"
   },
   {
    "duration": 5,
    "start_time": "2024-12-06T17:54:19.604Z"
   },
   {
    "duration": 3,
    "start_time": "2024-12-06T17:54:19.611Z"
   },
   {
    "duration": 10,
    "start_time": "2024-12-06T17:54:19.616Z"
   },
   {
    "duration": 11,
    "start_time": "2024-12-06T17:54:19.628Z"
   },
   {
    "duration": 155,
    "start_time": "2024-12-06T17:54:19.640Z"
   },
   {
    "duration": 118,
    "start_time": "2024-12-06T17:54:19.797Z"
   },
   {
    "duration": 8,
    "start_time": "2024-12-06T17:54:19.917Z"
   },
   {
    "duration": 285,
    "start_time": "2024-12-06T17:54:19.927Z"
   },
   {
    "duration": 8,
    "start_time": "2024-12-06T17:54:20.213Z"
   },
   {
    "duration": 222,
    "start_time": "2024-12-06T17:54:20.222Z"
   },
   {
    "duration": 12,
    "start_time": "2024-12-06T17:54:20.446Z"
   },
   {
    "duration": 208,
    "start_time": "2024-12-06T17:54:20.461Z"
   },
   {
    "duration": 22,
    "start_time": "2024-12-06T17:54:20.671Z"
   },
   {
    "duration": 12,
    "start_time": "2024-12-06T17:54:20.698Z"
   },
   {
    "duration": 284,
    "start_time": "2024-12-06T17:54:20.711Z"
   },
   {
    "duration": 12,
    "start_time": "2024-12-06T17:54:20.997Z"
   },
   {
    "duration": 180,
    "start_time": "2024-12-06T17:54:21.010Z"
   },
   {
    "duration": 11,
    "start_time": "2024-12-06T17:54:21.192Z"
   },
   {
    "duration": 159,
    "start_time": "2024-12-06T17:54:21.205Z"
   },
   {
    "duration": 4,
    "start_time": "2024-12-06T17:54:21.366Z"
   },
   {
    "duration": 0,
    "start_time": "2024-12-06T17:54:21.371Z"
   },
   {
    "duration": 4,
    "start_time": "2024-12-06T17:54:45.709Z"
   },
   {
    "duration": 11,
    "start_time": "2024-12-06T17:54:53.065Z"
   },
   {
    "duration": 10,
    "start_time": "2024-12-06T17:54:55.744Z"
   },
   {
    "duration": 4,
    "start_time": "2024-12-06T17:59:04.468Z"
   },
   {
    "duration": 11,
    "start_time": "2024-12-06T17:59:12.779Z"
   },
   {
    "duration": 850,
    "start_time": "2024-12-06T18:13:47.392Z"
   },
   {
    "duration": 44,
    "start_time": "2024-12-06T18:13:48.243Z"
   },
   {
    "duration": 3,
    "start_time": "2024-12-06T18:13:48.288Z"
   },
   {
    "duration": 2,
    "start_time": "2024-12-06T18:13:48.294Z"
   },
   {
    "duration": 13,
    "start_time": "2024-12-06T18:13:48.300Z"
   },
   {
    "duration": 4,
    "start_time": "2024-12-06T18:13:48.314Z"
   },
   {
    "duration": 6,
    "start_time": "2024-12-06T18:13:48.319Z"
   },
   {
    "duration": 59,
    "start_time": "2024-12-06T18:13:48.328Z"
   },
   {
    "duration": 9,
    "start_time": "2024-12-06T18:13:48.389Z"
   },
   {
    "duration": 4,
    "start_time": "2024-12-06T18:13:48.400Z"
   },
   {
    "duration": 18,
    "start_time": "2024-12-06T18:13:48.406Z"
   },
   {
    "duration": 21,
    "start_time": "2024-12-06T18:13:48.426Z"
   },
   {
    "duration": 47,
    "start_time": "2024-12-06T18:13:48.449Z"
   },
   {
    "duration": 17,
    "start_time": "2024-12-06T18:13:48.500Z"
   },
   {
    "duration": 4,
    "start_time": "2024-12-06T18:13:48.519Z"
   },
   {
    "duration": 10,
    "start_time": "2024-12-06T18:13:48.525Z"
   },
   {
    "duration": 13,
    "start_time": "2024-12-06T18:13:48.537Z"
   },
   {
    "duration": 13,
    "start_time": "2024-12-06T18:13:48.586Z"
   },
   {
    "duration": 13,
    "start_time": "2024-12-06T18:13:48.601Z"
   },
   {
    "duration": 5,
    "start_time": "2024-12-06T18:13:48.616Z"
   },
   {
    "duration": 4,
    "start_time": "2024-12-06T18:13:48.623Z"
   },
   {
    "duration": 5,
    "start_time": "2024-12-06T18:13:48.629Z"
   },
   {
    "duration": 11,
    "start_time": "2024-12-06T18:13:48.636Z"
   },
   {
    "duration": 163,
    "start_time": "2024-12-06T18:13:48.649Z"
   },
   {
    "duration": 123,
    "start_time": "2024-12-06T18:13:48.814Z"
   },
   {
    "duration": 8,
    "start_time": "2024-12-06T18:13:48.939Z"
   },
   {
    "duration": 352,
    "start_time": "2024-12-06T18:13:48.948Z"
   },
   {
    "duration": 8,
    "start_time": "2024-12-06T18:13:49.302Z"
   },
   {
    "duration": 227,
    "start_time": "2024-12-06T18:13:49.311Z"
   },
   {
    "duration": 11,
    "start_time": "2024-12-06T18:13:49.540Z"
   },
   {
    "duration": 160,
    "start_time": "2024-12-06T18:13:49.553Z"
   },
   {
    "duration": 16,
    "start_time": "2024-12-06T18:13:49.715Z"
   },
   {
    "duration": 14,
    "start_time": "2024-12-06T18:13:49.732Z"
   },
   {
    "duration": 292,
    "start_time": "2024-12-06T18:13:49.747Z"
   },
   {
    "duration": 13,
    "start_time": "2024-12-06T18:13:50.041Z"
   },
   {
    "duration": 180,
    "start_time": "2024-12-06T18:13:50.056Z"
   },
   {
    "duration": 12,
    "start_time": "2024-12-06T18:13:50.238Z"
   },
   {
    "duration": 163,
    "start_time": "2024-12-06T18:13:50.252Z"
   },
   {
    "duration": 16,
    "start_time": "2024-12-06T18:15:39.714Z"
   },
   {
    "duration": 222,
    "start_time": "2024-12-06T18:36:37.742Z"
   },
   {
    "duration": 5,
    "start_time": "2024-12-06T18:36:43.892Z"
   },
   {
    "duration": 5,
    "start_time": "2024-12-06T18:36:48.574Z"
   },
   {
    "duration": 12,
    "start_time": "2024-12-06T18:38:27.734Z"
   },
   {
    "duration": 10,
    "start_time": "2024-12-06T18:38:39.034Z"
   },
   {
    "duration": 11,
    "start_time": "2024-12-06T18:42:29.494Z"
   },
   {
    "duration": 3,
    "start_time": "2024-12-06T18:42:39.399Z"
   },
   {
    "duration": 10,
    "start_time": "2024-12-06T18:42:46.898Z"
   },
   {
    "duration": 4,
    "start_time": "2024-12-06T18:44:17.914Z"
   },
   {
    "duration": 4,
    "start_time": "2024-12-06T18:44:29.774Z"
   },
   {
    "duration": 4,
    "start_time": "2024-12-06T18:45:33.778Z"
   },
   {
    "duration": 15,
    "start_time": "2024-12-06T18:52:01.175Z"
   },
   {
    "duration": 15,
    "start_time": "2024-12-06T18:52:14.375Z"
   },
   {
    "duration": 410,
    "start_time": "2024-12-06T18:54:44.629Z"
   },
   {
    "duration": 6,
    "start_time": "2024-12-06T18:54:53.873Z"
   },
   {
    "duration": 5,
    "start_time": "2024-12-06T18:54:54.614Z"
   },
   {
    "duration": 28,
    "start_time": "2024-12-06T18:56:14.085Z"
   },
   {
    "duration": 4,
    "start_time": "2024-12-06T18:56:23.075Z"
   },
   {
    "duration": 10,
    "start_time": "2024-12-06T18:57:36.326Z"
   },
   {
    "duration": 836,
    "start_time": "2024-12-06T18:58:11.132Z"
   },
   {
    "duration": 46,
    "start_time": "2024-12-06T18:58:11.970Z"
   },
   {
    "duration": 2,
    "start_time": "2024-12-06T18:58:12.018Z"
   },
   {
    "duration": 4,
    "start_time": "2024-12-06T18:58:12.022Z"
   },
   {
    "duration": 13,
    "start_time": "2024-12-06T18:58:12.028Z"
   },
   {
    "duration": 4,
    "start_time": "2024-12-06T18:58:12.043Z"
   },
   {
    "duration": 4,
    "start_time": "2024-12-06T18:58:12.049Z"
   },
   {
    "duration": 54,
    "start_time": "2024-12-06T18:58:12.055Z"
   },
   {
    "duration": 10,
    "start_time": "2024-12-06T18:58:12.111Z"
   },
   {
    "duration": 5,
    "start_time": "2024-12-06T18:58:12.123Z"
   },
   {
    "duration": 19,
    "start_time": "2024-12-06T18:58:12.131Z"
   },
   {
    "duration": 47,
    "start_time": "2024-12-06T18:58:12.153Z"
   },
   {
    "duration": 15,
    "start_time": "2024-12-06T18:58:12.202Z"
   },
   {
    "duration": 13,
    "start_time": "2024-12-06T18:58:12.222Z"
   },
   {
    "duration": 4,
    "start_time": "2024-12-06T18:58:12.236Z"
   },
   {
    "duration": 9,
    "start_time": "2024-12-06T18:58:12.242Z"
   },
   {
    "duration": 44,
    "start_time": "2024-12-06T18:58:12.253Z"
   },
   {
    "duration": 12,
    "start_time": "2024-12-06T18:58:12.299Z"
   },
   {
    "duration": 13,
    "start_time": "2024-12-06T18:58:12.313Z"
   },
   {
    "duration": 5,
    "start_time": "2024-12-06T18:58:12.328Z"
   },
   {
    "duration": 4,
    "start_time": "2024-12-06T18:58:12.335Z"
   },
   {
    "duration": 5,
    "start_time": "2024-12-06T18:58:12.341Z"
   },
   {
    "duration": 48,
    "start_time": "2024-12-06T18:58:12.348Z"
   },
   {
    "duration": 132,
    "start_time": "2024-12-06T18:58:12.398Z"
   },
   {
    "duration": 120,
    "start_time": "2024-12-06T18:58:12.532Z"
   },
   {
    "duration": 8,
    "start_time": "2024-12-06T18:58:12.654Z"
   },
   {
    "duration": 342,
    "start_time": "2024-12-06T18:58:12.665Z"
   },
   {
    "duration": 8,
    "start_time": "2024-12-06T18:58:13.008Z"
   },
   {
    "duration": 265,
    "start_time": "2024-12-06T18:58:13.017Z"
   },
   {
    "duration": 12,
    "start_time": "2024-12-06T18:58:13.288Z"
   },
   {
    "duration": 154,
    "start_time": "2024-12-06T18:58:13.302Z"
   },
   {
    "duration": 15,
    "start_time": "2024-12-06T18:58:13.458Z"
   },
   {
    "duration": 18,
    "start_time": "2024-12-06T18:58:13.486Z"
   },
   {
    "duration": 309,
    "start_time": "2024-12-06T18:58:13.506Z"
   },
   {
    "duration": 12,
    "start_time": "2024-12-06T18:58:13.817Z"
   },
   {
    "duration": 180,
    "start_time": "2024-12-06T18:58:13.831Z"
   },
   {
    "duration": 12,
    "start_time": "2024-12-06T18:58:14.014Z"
   },
   {
    "duration": 156,
    "start_time": "2024-12-06T18:58:14.028Z"
   },
   {
    "duration": 12,
    "start_time": "2024-12-06T18:58:14.187Z"
   },
   {
    "duration": 11,
    "start_time": "2024-12-06T18:58:14.201Z"
   },
   {
    "duration": 11,
    "start_time": "2024-12-06T18:58:14.217Z"
   },
   {
    "duration": 3,
    "start_time": "2024-12-06T18:58:14.230Z"
   },
   {
    "duration": 9,
    "start_time": "2024-12-06T18:58:14.235Z"
   },
   {
    "duration": 44,
    "start_time": "2024-12-06T18:58:14.246Z"
   },
   {
    "duration": 4,
    "start_time": "2024-12-06T18:58:14.292Z"
   },
   {
    "duration": 214,
    "start_time": "2024-12-06T19:10:02.448Z"
   },
   {
    "duration": 6,
    "start_time": "2024-12-06T19:10:09.211Z"
   },
   {
    "duration": 4,
    "start_time": "2024-12-06T19:10:19.435Z"
   },
   {
    "duration": 7,
    "start_time": "2024-12-06T19:10:35.350Z"
   },
   {
    "duration": 8,
    "start_time": "2024-12-06T19:12:07.552Z"
   },
   {
    "duration": 7,
    "start_time": "2024-12-06T19:12:29.939Z"
   },
   {
    "duration": 7,
    "start_time": "2024-12-06T19:12:39.291Z"
   },
   {
    "duration": 10,
    "start_time": "2024-12-06T19:13:57.965Z"
   },
   {
    "duration": 4,
    "start_time": "2024-12-06T19:15:00.905Z"
   },
   {
    "duration": 5,
    "start_time": "2024-12-06T19:16:19.621Z"
   },
   {
    "duration": 5,
    "start_time": "2024-12-06T19:16:32.380Z"
   },
   {
    "duration": 9,
    "start_time": "2024-12-06T19:16:37.778Z"
   },
   {
    "duration": 5,
    "start_time": "2024-12-06T19:17:06.120Z"
   },
   {
    "duration": 7,
    "start_time": "2024-12-06T19:17:06.711Z"
   },
   {
    "duration": 5,
    "start_time": "2024-12-06T19:17:13.811Z"
   },
   {
    "duration": 9,
    "start_time": "2024-12-06T19:17:15.551Z"
   },
   {
    "duration": 5,
    "start_time": "2024-12-06T19:20:12.076Z"
   },
   {
    "duration": 3,
    "start_time": "2024-12-06T19:20:18.988Z"
   },
   {
    "duration": 9,
    "start_time": "2024-12-06T19:20:19.840Z"
   },
   {
    "duration": 11,
    "start_time": "2024-12-06T19:21:07.079Z"
   },
   {
    "duration": 5,
    "start_time": "2024-12-06T19:26:42.009Z"
   },
   {
    "duration": 4,
    "start_time": "2024-12-06T19:26:50.342Z"
   },
   {
    "duration": 418,
    "start_time": "2024-12-06T19:27:22.436Z"
   },
   {
    "duration": 4,
    "start_time": "2024-12-06T19:27:39.083Z"
   },
   {
    "duration": 11,
    "start_time": "2024-12-06T19:27:57.324Z"
   },
   {
    "duration": 41,
    "start_time": "2024-12-06T19:31:15.880Z"
   },
   {
    "duration": 3,
    "start_time": "2024-12-06T19:31:25.299Z"
   },
   {
    "duration": 11,
    "start_time": "2024-12-06T19:31:33.176Z"
   },
   {
    "duration": 4,
    "start_time": "2024-12-06T19:33:19.547Z"
   },
   {
    "duration": 15,
    "start_time": "2024-12-06T19:33:21.693Z"
   },
   {
    "duration": 5,
    "start_time": "2024-12-06T19:40:54.765Z"
   },
   {
    "duration": 16,
    "start_time": "2024-12-06T19:41:30.878Z"
   },
   {
    "duration": 5,
    "start_time": "2024-12-06T19:44:41.045Z"
   },
   {
    "duration": 18,
    "start_time": "2024-12-06T19:44:51.033Z"
   },
   {
    "duration": 3,
    "start_time": "2024-12-06T19:46:32.336Z"
   },
   {
    "duration": 13,
    "start_time": "2024-12-06T19:46:40.476Z"
   },
   {
    "duration": 3,
    "start_time": "2024-12-06T19:46:53.860Z"
   },
   {
    "duration": 12,
    "start_time": "2024-12-06T19:46:54.413Z"
   },
   {
    "duration": 12,
    "start_time": "2024-12-06T19:48:01.420Z"
   },
   {
    "duration": 12,
    "start_time": "2024-12-06T19:56:03.034Z"
   },
   {
    "duration": 4,
    "start_time": "2024-12-06T19:59:18.180Z"
   },
   {
    "duration": 19,
    "start_time": "2024-12-06T19:59:48.137Z"
   },
   {
    "duration": 7,
    "start_time": "2024-12-06T20:02:06.079Z"
   },
   {
    "duration": 19,
    "start_time": "2024-12-06T20:03:38.175Z"
   },
   {
    "duration": 10,
    "start_time": "2024-12-06T20:03:53.107Z"
   },
   {
    "duration": 7,
    "start_time": "2024-12-06T20:05:11.836Z"
   },
   {
    "duration": 5,
    "start_time": "2024-12-06T20:07:12.489Z"
   },
   {
    "duration": 8,
    "start_time": "2024-12-06T20:07:22.037Z"
   },
   {
    "duration": 6,
    "start_time": "2024-12-06T20:07:36.350Z"
   },
   {
    "duration": 5,
    "start_time": "2024-12-06T20:07:43.660Z"
   },
   {
    "duration": 7,
    "start_time": "2024-12-06T20:07:44.763Z"
   },
   {
    "duration": 10,
    "start_time": "2024-12-06T20:07:53.350Z"
   },
   {
    "duration": 871,
    "start_time": "2024-12-06T20:09:01.068Z"
   },
   {
    "duration": 51,
    "start_time": "2024-12-06T20:09:01.941Z"
   },
   {
    "duration": 3,
    "start_time": "2024-12-06T20:09:01.994Z"
   },
   {
    "duration": 3,
    "start_time": "2024-12-06T20:09:02.002Z"
   },
   {
    "duration": 19,
    "start_time": "2024-12-06T20:09:02.008Z"
   },
   {
    "duration": 5,
    "start_time": "2024-12-06T20:09:02.029Z"
   },
   {
    "duration": 6,
    "start_time": "2024-12-06T20:09:02.037Z"
   },
   {
    "duration": 60,
    "start_time": "2024-12-06T20:09:02.045Z"
   },
   {
    "duration": 10,
    "start_time": "2024-12-06T20:09:02.107Z"
   },
   {
    "duration": 4,
    "start_time": "2024-12-06T20:09:02.119Z"
   },
   {
    "duration": 18,
    "start_time": "2024-12-06T20:09:02.124Z"
   },
   {
    "duration": 44,
    "start_time": "2024-12-06T20:09:02.144Z"
   },
   {
    "duration": 18,
    "start_time": "2024-12-06T20:09:02.190Z"
   },
   {
    "duration": 15,
    "start_time": "2024-12-06T20:09:02.213Z"
   },
   {
    "duration": 4,
    "start_time": "2024-12-06T20:09:02.230Z"
   },
   {
    "duration": 11,
    "start_time": "2024-12-06T20:09:02.236Z"
   },
   {
    "duration": 47,
    "start_time": "2024-12-06T20:09:02.249Z"
   },
   {
    "duration": 13,
    "start_time": "2024-12-06T20:09:02.299Z"
   },
   {
    "duration": 16,
    "start_time": "2024-12-06T20:09:02.316Z"
   },
   {
    "duration": 6,
    "start_time": "2024-12-06T20:09:02.334Z"
   },
   {
    "duration": 3,
    "start_time": "2024-12-06T20:09:02.342Z"
   },
   {
    "duration": 5,
    "start_time": "2024-12-06T20:09:02.347Z"
   },
   {
    "duration": 42,
    "start_time": "2024-12-06T20:09:02.353Z"
   },
   {
    "duration": 141,
    "start_time": "2024-12-06T20:09:02.397Z"
   },
   {
    "duration": 128,
    "start_time": "2024-12-06T20:09:02.540Z"
   },
   {
    "duration": 17,
    "start_time": "2024-12-06T20:09:02.670Z"
   },
   {
    "duration": 384,
    "start_time": "2024-12-06T20:09:02.689Z"
   },
   {
    "duration": 12,
    "start_time": "2024-12-06T20:09:03.076Z"
   },
   {
    "duration": 256,
    "start_time": "2024-12-06T20:09:03.090Z"
   },
   {
    "duration": 13,
    "start_time": "2024-12-06T20:09:03.348Z"
   },
   {
    "duration": 161,
    "start_time": "2024-12-06T20:09:03.364Z"
   },
   {
    "duration": 18,
    "start_time": "2024-12-06T20:09:03.529Z"
   },
   {
    "duration": 16,
    "start_time": "2024-12-06T20:09:03.548Z"
   },
   {
    "duration": 320,
    "start_time": "2024-12-06T20:09:03.567Z"
   },
   {
    "duration": 15,
    "start_time": "2024-12-06T20:09:03.889Z"
   },
   {
    "duration": 219,
    "start_time": "2024-12-06T20:09:03.906Z"
   },
   {
    "duration": 13,
    "start_time": "2024-12-06T20:09:04.128Z"
   },
   {
    "duration": 204,
    "start_time": "2024-12-06T20:09:04.143Z"
   },
   {
    "duration": 12,
    "start_time": "2024-12-06T20:09:04.349Z"
   },
   {
    "duration": 25,
    "start_time": "2024-12-06T20:09:04.363Z"
   },
   {
    "duration": 13,
    "start_time": "2024-12-06T20:09:04.393Z"
   },
   {
    "duration": 4,
    "start_time": "2024-12-06T20:09:04.407Z"
   },
   {
    "duration": 11,
    "start_time": "2024-12-06T20:09:04.413Z"
   },
   {
    "duration": 4,
    "start_time": "2024-12-06T20:09:04.426Z"
   },
   {
    "duration": 4,
    "start_time": "2024-12-06T20:09:04.432Z"
   },
   {
    "duration": 5,
    "start_time": "2024-12-06T20:09:04.439Z"
   },
   {
    "duration": 43,
    "start_time": "2024-12-06T20:09:04.446Z"
   },
   {
    "duration": 6,
    "start_time": "2024-12-06T20:09:04.491Z"
   },
   {
    "duration": 5,
    "start_time": "2024-12-06T20:09:04.499Z"
   },
   {
    "duration": 4,
    "start_time": "2024-12-06T20:09:04.506Z"
   },
   {
    "duration": 5,
    "start_time": "2024-12-06T20:09:04.511Z"
   },
   {
    "duration": 4,
    "start_time": "2024-12-06T20:09:04.518Z"
   },
   {
    "duration": 6,
    "start_time": "2024-12-06T20:09:04.524Z"
   },
   {
    "duration": 4,
    "start_time": "2024-12-06T20:09:04.531Z"
   },
   {
    "duration": 55,
    "start_time": "2024-12-06T20:09:04.537Z"
   },
   {
    "duration": 4,
    "start_time": "2024-12-06T20:09:04.594Z"
   },
   {
    "duration": 6,
    "start_time": "2024-12-06T20:09:04.600Z"
   },
   {
    "duration": 5,
    "start_time": "2024-12-06T20:09:04.608Z"
   },
   {
    "duration": 5,
    "start_time": "2024-12-06T20:09:08.127Z"
   },
   {
    "duration": 225,
    "start_time": "2024-12-06T20:09:08.875Z"
   },
   {
    "duration": 4,
    "start_time": "2024-12-06T20:09:19.212Z"
   },
   {
    "duration": 9,
    "start_time": "2024-12-06T20:09:20.601Z"
   },
   {
    "duration": 23,
    "start_time": "2024-12-06T20:45:13.033Z"
   },
   {
    "duration": 5,
    "start_time": "2024-12-06T20:47:46.289Z"
   },
   {
    "duration": 5,
    "start_time": "2024-12-06T20:47:46.894Z"
   },
   {
    "duration": 6,
    "start_time": "2024-12-06T20:49:59.781Z"
   },
   {
    "duration": 5,
    "start_time": "2024-12-06T20:50:00.308Z"
   },
   {
    "duration": 9,
    "start_time": "2024-12-06T20:50:07.307Z"
   },
   {
    "duration": 5,
    "start_time": "2024-12-06T20:50:48.839Z"
   },
   {
    "duration": 7,
    "start_time": "2024-12-06T20:50:49.313Z"
   },
   {
    "duration": 7,
    "start_time": "2024-12-06T20:50:49.787Z"
   },
   {
    "duration": 6,
    "start_time": "2024-12-06T20:50:50.144Z"
   },
   {
    "duration": 12,
    "start_time": "2024-12-06T20:50:51.019Z"
   },
   {
    "duration": 850,
    "start_time": "2024-12-06T20:55:56.768Z"
   },
   {
    "duration": 44,
    "start_time": "2024-12-06T20:55:57.621Z"
   },
   {
    "duration": 3,
    "start_time": "2024-12-06T20:55:57.667Z"
   },
   {
    "duration": 2,
    "start_time": "2024-12-06T20:55:57.672Z"
   },
   {
    "duration": 26,
    "start_time": "2024-12-06T20:55:57.677Z"
   },
   {
    "duration": 4,
    "start_time": "2024-12-06T20:55:57.705Z"
   },
   {
    "duration": 6,
    "start_time": "2024-12-06T20:55:57.711Z"
   },
   {
    "duration": 32,
    "start_time": "2024-12-06T20:55:57.719Z"
   },
   {
    "duration": 38,
    "start_time": "2024-12-06T20:55:57.753Z"
   },
   {
    "duration": 4,
    "start_time": "2024-12-06T20:55:57.793Z"
   },
   {
    "duration": 19,
    "start_time": "2024-12-06T20:55:57.799Z"
   },
   {
    "duration": 23,
    "start_time": "2024-12-06T20:55:57.820Z"
   },
   {
    "duration": 43,
    "start_time": "2024-12-06T20:55:57.845Z"
   },
   {
    "duration": 16,
    "start_time": "2024-12-06T20:55:57.893Z"
   },
   {
    "duration": 4,
    "start_time": "2024-12-06T20:55:57.912Z"
   },
   {
    "duration": 10,
    "start_time": "2024-12-06T20:55:57.917Z"
   },
   {
    "duration": 16,
    "start_time": "2024-12-06T20:55:57.929Z"
   },
   {
    "duration": 50,
    "start_time": "2024-12-06T20:55:57.947Z"
   },
   {
    "duration": 18,
    "start_time": "2024-12-06T20:55:57.999Z"
   },
   {
    "duration": 6,
    "start_time": "2024-12-06T20:55:58.019Z"
   },
   {
    "duration": 4,
    "start_time": "2024-12-06T20:55:58.026Z"
   },
   {
    "duration": 5,
    "start_time": "2024-12-06T20:55:58.031Z"
   },
   {
    "duration": 12,
    "start_time": "2024-12-06T20:55:58.038Z"
   },
   {
    "duration": 170,
    "start_time": "2024-12-06T20:55:58.052Z"
   },
   {
    "duration": 125,
    "start_time": "2024-12-06T20:55:58.224Z"
   },
   {
    "duration": 9,
    "start_time": "2024-12-06T20:55:58.351Z"
   },
   {
    "duration": 365,
    "start_time": "2024-12-06T20:55:58.362Z"
   },
   {
    "duration": 8,
    "start_time": "2024-12-06T20:55:58.729Z"
   },
   {
    "duration": 230,
    "start_time": "2024-12-06T20:55:58.739Z"
   },
   {
    "duration": 19,
    "start_time": "2024-12-06T20:55:58.971Z"
   },
   {
    "duration": 175,
    "start_time": "2024-12-06T20:55:58.992Z"
   },
   {
    "duration": 22,
    "start_time": "2024-12-06T20:55:59.169Z"
   },
   {
    "duration": 13,
    "start_time": "2024-12-06T20:55:59.193Z"
   },
   {
    "duration": 314,
    "start_time": "2024-12-06T20:55:59.209Z"
   },
   {
    "duration": 12,
    "start_time": "2024-12-06T20:55:59.525Z"
   },
   {
    "duration": 183,
    "start_time": "2024-12-06T20:55:59.539Z"
   },
   {
    "duration": 11,
    "start_time": "2024-12-06T20:55:59.724Z"
   },
   {
    "duration": 165,
    "start_time": "2024-12-06T20:55:59.737Z"
   },
   {
    "duration": 11,
    "start_time": "2024-12-06T20:55:59.904Z"
   },
   {
    "duration": 11,
    "start_time": "2024-12-06T20:55:59.917Z"
   },
   {
    "duration": 12,
    "start_time": "2024-12-06T20:55:59.934Z"
   },
   {
    "duration": 3,
    "start_time": "2024-12-06T20:55:59.948Z"
   },
   {
    "duration": 43,
    "start_time": "2024-12-06T20:55:59.953Z"
   },
   {
    "duration": 5,
    "start_time": "2024-12-06T20:55:59.997Z"
   },
   {
    "duration": 7,
    "start_time": "2024-12-06T20:56:00.004Z"
   },
   {
    "duration": 5,
    "start_time": "2024-12-06T20:56:00.013Z"
   },
   {
    "duration": 5,
    "start_time": "2024-12-06T20:56:00.020Z"
   },
   {
    "duration": 8,
    "start_time": "2024-12-06T20:56:00.028Z"
   },
   {
    "duration": 5,
    "start_time": "2024-12-06T20:56:00.038Z"
   },
   {
    "duration": 43,
    "start_time": "2024-12-06T20:56:00.045Z"
   },
   {
    "duration": 6,
    "start_time": "2024-12-06T20:56:00.090Z"
   },
   {
    "duration": 5,
    "start_time": "2024-12-06T20:56:00.098Z"
   },
   {
    "duration": 10,
    "start_time": "2024-12-06T20:56:00.105Z"
   },
   {
    "duration": 7,
    "start_time": "2024-12-06T20:56:37.055Z"
   },
   {
    "duration": 12,
    "start_time": "2024-12-06T20:56:49.401Z"
   },
   {
    "duration": 712,
    "start_time": "2024-12-06T20:57:32.045Z"
   },
   {
    "duration": 4,
    "start_time": "2024-12-06T20:58:07.661Z"
   },
   {
    "duration": 4,
    "start_time": "2024-12-06T20:59:16.349Z"
   },
   {
    "duration": 14,
    "start_time": "2024-12-06T21:00:16.235Z"
   },
   {
    "duration": 62,
    "start_time": "2024-12-06T21:00:54.744Z"
   },
   {
    "duration": 4,
    "start_time": "2024-12-06T21:01:00.373Z"
   },
   {
    "duration": 16,
    "start_time": "2024-12-06T21:01:01.775Z"
   },
   {
    "duration": 5,
    "start_time": "2024-12-06T21:02:17.914Z"
   },
   {
    "duration": 19,
    "start_time": "2024-12-06T21:02:25.325Z"
   },
   {
    "duration": 2,
    "start_time": "2024-12-06T21:03:03.757Z"
   },
   {
    "duration": 4,
    "start_time": "2024-12-06T21:03:30.575Z"
   },
   {
    "duration": 281,
    "start_time": "2024-12-06T21:03:52.978Z"
   },
   {
    "duration": 10,
    "start_time": "2024-12-06T21:04:13.899Z"
   },
   {
    "duration": 14,
    "start_time": "2024-12-06T21:04:20.335Z"
   },
   {
    "duration": 30,
    "start_time": "2024-12-06T21:04:29.849Z"
   },
   {
    "duration": 3,
    "start_time": "2024-12-06T21:04:55.947Z"
   },
   {
    "duration": 31,
    "start_time": "2024-12-06T21:04:59.429Z"
   },
   {
    "duration": 13,
    "start_time": "2024-12-06T21:05:30.527Z"
   },
   {
    "duration": 55,
    "start_time": "2024-12-06T21:07:49.476Z"
   },
   {
    "duration": 44,
    "start_time": "2024-12-06T21:08:02.619Z"
   },
   {
    "duration": 4,
    "start_time": "2024-12-06T21:27:37.474Z"
   },
   {
    "duration": 13,
    "start_time": "2024-12-06T21:27:44.922Z"
   },
   {
    "duration": 9,
    "start_time": "2024-12-06T21:27:50.904Z"
   },
   {
    "duration": 39,
    "start_time": "2024-12-06T21:28:22.236Z"
   },
   {
    "duration": 13,
    "start_time": "2024-12-06T21:28:44.730Z"
   },
   {
    "duration": 5,
    "start_time": "2024-12-06T21:28:49.183Z"
   },
   {
    "duration": 6,
    "start_time": "2024-12-06T21:33:21.185Z"
   },
   {
    "duration": 9,
    "start_time": "2024-12-06T21:35:02.554Z"
   },
   {
    "duration": 13,
    "start_time": "2024-12-06T21:36:50.399Z"
   },
   {
    "duration": 8,
    "start_time": "2024-12-06T21:36:56.419Z"
   },
   {
    "duration": 13,
    "start_time": "2024-12-06T21:45:28.905Z"
   },
   {
    "duration": 14,
    "start_time": "2024-12-06T21:45:31.439Z"
   },
   {
    "duration": 11,
    "start_time": "2024-12-06T21:45:38.112Z"
   },
   {
    "duration": 795,
    "start_time": "2024-12-06T21:49:24.482Z"
   },
   {
    "duration": 42,
    "start_time": "2024-12-06T21:49:25.279Z"
   },
   {
    "duration": 3,
    "start_time": "2024-12-06T21:49:25.323Z"
   },
   {
    "duration": 4,
    "start_time": "2024-12-06T21:49:25.327Z"
   },
   {
    "duration": 15,
    "start_time": "2024-12-06T21:49:25.333Z"
   },
   {
    "duration": 3,
    "start_time": "2024-12-06T21:49:25.349Z"
   },
   {
    "duration": 5,
    "start_time": "2024-12-06T21:49:25.354Z"
   },
   {
    "duration": 28,
    "start_time": "2024-12-06T21:49:25.386Z"
   },
   {
    "duration": 8,
    "start_time": "2024-12-06T21:49:25.416Z"
   },
   {
    "duration": 3,
    "start_time": "2024-12-06T21:49:25.426Z"
   },
   {
    "duration": 16,
    "start_time": "2024-12-06T21:49:25.431Z"
   },
   {
    "duration": 46,
    "start_time": "2024-12-06T21:49:25.448Z"
   },
   {
    "duration": 13,
    "start_time": "2024-12-06T21:49:25.496Z"
   },
   {
    "duration": 13,
    "start_time": "2024-12-06T21:49:25.512Z"
   },
   {
    "duration": 4,
    "start_time": "2024-12-06T21:49:25.526Z"
   },
   {
    "duration": 9,
    "start_time": "2024-12-06T21:49:25.531Z"
   },
   {
    "duration": 11,
    "start_time": "2024-12-06T21:49:25.542Z"
   },
   {
    "duration": 44,
    "start_time": "2024-12-06T21:49:25.555Z"
   },
   {
    "duration": 12,
    "start_time": "2024-12-06T21:49:25.601Z"
   },
   {
    "duration": 5,
    "start_time": "2024-12-06T21:49:25.615Z"
   },
   {
    "duration": 3,
    "start_time": "2024-12-06T21:49:25.622Z"
   },
   {
    "duration": 4,
    "start_time": "2024-12-06T21:49:25.628Z"
   },
   {
    "duration": 12,
    "start_time": "2024-12-06T21:49:25.634Z"
   },
   {
    "duration": 162,
    "start_time": "2024-12-06T21:49:25.647Z"
   },
   {
    "duration": 120,
    "start_time": "2024-12-06T21:49:25.811Z"
   },
   {
    "duration": 8,
    "start_time": "2024-12-06T21:49:25.933Z"
   },
   {
    "duration": 343,
    "start_time": "2024-12-06T21:49:25.943Z"
   },
   {
    "duration": 8,
    "start_time": "2024-12-06T21:49:26.289Z"
   },
   {
    "duration": 224,
    "start_time": "2024-12-06T21:49:26.301Z"
   },
   {
    "duration": 10,
    "start_time": "2024-12-06T21:49:26.527Z"
   },
   {
    "duration": 152,
    "start_time": "2024-12-06T21:49:26.538Z"
   },
   {
    "duration": 15,
    "start_time": "2024-12-06T21:49:26.692Z"
   },
   {
    "duration": 13,
    "start_time": "2024-12-06T21:49:26.708Z"
   },
   {
    "duration": 288,
    "start_time": "2024-12-06T21:49:26.723Z"
   },
   {
    "duration": 13,
    "start_time": "2024-12-06T21:49:27.013Z"
   },
   {
    "duration": 180,
    "start_time": "2024-12-06T21:49:27.028Z"
   },
   {
    "duration": 11,
    "start_time": "2024-12-06T21:49:27.210Z"
   },
   {
    "duration": 169,
    "start_time": "2024-12-06T21:49:27.223Z"
   },
   {
    "duration": 16,
    "start_time": "2024-12-06T21:49:27.394Z"
   },
   {
    "duration": 11,
    "start_time": "2024-12-06T21:49:27.412Z"
   },
   {
    "duration": 13,
    "start_time": "2024-12-06T21:49:27.427Z"
   },
   {
    "duration": 8,
    "start_time": "2024-12-06T21:49:27.442Z"
   },
   {
    "duration": 42,
    "start_time": "2024-12-06T21:49:27.452Z"
   },
   {
    "duration": 9,
    "start_time": "2024-12-06T21:49:27.496Z"
   },
   {
    "duration": 7,
    "start_time": "2024-12-06T21:49:35.309Z"
   },
   {
    "duration": 12,
    "start_time": "2024-12-06T21:49:42.160Z"
   },
   {
    "duration": 3,
    "start_time": "2024-12-06T21:51:58.655Z"
   },
   {
    "duration": 3,
    "start_time": "2024-12-06T21:51:59.308Z"
   },
   {
    "duration": 6,
    "start_time": "2024-12-06T21:52:31.743Z"
   },
   {
    "duration": 15,
    "start_time": "2024-12-06T21:52:44.823Z"
   },
   {
    "duration": 3,
    "start_time": "2024-12-06T21:53:15.307Z"
   },
   {
    "duration": 4,
    "start_time": "2024-12-06T21:53:45.659Z"
   },
   {
    "duration": 3,
    "start_time": "2024-12-06T21:53:46.159Z"
   },
   {
    "duration": 16,
    "start_time": "2024-12-06T21:53:46.860Z"
   },
   {
    "duration": 870,
    "start_time": "2024-12-06T21:54:43.898Z"
   },
   {
    "duration": 46,
    "start_time": "2024-12-06T21:54:44.770Z"
   },
   {
    "duration": 2,
    "start_time": "2024-12-06T21:54:44.818Z"
   },
   {
    "duration": 3,
    "start_time": "2024-12-06T21:54:44.822Z"
   },
   {
    "duration": 13,
    "start_time": "2024-12-06T21:54:44.828Z"
   },
   {
    "duration": 4,
    "start_time": "2024-12-06T21:54:44.842Z"
   },
   {
    "duration": 5,
    "start_time": "2024-12-06T21:54:44.847Z"
   },
   {
    "duration": 50,
    "start_time": "2024-12-06T21:54:44.855Z"
   },
   {
    "duration": 10,
    "start_time": "2024-12-06T21:54:44.907Z"
   },
   {
    "duration": 3,
    "start_time": "2024-12-06T21:54:44.918Z"
   },
   {
    "duration": 17,
    "start_time": "2024-12-06T21:54:44.923Z"
   },
   {
    "duration": 45,
    "start_time": "2024-12-06T21:54:44.942Z"
   },
   {
    "duration": 14,
    "start_time": "2024-12-06T21:54:44.989Z"
   },
   {
    "duration": 13,
    "start_time": "2024-12-06T21:54:45.006Z"
   },
   {
    "duration": 5,
    "start_time": "2024-12-06T21:54:45.021Z"
   },
   {
    "duration": 9,
    "start_time": "2024-12-06T21:54:45.028Z"
   },
   {
    "duration": 13,
    "start_time": "2024-12-06T21:54:45.039Z"
   },
   {
    "duration": 45,
    "start_time": "2024-12-06T21:54:45.053Z"
   },
   {
    "duration": 13,
    "start_time": "2024-12-06T21:54:45.099Z"
   },
   {
    "duration": 6,
    "start_time": "2024-12-06T21:54:45.113Z"
   },
   {
    "duration": 4,
    "start_time": "2024-12-06T21:54:45.120Z"
   },
   {
    "duration": 5,
    "start_time": "2024-12-06T21:54:45.126Z"
   },
   {
    "duration": 11,
    "start_time": "2024-12-06T21:54:45.132Z"
   },
   {
    "duration": 163,
    "start_time": "2024-12-06T21:54:45.145Z"
   },
   {
    "duration": 127,
    "start_time": "2024-12-06T21:54:45.309Z"
   },
   {
    "duration": 8,
    "start_time": "2024-12-06T21:54:45.438Z"
   },
   {
    "duration": 332,
    "start_time": "2024-12-06T21:54:45.448Z"
   },
   {
    "duration": 9,
    "start_time": "2024-12-06T21:54:45.782Z"
   },
   {
    "duration": 215,
    "start_time": "2024-12-06T21:54:45.793Z"
   },
   {
    "duration": 11,
    "start_time": "2024-12-06T21:54:46.010Z"
   },
   {
    "duration": 151,
    "start_time": "2024-12-06T21:54:46.023Z"
   },
   {
    "duration": 20,
    "start_time": "2024-12-06T21:54:46.175Z"
   },
   {
    "duration": 13,
    "start_time": "2024-12-06T21:54:46.196Z"
   },
   {
    "duration": 284,
    "start_time": "2024-12-06T21:54:46.211Z"
   },
   {
    "duration": 11,
    "start_time": "2024-12-06T21:54:46.497Z"
   },
   {
    "duration": 183,
    "start_time": "2024-12-06T21:54:46.510Z"
   },
   {
    "duration": 13,
    "start_time": "2024-12-06T21:54:46.694Z"
   },
   {
    "duration": 162,
    "start_time": "2024-12-06T21:54:46.708Z"
   },
   {
    "duration": 19,
    "start_time": "2024-12-06T21:54:46.872Z"
   },
   {
    "duration": 9,
    "start_time": "2024-12-06T21:54:46.892Z"
   },
   {
    "duration": 12,
    "start_time": "2024-12-06T21:54:46.906Z"
   },
   {
    "duration": 8,
    "start_time": "2024-12-06T21:54:46.920Z"
   },
   {
    "duration": 13,
    "start_time": "2024-12-06T21:54:46.930Z"
   },
   {
    "duration": 8,
    "start_time": "2024-12-06T21:54:46.945Z"
   },
   {
    "duration": 6,
    "start_time": "2024-12-06T21:54:46.986Z"
   },
   {
    "duration": 3,
    "start_time": "2024-12-06T21:54:46.994Z"
   },
   {
    "duration": 3,
    "start_time": "2024-12-06T21:54:46.999Z"
   },
   {
    "duration": 3,
    "start_time": "2024-12-06T21:54:47.004Z"
   },
   {
    "duration": 3,
    "start_time": "2024-12-06T21:54:47.009Z"
   },
   {
    "duration": 4,
    "start_time": "2024-12-06T21:54:51.128Z"
   },
   {
    "duration": 14,
    "start_time": "2024-12-06T21:54:58.273Z"
   },
   {
    "duration": 3,
    "start_time": "2024-12-06T21:55:18.958Z"
   },
   {
    "duration": 530,
    "start_time": "2024-12-06T21:55:27.582Z"
   },
   {
    "duration": 9,
    "start_time": "2024-12-06T21:55:41.667Z"
   },
   {
    "duration": 4,
    "start_time": "2024-12-06T21:57:45.139Z"
   },
   {
    "duration": 8,
    "start_time": "2024-12-06T21:58:21.237Z"
   },
   {
    "duration": 3,
    "start_time": "2024-12-06T21:58:40.544Z"
   },
   {
    "duration": 10,
    "start_time": "2024-12-06T21:58:41.136Z"
   },
   {
    "duration": 2,
    "start_time": "2024-12-06T21:59:28.143Z"
   },
   {
    "duration": 4,
    "start_time": "2024-12-06T21:59:28.636Z"
   },
   {
    "duration": 3,
    "start_time": "2024-12-06T21:59:29.027Z"
   },
   {
    "duration": 12,
    "start_time": "2024-12-06T21:59:29.477Z"
   },
   {
    "duration": 3,
    "start_time": "2024-12-06T21:59:48.359Z"
   },
   {
    "duration": 7,
    "start_time": "2024-12-06T21:59:48.841Z"
   },
   {
    "duration": 3,
    "start_time": "2024-12-06T22:00:16.468Z"
   },
   {
    "duration": 4,
    "start_time": "2024-12-06T22:00:16.802Z"
   },
   {
    "duration": 3,
    "start_time": "2024-12-06T22:00:17.185Z"
   },
   {
    "duration": 8,
    "start_time": "2024-12-06T22:00:17.673Z"
   },
   {
    "duration": 865,
    "start_time": "2024-12-06T22:02:15.804Z"
   },
   {
    "duration": 45,
    "start_time": "2024-12-06T22:02:16.672Z"
   },
   {
    "duration": 3,
    "start_time": "2024-12-06T22:02:16.718Z"
   },
   {
    "duration": 3,
    "start_time": "2024-12-06T22:02:16.723Z"
   },
   {
    "duration": 14,
    "start_time": "2024-12-06T22:02:16.729Z"
   },
   {
    "duration": 3,
    "start_time": "2024-12-06T22:02:16.745Z"
   },
   {
    "duration": 6,
    "start_time": "2024-12-06T22:02:16.750Z"
   },
   {
    "duration": 59,
    "start_time": "2024-12-06T22:02:16.757Z"
   },
   {
    "duration": 9,
    "start_time": "2024-12-06T22:02:16.819Z"
   },
   {
    "duration": 3,
    "start_time": "2024-12-06T22:02:16.830Z"
   },
   {
    "duration": 20,
    "start_time": "2024-12-06T22:02:16.836Z"
   },
   {
    "duration": 38,
    "start_time": "2024-12-06T22:02:16.859Z"
   },
   {
    "duration": 14,
    "start_time": "2024-12-06T22:02:16.899Z"
   },
   {
    "duration": 12,
    "start_time": "2024-12-06T22:02:16.917Z"
   },
   {
    "duration": 3,
    "start_time": "2024-12-06T22:02:16.931Z"
   },
   {
    "duration": 9,
    "start_time": "2024-12-06T22:02:16.935Z"
   },
   {
    "duration": 44,
    "start_time": "2024-12-06T22:02:16.946Z"
   },
   {
    "duration": 12,
    "start_time": "2024-12-06T22:02:16.992Z"
   },
   {
    "duration": 12,
    "start_time": "2024-12-06T22:02:17.006Z"
   },
   {
    "duration": 6,
    "start_time": "2024-12-06T22:02:17.019Z"
   },
   {
    "duration": 3,
    "start_time": "2024-12-06T22:02:17.027Z"
   },
   {
    "duration": 4,
    "start_time": "2024-12-06T22:02:17.032Z"
   },
   {
    "duration": 48,
    "start_time": "2024-12-06T22:02:17.038Z"
   },
   {
    "duration": 130,
    "start_time": "2024-12-06T22:02:17.088Z"
   },
   {
    "duration": 119,
    "start_time": "2024-12-06T22:02:17.219Z"
   },
   {
    "duration": 7,
    "start_time": "2024-12-06T22:02:17.340Z"
   },
   {
    "duration": 332,
    "start_time": "2024-12-06T22:02:17.348Z"
   },
   {
    "duration": 7,
    "start_time": "2024-12-06T22:02:17.682Z"
   },
   {
    "duration": 243,
    "start_time": "2024-12-06T22:02:17.691Z"
   },
   {
    "duration": 10,
    "start_time": "2024-12-06T22:02:17.936Z"
   },
   {
    "duration": 153,
    "start_time": "2024-12-06T22:02:17.948Z"
   },
   {
    "duration": 14,
    "start_time": "2024-12-06T22:02:18.103Z"
   },
   {
    "duration": 18,
    "start_time": "2024-12-06T22:02:18.119Z"
   },
   {
    "duration": 300,
    "start_time": "2024-12-06T22:02:18.139Z"
   },
   {
    "duration": 11,
    "start_time": "2024-12-06T22:02:18.441Z"
   },
   {
    "duration": 174,
    "start_time": "2024-12-06T22:02:18.454Z"
   },
   {
    "duration": 12,
    "start_time": "2024-12-06T22:02:18.630Z"
   },
   {
    "duration": 160,
    "start_time": "2024-12-06T22:02:18.643Z"
   },
   {
    "duration": 14,
    "start_time": "2024-12-06T22:02:18.805Z"
   },
   {
    "duration": 8,
    "start_time": "2024-12-06T22:02:18.821Z"
   },
   {
    "duration": 13,
    "start_time": "2024-12-06T22:02:18.833Z"
   },
   {
    "duration": 8,
    "start_time": "2024-12-06T22:02:18.847Z"
   },
   {
    "duration": 40,
    "start_time": "2024-12-06T22:02:18.857Z"
   },
   {
    "duration": 10,
    "start_time": "2024-12-06T22:02:18.899Z"
   },
   {
    "duration": 6,
    "start_time": "2024-12-06T22:02:18.910Z"
   },
   {
    "duration": 3,
    "start_time": "2024-12-06T22:02:18.917Z"
   },
   {
    "duration": 3,
    "start_time": "2024-12-06T22:02:18.922Z"
   },
   {
    "duration": 3,
    "start_time": "2024-12-06T22:02:18.927Z"
   },
   {
    "duration": 3,
    "start_time": "2024-12-06T22:02:18.932Z"
   },
   {
    "duration": 4,
    "start_time": "2024-12-06T22:02:18.936Z"
   },
   {
    "duration": 45,
    "start_time": "2024-12-06T22:02:18.942Z"
   },
   {
    "duration": 8,
    "start_time": "2024-12-06T22:02:18.989Z"
   },
   {
    "duration": 2586,
    "start_time": "2024-12-09T17:27:22.732Z"
   },
   {
    "duration": 65,
    "start_time": "2024-12-09T17:27:25.320Z"
   },
   {
    "duration": 2,
    "start_time": "2024-12-09T17:27:25.387Z"
   },
   {
    "duration": 3,
    "start_time": "2024-12-09T17:27:25.391Z"
   },
   {
    "duration": 15,
    "start_time": "2024-12-09T17:27:25.397Z"
   },
   {
    "duration": 4,
    "start_time": "2024-12-09T17:27:25.414Z"
   },
   {
    "duration": 5,
    "start_time": "2024-12-09T17:27:25.424Z"
   },
   {
    "duration": 30,
    "start_time": "2024-12-09T17:27:25.430Z"
   },
   {
    "duration": 8,
    "start_time": "2024-12-09T17:27:25.462Z"
   },
   {
    "duration": 4,
    "start_time": "2024-12-09T17:27:25.472Z"
   },
   {
    "duration": 17,
    "start_time": "2024-12-09T17:27:25.477Z"
   },
   {
    "duration": 75,
    "start_time": "2024-12-09T17:27:25.524Z"
   },
   {
    "duration": 24,
    "start_time": "2024-12-09T17:27:25.601Z"
   },
   {
    "duration": 14,
    "start_time": "2024-12-09T17:27:25.628Z"
   },
   {
    "duration": 4,
    "start_time": "2024-12-09T17:27:25.643Z"
   },
   {
    "duration": 10,
    "start_time": "2024-12-09T17:27:25.648Z"
   },
   {
    "duration": 12,
    "start_time": "2024-12-09T17:27:25.660Z"
   },
   {
    "duration": 13,
    "start_time": "2024-12-09T17:27:25.674Z"
   },
   {
    "duration": 14,
    "start_time": "2024-12-09T17:27:25.723Z"
   },
   {
    "duration": 5,
    "start_time": "2024-12-09T17:27:25.738Z"
   },
   {
    "duration": 4,
    "start_time": "2024-12-09T17:27:25.745Z"
   },
   {
    "duration": 4,
    "start_time": "2024-12-09T17:27:25.751Z"
   },
   {
    "duration": 10,
    "start_time": "2024-12-09T17:27:25.757Z"
   },
   {
    "duration": 154,
    "start_time": "2024-12-09T17:27:25.769Z"
   },
   {
    "duration": 120,
    "start_time": "2024-12-09T17:27:25.925Z"
   },
   {
    "duration": 8,
    "start_time": "2024-12-09T17:27:26.047Z"
   },
   {
    "duration": 281,
    "start_time": "2024-12-09T17:27:26.056Z"
   },
   {
    "duration": 8,
    "start_time": "2024-12-09T17:27:26.338Z"
   },
   {
    "duration": 238,
    "start_time": "2024-12-09T17:27:26.348Z"
   },
   {
    "duration": 11,
    "start_time": "2024-12-09T17:27:26.589Z"
   },
   {
    "duration": 164,
    "start_time": "2024-12-09T17:27:26.602Z"
   },
   {
    "duration": 15,
    "start_time": "2024-12-09T17:27:26.768Z"
   },
   {
    "duration": 13,
    "start_time": "2024-12-09T17:27:26.784Z"
   },
   {
    "duration": 289,
    "start_time": "2024-12-09T17:27:26.799Z"
   },
   {
    "duration": 12,
    "start_time": "2024-12-09T17:27:27.090Z"
   },
   {
    "duration": 179,
    "start_time": "2024-12-09T17:27:27.104Z"
   },
   {
    "duration": 12,
    "start_time": "2024-12-09T17:27:27.285Z"
   },
   {
    "duration": 164,
    "start_time": "2024-12-09T17:27:27.300Z"
   },
   {
    "duration": 14,
    "start_time": "2024-12-09T17:27:27.466Z"
   },
   {
    "duration": 10,
    "start_time": "2024-12-09T17:27:27.482Z"
   },
   {
    "duration": 37,
    "start_time": "2024-12-09T17:27:27.496Z"
   },
   {
    "duration": 9,
    "start_time": "2024-12-09T17:27:27.535Z"
   },
   {
    "duration": 14,
    "start_time": "2024-12-09T17:27:27.546Z"
   },
   {
    "duration": 10,
    "start_time": "2024-12-09T17:27:27.562Z"
   },
   {
    "duration": 5,
    "start_time": "2024-12-09T17:27:27.575Z"
   },
   {
    "duration": 3,
    "start_time": "2024-12-09T17:27:27.582Z"
   },
   {
    "duration": 37,
    "start_time": "2024-12-09T17:27:27.587Z"
   },
   {
    "duration": 4,
    "start_time": "2024-12-09T17:27:27.626Z"
   },
   {
    "duration": 3,
    "start_time": "2024-12-09T17:27:27.632Z"
   },
   {
    "duration": 4,
    "start_time": "2024-12-09T17:27:27.637Z"
   },
   {
    "duration": 3,
    "start_time": "2024-12-09T17:27:27.644Z"
   },
   {
    "duration": 10,
    "start_time": "2024-12-09T17:27:27.649Z"
   },
   {
    "duration": 16,
    "start_time": "2024-12-09T17:29:30.067Z"
   },
   {
    "duration": 288,
    "start_time": "2024-12-09T17:30:24.152Z"
   },
   {
    "duration": 11,
    "start_time": "2024-12-09T17:30:28.027Z"
   },
   {
    "duration": 14,
    "start_time": "2024-12-09T17:32:20.450Z"
   },
   {
    "duration": 20,
    "start_time": "2024-12-09T17:32:25.825Z"
   },
   {
    "duration": 714,
    "start_time": "2024-12-09T17:34:25.677Z"
   },
   {
    "duration": 15,
    "start_time": "2024-12-09T17:35:01.600Z"
   },
   {
    "duration": 4,
    "start_time": "2024-12-09T17:35:06.735Z"
   },
   {
    "duration": 7,
    "start_time": "2024-12-09T17:41:19.263Z"
   },
   {
    "duration": 22,
    "start_time": "2024-12-09T17:41:20.054Z"
   },
   {
    "duration": 6,
    "start_time": "2024-12-09T17:42:38.513Z"
   },
   {
    "duration": 839,
    "start_time": "2024-12-09T17:43:45.871Z"
   },
   {
    "duration": 43,
    "start_time": "2024-12-09T17:43:46.712Z"
   },
   {
    "duration": 2,
    "start_time": "2024-12-09T17:43:46.757Z"
   },
   {
    "duration": 4,
    "start_time": "2024-12-09T17:43:46.761Z"
   },
   {
    "duration": 15,
    "start_time": "2024-12-09T17:43:46.767Z"
   },
   {
    "duration": 5,
    "start_time": "2024-12-09T17:43:46.783Z"
   },
   {
    "duration": 6,
    "start_time": "2024-12-09T17:43:46.789Z"
   },
   {
    "duration": 55,
    "start_time": "2024-12-09T17:43:46.796Z"
   },
   {
    "duration": 9,
    "start_time": "2024-12-09T17:43:46.853Z"
   },
   {
    "duration": 4,
    "start_time": "2024-12-09T17:43:46.863Z"
   },
   {
    "duration": 18,
    "start_time": "2024-12-09T17:43:46.868Z"
   },
   {
    "duration": 46,
    "start_time": "2024-12-09T17:43:46.887Z"
   },
   {
    "duration": 14,
    "start_time": "2024-12-09T17:43:46.935Z"
   },
   {
    "duration": 14,
    "start_time": "2024-12-09T17:43:46.953Z"
   },
   {
    "duration": 4,
    "start_time": "2024-12-09T17:43:46.968Z"
   },
   {
    "duration": 9,
    "start_time": "2024-12-09T17:43:46.974Z"
   },
   {
    "duration": 45,
    "start_time": "2024-12-09T17:43:46.985Z"
   },
   {
    "duration": 13,
    "start_time": "2024-12-09T17:43:47.032Z"
   },
   {
    "duration": 12,
    "start_time": "2024-12-09T17:43:47.046Z"
   },
   {
    "duration": 6,
    "start_time": "2024-12-09T17:43:47.060Z"
   },
   {
    "duration": 4,
    "start_time": "2024-12-09T17:43:47.067Z"
   },
   {
    "duration": 4,
    "start_time": "2024-12-09T17:43:47.073Z"
   },
   {
    "duration": 46,
    "start_time": "2024-12-09T17:43:47.078Z"
   },
   {
    "duration": 131,
    "start_time": "2024-12-09T17:43:47.126Z"
   },
   {
    "duration": 122,
    "start_time": "2024-12-09T17:43:47.258Z"
   },
   {
    "duration": 7,
    "start_time": "2024-12-09T17:43:47.382Z"
   },
   {
    "duration": 350,
    "start_time": "2024-12-09T17:43:47.391Z"
   },
   {
    "duration": 8,
    "start_time": "2024-12-09T17:43:47.743Z"
   },
   {
    "duration": 226,
    "start_time": "2024-12-09T17:43:47.753Z"
   },
   {
    "duration": 10,
    "start_time": "2024-12-09T17:43:47.981Z"
   },
   {
    "duration": 157,
    "start_time": "2024-12-09T17:43:47.993Z"
   },
   {
    "duration": 15,
    "start_time": "2024-12-09T17:43:48.152Z"
   },
   {
    "duration": 14,
    "start_time": "2024-12-09T17:43:48.169Z"
   },
   {
    "duration": 311,
    "start_time": "2024-12-09T17:43:48.185Z"
   },
   {
    "duration": 13,
    "start_time": "2024-12-09T17:43:48.498Z"
   },
   {
    "duration": 185,
    "start_time": "2024-12-09T17:43:48.514Z"
   },
   {
    "duration": 12,
    "start_time": "2024-12-09T17:43:48.701Z"
   },
   {
    "duration": 160,
    "start_time": "2024-12-09T17:43:48.715Z"
   },
   {
    "duration": 15,
    "start_time": "2024-12-09T17:43:48.877Z"
   },
   {
    "duration": 9,
    "start_time": "2024-12-09T17:43:48.894Z"
   },
   {
    "duration": 14,
    "start_time": "2024-12-09T17:43:48.926Z"
   },
   {
    "duration": 9,
    "start_time": "2024-12-09T17:43:48.941Z"
   },
   {
    "duration": 14,
    "start_time": "2024-12-09T17:43:48.952Z"
   },
   {
    "duration": 10,
    "start_time": "2024-12-09T17:43:48.967Z"
   },
   {
    "duration": 8,
    "start_time": "2024-12-09T17:43:48.978Z"
   },
   {
    "duration": 3,
    "start_time": "2024-12-09T17:43:48.988Z"
   },
   {
    "duration": 4,
    "start_time": "2024-12-09T17:43:49.024Z"
   },
   {
    "duration": 4,
    "start_time": "2024-12-09T17:43:49.029Z"
   },
   {
    "duration": 3,
    "start_time": "2024-12-09T17:43:49.035Z"
   },
   {
    "duration": 4,
    "start_time": "2024-12-09T17:43:49.040Z"
   },
   {
    "duration": 4,
    "start_time": "2024-12-09T17:43:49.045Z"
   },
   {
    "duration": 9,
    "start_time": "2024-12-09T17:43:49.050Z"
   },
   {
    "duration": 5,
    "start_time": "2024-12-09T17:43:54.246Z"
   },
   {
    "duration": 18,
    "start_time": "2024-12-09T17:43:58.409Z"
   },
   {
    "duration": 6,
    "start_time": "2024-12-09T17:44:01.619Z"
   },
   {
    "duration": 22,
    "start_time": "2024-12-09T17:44:09.100Z"
   },
   {
    "duration": 138,
    "start_time": "2024-12-09T17:44:25.346Z"
   },
   {
    "duration": 373,
    "start_time": "2024-12-09T17:44:31.619Z"
   },
   {
    "duration": 25,
    "start_time": "2024-12-09T17:44:34.425Z"
   },
   {
    "duration": 15,
    "start_time": "2024-12-09T17:45:49.301Z"
   },
   {
    "duration": 6,
    "start_time": "2024-12-09T17:45:49.899Z"
   },
   {
    "duration": 20,
    "start_time": "2024-12-09T17:45:50.496Z"
   },
   {
    "duration": 23,
    "start_time": "2024-12-09T17:45:59.286Z"
   },
   {
    "duration": 14,
    "start_time": "2024-12-09T17:46:24.685Z"
   },
   {
    "duration": 549,
    "start_time": "2024-12-09T17:59:44.300Z"
   },
   {
    "duration": 4,
    "start_time": "2024-12-09T18:00:08.150Z"
   },
   {
    "duration": 21,
    "start_time": "2024-12-09T18:00:17.963Z"
   },
   {
    "duration": 131,
    "start_time": "2024-12-09T18:01:02.600Z"
   },
   {
    "duration": 38,
    "start_time": "2024-12-09T18:01:14.655Z"
   },
   {
    "duration": 820,
    "start_time": "2024-12-09T18:02:04.214Z"
   },
   {
    "duration": 43,
    "start_time": "2024-12-09T18:02:05.037Z"
   },
   {
    "duration": 3,
    "start_time": "2024-12-09T18:02:05.081Z"
   },
   {
    "duration": 3,
    "start_time": "2024-12-09T18:02:05.086Z"
   },
   {
    "duration": 14,
    "start_time": "2024-12-09T18:02:05.092Z"
   },
   {
    "duration": 4,
    "start_time": "2024-12-09T18:02:05.124Z"
   },
   {
    "duration": 5,
    "start_time": "2024-12-09T18:02:05.130Z"
   },
   {
    "duration": 30,
    "start_time": "2024-12-09T18:02:05.136Z"
   },
   {
    "duration": 9,
    "start_time": "2024-12-09T18:02:05.169Z"
   },
   {
    "duration": 5,
    "start_time": "2024-12-09T18:02:05.180Z"
   },
   {
    "duration": 52,
    "start_time": "2024-12-09T18:02:05.186Z"
   },
   {
    "duration": 22,
    "start_time": "2024-12-09T18:02:05.240Z"
   },
   {
    "duration": 16,
    "start_time": "2024-12-09T18:02:05.264Z"
   },
   {
    "duration": 13,
    "start_time": "2024-12-09T18:02:05.285Z"
   },
   {
    "duration": 5,
    "start_time": "2024-12-09T18:02:05.324Z"
   },
   {
    "duration": 10,
    "start_time": "2024-12-09T18:02:05.330Z"
   },
   {
    "duration": 13,
    "start_time": "2024-12-09T18:02:05.342Z"
   },
   {
    "duration": 13,
    "start_time": "2024-12-09T18:02:05.356Z"
   },
   {
    "duration": 12,
    "start_time": "2024-12-09T18:02:05.371Z"
   },
   {
    "duration": 40,
    "start_time": "2024-12-09T18:02:05.385Z"
   },
   {
    "duration": 5,
    "start_time": "2024-12-09T18:02:05.427Z"
   },
   {
    "duration": 5,
    "start_time": "2024-12-09T18:02:05.434Z"
   },
   {
    "duration": 12,
    "start_time": "2024-12-09T18:02:05.441Z"
   },
   {
    "duration": 150,
    "start_time": "2024-12-09T18:02:05.454Z"
   },
   {
    "duration": 127,
    "start_time": "2024-12-09T18:02:05.606Z"
   },
   {
    "duration": 9,
    "start_time": "2024-12-09T18:02:05.735Z"
   },
   {
    "duration": 351,
    "start_time": "2024-12-09T18:02:05.746Z"
   },
   {
    "duration": 8,
    "start_time": "2024-12-09T18:02:06.099Z"
   },
   {
    "duration": 218,
    "start_time": "2024-12-09T18:02:06.108Z"
   },
   {
    "duration": 11,
    "start_time": "2024-12-09T18:02:06.329Z"
   },
   {
    "duration": 153,
    "start_time": "2024-12-09T18:02:06.342Z"
   },
   {
    "duration": 27,
    "start_time": "2024-12-09T18:02:06.497Z"
   },
   {
    "duration": 14,
    "start_time": "2024-12-09T18:02:06.525Z"
   },
   {
    "duration": 283,
    "start_time": "2024-12-09T18:02:06.541Z"
   },
   {
    "duration": 13,
    "start_time": "2024-12-09T18:02:06.826Z"
   },
   {
    "duration": 206,
    "start_time": "2024-12-09T18:02:06.840Z"
   },
   {
    "duration": 12,
    "start_time": "2024-12-09T18:02:07.047Z"
   },
   {
    "duration": 158,
    "start_time": "2024-12-09T18:02:07.061Z"
   },
   {
    "duration": 14,
    "start_time": "2024-12-09T18:02:07.224Z"
   },
   {
    "duration": 10,
    "start_time": "2024-12-09T18:02:07.240Z"
   },
   {
    "duration": 14,
    "start_time": "2024-12-09T18:02:07.255Z"
   },
   {
    "duration": 11,
    "start_time": "2024-12-09T18:02:07.270Z"
   },
   {
    "duration": 42,
    "start_time": "2024-12-09T18:02:07.283Z"
   },
   {
    "duration": 9,
    "start_time": "2024-12-09T18:02:07.327Z"
   },
   {
    "duration": 8,
    "start_time": "2024-12-09T18:02:07.337Z"
   },
   {
    "duration": 4,
    "start_time": "2024-12-09T18:02:07.346Z"
   },
   {
    "duration": 4,
    "start_time": "2024-12-09T18:02:07.351Z"
   },
   {
    "duration": 4,
    "start_time": "2024-12-09T18:02:07.356Z"
   },
   {
    "duration": 3,
    "start_time": "2024-12-09T18:02:07.362Z"
   },
   {
    "duration": 5,
    "start_time": "2024-12-09T18:02:07.366Z"
   },
   {
    "duration": 4,
    "start_time": "2024-12-09T18:02:07.372Z"
   },
   {
    "duration": 52,
    "start_time": "2024-12-09T18:02:07.378Z"
   },
   {
    "duration": 19,
    "start_time": "2024-12-09T18:02:07.431Z"
   },
   {
    "duration": 4,
    "start_time": "2024-12-09T18:02:07.452Z"
   },
   {
    "duration": 6,
    "start_time": "2024-12-09T18:02:07.458Z"
   },
   {
    "duration": 19,
    "start_time": "2024-12-09T18:02:07.466Z"
   },
   {
    "duration": 43,
    "start_time": "2024-12-09T18:02:07.486Z"
   },
   {
    "duration": 20,
    "start_time": "2024-12-09T18:02:27.145Z"
   },
   {
    "duration": 12,
    "start_time": "2024-12-09T18:06:51.371Z"
   },
   {
    "duration": 4,
    "start_time": "2024-12-09T18:07:02.859Z"
   },
   {
    "duration": 12,
    "start_time": "2024-12-09T18:07:12.123Z"
   },
   {
    "duration": 217,
    "start_time": "2024-12-09T18:07:46.783Z"
   },
   {
    "duration": 13,
    "start_time": "2024-12-09T18:08:25.424Z"
   },
   {
    "duration": 11,
    "start_time": "2024-12-09T18:10:56.046Z"
   },
   {
    "duration": 12,
    "start_time": "2024-12-09T18:12:01.734Z"
   },
   {
    "duration": 4,
    "start_time": "2024-12-09T18:12:28.023Z"
   },
   {
    "duration": 14,
    "start_time": "2024-12-09T18:12:28.592Z"
   },
   {
    "duration": 14,
    "start_time": "2024-12-09T18:13:06.018Z"
   },
   {
    "duration": 4,
    "start_time": "2024-12-09T18:13:31.757Z"
   },
   {
    "duration": 13,
    "start_time": "2024-12-09T18:13:32.298Z"
   },
   {
    "duration": 5,
    "start_time": "2024-12-09T18:38:55.935Z"
   },
   {
    "duration": 12,
    "start_time": "2024-12-09T18:39:00.951Z"
   },
   {
    "duration": 4,
    "start_time": "2024-12-09T18:41:12.119Z"
   },
   {
    "duration": 3,
    "start_time": "2024-12-09T18:41:16.824Z"
   },
   {
    "duration": 4,
    "start_time": "2024-12-09T18:41:22.750Z"
   },
   {
    "duration": 4,
    "start_time": "2024-12-09T18:41:23.389Z"
   },
   {
    "duration": 4,
    "start_time": "2024-12-09T18:41:44.145Z"
   },
   {
    "duration": 3,
    "start_time": "2024-12-09T18:41:44.745Z"
   },
   {
    "duration": 6,
    "start_time": "2024-12-09T18:43:21.708Z"
   },
   {
    "duration": 3,
    "start_time": "2024-12-09T18:46:00.854Z"
   },
   {
    "duration": 3,
    "start_time": "2024-12-09T18:46:10.049Z"
   },
   {
    "duration": 351,
    "start_time": "2024-12-09T18:46:48.274Z"
   },
   {
    "duration": 3,
    "start_time": "2024-12-09T18:47:51.417Z"
   },
   {
    "duration": 13,
    "start_time": "2024-12-09T18:48:02.830Z"
   },
   {
    "duration": 5,
    "start_time": "2024-12-09T18:48:08.237Z"
   },
   {
    "duration": 13,
    "start_time": "2024-12-09T18:48:08.729Z"
   },
   {
    "duration": 50,
    "start_time": "2024-12-09T18:48:54.950Z"
   },
   {
    "duration": 2,
    "start_time": "2024-12-09T18:49:47.994Z"
   },
   {
    "duration": 12,
    "start_time": "2024-12-09T18:49:48.760Z"
   },
   {
    "duration": 5,
    "start_time": "2024-12-09T18:52:20.774Z"
   },
   {
    "duration": 11,
    "start_time": "2024-12-09T18:52:30.694Z"
   },
   {
    "duration": 6,
    "start_time": "2024-12-09T18:53:06.292Z"
   },
   {
    "duration": 8,
    "start_time": "2024-12-09T18:53:17.537Z"
   },
   {
    "duration": 6,
    "start_time": "2024-12-09T18:53:23.065Z"
   },
   {
    "duration": 3,
    "start_time": "2024-12-09T18:58:14.154Z"
   },
   {
    "duration": 3,
    "start_time": "2024-12-09T18:58:36.728Z"
   },
   {
    "duration": 5,
    "start_time": "2024-12-09T18:58:42.069Z"
   },
   {
    "duration": 5,
    "start_time": "2024-12-09T18:59:49.139Z"
   },
   {
    "duration": 4,
    "start_time": "2024-12-09T19:00:04.536Z"
   },
   {
    "duration": 17,
    "start_time": "2024-12-09T19:03:33.034Z"
   },
   {
    "duration": 5,
    "start_time": "2024-12-09T19:03:48.768Z"
   },
   {
    "duration": 5,
    "start_time": "2024-12-09T19:03:49.311Z"
   },
   {
    "duration": 5,
    "start_time": "2024-12-09T19:03:49.808Z"
   },
   {
    "duration": 379,
    "start_time": "2024-12-09T19:03:50.400Z"
   },
   {
    "duration": 4,
    "start_time": "2024-12-09T19:04:20.967Z"
   },
   {
    "duration": 4,
    "start_time": "2024-12-09T19:04:27.494Z"
   },
   {
    "duration": 6,
    "start_time": "2024-12-09T19:04:31.871Z"
   },
   {
    "duration": 4,
    "start_time": "2024-12-09T19:05:39.907Z"
   },
   {
    "duration": 5,
    "start_time": "2024-12-09T19:06:11.834Z"
   },
   {
    "duration": 12,
    "start_time": "2024-12-09T19:07:43.964Z"
   },
   {
    "duration": 13,
    "start_time": "2024-12-09T19:07:44.249Z"
   },
   {
    "duration": 13,
    "start_time": "2024-12-09T19:07:44.940Z"
   },
   {
    "duration": 12,
    "start_time": "2024-12-09T19:09:29.359Z"
   },
   {
    "duration": 4,
    "start_time": "2024-12-09T19:09:43.391Z"
   },
   {
    "duration": 3,
    "start_time": "2024-12-09T19:09:49.878Z"
   },
   {
    "duration": 4,
    "start_time": "2024-12-09T19:09:54.802Z"
   },
   {
    "duration": 53,
    "start_time": "2024-12-09T19:14:21.953Z"
   },
   {
    "duration": 3,
    "start_time": "2024-12-09T19:14:26.631Z"
   },
   {
    "duration": 4,
    "start_time": "2024-12-09T19:14:27.179Z"
   },
   {
    "duration": 48,
    "start_time": "2024-12-09T19:14:27.837Z"
   },
   {
    "duration": 4,
    "start_time": "2024-12-09T19:14:57.091Z"
   },
   {
    "duration": 7,
    "start_time": "2024-12-09T19:14:58.168Z"
   },
   {
    "duration": 5,
    "start_time": "2024-12-09T19:22:58.009Z"
   },
   {
    "duration": 122,
    "start_time": "2024-12-09T19:43:37.780Z"
   },
   {
    "duration": 121,
    "start_time": "2024-12-09T19:44:03.033Z"
   },
   {
    "duration": 17,
    "start_time": "2024-12-09T19:48:07.375Z"
   },
   {
    "duration": 4986,
    "start_time": "2024-12-09T19:48:12.775Z"
   },
   {
    "duration": 125,
    "start_time": "2024-12-09T19:51:28.221Z"
   },
   {
    "duration": 20,
    "start_time": "2024-12-09T19:56:05.949Z"
   },
   {
    "duration": 148,
    "start_time": "2024-12-09T19:56:44.855Z"
   },
   {
    "duration": 158,
    "start_time": "2024-12-09T19:57:25.688Z"
   },
   {
    "duration": 52777,
    "start_time": "2024-12-09T19:58:54.796Z"
   },
   {
    "duration": 157,
    "start_time": "2024-12-09T19:59:54.009Z"
   },
   {
    "duration": 3,
    "start_time": "2024-12-09T20:11:52.845Z"
   },
   {
    "duration": 12,
    "start_time": "2024-12-09T20:13:30.252Z"
   },
   {
    "duration": 15,
    "start_time": "2024-12-09T20:14:26.134Z"
   },
   {
    "duration": 4,
    "start_time": "2024-12-09T20:16:43.289Z"
   },
   {
    "duration": 5,
    "start_time": "2024-12-09T20:18:43.338Z"
   },
   {
    "duration": 5,
    "start_time": "2024-12-09T20:21:43.890Z"
   },
   {
    "duration": 3,
    "start_time": "2024-12-09T20:22:23.313Z"
   },
   {
    "duration": 16,
    "start_time": "2024-12-09T20:23:40.874Z"
   },
   {
    "duration": 5,
    "start_time": "2024-12-09T20:23:46.092Z"
   },
   {
    "duration": 5,
    "start_time": "2024-12-09T20:23:59.494Z"
   },
   {
    "duration": 4,
    "start_time": "2024-12-09T20:24:04.110Z"
   },
   {
    "duration": 4,
    "start_time": "2024-12-09T20:24:07.653Z"
   },
   {
    "duration": 4,
    "start_time": "2024-12-09T20:24:11.145Z"
   },
   {
    "duration": 13,
    "start_time": "2024-12-09T20:24:16.511Z"
   },
   {
    "duration": 18,
    "start_time": "2024-12-09T20:28:09.969Z"
   },
   {
    "duration": 14,
    "start_time": "2024-12-09T20:28:29.411Z"
   },
   {
    "duration": 19,
    "start_time": "2024-12-09T20:29:47.654Z"
   },
   {
    "duration": 185,
    "start_time": "2024-12-09T20:32:49.722Z"
   },
   {
    "duration": 21,
    "start_time": "2024-12-09T20:33:10.212Z"
   },
   {
    "duration": 16928,
    "start_time": "2024-12-09T20:36:32.701Z"
   },
   {
    "duration": 24,
    "start_time": "2024-12-09T20:36:49.632Z"
   },
   {
    "duration": 14,
    "start_time": "2024-12-09T20:36:54.794Z"
   },
   {
    "duration": 20,
    "start_time": "2024-12-09T20:37:04.724Z"
   },
   {
    "duration": 390406,
    "start_time": "2024-12-09T20:38:19.635Z"
   },
   {
    "duration": 64297,
    "start_time": "2024-12-09T20:45:14.919Z"
   },
   {
    "duration": 24,
    "start_time": "2024-12-09T20:46:42.914Z"
   },
   {
    "duration": 66809,
    "start_time": "2024-12-09T20:46:50.264Z"
   },
   {
    "duration": 1103,
    "start_time": "2024-12-09T20:48:31.588Z"
   },
   {
    "duration": 13,
    "start_time": "2024-12-09T20:48:53.213Z"
   },
   {
    "duration": 1533,
    "start_time": "2024-12-09T20:49:01.297Z"
   },
   {
    "duration": 27,
    "start_time": "2024-12-09T20:49:06.760Z"
   },
   {
    "duration": 2933,
    "start_time": "2024-12-09T20:49:33.070Z"
   },
   {
    "duration": 2213,
    "start_time": "2024-12-09T20:49:51.699Z"
   },
   {
    "duration": 909,
    "start_time": "2024-12-09T20:50:07.716Z"
   },
   {
    "duration": 3,
    "start_time": "2024-12-09T20:50:21.381Z"
   },
   {
    "duration": 64,
    "start_time": "2024-12-09T20:50:21.387Z"
   },
   {
    "duration": 3,
    "start_time": "2024-12-09T20:50:21.452Z"
   },
   {
    "duration": 3,
    "start_time": "2024-12-09T20:50:21.457Z"
   },
   {
    "duration": 14,
    "start_time": "2024-12-09T20:50:21.462Z"
   },
   {
    "duration": 4,
    "start_time": "2024-12-09T20:50:21.478Z"
   },
   {
    "duration": 5,
    "start_time": "2024-12-09T20:50:21.484Z"
   },
   {
    "duration": 60,
    "start_time": "2024-12-09T20:50:21.491Z"
   },
   {
    "duration": 10,
    "start_time": "2024-12-09T20:50:21.555Z"
   },
   {
    "duration": 4,
    "start_time": "2024-12-09T20:50:21.566Z"
   },
   {
    "duration": 19,
    "start_time": "2024-12-09T20:50:21.572Z"
   },
   {
    "duration": 47,
    "start_time": "2024-12-09T20:50:21.593Z"
   },
   {
    "duration": 15,
    "start_time": "2024-12-09T20:50:21.642Z"
   },
   {
    "duration": 13,
    "start_time": "2024-12-09T20:50:21.658Z"
   },
   {
    "duration": 4,
    "start_time": "2024-12-09T20:50:21.675Z"
   },
   {
    "duration": 11,
    "start_time": "2024-12-09T20:50:21.681Z"
   },
   {
    "duration": 14,
    "start_time": "2024-12-09T20:50:21.725Z"
   },
   {
    "duration": 13,
    "start_time": "2024-12-09T20:50:21.741Z"
   },
   {
    "duration": 14,
    "start_time": "2024-12-09T20:50:21.755Z"
   },
   {
    "duration": 6,
    "start_time": "2024-12-09T20:50:21.771Z"
   },
   {
    "duration": 4,
    "start_time": "2024-12-09T20:50:21.778Z"
   },
   {
    "duration": 41,
    "start_time": "2024-12-09T20:50:21.784Z"
   },
   {
    "duration": 11,
    "start_time": "2024-12-09T20:50:21.827Z"
   },
   {
    "duration": 144,
    "start_time": "2024-12-09T20:50:21.844Z"
   },
   {
    "duration": 120,
    "start_time": "2024-12-09T20:50:21.990Z"
   },
   {
    "duration": 12,
    "start_time": "2024-12-09T20:50:22.113Z"
   },
   {
    "duration": 345,
    "start_time": "2024-12-09T20:50:22.126Z"
   },
   {
    "duration": 7,
    "start_time": "2024-12-09T20:50:22.473Z"
   },
   {
    "duration": 225,
    "start_time": "2024-12-09T20:50:22.481Z"
   },
   {
    "duration": 17,
    "start_time": "2024-12-09T20:50:22.708Z"
   },
   {
    "duration": 151,
    "start_time": "2024-12-09T20:50:22.726Z"
   },
   {
    "duration": 16,
    "start_time": "2024-12-09T20:50:22.879Z"
   },
   {
    "duration": 28,
    "start_time": "2024-12-09T20:50:22.897Z"
   },
   {
    "duration": 278,
    "start_time": "2024-12-09T20:50:22.926Z"
   },
   {
    "duration": 13,
    "start_time": "2024-12-09T20:50:23.206Z"
   },
   {
    "duration": 179,
    "start_time": "2024-12-09T20:50:23.221Z"
   },
   {
    "duration": 23,
    "start_time": "2024-12-09T20:50:23.402Z"
   },
   {
    "duration": 150,
    "start_time": "2024-12-09T20:50:23.427Z"
   },
   {
    "duration": 15,
    "start_time": "2024-12-09T20:50:23.580Z"
   },
   {
    "duration": 10,
    "start_time": "2024-12-09T20:50:23.597Z"
   },
   {
    "duration": 15,
    "start_time": "2024-12-09T20:50:23.624Z"
   },
   {
    "duration": 11,
    "start_time": "2024-12-09T20:50:23.641Z"
   },
   {
    "duration": 13,
    "start_time": "2024-12-09T20:50:23.654Z"
   },
   {
    "duration": 9,
    "start_time": "2024-12-09T20:50:23.669Z"
   },
   {
    "duration": 7,
    "start_time": "2024-12-09T20:50:23.680Z"
   },
   {
    "duration": 39,
    "start_time": "2024-12-09T20:50:23.689Z"
   },
   {
    "duration": 4,
    "start_time": "2024-12-09T20:50:23.729Z"
   },
   {
    "duration": 4,
    "start_time": "2024-12-09T20:50:23.735Z"
   },
   {
    "duration": 3,
    "start_time": "2024-12-09T20:50:23.740Z"
   },
   {
    "duration": 4,
    "start_time": "2024-12-09T20:50:23.745Z"
   },
   {
    "duration": 4,
    "start_time": "2024-12-09T20:50:23.750Z"
   },
   {
    "duration": 8,
    "start_time": "2024-12-09T20:50:23.756Z"
   },
   {
    "duration": 19,
    "start_time": "2024-12-09T20:50:23.766Z"
   },
   {
    "duration": 41,
    "start_time": "2024-12-09T20:50:23.787Z"
   },
   {
    "duration": 7,
    "start_time": "2024-12-09T20:50:23.831Z"
   },
   {
    "duration": 24,
    "start_time": "2024-12-09T20:50:23.840Z"
   },
   {
    "duration": 15,
    "start_time": "2024-12-09T20:50:23.869Z"
   },
   {
    "duration": 3,
    "start_time": "2024-12-09T20:50:23.886Z"
   },
   {
    "duration": 40,
    "start_time": "2024-12-09T20:50:23.891Z"
   },
   {
    "duration": 13,
    "start_time": "2024-12-09T20:50:23.933Z"
   },
   {
    "duration": 4,
    "start_time": "2024-12-09T20:50:23.948Z"
   },
   {
    "duration": 12,
    "start_time": "2024-12-09T20:50:23.954Z"
   },
   {
    "duration": 12,
    "start_time": "2024-12-09T20:50:23.967Z"
   },
   {
    "duration": 4,
    "start_time": "2024-12-09T20:50:23.981Z"
   },
   {
    "duration": 44,
    "start_time": "2024-12-09T20:50:23.986Z"
   },
   {
    "duration": 5,
    "start_time": "2024-12-09T20:50:24.032Z"
   },
   {
    "duration": 4,
    "start_time": "2024-12-09T20:50:24.039Z"
   },
   {
    "duration": 4,
    "start_time": "2024-12-09T20:50:24.045Z"
   },
   {
    "duration": 5,
    "start_time": "2024-12-09T20:50:24.054Z"
   },
   {
    "duration": 4,
    "start_time": "2024-12-09T20:50:24.060Z"
   },
   {
    "duration": 4,
    "start_time": "2024-12-09T20:50:24.066Z"
   },
   {
    "duration": 4,
    "start_time": "2024-12-09T20:50:24.072Z"
   },
   {
    "duration": 48,
    "start_time": "2024-12-09T20:50:24.077Z"
   },
   {
    "duration": 169,
    "start_time": "2024-12-09T20:50:24.127Z"
   },
   {
    "duration": 5,
    "start_time": "2024-12-09T20:50:24.298Z"
   },
   {
    "duration": 28,
    "start_time": "2024-12-09T20:50:24.304Z"
   },
   {
    "duration": 13,
    "start_time": "2024-12-09T20:50:24.334Z"
   },
   {
    "duration": 4,
    "start_time": "2024-12-09T20:51:41.206Z"
   },
   {
    "duration": 447,
    "start_time": "2024-12-09T20:52:07.927Z"
   },
   {
    "duration": 8,
    "start_time": "2024-12-09T20:52:58.936Z"
   },
   {
    "duration": 10,
    "start_time": "2024-12-09T20:53:12.686Z"
   },
   {
    "duration": 40,
    "start_time": "2024-12-09T20:59:13.120Z"
   },
   {
    "duration": 3,
    "start_time": "2024-12-09T21:01:53.141Z"
   },
   {
    "duration": 3,
    "start_time": "2024-12-09T21:02:01.307Z"
   },
   {
    "duration": 5,
    "start_time": "2024-12-09T21:02:20.993Z"
   },
   {
    "duration": 19,
    "start_time": "2024-12-09T21:02:27.678Z"
   },
   {
    "duration": 21,
    "start_time": "2024-12-09T21:02:48.010Z"
   },
   {
    "duration": 38,
    "start_time": "2024-12-09T21:03:29.670Z"
   },
   {
    "duration": 870,
    "start_time": "2024-12-09T21:04:21.685Z"
   },
   {
    "duration": 44,
    "start_time": "2024-12-09T21:04:22.557Z"
   },
   {
    "duration": 3,
    "start_time": "2024-12-09T21:04:22.603Z"
   },
   {
    "duration": 3,
    "start_time": "2024-12-09T21:04:22.608Z"
   },
   {
    "duration": 16,
    "start_time": "2024-12-09T21:04:22.626Z"
   },
   {
    "duration": 4,
    "start_time": "2024-12-09T21:04:22.644Z"
   },
   {
    "duration": 6,
    "start_time": "2024-12-09T21:04:22.649Z"
   },
   {
    "duration": 30,
    "start_time": "2024-12-09T21:04:22.656Z"
   },
   {
    "duration": 38,
    "start_time": "2024-12-09T21:04:22.688Z"
   },
   {
    "duration": 5,
    "start_time": "2024-12-09T21:04:22.727Z"
   },
   {
    "duration": 20,
    "start_time": "2024-12-09T21:04:22.733Z"
   },
   {
    "duration": 22,
    "start_time": "2024-12-09T21:04:22.755Z"
   },
   {
    "duration": 16,
    "start_time": "2024-12-09T21:04:22.778Z"
   },
   {
    "duration": 15,
    "start_time": "2024-12-09T21:04:22.823Z"
   },
   {
    "duration": 4,
    "start_time": "2024-12-09T21:04:22.840Z"
   },
   {
    "duration": 10,
    "start_time": "2024-12-09T21:04:22.846Z"
   },
   {
    "duration": 14,
    "start_time": "2024-12-09T21:04:22.857Z"
   },
   {
    "duration": 13,
    "start_time": "2024-12-09T21:04:22.873Z"
   },
   {
    "duration": 16,
    "start_time": "2024-12-09T21:04:22.924Z"
   },
   {
    "duration": 5,
    "start_time": "2024-12-09T21:04:22.942Z"
   },
   {
    "duration": 4,
    "start_time": "2024-12-09T21:04:22.949Z"
   },
   {
    "duration": 5,
    "start_time": "2024-12-09T21:04:22.955Z"
   },
   {
    "duration": 11,
    "start_time": "2024-12-09T21:04:22.962Z"
   },
   {
    "duration": 165,
    "start_time": "2024-12-09T21:04:22.975Z"
   },
   {
    "duration": 122,
    "start_time": "2024-12-09T21:04:23.142Z"
   },
   {
    "duration": 8,
    "start_time": "2024-12-09T21:04:23.265Z"
   },
   {
    "duration": 359,
    "start_time": "2024-12-09T21:04:23.275Z"
   },
   {
    "duration": 7,
    "start_time": "2024-12-09T21:04:23.637Z"
   },
   {
    "duration": 235,
    "start_time": "2024-12-09T21:04:23.646Z"
   },
   {
    "duration": 13,
    "start_time": "2024-12-09T21:04:23.883Z"
   },
   {
    "duration": 161,
    "start_time": "2024-12-09T21:04:23.897Z"
   },
   {
    "duration": 17,
    "start_time": "2024-12-09T21:04:24.060Z"
   },
   {
    "duration": 14,
    "start_time": "2024-12-09T21:04:24.079Z"
   },
   {
    "duration": 289,
    "start_time": "2024-12-09T21:04:24.095Z"
   },
   {
    "duration": 11,
    "start_time": "2024-12-09T21:04:24.386Z"
   },
   {
    "duration": 182,
    "start_time": "2024-12-09T21:04:24.399Z"
   },
   {
    "duration": 12,
    "start_time": "2024-12-09T21:04:24.583Z"
   },
   {
    "duration": 172,
    "start_time": "2024-12-09T21:04:24.597Z"
   },
   {
    "duration": 15,
    "start_time": "2024-12-09T21:04:24.770Z"
   },
   {
    "duration": 10,
    "start_time": "2024-12-09T21:04:24.786Z"
   },
   {
    "duration": 31,
    "start_time": "2024-12-09T21:04:24.802Z"
   },
   {
    "duration": 10,
    "start_time": "2024-12-09T21:04:24.835Z"
   },
   {
    "duration": 14,
    "start_time": "2024-12-09T21:04:24.846Z"
   },
   {
    "duration": 9,
    "start_time": "2024-12-09T21:04:24.862Z"
   },
   {
    "duration": 7,
    "start_time": "2024-12-09T21:04:24.873Z"
   },
   {
    "duration": 4,
    "start_time": "2024-12-09T21:04:24.881Z"
   },
   {
    "duration": 38,
    "start_time": "2024-12-09T21:04:24.886Z"
   },
   {
    "duration": 4,
    "start_time": "2024-12-09T21:04:24.926Z"
   },
   {
    "duration": 3,
    "start_time": "2024-12-09T21:04:24.933Z"
   },
   {
    "duration": 4,
    "start_time": "2024-12-09T21:04:24.937Z"
   },
   {
    "duration": 4,
    "start_time": "2024-12-09T21:04:24.943Z"
   },
   {
    "duration": 9,
    "start_time": "2024-12-09T21:04:24.948Z"
   },
   {
    "duration": 19,
    "start_time": "2024-12-09T21:04:24.958Z"
   },
   {
    "duration": 4,
    "start_time": "2024-12-09T21:04:24.979Z"
   },
   {
    "duration": 42,
    "start_time": "2024-12-09T21:04:24.984Z"
   },
   {
    "duration": 18,
    "start_time": "2024-12-09T21:04:25.028Z"
   },
   {
    "duration": 12,
    "start_time": "2024-12-09T21:04:25.048Z"
   },
   {
    "duration": 4,
    "start_time": "2024-12-09T21:04:25.062Z"
   },
   {
    "duration": 12,
    "start_time": "2024-12-09T21:04:25.067Z"
   },
   {
    "duration": 43,
    "start_time": "2024-12-09T21:04:25.081Z"
   },
   {
    "duration": 4,
    "start_time": "2024-12-09T21:04:25.126Z"
   },
   {
    "duration": 12,
    "start_time": "2024-12-09T21:04:25.132Z"
   },
   {
    "duration": 12,
    "start_time": "2024-12-09T21:04:25.146Z"
   },
   {
    "duration": 4,
    "start_time": "2024-12-09T21:04:25.160Z"
   },
   {
    "duration": 13,
    "start_time": "2024-12-09T21:04:25.166Z"
   },
   {
    "duration": 5,
    "start_time": "2024-12-09T21:04:25.180Z"
   },
   {
    "duration": 41,
    "start_time": "2024-12-09T21:04:25.187Z"
   },
   {
    "duration": 3,
    "start_time": "2024-12-09T21:04:25.230Z"
   },
   {
    "duration": 6,
    "start_time": "2024-12-09T21:04:25.235Z"
   },
   {
    "duration": 4,
    "start_time": "2024-12-09T21:04:25.242Z"
   },
   {
    "duration": 5,
    "start_time": "2024-12-09T21:04:25.247Z"
   },
   {
    "duration": 4,
    "start_time": "2024-12-09T21:04:25.253Z"
   },
   {
    "duration": 8,
    "start_time": "2024-12-09T21:04:25.259Z"
   },
   {
    "duration": 196,
    "start_time": "2024-12-09T21:04:25.270Z"
   },
   {
    "duration": 4,
    "start_time": "2024-12-09T21:04:25.468Z"
   },
   {
    "duration": 15,
    "start_time": "2024-12-09T21:04:25.474Z"
   },
   {
    "duration": 14,
    "start_time": "2024-12-09T21:04:25.491Z"
   },
   {
    "duration": 421,
    "start_time": "2024-12-09T21:04:28.370Z"
   },
   {
    "duration": 1920,
    "start_time": "2024-12-09T21:06:22.123Z"
   },
   {
    "duration": 838,
    "start_time": "2024-12-09T21:06:37.691Z"
   },
   {
    "duration": 44,
    "start_time": "2024-12-09T21:06:38.531Z"
   },
   {
    "duration": 5,
    "start_time": "2024-12-09T21:06:38.577Z"
   },
   {
    "duration": 2,
    "start_time": "2024-12-09T21:06:38.585Z"
   },
   {
    "duration": 14,
    "start_time": "2024-12-09T21:06:38.589Z"
   },
   {
    "duration": 5,
    "start_time": "2024-12-09T21:06:38.623Z"
   },
   {
    "duration": 6,
    "start_time": "2024-12-09T21:06:38.629Z"
   },
   {
    "duration": 30,
    "start_time": "2024-12-09T21:06:38.637Z"
   },
   {
    "duration": 9,
    "start_time": "2024-12-09T21:06:38.669Z"
   },
   {
    "duration": 4,
    "start_time": "2024-12-09T21:06:38.681Z"
   },
   {
    "duration": 46,
    "start_time": "2024-12-09T21:06:38.687Z"
   },
   {
    "duration": 22,
    "start_time": "2024-12-09T21:06:38.735Z"
   },
   {
    "duration": 14,
    "start_time": "2024-12-09T21:06:38.759Z"
   },
   {
    "duration": 14,
    "start_time": "2024-12-09T21:06:38.774Z"
   },
   {
    "duration": 4,
    "start_time": "2024-12-09T21:06:38.790Z"
   },
   {
    "duration": 9,
    "start_time": "2024-12-09T21:06:38.825Z"
   },
   {
    "duration": 13,
    "start_time": "2024-12-09T21:06:38.836Z"
   },
   {
    "duration": 14,
    "start_time": "2024-12-09T21:06:38.850Z"
   },
   {
    "duration": 14,
    "start_time": "2024-12-09T21:06:38.866Z"
   },
   {
    "duration": 43,
    "start_time": "2024-12-09T21:06:38.882Z"
   },
   {
    "duration": 4,
    "start_time": "2024-12-09T21:06:38.927Z"
   },
   {
    "duration": 5,
    "start_time": "2024-12-09T21:06:38.933Z"
   },
   {
    "duration": 12,
    "start_time": "2024-12-09T21:06:38.940Z"
   },
   {
    "duration": 149,
    "start_time": "2024-12-09T21:06:38.954Z"
   },
   {
    "duration": 123,
    "start_time": "2024-12-09T21:06:39.105Z"
   },
   {
    "duration": 7,
    "start_time": "2024-12-09T21:06:39.230Z"
   },
   {
    "duration": 348,
    "start_time": "2024-12-09T21:06:39.239Z"
   },
   {
    "duration": 7,
    "start_time": "2024-12-09T21:06:39.593Z"
   },
   {
    "duration": 224,
    "start_time": "2024-12-09T21:06:39.602Z"
   },
   {
    "duration": 12,
    "start_time": "2024-12-09T21:06:39.828Z"
   },
   {
    "duration": 162,
    "start_time": "2024-12-09T21:06:39.841Z"
   },
   {
    "duration": 25,
    "start_time": "2024-12-09T21:06:40.005Z"
   },
   {
    "duration": 13,
    "start_time": "2024-12-09T21:06:40.031Z"
   },
   {
    "duration": 286,
    "start_time": "2024-12-09T21:06:40.046Z"
   },
   {
    "duration": 13,
    "start_time": "2024-12-09T21:06:40.334Z"
   },
   {
    "duration": 188,
    "start_time": "2024-12-09T21:06:40.348Z"
   },
   {
    "duration": 14,
    "start_time": "2024-12-09T21:06:40.538Z"
   },
   {
    "duration": 164,
    "start_time": "2024-12-09T21:06:40.553Z"
   },
   {
    "duration": 15,
    "start_time": "2024-12-09T21:06:40.719Z"
   },
   {
    "duration": 10,
    "start_time": "2024-12-09T21:06:40.736Z"
   },
   {
    "duration": 14,
    "start_time": "2024-12-09T21:06:40.747Z"
   },
   {
    "duration": 11,
    "start_time": "2024-12-09T21:06:40.763Z"
   },
   {
    "duration": 13,
    "start_time": "2024-12-09T21:06:40.775Z"
   },
   {
    "duration": 43,
    "start_time": "2024-12-09T21:06:40.789Z"
   },
   {
    "duration": 6,
    "start_time": "2024-12-09T21:06:40.834Z"
   },
   {
    "duration": 4,
    "start_time": "2024-12-09T21:06:40.842Z"
   },
   {
    "duration": 4,
    "start_time": "2024-12-09T21:06:40.847Z"
   },
   {
    "duration": 5,
    "start_time": "2024-12-09T21:06:40.852Z"
   },
   {
    "duration": 3,
    "start_time": "2024-12-09T21:06:40.858Z"
   },
   {
    "duration": 5,
    "start_time": "2024-12-09T21:06:40.862Z"
   },
   {
    "duration": 4,
    "start_time": "2024-12-09T21:06:40.869Z"
   },
   {
    "duration": 50,
    "start_time": "2024-12-09T21:06:40.875Z"
   },
   {
    "duration": 19,
    "start_time": "2024-12-09T21:06:40.927Z"
   },
   {
    "duration": 5,
    "start_time": "2024-12-09T21:06:40.947Z"
   },
   {
    "duration": 6,
    "start_time": "2024-12-09T21:06:40.954Z"
   },
   {
    "duration": 18,
    "start_time": "2024-12-09T21:06:40.962Z"
   },
   {
    "duration": 43,
    "start_time": "2024-12-09T21:06:40.981Z"
   },
   {
    "duration": 5,
    "start_time": "2024-12-09T21:06:41.027Z"
   },
   {
    "duration": 13,
    "start_time": "2024-12-09T21:06:41.034Z"
   },
   {
    "duration": 12,
    "start_time": "2024-12-09T21:06:41.049Z"
   },
   {
    "duration": 4,
    "start_time": "2024-12-09T21:06:41.063Z"
   },
   {
    "duration": 11,
    "start_time": "2024-12-09T21:06:41.068Z"
   },
   {
    "duration": 44,
    "start_time": "2024-12-09T21:06:41.081Z"
   },
   {
    "duration": 4,
    "start_time": "2024-12-09T21:06:41.127Z"
   },
   {
    "duration": 12,
    "start_time": "2024-12-09T21:06:41.133Z"
   },
   {
    "duration": 6,
    "start_time": "2024-12-09T21:06:41.147Z"
   },
   {
    "duration": 5,
    "start_time": "2024-12-09T21:06:41.154Z"
   },
   {
    "duration": 3,
    "start_time": "2024-12-09T21:06:41.161Z"
   },
   {
    "duration": 5,
    "start_time": "2024-12-09T21:06:41.166Z"
   },
   {
    "duration": 4,
    "start_time": "2024-12-09T21:06:41.173Z"
   },
   {
    "duration": 6,
    "start_time": "2024-12-09T21:06:41.178Z"
   },
   {
    "duration": 5,
    "start_time": "2024-12-09T21:06:41.225Z"
   },
   {
    "duration": 8,
    "start_time": "2024-12-09T21:06:41.232Z"
   },
   {
    "duration": 183,
    "start_time": "2024-12-09T21:06:41.241Z"
   },
   {
    "duration": 4,
    "start_time": "2024-12-09T21:06:41.426Z"
   },
   {
    "duration": 15,
    "start_time": "2024-12-09T21:06:41.432Z"
   },
   {
    "duration": 13,
    "start_time": "2024-12-09T21:06:41.449Z"
   },
   {
    "duration": 447,
    "start_time": "2024-12-09T21:06:41.464Z"
   },
   {
    "duration": 20,
    "start_time": "2024-12-09T21:08:09.930Z"
   },
   {
    "duration": 2699,
    "start_time": "2024-12-09T23:16:31.858Z"
   },
   {
    "duration": 0,
    "start_time": "2024-12-09T23:16:34.562Z"
   },
   {
    "duration": 0,
    "start_time": "2024-12-09T23:16:34.563Z"
   },
   {
    "duration": 0,
    "start_time": "2024-12-09T23:16:34.565Z"
   },
   {
    "duration": 0,
    "start_time": "2024-12-09T23:16:34.566Z"
   },
   {
    "duration": 0,
    "start_time": "2024-12-09T23:16:34.567Z"
   },
   {
    "duration": 0,
    "start_time": "2024-12-09T23:16:34.568Z"
   },
   {
    "duration": 0,
    "start_time": "2024-12-09T23:16:34.569Z"
   },
   {
    "duration": 0,
    "start_time": "2024-12-09T23:16:34.570Z"
   },
   {
    "duration": 0,
    "start_time": "2024-12-09T23:16:34.571Z"
   },
   {
    "duration": 0,
    "start_time": "2024-12-09T23:16:34.572Z"
   },
   {
    "duration": 0,
    "start_time": "2024-12-09T23:16:34.573Z"
   },
   {
    "duration": 0,
    "start_time": "2024-12-09T23:16:34.574Z"
   },
   {
    "duration": 0,
    "start_time": "2024-12-09T23:16:34.575Z"
   },
   {
    "duration": 0,
    "start_time": "2024-12-09T23:16:34.576Z"
   },
   {
    "duration": 0,
    "start_time": "2024-12-09T23:16:34.577Z"
   },
   {
    "duration": 0,
    "start_time": "2024-12-09T23:16:34.579Z"
   },
   {
    "duration": 0,
    "start_time": "2024-12-09T23:16:34.579Z"
   },
   {
    "duration": 0,
    "start_time": "2024-12-09T23:16:34.608Z"
   },
   {
    "duration": 0,
    "start_time": "2024-12-09T23:16:34.609Z"
   },
   {
    "duration": 0,
    "start_time": "2024-12-09T23:16:34.610Z"
   },
   {
    "duration": 0,
    "start_time": "2024-12-09T23:16:34.611Z"
   },
   {
    "duration": 0,
    "start_time": "2024-12-09T23:16:34.612Z"
   },
   {
    "duration": 0,
    "start_time": "2024-12-09T23:16:34.613Z"
   },
   {
    "duration": 0,
    "start_time": "2024-12-09T23:16:34.615Z"
   },
   {
    "duration": 0,
    "start_time": "2024-12-09T23:16:34.616Z"
   },
   {
    "duration": 0,
    "start_time": "2024-12-09T23:16:34.617Z"
   },
   {
    "duration": 0,
    "start_time": "2024-12-09T23:16:34.618Z"
   },
   {
    "duration": 0,
    "start_time": "2024-12-09T23:16:34.619Z"
   },
   {
    "duration": 0,
    "start_time": "2024-12-09T23:16:34.620Z"
   },
   {
    "duration": 0,
    "start_time": "2024-12-09T23:16:34.621Z"
   },
   {
    "duration": 0,
    "start_time": "2024-12-09T23:16:34.622Z"
   },
   {
    "duration": 0,
    "start_time": "2024-12-09T23:16:34.623Z"
   },
   {
    "duration": 0,
    "start_time": "2024-12-09T23:16:34.624Z"
   },
   {
    "duration": 0,
    "start_time": "2024-12-09T23:16:34.625Z"
   },
   {
    "duration": 1,
    "start_time": "2024-12-09T23:16:34.626Z"
   },
   {
    "duration": 0,
    "start_time": "2024-12-09T23:16:34.628Z"
   },
   {
    "duration": 0,
    "start_time": "2024-12-09T23:16:34.629Z"
   },
   {
    "duration": 0,
    "start_time": "2024-12-09T23:16:34.630Z"
   },
   {
    "duration": 0,
    "start_time": "2024-12-09T23:16:34.631Z"
   },
   {
    "duration": 0,
    "start_time": "2024-12-09T23:16:34.635Z"
   },
   {
    "duration": 0,
    "start_time": "2024-12-09T23:16:34.637Z"
   },
   {
    "duration": 0,
    "start_time": "2024-12-09T23:16:34.638Z"
   },
   {
    "duration": 0,
    "start_time": "2024-12-09T23:16:34.640Z"
   },
   {
    "duration": 0,
    "start_time": "2024-12-09T23:16:34.641Z"
   },
   {
    "duration": 0,
    "start_time": "2024-12-09T23:16:34.643Z"
   },
   {
    "duration": 0,
    "start_time": "2024-12-09T23:16:34.644Z"
   },
   {
    "duration": 0,
    "start_time": "2024-12-09T23:16:34.645Z"
   },
   {
    "duration": 0,
    "start_time": "2024-12-09T23:16:34.646Z"
   },
   {
    "duration": 0,
    "start_time": "2024-12-09T23:16:34.647Z"
   },
   {
    "duration": 0,
    "start_time": "2024-12-09T23:16:34.648Z"
   },
   {
    "duration": 0,
    "start_time": "2024-12-09T23:16:34.708Z"
   },
   {
    "duration": 0,
    "start_time": "2024-12-09T23:16:34.710Z"
   },
   {
    "duration": 0,
    "start_time": "2024-12-09T23:16:34.711Z"
   },
   {
    "duration": 0,
    "start_time": "2024-12-09T23:16:34.712Z"
   },
   {
    "duration": 0,
    "start_time": "2024-12-09T23:16:34.713Z"
   },
   {
    "duration": 0,
    "start_time": "2024-12-09T23:16:34.715Z"
   },
   {
    "duration": 0,
    "start_time": "2024-12-09T23:16:34.715Z"
   },
   {
    "duration": 0,
    "start_time": "2024-12-09T23:16:34.717Z"
   },
   {
    "duration": 0,
    "start_time": "2024-12-09T23:16:34.718Z"
   },
   {
    "duration": 0,
    "start_time": "2024-12-09T23:16:34.719Z"
   },
   {
    "duration": 0,
    "start_time": "2024-12-09T23:16:34.720Z"
   },
   {
    "duration": 0,
    "start_time": "2024-12-09T23:16:34.721Z"
   },
   {
    "duration": 0,
    "start_time": "2024-12-09T23:16:34.722Z"
   },
   {
    "duration": 0,
    "start_time": "2024-12-09T23:16:34.722Z"
   },
   {
    "duration": 0,
    "start_time": "2024-12-09T23:16:34.723Z"
   },
   {
    "duration": 0,
    "start_time": "2024-12-09T23:16:34.725Z"
   },
   {
    "duration": 0,
    "start_time": "2024-12-09T23:16:34.725Z"
   },
   {
    "duration": 0,
    "start_time": "2024-12-09T23:16:34.726Z"
   },
   {
    "duration": 0,
    "start_time": "2024-12-09T23:16:34.728Z"
   },
   {
    "duration": 0,
    "start_time": "2024-12-09T23:16:34.730Z"
   },
   {
    "duration": 0,
    "start_time": "2024-12-09T23:16:34.731Z"
   },
   {
    "duration": 0,
    "start_time": "2024-12-09T23:16:34.732Z"
   },
   {
    "duration": 0,
    "start_time": "2024-12-09T23:16:34.734Z"
   },
   {
    "duration": 0,
    "start_time": "2024-12-09T23:16:34.735Z"
   },
   {
    "duration": 0,
    "start_time": "2024-12-09T23:16:34.736Z"
   },
   {
    "duration": 0,
    "start_time": "2024-12-09T23:16:34.738Z"
   },
   {
    "duration": 0,
    "start_time": "2024-12-09T23:16:34.739Z"
   },
   {
    "duration": 3,
    "start_time": "2024-12-09T23:17:26.800Z"
   },
   {
    "duration": 2,
    "start_time": "2024-12-09T23:17:29.894Z"
   },
   {
    "duration": 65,
    "start_time": "2024-12-09T23:17:29.899Z"
   },
   {
    "duration": 3,
    "start_time": "2024-12-09T23:17:29.966Z"
   },
   {
    "duration": 3,
    "start_time": "2024-12-09T23:17:29.970Z"
   },
   {
    "duration": 15,
    "start_time": "2024-12-09T23:17:29.975Z"
   },
   {
    "duration": 4,
    "start_time": "2024-12-09T23:17:29.991Z"
   },
   {
    "duration": 13,
    "start_time": "2024-12-09T23:17:29.997Z"
   },
   {
    "duration": 30,
    "start_time": "2024-12-09T23:17:30.012Z"
   },
   {
    "duration": 9,
    "start_time": "2024-12-09T23:17:30.043Z"
   },
   {
    "duration": 3,
    "start_time": "2024-12-09T23:17:30.053Z"
   },
   {
    "duration": 16,
    "start_time": "2024-12-09T23:17:30.058Z"
   },
   {
    "duration": 51,
    "start_time": "2024-12-09T23:17:30.076Z"
   },
   {
    "duration": 15,
    "start_time": "2024-12-09T23:17:30.128Z"
   },
   {
    "duration": 13,
    "start_time": "2024-12-09T23:17:30.147Z"
   },
   {
    "duration": 3,
    "start_time": "2024-12-09T23:17:30.162Z"
   },
   {
    "duration": 43,
    "start_time": "2024-12-09T23:17:30.167Z"
   },
   {
    "duration": 14,
    "start_time": "2024-12-09T23:17:30.212Z"
   },
   {
    "duration": 13,
    "start_time": "2024-12-09T23:17:30.228Z"
   },
   {
    "duration": 15,
    "start_time": "2024-12-09T23:17:30.242Z"
   },
   {
    "duration": 6,
    "start_time": "2024-12-09T23:17:30.259Z"
   },
   {
    "duration": 4,
    "start_time": "2024-12-09T23:17:30.267Z"
   },
   {
    "duration": 39,
    "start_time": "2024-12-09T23:17:30.273Z"
   },
   {
    "duration": 11,
    "start_time": "2024-12-09T23:17:30.314Z"
   },
   {
    "duration": 135,
    "start_time": "2024-12-09T23:17:30.326Z"
   },
   {
    "duration": 124,
    "start_time": "2024-12-09T23:17:30.463Z"
   },
   {
    "duration": 8,
    "start_time": "2024-12-09T23:17:30.589Z"
   },
   {
    "duration": 280,
    "start_time": "2024-12-09T23:17:30.598Z"
   },
   {
    "duration": 7,
    "start_time": "2024-12-09T23:17:30.880Z"
   },
   {
    "duration": 277,
    "start_time": "2024-12-09T23:17:30.889Z"
   },
   {
    "duration": 10,
    "start_time": "2024-12-09T23:17:31.168Z"
   },
   {
    "duration": 158,
    "start_time": "2024-12-09T23:17:31.179Z"
   },
   {
    "duration": 14,
    "start_time": "2024-12-09T23:17:31.339Z"
   },
   {
    "duration": 13,
    "start_time": "2024-12-09T23:17:31.355Z"
   },
   {
    "duration": 347,
    "start_time": "2024-12-09T23:17:31.370Z"
   },
   {
    "duration": 13,
    "start_time": "2024-12-09T23:17:31.719Z"
   },
   {
    "duration": 181,
    "start_time": "2024-12-09T23:17:31.734Z"
   },
   {
    "duration": 11,
    "start_time": "2024-12-09T23:17:31.917Z"
   },
   {
    "duration": 159,
    "start_time": "2024-12-09T23:17:31.929Z"
   },
   {
    "duration": 19,
    "start_time": "2024-12-09T23:17:32.090Z"
   },
   {
    "duration": 10,
    "start_time": "2024-12-09T23:17:32.110Z"
   },
   {
    "duration": 13,
    "start_time": "2024-12-09T23:17:32.124Z"
   },
   {
    "duration": 9,
    "start_time": "2024-12-09T23:17:32.138Z"
   },
   {
    "duration": 13,
    "start_time": "2024-12-09T23:17:32.149Z"
   },
   {
    "duration": 10,
    "start_time": "2024-12-09T23:17:32.164Z"
   },
   {
    "duration": 37,
    "start_time": "2024-12-09T23:17:32.176Z"
   },
   {
    "duration": 3,
    "start_time": "2024-12-09T23:17:32.215Z"
   },
   {
    "duration": 3,
    "start_time": "2024-12-09T23:17:32.220Z"
   },
   {
    "duration": 4,
    "start_time": "2024-12-09T23:17:32.224Z"
   },
   {
    "duration": 3,
    "start_time": "2024-12-09T23:17:32.229Z"
   },
   {
    "duration": 4,
    "start_time": "2024-12-09T23:17:32.234Z"
   },
   {
    "duration": 4,
    "start_time": "2024-12-09T23:17:32.239Z"
   },
   {
    "duration": 8,
    "start_time": "2024-12-09T23:17:32.245Z"
   },
   {
    "duration": 55,
    "start_time": "2024-12-09T23:17:32.254Z"
   },
   {
    "duration": 4,
    "start_time": "2024-12-09T23:17:32.311Z"
   },
   {
    "duration": 6,
    "start_time": "2024-12-09T23:17:32.318Z"
   },
   {
    "duration": 19,
    "start_time": "2024-12-09T23:17:32.326Z"
   },
   {
    "duration": 12,
    "start_time": "2024-12-09T23:17:32.347Z"
   },
   {
    "duration": 4,
    "start_time": "2024-12-09T23:17:32.360Z"
   },
   {
    "duration": 43,
    "start_time": "2024-12-09T23:17:32.366Z"
   },
   {
    "duration": 12,
    "start_time": "2024-12-09T23:17:32.410Z"
   },
   {
    "duration": 3,
    "start_time": "2024-12-09T23:17:32.424Z"
   },
   {
    "duration": 11,
    "start_time": "2024-12-09T23:17:32.429Z"
   },
   {
    "duration": 11,
    "start_time": "2024-12-09T23:17:32.443Z"
   },
   {
    "duration": 4,
    "start_time": "2024-12-09T23:17:32.455Z"
   },
   {
    "duration": 13,
    "start_time": "2024-12-09T23:17:32.460Z"
   },
   {
    "duration": 37,
    "start_time": "2024-12-09T23:17:32.475Z"
   },
   {
    "duration": 5,
    "start_time": "2024-12-09T23:17:32.513Z"
   },
   {
    "duration": 4,
    "start_time": "2024-12-09T23:17:32.519Z"
   },
   {
    "duration": 5,
    "start_time": "2024-12-09T23:17:32.525Z"
   },
   {
    "duration": 3,
    "start_time": "2024-12-09T23:17:32.531Z"
   },
   {
    "duration": 4,
    "start_time": "2024-12-09T23:17:32.536Z"
   },
   {
    "duration": 4,
    "start_time": "2024-12-09T23:17:32.542Z"
   },
   {
    "duration": 8,
    "start_time": "2024-12-09T23:17:32.548Z"
   },
   {
    "duration": 194,
    "start_time": "2024-12-09T23:17:32.557Z"
   },
   {
    "duration": 4,
    "start_time": "2024-12-09T23:17:32.753Z"
   },
   {
    "duration": 16,
    "start_time": "2024-12-09T23:17:32.758Z"
   },
   {
    "duration": 13,
    "start_time": "2024-12-09T23:17:32.775Z"
   },
   {
    "duration": 37,
    "start_time": "2024-12-09T23:17:32.790Z"
   },
   {
    "duration": 5,
    "start_time": "2024-12-09T23:29:44.346Z"
   },
   {
    "duration": 5,
    "start_time": "2024-12-09T23:29:49.850Z"
   },
   {
    "duration": 6,
    "start_time": "2024-12-09T23:30:18.422Z"
   },
   {
    "duration": 5,
    "start_time": "2024-12-09T23:31:19.032Z"
   },
   {
    "duration": 4,
    "start_time": "2024-12-09T23:31:29.228Z"
   },
   {
    "duration": 4,
    "start_time": "2024-12-09T23:32:30.086Z"
   },
   {
    "duration": 551,
    "start_time": "2024-12-09T23:33:07.442Z"
   },
   {
    "duration": 41,
    "start_time": "2024-12-09T23:33:42.987Z"
   },
   {
    "duration": 16,
    "start_time": "2024-12-09T23:37:03.327Z"
   },
   {
    "duration": 78,
    "start_time": "2024-12-09T23:38:04.711Z"
   },
   {
    "duration": 6,
    "start_time": "2024-12-09T23:38:37.343Z"
   },
   {
    "duration": 109,
    "start_time": "2024-12-09T23:39:31.814Z"
   },
   {
    "duration": 105,
    "start_time": "2024-12-09T23:41:24.576Z"
   },
   {
    "duration": 4,
    "start_time": "2024-12-09T23:42:52.380Z"
   },
   {
    "duration": 3,
    "start_time": "2024-12-09T23:43:11.721Z"
   },
   {
    "duration": 95,
    "start_time": "2024-12-09T23:49:34.726Z"
   },
   {
    "duration": 6,
    "start_time": "2024-12-09T23:49:47.327Z"
   },
   {
    "duration": 4,
    "start_time": "2024-12-09T23:51:49.624Z"
   },
   {
    "duration": 4,
    "start_time": "2024-12-09T23:52:04.350Z"
   },
   {
    "duration": 5,
    "start_time": "2024-12-10T00:03:01.163Z"
   },
   {
    "duration": 102,
    "start_time": "2024-12-10T00:03:10.336Z"
   },
   {
    "duration": 56,
    "start_time": "2024-12-10T00:03:37.136Z"
   },
   {
    "duration": 3,
    "start_time": "2024-12-10T00:05:45.104Z"
   },
   {
    "duration": 4,
    "start_time": "2024-12-10T00:06:20.615Z"
   },
   {
    "duration": 27,
    "start_time": "2024-12-10T00:08:27.173Z"
   },
   {
    "duration": 5,
    "start_time": "2024-12-10T00:08:31.820Z"
   },
   {
    "duration": 5,
    "start_time": "2024-12-10T00:08:40.108Z"
   },
   {
    "duration": 5,
    "start_time": "2024-12-10T00:10:15.838Z"
   },
   {
    "duration": 5,
    "start_time": "2024-12-10T00:10:29.137Z"
   },
   {
    "duration": 2,
    "start_time": "2024-12-10T00:12:00.117Z"
   },
   {
    "duration": 5,
    "start_time": "2024-12-10T00:12:08.364Z"
   },
   {
    "duration": 3,
    "start_time": "2024-12-10T00:12:43.732Z"
   },
   {
    "duration": 6,
    "start_time": "2024-12-10T00:14:08.775Z"
   },
   {
    "duration": 5,
    "start_time": "2024-12-10T00:14:42.927Z"
   },
   {
    "duration": 6,
    "start_time": "2024-12-10T00:15:06.812Z"
   },
   {
    "duration": 5,
    "start_time": "2024-12-10T00:23:05.341Z"
   },
   {
    "duration": 5,
    "start_time": "2024-12-10T00:24:02.823Z"
   },
   {
    "duration": 6,
    "start_time": "2024-12-10T00:25:43.721Z"
   },
   {
    "duration": 6,
    "start_time": "2024-12-10T00:25:52.003Z"
   },
   {
    "duration": 5,
    "start_time": "2024-12-10T00:26:03.023Z"
   },
   {
    "duration": 6,
    "start_time": "2024-12-10T00:26:14.967Z"
   },
   {
    "duration": 4,
    "start_time": "2024-12-10T00:26:34.307Z"
   },
   {
    "duration": 2522,
    "start_time": "2024-12-10T04:26:52.917Z"
   },
   {
    "duration": 71,
    "start_time": "2024-12-10T04:26:55.442Z"
   },
   {
    "duration": 3,
    "start_time": "2024-12-10T04:26:55.514Z"
   },
   {
    "duration": 3,
    "start_time": "2024-12-10T04:26:55.521Z"
   },
   {
    "duration": 14,
    "start_time": "2024-12-10T04:26:55.527Z"
   },
   {
    "duration": 4,
    "start_time": "2024-12-10T04:26:55.542Z"
   },
   {
    "duration": 5,
    "start_time": "2024-12-10T04:26:55.548Z"
   },
   {
    "duration": 52,
    "start_time": "2024-12-10T04:26:55.556Z"
   },
   {
    "duration": 8,
    "start_time": "2024-12-10T04:26:55.610Z"
   },
   {
    "duration": 4,
    "start_time": "2024-12-10T04:26:55.619Z"
   },
   {
    "duration": 16,
    "start_time": "2024-12-10T04:26:55.624Z"
   },
   {
    "duration": 20,
    "start_time": "2024-12-10T04:26:55.642Z"
   },
   {
    "duration": 46,
    "start_time": "2024-12-10T04:26:55.664Z"
   },
   {
    "duration": 14,
    "start_time": "2024-12-10T04:26:55.714Z"
   },
   {
    "duration": 4,
    "start_time": "2024-12-10T04:26:55.730Z"
   },
   {
    "duration": 8,
    "start_time": "2024-12-10T04:26:55.736Z"
   },
   {
    "duration": 12,
    "start_time": "2024-12-10T04:26:55.746Z"
   },
   {
    "duration": 12,
    "start_time": "2024-12-10T04:26:55.760Z"
   },
   {
    "duration": 47,
    "start_time": "2024-12-10T04:26:55.773Z"
   },
   {
    "duration": 5,
    "start_time": "2024-12-10T04:26:55.821Z"
   },
   {
    "duration": 3,
    "start_time": "2024-12-10T04:26:55.828Z"
   },
   {
    "duration": 4,
    "start_time": "2024-12-10T04:26:55.833Z"
   },
   {
    "duration": 10,
    "start_time": "2024-12-10T04:26:55.839Z"
   },
   {
    "duration": 149,
    "start_time": "2024-12-10T04:26:55.850Z"
   },
   {
    "duration": 119,
    "start_time": "2024-12-10T04:26:56.001Z"
   },
   {
    "duration": 7,
    "start_time": "2024-12-10T04:26:56.122Z"
   },
   {
    "duration": 283,
    "start_time": "2024-12-10T04:26:56.130Z"
   },
   {
    "duration": 9,
    "start_time": "2024-12-10T04:26:56.415Z"
   },
   {
    "duration": 213,
    "start_time": "2024-12-10T04:26:56.425Z"
   },
   {
    "duration": 11,
    "start_time": "2024-12-10T04:26:56.640Z"
   },
   {
    "duration": 165,
    "start_time": "2024-12-10T04:26:56.653Z"
   },
   {
    "duration": 15,
    "start_time": "2024-12-10T04:26:56.820Z"
   },
   {
    "duration": 13,
    "start_time": "2024-12-10T04:26:56.836Z"
   },
   {
    "duration": 282,
    "start_time": "2024-12-10T04:26:56.851Z"
   },
   {
    "duration": 12,
    "start_time": "2024-12-10T04:26:57.135Z"
   },
   {
    "duration": 193,
    "start_time": "2024-12-10T04:26:57.149Z"
   },
   {
    "duration": 12,
    "start_time": "2024-12-10T04:26:57.345Z"
   },
   {
    "duration": 168,
    "start_time": "2024-12-10T04:26:57.359Z"
   },
   {
    "duration": 14,
    "start_time": "2024-12-10T04:26:57.529Z"
   },
   {
    "duration": 9,
    "start_time": "2024-12-10T04:26:57.545Z"
   },
   {
    "duration": 13,
    "start_time": "2024-12-10T04:26:57.560Z"
   },
   {
    "duration": 92,
    "start_time": "2024-12-10T04:26:57.574Z"
   },
   {
    "duration": 13,
    "start_time": "2024-12-10T04:26:57.668Z"
   },
   {
    "duration": 8,
    "start_time": "2024-12-10T04:26:57.683Z"
   },
   {
    "duration": 7,
    "start_time": "2024-12-10T04:26:57.709Z"
   },
   {
    "duration": 5,
    "start_time": "2024-12-10T04:26:57.717Z"
   },
   {
    "duration": 4,
    "start_time": "2024-12-10T04:26:57.724Z"
   },
   {
    "duration": 3,
    "start_time": "2024-12-10T04:26:57.730Z"
   },
   {
    "duration": 4,
    "start_time": "2024-12-10T04:26:57.735Z"
   },
   {
    "duration": 5,
    "start_time": "2024-12-10T04:26:57.740Z"
   },
   {
    "duration": 4,
    "start_time": "2024-12-10T04:26:57.747Z"
   },
   {
    "duration": 8,
    "start_time": "2024-12-10T04:26:57.752Z"
   },
   {
    "duration": 50,
    "start_time": "2024-12-10T04:26:57.761Z"
   },
   {
    "duration": 6,
    "start_time": "2024-12-10T04:26:57.814Z"
   },
   {
    "duration": 5,
    "start_time": "2024-12-10T04:26:57.822Z"
   },
   {
    "duration": 22,
    "start_time": "2024-12-10T04:26:57.828Z"
   },
   {
    "duration": 13,
    "start_time": "2024-12-10T04:26:57.852Z"
   },
   {
    "duration": 4,
    "start_time": "2024-12-10T04:26:57.866Z"
   },
   {
    "duration": 38,
    "start_time": "2024-12-10T04:26:57.872Z"
   },
   {
    "duration": 12,
    "start_time": "2024-12-10T04:26:57.912Z"
   },
   {
    "duration": 4,
    "start_time": "2024-12-10T04:26:57.925Z"
   },
   {
    "duration": 10,
    "start_time": "2024-12-10T04:26:57.931Z"
   },
   {
    "duration": 12,
    "start_time": "2024-12-10T04:26:57.943Z"
   },
   {
    "duration": 4,
    "start_time": "2024-12-10T04:26:57.956Z"
   },
   {
    "duration": 12,
    "start_time": "2024-12-10T04:26:57.962Z"
   },
   {
    "duration": 5,
    "start_time": "2024-12-10T04:26:58.008Z"
   },
   {
    "duration": 5,
    "start_time": "2024-12-10T04:26:58.014Z"
   },
   {
    "duration": 3,
    "start_time": "2024-12-10T04:26:58.020Z"
   },
   {
    "duration": 5,
    "start_time": "2024-12-10T04:26:58.025Z"
   },
   {
    "duration": 3,
    "start_time": "2024-12-10T04:26:58.033Z"
   },
   {
    "duration": 4,
    "start_time": "2024-12-10T04:26:58.038Z"
   },
   {
    "duration": 4,
    "start_time": "2024-12-10T04:26:58.045Z"
   },
   {
    "duration": 7,
    "start_time": "2024-12-10T04:26:58.051Z"
   },
   {
    "duration": 190,
    "start_time": "2024-12-10T04:26:58.060Z"
   },
   {
    "duration": 5,
    "start_time": "2024-12-10T04:26:58.251Z"
   },
   {
    "duration": 16,
    "start_time": "2024-12-10T04:26:58.258Z"
   },
   {
    "duration": 33,
    "start_time": "2024-12-10T04:26:58.276Z"
   },
   {
    "duration": 4,
    "start_time": "2024-12-10T04:26:58.310Z"
   },
   {
    "duration": 5,
    "start_time": "2024-12-10T04:26:58.316Z"
   },
   {
    "duration": 3,
    "start_time": "2024-12-10T04:26:58.324Z"
   },
   {
    "duration": 127,
    "start_time": "2024-12-10T04:26:58.329Z"
   },
   {
    "duration": 4,
    "start_time": "2024-12-10T04:26:58.458Z"
   },
   {
    "duration": 5,
    "start_time": "2024-12-10T04:26:58.463Z"
   },
   {
    "duration": 3,
    "start_time": "2024-12-10T04:26:58.469Z"
   },
   {
    "duration": 4,
    "start_time": "2024-12-10T04:26:58.474Z"
   },
   {
    "duration": 17,
    "start_time": "2024-12-10T04:32:54.169Z"
   },
   {
    "duration": 4,
    "start_time": "2024-12-10T04:36:01.094Z"
   },
   {
    "duration": 5,
    "start_time": "2024-12-10T04:36:14.914Z"
   },
   {
    "duration": 5,
    "start_time": "2024-12-10T04:43:22.278Z"
   },
   {
    "duration": 4,
    "start_time": "2024-12-10T04:43:39.715Z"
   },
   {
    "duration": 11,
    "start_time": "2024-12-10T04:43:51.698Z"
   },
   {
    "duration": 9,
    "start_time": "2024-12-10T04:43:56.921Z"
   },
   {
    "duration": 17,
    "start_time": "2024-12-10T04:46:37.474Z"
   },
   {
    "duration": 158,
    "start_time": "2024-12-10T04:53:11.737Z"
   },
   {
    "duration": 889,
    "start_time": "2024-12-10T04:53:16.711Z"
   },
   {
    "duration": 47,
    "start_time": "2024-12-10T04:53:17.602Z"
   },
   {
    "duration": 3,
    "start_time": "2024-12-10T04:53:17.650Z"
   },
   {
    "duration": 4,
    "start_time": "2024-12-10T04:53:17.654Z"
   },
   {
    "duration": 14,
    "start_time": "2024-12-10T04:53:17.661Z"
   },
   {
    "duration": 4,
    "start_time": "2024-12-10T04:53:17.676Z"
   },
   {
    "duration": 29,
    "start_time": "2024-12-10T04:53:17.681Z"
   },
   {
    "duration": 35,
    "start_time": "2024-12-10T04:53:17.712Z"
   },
   {
    "duration": 8,
    "start_time": "2024-12-10T04:53:17.748Z"
   },
   {
    "duration": 3,
    "start_time": "2024-12-10T04:53:17.758Z"
   },
   {
    "duration": 19,
    "start_time": "2024-12-10T04:53:17.763Z"
   },
   {
    "duration": 98,
    "start_time": "2024-12-10T04:53:17.784Z"
   },
   {
    "duration": 27,
    "start_time": "2024-12-10T04:53:17.884Z"
   },
   {
    "duration": 12,
    "start_time": "2024-12-10T04:53:17.915Z"
   },
   {
    "duration": 3,
    "start_time": "2024-12-10T04:53:17.929Z"
   },
   {
    "duration": 9,
    "start_time": "2024-12-10T04:53:17.934Z"
   },
   {
    "duration": 12,
    "start_time": "2024-12-10T04:53:17.945Z"
   },
   {
    "duration": 14,
    "start_time": "2024-12-10T04:53:17.959Z"
   },
   {
    "duration": 46,
    "start_time": "2024-12-10T04:53:17.974Z"
   },
   {
    "duration": 5,
    "start_time": "2024-12-10T04:53:18.021Z"
   },
   {
    "duration": 4,
    "start_time": "2024-12-10T04:53:18.028Z"
   },
   {
    "duration": 4,
    "start_time": "2024-12-10T04:53:18.035Z"
   },
   {
    "duration": 11,
    "start_time": "2024-12-10T04:53:18.040Z"
   },
   {
    "duration": 152,
    "start_time": "2024-12-10T04:53:18.052Z"
   },
   {
    "duration": 114,
    "start_time": "2024-12-10T04:53:18.208Z"
   },
   {
    "duration": 8,
    "start_time": "2024-12-10T04:53:18.323Z"
   },
   {
    "duration": 278,
    "start_time": "2024-12-10T04:53:18.332Z"
   },
   {
    "duration": 8,
    "start_time": "2024-12-10T04:53:18.612Z"
   },
   {
    "duration": 220,
    "start_time": "2024-12-10T04:53:18.621Z"
   },
   {
    "duration": 10,
    "start_time": "2024-12-10T04:53:18.843Z"
   },
   {
    "duration": 161,
    "start_time": "2024-12-10T04:53:18.855Z"
   },
   {
    "duration": 15,
    "start_time": "2024-12-10T04:53:19.018Z"
   },
   {
    "duration": 14,
    "start_time": "2024-12-10T04:53:19.035Z"
   },
   {
    "duration": 298,
    "start_time": "2024-12-10T04:53:19.051Z"
   },
   {
    "duration": 12,
    "start_time": "2024-12-10T04:53:19.351Z"
   },
   {
    "duration": 174,
    "start_time": "2024-12-10T04:53:19.365Z"
   },
   {
    "duration": 11,
    "start_time": "2024-12-10T04:53:19.541Z"
   },
   {
    "duration": 151,
    "start_time": "2024-12-10T04:53:19.554Z"
   },
   {
    "duration": 15,
    "start_time": "2024-12-10T04:53:19.706Z"
   },
   {
    "duration": 10,
    "start_time": "2024-12-10T04:53:19.722Z"
   },
   {
    "duration": 13,
    "start_time": "2024-12-10T04:53:19.738Z"
   },
   {
    "duration": 12,
    "start_time": "2024-12-10T04:53:19.752Z"
   },
   {
    "duration": 44,
    "start_time": "2024-12-10T04:53:19.766Z"
   },
   {
    "duration": 9,
    "start_time": "2024-12-10T04:53:19.812Z"
   },
   {
    "duration": 6,
    "start_time": "2024-12-10T04:53:19.822Z"
   },
   {
    "duration": 3,
    "start_time": "2024-12-10T04:53:19.830Z"
   },
   {
    "duration": 3,
    "start_time": "2024-12-10T04:53:19.835Z"
   },
   {
    "duration": 3,
    "start_time": "2024-12-10T04:53:19.840Z"
   },
   {
    "duration": 3,
    "start_time": "2024-12-10T04:53:19.844Z"
   },
   {
    "duration": 5,
    "start_time": "2024-12-10T04:53:19.849Z"
   },
   {
    "duration": 4,
    "start_time": "2024-12-10T04:53:19.855Z"
   },
   {
    "duration": 50,
    "start_time": "2024-12-10T04:53:19.860Z"
   },
   {
    "duration": 21,
    "start_time": "2024-12-10T04:53:19.912Z"
   },
   {
    "duration": 4,
    "start_time": "2024-12-10T04:53:19.936Z"
   },
   {
    "duration": 6,
    "start_time": "2024-12-10T04:53:19.941Z"
   },
   {
    "duration": 18,
    "start_time": "2024-12-10T04:53:19.948Z"
   },
   {
    "duration": 12,
    "start_time": "2024-12-10T04:53:19.969Z"
   },
   {
    "duration": 3,
    "start_time": "2024-12-10T04:53:20.008Z"
   },
   {
    "duration": 11,
    "start_time": "2024-12-10T04:53:20.013Z"
   },
   {
    "duration": 13,
    "start_time": "2024-12-10T04:53:20.025Z"
   },
   {
    "duration": 4,
    "start_time": "2024-12-10T04:53:20.039Z"
   },
   {
    "duration": 11,
    "start_time": "2024-12-10T04:53:20.045Z"
   },
   {
    "duration": 12,
    "start_time": "2024-12-10T04:53:20.057Z"
   },
   {
    "duration": 3,
    "start_time": "2024-12-10T04:53:20.072Z"
   },
   {
    "duration": 12,
    "start_time": "2024-12-10T04:53:20.110Z"
   },
   {
    "duration": 5,
    "start_time": "2024-12-10T04:53:20.123Z"
   },
   {
    "duration": 5,
    "start_time": "2024-12-10T04:53:20.129Z"
   },
   {
    "duration": 3,
    "start_time": "2024-12-10T04:53:20.136Z"
   },
   {
    "duration": 5,
    "start_time": "2024-12-10T04:53:20.140Z"
   },
   {
    "duration": 4,
    "start_time": "2024-12-10T04:53:20.147Z"
   },
   {
    "duration": 7,
    "start_time": "2024-12-10T04:53:20.154Z"
   },
   {
    "duration": 8,
    "start_time": "2024-12-10T04:53:20.164Z"
   },
   {
    "duration": 36,
    "start_time": "2024-12-10T04:53:20.174Z"
   },
   {
    "duration": 166,
    "start_time": "2024-12-10T04:53:20.212Z"
   },
   {
    "duration": 4,
    "start_time": "2024-12-10T04:53:20.380Z"
   },
   {
    "duration": 28,
    "start_time": "2024-12-10T04:53:20.385Z"
   },
   {
    "duration": 14,
    "start_time": "2024-12-10T04:53:20.414Z"
   },
   {
    "duration": 4,
    "start_time": "2024-12-10T04:53:20.429Z"
   },
   {
    "duration": 6,
    "start_time": "2024-12-10T04:53:20.435Z"
   },
   {
    "duration": 4,
    "start_time": "2024-12-10T04:53:20.442Z"
   },
   {
    "duration": 199,
    "start_time": "2024-12-10T04:53:20.448Z"
   },
   {
    "duration": 3,
    "start_time": "2024-12-10T04:53:20.649Z"
   },
   {
    "duration": 4,
    "start_time": "2024-12-10T04:53:20.654Z"
   },
   {
    "duration": 3,
    "start_time": "2024-12-10T04:53:20.659Z"
   },
   {
    "duration": 6,
    "start_time": "2024-12-10T04:53:20.664Z"
   },
   {
    "duration": 39,
    "start_time": "2024-12-10T04:53:20.671Z"
   },
   {
    "duration": 7,
    "start_time": "2024-12-10T04:53:20.712Z"
   },
   {
    "duration": 12,
    "start_time": "2024-12-10T04:53:20.721Z"
   },
   {
    "duration": 10,
    "start_time": "2024-12-10T04:53:38.556Z"
   },
   {
    "duration": 3,
    "start_time": "2024-12-10T04:54:18.555Z"
   },
   {
    "duration": 11,
    "start_time": "2024-12-10T04:54:25.850Z"
   },
   {
    "duration": 4,
    "start_time": "2024-12-10T04:55:56.522Z"
   },
   {
    "duration": 6,
    "start_time": "2024-12-10T04:56:01.472Z"
   },
   {
    "duration": 12,
    "start_time": "2024-12-10T04:56:29.304Z"
   },
   {
    "duration": 76,
    "start_time": "2024-12-10T04:57:34.515Z"
   },
   {
    "duration": 5,
    "start_time": "2024-12-10T04:57:42.760Z"
   },
   {
    "duration": 4,
    "start_time": "2024-12-10T04:58:25.171Z"
   },
   {
    "duration": 4,
    "start_time": "2024-12-10T05:00:43.721Z"
   },
   {
    "duration": 15,
    "start_time": "2024-12-10T05:00:53.985Z"
   },
   {
    "duration": 5,
    "start_time": "2024-12-10T05:01:03.431Z"
   },
   {
    "duration": 6,
    "start_time": "2024-12-10T05:01:56.147Z"
   },
   {
    "duration": 9,
    "start_time": "2024-12-10T05:03:26.890Z"
   },
   {
    "duration": 3,
    "start_time": "2024-12-10T05:03:53.370Z"
   },
   {
    "duration": 6,
    "start_time": "2024-12-10T05:06:34.260Z"
   },
   {
    "duration": 9,
    "start_time": "2024-12-10T05:07:55.649Z"
   },
   {
    "duration": 4,
    "start_time": "2024-12-10T05:08:55.083Z"
   },
   {
    "duration": 4,
    "start_time": "2024-12-10T05:10:12.870Z"
   },
   {
    "duration": 121,
    "start_time": "2024-12-10T05:12:29.672Z"
   },
   {
    "duration": 131,
    "start_time": "2024-12-10T05:12:44.769Z"
   },
   {
    "duration": 106,
    "start_time": "2024-12-10T05:13:14.930Z"
   },
   {
    "duration": 548,
    "start_time": "2024-12-10T05:14:27.236Z"
   },
   {
    "duration": 6,
    "start_time": "2024-12-10T05:15:57.354Z"
   },
   {
    "duration": 8,
    "start_time": "2024-12-10T05:16:07.555Z"
   },
   {
    "duration": 5,
    "start_time": "2024-12-10T05:16:36.095Z"
   },
   {
    "duration": 104,
    "start_time": "2024-12-10T05:16:43.589Z"
   },
   {
    "duration": 4,
    "start_time": "2024-12-10T05:17:04.740Z"
   },
   {
    "duration": 4,
    "start_time": "2024-12-10T05:17:13.689Z"
   },
   {
    "duration": 8,
    "start_time": "2024-12-10T05:17:17.636Z"
   },
   {
    "duration": 3,
    "start_time": "2024-12-10T05:17:18.844Z"
   },
   {
    "duration": 16,
    "start_time": "2024-12-10T05:17:19.524Z"
   },
   {
    "duration": 4,
    "start_time": "2024-12-10T05:18:22.258Z"
   },
   {
    "duration": 3,
    "start_time": "2024-12-10T05:18:25.104Z"
   },
   {
    "duration": 17,
    "start_time": "2024-12-10T05:18:26.008Z"
   },
   {
    "duration": 809,
    "start_time": "2024-12-10T05:21:49.682Z"
   },
   {
    "duration": 47,
    "start_time": "2024-12-10T05:21:50.493Z"
   },
   {
    "duration": 3,
    "start_time": "2024-12-10T05:21:50.543Z"
   },
   {
    "duration": 3,
    "start_time": "2024-12-10T05:21:50.548Z"
   },
   {
    "duration": 15,
    "start_time": "2024-12-10T05:21:50.555Z"
   },
   {
    "duration": 4,
    "start_time": "2024-12-10T05:21:50.571Z"
   },
   {
    "duration": 6,
    "start_time": "2024-12-10T05:21:50.576Z"
   },
   {
    "duration": 49,
    "start_time": "2024-12-10T05:21:50.584Z"
   },
   {
    "duration": 9,
    "start_time": "2024-12-10T05:21:50.635Z"
   },
   {
    "duration": 4,
    "start_time": "2024-12-10T05:21:50.645Z"
   },
   {
    "duration": 18,
    "start_time": "2024-12-10T05:21:50.650Z"
   },
   {
    "duration": 42,
    "start_time": "2024-12-10T05:21:50.669Z"
   },
   {
    "duration": 14,
    "start_time": "2024-12-10T05:21:50.712Z"
   },
   {
    "duration": 12,
    "start_time": "2024-12-10T05:21:50.730Z"
   },
   {
    "duration": 4,
    "start_time": "2024-12-10T05:21:50.744Z"
   },
   {
    "duration": 9,
    "start_time": "2024-12-10T05:21:50.749Z"
   },
   {
    "duration": 12,
    "start_time": "2024-12-10T05:21:50.760Z"
   },
   {
    "duration": 12,
    "start_time": "2024-12-10T05:21:50.808Z"
   },
   {
    "duration": 12,
    "start_time": "2024-12-10T05:21:50.821Z"
   },
   {
    "duration": 5,
    "start_time": "2024-12-10T05:21:50.834Z"
   },
   {
    "duration": 4,
    "start_time": "2024-12-10T05:21:50.841Z"
   },
   {
    "duration": 5,
    "start_time": "2024-12-10T05:21:50.847Z"
   },
   {
    "duration": 15,
    "start_time": "2024-12-10T05:21:50.853Z"
   },
   {
    "duration": 155,
    "start_time": "2024-12-10T05:21:50.869Z"
   },
   {
    "duration": 118,
    "start_time": "2024-12-10T05:21:51.026Z"
   },
   {
    "duration": 7,
    "start_time": "2024-12-10T05:21:51.146Z"
   },
   {
    "duration": 331,
    "start_time": "2024-12-10T05:21:51.155Z"
   },
   {
    "duration": 8,
    "start_time": "2024-12-10T05:21:51.488Z"
   },
   {
    "duration": 216,
    "start_time": "2024-12-10T05:21:51.498Z"
   },
   {
    "duration": 12,
    "start_time": "2024-12-10T05:21:51.716Z"
   },
   {
    "duration": 152,
    "start_time": "2024-12-10T05:21:51.729Z"
   },
   {
    "duration": 15,
    "start_time": "2024-12-10T05:21:51.883Z"
   },
   {
    "duration": 23,
    "start_time": "2024-12-10T05:21:51.900Z"
   },
   {
    "duration": 284,
    "start_time": "2024-12-10T05:21:51.925Z"
   },
   {
    "duration": 12,
    "start_time": "2024-12-10T05:21:52.211Z"
   },
   {
    "duration": 214,
    "start_time": "2024-12-10T05:21:52.225Z"
   },
   {
    "duration": 12,
    "start_time": "2024-12-10T05:21:52.440Z"
   },
   {
    "duration": 194,
    "start_time": "2024-12-10T05:21:52.454Z"
   },
   {
    "duration": 14,
    "start_time": "2024-12-10T05:21:52.650Z"
   },
   {
    "duration": 8,
    "start_time": "2024-12-10T05:21:52.666Z"
   },
   {
    "duration": 12,
    "start_time": "2024-12-10T05:21:52.679Z"
   },
   {
    "duration": 21,
    "start_time": "2024-12-10T05:21:52.693Z"
   },
   {
    "duration": 13,
    "start_time": "2024-12-10T05:21:52.715Z"
   },
   {
    "duration": 8,
    "start_time": "2024-12-10T05:21:52.730Z"
   },
   {
    "duration": 6,
    "start_time": "2024-12-10T05:21:52.739Z"
   },
   {
    "duration": 3,
    "start_time": "2024-12-10T05:21:52.746Z"
   },
   {
    "duration": 4,
    "start_time": "2024-12-10T05:21:52.751Z"
   },
   {
    "duration": 4,
    "start_time": "2024-12-10T05:21:52.756Z"
   },
   {
    "duration": 3,
    "start_time": "2024-12-10T05:21:52.762Z"
   },
   {
    "duration": 42,
    "start_time": "2024-12-10T05:21:52.767Z"
   },
   {
    "duration": 3,
    "start_time": "2024-12-10T05:21:52.811Z"
   },
   {
    "duration": 8,
    "start_time": "2024-12-10T05:21:52.816Z"
   },
   {
    "duration": 18,
    "start_time": "2024-12-10T05:21:52.825Z"
   },
   {
    "duration": 3,
    "start_time": "2024-12-10T05:21:52.845Z"
   },
   {
    "duration": 5,
    "start_time": "2024-12-10T05:21:52.850Z"
   },
   {
    "duration": 54,
    "start_time": "2024-12-10T05:21:52.856Z"
   },
   {
    "duration": 12,
    "start_time": "2024-12-10T05:21:52.911Z"
   },
   {
    "duration": 4,
    "start_time": "2024-12-10T05:21:52.925Z"
   },
   {
    "duration": 11,
    "start_time": "2024-12-10T05:21:52.930Z"
   },
   {
    "duration": 12,
    "start_time": "2024-12-10T05:21:52.942Z"
   },
   {
    "duration": 3,
    "start_time": "2024-12-10T05:21:52.956Z"
   },
   {
    "duration": 14,
    "start_time": "2024-12-10T05:21:52.961Z"
   },
   {
    "duration": 12,
    "start_time": "2024-12-10T05:21:53.010Z"
   },
   {
    "duration": 4,
    "start_time": "2024-12-10T05:21:53.023Z"
   },
   {
    "duration": 13,
    "start_time": "2024-12-10T05:21:53.028Z"
   },
   {
    "duration": 5,
    "start_time": "2024-12-10T05:21:53.042Z"
   },
   {
    "duration": 5,
    "start_time": "2024-12-10T05:21:53.049Z"
   },
   {
    "duration": 3,
    "start_time": "2024-12-10T05:21:53.055Z"
   },
   {
    "duration": 5,
    "start_time": "2024-12-10T05:21:53.060Z"
   },
   {
    "duration": 3,
    "start_time": "2024-12-10T05:21:53.066Z"
   },
   {
    "duration": 38,
    "start_time": "2024-12-10T05:21:53.071Z"
   },
   {
    "duration": 4,
    "start_time": "2024-12-10T05:21:53.111Z"
   },
   {
    "duration": 7,
    "start_time": "2024-12-10T05:21:53.117Z"
   },
   {
    "duration": 178,
    "start_time": "2024-12-10T05:21:53.125Z"
   },
   {
    "duration": 6,
    "start_time": "2024-12-10T05:21:53.305Z"
   },
   {
    "duration": 18,
    "start_time": "2024-12-10T05:21:53.312Z"
   },
   {
    "duration": 13,
    "start_time": "2024-12-10T05:21:53.332Z"
   },
   {
    "duration": 4,
    "start_time": "2024-12-10T05:21:53.346Z"
   },
   {
    "duration": 5,
    "start_time": "2024-12-10T05:21:53.352Z"
   },
   {
    "duration": 4,
    "start_time": "2024-12-10T05:21:53.359Z"
   },
   {
    "duration": 145,
    "start_time": "2024-12-10T05:21:53.365Z"
   },
   {
    "duration": 4,
    "start_time": "2024-12-10T05:21:53.512Z"
   },
   {
    "duration": 4,
    "start_time": "2024-12-10T05:21:53.517Z"
   },
   {
    "duration": 3,
    "start_time": "2024-12-10T05:21:53.522Z"
   },
   {
    "duration": 5,
    "start_time": "2024-12-10T05:21:53.527Z"
   },
   {
    "duration": 285,
    "start_time": "2024-12-10T05:23:19.050Z"
   },
   {
    "duration": 12,
    "start_time": "2024-12-10T05:23:28.383Z"
   },
   {
    "duration": 5,
    "start_time": "2024-12-10T05:23:28.880Z"
   },
   {
    "duration": 111,
    "start_time": "2024-12-10T05:23:29.467Z"
   },
   {
    "duration": 6,
    "start_time": "2024-12-10T05:23:38.908Z"
   },
   {
    "duration": 4,
    "start_time": "2024-12-10T05:23:39.302Z"
   },
   {
    "duration": 7,
    "start_time": "2024-12-10T05:23:39.827Z"
   },
   {
    "duration": 3,
    "start_time": "2024-12-10T05:23:42.972Z"
   },
   {
    "duration": 6,
    "start_time": "2024-12-10T05:23:43.346Z"
   },
   {
    "duration": 154,
    "start_time": "2024-12-10T05:25:21.239Z"
   },
   {
    "duration": 17,
    "start_time": "2024-12-10T05:28:30.516Z"
   },
   {
    "duration": 17,
    "start_time": "2024-12-10T05:30:17.601Z"
   },
   {
    "duration": 11,
    "start_time": "2024-12-10T05:30:20.801Z"
   },
   {
    "duration": 137883,
    "start_time": "2024-12-10T05:34:48.577Z"
   },
   {
    "duration": 2616,
    "start_time": "2024-12-10T18:18:22.883Z"
   },
   {
    "duration": 66,
    "start_time": "2024-12-10T18:18:25.501Z"
   },
   {
    "duration": 3,
    "start_time": "2024-12-10T18:18:25.568Z"
   },
   {
    "duration": 3,
    "start_time": "2024-12-10T18:18:25.573Z"
   },
   {
    "duration": 13,
    "start_time": "2024-12-10T18:18:25.577Z"
   },
   {
    "duration": 4,
    "start_time": "2024-12-10T18:18:25.592Z"
   },
   {
    "duration": 6,
    "start_time": "2024-12-10T18:18:25.597Z"
   },
   {
    "duration": 30,
    "start_time": "2024-12-10T18:18:25.604Z"
   },
   {
    "duration": 41,
    "start_time": "2024-12-10T18:18:25.636Z"
   },
   {
    "duration": 3,
    "start_time": "2024-12-10T18:18:25.681Z"
   },
   {
    "duration": 17,
    "start_time": "2024-12-10T18:18:25.686Z"
   },
   {
    "duration": 23,
    "start_time": "2024-12-10T18:18:25.705Z"
   },
   {
    "duration": 15,
    "start_time": "2024-12-10T18:18:25.730Z"
   },
   {
    "duration": 12,
    "start_time": "2024-12-10T18:18:25.770Z"
   },
   {
    "duration": 4,
    "start_time": "2024-12-10T18:18:25.784Z"
   },
   {
    "duration": 9,
    "start_time": "2024-12-10T18:18:25.789Z"
   },
   {
    "duration": 13,
    "start_time": "2024-12-10T18:18:25.799Z"
   },
   {
    "duration": 13,
    "start_time": "2024-12-10T18:18:25.813Z"
   },
   {
    "duration": 48,
    "start_time": "2024-12-10T18:18:25.827Z"
   },
   {
    "duration": 5,
    "start_time": "2024-12-10T18:18:25.876Z"
   },
   {
    "duration": 3,
    "start_time": "2024-12-10T18:18:25.883Z"
   },
   {
    "duration": 4,
    "start_time": "2024-12-10T18:18:25.888Z"
   },
   {
    "duration": 10,
    "start_time": "2024-12-10T18:18:25.894Z"
   },
   {
    "duration": 151,
    "start_time": "2024-12-10T18:18:25.906Z"
   },
   {
    "duration": 129,
    "start_time": "2024-12-10T18:18:26.059Z"
   },
   {
    "duration": 6,
    "start_time": "2024-12-10T18:18:26.190Z"
   },
   {
    "duration": 290,
    "start_time": "2024-12-10T18:18:26.198Z"
   },
   {
    "duration": 8,
    "start_time": "2024-12-10T18:18:26.493Z"
   },
   {
    "duration": 237,
    "start_time": "2024-12-10T18:18:26.502Z"
   },
   {
    "duration": 11,
    "start_time": "2024-12-10T18:18:26.741Z"
   },
   {
    "duration": 216,
    "start_time": "2024-12-10T18:18:26.754Z"
   },
   {
    "duration": 15,
    "start_time": "2024-12-10T18:18:26.975Z"
   },
   {
    "duration": 12,
    "start_time": "2024-12-10T18:18:26.992Z"
   },
   {
    "duration": 305,
    "start_time": "2024-12-10T18:18:27.006Z"
   },
   {
    "duration": 12,
    "start_time": "2024-12-10T18:18:27.313Z"
   },
   {
    "duration": 177,
    "start_time": "2024-12-10T18:18:27.326Z"
   },
   {
    "duration": 11,
    "start_time": "2024-12-10T18:18:27.505Z"
   },
   {
    "duration": 160,
    "start_time": "2024-12-10T18:18:27.518Z"
   },
   {
    "duration": 13,
    "start_time": "2024-12-10T18:18:27.680Z"
   },
   {
    "duration": 10,
    "start_time": "2024-12-10T18:18:27.695Z"
   },
   {
    "duration": 16,
    "start_time": "2024-12-10T18:18:27.706Z"
   },
   {
    "duration": 14,
    "start_time": "2024-12-10T18:18:27.723Z"
   },
   {
    "duration": 37,
    "start_time": "2024-12-10T18:18:27.738Z"
   },
   {
    "duration": 13,
    "start_time": "2024-12-10T18:18:27.777Z"
   },
   {
    "duration": 9,
    "start_time": "2024-12-10T18:18:27.792Z"
   },
   {
    "duration": 7,
    "start_time": "2024-12-10T18:18:27.802Z"
   },
   {
    "duration": 3,
    "start_time": "2024-12-10T18:18:27.810Z"
   },
   {
    "duration": 3,
    "start_time": "2024-12-10T18:18:27.815Z"
   },
   {
    "duration": 3,
    "start_time": "2024-12-10T18:18:27.820Z"
   },
   {
    "duration": 2,
    "start_time": "2024-12-10T18:18:27.825Z"
   },
   {
    "duration": 3,
    "start_time": "2024-12-10T18:18:27.870Z"
   },
   {
    "duration": 3,
    "start_time": "2024-12-10T18:18:27.875Z"
   },
   {
    "duration": 10,
    "start_time": "2024-12-10T18:18:27.880Z"
   },
   {
    "duration": 19,
    "start_time": "2024-12-10T18:18:27.891Z"
   },
   {
    "duration": 4,
    "start_time": "2024-12-10T18:18:27.912Z"
   },
   {
    "duration": 5,
    "start_time": "2024-12-10T18:18:27.918Z"
   },
   {
    "duration": 56,
    "start_time": "2024-12-10T18:18:27.925Z"
   },
   {
    "duration": 12,
    "start_time": "2024-12-10T18:18:27.983Z"
   },
   {
    "duration": 4,
    "start_time": "2024-12-10T18:18:27.996Z"
   },
   {
    "duration": 11,
    "start_time": "2024-12-10T18:18:28.001Z"
   },
   {
    "duration": 12,
    "start_time": "2024-12-10T18:18:28.014Z"
   },
   {
    "duration": 3,
    "start_time": "2024-12-10T18:18:28.028Z"
   },
   {
    "duration": 46,
    "start_time": "2024-12-10T18:18:28.033Z"
   },
   {
    "duration": 12,
    "start_time": "2024-12-10T18:18:28.081Z"
   },
   {
    "duration": 4,
    "start_time": "2024-12-10T18:18:28.094Z"
   },
   {
    "duration": 11,
    "start_time": "2024-12-10T18:18:28.100Z"
   },
   {
    "duration": 5,
    "start_time": "2024-12-10T18:18:28.112Z"
   },
   {
    "duration": 5,
    "start_time": "2024-12-10T18:18:28.118Z"
   },
   {
    "duration": 3,
    "start_time": "2024-12-10T18:18:28.125Z"
   },
   {
    "duration": 41,
    "start_time": "2024-12-10T18:18:28.130Z"
   },
   {
    "duration": 3,
    "start_time": "2024-12-10T18:18:28.173Z"
   },
   {
    "duration": 5,
    "start_time": "2024-12-10T18:18:28.177Z"
   },
   {
    "duration": 5,
    "start_time": "2024-12-10T18:18:28.183Z"
   },
   {
    "duration": 8,
    "start_time": "2024-12-10T18:18:28.189Z"
   },
   {
    "duration": 190,
    "start_time": "2024-12-10T18:18:28.198Z"
   },
   {
    "duration": 4,
    "start_time": "2024-12-10T18:18:28.390Z"
   },
   {
    "duration": 15,
    "start_time": "2024-12-10T18:18:28.396Z"
   },
   {
    "duration": 13,
    "start_time": "2024-12-10T18:18:28.413Z"
   },
   {
    "duration": 4,
    "start_time": "2024-12-10T18:18:28.427Z"
   },
   {
    "duration": 5,
    "start_time": "2024-12-10T18:18:28.433Z"
   },
   {
    "duration": 34,
    "start_time": "2024-12-10T18:18:28.439Z"
   },
   {
    "duration": 114,
    "start_time": "2024-12-10T18:18:28.479Z"
   },
   {
    "duration": 3,
    "start_time": "2024-12-10T18:18:28.595Z"
   },
   {
    "duration": 12,
    "start_time": "2024-12-10T18:18:28.600Z"
   },
   {
    "duration": 9,
    "start_time": "2024-12-10T18:18:28.613Z"
   },
   {
    "duration": 5,
    "start_time": "2024-12-10T18:18:28.624Z"
   },
   {
    "duration": 11,
    "start_time": "2024-12-10T18:18:28.631Z"
   },
   {
    "duration": 6,
    "start_time": "2024-12-10T18:18:28.643Z"
   },
   {
    "duration": 127,
    "start_time": "2024-12-10T18:18:28.650Z"
   },
   {
    "duration": 6,
    "start_time": "2024-12-10T18:18:28.779Z"
   },
   {
    "duration": 4,
    "start_time": "2024-12-10T18:18:28.787Z"
   },
   {
    "duration": 6,
    "start_time": "2024-12-10T18:18:28.792Z"
   },
   {
    "duration": 3,
    "start_time": "2024-12-10T18:18:28.800Z"
   },
   {
    "duration": 5,
    "start_time": "2024-12-10T18:18:28.805Z"
   },
   {
    "duration": 9,
    "start_time": "2024-12-10T18:22:05.385Z"
   },
   {
    "duration": 284,
    "start_time": "2024-12-10T18:26:41.102Z"
   },
   {
    "duration": 345,
    "start_time": "2024-12-10T18:27:28.753Z"
   },
   {
    "duration": 6109,
    "start_time": "2024-12-10T18:27:41.393Z"
   },
   {
    "duration": 280,
    "start_time": "2024-12-10T18:28:02.102Z"
   },
   {
    "duration": 296,
    "start_time": "2024-12-10T18:28:48.013Z"
   },
   {
    "duration": 436,
    "start_time": "2024-12-10T18:30:53.994Z"
   },
   {
    "duration": 293,
    "start_time": "2024-12-10T18:31:33.507Z"
   },
   {
    "duration": 43999,
    "start_time": "2024-12-10T18:32:41.163Z"
   },
   {
    "duration": 6,
    "start_time": "2024-12-10T18:37:58.692Z"
   },
   {
    "duration": 9,
    "start_time": "2024-12-10T18:38:06.123Z"
   },
   {
    "duration": 1192,
    "start_time": "2024-12-10T18:40:52.458Z"
   },
   {
    "duration": 534,
    "start_time": "2024-12-10T18:41:38.182Z"
   },
   {
    "duration": 866,
    "start_time": "2024-12-10T18:42:09.024Z"
   },
   {
    "duration": 34,
    "start_time": "2024-12-10T18:45:17.152Z"
   },
   {
    "duration": 5,
    "start_time": "2024-12-10T18:45:26.072Z"
   },
   {
    "duration": 3,
    "start_time": "2024-12-10T19:03:28.375Z"
   },
   {
    "duration": 3,
    "start_time": "2024-12-10T19:03:42.715Z"
   },
   {
    "duration": 13,
    "start_time": "2024-12-10T19:03:48.647Z"
   },
   {
    "duration": 13,
    "start_time": "2024-12-10T19:04:12.056Z"
   },
   {
    "duration": 13,
    "start_time": "2024-12-10T19:05:52.741Z"
   },
   {
    "duration": 15,
    "start_time": "2024-12-10T19:07:27.901Z"
   },
   {
    "duration": 176,
    "start_time": "2024-12-10T19:08:14.911Z"
   },
   {
    "duration": 3,
    "start_time": "2024-12-10T19:10:09.596Z"
   },
   {
    "duration": 15,
    "start_time": "2024-12-10T19:10:19.454Z"
   },
   {
    "duration": 14,
    "start_time": "2024-12-10T19:10:45.547Z"
   },
   {
    "duration": 5,
    "start_time": "2024-12-10T19:13:12.951Z"
   },
   {
    "duration": 5,
    "start_time": "2024-12-10T19:13:16.684Z"
   },
   {
    "duration": 8,
    "start_time": "2024-12-10T19:13:33.176Z"
   },
   {
    "duration": 6,
    "start_time": "2024-12-10T19:13:43.700Z"
   },
   {
    "duration": 11,
    "start_time": "2024-12-10T19:13:50.284Z"
   },
   {
    "duration": 3,
    "start_time": "2024-12-10T19:13:58.429Z"
   },
   {
    "duration": 11,
    "start_time": "2024-12-10T19:14:15.491Z"
   },
   {
    "duration": 4,
    "start_time": "2024-12-10T21:02:38.421Z"
   },
   {
    "duration": 5,
    "start_time": "2024-12-10T21:02:57.211Z"
   },
   {
    "duration": 2545,
    "start_time": "2024-12-10T23:43:35.440Z"
   },
   {
    "duration": 66,
    "start_time": "2024-12-10T23:43:37.988Z"
   },
   {
    "duration": 3,
    "start_time": "2024-12-10T23:43:38.055Z"
   },
   {
    "duration": 3,
    "start_time": "2024-12-10T23:43:38.060Z"
   },
   {
    "duration": 13,
    "start_time": "2024-12-10T23:43:38.065Z"
   },
   {
    "duration": 4,
    "start_time": "2024-12-10T23:43:38.080Z"
   },
   {
    "duration": 5,
    "start_time": "2024-12-10T23:43:38.086Z"
   },
   {
    "duration": 57,
    "start_time": "2024-12-10T23:43:38.093Z"
   },
   {
    "duration": 8,
    "start_time": "2024-12-10T23:43:38.152Z"
   },
   {
    "duration": 5,
    "start_time": "2024-12-10T23:43:38.162Z"
   },
   {
    "duration": 3,
    "start_time": "2024-12-10T23:43:38.169Z"
   },
   {
    "duration": 17,
    "start_time": "2024-12-10T23:43:38.174Z"
   },
   {
    "duration": 21,
    "start_time": "2024-12-10T23:43:38.193Z"
   },
   {
    "duration": 19,
    "start_time": "2024-12-10T23:43:38.245Z"
   },
   {
    "duration": 14,
    "start_time": "2024-12-10T23:43:38.266Z"
   },
   {
    "duration": 3,
    "start_time": "2024-12-10T23:43:38.282Z"
   },
   {
    "duration": 9,
    "start_time": "2024-12-10T23:43:38.287Z"
   },
   {
    "duration": 46,
    "start_time": "2024-12-10T23:43:38.297Z"
   },
   {
    "duration": 13,
    "start_time": "2024-12-10T23:43:38.344Z"
   },
   {
    "duration": 14,
    "start_time": "2024-12-10T23:43:38.359Z"
   },
   {
    "duration": 10,
    "start_time": "2024-12-10T23:43:38.374Z"
   },
   {
    "duration": 3,
    "start_time": "2024-12-10T23:43:38.386Z"
   },
   {
    "duration": 6,
    "start_time": "2024-12-10T23:43:38.391Z"
   },
   {
    "duration": 3,
    "start_time": "2024-12-10T23:43:38.399Z"
   },
   {
    "duration": 42,
    "start_time": "2024-12-10T23:43:38.404Z"
   },
   {
    "duration": 11,
    "start_time": "2024-12-10T23:43:38.448Z"
   },
   {
    "duration": 137,
    "start_time": "2024-12-10T23:43:38.460Z"
   },
   {
    "duration": 121,
    "start_time": "2024-12-10T23:43:38.599Z"
   },
   {
    "duration": 8,
    "start_time": "2024-12-10T23:43:38.721Z"
   },
   {
    "duration": 290,
    "start_time": "2024-12-10T23:43:38.730Z"
   },
   {
    "duration": 8,
    "start_time": "2024-12-10T23:43:39.022Z"
   },
   {
    "duration": 215,
    "start_time": "2024-12-10T23:43:39.043Z"
   },
   {
    "duration": 8,
    "start_time": "2024-12-10T23:43:39.260Z"
   },
   {
    "duration": 165,
    "start_time": "2024-12-10T23:43:39.270Z"
   },
   {
    "duration": 14,
    "start_time": "2024-12-10T23:43:39.442Z"
   },
   {
    "duration": 13,
    "start_time": "2024-12-10T23:43:39.458Z"
   },
   {
    "duration": 298,
    "start_time": "2024-12-10T23:43:39.473Z"
   },
   {
    "duration": 11,
    "start_time": "2024-12-10T23:43:39.773Z"
   },
   {
    "duration": 177,
    "start_time": "2024-12-10T23:43:39.786Z"
   },
   {
    "duration": 12,
    "start_time": "2024-12-10T23:43:39.964Z"
   },
   {
    "duration": 217,
    "start_time": "2024-12-10T23:43:39.982Z"
   },
   {
    "duration": 15,
    "start_time": "2024-12-10T23:43:40.201Z"
   },
   {
    "duration": 9,
    "start_time": "2024-12-10T23:43:40.217Z"
   },
   {
    "duration": 31,
    "start_time": "2024-12-10T23:43:40.227Z"
   },
   {
    "duration": 6,
    "start_time": "2024-12-10T23:43:40.260Z"
   },
   {
    "duration": 703,
    "start_time": "2024-12-10T23:43:40.268Z"
   },
   {
    "duration": 14,
    "start_time": "2024-12-10T23:43:40.973Z"
   },
   {
    "duration": 9,
    "start_time": "2024-12-10T23:43:40.989Z"
   },
   {
    "duration": 13,
    "start_time": "2024-12-10T23:43:41.000Z"
   },
   {
    "duration": 32,
    "start_time": "2024-12-10T23:43:41.015Z"
   },
   {
    "duration": 5,
    "start_time": "2024-12-10T23:43:41.052Z"
   },
   {
    "duration": 4,
    "start_time": "2024-12-10T23:43:41.059Z"
   },
   {
    "duration": 4,
    "start_time": "2024-12-10T23:43:41.064Z"
   },
   {
    "duration": 4,
    "start_time": "2024-12-10T23:43:41.069Z"
   },
   {
    "duration": 3,
    "start_time": "2024-12-10T23:43:41.074Z"
   },
   {
    "duration": 4,
    "start_time": "2024-12-10T23:43:41.079Z"
   },
   {
    "duration": 4,
    "start_time": "2024-12-10T23:43:41.084Z"
   },
   {
    "duration": 8,
    "start_time": "2024-12-10T23:43:41.089Z"
   },
   {
    "duration": 54,
    "start_time": "2024-12-10T23:43:41.099Z"
   },
   {
    "duration": 4,
    "start_time": "2024-12-10T23:43:41.155Z"
   },
   {
    "duration": 5,
    "start_time": "2024-12-10T23:43:41.162Z"
   },
   {
    "duration": 19,
    "start_time": "2024-12-10T23:43:41.169Z"
   },
   {
    "duration": 12,
    "start_time": "2024-12-10T23:43:41.190Z"
   },
   {
    "duration": 4,
    "start_time": "2024-12-10T23:43:41.203Z"
   },
   {
    "duration": 43,
    "start_time": "2024-12-10T23:43:41.209Z"
   },
   {
    "duration": 13,
    "start_time": "2024-12-10T23:43:41.254Z"
   },
   {
    "duration": 4,
    "start_time": "2024-12-10T23:43:41.268Z"
   },
   {
    "duration": 11,
    "start_time": "2024-12-10T23:43:41.274Z"
   },
   {
    "duration": 12,
    "start_time": "2024-12-10T23:43:41.287Z"
   },
   {
    "duration": 4,
    "start_time": "2024-12-10T23:43:41.300Z"
   },
   {
    "duration": 46,
    "start_time": "2024-12-10T23:43:41.306Z"
   },
   {
    "duration": 6,
    "start_time": "2024-12-10T23:43:41.353Z"
   },
   {
    "duration": 6,
    "start_time": "2024-12-10T23:43:41.360Z"
   },
   {
    "duration": 2,
    "start_time": "2024-12-10T23:43:41.368Z"
   },
   {
    "duration": 7,
    "start_time": "2024-12-10T23:43:41.371Z"
   },
   {
    "duration": 3,
    "start_time": "2024-12-10T23:43:41.379Z"
   },
   {
    "duration": 4,
    "start_time": "2024-12-10T23:43:41.384Z"
   },
   {
    "duration": 4,
    "start_time": "2024-12-10T23:43:41.389Z"
   },
   {
    "duration": 6,
    "start_time": "2024-12-10T23:43:41.395Z"
   },
   {
    "duration": 170,
    "start_time": "2024-12-10T23:43:41.443Z"
   },
   {
    "duration": 5,
    "start_time": "2024-12-10T23:43:41.614Z"
   },
   {
    "duration": 27,
    "start_time": "2024-12-10T23:43:41.621Z"
   },
   {
    "duration": 13,
    "start_time": "2024-12-10T23:43:41.650Z"
   },
   {
    "duration": 4,
    "start_time": "2024-12-10T23:43:41.665Z"
   },
   {
    "duration": 5,
    "start_time": "2024-12-10T23:43:41.670Z"
   },
   {
    "duration": 5,
    "start_time": "2024-12-10T23:43:41.676Z"
   },
   {
    "duration": 135,
    "start_time": "2024-12-10T23:43:41.682Z"
   },
   {
    "duration": 3,
    "start_time": "2024-12-10T23:43:41.819Z"
   },
   {
    "duration": 4,
    "start_time": "2024-12-10T23:43:41.825Z"
   },
   {
    "duration": 2,
    "start_time": "2024-12-10T23:43:41.843Z"
   },
   {
    "duration": 5,
    "start_time": "2024-12-10T23:43:41.846Z"
   },
   {
    "duration": 15,
    "start_time": "2024-12-10T23:43:41.852Z"
   },
   {
    "duration": 6,
    "start_time": "2024-12-10T23:43:41.868Z"
   },
   {
    "duration": 131,
    "start_time": "2024-12-10T23:43:41.875Z"
   },
   {
    "duration": 5,
    "start_time": "2024-12-10T23:43:42.008Z"
   },
   {
    "duration": 5,
    "start_time": "2024-12-10T23:43:42.015Z"
   },
   {
    "duration": 23,
    "start_time": "2024-12-10T23:43:42.021Z"
   },
   {
    "duration": 2,
    "start_time": "2024-12-10T23:43:42.045Z"
   },
   {
    "duration": 6,
    "start_time": "2024-12-10T23:43:42.049Z"
   }
  ],
  "kernelspec": {
   "display_name": "Python 3",
   "language": "python",
   "name": "python3"
  },
  "language_info": {
   "codemirror_mode": {
    "name": "ipython",
    "version": 3
   },
   "file_extension": ".py",
   "mimetype": "text/x-python",
   "name": "python",
   "nbconvert_exporter": "python",
   "pygments_lexer": "ipython3",
   "version": "3.11.9"
  },
  "toc": {
   "base_numbering": 1,
   "nav_menu": {},
   "number_sections": true,
   "sideBar": true,
   "skip_h1_title": true,
   "title_cell": "Table of Contents",
   "title_sidebar": "Contents",
   "toc_cell": false,
   "toc_position": {
    "height": "calc(100% - 180px)",
    "left": "10px",
    "top": "150px",
    "width": "304px"
   },
   "toc_section_display": true,
   "toc_window_display": false
  }
 },
 "nbformat": 4,
 "nbformat_minor": 2
}
