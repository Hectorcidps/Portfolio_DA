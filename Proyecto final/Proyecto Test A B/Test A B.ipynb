{
 "cells": [
  {
   "cell_type": "markdown",
   "metadata": {},
   "source": [
    "# Tienda Online de sandias (Test A / B)"
   ]
  },
  {
   "cell_type": "markdown",
   "metadata": {},
   "source": [
    "## Descripción del proyecto\n",
    "\n",
    "Has recibido una tarea analítica de una tienda en línea internacional. Tus predecesores no consiguieron completarla: lanzaron una prueba A/B y luego abandonaron (para iniciar una granja de sandías en Brasil). Solo dejaron las especificaciones técnicas y los resultados de las pruebas."
   ]
  },
  {
   "cell_type": "markdown",
   "metadata": {},
   "source": [
    "### Descripción técnica\n",
    "\n",
    "- Nombre de la prueba: `recommender_system_test`\n",
    "- Grupos: А (control), B (nuevo embudo de pago)\n",
    "- Launch date: 2020-12-07\n",
    "- Fecha en la que dejaron de aceptar nuevos usuarios: 2020-12-21\n",
    "- Fecha de finalización: 2021-01-01\n",
    "- Audiencia: 15% de los nuevos usuarios de la región de la UE\n",
    "- Propósito de la prueba: probar cambios relacionados con la introducción de un sistema de recomendaciones mejorado\n",
    "- Resultado esperado: dentro de los 14 días posteriores a la inscripción, los usuarios mostrarán una mejor conversión en vistas de la página del producto (el evento `product_page`), instancias de agregar artículos al carrito de compras (`product_card`) y compras (`purchase`). En cada etapa del embudo `product_page → product_card → purchase`, habrá al menos un 10% de aumento.\n",
    "- Número previsto de participantes de la prueba: 6 000"
   ]
  },
  {
   "cell_type": "markdown",
   "metadata": {},
   "source": [
    "## Diccionario de datos \n",
    "\n",
    "1. ab_project_marketing_events_us.csv: el calendario de eventos de marketing para 2020\n",
    "- `name`: el nombre del evento de marketing\n",
    "- `regions`: regiones donde se llevará a cabo la campaña publicitaria\n",
    "- `start_dt`: fecha de inicio de la campaña\n",
    "- `finish_dt`: fecha de finalización de la campaña\n",
    "\n",
    "2. final_ab_new_users_upd_us.csv: todos los usuarios que se registraron en la tienda en línea desde el 7 hasta el 21 de diciembre de 2020\n",
    "- `user_id`\n",
    "- `first_date`: fecha de inscripción\n",
    "- `region`\n",
    "- `device`: dispositivo utilizado para la inscripción\n",
    "\n",
    "3. final_ab_events_upd_us.csv: todos los eventos de los nuevos usuarios en el período comprendido entre el 7 de diciembre de 2020 y el 1 de enero de 2021\n",
    "- `user_id`\n",
    "- `event_dt`: fecha y hora del evento\n",
    "- `event_name`: nombre del tipo de evento\n",
    "- `details`: datos adicionales sobre el evento (por ejemplo, el pedido total en USD para los eventos `purchase`)\n",
    "\n",
    "4. final_ab_participants_upd_us.csv: tabla con los datos de los participantes de la prueba\n",
    "- `user_id`\n",
    "- `ab_test`: nombre de la prueba\n",
    "- `group`: el grupo de prueba al que pertenecía el usuario"
   ]
  },
  {
   "cell_type": "markdown",
   "metadata": {},
   "source": [
    "## Librerias "
   ]
  },
  {
   "cell_type": "code",
   "execution_count": 1,
   "metadata": {},
   "outputs": [],
   "source": [
    "import datetime as dt\n",
    "import matplotlib.pyplot as plt\n",
    "import math as mth \n",
    "import numpy as np\n",
    "import pandas as pd \n",
    "import seaborn as sns\n",
    "import scipy.stats as stats "
   ]
  },
  {
   "cell_type": "markdown",
   "metadata": {},
   "source": [
    "## Cargar datos "
   ]
  },
  {
   "cell_type": "code",
   "execution_count": 2,
   "metadata": {},
   "outputs": [],
   "source": [
    "# funcion para cargar datos con la libreria pandas\n",
    "def cargar_datos(file_name):\n",
    "    data = pd.read_csv(file_name)\n",
    "    return data"
   ]
  },
  {
   "cell_type": "code",
   "execution_count": 3,
   "metadata": {
    "scrolled": true
   },
   "outputs": [],
   "source": [
    "# calendario eventos marketing\n",
    "marketing = cargar_datos('/datasets/ab_project_marketing_events_us.csv')\n",
    "\n",
    "# usuarios registrados del 7 al 21 de diciembre 2020\n",
    "users = cargar_datos('/datasets/final_ab_new_users_upd_us.csv')\n",
    "\n",
    "# eventos de los nuevos usuarios del 7 de diciembre 2020 al 1 de enero 2021\n",
    "events = cargar_datos('/datasets/final_ab_events_upd_us.csv')\n",
    "\n",
    "# participantes de la prueba\n",
    "participants = cargar_datos('/datasets/final_ab_participants_upd_us.csv')"
   ]
  },
  {
   "cell_type": "markdown",
   "metadata": {},
   "source": [
    "## Pre procesamiento de datos "
   ]
  },
  {
   "cell_type": "code",
   "execution_count": 4,
   "metadata": {},
   "outputs": [],
   "source": [
    "# funcion para obtener un panorama general del dataset\n",
    "def leer_datos(df):\n",
    "    print(df.head(5))\n",
    "    df.info()\n",
    "    print(df.describe())\n"
   ]
  },
  {
   "cell_type": "code",
   "execution_count": 5,
   "metadata": {},
   "outputs": [],
   "source": [
    "# funcion para identificar valores duplicados y ausentes\n",
    "def valores_datos(df):\n",
    "    duplicados = df.duplicated().sum()\n",
    "    print(f'Valores duplicados: {duplicados}\\n')\n",
    "    ausentes = df.isna().sum()\n",
    "    print(f'Valores ausentes:\\n{ausentes}')"
   ]
  },
  {
   "cell_type": "markdown",
   "metadata": {},
   "source": [
    "### dataset Calendario de eventos de Marketing"
   ]
  },
  {
   "cell_type": "code",
   "execution_count": 6,
   "metadata": {},
   "outputs": [
    {
     "name": "stdout",
     "output_type": "stream",
     "text": [
      "                           name                   regions    start_dt  \\\n",
      "0      Christmas&New Year Promo             EU, N.America  2020-12-25   \n",
      "1  St. Valentine's Day Giveaway  EU, CIS, APAC, N.America  2020-02-14   \n",
      "2        St. Patric's Day Promo             EU, N.America  2020-03-17   \n",
      "3                  Easter Promo  EU, CIS, APAC, N.America  2020-04-12   \n",
      "4             4th of July Promo                 N.America  2020-07-04   \n",
      "\n",
      "    finish_dt  \n",
      "0  2021-01-03  \n",
      "1  2020-02-16  \n",
      "2  2020-03-19  \n",
      "3  2020-04-19  \n",
      "4  2020-07-11  \n",
      "<class 'pandas.core.frame.DataFrame'>\n",
      "RangeIndex: 14 entries, 0 to 13\n",
      "Data columns (total 4 columns):\n",
      " #   Column     Non-Null Count  Dtype \n",
      "---  ------     --------------  ----- \n",
      " 0   name       14 non-null     object\n",
      " 1   regions    14 non-null     object\n",
      " 2   start_dt   14 non-null     object\n",
      " 3   finish_dt  14 non-null     object\n",
      "dtypes: object(4)\n",
      "memory usage: 576.0+ bytes\n",
      "                                   name regions    start_dt   finish_dt\n",
      "count                                14      14          14          14\n",
      "unique                               14       6          14          14\n",
      "top     International Women's Day Promo    APAC  2020-04-12  2020-03-10\n",
      "freq                                  1       4           1           1\n"
     ]
    }
   ],
   "source": [
    "leer_datos(marketing)"
   ]
  },
  {
   "cell_type": "code",
   "execution_count": 7,
   "metadata": {},
   "outputs": [],
   "source": [
    "# convertir los tipos de datos de start_dt y finish_dt\n",
    "marketing['start_dt'] = pd.to_datetime(marketing['start_dt'])\n",
    "marketing['finish_dt'] = pd.to_datetime(marketing['finish_dt'])"
   ]
  },
  {
   "cell_type": "code",
   "execution_count": 8,
   "metadata": {},
   "outputs": [
    {
     "name": "stdout",
     "output_type": "stream",
     "text": [
      "Valores duplicados: 0\n",
      "\n",
      "Valores ausentes:\n",
      "name         0\n",
      "regions      0\n",
      "start_dt     0\n",
      "finish_dt    0\n",
      "dtype: int64\n"
     ]
    }
   ],
   "source": [
    "valores_datos(marketing)"
   ]
  },
  {
   "cell_type": "markdown",
   "metadata": {},
   "source": [
    "<span style=\"color:purple; font-weight:bold; font-size: 18px\">\n",
    "En este primer data set no se encontraron valores ausentes ni duplicados. Solo se realizaron cambios en las columnas que contienen fechas ya que era un object, y se transformo a datetime\n",
    "</span>"
   ]
  },
  {
   "cell_type": "markdown",
   "metadata": {},
   "source": [
    "### Dataset usuarios del 7 de diciembre al 21 de diciembre "
   ]
  },
  {
   "cell_type": "code",
   "execution_count": 9,
   "metadata": {},
   "outputs": [
    {
     "name": "stdout",
     "output_type": "stream",
     "text": [
      "            user_id  first_date     region   device\n",
      "0  D72A72121175D8BE  2020-12-07         EU       PC\n",
      "1  F1C668619DFE6E65  2020-12-07  N.America  Android\n",
      "2  2E1BF1D4C37EA01F  2020-12-07         EU       PC\n",
      "3  50734A22C0C63768  2020-12-07         EU   iPhone\n",
      "4  E1BDDCE0DAFA2679  2020-12-07  N.America   iPhone\n",
      "<class 'pandas.core.frame.DataFrame'>\n",
      "RangeIndex: 58703 entries, 0 to 58702\n",
      "Data columns (total 4 columns):\n",
      " #   Column      Non-Null Count  Dtype \n",
      "---  ------      --------------  ----- \n",
      " 0   user_id     58703 non-null  object\n",
      " 1   first_date  58703 non-null  object\n",
      " 2   region      58703 non-null  object\n",
      " 3   device      58703 non-null  object\n",
      "dtypes: object(4)\n",
      "memory usage: 1.8+ MB\n",
      "                 user_id  first_date region   device\n",
      "count              58703       58703  58703    58703\n",
      "unique             58703          17      4        4\n",
      "top     738C5F219CA0CCC4  2020-12-21     EU  Android\n",
      "freq                   1        6077  43396    26159\n"
     ]
    }
   ],
   "source": [
    "leer_datos(users)"
   ]
  },
  {
   "cell_type": "code",
   "execution_count": 10,
   "metadata": {},
   "outputs": [],
   "source": [
    "# cambiar el tipo de datos de la columna first_date\n",
    "users['first_date'] = pd.to_datetime(users['first_date'])"
   ]
  },
  {
   "cell_type": "code",
   "execution_count": 11,
   "metadata": {},
   "outputs": [
    {
     "name": "stdout",
     "output_type": "stream",
     "text": [
      "Valores duplicados: 0\n",
      "\n",
      "Valores ausentes:\n",
      "user_id       0\n",
      "first_date    0\n",
      "region        0\n",
      "device        0\n",
      "dtype: int64\n"
     ]
    }
   ],
   "source": [
    "valores_datos(users)"
   ]
  },
  {
   "cell_type": "markdown",
   "metadata": {},
   "source": [
    "<span style=\"color:purple; font-weight:bold; font-size: 18px\">\n",
    "En este dataset no se encontraron valores duplicados ni ausentes, de la misma forma que en el anterior DF se cambio el tipo de datos de object a Datetime.\n",
    "</span>"
   ]
  },
  {
   "cell_type": "markdown",
   "metadata": {},
   "source": [
    "### Dataset Eventos de nuevos usuarios del 7 de Diciembre de 2020 al 1 de Enero de 2021"
   ]
  },
  {
   "cell_type": "code",
   "execution_count": 12,
   "metadata": {},
   "outputs": [
    {
     "name": "stdout",
     "output_type": "stream",
     "text": [
      "            user_id             event_dt event_name  details\n",
      "0  E1BDDCE0DAFA2679  2020-12-07 20:22:03   purchase    99.99\n",
      "1  7B6452F081F49504  2020-12-07 09:22:53   purchase     9.99\n",
      "2  9CD9F34546DF254C  2020-12-07 12:59:29   purchase     4.99\n",
      "3  96F27A054B191457  2020-12-07 04:02:40   purchase     4.99\n",
      "4  1FD7660FDF94CA1F  2020-12-07 10:15:09   purchase     4.99\n",
      "<class 'pandas.core.frame.DataFrame'>\n",
      "RangeIndex: 423761 entries, 0 to 423760\n",
      "Data columns (total 4 columns):\n",
      " #   Column      Non-Null Count   Dtype  \n",
      "---  ------      --------------   -----  \n",
      " 0   user_id     423761 non-null  object \n",
      " 1   event_dt    423761 non-null  object \n",
      " 2   event_name  423761 non-null  object \n",
      " 3   details     60314 non-null   float64\n",
      "dtypes: float64(1), object(3)\n",
      "memory usage: 12.9+ MB\n",
      "            details\n",
      "count  60314.000000\n",
      "mean      23.881219\n",
      "std       72.228884\n",
      "min        4.990000\n",
      "25%        4.990000\n",
      "50%        4.990000\n",
      "75%        9.990000\n",
      "max      499.990000\n"
     ]
    }
   ],
   "source": [
    "leer_datos(events)"
   ]
  },
  {
   "cell_type": "code",
   "execution_count": 13,
   "metadata": {},
   "outputs": [],
   "source": [
    "# convertir el tipo de dato de la columna event_dt\n",
    "events['event_dt'] = pd.to_datetime(events['event_dt'])"
   ]
  },
  {
   "cell_type": "code",
   "execution_count": 14,
   "metadata": {},
   "outputs": [
    {
     "name": "stdout",
     "output_type": "stream",
     "text": [
      "Valores duplicados: 0\n",
      "\n",
      "Valores ausentes:\n",
      "user_id            0\n",
      "event_dt           0\n",
      "event_name         0\n",
      "details       363447\n",
      "dtype: int64\n"
     ]
    }
   ],
   "source": [
    "valores_datos(events)"
   ]
  },
  {
   "cell_type": "markdown",
   "metadata": {},
   "source": [
    "<span style=\"color:purple; font-weight:bold; font-size: 18px\">\n",
    "En este dataset si se encontraron 363,447 valores ausentes en la columna de 'details', sin embargo por el momento no se eliminaran ni se rellenaran con algun otro dato ya que estos son importantes para analizar los valores outliers, dentro del experimento. Por ultimo se cambio el tipo de datos de la columna 'event_dt' de object a datetime.\n",
    "</span>"
   ]
  },
  {
   "cell_type": "markdown",
   "metadata": {},
   "source": [
    "### Participantes de la prueba "
   ]
  },
  {
   "cell_type": "code",
   "execution_count": 15,
   "metadata": {},
   "outputs": [
    {
     "name": "stdout",
     "output_type": "stream",
     "text": [
      "            user_id group                  ab_test\n",
      "0  D1ABA3E2887B6A73     A  recommender_system_test\n",
      "1  A7A3664BD6242119     A  recommender_system_test\n",
      "2  DABC14FDDFADD29E     A  recommender_system_test\n",
      "3  04988C5DF189632E     A  recommender_system_test\n",
      "4  4FF2998A348C484F     A  recommender_system_test\n",
      "<class 'pandas.core.frame.DataFrame'>\n",
      "RangeIndex: 14525 entries, 0 to 14524\n",
      "Data columns (total 3 columns):\n",
      " #   Column   Non-Null Count  Dtype \n",
      "---  ------   --------------  ----- \n",
      " 0   user_id  14525 non-null  object\n",
      " 1   group    14525 non-null  object\n",
      " 2   ab_test  14525 non-null  object\n",
      "dtypes: object(3)\n",
      "memory usage: 340.6+ KB\n",
      "                 user_id  group            ab_test\n",
      "count              14525  14525              14525\n",
      "unique             13638      2                  2\n",
      "top     F1B93BAE75EE0FB2      A  interface_eu_test\n",
      "freq                   2   8214              10850\n"
     ]
    }
   ],
   "source": [
    "leer_datos(participants)"
   ]
  },
  {
   "cell_type": "code",
   "execution_count": 16,
   "metadata": {},
   "outputs": [
    {
     "name": "stdout",
     "output_type": "stream",
     "text": [
      "Valores duplicados: 0\n",
      "\n",
      "Valores ausentes:\n",
      "user_id    0\n",
      "group      0\n",
      "ab_test    0\n",
      "dtype: int64\n"
     ]
    }
   ],
   "source": [
    "valores_datos(participants)"
   ]
  },
  {
   "cell_type": "markdown",
   "metadata": {},
   "source": [
    "<span style=\"color:purple; font-weight:bold; font-size: 18px\">\n",
    "En este ultimo DF no se encontraron valores ausentes ni duplicados.\n",
    "</span>"
   ]
  },
  {
   "cell_type": "markdown",
   "metadata": {},
   "source": [
    "## Análisis exploratorio de datos (EDA)"
   ]
  },
  {
   "cell_type": "markdown",
   "metadata": {},
   "source": [
    "### Estudia la conversión en las diferentes etapas del embudo."
   ]
  },
  {
   "cell_type": "markdown",
   "metadata": {},
   "source": [
    "#### Embudo del total de usuarios"
   ]
  },
  {
   "cell_type": "code",
   "execution_count": 17,
   "metadata": {},
   "outputs": [],
   "source": [
    "# numero de usuarios por eventos\n",
    "eventos_por_tipo = events.groupby('event_name')['user_id'].count().reset_index()"
   ]
  },
  {
   "cell_type": "code",
   "execution_count": 18,
   "metadata": {},
   "outputs": [],
   "source": [
    "# renombrar columnas \n",
    "eventos_por_tipo.columns = ['Stage', 'Quantity']"
   ]
  },
  {
   "cell_type": "code",
   "execution_count": 19,
   "metadata": {},
   "outputs": [],
   "source": [
    "# ordenar datos por cantidad\n",
    "eventos_por_tipo.sort_values(by='Quantity', ascending=False, inplace=True)"
   ]
  },
  {
   "cell_type": "code",
   "execution_count": 20,
   "metadata": {},
   "outputs": [
    {
     "data": {
      "image/png": "[encoded data removed]",
      "text/plain": [
       "<Figure size 1200x600 with 1 Axes>"
      ]
     },
     "metadata": {},
     "output_type": "display_data"
    }
   ],
   "source": [
    "# mostrar embudo\n",
    "with plt.style.context('dark_background'):\n",
    "    plt.figure(figsize=(12,6))\n",
    "    sns.barplot(\n",
    "        x='Stage',\n",
    "        y='Quantity',\n",
    "        data = eventos_por_tipo\n",
    "    )\n",
    "\n",
    "    plt.title('Embudo de frecuencia de sucesos por evento')\n",
    "    plt.show()"
   ]
  },
  {
   "cell_type": "markdown",
   "metadata": {},
   "source": [
    "#### Calculo de conversión de usuarios"
   ]
  },
  {
   "cell_type": "code",
   "execution_count": 21,
   "metadata": {},
   "outputs": [
    {
     "name": "stdout",
     "output_type": "stream",
     "text": [
      "El total de usuarios es: 423761\n"
     ]
    }
   ],
   "source": [
    "# total de usuarios (\n",
    "users_total = events['user_id'].count()\n",
    "print(f'El total de usuarios es: {users_total}')"
   ]
  },
  {
   "cell_type": "code",
   "execution_count": 22,
   "metadata": {},
   "outputs": [
    {
     "name": "stdout",
     "output_type": "stream",
     "text": [
      "              user_id\n",
      "event_name           \n",
      "login           58696\n",
      "product_page    38929\n",
      "purchase        19568\n",
      "product_cart    19284\n"
     ]
    }
   ],
   "source": [
    "# extraer los usuarios unicos de cada evento\n",
    "users_uniq = events.groupby('event_name').agg({'user_id' : 'nunique'})\n",
    "\n",
    "# ordenar los valores por user_id de forma descente\n",
    "users_uniq.sort_values(by='user_id', ascending = False, inplace = True)\n",
    "\n",
    "print(users_uniq)"
   ]
  },
  {
   "cell_type": "code",
   "execution_count": 23,
   "metadata": {},
   "outputs": [
    {
     "name": "stdout",
     "output_type": "stream",
     "text": [
      "              user_id\n",
      "event_name           \n",
      "login           13.85\n",
      "product_page     9.19\n",
      "purchase         4.62\n",
      "product_cart     4.55\n"
     ]
    }
   ],
   "source": [
    "# calcular la proporcion de usuarios de la tasa de conversion\n",
    "conversion =  (users_uniq / users_total) * 100 \n",
    "# imprimir la convercion\n",
    "print(conversion.round(2))"
   ]
  },
  {
   "cell_type": "markdown",
   "metadata": {},
   "source": [
    "<span style=\"color:purple; font-weight:bold; font-size: 18px\">\n",
    "En este primer embudo se calculo la tasa de conversion y se obtuvo como resultado que solo 13 % de los usuarios/as se logean en el sitio, un 9.19% visitan la pagina de productos, un 4.62% realiza una compra y un 4.55% va a la pagina de carrito. Mas adelante se comprobara si existe algun cambio con el experimento\n",
    "</span>"
   ]
  },
  {
   "cell_type": "markdown",
   "metadata": {},
   "source": [
    "#### Usuarios/as que pasan de etapa (segun lo esperado)"
   ]
  },
  {
   "cell_type": "code",
   "execution_count": 24,
   "metadata": {},
   "outputs": [],
   "source": [
    "# calcular la proporcion de usuarios/as que pasan a una etapa siguiente\n",
    "stage_pivot = events.pivot_table(\n",
    "    index='user_id',\n",
    "    columns='event_name',\n",
    "    values='event_dt', \n",
    "    aggfunc='min'\n",
    ")"
   ]
  },
  {
   "cell_type": "code",
   "execution_count": 25,
   "metadata": {},
   "outputs": [
    {
     "data": {
      "text/html": [
       "<div>\n",
       "<style scoped>\n",
       "    .dataframe tbody tr th:only-of-type {\n",
       "        vertical-align: middle;\n",
       "    }\n",
       "\n",
       "    .dataframe tbody tr th {\n",
       "        vertical-align: top;\n",
       "    }\n",
       "\n",
       "    .dataframe thead th {\n",
       "        text-align: right;\n",
       "    }\n",
       "</style>\n",
       "<table border=\"1\" class=\"dataframe\">\n",
       "  <thead>\n",
       "    <tr style=\"text-align: right;\">\n",
       "      <th>event_name</th>\n",
       "      <th>login</th>\n",
       "      <th>product_cart</th>\n",
       "      <th>product_page</th>\n",
       "      <th>purchase</th>\n",
       "    </tr>\n",
       "    <tr>\n",
       "      <th>user_id</th>\n",
       "      <th></th>\n",
       "      <th></th>\n",
       "      <th></th>\n",
       "      <th></th>\n",
       "    </tr>\n",
       "  </thead>\n",
       "  <tbody>\n",
       "    <tr>\n",
       "      <th>0001710F4DDB1D1B</th>\n",
       "      <td>2020-12-14 20:20:40</td>\n",
       "      <td>2020-12-14 20:20:42</td>\n",
       "      <td>2020-12-14 20:20:41</td>\n",
       "      <td>NaT</td>\n",
       "    </tr>\n",
       "    <tr>\n",
       "      <th>000199F1887AE5E6</th>\n",
       "      <td>2020-12-14 09:56:09</td>\n",
       "      <td>2020-12-14 09:56:11</td>\n",
       "      <td>2020-12-14 09:56:09</td>\n",
       "      <td>2020-12-14 09:56:09</td>\n",
       "    </tr>\n",
       "    <tr>\n",
       "      <th>0002499E372175C7</th>\n",
       "      <td>2020-12-22 03:49:52</td>\n",
       "      <td>NaT</td>\n",
       "      <td>2020-12-22 03:49:55</td>\n",
       "      <td>2020-12-22 03:49:52</td>\n",
       "    </tr>\n",
       "    <tr>\n",
       "      <th>0002CE61FF2C4011</th>\n",
       "      <td>2020-12-07 04:37:36</td>\n",
       "      <td>2020-12-07 04:37:37</td>\n",
       "      <td>2020-12-07 04:37:42</td>\n",
       "      <td>NaT</td>\n",
       "    </tr>\n",
       "    <tr>\n",
       "      <th>000456437D0EFFE1</th>\n",
       "      <td>2020-12-15 11:25:03</td>\n",
       "      <td>NaT</td>\n",
       "      <td>2020-12-15 11:25:04</td>\n",
       "      <td>NaT</td>\n",
       "    </tr>\n",
       "    <tr>\n",
       "      <th>...</th>\n",
       "      <td>...</td>\n",
       "      <td>...</td>\n",
       "      <td>...</td>\n",
       "      <td>...</td>\n",
       "    </tr>\n",
       "    <tr>\n",
       "      <th>FFF7A7BAF44FE9B4</th>\n",
       "      <td>2020-12-19 11:10:03</td>\n",
       "      <td>NaT</td>\n",
       "      <td>NaT</td>\n",
       "      <td>NaT</td>\n",
       "    </tr>\n",
       "    <tr>\n",
       "      <th>FFF8FDBE2FE99C91</th>\n",
       "      <td>2020-12-20 04:53:50</td>\n",
       "      <td>NaT</td>\n",
       "      <td>2020-12-20 04:53:51</td>\n",
       "      <td>2020-12-20 04:53:50</td>\n",
       "    </tr>\n",
       "    <tr>\n",
       "      <th>FFF91B6C5431F375</th>\n",
       "      <td>2020-12-14 22:12:04</td>\n",
       "      <td>2020-12-14 22:12:04</td>\n",
       "      <td>NaT</td>\n",
       "      <td>NaT</td>\n",
       "    </tr>\n",
       "    <tr>\n",
       "      <th>FFFAB034A09DCC28</th>\n",
       "      <td>2020-12-18 12:00:53</td>\n",
       "      <td>NaT</td>\n",
       "      <td>2020-12-18 12:00:55</td>\n",
       "      <td>NaT</td>\n",
       "    </tr>\n",
       "    <tr>\n",
       "      <th>FFFFE36C0F6E92DF</th>\n",
       "      <td>2020-12-22 11:38:57</td>\n",
       "      <td>2020-12-22 11:38:57</td>\n",
       "      <td>2020-12-22 11:38:57</td>\n",
       "      <td>NaT</td>\n",
       "    </tr>\n",
       "  </tbody>\n",
       "</table>\n",
       "<p>58703 rows × 4 columns</p>\n",
       "</div>"
      ],
      "text/plain": [
       "event_name                     login        product_cart        product_page  \\\n",
       "user_id                                                                        \n",
       "0001710F4DDB1D1B 2020-12-14 20:20:40 2020-12-14 20:20:42 2020-12-14 20:20:41   \n",
       "000199F1887AE5E6 2020-12-14 09:56:09 2020-12-14 09:56:11 2020-12-14 09:56:09   \n",
       "0002499E372175C7 2020-12-22 03:49:52                 NaT 2020-12-22 03:49:55   \n",
       "0002CE61FF2C4011 2020-12-07 04:37:36 2020-12-07 04:37:37 2020-12-07 04:37:42   \n",
       "000456437D0EFFE1 2020-12-15 11:25:03                 NaT 2020-12-15 11:25:04   \n",
       "...                              ...                 ...                 ...   \n",
       "FFF7A7BAF44FE9B4 2020-12-19 11:10:03                 NaT                 NaT   \n",
       "FFF8FDBE2FE99C91 2020-12-20 04:53:50                 NaT 2020-12-20 04:53:51   \n",
       "FFF91B6C5431F375 2020-12-14 22:12:04 2020-12-14 22:12:04                 NaT   \n",
       "FFFAB034A09DCC28 2020-12-18 12:00:53                 NaT 2020-12-18 12:00:55   \n",
       "FFFFE36C0F6E92DF 2020-12-22 11:38:57 2020-12-22 11:38:57 2020-12-22 11:38:57   \n",
       "\n",
       "event_name                  purchase  \n",
       "user_id                               \n",
       "0001710F4DDB1D1B                 NaT  \n",
       "000199F1887AE5E6 2020-12-14 09:56:09  \n",
       "0002499E372175C7 2020-12-22 03:49:52  \n",
       "0002CE61FF2C4011                 NaT  \n",
       "000456437D0EFFE1                 NaT  \n",
       "...                              ...  \n",
       "FFF7A7BAF44FE9B4                 NaT  \n",
       "FFF8FDBE2FE99C91 2020-12-20 04:53:50  \n",
       "FFF91B6C5431F375                 NaT  \n",
       "FFFAB034A09DCC28                 NaT  \n",
       "FFFFE36C0F6E92DF                 NaT  \n",
       "\n",
       "[58703 rows x 4 columns]"
      ]
     },
     "execution_count": 25,
     "metadata": {},
     "output_type": "execute_result"
    }
   ],
   "source": [
    "stage_pivot"
   ]
  },
  {
   "cell_type": "code",
   "execution_count": 26,
   "metadata": {},
   "outputs": [],
   "source": [
    "# declarar los pasos esperados que los usuarios hicieron en los eventos \n",
    "step_1 = ~stage_pivot['login'].isna()\n",
    "step_2 = step_1 & (stage_pivot['product_page'] > stage_pivot['login'])\n",
    "step_3 = step_2 & (stage_pivot['product_cart'] > stage_pivot['product_page'])\n",
    "step_4 = step_3 & (stage_pivot['purchase'] > stage_pivot['product_cart'])"
   ]
  },
  {
   "cell_type": "code",
   "execution_count": 27,
   "metadata": {},
   "outputs": [],
   "source": [
    "# crear variables con los pasos de la hora de su primer visita y los que realizaron la accion\n",
    "n_login = stage_pivot[step_1].shape[0]\n",
    "n_product_page = stage_pivot[step_2].shape[0]\n",
    "n_product_cart = stage_pivot[step_3].shape[0]\n",
    "n_purchase = stage_pivot[step_4].shape[0]\n"
   ]
  },
  {
   "cell_type": "code",
   "execution_count": 28,
   "metadata": {},
   "outputs": [
    {
     "name": "stdout",
     "output_type": "stream",
     "text": [
      "Se loggeo en la pagina: 58696\n",
      "Entro a la pagina del producto: 22119\n",
      "Agrego productos al carrito: 1347\n",
      "Realizo la compra: 6\n"
     ]
    }
   ],
   "source": [
    "print('Se loggeo en la pagina:', n_login)\n",
    "print('Entro a la pagina del producto:', n_product_page)\n",
    "print('Agrego productos al carrito:', n_product_cart)\n",
    "print('Realizo la compra:', n_purchase)"
   ]
  },
  {
   "cell_type": "markdown",
   "metadata": {},
   "source": [
    "<span style=\"color:purple; font-weight:bold; font-size: 18px\">\n",
    "Se analizo el embudo esperado que los clientes deberian realizar y se encontro que solo 6 personas realizan una compra en el sitio.\n",
    "</span>"
   ]
  },
  {
   "cell_type": "markdown",
   "metadata": {},
   "source": [
    "#### Perdida de usuarios en cada etapa "
   ]
  },
  {
   "cell_type": "code",
   "execution_count": 29,
   "metadata": {},
   "outputs": [],
   "source": [
    "# crear diccionario con los datos obtenidos\n",
    "embudo_nuevo_usuarios = {\n",
    "    'login' : n_login,\n",
    "    'product_page' : n_product_page,\n",
    "    'product_cart' : n_product_cart,\n",
    "    'purchase' : n_purchase\n",
    "}"
   ]
  },
  {
   "cell_type": "code",
   "execution_count": 30,
   "metadata": {},
   "outputs": [],
   "source": [
    "# crear df con los datos del embudo \n",
    "df_embudo = pd.DataFrame(list(embudo_nuevo_usuarios.items()))\n",
    "\n",
    "# renombrar columnas \n",
    "df_embudo.columns = ['event_name', 'usuarios_despues_embudo']"
   ]
  },
  {
   "cell_type": "code",
   "execution_count": 31,
   "metadata": {},
   "outputs": [
    {
     "data": {
      "text/html": [
       "<div>\n",
       "<style scoped>\n",
       "    .dataframe tbody tr th:only-of-type {\n",
       "        vertical-align: middle;\n",
       "    }\n",
       "\n",
       "    .dataframe tbody tr th {\n",
       "        vertical-align: top;\n",
       "    }\n",
       "\n",
       "    .dataframe thead th {\n",
       "        text-align: right;\n",
       "    }\n",
       "</style>\n",
       "<table border=\"1\" class=\"dataframe\">\n",
       "  <thead>\n",
       "    <tr style=\"text-align: right;\">\n",
       "      <th></th>\n",
       "      <th>event_name</th>\n",
       "      <th>usuarios_despues_embudo</th>\n",
       "    </tr>\n",
       "  </thead>\n",
       "  <tbody>\n",
       "    <tr>\n",
       "      <th>0</th>\n",
       "      <td>login</td>\n",
       "      <td>58696</td>\n",
       "    </tr>\n",
       "    <tr>\n",
       "      <th>1</th>\n",
       "      <td>product_page</td>\n",
       "      <td>22119</td>\n",
       "    </tr>\n",
       "    <tr>\n",
       "      <th>2</th>\n",
       "      <td>product_cart</td>\n",
       "      <td>1347</td>\n",
       "    </tr>\n",
       "    <tr>\n",
       "      <th>3</th>\n",
       "      <td>purchase</td>\n",
       "      <td>6</td>\n",
       "    </tr>\n",
       "  </tbody>\n",
       "</table>\n",
       "</div>"
      ],
      "text/plain": [
       "     event_name  usuarios_despues_embudo\n",
       "0         login                    58696\n",
       "1  product_page                    22119\n",
       "2  product_cart                     1347\n",
       "3      purchase                        6"
      ]
     },
     "execution_count": 31,
     "metadata": {},
     "output_type": "execute_result"
    }
   ],
   "source": [
    "df_embudo"
   ]
  },
  {
   "cell_type": "code",
   "execution_count": 32,
   "metadata": {},
   "outputs": [],
   "source": [
    "# comparar los usuarios unicos iniciales con los que resultaron del nuevo embudo \n",
    "user_unicos = users_uniq.sort_values(by='user_id', ascending=False).reset_index()\n",
    "\n",
    "# renombrar columnas \n",
    "user_unicos.columns = ['event_name', 'usuarios_iniciales']"
   ]
  },
  {
   "cell_type": "code",
   "execution_count": 33,
   "metadata": {},
   "outputs": [],
   "source": [
    "# combinar los DF \n",
    "embudos_comparados = user_unicos.merge(df_embudo, on='event_name')"
   ]
  },
  {
   "cell_type": "code",
   "execution_count": 34,
   "metadata": {},
   "outputs": [],
   "source": [
    "# ordenar de manera descendente\n",
    "embudos_comparados.sort_values(by='usuarios_despues_embudo', ascending=False, inplace=True)"
   ]
  },
  {
   "cell_type": "code",
   "execution_count": 35,
   "metadata": {},
   "outputs": [
    {
     "data": {
      "text/html": [
       "<div>\n",
       "<style scoped>\n",
       "    .dataframe tbody tr th:only-of-type {\n",
       "        vertical-align: middle;\n",
       "    }\n",
       "\n",
       "    .dataframe tbody tr th {\n",
       "        vertical-align: top;\n",
       "    }\n",
       "\n",
       "    .dataframe thead th {\n",
       "        text-align: right;\n",
       "    }\n",
       "</style>\n",
       "<table border=\"1\" class=\"dataframe\">\n",
       "  <thead>\n",
       "    <tr style=\"text-align: right;\">\n",
       "      <th></th>\n",
       "      <th>event_name</th>\n",
       "      <th>usuarios_iniciales</th>\n",
       "      <th>usuarios_despues_embudo</th>\n",
       "      <th>usuarios_perdidos</th>\n",
       "    </tr>\n",
       "  </thead>\n",
       "  <tbody>\n",
       "    <tr>\n",
       "      <th>0</th>\n",
       "      <td>login</td>\n",
       "      <td>58696</td>\n",
       "      <td>58696</td>\n",
       "      <td>0</td>\n",
       "    </tr>\n",
       "    <tr>\n",
       "      <th>1</th>\n",
       "      <td>product_page</td>\n",
       "      <td>38929</td>\n",
       "      <td>22119</td>\n",
       "      <td>16810</td>\n",
       "    </tr>\n",
       "    <tr>\n",
       "      <th>3</th>\n",
       "      <td>product_cart</td>\n",
       "      <td>19284</td>\n",
       "      <td>1347</td>\n",
       "      <td>17937</td>\n",
       "    </tr>\n",
       "    <tr>\n",
       "      <th>2</th>\n",
       "      <td>purchase</td>\n",
       "      <td>19568</td>\n",
       "      <td>6</td>\n",
       "      <td>19562</td>\n",
       "    </tr>\n",
       "  </tbody>\n",
       "</table>\n",
       "</div>"
      ],
      "text/plain": [
       "     event_name  usuarios_iniciales  usuarios_despues_embudo  \\\n",
       "0         login               58696                    58696   \n",
       "1  product_page               38929                    22119   \n",
       "3  product_cart               19284                     1347   \n",
       "2      purchase               19568                        6   \n",
       "\n",
       "   usuarios_perdidos  \n",
       "0                  0  \n",
       "1              16810  \n",
       "3              17937  \n",
       "2              19562  "
      ]
     },
     "execution_count": 35,
     "metadata": {},
     "output_type": "execute_result"
    }
   ],
   "source": [
    "# calcular la diferencia entre los usuarios iniciales y los que sobraron despues de la ruta esperada \n",
    "embudos_comparados['usuarios_perdidos'] = embudos_comparados['usuarios_iniciales'] - embudos_comparados['usuarios_despues_embudo']\n",
    "\n",
    "# mostrar resultado\n",
    "embudos_comparados"
   ]
  },
  {
   "cell_type": "markdown",
   "metadata": {},
   "source": [
    "<span style=\"color:purple; font-weight:bold; font-size: 18px\">\n",
    "Despues se calcularon cuantos usuarios se pierden en cada una de las etapas del embudo, lo que dio como resultado, que la etapa donde se pierden mas usuarios/as es de product_cart a purchase teniendo una enorme cantidad de 19,562 usuarios perdidos, mientras que de product_page a product_cart se pierde un total de 17,937 usuarios/as finalmente en la etapa de product_page se pierden 16,810 usuarios/as mas lo que se perdieron de la pagina de login. \n",
    "</span>"
   ]
  },
  {
   "cell_type": "code",
   "execution_count": 36,
   "metadata": {},
   "outputs": [],
   "source": [
    "# calcular porcentaje de usuarios perdidos en cada etapa \n",
    "embudos_comparados['conversion_siguiente_etapa'] = (\n",
    "    embudos_comparados['usuarios_despues_embudo'] / embudos_comparados['usuarios_iniciales']) * 100"
   ]
  },
  {
   "cell_type": "code",
   "execution_count": 37,
   "metadata": {},
   "outputs": [],
   "source": [
    "# redondear el resultado \n",
    "embudos_comparados['conversion_siguiente_etapa'] = embudos_comparados['conversion_siguiente_etapa'].round(2)"
   ]
  },
  {
   "cell_type": "code",
   "execution_count": 38,
   "metadata": {},
   "outputs": [
    {
     "data": {
      "text/html": [
       "<div>\n",
       "<style scoped>\n",
       "    .dataframe tbody tr th:only-of-type {\n",
       "        vertical-align: middle;\n",
       "    }\n",
       "\n",
       "    .dataframe tbody tr th {\n",
       "        vertical-align: top;\n",
       "    }\n",
       "\n",
       "    .dataframe thead th {\n",
       "        text-align: right;\n",
       "    }\n",
       "</style>\n",
       "<table border=\"1\" class=\"dataframe\">\n",
       "  <thead>\n",
       "    <tr style=\"text-align: right;\">\n",
       "      <th></th>\n",
       "      <th>event_name</th>\n",
       "      <th>usuarios_iniciales</th>\n",
       "      <th>usuarios_despues_embudo</th>\n",
       "      <th>usuarios_perdidos</th>\n",
       "      <th>conversion_siguiente_etapa</th>\n",
       "    </tr>\n",
       "  </thead>\n",
       "  <tbody>\n",
       "    <tr>\n",
       "      <th>0</th>\n",
       "      <td>login</td>\n",
       "      <td>58696</td>\n",
       "      <td>58696</td>\n",
       "      <td>0</td>\n",
       "      <td>100.00</td>\n",
       "    </tr>\n",
       "    <tr>\n",
       "      <th>1</th>\n",
       "      <td>product_page</td>\n",
       "      <td>38929</td>\n",
       "      <td>22119</td>\n",
       "      <td>16810</td>\n",
       "      <td>56.82</td>\n",
       "    </tr>\n",
       "    <tr>\n",
       "      <th>3</th>\n",
       "      <td>product_cart</td>\n",
       "      <td>19284</td>\n",
       "      <td>1347</td>\n",
       "      <td>17937</td>\n",
       "      <td>6.99</td>\n",
       "    </tr>\n",
       "    <tr>\n",
       "      <th>2</th>\n",
       "      <td>purchase</td>\n",
       "      <td>19568</td>\n",
       "      <td>6</td>\n",
       "      <td>19562</td>\n",
       "      <td>0.03</td>\n",
       "    </tr>\n",
       "  </tbody>\n",
       "</table>\n",
       "</div>"
      ],
      "text/plain": [
       "     event_name  usuarios_iniciales  usuarios_despues_embudo  \\\n",
       "0         login               58696                    58696   \n",
       "1  product_page               38929                    22119   \n",
       "3  product_cart               19284                     1347   \n",
       "2      purchase               19568                        6   \n",
       "\n",
       "   usuarios_perdidos  conversion_siguiente_etapa  \n",
       "0                  0                      100.00  \n",
       "1              16810                       56.82  \n",
       "3              17937                        6.99  \n",
       "2              19562                        0.03  "
      ]
     },
     "execution_count": 38,
     "metadata": {},
     "output_type": "execute_result"
    }
   ],
   "source": [
    "embudos_comparados"
   ]
  },
  {
   "cell_type": "markdown",
   "metadata": {},
   "source": [
    "<span style=\"color:purple; font-weight:bold; font-size: 18px\">\n",
    "En terminos de porcentaje solo un 56.82% de los usuarios realizan la accion de visitar product_page, solo 6.99% entran a product_cart y solo 0.03% de los usuarios iniciales completan la compra. \n",
    "</span>"
   ]
  },
  {
   "cell_type": "markdown",
   "metadata": {},
   "source": [
    "### ¿El número de eventos por usuario está distribuido equitativamente entre las muestras?"
   ]
  },
  {
   "cell_type": "code",
   "execution_count": 39,
   "metadata": {},
   "outputs": [],
   "source": [
    "# contar el numero de participantes por grupo\n",
    "group_size = participants.groupby('group')['user_id'].count().reset_index(name='count_users')"
   ]
  },
  {
   "cell_type": "code",
   "execution_count": 40,
   "metadata": {},
   "outputs": [],
   "source": [
    "# calcular el total de usuarios de ambos grupos\n",
    "total_users = group_size['count_users'].sum()\n",
    "# calcular la proporcion \n",
    "group_size['proportion'] = group_size['count_users'] / total_users"
   ]
  },
  {
   "cell_type": "code",
   "execution_count": 41,
   "metadata": {},
   "outputs": [
    {
     "data": {
      "image/png": "[encoded data removed]",
      "text/plain": [
       "<Figure size 1000x600 with 1 Axes>"
      ]
     },
     "metadata": {},
     "output_type": "display_data"
    }
   ],
   "source": [
    "# mostrar grafico de barras con las proporciones de ambas muestras\n",
    "plt.figure(figsize=(10,6))\n",
    "sns.barplot(data=group_size, x='group', y='count_users', palette='YlGnBu')\n",
    "\n",
    "plt.title('Distribución de Usuarios por Grupo')\n",
    "plt.xlabel('Grupo')\n",
    "plt.ylabel('Número de Usuarios')\n",
    "\n",
    "# mostrar el porcentaje que cada muestra representa\n",
    "for i, row in group_size.iterrows():\n",
    "    plt.text(i, row['count_users'] + 10, f\"{row['proportion']:.1%}\", ha='center', fontsize=10)\n",
    "\n",
    "plt.show()"
   ]
  },
  {
   "cell_type": "markdown",
   "metadata": {},
   "source": [
    "<span style=\"color:purple; font-weight:bold; font-size: 18px\">\n",
    "En cuanto a la distribucion de las muestras se observa que el grupo A cuenta con un 56.6% del total de participantes, mientras que el grupo B tiene 43.4% lo que significa una diferencia del 13.2% entre grupos, lo que sugiere que el grupo A cuenta con mas representacion, lo que podria influir en los resultados\n",
    "</span>"
   ]
  },
  {
   "cell_type": "markdown",
   "metadata": {},
   "source": [
    "### ¿Hay usuarios que están presentes en ambas muestras?"
   ]
  },
  {
   "cell_type": "code",
   "execution_count": 42,
   "metadata": {},
   "outputs": [],
   "source": [
    "# filtro de usuarios unicos por grupo\n",
    "users_a = participants[participants['group'] == 'A']['user_id'].unique()\n",
    "users_b = participants[participants['group'] == 'B']['user_id'].unique()"
   ]
  },
  {
   "cell_type": "code",
   "execution_count": 43,
   "metadata": {},
   "outputs": [
    {
     "name": "stdout",
     "output_type": "stream",
     "text": [
      "Numero de usuarios en ambas muestras: 441\n"
     ]
    }
   ],
   "source": [
    "# buscar si aparecen en ambas pruebas con la funcion intersection\n",
    "users_duplicated = set(users_a).intersection(set(users_b))\n",
    "\n",
    "print(f'Numero de usuarios en ambas muestras: {len(users_duplicated)}')"
   ]
  },
  {
   "cell_type": "markdown",
   "metadata": {},
   "source": [
    "<span style=\"color:purple; font-weight:bold; font-size: 18px\">\n",
    "Por otra parte se encontro otra pecularidad en los datos ya que se encontraron un total de 441 usuarios en ambas muestras.\n",
    "</span>"
   ]
  },
  {
   "cell_type": "markdown",
   "metadata": {},
   "source": [
    "### ¿Cómo se distribuye el número de eventos entre los días?"
   ]
  },
  {
   "cell_type": "code",
   "execution_count": 44,
   "metadata": {},
   "outputs": [],
   "source": [
    "# crear columna con fecha sin hora\n",
    "events['date'] = events['event_dt'].dt.date"
   ]
  },
  {
   "cell_type": "code",
   "execution_count": 45,
   "metadata": {},
   "outputs": [],
   "source": [
    "# filtrar datos entre las fechas de inicio y final \n",
    "fecha_inicio = events['date'].min()\n",
    "fecha_final = events['date'].max()\n",
    "\n",
    "filtro_fecha = (events['date'] >= fecha_inicio) & (events['date'] <= fecha_final)\n",
    "datos_filtrados = events[filtro_fecha]"
   ]
  },
  {
   "cell_type": "code",
   "execution_count": 46,
   "metadata": {},
   "outputs": [
    {
     "data": {
      "text/plain": [
       "date\n",
       "2020-12-07    11385\n",
       "2020-12-08    12547\n",
       "2020-12-09    12122\n",
       "2020-12-10    14077\n",
       "2020-12-11    13864\n",
       "2020-12-12    17634\n",
       "2020-12-13    20985\n",
       "2020-12-14    26184\n",
       "2020-12-15    23469\n",
       "2020-12-16    20909\n",
       "2020-12-17    21751\n",
       "2020-12-18    22871\n",
       "2020-12-19    24273\n",
       "2020-12-20    26425\n",
       "2020-12-21    32559\n",
       "2020-12-22    29472\n",
       "2020-12-23    26108\n",
       "2020-12-24    19399\n",
       "2020-12-26    14058\n",
       "2020-12-27    12420\n",
       "2020-12-28    11014\n",
       "2020-12-29    10146\n",
       "2020-12-30       89\n",
       "Name: event_name, dtype: int64"
      ]
     },
     "execution_count": 46,
     "metadata": {},
     "output_type": "execute_result"
    }
   ],
   "source": [
    "# contar eventos por dia\n",
    "eventos_por_dia = datos_filtrados.groupby('date')['event_name'].count()\n",
    "eventos_por_dia"
   ]
  },
  {
   "cell_type": "code",
   "execution_count": 47,
   "metadata": {},
   "outputs": [
    {
     "data": {
      "image/png": "[encoded data removed]",
      "text/plain": [
       "<Figure size 1000x600 with 1 Axes>"
      ]
     },
     "metadata": {},
     "output_type": "display_data"
    }
   ],
   "source": [
    "# histograma con distribuciones de eventos por dia \n",
    "plt.figure(figsize=(10,6))\n",
    "plt.hist(eventos_por_dia, bins=10, alpha=0.7)\n",
    "plt.title('Distribución del número de eventos por día')\n",
    "plt.xlabel('Número de eventos')\n",
    "plt.ylabel('Frecuencia')\n",
    "plt.grid(axis='y', linestyle='--', alpha=0.7)\n",
    "plt.show()"
   ]
  },
  {
   "cell_type": "code",
   "execution_count": 48,
   "metadata": {},
   "outputs": [
    {
     "data": {
      "image/png": "[encoded data removed]",
      "text/plain": [
       "<Figure size 1000x600 with 1 Axes>"
      ]
     },
     "metadata": {},
     "output_type": "display_data"
    }
   ],
   "source": [
    "# grafico de lineas \n",
    "eventos_por_dia.plot(\n",
    "    title='Distribución temporal del número de eventos',\n",
    "    xlabel='Fecha', \n",
    "    ylabel='Número de eventos', \n",
    "    figsize=(10,6), \n",
    "    marker='o',\n",
    "    color='crimson'\n",
    ")\n",
    "plt.xticks(rotation=45)\n",
    "plt.grid(axis='y', linestyle='--', alpha=0.7)\n",
    "plt.show()"
   ]
  },
  {
   "cell_type": "markdown",
   "metadata": {},
   "source": [
    "<span style=\"color:purple; font-weight:bold; font-size: 18px\">\n",
    "Al analizar los eventos por dias se logra visualizar que la mayoria supera los 10,000 eventos, sin embargo en el ultimo dia del año hay una baja considerable de eventos, pasando de los 10,146 de un dia anterior a 89 eventos. \n",
    "</span>"
   ]
  },
  {
   "cell_type": "markdown",
   "metadata": {},
   "source": [
    "### ¿Hay alguna peculiaridad en los datos que hay que tener en cuenta antes de iniciar la prueba A/B?"
   ]
  },
  {
   "cell_type": "markdown",
   "metadata": {},
   "source": [
    "#### Revisar valores atípicos de la cantidad de eventos por usuario/a"
   ]
  },
  {
   "cell_type": "code",
   "execution_count": 49,
   "metadata": {},
   "outputs": [
    {
     "data": {
      "text/html": [
       "<div>\n",
       "<style scoped>\n",
       "    .dataframe tbody tr th:only-of-type {\n",
       "        vertical-align: middle;\n",
       "    }\n",
       "\n",
       "    .dataframe tbody tr th {\n",
       "        vertical-align: top;\n",
       "    }\n",
       "\n",
       "    .dataframe thead th {\n",
       "        text-align: right;\n",
       "    }\n",
       "</style>\n",
       "<table border=\"1\" class=\"dataframe\">\n",
       "  <thead>\n",
       "    <tr style=\"text-align: right;\">\n",
       "      <th></th>\n",
       "      <th>user_id</th>\n",
       "      <th>total_eventos</th>\n",
       "    </tr>\n",
       "  </thead>\n",
       "  <tbody>\n",
       "    <tr>\n",
       "      <th>37526</th>\n",
       "      <td>A3917F81482141F2</td>\n",
       "      <td>36</td>\n",
       "    </tr>\n",
       "    <tr>\n",
       "      <th>7403</th>\n",
       "      <td>203773F2A53233A8</td>\n",
       "      <td>32</td>\n",
       "    </tr>\n",
       "    <tr>\n",
       "      <th>3965</th>\n",
       "      <td>11285A53EC2B2042</td>\n",
       "      <td>32</td>\n",
       "    </tr>\n",
       "    <tr>\n",
       "      <th>42807</th>\n",
       "      <td>BA87FD8D70D63CC6</td>\n",
       "      <td>32</td>\n",
       "    </tr>\n",
       "    <tr>\n",
       "      <th>12472</th>\n",
       "      <td>365C8B51237C61AF</td>\n",
       "      <td>32</td>\n",
       "    </tr>\n",
       "    <tr>\n",
       "      <th>...</th>\n",
       "      <td>...</td>\n",
       "      <td>...</td>\n",
       "    </tr>\n",
       "    <tr>\n",
       "      <th>27886</th>\n",
       "      <td>7A2073BD661AF70D</td>\n",
       "      <td>1</td>\n",
       "    </tr>\n",
       "    <tr>\n",
       "      <th>15918</th>\n",
       "      <td>452225689815A700</td>\n",
       "      <td>1</td>\n",
       "    </tr>\n",
       "    <tr>\n",
       "      <th>45177</th>\n",
       "      <td>C5293D68FDC0D086</td>\n",
       "      <td>1</td>\n",
       "    </tr>\n",
       "    <tr>\n",
       "      <th>52381</th>\n",
       "      <td>E48564406C361C95</td>\n",
       "      <td>1</td>\n",
       "    </tr>\n",
       "    <tr>\n",
       "      <th>45199</th>\n",
       "      <td>C542EBA6EC42E376</td>\n",
       "      <td>1</td>\n",
       "    </tr>\n",
       "  </tbody>\n",
       "</table>\n",
       "<p>58703 rows × 2 columns</p>\n",
       "</div>"
      ],
      "text/plain": [
       "                user_id  total_eventos\n",
       "37526  A3917F81482141F2             36\n",
       "7403   203773F2A53233A8             32\n",
       "3965   11285A53EC2B2042             32\n",
       "42807  BA87FD8D70D63CC6             32\n",
       "12472  365C8B51237C61AF             32\n",
       "...                 ...            ...\n",
       "27886  7A2073BD661AF70D              1\n",
       "15918  452225689815A700              1\n",
       "45177  C5293D68FDC0D086              1\n",
       "52381  E48564406C361C95              1\n",
       "45199  C542EBA6EC42E376              1\n",
       "\n",
       "[58703 rows x 2 columns]"
      ]
     },
     "execution_count": 49,
     "metadata": {},
     "output_type": "execute_result"
    }
   ],
   "source": [
    "# calcular la cantidad de eventos por usuario\n",
    "user_events_total = events.groupby('user_id')['event_name'].count().reset_index(name='total_eventos')\n",
    "\n",
    "# ordenar los datos\n",
    "user_events_total.sort_values(by='total_eventos', ascending=False)"
   ]
  },
  {
   "cell_type": "markdown",
   "metadata": {},
   "source": [
    "<span style=\"color:purple; font-weight:bold; font-size: 18px\">\n",
    "Otra peculiaridad en los datos es que hay usuarios que hacen mas de un evento.\n",
    "</span>"
   ]
  },
  {
   "cell_type": "code",
   "execution_count": 50,
   "metadata": {},
   "outputs": [
    {
     "data": {
      "image/png": "[encoded data removed]",
      "text/plain": [
       "<Figure size 1000x600 with 1 Axes>"
      ]
     },
     "metadata": {},
     "output_type": "display_data"
    }
   ],
   "source": [
    "# distribucion de los datos\n",
    "plt.figure(figsize=(10,6))\n",
    "plt.hist(user_events_total['total_eventos'], bins=8)\n",
    "\n",
    "plt.title('Distribución del número de eventos por usuario')\n",
    "plt.xlabel('Número de eventos')\n",
    "plt.ylabel('Número de usuarios')\n",
    "plt.show()"
   ]
  },
  {
   "cell_type": "code",
   "execution_count": 51,
   "metadata": {},
   "outputs": [
    {
     "data": {
      "image/png": "[encoded data removed]",
      "text/plain": [
       "<Figure size 1000x600 with 1 Axes>"
      ]
     },
     "metadata": {},
     "output_type": "display_data"
    }
   ],
   "source": [
    "# crear boxplot para observar valores atipicos\n",
    "\n",
    "with plt.style.context('ggplot'):\n",
    "\n",
    "    # Crear el boxplot\n",
    "    plt.figure(figsize=(10, 6))\n",
    "    sns.boxplot(data=user_events_total, x='total_eventos', color='skyblue')\n",
    "\n",
    "    plt.title('Distribución de Eventos por Usuario')\n",
    "    plt.xlabel('Total de Eventos por Usuario')\n",
    "    \n",
    "    plt.show()"
   ]
  },
  {
   "cell_type": "code",
   "execution_count": 52,
   "metadata": {},
   "outputs": [
    {
     "name": "stdout",
     "output_type": "stream",
     "text": [
      "La media es: 7.218728174028585\n",
      "La mediana es: 6.0\n",
      "La moda es: 0    6\n",
      "dtype: int64\n"
     ]
    }
   ],
   "source": [
    "# medidas de dispersion \n",
    "print('La media es:', user_events_total['total_eventos'].mean())\n",
    "print('La mediana es:', user_events_total['total_eventos'].median())\n",
    "print('La moda es:', user_events_total['total_eventos'].mode())"
   ]
  },
  {
   "cell_type": "code",
   "execution_count": 53,
   "metadata": {},
   "outputs": [
    {
     "name": "stdout",
     "output_type": "stream",
     "text": [
      "[12. 15. 20. 36.]\n"
     ]
    }
   ],
   "source": [
    "print(np.percentile(user_events_total['total_eventos'], [90,95,99,100]))"
   ]
  },
  {
   "cell_type": "markdown",
   "metadata": {},
   "source": [
    "<span style=\"color:purple; font-weight:bold; font-size: 18px\">\n",
    "Al observar los graficos donde se muestra la distribución de los datos, se aprecia que existen muchos valores atípicos, ya que la media del total de eventos es de 7.2, y al calcular los percentiles, se obtuvo que  el 10% de los usuarios realiza 12 eventos, el 5% realiza 15 eventos, y solo el 1% realiza 20 eventos y 36 es numero maximo de eventos por usuario.\n",
    "</span>"
   ]
  },
  {
   "cell_type": "markdown",
   "metadata": {},
   "source": [
    "#### Revisar valores atípicos de compras hechas por usuarios/as"
   ]
  },
  {
   "cell_type": "code",
   "execution_count": 54,
   "metadata": {},
   "outputs": [
    {
     "data": {
      "text/html": [
       "<div>\n",
       "<style scoped>\n",
       "    .dataframe tbody tr th:only-of-type {\n",
       "        vertical-align: middle;\n",
       "    }\n",
       "\n",
       "    .dataframe tbody tr th {\n",
       "        vertical-align: top;\n",
       "    }\n",
       "\n",
       "    .dataframe thead th {\n",
       "        text-align: right;\n",
       "    }\n",
       "</style>\n",
       "<table border=\"1\" class=\"dataframe\">\n",
       "  <thead>\n",
       "    <tr style=\"text-align: right;\">\n",
       "      <th></th>\n",
       "      <th>user_id</th>\n",
       "      <th>total_compras</th>\n",
       "    </tr>\n",
       "  </thead>\n",
       "  <tbody>\n",
       "    <tr>\n",
       "      <th>36307</th>\n",
       "      <td>9E4A562DC7FE3F82</td>\n",
       "      <td>1609.94</td>\n",
       "    </tr>\n",
       "    <tr>\n",
       "      <th>35750</th>\n",
       "      <td>9BBC25973E2B9763</td>\n",
       "      <td>1124.93</td>\n",
       "    </tr>\n",
       "    <tr>\n",
       "      <th>40161</th>\n",
       "      <td>AEEAC27AD37EFE7A</td>\n",
       "      <td>1114.95</td>\n",
       "    </tr>\n",
       "    <tr>\n",
       "      <th>43609</th>\n",
       "      <td>BE2A590658875C91</td>\n",
       "      <td>1109.95</td>\n",
       "    </tr>\n",
       "    <tr>\n",
       "      <th>9892</th>\n",
       "      <td>2B11361D0BDB293A</td>\n",
       "      <td>1109.95</td>\n",
       "    </tr>\n",
       "    <tr>\n",
       "      <th>...</th>\n",
       "      <td>...</td>\n",
       "      <td>...</td>\n",
       "    </tr>\n",
       "    <tr>\n",
       "      <th>23558</th>\n",
       "      <td>66E02518441F5E9C</td>\n",
       "      <td>0.00</td>\n",
       "    </tr>\n",
       "    <tr>\n",
       "      <th>23559</th>\n",
       "      <td>66E0CBF90827B836</td>\n",
       "      <td>0.00</td>\n",
       "    </tr>\n",
       "    <tr>\n",
       "      <th>23562</th>\n",
       "      <td>66E3E57ACE5022F7</td>\n",
       "      <td>0.00</td>\n",
       "    </tr>\n",
       "    <tr>\n",
       "      <th>23563</th>\n",
       "      <td>66E403BA8A7B48E5</td>\n",
       "      <td>0.00</td>\n",
       "    </tr>\n",
       "    <tr>\n",
       "      <th>58702</th>\n",
       "      <td>FFFFE36C0F6E92DF</td>\n",
       "      <td>0.00</td>\n",
       "    </tr>\n",
       "  </tbody>\n",
       "</table>\n",
       "<p>58703 rows × 2 columns</p>\n",
       "</div>"
      ],
      "text/plain": [
       "                user_id  total_compras\n",
       "36307  9E4A562DC7FE3F82        1609.94\n",
       "35750  9BBC25973E2B9763        1124.93\n",
       "40161  AEEAC27AD37EFE7A        1114.95\n",
       "43609  BE2A590658875C91        1109.95\n",
       "9892   2B11361D0BDB293A        1109.95\n",
       "...                 ...            ...\n",
       "23558  66E02518441F5E9C           0.00\n",
       "23559  66E0CBF90827B836           0.00\n",
       "23562  66E3E57ACE5022F7           0.00\n",
       "23563  66E403BA8A7B48E5           0.00\n",
       "58702  FFFFE36C0F6E92DF           0.00\n",
       "\n",
       "[58703 rows x 2 columns]"
      ]
     },
     "execution_count": 54,
     "metadata": {},
     "output_type": "execute_result"
    }
   ],
   "source": [
    "# obtener el total de las compras hechas por usuario\n",
    "user_buy = events.groupby('user_id')['details'].sum().reset_index(name='total_compras')\n",
    "\n",
    "# ordenar los datos de manera descendente por cantidad de compra\n",
    "user_buy.sort_values(by='total_compras', ascending=False)"
   ]
  },
  {
   "cell_type": "code",
   "execution_count": 55,
   "metadata": {},
   "outputs": [
    {
     "data": {
      "image/png": "[encoded data removed]",
      "text/plain": [
       "<Figure size 1000x600 with 1 Axes>"
      ]
     },
     "metadata": {},
     "output_type": "display_data"
    }
   ],
   "source": [
    "# trazar histograma para conocer la distribucion de las compras\n",
    "plt.figure(figsize=(10,6))\n",
    "plt.hist(user_buy['total_compras'], bins=6)\n",
    "\n",
    "plt.title('Distribución de las compras realizadas por usuario')\n",
    "plt.xlabel('Compra total (en USD)')\n",
    "plt.ylabel('Número de usuarios/as')\n",
    "\n",
    "plt.show()"
   ]
  },
  {
   "cell_type": "code",
   "execution_count": 56,
   "metadata": {},
   "outputs": [
    {
     "data": {
      "image/png": "[encoded data removed]",
      "text/plain": [
       "<Figure size 1000x600 with 1 Axes>"
      ]
     },
     "metadata": {},
     "output_type": "display_data"
    }
   ],
   "source": [
    "# crear boxplot para observar valores atipicos\n",
    "\n",
    "with plt.style.context('ggplot'):\n",
    "\n",
    "    # Crear el boxplot\n",
    "    plt.figure(figsize=(10, 6))\n",
    "    sns.boxplot(data=user_buy, x='total_compras', color='forestgreen')\n",
    "\n",
    "    plt.title('Distribución de compras realizadas por Usuario/a')\n",
    "    plt.xlabel('Compra total por Usuario/a')\n",
    "    \n",
    "    plt.show()"
   ]
  },
  {
   "cell_type": "code",
   "execution_count": 57,
   "metadata": {},
   "outputs": [
    {
     "name": "stdout",
     "output_type": "stream",
     "text": [
      "La media es: 24.536597107473213\n",
      "La mediana es: 0.0\n",
      "La moda es: 0    0.0\n",
      "dtype: float64\n"
     ]
    }
   ],
   "source": [
    "print('La media es:', user_buy['total_compras'].mean())\n",
    "print('La mediana es:', user_buy['total_compras'].median())\n",
    "print('La moda es:', user_buy['total_compras'].mode())"
   ]
  },
  {
   "cell_type": "code",
   "execution_count": 58,
   "metadata": {},
   "outputs": [
    {
     "name": "stdout",
     "output_type": "stream",
     "text": [
      "[  39.93  114.97  514.97 1609.94]\n"
     ]
    }
   ],
   "source": [
    "print(np.percentile(user_buy['total_compras'], [90,95,99,100]))"
   ]
  },
  {
   "cell_type": "markdown",
   "metadata": {},
   "source": [
    "<span style=\"color:purple; font-weight:bold; font-size: 18px\">\n",
    "Al observar los graficos donde se muestra la distribución de los datos con respecto a las compras realizadas por usuario, se aprecia que existen muchos valores atípicos y algo inusial es que existen muchos usuarios que no realizaron compras, recordando al inicio del pre-procesamiento de datos se encontro un total de 363,447 los cuales se ven reflejados en la distribución, sin embargo tambien existen valores atipicos, por ejemplo la media de la compra de usuarios es de 24.53 usd, mientras que al calcular los percentiles se encontro que el 10% de los usuarios gasta  39.93 usd, el 5% gasta 114.97 usd y solo el 1% gasta 514.97 usd, y el gasto maximo encontrado en esta distribución es de 1609.94 usd. \n",
    "</span>"
   ]
  },
  {
   "cell_type": "markdown",
   "metadata": {},
   "source": [
    "## Evaluar los resultados de la prueba A/B"
   ]
  },
  {
   "cell_type": "markdown",
   "metadata": {},
   "source": [
    "### ¿Qué puedes decir sobre los resultados de la prueba A/B?"
   ]
  },
  {
   "cell_type": "markdown",
   "metadata": {},
   "source": [
    "#### Unión de DF para realizar la prueba"
   ]
  },
  {
   "cell_type": "code",
   "execution_count": 59,
   "metadata": {},
   "outputs": [],
   "source": [
    "# unir los df events y participants\n",
    "events_participants = events.merge(participants, on='user_id', how='inner')"
   ]
  },
  {
   "cell_type": "code",
   "execution_count": 60,
   "metadata": {},
   "outputs": [],
   "source": [
    "# unir el dl obtenido anteriormente con users\n",
    "test = events_participants.merge(users, on='user_id', how='inner')"
   ]
  },
  {
   "cell_type": "markdown",
   "metadata": {},
   "source": [
    "#### Calcular los dias transcurridos de la fecha de inscripcion hasta 14 dias despues"
   ]
  },
  {
   "cell_type": "code",
   "execution_count": 61,
   "metadata": {},
   "outputs": [],
   "source": [
    "# agregar una columna con solo fechas \n",
    "test['event_fecha'] = test['event_dt'].dt.date\n",
    "\n",
    "# convertir a datetime nueva columna\n",
    "test['event_fecha'] = pd.to_datetime(test['event_fecha'])"
   ]
  },
  {
   "cell_type": "code",
   "execution_count": 62,
   "metadata": {},
   "outputs": [],
   "source": [
    "# calcular los dias despues de la inscripcion \n",
    "test['days_signup'] = test['event_fecha'] - test['first_date']"
   ]
  },
  {
   "cell_type": "code",
   "execution_count": 63,
   "metadata": {},
   "outputs": [],
   "source": [
    "# extraer el numero de dias de la columna sign up\n",
    "test['days_signup'] = test['days_signup'].dt.days"
   ]
  },
  {
   "cell_type": "code",
   "execution_count": 64,
   "metadata": {},
   "outputs": [],
   "source": [
    "# filtrar los datos dentro de los 14 dias de la inscripcion\n",
    "filtro_dias = test[test['days_signup'] <= 14]"
   ]
  },
  {
   "cell_type": "markdown",
   "metadata": {},
   "source": [
    "#### Calcular usuarios totales y unicos en cada grupo"
   ]
  },
  {
   "cell_type": "code",
   "execution_count": 65,
   "metadata": {},
   "outputs": [],
   "source": [
    "# crear filtros para cada grupo \n",
    "filtered_a = filtro_dias.query('group == \"A\"')\n",
    "\n",
    "filtered_b = filtro_dias.query('group == \"B\"')"
   ]
  },
  {
   "cell_type": "code",
   "execution_count": 66,
   "metadata": {},
   "outputs": [
    {
     "name": "stdout",
     "output_type": "stream",
     "text": [
      "El total de usuarios del grupo A es: 57126\n",
      "El total de usuarios únicos (casos de exito) para el grupo A es de: 7873\n"
     ]
    }
   ],
   "source": [
    "# calcular usuarios totales y unicos para el grupo A\n",
    "usuarios_totales_a = filtered_a['user_id'].shape[0]\n",
    "print('El total de usuarios del grupo A es:',usuarios_totales_a)\n",
    "\n",
    "exitos_a = filtered_a['user_id'].nunique()\n",
    "print(f'El total de usuarios únicos (casos de exito) para el grupo A es de: {exitos_a}')"
   ]
  },
  {
   "cell_type": "code",
   "execution_count": 67,
   "metadata": {},
   "outputs": [
    {
     "name": "stdout",
     "output_type": "stream",
     "text": [
      "El total de usuarios del grupo B es: 42664\n",
      "El total de usuarios únicos (casos de exito) para el grupo B es de: 6204\n"
     ]
    }
   ],
   "source": [
    "# calcular usuarios totales y unicos para el grupo B\n",
    "usuarios_totales_b = filtered_b['user_id'].shape[0]\n",
    "print('El total de usuarios del grupo B es:', usuarios_totales_b)\n",
    "\n",
    "exitos_b = filtered_b['user_id'].nunique()\n",
    "print(f'El total de usuarios únicos (casos de exito) para el grupo B es de: {exitos_b}')"
   ]
  },
  {
   "cell_type": "markdown",
   "metadata": {},
   "source": [
    "#### Usuarios unicos por evento "
   ]
  },
  {
   "cell_type": "code",
   "execution_count": 68,
   "metadata": {},
   "outputs": [
    {
     "name": "stdout",
     "output_type": "stream",
     "text": [
      "              user_id\n",
      "event_name           \n",
      "login            7872\n",
      "product_page     5207\n",
      "purchase         2682\n",
      "product_cart     2483\n"
     ]
    }
   ],
   "source": [
    "# encontrar los eventos por usuario unico del grupo A\n",
    "usuarios_unicos_a = filtered_a.groupby('event_name').agg({'user_id': 'nunique'})\n",
    "usuarios_unicos_a.sort_values(by='user_id', ascending = False, inplace = True)\n",
    "\n",
    "print(usuarios_unicos_a)"
   ]
  },
  {
   "cell_type": "code",
   "execution_count": 69,
   "metadata": {},
   "outputs": [
    {
     "name": "stdout",
     "output_type": "stream",
     "text": [
      "              user_id\n",
      "event_name           \n",
      "login            6203\n",
      "product_page     3985\n",
      "product_cart     2037\n",
      "purchase         2008\n"
     ]
    }
   ],
   "source": [
    "# encontrar los eventos por usuario unico del grupo B\n",
    "usuarios_unicos_b = filtered_b.groupby('event_name').agg({'user_id': 'nunique'})\n",
    "usuarios_unicos_b.sort_values(by='user_id', ascending = False, inplace = True)\n",
    "\n",
    "print(usuarios_unicos_b)\n"
   ]
  },
  {
   "cell_type": "markdown",
   "metadata": {},
   "source": [
    "#### Calcula la tasa de conversion de cada uno de los usuarios/as en los dos grupos"
   ]
  },
  {
   "cell_type": "code",
   "execution_count": 70,
   "metadata": {},
   "outputs": [
    {
     "name": "stdout",
     "output_type": "stream",
     "text": [
      "          Stage  Proportion\n",
      "0         login       13.78\n",
      "1  product_page        9.11\n",
      "2      purchase        4.69\n",
      "3  product_cart        4.35\n"
     ]
    }
   ],
   "source": [
    "# calculo de conversion para el grupo A\n",
    "conversion_grupo_a = usuarios_unicos_a / usuarios_totales_a * 100\n",
    "# ordenar los datos \n",
    "conversion_grupo_a = conversion_grupo_a.sort_values(by='user_id', ascending=False).reset_index()\n",
    "\n",
    "# renombrar columnas \n",
    "conversion_grupo_a.columns = ['Stage', 'Proportion']\n",
    "\n",
    "print(conversion_grupo_a.round(2))"
   ]
  },
  {
   "cell_type": "code",
   "execution_count": 71,
   "metadata": {},
   "outputs": [
    {
     "name": "stdout",
     "output_type": "stream",
     "text": [
      "          Stage  Proportion\n",
      "0         login       13.78\n",
      "1  product_page        9.11\n",
      "2  product_cart        4.35\n",
      "3      purchase        4.69\n"
     ]
    }
   ],
   "source": [
    "# Crear un nuevo índice para el grupo A\n",
    "nuevo_orden = [0, 1, 3, 2]\n",
    "\n",
    "# Reordenar el DataFrame\n",
    "grupo_a_reordenado = conversion_grupo_a.reindex(nuevo_orden).round(2).reset_index(drop=True)\n",
    "\n",
    "print(grupo_a_reordenado)"
   ]
  },
  {
   "cell_type": "code",
   "execution_count": 72,
   "metadata": {},
   "outputs": [
    {
     "data": {
      "image/png": "[encoded data removed]",
      "text/plain": [
       "<Figure size 1000x600 with 1 Axes>"
      ]
     },
     "metadata": {},
     "output_type": "display_data"
    }
   ],
   "source": [
    "# mostrar embudo con la tasa de conversion para el grupo A\n",
    "plt.figure(figsize=(10,6))\n",
    "\n",
    "sns.barplot( \n",
    "    x='Stage',\n",
    "    y ='Proportion',\n",
    "    data = grupo_a_reordenado, palette = 'rocket' )\n",
    "\n",
    "plt.title('Embudo de la tasa de conversión del grupo A')\n",
    "plt.xlabel('Stage')\n",
    "plt.ylabel('Proportion (%)')\n",
    "\n",
    "plt.show()\n"
   ]
  },
  {
   "cell_type": "code",
   "execution_count": 73,
   "metadata": {},
   "outputs": [
    {
     "name": "stdout",
     "output_type": "stream",
     "text": [
      "          Stage  Proportion\n",
      "0         login       14.54\n",
      "1  product_page        9.34\n",
      "2  product_cart        4.77\n",
      "3      purchase        4.71\n"
     ]
    }
   ],
   "source": [
    "# calculo de conversion para el grupo B\n",
    "conversion_grupo_b = usuarios_unicos_b / usuarios_totales_b * 100\n",
    "\n",
    "# ordenar los datos \n",
    "conversion_grupo_b = conversion_grupo_b.sort_values(by='user_id', ascending=False).round(2).reset_index()\n",
    "\n",
    "# renombrar columnas \n",
    "conversion_grupo_b.columns = ['Stage', 'Proportion']\n",
    "\n",
    "print(conversion_grupo_b)"
   ]
  },
  {
   "cell_type": "code",
   "execution_count": 74,
   "metadata": {},
   "outputs": [
    {
     "data": {
      "image/png": "[encoded data removed]",
      "text/plain": [
       "<Figure size 1000x600 with 1 Axes>"
      ]
     },
     "metadata": {},
     "output_type": "display_data"
    }
   ],
   "source": [
    "# mostrar embudo con la tasa de conversion para el grupo B\n",
    "plt.figure(figsize=(10,6))\n",
    "\n",
    "sns.barplot( \n",
    "    x='Stage',\n",
    "    y ='Proportion',\n",
    "    data = conversion_grupo_b, palette = 'coolwarm' )\n",
    "\n",
    "plt.title('Embudo de la tasa de conversión del grupo B')\n",
    "plt.xlabel('Stage')\n",
    "plt.ylabel('Proportion (%)')\n",
    "\n",
    "plt.show()"
   ]
  },
  {
   "cell_type": "code",
   "execution_count": 75,
   "metadata": {},
   "outputs": [
    {
     "data": {
      "text/html": [
       "<div>\n",
       "<style scoped>\n",
       "    .dataframe tbody tr th:only-of-type {\n",
       "        vertical-align: middle;\n",
       "    }\n",
       "\n",
       "    .dataframe tbody tr th {\n",
       "        vertical-align: top;\n",
       "    }\n",
       "\n",
       "    .dataframe thead th {\n",
       "        text-align: right;\n",
       "    }\n",
       "</style>\n",
       "<table border=\"1\" class=\"dataframe\">\n",
       "  <thead>\n",
       "    <tr style=\"text-align: right;\">\n",
       "      <th></th>\n",
       "      <th>Etapa</th>\n",
       "      <th>Grupo_A</th>\n",
       "      <th>Grupo_B</th>\n",
       "    </tr>\n",
       "  </thead>\n",
       "  <tbody>\n",
       "    <tr>\n",
       "      <th>0</th>\n",
       "      <td>login</td>\n",
       "      <td>13.78</td>\n",
       "      <td>14.54</td>\n",
       "    </tr>\n",
       "    <tr>\n",
       "      <th>1</th>\n",
       "      <td>product_page</td>\n",
       "      <td>9.11</td>\n",
       "      <td>9.34</td>\n",
       "    </tr>\n",
       "    <tr>\n",
       "      <th>2</th>\n",
       "      <td>product_cart</td>\n",
       "      <td>4.35</td>\n",
       "      <td>4.77</td>\n",
       "    </tr>\n",
       "    <tr>\n",
       "      <th>3</th>\n",
       "      <td>purchase</td>\n",
       "      <td>4.69</td>\n",
       "      <td>4.71</td>\n",
       "    </tr>\n",
       "  </tbody>\n",
       "</table>\n",
       "</div>"
      ],
      "text/plain": [
       "          Etapa  Grupo_A  Grupo_B\n",
       "0         login    13.78    14.54\n",
       "1  product_page     9.11     9.34\n",
       "2  product_cart     4.35     4.77\n",
       "3      purchase     4.69     4.71"
      ]
     },
     "execution_count": 75,
     "metadata": {},
     "output_type": "execute_result"
    }
   ],
   "source": [
    "# unir los resultados en un DF nuevo\n",
    "conversion_df = grupo_a_reordenado.merge(conversion_grupo_b, on='Stage')\n",
    "\n",
    "conversion_df.columns=['Etapa','Grupo_A', 'Grupo_B']\n",
    "conversion_df"
   ]
  },
  {
   "cell_type": "code",
   "execution_count": 76,
   "metadata": {},
   "outputs": [],
   "source": [
    "# Calcular el aumento\n",
    "conversion_df['Aumento (%)'] = ((conversion_df['Grupo_B'] - conversion_df['Grupo_A']) / conversion_df['Grupo_A']) * 100"
   ]
  },
  {
   "cell_type": "code",
   "execution_count": 77,
   "metadata": {},
   "outputs": [
    {
     "data": {
      "text/html": [
       "<div>\n",
       "<style scoped>\n",
       "    .dataframe tbody tr th:only-of-type {\n",
       "        vertical-align: middle;\n",
       "    }\n",
       "\n",
       "    .dataframe tbody tr th {\n",
       "        vertical-align: top;\n",
       "    }\n",
       "\n",
       "    .dataframe thead th {\n",
       "        text-align: right;\n",
       "    }\n",
       "</style>\n",
       "<table border=\"1\" class=\"dataframe\">\n",
       "  <thead>\n",
       "    <tr style=\"text-align: right;\">\n",
       "      <th></th>\n",
       "      <th>Etapa</th>\n",
       "      <th>Grupo_A</th>\n",
       "      <th>Grupo_B</th>\n",
       "      <th>Aumento (%)</th>\n",
       "    </tr>\n",
       "  </thead>\n",
       "  <tbody>\n",
       "    <tr>\n",
       "      <th>0</th>\n",
       "      <td>login</td>\n",
       "      <td>13.78</td>\n",
       "      <td>14.54</td>\n",
       "      <td>5.515239</td>\n",
       "    </tr>\n",
       "    <tr>\n",
       "      <th>1</th>\n",
       "      <td>product_page</td>\n",
       "      <td>9.11</td>\n",
       "      <td>9.34</td>\n",
       "      <td>2.524698</td>\n",
       "    </tr>\n",
       "    <tr>\n",
       "      <th>2</th>\n",
       "      <td>product_cart</td>\n",
       "      <td>4.35</td>\n",
       "      <td>4.77</td>\n",
       "      <td>9.655172</td>\n",
       "    </tr>\n",
       "    <tr>\n",
       "      <th>3</th>\n",
       "      <td>purchase</td>\n",
       "      <td>4.69</td>\n",
       "      <td>4.71</td>\n",
       "      <td>0.426439</td>\n",
       "    </tr>\n",
       "  </tbody>\n",
       "</table>\n",
       "</div>"
      ],
      "text/plain": [
       "          Etapa  Grupo_A  Grupo_B  Aumento (%)\n",
       "0         login    13.78    14.54     5.515239\n",
       "1  product_page     9.11     9.34     2.524698\n",
       "2  product_cart     4.35     4.77     9.655172\n",
       "3      purchase     4.69     4.71     0.426439"
      ]
     },
     "execution_count": 77,
     "metadata": {},
     "output_type": "execute_result"
    }
   ],
   "source": [
    "conversion_df"
   ]
  },
  {
   "cell_type": "markdown",
   "metadata": {},
   "source": [
    "<span style=\"color:purple; font-weight:bold; font-size: 18px\">\n",
    "Al calcular la tasa de conversion de las dos muestras se obtuvo un resultado no esperado ya que en las 4 etapas no se alcanza la meta establecida (solo product_cart se aproxima bastante obtuvo un 9.65%), la cual era conseguir un aumento de al menos un 10% en cada etapa del embundo, sin embargo, el numero de usuarios si fue alcanzando ya que en los dos grupos se tuvieron mas de 6000 participantes.\n",
    "</span>"
   ]
  },
  {
   "cell_type": "markdown",
   "metadata": {},
   "source": [
    "### Utiliza una prueba z para comprobar la diferencia estadística entre las proporciones"
   ]
  },
  {
   "cell_type": "code",
   "execution_count": 78,
   "metadata": {},
   "outputs": [],
   "source": [
    "# nivel de significancia \n",
    "alpha = 0.05 \n",
    "\n",
    "# crear arrays con datos de los grupos A y B\n",
    "exitos = np.array([exitos_a, exitos_b])\n",
    "pruebas = np.array([usuarios_totales_a, usuarios_totales_b])\n",
    "\n",
    "# proporcion de exito en el primer grupo \n",
    "p1 = exitos[0] / pruebas[0]\n",
    "# proporcion de exito en el segundo grupo \n",
    "p2 = exitos[1] / pruebas[1]\n",
    "\n",
    "# proporcion de exito combinado\n",
    "p_combinado = (exitos[0] + exitos[1]) / (pruebas[0] + pruebas[1])\n",
    "\n",
    "# calcular diferencia \n",
    "diferencia = p1 - p2"
   ]
  },
  {
   "cell_type": "code",
   "execution_count": 79,
   "metadata": {},
   "outputs": [],
   "source": [
    "# calcular las desviaciones estandar de la distribucion normal \n",
    "z_value = diferencia / mth.sqrt(p_combinado * (1 - p_combinado) * (1/pruebas[0] + 1/pruebas[1]))\n",
    "\n",
    "# establecer la distribucion normal estandar (media 0, desviacion estandar 1)\n",
    "\n",
    "distr = stats.norm(0,1)"
   ]
  },
  {
   "cell_type": "code",
   "execution_count": 80,
   "metadata": {},
   "outputs": [
    {
     "name": "stdout",
     "output_type": "stream",
     "text": [
      "p-value: 0.0006475564035339776\n",
      "Rechazar la hipótesis nula: hay una diferencia significativa entre las proporciones\n"
     ]
    }
   ],
   "source": [
    "# calcular p valor \n",
    "p_value = (1 - distr.cdf(abs(z_value))) * 2\n",
    "\n",
    "print('p-value:', p_value)\n",
    "\n",
    "if (p_value < alpha):\n",
    "    print(\"Rechazar la hipótesis nula: hay una diferencia significativa entre las proporciones\")\n",
    "else:\n",
    "    print(\"No se pudo rechazar la hipótesis nula: no hay razón para pensar que las proporciones son diferentes\")"
   ]
  },
  {
   "cell_type": "markdown",
   "metadata": {},
   "source": [
    "## Describe tus conclusiones con respecto a la etapa EDA y los resultados de la prueba A/B"
   ]
  },
  {
   "cell_type": "markdown",
   "metadata": {},
   "source": [
    "<span style=\"color:purple; font-weight:bold; font-size: 18px\">\n",
    "Al realizar el EDA, se identificó que las muestras no estaban distribuidas equitativamente, ya que el grupo A contaba con un 56.6%, mientras que el grupo B representaba un 43.4%. Esto resultó en una diferencia del 13.2%, lo cual indica una mayor representación del grupo A, lo que podría influir en los resultados y dificultar una comparación directa.\n",
    "\n",
    "Por otra parte, al analizar el embudo sin división de grupos, se encontró que solo una etapa (login) superaba el 10% de tasa de conversión; sin embargo, el resto de las etapas no alcanzaron este umbral. Al construir un embudo con las etapas esperadas, se obtuvo un resultado aún menos favorable: ninguna etapa logró superar el 10% de tasa de conversión. En concreto, se observó que solo el 56.82% de los usuarios realiza la acción de visitar la página del producto (product_page), apenas el 6.99% añade productos al carrito (product_cart), y solo el 0.03% de los usuarios iniciales completa una compra.\n",
    "\n",
    "También se encontró que 441 usuarios estaban presentes en ambas muestras. Además, al analizar la distribución de los datos respecto al número de eventos por usuario, se identificaron numerosos valores atípicos. La media del total de eventos por usuario es de 7.2; al calcular los percentiles, se obtuvo que el 10% de los usuarios realiza 12 eventos, el 5% realiza 15 eventos y solo el 1% realiza 20 eventos. El número máximo de eventos registrados por usuario es 36.\n",
    "\n",
    "Asimismo, se analizó la distribución de los datos respecto a las compras realizadas por usuario. En este caso, también se identificaron muchos valores atípicos. Algo notable es que un gran número de usuarios no realizó compras; durante el preprocesamiento, se encontró que había 363,447 usuarios en esta categoría, lo cual se refleja en la distribución. Sin embargo, entre los usuarios que realizaron compras, los valores son dispersos. La media del gasto por usuario es de 24.53 USD. En los percentiles, se encontró que el 10% de los usuarios gastó 39.93 USD, el 5% gastó 114.97 USD y solo el 1% gastó 514.97 USD. El gasto máximo registrado fue de 1,609.94 USD.\n",
    "\n",
    "Al realizar la prueba A/B, se calculó la tasa de conversión para ambas muestras. Los resultados no fueron los esperados, ya que en las 4 etapas no se alcanzó la meta establecida (solo la etapa de product_cart se acerco obteniendo un 9.65%), que consistía en un aumento de al menos el 10% en cada etapa del embudo. Sin embargo, el número de usuarios participantes sí cumplió con los objetivos, ya que en ambos grupos hubo más de 6,000 participantes. Finalmente, al calcular la significancia estadística de la distribución de las muestras, con un nivel de significancia del 0.05, se obtuvo un valor p de 0.0006. Esto indica que se debe rechazar la hipótesis nula, lo que confirma que existe una diferencia significativa entre las muestras.\n",
    "</span>"
   ]
  }
 ],
 "metadata": {
  "ExecuteTimeLog": [
   {
    "duration": 2481,
    "start_time": "2024-11-29T04:47:48.689Z"
   },
   {
    "duration": 3,
    "start_time": "2024-11-29T05:21:14.509Z"
   },
   {
    "duration": 3,
    "start_time": "2024-11-29T05:21:37.598Z"
   },
   {
    "duration": 2,
    "start_time": "2024-11-29T05:24:23.216Z"
   },
   {
    "duration": 5,
    "start_time": "2024-11-29T05:25:09.121Z"
   },
   {
    "duration": 2,
    "start_time": "2024-11-29T05:25:49.583Z"
   },
   {
    "duration": 227,
    "start_time": "2024-11-29T05:26:17.312Z"
   },
   {
    "duration": 2,
    "start_time": "2024-11-29T05:26:30.470Z"
   },
   {
    "duration": 14,
    "start_time": "2024-11-29T05:26:31.159Z"
   },
   {
    "duration": 2,
    "start_time": "2024-11-29T05:29:08.747Z"
   },
   {
    "duration": 372,
    "start_time": "2024-11-29T05:29:21.754Z"
   },
   {
    "duration": 10,
    "start_time": "2024-11-29T05:29:35.056Z"
   },
   {
    "duration": 451,
    "start_time": "2024-11-29T05:33:10.402Z"
   },
   {
    "duration": 355,
    "start_time": "2024-11-29T05:33:23.979Z"
   },
   {
    "duration": 2,
    "start_time": "2024-11-29T05:35:10.192Z"
   },
   {
    "duration": 23,
    "start_time": "2024-11-29T05:35:17.368Z"
   },
   {
    "duration": 3,
    "start_time": "2024-11-29T05:35:41.751Z"
   },
   {
    "duration": 14,
    "start_time": "2024-11-29T05:35:43.551Z"
   },
   {
    "duration": 2,
    "start_time": "2024-11-29T05:35:59.872Z"
   },
   {
    "duration": 13,
    "start_time": "2024-11-29T05:36:00.636Z"
   },
   {
    "duration": 2,
    "start_time": "2024-11-29T05:36:22.455Z"
   },
   {
    "duration": 16,
    "start_time": "2024-11-29T05:36:23.164Z"
   },
   {
    "duration": 2,
    "start_time": "2024-11-29T05:41:06.673Z"
   },
   {
    "duration": 4,
    "start_time": "2024-11-29T05:41:17.574Z"
   },
   {
    "duration": 3,
    "start_time": "2024-11-29T05:41:32.158Z"
   },
   {
    "duration": 5,
    "start_time": "2024-11-29T05:41:36.414Z"
   },
   {
    "duration": 3,
    "start_time": "2024-11-29T05:42:18.633Z"
   },
   {
    "duration": 5,
    "start_time": "2024-11-29T05:42:21.766Z"
   },
   {
    "duration": 2,
    "start_time": "2024-11-29T05:42:31.625Z"
   },
   {
    "duration": 5,
    "start_time": "2024-11-29T05:42:34.640Z"
   },
   {
    "duration": 3,
    "start_time": "2024-11-29T05:42:43.170Z"
   },
   {
    "duration": 5,
    "start_time": "2024-11-29T05:42:46.501Z"
   },
   {
    "duration": 4,
    "start_time": "2024-11-29T05:49:35.198Z"
   },
   {
    "duration": 13,
    "start_time": "2024-11-29T05:49:45.988Z"
   },
   {
    "duration": 8,
    "start_time": "2024-11-29T05:49:54.945Z"
   },
   {
    "duration": 54,
    "start_time": "2024-11-29T05:55:01.965Z"
   },
   {
    "duration": 10,
    "start_time": "2024-11-29T05:56:16.750Z"
   },
   {
    "duration": 13,
    "start_time": "2024-11-29T05:56:22.734Z"
   },
   {
    "duration": 28,
    "start_time": "2024-11-29T05:57:00.534Z"
   },
   {
    "duration": 57,
    "start_time": "2024-11-29T05:58:39.919Z"
   },
   {
    "duration": 185,
    "start_time": "2024-11-29T06:02:15.317Z"
   },
   {
    "duration": 65,
    "start_time": "2024-11-29T06:03:41.520Z"
   },
   {
    "duration": 14,
    "start_time": "2024-11-29T06:03:49.079Z"
   },
   {
    "duration": 32,
    "start_time": "2024-11-29T06:03:52.614Z"
   },
   {
    "duration": 22,
    "start_time": "2024-11-29T06:04:30.299Z"
   },
   {
    "duration": 10,
    "start_time": "2024-11-29T06:05:52.134Z"
   },
   {
    "duration": 4,
    "start_time": "2024-11-29T06:11:00.535Z"
   },
   {
    "duration": 4,
    "start_time": "2024-11-29T06:11:05.544Z"
   },
   {
    "duration": 14,
    "start_time": "2024-11-29T06:11:08.823Z"
   },
   {
    "duration": 24,
    "start_time": "2024-11-29T06:14:00.175Z"
   },
   {
    "duration": 22,
    "start_time": "2024-11-29T06:17:19.460Z"
   },
   {
    "duration": 23,
    "start_time": "2024-11-29T06:17:28.678Z"
   },
   {
    "duration": 46,
    "start_time": "2024-11-29T06:21:27.135Z"
   },
   {
    "duration": 36,
    "start_time": "2024-11-29T06:21:35.432Z"
   },
   {
    "duration": 31,
    "start_time": "2024-11-29T06:23:44.184Z"
   },
   {
    "duration": 2,
    "start_time": "2024-11-29T06:24:18.173Z"
   },
   {
    "duration": 3,
    "start_time": "2024-11-29T06:25:18.855Z"
   },
   {
    "duration": 3,
    "start_time": "2024-11-29T06:25:47.438Z"
   },
   {
    "duration": 3,
    "start_time": "2024-11-29T06:26:12.140Z"
   },
   {
    "duration": 3,
    "start_time": "2024-11-29T06:27:07.076Z"
   },
   {
    "duration": 129,
    "start_time": "2024-11-29T06:29:13.629Z"
   },
   {
    "duration": 2596,
    "start_time": "2024-11-29T20:45:46.111Z"
   },
   {
    "duration": 3,
    "start_time": "2024-11-29T20:45:48.709Z"
   },
   {
    "duration": 412,
    "start_time": "2024-11-29T20:45:48.714Z"
   },
   {
    "duration": 3,
    "start_time": "2024-11-29T20:45:49.129Z"
   },
   {
    "duration": 2,
    "start_time": "2024-11-29T20:45:49.135Z"
   },
   {
    "duration": 17,
    "start_time": "2024-11-29T20:45:49.139Z"
   },
   {
    "duration": 3,
    "start_time": "2024-11-29T20:45:49.158Z"
   },
   {
    "duration": 7,
    "start_time": "2024-11-29T20:45:49.169Z"
   },
   {
    "duration": 51,
    "start_time": "2024-11-29T20:45:49.178Z"
   },
   {
    "duration": 8,
    "start_time": "2024-11-29T20:45:49.231Z"
   },
   {
    "duration": 45,
    "start_time": "2024-11-29T20:45:49.241Z"
   },
   {
    "duration": 57,
    "start_time": "2024-11-29T20:45:49.288Z"
   },
   {
    "duration": 80,
    "start_time": "2024-11-29T20:45:49.347Z"
   },
   {
    "duration": 145,
    "start_time": "2024-11-29T20:45:49.431Z"
   },
   {
    "duration": 22,
    "start_time": "2024-11-29T20:45:49.577Z"
   },
   {
    "duration": 8,
    "start_time": "2024-11-29T20:45:49.601Z"
   },
   {
    "duration": 37,
    "start_time": "2024-11-29T20:45:49.610Z"
   },
   {
    "duration": 2,
    "start_time": "2024-11-29T20:45:49.671Z"
   },
   {
    "duration": 3,
    "start_time": "2024-11-29T20:45:49.675Z"
   },
   {
    "duration": 141,
    "start_time": "2024-11-29T20:45:49.680Z"
   },
   {
    "duration": 223,
    "start_time": "2024-11-29T20:45:49.823Z"
   },
   {
    "duration": 0,
    "start_time": "2024-11-29T20:45:50.047Z"
   },
   {
    "duration": 148,
    "start_time": "2024-11-29T20:47:08.225Z"
   },
   {
    "duration": 81,
    "start_time": "2024-11-29T20:47:21.145Z"
   },
   {
    "duration": 16,
    "start_time": "2024-11-29T20:55:55.289Z"
   },
   {
    "duration": 5,
    "start_time": "2024-11-29T20:56:22.573Z"
   },
   {
    "duration": 14,
    "start_time": "2024-11-29T20:56:53.691Z"
   },
   {
    "duration": 8,
    "start_time": "2024-11-29T20:57:51.864Z"
   },
   {
    "duration": 6,
    "start_time": "2024-11-29T20:58:07.217Z"
   },
   {
    "duration": 6,
    "start_time": "2024-11-29T20:58:48.371Z"
   },
   {
    "duration": 6,
    "start_time": "2024-11-29T20:58:56.021Z"
   },
   {
    "duration": 5,
    "start_time": "2024-11-29T21:00:03.413Z"
   },
   {
    "duration": 5,
    "start_time": "2024-11-29T21:00:14.524Z"
   },
   {
    "duration": 5,
    "start_time": "2024-11-29T21:00:51.489Z"
   },
   {
    "duration": 20,
    "start_time": "2024-11-29T21:05:18.421Z"
   },
   {
    "duration": 6,
    "start_time": "2024-11-29T21:05:48.703Z"
   },
   {
    "duration": 90,
    "start_time": "2024-11-29T21:20:01.104Z"
   },
   {
    "duration": 13,
    "start_time": "2024-11-29T21:20:06.138Z"
   },
   {
    "duration": 41,
    "start_time": "2024-11-29T21:21:31.206Z"
   },
   {
    "duration": 30,
    "start_time": "2024-11-29T21:21:45.492Z"
   },
   {
    "duration": 12,
    "start_time": "2024-11-29T21:22:20.184Z"
   },
   {
    "duration": 30,
    "start_time": "2024-11-29T21:22:50.618Z"
   },
   {
    "duration": 12,
    "start_time": "2024-11-29T21:22:51.488Z"
   },
   {
    "duration": 13,
    "start_time": "2024-11-29T21:23:15.618Z"
   },
   {
    "duration": 11,
    "start_time": "2024-11-29T21:23:59.833Z"
   },
   {
    "duration": 21,
    "start_time": "2024-11-29T21:26:27.279Z"
   },
   {
    "duration": 22,
    "start_time": "2024-11-29T21:27:53.588Z"
   },
   {
    "duration": 11,
    "start_time": "2024-11-29T21:28:00.243Z"
   },
   {
    "duration": 13,
    "start_time": "2024-11-29T21:28:13.178Z"
   },
   {
    "duration": 12,
    "start_time": "2024-11-29T21:29:12.398Z"
   },
   {
    "duration": 8,
    "start_time": "2024-11-29T21:30:48.314Z"
   },
   {
    "duration": 6,
    "start_time": "2024-11-29T21:31:18.428Z"
   },
   {
    "duration": 3,
    "start_time": "2024-11-29T21:32:24.118Z"
   },
   {
    "duration": 14,
    "start_time": "2024-11-29T21:34:01.903Z"
   },
   {
    "duration": 12,
    "start_time": "2024-11-29T21:36:11.508Z"
   },
   {
    "duration": 801,
    "start_time": "2024-11-29T21:50:34.278Z"
   },
   {
    "duration": 3,
    "start_time": "2024-11-29T21:50:35.081Z"
   },
   {
    "duration": 347,
    "start_time": "2024-11-29T21:50:35.085Z"
   },
   {
    "duration": 3,
    "start_time": "2024-11-29T21:50:35.434Z"
   },
   {
    "duration": 3,
    "start_time": "2024-11-29T21:50:35.440Z"
   },
   {
    "duration": 31,
    "start_time": "2024-11-29T21:50:35.444Z"
   },
   {
    "duration": 4,
    "start_time": "2024-11-29T21:50:35.477Z"
   },
   {
    "duration": 7,
    "start_time": "2024-11-29T21:50:35.482Z"
   },
   {
    "duration": 56,
    "start_time": "2024-11-29T21:50:35.491Z"
   },
   {
    "duration": 11,
    "start_time": "2024-11-29T21:50:35.570Z"
   },
   {
    "duration": 25,
    "start_time": "2024-11-29T21:50:35.582Z"
   },
   {
    "duration": 72,
    "start_time": "2024-11-29T21:50:35.609Z"
   },
   {
    "duration": 68,
    "start_time": "2024-11-29T21:50:35.683Z"
   },
   {
    "duration": 140,
    "start_time": "2024-11-29T21:50:35.754Z"
   },
   {
    "duration": 20,
    "start_time": "2024-11-29T21:50:35.896Z"
   },
   {
    "duration": 8,
    "start_time": "2024-11-29T21:50:35.918Z"
   },
   {
    "duration": 58,
    "start_time": "2024-11-29T21:50:35.927Z"
   },
   {
    "duration": 3,
    "start_time": "2024-11-29T21:50:35.987Z"
   },
   {
    "duration": 4,
    "start_time": "2024-11-29T21:50:35.992Z"
   },
   {
    "duration": 146,
    "start_time": "2024-11-29T21:50:35.998Z"
   },
   {
    "duration": 14,
    "start_time": "2024-11-29T21:50:36.146Z"
   },
   {
    "duration": 82,
    "start_time": "2024-11-29T21:50:36.170Z"
   },
   {
    "duration": 16,
    "start_time": "2024-11-29T21:50:36.254Z"
   },
   {
    "duration": 99,
    "start_time": "2024-11-29T21:50:36.271Z"
   },
   {
    "duration": 54,
    "start_time": "2024-11-29T21:50:36.372Z"
   },
   {
    "duration": 282,
    "start_time": "2024-11-29T22:10:44.568Z"
   },
   {
    "duration": 2,
    "start_time": "2024-11-29T22:10:54.363Z"
   },
   {
    "duration": 12,
    "start_time": "2024-11-29T22:12:00.788Z"
   },
   {
    "duration": 20,
    "start_time": "2024-11-29T22:12:48.597Z"
   },
   {
    "duration": 161,
    "start_time": "2024-11-29T22:13:59.635Z"
   },
   {
    "duration": 133,
    "start_time": "2024-11-29T22:14:29.127Z"
   },
   {
    "duration": 117,
    "start_time": "2024-11-29T22:16:16.027Z"
   },
   {
    "duration": 22,
    "start_time": "2024-11-29T22:18:48.010Z"
   },
   {
    "duration": 11,
    "start_time": "2024-11-29T22:18:56.277Z"
   },
   {
    "duration": 7,
    "start_time": "2024-11-29T22:18:58.699Z"
   },
   {
    "duration": 6,
    "start_time": "2024-11-29T22:22:09.555Z"
   },
   {
    "duration": 7,
    "start_time": "2024-11-29T22:26:15.257Z"
   },
   {
    "duration": 4,
    "start_time": "2024-11-29T22:28:50.994Z"
   },
   {
    "duration": 4,
    "start_time": "2024-11-29T22:29:50.818Z"
   },
   {
    "duration": 42,
    "start_time": "2024-11-29T22:33:26.695Z"
   },
   {
    "duration": 5,
    "start_time": "2024-11-29T22:33:37.264Z"
   },
   {
    "duration": 4,
    "start_time": "2024-11-29T22:33:45.816Z"
   },
   {
    "duration": 4,
    "start_time": "2024-11-29T22:34:16.308Z"
   },
   {
    "duration": 4,
    "start_time": "2024-11-29T22:34:24.351Z"
   },
   {
    "duration": 5,
    "start_time": "2024-11-29T22:37:28.192Z"
   },
   {
    "duration": 6,
    "start_time": "2024-11-29T22:39:11.130Z"
   },
   {
    "duration": 17,
    "start_time": "2024-11-29T22:39:47.660Z"
   },
   {
    "duration": 28,
    "start_time": "2024-11-29T22:40:57.163Z"
   },
   {
    "duration": 10,
    "start_time": "2024-11-29T22:41:48.437Z"
   },
   {
    "duration": 62,
    "start_time": "2024-11-29T22:42:45.820Z"
   },
   {
    "duration": 16,
    "start_time": "2024-11-29T22:43:32.050Z"
   },
   {
    "duration": 62,
    "start_time": "2024-11-29T22:43:32.620Z"
   },
   {
    "duration": 131,
    "start_time": "2024-11-29T22:44:03.039Z"
   },
   {
    "duration": 71,
    "start_time": "2024-11-29T22:46:18.308Z"
   },
   {
    "duration": 12,
    "start_time": "2024-11-29T22:46:26.652Z"
   },
   {
    "duration": 264,
    "start_time": "2024-11-29T22:46:59.637Z"
   },
   {
    "duration": 122,
    "start_time": "2024-11-29T22:47:00.177Z"
   },
   {
    "duration": 88,
    "start_time": "2024-11-29T22:47:22.736Z"
   },
   {
    "duration": 125,
    "start_time": "2024-11-29T22:47:24.467Z"
   },
   {
    "duration": 795,
    "start_time": "2024-11-29T22:47:39.323Z"
   },
   {
    "duration": 3,
    "start_time": "2024-11-29T22:47:40.120Z"
   },
   {
    "duration": 355,
    "start_time": "2024-11-29T22:47:40.125Z"
   },
   {
    "duration": 3,
    "start_time": "2024-11-29T22:47:40.482Z"
   },
   {
    "duration": 2,
    "start_time": "2024-11-29T22:47:40.489Z"
   },
   {
    "duration": 17,
    "start_time": "2024-11-29T22:47:40.494Z"
   },
   {
    "duration": 5,
    "start_time": "2024-11-29T22:47:40.512Z"
   },
   {
    "duration": 5,
    "start_time": "2024-11-29T22:47:40.518Z"
   },
   {
    "duration": 80,
    "start_time": "2024-11-29T22:47:40.525Z"
   },
   {
    "duration": 9,
    "start_time": "2024-11-29T22:47:40.607Z"
   },
   {
    "duration": 26,
    "start_time": "2024-11-29T22:47:40.617Z"
   },
   {
    "duration": 76,
    "start_time": "2024-11-29T22:47:40.645Z"
   },
   {
    "duration": 79,
    "start_time": "2024-11-29T22:47:40.723Z"
   },
   {
    "duration": 137,
    "start_time": "2024-11-29T22:47:40.806Z"
   },
   {
    "duration": 32,
    "start_time": "2024-11-29T22:47:40.945Z"
   },
   {
    "duration": 8,
    "start_time": "2024-11-29T22:47:40.979Z"
   },
   {
    "duration": 36,
    "start_time": "2024-11-29T22:47:40.989Z"
   },
   {
    "duration": 2,
    "start_time": "2024-11-29T22:47:41.027Z"
   },
   {
    "duration": 4,
    "start_time": "2024-11-29T22:47:41.030Z"
   },
   {
    "duration": 160,
    "start_time": "2024-11-29T22:47:41.035Z"
   },
   {
    "duration": 15,
    "start_time": "2024-11-29T22:47:41.197Z"
   },
   {
    "duration": 98,
    "start_time": "2024-11-29T22:47:41.214Z"
   },
   {
    "duration": 5,
    "start_time": "2024-11-29T22:47:41.314Z"
   },
   {
    "duration": 105,
    "start_time": "2024-11-29T22:47:41.321Z"
   },
   {
    "duration": 51,
    "start_time": "2024-11-29T22:47:41.428Z"
   },
   {
    "duration": 133,
    "start_time": "2024-11-29T22:47:41.480Z"
   },
   {
    "duration": 12,
    "start_time": "2024-11-29T22:47:41.615Z"
   },
   {
    "duration": 8,
    "start_time": "2024-11-29T22:47:41.628Z"
   },
   {
    "duration": 7,
    "start_time": "2024-11-29T22:47:41.638Z"
   },
   {
    "duration": 24,
    "start_time": "2024-11-29T22:47:41.646Z"
   },
   {
    "duration": 74,
    "start_time": "2024-11-29T22:47:41.671Z"
   },
   {
    "duration": 98,
    "start_time": "2024-11-29T22:47:41.746Z"
   },
   {
    "duration": 137,
    "start_time": "2024-11-29T22:47:41.846Z"
   },
   {
    "duration": 50,
    "start_time": "2024-11-29T22:49:16.480Z"
   },
   {
    "duration": 35,
    "start_time": "2024-11-29T22:50:04.622Z"
   },
   {
    "duration": 852,
    "start_time": "2024-11-29T22:53:34.671Z"
   },
   {
    "duration": 124,
    "start_time": "2024-11-29T22:54:05.127Z"
   },
   {
    "duration": 126,
    "start_time": "2024-11-29T22:55:58.164Z"
   },
   {
    "duration": 125,
    "start_time": "2024-11-29T22:56:10.975Z"
   },
   {
    "duration": 848,
    "start_time": "2024-11-29T22:56:21.176Z"
   },
   {
    "duration": 2,
    "start_time": "2024-11-29T22:56:22.026Z"
   },
   {
    "duration": 362,
    "start_time": "2024-11-29T22:56:22.030Z"
   },
   {
    "duration": 3,
    "start_time": "2024-11-29T22:56:22.394Z"
   },
   {
    "duration": 2,
    "start_time": "2024-11-29T22:56:22.400Z"
   },
   {
    "duration": 17,
    "start_time": "2024-11-29T22:56:22.404Z"
   },
   {
    "duration": 4,
    "start_time": "2024-11-29T22:56:22.423Z"
   },
   {
    "duration": 6,
    "start_time": "2024-11-29T22:56:22.428Z"
   },
   {
    "duration": 76,
    "start_time": "2024-11-29T22:56:22.435Z"
   },
   {
    "duration": 8,
    "start_time": "2024-11-29T22:56:22.513Z"
   },
   {
    "duration": 25,
    "start_time": "2024-11-29T22:56:22.522Z"
   },
   {
    "duration": 80,
    "start_time": "2024-11-29T22:56:22.548Z"
   },
   {
    "duration": 89,
    "start_time": "2024-11-29T22:56:22.630Z"
   },
   {
    "duration": 135,
    "start_time": "2024-11-29T22:56:22.722Z"
   },
   {
    "duration": 25,
    "start_time": "2024-11-29T22:56:22.859Z"
   },
   {
    "duration": 8,
    "start_time": "2024-11-29T22:56:22.886Z"
   },
   {
    "duration": 37,
    "start_time": "2024-11-29T22:56:22.897Z"
   },
   {
    "duration": 2,
    "start_time": "2024-11-29T22:56:22.936Z"
   },
   {
    "duration": 2,
    "start_time": "2024-11-29T22:56:22.942Z"
   },
   {
    "duration": 154,
    "start_time": "2024-11-29T22:56:22.946Z"
   },
   {
    "duration": 15,
    "start_time": "2024-11-29T22:56:23.102Z"
   },
   {
    "duration": 98,
    "start_time": "2024-11-29T22:56:23.119Z"
   },
   {
    "duration": 5,
    "start_time": "2024-11-29T22:56:23.219Z"
   },
   {
    "duration": 110,
    "start_time": "2024-11-29T22:56:23.225Z"
   },
   {
    "duration": 50,
    "start_time": "2024-11-29T22:56:23.337Z"
   },
   {
    "duration": 136,
    "start_time": "2024-11-29T22:56:23.388Z"
   },
   {
    "duration": 10,
    "start_time": "2024-11-29T22:56:23.526Z"
   },
   {
    "duration": 20,
    "start_time": "2024-11-29T22:56:23.538Z"
   },
   {
    "duration": 12,
    "start_time": "2024-11-29T22:56:23.559Z"
   },
   {
    "duration": 4,
    "start_time": "2024-11-29T22:56:23.572Z"
   },
   {
    "duration": 71,
    "start_time": "2024-11-29T22:56:23.577Z"
   },
   {
    "duration": 99,
    "start_time": "2024-11-29T22:56:23.650Z"
   },
   {
    "duration": 43,
    "start_time": "2024-11-29T22:56:23.751Z"
   },
   {
    "duration": 137,
    "start_time": "2024-11-29T22:56:23.795Z"
   },
   {
    "duration": 119,
    "start_time": "2024-11-29T22:58:14.880Z"
   },
   {
    "duration": 563,
    "start_time": "2024-11-29T22:59:46.384Z"
   },
   {
    "duration": 913,
    "start_time": "2024-11-29T23:00:38.724Z"
   },
   {
    "duration": 136,
    "start_time": "2024-11-29T23:01:52.888Z"
   },
   {
    "duration": 141,
    "start_time": "2024-11-29T23:02:19.926Z"
   },
   {
    "duration": 144,
    "start_time": "2024-11-29T23:03:35.967Z"
   },
   {
    "duration": 2476,
    "start_time": "2024-11-30T03:47:42.619Z"
   },
   {
    "duration": 3,
    "start_time": "2024-11-30T03:47:45.097Z"
   },
   {
    "duration": 404,
    "start_time": "2024-11-30T03:47:45.102Z"
   },
   {
    "duration": 3,
    "start_time": "2024-11-30T03:47:45.507Z"
   },
   {
    "duration": 3,
    "start_time": "2024-11-30T03:47:45.513Z"
   },
   {
    "duration": 18,
    "start_time": "2024-11-30T03:47:45.517Z"
   },
   {
    "duration": 4,
    "start_time": "2024-11-30T03:47:45.543Z"
   },
   {
    "duration": 4,
    "start_time": "2024-11-30T03:47:45.549Z"
   },
   {
    "duration": 51,
    "start_time": "2024-11-30T03:47:45.555Z"
   },
   {
    "duration": 8,
    "start_time": "2024-11-30T03:47:45.608Z"
   },
   {
    "duration": 46,
    "start_time": "2024-11-30T03:47:45.618Z"
   },
   {
    "duration": 77,
    "start_time": "2024-11-30T03:47:45.666Z"
   },
   {
    "duration": 81,
    "start_time": "2024-11-30T03:47:45.745Z"
   },
   {
    "duration": 140,
    "start_time": "2024-11-30T03:47:45.829Z"
   },
   {
    "duration": 21,
    "start_time": "2024-11-30T03:47:45.971Z"
   },
   {
    "duration": 9,
    "start_time": "2024-11-30T03:47:45.993Z"
   },
   {
    "duration": 58,
    "start_time": "2024-11-30T03:47:46.003Z"
   },
   {
    "duration": 3,
    "start_time": "2024-11-30T03:47:46.063Z"
   },
   {
    "duration": 3,
    "start_time": "2024-11-30T03:47:46.068Z"
   },
   {
    "duration": 148,
    "start_time": "2024-11-30T03:47:46.073Z"
   },
   {
    "duration": 19,
    "start_time": "2024-11-30T03:47:46.223Z"
   },
   {
    "duration": 82,
    "start_time": "2024-11-30T03:47:46.244Z"
   },
   {
    "duration": 17,
    "start_time": "2024-11-30T03:47:46.328Z"
   },
   {
    "duration": 95,
    "start_time": "2024-11-30T03:47:46.347Z"
   },
   {
    "duration": 53,
    "start_time": "2024-11-30T03:47:46.444Z"
   },
   {
    "duration": 141,
    "start_time": "2024-11-30T03:47:46.499Z"
   },
   {
    "duration": 11,
    "start_time": "2024-11-30T03:47:46.643Z"
   },
   {
    "duration": 9,
    "start_time": "2024-11-30T03:47:46.656Z"
   },
   {
    "duration": 7,
    "start_time": "2024-11-30T03:47:46.666Z"
   },
   {
    "duration": 3,
    "start_time": "2024-11-30T03:47:46.675Z"
   },
   {
    "duration": 97,
    "start_time": "2024-11-30T03:47:46.680Z"
   },
   {
    "duration": 98,
    "start_time": "2024-11-30T03:47:46.779Z"
   },
   {
    "duration": 39,
    "start_time": "2024-11-30T03:47:46.879Z"
   },
   {
    "duration": 142,
    "start_time": "2024-11-30T03:47:46.920Z"
   },
   {
    "duration": 165,
    "start_time": "2024-11-30T03:47:47.064Z"
   },
   {
    "duration": 5,
    "start_time": "2024-11-30T03:49:29.858Z"
   },
   {
    "duration": 11,
    "start_time": "2024-11-30T03:51:35.843Z"
   },
   {
    "duration": 7,
    "start_time": "2024-11-30T03:52:48.732Z"
   },
   {
    "duration": 4,
    "start_time": "2024-11-30T03:52:57.371Z"
   },
   {
    "duration": 4,
    "start_time": "2024-11-30T03:53:11.704Z"
   },
   {
    "duration": 603,
    "start_time": "2024-11-30T03:53:56.348Z"
   },
   {
    "duration": 4,
    "start_time": "2024-11-30T03:58:14.175Z"
   },
   {
    "duration": 8,
    "start_time": "2024-11-30T03:58:33.732Z"
   },
   {
    "duration": 7,
    "start_time": "2024-11-30T03:58:47.002Z"
   },
   {
    "duration": 6,
    "start_time": "2024-11-30T03:58:58.107Z"
   },
   {
    "duration": 7,
    "start_time": "2024-11-30T04:00:40.923Z"
   },
   {
    "duration": 6,
    "start_time": "2024-11-30T04:01:53.877Z"
   },
   {
    "duration": 6,
    "start_time": "2024-11-30T04:02:14.296Z"
   },
   {
    "duration": 5,
    "start_time": "2024-11-30T04:02:27.722Z"
   },
   {
    "duration": 5,
    "start_time": "2024-11-30T04:03:12.473Z"
   },
   {
    "duration": 5,
    "start_time": "2024-11-30T04:03:49.991Z"
   },
   {
    "duration": 5,
    "start_time": "2024-11-30T04:04:12.584Z"
   },
   {
    "duration": 5,
    "start_time": "2024-11-30T04:04:13.403Z"
   },
   {
    "duration": 192,
    "start_time": "2024-11-30T04:08:15.527Z"
   },
   {
    "duration": 10,
    "start_time": "2024-11-30T04:08:18.353Z"
   },
   {
    "duration": 6,
    "start_time": "2024-11-30T04:13:09.014Z"
   },
   {
    "duration": 10,
    "start_time": "2024-11-30T04:16:14.172Z"
   },
   {
    "duration": 2,
    "start_time": "2024-11-30T04:16:31.033Z"
   },
   {
    "duration": 13,
    "start_time": "2024-11-30T04:17:29.055Z"
   },
   {
    "duration": 9,
    "start_time": "2024-11-30T04:17:57.423Z"
   },
   {
    "duration": 3,
    "start_time": "2024-11-30T04:18:06.380Z"
   },
   {
    "duration": 6,
    "start_time": "2024-11-30T04:18:34.474Z"
   },
   {
    "duration": 8,
    "start_time": "2024-11-30T04:18:48.383Z"
   },
   {
    "duration": 3,
    "start_time": "2024-11-30T04:18:58.297Z"
   },
   {
    "duration": 5,
    "start_time": "2024-11-30T04:21:03.032Z"
   },
   {
    "duration": 5,
    "start_time": "2024-11-30T04:21:17.297Z"
   },
   {
    "duration": 2,
    "start_time": "2024-11-30T04:24:20.438Z"
   },
   {
    "duration": 3,
    "start_time": "2024-11-30T04:26:09.992Z"
   },
   {
    "duration": 6,
    "start_time": "2024-11-30T04:26:15.213Z"
   },
   {
    "duration": 170,
    "start_time": "2024-11-30T04:30:25.114Z"
   },
   {
    "duration": 843,
    "start_time": "2024-11-30T04:30:50.784Z"
   },
   {
    "duration": 2,
    "start_time": "2024-11-30T04:30:51.629Z"
   },
   {
    "duration": 350,
    "start_time": "2024-11-30T04:30:51.633Z"
   },
   {
    "duration": 2,
    "start_time": "2024-11-30T04:30:51.985Z"
   },
   {
    "duration": 3,
    "start_time": "2024-11-30T04:30:51.990Z"
   },
   {
    "duration": 76,
    "start_time": "2024-11-30T04:30:51.995Z"
   },
   {
    "duration": 4,
    "start_time": "2024-11-30T04:30:52.073Z"
   },
   {
    "duration": 6,
    "start_time": "2024-11-30T04:30:52.078Z"
   },
   {
    "duration": 68,
    "start_time": "2024-11-30T04:30:52.085Z"
   },
   {
    "duration": 10,
    "start_time": "2024-11-30T04:30:52.155Z"
   },
   {
    "duration": 26,
    "start_time": "2024-11-30T04:30:52.166Z"
   },
   {
    "duration": 78,
    "start_time": "2024-11-30T04:30:52.194Z"
   },
   {
    "duration": 84,
    "start_time": "2024-11-30T04:30:52.274Z"
   },
   {
    "duration": 142,
    "start_time": "2024-11-30T04:30:52.361Z"
   },
   {
    "duration": 21,
    "start_time": "2024-11-30T04:30:52.504Z"
   },
   {
    "duration": 17,
    "start_time": "2024-11-30T04:30:52.526Z"
   },
   {
    "duration": 40,
    "start_time": "2024-11-30T04:30:52.545Z"
   },
   {
    "duration": 3,
    "start_time": "2024-11-30T04:30:52.586Z"
   },
   {
    "duration": 3,
    "start_time": "2024-11-30T04:30:52.591Z"
   },
   {
    "duration": 158,
    "start_time": "2024-11-30T04:30:52.595Z"
   },
   {
    "duration": 15,
    "start_time": "2024-11-30T04:30:52.755Z"
   },
   {
    "duration": 105,
    "start_time": "2024-11-30T04:30:52.772Z"
   },
   {
    "duration": 5,
    "start_time": "2024-11-30T04:30:52.879Z"
   },
   {
    "duration": 190,
    "start_time": "2024-11-30T04:30:52.886Z"
   },
   {
    "duration": 11,
    "start_time": "2024-11-30T04:30:53.077Z"
   },
   {
    "duration": 5,
    "start_time": "2024-11-30T04:30:53.089Z"
   },
   {
    "duration": 6,
    "start_time": "2024-11-30T04:30:53.096Z"
   },
   {
    "duration": 3,
    "start_time": "2024-11-30T04:30:53.104Z"
   },
   {
    "duration": 3,
    "start_time": "2024-11-30T04:30:53.109Z"
   },
   {
    "duration": 4,
    "start_time": "2024-11-30T04:30:53.142Z"
   },
   {
    "duration": 6,
    "start_time": "2024-11-30T04:30:53.147Z"
   },
   {
    "duration": 4,
    "start_time": "2024-11-30T04:30:56.591Z"
   },
   {
    "duration": 7,
    "start_time": "2024-11-30T04:31:02.896Z"
   },
   {
    "duration": 5,
    "start_time": "2024-11-30T04:32:11.891Z"
   },
   {
    "duration": 6,
    "start_time": "2024-11-30T04:32:20.728Z"
   },
   {
    "duration": 6,
    "start_time": "2024-11-30T04:34:04.862Z"
   },
   {
    "duration": 483,
    "start_time": "2024-11-30T04:36:38.225Z"
   },
   {
    "duration": 7,
    "start_time": "2024-11-30T04:36:56.308Z"
   },
   {
    "duration": 4,
    "start_time": "2024-11-30T04:37:19.306Z"
   },
   {
    "duration": 7,
    "start_time": "2024-11-30T04:37:21.009Z"
   },
   {
    "duration": 14,
    "start_time": "2024-11-30T04:39:18.813Z"
   },
   {
    "duration": 3,
    "start_time": "2024-11-30T04:39:29.498Z"
   },
   {
    "duration": 7,
    "start_time": "2024-11-30T04:39:37.260Z"
   },
   {
    "duration": 4,
    "start_time": "2024-11-30T04:40:01.070Z"
   },
   {
    "duration": 3,
    "start_time": "2024-11-30T04:40:23.548Z"
   },
   {
    "duration": 6,
    "start_time": "2024-11-30T04:40:36.795Z"
   },
   {
    "duration": 2832,
    "start_time": "2024-11-30T21:07:01.012Z"
   },
   {
    "duration": 3,
    "start_time": "2024-11-30T21:07:03.846Z"
   },
   {
    "duration": 439,
    "start_time": "2024-11-30T21:07:03.851Z"
   },
   {
    "duration": 3,
    "start_time": "2024-11-30T21:07:04.292Z"
   },
   {
    "duration": 3,
    "start_time": "2024-11-30T21:07:04.296Z"
   },
   {
    "duration": 25,
    "start_time": "2024-11-30T21:07:04.301Z"
   },
   {
    "duration": 13,
    "start_time": "2024-11-30T21:07:04.327Z"
   },
   {
    "duration": 6,
    "start_time": "2024-11-30T21:07:04.342Z"
   },
   {
    "duration": 63,
    "start_time": "2024-11-30T21:07:04.350Z"
   },
   {
    "duration": 18,
    "start_time": "2024-11-30T21:07:04.416Z"
   },
   {
    "duration": 26,
    "start_time": "2024-11-30T21:07:04.437Z"
   },
   {
    "duration": 77,
    "start_time": "2024-11-30T21:07:04.464Z"
   },
   {
    "duration": 89,
    "start_time": "2024-11-30T21:07:04.542Z"
   },
   {
    "duration": 134,
    "start_time": "2024-11-30T21:07:04.633Z"
   },
   {
    "duration": 20,
    "start_time": "2024-11-30T21:07:04.769Z"
   },
   {
    "duration": 41,
    "start_time": "2024-11-30T21:07:04.791Z"
   },
   {
    "duration": 37,
    "start_time": "2024-11-30T21:07:04.834Z"
   },
   {
    "duration": 3,
    "start_time": "2024-11-30T21:07:04.873Z"
   },
   {
    "duration": 3,
    "start_time": "2024-11-30T21:07:04.878Z"
   },
   {
    "duration": 158,
    "start_time": "2024-11-30T21:07:04.884Z"
   },
   {
    "duration": 15,
    "start_time": "2024-11-30T21:07:05.044Z"
   },
   {
    "duration": 110,
    "start_time": "2024-11-30T21:07:05.060Z"
   },
   {
    "duration": 5,
    "start_time": "2024-11-30T21:07:05.172Z"
   },
   {
    "duration": 202,
    "start_time": "2024-11-30T21:07:05.178Z"
   },
   {
    "duration": 10,
    "start_time": "2024-11-30T21:07:05.382Z"
   },
   {
    "duration": 14,
    "start_time": "2024-11-30T21:07:05.393Z"
   },
   {
    "duration": 16,
    "start_time": "2024-11-30T21:07:05.408Z"
   },
   {
    "duration": 7,
    "start_time": "2024-11-30T21:07:05.428Z"
   },
   {
    "duration": 3,
    "start_time": "2024-11-30T21:07:05.437Z"
   },
   {
    "duration": 4,
    "start_time": "2024-11-30T21:07:05.442Z"
   },
   {
    "duration": 5,
    "start_time": "2024-11-30T21:07:05.448Z"
   },
   {
    "duration": 4,
    "start_time": "2024-11-30T21:07:05.455Z"
   },
   {
    "duration": 5,
    "start_time": "2024-11-30T21:07:05.460Z"
   },
   {
    "duration": 3,
    "start_time": "2024-11-30T21:07:05.467Z"
   },
   {
    "duration": 62,
    "start_time": "2024-11-30T21:07:05.472Z"
   },
   {
    "duration": 4,
    "start_time": "2024-11-30T21:07:05.535Z"
   },
   {
    "duration": 4,
    "start_time": "2024-11-30T21:07:05.540Z"
   },
   {
    "duration": 6,
    "start_time": "2024-11-30T21:07:05.546Z"
   },
   {
    "duration": 80,
    "start_time": "2024-11-30T21:07:05.554Z"
   },
   {
    "duration": 42,
    "start_time": "2024-11-30T21:07:05.635Z"
   },
   {
    "duration": 151,
    "start_time": "2024-11-30T21:07:05.678Z"
   },
   {
    "duration": 17,
    "start_time": "2024-11-30T21:07:05.837Z"
   },
   {
    "duration": 10,
    "start_time": "2024-11-30T21:07:05.855Z"
   },
   {
    "duration": 7,
    "start_time": "2024-11-30T21:07:05.866Z"
   },
   {
    "duration": 7,
    "start_time": "2024-11-30T21:07:05.875Z"
   },
   {
    "duration": 24,
    "start_time": "2024-11-30T21:07:05.884Z"
   },
   {
    "duration": 22,
    "start_time": "2024-11-30T21:07:05.910Z"
   },
   {
    "duration": 4,
    "start_time": "2024-11-30T21:07:05.934Z"
   },
   {
    "duration": 85,
    "start_time": "2024-11-30T21:07:05.939Z"
   },
   {
    "duration": 101,
    "start_time": "2024-11-30T21:07:06.031Z"
   },
   {
    "duration": 41,
    "start_time": "2024-11-30T21:07:06.135Z"
   },
   {
    "duration": 155,
    "start_time": "2024-11-30T21:07:06.177Z"
   },
   {
    "duration": 161,
    "start_time": "2024-11-30T21:07:06.333Z"
   },
   {
    "duration": 112,
    "start_time": "2024-11-30T21:15:19.385Z"
   },
   {
    "duration": 112,
    "start_time": "2024-11-30T21:20:19.547Z"
   },
   {
    "duration": 123,
    "start_time": "2024-11-30T21:25:51.867Z"
   },
   {
    "duration": 120,
    "start_time": "2024-11-30T21:26:17.456Z"
   },
   {
    "duration": 121,
    "start_time": "2024-11-30T21:26:23.427Z"
   },
   {
    "duration": 16,
    "start_time": "2024-11-30T21:26:50.362Z"
   },
   {
    "duration": 151,
    "start_time": "2024-11-30T21:28:32.676Z"
   },
   {
    "duration": 200333,
    "start_time": "2024-11-30T21:30:19.911Z"
   },
   {
    "duration": 931,
    "start_time": "2024-11-30T21:35:04.848Z"
   },
   {
    "duration": 3,
    "start_time": "2024-11-30T21:35:05.782Z"
   },
   {
    "duration": 382,
    "start_time": "2024-11-30T21:35:05.786Z"
   },
   {
    "duration": 3,
    "start_time": "2024-11-30T21:35:06.171Z"
   },
   {
    "duration": 3,
    "start_time": "2024-11-30T21:35:06.175Z"
   },
   {
    "duration": 44,
    "start_time": "2024-11-30T21:35:06.180Z"
   },
   {
    "duration": 4,
    "start_time": "2024-11-30T21:35:06.234Z"
   },
   {
    "duration": 5,
    "start_time": "2024-11-30T21:35:06.239Z"
   },
   {
    "duration": 51,
    "start_time": "2024-11-30T21:35:06.246Z"
   },
   {
    "duration": 31,
    "start_time": "2024-11-30T21:35:06.301Z"
   },
   {
    "duration": 35,
    "start_time": "2024-11-30T21:35:06.334Z"
   },
   {
    "duration": 79,
    "start_time": "2024-11-30T21:35:06.371Z"
   },
   {
    "duration": 96,
    "start_time": "2024-11-30T21:35:06.452Z"
   },
   {
    "duration": 144,
    "start_time": "2024-11-30T21:35:06.550Z"
   },
   {
    "duration": 34,
    "start_time": "2024-11-30T21:35:06.696Z"
   },
   {
    "duration": 9,
    "start_time": "2024-11-30T21:35:06.737Z"
   },
   {
    "duration": 37,
    "start_time": "2024-11-30T21:35:06.748Z"
   },
   {
    "duration": 3,
    "start_time": "2024-11-30T21:35:06.786Z"
   },
   {
    "duration": 3,
    "start_time": "2024-11-30T21:35:06.791Z"
   },
   {
    "duration": 168,
    "start_time": "2024-11-30T21:35:06.795Z"
   },
   {
    "duration": 16,
    "start_time": "2024-11-30T21:35:06.965Z"
   },
   {
    "duration": 95,
    "start_time": "2024-11-30T21:35:06.983Z"
   },
   {
    "duration": 5,
    "start_time": "2024-11-30T21:35:07.080Z"
   },
   {
    "duration": 209,
    "start_time": "2024-11-30T21:35:07.086Z"
   },
   {
    "duration": 36,
    "start_time": "2024-11-30T21:35:07.296Z"
   },
   {
    "duration": 6,
    "start_time": "2024-11-30T21:35:07.334Z"
   },
   {
    "duration": 8,
    "start_time": "2024-11-30T21:35:07.342Z"
   },
   {
    "duration": 3,
    "start_time": "2024-11-30T21:35:07.355Z"
   },
   {
    "duration": 3,
    "start_time": "2024-11-30T21:35:07.360Z"
   },
   {
    "duration": 4,
    "start_time": "2024-11-30T21:35:07.365Z"
   },
   {
    "duration": 8,
    "start_time": "2024-11-30T21:35:07.371Z"
   },
   {
    "duration": 38,
    "start_time": "2024-11-30T21:35:07.382Z"
   },
   {
    "duration": 8,
    "start_time": "2024-11-30T21:35:07.428Z"
   },
   {
    "duration": 5,
    "start_time": "2024-11-30T21:35:07.438Z"
   },
   {
    "duration": 10,
    "start_time": "2024-11-30T21:35:07.444Z"
   },
   {
    "duration": 4,
    "start_time": "2024-11-30T21:35:07.456Z"
   },
   {
    "duration": 3,
    "start_time": "2024-11-30T21:35:07.462Z"
   },
   {
    "duration": 8,
    "start_time": "2024-11-30T21:35:07.467Z"
   },
   {
    "duration": 104,
    "start_time": "2024-11-30T21:35:07.477Z"
   },
   {
    "duration": 42,
    "start_time": "2024-11-30T21:35:07.582Z"
   },
   {
    "duration": 142,
    "start_time": "2024-11-30T21:35:07.626Z"
   },
   {
    "duration": 15,
    "start_time": "2024-11-30T21:35:07.770Z"
   },
   {
    "duration": 18,
    "start_time": "2024-11-30T21:35:07.787Z"
   },
   {
    "duration": 17,
    "start_time": "2024-11-30T21:35:07.807Z"
   },
   {
    "duration": 6,
    "start_time": "2024-11-30T21:35:07.825Z"
   },
   {
    "duration": 4,
    "start_time": "2024-11-30T21:35:07.833Z"
   },
   {
    "duration": 7,
    "start_time": "2024-11-30T21:35:07.839Z"
   },
   {
    "duration": 4,
    "start_time": "2024-11-30T21:35:07.847Z"
   },
   {
    "duration": 99,
    "start_time": "2024-11-30T21:35:07.854Z"
   },
   {
    "duration": 97,
    "start_time": "2024-11-30T21:35:07.955Z"
   },
   {
    "duration": 60,
    "start_time": "2024-11-30T21:35:08.054Z"
   },
   {
    "duration": 132,
    "start_time": "2024-11-30T21:35:08.129Z"
   },
   {
    "duration": 173,
    "start_time": "2024-11-30T21:35:08.262Z"
   },
   {
    "duration": 114,
    "start_time": "2024-11-30T21:35:08.437Z"
   },
   {
    "duration": 199,
    "start_time": "2024-11-30T21:35:08.552Z"
   },
   {
    "duration": 410692,
    "start_time": "2024-11-30T21:35:08.752Z"
   },
   {
    "duration": 29,
    "start_time": "2024-11-30T21:43:24.053Z"
   },
   {
    "duration": 234,
    "start_time": "2024-11-30T21:43:34.028Z"
   },
   {
    "duration": 4,
    "start_time": "2024-11-30T21:43:47.191Z"
   },
   {
    "duration": 4,
    "start_time": "2024-11-30T21:44:08.398Z"
   },
   {
    "duration": 102,
    "start_time": "2024-11-30T21:48:28.339Z"
   },
   {
    "duration": 111,
    "start_time": "2024-11-30T21:48:54.681Z"
   },
   {
    "duration": 105,
    "start_time": "2024-11-30T21:49:20.560Z"
   },
   {
    "duration": 94,
    "start_time": "2024-11-30T21:53:14.232Z"
   },
   {
    "duration": 12,
    "start_time": "2024-11-30T21:53:30.960Z"
   },
   {
    "duration": 107,
    "start_time": "2024-11-30T21:53:54.347Z"
   },
   {
    "duration": 40,
    "start_time": "2024-11-30T21:55:23.457Z"
   },
   {
    "duration": 7,
    "start_time": "2024-11-30T21:55:31.288Z"
   },
   {
    "duration": 12,
    "start_time": "2024-11-30T21:55:35.875Z"
   },
   {
    "duration": 4,
    "start_time": "2024-11-30T21:56:44.313Z"
   },
   {
    "duration": 7,
    "start_time": "2024-11-30T21:56:59.626Z"
   },
   {
    "duration": 14,
    "start_time": "2024-11-30T21:57:12.631Z"
   },
   {
    "duration": 13,
    "start_time": "2024-11-30T21:57:29.581Z"
   },
   {
    "duration": 25,
    "start_time": "2024-11-30T21:57:56.562Z"
   },
   {
    "duration": 33,
    "start_time": "2024-11-30T21:59:07.182Z"
   },
   {
    "duration": 29,
    "start_time": "2024-11-30T21:59:19.047Z"
   },
   {
    "duration": 883,
    "start_time": "2024-11-30T21:59:52.210Z"
   },
   {
    "duration": 2,
    "start_time": "2024-11-30T21:59:53.095Z"
   },
   {
    "duration": 345,
    "start_time": "2024-11-30T21:59:53.099Z"
   },
   {
    "duration": 2,
    "start_time": "2024-11-30T21:59:53.446Z"
   },
   {
    "duration": 3,
    "start_time": "2024-11-30T21:59:53.451Z"
   },
   {
    "duration": 18,
    "start_time": "2024-11-30T21:59:53.455Z"
   },
   {
    "duration": 4,
    "start_time": "2024-11-30T21:59:53.475Z"
   },
   {
    "duration": 27,
    "start_time": "2024-11-30T21:59:53.480Z"
   },
   {
    "duration": 52,
    "start_time": "2024-11-30T21:59:53.509Z"
   },
   {
    "duration": 10,
    "start_time": "2024-11-30T21:59:53.562Z"
   },
   {
    "duration": 47,
    "start_time": "2024-11-30T21:59:53.574Z"
   },
   {
    "duration": 59,
    "start_time": "2024-11-30T21:59:53.622Z"
   },
   {
    "duration": 80,
    "start_time": "2024-11-30T21:59:53.684Z"
   },
   {
    "duration": 142,
    "start_time": "2024-11-30T21:59:53.769Z"
   },
   {
    "duration": 22,
    "start_time": "2024-11-30T21:59:53.915Z"
   },
   {
    "duration": 8,
    "start_time": "2024-11-30T21:59:53.939Z"
   },
   {
    "duration": 58,
    "start_time": "2024-11-30T21:59:53.948Z"
   },
   {
    "duration": 2,
    "start_time": "2024-11-30T21:59:54.008Z"
   },
   {
    "duration": 4,
    "start_time": "2024-11-30T21:59:54.012Z"
   },
   {
    "duration": 147,
    "start_time": "2024-11-30T21:59:54.019Z"
   },
   {
    "duration": 15,
    "start_time": "2024-11-30T21:59:54.168Z"
   },
   {
    "duration": 116,
    "start_time": "2024-11-30T21:59:54.184Z"
   },
   {
    "duration": 5,
    "start_time": "2024-11-30T21:59:54.305Z"
   },
   {
    "duration": 197,
    "start_time": "2024-11-30T21:59:54.311Z"
   },
   {
    "duration": 11,
    "start_time": "2024-11-30T21:59:54.510Z"
   },
   {
    "duration": 6,
    "start_time": "2024-11-30T21:59:54.523Z"
   },
   {
    "duration": 9,
    "start_time": "2024-11-30T21:59:54.531Z"
   },
   {
    "duration": 3,
    "start_time": "2024-11-30T21:59:54.542Z"
   },
   {
    "duration": 3,
    "start_time": "2024-11-30T21:59:54.547Z"
   },
   {
    "duration": 4,
    "start_time": "2024-11-30T21:59:54.551Z"
   },
   {
    "duration": 6,
    "start_time": "2024-11-30T21:59:54.556Z"
   },
   {
    "duration": 5,
    "start_time": "2024-11-30T21:59:54.605Z"
   },
   {
    "duration": 4,
    "start_time": "2024-11-30T21:59:54.611Z"
   },
   {
    "duration": 3,
    "start_time": "2024-11-30T21:59:54.617Z"
   },
   {
    "duration": 7,
    "start_time": "2024-11-30T21:59:54.622Z"
   },
   {
    "duration": 3,
    "start_time": "2024-11-30T21:59:54.631Z"
   },
   {
    "duration": 4,
    "start_time": "2024-11-30T21:59:54.635Z"
   },
   {
    "duration": 7,
    "start_time": "2024-11-30T21:59:54.640Z"
   },
   {
    "duration": 123,
    "start_time": "2024-11-30T21:59:54.648Z"
   },
   {
    "duration": 55,
    "start_time": "2024-11-30T21:59:54.773Z"
   },
   {
    "duration": 147,
    "start_time": "2024-11-30T21:59:54.834Z"
   },
   {
    "duration": 10,
    "start_time": "2024-11-30T21:59:54.983Z"
   },
   {
    "duration": 11,
    "start_time": "2024-11-30T21:59:54.995Z"
   },
   {
    "duration": 10,
    "start_time": "2024-11-30T21:59:55.008Z"
   },
   {
    "duration": 4,
    "start_time": "2024-11-30T21:59:55.021Z"
   },
   {
    "duration": 5,
    "start_time": "2024-11-30T21:59:55.026Z"
   },
   {
    "duration": 7,
    "start_time": "2024-11-30T21:59:55.033Z"
   },
   {
    "duration": 4,
    "start_time": "2024-11-30T21:59:55.041Z"
   },
   {
    "duration": 108,
    "start_time": "2024-11-30T21:59:55.047Z"
   },
   {
    "duration": 95,
    "start_time": "2024-11-30T21:59:55.156Z"
   },
   {
    "duration": 52,
    "start_time": "2024-11-30T21:59:55.253Z"
   },
   {
    "duration": 135,
    "start_time": "2024-11-30T21:59:55.307Z"
   },
   {
    "duration": 163,
    "start_time": "2024-11-30T21:59:55.444Z"
   },
   {
    "duration": 106,
    "start_time": "2024-11-30T21:59:55.608Z"
   },
   {
    "duration": 187,
    "start_time": "2024-11-30T21:59:55.716Z"
   },
   {
    "duration": 116,
    "start_time": "2024-11-30T21:59:55.905Z"
   },
   {
    "duration": 4,
    "start_time": "2024-11-30T21:59:56.023Z"
   },
   {
    "duration": 6,
    "start_time": "2024-11-30T21:59:56.029Z"
   },
   {
    "duration": 149,
    "start_time": "2024-11-30T22:00:04.390Z"
   },
   {
    "duration": 125,
    "start_time": "2024-11-30T22:00:16.770Z"
   },
   {
    "duration": 26,
    "start_time": "2024-11-30T22:01:15.999Z"
   },
   {
    "duration": 126,
    "start_time": "2024-11-30T22:03:10.170Z"
   },
   {
    "duration": 126,
    "start_time": "2024-11-30T22:03:19.259Z"
   },
   {
    "duration": 107,
    "start_time": "2024-11-30T22:03:22.181Z"
   },
   {
    "duration": 4,
    "start_time": "2024-11-30T22:03:25.355Z"
   },
   {
    "duration": 101,
    "start_time": "2024-11-30T22:04:03.230Z"
   },
   {
    "duration": 133,
    "start_time": "2024-11-30T22:04:06.359Z"
   },
   {
    "duration": 136,
    "start_time": "2024-11-30T22:04:06.749Z"
   },
   {
    "duration": 4,
    "start_time": "2024-11-30T22:04:07.643Z"
   },
   {
    "duration": 39,
    "start_time": "2024-11-30T22:05:08.574Z"
   },
   {
    "duration": 29,
    "start_time": "2024-11-30T22:05:12.870Z"
   },
   {
    "duration": 156,
    "start_time": "2024-11-30T22:07:08.574Z"
   },
   {
    "duration": 238,
    "start_time": "2024-11-30T22:08:15.786Z"
   },
   {
    "duration": 173,
    "start_time": "2024-11-30T22:08:32.256Z"
   },
   {
    "duration": 154,
    "start_time": "2024-11-30T22:08:46.045Z"
   },
   {
    "duration": 116,
    "start_time": "2024-11-30T22:09:33.112Z"
   },
   {
    "duration": 201,
    "start_time": "2024-11-30T22:09:34.031Z"
   },
   {
    "duration": 131,
    "start_time": "2024-11-30T22:12:24.216Z"
   },
   {
    "duration": 117,
    "start_time": "2024-11-30T22:14:29.516Z"
   },
   {
    "duration": 4,
    "start_time": "2024-11-30T22:17:19.254Z"
   },
   {
    "duration": 6,
    "start_time": "2024-11-30T22:23:31.838Z"
   },
   {
    "duration": 6,
    "start_time": "2024-11-30T22:23:37.261Z"
   },
   {
    "duration": 3,
    "start_time": "2024-11-30T22:25:57.640Z"
   },
   {
    "duration": 6,
    "start_time": "2024-11-30T22:26:20.516Z"
   },
   {
    "duration": 125,
    "start_time": "2024-11-30T22:28:43.749Z"
   },
   {
    "duration": 474,
    "start_time": "2024-11-30T22:30:16.775Z"
   },
   {
    "duration": 127,
    "start_time": "2024-11-30T22:30:29.404Z"
   },
   {
    "duration": 127,
    "start_time": "2024-11-30T22:31:00.804Z"
   },
   {
    "duration": 118,
    "start_time": "2024-11-30T22:33:14.603Z"
   },
   {
    "duration": 113,
    "start_time": "2024-11-30T22:33:36.104Z"
   },
   {
    "duration": 117,
    "start_time": "2024-11-30T22:33:54.169Z"
   },
   {
    "duration": 116,
    "start_time": "2024-11-30T22:34:09.638Z"
   },
   {
    "duration": 115,
    "start_time": "2024-11-30T22:34:21.836Z"
   },
   {
    "duration": 117,
    "start_time": "2024-11-30T22:34:34.350Z"
   },
   {
    "duration": 113,
    "start_time": "2024-11-30T22:34:49.179Z"
   },
   {
    "duration": 250,
    "start_time": "2024-11-30T22:35:01.265Z"
   },
   {
    "duration": 146,
    "start_time": "2024-11-30T22:36:29.771Z"
   },
   {
    "duration": 151,
    "start_time": "2024-11-30T22:36:46.668Z"
   },
   {
    "duration": 128,
    "start_time": "2024-11-30T22:37:17.760Z"
   },
   {
    "duration": 8,
    "start_time": "2024-11-30T22:51:15.596Z"
   },
   {
    "duration": 2495,
    "start_time": "2024-12-01T00:56:29.724Z"
   },
   {
    "duration": 3,
    "start_time": "2024-12-01T00:56:32.221Z"
   },
   {
    "duration": 391,
    "start_time": "2024-12-01T00:56:32.226Z"
   },
   {
    "duration": 2,
    "start_time": "2024-12-01T00:56:32.621Z"
   },
   {
    "duration": 5,
    "start_time": "2024-12-01T00:56:32.625Z"
   },
   {
    "duration": 19,
    "start_time": "2024-12-01T00:56:32.631Z"
   },
   {
    "duration": 6,
    "start_time": "2024-12-01T00:56:32.652Z"
   },
   {
    "duration": 6,
    "start_time": "2024-12-01T00:56:32.659Z"
   },
   {
    "duration": 72,
    "start_time": "2024-12-01T00:56:32.666Z"
   },
   {
    "duration": 8,
    "start_time": "2024-12-01T00:56:32.742Z"
   },
   {
    "duration": 45,
    "start_time": "2024-12-01T00:56:32.751Z"
   },
   {
    "duration": 63,
    "start_time": "2024-12-01T00:56:32.798Z"
   },
   {
    "duration": 78,
    "start_time": "2024-12-01T00:56:32.863Z"
   },
   {
    "duration": 138,
    "start_time": "2024-12-01T00:56:32.942Z"
   },
   {
    "duration": 22,
    "start_time": "2024-12-01T00:56:33.081Z"
   },
   {
    "duration": 11,
    "start_time": "2024-12-01T00:56:33.105Z"
   },
   {
    "duration": 70,
    "start_time": "2024-12-01T00:56:33.117Z"
   },
   {
    "duration": 5,
    "start_time": "2024-12-01T00:56:33.189Z"
   },
   {
    "duration": 4,
    "start_time": "2024-12-01T00:56:33.196Z"
   },
   {
    "duration": 142,
    "start_time": "2024-12-01T00:56:33.202Z"
   },
   {
    "duration": 15,
    "start_time": "2024-12-01T00:56:33.346Z"
   },
   {
    "duration": 94,
    "start_time": "2024-12-01T00:56:33.363Z"
   },
   {
    "duration": 4,
    "start_time": "2024-12-01T00:56:33.461Z"
   },
   {
    "duration": 179,
    "start_time": "2024-12-01T00:56:33.467Z"
   },
   {
    "duration": 11,
    "start_time": "2024-12-01T00:56:33.648Z"
   },
   {
    "duration": 5,
    "start_time": "2024-12-01T00:56:33.661Z"
   },
   {
    "duration": 25,
    "start_time": "2024-12-01T00:56:33.668Z"
   },
   {
    "duration": 4,
    "start_time": "2024-12-01T00:56:33.701Z"
   },
   {
    "duration": 2,
    "start_time": "2024-12-01T00:56:33.708Z"
   },
   {
    "duration": 4,
    "start_time": "2024-12-01T00:56:33.712Z"
   },
   {
    "duration": 6,
    "start_time": "2024-12-01T00:56:33.717Z"
   },
   {
    "duration": 5,
    "start_time": "2024-12-01T00:56:33.725Z"
   },
   {
    "duration": 5,
    "start_time": "2024-12-01T00:56:33.732Z"
   },
   {
    "duration": 3,
    "start_time": "2024-12-01T00:56:33.738Z"
   },
   {
    "duration": 48,
    "start_time": "2024-12-01T00:56:33.743Z"
   },
   {
    "duration": 3,
    "start_time": "2024-12-01T00:56:33.793Z"
   },
   {
    "duration": 2,
    "start_time": "2024-12-01T00:56:33.798Z"
   },
   {
    "duration": 7,
    "start_time": "2024-12-01T00:56:33.802Z"
   },
   {
    "duration": 5,
    "start_time": "2024-12-01T00:56:33.812Z"
   },
   {
    "duration": 3,
    "start_time": "2024-12-01T00:56:33.819Z"
   },
   {
    "duration": 141,
    "start_time": "2024-12-01T00:56:33.823Z"
   },
   {
    "duration": 7,
    "start_time": "2024-12-01T00:56:33.966Z"
   },
   {
    "duration": 13,
    "start_time": "2024-12-01T00:56:33.975Z"
   },
   {
    "duration": 6,
    "start_time": "2024-12-01T00:56:33.990Z"
   },
   {
    "duration": 9,
    "start_time": "2024-12-01T00:56:33.998Z"
   },
   {
    "duration": 4,
    "start_time": "2024-12-01T00:56:34.009Z"
   },
   {
    "duration": 92,
    "start_time": "2024-12-01T00:56:34.016Z"
   },
   {
    "duration": 94,
    "start_time": "2024-12-01T00:56:34.110Z"
   },
   {
    "duration": 38,
    "start_time": "2024-12-01T00:56:34.207Z"
   },
   {
    "duration": 143,
    "start_time": "2024-12-01T00:56:34.247Z"
   },
   {
    "duration": 156,
    "start_time": "2024-12-01T00:56:34.392Z"
   },
   {
    "duration": 110,
    "start_time": "2024-12-01T00:56:34.551Z"
   },
   {
    "duration": 132,
    "start_time": "2024-12-01T00:56:34.663Z"
   },
   {
    "duration": 112,
    "start_time": "2024-12-01T00:56:34.797Z"
   },
   {
    "duration": 4,
    "start_time": "2024-12-01T00:56:34.910Z"
   },
   {
    "duration": 100,
    "start_time": "2024-12-01T00:56:34.916Z"
   },
   {
    "duration": 196,
    "start_time": "2024-12-01T00:56:35.019Z"
   },
   {
    "duration": 122,
    "start_time": "2024-12-01T00:56:35.217Z"
   },
   {
    "duration": 4,
    "start_time": "2024-12-01T00:56:35.340Z"
   },
   {
    "duration": 7,
    "start_time": "2024-12-01T00:56:35.346Z"
   },
   {
    "duration": 4,
    "start_time": "2024-12-01T00:57:47.206Z"
   },
   {
    "duration": 94,
    "start_time": "2024-12-01T00:57:59.028Z"
   },
   {
    "duration": 13,
    "start_time": "2024-12-01T00:58:39.237Z"
   },
   {
    "duration": 11,
    "start_time": "2024-12-01T01:00:51.093Z"
   },
   {
    "duration": 818,
    "start_time": "2024-12-01T01:07:33.094Z"
   },
   {
    "duration": 2,
    "start_time": "2024-12-01T01:07:33.915Z"
   },
   {
    "duration": 358,
    "start_time": "2024-12-01T01:07:33.919Z"
   },
   {
    "duration": 3,
    "start_time": "2024-12-01T01:07:34.279Z"
   },
   {
    "duration": 3,
    "start_time": "2024-12-01T01:07:34.286Z"
   },
   {
    "duration": 18,
    "start_time": "2024-12-01T01:07:34.291Z"
   },
   {
    "duration": 4,
    "start_time": "2024-12-01T01:07:34.312Z"
   },
   {
    "duration": 5,
    "start_time": "2024-12-01T01:07:34.317Z"
   },
   {
    "duration": 80,
    "start_time": "2024-12-01T01:07:34.324Z"
   },
   {
    "duration": 9,
    "start_time": "2024-12-01T01:07:34.406Z"
   },
   {
    "duration": 25,
    "start_time": "2024-12-01T01:07:34.417Z"
   },
   {
    "duration": 76,
    "start_time": "2024-12-01T01:07:34.444Z"
   },
   {
    "duration": 76,
    "start_time": "2024-12-01T01:07:34.522Z"
   },
   {
    "duration": 132,
    "start_time": "2024-12-01T01:07:34.602Z"
   },
   {
    "duration": 22,
    "start_time": "2024-12-01T01:07:34.735Z"
   },
   {
    "duration": 29,
    "start_time": "2024-12-01T01:07:34.758Z"
   },
   {
    "duration": 37,
    "start_time": "2024-12-01T01:07:34.788Z"
   },
   {
    "duration": 3,
    "start_time": "2024-12-01T01:07:34.826Z"
   },
   {
    "duration": 3,
    "start_time": "2024-12-01T01:07:34.831Z"
   },
   {
    "duration": 151,
    "start_time": "2024-12-01T01:07:34.835Z"
   },
   {
    "duration": 14,
    "start_time": "2024-12-01T01:07:34.989Z"
   },
   {
    "duration": 95,
    "start_time": "2024-12-01T01:07:35.005Z"
   },
   {
    "duration": 5,
    "start_time": "2024-12-01T01:07:35.102Z"
   },
   {
    "duration": 181,
    "start_time": "2024-12-01T01:07:35.108Z"
   },
   {
    "duration": 11,
    "start_time": "2024-12-01T01:07:35.291Z"
   },
   {
    "duration": 6,
    "start_time": "2024-12-01T01:07:35.304Z"
   },
   {
    "duration": 8,
    "start_time": "2024-12-01T01:07:35.312Z"
   },
   {
    "duration": 3,
    "start_time": "2024-12-01T01:07:35.322Z"
   },
   {
    "duration": 3,
    "start_time": "2024-12-01T01:07:35.327Z"
   },
   {
    "duration": 4,
    "start_time": "2024-12-01T01:07:35.331Z"
   },
   {
    "duration": 6,
    "start_time": "2024-12-01T01:07:35.336Z"
   },
   {
    "duration": 45,
    "start_time": "2024-12-01T01:07:35.343Z"
   },
   {
    "duration": 4,
    "start_time": "2024-12-01T01:07:35.390Z"
   },
   {
    "duration": 3,
    "start_time": "2024-12-01T01:07:35.396Z"
   },
   {
    "duration": 7,
    "start_time": "2024-12-01T01:07:35.401Z"
   },
   {
    "duration": 3,
    "start_time": "2024-12-01T01:07:35.410Z"
   },
   {
    "duration": 3,
    "start_time": "2024-12-01T01:07:35.414Z"
   },
   {
    "duration": 6,
    "start_time": "2024-12-01T01:07:35.418Z"
   },
   {
    "duration": 4,
    "start_time": "2024-12-01T01:07:35.426Z"
   },
   {
    "duration": 4,
    "start_time": "2024-12-01T01:07:35.432Z"
   },
   {
    "duration": 155,
    "start_time": "2024-12-01T01:07:35.441Z"
   },
   {
    "duration": 5,
    "start_time": "2024-12-01T01:07:35.598Z"
   },
   {
    "duration": 5,
    "start_time": "2024-12-01T01:07:35.605Z"
   },
   {
    "duration": 4,
    "start_time": "2024-12-01T01:07:35.612Z"
   },
   {
    "duration": 6,
    "start_time": "2024-12-01T01:07:35.618Z"
   },
   {
    "duration": 4,
    "start_time": "2024-12-01T01:07:35.625Z"
   },
   {
    "duration": 99,
    "start_time": "2024-12-01T01:07:35.630Z"
   },
   {
    "duration": 97,
    "start_time": "2024-12-01T01:07:35.731Z"
   },
   {
    "duration": 37,
    "start_time": "2024-12-01T01:07:35.830Z"
   },
   {
    "duration": 136,
    "start_time": "2024-12-01T01:07:35.869Z"
   },
   {
    "duration": 204,
    "start_time": "2024-12-01T01:07:36.007Z"
   },
   {
    "duration": 112,
    "start_time": "2024-12-01T01:07:36.213Z"
   },
   {
    "duration": 133,
    "start_time": "2024-12-01T01:07:36.327Z"
   },
   {
    "duration": 109,
    "start_time": "2024-12-01T01:07:36.461Z"
   },
   {
    "duration": 4,
    "start_time": "2024-12-01T01:07:36.572Z"
   },
   {
    "duration": 93,
    "start_time": "2024-12-01T01:07:36.578Z"
   },
   {
    "duration": 142,
    "start_time": "2024-12-01T01:07:36.673Z"
   },
   {
    "duration": 121,
    "start_time": "2024-12-01T01:07:36.817Z"
   },
   {
    "duration": 4,
    "start_time": "2024-12-01T01:07:36.940Z"
   },
   {
    "duration": 79,
    "start_time": "2024-12-01T01:09:11.948Z"
   },
   {
    "duration": 13,
    "start_time": "2024-12-01T01:09:17.788Z"
   },
   {
    "duration": 34,
    "start_time": "2024-12-01T01:10:31.598Z"
   },
   {
    "duration": 17,
    "start_time": "2024-12-01T01:10:35.029Z"
   },
   {
    "duration": 468,
    "start_time": "2024-12-01T01:14:06.632Z"
   },
   {
    "duration": 4,
    "start_time": "2024-12-01T01:14:35.402Z"
   },
   {
    "duration": 20,
    "start_time": "2024-12-01T01:14:43.193Z"
   },
   {
    "duration": 875,
    "start_time": "2024-12-01T01:16:03.205Z"
   },
   {
    "duration": 5,
    "start_time": "2024-12-01T01:16:04.082Z"
   },
   {
    "duration": 353,
    "start_time": "2024-12-01T01:16:04.088Z"
   },
   {
    "duration": 3,
    "start_time": "2024-12-01T01:16:04.443Z"
   },
   {
    "duration": 3,
    "start_time": "2024-12-01T01:16:04.448Z"
   },
   {
    "duration": 18,
    "start_time": "2024-12-01T01:16:04.452Z"
   },
   {
    "duration": 5,
    "start_time": "2024-12-01T01:16:04.486Z"
   },
   {
    "duration": 5,
    "start_time": "2024-12-01T01:16:04.493Z"
   },
   {
    "duration": 54,
    "start_time": "2024-12-01T01:16:04.499Z"
   },
   {
    "duration": 32,
    "start_time": "2024-12-01T01:16:04.555Z"
   },
   {
    "duration": 26,
    "start_time": "2024-12-01T01:16:04.588Z"
   },
   {
    "duration": 75,
    "start_time": "2024-12-01T01:16:04.615Z"
   },
   {
    "duration": 70,
    "start_time": "2024-12-01T01:16:04.691Z"
   },
   {
    "duration": 141,
    "start_time": "2024-12-01T01:16:04.765Z"
   },
   {
    "duration": 22,
    "start_time": "2024-12-01T01:16:04.907Z"
   },
   {
    "duration": 8,
    "start_time": "2024-12-01T01:16:04.930Z"
   },
   {
    "duration": 57,
    "start_time": "2024-12-01T01:16:04.939Z"
   },
   {
    "duration": 2,
    "start_time": "2024-12-01T01:16:04.998Z"
   },
   {
    "duration": 3,
    "start_time": "2024-12-01T01:16:05.002Z"
   },
   {
    "duration": 154,
    "start_time": "2024-12-01T01:16:05.007Z"
   },
   {
    "duration": 15,
    "start_time": "2024-12-01T01:16:05.162Z"
   },
   {
    "duration": 82,
    "start_time": "2024-12-01T01:16:05.184Z"
   },
   {
    "duration": 6,
    "start_time": "2024-12-01T01:16:05.267Z"
   },
   {
    "duration": 184,
    "start_time": "2024-12-01T01:16:05.286Z"
   },
   {
    "duration": 15,
    "start_time": "2024-12-01T01:16:05.472Z"
   },
   {
    "duration": 5,
    "start_time": "2024-12-01T01:16:05.489Z"
   },
   {
    "duration": 8,
    "start_time": "2024-12-01T01:16:05.496Z"
   },
   {
    "duration": 3,
    "start_time": "2024-12-01T01:16:05.505Z"
   },
   {
    "duration": 3,
    "start_time": "2024-12-01T01:16:05.510Z"
   },
   {
    "duration": 3,
    "start_time": "2024-12-01T01:16:05.515Z"
   },
   {
    "duration": 5,
    "start_time": "2024-12-01T01:16:05.520Z"
   },
   {
    "duration": 4,
    "start_time": "2024-12-01T01:16:05.526Z"
   },
   {
    "duration": 4,
    "start_time": "2024-12-01T01:16:05.532Z"
   },
   {
    "duration": 48,
    "start_time": "2024-12-01T01:16:05.538Z"
   },
   {
    "duration": 8,
    "start_time": "2024-12-01T01:16:05.588Z"
   },
   {
    "duration": 3,
    "start_time": "2024-12-01T01:16:05.597Z"
   },
   {
    "duration": 3,
    "start_time": "2024-12-01T01:16:05.602Z"
   },
   {
    "duration": 6,
    "start_time": "2024-12-01T01:16:05.606Z"
   },
   {
    "duration": 5,
    "start_time": "2024-12-01T01:16:05.614Z"
   },
   {
    "duration": 3,
    "start_time": "2024-12-01T01:16:05.621Z"
   },
   {
    "duration": 148,
    "start_time": "2024-12-01T01:16:05.630Z"
   },
   {
    "duration": 6,
    "start_time": "2024-12-01T01:16:05.786Z"
   },
   {
    "duration": 4,
    "start_time": "2024-12-01T01:16:05.794Z"
   },
   {
    "duration": 5,
    "start_time": "2024-12-01T01:16:05.799Z"
   },
   {
    "duration": 7,
    "start_time": "2024-12-01T01:16:05.805Z"
   },
   {
    "duration": 3,
    "start_time": "2024-12-01T01:16:05.813Z"
   },
   {
    "duration": 100,
    "start_time": "2024-12-01T01:16:05.818Z"
   },
   {
    "duration": 91,
    "start_time": "2024-12-01T01:16:05.920Z"
   },
   {
    "duration": 38,
    "start_time": "2024-12-01T01:16:06.013Z"
   },
   {
    "duration": 143,
    "start_time": "2024-12-01T01:16:06.052Z"
   },
   {
    "duration": 212,
    "start_time": "2024-12-01T01:16:06.197Z"
   },
   {
    "duration": 108,
    "start_time": "2024-12-01T01:16:06.411Z"
   },
   {
    "duration": 132,
    "start_time": "2024-12-01T01:16:06.521Z"
   },
   {
    "duration": 109,
    "start_time": "2024-12-01T01:16:06.654Z"
   },
   {
    "duration": 3,
    "start_time": "2024-12-01T01:16:06.765Z"
   },
   {
    "duration": 99,
    "start_time": "2024-12-01T01:16:06.770Z"
   },
   {
    "duration": 139,
    "start_time": "2024-12-01T01:16:06.870Z"
   },
   {
    "duration": 123,
    "start_time": "2024-12-01T01:16:07.011Z"
   },
   {
    "duration": 4,
    "start_time": "2024-12-01T01:16:07.136Z"
   },
   {
    "duration": 88,
    "start_time": "2024-12-01T01:16:07.142Z"
   },
   {
    "duration": 34,
    "start_time": "2024-12-01T01:16:07.232Z"
   },
   {
    "duration": 20,
    "start_time": "2024-12-01T01:16:09.754Z"
   },
   {
    "duration": 17,
    "start_time": "2024-12-01T01:16:17.629Z"
   },
   {
    "duration": 461,
    "start_time": "2024-12-01T01:16:41.229Z"
   },
   {
    "duration": 41,
    "start_time": "2024-12-01T01:19:25.344Z"
   },
   {
    "duration": 32,
    "start_time": "2024-12-01T01:20:44.682Z"
   },
   {
    "duration": 38,
    "start_time": "2024-12-01T01:20:45.334Z"
   },
   {
    "duration": 5,
    "start_time": "2024-12-01T01:20:57.434Z"
   },
   {
    "duration": 18,
    "start_time": "2024-12-01T01:20:59.273Z"
   },
   {
    "duration": 4,
    "start_time": "2024-12-01T01:25:32.573Z"
   },
   {
    "duration": 448,
    "start_time": "2024-12-01T01:26:02.110Z"
   },
   {
    "duration": 7,
    "start_time": "2024-12-01T01:26:30.445Z"
   },
   {
    "duration": 4,
    "start_time": "2024-12-01T01:26:53.830Z"
   },
   {
    "duration": 3,
    "start_time": "2024-12-01T01:27:49.414Z"
   },
   {
    "duration": 60,
    "start_time": "2024-12-01T01:27:57.199Z"
   },
   {
    "duration": 61,
    "start_time": "2024-12-01T01:29:49.035Z"
   },
   {
    "duration": 12,
    "start_time": "2024-12-01T01:30:12.581Z"
   },
   {
    "duration": 59,
    "start_time": "2024-12-01T01:32:02.503Z"
   },
   {
    "duration": 18,
    "start_time": "2024-12-01T01:32:22.083Z"
   },
   {
    "duration": 40,
    "start_time": "2024-12-01T01:32:54.635Z"
   },
   {
    "duration": 13,
    "start_time": "2024-12-01T01:34:13.239Z"
   },
   {
    "duration": 4,
    "start_time": "2024-12-01T01:34:21.824Z"
   },
   {
    "duration": 28,
    "start_time": "2024-12-01T01:34:26.249Z"
   },
   {
    "duration": 17,
    "start_time": "2024-12-01T01:35:42.575Z"
   },
   {
    "duration": 15,
    "start_time": "2024-12-01T01:40:16.532Z"
   },
   {
    "duration": 3,
    "start_time": "2024-12-01T01:40:25.607Z"
   },
   {
    "duration": 10,
    "start_time": "2024-12-01T01:43:24.900Z"
   },
   {
    "duration": 16,
    "start_time": "2024-12-01T01:43:30.091Z"
   },
   {
    "duration": 18,
    "start_time": "2024-12-01T01:43:51.337Z"
   },
   {
    "duration": 7,
    "start_time": "2024-12-01T01:44:40.504Z"
   },
   {
    "duration": 3,
    "start_time": "2024-12-01T01:44:45.483Z"
   },
   {
    "duration": 10,
    "start_time": "2024-12-01T01:46:07.116Z"
   },
   {
    "duration": 18,
    "start_time": "2024-12-01T01:50:28.120Z"
   },
   {
    "duration": 17,
    "start_time": "2024-12-01T01:50:43.758Z"
   },
   {
    "duration": 17,
    "start_time": "2024-12-01T01:53:02.256Z"
   },
   {
    "duration": 18,
    "start_time": "2024-12-01T01:53:58.412Z"
   },
   {
    "duration": 15,
    "start_time": "2024-12-01T01:56:13.112Z"
   },
   {
    "duration": 3,
    "start_time": "2024-12-01T01:58:39.255Z"
   },
   {
    "duration": 12,
    "start_time": "2024-12-01T02:02:20.159Z"
   },
   {
    "duration": 10,
    "start_time": "2024-12-01T02:03:11.304Z"
   },
   {
    "duration": 14,
    "start_time": "2024-12-01T02:09:07.465Z"
   },
   {
    "duration": 4,
    "start_time": "2024-12-01T02:09:15.087Z"
   },
   {
    "duration": 5,
    "start_time": "2024-12-01T02:09:19.179Z"
   },
   {
    "duration": 6,
    "start_time": "2024-12-01T02:09:34.099Z"
   },
   {
    "duration": 6,
    "start_time": "2024-12-01T02:10:24.764Z"
   },
   {
    "duration": 6,
    "start_time": "2024-12-01T02:16:31.385Z"
   },
   {
    "duration": 40,
    "start_time": "2024-12-01T02:22:25.881Z"
   },
   {
    "duration": 13,
    "start_time": "2024-12-01T02:22:33.442Z"
   },
   {
    "duration": 14,
    "start_time": "2024-12-01T02:23:25.132Z"
   },
   {
    "duration": 854,
    "start_time": "2024-12-01T02:24:26.156Z"
   },
   {
    "duration": 3,
    "start_time": "2024-12-01T02:24:27.013Z"
   },
   {
    "duration": 379,
    "start_time": "2024-12-01T02:24:27.018Z"
   },
   {
    "duration": 3,
    "start_time": "2024-12-01T02:24:27.399Z"
   },
   {
    "duration": 3,
    "start_time": "2024-12-01T02:24:27.405Z"
   },
   {
    "duration": 24,
    "start_time": "2024-12-01T02:24:27.410Z"
   },
   {
    "duration": 4,
    "start_time": "2024-12-01T02:24:27.436Z"
   },
   {
    "duration": 8,
    "start_time": "2024-12-01T02:24:27.442Z"
   },
   {
    "duration": 107,
    "start_time": "2024-12-01T02:24:27.452Z"
   },
   {
    "duration": 9,
    "start_time": "2024-12-01T02:24:27.560Z"
   },
   {
    "duration": 32,
    "start_time": "2024-12-01T02:24:27.571Z"
   },
   {
    "duration": 91,
    "start_time": "2024-12-01T02:24:27.606Z"
   },
   {
    "duration": 92,
    "start_time": "2024-12-01T02:24:27.699Z"
   },
   {
    "duration": 144,
    "start_time": "2024-12-01T02:24:27.795Z"
   },
   {
    "duration": 30,
    "start_time": "2024-12-01T02:24:27.941Z"
   },
   {
    "duration": 17,
    "start_time": "2024-12-01T02:24:27.972Z"
   },
   {
    "duration": 45,
    "start_time": "2024-12-01T02:24:27.991Z"
   },
   {
    "duration": 3,
    "start_time": "2024-12-01T02:24:28.038Z"
   },
   {
    "duration": 3,
    "start_time": "2024-12-01T02:24:28.042Z"
   },
   {
    "duration": 171,
    "start_time": "2024-12-01T02:24:28.047Z"
   },
   {
    "duration": 23,
    "start_time": "2024-12-01T02:24:28.220Z"
   },
   {
    "duration": 115,
    "start_time": "2024-12-01T02:24:28.245Z"
   },
   {
    "duration": 5,
    "start_time": "2024-12-01T02:24:28.363Z"
   },
   {
    "duration": 205,
    "start_time": "2024-12-01T02:24:28.371Z"
   },
   {
    "duration": 12,
    "start_time": "2024-12-01T02:24:28.579Z"
   },
   {
    "duration": 7,
    "start_time": "2024-12-01T02:24:28.593Z"
   },
   {
    "duration": 8,
    "start_time": "2024-12-01T02:24:28.602Z"
   },
   {
    "duration": 3,
    "start_time": "2024-12-01T02:24:28.612Z"
   },
   {
    "duration": 3,
    "start_time": "2024-12-01T02:24:28.616Z"
   },
   {
    "duration": 2,
    "start_time": "2024-12-01T02:24:28.621Z"
   },
   {
    "duration": 6,
    "start_time": "2024-12-01T02:24:28.625Z"
   },
   {
    "duration": 4,
    "start_time": "2024-12-01T02:24:28.632Z"
   },
   {
    "duration": 4,
    "start_time": "2024-12-01T02:24:28.638Z"
   },
   {
    "duration": 3,
    "start_time": "2024-12-01T02:24:28.687Z"
   },
   {
    "duration": 7,
    "start_time": "2024-12-01T02:24:28.692Z"
   },
   {
    "duration": 3,
    "start_time": "2024-12-01T02:24:28.700Z"
   },
   {
    "duration": 3,
    "start_time": "2024-12-01T02:24:28.705Z"
   },
   {
    "duration": 6,
    "start_time": "2024-12-01T02:24:28.709Z"
   },
   {
    "duration": 5,
    "start_time": "2024-12-01T02:24:28.717Z"
   },
   {
    "duration": 6,
    "start_time": "2024-12-01T02:24:28.725Z"
   },
   {
    "duration": 157,
    "start_time": "2024-12-01T02:24:28.740Z"
   },
   {
    "duration": 9,
    "start_time": "2024-12-01T02:24:28.899Z"
   },
   {
    "duration": 4,
    "start_time": "2024-12-01T02:24:28.910Z"
   },
   {
    "duration": 88,
    "start_time": "2024-12-01T02:24:28.916Z"
   },
   {
    "duration": 112,
    "start_time": "2024-12-01T02:24:29.006Z"
   },
   {
    "duration": 37,
    "start_time": "2024-12-01T02:24:29.119Z"
   },
   {
    "duration": 141,
    "start_time": "2024-12-01T02:24:29.158Z"
   },
   {
    "duration": 207,
    "start_time": "2024-12-01T02:24:29.301Z"
   },
   {
    "duration": 105,
    "start_time": "2024-12-01T02:24:29.510Z"
   },
   {
    "duration": 136,
    "start_time": "2024-12-01T02:24:29.617Z"
   },
   {
    "duration": 104,
    "start_time": "2024-12-01T02:24:29.755Z"
   },
   {
    "duration": 4,
    "start_time": "2024-12-01T02:24:29.861Z"
   },
   {
    "duration": 100,
    "start_time": "2024-12-01T02:24:29.867Z"
   },
   {
    "duration": 141,
    "start_time": "2024-12-01T02:24:29.969Z"
   },
   {
    "duration": 121,
    "start_time": "2024-12-01T02:24:30.112Z"
   },
   {
    "duration": 5,
    "start_time": "2024-12-01T02:24:30.234Z"
   },
   {
    "duration": 92,
    "start_time": "2024-12-01T02:24:30.240Z"
   },
   {
    "duration": 33,
    "start_time": "2024-12-01T02:24:30.335Z"
   },
   {
    "duration": 46,
    "start_time": "2024-12-01T02:24:30.370Z"
   },
   {
    "duration": 4,
    "start_time": "2024-12-01T02:24:30.418Z"
   },
   {
    "duration": 5,
    "start_time": "2024-12-01T02:24:30.424Z"
   },
   {
    "duration": 28,
    "start_time": "2024-12-01T02:24:30.432Z"
   },
   {
    "duration": 38,
    "start_time": "2024-12-01T02:24:30.462Z"
   },
   {
    "duration": 13,
    "start_time": "2024-12-01T02:24:30.502Z"
   },
   {
    "duration": 10,
    "start_time": "2024-12-01T02:24:30.517Z"
   },
   {
    "duration": 14,
    "start_time": "2024-12-01T02:24:30.529Z"
   },
   {
    "duration": 41,
    "start_time": "2024-12-01T02:24:30.545Z"
   },
   {
    "duration": 42,
    "start_time": "2024-12-01T02:24:39.180Z"
   },
   {
    "duration": 215,
    "start_time": "2024-12-01T02:24:39.800Z"
   },
   {
    "duration": 16,
    "start_time": "2024-12-01T02:24:41.195Z"
   },
   {
    "duration": 5,
    "start_time": "2024-12-01T02:24:55.133Z"
   },
   {
    "duration": 5,
    "start_time": "2024-12-01T02:24:55.831Z"
   },
   {
    "duration": 7,
    "start_time": "2024-12-01T02:24:56.440Z"
   },
   {
    "duration": 189,
    "start_time": "2024-12-01T02:34:05.304Z"
   },
   {
    "duration": 164,
    "start_time": "2024-12-01T02:34:11.731Z"
   },
   {
    "duration": 6,
    "start_time": "2024-12-01T02:34:36.134Z"
   },
   {
    "duration": 42,
    "start_time": "2024-12-01T02:34:37.093Z"
   },
   {
    "duration": 6,
    "start_time": "2024-12-01T02:36:20.027Z"
   },
   {
    "duration": 7,
    "start_time": "2024-12-01T02:37:12.760Z"
   },
   {
    "duration": 112,
    "start_time": "2024-12-01T02:37:17.632Z"
   },
   {
    "duration": 4,
    "start_time": "2024-12-01T02:40:00.635Z"
   },
   {
    "duration": 114,
    "start_time": "2024-12-01T02:40:04.644Z"
   },
   {
    "duration": 540,
    "start_time": "2024-12-01T02:41:45.514Z"
   },
   {
    "duration": 120,
    "start_time": "2024-12-01T02:41:58.030Z"
   },
   {
    "duration": 122,
    "start_time": "2024-12-01T02:42:37.796Z"
   },
   {
    "duration": 7,
    "start_time": "2024-12-01T02:43:31.640Z"
   },
   {
    "duration": 203,
    "start_time": "2024-12-01T02:44:08.020Z"
   },
   {
    "duration": 111,
    "start_time": "2024-12-01T02:44:36.601Z"
   },
   {
    "duration": 3,
    "start_time": "2024-12-01T02:50:14.618Z"
   },
   {
    "duration": 14,
    "start_time": "2024-12-01T02:52:43.537Z"
   },
   {
    "duration": 3,
    "start_time": "2024-12-01T02:53:05.956Z"
   },
   {
    "duration": 3,
    "start_time": "2024-12-01T02:53:16.446Z"
   },
   {
    "duration": 4,
    "start_time": "2024-12-01T02:53:21.915Z"
   },
   {
    "duration": 3,
    "start_time": "2024-12-01T02:53:42.555Z"
   },
   {
    "duration": 5,
    "start_time": "2024-12-01T03:11:01.140Z"
   },
   {
    "duration": 5,
    "start_time": "2024-12-01T03:11:12.737Z"
   },
   {
    "duration": 5,
    "start_time": "2024-12-01T03:36:28.912Z"
   },
   {
    "duration": 6,
    "start_time": "2024-12-01T03:40:12.151Z"
   },
   {
    "duration": 6,
    "start_time": "2024-12-01T03:40:57.874Z"
   },
   {
    "duration": 12,
    "start_time": "2024-12-01T04:07:24.346Z"
   },
   {
    "duration": 824,
    "start_time": "2024-12-01T04:07:49.346Z"
   },
   {
    "duration": 3,
    "start_time": "2024-12-01T04:07:50.172Z"
   },
   {
    "duration": 343,
    "start_time": "2024-12-01T04:07:50.176Z"
   },
   {
    "duration": 3,
    "start_time": "2024-12-01T04:07:50.521Z"
   },
   {
    "duration": 2,
    "start_time": "2024-12-01T04:07:50.527Z"
   },
   {
    "duration": 16,
    "start_time": "2024-12-01T04:07:50.531Z"
   },
   {
    "duration": 4,
    "start_time": "2024-12-01T04:07:50.548Z"
   },
   {
    "duration": 6,
    "start_time": "2024-12-01T04:07:50.553Z"
   },
   {
    "duration": 75,
    "start_time": "2024-12-01T04:07:50.561Z"
   },
   {
    "duration": 8,
    "start_time": "2024-12-01T04:07:50.638Z"
   },
   {
    "duration": 40,
    "start_time": "2024-12-01T04:07:50.648Z"
   },
   {
    "duration": 58,
    "start_time": "2024-12-01T04:07:50.690Z"
   },
   {
    "duration": 74,
    "start_time": "2024-12-01T04:07:50.750Z"
   },
   {
    "duration": 134,
    "start_time": "2024-12-01T04:07:50.827Z"
   },
   {
    "duration": 32,
    "start_time": "2024-12-01T04:07:50.963Z"
   },
   {
    "duration": 8,
    "start_time": "2024-12-01T04:07:50.997Z"
   },
   {
    "duration": 37,
    "start_time": "2024-12-01T04:07:51.006Z"
   },
   {
    "duration": 3,
    "start_time": "2024-12-01T04:07:51.045Z"
   },
   {
    "duration": 3,
    "start_time": "2024-12-01T04:07:51.050Z"
   },
   {
    "duration": 159,
    "start_time": "2024-12-01T04:07:51.055Z"
   },
   {
    "duration": 15,
    "start_time": "2024-12-01T04:07:51.216Z"
   },
   {
    "duration": 97,
    "start_time": "2024-12-01T04:07:51.233Z"
   },
   {
    "duration": 5,
    "start_time": "2024-12-01T04:07:51.332Z"
   },
   {
    "duration": 179,
    "start_time": "2024-12-01T04:07:51.338Z"
   },
   {
    "duration": 11,
    "start_time": "2024-12-01T04:07:51.519Z"
   },
   {
    "duration": 5,
    "start_time": "2024-12-01T04:07:51.533Z"
   },
   {
    "duration": 6,
    "start_time": "2024-12-01T04:07:51.539Z"
   },
   {
    "duration": 3,
    "start_time": "2024-12-01T04:07:51.547Z"
   },
   {
    "duration": 2,
    "start_time": "2024-12-01T04:07:51.552Z"
   },
   {
    "duration": 32,
    "start_time": "2024-12-01T04:07:51.556Z"
   },
   {
    "duration": 6,
    "start_time": "2024-12-01T04:07:51.590Z"
   },
   {
    "duration": 4,
    "start_time": "2024-12-01T04:07:51.597Z"
   },
   {
    "duration": 4,
    "start_time": "2024-12-01T04:07:51.604Z"
   },
   {
    "duration": 3,
    "start_time": "2024-12-01T04:07:51.609Z"
   },
   {
    "duration": 6,
    "start_time": "2024-12-01T04:07:51.614Z"
   },
   {
    "duration": 3,
    "start_time": "2024-12-01T04:07:51.622Z"
   },
   {
    "duration": 3,
    "start_time": "2024-12-01T04:07:51.627Z"
   },
   {
    "duration": 6,
    "start_time": "2024-12-01T04:07:51.632Z"
   },
   {
    "duration": 4,
    "start_time": "2024-12-01T04:07:51.686Z"
   },
   {
    "duration": 4,
    "start_time": "2024-12-01T04:07:51.692Z"
   },
   {
    "duration": 119,
    "start_time": "2024-12-01T04:07:51.702Z"
   },
   {
    "duration": 7,
    "start_time": "2024-12-01T04:07:51.823Z"
   },
   {
    "duration": 4,
    "start_time": "2024-12-01T04:07:51.831Z"
   },
   {
    "duration": 87,
    "start_time": "2024-12-01T04:07:51.837Z"
   },
   {
    "duration": 94,
    "start_time": "2024-12-01T04:07:51.925Z"
   },
   {
    "duration": 42,
    "start_time": "2024-12-01T04:07:52.021Z"
   },
   {
    "duration": 138,
    "start_time": "2024-12-01T04:07:52.064Z"
   },
   {
    "duration": 210,
    "start_time": "2024-12-01T04:07:52.204Z"
   },
   {
    "duration": 99,
    "start_time": "2024-12-01T04:07:52.416Z"
   },
   {
    "duration": 136,
    "start_time": "2024-12-01T04:07:52.517Z"
   },
   {
    "duration": 107,
    "start_time": "2024-12-01T04:07:52.655Z"
   },
   {
    "duration": 5,
    "start_time": "2024-12-01T04:07:52.764Z"
   },
   {
    "duration": 17,
    "start_time": "2024-12-01T04:07:52.771Z"
   },
   {
    "duration": 86,
    "start_time": "2024-12-01T04:07:52.790Z"
   },
   {
    "duration": 142,
    "start_time": "2024-12-01T04:07:52.877Z"
   },
   {
    "duration": 128,
    "start_time": "2024-12-01T04:07:53.021Z"
   },
   {
    "duration": 9,
    "start_time": "2024-12-01T04:07:53.154Z"
   },
   {
    "duration": 4,
    "start_time": "2024-12-01T04:07:53.165Z"
   },
   {
    "duration": 108,
    "start_time": "2024-12-01T04:07:53.171Z"
   },
   {
    "duration": 38,
    "start_time": "2024-12-01T04:07:53.281Z"
   },
   {
    "duration": 32,
    "start_time": "2024-12-01T04:07:53.320Z"
   },
   {
    "duration": 5,
    "start_time": "2024-12-01T04:07:53.353Z"
   },
   {
    "duration": 3,
    "start_time": "2024-12-01T04:07:53.359Z"
   },
   {
    "duration": 43,
    "start_time": "2024-12-01T04:07:53.364Z"
   },
   {
    "duration": 18,
    "start_time": "2024-12-01T04:07:53.409Z"
   },
   {
    "duration": 14,
    "start_time": "2024-12-01T04:07:53.429Z"
   },
   {
    "duration": 10,
    "start_time": "2024-12-01T04:07:53.445Z"
   },
   {
    "duration": 43,
    "start_time": "2024-12-01T04:07:53.458Z"
   },
   {
    "duration": 14,
    "start_time": "2024-12-01T04:07:53.504Z"
   },
   {
    "duration": 6,
    "start_time": "2024-12-01T04:07:53.520Z"
   },
   {
    "duration": 139,
    "start_time": "2024-12-01T04:07:53.528Z"
   },
   {
    "duration": 7,
    "start_time": "2024-12-01T04:07:53.669Z"
   },
   {
    "duration": 121,
    "start_time": "2024-12-01T04:07:53.686Z"
   },
   {
    "duration": 658,
    "start_time": "2024-12-01T04:07:53.809Z"
   },
   {
    "duration": 0,
    "start_time": "2024-12-01T04:07:54.469Z"
   },
   {
    "duration": 0,
    "start_time": "2024-12-01T04:07:54.470Z"
   },
   {
    "duration": 0,
    "start_time": "2024-12-01T04:07:54.471Z"
   },
   {
    "duration": 70,
    "start_time": "2024-12-01T04:08:53.838Z"
   },
   {
    "duration": 137,
    "start_time": "2024-12-01T04:09:07.042Z"
   },
   {
    "duration": 3,
    "start_time": "2024-12-01T04:11:21.563Z"
   },
   {
    "duration": 68,
    "start_time": "2024-12-01T04:11:45.954Z"
   },
   {
    "duration": 869,
    "start_time": "2024-12-01T04:15:57.009Z"
   },
   {
    "duration": 3,
    "start_time": "2024-12-01T04:15:57.880Z"
   },
   {
    "duration": 335,
    "start_time": "2024-12-01T04:15:57.886Z"
   },
   {
    "duration": 3,
    "start_time": "2024-12-01T04:15:58.222Z"
   },
   {
    "duration": 3,
    "start_time": "2024-12-01T04:15:58.228Z"
   },
   {
    "duration": 17,
    "start_time": "2024-12-01T04:15:58.234Z"
   },
   {
    "duration": 4,
    "start_time": "2024-12-01T04:15:58.252Z"
   },
   {
    "duration": 31,
    "start_time": "2024-12-01T04:15:58.258Z"
   },
   {
    "duration": 54,
    "start_time": "2024-12-01T04:15:58.291Z"
   },
   {
    "duration": 8,
    "start_time": "2024-12-01T04:15:58.346Z"
   },
   {
    "duration": 41,
    "start_time": "2024-12-01T04:15:58.356Z"
   },
   {
    "duration": 56,
    "start_time": "2024-12-01T04:15:58.399Z"
   },
   {
    "duration": 79,
    "start_time": "2024-12-01T04:15:58.457Z"
   },
   {
    "duration": 139,
    "start_time": "2024-12-01T04:15:58.540Z"
   },
   {
    "duration": 21,
    "start_time": "2024-12-01T04:15:58.686Z"
   },
   {
    "duration": 8,
    "start_time": "2024-12-01T04:15:58.708Z"
   },
   {
    "duration": 37,
    "start_time": "2024-12-01T04:15:58.717Z"
   },
   {
    "duration": 3,
    "start_time": "2024-12-01T04:15:58.755Z"
   },
   {
    "duration": 27,
    "start_time": "2024-12-01T04:15:58.759Z"
   },
   {
    "duration": 137,
    "start_time": "2024-12-01T04:15:58.788Z"
   },
   {
    "duration": 15,
    "start_time": "2024-12-01T04:15:58.926Z"
   },
   {
    "duration": 95,
    "start_time": "2024-12-01T04:15:58.942Z"
   },
   {
    "duration": 5,
    "start_time": "2024-12-01T04:15:59.039Z"
   },
   {
    "duration": 186,
    "start_time": "2024-12-01T04:15:59.045Z"
   },
   {
    "duration": 9,
    "start_time": "2024-12-01T04:15:59.233Z"
   },
   {
    "duration": 5,
    "start_time": "2024-12-01T04:15:59.244Z"
   },
   {
    "duration": 7,
    "start_time": "2024-12-01T04:15:59.250Z"
   },
   {
    "duration": 3,
    "start_time": "2024-12-01T04:15:59.259Z"
   },
   {
    "duration": 2,
    "start_time": "2024-12-01T04:15:59.286Z"
   },
   {
    "duration": 3,
    "start_time": "2024-12-01T04:15:59.290Z"
   },
   {
    "duration": 5,
    "start_time": "2024-12-01T04:15:59.295Z"
   },
   {
    "duration": 3,
    "start_time": "2024-12-01T04:15:59.302Z"
   },
   {
    "duration": 4,
    "start_time": "2024-12-01T04:15:59.307Z"
   },
   {
    "duration": 3,
    "start_time": "2024-12-01T04:15:59.313Z"
   },
   {
    "duration": 6,
    "start_time": "2024-12-01T04:15:59.319Z"
   },
   {
    "duration": 3,
    "start_time": "2024-12-01T04:15:59.327Z"
   },
   {
    "duration": 3,
    "start_time": "2024-12-01T04:15:59.332Z"
   },
   {
    "duration": 50,
    "start_time": "2024-12-01T04:15:59.337Z"
   },
   {
    "duration": 5,
    "start_time": "2024-12-01T04:15:59.389Z"
   },
   {
    "duration": 3,
    "start_time": "2024-12-01T04:15:59.396Z"
   },
   {
    "duration": 138,
    "start_time": "2024-12-01T04:15:59.405Z"
   },
   {
    "duration": 8,
    "start_time": "2024-12-01T04:15:59.545Z"
   },
   {
    "duration": 4,
    "start_time": "2024-12-01T04:15:59.555Z"
   },
   {
    "duration": 84,
    "start_time": "2024-12-01T04:15:59.560Z"
   },
   {
    "duration": 97,
    "start_time": "2024-12-01T04:15:59.646Z"
   },
   {
    "duration": 47,
    "start_time": "2024-12-01T04:15:59.745Z"
   },
   {
    "duration": 135,
    "start_time": "2024-12-01T04:15:59.794Z"
   },
   {
    "duration": 199,
    "start_time": "2024-12-01T04:15:59.931Z"
   },
   {
    "duration": 106,
    "start_time": "2024-12-01T04:16:00.132Z"
   },
   {
    "duration": 138,
    "start_time": "2024-12-01T04:16:00.239Z"
   },
   {
    "duration": 109,
    "start_time": "2024-12-01T04:16:00.379Z"
   },
   {
    "duration": 5,
    "start_time": "2024-12-01T04:16:00.490Z"
   },
   {
    "duration": 3,
    "start_time": "2024-12-01T04:16:00.498Z"
   },
   {
    "duration": 101,
    "start_time": "2024-12-01T04:16:00.503Z"
   },
   {
    "duration": 140,
    "start_time": "2024-12-01T04:16:00.606Z"
   },
   {
    "duration": 121,
    "start_time": "2024-12-01T04:16:00.748Z"
   },
   {
    "duration": 6,
    "start_time": "2024-12-01T04:16:00.870Z"
   },
   {
    "duration": 12,
    "start_time": "2024-12-01T04:16:00.877Z"
   },
   {
    "duration": 78,
    "start_time": "2024-12-01T04:16:00.890Z"
   },
   {
    "duration": 46,
    "start_time": "2024-12-01T04:16:00.970Z"
   },
   {
    "duration": 33,
    "start_time": "2024-12-01T04:16:01.018Z"
   },
   {
    "duration": 4,
    "start_time": "2024-12-01T04:16:01.053Z"
   },
   {
    "duration": 3,
    "start_time": "2024-12-01T04:16:01.059Z"
   },
   {
    "duration": 26,
    "start_time": "2024-12-01T04:16:01.087Z"
   },
   {
    "duration": 18,
    "start_time": "2024-12-01T04:16:01.115Z"
   },
   {
    "duration": 12,
    "start_time": "2024-12-01T04:16:01.135Z"
   },
   {
    "duration": 10,
    "start_time": "2024-12-01T04:16:01.149Z"
   },
   {
    "duration": 16,
    "start_time": "2024-12-01T04:16:01.186Z"
   },
   {
    "duration": 12,
    "start_time": "2024-12-01T04:16:01.203Z"
   },
   {
    "duration": 6,
    "start_time": "2024-12-01T04:16:01.217Z"
   },
   {
    "duration": 140,
    "start_time": "2024-12-01T04:16:01.225Z"
   },
   {
    "duration": 6,
    "start_time": "2024-12-01T04:16:01.367Z"
   },
   {
    "duration": 130,
    "start_time": "2024-12-01T04:16:01.387Z"
   },
   {
    "duration": 3,
    "start_time": "2024-12-01T04:16:01.519Z"
   },
   {
    "duration": 663,
    "start_time": "2024-12-01T04:16:01.524Z"
   },
   {
    "duration": 0,
    "start_time": "2024-12-01T04:16:02.189Z"
   },
   {
    "duration": 0,
    "start_time": "2024-12-01T04:16:02.190Z"
   },
   {
    "duration": 0,
    "start_time": "2024-12-01T04:16:02.191Z"
   },
   {
    "duration": 9,
    "start_time": "2024-12-01T04:17:03.239Z"
   },
   {
    "duration": 7,
    "start_time": "2024-12-01T04:19:31.520Z"
   },
   {
    "duration": 6,
    "start_time": "2024-12-01T04:19:43.702Z"
   },
   {
    "duration": 8,
    "start_time": "2024-12-01T04:20:03.827Z"
   },
   {
    "duration": 7,
    "start_time": "2024-12-01T04:20:19.067Z"
   },
   {
    "duration": 14,
    "start_time": "2024-12-01T04:22:45.115Z"
   },
   {
    "duration": 5,
    "start_time": "2024-12-01T04:22:55.650Z"
   },
   {
    "duration": 7,
    "start_time": "2024-12-01T04:23:16.351Z"
   },
   {
    "duration": 133,
    "start_time": "2024-12-01T04:23:34.949Z"
   },
   {
    "duration": 279,
    "start_time": "2024-12-01T04:23:46.319Z"
   },
   {
    "duration": 68,
    "start_time": "2024-12-01T04:24:04.561Z"
   },
   {
    "duration": 8,
    "start_time": "2024-12-01T04:24:29.044Z"
   },
   {
    "duration": 3,
    "start_time": "2024-12-01T04:25:55.599Z"
   },
   {
    "duration": 4,
    "start_time": "2024-12-01T04:26:04.844Z"
   },
   {
    "duration": 70,
    "start_time": "2024-12-01T04:27:27.751Z"
   },
   {
    "duration": 6,
    "start_time": "2024-12-01T04:28:29.460Z"
   },
   {
    "duration": 53,
    "start_time": "2024-12-01T04:30:38.561Z"
   },
   {
    "duration": 3,
    "start_time": "2024-12-01T04:31:03.771Z"
   },
   {
    "duration": 13,
    "start_time": "2024-12-01T04:31:17.204Z"
   },
   {
    "duration": 8,
    "start_time": "2024-12-01T04:32:03.217Z"
   },
   {
    "duration": 7,
    "start_time": "2024-12-01T04:32:48.672Z"
   },
   {
    "duration": 9,
    "start_time": "2024-12-01T04:32:56.402Z"
   },
   {
    "duration": 334,
    "start_time": "2024-12-01T04:33:49.989Z"
   },
   {
    "duration": 5,
    "start_time": "2024-12-01T04:34:08.204Z"
   },
   {
    "duration": 8,
    "start_time": "2024-12-01T04:34:18.986Z"
   },
   {
    "duration": 4,
    "start_time": "2024-12-01T04:34:40.113Z"
   },
   {
    "duration": 5,
    "start_time": "2024-12-01T04:34:50.507Z"
   },
   {
    "duration": 9,
    "start_time": "2024-12-01T04:34:58.669Z"
   },
   {
    "duration": 3,
    "start_time": "2024-12-01T04:38:05.158Z"
   },
   {
    "duration": 7,
    "start_time": "2024-12-01T04:38:05.775Z"
   },
   {
    "duration": 807,
    "start_time": "2024-12-01T04:41:08.461Z"
   },
   {
    "duration": 2,
    "start_time": "2024-12-01T04:41:09.270Z"
   },
   {
    "duration": 335,
    "start_time": "2024-12-01T04:41:09.274Z"
   },
   {
    "duration": 3,
    "start_time": "2024-12-01T04:41:09.610Z"
   },
   {
    "duration": 3,
    "start_time": "2024-12-01T04:41:09.616Z"
   },
   {
    "duration": 16,
    "start_time": "2024-12-01T04:41:09.621Z"
   },
   {
    "duration": 4,
    "start_time": "2024-12-01T04:41:09.639Z"
   },
   {
    "duration": 6,
    "start_time": "2024-12-01T04:41:09.644Z"
   },
   {
    "duration": 79,
    "start_time": "2024-12-01T04:41:09.652Z"
   },
   {
    "duration": 8,
    "start_time": "2024-12-01T04:41:09.733Z"
   },
   {
    "duration": 26,
    "start_time": "2024-12-01T04:41:09.742Z"
   },
   {
    "duration": 57,
    "start_time": "2024-12-01T04:41:09.786Z"
   },
   {
    "duration": 77,
    "start_time": "2024-12-01T04:41:09.845Z"
   },
   {
    "duration": 137,
    "start_time": "2024-12-01T04:41:09.926Z"
   },
   {
    "duration": 30,
    "start_time": "2024-12-01T04:41:10.065Z"
   },
   {
    "duration": 9,
    "start_time": "2024-12-01T04:41:10.096Z"
   },
   {
    "duration": 37,
    "start_time": "2024-12-01T04:41:10.106Z"
   },
   {
    "duration": 3,
    "start_time": "2024-12-01T04:41:10.145Z"
   },
   {
    "duration": 3,
    "start_time": "2024-12-01T04:41:10.150Z"
   },
   {
    "duration": 155,
    "start_time": "2024-12-01T04:41:10.155Z"
   },
   {
    "duration": 14,
    "start_time": "2024-12-01T04:41:10.312Z"
   },
   {
    "duration": 97,
    "start_time": "2024-12-01T04:41:10.328Z"
   },
   {
    "duration": 4,
    "start_time": "2024-12-01T04:41:10.427Z"
   },
   {
    "duration": 186,
    "start_time": "2024-12-01T04:41:10.433Z"
   },
   {
    "duration": 10,
    "start_time": "2024-12-01T04:41:10.620Z"
   },
   {
    "duration": 5,
    "start_time": "2024-12-01T04:41:10.631Z"
   },
   {
    "duration": 6,
    "start_time": "2024-12-01T04:41:10.638Z"
   },
   {
    "duration": 3,
    "start_time": "2024-12-01T04:41:10.645Z"
   },
   {
    "duration": 2,
    "start_time": "2024-12-01T04:41:10.650Z"
   },
   {
    "duration": 32,
    "start_time": "2024-12-01T04:41:10.654Z"
   },
   {
    "duration": 5,
    "start_time": "2024-12-01T04:41:10.688Z"
   },
   {
    "duration": 4,
    "start_time": "2024-12-01T04:41:10.695Z"
   },
   {
    "duration": 5,
    "start_time": "2024-12-01T04:41:10.701Z"
   },
   {
    "duration": 4,
    "start_time": "2024-12-01T04:41:10.709Z"
   },
   {
    "duration": 7,
    "start_time": "2024-12-01T04:41:10.715Z"
   },
   {
    "duration": 3,
    "start_time": "2024-12-01T04:41:10.724Z"
   },
   {
    "duration": 5,
    "start_time": "2024-12-01T04:41:10.729Z"
   },
   {
    "duration": 7,
    "start_time": "2024-12-01T04:41:10.735Z"
   },
   {
    "duration": 46,
    "start_time": "2024-12-01T04:41:10.743Z"
   },
   {
    "duration": 3,
    "start_time": "2024-12-01T04:41:10.791Z"
   },
   {
    "duration": 125,
    "start_time": "2024-12-01T04:41:10.800Z"
   },
   {
    "duration": 7,
    "start_time": "2024-12-01T04:41:10.928Z"
   },
   {
    "duration": 3,
    "start_time": "2024-12-01T04:41:10.936Z"
   },
   {
    "duration": 87,
    "start_time": "2024-12-01T04:41:10.941Z"
   },
   {
    "duration": 93,
    "start_time": "2024-12-01T04:41:11.030Z"
   },
   {
    "duration": 39,
    "start_time": "2024-12-01T04:41:11.125Z"
   },
   {
    "duration": 146,
    "start_time": "2024-12-01T04:41:11.165Z"
   },
   {
    "duration": 193,
    "start_time": "2024-12-01T04:41:11.313Z"
   },
   {
    "duration": 107,
    "start_time": "2024-12-01T04:41:11.508Z"
   },
   {
    "duration": 133,
    "start_time": "2024-12-01T04:41:11.616Z"
   },
   {
    "duration": 111,
    "start_time": "2024-12-01T04:41:11.750Z"
   },
   {
    "duration": 5,
    "start_time": "2024-12-01T04:41:11.863Z"
   },
   {
    "duration": 16,
    "start_time": "2024-12-01T04:41:11.870Z"
   },
   {
    "duration": 89,
    "start_time": "2024-12-01T04:41:11.888Z"
   },
   {
    "duration": 136,
    "start_time": "2024-12-01T04:41:11.986Z"
   },
   {
    "duration": 117,
    "start_time": "2024-12-01T04:41:12.124Z"
   },
   {
    "duration": 7,
    "start_time": "2024-12-01T04:41:12.242Z"
   },
   {
    "duration": 5,
    "start_time": "2024-12-01T04:41:12.250Z"
   },
   {
    "duration": 114,
    "start_time": "2024-12-01T04:41:12.256Z"
   },
   {
    "duration": 43,
    "start_time": "2024-12-01T04:41:12.372Z"
   },
   {
    "duration": 33,
    "start_time": "2024-12-01T04:41:12.416Z"
   },
   {
    "duration": 4,
    "start_time": "2024-12-01T04:41:12.451Z"
   },
   {
    "duration": 3,
    "start_time": "2024-12-01T04:41:12.458Z"
   },
   {
    "duration": 42,
    "start_time": "2024-12-01T04:41:12.464Z"
   },
   {
    "duration": 18,
    "start_time": "2024-12-01T04:41:12.508Z"
   },
   {
    "duration": 15,
    "start_time": "2024-12-01T04:41:12.527Z"
   },
   {
    "duration": 10,
    "start_time": "2024-12-01T04:41:12.544Z"
   },
   {
    "duration": 44,
    "start_time": "2024-12-01T04:41:12.556Z"
   },
   {
    "duration": 16,
    "start_time": "2024-12-01T04:41:12.603Z"
   },
   {
    "duration": 7,
    "start_time": "2024-12-01T04:41:12.621Z"
   },
   {
    "duration": 6,
    "start_time": "2024-12-01T04:41:12.630Z"
   },
   {
    "duration": 143,
    "start_time": "2024-12-01T04:41:12.637Z"
   },
   {
    "duration": 7,
    "start_time": "2024-12-01T04:41:12.786Z"
   },
   {
    "duration": 130,
    "start_time": "2024-12-01T04:41:12.794Z"
   },
   {
    "duration": 9,
    "start_time": "2024-12-01T04:41:12.926Z"
   },
   {
    "duration": 3,
    "start_time": "2024-12-01T04:41:12.937Z"
   },
   {
    "duration": 6,
    "start_time": "2024-12-01T04:41:12.941Z"
   },
   {
    "duration": 4,
    "start_time": "2024-12-01T04:41:12.949Z"
   },
   {
    "duration": 5,
    "start_time": "2024-12-01T04:41:12.955Z"
   },
   {
    "duration": 4,
    "start_time": "2024-12-01T04:41:12.985Z"
   },
   {
    "duration": 801,
    "start_time": "2024-12-01T22:29:06.099Z"
   },
   {
    "duration": 3,
    "start_time": "2024-12-01T22:29:06.902Z"
   },
   {
    "duration": 357,
    "start_time": "2024-12-01T22:29:06.906Z"
   },
   {
    "duration": 3,
    "start_time": "2024-12-01T22:29:07.264Z"
   },
   {
    "duration": 2,
    "start_time": "2024-12-01T22:29:07.271Z"
   },
   {
    "duration": 17,
    "start_time": "2024-12-01T22:29:07.275Z"
   },
   {
    "duration": 4,
    "start_time": "2024-12-01T22:29:07.293Z"
   },
   {
    "duration": 26,
    "start_time": "2024-12-01T22:29:07.298Z"
   },
   {
    "duration": 50,
    "start_time": "2024-12-01T22:29:07.325Z"
   },
   {
    "duration": 8,
    "start_time": "2024-12-01T22:29:07.376Z"
   },
   {
    "duration": 41,
    "start_time": "2024-12-01T22:29:07.386Z"
   },
   {
    "duration": 71,
    "start_time": "2024-12-01T22:29:07.428Z"
   },
   {
    "duration": 87,
    "start_time": "2024-12-01T22:29:07.501Z"
   },
   {
    "duration": 142,
    "start_time": "2024-12-01T22:29:07.592Z"
   },
   {
    "duration": 22,
    "start_time": "2024-12-01T22:29:07.736Z"
   },
   {
    "duration": 8,
    "start_time": "2024-12-01T22:29:07.759Z"
   },
   {
    "duration": 55,
    "start_time": "2024-12-01T22:29:07.769Z"
   },
   {
    "duration": 3,
    "start_time": "2024-12-01T22:29:07.826Z"
   },
   {
    "duration": 7,
    "start_time": "2024-12-01T22:29:07.832Z"
   },
   {
    "duration": 138,
    "start_time": "2024-12-01T22:29:07.840Z"
   },
   {
    "duration": 15,
    "start_time": "2024-12-01T22:29:07.980Z"
   },
   {
    "duration": 98,
    "start_time": "2024-12-01T22:29:07.996Z"
   },
   {
    "duration": 5,
    "start_time": "2024-12-01T22:29:08.096Z"
   },
   {
    "duration": 190,
    "start_time": "2024-12-01T22:29:08.103Z"
   },
   {
    "duration": 11,
    "start_time": "2024-12-01T22:29:08.295Z"
   },
   {
    "duration": 15,
    "start_time": "2024-12-01T22:29:08.308Z"
   },
   {
    "duration": 8,
    "start_time": "2024-12-01T22:29:08.325Z"
   },
   {
    "duration": 3,
    "start_time": "2024-12-01T22:29:08.334Z"
   },
   {
    "duration": 3,
    "start_time": "2024-12-01T22:29:08.338Z"
   },
   {
    "duration": 4,
    "start_time": "2024-12-01T22:29:08.342Z"
   },
   {
    "duration": 6,
    "start_time": "2024-12-01T22:29:08.348Z"
   },
   {
    "duration": 4,
    "start_time": "2024-12-01T22:29:08.355Z"
   },
   {
    "duration": 5,
    "start_time": "2024-12-01T22:29:08.360Z"
   },
   {
    "duration": 3,
    "start_time": "2024-12-01T22:29:08.366Z"
   },
   {
    "duration": 7,
    "start_time": "2024-12-01T22:29:08.371Z"
   },
   {
    "duration": 46,
    "start_time": "2024-12-01T22:29:08.379Z"
   },
   {
    "duration": 3,
    "start_time": "2024-12-01T22:29:08.428Z"
   },
   {
    "duration": 6,
    "start_time": "2024-12-01T22:29:08.433Z"
   },
   {
    "duration": 4,
    "start_time": "2024-12-01T22:29:08.441Z"
   },
   {
    "duration": 4,
    "start_time": "2024-12-01T22:29:08.447Z"
   },
   {
    "duration": 142,
    "start_time": "2024-12-01T22:29:08.457Z"
   },
   {
    "duration": 8,
    "start_time": "2024-12-01T22:29:08.600Z"
   },
   {
    "duration": 16,
    "start_time": "2024-12-01T22:29:08.609Z"
   },
   {
    "duration": 72,
    "start_time": "2024-12-01T22:29:08.627Z"
   },
   {
    "duration": 94,
    "start_time": "2024-12-01T22:29:08.701Z"
   },
   {
    "duration": 43,
    "start_time": "2024-12-01T22:29:08.797Z"
   },
   {
    "duration": 133,
    "start_time": "2024-12-01T22:29:08.841Z"
   },
   {
    "duration": 209,
    "start_time": "2024-12-01T22:29:08.976Z"
   },
   {
    "duration": 109,
    "start_time": "2024-12-01T22:29:09.186Z"
   },
   {
    "duration": 138,
    "start_time": "2024-12-01T22:29:09.299Z"
   },
   {
    "duration": 110,
    "start_time": "2024-12-01T22:29:09.439Z"
   },
   {
    "duration": 5,
    "start_time": "2024-12-01T22:29:09.551Z"
   },
   {
    "duration": 4,
    "start_time": "2024-12-01T22:29:09.558Z"
   },
   {
    "duration": 107,
    "start_time": "2024-12-01T22:29:09.563Z"
   },
   {
    "duration": 139,
    "start_time": "2024-12-01T22:29:09.673Z"
   },
   {
    "duration": 122,
    "start_time": "2024-12-01T22:29:09.815Z"
   },
   {
    "duration": 6,
    "start_time": "2024-12-01T22:29:09.938Z"
   },
   {
    "duration": 4,
    "start_time": "2024-12-01T22:29:09.946Z"
   },
   {
    "duration": 97,
    "start_time": "2024-12-01T22:29:09.952Z"
   },
   {
    "duration": 33,
    "start_time": "2024-12-01T22:29:10.051Z"
   },
   {
    "duration": 43,
    "start_time": "2024-12-01T22:29:10.085Z"
   },
   {
    "duration": 4,
    "start_time": "2024-12-01T22:29:10.130Z"
   },
   {
    "duration": 4,
    "start_time": "2024-12-01T22:29:10.136Z"
   },
   {
    "duration": 25,
    "start_time": "2024-12-01T22:29:10.142Z"
   },
   {
    "duration": 17,
    "start_time": "2024-12-01T22:29:10.168Z"
   },
   {
    "duration": 37,
    "start_time": "2024-12-01T22:29:10.187Z"
   },
   {
    "duration": 10,
    "start_time": "2024-12-01T22:29:10.226Z"
   },
   {
    "duration": 15,
    "start_time": "2024-12-01T22:29:10.238Z"
   },
   {
    "duration": 11,
    "start_time": "2024-12-01T22:29:10.255Z"
   },
   {
    "duration": 7,
    "start_time": "2024-12-01T22:29:10.269Z"
   },
   {
    "duration": 6,
    "start_time": "2024-12-01T22:29:10.277Z"
   },
   {
    "duration": 159,
    "start_time": "2024-12-01T22:29:10.284Z"
   },
   {
    "duration": 7,
    "start_time": "2024-12-01T22:29:10.446Z"
   },
   {
    "duration": 125,
    "start_time": "2024-12-01T22:29:10.454Z"
   },
   {
    "duration": 8,
    "start_time": "2024-12-01T22:29:10.581Z"
   },
   {
    "duration": 4,
    "start_time": "2024-12-01T22:29:10.591Z"
   },
   {
    "duration": 7,
    "start_time": "2024-12-01T22:29:10.596Z"
   },
   {
    "duration": 3,
    "start_time": "2024-12-01T22:29:10.624Z"
   },
   {
    "duration": 3,
    "start_time": "2024-12-01T22:29:10.629Z"
   },
   {
    "duration": 4,
    "start_time": "2024-12-01T22:29:10.633Z"
   },
   {
    "duration": 2585,
    "start_time": "2024-12-17T17:54:21.286Z"
   },
   {
    "duration": 3,
    "start_time": "2024-12-17T17:54:23.873Z"
   },
   {
    "duration": 411,
    "start_time": "2024-12-17T17:54:23.877Z"
   },
   {
    "duration": 2,
    "start_time": "2024-12-17T17:54:24.291Z"
   },
   {
    "duration": 3,
    "start_time": "2024-12-17T17:54:24.295Z"
   },
   {
    "duration": 17,
    "start_time": "2024-12-17T17:54:24.299Z"
   },
   {
    "duration": 3,
    "start_time": "2024-12-17T17:54:24.318Z"
   },
   {
    "duration": 5,
    "start_time": "2024-12-17T17:54:24.323Z"
   },
   {
    "duration": 77,
    "start_time": "2024-12-17T17:54:24.329Z"
   },
   {
    "duration": 9,
    "start_time": "2024-12-17T17:54:24.409Z"
   },
   {
    "duration": 26,
    "start_time": "2024-12-17T17:54:24.419Z"
   },
   {
    "duration": 84,
    "start_time": "2024-12-17T17:54:24.447Z"
   },
   {
    "duration": 68,
    "start_time": "2024-12-17T17:54:24.533Z"
   },
   {
    "duration": 137,
    "start_time": "2024-12-17T17:54:24.603Z"
   },
   {
    "duration": 23,
    "start_time": "2024-12-17T17:54:24.741Z"
   },
   {
    "duration": 25,
    "start_time": "2024-12-17T17:54:24.765Z"
   },
   {
    "duration": 37,
    "start_time": "2024-12-17T17:54:24.792Z"
   },
   {
    "duration": 3,
    "start_time": "2024-12-17T17:54:24.830Z"
   },
   {
    "duration": 3,
    "start_time": "2024-12-17T17:54:24.835Z"
   },
   {
    "duration": 150,
    "start_time": "2024-12-17T17:54:24.839Z"
   },
   {
    "duration": 15,
    "start_time": "2024-12-17T17:54:24.991Z"
   },
   {
    "duration": 95,
    "start_time": "2024-12-17T17:54:25.008Z"
   },
   {
    "duration": 6,
    "start_time": "2024-12-17T17:54:25.105Z"
   },
   {
    "duration": 184,
    "start_time": "2024-12-17T17:54:25.112Z"
   },
   {
    "duration": 11,
    "start_time": "2024-12-17T17:54:25.298Z"
   },
   {
    "duration": 5,
    "start_time": "2024-12-17T17:54:25.311Z"
   },
   {
    "duration": 8,
    "start_time": "2024-12-17T17:54:25.317Z"
   },
   {
    "duration": 3,
    "start_time": "2024-12-17T17:54:25.329Z"
   },
   {
    "duration": 2,
    "start_time": "2024-12-17T17:54:25.334Z"
   },
   {
    "duration": 3,
    "start_time": "2024-12-17T17:54:25.338Z"
   },
   {
    "duration": 5,
    "start_time": "2024-12-17T17:54:25.344Z"
   },
   {
    "duration": 4,
    "start_time": "2024-12-17T17:54:25.387Z"
   },
   {
    "duration": 5,
    "start_time": "2024-12-17T17:54:25.393Z"
   },
   {
    "duration": 3,
    "start_time": "2024-12-17T17:54:25.399Z"
   },
   {
    "duration": 7,
    "start_time": "2024-12-17T17:54:25.404Z"
   },
   {
    "duration": 3,
    "start_time": "2024-12-17T17:54:25.412Z"
   },
   {
    "duration": 3,
    "start_time": "2024-12-17T17:54:25.417Z"
   },
   {
    "duration": 8,
    "start_time": "2024-12-17T17:54:25.421Z"
   },
   {
    "duration": 4,
    "start_time": "2024-12-17T17:54:25.431Z"
   },
   {
    "duration": 4,
    "start_time": "2024-12-17T17:54:25.436Z"
   },
   {
    "duration": 118,
    "start_time": "2024-12-17T17:54:25.487Z"
   },
   {
    "duration": 8,
    "start_time": "2024-12-17T17:54:25.607Z"
   },
   {
    "duration": 4,
    "start_time": "2024-12-17T17:54:25.616Z"
   },
   {
    "duration": 91,
    "start_time": "2024-12-17T17:54:25.622Z"
   },
   {
    "duration": 94,
    "start_time": "2024-12-17T17:54:25.715Z"
   },
   {
    "duration": 38,
    "start_time": "2024-12-17T17:54:25.811Z"
   },
   {
    "duration": 137,
    "start_time": "2024-12-17T17:54:25.851Z"
   },
   {
    "duration": 155,
    "start_time": "2024-12-17T17:54:25.990Z"
   },
   {
    "duration": 111,
    "start_time": "2024-12-17T17:54:26.147Z"
   },
   {
    "duration": 135,
    "start_time": "2024-12-17T17:54:26.261Z"
   },
   {
    "duration": 110,
    "start_time": "2024-12-17T17:54:26.398Z"
   },
   {
    "duration": 6,
    "start_time": "2024-12-17T17:54:26.510Z"
   },
   {
    "duration": 4,
    "start_time": "2024-12-17T17:54:26.518Z"
   },
   {
    "duration": 114,
    "start_time": "2024-12-17T17:54:26.524Z"
   },
   {
    "duration": 134,
    "start_time": "2024-12-17T17:54:26.639Z"
   },
   {
    "duration": 122,
    "start_time": "2024-12-17T17:54:26.774Z"
   },
   {
    "duration": 6,
    "start_time": "2024-12-17T17:54:26.897Z"
   },
   {
    "duration": 3,
    "start_time": "2024-12-17T17:54:26.905Z"
   },
   {
    "duration": 105,
    "start_time": "2024-12-17T17:54:26.910Z"
   },
   {
    "duration": 34,
    "start_time": "2024-12-17T17:54:27.017Z"
   },
   {
    "duration": 44,
    "start_time": "2024-12-17T17:54:27.052Z"
   },
   {
    "duration": 4,
    "start_time": "2024-12-17T17:54:27.098Z"
   },
   {
    "duration": 4,
    "start_time": "2024-12-17T17:54:27.104Z"
   },
   {
    "duration": 25,
    "start_time": "2024-12-17T17:54:27.109Z"
   },
   {
    "duration": 19,
    "start_time": "2024-12-17T17:54:27.135Z"
   },
   {
    "duration": 38,
    "start_time": "2024-12-17T17:54:27.156Z"
   },
   {
    "duration": 10,
    "start_time": "2024-12-17T17:54:27.196Z"
   },
   {
    "duration": 15,
    "start_time": "2024-12-17T17:54:27.208Z"
   },
   {
    "duration": 13,
    "start_time": "2024-12-17T17:54:27.225Z"
   },
   {
    "duration": 6,
    "start_time": "2024-12-17T17:54:27.240Z"
   },
   {
    "duration": 5,
    "start_time": "2024-12-17T17:54:27.249Z"
   },
   {
    "duration": 155,
    "start_time": "2024-12-17T17:54:27.255Z"
   },
   {
    "duration": 6,
    "start_time": "2024-12-17T17:54:27.412Z"
   },
   {
    "duration": 203,
    "start_time": "2024-12-17T17:54:27.421Z"
   },
   {
    "duration": 10,
    "start_time": "2024-12-17T17:54:27.626Z"
   },
   {
    "duration": 5,
    "start_time": "2024-12-17T17:54:27.638Z"
   },
   {
    "duration": 8,
    "start_time": "2024-12-17T17:54:27.645Z"
   },
   {
    "duration": 4,
    "start_time": "2024-12-17T17:54:27.656Z"
   },
   {
    "duration": 28,
    "start_time": "2024-12-17T17:54:27.661Z"
   },
   {
    "duration": 4,
    "start_time": "2024-12-17T17:54:27.690Z"
   }
  ],
  "kernelspec": {
   "display_name": "Python 3",
   "language": "python",
   "name": "python3"
  },
  "language_info": {
   "codemirror_mode": {
    "name": "ipython",
    "version": 3
   },
   "file_extension": ".py",
   "mimetype": "text/x-python",
   "name": "python",
   "nbconvert_exporter": "python",
   "pygments_lexer": "ipython3",
   "version": "3.11.9"
  },
  "toc": {
   "base_numbering": 1,
   "nav_menu": {},
   "number_sections": true,
   "sideBar": true,
   "skip_h1_title": true,
   "title_cell": "Table of Contents",
   "title_sidebar": "Contents",
   "toc_cell": false,
   "toc_position": {
    "height": "calc(100% - 180px)",
    "left": "10px",
    "top": "150px",
    "width": "304px"
   },
   "toc_section_display": true,
   "toc_window_display": false
  }
 },
 "nbformat": 4,
 "nbformat_minor": 2
}
